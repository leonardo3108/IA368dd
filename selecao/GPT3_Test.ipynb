{
  "nbformat": 4,
  "nbformat_minor": 0,
  "metadata": {
    "colab": {
      "provenance": [],
      "authorship_tag": "ABX9TyPi5hjyod+JduGnaFznKHt9",
      "include_colab_link": true
    },
    "kernelspec": {
      "name": "python3",
      "display_name": "Python 3"
    },
    "language_info": {
      "name": "python"
    }
  },
  "cells": [
    {
      "cell_type": "markdown",
      "metadata": {
        "id": "view-in-github",
        "colab_type": "text"
      },
      "source": [
        "<a href=\"https://colab.research.google.com/github/leonardo3108/IA368dd/blob/main/GPT3_Test.ipynb\" target=\"_parent\"><img src=\"https://colab.research.google.com/assets/colab-badge.svg\" alt=\"Open In Colab\"/></a>"
      ]
    },
    {
      "cell_type": "code",
      "source": [
        "!pip install openai"
      ],
      "metadata": {
        "colab": {
          "base_uri": "https://localhost:8080/"
        },
        "id": "H69wqLlQasFU",
        "outputId": "da1e7814-cd96-4b2a-a30d-ecfbde8cb524"
      },
      "execution_count": 1,
      "outputs": [
        {
          "output_type": "stream",
          "name": "stdout",
          "text": [
            "Looking in indexes: https://pypi.org/simple, https://us-python.pkg.dev/colab-wheels/public/simple/\n",
            "Collecting openai\n",
            "  Downloading openai-0.26.5.tar.gz (55 kB)\n",
            "\u001b[2K     \u001b[90m━━━━━━━━━━━━━━━━━━━━━━━━━━━━━━━━━━━━━━━━\u001b[0m \u001b[32m55.5/55.5 KB\u001b[0m \u001b[31m1.6 MB/s\u001b[0m eta \u001b[36m0:00:00\u001b[0m\n",
            "\u001b[?25h  Installing build dependencies ... \u001b[?25l\u001b[?25hdone\n",
            "  Getting requirements to build wheel ... \u001b[?25l\u001b[?25hdone\n",
            "  Installing backend dependencies ... \u001b[?25l\u001b[?25hdone\n",
            "  Preparing metadata (pyproject.toml) ... \u001b[?25l\u001b[?25hdone\n",
            "Requirement already satisfied: requests>=2.20 in /usr/local/lib/python3.8/dist-packages (from openai) (2.25.1)\n",
            "Requirement already satisfied: tqdm in /usr/local/lib/python3.8/dist-packages (from openai) (4.64.1)\n",
            "Requirement already satisfied: aiohttp in /usr/local/lib/python3.8/dist-packages (from openai) (3.8.4)\n",
            "Requirement already satisfied: idna<3,>=2.5 in /usr/local/lib/python3.8/dist-packages (from requests>=2.20->openai) (2.10)\n",
            "Requirement already satisfied: urllib3<1.27,>=1.21.1 in /usr/local/lib/python3.8/dist-packages (from requests>=2.20->openai) (1.24.3)\n",
            "Requirement already satisfied: certifi>=2017.4.17 in /usr/local/lib/python3.8/dist-packages (from requests>=2.20->openai) (2022.12.7)\n",
            "Requirement already satisfied: chardet<5,>=3.0.2 in /usr/local/lib/python3.8/dist-packages (from requests>=2.20->openai) (4.0.0)\n",
            "Requirement already satisfied: async-timeout<5.0,>=4.0.0a3 in /usr/local/lib/python3.8/dist-packages (from aiohttp->openai) (4.0.2)\n",
            "Requirement already satisfied: multidict<7.0,>=4.5 in /usr/local/lib/python3.8/dist-packages (from aiohttp->openai) (6.0.4)\n",
            "Requirement already satisfied: attrs>=17.3.0 in /usr/local/lib/python3.8/dist-packages (from aiohttp->openai) (22.2.0)\n",
            "Requirement already satisfied: aiosignal>=1.1.2 in /usr/local/lib/python3.8/dist-packages (from aiohttp->openai) (1.3.1)\n",
            "Requirement already satisfied: charset-normalizer<4.0,>=2.0 in /usr/local/lib/python3.8/dist-packages (from aiohttp->openai) (3.0.1)\n",
            "Requirement already satisfied: frozenlist>=1.1.1 in /usr/local/lib/python3.8/dist-packages (from aiohttp->openai) (1.3.3)\n",
            "Requirement already satisfied: yarl<2.0,>=1.0 in /usr/local/lib/python3.8/dist-packages (from aiohttp->openai) (1.8.2)\n",
            "Building wheels for collected packages: openai\n",
            "  Building wheel for openai (pyproject.toml) ... \u001b[?25l\u001b[?25hdone\n",
            "  Created wheel for openai: filename=openai-0.26.5-py3-none-any.whl size=67620 sha256=999489c69209d833699ff95b47250c70879d637a42a96e8306d14ab971bb96cd\n",
            "  Stored in directory: /root/.cache/pip/wheels/a7/47/99/8273a59fbd59c303e8ff175416d5c1c9c03a2e83ebf7525a99\n",
            "Successfully built openai\n",
            "Installing collected packages: openai\n",
            "Successfully installed openai-0.26.5\n"
          ]
        }
      ]
    },
    {
      "cell_type": "code",
      "execution_count": 2,
      "metadata": {
        "id": "yLyjeQVPaj42"
      },
      "outputs": [],
      "source": [
        "import openai\n",
        "import re"
      ]
    },
    {
      "cell_type": "markdown",
      "source": [
        "## Set up the OpenAI API key"
      ],
      "metadata": {
        "id": "I2HM0l1Ha3BL"
      }
    },
    {
      "cell_type": "code",
      "source": [
        "openai.api_key = \"YOUR_API_KEY\""
      ],
      "metadata": {
        "id": "hdPS2XK9aoGJ"
      },
      "execution_count": 3,
      "outputs": []
    },
    {
      "cell_type": "markdown",
      "source": [
        "## Define the query for which you want to generate additional terms"
      ],
      "metadata": {
        "id": "x1q2K-0ubOzF"
      }
    },
    {
      "cell_type": "code",
      "source": [
        "query = \"climate change\""
      ],
      "metadata": {
        "id": "ozK2bTYVa9n7"
      },
      "execution_count": 4,
      "outputs": []
    },
    {
      "cell_type": "markdown",
      "source": [
        "## Define the maximum number of additional terms you want to generate and the prompt to be sent to GPT-3"
      ],
      "metadata": {
        "id": "ZVS6V5QabVHz"
      }
    },
    {
      "cell_type": "code",
      "source": [
        "max_terms = 5\n",
        "prompt = f\"Generate up to {max_terms} additional relevant terms for the query '{query}'.\""
      ],
      "metadata": {
        "id": "VVju46U5bYx_"
      },
      "execution_count": 5,
      "outputs": []
    },
    {
      "cell_type": "markdown",
      "source": [
        "## Send the prompt to GPT-3 and get the response"
      ],
      "metadata": {
        "id": "hq7GAuBZbi7T"
      }
    },
    {
      "cell_type": "code",
      "source": [
        "response = openai.Completion.create(\n",
        "  engine=\"davinci\",\n",
        "  prompt=prompt,\n",
        "  max_tokens=100,\n",
        "  n=1,\n",
        "  stop=None,\n",
        "  temperature=0.5,\n",
        ")"
      ],
      "metadata": {
        "id": "WJmx5INcbREp"
      },
      "execution_count": 6,
      "outputs": []
    },
    {
      "cell_type": "markdown",
      "source": [
        "# Extract the generated terms from the response"
      ],
      "metadata": {
        "id": "NPz9cU3Tbwat"
      }
    },
    {
      "cell_type": "code",
      "source": [
        "response_text = response.choices[0].text\n",
        "print(response_text)"
      ],
      "metadata": {
        "colab": {
          "base_uri": "https://localhost:8080/"
        },
        "id": "aonhty5J0VQH",
        "outputId": "58da3c24-e3c6-437c-fad2-9fc62fbf5ea1"
      },
      "execution_count": 18,
      "outputs": [
        {
          "output_type": "stream",
          "name": "stdout",
          "text": [
            "\n",
            "\n",
            "Query: climate change\n",
            "\n",
            "\n",
            "\n",
            "1. climate change\n",
            "\n",
            "2. global warming\n",
            "\n",
            "3. global warming\n",
            "\n",
            "4. global warming\n",
            "\n",
            "5. global warming\n",
            "\n",
            "6. global warming\n",
            "\n",
            "7. global warming\n",
            "\n",
            "8. global warming\n",
            "\n",
            "9. global warming\n",
            "\n",
            "10. global warming\n",
            "\n",
            "11. global warming\n",
            "\n",
            "12. global warming\n",
            "\n",
            "13. global warming\n",
            "\n",
            "14. global warming\n",
            "\n",
            "15. global warming\n",
            "\n",
            "16\n"
          ]
        }
      ]
    },
    {
      "cell_type": "code",
      "source": [
        "generated_terms = re.findall(r'\\n\\d+\\. (.*)\\n', response.choices[0].text)\n",
        "print(generated_terms)"
      ],
      "metadata": {
        "id": "ZU8GgjifbtT0",
        "colab": {
          "base_uri": "https://localhost:8080/"
        },
        "outputId": "d839324f-a32b-46f6-b0bb-7c7ee8f9ded6"
      },
      "execution_count": 19,
      "outputs": [
        {
          "output_type": "stream",
          "name": "stdout",
          "text": [
            "['climate change', 'global warming', 'global warming', 'global warming', 'global warming', 'global warming', 'global warming', 'global warming', 'global warming', 'global warming', 'global warming', 'global warming', 'global warming', 'global warming', 'global warming']\n"
          ]
        }
      ]
    },
    {
      "cell_type": "code",
      "source": [
        "set(generated_terms)"
      ],
      "metadata": {
        "id": "Am5D4F3Ob0ST",
        "colab": {
          "base_uri": "https://localhost:8080/"
        },
        "outputId": "87720a3c-4553-43b4-cdd7-062402e308e3"
      },
      "execution_count": 20,
      "outputs": [
        {
          "output_type": "execute_result",
          "data": {
            "text/plain": [
              "{'climate change', 'global warming'}"
            ]
          },
          "metadata": {},
          "execution_count": 20
        }
      ]
    },
    {
      "cell_type": "code",
      "source": [],
      "metadata": {
        "id": "6rNE6JLQx0Oc"
      },
      "execution_count": null,
      "outputs": []
    }
  ]
}