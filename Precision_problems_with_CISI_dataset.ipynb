{
  "nbformat": 4,
  "nbformat_minor": 0,
  "metadata": {
    "colab": {
      "provenance": [],
      "authorship_tag": "ABX9TyMKNbjoOz8iynUl53ZJOayt",
      "include_colab_link": true
    },
    "kernelspec": {
      "name": "python3",
      "display_name": "Python 3"
    },
    "language_info": {
      "name": "python"
    }
  },
  "cells": [
    {
      "cell_type": "markdown",
      "metadata": {
        "id": "view-in-github",
        "colab_type": "text"
      },
      "source": [
        "<a href=\"https://colab.research.google.com/github/leonardo3108/IA368dd/blob/main/Precision_problems_with_CISI_dataset.ipynb\" target=\"_parent\"><img src=\"https://colab.research.google.com/assets/colab-badge.svg\" alt=\"Open In Colab\"/></a>"
      ]
    },
    {
      "cell_type": "markdown",
      "source": [
        "# Download and load the CISI Query and Relevant Docs files"
      ],
      "metadata": {
        "id": "hQPr8ZWWk1ei"
      }
    },
    {
      "cell_type": "code",
      "execution_count": 1,
      "metadata": {
        "colab": {
          "base_uri": "https://localhost:8080/"
        },
        "id": "8wQGQVuNdcS4",
        "outputId": "38f3fa33-be10-40d4-a069-fb9973ee0a56"
      },
      "outputs": [
        {
          "output_type": "stream",
          "name": "stdout",
          "text": [
            "--2023-02-22 18:50:02--  https://ir.dcs.gla.ac.uk/resources/test_collections/cisi/cisi.tar.gz\n",
            "Resolving ir.dcs.gla.ac.uk (ir.dcs.gla.ac.uk)... 130.209.240.253\n",
            "Connecting to ir.dcs.gla.ac.uk (ir.dcs.gla.ac.uk)|130.209.240.253|:443... connected.\n",
            "HTTP request sent, awaiting response... 200 OK\n",
            "Length: 775144 (757K) [application/gzip]\n",
            "Saving to: ‘cisi.tar.gz’\n",
            "\n",
            "cisi.tar.gz         100%[===================>] 756.98K  1.37MB/s    in 0.5s    \n",
            "\n",
            "2023-02-22 18:50:04 (1.37 MB/s) - ‘cisi.tar.gz’ saved [775144/775144]\n",
            "\n"
          ]
        }
      ],
      "source": [
        "!wget https://ir.dcs.gla.ac.uk/resources/test_collections/cisi/cisi.tar.gz"
      ]
    },
    {
      "cell_type": "code",
      "source": [
        "!tar -xzvf cisi.tar.gz"
      ],
      "metadata": {
        "colab": {
          "base_uri": "https://localhost:8080/"
        },
        "id": "_mCIyP-zdffm",
        "outputId": "6a204b02-3d36-4d1a-a230-72ff235b4cb1"
      },
      "execution_count": 2,
      "outputs": [
        {
          "output_type": "stream",
          "name": "stdout",
          "text": [
            "CISI.ALL\n",
            "CISI.BLN\n",
            "CISI.QRY\n",
            "CISI.REL\n"
          ]
        }
      ]
    },
    {
      "cell_type": "code",
      "source": [
        "queries_path = 'CISI.QRY'\n",
        "queries = []\n",
        "with open(queries_path, 'r') as f:\n",
        "    query_text = ''\n",
        "    for line in f:\n",
        "        if line.startswith('.I'):\n",
        "            if query_text:\n",
        "                queries.append(query_text)\n",
        "            query_text = ''\n",
        "        elif line.startswith('.W'):\n",
        "            query_text = line[3:]\n",
        "        else:\n",
        "            query_text += line\n",
        "    if query_text:\n",
        "        queries.append(query_text)"
      ],
      "metadata": {
        "id": "zGkIn-Ofepef"
      },
      "execution_count": 6,
      "outputs": []
    },
    {
      "cell_type": "code",
      "source": [
        "relevant_docs = {}\n",
        "for query_id in range(1, len(queries) + 1):\n",
        "    relevant_docs[query_id] = []"
      ],
      "metadata": {
        "id": "7XRs5bcael26"
      },
      "execution_count": 21,
      "outputs": []
    },
    {
      "cell_type": "code",
      "source": [
        "for line in open('CISI.REL'):\n",
        "    query_id, document_ID = [int(id) for id in line.split()[:2]]\n",
        "    relevant_docs[query_id].append(document_ID - 1)"
      ],
      "metadata": {
        "id": "uwVYELRwdt7Q"
      },
      "execution_count": 22,
      "outputs": []
    },
    {
      "cell_type": "markdown",
      "source": [
        "# Counts relevant docs per query"
      ],
      "metadata": {
        "id": "LOUn5D0WlD69"
      }
    },
    {
      "cell_type": "code",
      "source": [
        "for query_id in range(1, len(queries) + 1):\n",
        "    relevant_docs[query_id]= len(set(relevant_docs[query_id]))"
      ],
      "metadata": {
        "id": "W7b9nt3KdjHs"
      },
      "execution_count": 23,
      "outputs": []
    },
    {
      "cell_type": "code",
      "source": [
        "import matplotlib.pyplot as plt\n",
        "plt.bar(relevant_docs.keys(), relevant_docs.values())\n",
        "plt.xlabel('Query ID')\n",
        "plt.ylabel('# Relevant Docs')\n",
        "plt.show()"
      ],
      "metadata": {
        "colab": {
          "base_uri": "https://localhost:8080/",
          "height": 280
        },
        "id": "C0q0e8gygMv1",
        "outputId": "de9ef13b-7d73-4670-f560-6de4f785026e"
      },
      "execution_count": 34,
      "outputs": [
        {
          "output_type": "display_data",
          "data": {
            "text/plain": [
              "<Figure size 432x288 with 1 Axes>"
            ],
            "image/png": "[encoded data removed]"
          },
          "metadata": {
            "needs_background": "light"
          }
        }
      ]
    },
    {
      "cell_type": "markdown",
      "source": [
        "# Queries with less than 10 relevant docs"
      ],
      "metadata": {
        "id": "FeFg2GgmlM7s"
      }
    },
    {
      "cell_type": "code",
      "source": [
        "print(f'Queries with less than 10 relevant docs:')\n",
        "for query_id in relevant_docs.keys():\n",
        "    quantity = relevant_docs[query_id]\n",
        "    if quantity < 10:\n",
        "        print(f'\\tquery ID {query_id}: {quantity}')"
      ],
      "metadata": {
        "colab": {
          "base_uri": "https://localhost:8080/"
        },
        "id": "LHjjkP9xefvr",
        "outputId": "91e1e2d5-072e-4d47-855d-dd746c371171"
      },
      "execution_count": 44,
      "outputs": [
        {
          "output_type": "stream",
          "name": "stdout",
          "text": [
            "Queries with less than 10 relevant docs:\n",
            "\tquery ID 4: 8\n",
            "\tquery ID 6: 1\n",
            "\tquery ID 7: 8\n",
            "\tquery ID 14: 3\n",
            "\tquery ID 36: 0\n",
            "\tquery ID 38: 0\n",
            "\tquery ID 40: 0\n",
            "\tquery ID 47: 0\n",
            "\tquery ID 48: 0\n",
            "\tquery ID 51: 0\n",
            "\tquery ID 53: 0\n",
            "\tquery ID 59: 0\n",
            "\tquery ID 60: 0\n",
            "\tquery ID 63: 0\n",
            "\tquery ID 64: 0\n",
            "\tquery ID 68: 0\n",
            "\tquery ID 70: 0\n",
            "\tquery ID 72: 0\n",
            "\tquery ID 73: 0\n",
            "\tquery ID 74: 0\n",
            "\tquery ID 75: 0\n",
            "\tquery ID 77: 0\n",
            "\tquery ID 78: 0\n",
            "\tquery ID 80: 0\n",
            "\tquery ID 83: 0\n",
            "\tquery ID 85: 0\n",
            "\tquery ID 86: 0\n",
            "\tquery ID 87: 0\n",
            "\tquery ID 88: 0\n",
            "\tquery ID 89: 0\n",
            "\tquery ID 91: 0\n",
            "\tquery ID 93: 0\n",
            "\tquery ID 94: 0\n",
            "\tquery ID 96: 9\n",
            "\tquery ID 97: 6\n",
            "\tquery ID 101: 1\n",
            "\tquery ID 103: 0\n",
            "\tquery ID 105: 0\n",
            "\tquery ID 106: 0\n",
            "\tquery ID 107: 0\n",
            "\tquery ID 108: 0\n",
            "\tquery ID 110: 0\n",
            "\tquery ID 111: 6\n",
            "\tquery ID 112: 0\n"
          ]
        }
      ]
    },
    {
      "cell_type": "markdown",
      "source": [
        "# Ceil for precision @ 10 in CISI dataset"
      ],
      "metadata": {
        "id": "4gjmrpW_lQQi"
      }
    },
    {
      "cell_type": "code",
      "source": [
        "total = 0\n",
        "for query_id in relevant_docs.keys():\n",
        "    total += min(relevant_docs[query_id], 10)\n",
        "total / 10 / len(queries)"
      ],
      "metadata": {
        "colab": {
          "base_uri": "https://localhost:8080/"
        },
        "id": "U2KCXpSAi3zH",
        "outputId": "31250da9-cd25-43bc-a438-99af9dafd5f7"
      },
      "execution_count": 47,
      "outputs": [
        {
          "output_type": "execute_result",
          "data": {
            "text/plain": [
              "0.6446428571428572"
            ]
          },
          "metadata": {},
          "execution_count": 47
        }
      ]
    },
    {
      "cell_type": "code",
      "source": [],
      "metadata": {
        "id": "wCZJ-goYkliN"
      },
      "execution_count": null,
      "outputs": []
    }
  ]
}