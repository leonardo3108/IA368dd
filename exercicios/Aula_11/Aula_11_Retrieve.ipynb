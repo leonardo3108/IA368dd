{
  "nbformat": 4,
  "nbformat_minor": 0,
  "metadata": {
    "colab": {
      "provenance": [],
      "machine_shape": "hm",
      "gpuType": "A100",
      "authorship_tag": "ABX9TyOq5Mr/veOmnEqQXxczO/sy",
      "include_colab_link": true
    },
    "kernelspec": {
      "name": "python3",
      "display_name": "Python 3"
    },
    "language_info": {
      "name": "python"
    },
    "accelerator": "GPU",
    "gpuClass": "standard",
    "widgets": {
      "application/vnd.jupyter.widget-state+json": {
        "20ba3a0422374ad58cdc833841a28af5": {
          "model_module": "@jupyter-widgets/controls",
          "model_name": "HBoxModel",
          "model_module_version": "1.5.0",
          "state": {
            "_dom_classes": [],
            "_model_module": "@jupyter-widgets/controls",
            "_model_module_version": "1.5.0",
            "_model_name": "HBoxModel",
            "_view_count": null,
            "_view_module": "@jupyter-widgets/controls",
            "_view_module_version": "1.5.0",
            "_view_name": "HBoxView",
            "box_style": "",
            "children": [
              "IPY_MODEL_dc0493e783c1418daf2d0ba67654cff5",
              "IPY_MODEL_bc1d0c44b6464f9ca866a2d3de3563f0",
              "IPY_MODEL_cc148172c49b44abb9132eeb30dd671a"
            ],
            "layout": "IPY_MODEL_a0a238821b6f4cf19c90ada31f7c42cc"
          }
        },
        "dc0493e783c1418daf2d0ba67654cff5": {
          "model_module": "@jupyter-widgets/controls",
          "model_name": "HTMLModel",
          "model_module_version": "1.5.0",
          "state": {
            "_dom_classes": [],
            "_model_module": "@jupyter-widgets/controls",
            "_model_module_version": "1.5.0",
            "_model_name": "HTMLModel",
            "_view_count": null,
            "_view_module": "@jupyter-widgets/controls",
            "_view_module_version": "1.5.0",
            "_view_name": "HTMLView",
            "description": "",
            "description_tooltip": null,
            "layout": "IPY_MODEL_f71e4b9d3f4c42c79ea9e96bb98d94e4",
            "placeholder": "​",
            "style": "IPY_MODEL_461efd7b989b48718364b52e3bbf5f16",
            "value": "Downloading (…)lve/main/config.json: 100%"
          }
        },
        "bc1d0c44b6464f9ca866a2d3de3563f0": {
          "model_module": "@jupyter-widgets/controls",
          "model_name": "FloatProgressModel",
          "model_module_version": "1.5.0",
          "state": {
            "_dom_classes": [],
            "_model_module": "@jupyter-widgets/controls",
            "_model_module_version": "1.5.0",
            "_model_name": "FloatProgressModel",
            "_view_count": null,
            "_view_module": "@jupyter-widgets/controls",
            "_view_module_version": "1.5.0",
            "_view_name": "ProgressView",
            "bar_style": "success",
            "description": "",
            "description_tooltip": null,
            "layout": "IPY_MODEL_a55f457c6e4c4d45bb0157cac5b90492",
            "max": 794,
            "min": 0,
            "orientation": "horizontal",
            "style": "IPY_MODEL_a0120cb7d78446a5a6a0d35869058d52",
            "value": 794
          }
        },
        "cc148172c49b44abb9132eeb30dd671a": {
          "model_module": "@jupyter-widgets/controls",
          "model_name": "HTMLModel",
          "model_module_version": "1.5.0",
          "state": {
            "_dom_classes": [],
            "_model_module": "@jupyter-widgets/controls",
            "_model_module_version": "1.5.0",
            "_model_name": "HTMLModel",
            "_view_count": null,
            "_view_module": "@jupyter-widgets/controls",
            "_view_module_version": "1.5.0",
            "_view_name": "HTMLView",
            "description": "",
            "description_tooltip": null,
            "layout": "IPY_MODEL_e0196bb540494a1e9650bb77678259c1",
            "placeholder": "​",
            "style": "IPY_MODEL_ed30e2b2a5b241d2878523c414cba0d0",
            "value": " 794/794 [00:00&lt;00:00, 65.1kB/s]"
          }
        },
        "a0a238821b6f4cf19c90ada31f7c42cc": {
          "model_module": "@jupyter-widgets/base",
          "model_name": "LayoutModel",
          "model_module_version": "1.2.0",
          "state": {
            "_model_module": "@jupyter-widgets/base",
            "_model_module_version": "1.2.0",
            "_model_name": "LayoutModel",
            "_view_count": null,
            "_view_module": "@jupyter-widgets/base",
            "_view_module_version": "1.2.0",
            "_view_name": "LayoutView",
            "align_content": null,
            "align_items": null,
            "align_self": null,
            "border": null,
            "bottom": null,
            "display": null,
            "flex": null,
            "flex_flow": null,
            "grid_area": null,
            "grid_auto_columns": null,
            "grid_auto_flow": null,
            "grid_auto_rows": null,
            "grid_column": null,
            "grid_gap": null,
            "grid_row": null,
            "grid_template_areas": null,
            "grid_template_columns": null,
            "grid_template_rows": null,
            "height": null,
            "justify_content": null,
            "justify_items": null,
            "left": null,
            "margin": null,
            "max_height": null,
            "max_width": null,
            "min_height": null,
            "min_width": null,
            "object_fit": null,
            "object_position": null,
            "order": null,
            "overflow": null,
            "overflow_x": null,
            "overflow_y": null,
            "padding": null,
            "right": null,
            "top": null,
            "visibility": null,
            "width": null
          }
        },
        "f71e4b9d3f4c42c79ea9e96bb98d94e4": {
          "model_module": "@jupyter-widgets/base",
          "model_name": "LayoutModel",
          "model_module_version": "1.2.0",
          "state": {
            "_model_module": "@jupyter-widgets/base",
            "_model_module_version": "1.2.0",
            "_model_name": "LayoutModel",
            "_view_count": null,
            "_view_module": "@jupyter-widgets/base",
            "_view_module_version": "1.2.0",
            "_view_name": "LayoutView",
            "align_content": null,
            "align_items": null,
            "align_self": null,
            "border": null,
            "bottom": null,
            "display": null,
            "flex": null,
            "flex_flow": null,
            "grid_area": null,
            "grid_auto_columns": null,
            "grid_auto_flow": null,
            "grid_auto_rows": null,
            "grid_column": null,
            "grid_gap": null,
            "grid_row": null,
            "grid_template_areas": null,
            "grid_template_columns": null,
            "grid_template_rows": null,
            "height": null,
            "justify_content": null,
            "justify_items": null,
            "left": null,
            "margin": null,
            "max_height": null,
            "max_width": null,
            "min_height": null,
            "min_width": null,
            "object_fit": null,
            "object_position": null,
            "order": null,
            "overflow": null,
            "overflow_x": null,
            "overflow_y": null,
            "padding": null,
            "right": null,
            "top": null,
            "visibility": null,
            "width": null
          }
        },
        "461efd7b989b48718364b52e3bbf5f16": {
          "model_module": "@jupyter-widgets/controls",
          "model_name": "DescriptionStyleModel",
          "model_module_version": "1.5.0",
          "state": {
            "_model_module": "@jupyter-widgets/controls",
            "_model_module_version": "1.5.0",
            "_model_name": "DescriptionStyleModel",
            "_view_count": null,
            "_view_module": "@jupyter-widgets/base",
            "_view_module_version": "1.2.0",
            "_view_name": "StyleView",
            "description_width": ""
          }
        },
        "a55f457c6e4c4d45bb0157cac5b90492": {
          "model_module": "@jupyter-widgets/base",
          "model_name": "LayoutModel",
          "model_module_version": "1.2.0",
          "state": {
            "_model_module": "@jupyter-widgets/base",
            "_model_module_version": "1.2.0",
            "_model_name": "LayoutModel",
            "_view_count": null,
            "_view_module": "@jupyter-widgets/base",
            "_view_module_version": "1.2.0",
            "_view_name": "LayoutView",
            "align_content": null,
            "align_items": null,
            "align_self": null,
            "border": null,
            "bottom": null,
            "display": null,
            "flex": null,
            "flex_flow": null,
            "grid_area": null,
            "grid_auto_columns": null,
            "grid_auto_flow": null,
            "grid_auto_rows": null,
            "grid_column": null,
            "grid_gap": null,
            "grid_row": null,
            "grid_template_areas": null,
            "grid_template_columns": null,
            "grid_template_rows": null,
            "height": null,
            "justify_content": null,
            "justify_items": null,
            "left": null,
            "margin": null,
            "max_height": null,
            "max_width": null,
            "min_height": null,
            "min_width": null,
            "object_fit": null,
            "object_position": null,
            "order": null,
            "overflow": null,
            "overflow_x": null,
            "overflow_y": null,
            "padding": null,
            "right": null,
            "top": null,
            "visibility": null,
            "width": null
          }
        },
        "a0120cb7d78446a5a6a0d35869058d52": {
          "model_module": "@jupyter-widgets/controls",
          "model_name": "ProgressStyleModel",
          "model_module_version": "1.5.0",
          "state": {
            "_model_module": "@jupyter-widgets/controls",
            "_model_module_version": "1.5.0",
            "_model_name": "ProgressStyleModel",
            "_view_count": null,
            "_view_module": "@jupyter-widgets/base",
            "_view_module_version": "1.2.0",
            "_view_name": "StyleView",
            "bar_color": null,
            "description_width": ""
          }
        },
        "e0196bb540494a1e9650bb77678259c1": {
          "model_module": "@jupyter-widgets/base",
          "model_name": "LayoutModel",
          "model_module_version": "1.2.0",
          "state": {
            "_model_module": "@jupyter-widgets/base",
            "_model_module_version": "1.2.0",
            "_model_name": "LayoutModel",
            "_view_count": null,
            "_view_module": "@jupyter-widgets/base",
            "_view_module_version": "1.2.0",
            "_view_name": "LayoutView",
            "align_content": null,
            "align_items": null,
            "align_self": null,
            "border": null,
            "bottom": null,
            "display": null,
            "flex": null,
            "flex_flow": null,
            "grid_area": null,
            "grid_auto_columns": null,
            "grid_auto_flow": null,
            "grid_auto_rows": null,
            "grid_column": null,
            "grid_gap": null,
            "grid_row": null,
            "grid_template_areas": null,
            "grid_template_columns": null,
            "grid_template_rows": null,
            "height": null,
            "justify_content": null,
            "justify_items": null,
            "left": null,
            "margin": null,
            "max_height": null,
            "max_width": null,
            "min_height": null,
            "min_width": null,
            "object_fit": null,
            "object_position": null,
            "order": null,
            "overflow": null,
            "overflow_x": null,
            "overflow_y": null,
            "padding": null,
            "right": null,
            "top": null,
            "visibility": null,
            "width": null
          }
        },
        "ed30e2b2a5b241d2878523c414cba0d0": {
          "model_module": "@jupyter-widgets/controls",
          "model_name": "DescriptionStyleModel",
          "model_module_version": "1.5.0",
          "state": {
            "_model_module": "@jupyter-widgets/controls",
            "_model_module_version": "1.5.0",
            "_model_name": "DescriptionStyleModel",
            "_view_count": null,
            "_view_module": "@jupyter-widgets/base",
            "_view_module_version": "1.2.0",
            "_view_name": "StyleView",
            "description_width": ""
          }
        },
        "b7d05c8f94274ded8b434b233134853c": {
          "model_module": "@jupyter-widgets/controls",
          "model_name": "HBoxModel",
          "model_module_version": "1.5.0",
          "state": {
            "_dom_classes": [],
            "_model_module": "@jupyter-widgets/controls",
            "_model_module_version": "1.5.0",
            "_model_name": "HBoxModel",
            "_view_count": null,
            "_view_module": "@jupyter-widgets/controls",
            "_view_module_version": "1.5.0",
            "_view_name": "HBoxView",
            "box_style": "",
            "children": [
              "IPY_MODEL_13b3c5665599418cb13ef09d3e505f39",
              "IPY_MODEL_71394593a84047c3970556d8cd6ff857",
              "IPY_MODEL_b2f81e48431e42828fa2b7ee24761351"
            ],
            "layout": "IPY_MODEL_830320fb3a894341bae92a92419629fe"
          }
        },
        "13b3c5665599418cb13ef09d3e505f39": {
          "model_module": "@jupyter-widgets/controls",
          "model_name": "HTMLModel",
          "model_module_version": "1.5.0",
          "state": {
            "_dom_classes": [],
            "_model_module": "@jupyter-widgets/controls",
            "_model_module_version": "1.5.0",
            "_model_name": "HTMLModel",
            "_view_count": null,
            "_view_module": "@jupyter-widgets/controls",
            "_view_module_version": "1.5.0",
            "_view_name": "HTMLView",
            "description": "",
            "description_tooltip": null,
            "layout": "IPY_MODEL_850ae8807f524de8839c1fa7bba819e7",
            "placeholder": "​",
            "style": "IPY_MODEL_d99b2c2651d3403f844a6ec4625904b0",
            "value": "Downloading pytorch_model.bin: 100%"
          }
        },
        "71394593a84047c3970556d8cd6ff857": {
          "model_module": "@jupyter-widgets/controls",
          "model_name": "FloatProgressModel",
          "model_module_version": "1.5.0",
          "state": {
            "_dom_classes": [],
            "_model_module": "@jupyter-widgets/controls",
            "_model_module_version": "1.5.0",
            "_model_name": "FloatProgressModel",
            "_view_count": null,
            "_view_module": "@jupyter-widgets/controls",
            "_view_module_version": "1.5.0",
            "_view_name": "ProgressView",
            "bar_style": "success",
            "description": "",
            "description_tooltip": null,
            "layout": "IPY_MODEL_fa9aa931017a415d9fb8eb46fbf6ba85",
            "max": 90903017,
            "min": 0,
            "orientation": "horizontal",
            "style": "IPY_MODEL_edab304a7c36494985eded8b121c2c4b",
            "value": 90903017
          }
        },
        "b2f81e48431e42828fa2b7ee24761351": {
          "model_module": "@jupyter-widgets/controls",
          "model_name": "HTMLModel",
          "model_module_version": "1.5.0",
          "state": {
            "_dom_classes": [],
            "_model_module": "@jupyter-widgets/controls",
            "_model_module_version": "1.5.0",
            "_model_name": "HTMLModel",
            "_view_count": null,
            "_view_module": "@jupyter-widgets/controls",
            "_view_module_version": "1.5.0",
            "_view_name": "HTMLView",
            "description": "",
            "description_tooltip": null,
            "layout": "IPY_MODEL_87f89df70a304da49f92c972465ed2a4",
            "placeholder": "​",
            "style": "IPY_MODEL_37fa26b991224319ace075ffd6705364",
            "value": " 90.9M/90.9M [00:00&lt;00:00, 96.7MB/s]"
          }
        },
        "830320fb3a894341bae92a92419629fe": {
          "model_module": "@jupyter-widgets/base",
          "model_name": "LayoutModel",
          "model_module_version": "1.2.0",
          "state": {
            "_model_module": "@jupyter-widgets/base",
            "_model_module_version": "1.2.0",
            "_model_name": "LayoutModel",
            "_view_count": null,
            "_view_module": "@jupyter-widgets/base",
            "_view_module_version": "1.2.0",
            "_view_name": "LayoutView",
            "align_content": null,
            "align_items": null,
            "align_self": null,
            "border": null,
            "bottom": null,
            "display": null,
            "flex": null,
            "flex_flow": null,
            "grid_area": null,
            "grid_auto_columns": null,
            "grid_auto_flow": null,
            "grid_auto_rows": null,
            "grid_column": null,
            "grid_gap": null,
            "grid_row": null,
            "grid_template_areas": null,
            "grid_template_columns": null,
            "grid_template_rows": null,
            "height": null,
            "justify_content": null,
            "justify_items": null,
            "left": null,
            "margin": null,
            "max_height": null,
            "max_width": null,
            "min_height": null,
            "min_width": null,
            "object_fit": null,
            "object_position": null,
            "order": null,
            "overflow": null,
            "overflow_x": null,
            "overflow_y": null,
            "padding": null,
            "right": null,
            "top": null,
            "visibility": null,
            "width": null
          }
        },
        "850ae8807f524de8839c1fa7bba819e7": {
          "model_module": "@jupyter-widgets/base",
          "model_name": "LayoutModel",
          "model_module_version": "1.2.0",
          "state": {
            "_model_module": "@jupyter-widgets/base",
            "_model_module_version": "1.2.0",
            "_model_name": "LayoutModel",
            "_view_count": null,
            "_view_module": "@jupyter-widgets/base",
            "_view_module_version": "1.2.0",
            "_view_name": "LayoutView",
            "align_content": null,
            "align_items": null,
            "align_self": null,
            "border": null,
            "bottom": null,
            "display": null,
            "flex": null,
            "flex_flow": null,
            "grid_area": null,
            "grid_auto_columns": null,
            "grid_auto_flow": null,
            "grid_auto_rows": null,
            "grid_column": null,
            "grid_gap": null,
            "grid_row": null,
            "grid_template_areas": null,
            "grid_template_columns": null,
            "grid_template_rows": null,
            "height": null,
            "justify_content": null,
            "justify_items": null,
            "left": null,
            "margin": null,
            "max_height": null,
            "max_width": null,
            "min_height": null,
            "min_width": null,
            "object_fit": null,
            "object_position": null,
            "order": null,
            "overflow": null,
            "overflow_x": null,
            "overflow_y": null,
            "padding": null,
            "right": null,
            "top": null,
            "visibility": null,
            "width": null
          }
        },
        "d99b2c2651d3403f844a6ec4625904b0": {
          "model_module": "@jupyter-widgets/controls",
          "model_name": "DescriptionStyleModel",
          "model_module_version": "1.5.0",
          "state": {
            "_model_module": "@jupyter-widgets/controls",
            "_model_module_version": "1.5.0",
            "_model_name": "DescriptionStyleModel",
            "_view_count": null,
            "_view_module": "@jupyter-widgets/base",
            "_view_module_version": "1.2.0",
            "_view_name": "StyleView",
            "description_width": ""
          }
        },
        "fa9aa931017a415d9fb8eb46fbf6ba85": {
          "model_module": "@jupyter-widgets/base",
          "model_name": "LayoutModel",
          "model_module_version": "1.2.0",
          "state": {
            "_model_module": "@jupyter-widgets/base",
            "_model_module_version": "1.2.0",
            "_model_name": "LayoutModel",
            "_view_count": null,
            "_view_module": "@jupyter-widgets/base",
            "_view_module_version": "1.2.0",
            "_view_name": "LayoutView",
            "align_content": null,
            "align_items": null,
            "align_self": null,
            "border": null,
            "bottom": null,
            "display": null,
            "flex": null,
            "flex_flow": null,
            "grid_area": null,
            "grid_auto_columns": null,
            "grid_auto_flow": null,
            "grid_auto_rows": null,
            "grid_column": null,
            "grid_gap": null,
            "grid_row": null,
            "grid_template_areas": null,
            "grid_template_columns": null,
            "grid_template_rows": null,
            "height": null,
            "justify_content": null,
            "justify_items": null,
            "left": null,
            "margin": null,
            "max_height": null,
            "max_width": null,
            "min_height": null,
            "min_width": null,
            "object_fit": null,
            "object_position": null,
            "order": null,
            "overflow": null,
            "overflow_x": null,
            "overflow_y": null,
            "padding": null,
            "right": null,
            "top": null,
            "visibility": null,
            "width": null
          }
        },
        "edab304a7c36494985eded8b121c2c4b": {
          "model_module": "@jupyter-widgets/controls",
          "model_name": "ProgressStyleModel",
          "model_module_version": "1.5.0",
          "state": {
            "_model_module": "@jupyter-widgets/controls",
            "_model_module_version": "1.5.0",
            "_model_name": "ProgressStyleModel",
            "_view_count": null,
            "_view_module": "@jupyter-widgets/base",
            "_view_module_version": "1.2.0",
            "_view_name": "StyleView",
            "bar_color": null,
            "description_width": ""
          }
        },
        "87f89df70a304da49f92c972465ed2a4": {
          "model_module": "@jupyter-widgets/base",
          "model_name": "LayoutModel",
          "model_module_version": "1.2.0",
          "state": {
            "_model_module": "@jupyter-widgets/base",
            "_model_module_version": "1.2.0",
            "_model_name": "LayoutModel",
            "_view_count": null,
            "_view_module": "@jupyter-widgets/base",
            "_view_module_version": "1.2.0",
            "_view_name": "LayoutView",
            "align_content": null,
            "align_items": null,
            "align_self": null,
            "border": null,
            "bottom": null,
            "display": null,
            "flex": null,
            "flex_flow": null,
            "grid_area": null,
            "grid_auto_columns": null,
            "grid_auto_flow": null,
            "grid_auto_rows": null,
            "grid_column": null,
            "grid_gap": null,
            "grid_row": null,
            "grid_template_areas": null,
            "grid_template_columns": null,
            "grid_template_rows": null,
            "height": null,
            "justify_content": null,
            "justify_items": null,
            "left": null,
            "margin": null,
            "max_height": null,
            "max_width": null,
            "min_height": null,
            "min_width": null,
            "object_fit": null,
            "object_position": null,
            "order": null,
            "overflow": null,
            "overflow_x": null,
            "overflow_y": null,
            "padding": null,
            "right": null,
            "top": null,
            "visibility": null,
            "width": null
          }
        },
        "37fa26b991224319ace075ffd6705364": {
          "model_module": "@jupyter-widgets/controls",
          "model_name": "DescriptionStyleModel",
          "model_module_version": "1.5.0",
          "state": {
            "_model_module": "@jupyter-widgets/controls",
            "_model_module_version": "1.5.0",
            "_model_name": "DescriptionStyleModel",
            "_view_count": null,
            "_view_module": "@jupyter-widgets/base",
            "_view_module_version": "1.2.0",
            "_view_name": "StyleView",
            "description_width": ""
          }
        },
        "7e50b6f093554cac9b21ad4b2351e3db": {
          "model_module": "@jupyter-widgets/controls",
          "model_name": "HBoxModel",
          "model_module_version": "1.5.0",
          "state": {
            "_dom_classes": [],
            "_model_module": "@jupyter-widgets/controls",
            "_model_module_version": "1.5.0",
            "_model_name": "HBoxModel",
            "_view_count": null,
            "_view_module": "@jupyter-widgets/controls",
            "_view_module_version": "1.5.0",
            "_view_name": "HBoxView",
            "box_style": "",
            "children": [
              "IPY_MODEL_361c332a1c8c4ed8ad470ab798a296d0",
              "IPY_MODEL_2b7c001ccb384de486607f52cfc641d5",
              "IPY_MODEL_b305bbd2d2f44529a1ff40bd7103a0ef"
            ],
            "layout": "IPY_MODEL_7861930505a2476fad79a35ce85d4fb2"
          }
        },
        "361c332a1c8c4ed8ad470ab798a296d0": {
          "model_module": "@jupyter-widgets/controls",
          "model_name": "HTMLModel",
          "model_module_version": "1.5.0",
          "state": {
            "_dom_classes": [],
            "_model_module": "@jupyter-widgets/controls",
            "_model_module_version": "1.5.0",
            "_model_name": "HTMLModel",
            "_view_count": null,
            "_view_module": "@jupyter-widgets/controls",
            "_view_module_version": "1.5.0",
            "_view_name": "HTMLView",
            "description": "",
            "description_tooltip": null,
            "layout": "IPY_MODEL_63e62a29f72a4f41926a5e664f3fa985",
            "placeholder": "​",
            "style": "IPY_MODEL_7d67ebec161b4abbaed8b732c35f727d",
            "value": "Downloading (…)okenizer_config.json: 100%"
          }
        },
        "2b7c001ccb384de486607f52cfc641d5": {
          "model_module": "@jupyter-widgets/controls",
          "model_name": "FloatProgressModel",
          "model_module_version": "1.5.0",
          "state": {
            "_dom_classes": [],
            "_model_module": "@jupyter-widgets/controls",
            "_model_module_version": "1.5.0",
            "_model_name": "FloatProgressModel",
            "_view_count": null,
            "_view_module": "@jupyter-widgets/controls",
            "_view_module_version": "1.5.0",
            "_view_name": "ProgressView",
            "bar_style": "success",
            "description": "",
            "description_tooltip": null,
            "layout": "IPY_MODEL_34f5b511b5d7410f9d923ebed6e6a200",
            "max": 316,
            "min": 0,
            "orientation": "horizontal",
            "style": "IPY_MODEL_a7dfa1bf8e584453b7510361a5ae3bae",
            "value": 316
          }
        },
        "b305bbd2d2f44529a1ff40bd7103a0ef": {
          "model_module": "@jupyter-widgets/controls",
          "model_name": "HTMLModel",
          "model_module_version": "1.5.0",
          "state": {
            "_dom_classes": [],
            "_model_module": "@jupyter-widgets/controls",
            "_model_module_version": "1.5.0",
            "_model_name": "HTMLModel",
            "_view_count": null,
            "_view_module": "@jupyter-widgets/controls",
            "_view_module_version": "1.5.0",
            "_view_name": "HTMLView",
            "description": "",
            "description_tooltip": null,
            "layout": "IPY_MODEL_5dcc5e8980124c068d0f0d12a10c2a6e",
            "placeholder": "​",
            "style": "IPY_MODEL_b21d61c0915e4b4c9c1a400bbaceefbc",
            "value": " 316/316 [00:00&lt;00:00, 26.5kB/s]"
          }
        },
        "7861930505a2476fad79a35ce85d4fb2": {
          "model_module": "@jupyter-widgets/base",
          "model_name": "LayoutModel",
          "model_module_version": "1.2.0",
          "state": {
            "_model_module": "@jupyter-widgets/base",
            "_model_module_version": "1.2.0",
            "_model_name": "LayoutModel",
            "_view_count": null,
            "_view_module": "@jupyter-widgets/base",
            "_view_module_version": "1.2.0",
            "_view_name": "LayoutView",
            "align_content": null,
            "align_items": null,
            "align_self": null,
            "border": null,
            "bottom": null,
            "display": null,
            "flex": null,
            "flex_flow": null,
            "grid_area": null,
            "grid_auto_columns": null,
            "grid_auto_flow": null,
            "grid_auto_rows": null,
            "grid_column": null,
            "grid_gap": null,
            "grid_row": null,
            "grid_template_areas": null,
            "grid_template_columns": null,
            "grid_template_rows": null,
            "height": null,
            "justify_content": null,
            "justify_items": null,
            "left": null,
            "margin": null,
            "max_height": null,
            "max_width": null,
            "min_height": null,
            "min_width": null,
            "object_fit": null,
            "object_position": null,
            "order": null,
            "overflow": null,
            "overflow_x": null,
            "overflow_y": null,
            "padding": null,
            "right": null,
            "top": null,
            "visibility": null,
            "width": null
          }
        },
        "63e62a29f72a4f41926a5e664f3fa985": {
          "model_module": "@jupyter-widgets/base",
          "model_name": "LayoutModel",
          "model_module_version": "1.2.0",
          "state": {
            "_model_module": "@jupyter-widgets/base",
            "_model_module_version": "1.2.0",
            "_model_name": "LayoutModel",
            "_view_count": null,
            "_view_module": "@jupyter-widgets/base",
            "_view_module_version": "1.2.0",
            "_view_name": "LayoutView",
            "align_content": null,
            "align_items": null,
            "align_self": null,
            "border": null,
            "bottom": null,
            "display": null,
            "flex": null,
            "flex_flow": null,
            "grid_area": null,
            "grid_auto_columns": null,
            "grid_auto_flow": null,
            "grid_auto_rows": null,
            "grid_column": null,
            "grid_gap": null,
            "grid_row": null,
            "grid_template_areas": null,
            "grid_template_columns": null,
            "grid_template_rows": null,
            "height": null,
            "justify_content": null,
            "justify_items": null,
            "left": null,
            "margin": null,
            "max_height": null,
            "max_width": null,
            "min_height": null,
            "min_width": null,
            "object_fit": null,
            "object_position": null,
            "order": null,
            "overflow": null,
            "overflow_x": null,
            "overflow_y": null,
            "padding": null,
            "right": null,
            "top": null,
            "visibility": null,
            "width": null
          }
        },
        "7d67ebec161b4abbaed8b732c35f727d": {
          "model_module": "@jupyter-widgets/controls",
          "model_name": "DescriptionStyleModel",
          "model_module_version": "1.5.0",
          "state": {
            "_model_module": "@jupyter-widgets/controls",
            "_model_module_version": "1.5.0",
            "_model_name": "DescriptionStyleModel",
            "_view_count": null,
            "_view_module": "@jupyter-widgets/base",
            "_view_module_version": "1.2.0",
            "_view_name": "StyleView",
            "description_width": ""
          }
        },
        "34f5b511b5d7410f9d923ebed6e6a200": {
          "model_module": "@jupyter-widgets/base",
          "model_name": "LayoutModel",
          "model_module_version": "1.2.0",
          "state": {
            "_model_module": "@jupyter-widgets/base",
            "_model_module_version": "1.2.0",
            "_model_name": "LayoutModel",
            "_view_count": null,
            "_view_module": "@jupyter-widgets/base",
            "_view_module_version": "1.2.0",
            "_view_name": "LayoutView",
            "align_content": null,
            "align_items": null,
            "align_self": null,
            "border": null,
            "bottom": null,
            "display": null,
            "flex": null,
            "flex_flow": null,
            "grid_area": null,
            "grid_auto_columns": null,
            "grid_auto_flow": null,
            "grid_auto_rows": null,
            "grid_column": null,
            "grid_gap": null,
            "grid_row": null,
            "grid_template_areas": null,
            "grid_template_columns": null,
            "grid_template_rows": null,
            "height": null,
            "justify_content": null,
            "justify_items": null,
            "left": null,
            "margin": null,
            "max_height": null,
            "max_width": null,
            "min_height": null,
            "min_width": null,
            "object_fit": null,
            "object_position": null,
            "order": null,
            "overflow": null,
            "overflow_x": null,
            "overflow_y": null,
            "padding": null,
            "right": null,
            "top": null,
            "visibility": null,
            "width": null
          }
        },
        "a7dfa1bf8e584453b7510361a5ae3bae": {
          "model_module": "@jupyter-widgets/controls",
          "model_name": "ProgressStyleModel",
          "model_module_version": "1.5.0",
          "state": {
            "_model_module": "@jupyter-widgets/controls",
            "_model_module_version": "1.5.0",
            "_model_name": "ProgressStyleModel",
            "_view_count": null,
            "_view_module": "@jupyter-widgets/base",
            "_view_module_version": "1.2.0",
            "_view_name": "StyleView",
            "bar_color": null,
            "description_width": ""
          }
        },
        "5dcc5e8980124c068d0f0d12a10c2a6e": {
          "model_module": "@jupyter-widgets/base",
          "model_name": "LayoutModel",
          "model_module_version": "1.2.0",
          "state": {
            "_model_module": "@jupyter-widgets/base",
            "_model_module_version": "1.2.0",
            "_model_name": "LayoutModel",
            "_view_count": null,
            "_view_module": "@jupyter-widgets/base",
            "_view_module_version": "1.2.0",
            "_view_name": "LayoutView",
            "align_content": null,
            "align_items": null,
            "align_self": null,
            "border": null,
            "bottom": null,
            "display": null,
            "flex": null,
            "flex_flow": null,
            "grid_area": null,
            "grid_auto_columns": null,
            "grid_auto_flow": null,
            "grid_auto_rows": null,
            "grid_column": null,
            "grid_gap": null,
            "grid_row": null,
            "grid_template_areas": null,
            "grid_template_columns": null,
            "grid_template_rows": null,
            "height": null,
            "justify_content": null,
            "justify_items": null,
            "left": null,
            "margin": null,
            "max_height": null,
            "max_width": null,
            "min_height": null,
            "min_width": null,
            "object_fit": null,
            "object_position": null,
            "order": null,
            "overflow": null,
            "overflow_x": null,
            "overflow_y": null,
            "padding": null,
            "right": null,
            "top": null,
            "visibility": null,
            "width": null
          }
        },
        "b21d61c0915e4b4c9c1a400bbaceefbc": {
          "model_module": "@jupyter-widgets/controls",
          "model_name": "DescriptionStyleModel",
          "model_module_version": "1.5.0",
          "state": {
            "_model_module": "@jupyter-widgets/controls",
            "_model_module_version": "1.5.0",
            "_model_name": "DescriptionStyleModel",
            "_view_count": null,
            "_view_module": "@jupyter-widgets/base",
            "_view_module_version": "1.2.0",
            "_view_name": "StyleView",
            "description_width": ""
          }
        },
        "700f606e25454bd1bfb56eee87d177ec": {
          "model_module": "@jupyter-widgets/controls",
          "model_name": "HBoxModel",
          "model_module_version": "1.5.0",
          "state": {
            "_dom_classes": [],
            "_model_module": "@jupyter-widgets/controls",
            "_model_module_version": "1.5.0",
            "_model_name": "HBoxModel",
            "_view_count": null,
            "_view_module": "@jupyter-widgets/controls",
            "_view_module_version": "1.5.0",
            "_view_name": "HBoxView",
            "box_style": "",
            "children": [
              "IPY_MODEL_4a7b4c3de5284b6aa42106b95f24ce99",
              "IPY_MODEL_ef70cfc73add4bc3abf1296c1433a071",
              "IPY_MODEL_1e2ca6fa09564d4281fee6427e43335b"
            ],
            "layout": "IPY_MODEL_077bdd66ac264fa79a701c5b57d22f6a"
          }
        },
        "4a7b4c3de5284b6aa42106b95f24ce99": {
          "model_module": "@jupyter-widgets/controls",
          "model_name": "HTMLModel",
          "model_module_version": "1.5.0",
          "state": {
            "_dom_classes": [],
            "_model_module": "@jupyter-widgets/controls",
            "_model_module_version": "1.5.0",
            "_model_name": "HTMLModel",
            "_view_count": null,
            "_view_module": "@jupyter-widgets/controls",
            "_view_module_version": "1.5.0",
            "_view_name": "HTMLView",
            "description": "",
            "description_tooltip": null,
            "layout": "IPY_MODEL_ba0c852a004f487f942005813b01c5db",
            "placeholder": "​",
            "style": "IPY_MODEL_6cf7e9d918534fee91a04b2b5e92cfd5",
            "value": "Downloading (…)solve/main/vocab.txt: 100%"
          }
        },
        "ef70cfc73add4bc3abf1296c1433a071": {
          "model_module": "@jupyter-widgets/controls",
          "model_name": "FloatProgressModel",
          "model_module_version": "1.5.0",
          "state": {
            "_dom_classes": [],
            "_model_module": "@jupyter-widgets/controls",
            "_model_module_version": "1.5.0",
            "_model_name": "FloatProgressModel",
            "_view_count": null,
            "_view_module": "@jupyter-widgets/controls",
            "_view_module_version": "1.5.0",
            "_view_name": "ProgressView",
            "bar_style": "success",
            "description": "",
            "description_tooltip": null,
            "layout": "IPY_MODEL_381dc5c44e204574bc3e0cab1c0e5e68",
            "max": 231508,
            "min": 0,
            "orientation": "horizontal",
            "style": "IPY_MODEL_693b380f06de4e97ab9a1046e7208ad2",
            "value": 231508
          }
        },
        "1e2ca6fa09564d4281fee6427e43335b": {
          "model_module": "@jupyter-widgets/controls",
          "model_name": "HTMLModel",
          "model_module_version": "1.5.0",
          "state": {
            "_dom_classes": [],
            "_model_module": "@jupyter-widgets/controls",
            "_model_module_version": "1.5.0",
            "_model_name": "HTMLModel",
            "_view_count": null,
            "_view_module": "@jupyter-widgets/controls",
            "_view_module_version": "1.5.0",
            "_view_name": "HTMLView",
            "description": "",
            "description_tooltip": null,
            "layout": "IPY_MODEL_be2132d00aa340b2a8b1296d5ee36ee7",
            "placeholder": "​",
            "style": "IPY_MODEL_749238ac502147a7bc2aa9708db78d74",
            "value": " 232k/232k [00:00&lt;00:00, 4.62MB/s]"
          }
        },
        "077bdd66ac264fa79a701c5b57d22f6a": {
          "model_module": "@jupyter-widgets/base",
          "model_name": "LayoutModel",
          "model_module_version": "1.2.0",
          "state": {
            "_model_module": "@jupyter-widgets/base",
            "_model_module_version": "1.2.0",
            "_model_name": "LayoutModel",
            "_view_count": null,
            "_view_module": "@jupyter-widgets/base",
            "_view_module_version": "1.2.0",
            "_view_name": "LayoutView",
            "align_content": null,
            "align_items": null,
            "align_self": null,
            "border": null,
            "bottom": null,
            "display": null,
            "flex": null,
            "flex_flow": null,
            "grid_area": null,
            "grid_auto_columns": null,
            "grid_auto_flow": null,
            "grid_auto_rows": null,
            "grid_column": null,
            "grid_gap": null,
            "grid_row": null,
            "grid_template_areas": null,
            "grid_template_columns": null,
            "grid_template_rows": null,
            "height": null,
            "justify_content": null,
            "justify_items": null,
            "left": null,
            "margin": null,
            "max_height": null,
            "max_width": null,
            "min_height": null,
            "min_width": null,
            "object_fit": null,
            "object_position": null,
            "order": null,
            "overflow": null,
            "overflow_x": null,
            "overflow_y": null,
            "padding": null,
            "right": null,
            "top": null,
            "visibility": null,
            "width": null
          }
        },
        "ba0c852a004f487f942005813b01c5db": {
          "model_module": "@jupyter-widgets/base",
          "model_name": "LayoutModel",
          "model_module_version": "1.2.0",
          "state": {
            "_model_module": "@jupyter-widgets/base",
            "_model_module_version": "1.2.0",
            "_model_name": "LayoutModel",
            "_view_count": null,
            "_view_module": "@jupyter-widgets/base",
            "_view_module_version": "1.2.0",
            "_view_name": "LayoutView",
            "align_content": null,
            "align_items": null,
            "align_self": null,
            "border": null,
            "bottom": null,
            "display": null,
            "flex": null,
            "flex_flow": null,
            "grid_area": null,
            "grid_auto_columns": null,
            "grid_auto_flow": null,
            "grid_auto_rows": null,
            "grid_column": null,
            "grid_gap": null,
            "grid_row": null,
            "grid_template_areas": null,
            "grid_template_columns": null,
            "grid_template_rows": null,
            "height": null,
            "justify_content": null,
            "justify_items": null,
            "left": null,
            "margin": null,
            "max_height": null,
            "max_width": null,
            "min_height": null,
            "min_width": null,
            "object_fit": null,
            "object_position": null,
            "order": null,
            "overflow": null,
            "overflow_x": null,
            "overflow_y": null,
            "padding": null,
            "right": null,
            "top": null,
            "visibility": null,
            "width": null
          }
        },
        "6cf7e9d918534fee91a04b2b5e92cfd5": {
          "model_module": "@jupyter-widgets/controls",
          "model_name": "DescriptionStyleModel",
          "model_module_version": "1.5.0",
          "state": {
            "_model_module": "@jupyter-widgets/controls",
            "_model_module_version": "1.5.0",
            "_model_name": "DescriptionStyleModel",
            "_view_count": null,
            "_view_module": "@jupyter-widgets/base",
            "_view_module_version": "1.2.0",
            "_view_name": "StyleView",
            "description_width": ""
          }
        },
        "381dc5c44e204574bc3e0cab1c0e5e68": {
          "model_module": "@jupyter-widgets/base",
          "model_name": "LayoutModel",
          "model_module_version": "1.2.0",
          "state": {
            "_model_module": "@jupyter-widgets/base",
            "_model_module_version": "1.2.0",
            "_model_name": "LayoutModel",
            "_view_count": null,
            "_view_module": "@jupyter-widgets/base",
            "_view_module_version": "1.2.0",
            "_view_name": "LayoutView",
            "align_content": null,
            "align_items": null,
            "align_self": null,
            "border": null,
            "bottom": null,
            "display": null,
            "flex": null,
            "flex_flow": null,
            "grid_area": null,
            "grid_auto_columns": null,
            "grid_auto_flow": null,
            "grid_auto_rows": null,
            "grid_column": null,
            "grid_gap": null,
            "grid_row": null,
            "grid_template_areas": null,
            "grid_template_columns": null,
            "grid_template_rows": null,
            "height": null,
            "justify_content": null,
            "justify_items": null,
            "left": null,
            "margin": null,
            "max_height": null,
            "max_width": null,
            "min_height": null,
            "min_width": null,
            "object_fit": null,
            "object_position": null,
            "order": null,
            "overflow": null,
            "overflow_x": null,
            "overflow_y": null,
            "padding": null,
            "right": null,
            "top": null,
            "visibility": null,
            "width": null
          }
        },
        "693b380f06de4e97ab9a1046e7208ad2": {
          "model_module": "@jupyter-widgets/controls",
          "model_name": "ProgressStyleModel",
          "model_module_version": "1.5.0",
          "state": {
            "_model_module": "@jupyter-widgets/controls",
            "_model_module_version": "1.5.0",
            "_model_name": "ProgressStyleModel",
            "_view_count": null,
            "_view_module": "@jupyter-widgets/base",
            "_view_module_version": "1.2.0",
            "_view_name": "StyleView",
            "bar_color": null,
            "description_width": ""
          }
        },
        "be2132d00aa340b2a8b1296d5ee36ee7": {
          "model_module": "@jupyter-widgets/base",
          "model_name": "LayoutModel",
          "model_module_version": "1.2.0",
          "state": {
            "_model_module": "@jupyter-widgets/base",
            "_model_module_version": "1.2.0",
            "_model_name": "LayoutModel",
            "_view_count": null,
            "_view_module": "@jupyter-widgets/base",
            "_view_module_version": "1.2.0",
            "_view_name": "LayoutView",
            "align_content": null,
            "align_items": null,
            "align_self": null,
            "border": null,
            "bottom": null,
            "display": null,
            "flex": null,
            "flex_flow": null,
            "grid_area": null,
            "grid_auto_columns": null,
            "grid_auto_flow": null,
            "grid_auto_rows": null,
            "grid_column": null,
            "grid_gap": null,
            "grid_row": null,
            "grid_template_areas": null,
            "grid_template_columns": null,
            "grid_template_rows": null,
            "height": null,
            "justify_content": null,
            "justify_items": null,
            "left": null,
            "margin": null,
            "max_height": null,
            "max_width": null,
            "min_height": null,
            "min_width": null,
            "object_fit": null,
            "object_position": null,
            "order": null,
            "overflow": null,
            "overflow_x": null,
            "overflow_y": null,
            "padding": null,
            "right": null,
            "top": null,
            "visibility": null,
            "width": null
          }
        },
        "749238ac502147a7bc2aa9708db78d74": {
          "model_module": "@jupyter-widgets/controls",
          "model_name": "DescriptionStyleModel",
          "model_module_version": "1.5.0",
          "state": {
            "_model_module": "@jupyter-widgets/controls",
            "_model_module_version": "1.5.0",
            "_model_name": "DescriptionStyleModel",
            "_view_count": null,
            "_view_module": "@jupyter-widgets/base",
            "_view_module_version": "1.2.0",
            "_view_name": "StyleView",
            "description_width": ""
          }
        },
        "908fdb5ff0254e80934f0cc1ae146645": {
          "model_module": "@jupyter-widgets/controls",
          "model_name": "HBoxModel",
          "model_module_version": "1.5.0",
          "state": {
            "_dom_classes": [],
            "_model_module": "@jupyter-widgets/controls",
            "_model_module_version": "1.5.0",
            "_model_name": "HBoxModel",
            "_view_count": null,
            "_view_module": "@jupyter-widgets/controls",
            "_view_module_version": "1.5.0",
            "_view_name": "HBoxView",
            "box_style": "",
            "children": [
              "IPY_MODEL_b48e82619a7249f2b4ce087970634730",
              "IPY_MODEL_e4bf9001a14b4725952de4d68a444cfa",
              "IPY_MODEL_8d620306301c4f128c2783f36a1c9d72"
            ],
            "layout": "IPY_MODEL_9ab9151a7d144b959a98ab224966f0b0"
          }
        },
        "b48e82619a7249f2b4ce087970634730": {
          "model_module": "@jupyter-widgets/controls",
          "model_name": "HTMLModel",
          "model_module_version": "1.5.0",
          "state": {
            "_dom_classes": [],
            "_model_module": "@jupyter-widgets/controls",
            "_model_module_version": "1.5.0",
            "_model_name": "HTMLModel",
            "_view_count": null,
            "_view_module": "@jupyter-widgets/controls",
            "_view_module_version": "1.5.0",
            "_view_name": "HTMLView",
            "description": "",
            "description_tooltip": null,
            "layout": "IPY_MODEL_09b6001f49d6409298b0afafecade7ae",
            "placeholder": "​",
            "style": "IPY_MODEL_5d5b20de00a34d53afe10dfb725b0b79",
            "value": "Downloading (…)cial_tokens_map.json: 100%"
          }
        },
        "e4bf9001a14b4725952de4d68a444cfa": {
          "model_module": "@jupyter-widgets/controls",
          "model_name": "FloatProgressModel",
          "model_module_version": "1.5.0",
          "state": {
            "_dom_classes": [],
            "_model_module": "@jupyter-widgets/controls",
            "_model_module_version": "1.5.0",
            "_model_name": "FloatProgressModel",
            "_view_count": null,
            "_view_module": "@jupyter-widgets/controls",
            "_view_module_version": "1.5.0",
            "_view_name": "ProgressView",
            "bar_style": "success",
            "description": "",
            "description_tooltip": null,
            "layout": "IPY_MODEL_a273f08c9a4543289f9dd650d0620ec1",
            "max": 112,
            "min": 0,
            "orientation": "horizontal",
            "style": "IPY_MODEL_810677fe3eca4a8ba1353ab1a8b0f94d",
            "value": 112
          }
        },
        "8d620306301c4f128c2783f36a1c9d72": {
          "model_module": "@jupyter-widgets/controls",
          "model_name": "HTMLModel",
          "model_module_version": "1.5.0",
          "state": {
            "_dom_classes": [],
            "_model_module": "@jupyter-widgets/controls",
            "_model_module_version": "1.5.0",
            "_model_name": "HTMLModel",
            "_view_count": null,
            "_view_module": "@jupyter-widgets/controls",
            "_view_module_version": "1.5.0",
            "_view_name": "HTMLView",
            "description": "",
            "description_tooltip": null,
            "layout": "IPY_MODEL_ec3fb2aa9b9c4b1593a157009f7dc109",
            "placeholder": "​",
            "style": "IPY_MODEL_e7d16d25e39d42fc86230851dc167c6c",
            "value": " 112/112 [00:00&lt;00:00, 9.29kB/s]"
          }
        },
        "9ab9151a7d144b959a98ab224966f0b0": {
          "model_module": "@jupyter-widgets/base",
          "model_name": "LayoutModel",
          "model_module_version": "1.2.0",
          "state": {
            "_model_module": "@jupyter-widgets/base",
            "_model_module_version": "1.2.0",
            "_model_name": "LayoutModel",
            "_view_count": null,
            "_view_module": "@jupyter-widgets/base",
            "_view_module_version": "1.2.0",
            "_view_name": "LayoutView",
            "align_content": null,
            "align_items": null,
            "align_self": null,
            "border": null,
            "bottom": null,
            "display": null,
            "flex": null,
            "flex_flow": null,
            "grid_area": null,
            "grid_auto_columns": null,
            "grid_auto_flow": null,
            "grid_auto_rows": null,
            "grid_column": null,
            "grid_gap": null,
            "grid_row": null,
            "grid_template_areas": null,
            "grid_template_columns": null,
            "grid_template_rows": null,
            "height": null,
            "justify_content": null,
            "justify_items": null,
            "left": null,
            "margin": null,
            "max_height": null,
            "max_width": null,
            "min_height": null,
            "min_width": null,
            "object_fit": null,
            "object_position": null,
            "order": null,
            "overflow": null,
            "overflow_x": null,
            "overflow_y": null,
            "padding": null,
            "right": null,
            "top": null,
            "visibility": null,
            "width": null
          }
        },
        "09b6001f49d6409298b0afafecade7ae": {
          "model_module": "@jupyter-widgets/base",
          "model_name": "LayoutModel",
          "model_module_version": "1.2.0",
          "state": {
            "_model_module": "@jupyter-widgets/base",
            "_model_module_version": "1.2.0",
            "_model_name": "LayoutModel",
            "_view_count": null,
            "_view_module": "@jupyter-widgets/base",
            "_view_module_version": "1.2.0",
            "_view_name": "LayoutView",
            "align_content": null,
            "align_items": null,
            "align_self": null,
            "border": null,
            "bottom": null,
            "display": null,
            "flex": null,
            "flex_flow": null,
            "grid_area": null,
            "grid_auto_columns": null,
            "grid_auto_flow": null,
            "grid_auto_rows": null,
            "grid_column": null,
            "grid_gap": null,
            "grid_row": null,
            "grid_template_areas": null,
            "grid_template_columns": null,
            "grid_template_rows": null,
            "height": null,
            "justify_content": null,
            "justify_items": null,
            "left": null,
            "margin": null,
            "max_height": null,
            "max_width": null,
            "min_height": null,
            "min_width": null,
            "object_fit": null,
            "object_position": null,
            "order": null,
            "overflow": null,
            "overflow_x": null,
            "overflow_y": null,
            "padding": null,
            "right": null,
            "top": null,
            "visibility": null,
            "width": null
          }
        },
        "5d5b20de00a34d53afe10dfb725b0b79": {
          "model_module": "@jupyter-widgets/controls",
          "model_name": "DescriptionStyleModel",
          "model_module_version": "1.5.0",
          "state": {
            "_model_module": "@jupyter-widgets/controls",
            "_model_module_version": "1.5.0",
            "_model_name": "DescriptionStyleModel",
            "_view_count": null,
            "_view_module": "@jupyter-widgets/base",
            "_view_module_version": "1.2.0",
            "_view_name": "StyleView",
            "description_width": ""
          }
        },
        "a273f08c9a4543289f9dd650d0620ec1": {
          "model_module": "@jupyter-widgets/base",
          "model_name": "LayoutModel",
          "model_module_version": "1.2.0",
          "state": {
            "_model_module": "@jupyter-widgets/base",
            "_model_module_version": "1.2.0",
            "_model_name": "LayoutModel",
            "_view_count": null,
            "_view_module": "@jupyter-widgets/base",
            "_view_module_version": "1.2.0",
            "_view_name": "LayoutView",
            "align_content": null,
            "align_items": null,
            "align_self": null,
            "border": null,
            "bottom": null,
            "display": null,
            "flex": null,
            "flex_flow": null,
            "grid_area": null,
            "grid_auto_columns": null,
            "grid_auto_flow": null,
            "grid_auto_rows": null,
            "grid_column": null,
            "grid_gap": null,
            "grid_row": null,
            "grid_template_areas": null,
            "grid_template_columns": null,
            "grid_template_rows": null,
            "height": null,
            "justify_content": null,
            "justify_items": null,
            "left": null,
            "margin": null,
            "max_height": null,
            "max_width": null,
            "min_height": null,
            "min_width": null,
            "object_fit": null,
            "object_position": null,
            "order": null,
            "overflow": null,
            "overflow_x": null,
            "overflow_y": null,
            "padding": null,
            "right": null,
            "top": null,
            "visibility": null,
            "width": null
          }
        },
        "810677fe3eca4a8ba1353ab1a8b0f94d": {
          "model_module": "@jupyter-widgets/controls",
          "model_name": "ProgressStyleModel",
          "model_module_version": "1.5.0",
          "state": {
            "_model_module": "@jupyter-widgets/controls",
            "_model_module_version": "1.5.0",
            "_model_name": "ProgressStyleModel",
            "_view_count": null,
            "_view_module": "@jupyter-widgets/base",
            "_view_module_version": "1.2.0",
            "_view_name": "StyleView",
            "bar_color": null,
            "description_width": ""
          }
        },
        "ec3fb2aa9b9c4b1593a157009f7dc109": {
          "model_module": "@jupyter-widgets/base",
          "model_name": "LayoutModel",
          "model_module_version": "1.2.0",
          "state": {
            "_model_module": "@jupyter-widgets/base",
            "_model_module_version": "1.2.0",
            "_model_name": "LayoutModel",
            "_view_count": null,
            "_view_module": "@jupyter-widgets/base",
            "_view_module_version": "1.2.0",
            "_view_name": "LayoutView",
            "align_content": null,
            "align_items": null,
            "align_self": null,
            "border": null,
            "bottom": null,
            "display": null,
            "flex": null,
            "flex_flow": null,
            "grid_area": null,
            "grid_auto_columns": null,
            "grid_auto_flow": null,
            "grid_auto_rows": null,
            "grid_column": null,
            "grid_gap": null,
            "grid_row": null,
            "grid_template_areas": null,
            "grid_template_columns": null,
            "grid_template_rows": null,
            "height": null,
            "justify_content": null,
            "justify_items": null,
            "left": null,
            "margin": null,
            "max_height": null,
            "max_width": null,
            "min_height": null,
            "min_width": null,
            "object_fit": null,
            "object_position": null,
            "order": null,
            "overflow": null,
            "overflow_x": null,
            "overflow_y": null,
            "padding": null,
            "right": null,
            "top": null,
            "visibility": null,
            "width": null
          }
        },
        "e7d16d25e39d42fc86230851dc167c6c": {
          "model_module": "@jupyter-widgets/controls",
          "model_name": "DescriptionStyleModel",
          "model_module_version": "1.5.0",
          "state": {
            "_model_module": "@jupyter-widgets/controls",
            "_model_module_version": "1.5.0",
            "_model_name": "DescriptionStyleModel",
            "_view_count": null,
            "_view_module": "@jupyter-widgets/base",
            "_view_module_version": "1.2.0",
            "_view_name": "StyleView",
            "description_width": ""
          }
        }
      }
    }
  },
  "cells": [
    {
      "cell_type": "markdown",
      "metadata": {
        "id": "view-in-github",
        "colab_type": "text"
      },
      "source": [
        "<a href=\"https://colab.research.google.com/github/leonardo3108/IA368dd/blob/main/exercicios/Aula_11/Aula_11_Retrieve.ipynb\" target=\"_parent\"><img src=\"https://colab.research.google.com/assets/colab-badge.svg\" alt=\"Open In Colab\"/></a>"
      ]
    },
    {
      "cell_type": "markdown",
      "source": [
        "# Enunciado\n",
        "\n",
        "Implementar um pipeline multidoc QA: dado uma pergunta do usuário, buscamos em uma grande coleção as passagens mais relevantes e as enviamos para um sistema agregador, que irá gerar uma resposta final.\n",
        "\n",
        "- Avaliar no dataset do IIRC\n",
        "- Métrica principal: F1\n",
        "- Limitar dataset de teste para 50 exemplos para economizar.\n",
        "- Usar o gpt-3.5-turbo como modelo agregador. Usar vicuna-13B como alternativa open-source:\n",
        "\n",
        " - https://huggingface.co/helloollel/vicuna-13b\n",
        " - https://chat.lmsys.org/\n",
        "\n",
        "Dicas:\n",
        "\n",
        "- Se inspirar no pipeline do Visconde: https://github.com/neuralmind-ai/visconde\n"
      ],
      "metadata": {
        "id": "HbzwcTJfpNdg"
      }
    },
    {
      "cell_type": "markdown",
      "source": [
        "# Setup"
      ],
      "metadata": {
        "id": "ISn7AhlXfK0F"
      }
    },
    {
      "cell_type": "markdown",
      "source": [
        "## Hiperparâmetros"
      ],
      "metadata": {
        "id": "lEmdJSZfj7K5"
      }
    },
    {
      "cell_type": "code",
      "source": [
        "K_qa = 50\n",
        "K_BM25 = 1000\n",
        "K_rerank = 10\n",
        "dir_sentences = 'sentences'\n",
        "dir_indexes = 'indexes'\n",
        "model_name = 'cross-encoder/ms-marco-MiniLM-L-6-v2'"
      ],
      "metadata": {
        "id": "-jIgHwArj-iC"
      },
      "execution_count": 1,
      "outputs": []
    },
    {
      "cell_type": "markdown",
      "source": [
        "## Carregamento das libs"
      ],
      "metadata": {
        "id": "rGLbmuUMrQwp"
      }
    },
    {
      "cell_type": "code",
      "source": [
        "!pip install pyserini\n",
        "!pip install faiss-cpu\n",
        "!pip install transformers"
      ],
      "metadata": {
        "colab": {
          "base_uri": "https://localhost:8080/"
        },
        "id": "SK0W0uURrT7E",
        "outputId": "6b73ab80-9542-4668-c2a4-878b0a4b4191"
      },
      "execution_count": 2,
      "outputs": [
        {
          "output_type": "stream",
          "name": "stdout",
          "text": [
            "Looking in indexes: https://pypi.org/simple, https://us-python.pkg.dev/colab-wheels/public/simple/\n",
            "Collecting pyserini\n",
            "  Downloading pyserini-0.21.0-py3-none-any.whl (154.1 MB)\n",
            "\u001b[2K     \u001b[90m━━━━━━━━━━━━━━━━━━━━━━━━━━━━━━━━━━━━━━\u001b[0m \u001b[32m154.1/154.1 MB\u001b[0m \u001b[31m10.2 MB/s\u001b[0m eta \u001b[36m0:00:00\u001b[0m\n",
            "\u001b[?25hRequirement already satisfied: Cython>=0.29.21 in /usr/local/lib/python3.10/dist-packages (from pyserini) (0.29.34)\n",
            "Requirement already satisfied: numpy>=1.18.1 in /usr/local/lib/python3.10/dist-packages (from pyserini) (1.22.4)\n",
            "Requirement already satisfied: pandas>=1.4.0 in /usr/local/lib/python3.10/dist-packages (from pyserini) (1.5.3)\n",
            "Collecting pyjnius>=1.4.0 (from pyserini)\n",
            "  Downloading pyjnius-1.5.0-cp310-cp310-manylinux_2_17_x86_64.manylinux2014_x86_64.whl (1.4 MB)\n",
            "\u001b[2K     \u001b[90m━━━━━━━━━━━━━━━━━━━━━━━━━━━━━━━━━━━━━━━━\u001b[0m \u001b[32m1.4/1.4 MB\u001b[0m \u001b[31m68.9 MB/s\u001b[0m eta \u001b[36m0:00:00\u001b[0m\n",
            "\u001b[?25hRequirement already satisfied: scikit-learn>=0.22.1 in /usr/local/lib/python3.10/dist-packages (from pyserini) (1.2.2)\n",
            "Requirement already satisfied: scipy>=1.4.1 in /usr/local/lib/python3.10/dist-packages (from pyserini) (1.10.1)\n",
            "Requirement already satisfied: tqdm in /usr/local/lib/python3.10/dist-packages (from pyserini) (4.65.0)\n",
            "Collecting transformers>=4.6.0 (from pyserini)\n",
            "  Downloading transformers-4.29.2-py3-none-any.whl (7.1 MB)\n",
            "\u001b[2K     \u001b[90m━━━━━━━━━━━━━━━━━━━━━━━━━━━━━━━━━━━━━━━━\u001b[0m \u001b[32m7.1/7.1 MB\u001b[0m \u001b[31m103.7 MB/s\u001b[0m eta \u001b[36m0:00:00\u001b[0m\n",
            "\u001b[?25hCollecting sentencepiece>=0.1.95 (from pyserini)\n",
            "  Downloading sentencepiece-0.1.99-cp310-cp310-manylinux_2_17_x86_64.manylinux2014_x86_64.whl (1.3 MB)\n",
            "\u001b[2K     \u001b[90m━━━━━━━━━━━━━━━━━━━━━━━━━━━━━━━━━━━━━━━━\u001b[0m \u001b[32m1.3/1.3 MB\u001b[0m \u001b[31m77.1 MB/s\u001b[0m eta \u001b[36m0:00:00\u001b[0m\n",
            "\u001b[?25hCollecting nmslib>=2.1.1 (from pyserini)\n",
            "  Downloading nmslib-2.1.1.tar.gz (188 kB)\n",
            "\u001b[2K     \u001b[90m━━━━━━━━━━━━━━━━━━━━━━━━━━━━━━━━━━━━━━\u001b[0m \u001b[32m188.7/188.7 kB\u001b[0m \u001b[31m23.4 MB/s\u001b[0m eta \u001b[36m0:00:00\u001b[0m\n",
            "\u001b[?25h  Preparing metadata (setup.py) ... \u001b[?25l\u001b[?25hdone\n",
            "Collecting onnxruntime>=1.8.1 (from pyserini)\n",
            "  Downloading onnxruntime-1.14.1-cp310-cp310-manylinux_2_27_x86_64.whl (5.0 MB)\n",
            "\u001b[2K     \u001b[90m━━━━━━━━━━━━━━━━━━━━━━━━━━━━━━━━━━━━━━━━\u001b[0m \u001b[32m5.0/5.0 MB\u001b[0m \u001b[31m103.9 MB/s\u001b[0m eta \u001b[36m0:00:00\u001b[0m\n",
            "\u001b[?25hRequirement already satisfied: lightgbm>=3.3.2 in /usr/local/lib/python3.10/dist-packages (from pyserini) (3.3.5)\n",
            "Requirement already satisfied: spacy>=3.2.1 in /usr/local/lib/python3.10/dist-packages (from pyserini) (3.5.2)\n",
            "Requirement already satisfied: pyyaml in /usr/local/lib/python3.10/dist-packages (from pyserini) (6.0)\n",
            "Requirement already satisfied: wheel in /usr/local/lib/python3.10/dist-packages (from lightgbm>=3.3.2->pyserini) (0.40.0)\n",
            "Collecting pybind11<2.6.2 (from nmslib>=2.1.1->pyserini)\n",
            "  Using cached pybind11-2.6.1-py2.py3-none-any.whl (188 kB)\n",
            "Requirement already satisfied: psutil in /usr/local/lib/python3.10/dist-packages (from nmslib>=2.1.1->pyserini) (5.9.5)\n",
            "Collecting coloredlogs (from onnxruntime>=1.8.1->pyserini)\n",
            "  Downloading coloredlogs-15.0.1-py2.py3-none-any.whl (46 kB)\n",
            "\u001b[2K     \u001b[90m━━━━━━━━━━━━━━━━━━━━━━━━━━━━━━━━━━━━━━━━\u001b[0m \u001b[32m46.0/46.0 kB\u001b[0m \u001b[31m6.4 MB/s\u001b[0m eta \u001b[36m0:00:00\u001b[0m\n",
            "\u001b[?25hRequirement already satisfied: flatbuffers in /usr/local/lib/python3.10/dist-packages (from onnxruntime>=1.8.1->pyserini) (23.3.3)\n",
            "Requirement already satisfied: packaging in /usr/local/lib/python3.10/dist-packages (from onnxruntime>=1.8.1->pyserini) (23.1)\n",
            "Requirement already satisfied: protobuf in /usr/local/lib/python3.10/dist-packages (from onnxruntime>=1.8.1->pyserini) (3.20.3)\n",
            "Requirement already satisfied: sympy in /usr/local/lib/python3.10/dist-packages (from onnxruntime>=1.8.1->pyserini) (1.11.1)\n",
            "Requirement already satisfied: python-dateutil>=2.8.1 in /usr/local/lib/python3.10/dist-packages (from pandas>=1.4.0->pyserini) (2.8.2)\n",
            "Requirement already satisfied: pytz>=2020.1 in /usr/local/lib/python3.10/dist-packages (from pandas>=1.4.0->pyserini) (2022.7.1)\n",
            "Requirement already satisfied: joblib>=1.1.1 in /usr/local/lib/python3.10/dist-packages (from scikit-learn>=0.22.1->pyserini) (1.2.0)\n",
            "Requirement already satisfied: threadpoolctl>=2.0.0 in /usr/local/lib/python3.10/dist-packages (from scikit-learn>=0.22.1->pyserini) (3.1.0)\n",
            "Requirement already satisfied: spacy-legacy<3.1.0,>=3.0.11 in /usr/local/lib/python3.10/dist-packages (from spacy>=3.2.1->pyserini) (3.0.12)\n",
            "Requirement already satisfied: spacy-loggers<2.0.0,>=1.0.0 in /usr/local/lib/python3.10/dist-packages (from spacy>=3.2.1->pyserini) (1.0.4)\n",
            "Requirement already satisfied: murmurhash<1.1.0,>=0.28.0 in /usr/local/lib/python3.10/dist-packages (from spacy>=3.2.1->pyserini) (1.0.9)\n",
            "Requirement already satisfied: cymem<2.1.0,>=2.0.2 in /usr/local/lib/python3.10/dist-packages (from spacy>=3.2.1->pyserini) (2.0.7)\n",
            "Requirement already satisfied: preshed<3.1.0,>=3.0.2 in /usr/local/lib/python3.10/dist-packages (from spacy>=3.2.1->pyserini) (3.0.8)\n",
            "Requirement already satisfied: thinc<8.2.0,>=8.1.8 in /usr/local/lib/python3.10/dist-packages (from spacy>=3.2.1->pyserini) (8.1.9)\n",
            "Requirement already satisfied: wasabi<1.2.0,>=0.9.1 in /usr/local/lib/python3.10/dist-packages (from spacy>=3.2.1->pyserini) (1.1.1)\n",
            "Requirement already satisfied: srsly<3.0.0,>=2.4.3 in /usr/local/lib/python3.10/dist-packages (from spacy>=3.2.1->pyserini) (2.4.6)\n",
            "Requirement already satisfied: catalogue<2.1.0,>=2.0.6 in /usr/local/lib/python3.10/dist-packages (from spacy>=3.2.1->pyserini) (2.0.8)\n",
            "Requirement already satisfied: typer<0.8.0,>=0.3.0 in /usr/local/lib/python3.10/dist-packages (from spacy>=3.2.1->pyserini) (0.7.0)\n",
            "Requirement already satisfied: pathy>=0.10.0 in /usr/local/lib/python3.10/dist-packages (from spacy>=3.2.1->pyserini) (0.10.1)\n",
            "Requirement already satisfied: smart-open<7.0.0,>=5.2.1 in /usr/local/lib/python3.10/dist-packages (from spacy>=3.2.1->pyserini) (6.3.0)\n",
            "Requirement already satisfied: requests<3.0.0,>=2.13.0 in /usr/local/lib/python3.10/dist-packages (from spacy>=3.2.1->pyserini) (2.27.1)\n",
            "Requirement already satisfied: pydantic!=1.8,!=1.8.1,<1.11.0,>=1.7.4 in /usr/local/lib/python3.10/dist-packages (from spacy>=3.2.1->pyserini) (1.10.7)\n",
            "Requirement already satisfied: jinja2 in /usr/local/lib/python3.10/dist-packages (from spacy>=3.2.1->pyserini) (3.1.2)\n",
            "Requirement already satisfied: setuptools in /usr/local/lib/python3.10/dist-packages (from spacy>=3.2.1->pyserini) (67.7.2)\n",
            "Requirement already satisfied: langcodes<4.0.0,>=3.2.0 in /usr/local/lib/python3.10/dist-packages (from spacy>=3.2.1->pyserini) (3.3.0)\n",
            "Requirement already satisfied: filelock in /usr/local/lib/python3.10/dist-packages (from transformers>=4.6.0->pyserini) (3.12.0)\n",
            "Collecting huggingface-hub<1.0,>=0.14.1 (from transformers>=4.6.0->pyserini)\n",
            "  Downloading huggingface_hub-0.14.1-py3-none-any.whl (224 kB)\n",
            "\u001b[2K     \u001b[90m━━━━━━━━━━━━━━━━━━━━━━━━━━━━━━━━━━━━━━\u001b[0m \u001b[32m224.5/224.5 kB\u001b[0m \u001b[31m26.3 MB/s\u001b[0m eta \u001b[36m0:00:00\u001b[0m\n",
            "\u001b[?25hRequirement already satisfied: regex!=2019.12.17 in /usr/local/lib/python3.10/dist-packages (from transformers>=4.6.0->pyserini) (2022.10.31)\n",
            "Collecting tokenizers!=0.11.3,<0.14,>=0.11.1 (from transformers>=4.6.0->pyserini)\n",
            "  Downloading tokenizers-0.13.3-cp310-cp310-manylinux_2_17_x86_64.manylinux2014_x86_64.whl (7.8 MB)\n",
            "\u001b[2K     \u001b[90m━━━━━━━━━━━━━━━━━━━━━━━━━━━━━━━━━━━━━━━━\u001b[0m \u001b[32m7.8/7.8 MB\u001b[0m \u001b[31m103.5 MB/s\u001b[0m eta \u001b[36m0:00:00\u001b[0m\n",
            "\u001b[?25hRequirement already satisfied: fsspec in /usr/local/lib/python3.10/dist-packages (from huggingface-hub<1.0,>=0.14.1->transformers>=4.6.0->pyserini) (2023.4.0)\n",
            "Requirement already satisfied: typing-extensions>=3.7.4.3 in /usr/local/lib/python3.10/dist-packages (from huggingface-hub<1.0,>=0.14.1->transformers>=4.6.0->pyserini) (4.5.0)\n",
            "Requirement already satisfied: six>=1.5 in /usr/local/lib/python3.10/dist-packages (from python-dateutil>=2.8.1->pandas>=1.4.0->pyserini) (1.16.0)\n",
            "Requirement already satisfied: urllib3<1.27,>=1.21.1 in /usr/local/lib/python3.10/dist-packages (from requests<3.0.0,>=2.13.0->spacy>=3.2.1->pyserini) (1.26.15)\n",
            "Requirement already satisfied: certifi>=2017.4.17 in /usr/local/lib/python3.10/dist-packages (from requests<3.0.0,>=2.13.0->spacy>=3.2.1->pyserini) (2022.12.7)\n",
            "Requirement already satisfied: charset-normalizer~=2.0.0 in /usr/local/lib/python3.10/dist-packages (from requests<3.0.0,>=2.13.0->spacy>=3.2.1->pyserini) (2.0.12)\n",
            "Requirement already satisfied: idna<4,>=2.5 in /usr/local/lib/python3.10/dist-packages (from requests<3.0.0,>=2.13.0->spacy>=3.2.1->pyserini) (3.4)\n",
            "Requirement already satisfied: blis<0.8.0,>=0.7.8 in /usr/local/lib/python3.10/dist-packages (from thinc<8.2.0,>=8.1.8->spacy>=3.2.1->pyserini) (0.7.9)\n",
            "Requirement already satisfied: confection<1.0.0,>=0.0.1 in /usr/local/lib/python3.10/dist-packages (from thinc<8.2.0,>=8.1.8->spacy>=3.2.1->pyserini) (0.0.4)\n",
            "Requirement already satisfied: click<9.0.0,>=7.1.1 in /usr/local/lib/python3.10/dist-packages (from typer<0.8.0,>=0.3.0->spacy>=3.2.1->pyserini) (8.1.3)\n",
            "Collecting humanfriendly>=9.1 (from coloredlogs->onnxruntime>=1.8.1->pyserini)\n",
            "  Downloading humanfriendly-10.0-py2.py3-none-any.whl (86 kB)\n",
            "\u001b[2K     \u001b[90m━━━━━━━━━━━━━━━━━━━━━━━━━━━━━━━━━━━━━━━━\u001b[0m \u001b[32m86.8/86.8 kB\u001b[0m \u001b[31m11.6 MB/s\u001b[0m eta \u001b[36m0:00:00\u001b[0m\n",
            "\u001b[?25hRequirement already satisfied: MarkupSafe>=2.0 in /usr/local/lib/python3.10/dist-packages (from jinja2->spacy>=3.2.1->pyserini) (2.1.2)\n",
            "Requirement already satisfied: mpmath>=0.19 in /usr/local/lib/python3.10/dist-packages (from sympy->onnxruntime>=1.8.1->pyserini) (1.3.0)\n",
            "Building wheels for collected packages: nmslib\n",
            "  Building wheel for nmslib (setup.py) ... \u001b[?25l\u001b[?25hdone\n",
            "  Created wheel for nmslib: filename=nmslib-2.1.1-cp310-cp310-linux_x86_64.whl size=13494624 sha256=cf76b0cc70b2dffdb2562febf6f661138a3c1e7de89c3b40e01eeda30449e34b\n",
            "  Stored in directory: /root/.cache/pip/wheels/21/1a/5d/4cc754a5b1a88405cad184b76f823897a63a8d19afcd4b9314\n",
            "Successfully built nmslib\n",
            "Installing collected packages: tokenizers, sentencepiece, pyjnius, pybind11, humanfriendly, nmslib, huggingface-hub, coloredlogs, transformers, onnxruntime, pyserini\n",
            "Successfully installed coloredlogs-15.0.1 huggingface-hub-0.14.1 humanfriendly-10.0 nmslib-2.1.1 onnxruntime-1.14.1 pybind11-2.6.1 pyjnius-1.5.0 pyserini-0.21.0 sentencepiece-0.1.99 tokenizers-0.13.3 transformers-4.29.2\n",
            "Looking in indexes: https://pypi.org/simple, https://us-python.pkg.dev/colab-wheels/public/simple/\n",
            "Collecting faiss-cpu\n",
            "  Downloading faiss_cpu-1.7.4-cp310-cp310-manylinux_2_17_x86_64.manylinux2014_x86_64.whl (17.6 MB)\n",
            "\u001b[2K     \u001b[90m━━━━━━━━━━━━━━━━━━━━━━━━━━━━━━━━━━━━━━━━\u001b[0m \u001b[32m17.6/17.6 MB\u001b[0m \u001b[31m81.3 MB/s\u001b[0m eta \u001b[36m0:00:00\u001b[0m\n",
            "\u001b[?25hInstalling collected packages: faiss-cpu\n",
            "Successfully installed faiss-cpu-1.7.4\n",
            "Looking in indexes: https://pypi.org/simple, https://us-python.pkg.dev/colab-wheels/public/simple/\n",
            "Requirement already satisfied: transformers in /usr/local/lib/python3.10/dist-packages (4.29.2)\n",
            "Requirement already satisfied: filelock in /usr/local/lib/python3.10/dist-packages (from transformers) (3.12.0)\n",
            "Requirement already satisfied: huggingface-hub<1.0,>=0.14.1 in /usr/local/lib/python3.10/dist-packages (from transformers) (0.14.1)\n",
            "Requirement already satisfied: numpy>=1.17 in /usr/local/lib/python3.10/dist-packages (from transformers) (1.22.4)\n",
            "Requirement already satisfied: packaging>=20.0 in /usr/local/lib/python3.10/dist-packages (from transformers) (23.1)\n",
            "Requirement already satisfied: pyyaml>=5.1 in /usr/local/lib/python3.10/dist-packages (from transformers) (6.0)\n",
            "Requirement already satisfied: regex!=2019.12.17 in /usr/local/lib/python3.10/dist-packages (from transformers) (2022.10.31)\n",
            "Requirement already satisfied: requests in /usr/local/lib/python3.10/dist-packages (from transformers) (2.27.1)\n",
            "Requirement already satisfied: tokenizers!=0.11.3,<0.14,>=0.11.1 in /usr/local/lib/python3.10/dist-packages (from transformers) (0.13.3)\n",
            "Requirement already satisfied: tqdm>=4.27 in /usr/local/lib/python3.10/dist-packages (from transformers) (4.65.0)\n",
            "Requirement already satisfied: fsspec in /usr/local/lib/python3.10/dist-packages (from huggingface-hub<1.0,>=0.14.1->transformers) (2023.4.0)\n",
            "Requirement already satisfied: typing-extensions>=3.7.4.3 in /usr/local/lib/python3.10/dist-packages (from huggingface-hub<1.0,>=0.14.1->transformers) (4.5.0)\n",
            "Requirement already satisfied: urllib3<1.27,>=1.21.1 in /usr/local/lib/python3.10/dist-packages (from requests->transformers) (1.26.15)\n",
            "Requirement already satisfied: certifi>=2017.4.17 in /usr/local/lib/python3.10/dist-packages (from requests->transformers) (2022.12.7)\n",
            "Requirement already satisfied: charset-normalizer~=2.0.0 in /usr/local/lib/python3.10/dist-packages (from requests->transformers) (2.0.12)\n",
            "Requirement already satisfied: idna<4,>=2.5 in /usr/local/lib/python3.10/dist-packages (from requests->transformers) (3.4)\n"
          ]
        }
      ]
    },
    {
      "cell_type": "markdown",
      "source": [
        "## Importação das libs"
      ],
      "metadata": {
        "id": "I7K8BFlxfNkG"
      }
    },
    {
      "cell_type": "code",
      "source": [
        "import json\n",
        "import numpy as np\n",
        "import pandas as pd\n",
        "import pickle\n",
        "import random\n",
        "import re\n",
        "import spacy\n",
        "import torch\n",
        "\n",
        "from pyserini.index import IndexReader\n",
        "from pyserini.search.lucene import LuceneSearcher\n",
        "from torch.utils.data import Dataset, DataLoader\n",
        "from tqdm import tqdm\n",
        "from transformers import AutoTokenizer, AutoModelForSequenceClassification, BatchEncoding"
      ],
      "metadata": {
        "id": "RC-okhVQfPhp"
      },
      "execution_count": 3,
      "outputs": []
    },
    {
      "cell_type": "markdown",
      "source": [
        "## Geração das sementes"
      ],
      "metadata": {
        "id": "zSydcI3okcbe"
      }
    },
    {
      "cell_type": "code",
      "source": [
        "random.seed(42)"
      ],
      "metadata": {
        "id": "_bNdcvSdkane"
      },
      "execution_count": 4,
      "outputs": []
    },
    {
      "cell_type": "markdown",
      "source": [
        "## Criação de pastas"
      ],
      "metadata": {
        "id": "tIYAg8fcn1_Q"
      }
    },
    {
      "cell_type": "code",
      "source": [
        "import locale\n",
        "def getpreferredencoding(do_setlocale = True):\n",
        "    return \"UTF-8\"\n",
        "locale.getpreferredencoding = getpreferredencoding"
      ],
      "metadata": {
        "id": "AAqdck3zGiQS"
      },
      "execution_count": 5,
      "outputs": []
    },
    {
      "cell_type": "code",
      "source": [
        "!mkdir $dir_sentences\n",
        "!mkdir $dir_indexes"
      ],
      "metadata": {
        "id": "iGWDp4rjnwCo"
      },
      "execution_count": 6,
      "outputs": []
    },
    {
      "cell_type": "markdown",
      "source": [
        "## Utilização de GPUs"
      ],
      "metadata": {
        "id": "8R_dq-Wa55Z2"
      }
    },
    {
      "cell_type": "code",
      "source": [
        "if torch.cuda.is_available(): \n",
        "   dev = \"cuda:0\"\n",
        "else: \n",
        "   dev = \"cpu\"\n",
        "device = torch.device(dev)\n",
        "print('Using {}'.format(device))"
      ],
      "metadata": {
        "id": "TaDjyF5b57WG",
        "colab": {
          "base_uri": "https://localhost:8080/"
        },
        "outputId": "d17803ed-1ee9-4604-cd35-8bf66ee8c594"
      },
      "execution_count": 7,
      "outputs": [
        {
          "output_type": "stream",
          "name": "stdout",
          "text": [
            "Using cuda:0\n"
          ]
        }
      ]
    },
    {
      "cell_type": "code",
      "source": [
        "if dev != 'cpu':\n",
        "    !nvidia-smi"
      ],
      "metadata": {
        "id": "qgQOZA7E599x",
        "colab": {
          "base_uri": "https://localhost:8080/"
        },
        "outputId": "22d511a7-8e7f-47f9-ded1-e585276bef24"
      },
      "execution_count": 8,
      "outputs": [
        {
          "output_type": "stream",
          "name": "stdout",
          "text": [
            "Wed May 17 23:50:54 2023       \n",
            "+-----------------------------------------------------------------------------+\n",
            "| NVIDIA-SMI 525.85.12    Driver Version: 525.85.12    CUDA Version: 12.0     |\n",
            "|-------------------------------+----------------------+----------------------+\n",
            "| GPU  Name        Persistence-M| Bus-Id        Disp.A | Volatile Uncorr. ECC |\n",
            "| Fan  Temp  Perf  Pwr:Usage/Cap|         Memory-Usage | GPU-Util  Compute M. |\n",
            "|                               |                      |               MIG M. |\n",
            "|===============================+======================+======================|\n",
            "|   0  NVIDIA A100-SXM...  Off  | 00000000:00:04.0 Off |                    0 |\n",
            "| N/A   30C    P0    49W / 400W |    717MiB / 40960MiB |      0%      Default |\n",
            "|                               |                      |             Disabled |\n",
            "+-------------------------------+----------------------+----------------------+\n",
            "                                                                               \n",
            "+-----------------------------------------------------------------------------+\n",
            "| Processes:                                                                  |\n",
            "|  GPU   GI   CI        PID   Type   Process name                  GPU Memory |\n",
            "|        ID   ID                                                   Usage      |\n",
            "|=============================================================================|\n",
            "+-----------------------------------------------------------------------------+\n"
          ]
        }
      ]
    },
    {
      "cell_type": "markdown",
      "source": [
        "# Preparação dos dados"
      ],
      "metadata": {
        "id": "P50_2b8TfINr"
      }
    },
    {
      "cell_type": "markdown",
      "source": [
        "## Extração do dataset IIRC\n",
        "\n",
        "- [Base](https://github.com/jferguson144/IIRC-baseline)\n",
        "- [Instruções](https://github.com/jferguson144/IIRC-baseline/blob/main/setup.sh) "
      ],
      "metadata": {
        "id": "b_ZV68PBdQ-M"
      }
    },
    {
      "cell_type": "code",
      "execution_count": 9,
      "metadata": {
        "id": "I59P4miac73W",
        "colab": {
          "base_uri": "https://localhost:8080/"
        },
        "outputId": "798d7f8c-bbfb-4618-e2b5-13518d0f9826"
      },
      "outputs": [
        {
          "output_type": "stream",
          "name": "stdout",
          "text": [
            "--2023-05-17 23:50:54--  http://jamesf-incomplete-qa.s3.amazonaws.com/iirc.tar.gz\n",
            "Resolving jamesf-incomplete-qa.s3.amazonaws.com (jamesf-incomplete-qa.s3.amazonaws.com)... 52.92.241.9, 52.92.194.17, 52.92.196.169, ...\n",
            "Connecting to jamesf-incomplete-qa.s3.amazonaws.com (jamesf-incomplete-qa.s3.amazonaws.com)|52.92.241.9|:80... connected.\n",
            "HTTP request sent, awaiting response... 200 OK\n",
            "Length: 5713947 (5.4M) [application/x-gzip]\n",
            "Saving to: ‘iirc.tar.gz’\n",
            "\n",
            "iirc.tar.gz         100%[===================>]   5.45M  10.6MB/s    in 0.5s    \n",
            "\n",
            "2023-05-17 23:50:55 (10.6 MB/s) - ‘iirc.tar.gz’ saved [5713947/5713947]\n",
            "\n"
          ]
        }
      ],
      "source": [
        "!wget -nc http://jamesf-incomplete-qa.s3.amazonaws.com/iirc.tar.gz"
      ]
    },
    {
      "cell_type": "code",
      "source": [
        "!tar -xzf iirc.tar.gz"
      ],
      "metadata": {
        "id": "LW2Cvj3-dFA1"
      },
      "execution_count": 10,
      "outputs": []
    },
    {
      "cell_type": "code",
      "source": [
        "!head -48 iirc/dev.json"
      ],
      "metadata": {
        "id": "-QUPxRPjeHqB",
        "colab": {
          "base_uri": "https://localhost:8080/"
        },
        "outputId": "b217c8fc-1c24-4094-cc89-1c8db4107508"
      },
      "execution_count": 11,
      "outputs": [
        {
          "output_type": "stream",
          "name": "stdout",
          "text": [
            "[\n",
            "  {\n",
            "    \"pid\": \"p_4754\",\n",
            "    \"questions\": [\n",
            "      {\n",
            "        \"answer\": {\n",
            "          \"type\": \"span\",\n",
            "          \"answer_spans\": [\n",
            "            {\n",
            "              \"start\": 141,\n",
            "              \"end\": 152,\n",
            "              \"text\": \"Switzerland\",\n",
            "              \"passage\": \"university of geneva\"\n",
            "            }\n",
            "          ]\n",
            "        },\n",
            "        \"question\": \"In what country did Bain attend doctoral seminars of Wlad Godzich?\",\n",
            "        \"question_links\": [\n",
            "          \"University of Geneva\"\n",
            "        ],\n",
            "        \"qid\": \"q_10839\",\n",
            "        \"context\": [\n",
            "          {\n",
            "            \"passage\": \"main\",\n",
            "            \"text\": \"and later attended the doctoral seminars of Wlad Godzich in the University of Geneva.\",\n",
            "            \"indices\": [\n",
            "              705,\n",
            "              790\n",
            "            ]\n",
            "          },\n",
            "          {\n",
            "            \"passage\": \"main\",\n",
            "            \"text\": \"He completed M. Phil at the Geneva-based IUEE (Institute for European Studies), and later attended the doctoral seminars of Wlad Godzich in the University of Geneva.\",\n",
            "            \"indices\": [\n",
            "              625,\n",
            "              790\n",
            "            ]\n",
            "          },\n",
            "          {\n",
            "            \"passage\": \"University of Geneva\",\n",
            "            \"text\": \"The University of Geneva (French: Universit\\u00e9 de Gen\\u00e8ve) is a public research university located in Geneva, Switzerland.\",\n",
            "            \"indices\": [\n",
            "              0,\n",
            "              119\n",
            "            ]\n",
            "          }\n",
            "        ]\n",
            "      },\n"
          ]
        }
      ]
    },
    {
      "cell_type": "markdown",
      "source": [
        "## Extração dos artigos"
      ],
      "metadata": {
        "id": "dMC-3z3Ne82v"
      }
    },
    {
      "cell_type": "code",
      "source": [
        "!wget -nc http://jamesf-incomplete-qa.s3.amazonaws.com/context_articles.tar.gz"
      ],
      "metadata": {
        "id": "emnzMlS1c8fs",
        "colab": {
          "base_uri": "https://localhost:8080/"
        },
        "outputId": "f38a672e-3d0c-4fdc-995b-d397c9d363e9"
      },
      "execution_count": 12,
      "outputs": [
        {
          "output_type": "stream",
          "name": "stdout",
          "text": [
            "--2023-05-17 23:50:55--  http://jamesf-incomplete-qa.s3.amazonaws.com/context_articles.tar.gz\n",
            "Resolving jamesf-incomplete-qa.s3.amazonaws.com (jamesf-incomplete-qa.s3.amazonaws.com)... 52.218.194.2, 52.92.241.241, 52.92.227.81, ...\n",
            "Connecting to jamesf-incomplete-qa.s3.amazonaws.com (jamesf-incomplete-qa.s3.amazonaws.com)|52.218.194.2|:80... connected.\n",
            "HTTP request sent, awaiting response... 200 OK\n",
            "Length: 385263479 (367M) [application/x-gzip]\n",
            "Saving to: ‘context_articles.tar.gz’\n",
            "\n",
            "context_articles.ta 100%[===================>] 367.42M  47.9MB/s    in 8.0s    \n",
            "\n",
            "2023-05-17 23:51:04 (45.7 MB/s) - ‘context_articles.tar.gz’ saved [385263479/385263479]\n",
            "\n"
          ]
        }
      ]
    },
    {
      "cell_type": "code",
      "source": [
        "!tar -xzf context_articles.tar.gz"
      ],
      "metadata": {
        "id": "MeTSPzJ9dwpf"
      },
      "execution_count": 13,
      "outputs": []
    },
    {
      "cell_type": "code",
      "source": [
        "!head context_articles.json"
      ],
      "metadata": {
        "id": "Xf3cLCWKdxuF",
        "colab": {
          "base_uri": "https://localhost:8080/"
        },
        "outputId": "e2be7e2c-2153-46d6-a263-497a2dcc680b"
      },
      "execution_count": 14,
      "outputs": [
        {
          "output_type": "stream",
          "name": "stdout",
          "text": [
            "{\n",
            "  \"san diego padres\": \"The San Diego Padres are an American <a href=\\\"professional%20baseball\\\">professional baseball</a> team based in <a href=\\\"San%20Diego\\\">San Diego</a>, <a href=\\\"California\\\">California</a>. They compete in <a href=\\\"Major%20League%20Baseball\\\">Major League Baseball</a> (MLB) as a member club of the <a href=\\\"National%20League\\\">National League</a> (NL) <a href=\\\"National%20League%20West\\\">West division</a>. Founded in <a href=\\\"1969%20San%20Diego%20Padres%20season\\\">1969</a>, the Padres have won two <a href=\\\"List%20of%20National%20League%20pennant%20winners\\\">NL pennants</a> \\u2014 in <a href=\\\"1984%20San%20Diego%20Padres%20season\\\">1984</a> and <a href=\\\"1998%20San%20Diego%20Padres%20season\\\">1998</a>, losing in the <a href=\\\"World%20Series\\\">World Series</a> both years. As of <a href=\\\"2017%20San%20Diego%20Padres%20season\\\">2018</a>, they have had 14 winning seasons in franchise history. The Padres are one of two Major League Baseball teams (the other being the <a href=\\\"Los%20Angeles%20Angels\\\">Los Angeles Angels</a>) in <a href=\\\"California\\\">California</a> to originate from that state; the <a href=\\\"Oakland%20Athletics\\\">Athletics</a> were originally from <a href=\\\"Philadelphia\\\">Philadelphia</a> (and moved to the state from <a href=\\\"Kansas%20City%2C%20Missouri\\\">Kansas City</a>), and the <a href=\\\"Los%20Angeles%20Dodgers\\\">Dodgers</a> and <a href=\\\"San%20Francisco%20Giants\\\">Giants</a> are originally from two New York City boroughs \\u2013 <a href=\\\"Brooklyn\\\">Brooklyn</a> and <a href=\\\"Manhattan\\\">Manhattan</a>, respectively. The Padres are the only MLB team that does not share its city with another franchise in the <a href=\\\"Major%20professional%20sports%20leagues%20in%20the%20United%20States%20and%20Canada\\\">four major American professional sports leagues</a>. The Padres are the only <a href=\\\"List%20of%20American%20and%20Canadian%20cities%20by%20number%20of%20major%20professional%20sports%20franchises%23List%20of%20teams%20by%20urban%20area\\\">major professional sports franchise</a> to be located in San Diego, following the <a href=\\\"Relocation%20of%20professional%20sports%20teams\\\">relocation</a> of the <a href=\\\"Los%20Angeles%20Chargers\\\">Chargers</a> to <a href=\\\"Los%20Angeles\\\">Los Angeles</a> in 2017. They are also the only franchise in the MLB not to have a <a href=\\\"no-hitter\\\">no-hitter</a>, having gone 8020 games without throwing one, a major league record to begin a franchise.\\n\\nMinor league team.The Padres adopted their name from the <a href=\\\"Pacific%20Coast%20League\\\">Pacific Coast League</a> team that arrived in San Diego in 1936. That minor league franchise won the PCL title in 1937, led by 18-year-old <a href=\\\"Ted%20Williams\\\">Ted Williams</a>, the future <a href=\\\"Baseball%20Hall%20of%20Fame\\\">Hall-of-Famer</a> who was a native of San Diego. The team's name, Spanish for \\\"fathers\\\", refers to the Spanish <a href=\\\"Franciscan\\\">Franciscan</a> <a href=\\\"friar\\\">friars</a> who founded <a href=\\\"Mission%20San%20Diego%20de%20Alcal%C3%A1\\\">San Diego</a> in 1769.\\n\\nMajor league team.In <a href=\\\"1969%20San%20Diego%20Padres%20season\\\">1969</a>, the Padres joined the ranks of <a href=\\\"Major%20League%20Baseball\\\">Major League Baseball</a> as one of four new expansion teams, along with the <a href=\\\"Montreal%20Expos\\\">Montreal Expos</a> (now the <a href=\\\"Washington%20Nationals\\\">Washington Nationals</a>), the <a href=\\\"Kansas%20City%20Royals\\\">Kansas City Royals</a>, and the <a href=\\\"Seattle%20Pilots\\\">Seattle Pilots</a> (now the <a href=\\\"Milwaukee%20Brewers\\\">Milwaukee Brewers</a>). Their original owner was <a href=\\\"C.%20Arnholt%20Smith\\\">C. Arnholt Smith</a>, a prominent San Diego businessman and former owner of the <a href=\\\"San%20Diego%20Padres%20%28PCL%29\\\">PCL Padres</a> whose interests included banking, tuna fishing, hotels, real estate and an airline. Despite initial excitement, the guidance of longtime baseball executives, Eddie Leishman and <a href=\\\"Buzzie%20Bavasi\\\">Buzzie Bavasi</a> as well as a new <a href=\\\"Qualcomm%20Stadium\\\">playing field</a>, the team struggled; the Padres finished in last place in each of its first six seasons in the <a href=\\\"National%20League%20West\\\">NL West</a>, losing 100 games or more four times. One of the few bright spots on the team during the early years was first baseman and slugger <a href=\\\"Nate%20Colbert\\\">Nate Colbert</a>, an expansion draftee from the <a href=\\\"Houston%20Astros\\\">Houston Astros</a> and still the Padres' career leader in home runs.\\n\\nThe team's fortunes gradually improved as they won five <a href=\\\"National%20League%20West\\\">National League West</a> titles and reached the <a href=\\\"World%20Series\\\">World Series</a> twice, in <a href=\\\"1984%20World%20Series\\\">1984</a> and in <a href=\\\"1998%20World%20Series\\\">1998</a>, but lost both times. The Padres' main draw during the 1980s and 1990s was <a href=\\\"Tony%20Gwynn\\\">Tony Gwynn</a>, who won eight league batting titles. They moved into their current stadium, <a href=\\\"Petco%20Park\\\">Petco Park</a>, in <a href=\\\"2004%20San%20Diego%20Padres%20season\\\">2004</a>.\\n\\nAs of 2019, the Padres are the only team in MLB yet to throw a no-hitter. On September 5, 1997, <a href=\\\"Andy%20Ashby\\\">Andy Ashby</a> took a no-hitter into the 9th inning, which is as close as the team has come to achieving this feat.\\n\\nSpring training.The team has played its spring training games at the <a href=\\\"Peoria%20Sports%20Complex\\\">Peoria Sports Complex</a> in <a href=\\\"Peoria%2C%20Arizona\\\">Peoria, Arizona</a> since 1994. They share the stadium with the <a href=\\\"Seattle%20Mariners\\\">Seattle Mariners</a>.\\n\\nFrom 1969 to 1993, the Padres held spring training in <a href=\\\"Yuma%2C%20Arizona\\\">Yuma, Arizona</a> at <a href=\\\"Desert%20Sun%20Stadium\\\">Desert Sun Stadium</a>. Due to the short driving distance and direct highway route (170 miles, all on <a href=\\\"Interstate%208\\\">Interstate 8</a>), Yuma was very popular with Padres fans, and many fans would travel by car from San Diego for spring training games. The move from Yuma to Peoria was very controversial, but was defended by the team as a reflection on the low quality of facilities in Yuma and the long travel necessary to play against other Arizona-based spring training teams (whose sites were all in the Phoenix and Tucson areas, both rather far from Yuma).\\n\\nLogos and colors.Throughout the team's history, the San Diego Padres have used multiple logos, uniform, and color combinations. Their first logo depicted a <a href=\\\"friar\\\">friar</a> swinging a bat with Padres written at the top while standing in a sun-like figure with San Diego Padres on the exterior of it. The \\\"Swinging Friar\\\" has popped up on the uniform on and off ever since. Although the \\\"Swinging Friar\\\" is no longer used as the primary logo, it remains as the <a href=\\\"mascot\\\">mascot</a> of the team and is now utilized as an alternate logo and on the uniform sleeve.\\n\\nIn 1985, the Padres switched to using a script-like logo in which <i>Padres</i> was written sloped up. That would later become a script logo for the Padres. The team's colors were changed to brown and orange and remained this way through the 1990 season.\\n\\nIn 1989, the Padres took the scripted Padres logo that was used from 1985 to 1988 and put it in a gray ring that read \\\"San Diego Baseball Club\\\" with a striped center. In 1991, the color of the ring was changed to silver, and the Padres script was changed from brown to blue. The logo only lasted one year, as the Padres changed their logo for the third time in three years, again by switching colors of the ring. The logo became a white ring with fewer stripes in the center and a darker blue Padres script with orange shadows. In 1991, the team's colors were also changed, to a combination of orange and navy blue.\\n\\nFor the 2002 season, the Padres removed the stripes off the home jersey and went with a white home jersey with a cleaner look. The pinstripe jerseys were worn as alternate jerseys on certain occasions throughout the 2002 season. The Padres kept this design for two seasons until their 2004 season, in which they moved into their new ballpark.\\n\\nThe logo was completely changed when the team changed stadiums between the 2003 and 2004 seasons, with the new logo looking similar to home plate with <i>San Diego</i> written in sand font at the top right corner and the Padres new script written completely across the center. Waves finished the bottom of the plate. Navy remained but a sandy beige replaced orange as a secondary color. The team's colors were also changed, to navy blue and sand brown. For the next seven seasons the Padres were the only team in Major League Baseball that did not have a gray jersey, with the team typically playing in either blue or sand jerseys on the road and white or blue jerseys at home. In 2009, the <i>San Diego</i> was removed from the top right corner of the logo and two years later, the away uniform changed from sand to gray.\\n\\nFor the 2012 season, the Padres unveiled a new primary logo, featuring the cap logo inside a navy blue circle with the words \\\"San Diego Padres Baseball Club\\\" adorning the outer circle. The \\\"swinging friar\\\" logo was recolored to the current colors of navy blue and white. Another secondary logo features the Padres script carried over from the previous year's primary logo below the depiction of <a href=\\\"Petco%20Park\\\">Petco Park</a> in sand and above the year of the team's first season (EST. 1969). Until 2015, the blue and sand version was used on the home uniform, while the blue and white version was used on the away and alternate uniforms.\\n\\nIn the 2016 season, the Padres wore a navy blue and yellow color scheme, similar to the one used on the <a href=\\\"2016%20Major%20League%20Baseball%20All-Star%20Game\\\">2016 Major League Baseball All-Star Game</a> logo. To coincide with the change, the Padres added a new brown and yellow alternate uniform to be worn mostly during Friday home games.\\n\\nFor the 2017 season, the Padres revealed a new color scheme and new jerseys for the second straight year. The yellow was scrapped from the home uniform and the team reverted to a navy blue-and-white combo. The word <i>Padres</i> returned to the front of the home uniform, but with a new script, while the script on the road uniform reverted to the <i>San Diego</i> wordmark style it used from 2004\\u201311. Despite this major change, the brown and yellow alternate uniform from the previous set was retained.\\n\\nThe club announced on January 25, 2019 that the original brown and gold colors would return for the <a href=\\\"2020%20Major%20League%20Baseball%20season\\\">2020 Major League Baseball season</a>. The new uniform designs featuring the brown and gold colors were officially unveiled on November 9. The team featured brown and gold on each of the three unveiled jerseys, including the return of pinstripes to the Padre home jersey for the first time since 2001 and a non-gray road jersey for the first time since 2010.\\n\\nMilitary appreciation.Starting in 1996, the Padres became the first national sports team to have an annual military appreciation event. Following in 2000, the Padres began wearing a <a href=\\\"Military%20camouflage\\\">camouflage</a> to honor the <a href=\\\"United%20States%20armed%20forces\\\">military</a>. The jersey will now have had seven different versions since. Starting in 2008, the Padres began wearing camouflage jerseys for every Sunday home game. They also wear these uniforms on Memorial Day, Independence Day, and Labor Day. For 2011, the Padres changed the camouflage design to a more modern \\\"digital\\\" design, using the <a href=\\\"MARPAT\\\">MARPAT</a> design after receiving permission from then-<a href=\\\"Commandant%20of%20the%20Marine%20Corps\\\">Commandant</a> <a href=\\\"James%20T.%20Conway\\\">Conway</a>, and dropped the green from the lettering and logo of the jersey. Green was replaced by a sand-olive color (also in the cap worn with the jersey). For 2016, to coincide with hosting the <a href=\\\"2016%20Major%20League%20Baseball%20All-Star%20Game\\\">2016 Major League Baseball All-Star Game</a>, the Padres changed the camouflage jersey once again; this time to navy blue, however, this design was only worn for one season as for 2017, the Padres switched the camouflage jersey to Marine, which was used through 2019. For 2020, the Padres will begin using two different camouflage jersey colors: green and sand-olive, both with the current <i>Padres</i> wordmark. Since 1995 Marine Recruits from the nearby <a href=\\\"Marine%20Corps%20Recruit%20Depot%20San%20Diego\\\">Marine Corps Recruit Depot</a> often visit the games en masse during Military Appreciation Day, in uniform, often filling entire sections in the upper deck of Petco Park. When they are present, the team commemorates this with a special Fourth Inning Stretch featuring the <a href=\\\"Marines%27%20Hymn\\\">Marine Hymn</a>. Through April 2005 over 60,000 marine recruits were hosted by the Padres. This is part of an extensive military outreach program, which also includes a series of Military Appreciation Night games, and <a href=\\\"Videotape\\\">game tapes</a> mailed to deployed <a href=\\\"United%20States%20Navy\\\">United States Navy</a> ships of the Pacific Fleet for onboard viewing (a large portion of the <a href=\\\"United%20States%20Pacific%20Fleet\\\">Pacific Fleet</a> is homeported in San Diego).\\n\\nThe <a href=\\\"San%20Diego%20County\\\">San Diego area</a> <a href=\\\"San%20Diego%23Defense%20and%20military\\\">is home to</a> a number of military installations, including several <a href=\\\"United%20States%20Navy\\\">Navy</a> and <a href=\\\"United%20States%20Coast%20Guard\\\">Coast Guard</a> bases centered on <a href=\\\"San%20Diego%20Bay\\\">San Diego Bay</a>, <a href=\\\"Marine%20Corps%20Air%20Station%20Miramar\\\">Marine Corps Air Station Miramar</a> (former home of the <a href=\\\"United%20States%20Navy%20Strike%20Fighter%20Tactics%20Instructor%20program\\\">\\\"Top Gun\\\"</a> training program), and the <a href=\\\"United%20States%20Marine%20Corps\\\">Marine Corps</a> training ground at <a href=\\\"Marine%20Corps%20Base%20Camp%20Pendleton\\\">Camp Pendleton</a>. Civilians employed at those bases account for around 5% of the county's working population.\\n\\nMascot.The \\\"Swinging Friar\\\" is currently the <a href=\\\"mascot\\\">mascot</a> of the team. Some in the past have confused <a href=\\\"The%20Famous%20Chicken\\\">The Famous Chicken</a> as the mascot of the Padres. Although he does make appearances occasionally at San Diego sporting events, he has never been the official mascot of any San Diego sports team.\\n\\nBaseball Hall of Famers.The following elected members of the <a href=\\\"National%20Baseball%20Hall%20of%20Fame%20and%20Museum\\\">Baseball Hall of Fame</a> played and/or managed for the Padres.\\nRetired numbers.The Padres have <a href=\\\"Squad%20number%23Retired%20numbers\\\">retired</a> six numbers. Five were in honor of Padre players and one was <a href=\\\"Jackie%20Robinson\\\">Jackie Robinson</a>'s number 42, which was retired by all of Major League Baseball. The retired numbers are displayed on the upper deck facade behind home plate.\\nThe Padres also have a \\\"star on the wall\\\" in honor of broadcaster <a href=\\\"Jerry%20Coleman\\\">Jerry Coleman</a>, in reference to his trademark phrase \\\"Oh Doctor! You can hang a star on that baby!\\\" Nearby the initials of the late owner <a href=\\\"Ray%20Kroc\\\">Ray Kroc</a> are also displayed. Both the star and the initials are painted in gold on the front of the pressbox down the right field line accompanied by the name of the person in white. Kroc was honored in 1984, Coleman in 2001.\\n\\nTeam Hall of Fame.The following 14 people have been inducted into the San Diego Padres Hall of Fame since it was founded in 1999.\\n\\nSan Diego Hall of Champions.Gwynn, Winfield, Fingers, Gossage, Randy Jones, and <a href=\\\"Graig%20Nettles\\\">Graig Nettles</a> (3B, 1984\\u20131987) are members of the <a href=\\\"San%20Diego%20Hall%20of%20Champions\\\">San Diego Hall of Champions</a>, which is open to athletes native to the San Diego area (such as Nettles) as well as to those who played for San Diego teams (such as Gwynn).\\n\\nRadio and television.Padres' games are currently televised by <a href=\\\"Fox%20Sports%20San%20Diego\\\">Fox Sports San Diego</a>. <a href=\\\"Don%20Orsillo\\\">Don Orsillo</a> is the play-by-play announcer, with <a href=\\\"Mark%20Grant%20%28baseball%29\\\">Mark Grant</a> as color analyst and either Julie Alexandria, Ron Zinter, or <a href=\\\"Bob%20Scanlan\\\">Bob Scanlan</a> as <a href=\\\"field%20reporter\\\">field reporter</a>. <a href=\\\"Mike%20Pomeranz\\\">Mike Pomeranz</a> hosts the <i>Padres Live</i> pre- and post-game show along with <a href=\\\"Mark%20Sweeney\\\">Mark Sweeney</a>.\\n\\nAs of the 2018 season, Padres radio broadcasts in English are carried by <a href=\\\"KWFN\\\">KWFN</a> <i>97.3 The Fan</i>, after having previously been carried by <a href=\\\"sister%20station\\\">sister station</a> 94.9 <a href=\\\"KBZT\\\">KBZT</a> upon the acquisition of the radio rights by <a href=\\\"Entercom\\\">Entercom</a> in 2017. <a href=\\\"Ted%20Leitner\\\">Ted Leitner</a> is the primary <a href=\\\"play-by-play\\\">play-by-play</a> announcer, with Jesse Agler working the middle innings of each game and Bob Scanlan serving as <a href=\\\"color%20analyst\\\">color analyst</a>. The games are also broadcast in Spanish on <a href=\\\"XEMO-AM\\\">XEMO-AM</a>,<i>La Poderosa 860 AM</i>, with Eduardo Ortega, Carlos Hern\\u00e1ndez and Pedro Guti\\u00e9rrez announcing. Padre games were also aired from 2006\\u20132010 on <a href=\\\"XHPRS-FM\\\">XHPRS-FM</a> 105.7.\\n\\nSpanish language telecasts of Sunday games are seen <a href=\\\"XHAS-TDT\\\">XHAS-TDT</a> channel 33. Until September 2007, Friday and Saturday games were seen in Spanish on <a href=\\\"KSEX-CD\\\">KBOP-CA</a> channel 43, until that station changed to an all-infomercial format. This makes XHAS-TDT the only over-the-air-television station carrying Padres baseball. English-language Padres over-the-air broadcasts aired through the years on <a href=\\\"XETV-TDT\\\">XETV-TV</a> 6, <a href=\\\"KNSD\\\">KCST-TV</a> 39, <a href=\\\"KUSI-TV\\\">KUSI-TV</a> 51, <a href=\\\"KFMB-TV\\\">KFMB-TV</a> 8 and <a href=\\\"KSWB-TV\\\">KSWB-TV</a> 69.\\n\\nJohn Demott was the Padres' first public address announcer when the team began in 1969. By the late 1970s Bruce Binkowski had taken over as PA announcer, and became the longest-serving public address announcer in the team's history, remaining until the end of the 1999 season. First DeMott and then Binkowski also were responsible with PA announcing duties for the <a href=\\\"History%20of%20the%20San%20Diego%20Chargers\\\">San Diego Chargers</a> and the <a href=\\\"San%20Diego%20State%20University\\\">San Diego State University</a> Aztecs, both of which were joint tenants at Qualcomm Stadium with the Padres until the Padres moved into <a href=\\\"Petco%20Park\\\">Petco Park</a>. From Petco Park's opening in 2004 until 2013, the PA announcer was Frank Anthony, a radio host with 105.7 <a href=\\\"XHPRS-FM\\\">XHPRS-FM</a>. On April 19, 2014, Alex Miniak was announced as the new Public Address announcer for the San Diego Padres. Miniak was formerly the PA announcer for the <a href=\\\"New%20Hampshire%20Fisher%20Cats\\\">New Hampshire Fisher Cats</a>, the Double-A affiliate of the <a href=\\\"Toronto%20Blue%20Jays\\\">Toronto Blue Jays</a>.\\n\\nThe San Diego Padres were first portrayed in the 1979 <a href=\\\"National%20Broadcasting%20Company\\\">NBC</a> made-for-TV film \\\"<a href=\\\"The%20Kid%20from%20Left%20Field%20%281979%20film%29\\\">The Kid from Left Field</a>,\\\" starring <a href=\\\"Gary%20Coleman\\\">Gary Coleman</a> as Jackie Robinson \\\"J.R.\\\" Cooper, a youngster who is passionate about baseball, and puts his knowledge to good use when he becomes the manager of the Padres and helps them lead to the <a href=\\\"World%20Series\\\">World Series</a>.\\n\\nIn 2016, the San Diego Padres were portrayed once again in the one-season <a href=\\\"Fox%20Broadcasting%20Company\\\">Fox</a> television series <i><a href=\\\"Pitch%20%28TV%20series%29\\\">Pitch</a></i>, starring <a href=\\\"Kylie%20Bunbury\\\">Kylie Bunbury</a> as Ginny Baker, the first female to play in Major League Baseball.\\n\\nEducational involvement.The San Diego Padres established The Padres Scholars program, the first of its kind among professional sports. Originally each Padres scholar was selected as a seventh grader and received a $5,000 scholarship after graduation from high school to go towards higher education. This program has reached 389 students from its establishment in 1995 to now. Over the past few years the program has undergone a few changes to be effective an education standpoint. This program focuses on creating a close relationship between the chosen scholars and the team. As of 2011, 3 high school seniors will be chosen to receive a $30,000 scholarship to be awarded through the course of their higher education. Maintaining this prestigious award is conditional on maintaining contact with the Padres and providing proof of good academic standing.\\n\\nThe San Diego Padres are the sponsors of and heavily involved in most aspects of the Sports Business Management MBA degree program offered in conjunction with <a href=\\\"San%20Diego%20State%20University\\\">San Diego State University</a>'s <a href=\\\"San%20Diego%20State%20University%20College%20of%20Business%20Administration\\\">College of Business Administration</a>. SDSU's Sports MBA is the only program of its kind created in partnership with a professional sports franchise. The curriculum focuses on the entire sports business industry, not just baseball. The program includes an internship. Members of Padres senior management regularly participate, including work with the development and continued coordination of SDSU's International Case Competition, which annually attracts participation from top business schools.\\n\\nSee also.<ul><li>- <i></i> \\u2013 Jerry Coleman's 2008 autobiography\\n</li></ul>\\n\\nExternal links.<ul><li>- <a href=\\\"http%3A//www.sportslogos.net/logos/list_by_team/73\\\">San Diego Padres Logos</a>\\n</li></ul>\\n\\n</doc>\\n\",\n",
            "  \"john bruce (historiographer)\": \"John Bruce of Grangehill and Falkland FRS <a href=\\\"FRSE\\\">FRSE</a> (1744\\u20131826) was a Scottish academic, politician and historiographer to the <a href=\\\"East%20India%20Company\\\">East India Company</a>.\\n\\nLife.He was born in <a href=\\\"Fife\\\">Fife</a> in 1744 or 1745 the son of Andrew Bruce (1710-1761) and Jean Squyre (1724-1794).\\n\\nWhile he had himself declared heir male of the family of Bruce of Earlshall, Bruce inherited from his father Andrew Bruce, a shipmaster, only the property of Grangehill, near <a href=\\\"Kinghorn\\\">Kinghorn</a>, <a href=\\\"Fifeshire\\\">Fifeshire</a>. He studied at the <a href=\\\"University%20of%20Edinburgh\\\">University of Edinburgh</a>, where he was then appointed assistant professor of logic to <a href=\\\"John%20Stevenson%20%28rhetorician%29\\\">John Stevenson</a>, and professor of moral philosophy.\\n\\nTutor to <a href=\\\"Robert%20Saunders%20Dundas\\\">Robert Saunders Dundas</a>, the son of <a href=\\\"Henry%20Dundas%2C%201st%20Viscount%20Melville\\\">Henry Dundas, 1st Viscount Melville</a>, Bruce was rewarded by a share, with <a href=\\\"Sir%20James%20Hunter%20Blair%2C%201st%20Baronet\\\">Sir James Hunter Blair, 1st Baronet</a> of the reversion of the patent of king's printer and stationer for Scotland; and was appointed keeper of the state paper office, secretary for the Latin language to the Privy Council, and official historiographer to the East India Company from 1801.\\n\\nHe was Member of Parliament for <a href=\\\"Mitchell%20%28UK%20Parliament%20constituency%29\\\">Mitchell</a>, Cornwall, from February 1809 till July 1814, and for a short time <a href=\\\"Secretary%20to%20the%20Board%20of%20Control\\\">Secretary to the Board of Control</a>, under Robert Dundas.\\n\\nBruce was an elected a fellow of the <a href=\\\"Royal%20Society%20of%20London\\\">Royal Society of London</a> in 1791. In 1783 he was a founding member of the <a href=\\\"Royal%20Society%20of%20Edinburgh\\\">Royal Society of Edinburgh</a>. He was also a fellow of the <a href=\\\"Royal%20Society%20of%20G%C3%B6ttingen\\\">Royal Society of G\\u00f6ttingen</a>. In 1764 he founded <a href=\\\"the%20Speculative%20Society\\\">the Speculative Society</a>.\\n\\nHe died at his home of Nuthill House in <a href=\\\"Fife\\\">Fife</a>, on 16 April 1826.\\n\\nFamily.His niece Margaret Bruce (1788-1869) married Onesiphorus Tyndall, thereafter titled Tyndall-Bruce (1790-1855). He rose to be Deputy Lieutenant of Fife.\\n\\nWorks.Bruce's works included some privately printed for confidential us the government:\\n\\n<ul><li>- <i>First Principles of Philosophy</i>, Edinburgh, 1780, 1781, 1785.\\n</li><li>- <i>Elements of the Science of Ethics, or the Principles of Natural Philosophy</i>, London, 1786.\\n</li><li>- <i>Historical View of Plans for the Government of British India</i>, 1793.\\n</li><li>- <i>Review of the Events and Treaties which established the Balance of Power in Europe, and the Balance of Trade in favour of Great Britain</i>, London, 1796.\\n</li><li>- <i>Report on the Arrangements which were made for the internal Defence of these Kingdoms when Spain by its Armada projected the Invasion and Conquest of England</i>, London, 1798; privately printed for the use of ministers at the time of a threatened French invasion. <a href=\\\"William%20Pitt%20the%20Younger\\\">William Pitt</a> based his measures of the provisional cavalry and army of reserve on this report.\\n</li><li>- <i>Report on the Events and Circumstances which produced the Union of the Kingdoms of England and Scotland; on the effects of this great National Event on the reciprocal interests of both Kingdoms; and on the political and commercial influence of Great Britain in the Balance of Power in Europe</i>, 2 vols., London [1799]. These papers were collected for the <a href=\\\"William%20Bentinck%2C%204th%20Duke%20of%20Portland\\\">Duke of Portland</a>, then secretary of state, when the union between Great Britain and Ireland came under consideration.\\n</li><li>- <i>Report on the Arrangements which have been adopted in former periods, when France threatened Invasions of Britain or Ireland, to frustrate the designs of the enemy by attacks on his foreign possessions or European ports, by annoying his coasts, and by destroying his equipments</i>, London [1801], privately printed for the government.\\n</li><li>- <i>Annals of the East India Company from their establishment by the Charter of Queen Elizabeth, 1600, to the union of the London and English East India Company, 1707\\u20138</i>, 3 vols., London, 1810.\\n</li><li>- <i>Report on the Renewal of the Company's Exclusive Privileges of Trade for twenty years from March 1794</i>, London, 1811.\\n</li><li>- <i>Speech in the Committee of the House of Commons on India Affairs</i>, London, 1813.\\n</li>Notes.</ul>Attribution\\n\\n\\n</doc>\\n\",\n",
            "  \"jack nicholson\": \"John Joseph Nicholson (born April 22, 1937) is an American actor and filmmaker. He is known for playing a wide range of starring or supporting roles, including comedy, romance, and darkly comic portrayals of anti-heroes and villainous characters. In many of his films, he played the \\\"eternal <a href=\\\"Outlaw%20%28stock%20character%29\\\">outsider</a>, the <a href=\\\"Sardonicism\\\">sardonic</a> <a href=\\\"Vagrancy\\\">drifter</a>\\\", someone who rebels against the social structure.\\n\\nHis most known and celebrated films include the road drama <i><a href=\\\"Easy%20Rider\\\">Easy Rider</a></i> (1969); the dramas <i><a href=\\\"Five%20Easy%20Pieces\\\">Five Easy Pieces</a></i> (1970) and <i><a href=\\\"One%20Flew%20Over%20the%20Cuckoo%27s%20Nest%20%28film%29\\\">One Flew Over the Cuckoo's Nest</a></i> (1975); the comedy-dramas <i><a href=\\\"Carnal%20Knowledge\\\">Carnal Knowledge</a></i> (1971), <i><a href=\\\"The%20Last%20Detail\\\">The Last Detail</a></i> (1973), <i><a href=\\\"Terms%20of%20Endearment\\\">Terms of Endearment</a></i> (1983), <i><a href=\\\"Prizzi%27s%20Honor\\\">Prizzi's Honor</a></i> (1985), <i><a href=\\\"As%20Good%20as%20It%20Gets\\\">As Good as It Gets</a></i> (1997), <i><a href=\\\"About%20Schmidt\\\">About Schmidt</a></i> (2002), and <i><a href=\\\"The%20Bucket%20List\\\">The Bucket List</a></i> (2007); the neo-noir mystery <i><a href=\\\"Chinatown%20%281974%20film%29\\\">Chinatown</a></i> (1974); the horror film <i><a href=\\\"The%20Shining%20%28film%29\\\">The Shining</a></i> (1980); the biopic <i><a href=\\\"Reds%20%28film%29\\\">Reds</a></i> (1981); the fantasy comedy <i><a href=\\\"The%20Witches%20of%20Eastwick%20%28film%29\\\">The Witches of Eastwick</a></i> (1987); the superhero film <i><a href=\\\"Batman%20%281989%20film%29\\\">Batman</a></i> (1989); the legal drama <i><a href=\\\"A%20Few%20Good%20Men\\\">A Few Good Men</a></i> (1992); the romantic horror film <i><a href=\\\"Wolf%20%281994%20film%29\\\">Wolf</a></i> (1994); the science fiction comedy <i><a href=\\\"Mars%20Attacks%21\\\">Mars Attacks!</a></i> (1996); the comedy <i><a href=\\\"Anger%20Management%20%28film%29\\\">Anger Management</a></i> (2003); the romantic comedy <i><a href=\\\"Something%27s%20Gotta%20Give%20%28film%29\\\">Something's Gotta Give</a></i> (2003); and the crime drama <i><a href=\\\"The%20Departed\\\">The Departed</a></i> (2006). He has also directed three films, including <i><a href=\\\"The%20Two%20Jakes\\\">The Two Jakes</a></i> (1990), the sequel to <i>Chinatown</i>.\\n\\nNicholson's twelve <a href=\\\"Academy%20Award\\\">Academy Award</a> nominations make him <a href=\\\"List%20of%20actors%20with%20two%20or%20more%20Academy%20Award%20nominations%20in%20acting%20categories\\\">the most nominated male actor in the Academy's history</a>. Nicholson has won the <a href=\\\"Academy%20Award%20for%20Best%20Actor\\\">Academy Award for Best Actor</a> twice \\u2013 one for the drama <i>One Flew Over the Cuckoo's Nest</i> (1975), and the other for the romantic comedy <i>As Good as It Gets</i> (1997). He also won the <a href=\\\"Academy%20Award%20for%20Best%20Supporting%20Actor\\\">Academy Award for Best Supporting Actor</a> for the comedy-drama <i>Terms of Endearment</i> (1983). Nicholson is one of three <a href=\\\"List%20of%20actors%20with%20two%20or%20more%20Academy%20Awards%20in%20acting%20categories\\\">male actors to win three Academy Awards</a>. Nicholson is one of only two actors to be nominated for an Academy Award for acting in every decade from the 1960s to the 2000s; the other is <a href=\\\"Michael%20Caine\\\">Michael Caine</a>. He has won six <a href=\\\"Golden%20Globe%20Award\\\">Golden Globe Awards</a> and received the <a href=\\\"Kennedy%20Center%20Honors\\\">Kennedy Center Honor</a> in 2001. In 1994, at 57, he became one of the youngest actors to be awarded the <a href=\\\"AFI%20Life%20Achievement%20Award\\\">American Film Institute's Life Achievement Award</a>.\\n\\nHe had a number of very high-profile relationships, most notably with <a href=\\\"Anjelica%20Huston\\\">Anjelica Huston</a> and with <a href=\\\"Rebecca%20Broussard\\\">Rebecca Broussard</a>, and was married to <a href=\\\"Sandra%20Knight\\\">Sandra Knight</a> from 1962 until their divorce in 1968. Nicholson has five children \\u2013 one with Knight, two with Broussard (including <a href=\\\"Lorraine%20Nicholson\\\">Lorraine Nicholson</a>), and one each with <a href=\\\"Susan%20Anspach\\\">Susan Anspach</a> and Winnie Hollman.\\n\\nEarly life.Nicholson was born on April 22, 1937, in <a href=\\\"Neptune%20City%2C%20New%20Jersey\\\">Neptune City, New Jersey</a>, the son of a <a href=\\\"showgirl\\\">showgirl</a>, June Frances Nicholson (stage name June Nilson; 1918\\u20131963). Nicholson's mother was of Irish, English, German, and Welsh descent. She married Italian-American showman Donald Furcillo (stage name Donald Rose; 1910\\u20131997) in 1936, before realizing that he was already married. Biographer Patrick McGilligan stated in his book <i>Jack's Life</i> that Latvian-born Eddie King (originally Edgar A. Kirschfeld), June's manager, may have been Nicholson's biological father, rather than Furcillo. Other sources suggest June Nicholson was unsure of the father's identity. As June was only seventeen years old and unmarried, her parents agreed to raise Nicholson as their own child without revealing his true parentage, and June would act as his sister.\\n\\nIn 1974, <i>Time</i> magazine researchers learned, and informed Nicholson, that his \\\"sister\\\", June, was actually his mother, and his other \\\"sister\\\", Lorraine, was really his aunt. By this time, both his mother and grandmother had died (in 1963 and 1970, respectively). On finding out, Nicholson said it was \\\"a pretty dramatic event, but it wasn't what I'd call traumatizing ... I was pretty well psychologically formed\\\".\\n\\nNicholson grew up in Neptune City. He was raised in his mother's <a href=\\\"Roman%20Catholic\\\">Roman Catholic</a> religion. Before starting high school, his family moved to an apartment in <a href=\\\"Spring%20Lake%2C%20New%20Jersey\\\">Spring Lake, New Jersey</a>. \\\"When Jack was ready for high school, the family moved once more\\u2014this time two miles (three kilometers) farther south to old-money Spring Lake, New Jersey's so-called Irish Riviera, where Ethel May set up her beauty parlor in a rambling duplex at 505 Mercer Avenue.\\\" \\\"Nick\\\", as he was known to his high school friends, attended nearby <a href=\\\"Manasquan%20High%20School\\\">Manasquan High School</a>, where he was voted \\\"Class Clown\\\" by the Class of 1954. He was in detention every day for a whole school year. A theatre and a drama award at the school are named in his honor. In 2004, Nicholson attended his 50-year <a href=\\\"high%20school%20reunion\\\">high school reunion</a> accompanied by his aunt Lorraine.\\n\\nMilitary service.In 1957, Nicholson joined the <a href=\\\"California%20Air%20National%20Guard\\\">California Air National Guard</a>, a move he sometimes characterized as an effort to \\\"dodge the draft\\\"; the <a href=\\\"Korean%20War\\\">Korean War</a>-era's <a href=\\\"Military%20Selective%20Service%20Act\\\">Military Selective Service Act</a> was still in force, and draftees were required to perform up to two years of active duty. After completing the <a href=\\\"United%20States%20Air%20Force\\\">Air Force</a>'s <a href=\\\"Recruit%20training%23U.S.%20Air%20Force\\\">basic training</a> at <a href=\\\"Lackland%20Air%20Force%20Base\\\">Lackland Air Force Base</a>, Nicholson performed weekend drills and two-week annual training as a firefighter assigned to the unit based at the <a href=\\\"Van%20Nuys%20Air%20National%20Guard%20Base\\\">Van Nuys Airport</a>. During the <a href=\\\"Berlin%20Crisis%20of%201961\\\">Berlin Crisis of 1961</a>, Nicholson was called up for several months of extended active duty, and he was discharged at the end of his enlistment in 1962.\\n\\nEarly work.Nicholson first came to Hollywood in 1954, when he was seventeen, to visit his sister. He took a job as an office worker for animators <a href=\\\"William%20Hanna\\\">William Hanna</a> and <a href=\\\"Joseph%20Barbera\\\">Joseph Barbera</a> at the <a href=\\\"Metro-Goldwyn-Mayer%20cartoon%20studio\\\">MGM cartoon studio</a>. They offered him an entry-level job as an animator, but he declined, citing his desire to become an actor.\\n\\nHe trained to be an actor with a group called the Players Ring Theater, after which time he found small parts performing on the stage and in TV soap operas. He made his film debut in a low-budget teen drama <i><a href=\\\"The%20Cry%20Baby%20Killer\\\">The Cry Baby Killer</a></i> (1958), playing the title role. For the following decade, Nicholson was a frequent collaborator with the film's producer, <a href=\\\"Roger%20Corman\\\">Roger Corman</a>. Corman directed Nicholson on several occasions, most notably in <i><a href=\\\"The%20Little%20Shop%20of%20Horrors\\\">The Little Shop of Horrors</a></i>, as <a href=\\\"sadomasochism\\\">masochistic</a> dental patient and undertaker Wilbur Force, and also in <i><a href=\\\"The%20Raven%20%281963%20film%29\\\">The Raven</a></i>, <i><a href=\\\"The%20Terror%20%281963%20film%29\\\">The Terror</a></i> where he plays a French officer seduced by an evil ghost, and <i><a href=\\\"The%20St.%20Valentine%27s%20Day%20Massacre%20%28film%29\\\">The St. Valentine's Day Massacre</a></i>.\\n\\nNicholson also frequently worked with director <a href=\\\"Monte%20Hellman\\\">Monte Hellman</a> on low-budget westerns, though two in particular, <i><a href=\\\"Ride%20in%20the%20Whirlwind\\\">Ride in the Whirlwind</a></i> and <i><a href=\\\"The%20Shooting\\\">The Shooting</a></i>, initially failed to find interest from any US film distributors but gained cult success on the art-house circuit in France and were later sold to television. Nicholson also appeared in two episodes of <i><a href=\\\"The%20Andy%20Griffith%20Show\\\">The Andy Griffith Show</a></i>.\\n\\n1960s.With his acting career heading nowhere, Nicholson seemed resigned to a career behind the camera as a writer/director. His first real taste of writing success was the <a href=\\\"screenplay\\\">screenplay</a> for the 1967 <a href=\\\"Counterculture%20of%20the%201960s\\\">counterculture</a> film <i><a href=\\\"The%20Trip%20%281967%20film%29\\\">The Trip</a></i> (directed by Corman), which starred <a href=\\\"Peter%20Fonda\\\">Peter Fonda</a> and <a href=\\\"Dennis%20Hopper\\\">Dennis Hopper</a>. After first reading the script, Fonda told Nicholson he was totally impressed by the writing and felt it could become a great film. However, he was disappointed with how the film turned out and blamed the editing which turned it into a \\\"predictable\\\" film and said so publicly. \\\"I was livid\\\", he recalls. Nicholson also co-wrote, with <a href=\\\"Bob%20Rafelson\\\">Bob Rafelson</a>, the movie <i><a href=\\\"Head%20%28film%29\\\">Head</a></i>, which starred <a href=\\\"The%20Monkees\\\">The Monkees</a>. He also arranged the movie's <a href=\\\"soundtrack\\\">soundtrack</a>.\\n\\nAfter a spot opened up in Fonda and Hopper's <i><a href=\\\"Easy%20Rider\\\">Easy Rider</a></i> (1969), it led to his first big acting break. Nicholson played alcoholic lawyer George Hanson, for which he received his first Oscar nomination. The film cost only $400,000 to make, and became a blockbuster, grossing $40\\u00a0million. Biographer John Parker states that Nicholson's interpretation of his role placed him in the company of earlier \\\"<a href=\\\"anti-hero\\\">anti-hero</a>\\\" actors, such as <a href=\\\"James%20Cagney\\\">James Cagney</a> and <a href=\\\"Humphrey%20Bogart\\\">Humphrey Bogart</a>, while promoting him into an \\\"overnight number-one hero of the <a href=\\\"counter-culture\\\">counter-culture</a> movement\\\".\\n\\nThe part was a lucky break for Nicholson. The role had been written for the actor <a href=\\\"Rip%20Torn\\\">Rip Torn</a>, who withdrew from the project after an argument with Hopper. In interviews, Nicholson later acknowledged the importance of being cast in <i>Easy Rider</i>: \\\"All I could see in the early films, before <i>Easy Rider</i>, was this desperate young actor trying to vault out of the screen and create a movie career.\\\"\\n\\nNicholson was cast by <a href=\\\"Stanley%20Kubrick\\\">Stanley Kubrick</a>, who was impressed with his role in <i>Easy Rider</i>, in the part of <a href=\\\"Napoleon\\\">Napoleon</a> in a film about his life, and although production on the film commenced, the project fizzled out, partly due to a change in ownership at MGM, and other issues.\\n\\n1970s.Nicholson starred in <i><a href=\\\"Five%20Easy%20Pieces\\\">Five Easy Pieces</a></i> alongside <a href=\\\"Karen%20Black\\\">Karen Black</a> in 1970 in what became his persona-defining role. Nicholson and Black were nominated for Academy Awards for their performances. Nicholson played Bobby Dupea, an oil rig worker, and Black was his waitress girlfriend. During an interview about the film, Black noted that Nicholson's character in the film was very subdued, and was very different from Nicholson's real-life personality. She says that the now-famous restaurant scene was partly improvised by Nicholson, and was out of character for Bobby, who wouldn't have cared enough to argue with a waitress. \\\"I think that Jack really has very little in common with Bobby. I think Bobby has given up looking for love. But Jack hasn't, he's very interested in love, in finding out things. Jack is a very curious, alive human being. Always ready for a new idea.\\\" Nicholson himself said as much, telling an interviewer, \\\"I like listening to everybody. This to me is the elixir of life.\\\"\\n\\nBlack later admitted that she had a crush on Nicholson from the time they met, although they only dated briefly. \\\"He was very beautiful. He just looked right at you\\u00a0... I liked him a lot\\u00a0... He really sort of wanted to date me but I didn't think of him that way because I was going with Peter Kastner\\u00a0... Then I went to do <i>Easy Rider</i>, but didn't see him because we didn't have any scenes together\\u00a0... At the premiere, I saw him out in the lobby afterward and I started crying\\u00a0... He didn't understand that, but what it was that I really loved him a lot, and I didn't know it until I saw him again, because it all welled up.\\\"\\n\\nWithin a month after the film's release that September, the movie became a blockbuster, making Nicholson a <a href=\\\"leading%20man\\\">leading man</a> and the \\\"new American anti-hero\\\", according to McDougal. Critics began speculating as to whether he might become another <a href=\\\"Marlon%20Brando\\\">Marlon Brando</a> or <a href=\\\"James%20Dean\\\">James Dean</a>. His career and income skyrocketed. He said, \\\"I have much sought after. Your name becomes a brand image like a product. You become Campbell's soup, with thirty-one different varieties of roles you can play.\\\" He told his new agent, Sandy Bresler, to find him unusual roles so he could stretch his acting skill: \\\"I like to play people that haven't existed yet, a 'cusp character'\\\", he said:\\n\\nAlso in 1970, he appeared in the movie adaptation of <i><a href=\\\"On%20a%20Clear%20Day%20You%20Can%20See%20Forever%20%28film%29\\\">On a Clear Day You Can See Forever</a></i>, although most of his performance was left on the <a href=\\\"cutting%20room%20floor\\\">cutting room floor</a>. His agent turned down a starring role in <i><a href=\\\"Deliverance\\\">Deliverance</a></i> when the film's producer and director, <a href=\\\"John%20Boorman\\\">John Boorman</a>, refused to pay what Nicholson's agent wanted.\\n\\nNicholson starred in <i><a href=\\\"Carnal%20Knowledge\\\">Carnal Knowledge</a></i> in 1971, a comedy-drama directed by <a href=\\\"Mike%20Nichols\\\">Mike Nichols</a>, which co-starred <a href=\\\"Art%20Garfunkel\\\">Art Garfunkel</a>, <a href=\\\"Ann-Margret\\\">Ann-Margret</a>, and <a href=\\\"Candice%20Bergen\\\">Candice Bergen</a>. He was nominated for a <a href=\\\"Golden%20Globe%20Award%20for%20Best%20Actor%20%E2%80%93%20Motion%20Picture%20Drama\\\">Golden Globe Award for Best Actor</a>. As a director, Mike Nichols was limited in the actors who he felt could handle the role, saying, \\\"There is James Cagney, Spencer Tracy, Humphrey Bogart, and Henry Fonda. After that, who is there but Jack Nicholson?\\\" During the filming, Nicholson struck up what became a lifelong friendship with co-star Garfunkel. When he visited Los Angeles, Garfunkel would stay at Nicholson's home in a room Nicholson jokingly called \\\"the Arthur Garfunkel Suite\\\".\\n\\nOther Nicholson roles included <a href=\\\"Hal%20Ashby\\\">Hal Ashby</a>'s <i><a href=\\\"The%20Last%20Detail\\\">The Last Detail</a></i> (1973), with <a href=\\\"Randy%20Quaid\\\">Randy Quaid</a>, for which Nicholson won for <a href=\\\"Best%20Actor%20Award%20%28Cannes%20Film%20Festival%29\\\">Best Actor</a> at the <a href=\\\"Cannes%20Film%20Festival\\\">Cannes Film Festival</a>, and he was nominated for his third Oscar and a Golden Globe. Television journalist <a href=\\\"David%20Gilmour%20%28writer%29\\\">David Gilmour</a> writes that one of his favorite Nicholson scenes from all his films was in this one when Nicholson slaps his gun on the bar yelling he <i>was</i> the Shore Patrol. Critic <a href=\\\"Roger%20Ebert\\\">Roger Ebert</a> called it a very good movie, but credited Nicholson's acting as the main reason: \\\"He creates a character so complete and so complex that we stop thinking about the movie and just watch to see what he'll do next.\\\"\\n\\nIn 1974, Nicholson starred in <a href=\\\"Roman%20Polanski\\\">Roman Polanski</a>'s noir thriller <i><a href=\\\"Chinatown%20%281974%20film%29\\\">Chinatown</a></i>, and was again nominated for <a href=\\\"Academy%20Award%20for%20Best%20Actor\\\">Academy Award for Best Actor</a> for his role as Jake Gittes, a private detective. The film co-starred <a href=\\\"Faye%20Dunaway\\\">Faye Dunaway</a> and <a href=\\\"John%20Huston\\\">John Huston</a>, and included a cameo role with Polanski. Roger Ebert described Nicholson's portrayal as sharp-edged, menacing, and aggressive, a character who knew \\\"how to go over the top\\\", as he did in <i>One Flew Over the Cuckoo's Nest</i>. It is that edge that kept <i>Chinatown</i> from becoming a typical genre crime film. Ebert also notes the importance of the role for Nicholson's career, seeing it as a major transition from the exploitation films of the previous decade. \\\"As Jake Gittes, he stepped into <a href=\\\"Bogart\\\">Bogart</a>'s shoes\\\", says Ebert. \\\"As a man attractive to audiences because he suggests both comfort and danger\\u00a0... From Gittes forward, Nicholson created the persona of a man who had seen it all and was still capable of being wickedly amused.\\\"\\n\\nNicholson had been friends with the director Roman Polanski long before the murder of Polanski's wife, <a href=\\\"Sharon%20Tate\\\">Sharon Tate</a>, at the hands of the <a href=\\\"Manson%20Family\\\">Manson Family</a>, and supported him in the days following the deaths. After Tate's death, Nicholson began sleeping with a hammer under his pillow and took breaks from work to attend the Manson trial.\\n\\nIn 1977, three years after <i>Chinatown</i>, Polanski was arrested at Nicholson's home for the <a href=\\\"Roman%20Polanski%20sexual%20abuse%20case\\\">sexual assault</a> of 13-year-old Samantha Geimer, who was modeling for Polanski during a magazine photo shoot around the pool. At the time of the incident, Nicholson was out of town making a film, but his steady girlfriend, actress <a href=\\\"Anjelica%20Huston\\\">Anjelica Huston</a>, had dropped by unannounced to pick up some items. She heard Polanski in the other room say, \\\"We'll be right out.\\\" Polanski then came out with Geimer, and he introduced her to Huston, and they chatted about Nicholson's two large dogs, which were sitting nearby. Huston recalled Geimer was wearing platform heels and appeared quite tall. After a few minutes of talking, Polanski had packed up his camera gear, and Huston saw them drive off in his car. Huston told police the next day, after Polanski was arrested, that she \\\"had witnessed nothing untoward\\\" and never saw them together in the other room.\\n\\nGeimer learned afterward that Huston herself wasn't supposed to be at Nicholson's house that day, since they had recently broken up, but stopped over to pick up some belongings. Geimer described Nicholson's house as \\\"definitely\\\" a guy's house, with lots of wood and shelves crowded with photos and mementos.\\n\\nOne of Nicholson's greatest successes came in 1975, with his role as <a href=\\\"Randle%20Patrick%20McMurphy\\\">Randle P. McMurphy</a> in <i><a href=\\\"One%20Flew%20Over%20the%20Cuckoo%27s%20Nest%20%28film%29\\\">One Flew Over the Cuckoo's Nest</a></i>. The movie was an adaptation of <a href=\\\"Ken%20Kesey\\\">Ken Kesey</a>'s novel, and was directed by <a href=\\\"Milo%C5%A1%20Forman\\\">Milo\\u0161 Forman</a> and co-produced by <a href=\\\"Michael%20Douglas\\\">Michael Douglas</a>. Nicholson plays an anti-authoritarian patient at a mental hospital where he becomes an inspiring leader for the other patients. Playing one of the patients was <a href=\\\"Danny%20DeVito\\\">Danny DeVito</a> in an early role. Nicholson learned afterward that DeVito grew up in the same area of New Jersey, and they knew many of the same people. The film swept the Academy Awards with nine nominations, and won the top five, including Nicholson's first for <a href=\\\"Academy%20Award%20for%20Best%20Actor\\\">Best Actor</a>.\\n\\nThe role seemed perfect for Nicholson, with biographer Ken Burke noting that his \\\"smartass demeanor balances his genuine concern for the treatment of his fellow patients with his independent spirit too free to exist in a repressive social structure\\\". Forman allowed Nicholson to improvise throughout the film, including most of the group therapy sequences. Reviewer <a href=\\\"Marie%20Brenner\\\">Marie Brenner</a> notes that his bravura performance \\\"transcends the screen\\\" and continually inspires the other actors by lightening their mental illnesses with his comic dialogue. She describes his performance:\\n\\nAlso in 1975, Nicholson starred in <a href=\\\"Michelangelo%20Antonioni\\\">Michelangelo Antonioni</a>'s <i><a href=\\\"The%20Passenger%20%281975%20film%29\\\">The Passenger</a></i> (1975), which co-starred <a href=\\\"Maria%20Schneider%20%28actress%29\\\">Maria Schneider</a>. Nicholson plays the role of a journalist, David Locke, who during an assignment in North Africa decides to quit being a journalist and simply disappear by taking on a new hidden identity. Unfortunately, the dead person whose identity he takes on turns out to have been a weapons smuggler on the run. Antonioni's unusual plot included convincing dialogue and fine acting, states film critic <a href=\\\"Seymour%20Chatman\\\">Seymour Chatman</a>. It was shot in Algeria, Spain, Germany, and England.\\n\\nThe film received good reviews and revived Antonioni's reputation as one of cinema's great directors. He says he wanted the film to have more of a \\\"spy feeling [and] be more political\\\". Nicholson began shooting the film from an unfinished script, notes <a href=\\\"Judith%20Crist\\\">Judith Crist</a>, yet upon its completion he thought so highly of the film that he bought the world rights and recorded a reminiscence of working with Antonioni. Critic and screenwriter <a href=\\\"Penelope%20Gilliatt\\\">Penelope Gilliatt</a> provides an overview of Nicholson's role:\\n\\nHe continued to take more unusual roles. He took a small role in <i><a href=\\\"The%20Last%20Tycoon%20%281976%20film%29\\\">The Last Tycoon</a></i>, opposite <a href=\\\"Robert%20De%20Niro\\\">Robert De Niro</a>. He took a less sympathetic role in <a href=\\\"Arthur%20Penn\\\">Arthur Penn</a>'s western <i><a href=\\\"The%20Missouri%20Breaks\\\">The Missouri Breaks</a></i> (1976), specifically to work with <a href=\\\"Marlon%20Brando\\\">Marlon Brando</a>. Nicholson was especially inspired by Brando's acting ability, recalling that in his youth, as an assistant manager at a theater, he watched <i><a href=\\\"On%20the%20Waterfront\\\">On the Waterfront</a></i> about forty times. \\\"I'm part of the first generation that idolized Marlon Brando\\\", he said.\\n\\nNicholson has observed that while both De Niro and Brando were noted for their skill as <a href=\\\"method%20actor\\\">method actors</a>, he himself has seldom been described as a method actor, a fact which he sees as an accomplishment: \\\"I'm still fooling them\\\", he told <a href=\\\"Sean%20Penn\\\">Sean Penn</a> during a phone conversation. \\\"I consider it an accomplishment because there's probably no one who understands Method acting better academically than I do\\u2014or actually uses it more in his work. But it's funny, nobody really sees that. It's perception versus reality, I guess.\\\"\\n\\n1980s.Although he garnered no <a href=\\\"Academy%20Award\\\">Academy Award</a> for <a href=\\\"Stanley%20Kubrick\\\">Stanley Kubrick</a>'s adaptation of <a href=\\\"Stephen%20King\\\">Stephen King</a>'s <i><a href=\\\"The%20Shining%20%28film%29\\\">The Shining</a></i> (1980), it remains one of his more significant roles. He was Kubrick's first choice to play the lead role, although the book's author, <a href=\\\"Stephen%20King\\\">Stephen King</a>, wanted the part played by more of an \\\"everyman\\\". However, Kubrick as a director won the argument, and described Nicholson's acting quality as being \\\"on a par with the greatest stars of the past, like <a href=\\\"Spencer%20Tracy\\\">Spencer Tracy</a> and <a href=\\\"James%20Cagney\\\">Jimmy Cagney</a>\\\".\\n\\nOn the set, Nicholson always appeared in character, and if Kubrick felt confident that he knew his lines well enough, he encouraged him to improvise and go beyond the script. For example, Nicholson improvised his now famous \\\"Here's Johnny!\\\" line, along with a scene in which he unleashes his anger upon his wife while she interrupts his writing. There were also extensive takes of scenes, due to Kubrick's perfectionism. Nicholson shot a scene with the ghostly bartender thirty-six times. Nicholson states that \\\"Stanley's demanding. He'll do a scene fifty times, and you have to be good to do that.\\\"\\n\\nIn 1982, he starred as an immigration enforcement agent in <i><a href=\\\"The%20Border%20%281982%20film%29\\\">The Border</a></i>, directed by <a href=\\\"Tony%20Richardson\\\">Tony Richardson</a>. It co-starred <a href=\\\"Warren%20Oates\\\">Warren Oates</a>, who played a corrupt border official. Richardson wanted Nicholson to play his role less expressively than he had in his earlier roles. \\\"Less is more\\\", he told him, and wanted him to wear reflecting sunglasses to portray what patrolmen wore. Richardson recalled that Nicholson worked hard on the set:\\nNicholson won his second Oscar, an <a href=\\\"Academy%20Award%20for%20Best%20Supporting%20Actor\\\">Academy Award for Best Supporting Actor</a>, for his role of retired astronaut Garrett Breedlove in <i><a href=\\\"Terms%20of%20Endearment\\\">Terms of Endearment</a></i> (1983), directed by <a href=\\\"James%20L.%20Brooks\\\">James L. Brooks</a>. It starred <a href=\\\"Shirley%20MacLaine\\\">Shirley MacLaine</a> and <a href=\\\"Debra%20Winger\\\">Debra Winger</a>. McGilligan claims it was one of Nicholson's most complex and unforgettable characters. He and MacLaine played many of their scenes in different ways, constantly testing and making adjustments. Their scenes together gave the film its \\\"buoyant edge\\\", states McGilligan, and describes Nicholson's acting as \\\"Jack floating like a butterfly\\\".\\n\\nNicholson continued to work prolifically in the 1980s, starring in such films as <i><a href=\\\"The%20Postman%20Always%20Rings%20Twice%20%281981%20film%29\\\">The Postman Always Rings Twice</a></i> (1981), <i><a href=\\\"Reds%20%28film%29\\\">Reds</a></i> (1981), where Nicholson portrays the writer <a href=\\\"Eugene%20O%27Neill\\\">Eugene O'Neill</a> with a quiet intensity, <i><a href=\\\"Prizzi%27s%20Honor\\\">Prizzi's Honor</a></i> (1985), <i><a href=\\\"Heartburn%20%28film%29\\\">Heartburn</a></i> (1986), <i><a href=\\\"The%20Witches%20of%20Eastwick%20%28film%29\\\">The Witches of Eastwick</a></i> (1987), <i><a href=\\\"Broadcast%20News%20%28film%29\\\">Broadcast News</a></i> (1987), and <i><a href=\\\"Ironweed%20%28film%29\\\">Ironweed</a></i> (1987). Three Oscar nominations also followed (<i>Reds</i>, <i>Prizzi's Honor</i>, and <i>Ironweed</i>). <a href=\\\"John%20Huston\\\">John Huston</a>, who directed <i>Prizzi's Honor</i>, said of Nicholson's acting, \\\"He just illuminates the book. He impressed me in one scene after another; the movie is composed largely of first takes with him.\\\"\\n\\nIn the 1989 <i><a href=\\\"Batman%20%281989%20film%29\\\">Batman</a></i> movie, Nicholson played the psychotic murderer and villain, <a href=\\\"Joker%20%28character%29\\\">the Joker</a>. The film was an international smash hit, and a lucrative percentage deal earned him a percentage of the <a href=\\\"box%20office\\\">box office</a> gross estimated at $60\\u00a0million to $90\\u00a0million. Nicholson said that he was \\\"particularly proud\\\" of his performance as the Joker: \\\"I considered it a piece of <a href=\\\"pop%20art\\\">pop art</a>\\\", he said.\\n\\n1990s.For his role as hot-headed Col. Nathan R. Jessup in <i><a href=\\\"A%20Few%20Good%20Men\\\">A Few Good Men</a></i> (1992), a movie about a murder in a <a href=\\\"United%20States%20Marine%20Corps\\\">U.S. Marine Corps</a> unit, Nicholson received yet another Academy Award nomination for Best Supporting Actor. One review describes his performance as \\\"spellbinding\\\", adding that he portrayed \\\"the essence of the quintessential military mindset\\\". Critic David Thomson notes that Nicholson's character \\\"blazed and roared\\\".\\n\\nThe film's director, <a href=\\\"Rob%20Reiner\\\">Rob Reiner</a>, recalls how Nicholson's level of acting experience affected the other actors during rehearsals: \\\"I had the luck of having Jack Nicholson there. He knows what he's doing, and he comes to play, every time out, full-out performance! And what it says to a lot of the other actors is, 'Oooooh, I better get on my game here because this guy's coming to play! So I can't hold back; I've got to come up to him.' He sets the tone.\\\"\\n\\nIn 1996, Nicholson collaborated once more with <i>Batman</i> director <a href=\\\"Tim%20Burton\\\">Tim Burton</a> on <i><a href=\\\"Mars%20Attacks%21\\\">Mars Attacks!</a></i>, pulling double duty as two contrasting characters, President James Dale and <a href=\\\"Las%20Vegas%20Valley\\\">Las Vegas</a> property developer Art Land. At first, studio executives at Warner Bros. disliked the idea of killing off Nicholson's character, so Burton created two characters and killed them both off.\\n\\nNot all of Nicholson's performances have been well received. He was nominated for <a href=\\\"Razzie%20Awards\\\">Razzie Awards</a> as worst actor for <i><a href=\\\"Man%20Trouble\\\">Man Trouble</a></i> (1992) and <i><a href=\\\"Hoffa\\\">Hoffa</a></i> (1992). However, Nicholson's performance in <i>Hoffa</i> also earned him a <a href=\\\"Golden%20Globe\\\">Golden Globe</a> nomination. While David Thomson states that the film was terribly neglected, since Nicholson portrayed one of his best screen characters, someone who is \\\"snarly, dumb, smart, noble, rascally\\u2014all the parts of 'Jack'\\\"\\n\\nNicholson went on to win his next <a href=\\\"Academy%20Award%20for%20Best%20Actor\\\">Academy Award for Best Actor</a> in the romantic comedy, <i><a href=\\\"As%20Good%20as%20It%20Gets\\\">As Good as It Gets</a></i> (1997), his third film directed by <a href=\\\"James%20L.%20Brooks\\\">James L. Brooks</a>. He played Melvin Udall, a \\\"wickedly funny\\\", mean-spirited, obsessive-compulsive novelist. \\\"I'm a studio <a href=\\\"Method%20actor\\\">Method actor</a>\\\", he said. \\\"So I was prone to give some kind of clinical presentation of the disorder.\\\" His Oscar was matched with the <a href=\\\"Academy%20Award%20for%20Best%20Actress\\\">Academy Award for Best Actress</a> for <a href=\\\"Helen%20Hunt\\\">Helen Hunt</a>, who played a Manhattan wisecracking, single-mother waitress drawn into a love/hate friendship with Udall, a frequent diner in the restaurant. The film was a tremendous box office success, grossing $314\\u00a0million, which made it Nicholson's second-best-grossing film of his career, after <i>Batman</i>.\\n\\nNicholson admits he initially didn't like playing the role of a middle-aged man alongside much younger Hunt, seeing it as a movie clich\\u00e9. \\\"But Helen disarmed that at the first meeting\\\", he says, \\\"and I stopped thinking about it.\\\" They got along well during the filming, with Hunt saying that he \\\"treated me like a queen\\\", and they connected immediately: \\\"It wasn't even what we said\\\", she adds. \\\"It was just some frequency we both could tune into that was very, very compatible.\\\"\\n\\nCritic Jack Mathews of <i><a href=\\\"Newsday\\\">Newsday</a></i> described Nicholson as being \\\"in rare form\\\", adding that \\\"it's one of those performances that make you aware how much fun the actor is having\\\". Author and screenwriter Andrew Horton describes their on-screen relationship as being like \\\"fire and ice, oil and water\\u2014 seemingly complete opposites\\\". Nonetheless, Hunt was Nicholson's perfect counterpart and delivered \\\"a simply stunning performance\\\", wrote critic Louise Keller.\\n\\nIn 2001, Nicholson was the first actor to receive the <a href=\\\"Stanislavsky%20Award\\\">Stanislavsky Award</a> at the <a href=\\\"23rd%20Moscow%20International%20Film%20Festival\\\">23rd Moscow International Film Festival</a> for \\\"conquering the heights of acting and faithfulness\\\".\\n\\n2000s.In <i><a href=\\\"About%20Schmidt\\\">About Schmidt</a></i> (2002), Nicholson portrayed a retired <a href=\\\"Omaha\\\">Omaha</a>, <a href=\\\"Nebraska\\\">Nebraska</a>, <a href=\\\"actuary\\\">actuary</a> who questions his own life following his wife's death. His quietly restrained performance earned him an Academy Award Nomination for Best Actor. In <i><a href=\\\"Anger%20Management%20%28film%29\\\">Anger Management</a></i> (2003), he played an aggressive therapist assigned to help an over pacifist man (<a href=\\\"Adam%20Sandler\\\">Adam Sandler</a>). In 2003, Nicholson also starred in <i><a href=\\\"Something%27s%20Gotta%20Give%20%28film%29\\\">Something's Gotta Give</a></i>, as an aging playboy who falls for the mother (<a href=\\\"Diane%20Keaton\\\">Diane Keaton</a>) of his young girlfriend. In late 2006, Nicholson marked his return to the dark side as <a href=\\\"Frank%20Costello%20%28The%20Departed%29\\\">Frank Costello</a>, a nefarious <a href=\\\"Boston\\\">Boston</a> <a href=\\\"Irish%20Mob\\\">Irish Mob</a> boss, based on <a href=\\\"Whitey%20Bulger\\\">Whitey Bulger</a> who was still on the run at that time, presiding over <a href=\\\"Matt%20Damon\\\">Matt Damon</a> and <a href=\\\"Leonardo%20DiCaprio\\\">Leonardo DiCaprio</a> in <a href=\\\"Martin%20Scorsese%27s\\\">Martin Scorsese's</a> Oscar-winning film <i><a href=\\\"The%20Departed\\\">The Departed</a></i>, a remake of <a href=\\\"Andrew%20Lau\\\">Andrew Lau</a>'s <i><a href=\\\"Infernal%20Affairs\\\">Infernal Affairs</a></i>. The role earned Nicholson worldwide critical praise, along with various award wins and nominations, including a <a href=\\\"Golden%20Globe\\\">Golden Globe</a> nomination for best supporting actor.\\n\\nIn 2007, Nicholson co-starred with <a href=\\\"Morgan%20Freeman\\\">Morgan Freeman</a> in <a href=\\\"Rob%20Reiner\\\">Rob Reiner</a>'s <i><a href=\\\"The%20Bucket%20List\\\">The Bucket List</a></i>. Nicholson and Freeman portrayed dying men who fulfill their list of goals. In researching the role, Nicholson visited a <a href=\\\"Los%20Angeles\\\">Los Angeles</a> hospital to see how cancer patients coped with their illnesses.\\n\\n2010s.Nicholson's next film role saw him reunite with <a href=\\\"James%20L.%20Brooks\\\">James L. Brooks</a>, director of <i><a href=\\\"Terms%20of%20Endearment\\\">Terms of Endearment</a></i>, <i><a href=\\\"Broadcast%20News%20%28film%29\\\">Broadcast News</a></i>, and <i><a href=\\\"As%20Good%20as%20It%20Gets\\\">As Good as It Gets</a></i>, for a supporting role as <a href=\\\"Paul%20Rudd\\\">Paul Rudd</a>'s character's father in the 2010 film <i><a href=\\\"How%20Do%20You%20Know\\\">How Do You Know</a></i>.\\n\\nIt has been widely reported in subsequent years that Nicholson has retired from acting because of memory loss, but in a September 2013 <i><a href=\\\"Vanity%20Fair%20%28magazine%29\\\">Vanity Fair</a></i> article, Nicholson clarified that he did not consider himself retired, merely that he was now less driven to \\\"be out there any more\\\".\\n\\nOn February 15, 2015, Nicholson made a special appearance as a presenter on <i><a href=\\\"Saturday%20Night%20Live%2040th%20Anniversary%20Special\\\">SNL 40</a></i>, the 40th anniversary special of <i><a href=\\\"Saturday%20Night%20Live\\\">Saturday Night Live</a></i>. After the death of boxer <a href=\\\"Muhammad%20Ali\\\">Muhammad Ali</a> on June 3, 2016, Nicholson appeared on <a href=\\\"HBO\\\">HBO</a>'s <i>The Fight Game with <a href=\\\"Jim%20Lampley\\\">Jim Lampley</a></i> for an exclusive interview about his friendship with Ali.\\n\\nIn February 2017, it was reported that Nicholson would be starring in an English-language remake of <i><a href=\\\"Toni%20Erdmann\\\">Toni Erdmann</a></i> opposite <a href=\\\"Kristen%20Wiig\\\">Kristen Wiig</a>, his first feature film role since <i>How Do You Know</i>. On August 20, 2018, Nicholson dropped out of the project.\\n\\nRelationships and children.Nicholson's only marriage was to <a href=\\\"Sandra%20Knight%20%28actress%29\\\">Sandra Knight</a> from June 17, 1962, to August 8, 1968; they had been separated for two years prior to the divorce. They had one daughter together, Jennifer (born September 16, 1963).\\n\\nActress <a href=\\\"Susan%20Anspach\\\">Susan Anspach</a> contended that her son, Caleb Goddard (born September 26, 1970), was fathered by Nicholson. In 1984, Nicholson stated that he was not convinced he is Caleb's father; however, in 1996, Caleb stated that Nicholson had acknowledged him as his son. At some point between 1988 and 1994, Nicholson provided financial assistance to put Caleb through college, and Anspach's <i><a href=\\\"New%20York%20Times\\\">New York Times</a></i> obituary referred to Caleb as \\\"her son, whose father is Jack Nicholson\\\".\\n\\nBetween April 1973 and January 1990, Nicholson had an on-again, off-again relationship with actress <a href=\\\"Anjelica%20Huston\\\">Anjelica Huston</a> that included periods of overlap with other women, including Danish model Winnie Hollman, by whom he fathered a daughter, Honey Hollman (born 1981).\\n\\nFrom 1989 to 1994, Nicholson had a relationship with actress <a href=\\\"Rebecca%20Broussard\\\">Rebecca Broussard</a>. They had two children together: daughter <a href=\\\"Lorraine%20Nicholson\\\">Lorraine</a> (born April 16, 1990), and son Raymond (born February 20, 1992).\\n\\nFor over a year, from 1999 to 2000, Nicholson dated actress <a href=\\\"Lara%20Flynn%20Boyle\\\">Lara Flynn Boyle</a>; they later reunited, before splitting permanently in 2004.\\n\\nNicholson has stated that children \\\"give your life a resonance that it can't have without them\\u00a0... As a father, I'm there all the time. I give unconditional love.\\\" However, he has also lamented that he \\\"didn't see enough of my eldest daughter because I was trying to make a career\\\".\\n\\nAssault charge.In a criminal <a href=\\\"complaint\\\">complaint</a> filed on February 8, 1994, Robert Blank stated that Nicholson, then 56, approached Blank's <a href=\\\"Mercedes-Benz\\\">Mercedes-Benz</a> while he was stopped at a red light in <a href=\\\"North%20Hollywood\\\">North Hollywood</a>. After accusing the other man of cutting him off in traffic, Nicholson used a golf club to bash the roof and windshield of Blank's car. A witness confirmed Blank's account of the incident, and <a href=\\\"misdemeanor\\\">misdemeanor</a> charges of assault and vandalism were filed against Nicholson. Charges were dropped after Nicholson apologized to Blank, and the two reached an undisclosed settlement, which included a reported $500,000 check from Nicholson.\\n\\nCelebrity friendships.Nicholson lived next door to <a href=\\\"Marlon%20Brando\\\">Marlon Brando</a> for a number of years on <a href=\\\"Mulholland%20Drive\\\">Mulholland Drive</a> in <a href=\\\"Beverly%20Hills\\\">Beverly Hills</a>. <a href=\\\"Warren%20Beatty\\\">Warren Beatty</a> also lived nearby, earning the road the nickname \\\"Bad Boy Drive\\\". After Brando's death in 2004, Nicholson purchased his bungalow for $6.1\\u00a0million, with the purpose of having it demolished. Nicholson stated that it was done out of respect to Brando's legacy, as it had become too expensive to renovate the \\\"derelict\\\" building which was plagued by mold.\\n\\nNicholson's friendship with author-journalist <a href=\\\"Hunter%20S.%20Thompson\\\">Hunter S. Thompson</a> is described in Thompson's autobiography <i><a href=\\\"Kingdom%20of%20Fear%20%28book%29\\\">Kingdom of Fear</a></i>. Following Thompson's death in 2005, Nicholson and fellow actors <a href=\\\"Johnny%20Depp\\\">Johnny Depp</a>, <a href=\\\"John%20Cusack\\\">John Cusack</a>, and <a href=\\\"Sean%20Penn\\\">Sean Penn</a> attended the private memorial service in Colorado.\\n\\nNicholson was also a close friend of <a href=\\\"Robert%20Evans\\\">Robert Evans</a>, the producer of <i><a href=\\\"Chinatown%20%281974%20film%29\\\">Chinatown</a></i>, and after Evans lost Woodland, his home, as the result of a 1980s drug bust, Nicholson and other friends of the producer purchased Woodland to give it back to Evans.\\n\\nHobbies.Nicholson is a fan of the <a href=\\\"New%20York%20Yankees\\\">New York Yankees</a> and <a href=\\\"Los%20Angeles%20Lakers\\\">Los Angeles Lakers</a>. He has been a Laker season ticket holder since 1970, and has held courtside season tickets for the past 25 years next to the opponent's benches both at <a href=\\\"The%20Forum%20%28Inglewood%2C%20California%29\\\">The Forum</a> and <a href=\\\"Staples%20Center\\\">Staples Center</a>, missing very few games. In a few instances, Nicholson has engaged in arguments with game officials and opposing players, and even walked onto the court. He was almost ejected from a Lakers playoff game in May 2003 after he yelled at the game's referee.\\n\\nNicholson is a collector of 20th-century and contemporary art, including the work of <a href=\\\"Henri%20Matisse\\\">Henri Matisse</a>, <a href=\\\"Tamara%20de%20Lempicka\\\">Tamara de Lempicka</a>, <a href=\\\"Andy%20Warhol\\\">Andy Warhol</a> and <a href=\\\"Jack%20Vettriano\\\">Jack Vettriano</a>. In 1995, artist <a href=\\\"Ed%20Ruscha\\\">Ed Ruscha</a> was quoted saying that Nicholson has \\\"one of the best collections out here\\\".\\n\\nPolitical views.Nicholson described himself as a \\\"life-long <a href=\\\"Irish%20nationality%20law\\\">Irish</a> <a href=\\\"Democratic%20Party%20%28United%20States%29\\\">Democrat</a>\\\". Although he is personally against <a href=\\\"abortion\\\">abortion</a>, he is <a href=\\\"Abortion-rights%20movements\\\">pro-choice</a>. He has said, \\\"I'm pro-choice but against abortion because I'm an illegitimate child myself, and it would be hypocritical to take any other position. I'd be dead. I wouldn't exist.\\\" He has also said that he has \\\"nothing but total admiration, gratitude, and respect for the strength of the women who made the decision they made in my individual case\\\".\\n\\nReligious views.During a 1992 <i><a href=\\\"Vanity%20Fair%20%28magazine%29\\\">Vanity Fair</a></i> interview, Nicholson stated, \\\"I don't believe in God now. I can still work up an envy for someone who has faith. I can see how that could be a deeply soothing experience.\\\"\\n\\nHonors.In May 2008, then-California Governor <a href=\\\"Arnold%20Schwarzenegger\\\">Arnold Schwarzenegger</a> and First Lady <a href=\\\"Maria%20Shriver\\\">Maria Shriver</a> announced that Nicholson would be inducted into the <a href=\\\"California%20Hall%20of%20Fame\\\">California Hall of Fame</a>, located at <a href=\\\"The%20California%20Museum%20for%20History%2C%20Women%20and%20the%20Arts\\\">The California Museum for History, Women and the Arts</a>. The induction ceremony took place on December 15, 2008, where he was inducted alongside 11 other Californians.\\n\\nIn 2010, Nicholson was inducted into the <a href=\\\"New%20Jersey%20Hall%20of%20Fame\\\">New Jersey Hall of Fame</a>.\\n\\nIn 2011, Nicholson received an honorary <a href=\\\"Doctor%20of%20Fine%20Arts\\\">Doctor of Fine Arts</a> degree from <a href=\\\"Brown%20University\\\">Brown University</a> at its 243rd commencement. At the ceremony, <a href=\\\"Ruth%20Simmons\\\">Ruth Simmons</a>, Brown University's president, called him \\\"the most skilled actor of our lifetime\\\".\\n\\nAwards and nominations.With twelve <a href=\\\"Academy%20Award\\\">Academy Award</a> nominations (eight for Best Actor and four for Best Supporting Actor), Nicholson is the most nominated male actor in Academy Awards history. Only Nicholson (1960s\\u20132000s), <a href=\\\"Michael%20Caine\\\">Michael Caine</a> (1960s\\u20132000s), <a href=\\\"Meryl%20Streep\\\">Meryl Streep</a> (1970s\\u20132010s), <a href=\\\"Paul%20Newman\\\">Paul Newman</a> (1950s\\u20131960s, 1980s\\u20132000s), <a href=\\\"Katharine%20Hepburn\\\">Katharine Hepburn</a> (1930s\\u20131960s, 1980s), and <a href=\\\"Laurence%20Olivier\\\">Laurence Olivier</a> (1930s\\u20131970s) have been nominated for an acting (lead or supporting) Academy Award in five different decades.\\n\\nWith three Oscar wins, he also ties with <a href=\\\"Walter%20Brennan\\\">Walter Brennan</a>, <a href=\\\"Daniel%20Day-Lewis\\\">Daniel Day-Lewis</a>, <a href=\\\"Ingrid%20Bergman\\\">Ingrid Bergman</a>, and <a href=\\\"Meryl%20Streep\\\">Meryl Streep</a> for the second-most Oscar wins in acting categories. Only <a href=\\\"Katharine%20Hepburn\\\">Katharine Hepburn</a>, with four Oscars, won more.\\n\\nIn 2013, Nicholson co-presented the <a href=\\\"Academy%20Award%20for%20Best%20Picture\\\">Academy Award for Best Picture</a> with First Lady <a href=\\\"Michelle%20Obama\\\">Michelle Obama</a>. This ceremony marked the eighth time he has presented the Academy Award for Best Picture (1972, 1977, 1978, 1990, 1993, 2006, 2007, and 2013). Nicholson is an active and voting member of the Academy.\\n\\nFilmography.Nicholson's acting career spans over sixty years. He has won three Academy Awards, and with twelve nominations, he is the most nominated male actor in the Academy's history.\\n\\nAmong his most notable films are <i><a href=\\\"Easy%20Rider\\\">Easy Rider</a></i> (1969), <i><a href=\\\"Five%20Easy%20Pieces\\\">Five Easy Pieces</a></i> (1970), <i><a href=\\\"Carnal%20Knowledge\\\">Carnal Knowledge</a></i> (1971), <i><a href=\\\"The%20Last%20Detail\\\">The Last Detail</a></i> (1973), <i><a href=\\\"Chinatown%20%281974%20film%29\\\">Chinatown</a></i> (1974), <i><a href=\\\"One%20Flew%20Over%20the%20Cuckoo%27s%20Nest%20%28film%29\\\">One Flew Over the Cuckoo's Nest</a></i> (1975), <i><a href=\\\"The%20Shining%20%28film%29\\\">The Shining</a></i> (1980), <i><a href=\\\"Reds%20%28film%29\\\">Reds</a></i> (1981), <i><a href=\\\"Terms%20of%20Endearment\\\">Terms of Endearment</a></i> (1983), <i><a href=\\\"Prizzi%27s%20Honor\\\">Prizzi's Honor</a></i> (1985), <i><a href=\\\"Batman%20%281989%20film%29\\\">Batman</a></i> (1989), <i><a href=\\\"A%20Few%20Good%20Men\\\">A Few Good Men</a></i> (1992), <i><a href=\\\"As%20Good%20as%20It%20Gets\\\">As Good as It Gets</a></i> (1997), <i><a href=\\\"About%20Schmidt\\\">About Schmidt</a></i> (2002), and <i><a href=\\\"The%20Departed\\\">The Departed</a></i> (2006).\\n\\nExternal links.<ul><li>- <a href=\\\"https%3A//web.archive.org/web/20080306201050/http%3A//www.rollingstone.com/news/coverstory/jack_nicholson_secrets_of_the_great_seducer\\\">\\\"Jack Nicholson: A Singular Guy\\\"</a> \\u2013 <i>Rolling Stone</i> interview with Jack Nicholson, September 20, 2006\\n</li><li>- <a href=\\\"http%3A//www.jack-nicholson.info/\\\">Jack Nicholson Online</a> - <i>Fan site</i>: pictures, interviews, latest news on Jack Nicholson\\n</li></ul>\\n\\n</doc>\\n\",\n",
            "  \"british raj\": \"The British Raj (; from <i>r\\u0101j</i>, literally, \\\"rule\\\" in <a href=\\\"Sanskrit\\\">Sanskrit</a> and <a href=\\\"Hindustani%20language\\\">Hindustani</a>) was the rule by the <a href=\\\"The%20Crown\\\">British Crown</a> on the <a href=\\\"Indian%20subcontinent\\\">Indian subcontinent</a> from 1858 to 1947. The rule is also called Crown rule in India, or direct rule in India. The region under British control was commonly called India in contemporaneous usage, and included areas directly administered by the <a href=\\\"United%20Kingdom\\\">United Kingdom</a>, which were collectively called <a href=\\\"Presidencies%20and%20provinces%20of%20British%20India\\\">British India</a>, and those ruled by indigenous rulers, but under British tutelage or <a href=\\\"British%20paramountcy\\\">paramountcy</a>, called the <a href=\\\"princely%20state\\\">princely states</a>. The whole was also more formally called the Indian Empire.\\nAs India, it was a founding member of the <a href=\\\"League%20of%20Nations\\\">League of Nations</a>, a participating nation in the <a href=\\\"India%20at%20the%20Olympics\\\">Summer Olympics</a> in <a href=\\\"India%20at%20the%201900%20Summer%20Olympics\\\">1900</a>, <a href=\\\"India%20at%20the%201920%20Summer%20Olympics\\\">1920</a>, <a href=\\\"India%20at%20the%201928%20Summer%20Olympics\\\">1928</a>, <a href=\\\"India%20at%20the%201932%20Summer%20Olympics\\\">1932</a>, and <a href=\\\"India%20at%20the%201936%20Summer%20Olympics\\\">1936</a>, and a <a href=\\\"Member%20states%20of%20the%20United%20Nations\\\">founding member</a> of the <a href=\\\"United%20Nations\\\">United Nations</a> in <a href=\\\"United%20Nations%20Conference%20on%20International%20Organization\\\">San Francisco in 1945</a>. \\n\\nThis system of governance was instituted on 28 June 1858, when, after the <a href=\\\"Indian%20Rebellion%20of%201857\\\">Indian Rebellion of 1857</a>, the <a href=\\\"Company%20rule%20in%20India\\\">rule</a> of the British <a href=\\\"East%20India%20Company\\\">East India Company</a> was transferred to the Crown in the person of <a href=\\\"Queen%20Victoria\\\">Queen Victoria</a> (who, in 1876, was proclaimed <a href=\\\"Empress%20of%20India\\\">Empress of India</a>). It lasted until 1947, when it was <a href=\\\"Partition%20of%20India\\\">partitioned</a> into two sovereign <a href=\\\"dominion\\\">dominion</a> states: the <a href=\\\"Dominion%20of%20India\\\">Dominion of India</a> (later the <a href=\\\"India\\\">Republic of India</a>) and the <a href=\\\"Dominion%20of%20Pakistan\\\">Dominion of Pakistan</a> (later the <a href=\\\"Pakistan\\\">Islamic Republic of Pakistan</a>, the eastern part of which, still later, became the <a href=\\\"Bangladesh\\\">People's Republic of Bangladesh</a>). At the inception of the Raj in 1858, <a href=\\\"Lower%20Burma\\\">Lower Burma</a> was already a part of British India; <a href=\\\"Upper%20Burma\\\">Upper Burma</a> was added in 1886, and the resulting union, <a href=\\\"British%20rule%20in%20Burma\\\">Burma</a> (<a href=\\\"Myanmar\\\">Myanmar</a>), was administered as an autonomous province until 1937, when it became a separate British colony, gaining its own independence in 1948.\\n\\nGeographical extent.The British Raj extended over almost all present-day India, Pakistan, and Bangladesh, except for small holdings by other European nations such as <a href=\\\"Goa\\\">Goa</a> and <a href=\\\"Pondicherry\\\">Pondicherry</a>. This area is very diverse, containing the Himalayan mountains, fertile floodplains, the <a href=\\\"Indo-Gangetic%20Plain\\\">Indo-Gangetic Plain</a>, a long coastline, tropical dry forests, arid uplands, and the <a href=\\\"Thar%20Desert\\\">Thar Desert</a>. In addition, at various times, it included <a href=\\\"Aden%20Province\\\">Aden</a> (from 1858 to 1937), <a href=\\\"Lower%20Burma\\\">Lower Burma</a> (from 1858 to 1937), <a href=\\\"Upper%20Burma\\\">Upper Burma</a> (from 1886 to 1937), <a href=\\\"British%20Somaliland\\\">British Somaliland</a> (briefly from 1884 to 1898), and <a href=\\\"Singapore\\\">Singapore</a> (briefly from 1858 to 1867). Burma was separated from India and directly administered by the British Crown from 1937 until its independence in 1948. The <a href=\\\"Trucial%20States\\\">Trucial States</a> of the <a href=\\\"Persian%20Gulf\\\">Persian Gulf</a> and the states under the <a href=\\\"Persian%20Gulf%20Residency\\\">Persian Gulf Residency</a> were theoretically princely states as well as <a href=\\\"presidencies%20and%20provinces%20of%20British%20India\\\">presidencies and provinces of British India</a> until 1947 and used the <a href=\\\"rupee\\\">rupee</a> as their unit of currency.\\n\\nAmong other countries in the region, <a href=\\\"British%20Ceylon\\\">Ceylon</a> (now <a href=\\\"Sri%20Lanka\\\">Sri Lanka</a>) was ceded to Britain in 1802 under the <a href=\\\"Treaty%20of%20Amiens\\\">Treaty of Amiens</a>. Ceylon was part of <a href=\\\"Madras%20Presidency\\\">Madras Presidency</a> between 1793 and 1798. The kingdoms of <a href=\\\"Kingdom%20of%20Nepal\\\">Nepal</a> and <a href=\\\"Bhutan\\\">Bhutan</a>, having fought wars with the British, subsequently signed treaties with them and were recognised by the British as independent states. The <a href=\\\"Kingdom%20of%20Sikkim\\\">Kingdom of Sikkim</a> was established as a princely state after the Anglo-Sikkimese Treaty of 1861; however, the issue of sovereignty was left undefined. The <a href=\\\"Maldives\\\">Maldive Islands</a> were a British <a href=\\\"protectorate\\\">protectorate</a> from 1887 to 1965, but not part of British India.\\n\\nBritish India and the Princely States.India during the British Raj was made up of two types of territory: <i>British India</i> and the <i>Native States</i> (or <i><a href=\\\"Princely%20State\\\">Princely States</a></i>). In its <a href=\\\"Interpretation%20Act%201889\\\">Interpretation Act 1889</a>, the <a href=\\\"Parliament%20of%20the%20United%20Kingdom\\\">British Parliament</a> adopted the following definitions in Section 18:\\n(4.) The expression \\\"British India\\\" shall mean all territories and places within Her Majesty's dominions which are for the time being governed by Her Majesty through the Governor-General of India or through any governor or other officer subordinates to the Governor-General of India.\\n(5.) The expression \\\"India\\\" shall mean British India together with any territories of any native prince or chief under the suzerainty of Her Majesty exercised through the Governor-General of India, or through any governor or other officer subordinates to the Governor-General of India.\\nIn general, the term \\\"British India\\\" had been used (and is still used) to refer also to the regions under <a href=\\\"Company%20rule%20in%20India\\\">the rule of the British East India Company</a> in India from 1600 to 1858. The term has also been used to refer to the \\\"British in India\\\".\\n\\nThe terms \\\"Indian Empire\\\" and \\\"Empire of India\\\" (like the term \\\"British Empire\\\") were not used in legislation. The monarch was known as Empress or Emperor of India and the term was often used in Queen Victoria's <a href=\\\"Speech%20from%20the%20throne\\\">Queen's Speeches</a> and Prorogation Speeches. The passports issued by the British Indian government had the words \\\"Indian Empire\\\" on the cover and \\\"Empire of India\\\" on the inside. In addition, an <a href=\\\"Chivalric%20order\\\">order of knighthood</a>, <a href=\\\"Order%20of%20the%20Indian%20Empire\\\">the Most Eminent Order of the Indian Empire</a>, was set up in 1878.\\n\\n<a href=\\\"Suzerainty\\\">Suzerainty</a> over 175 princely states, some of the largest and most important, was exercised (in the name of the <a href=\\\"The%20Crown\\\">British Crown</a>) by the central government of British India under the <a href=\\\"Viceroy\\\">Viceroy</a>; the remaining approximately 500 states were dependents of the provincial governments of British India under a Governor, Lieutenant-Governor, or Chief Commissioner (as the case might have been). A clear distinction between \\\"dominion\\\" and \\\"suzerainty\\\" was supplied by the jurisdiction of the courts of law: the law of British India rested upon the laws passed by the British Parliament and the legislative powers those laws vested in the various governments of British India, both central and local; in contrast, the courts of the Princely States existed under the authority of the respective rulers of those states.\\n\\nMajor provinces.At the turn of the 20th century, British India consisted of eightprovinces that were administered either by a governor or a lieutenant-governor.\\n\\nDuring the partition of Bengal (1905\\u20131913), the new provinces of Assam and East Bengal were created as a Lieutenant-Governorship. In 1911, <i>East Bengal</i> was reunited with Bengal, and the new provinces in the east became: Assam, Bengal, Bihar and Orissa.\\n\\nMinor provinces.In addition, there were a few minor provinces that were administered by a Chief Commissioner:\\n\\nPrincely states.A Princely State, also called a Native State or an Indian State, was a British <a href=\\\"vassal%20state\\\">vassal state</a> in India with an indigenous nominal Indian ruler, subject to a <a href=\\\"subsidiary%20alliance\\\">subsidiary alliance</a>. There were 565 princely states when India and Pakistan became independent from Britain in August 1947. The princely states did not form a part of <a href=\\\"British%20India\\\">British India</a> (i.e. the presidencies and provinces), as they were not directly under British rule. The larger ones had treaties with Britain that specified which rights the princes had; in the smaller ones the princes had few rights. Within the princely states external affairs, defence and most communications were under British control. The British also exercised a general influence over the states' internal politics, in part through the granting or withholding of recognition of individual rulers. Although there were nearly 600 princely states, the great majority were very small and contracted out the business of government to the British. Some two hundred of the states had an area of less than .\\n\\nThe states were grouped into <a href=\\\"Agencies%20of%20British%20India\\\">agencies</a> and <a href=\\\"Residencies%20of%20British%20India\\\">residencies</a>.\\n\\nOrganisation.Following the <a href=\\\"Indian%20Rebellion%20of%201857\\\">Indian Rebellion of 1857</a> (usually called the Indian Mutiny by the British), the <a href=\\\"Government%20of%20India%20Act%201858\\\">Government of India Act 1858</a> made changes in the governance of India at three levels:\\n<ul><li>1. in the imperial government in London,\\n</li><li>2. in the central government in <a href=\\\"Calcutta\\\">Calcutta</a>, and\\n</li><li>3. in the provincial governments in the presidencies (and later in the provinces).\\n</li></ul>\\nIn London, it provided for a cabinet-level <a href=\\\"Secretary%20of%20State%20for%20India\\\">Secretary of State for India</a> and a fifteen-member <a href=\\\"Council%20of%20India\\\">Council of India</a>, whose members were required, as one prerequisite of membership, to have spent at least ten years in India and to have done so no more than ten years before. Although the Secretary of State formulated the policy instructions to be communicated to India, he was required in most instances to consult the Council, but especially so in matters relating to spending of Indian revenues. The Act envisaged a system of \\\"double government\\\" in which the Council ideally served both as a check on excesses in imperial policy-making and as a body of up-to-date expertise on India. However, the Secretary of State also had special emergency powers that allowed him to make unilateral decisions, and, in reality, the Council's expertise was sometimes outdated. From 1858 until 1947, twenty-seven individuals served as Secretary of State for India and directed the <a href=\\\"India%20Office\\\">India Office</a>; these included: Sir <a href=\\\"Charles%20Wood%2C%201st%20Viscount%20Halifax\\\">Charles Wood</a> (1859\\u20131866), the <a href=\\\"Robert%20Arthur%20Talbot%20Gascoyne-Cecil%2C%203rd%20Marquess%20of%20Salisbury\\\">Marquess of Salisbury</a> (1874\\u20131878; later Prime Minister of Britain), <a href=\\\"John%20Morley\\\">John Morley</a> (1905\\u20131910; initiator of the <a href=\\\"Minto-Morley%20Reforms\\\">Minto-Morley Reforms</a>), <a href=\\\"Edwin%20Montagu\\\">E. S. Montagu</a> (1917\\u20131922; an architect of the <a href=\\\"Montagu-Chelmsford%20reforms\\\">Montagu-Chelmsford reforms</a>), and <a href=\\\"Frederick%20Pethick-Lawrence\\\">Frederick Pethick-Lawrence</a> (1945\\u20131947; head of the <a href=\\\"1946%20Cabinet%20Mission%20to%20India\\\">1946 Cabinet Mission to India</a>). The size of the Advisory Council was reduced over the next half-century, but its powers remained unchanged. In 1907, for the first time, two Indians were appointed to the Council. They were <a href=\\\"K.G.%20Gupta\\\">K.G. Gupta</a> and <a href=\\\"Syed%20Hussain%20Bilgrami\\\">Syed Hussain Bilgrami</a>.\\n\\nIn Calcutta, the <a href=\\\"Governor-General%20of%20India\\\">Governor-General</a> remained head of the Government of India and now was more commonly called the Viceroy on account of his secondary role as the Crown's representative to the nominally sovereign princely states; he was, however, now responsible to the Secretary of State in London and through him to Parliament. A system of \\\"double government\\\" had already been in place during the Company's rule in India from the time of Pitt's <a href=\\\"Pitt%27s%20India%20Act\\\">India Act of 1784</a>. The Governor-General in the capital, Calcutta, and the Governor in a subordinate presidency (<a href=\\\"Madras%20Presidency\\\">Madras</a> or <a href=\\\"Bombay%20Presidency\\\">Bombay</a>) was each required to consult his advisory council; executive orders in Calcutta, for example, were issued in the name of \\\"Governor-General-in-Council\\\" (<i>i.e.</i> the Governor-General with the advice of the Council). The Company's system of \\\"double government\\\" had its critics, since, from the time of the system's inception, there had been intermittent feuding between the Governor-General and his Council; still, the Act of 1858 made no major changes in governance. However, in the years immediately thereafter, which were also the years of post-rebellion reconstruction, Viceroy <a href=\\\"Charles%20Canning%2C%201st%20Earl%20Canning\\\">Lord Canning</a> found the collective decision making of the Council to be too time-consuming for the pressing tasks ahead, so he requested the \\\"portfolio system\\\" of an <a href=\\\"Executive%20Council%20%28Commonwealth%20countries%29\\\">Executive Council</a> in which the business of each government department (the \\\"portfolio\\\") was assigned to and became the responsibility of a single council member. Routine departmental decisions were made exclusively by the member, but important decisions required the consent of the Governor-General and, in the absence of such consent, required discussion by the entire Executive Council. This innovation in Indian governance was promulgated in the <a href=\\\"Indian%20Councils%20Act%201861\\\">Indian Councils Act 1861</a>.\\n\\nIf the Government of India needed to enact new laws, the Councils Act allowed for a Legislative Council\\u2014an expansion of the Executive Council by up to twelve additional members, each appointed to a two-year term\\u2014with half the members consisting of British officials of the government (termed <i>official</i>) and allowed to vote, and the other half, comprising Indians and domiciled Britons in India (termed <i>non-official</i>) and serving only in an advisory capacity. All laws enacted by Legislative Councils in India, whether by the <a href=\\\"Imperial%20Legislative%20Council\\\">Imperial Legislative Council</a> in <a href=\\\"Kolkata\\\">Calcutta</a> or by the provincial ones in <a href=\\\"Chennai\\\">Madras</a> and <a href=\\\"Mumbai\\\">Bombay</a>, required the final assent of the Secretary of State in <a href=\\\"London\\\">London</a>; this prompted Sir Charles Wood, the second Secretary of State, to describe the Government of India as \\\"a despotism controlled from home\\\". Moreover, although the appointment of Indians to the Legislative Council was a response to calls after the 1857 rebellion, most notably by <a href=\\\"Sayyid%20Ahmad%20Khan\\\">Sayyid Ahmad Khan</a>, for more consultation with Indians, the Indians so appointed were from the landed aristocracy, often chosen for their loyalty, and far from representative. Even so, the \\\"...\\u00a0 tiny advances in the practice of representative government were intended to provide safety valves for the expression of public opinion, which had been so badly misjudged before the rebellion\\\". Indian affairs now also came to be more closely examined in the British Parliament and more widely discussed in the British press.\\n\\nWith the promulgation of the Government of India Act 1935, the Council of India was abolished with effect from 1 April 1937 and a modified system of government enacted. The Secretary of State for India represented the Government of India in the UK. He was assisted by a body of advisers numbering from 8\\u201312 individuals, at least half of whom were required to have held office in India for a minimum of 10 years, and had not relinquished office earlier than two years prior to their appointment as advisers to the Secretary of State.\\n\\nThe Viceroy and Governor-General of India, a Crown appointee, typically held office for five years though there was no fixed tenure, and received an annual salary of Rs. 2,50,800 (\\u00a318,810 p.a.). He headed the Viceroy's Executive Council, each member of which had responsibility for a department of the central administration. From 1 April 1937, the position of Governor-General in Council, which the Viceroy and Governor-General concurrently held in the capacity of representing the Crown in relations with the Indian princely states, was replaced by the designation of \\\"HM Representative for the Exercise of the Functions of the Crown in its Relations with the Indian States\\\", or the \\\"Crown Representative.\\\" The Executive Council was greatly expanded during the Second World War, and in 1947 comprised 14members (<a href=\\\"Secretary%20to%20the%20Government%20of%20India\\\">secretaries</a>), each of whom earned a salary of Rs. 66,000 p.a. (\\u00a34,950 p.a.). The portfolios in 1946\\u20131947 were:\\n<ul><li>- External Affairs and Commonwealth Relations\\n</li><li>- Home and Information and Broadcasting\\n</li><li>- Food and transportation\\n</li><li>- Transport and Railways\\n</li><li>- Labour\\n</li><li>- Industries and Supplies\\n</li><li>- Works, Mines and Power\\n</li><li>- Education\\n</li><li>- Defence\\n</li><li>- Finance\\n</li><li>- Commerce\\n</li><li>- Communications\\n</li><li>- Health\\n</li><li>- Law\\n</li></ul>Until 1946, the Viceroy held the portfolio for External Affairs and Commonwealth Relations, as well as heading the Political Department in his capacity as the Crown Representative. Each department was headed by a <a href=\\\"Secretary%20to%20the%20Government%20of%20India\\\">secretary</a> excepting the Railway Department, which was headed by a Chief Commissioner of Railways under a Secretary.\\n\\nThe Viceroy and Governor-General was also the head of the bicameral Indian Legislature, consisting of an upper house (the Council of State) and a lower house (the Legislative Assembly). The Viceroy was the head of the Council of State, while the Legislative Assembly, which was first opened in 1921, was headed by an elected President (appointed by the Viceroy from 1921\\u20131925). The Council of State consisted of 58members (32elected, 26nominated), while the Legislative Assembly comprised 141members (26nominated officials, 13others nominated and 102elected). The Council of State existed in five-year periods and the Legislative Assembly for three-year periods, though either could be dissolved earlier or later by the Viceroy. The Indian Legislature was empowered to make laws for all persons resident in British India including all British subjects resident in India, and for all British Indian subjects residing outside India. With the assent of the King-Emperor and after copies of a proposed enactment had been submitted to both houses of the British Parliament, the Viceroy could overrule the legislature and directly enact any measures in the perceived interests of British India or its residents if the need arose.\\n\\nEffective from 1 April 1936, the Government of India Act created the new provinces of Sind (separated from the Bombay Presidency) and Orissa (separated from the Province of Bihar and Orissa). Burma and Aden became separate Crown Colonies under the Act from 1 April 1937, thereby ceasing to be part of the Indian Empire. From 1937 onwards, British India was divided into 17 administrations: the three Presidencies of Madras, Bombay and Bengal, and the 14 provinces of the United Provinces, Punjab, Bihar, the Central Provinces and Berar, Assam, the North-West Frontier Province (NWFP), Orissa, Sind, British Baluchistan, Delhi, Ajmer-Merwara, Coorg, the Andaman and Nicobar Islands and Panth Piploda. The Presidencies and the first eight provinces were each under a Governor, while the latter six provinces were each under a Chief Commissioner. The Viceroy directly governed the Chief Commissioner provinces through each respective Chief Commissioner, while the Presidencies and the provinces under Governors were allowed greater autonomy under the Government of India Act. Each Presidency or province headed by a Governor had either a provincial bicameral legislature (in the Presidencies, the United Provinces, Bihar and Assam) or a unicameral legislature (in the Punjab, Central Provinces and Berar, NWFP, Orissa and Sind). The governor of each presidency or province represented the Crown in his capacity, and was assisted by a ministers appointed from the members of each provincial legislature. Each provincial legislature had a life of five years, barring any special circumstances such as wartime conditions. All bills passed by the provincial legislature were either signed or rejected by the governor, who could also issue proclamations or promulgate ordinances while the legislature was in recess, as the need arose.\\n\\nEach province or presidency comprised a number of divisions, each headed by a <a href=\\\"Divisional%20commissioner%20%28India%29\\\">commissioner</a> and subdivided into districts, which were the basic administrative units and each headed by a <a href=\\\"District%20collector%20%28India%29\\\">district magistrate, collector or deputy commissioner</a>; in 1947, British India comprised 230 districts.\\n\\nAftermath of the Rebellion of 1857: Indian critiques, British response.Although the <a href=\\\"Indian%20rebellion%20of%201857\\\">rebellion</a> had shaken the British enterprise in India, it had not derailed it. After the war, the British became more circumspect. Much thought was devoted to the causes of the rebellion and three main lessons were drawn. First, at a practical level, it was felt that there needed to be more communication and camaraderie between the British and Indians\\u2014not just between British army officers and their Indian staff but in civilian life as well. The Indian army was completely reorganised: units composed of the Muslims and Brahmins of the <a href=\\\"United%20Provinces%20of%20Agra%20and%20Oudh\\\">United Provinces of Agra and Oudh</a>, who had formed the core of the rebellion, were disbanded. New regiments, like the Sikhs and Baluchis, composed of Indians who, in British estimation, had demonstrated steadfastness, were formed. From then on, the Indian army was to remain unchanged in its organisation until 1947. The 1861 Census had revealed that the English population in India was 125,945. Of these only about 41,862 were civilians as compared with about 84,083 European officers and men of the Army. In 1880, the standing Indian Army consisted of 66,000 British soldiers, 130,000 Natives, and 350,000 soldiers in the princely armies.\\n\\nSecond, it was also felt that both the princes and the large land-holders, by not joining the rebellion, had proved to be, in Lord Canning's words, \\\"breakwaters in a storm\\\". They too were rewarded in the new British Raj by being officially recognised in the treaties each state now signed with the Crown. At the same time, it was felt that the peasants, for whose benefit the large land-reforms of the United Provinces had been undertaken, had shown disloyalty, by, in many cases, fighting for their former landlords against the British. Consequently, no more land reforms were implemented for the next 90 years: Bengal and Bihar were to remain the realms of large land holdings (unlike the Punjab and <a href=\\\"Uttar%20Pradesh\\\">Uttar Pradesh</a>).\\n\\nThird, the British felt disenchanted with Indian reaction to social change. Until the rebellion, they had enthusiastically pushed through social reform, like the ban on <i><a href=\\\"sati%20%28practice%29\\\">sati</a></i> by <a href=\\\"Lord%20William%20Bentinck\\\">Lord William Bentinck</a>. It was now felt that traditions and customs in India were too strong and too rigid to be changed easily; consequently, no more British social interventions were made, especially in matters dealing with religion, even when the British felt very strongly about the issue (as in the instance of the remarriage of Hindu child widows). This was exemplified further in Queen Victoria's Proclamation released immediately after the rebellion. The proclamation stated that 'We disclaim alike our Right and Desire to impose Our Convictions on any of Our Subjects'; demonstrating official British commitment to abstaining from social intervention in India.\\n\\nDemographic history.The population of the territory that became the British Raj was 100million by 1600 and remained nearly stationary until the 19th century. The population of the Raj reached 255million according to the first census taken in 1881 of India.\\n\\nStudies of India's population since 1881 have focused on such topics as total population, birth and death rates, growth rates, geographic distribution, literacy, the rural and urban divide, cities of amillion, and the three cities with populations over eightmillion: <a href=\\\"Delhi\\\">Delhi</a>, Greater <a href=\\\"Bombay\\\">Bombay</a>, and <a href=\\\"Calcutta\\\">Calcutta</a>.\\n\\nMortality rates fell in the 1920\\u20131945 era, primarily due to biological immunisation. Other factors included rising incomes and better living conditions, improved better nutrition, a safer and cleaner environment, and better official health policies and medical care.\\n\\nSevere overcrowding in the cities caused major public health problems, as noted in an official report from 1938:\\n\\nIn the urban and industrial areas ... cramped sites, the high values of land and the necessity for the worker to live in the vicinity of his work ... all tend to intensify congestion and overcrowding. In the busiest centres houses are built close together, eave touching eave, and frequently back to back ... Space is so valuable that, in place of streets and roads, winding lanes provide the only approach to the houses. Neglect of sanitation is often evidenced by heaps of rotting garbage and pools of sewage, whilst the absence of latrines enhance the general pollution of air and soil.\\n\\nLegal modernisation.Singha argues that after 1857 the colonial government strengthened and expanded its infrastructure via the court system, legal procedures, and statutes. New legislation merged the Crown and the old East India Company courts and introduced a new penal code as well as new codes of civil and criminal procedure, based largely on English law. In the 1860s\\u20131880s the Raj set up compulsory registration of births, deaths, and marriages, as well as adoptions, property deeds, and wills. The goal was to create a stable, usable public record and verifiable identities. However, there was opposition from both Muslim and Hindu elements who complained that the new procedures for census-taking and registration threatened to uncover female privacy. <a href=\\\"Purdah\\\">Purdah</a> rules prohibited women from saying their husband's name or having their photograph taken. An all-India census was conducted between 1868 and 1871, often using total numbers of females in a household rather than individual names. Select groups which the Raj reformers wanted to monitor statistically included those reputed to practice <a href=\\\"female%20infanticide\\\">female infanticide</a>, prostitutes, lepers, and eunuchs.\\n\\nMurshid argues that women were in some ways more restricted by the modernisation of the laws. They remained tied to the strictures of their religion, caste, and customs, but now with an overlay of <a href=\\\"Victorian%20era\\\">British Victorian</a> attitudes. Their inheritance rights to own and manage property were curtailed; the new English laws were somewhat harsher. Court rulings restricted the rights of second wives and their children regarding inheritance. A woman had to belong to either a father or a husband to have any rights.\\n\\nCivilising mission.<a href=\\\"Thomas%20Babington%20Macaulay\\\">Thomas Babington Macaulay</a> (1800\\u20131859) <a href=\\\"Whig%20history\\\">presented his Whiggish interpretation of English history</a> as an upward progression always leading to more liberty and more progress. Macaulay simultaneously was a leading reformer involved in transforming the educational system of India. He would base it on the English language so that India could join the mother country in a steady upward progress. Macaulay took Burke's emphasis on moral rule and implemented it in actual school reforms, giving the British Empire a profound moral mission to civilise the natives.\\n\\nYale professor Karuna Mantena has argued that the civilising mission did not last long, for she says that benevolent reformers were the losers in key debates, such as those following the 1857 rebellion in India, and the scandal of <a href=\\\"Edward%20John%20Eyre\\\">Edward Eyre</a>'s brutal repression of the <a href=\\\"Morant%20Bay%20rebellion\\\">Morant Bay rebellion</a> in Jamaica in 1865. The rhetoric continued but it became an alibi for British misrule and racism. No longer was it believed that the natives could truly make progress, instead, they had to be ruled by heavy hand, with democratic opportunities postponed indefinitely. As a result:\\n\\nThe central tenets of liberal imperialism were challenged as various forms of rebellion, resistance and instability in the colonies precipitated a broad-ranging reassessment...the equation of 'good government' with the reform of native society, which was at the core of the discourse of liberal empire, would be subject to mounting scepticism.\\n\\nEnglish historian Peter Cain, has challenged Mantena, arguing that the imperialists truly believed that British rule would bring to the subjects the benefits of \\u2018ordered liberty\\u2019, thereby Britain could fulfil its moral duty and achieve its own greatness. Much of the debate took place in Britain itself, and the imperialists worked hard to convince the general population that the civilising mission was well under-way. This campaign served to strengthen imperial support at home, and thus, says Cain, to bolster the moral authority of the gentlemanly elites who ran the Empire.\\n\\nEducation.The British made widespread education in English a high priority. During the time of the East India Company, Thomas Babington Macaulay had made schooling taught in English a priority for the Raj in his famous minute of February 1835 and succeeded in implementing ideas previously put forward by <a href=\\\"Lord%20William%20Bentinck\\\">Lord William Bentinck</a> (the governor general between 1828 and 1835). Bentinck favoured the replacement of Persian by English as the official language, the use of English as the medium of instruction, and the training of English-speaking Indians as teachers. He was inspired by utilitarian ideas and called for \\\"useful learning.\\\" However, Bentinck's proposals were rejected by London officials. Under Macaulay, thousands of elementary and secondary schools were opened; they typically had an all-male student body.\\n\\nMissionaries opened their own schools that taught Christianity and <a href=\\\"the%20three%20Rs\\\">the three Rs</a>. Bellenoit argues that as civil servants became more isolated and resorted to <a href=\\\"scientific%20racism\\\">scientific racism</a>, missionary schools became more engaged with Indians, grew increasingly sympathetic to Indian culture, and adamantly opposed scientific racism.\\n\\nUniversities in Calcutta, Bombay, and Madras were established in 1857, just before the Rebellion. By 1890 some 60,000 Indians had matriculated, chiefly in the <a href=\\\"Liberal%20arts%20education\\\">liberal arts</a> or law. About a third entered public administration, and another third became lawyers. The result was a very well educated professional state bureaucracy. By 1887 of 21,000 mid-level civil services appointments, 45% were held by Hindus, 7% by Muslims, 19% by Eurasians (European father and Indian mother), and 29% by Europeans. Of the 1000 top-level civil services positions, almost all were held by Britons, typically with an <a href=\\\"Oxbridge\\\">Oxbridge</a> degree. The government, often working with local philanthropists, opened 186universities and colleges of higher education by 1911; they enrolled 36,000 students (over 90% men). By 1939 the number of institutions had doubled and enrolment reached 145,000. The curriculum followed classical British standards of the sort set by Oxford and Cambridge and stressed English literature and European history. Nevertheless, by the 1920s the student bodies had become hotbeds of Indian nationalism.\\n\\nMissions.As the <a href=\\\"Church%20of%20England\\\">Anglican Church</a> was the <a href=\\\"established%20church\\\">established church</a> of England, \\\"it had an impact on India with the arrival of the British\\\". Citing the <a href=\\\"Great%20Commission\\\">Great Commission</a>, <a href=\\\"Joseph%20White%20%28orientalist%29\\\">Joseph White</a>, a <a href=\\\"Laudian%20Professor%20of%20Arabic\\\">Laudian Professor of Arabic</a> at the University of Oxford, \\\"preached before the university in 1784 on the duty of promoting the universal and progressive message of Christianity 'among our Mahometan and Gentoo Subjects in India'.\\\" In 1889, the <a href=\\\"Prime%20Minister%20of%20the%20United%20Kingdom\\\">Prime Minister of the United Kingdom</a>, <a href=\\\"Robert%20Gascoyne-Cecil%2C%203rd%20Marquess%20of%20Salisbury\\\">Robert Gascoyne-Cecil, 3rd Marquess of Salisbury</a> expressed similar sentiments, stating that \\\"It is not only our duty but is in our interest to promote the diffusion of Christianity as far as possible throughout the length and breadth of India.\\\"\\n\\nThe growth of the <a href=\\\"British%20Indian%20Army\\\">British Indian Army</a> led to the arrival of many <a href=\\\"Anglican\\\">Anglican</a> chaplains in India. Following the arrival of the Church of England's <a href=\\\"Church%20Mission%20Society\\\">Church Mission Society</a> in 1814, the <a href=\\\"Diocese%20of%20Calcutta%20of%20the%20Church%20of%20North%20India\\\">Diocese of Calcutta</a> of the <a href=\\\"Church%20of%20India%2C%20Burma%20and%20Ceylon\\\">Church of India, Burma and Ceylon</a> (CIBC) was erected, with its <a href=\\\"St.%20Paul%27s%20Cathedral%2C%20Kolkata\\\">St. Paul's Cathedral</a> being built in 1847. By 1930, the Church of India, Burma and Ceylon had fourteen <a href=\\\"diocese\\\">dioceses</a> across the Indian Empire.\\n\\nMissionaries from other <a href=\\\"Christian%20denominations\\\">Christian denominations</a> came to British India as well; <a href=\\\"Lutheran\\\">Lutheran</a> missionaries, for example, arrived in Calcutta in 1836 and by \\\"the year 1880 there were over 31,200 Lutheran Christians spread out in 1,052 villages\\\". <a href=\\\"Methodists\\\">Methodists</a> began arriving in India in 1783 and established <a href=\\\"Christian%20mission\\\">missions</a> with a focus on \\\"education, health ministry, and evangelism\\\". In the 1790s, Christians from the <a href=\\\"London%20Missionary%20Society\\\">London Missionary Society</a> and <a href=\\\"Baptist%20Missionary%20Society\\\">Baptist Missionary Society</a>, began doing missionary work in the Indian Empire. In <a href=\\\"Neyyoor\\\">Neyoor</a>, the London Missionary Society Hospital \\\"pioneered improvements in the public health system for the treatment of diseases even before organised attempts were made by the colonial Madras Presidency, reducing the death rate substantially\\\".\\n\\nAfter 1857, the establishment of schools and hospitals by British Christian missionaries became \\\"a pivotal feature of missionary work and the principal vehicles for conversion\\\". <a href=\\\"Christ%20Church%20College%2C%20Kanpur\\\">Christ Church College</a> (1866) and <a href=\\\"St.%20Stephen%27s%20College%2C%20Delhi\\\">St. Stephen's College</a> (1881) are two examples of prominent church-affiliated educational institutions founded during the British Raj. Within educational institutions established during the British Raj, Christian texts, especially the <a href=\\\"Christian%20Bible\\\">Bible</a>, were a part of the curricula. During the British Raj, Christian missionaries developed writing systems for Indian languages that previously did not have one. Christian missionaries in India also worked to increase literacy and also engaged in social activism, such as fighting against prostitution, championing the right of widowed women to remarry, and trying to stop early marriages for women. Among British women, <a href=\\\"zenana%20missions\\\">zenana missions</a> became a popular method to win <a href=\\\"conversion%20to%20Christianity\\\">converts to Christianity</a>.\\n\\nEconomic trends.The Indian economy grew at about 1% per year from 1880 to 1920, and the population also grew at 1%. All three sectors of the economy\\u2014agriculture, manufacturing, and services\\u2014accelerated in the postcolonial India. In agriculture a \\\"<a href=\\\"green%20revolution\\\">green revolution</a>\\\" took place in the 1870s. The most important difference between colonial and postcolonial India was the utilisation of land surplus with productivity-led growth by using high-yielding variety seeds, chemical fertilizers and more intensive application of water. All these three inputs were subsidised by the state. The result was, on average, no long-term change in per capita income levels, though cost of living had grown higher. Agriculture was still dominant, with most peasants at the subsistence level. Extensive irrigation systems were built, providing an impetus for switching to cash crops for export and for raw materials for Indian industry, especially jute, cotton, sugarcane, coffee and tea. India's global share of GDP fell drastically from above 20% to less than 5% in the colonial period. Historians have been bitterly divided on issues of economic history, with the Nationalist school (following Nehru) arguing that India was poorer at the end of British rule than at the beginning and that impoverishment occurred because of the British.\\n\\nMike Davis writes that much of the economic activity in British India was for the benefit of the British economy and was carried out relentlessly through repressive British imperial policies and with negative repercussions for the Indian population. This is reified in India's large exports of wheat to Britain: despite a major famine that claimed between 6 and 10million lives in the late 1870s, these exports remained unchecked. A colonial government committed to laissez-faire economics refused to interfere with these exports or provide any relief.\\n\\nIndustry.The entrepreneur <a href=\\\"Jamsetji%20Tata\\\">Jamsetji Tata</a> (1839\\u20131904) began his industrial career in 1877 with the Central India Spinning, Weaving, and Manufacturing Company in Bombay. While other Indian mills produced cheap coarse yarn (and later cloth) using local short-staple cotton and cheap machinery imported from Britain, Tata did much better by importing expensive longer-stapled cotton from Egypt and buying more complex ring-spindle machinery from the United States to spin finer yarn that could compete with imports from Britain.\\n\\nIn the 1890s, he launched plans to move into heavy industry using Indian funding. The Raj did not provide capital, but, aware of Britain's declining position against the US and Germany in the steel industry, it wanted steel mills in India. It promised to purchase any surplus steel Tata could not otherwise sell. The <a href=\\\"Tata%20Steel\\\">Tata Iron and Steel Company</a> (TISCO), now headed by his son <a href=\\\"Dorabji%20Tata\\\">Dorabji Tata</a> (1859\\u20131932), opened its plant at Jamshedpur in Bihar in 1908. It used American technology, not British, and became the leading iron and steel producer in India, with 120,000 employees in 1945. TISCO became India's proud symbol of technical skill, managerial competence, entrepreneurial flair, and high pay for industrial workers. The Tata family, like most of India's big businessmen, were Indian nationalists but did not trust the Congress because it seemed too aggressively hostile to the Raj, too socialist, and too supportive of trade unions.\\n\\nRailways.British India built a modern railway system in the late 19th century, which was the fourth largest in the world. At first the railways were privately owned and operated. They were run by British administrators, engineers and craftsmen. At first, only the unskilled workers were Indians.\\n\\nThe East India Company (and later the colonial government) encouraged new railway companies backed by private investors under a scheme that would provide land and guarantee an annual return of up to 5% during the initial years of operation. The companies were to build and operate the lines under a 99-year lease, with the government having the option to buy them earlier.\\n\\nTwo new railway companies, the <a href=\\\"Great%20Indian%20Peninsula%20Railway\\\">Great Indian Peninsular Railway</a> (GIPR) and the <a href=\\\"East%20Indian%20Railway%20Company\\\">East Indian Railway Company</a> (EIR) began to construct and operate lines near Bombay and Calcutta in 1853\\u201354. The first passenger railway line in North India, between Allahabad and Kanpur, opened in 1859.\\n\\nIn 1854, Governor-General <a href=\\\"Lord%20Dalhousie\\\">Lord Dalhousie</a> formulated a plan to construct a network of trunk lines connecting the principal regions of India. Encouraged by the government guarantees, investment flowed in and a series of new rail companies were established, leading to rapid expansion of the rail system in India. Soon several large princely states built their own rail systems and the network spread to the regions that became the modern-day states of <a href=\\\"Assam\\\">Assam</a>, Rajasthan and <a href=\\\"Andhra%20Pradesh\\\">Andhra Pradesh</a>. The route mileage of this network increased from 1349 km in 1860 to 25495 km in 1880, mostly radiating inland from the three major port cities of Bombay, <a href=\\\"Madras\\\">Madras</a>, and Calcutta.\\n\\nMost of the railway construction was done by Indian companies supervised by British engineers. The system was heavily built, using a broad gauge, sturdy tracks and strong bridges. By 1900 India had a full range of rail services with diverse ownership and management, operating on broad, metre and <a href=\\\"narrow%20gauge\\\">narrow gauge</a> networks. In 1900, the government took over the GIPR network, while the company continued to manage it. During the First World War, the railways were used to transport troops and grain to the ports of Bombay and Karachi en route to Britain, Mesopotamia, and East Africa. With shipments of equipment and parts from Britain curtailed, maintenance became much more difficult; critical workers entered the army; workshops were converted to making artillery; some locomotives and cars were shipped to the Middle East. The railways could barely keep up with the increased demand. By the end of the war, the railways had deteriorated for lack of maintenance and were not profitable. In 1923, both GIPR and EIR were nationalised.\\n\\nHeadrick shows that until the 1930s, both the Raj lines and the private companies hired only European supervisors, civil engineers, and even operating personnel, such as locomotive engineers. The government's Stores Policy required that bids on railway contracts be made to the India Office in London, shutting out most Indian firms. The railway companies purchased most of their hardware and parts in Britain. There were railway maintenance workshops in India, but they were rarely allowed to manufacture or repair locomotives. TISCO steel could not obtain orders for rails until the war emergency.\\n\\nThe Second World War severely crippled the railways as rolling stock was diverted to the Middle East, and the railway workshops were converted into munitions workshops. After independence in 1947, forty-two separate railway systems, including thirty-two lines owned by the former Indian princely states, were amalgamated to form a single nationalised unit named the <i>Indian Railways</i>.\\n\\nIndia provides an example of the <a href=\\\"British%20Empire\\\">British Empire</a> pouring its money and expertise into a very well-built system designed for military purposes (after the Mutiny of 1857), in the hope that it would stimulate industry. The system was overbuilt and too expensive for the small amount of freight traffic it carried. Christensen (1996), who looked at colonial purpose, local needs, capital, service, and private-versus-public interests, concluded that making the railways a creature of the state hindered success because railway expenses had to go through the same time-consuming and political budgeting process as did all other state expenses. Railway costs could therefore not be tailored to the current needs of the railways or of their passengers.\\n\\nIrrigation.The British Raj invested heavily in infrastructure, including canals and irrigation systems in addition to railways, telegraphy, roads and ports. The Ganges Canal reached from Haridwar to Cawnpore (now Kanpur), and supplied thousands of miles of distribution canals. By 1900 the Raj had the largest irrigation system in the world. One success story was Assam, a jungle in 1840 that by 1900 had 4,000,000 acres under cultivation, especially in tea plantations. In all, the amount of irrigated land multiplied by a factor of eight. Historian <a href=\\\"Sir%20David%20Gilmour%2C%204th%20Baronet\\\">David Gilmour</a> says:\\n\\nPolicies.In the second half of the 19th century, both the direct administration of India by the <a href=\\\"British%20Crown\\\">British Crown</a> and the technological change ushered in by the industrial revolution had the effect of closely intertwining the economies of India and Great Britain. In fact many of the major changes in transport and communications (that are typically associated with Crown Rule of India) had already begun before the Mutiny. Since Dalhousie had embraced the technological revolution underway in Britain, India too saw rapid development of all those technologies. Railways, roads, canals, and bridges were rapidly built in India and telegraph links equally rapidly established in order that raw materials, such as cotton, from India's hinterland could be transported more efficiently to ports, such as Bombay, for subsequent export to England. Likewise, finished goods from England, were transported back, just as efficiently, for sale in the burgeoning Indian markets. Massive railway projects were begun in earnest and government railway jobs and pensions attracted a large number of upper caste Hindus into the civil services for the first time. The Indian Civil Service was prestigious and paid well, but it remained politically neutral. Imports of British cotton covered 55% of the Indian market by 1875. Industrial production as it developed in European factories was unknown until the 1850s when the first cotton mills were opened in Bombay, posing a challenge to the cottage-based home production system based on family labour.\\n\\nTaxes in India decreased during the colonial period for most of India's population; with the land tax revenue claiming 15% of India's national income during Mughal times compared with 1% at the end of the colonial period. The percentage of national income for the village economy increased from 44% during Mughal times to 54% by the end of colonial period. India's per capita GDP decreased from 1990 <a href=\\\"Int%27l%24\\\">Int'l$550</a> in 1700 to $520 by 1857, although it later increased to $618, by 1947.\\n\\nEconomic impact.Historians continue to debate whether the long-term impact of British rule was to accelerate the economic development of India, or to distort and retard it. In 1780, the conservative British politician <a href=\\\"Edmund%20Burke\\\">Edmund Burke</a> raised the issue of India's position: he vehemently attacked the <a href=\\\"East%20India%20Company\\\">East India Company</a>, claiming that <a href=\\\"Warren%20Hastings\\\">Warren Hastings</a> and other top officials had ruined the Indian economy and society. Indian historian Rajat Kanta Ray (1998) continues this line of attack, saying the new economy brought by the British in the 18th century was a form of \\\"plunder\\\" and a catastrophe for the traditional economy of the <a href=\\\"Mughal%20Empire\\\">Mughal Empire</a>. Ray accuses the British of depleting the food and money stocks and of imposing high taxes that helped cause the terrible <a href=\\\"Bengal%20famine%20of%201770\\\">Bengal famine of 1770</a>, which killed a third of the people of Bengal.\\n\\n<a href=\\\"P.%20J.%20Marshall\\\">P. J. Marshall</a> shows that recent scholarship has reinterpreted the view that the prosperity of the formerly benign Mughal rule gave way to poverty and anarchy. He argues the British takeover did not make any sharp break with the past, which largely delegated control to regional Mughal rulers and sustained a generally prosperous economy for the rest of the 18th century. Marshall notes the British went into partnership with Indian bankers and raised revenue through local tax administrators and kept the old Mughal rates of taxation.\\n\\nThe East India Company inherited an onerous taxation system that took one-third of the produce of Indian cultivators. Instead of the Indian nationalist account of the British as alien aggressors, seizing power by brute force and impoverishing all of India, Marshall presents the interpretation (supported by many scholars in India and the West) that the British were not in full control but instead were players in what was primarily an Indian play and in which their rise to power depended upon excellent co-operation with Indian elites. Marshall admits that much of his interpretation is still highly controversial among many historians.\\n\\nFamines, epidemics, public health.During the British Raj, <a href=\\\"famine%20in%20India\\\">India experienced some of the worst famines ever recorded</a>, including the <a href=\\\"Great%20Famine%20of%201876%E2%80%9378\\\">Great Famine of 1876\\u20131878</a>, in which 6.1\\u00a0million to 10.3\\u00a0million people died and the <a href=\\\"Indian%20famine%20of%201899%E2%80%931900\\\">Indian famine of 1899\\u20131900</a>, in which 1.25 to 10\\u00a0million people died. Recent research, including work by <a href=\\\"Mike%20Davis%20%28scholar%29\\\">Mike Davis</a> and <a href=\\\"Amartya%20Sen\\\">Amartya Sen</a>, argue that famines in India were made more severe by British policies in India.\\n\\nThe <a href=\\\"first%20cholera%20pandemic\\\">first cholera pandemic</a> began in <a href=\\\"Bengal\\\">Bengal</a>, then spread across India by 1820. Tenthousand British troops and countless Indians died during this <a href=\\\"pandemic\\\">pandemic</a>. Estimated deaths in India between 1817 and 1860 exceeded 15\\u00a0million. Another 23\\u00a0million died between 1865 and 1917. The <a href=\\\"Third%20plague%20pandemic\\\">Third Pandemic</a> of <a href=\\\"Plague%20%28disease%29\\\">plague</a> started in China in the middle of the 19th century, spreading disease to all inhabited continents and killing 10\\u00a0million people in India alone. <a href=\\\"Waldemar%20Haffkine\\\">Waldemar Haffkine</a>, who mainly worked in India, became the first <a href=\\\"microbiologist\\\">microbiologist</a> to develop and deploy <a href=\\\"vaccine\\\">vaccines</a> against cholera and bubonic plague. In 1925 the Plague Laboratory in Bombay was renamed the <a href=\\\"Haffkine%20Institute\\\">Haffkine Institute</a>.\\n\\nFevers ranked as one of the leading causes of death in India in the 19th century. Britain's <a href=\\\"Ronald%20Ross\\\">Sir Ronald Ross</a>, working in the <a href=\\\"Presidency%20General%20Hospital\\\">Presidency General Hospital</a> in <a href=\\\"Kolkata\\\">Calcutta</a>, finally proved in 1898 that mosquitoes transmit <a href=\\\"malaria\\\">malaria</a>, while on assignment in the Deccan at Secunderabad, where the <a href=\\\"Centre%20for%20Tropical%20and%20Communicable%20Diseases\\\">Centre for Tropical and Communicable Diseases</a> is now named in his honour.\\n\\nIn 1881 there were around 120,000 <a href=\\\"leprosy\\\">leprosy</a> patients. The central government passed the <a href=\\\"List%20of%20Indian%20Federal%20Legislation\\\">Lepers Act of 1898</a>, which provided legal provision for forcible confinement of leprosy sufferers in India. Under the direction of <a href=\\\"Mountstuart%20Elphinstone\\\">Mountstuart Elphinstone</a> a program was launched to propagate <a href=\\\"smallpox%20vaccination\\\">smallpox vaccination</a>. Mass vaccination in India resulted in a major decline in smallpox mortality by the end of the 19th century. In 1849 nearly 13% of all Calcutta deaths were due to <a href=\\\"smallpox\\\">smallpox</a>. Between 1868 and 1907, there were approximately 4.7\\u00a0million deaths from smallpox.\\n\\nSir <a href=\\\"Robert%20Grant%20%28MP%29\\\">Robert Grant</a> directed his attention to establishing a systematic institution in Bombay for imparting medical knowledge to the natives. In 1860, <a href=\\\"Grant%20Medical%20College\\\">Grant Medical College</a> became one of the four recognised colleges for teaching courses leading to degrees (alongside <a href=\\\"Elphinstone%20College\\\">Elphinstone College</a>, <a href=\\\"Deccan%20College%20%28Pune%29\\\">Deccan College</a> and <a href=\\\"Government%20Law%20College%2C%20Mumbai\\\">Government Law College, Mumbai</a>).\\n\\n1860s\\u20131890s: New middle class, Indian National Congress.By 1880, a new middle class had arisen in India and spread thinly across the country. Moreover, there was a growing solidarity among its members, created by the \\\"joint stimuli of encouragement and irritation.\\\" The encouragement felt by this class came from its success in education and its ability to avail itself of the benefits of that education such as employment in the <a href=\\\"Indian%20Civil%20Service\\\">Indian Civil Service</a>. It came too from Queen Victoria's proclamation of 1858 in which she had declared, \\\"We hold ourselves bound to the natives of our Indian territories by the same obligation of duty which bind us to all our other subjects.\\\" Indians were especially encouraged when Canada was granted <a href=\\\"Canadian%20Confederation\\\">dominion status</a> in 1867 and established an autonomous democratic constitution. Lastly, the encouragement came from the work of contemporaneous Oriental scholars like <a href=\\\"Monier%20Monier-Williams\\\">Monier Monier-Williams</a> and <a href=\\\"Max%20M%C3%BCller\\\">Max M\\u00fcller</a>, who in their works had been presenting ancient India as a great civilisation. Irritation, on the other hand, came not just from incidents of racial discrimination at the hands of the British in India, but also from governmental actions like the use of Indian troops in imperial campaigns (e.g. in the <a href=\\\"Second%20Anglo-Afghan%20War\\\">Second Anglo-Afghan War</a>) and the attempts to control the vernacular press (e.g. in the <i>Vernacular Press Act of 1878</i>).\\n\\nIt was, however, Viceroy <a href=\\\"Lord%20Ripon\\\">Lord Ripon</a>'s partial reversal of the <a href=\\\"Ilbert%20Bill\\\">Ilbert Bill</a> (1883), a legislative measure that had proposed putting Indian judges in the <a href=\\\"Bengal%20Presidency\\\">Bengal Presidency</a> on equal footing with British ones, that transformed the discontent into political action. On 28 December 1885, professionals and intellectuals from this middle-class\\u2014many educated at the new British-founded universities in Bombay, Calcutta, and Madras, and familiar with the ideas of British political philosophers, especially the <a href=\\\"Utilitarianism%23History\\\">utilitarians</a> assembled in Bombay. The seventy men founded the <a href=\\\"Indian%20National%20Congress\\\">Indian National Congress</a>; <a href=\\\"Womesh%20Chunder%20Bonnerjee\\\">Womesh Chunder Bonerjee</a> was elected the first president. The membership comprised a westernised elite and no effort was made at this time to broaden the base.\\n\\nDuring its first twenty years, the Congress primarily debated British policy toward India; however, its debates created a new Indian outlook that held Great Britain responsible for draining India of its wealth. Britain did this, the nationalists claimed, by unfair trade, by the restraint on indigenous Indian industry, and by the use of Indian taxes to pay the high salaries of the British civil servants in India.\\n\\n1870s\\u20131907: Social reformers, moderates vs. extremists.<a href=\\\"Thomas%20Baring%2C%201st%20Earl%20of%20Northbrook\\\">Thomas Baring</a> served as Viceroy of India 1872\\u20131876. Baring's major accomplishments came as an energetic reformer who was dedicated to upgrading the quality of government in the British Raj. He began large scale famine relief, reduced taxes, and overcame bureaucratic obstacles in an effort to reduce both starvation and widespread social unrest. Although appointed by a Liberal government, his policies were much the same as Viceroys appointed by Conservative governments.\\n\\nSocial reform was in the air by the 1880s. For example, <a href=\\\"Pandita%20Ramabai\\\">Pandita Ramabai</a>, poet, Sanskrit scholar, and a champion of the emancipation of Indian women, took up the cause of widow remarriage, especially of Brahmin widows, later converted to Christianity. By 1900 reform movements had taken root within the Indian National Congress. Congress member <a href=\\\"Gopal%20Krishna%20Gokhale\\\">Gopal Krishna Gokhale</a> founded the <a href=\\\"Servants%20of%20India%20Society\\\">Servants of India Society</a>, which lobbied for legislative reform (for example, for a law to permit the remarriage of Hindu child widows), and whose members took vows of poverty, and worked among the <a href=\\\"Dalits\\\">untouchable community</a>.\\n\\nBy 1905, a deep gulf opened between the moderates, led by Gokhale, who downplayed public agitation, and the new \\\"extremists\\\" who not only advocated agitation, but also regarded the pursuit of social reform as a distraction from nationalism. Prominent among the extremists was <a href=\\\"Bal%20Gangadhar%20Tilak\\\">Bal Gangadhar Tilak</a>, who attempted to mobilise Indians by appealing to an explicitly Hindu political identity, displayed, for example, in the annual public <a href=\\\"Ganapati\\\">Ganapati</a> festivals that he inaugurated in western India.\\n\\nPartition of Bengal (1905\\u20131911).The viceroy, <a href=\\\"George%20Curzon%2C%201st%20Marquess%20Curzon%20of%20Kedleston\\\">Lord Curzon</a> (1899\\u20131905), was unusually energetic in pursuit of efficiency and reform. His agenda included the creation of the <a href=\\\"North-West%20Frontier%20Province%20%281901%E2%80%931955%29\\\">North-West Frontier Province</a>; small changes in the civil services; speeding up the operations of the secretariat; setting up a gold standard to ensure a stable currency; creation of a Railway Board; irrigation reform; reduction of peasant debts; lowering the cost of telegrams; archaeological research and the preservation of antiquities; improvements in the universities; police reforms; upgrading the roles of the Native States; a new Commerce and Industry Department; promotion of industry; revised land revenue policies; lowering taxes; setting up agricultural banks; creating an Agricultural Department; sponsoring agricultural research; establishing an Imperial Library; creating an Imperial Cadet Corps; new famine codes; and, indeed, reducing the smoke nuisance in Calcutta.\\n\\nTrouble emerged for Curzon when he divided the largest administrative subdivision in British India, the <a href=\\\"Bengal%20Presidency\\\">Bengal Province</a>, into the Muslim-majority province of <a href=\\\"Eastern%20Bengal%20and%20Assam\\\">Eastern Bengal and Assam</a> and the Hindu-majority province of West Bengal (present-day Indian states of <a href=\\\"West%20Bengal\\\">West Bengal</a>, <a href=\\\"Bihar\\\">Bihar</a>, and <a href=\\\"Odisha\\\">Odisha</a>). Curzon's act, the <a href=\\\"Partition%20of%20Bengal%20%281905%29\\\">Partition of Bengal</a>\\u2014which some considered administratively felicitous, communally charged, sowed the seeds of division among Indians in Bengal and, which had been contemplated by various colonial administrations since the time of Lord William Bentinck, but never acted upon\\u2014was to transform nationalist politics as nothing else before it. The Hindu elite of Bengal, among them many who owned land in East Bengal that was leased out to Muslim peasants, protested fervidly.\\n\\nFollowing the <a href=\\\"Partition%20of%20Bengal%20%281905%29\\\">Partition of Bengal</a>, which was a strategy set out by Lord Curzon to weaken the nationalist movement, Tilak encouraged the <a href=\\\"Swadeshi%20movement\\\">Swadeshi movement</a> and the Boycott movement. The movement consisted of the boycott of foreign goods and also the social boycott of any Indian who used foreign goods. The Swadeshi movement consisted of the usage of natively produced goods. Once foreign goods were boycotted, there was a gap which had to be filled by the production of those goods in India itself. Bal Gangadhar Tilak said that the Swadeshi and Boycott movements are two sides of the same coin. The large Bengali Hindu middle-class (the <i><a href=\\\"Bhadralok\\\">Bhadralok</a></i>), upset at the prospect of Bengalis being outnumbered in the new Bengal province by Biharis and Oriyas, felt that Curzon's act was punishment for their political assertiveness. The pervasive protests against Curzon's decision took the form predominantly of the <i><a href=\\\"Swadeshi\\\">Swadeshi</a></i> (\\\"buy Indian\\\") campaign led by two-time Congress president, <a href=\\\"Surendranath%20Banerjee\\\">Surendranath Banerjee</a>, and involved boycott of British goods.\\n\\nThe rallying cry for both types of protest was the slogan <i><a href=\\\"Bande%20Mataram\\\">Bande Mataram</a></i> (\\\"Hail to the Mother\\\"), which invoked a mother goddess, who stood variously for Bengal, India, and the Hindu goddess <a href=\\\"Kali\\\">Kali</a>. <a href=\\\"Sri%20Aurobindo\\\">Sri Aurobindo</a> never went beyond the law when he edited the <i><a href=\\\"Bande%20Mataram%20%28publication%29\\\">Bande Mataram</a></i> magazine; it preached independence but within the bounds of peace as far as possible. Its goal was Passive Resistance. The unrest spread from Calcutta to the surrounding regions of Bengal when students returned home to their villages and towns. Some joined <a href=\\\"Anushilan%20samiti\\\">local political youth clubs</a> emerging in Bengal at the time, some engaged in robberies to fund arms, and even attempted to take the lives of Raj officials. However, the conspiracies generally failed in the face of intense police work. The <i>Swadeshi</i> boycott movement cut imports of British textiles by 25%. The <i>swadeshi</i> cloth, although more expensive and somewhat less comfortable than its Lancashire competitor, was worn as a mark of national pride by people all over India.\\n\\n1906\\u20131909: Muslim League, Minto-Morley reforms.The Hindu protests against the partition of Bengal led the Muslim elite in India to organise in 1906 the <a href=\\\"All%20India%20Muslim%20League\\\">All India Muslim League</a>. The League favoured the partition of Bengal, since it gave them a Muslim majority in the eastern half. In 1905, when Tilak and Lajpat Rai attempted to rise to leadership positions in the Congress, and the Congress itself rallied around the symbolism of <a href=\\\"Kali\\\">Kali</a>, Muslim fears increased. The Muslim elite, including <a href=\\\"Dhaka%20Nawab%20Family\\\">Dacca Nawab</a> and <a href=\\\"Khwaja%20Salimullah\\\">Khwaja Salimullah</a>, expected that a new province with a Muslim majority would directly benefit Muslims aspiring to political power.\\n\\nThe first steps were taken toward self-government in British India in the late 19th century with the appointment of Indian counsellors to advise the British viceroy and the establishment of provincial councils with Indian members; the British subsequently widened participation in legislative councils with the <a href=\\\"Indian%20Councils%20Act%201892\\\">Indian Councils Act of 1892</a>. <a href=\\\"Municipal%20Corporation\\\">Municipal Corporations</a> and District Boards were created for local administration; they included elected Indian members.\\n\\nThe <a href=\\\"Indian%20Councils%20Act%201909\\\">Indian Councils Act 1909</a>, known as the Morley-Minto Reforms (<a href=\\\"John%20Morley\\\">John Morley</a> was the secretary of state for India, and <a href=\\\"Gilbert%20John%20Elliot-Murray-Kynynmound%2C%204th%20Earl%20of%20Minto\\\">Minto</a> was viceroy)\\u2014gave Indians limited roles in the central and provincial legislatures. Upper class Indians, rich landowners and businessmen were favoured. The Muslim community was made a separate electorate and granted double representation. The goals were quite conservative but they did advance the elective principle.\\n\\nThe partition of Bengal was rescinded in 1911 and announced at the Delhi Durbar at which King <a href=\\\"George%20V%20of%20the%20United%20Kingdom\\\">George V</a> came in person and was crowned <a href=\\\"Emperor%20of%20India\\\">Emperor of India</a>. He announced the capital would be moved from Calcutta to Delhi. This period saw an increase in the activities of <a href=\\\"Revolutionary%20movement%20for%20Indian%20independence\\\">revolutionary groups</a>, which included Bengal's <a href=\\\"Anushilan%20Samiti\\\">Anushilan Samiti</a> and the Punjab's <a href=\\\"Ghadar%20Party\\\">Ghadar Party</a>. The British authorities were, however, able to crush violent rebels swiftly, in part because the mainstream of educated Indian politicians opposed violent revolution.\\n\\n1914\\u20131918: First World War, Lucknow Pact.The <a href=\\\"First%20World%20War\\\">First World War</a> would prove to be a watershed in the imperial relationship between Britain and India. Shortly before the outbreak of war, the Government of India had indicated that they could furnish two divisions plus a cavalry brigade, with a further division in case of emergency. Some 1.4million Indian and British soldiers of the <a href=\\\"British%20Indian%20Army\\\">British Indian Army</a> took part in the war, primarily in Iraq and the <a href=\\\"Middle%20Eastern%20theatre%20of%20World%20War%20I\\\">Middle East</a>. Their participation had a wider cultural fallout as news spread of how bravely soldiers fought and died alongside British soldiers, as well as soldiers from dominions like Canada and Australia. India's international profile rose during the 1920s, as it became a of the <a href=\\\"League%20of%20Nations\\\">League of Nations</a> in 1920 and participated, under the name \\\"Les Indes Anglaises\\\" (British India), in the <a href=\\\"1920%20Summer%20Olympics\\\">1920 Summer Olympics</a> in Antwerp. Back in India, especially among the leaders of the <a href=\\\"Indian%20National%20Congress\\\">Indian National Congress</a>, the war led to calls for greater self-government for Indians.\\n\\nAfter the 1906 split between the moderates and the extremists, organised political activity by the Congress had remained fragmented until 1914, when <a href=\\\"Bal%20Gangadhar%20Tilak\\\">Bal Gangadhar Tilak</a> was released from prison and began to sound out other Congress leaders about possible reunification. That, however, had to wait until the demise of Tilak's principal moderate opponents, <a href=\\\"Gopal%20Krishna%20Gokhale\\\">Gopal Krishna Gokhale</a> and <a href=\\\"Pherozeshah%20Mehta\\\">Pherozeshah Mehta</a>, in 1915, whereupon an agreement was reached for Tilak's ousted group to re-enter the Congress. In the 1916 Lucknow session of the Congress, Tilak's supporters were able to push through a more radical resolution which asked for the British to declare that it was their \\\"aim and intention\\u00a0... to confer self-government on India at an early date.\\\" Soon, other such rumblings began to appear in public pronouncements: in 1917, in the <a href=\\\"Imperial%20Legislative%20Council\\\">Imperial Legislative Council</a>, <a href=\\\"Madan%20Mohan%20Malaviya\\\">Madan Mohan Malaviya</a> spoke of the expectations the war had generated in India, \\\"I venture to say that the war has put the clock\\u00a0... fifty years forward\\u00a0... (The) reforms after the war will have to be such,\\u00a0... as will satisfy the aspirations of her (India's) people to take their legitimate part in the administration of their own country.\\\"\\n\\nThe 1916 Lucknow Session of the Congress was also the venue of an unanticipated mutual effort by the Congress and the Muslim League, the occasion for which was provided by the wartime partnership between Germany and Turkey. Since the <a href=\\\"Ottoman%20Caliphate\\\">Turkish Sultan</a>, or <i>Khalifah</i>, had also sporadically claimed guardianship of the Islamic holy sites of <a href=\\\"Mecca\\\">Mecca</a>, <a href=\\\"Medina\\\">Medina</a>, and <a href=\\\"Jerusalem\\\">Jerusalem</a>, and since the British and their allies were now in conflict with Turkey, doubts began to increase among some Indian Muslims about the \\\"religious neutrality\\\" of the British, doubts that had already surfaced as a result of the <a href=\\\"Partition%20of%20Bengal%20%281905%29\\\">reunification of Bengal</a> in 1911, a decision that was seen as ill-disposed to Muslims. In the <a href=\\\"Lucknow%20Pact\\\">Lucknow Pact</a>, the League joined the Congress in the proposal for greater self-government that was campaigned for by Tilak and his supporters; in return, the Congress accepted separate electorates for Muslims in the provincial legislatures as well as the Imperial Legislative Council. In 1916, the Muslim League had anywhere between 500 and 800members and did not yet have the wider following among Indian Muslims that it enjoyed in later years; in the League itself, the pact did not have unanimous backing, having largely been negotiated by a group of \\\"Young Party\\\" Muslims from the <a href=\\\"United%20Provinces%20of%20Agra%20and%20Oudh\\\">United Provinces</a> (UP), most prominently, two brothers <a href=\\\"Maulana%20Mohammad%20Ali\\\">Mohammad</a> and <a href=\\\"Maulana%20Shaukat%20Ali\\\">Shaukat Ali</a>, who had embraced the Pan-Islamic cause; however, it did have the support of a young lawyer from Bombay, <a href=\\\"Muhammad%20Ali%20Jinnah\\\">Muhammad Ali Jinnah</a>, who was later to rise to leadership roles in both the League and the Indian independence movement. In later years, as the full ramifications of the pact unfolded, it was seen as benefiting the Muslim minority <i>\\u00e9lites</i> of provinces like UP and Bihar more than the Muslim majorities of Punjab and Bengal; nonetheless, at the time, the \\\"Lucknow Pact\\\" was an important milestone in nationalistic agitation and was seen as such by the British.\\n\\nDuring 1916, two <a href=\\\"Home%20Rule%20Movement\\\">Home Rule Leagues</a> were founded within the Indian National Congress by Tilak and <a href=\\\"Annie%20Besant\\\">Annie Besant</a>, respectively, to promote <a href=\\\"Home%20Rule\\\">Home Rule</a> among Indians, and also to elevate the stature of the founders within the Congress itself. Mrs. Besant, for her part, was also keen to demonstrate the superiority of this new form of organised agitation, which had achieved some success in the <a href=\\\"Home%20Rule%23Irish%20home%20rule\\\">Irish home rule movement</a>, over the political violence that had intermittently plagued the subcontinent during the years 1907\\u20131914. The two Leagues focused their attention on complementary geographical regions: Tilak's in western India, in the <a href=\\\"Bombay%20presidency%23Geography\\\">southern Bombay presidency</a>, and Mrs. Besant's in the rest of the country, but especially in the <a href=\\\"Madras%20Presidency\\\">Madras Presidency</a> and in regions like <a href=\\\"Sindh\\\">Sind</a> and <a href=\\\"Gujarat\\\">Gujarat</a> that had hitherto been considered politically dormant by the Congress. Both leagues rapidly acquired new members\\u2014approximately thirtythousand each in a little over a year\\u2014and began to publish inexpensive newspapers. Their propaganda also turned to posters, pamphlets, and political-religious songs, and later to mass meetings, which not only attracted greater numbers than in earlier Congress sessions, but also entirely new social groups such as non-<a href=\\\"Brahmin\\\">Brahmins</a>, traders, farmers, students, and lower-level government workers. Although they did not achieve the magnitude or character of a nationwide mass movement, the Home Rule leagues both deepened and widened organised political agitation for self-rule in India. The British authorities reacted by imposing restrictions on the Leagues, including shutting out students from meetings and banning the two leaders from travelling to certain provinces.\\n\\nThe year 1915 also saw the return of <a href=\\\"Mohandas%20Karamchand%20Gandhi\\\">Mohandas Karamchand Gandhi</a> to India. Already known in India as a result of his civil liberties protests on behalf of the Indians in South Africa, Gandhi followed the advice of his mentor <a href=\\\"Gopal%20Krishna%20Gokhale\\\">Gopal Krishna Gokhale</a> and chose not to make any public pronouncements during the first year of his return, but instead spent the year travelling, observing the country at first hand, and writing. Earlier, during his South Africa sojourn, Gandhi, a lawyer by profession, had represented an Indian community, which, although small, was sufficiently diverse to be a microcosm of India itself. In tackling the challenge of holding this community together and simultaneously confronting the colonial authority, he had created a technique of non-violent resistance, which he labelled <i><a href=\\\"Satyagraha\\\">Satyagraha</a></i> (or Striving for Truth). For Gandhi, <i>Satyagraha</i> was different from \\\"<a href=\\\"passive%20resistance\\\">passive resistance</a>\\\", by then a familiar technique of social protest, which he regarded as a practical strategy adopted by the weak in the face of superior force; <i>Satyagraha</i>, on the other hand, was for him the \\\"last resort of those strong enough in their commitment to truth to undergo suffering in its cause.\\\" <a href=\\\"Ahimsa\\\">Ahimsa</a> or \\\"non-violence\\\", which formed the underpinning of <i>Satyagraha</i>, came to represent the twin pillar, with Truth, of Gandhi's unorthodox religious outlook on life. During the years 1907\\u20131914, Gandhi tested the technique of <i>Satyagraha</i> in a number of protests on behalf of the Indian community in South Africa against the unjust racial laws.\\n\\nAlso, during his time in South Africa, in his essay, <i>Hind Swaraj</i>, (1909), Gandhi formulated his vision of <i><a href=\\\"Swaraj\\\">Swaraj</a></i>, or \\\"self-rule\\\" for India based on three vital ingredients: solidarity between Indians of different faiths, but most of all between Hindus and Muslims; the removal of <a href=\\\"untouchability\\\">untouchability</a> from Indian society; and the exercise of <i><a href=\\\"swadeshi\\\">swadeshi</a></i>\\u2014the boycott of manufactured foreign goods and the revival of Indian <a href=\\\"cottage%20industry\\\">cottage industry</a>. The first two, he felt, were essential for India to be an egalitarian and tolerant society, one befitting the principles of Truth and <i><a href=\\\"Ahimsa\\\">Ahimsa</a></i>, while the last, by making Indians more self-reliant, would break the cycle of dependence that was perpetuating not only the direction and tenor of the British rule in India, but also the British commitment to it. At least until 1920, the British presence itself was not a stumbling block in Gandhi's conception of <i><a href=\\\"swaraj\\\">swaraj</a></i>; rather, it was the inability of Indians to create a modern society.\\n\\n1917\\u20131919: <i>Satyagraha</i>, Montagu-Chelmsford reforms, Jallianwalla Bagh.Gandhi made his political debut in India in 1917 in <a href=\\\"Champaran\\\">Champaran</a> district in <a href=\\\"Bihar\\\">Bihar</a>, near the Nepal border, where he was invited by a group of disgruntled tenant farmers who, for many years, had been forced into planting <a href=\\\"indigo\\\">indigo</a> (for dyes) on a portion of their land and then selling it at below-market prices to the British planters who had leased them the land. Upon his arrival in the district, Gandhi was joined by other agitators, including a young Congress leader, <a href=\\\"Rajendra%20Prasad\\\">Rajendra Prasad</a>, from Bihar, who would become a loyal supporter of Gandhi and go on to play a prominent role in the Indian independence movement. When Gandhi was ordered to leave by the local British authorities, he refused on moral grounds, setting up his refusal as a form of individual <a href=\\\"Satyagraha\\\">Satyagraha</a>. Soon, under pressure from the Viceroy in Delhi who was anxious to maintain domestic peace during wartime, the provincial government rescinded Gandhi's expulsion order, and later agreed to an official enquiry into the case. Although the British planters eventually gave in, they were not won over to the farmers' cause, and thereby did not produce the optimal outcome of a Satyagraha that Gandhi had hoped for; similarly, the farmers themselves, although pleased at the resolution, responded less than enthusiastically to the concurrent projects of rural empowerment and education that Gandhi had inaugurated in keeping with his ideal of <i>swaraj</i>. The following year Gandhi launched two more Satyagrahas\\u2014both in his native <a href=\\\"Gujarat\\\">Gujarat</a>\\u2014one in the rural <a href=\\\"Kheda\\\">Kaira</a> district where land-owning farmers were protesting increased land-revenue and the other in the city of <a href=\\\"Ahmedabad\\\">Ahmedabad</a>, where workers in an Indian-owned textile mill were distressed about their low wages. The satyagraha in Ahmedabad took the form of Gandhi fasting and supporting the workers in a strike, which eventually led to a settlement. In Kaira, in contrast, although the farmers' cause received publicity from Gandhi's presence, the satyagraha itself, which consisted of the farmers' collective decision to withhold payment, was not immediately successful, as the British authorities refused to back down. The agitation in Kaira gained for Gandhi another lifelong lieutenant in <a href=\\\"Sardar%20Vallabhbhai%20Patel\\\">Sardar Vallabhbhai Patel</a>, who had organised the farmers, and who too would go on to play a leadership role in the Indian independence movement. Champaran, Kaira, and Ahmedabad were important milestones in the history of Gandhi's new methods of social protest in India.\\n\\nIn 1916, in the face of new strength demonstrated by the nationalists with the signing of the <a href=\\\"Lucknow%20Pact\\\">Lucknow Pact</a> and the founding of the <a href=\\\"Home%20Rule%20Movement\\\">Home Rule leagues</a>, and the realisation, after the disaster in the <a href=\\\"Mesopotamian%20campaign\\\">Mesopotamian campaign</a>, that the war would likely last longer, the new Viceroy, <a href=\\\"Frederic%20Thesiger%2C%201st%20Viscount%20Chelmsford\\\">Lord Chelmsford</a>, cautioned that the Government of India needed to be more responsive to Indian opinion. Towards the end of the year, after discussions with the government in London, he suggested that the British demonstrate their good faith\\u2014in light of the Indian war role\\u2014through a number of public actions, including awards of titles and honours to princes, granting of commissions in the army to Indians, and removal of the much-reviled cotton excise duty, but, most importantly, an announcement of Britain's future plans for India and an indication of some concrete steps. After more discussion, in August 1917, the new Liberal <a href=\\\"Secretary%20of%20State%20for%20India\\\">Secretary of State for India</a>, <a href=\\\"Edwin%20Montagu\\\">Edwin Montagu</a>, announced the British aim of \\\"increasing association of Indians in every branch of the administration, and the gradual development of self-governing institutions, with a view to the progressive realisation of responsible government in India as an integral part of the British Empire.\\\" Although the plan envisioned limited self-government at first only in the provinces\\u2014with India emphatically within the British Empire\\u2014it represented the first British proposal for any form of representative government in a non-white colony.\\n\\nEarlier, at the onset of World War I, the reassignment of most of the British army in India to Europe and <a href=\\\"Mesopotamian%20campaign\\\">Mesopotamia</a>, had led the previous Viceroy, <a href=\\\"Charles%20Hardinge%2C%201st%20Baron%20Hardinge%20of%20Penshurst\\\">Lord Harding</a>, to worry about the \\\"risks involved in denuding India of troops.\\\" <a href=\\\"Revolutionary%20movement%20for%20Indian%20independence\\\">Revolutionary violence</a> had already been a concern in British India; consequently, in 1915, to strengthen its powers during what it saw was a time of increased vulnerability, the Government of India passed the <a href=\\\"Defence%20of%20India%20Act%201915\\\">Defence of India Act 1915</a>, which allowed it to intern politically dangerous dissidents without due process, and added to the power it already had\\u2014under the 1910 Press Act\\u2014both to imprison journalists without trial and to censor the press. It was under the Defence of India act that the Ali brothers were imprisoned in 1916, and Annie Besant, a European woman, and ordinarily more problematic to imprison, was arrested in 1917. Now, as constitutional reform began to be discussed in earnest, the British began to consider how new moderate Indians could be brought into the fold of constitutional politics and, simultaneously, how the hand of established constitutionalists could be strengthened. However, since the Government of India wanted to ensure against any sabotage of the reform process by extremists, and since its reform plan was devised during a time when extremist violence had ebbed as a result of increased governmental control, it also began to consider how some of its wartime powers could be extended into peacetime.\\n\\nConsequently, in 1917, even as Edwin Montagu, announced the new constitutional reforms, a committee chaired by a British judge, S. A. T. Rowlatt, was tasked with investigating \\\"revolutionary conspiracies\\\", with the unstated goal of extending the government's wartime powers. The Rowlatt Committee presented its report in July 1918 and identified three regions of conspiratorial insurgency: <a href=\\\"Bengal\\\">Bengal</a>, the <a href=\\\"Bombay%20presidency\\\">Bombay presidency</a>, and the <a href=\\\"Punjab%2C%20India\\\">Punjab</a>. To combat subversive acts in these regions, the committee recommended that the government use emergency powers akin to its wartime authority, which included the ability to try cases of sedition by a panel of three judges and without juries, exaction of securities from suspects, governmental overseeing of residences of suspects, and the power for provincial governments to arrest and detain suspects in short-term detention facilities and without trial.\\n\\nWith the end of World War I, there was also a change in the economic climate. By the end of 1919, 1.5million Indians had served in the armed services in either combatant or non-combatant roles, and India had provided \\u00a3146million in revenue for the war. The increased taxes coupled with disruptions in both domestic and international trade had the effect of approximately doubling the index of overall prices in India between 1914 and 1920. Returning war veterans, especially in the Punjab, created a growing unemployment crisis, and post-war inflation led to food riots in Bombay, Madras, and Bengal provinces, a situation that was made only worse by the failure of the 1918\\u201319 monsoon and by profiteering and speculation. The global influenza epidemic and the <a href=\\\"Bolshevik%20Revolution\\\">Bolshevik Revolution</a> of 1917 added to the general jitters; the former among the population already experiencing economic woes, and the latter among government officials, fearing a similar revolution in India.\\n\\nTo combat what it saw as a coming crisis, the government now drafted the Rowlatt committee's recommendations into two <a href=\\\"Rowlatt%20Acts\\\">Rowlatt Bills</a>. Although the bills were authorised for legislative consideration by Edwin Montagu, they were done so unwillingly, with the accompanying declaration, \\\"I loathe the suggestion at first sight of preserving the Defence of India Act in peacetime to such an extent as Rowlatt and his friends think necessary.\\\" In the ensuing discussion and vote in the Imperial Legislative Council, all Indian members voiced opposition to the bills. The Government of India was, nevertheless, able to use of its \\\"official majority\\\" to ensure passage of the bills early in 1919. However, what it passed, in deference to the Indian opposition, was a lesser version of the first bill, which now allowed extrajudicial powers, but for a period of exactly three years and for the prosecution solely of \\\"anarchical and revolutionary movements\\\", dropping entirely the second bill involving modification the <a href=\\\"Indian%20Penal%20Code\\\">Indian Penal Code</a>. Even so, when it was passed, the new <a href=\\\"Rowlatt%20Act\\\">Rowlatt Act</a> aroused widespread indignation throughout India, and brought Gandhi to the forefront of the nationalist movement.\\n\\nMeanwhile, Montagu and Chelmsford themselves finally presented their report in July 1918 after a long fact-finding trip through India the previous winter. After more discussion by the government and parliament in Britain, and another tour by the Franchise and Functions Committee for the purpose of identifying who among the Indian population could vote in future elections, the <a href=\\\"Government%20of%20India%20Act%201919\\\">Government of India Act 1919</a> (also known as the <a href=\\\"Montagu-Chelmsford%20Reforms\\\">Montagu-Chelmsford Reforms</a>) was passed in December 1919. The new Act enlarged both the provincial and <a href=\\\"Imperial%20Legislative%20Council\\\">Imperial</a> legislative councils and repealed the Government of India's recourse to the \\\"official majority\\\" in unfavourable votes. Although departments like defence, foreign affairs, criminal law, communications, and income-tax were retained by the <a href=\\\"Governor-General%20of%20India\\\">Viceroy</a> and the central government in New Delhi, other departments like public health, education, land-revenue, local self-government were transferred to the provinces. The provinces themselves were now to be administered under a new <a href=\\\"Diarchy\\\">diarchical</a> system, whereby some areas like education, agriculture, infrastructure development, and local self-government became the preserve of Indian ministers and legislatures, and ultimately the Indian electorates, while others like irrigation, land-revenue, police, prisons, and control of media remained within the purview of the British governor and his executive council. The new Act also made it easier for Indians to be admitted into the civil services and the army officer corps.\\n\\nA greater number of Indians were now enfranchised, although, for voting at the national level, they constituted only 10% of the total adult male population, many of whom were still illiterate. In the provincial legislatures, the British continued to exercise some control by setting aside seats for special interests they considered cooperative or useful. In particular, rural candidates, generally sympathetic to British rule and less confrontational, were assigned more seats than their urban counterparts. Seats were also reserved for non-Brahmins, landowners, businessmen, and college graduates. The principal of \\\"communal representation\\\", an integral part of the <a href=\\\"Minto-Morley%20Reforms\\\">Minto-Morley Reforms</a>, and more recently of the Congress-Muslim League Lucknow Pact, was reaffirmed, with seats being reserved for Muslims, <a href=\\\"Sikhs\\\">Sikhs</a>, <a href=\\\"Christianity%20in%20India\\\">Indian Christians</a>, <a href=\\\"Anglo-Indians\\\">Anglo-Indians</a>, and domiciled Europeans, in both provincial and Imperial legislative councils. The Montagu-Chelmsford reforms offered Indians the most significant opportunity yet for exercising legislative power, especially at the provincial level; however, that opportunity was also restricted by the still limited number of eligible voters, by the small budgets available to provincial legislatures, and by the presence of rural and special interest seats that were seen as instruments of British control. Its scope was unsatisfactory to the Indian political leadership, famously expressed by <a href=\\\"Annie%20Beasant\\\">Annie Beasant</a> as something \\\"unworthy of England to offer and India to accept\\\".\\n\\nThe <a href=\\\"Jallianwala%20Bagh%20massacre\\\">Jallianwala Bagh massacre</a> or \\\"Amritsar massacre\\\", took place in the <a href=\\\"Jallianwala%20Bagh\\\">Jallianwala Bagh</a> public garden in the predominantly Sikh northern city of <a href=\\\"Amritsar\\\">Amritsar</a>. After days of unrest Brigadier-General <a href=\\\"Reginald%20Dyer\\\">Reginald E.H. Dyer</a> forbade public meetings and on Sunday 13 April 1919 fifty British Indian Army soldiers commanded by Dyer began shooting at an unarmed gathering of thousands of men, women, and children without warning. Casualty estimates vary widely, with the Government of India reporting 379dead, with 1,100wounded. The <a href=\\\"Indian%20National%20Congress\\\">Indian National Congress</a> estimated three times the number of dead. Dyer was removed from duty but he became a celebrated hero in Britain among people with connections to the Raj. Historians consider the episode was a decisive step towards the end of British rule in India.\\n\\n1920s: Non-cooperation, <i>Khilafat</i>, Simon Commission, Jinnah's fourteen points.In 1920, after the British government refused to back down, Gandhi began his campaign of <a href=\\\"Non-cooperation%20movement\\\">non-cooperation</a>, prompting many Indians to return British awards and honours, to resign from the civil services, and to again boycott British goods. In addition, Gandhi reorganised the Congress, transforming it into a mass movement and opening its membership to even the poorest Indians. Although Gandhi halted the non-cooperation movement in 1922 after the violent <a href=\\\"Chauri%20Chaura%20incident\\\">incident at Chauri Chaura</a>, the movement revived again, in the mid-1920s.\\n\\nThe visit, in 1928, of the British <a href=\\\"Simon%20Commission\\\">Simon Commission</a>, charged with instituting constitutional reform in India, resulted in widespread protests throughout the country. Earlier, in 1925, non-violent protests of the Congress had resumed too, this time in Gujarat, and led by Patel, who organised farmers to refuse payment of increased land taxes; the success of this protest, the <a href=\\\"Bardoli%20Satyagraha\\\">Bardoli Satyagraha</a>, brought Gandhi back into the fold of active politics.\\n\\n1929\\u20131937: Round Table conferences, Government of India Act.At its annual session in <a href=\\\"Lahore\\\">Lahore</a>, the Indian National Congress, under the presidency of <a href=\\\"Jawaharlal%20Nehru\\\">Jawaharlal Nehru</a>, issued a demand for <i><a href=\\\"Purna%20Swaraj\\\">Purna Swaraj</a></i> (<a href=\\\"Hindustani%20language\\\">Hindustani language</a>: \\\"complete independence\\\"), or <a href=\\\"Purna%20Swarajya\\\">Purna Swarajya</a>. The declaration was drafted by the <a href=\\\"Congress%20Working%20Committee\\\">Congress Working Committee</a>, which included Gandhi, Nehru, Patel, and <a href=\\\"Chakravarthi%20Rajagopalachari\\\">Chakravarthi Rajagopalachari</a>. Gandhi subsequently led an expanded movement of civil disobedience, culminating in 1930 with the <a href=\\\"Salt%20Satyagraha\\\">Salt Satyagraha</a>, in which thousands of Indians defied the tax on salt, by marching to the sea and making their own salt by evaporating seawater. Although, many, including Gandhi, were arrested, the British government eventually gave in, and in 1931 Gandhi travelled to London to negotiate new reform at the <a href=\\\"Round%20Table%20Conferences\\\">Round Table Conferences</a>.\\n\\nIn local terms, British control rested on the <a href=\\\"Indian%20Civil%20Service\\\">Indian Civil Service</a> (ICS), but it faced growing difficulties. Fewer and fewer young men in Britain were interested in joining, and the continuing distrust of Indians resulted in a declining base in terms of quality and quantity. By 1945 Indians were numerically dominant in the ICS and at issue was loyal divided between the Empire and independence. The finances of the Raj depended on land taxes, and these became problematic in the 1930s. Epstein argues that after 1919 it became harder and harder to collect the land revenue. The Raj's suppression of civil disobedience after 1934 temporarily increased the power of the revenue agents but after 1937 they were forced by the new Congress-controlled provincial governments to hand back confiscated land. Again the outbreak of war strengthened them, in the face of the <a href=\\\"Quit%20India\\\">Quit India</a> movement the revenue collectors had to rely on military force and by 1946\\u201347 direct British control was rapidly disappearing in much of the countryside.\\n\\nIn 1935, after the Round Table Conferences, Parliament passed the <a href=\\\"Government%20of%20India%20Act%201935\\\">Government of India Act 1935</a>, which authorised the establishment of independent legislative assemblies in all provinces of British India, the creation of a central government incorporating both the British provinces and the princely states, and the protection of Muslim minorities. The future <a href=\\\"Constitution%20of%20India\\\">Constitution of independent India</a> was based on this act. However, it divided the electorate into 19 religious and social categories, e.g., Muslims, Sikhs, Indian Christians, Depressed Classes, Landholders, Commerce and Industry, Europeans, Anglo-Indians, etc., each of which was given separate representation in the Provincial Legislative Assemblies. A voter could cast a vote only for candidates in his own category.\\n\\nThe 1935 Act provided for more autonomy for Indian provinces, with the goal of cooling off nationalist sentiment. The act provided for a national parliament and an executive branch under the purview of the British government, but the rulers of the princely states managed to block its implementation. These states remained under the full control of their hereditary rulers, with no popular government. To prepare for elections Congress built up its grass roots membership from 473,000 in 1935 to 4.5million in 1939.\\n\\nIn the <a href=\\\"Indian%20Provincial%20Elections%2C%201937\\\">1937 elections</a> Congress won victories in seven of the eleven provinces of British India. Congress governments, with wide powers, were formed in these provinces. The widespread voter support for the Indian National Congress surprised Raj officials, who previously had seen the Congress as a small elitist body.\\n1938\\u20131941: World War II, Muslim League's Lahore Resolution.While the Muslim League was a small elite group in 1927 with only 1300members, it grew rapidly once it became an organisation that reached out to the masses, reaching 500,000members in Bengal in 1944, 200,000 in Punjab, and hundreds of thousands elsewhere. Jinnah now was well positioned to negotiate with the British from a position of power. With the outbreak of World War II in 1939, the viceroy, <a href=\\\"Victor%20Hope%2C%202nd%20Marquess%20of%20Linlithgow\\\">Lord Linlithgow</a>, declared war on India's behalf without consulting Indian leaders, leading the Congress provincial ministries to resign in protest. The Muslim League, in contrast, supported Britain in the war effort and maintained its control of the government in three major provinces, Bengal, Sind and the Punjab.\\n\\nJinnah repeatedly warned that Muslims would be unfairly treated in an independent India dominated by the Congress. On 24 March 1940 in Lahore, the League passed the \\\"<a href=\\\"Lahore%20Resolution\\\">Lahore Resolution</a>\\\", demanding that, \\\"the areas in which the Muslims are numerically in majority as in the North-Western and Eastern zones of India should be grouped to constitute independent states in which the constituent units shall be autonomous and sovereign.\\\" Although there were other important national Muslim politicians such as Congress leader <a href=\\\"Ab%27ul%20Kalam%20Azad\\\">Ab'ul Kalam Azad</a>, and influential regional Muslim politicians such as <a href=\\\"A.%20K.%20Fazlul%20Huq\\\">A. K. Fazlul Huq</a> of the leftist <a href=\\\"Krishak%20Praja%20Party\\\">Krishak Praja Party</a> in Bengal, <a href=\\\"Fazl-i-Hussain\\\">Fazl-i-Hussain</a> of the landlord-dominated <a href=\\\"Unionist%20Muslim%20League\\\">Punjab Unionist Party</a>, and <a href=\\\"Abdul%20Ghaffar%20Khan\\\">Abd al-Ghaffar Khan</a> of the pro-Congress <a href=\\\"Khudai%20Khidmatgar\\\">Khudai Khidmatgar</a> (popularly, \\\"red shirts\\\") in the <a href=\\\"North-West%20Frontier%20Province%20%281901%E2%80%931955%29\\\">North West Frontier Province</a>, the British, over the next six years, were to increasingly see the League as the main representative of Muslim India.\\n\\nThe Congress was secular and strongly opposed to having any religious state. It insisted there was a natural unity to India, and repeatedly blamed the British for \\\"divide and rule\\\" tactics based on prompting Muslims to think of themselves as alien from Hindus. Jinnah rejected the notion of a united India, and emphasised that religious communities were more basic than an artificial nationalism. He proclaimed the <a href=\\\"Two-Nation%20Theory\\\">Two-Nation Theory</a>, stating at Lahore on 23 March 1940:\\nWhile the regular Indian army in 1939 included about 220,000native troops, it expanded tenfold during the war, and small naval and air force units were created. Over twomillion Indians volunteered for military service in the British Army. They played a major role in numerous campaigns, especially in the Middle East and North Africa. Casualties were moderate (in terms of the world war), with 24,000killed; 64,000 wounded; 12,000missing (probably dead), and 60,000captured at Singapore in 1942.\\n\\nLondon paid most of the cost of the Indian Army, which had the effect of erasing India's national debt; it ended the war with a surplus of \\u00a31,300million. In addition, heavy British spending on munitions produced in India (such as uniforms, rifles, machine-guns, field artillery, and ammunition) led to a rapid expansion of industrial output, such as textiles (up 16%), steel (up 18%), and chemicals (up 30%). Small warships were built, and an aircraft factory opened in Bangalore. The railway system, with 700,000 employees, was taxed to the limit as demand for transportation soared.\\n\\n1942\\u20131945: Cripps mission, Quit India Resolution, INA.The British government sent the <a href=\\\"Cripps%27%20mission\\\">Cripps' mission</a> in 1942 to secure Indian nationalists' co-operation in the war effort in exchange for a promise of independence as soon as the war ended. Top officials in Britain, most notably Prime Minister <a href=\\\"Winston%20Churchill\\\">Winston Churchill</a>, did not support the Cripps Mission and negotiations with the Congress soon broke down.\\n\\nCongress launched the <a href=\\\"Quit%20India%20Movement\\\">Quit India Movement</a> in July 1942 demanding the immediate withdrawal of the British from India or face nationwide civil disobedience. On 8 August the Raj arrested all national, provincial and local Congress leaders, holding tens of thousands of them until 1945. The country erupted in violent demonstrations led by students and later by peasant political groups, especially in Eastern <a href=\\\"United%20Provinces%20of%20Agra%20and%20Oudh\\\">United Provinces</a>, Bihar, and western Bengal. The large wartime British Army presence crushed the movement in a little more than six weeks; nonetheless, a portion of the movement formed for a time an underground provisional government on the border with Nepal. In other parts of India, the movement was less spontaneous and the protest less intensive, however it lasted sporadically into the summer of 1943. It did not slow down the British war effort or recruiting for the army.\\n\\nEarlier, <a href=\\\"Subhas%20Chandra%20Bose\\\">Subhas Chandra Bose</a>, who had been a leader of the younger, radical, wing of the <a href=\\\"Indian%20National%20Congress\\\">Indian National Congress</a> in the late 1920s and 1930s, had risen to become Congress President from 1938 to 1939. However, he was ousted from the Congress in 1939 following differences with the high command, and subsequently placed under house arrest by the British before escaping from India in early 1941. He turned to <a href=\\\"Axis%20powers%20of%20World%20War%20II\\\">Nazi Germany and Imperial Japan</a> for help in gaining India's independence by force. With Japanese support, he organised the <a href=\\\"Indian%20National%20Army\\\">Indian National Army</a>, composed largely of Indian soldiers of the British Indian Army who had been captured by the Japanese in the <a href=\\\"Battle%20of%20Singapore\\\">Battle of Singapore</a>. As the war turned against them, the Japanese came to support a number of puppet and provisional governments in the captured regions, including those in <a href=\\\"Japanese%20occupation%20of%20Burma\\\">Burma</a>, the <a href=\\\"Philippines\\\">Philippines</a> and <a href=\\\"Vietnam\\\">Vietnam</a>, and in addition, the Provisional Government of <a href=\\\"Azad%20Hind\\\">Azad Hind</a>, presided by Bose.\\n\\nBose's effort, however, was short lived. In mid-1944 the British Army first halted and then reversed the Japanese <a href=\\\"Operation%20U-Go\\\">U-Go offensive</a>, beginning the successful part of the <a href=\\\"Burma%20Campaign\\\">Burma Campaign</a>. Bose's Indian National Army largely disintegrated during the subsequent fighting in Burma, with its remaining elements surrendering with the recapture of Singapore in September 1945. Bose died in August from third degree burns received after attempting to escape in an overloaded Japanese plane which crashed in Taiwan, which many Indians believe did not happen. Although Bose was unsuccessful, he roused patriotic feelings in India.\\n\\n1946: Elections, Cabinet mission, Direct Action Day.In January 1946, a number of mutinies broke out in the armed services, starting with that of RAF servicemen frustrated with their slow repatriation to Britain. The mutinies came to a head with <a href=\\\"The%20Royal%20Indian%20Navy%20Mutiny\\\">mutiny of the Royal Indian Navy</a> in Bombay in February 1946, followed by others in <a href=\\\"Calcutta\\\">Calcutta</a>, <a href=\\\"Madras\\\">Madras</a>, and <a href=\\\"Karachi\\\">Karachi</a>. Although the mutinies were rapidly suppressed, they had the effect of spurring the new Labour government in Britain to action, and leading to the Cabinet Mission to India led by the Secretary of State for India, <a href=\\\"Frederick%20Pethick-Lawrence%2C%201st%20Baron%20Pethick-Lawrence\\\">Lord Pethick Lawrence</a>, and including <a href=\\\"Stafford%20Cripps\\\">Sir Stafford Cripps</a>, who had visited four years before.\\n\\nAlso in early 1946, new elections were called in India. Earlier, at the end of the war in 1945, the colonial government had announced the public trial of three senior officers of Bose's defeated Indian National Army who stood accused of treason. Now as the trials began, the Congress leadership, although ambivalent towards the INA, chose to defend the accused officers. The subsequent convictions of the officers, the public outcry against the convictions, and the eventual remission of the sentences, created positive propaganda for the Congress, which only helped in the party's subsequent electoral victories in eight of the eleven provinces. The negotiations between the Congress and the Muslim League, however, stumbled over the issue of the partition. Jinnah proclaimed 16 August 1946, <a href=\\\"Direct%20Action%20Day\\\">Direct Action Day</a>, with the stated goal of highlighting, peacefully, the demand for a Muslim homeland in <a href=\\\"British%20India\\\">British India</a>. The following day Hindu-Muslim riots broke out in Calcutta and quickly spread throughout British India. Although the Government of India and the Congress were both shaken by the course of events, in September, a Congress-led interim government was installed, with Jawaharlal Nehru as united India's prime minister.\\n\\n1947: Planning for partition.Later that year, the <a href=\\\"Labour%20Party%20%28UK%29\\\">Labour</a> government in Britain, its <a href=\\\"exchequer\\\">exchequer</a> exhausted by the recently concluded World War II, and conscious that it had neither the mandate at home, the international support, nor the reliability of <a href=\\\"British%20Indian%20Army\\\">native forces</a> for continuing to control an increasingly restless British India, decided to end British rule of India, and in early 1947 Britain announced its intention of transferring power no later than June 1948.\\n\\nAs independence approached, the violence between Hindus and Muslims in the provinces of Punjab and Bengal continued unabated. With the British army unprepared for the potential for increased violence, the new viceroy, <a href=\\\"Louis%20Mountbatten\\\">Louis Mountbatten</a>, advanced the date for the transfer of power, allowing less than six months for a mutually agreed plan for independence. In June 1947, the nationalist leaders, including Sardar Patel, Nehru and <a href=\\\"Abul%20Kalam%20Azad\\\">Abul Kalam Azad</a> on behalf of the Congress, Jinnah representing the Muslim League, <a href=\\\"B.%20R.%20Ambedkar\\\">B. R. Ambedkar</a> representing the <a href=\\\"Dalit\\\">Untouchable</a> community, and <a href=\\\"Master%20Tara%20Singh\\\">Master Tara Singh</a> representing the <a href=\\\"Sikhs\\\">Sikhs</a>, agreed to a <a href=\\\"Partition%20of%20India\\\">partition of the country</a> along religious lines in stark opposition to Gandhi's views. The predominantly Hindu and Sikh areas were assigned to the <a href=\\\"Dominion%20of%20India\\\">new nation of India</a> and predominantly Muslim areas to the <a href=\\\"Dominion%20of%20Pakistan\\\">new nation of Pakistan</a>; the plan included a partition of the Muslim-majority provinces of Punjab and Bengal.\\n\\n1947: Violence, partition, independence.On 15 August 1947, the new <a href=\\\"Dominion%20of%20Pakistan\\\">Dominion of Pakistan</a> (later <a href=\\\"Islamic%20Republic%20of%20Pakistan\\\">Islamic Republic of Pakistan</a>), with Muhammad Ali Jinnah as the Governor-General; and the <a href=\\\"Union%20of%20India\\\">Union of India</a>, (later <a href=\\\"Republic%20of%20India\\\">Republic of India</a>) with <a href=\\\"Jawaharlal%20Nehru\\\">Jawaharlal Nehru</a> as the <a href=\\\"Prime%20Minister%20of%20India\\\">prime minister</a>, and the viceroy, <a href=\\\"Louis%20Mountbatten\\\">Louis Mountbatten</a>, staying on as its first Governor General came into being; with official ceremonies taking place in <a href=\\\"Karachi\\\">Karachi</a> on 14 August and <a href=\\\"New%20Delhi\\\">New Delhi</a> on 15 August. This was done so that Mountbatten could attend both ceremonies.\\n\\nThe great majority of Indians remained in place with independence, but in border areas millions of people (Muslim, Sikh, and Hindu) relocated across the <a href=\\\"Radcliffe%20Line\\\">newly drawn borders</a>. In Punjab, where the new border lines divided the Sikh regions in half, there was much bloodshed; in Bengal and Bihar, where Gandhi's presence assuaged communal tempers, the violence was more limited. In all, somewhere between 250,000 and 500,000 people on both sides of the new borders, among both the refugee and resident populations of the three faiths, died in the violence.\\nOther estimates of the number of deaths are as high as 1,500,000.\\n\\nIdeological impact.At independence and after the independence of India, India has maintained such central British institutions as parliamentary government, one-person, one-vote and the rule of law through nonpartisan courts. It retained as well the institutional arrangements of the Raj such as the civil services, administration of sub-divisions, universities and stock exchanges. One major change was the rejection of its former separate princely states. Metcalf shows that over the course of two centuries, British intellectuals and Indian specialists made the highest priority bringing peace, unity and good government to India. They offered many competing methods to reach the goal. For example, <a href=\\\"Charles%20Cornwallis%2C%201st%20Marquess%20Cornwallis\\\">Cornwallis</a> recommended turning Bengali <a href=\\\"Zamindar\\\">Zamindar</a> into the sort of English landlords that controlled local affairs in England. <a href=\\\"Sir%20Thomas%20Munro%2C%201st%20Baronet\\\">Munro</a> proposed to deal directly with the peasants. <a href=\\\"William%20Jones%20%28philologist%29\\\">Sir William Jones</a> and the Orientalists promoted Sanskrit, while <a href=\\\"Thomas%20Babington%20Macaulay%2C%201st%20Baron%20Macaulay\\\">Macaulay</a> promoted the English language. Zinkin argues that in the long-run, what matters most about the legacy of the Raj is the British political ideologies which the Indians took over after 1947, especially the belief in unity, democracy, the rule of law and a certain equality beyond caste and creed. Zinkin sees this not just in the Congress party but also among <a href=\\\"Hindu%20nationalism\\\">Hindu nationalists</a> in the <a href=\\\"Bharatiya%20Janata%20Party\\\">Bharatiya Janata Party</a>, which specifically emphasises Hindu traditions.\\n\\nSee also.<ul><li>- <a href=\\\"Danish%20India\\\">Danish India</a>\\n</li><li>- <a href=\\\"Portuguese%20India\\\">Portuguese India</a>\\n</li><li>- <a href=\\\"Dutch%20India\\\">Dutch India</a>\\n</li><li>- <a href=\\\"French%20India\\\">French India</a>\\n</li><li>- <a href=\\\"List%20of%20Governors-General%20of%20India\\\">List of Governors-General of India</a>\\n</li><li>- <a href=\\\"Company%20rule%20in%20India\\\">Company rule in India</a>\\n</li><li>- <a href=\\\"Legislatures%20of%20British%20India\\\">Legislatures of British India</a>\\n</li><li>- <a href=\\\"Indian%20independence%20movement\\\">Indian independence movement</a>\\n</li><li>- <a href=\\\"Western%20imperialism%20in%20Asia\\\">Western imperialism in Asia</a>\\n</li><li>- <a href=\\\"Interim%20Government%20of%20India\\\">Interim Government of India</a>\\n</li><li>- <a href=\\\"Colonial%20India\\\">Colonial India</a>\\n</li><li>- <a href=\\\"Glossary%20of%20the%20British%20Raj\\\">Glossary of the British Raj</a> (Hindi-Urdu words)\\n</li><li>- <a href=\\\"Direct%20colonial%20rule\\\">Direct colonial rule</a>\\n</li></ul>\\nSurveys.<ul><li>- Allan, J., T. Wolseley Haig, H. H. Dodwell. <i>The Cambridge Shorter History of India</i> (1934) 996 pp. <a href=\\\"https%3A//www.questia.com/library/88816335/the-cambridge-shorter-history-of-india\\\">online</a>; <a href=\\\"https%3A//books.google.com/books%3Fid%3DiAQ9AAAAIAAJ\\\">at Google</a>\\n</li><li>- Bandhu, Deep Chand. <i>History of Indian National Congress</i> (2003) 405pp\\n</li><li>- .\\n</li><li>- Coupland, Reginald. <i>India: A Re-Statement</i> (Oxford University Press, 1945), evaluation of the Raj, emphasising government. <a href=\\\"https%3A//www.questia.com/PM.qst%3Fa%3Do%26amp%3Bd%3D74007102\\\">online edition</a>\\n</li><li>- Dodwell H. H., ed. <i>The Cambridge History of India. Volume 6: The Indian Empire 1858\\u20131918. With Chapters on the Development of Administration 1818\\u20131858</i> (1932) 660 pp. <a href=\\\"https%3A//archive.org/details/cambridgehistory06rapsuoft\\\">online edition</a>; also published as vol 5 of the <i>Cambridge History of the British Empire</i>\\n</li><li>- Gilmour, David. <i>The British in India: A Social History of the Raj</i>(2018); expanded edition of <i>The Ruling Caste: Imperial Lives in the Victorian Raj</i> (2007) <a href=\\\"https%3A//books.google.com/books%3Fid%3DxEzx2zVHXSwC%26amp%3Bpg%3DPA9\\\">Excerpt and text search</a>\\n</li><li>- Herbertson, A.J. and O.J.R. Howarth. eds. <i>The Oxford Survey Of The British Empire</i> (6 vol 1914) <a href=\\\"https%3A//archive.org/details/in.ernet.dli.2015.77042\\\">online vol 2 on Asia</a> pp.\\u00a01\\u2013328 on India\\n</li><li>- James, Lawrence. <i>Raj: The Making and Unmaking of British India</i> (2000)\\n</li><li>- Louis, William Roger, and Judith M. Brown, eds. <i>The Oxford History of the British Empire</i> (5 vol 1999\\u20132001), with numerous articles on the Raj\\n</li><li>- Majumdar, R. C. ed. (1970). British paramountcy and Indian renaissance. (<a href=\\\"The%20History%20and%20Culture%20of%20the%20Indian%20People\\\">The history and culture of the Indian people</a>) Bombay: Bharatiya Vidya Bhavan.\\n</li><li>- Mansingh, Surjit <i>The A to Z of India</i> (2010), a concise historical encyclopaedia\\n</li><li>- Moon, Penderel. <i>The British Conquest and Dominion of India</i> (2 vol. 1989) 1235pp; the fullest scholarly history of political and military events from a British top-down perspective;\\n</li><li>- <a href=\\\"K.%20M.%20Panikkar\\\">Panikkar, K. M.</a> (1953). Asia and Western dominance, 1498\\u20131945, by K.M. Panikkar. London: G. Allen and Unwin.\\n</li><li>- Riddick, John F. <i>The history of British India: a chronology</i> (2006) <a href=\\\"https%3A//books.google.com/books%3Fid%3DEs6x4u_g19UC\\\">excerpt and text search</a>, covers 1599\\u20131947\\n</li><li>- Riddick, John F. <i>Who Was Who in British India</i> (1998), covers 1599\\u20131947\\n</li><li>- Sarkar, Sumit. <i>Modern India, 1885\\u20131947</i> (2002)\\n</li><li>- Smith, Vincent A. (1958) <i>The Oxford History of India</i> (3rd ed.) the Raj section was written by <a href=\\\"Percival%20Spear\\\">Percival Spear</a>\\n</li><li>- Somervell, D.C. <i>The Reign of King George V,</i> (1936) covers Raj 1910\\u201335 pp.\\u00a080\\u201384, 282\\u201391, 455\\u201364 <a href=\\\"https%3A//archive.org/details/in.ernet.dli.2015.176466\\\">online free</a>\\n</li><li>- .\\n</li><li>- Thompson, Edward, and G.T. Garratt. <i>Rise and Fulfilment of British Rule in India</i> (1934) 690 pages; scholarly survey, 1599\\u20131933 <a href=\\\"https%3A//books.google.com/books%3Fid%3D93fnssiWvjoC\\\">excerpt and text search</a>\\n</li><li>- Wolpert, Stanley, ed. <i>Encyclopedia of India</i> (4 vol. 2005) comprehensive coverage by scholars\\n</li></ul>\\nSpecialised topics.<ul><li>- Brown, Judith M. <i>Gandhi: Prisoner of Hope</i> (1991), scholarly biography\\n</li><li>- Buckland, C.E. <i>Dictionary of Indian Biography</i> (1906) 495 pp. <a href=\\\"https%3A//books.google.com/books%3Fid%3DInFTmnS4crYC\\\">full text</a>\\n</li><li>- .\\n</li><li>- .\\n</li><li>- Dewey, Clive. <i>Anglo-Indian Attitudes: The Mind of the Indian Civil Service</i> (2003)\\n</li><li>- Ewing, Ann. \\\"Administering India: The Indian Civil Service\\\", <i>History Today</i>, June 1982, 32#6 pp.\\u00a043\\u201348, covers 1858\\u20131947\\n</li><li>- Gilmartin, David. 1988. <i>Empire and Islam: Punjab and the Making of Pakistan</i>. University of California Press. 258 pages. .\\n</li><li>- Gilmour, David. <i>Curzon: Imperial Statesman</i> (2006) <a href=\\\"https%3A//books.google.com/books%3Fid%3DkOEsSmOQL7EC\\\">excerpt and text search</a>\\n</li><li>- Gopal, Sarvepalli. <i>British Policy in India 1858\\u20131905</i> (2008)\\n</li><li>- Gopal, Sarvepalli. <i>Viceroyalty of Lord Irwin 1926\\u20131931</i> (1957)\\n</li><li>- .\\n</li><li>- Kaminsky, Arnold P. <i>The India Office, 1880\\u20131910</i> (1986) <a href=\\\"https%3A//www.amazon.com/1880-1910-Contributions-Comparative-Colonial-Studies/dp/0313249091/\\\">excerpt and text search</a>, focus on officials in London\\n</li><li>- Khan, Yasmin. <i>India At War: The Subcontinent and the Second World War</i> (2015), wide-ranging scholarly survey <a href=\\\"https%3A//www.amazon.com/India-At-War-Subcontinent-Second/dp/0199753490/\\\">excerpt</a>; also published as Khan, Yasmin. <i>The Raj At War: A People's History Of India's Second World War</i> (2015) a major, comprehensive scholarly study\\n</li><li>- Kumar, Deepak. <i>Science and the Raj: A Study of British India</i> (2006)\\n</li><li>- Lipsett, Chaldwell. <i>Lord Curzon in India 1898\\u20131903</i> (1903) <a href=\\\"https%3A//www.amazon.com/Curzon-India-1898-1903-Chaldwell-Lipsett/dp/1110690029/\\\">excerpt and text search</a> 128pp\\n</li><li>- MacMillan, Margaret. <i>Women of the Raj: The Mothers, Wives, and Daughters of the British Empire in India</i> (2007)\\n</li><li>- Moore, Robin J. \\\"India in the 1940s\\\", in Robin Winks, ed. <i>Oxford History of the British Empire: Historiography</i>, (2001b), pp.\\u00a0231\\u201342\\n</li><li>- Raghavan, Srinath. <i>India's War: World War II and the Making of Modern South Asia</i> (2016). wide-ranging scholarly survey <a href=\\\"https%3A//www.amazon.com/dp/046503022X/\\\">excerpt</a>\\n</li><li>- Read, Anthony, and David Fisher; <i>The Proudest Day: India's Long Road to Independence</i> (W. W. Norton, 1999) <a href=\\\"https%3A//www.questia.com/PM.qst%3Fa%3Do%26amp%3Bd%3D101073461\\\">online edition</a>; detailed scholarly history of 1940\\u201347\\n</li><li>- Riddick, John F. <i>The History of British India: A Chronology</i> (2006) <a href=\\\"https%3A//books.google.com/books%3Fid%3DEs6x4u_g19UC\\\">excerpt</a>\\n</li><li>- Riddick, John F. <i>Who Was Who in British India</i> (1998); 5000 entries <a href=\\\"https%3A//books.google.com/books%3Fid%3DLI8UAQAAIAAJ\\\">excerpt</a>\\n</li><li>- .\\n</li><li>- Thatcher, Mary. <i>Respected Memsahibs: an Anthology</i> (Hardinge Simpole, 2008)\\n</li><li>- Voigt, Johannes. <i>India in The Second World War</i> (1988)\\n</li><li>- .\\n</li><li>- Wolpert, Stanley A. <i>Jinnah of Pakistan</i> (2005)\\n</li><li>- Wolpert, Stanley A. <i>Tilak and Gokhale: revolution and reform in the making of modern India</i> (1962) <a href=\\\"https%3A//books.google.com/books%3Fid%3DcmV6KLzEZNAC\\\">full text online</a>\\n</li>Economic history.<li>- Anstey, Vera. <i>The economic development of India</i> (4th ed. 1952), 677pp; thorough scholarly coverage; focus on 20th century down to 1939\\n</li><li>- Chaudhary, Latika, et al. eds. <i>A New Economic History of Colonial India</i> (2015)\\n</li><li>- Dutt, Romesh C. <i>The Economic History of India under early British Rule</i>, first published 1902, 2001 edition by <a href=\\\"Routledge\\\">Routledge</a>,\\n</li><li>- Lockwood, David. <i>The Indian Bourgeoisie: A Political History of the Indian Capitalist Class in the Early Twentieth Century</i> (I.B. Tauris, 2012) 315 pages; focus on Indian entrepreneurs who benefited from the Raj, but ultimately sided with the Indian National Congress.\\n</li><li>- Sarkar, J. (2013, reprint). Economics of British India ... Third edition. Enlarged and partly rewritten. Calcutta: M.C. Sarkar & Sons.\\n</li>Historiography and memory.<li>- Durant, Will (2011, reprint). The case for India. New York: Simon and Schuster.\\n</li><li>- Mantena, Rama Sundari. <i>The Origins of Modern Historiography in India: Antiquarianism and Philology</i> (2012)\\n</li><li>- Moor-Gilbert, Bart. <i>Writing India, 1757\\u20131990: The Literature of British India</i> (1996) on fiction written in English\\n</li><li>- Mukherjee, Soumyen. \\\"Origins of Indian Nationalism: Some Questions on the Historiography of Modern India.\\\" <i>Sydney Studies in Society and Culture</i> 13 (2014). <a href=\\\"http%3A//openjournals.library.usyd.edu.au/index.php/SSSC/article/download/7500/7868\\\">online</a>\\n</li><li>- Parkash, Jai. \\\"Major trends of historiography of revolutionary movement in India \\u2013 Phase II.\\\" (PhD dissertation, Maharshi Dayanand University, 2013). <a href=\\\"http%3A//shodhganga.inflibnet.ac.in/bitstream/10603/7844/7/07_summary.pdf\\\">online</a>\\n</li><li>- Philips, Cyril H. ed. <i>Historians of India, Pakistan and Ceylon</i> (1961), reviews the older scholarship\\n</li><li>- Winks, Robin, ed. <i>Historiography</i> (1999) vol. 5 in William Roger Louis, eds. <i>The Oxford History of the British Empire</i>, chapters 11\\u201315, <a href=\\\"https%3A//www.questia.com/library/117192922/the-oxford-history-of-the-british-empire-historiography\\\">online</a>\\n</li><li>- Winks, Robin W. <i>The Historiography of the British Empire-Commonwealth: Trends, Interpretations and Resources</i> (1966); this book is by a different set of authors from the previous 1999 entry <a href=\\\"https%3A//www.questia.com/library/95979771/the-historiography-of-the-british-empire-commonwealth\\\">online</a>\\n</li><li>- Young, Richard Fox, ed. (2009). <i>Indian Christian Historiography from Below, from Above, and in Between India and the Indianness of Christianity: Essays on Understanding \\u2013 Historical, Theological, and Bibliographical \\u2013 in Honor of Robert Eric Frykenberg</i>\\n</li></ul>\\nFurther reading.<ul><li>- <a href=\\\"https%3A//babel.hathitrust.org/cgi/pt%3Fid%3Dmdp.39015027588329%3Bview%3D1up%3Bseq%3D10\\\">Simon Report (1930) vol 1</a>, wide-ranging survey of conditions\\n</li><li>- , major primary source\\n</li></ul>\\nYear books and statistical records.<ul><li>- <i>Indian Year-book for 1862: A review of social, intellectual, and religious progress in India and Ceylon</i> (1863), ed. by John Murdoch <a href=\\\"https%3A//books.google.com/books%3Fid%3DODMQAAAAYAAJ\\\">online edition</a> <a href=\\\"https%3A//books.google.com/books%3Fid%3DuqAEAAAAQAAJ\\\">1861 edition</a>\\n</li><li>- <i>The Imperial Gazetteer of India</i> (26 vol, 1908\\u201331), highly detailed description of all of India in 1901. <a href=\\\"http%3A//dsal.uchicago.edu/reference/gazetteer/\\\">online edition</a>\\n</li><li>- <i>Statistical abstract relating to British India, from 1895\\u201396 to 1904\\u201305</i> (London, 1906) <a href=\\\"https%3A//books.google.com/books%3Fid%3DxC5RAAAAYAAJ\\\">full text online</a>,\\n</li><li>- <a href=\\\"https%3A//books.google.com/books%3Fid%3DU9bkAAAAMAAJ\\\"><i>The Cyclopedia of India: biographical, historical, administrative, commercial</i></a> (1908) business history, biographies, illustrations\\n</li><li>- <i>The Indian year book: 1914</i> (1914) <a href=\\\"https%3A//books.google.com/books%3Fid%3DQFlFAAAAYAAJ\\\">snippets</a>\\n</li><li>- <i>The Indian Annual Register: A digest of public affairs of India regarding the nation's activities in the matters, political, economic, industrial, educational, etc. during the period 1919\\u20131947</i> <a href=\\\"https%3A//archive.org/details/in.ernet.dli.2015.40427\\\">online</a>\\n</li><li>- <a href=\\\"https%3A//archive.org/details/in.ernet.dli.2015.40427\\\">1930 edition</a>\\n</li><li>- <a href=\\\"https%3A//archive.org/details/in.ernet.dli.2015.110101\\\">1921 edition</a>\\n</li><li>- <a href=\\\"https%3A//archive.org/search.php%3Fquery%3Dtitle%253A%2528%2522%2BIndian%2BAnnual%2BRegister%2522%2529%26amp%3Bsort%3D-date%26amp%3Bpage%3D4\\\">1919\\u20131947 editions</a>\\n</li></ul>\\n\\n</doc>\\n\",\n",
            "  \"dabu county\": \"Dabu County () is a <a href=\\\"Counties%20of%20the%20People%27s%20Republic%20of%20China\\\">county</a> in the east of <a href=\\\"Meizhou\\\">Meizhou</a> City, in eastern <a href=\\\"Guangdong\\\">Guangdong</a> Province, China. A center of <a href=\\\"Hakka%20people\\\">Hakka</a> culture, it borders <a href=\\\"Raoping%20County\\\">Raoping County</a> to the southeast, <a href=\\\"Fengshun%20County\\\">Fengshun County</a> to the southwest, <a href=\\\"Meijiang%20District\\\">Meijiang District</a> to the west, <a href=\\\"Meixian%20District\\\">Meixian District</a> to the west and northwest, and, in <a href=\\\"Fujian\\\">Fujian</a> province, <a href=\\\"Yongding%20District%2C%20Longyan\\\">Yongding District</a> to the north and northeast and <a href=\\\"Pinghe%20County\\\">Pinghe County</a> to the east.\\n\\nAdministrative divisions.Dabu County has jurisdiction over the following <a href=\\\"Towns%20of%20the%20People%27s%20Republic%20of%20China\\\">towns</a>:\\n\\n<ul><li>- <a href=\\\"Huliao%20Town%2C%20Meizhou\\\">Huliao</a> (\\u6e56\\u5bee\\u9547)\\n</li><li>- <a href=\\\"Gaopi%20Town%2C%20Meizhou\\\">Gaopi</a> (\\u9ad8\\u9642\\u9547)\\n</li><li>- <a href=\\\"Chayang%20Town%2C%20Meizhou\\\">Chayang</a> (\\u8336\\u9633\\u9547)\\n</li><li>- <a href=\\\"Dama%20town%2C%20Meizhou\\\">Dama</a> (\\u5927\\u9ebb\\u9547)\\n</li><li>- <a href=\\\"Sanhe%20Town%2C%20Meizhou\\\">Sanhe</a> (\\u4e09\\u6cb3\\u9547)\\n</li><li>- <a href=\\\"Yinjiang%20Town%2C%20Meizhou\\\">Yinjiang</a> (\\u94f6\\u6c5f\\u9547)\\n</li><li>- <a href=\\\"Guangde%20Town%2C%20Meizhou\\\">Guangde</a> (\\u5149\\u5fb7\\u9547)\\n</li><li>- <a href=\\\"Taoyuan%20Town%2C%20Meizhou\\\">Taoyuan</a> (\\u6843\\u6e90\\u9547)\\n</li><li>- <a href=\\\"Fenglang%20Town%2C%20Meizhou\\\">Fenglang</a> (\\u67ab\\u6717\\u9547)\\n</li><li>- <a href=\\\"Dadong%20Town%2C%20Meizhou\\\">Dadong</a> (\\u5927\\u4e1c\\u9547)\\n</li><li>- <a href=\\\"Xihe%20Town%2C%20Meizhou\\\">Xihe</a> (\\u897f\\u6cb3\\u9547)\\n</li><li>- <a href=\\\"Qingxi%20Town%2C%20Meizhou\\\">Qingxi</a> (\\u9752\\u6eaa\\u9547)\\n</li><li>- <a href=\\\"Zhourui%20Town%2C%20Meizhou\\\">Zhourui</a> (\\u6d32\\u745e\\u9547)\\n</li><li>- <a href=\\\"Baihou%20Town%2C%20Meizhou\\\">Baihou</a> (\\u767e\\u4faf\\u9547)\\n</li></ul>\\nThe administrative center of the county was originally in the ancient town of Chayang before moving to Huliao.\\n\\nExternal links.<ul><li>- <a href=\\\"http%3A//www.dabu.gov.cn\\\">Official website of the Dabu government</a>\\n</li><li>- <a href=\\\"http%3A//www.penang-artists.com/Yong%2520Mun%2520Sen.htm\\\">Yong Mun Sen</a>\\n</li></ul>\\n\\n</doc>\\n\",\n",
            "  \"wimboldsley\": \"Wimboldsley is a village in <a href=\\\"Cheshire\\\">Cheshire</a>, <a href=\\\"England\\\">England</a>, 2 miles south of <a href=\\\"Middlewich\\\">Middlewich</a>. The population at the <a href=\\\"United%20Kingdom%20Census%202011\\\">2011 census</a> was 153.\\n\\nIn 2015, the civil parish amalgamated with <a href=\\\"Stanthorne\\\">Stanthorne</a> to form Stanthorne and Wimboldsley.\\n\\nGeography.A small area in the west of the civil parish falls within the Weaver Valley Area of Special County Value. Adjacent to this area, on the eastern bank of the <a href=\\\"River%20Weaver\\\">River Weaver</a>, is the <a href=\\\"Site%20of%20Special%20Scientific%20Interest\\\">Site of Special Scientific Interest</a> of Wimboldsley Wood.\\n\\nSee also.<ul><li>- <a href=\\\"Listed%20buildings%20in%20Wimboldsley\\\">Listed buildings in Wimboldsley</a>\\n</li><li>- <a href=\\\"Lea%20Hall%2C%20Wimboldsley\\\">Lea Hall, Wimboldsley</a>\\n</li></ul>\\n\\n</doc>\\n\",\n",
            "  \"first world\": \"The concept of First World originated during the <a href=\\\"Cold%20War\\\">Cold War</a> and included countries that were generally aligned with <a href=\\\"NATO\\\">NATO</a> and opposed to the <a href=\\\"Soviet%20Union\\\">Soviet Union</a> during the Cold War. Since the collapse of the Soviet Union in 1991, the definition has instead largely shifted to any country with little <a href=\\\"political%20risk\\\">political risk</a> and a well functioning <a href=\\\"democracy\\\">democracy</a>, <a href=\\\"rule%20of%20law\\\">rule of law</a>, <a href=\\\"capitalist%20economy\\\">capitalist economy</a>, <a href=\\\"economic%20stability\\\">economic stability</a>, and high <a href=\\\"standard%20of%20living\\\">standard of living</a>. Various ways in which modern First World countries are often determined include <a href=\\\"GDP\\\">GDP</a>, <a href=\\\"GNP\\\">GNP</a>, <a href=\\\"literacy%20rates\\\">literacy rates</a>, <a href=\\\"life%20expectancy\\\">life expectancy</a>, and the <a href=\\\"Human%20Development%20Index\\\">Human Development Index</a>. In common usage, as per <a href=\\\"Merriam-Webster\\\">Merriam-Webster</a>, \\\"first world\\\" now typically refers to \\\"the <a href=\\\"developed%20country\\\">highly developed</a> industrialized nations often considered the westernized countries of the world\\\".\\n\\nHistory.After <a href=\\\"World%20War%20II\\\">World War II</a>, the world split into two large geopolitical blocs, separating into spheres of <a href=\\\"communism\\\">communism</a> and <a href=\\\"capitalism\\\">capitalism</a>. This led to the <a href=\\\"Cold%20War\\\">Cold War</a>, during which the term <i>First World</i> was often used because of its political, social, and economic relevance. The term itself was first introduced in the late 1940s by the <a href=\\\"United%20Nations\\\">United Nations</a>. Today, the First World is slightly outdated and has no official definition, however, it is generally thought of as the capitalist, industrial, wealthy, and developed countries. This definition includes <a href=\\\"Australia%20%26amp%3B%20New%20Zealand\\\">Australia & New Zealand</a>, the developed countries of Asia (<a href=\\\"South%20Korea\\\">South Korea</a>, <a href=\\\"Taiwan\\\">Taiwan</a>, <a href=\\\"Japan\\\">Japan</a>, <a href=\\\"Singapore\\\">Singapore</a>), and the wealthy countries of <a href=\\\"North%20America\\\">North America</a> and Europe, particularly <a href=\\\"Western%20Europe\\\">Western Europe</a>. In contemporary society, the First World is viewed as countries that have the most advanced economies, the greatest influence, the highest standards of living, and the greatest technology. After the Cold War, these countries of the First World included member states of <a href=\\\"NATO\\\">NATO</a>, U.S.-aligned states, neutral countries that were developed and industrialized, and the former <a href=\\\"British%20Empire\\\">British Colonies</a> that were considered developed. It can be defined succinctly as Europe, plus the richer countries of the former British Empire (USA, Canada, Australia, Singapore, New Zealand), Israel, Japan, South Korea, and Taiwan.\\nAccording to Nations Online, the member countries of NATO after the Cold War included:\\n<ul><li>- <a href=\\\"Belgium\\\">Belgium</a>, <a href=\\\"Canada\\\">Canada</a>, <a href=\\\"Denmark\\\">Denmark</a>, <a href=\\\"France\\\">France</a>, <a href=\\\"West%20Germany\\\">West Germany</a>, <a href=\\\"Greece\\\">Greece</a>, <a href=\\\"Iceland\\\">Iceland</a>, <a href=\\\"Italy\\\">Italy</a>, <a href=\\\"Luxembourg\\\">Luxembourg</a>, the <a href=\\\"Netherlands\\\">Netherlands</a>, <a href=\\\"Norway\\\">Norway</a>, <a href=\\\"Portugal\\\">Portugal</a>, <a href=\\\"Spain\\\">Spain</a>, <a href=\\\"Turkey\\\">Turkey</a>, the <a href=\\\"United%20Kingdom\\\">United Kingdom</a>, and the <a href=\\\"United%20States\\\">United States</a>.\\n</li></ul>The Western-aligned countries included:\\n<ul><li>- <a href=\\\"Australia\\\">Australia</a>, <a href=\\\"New%20Zealand\\\">New Zealand</a>, <a href=\\\"Israel\\\">Israel</a>, <a href=\\\"Japan\\\">Japan</a>, <a href=\\\"South%20Africa\\\">South Africa</a>, <a href=\\\"South%20Korea\\\">South Korea</a>, and <a href=\\\"Taiwan\\\">Taiwan</a>\\n</li></ul>The neutral countries included:\\n<ul><li>- <a href=\\\"Austria\\\">Austria</a>, <a href=\\\"Finland\\\">Finland</a>, <a href=\\\"Ireland\\\">Ireland</a>, <a href=\\\"Sweden\\\">Sweden</a>, <a href=\\\"Switzerland\\\">Switzerland</a>, and <a href=\\\"Yugoslavia\\\">Yugoslavia</a>\\n</li></ul>\\nShifting in definitions.Since the end of the Cold War, the original definition of the term <i>First World</i> is no longer necessarily applicable. There are varying definitions of the First World; however, they follow the same idea. John D. Daniels, past president of the Academy of International Business, defines the First World to be consisting of \\\"high-income industrial countries\\\". Scholar and Professor George J. Bryjak defines the First World to be the \\\"modern, industrial, capitalist countries of North America and Europe\\\". L. Robert Kohls, former director of training for the U.S. Information Agency and the Meridian International Center in Washington, D.C., uses First World and \\\"fully developed\\\" as synonyms.\\n\\nOther indicators.Varying definitions of the term <i>First World</i> and the uncertainty of the term in today's world leads to different indicators of First World status. In 1945, the United Nations used the terms first, second, third, and fourth worlds to define the relative wealth of nations (although popular use of the term fourth world did not come about until later). There are some references towards culture in the definition. They were defined in terms of <a href=\\\"Gross%20National%20Product\\\">Gross National Product</a> (GNP), measured in U.S. dollars, along with other socio-political factors. The first world included the large industrialized, democratic (free elections, etc.) nations. The <a href=\\\"second%20world\\\">second world</a> included modern, wealthy, industrialized nations, but they were all under communist control. Most of the rest of the world was deemed part of the <a href=\\\"third%20world\\\">third world</a>, while the <a href=\\\"fourth%20world\\\">fourth world</a> was considered to be those nations whose people were living on less than US$100 annually. If we use the term to mean high-income industrialized economies, then the <a href=\\\"World%20Bank\\\">World Bank</a> classifies countries according to their <a href=\\\"Gross%20national%20income\\\">GNI</a> or gross national income per capita. The World Bank separates countries into four categories: high-income, upper-middle-income, lower-middle-income, and low-income economies. The First World is considered to be countries with high-income economies. The high-income economies are equated to mean developed and industrialized countries.\\n\\nThree World Model.The terms <i>First World</i>, <i>Second World</i>, and <i>Third World</i> were originally used to divide the world's nations into three categories. The model did not emerge to its end state all at once. The complete overthrow of the pre\\u2013World War II status quo, known as the Cold War, left two superpowers (the United States and the <a href=\\\"Soviet%20Union\\\">Soviet Union</a>) vying for ultimate global supremacy. They created two camps, known as blocs. These blocs formed the basis of the concepts of the First and Second Worlds.\\n\\nEarly in the Cold War era, <a href=\\\"NATO\\\">NATO</a> and the <a href=\\\"Warsaw%20Pact\\\">Warsaw Pact</a> were created by the United States and The Soviet Union, respectively. They were also referred to as the <a href=\\\"NATO\\\">Western Bloc</a> and the <a href=\\\"Warsaw%20Pact\\\">Eastern Bloc</a>. The circumstances of these two blocs were so different that they were essentially two worlds, however, they were not numbered first and second. The onset of the Cold War is marked by <a href=\\\"Winston%20Churchill\\\">Winston Churchill</a>'s famous \\\"Iron Curtain\\\" speech. In this speech, Churchill describes the division of the West and East to be so solid that it could be called an iron curtain.\\n\\nIn 1952, the French <a href=\\\"demography\\\">demographer</a> <a href=\\\"Alfred%20Sauvy\\\">Alfred Sauvy</a> coined the term Third World in reference to the three estates in pre-revolutionary France. The first two estates being the nobility and clergy and everybody else comprising the third estate. He compared the <a href=\\\"capitalist\\\">capitalist</a> world (i.e., First World) to the nobility and the <a href=\\\"communist\\\">communist</a> world (i.e., Second World) to the clergy. Just as the third estate comprised everybody else, Sauvy called the Third World all the countries that were not in this Cold War division, i.e., the unaligned and uninvolved states in the \\\"East-West Conflict\\\". With the coining of the term Third World directly, the first two groups came to be known as the \\\"First World\\\" and \\\"Second World\\\" respectively. Here the three-world system emerged.\\n\\nHowever, <a href=\\\"Secwepemc\\\">Shuswap</a> Chief <a href=\\\"George%20Manuel\\\">George Manuel</a> believes the Three World Model to be outdated. In his 1974 book <i>The Fourth World: An Indian Reality</i>, he describes the emergence of the <a href=\\\"Fourth%20World\\\">Fourth World</a> while coining the term. The fourth world refers to \\\"nations\\\", e.g., cultural entities and ethnic groups, of indigenous people who do not compose states in the traditional sense. Rather, they live within or across state boundaries (see <a href=\\\"First%20Nations\\\">First Nations</a>). One example is the Native Americans of North America, Central America, and the Caribbean.\\n\\nPost Cold War.With the fall of the Soviet Union in 1991, the Eastern Bloc ceased to exist and with it, the perfect applicability of the term Second World. The definitions of the First World, Second World, and Third World changed slightly, yet generally describe the same concepts.\\n\\nHistoric.During the Cold War Era, the relationships between the First World, Second World and the Third World were very rigid. The First World and Second World were at constant odds with one another via the tensions between their two cores, the United States and the Soviet Union, respectively. The Cold War, by virtue of its name, was a primarily ideological struggle between the First and Second Worlds, or more specifically, the U.S. and the Soviet Union. Multiple doctrines and plans dominated Cold War dynamics including the <a href=\\\"Truman%20Doctrine\\\">Truman Doctrine</a>, <a href=\\\"Marshall%20Plan\\\">Marshall Plan</a> (from the U.S) and the <a href=\\\"Molotov%20Plan\\\">Molotov Plan</a> (from the Soviet Union). The extent of the odds between the two worlds is evident in <a href=\\\"Berlin\\\">Berlin</a>\\u2014which was then split into East and West. To stop citizens in East Berlin from having too much exposure to the capitalist West, the Soviet Union put up the <a href=\\\"Berlin%20Wall\\\">Berlin Wall</a> within the actual city.\\n\\nThe relationship between the First World and the Third World is characterized by the very definition of the Third World. Because countries of the Third World were noncommittal and non-aligned with both the First World and the Second World, they were targets for recruitment. In the quest for expanding their sphere of influence, the United States (core of the First World) tried to establish pro US regimes in the Third World. In addition, because the Soviet Union (core of the Second World) also wanted to expand, the Third World often became a site for conflict. examples include <a href=\\\"Vietnam\\\">Vietnam</a> and <a href=\\\"Korea\\\">Korea</a>. Success lay with the First World if at the end of the war, the country became capitalistic and democratic, and with the Second World, if the country became communist. While Vietnam as a whole was eventually communized, only the northern half of Korea remained communist. The <a href=\\\"Domino%20Theory\\\">Domino Theory</a> largely governed United States policy regarding the Third World and their rivalry with the Second World. In light of the Domino Theory, the U.S. saw winning the proxy wars in the Third World as a measure of the \\\"credibility of U.S. commitments all over the world\\\".\\n\\nPresent.The movement of people and information largely characterizes the inter-world relationships in the present day. A majority of breakthroughs and innovation originate in Western Europe and the U.S. and later their effects permeate globally. As judged by the Wharton School of Business at the University of Pennsylvania, most of the Top 30 Innovations of the Last 30 Years were from former First World countries (e.g., the U.S. and countries in Western Europe).\\n\\nThe disparity between knowledge in the First World as compared to the Third World is evident in healthcare and medical advancements. Deaths from water-related illnesses have largely been eliminated in \\\"wealthier nations\\\", while they are still a \\\"major concern in the developing world\\\". Widely treatable diseases in the developed countries of the First World, <a href=\\\"malaria\\\">malaria</a> and <a href=\\\"tuberculosis\\\">tuberculosis</a> needlessly claim many lives in the developing countries of the Third World. 900,000 people die from malaria each year and combating malaria accounts for 40% of health spending in many African countries.\\n\\nThe International Corporation for Assigned Names and Numbers (<a href=\\\"ICANN\\\">ICANN</a>) announced that the first Internationalized Domain Names (IDNs) would be available at the summer of 2010. These include non-Latin domains such as Chinese, Arabic, and Russian. This is one way that the flow of information between the First and Third Worlds may become more even.\\n\\nThe movement of information and technology from the First World to various Third World countries has created a general \\\"aspir(ation) to First World living standards\\\". The Third World has lower living standards as compared to the First World. Information about the comparatively higher living standards of the First World comes through television, commercial advertisements and foreign visitors to their countries. This exposure causes two changes: a) living standards in some Third World countries rise and b) this exposure creates hopes and many from Third World countries emigrate \\u2013 both legally and illegally \\u2013 to these First World countries in hopes of attaining that living standard and prosperity. In fact, this emigration is the \\\"main contributor to the increasing populations of U.S. and Europe\\\". While these emigrations have greatly contributed to globalization, they have also precipitated trends like <a href=\\\"brain%20drain\\\">brain drain</a> and problems with <a href=\\\"repatriation\\\">repatriation</a>. They have also created immigration and governmental burden problems for the countries (i.e., First World) that people emigrate to.\\n\\nEnvironmental impact.Some have argued that the most important human population problem for the world is not the high rate of population increase in certain Third World countries, but rather the \\\"increase in total human impact\\\". The per-capita impact \\u2013 the resources consumed and the wastes created by each person \\u2013 is varied globally; the highest in the First World and the lowest in the Third World: inhabitants of the U.S., Western Europe and Japan consume 32 times as many resources and put out 32 times as much waste as those in the Third World.\\nHowever, China leads the world in total emissions, but its large population skews its per-capita statistic lower than those of more developed nations.\\n\\nAs large consumers of <a href=\\\"fossil%20fuel\\\">fossil fuels</a>, First World countries drew attention to environmental pollution. The <a href=\\\"Kyoto%20Protocol\\\">Kyoto Protocol</a> is a treaty that is based on the <a href=\\\"United%20Nations%20Framework%20Convention%20on%20Climate%20Change\\\">United Nations Framework Convention on Climate Change</a>, which was finalized in 1992 at the Earth Summit in Rio. It proposed to place the burden of protecting the climate on the United States and other First World countries. Countries that were considered to be developing, such as China and India, were not required to approve the treaty because they were more concerned that restricting emissions would further restrain their development.\\n\\nInternational relations.Until the recent past, little attention was paid to the interests of Third World countries. This is because most international relations scholars have come from the industrialized, First World nations. As more countries have continued to become more developed, the interests of the world have slowly started to shift. However, First World nations still have many more universities, professors, journals, and conferences, which has made it very difficult for Third World countries to gain legitimacy and respect with their new ideas and methods of looking at the world.\\n\\nDevelopment theory.During the Cold War, the <a href=\\\"modernization%20theory\\\">modernization theory</a> and <a href=\\\"development%20theory\\\">development theory</a> developed in Europe as a result of their economic, political, social, and cultural response to the management of former colonial territories. European scholars and practitioners of international politics hoped to theorize ideas and then create policies based on those ideas that would cause newly independent colonies to change into politically developed sovereign nation-states. However, most of the theorists were from the United States, and they were not interested in Third World countries achieving development by any model. They wanted those countries to develop through liberal processes of politics, economics, and socialization; that is to say, they wanted them to follow the liberal capitalist example of a so-called \\\"First World state\\\". Therefore, the modernization and development tradition consciously originated as a (mostly U.S.) alternative to the Marxist and neo-Marxist strategies promoted by the \\\"<a href=\\\"Second%20World\\\">Second World</a> states\\\" like the Soviet Union. It was used to explain how developing Third World states would naturally <i>evolve</i> into developed First World States, and it was partially grounded in liberal economic theory and a form of Talcott Parsons' sociological theory.\\n\\nGlobalization.<a href=\\\"The%20United%20Nations\\\">The United Nations</a>'s <a href=\\\"ESCWA\\\">ESCWA</a> has written that <a href=\\\"globalization\\\">globalization</a> \\\"is a widely-used term that can be defined in a number of different ways\\\". Joyce Osland from <a href=\\\"San%20Jose%20State%20University\\\">San Jose State University</a> wrote: \\\"Globalization has become an increasingly controversial topic, and the growing number of protests around the world has focused more attention on the basic assumptions of globalization and its effects.\\\" \\\"Globalization is not new, though. For thousands of years, people\\u2014and, later, corporations\\u2014have been buying from and selling to each other in lands at great distances, such as through the famed <a href=\\\"Silk%20Road\\\">Silk Road</a> across Central Asia that connected China and Europe during the Middle Ages. Likewise, for centuries, people and corporations have invested in enterprises in other countries. In fact, many of the features of the current wave of globalization are similar to those prevailing before the outbreak of the First World War in 1914.\\\"\\n\\nEuropean Union.The most prominent example of globalization in the first world is the <a href=\\\"European%20Union\\\">European Union</a> (EU). The European Union is an agreement in which countries voluntarily decide to build common governmental institutions to which they delegate some individual national sovereignty so that decisions can be made democratically on a higher level of common interest for Europe as a whole. The result is a union of 28 Member States covering 4324782 km2 with roughly half a billion people. In total, the European Union produces almost a third of the world's gross national product and the member states speak more than 23 languages. All of the European Union countries are joined together by a hope to promote and extend peace, democracy, cooperativeness, stability, prosperity, and the rule of law. In a 2007 speech, Benita Ferrero-Waldner, the European Commissioner for External Relations, said, \\\"The future of the EU is linked to globalization...the EU has a crucial role to play in making globalization work properly...\\\". In a 2014 speech at the European Parliament, the Italian PM <a href=\\\"Matteo%20Renzi\\\">Matteo Renzi</a> stated, \\\"We are the ones who can bring civilization to globalization\\\".\\nWith the \\\"Brexit\\\" (British Exit) of the EU in 2016, the fundamental economic and motivational powerhouse of globalization in Europe was placed, once again, in the hands of Germany.\\n\\nJust as the concept of the First World came about as a result of World War II, so did the European Union. In 1951 the beginnings of the EU were founded with the creation of <a href=\\\"European%20Coal%20and%20Steel%20Community\\\">European Coal and Steel Community</a> (ECSC). From the beginning of its inception, countries in the EU were judged by many standards, including economic ones. This is where the relation between globalization, the EU, and First World countries arises. Especially during the 1990s when the EU focused on economic policies such as the creation and circulation of the <a href=\\\"Euro\\\">Euro</a>, the creation of the <a href=\\\"European%20Monetary%20Institute\\\">European Monetary Institute</a>, and the opening of the <a href=\\\"European%20Central%20Bank\\\">European Central Bank</a>.\\n\\nIn 1993, at the Copenhagen European Council, the European Union took a decisive step towards expanding the EU, what they called the Fifth Enlargement, agreeing that \\\"the associated countries in Central and Eastern Europe that so desire shall become members of the European Union\\\". Thus, enlargement was no longer a question of if, but when and how. The European Council stated that accession could occur when the prospective country is able to assume the obligations of membership, that is that all the economic and political conditions required are attained. Furthermore, it defined the membership criteria, which are regarded as the Copenhagen criteria, as follows:\\n<ul><li>- stability of institutions guaranteeing democracy, the rule of law, human rights and respect for and protection of minorities\\n</li><li>- the existence of a functioning market economy as well as the capacity to cope with competitive pressure and market forces within the Union\\n</li><li>- the ability to take on the obligations of membership including adherence to the aims of political, economic and monetary union\\n</li></ul>\\nIt is clear that all these criteria are characteristics of developed countries. Therefore, there is a direct link between globalization, developed nations, and the European Union.\\n\\nMultinational corporations.A majority of <a href=\\\"multinational%20corporation\\\">multinational corporations</a> find their origins in First World countries. After the collapse of the Soviet Union, multinational corporations proliferated as more countries focused on global trade. The series of <a href=\\\"General%20Agreement%20on%20Tariffs%20and%20Trade\\\">General Agreement on Tariffs and Trade</a> (GATT) and later the <a href=\\\"World%20Trade%20Organization\\\">World Trade Organization</a> (WTO) essentially ended the protectionist measures that were dissuading global trade. The eradication of these protectionist measures, while creating avenues for economic interconnection, mostly benefited developed countries, who by using their power at GATT summits, forced developing and underdeveloped countries to open their economies to Western goods.\\n\\nAs the world starts to globalize, it is accompanied by criticism of the current forms of globalization, which are feared to be overly corporate-led. As corporations become larger and multinational, their influence and interests go further accordingly. Being able to influence and own most media companies, it is hard to be able to publicly debate the notions and ideals that corporations pursue. Some choices that corporations take to make profits can affect people all over the world. Sometimes fatally.\\n\\nThe third industrial revolution is spreading from the developed world to some, but not all, parts of the developing world. To participate in this new global economy, developing countries must be seen as attractive offshore production bases for multinational corporations. To be such bases, developing countries must provide relatively well-educated workforces, good infrastructure (electricity, telecommunications, transportation), political stability, and a willingness to play by market rules.\\n\\nIf these conditions are in place, multinational corporations will transfer via their offshore subsidiaries or to their offshore suppliers, the specific production technologies and market linkages necessary to participate in the global economy. By themselves, developing countries, even if well-educated, cannot produce at the quality levels demanded in high-value-added industries and cannot market what they produce even in low-value-added industries such as textiles or shoes. Put bluntly, multinational companies possess a variety of factors that developing countries must have if they are to participate in the global economy.\\n\\nOutsourcing.<a href=\\\"Outsourcing\\\">Outsourcing</a>, according to Grossman and Helpman, refers to the process of \\\"subcontracting an ever expanding set of activities, ranging from product design to assembly, from research and development to marketing, distribution and after-sales service\\\". Many companies have moved to outsourcing services in which they no longer specifically need or have the capability of handling themselves. This is due to considerations of what the companies can have more control over. Whatever companies tend to not have much control over or need to have control over will outsource activities to firms that they consider \\\"less competing\\\". According to SourcingMag.com, the process of outsourcing can take the following four phases.\\n<ul><li>1. strategic thinking\\n</li><li>2. evaluation and selection\\n</li><li>3. contract development\\n</li><li>4. outsourcing management.\\n</li></ul>\\nOutsourcing is among some of the many reasons for increased competition within developing countries. Aside from being a reason for competition, many First World countries see outsourcing, in particular <a href=\\\"offshore%20outsourcing\\\">offshore outsourcing</a>, as an opportunity for increased income. As a consequence, the skill level of production in foreign countries handling the outsourced services increases within the economy; and the skill level within the domestic developing countries can decrease. It is because of competition (including outsourcing) that Robert Feenstra and <a href=\\\"Gordon%20Hanson\\\">Gordon Hanson</a> predict that there will be a rise of 15\\u201333 percent in inequality amongst these countries.\\n\\nSee also.<ul><li>- <a href=\\\"Developed%20country\\\">Developed country</a>\\n</li><li>- <a href=\\\"Developing%20country\\\">Developing country</a>\\n</li><li>- <a href=\\\"Digital%20divide\\\">Digital divide</a>\\n</li><li>- <a href=\\\"First%20World%20privilege\\\">First World privilege</a>\\n</li><li>- <a href=\\\"First%20World%20problem\\\">First World problem</a>\\n</li><li>- <a href=\\\"Second%20World\\\">Second World</a>\\n</li><li>- <a href=\\\"Third%20World\\\">Third World</a>\\n</li><li>- <a href=\\\"Fourth%20World\\\">Fourth World</a>\\n</li><li>- <a href=\\\"Globalization\\\">Globalization</a>\\n</li><li>- <a href=\\\"Multinational%20corporation\\\">Multinational corporation</a>\\n</li><li>- <a href=\\\"National%20wealth\\\">National wealth</a>\\n</li><li>- <a href=\\\"North-South%20divide\\\">North-South divide</a>\\n</li><li>- <a href=\\\"Three-world%20model\\\">Three-world model</a>\\n</li></ul>\\n\\n</doc>\\n\",\n",
            "  \"lumberjack\": \"Lumberjacks are mostly North American workers in the <a href=\\\"logging\\\">logging</a> industry who perform the initial harvesting and transport of trees for ultimate processing into <a href=\\\"forest%20product\\\">forest products</a>. The term usually refers to a bygone era (before 1945 in the United States) when hand tools were used in harvesting trees. Because of its historical ties, the term lumberjack has become ingrained in popular culture through folklore, mass media and spectator sports. The actual work was difficult, dangerous, intermittent, low-paying, and primitive in living conditions. However, the men built a traditional culture that celebrated strength, masculinity, confrontation with danger, and resistance to modernization.\\n\\nNames.The term lumberjack is of Canadian derivation. The first attested use of the word comes from an 1831 letter to the <a href=\\\"Cobourg\\\">Cobourg</a> Star and General Advertiser in the following passage: \\\"my misfortunes have been brought upon me chiefly by an incorrigible, though perhaps useful, race of mortals called LUMBERJACKS, whom, however, I would name the Cossack's of Upper Canada, who, having been reared among the oaks and pines of the wild forest, have never been subjected to the salutary restraint of laws.\\\"\\n\\nThe term <i>lumberjack</i> is primarily historical; logger is used by workers in the 21st century. When <i>lumberjack</i> is used, it usually refers to a logger from an earlier time before the advent of <a href=\\\"chainsaw\\\">chainsaws</a>, <a href=\\\"feller-buncher\\\">feller-bunchers</a> and other modern logging equipment. Other terms for the occupation include woodcutter, shanty boy and the colloquial term woodhick (Pennsylvania, US).\\n\\nA logger employed in driving logs down a river was known locally in northern North America as a river pig, catty-man, river hog, or river rat. The term lumberjill has been known for a woman who does this work; for example, in Britain during World War II. In Australia, the occupation is referred to as timber cutter or cool cutters.\\n\\nHistory.Lumberjacks worked in lumber camps and often lived a migratory life, following timber harvesting jobs as they opened. Being a lumberjack was seasonal work. Lumberjacks were exclusively men. They usually lived in <a href=\\\"bunkhouse\\\">bunkhouses</a> or tents. Common equipment included the <a href=\\\"axe\\\">axe</a> and <a href=\\\"cross-cut%20saw\\\">cross-cut saw</a>. Lumberjacks could be found wherever there were vast forests to be harvested and a demand for wood, most likely in Scandinavia, Canada, and parts of the United States. In the U.S., many lumberjacks were of Scandinavian ancestry, continuing the family tradition. American lumberjacks were first centred in north-eastern states such as Maine. They then followed the general <a href=\\\"American%20frontier\\\">westward migration</a> on the continent to the <a href=\\\"Upper%20Midwest\\\">Upper Midwest</a>, and finally the <a href=\\\"Pacific%20Northwest\\\">Pacific Northwest</a>. <a href=\\\"Stewart%20Holbrook\\\">Stewart Holbrook</a> documented the emergence and <a href=\\\"American%20frontier\\\">westward migration</a> of the classic American lumberjack in his first book, <i>Holy Old Mackinaw: A Natural History of the American Lumberjack</i>. He often wrote colourfully about lumberjacks in his subsequent books, romanticizing them as hard-drinking, hard-working men. Logging camps were slowly phased out between World War II and the early 1960s as crews could by then be transported to remote logging sites in motor vehicles.\\nThe division of labour in lumber camps led to several specialized jobs on logging crews, such as whistle punk, chaser, and high climber. The whistle punk's job was to sound a whistle (usually at the <a href=\\\"Steam%20donkey\\\">Steam donkey</a>) as a signal to the <a href=\\\"yarder\\\">yarder</a> operator controlling the movement of logs. He also had to act as a safety lookout. A good whistle punk had to be alert and think fast as the safety of the others depended on him. The high climber (also known as a tree topper) used iron climbing hooks and rope to ascend a tall tree in the landing area of the logging site, where he would chop off limbs as he climbed, chop off the top of the tree, and finally attach pulleys and rigging to the tree so it could be used as a <a href=\\\"spar%20%28tree%29\\\">spar</a> so logs could be skidded into the landing. High climbers and whistle punks were both phased out in the 1960s to early 1970s when portable steel towers replaced spar trees and radio equipment replaced steam whistles for communication. The choker setters attached steel cables (or chokers) to downed logs so they could be dragged into the landing by the yarder. The chasers removed the chokers once the logs were at the landing. Choker setters and chasers were often entry-level positions on logging crews, with more experienced loggers seeking to move up to more skill-intensive positions such as yarder operator and high climber, or supervisory positions such as hook tender. Despite the common perception that all loggers cut trees, the actual felling and bucking of trees were also specialized job positions done by fallers and buckers. Faller and bucker were once two separate job titles but are now combined.\\n\\nBefore the era of modern diesel or gasoline powered equipment, the existing machinery was steam powered. Animal or steam-powered <a href=\\\"skidder\\\">skidders</a> could be used to haul harvested logs to nearby rail roads for shipment to <a href=\\\"sawmill\\\">sawmills</a>. Horse driven <a href=\\\"Michigan%20logging%20wheels\\\">logging wheels</a> were a means used for moving logs out of the woods. Another way for transporting logs to sawmills was to float them down a body of water or a specially-constructed <a href=\\\"log%20flume\\\">log flume</a>. <a href=\\\"Log%20rolling\\\">Log rolling</a>, the art of staying on top of a floating log while \\\"rolling\\\" the log by walking, was another skill much in demand among lumberjacks. Spiked boots known as <a href=\\\"caulk%20boots\\\">\\\"caulks\\\" or \\\"corks\\\"</a> were used for log rolling and often worn by lumberjacks as their regular footwear.\\n\\nThe term \\\"<a href=\\\"skid%20row\\\">skid row</a>\\\", which today means a poor city neighbourhood frequented by <a href=\\\"homeless\\\">homeless</a> people, originated in a way in which harvested logs were once transported. Logs could be \\\"skidded\\\" down hills or along a <a href=\\\"corduroy%20road\\\">corduroy road</a>, and one such street in <a href=\\\"Seattle\\\">Seattle</a> was named Skid Road. This street later became frequented by people down on their luck, and both the name and its meaning morphed into the modern term.\\nAmong the <a href=\\\"living%20history\\\">living history</a> museums that preserve and interpret the <a href=\\\"forest%20industry\\\">forest industry</a> are:\\n<ul><li>- <a href=\\\"BC%20Forest%20Discovery%20Centre\\\">BC Forest Discovery Centre</a>, <a href=\\\"Duncan%2C%20British%20Columbia\\\">Duncan</a>\\n</li><li>- <a href=\\\"Camp%20Five%20Museum\\\">Camp Five Museum</a>, <a href=\\\"Laona%2C%20Wisconsin\\\">Laona, Wisconsin</a>\\n</li><li>- The <a href=\\\"Lumberjack%20Steam%20Train\\\">Lumberjack Steam Train</a>, a passenger excursion train, operates as part of the museum.\\n</li><li>- <a href=\\\"Central%20New%20Brunswick%20Woodsmen%27s%20Museum\\\">Central New Brunswick Woodsmen's Museum</a>, <a href=\\\"Boiestown%2C%20New%20Brunswick\\\">Boiestown, New Brunswick</a>\\n</li><li>- <a href=\\\"Coos%20County%20Logging%20Museum\\\">Coos County Logging Museum</a>, <a href=\\\"Myrtle%20Point%2C%20Oregon\\\">Myrtle Point, Oregon</a>\\n</li><li>- <a href=\\\"Biltmore%20Forest%20School\\\">Cradle of Forestry in America</a> historic site, near <a href=\\\"Asheville%2C%20North%20Carolina\\\">Asheville, North Carolina</a>\\n</li><li>- <a href=\\\"Forest%20History%20Center\\\">Forest History Center</a>, <a href=\\\"Grand%20Rapids%2C%20Minnesota\\\">Grand Rapids, Minnesota</a>\\n</li><li>- <a href=\\\"Hartwick%20Pines%20State%20Park\\\">Hartwick Pines Logging Museum</a>, near <a href=\\\"Grayling%2C%20Michigan\\\">Grayling, Michigan</a>\\n</li><li>- <a href=\\\"Lumberman%27s%20Monument\\\">Lumberman's Monument</a>, near <a href=\\\"Oscoda%2C%20Michigan\\\">Oscoda, Michigan</a>\\n</li><li>- <a href=\\\"Maine%20Forest%20%26amp%3B%20Logging%20Museum\\\">Maine Forest & Logging Museum</a>, <a href=\\\"Bradley%2C%20Maine\\\">Bradley, Maine</a>\\n</li><li>- <a href=\\\"Pennsylvania%20Lumber%20Museum\\\">Pennsylvania Lumber Museum</a>, near <a href=\\\"Galeton%2C%20Pennsylvania\\\">Galeton, Pennsylvania</a>\\n</li><li>- <a href=\\\"Algonquin%20Provincial%20Park%23Algonquin%20Logging%20Museum\\\">Algonquin Logging Museum</a> in <a href=\\\"Algonquin%20Provincial%20Park\\\">Algonquin Provincial Park</a>, <a href=\\\"Ontario\\\">Ontario</a>\\n</li></ul>\\nTie hacking.A specialty form of logging involving the felling of trees for the production of <a href=\\\"railroad%20tie\\\">railroad ties</a> was known as tie hacking. These lumberjacks, called tie hacks, used saws to fell trees and cut to length, and a <a href=\\\"broad-axe\\\">broad-axe</a> to flatten two or all four sides of the log to create railroad ties. Later, portable saw mills were used to cut and shape ties. Tie hacking was an important form of logging in Wyoming and northern Colorado and the remains of tie hacking camps can be found on National Forest land. The remains of flumes can be seen near <a href=\\\"Dubois%2C%20Wyoming\\\">Dubois, Wyoming</a>, and <a href=\\\"Old%20Roach%2C%20Colorado\\\">Old Roach</a>, Colorado. In addition, a decaying splash dam exists near the Old Roach site as well. There tie hacks attempted to float logs down to the Laramie River for the annual spring tie drives, and the splash dam was used to collect winter snow-melt to increase the water flow for the tie drive.\\n\\nLumberjack culture.Tomczik (2008) has investigated the lifestyle of lumberjacks from 1840 to 1940, using records from mostly Maine and Minnesota logging camps. In a period of industrial development and modernization in urban areas, logging remained a traditional business in which the workers exhibited pride in their craft, their physical strength and masculinity, and guarded their individualism. Their camps were a bastion of the traditional workplace as they defied modern rationalized management, and built a culture around masculinity. At the peak in 1906 there were 500,000 lumberjacks, who took special pride in their work. Logging camps were located in isolated areas that provided room and board as well as a workplace. With few females present other than the wives of cooks and foremen, lumberjacks lived an independent life style that emphasized manly virtues in doing dangerous tasks. Men earned praise for their skills in doing their work, for being competitive, and for being aggressive. When not at work, they played rough games, told tall tales, and won reputations for consuming large amounts of food. By 1940, the business was undergoing major changes, as access roads and automobiles ended residential logging camps, chain saws replaced crosscut saws, and managers installed modern industrial methods.\\n\\nModern logger.Modern technology changed the job of the modern logger considerably. Although the basic task of harvesting trees is still the same, the machinery and tasks are no longer the same. Many of the old job specialties on logging crews are now obsolete.\\n\\nChainsaws, <a href=\\\"harvester%20%28forestry%29\\\">harvesters</a>, and feller bunchers are now used to cut or fell trees. The tree is turned into logs by removing the limbs (delimbing) and cutting it into logs of optimal length (bucking). The felled tree or logs are moved from the stump to the landing. Ground vehicles such as a <a href=\\\"skidder\\\">skidder</a> or <a href=\\\"forwarder\\\">forwarder</a> can pull, carry, or shovel the logs. Cable systems \\\"cars\\\" can pull logs to the landing. Logs can also be flown to the landing by helicopter. Logs are commonly transported to the sawmill using trucks. Harvesting methods may include <a href=\\\"clear%20cutting\\\">clear cutting</a> or <a href=\\\"selective%20cutting\\\">selective cutting</a>. Concerns over the environmental impact have led to controversy about modern logging practices. In certain areas of forest loggers re-plant their crop for future generations.\\n\\nA recent <i>Wall Street Journal</i> survey on the best jobs in the United States ended by listing being a logger as the \\\"worst\\\" <i><a href=\\\"Dirty%2C%20Dangerous%20and%20Demeaning\\\">3D's</a></i> job, citing \\\"work instability, poor income and pure <a href=\\\"Occupational%20safety%20and%20health\\\">danger</a>\\\". A <a href=\\\"Bureau%20of%20Labor%20Statistics\\\">Bureau of Labor Statistics</a> survey of <a href=\\\"http%3A//money.cnn.com/2005/08/26/pf/jobs_jeopardy/\\\">America's most dangerous jobs</a> put loggers at the top of the list for 2004.\\n\\nLoggersports.The sport of Loggersports grew out of competitions in lumber camps aimed at determining the best woodcutters. Today these competitions are used to acknowledge the rich history of forestry and logging and to keep traditions alive.\\n\\nThe <a href=\\\"Stihl%20Timbersports%20Series\\\">STIHL Timbersports Series</a> was founded in 1985, and brings competitors from across the world to compete in six <a href=\\\"woodsman\\\">woodsman</a> or <a href=\\\"wood-chopping\\\">wood chopping</a> competitions. The events are broadcast worldwide on a variety of networks, including ESPN, ABC, and Eurosport.\\n\\nIn <a href=\\\"Canada\\\">Canada</a>, <a href=\\\"Squamish%20Days%20Loggers%20Sports\\\">Squamish Days Loggers Sports</a> in <a href=\\\"Squamish%2C%20British%20Columbia\\\">Squamish, British Columbia</a>, attracts the finest competitors to its weekend festival in August each year. The event has entertainers such as <a href=\\\"Johnny%20Cash\\\">Johnny Cash</a>, who, in 1991, performed at the 5,000-seat Loggers Sports grounds during his Roadshow tour.\\n\\nThe <a href=\\\"Woodsmen%27s%20Days\\\">Woodsmen's Days</a> events at <a href=\\\"Tupper%20Lake%2C%20New%20York\\\">Tupper Lake, New York</a> commemorate the lumberjack with logging competitions and demonstrations during mid-July. Many colleges have woodsmen teams or forestry clubs who compete regionally, nationally, and internationally. The <a href=\\\"Association%20of%20Southern%20Forestry%20Clubs\\\">Association of Southern Forestry Clubs</a>, for example, sponsors an annual <a href=\\\"Forestry%20Conclave\\\">Forestry Conclave</a> with 250 contestants and a variety of events.\\n\\nThere are also lumberjack shows which tour the United States, demonstrating traditional logging practices to the general public. The annual <a href=\\\"Lumberjack%20World%20Championships\\\">Lumberjack World Championships</a> have been held in <a href=\\\"Hayward%2C%20Wisconsin\\\">Hayward, Wisconsin</a> since 1960. Over 12,000 visitors come to the event each year in late July to watch men and women compete in 21 different events, including log rolling, chopping, timed <a href=\\\"Hot%20Saw\\\">hot (power)</a> and bucksaw cutting, and <a href=\\\"tree%20climbing\\\">tree climbing</a>.\\n\\nPopular culture.In <a href=\\\"popular%20culture\\\">popular culture</a>, the stereotypical lumberjack is a strong, burly, usually bearded man who lives to brave the <a href=\\\"natural%20environment\\\">natural environment</a>. He is depicted wearing suspenders, a long-sleeved plaid <a href=\\\"flannel\\\">flannel</a> shirt, and heavy <a href=\\\"caulk%20boots\\\">caulk boots</a>, and is often characterized as having a voracious appetite, especially for <a href=\\\"Flapjack%20%28pancake%29\\\">flapjacks</a>. He works by cutting down trees with either an axe or with the help of another lumberjack and a crosscut saw, as opposed to the modern chainsaw.\\n\\nFashion.A \\\"lumbersexual\\\" or \\\"urban lumberjack\\\" is a man who has adopted style traits typical of a traditional lumberjack, namely a beard, plaid shirt, and/or scruffy hair, substituting otherwise clean-cut and fashionable style choices. They are also often adorned by neck tattoos and \\\"sleeve\\\" tattoos, and wear large gauged piercings in their earlobes. <a href=\\\"Denver%20Nicks\\\">Denver Nicks</a> described the trend as perhaps an attempt to \\\"reclaim masculinity\\\". The term \\\"lumbersexual\\\" is a variant of the earlier \\\"<a href=\\\"metrosexual\\\">metrosexual</a>\\\", which was coined in the 1990s.\\n\\nFolklore.The most famous depiction of a lumberjack in folklore is <a href=\\\"Paul%20Bunyan\\\">Paul Bunyan</a>. Several towns claim to have been Paul Bunyan's home and have erected statues of Bunyan and his blue ox \\\"Babe\\\".\\n\\nKnown for their many exploits, many real life loggers have become renowned for their extraordinary strength, intuition, and knowledge of the woods. Men such as <a href=\\\"Jigger%20Johnson\\\">Jigger Johnson</a>, the <a href=\\\"Maine\\\">Maine</a> woodsman who supposedly kicked knots off frozen logs barefooted, and <a href=\\\"Joseph%20Montferrand\\\">Joseph Montferrand</a> (better known as <a href=\\\"Big%20Joe%20Mufferaw\\\">Big Joe Mufferaw</a>), the <a href=\\\"French-Canadian\\\">French-Canadian</a> known for his physical prowess and desire to protect the French-speaking logger, have been celebrated as <a href=\\\"folk%20hero\\\">folk heroes</a> throughout <a href=\\\"North%20America\\\">North America</a>, and have contributed to the <a href=\\\"folklore\\\">mythos</a> of the Lumberjack.\\n\\nBooks.<ul><li>- <i>Blackwater Ben</i>, 2003, by <a href=\\\"William%20Durbin\\\">William Durbin</a>, about a boy who gets to live with his father as a cook in a lumberjack camp\\n</li><li>- <i><a href=\\\"Sometimes%20a%20Great%20Notion%20%28novel%29\\\">Sometimes a Great Notion</a></i>, 1964, by <a href=\\\"Ken%20Kesey\\\">Ken Kesey</a> (1964), about an Oregon family of <a href=\\\"gyppo%20logger\\\">gyppo loggers</a>\\n</li><li>- <i>Lumberjack</i>, 1974, by <a href=\\\"William%20Kurelek\\\">William Kurelek</a>, about his days working in a logging camp.\\n</li><li>- <i><a href=\\\"The%20Alphabet%20of%20Manliness\\\">The Alphabet of Manliness</a></i>, 2006, by <a href=\\\"Maddox%20%28writer%29\\\">Maddox</a>, lists the lumberjack as one of 26 examples (each corresponding to a letter of the <a href=\\\"alphabet\\\">alphabet</a>) of the pinnacle of manliness\\n</li></ul>\\nFilms.<ul><li>- <i><a href=\\\"Come%20and%20Get%20It%20%281936%20film%29\\\">Come and Get It</a></i>, 1936 film directed by <a href=\\\"Howard%20Hawks\\\">Howard Hawks</a> and <a href=\\\"William%20Wyler\\\">William Wyler</a>\\n</li><li>- <i><a href=\\\"The%20Howards%20of%20Virginia\\\">The Howards of Virginia</a></i>, 1940 film directed by <a href=\\\"Frank%20Lloyd\\\">Frank Lloyd</a>\\n</li><li>- <i><a href=\\\"Lumberjack%20%28film%29\\\">Lumberjack</a></i>, 1944 film directed by <a href=\\\"Lesley%20Selander\\\">Lesley Selander</a>\\n</li><li>- <i><a href=\\\"Seven%20Brides%20for%20Seven%20Brothers\\\">Seven Brides for Seven Brothers</a></i>, 1954 film directed by <a href=\\\"Stanley%20Donen\\\">Stanley Donen</a>\\n</li><li>- <i><a href=\\\"Sometimes%20a%20Great%20Notion%20%28film%29\\\">Sometimes a Great Notion</a></i>, 1970 film adaptation of the novel of the same name, directed by <a href=\\\"Paul%20Newman\\\">Paul Newman</a>\\n</li><li>- <i></i>, 1992 animated film directed by <a href=\\\"Bill%20Kroyer\\\">Bill Kroyer</a>\\n</li><li>- <i><a href=\\\"Fargo%20%28film%29\\\">Fargo</a></i>, 1996 film directed by <a href=\\\"Joel%20Coen\\\">Joel Coen</a>\\n</li><li>- <i></i>, 2009 film directed by <a href=\\\"Gavin%20Hood\\\">Gavin Hood</a>\\n</li></ul>\\nTelevision.The lives of loggers have been featured on the following American television series:\\n<ul><li>- <i><a href=\\\"American%20Loggers\\\">American Loggers</a></i> on the <a href=\\\"Discovery%20Channel\\\">Discovery Channel</a>\\n</li><li>- <i><a href=\\\"Axe%20Men\\\">Axe Men</a></i> on <a href=\\\"History%20%28U.S.%20TV%20channel%29\\\">History</a>\\n</li><li>- <i><a href=\\\"Here%20Come%20the%20Brides\\\">Here Come the Brides</a></i>\\n</li><li>- <i><a href=\\\"The%20Pink%20Panther%20Show\\\">The Pink Panther</a></i> cartoon short, <i><a href=\\\"Pink%20Campaign\\\">Pink Campaign</a></i>\\n</li><li>- <i><a href=\\\"Wacky%20Races%20%281968%20TV%20series%29\\\">Wacky Races</a></i>\\n</li><li>- <i><a href=\\\"Gravity%20Falls\\\">Gravity Falls</a></i>\\n</li><li>- <i><a href=\\\"Dexter%20%28TV%20series%29\\\">Dexter</a></i>\\n</li></ul>\\nSongs.<ul><li>- Lumberjacks rapidly developed their own distinctive musical culture of <a href=\\\"work%20songs\\\">work songs</a>. Many were based on traditional European folk tunes, with lyrics that reflected the lives, experiences and concerns of lumberjacks, with the themes of cutting, hauling, rolling, and driving, as well as narrative songs that involved romance.\\n</li><li>- <i>Big Joe Mufferaw</i>, a song recorded and performed by <a href=\\\"Stompin%27%20Tom%20Connors\\\">Stompin' Tom Connors</a>, one of Canada's most prolific and well-known country and folk singer-songwriters, about legendary folk hero <a href=\\\"Joseph%20Montferrand\\\">Joseph Montferrand</a>, a French-Canadian logger. This song appears on the album <i><a href=\\\"Stompin%27%20Tom%20Meets%20Big%20Joe%20Mufferaw\\\">Stompin' Tom Meets Big Joe Mufferaw</a></i> (1970), on the live album <i><a href=\\\"Live%20At%20The%20Horseshoe\\\">Live At The Horseshoe</a></i> (1971), and on the album <i><a href=\\\"Move%20Along%20With%20Stompin%27%20Tom\\\">Move Along With Stompin' Tom</a></i> (1999).\\n</li><li>- <i><a href=\\\"The%20Log%20Driver%27s%20Waltz\\\">The Log Driver's Waltz</a></i>, a 1956 song by <a href=\\\"Wade%20Hemsworth\\\">Wade Hemsworth</a> on his album <i>Folk Songs of the Canadian North Woods</i>\\n</li><li>- <i>Lumberjack</i>, a 1960 song by <a href=\\\"Johnny%20Cash\\\">Johnny Cash</a> on his album <i><a href=\\\"Ride%20This%20Train\\\">Ride This Train</a></i>\\n</li><li>- <i><a href=\\\"The%20Lumberjack%20%28Hal%20Willis%20song%29\\\">The Lumberjack</a></i>, a song by <a href=\\\"Hal%20Willis%20%28singer%29\\\">Hal Willis</a>\\n</li><li>- <i>The Lumberjack</i>, a song featuring a chainsaw solo, by the American rock band <a href=\\\"Jackyl\\\">Jackyl</a>\\n</li><li>- <i><a href=\\\"The%20Lumberjack%20Song\\\">The Lumberjack Song</a></i>, a song by <a href=\\\"Monty%20Python\\\">Monty Python</a>, known for its refrain: \\\"I'm a lumberjack and I'm okay / I sleep all night and I work all day. ...\\\"\\n</li></ul>\\nSee also.<ul><li>- <a href=\\\"Arborist\\\">Arborist</a>\\n</li><li>- <a href=\\\"Log%20boom\\\">Log boom</a>\\n</li><li>- <a href=\\\"Log%20scaler\\\">Log scaler</a>\\n</li><li>- <a href=\\\"Log%20driving\\\">Log driving</a>\\n</li></ul>\\nFurther reading.<ul><li>- Brock, Emily K. <i>Money Trees: The Douglas Fir and American Forestry, 1900-1944</i> (Oregon State University Press, 2015). 272 pp.\\n</li><li>- Chaney, Michael P. <i>White Pine on the Saco River: An Oral History of River Driving in Southern Maine</i> (University of Maine Press, 1993)\\n</li><li>- Cox, Thomas R. <i>The Lumberman's Frontier: Three Centuries of Land Use, Society, and Change in America's Forests </i> (Oregon State University Press, 2010); 560 pages; examines successive frontier regions prized for lumber rather than farming, beginning with northern New England in the 17th century\\n</li><li>- Griffiths, Bus. <i>Now You're Logging</i>, Harbour Publishing, 1978.\\n</li><li>- Hayner, Norman S. \\\"Taming the Lumberjack,\\\" <i>American Sociological Review,</i> Vol. 10, No. 2, (April, 1945), pp.\\u00a0217\\u2013225 <a href=\\\"https%3A//www.jstor.org/stable/2085640\\\">in JSTOR</a>, description of lifestyle\\n</li><li>- Holbrook, Stewart H. <i>Holy Old Mackinaw: A Natural History of the American Lumberjack</i>, 1938, popular\\n</li><li>- Holbrook, Stewart H. <i>The American Lumberjack</i> (Collier Books, 1962), popular account\\n</li><li>- Karamanski, Theodore J. <i>Deep Woods Frontier: A History of Logging in Northern Michigan</i> (1989)\\n</li><li>- Lee, David. <i>Lumber Kings and Shantymen</i>. Ottawa, Ontario, Canada: 2006.\\n</li><li>- Lemonds, James. <i>Deadfall: Generations of Logging in the Pacific Northwest</i>. Missoula: Mountain Press, 2001.\\n</li><li>- Mackay, Donald. \\\"The Canadian Logging Frontier,\\\" <i>Journal of Forest History</i> 1979 23(1): 4-17\\n</li><li>- Radforth, Ian. <i>Bushworkers and Bosses: Logging in Northern Ontario, 1900\\u20131980</i> (University of Toronto Press, 1987).\\n</li><li>- Robbins, William G. <i>Lumberjacks and Legislators: Political Economy of the U.S. Lumber Industry, 1890-1941</i> (Texas A. & M. U. Press, 1982). 268 pp.\\n</li><li>- Roberge, Earl. <i>Timber Country</i>. Caldwell, Idaho: Caxton Printers, 1973.\\n</li><li>- Rohe, Randall E. \\\"The Evolution of the Great Lakes Logging Camp, 1830-1930,\\\" <i>Journal of Forest History</i> 1986 30(1): 17-28\\n</li><li>- Smith, David C. <i>A History of Lumbering in Maine, 1861\\u20131960</i> (University of Maine Press, 1972)\\n</li><li>- Sorden, L. G. and Vallier, Jacque. <i>Lumberjack Lingo: A Dictionary of the Logging Era.</i> (Ashland, Wis.: NorthWord, 1986). 288 pp.\\n</li><li>- Tomczik, Adam, \\\"'He-men Could Talk to He-men in He-man Language'\\\": Lumberjack Work Culture in Maine and Minnesota, 1840\\u20131940,\\\" <i>Historian</i> Winter 2008, Vol. 70 Issue 4, pp 697\\u2013715\\n</li></ul>\\nExternal links.<ul><li>- <a href=\\\"http%3A//history.lakemac.com.au/page-local-history.aspx%3Fpid%3D1085%26amp%3Bvid%3D20%26amp%3Btmpt%3Dshowmedia%26amp%3Bnarid%3D0%26amp%3Bcat%3DPhotograph%26amp%3Bobjid%3D3693\\\">William Reed (Timber getter) c.1930</a> - photo from the Jones-Mashman Collection at Lake Macquarie Library.\\n</li><li>- <a href=\\\"http%3A//content.lib.washington.edu\\\">University of Washington Libraries: Digital Collections</a>:\\n</li><li>- <a href=\\\"http%3A//content.lib.washington.edu/clarkkinseyweb/index.html\\\">Clark Kinsey Photographs</a> Over 1000 images by commercial photographer Clark and his brother Darius Kinsey documenting the logging and milling camps and other forest related activities in Washington State, ca. 1910-1945.\\n</li><li>- <a href=\\\"http%3A//digitalcollections.lib.washington.edu/cdm/search/collection/indocc/searchterm/log%2A%2520lumber%2520plywood%2520woodworkers/field/all/mode/any/conn/and/cosuppress/\\\">Industry and Occupations Photographs</a> An ongoing and expanding collection devoted to the workers in the Pacific Northwest from 1880s-1940s. Many occupations and industries are represented including the logging and lumber industry.\\n</li><li>- <a href=\\\"http%3A//content.lib.washington.edu/cmpweb/exhibits/logging\\\">Man to Machine: Peninsula Logging</a> Online museum exhibit based upon the Clark Kinsey Logging Photographs Collection and the recollections of Harry C. Hall, who worked as a logger on the Olympic Peninsula in the early 20th century. Includes a video on the Hobi family logging history (late 19th century \\u2013 early 20th century).\\n</li></ul>\\n\\n</doc>\\n\",\n",
            "  \"new guinea campaign\": \"The New Guinea campaign of the <a href=\\\"Pacific%20War\\\">Pacific War</a> lasted from January 1942 until the end of the war in August 1945. During the initial phase in early 1942, the <a href=\\\"Empire%20of%20Japan\\\">Empire of Japan</a> invaded the <a href=\\\"Australia\\\">Australian</a>-administered territories of the <a href=\\\"Territory%20of%20New%20Guinea\\\">New Guinea Mandate</a> (23 January) and <a href=\\\"Territory%20of%20Papua\\\">Papua</a> (8 March) and overran <a href=\\\"Dutch%20New%20Guinea\\\">western New Guinea</a> (beginning 29/30 March), which was a part of the <a href=\\\"Netherlands%20East%20Indies\\\">Netherlands East Indies</a>. During the second phase, lasting from late 1942 until the Japanese surrender, the <a href=\\\"Allies%20of%20World%20War%20II\\\">Allies</a>\\u2014consisting primarily of Australian and US forces\\u2014cleared the Japanese first from Papua, then the Mandate and finally from the Dutch colony.\\n\\nThe campaign resulted in a crushing defeat and heavy losses for the Empire of Japan. As in most Pacific War campaigns, disease and starvation claimed more Japanese lives than enemy action. Most Japanese troops never even came into contact with Allied forces, and were instead simply cut off and subjected to an effective blockade by the US Navy. Garrisons were effectively besieged and denied shipments of food and medical supplies, and as a result, some claim that 97% of Japanese deaths in this campaign were from non-combat causes.\\n\\nAccording to <a href=\\\"John%20Laffin\\\">John Laffin</a>, the campaign \\\"was arguably the most arduous fought by any Allied troops during World War II\\\".\\n\\nStrategic situation.The struggle for New Guinea began with the <a href=\\\"Battle%20of%20Rabaul%20%281942%29\\\">capture by the Japanese</a> of the city of <a href=\\\"Rabaul\\\">Rabaul</a> at the northeastern tip of <a href=\\\"New%20Britain%20Island\\\">New Britain Island</a> in January 1942 (the Allies responded with multiple <a href=\\\"Bombing%20of%20Rabaul%20%281942%29\\\">bombing raids</a>, of which the <a href=\\\"Action%20off%20Bougainville\\\">Action off Bougainville</a> was one). Rabaul overlooks <a href=\\\"Simpson%20Harbor\\\">Simpson Harbor</a>, a considerable natural anchorage, and was ideal for the construction of airfields. Over the next year, the Japanese built up the area into a major air and naval base.\\n\\nThe Japanese <a href=\\\"Japanese%20Eighth%20Area%20Army\\\">8th Area Army</a> (equivalent to a Euroamerican army), under General <a href=\\\"Hitoshi%20Imamura\\\">Hitoshi Imamura</a> at Rabaul, was responsible for both the New Guinea and <a href=\\\"Solomon%20Islands%20campaign\\\">Solomon Islands campaigns</a>. The <a href=\\\"Japanese%20Eighteenth%20Army\\\">Japanese 18th Army</a> (equivalent to a Euroamerican corps), under Lieutenant General <a href=\\\"Hataz%C5%8D%20Adachi\\\">Hataz\\u014d Adachi</a>, was responsible for Japanese operations on mainland New Guinea.\\n\\nThe colonial capital of <a href=\\\"Port%20Moresby\\\">Port Moresby</a> on the south coast of Papua was the strategic key for the Japanese in this area of operations. Capturing it would both neutralize the Allies' principal forward base and serve as a springboard for a <a href=\\\"Proposed%20Japanese%20invasion%20of%20Australia%20during%20World%20War%20II\\\">possible invasion of Australia</a>. For the same reasons, General <a href=\\\"Douglas%20MacArthur\\\">Douglas MacArthur</a>, Supreme Commander Allied Forces <a href=\\\"South%20West%20Pacific%20Area%20%28command%29\\\">South West Pacific Area</a> was determined to hold it. MacArthur was further determined to conquer all of New Guinea in his progress toward the eventual recapture of the Philippines. General Headquarters <a href=\\\"South%20West%20Pacific%20Area%20%28command%29\\\">Southwest Pacific Area</a> Operational Instruction No.7 of 25 May 1942, issued by Commander-Allied-Forces, General <a href=\\\"Douglas%20MacArthur\\\">Douglas MacArthur</a>, placed all Australian and US Army, Air Force and Navy Forces in the Port Moresby Area under the control of <a href=\\\"New%20Guinea%20Force\\\">New Guinea Force</a>.\\n\\nJapanese seizure of Lae and Salamaua.Due north of Port Moresby, on the northeast coast of Papua, are <a href=\\\"Huon%20Gulf\\\">Huon Gulf</a> and the <a href=\\\"Huon%20Peninsula\\\">Huon Peninsula</a>. The Japanese entered <a href=\\\"Invasion%20of%20Lae-Salamaua\\\">Lae and Salamaua</a>, two locations on Huon Gulf, unopposed in early March 1942. MacArthur would have liked to deny this area to the Japanese, but he had neither sufficient air nor naval forces to undertake a counterlanding. The Japanese at Rabaul and other bases on New Britain would have easily overwhelmed any such effort (by mid-September, MacArthur's entire naval force under Vice Admiral <a href=\\\"Arthur%20S.%20Carpender\\\">Arthur S. Carpender</a> consisted entirely of 5 cruisers, 8 destroyers, 20 submarines, and 7 small craft). The only Allied response was a bombing raid of <a href=\\\"Invasion%20of%20Lae-Salamaua\\\">Lae and Salamaua</a> by aircraft flying over the <a href=\\\"Owen%20Stanley%20Range\\\">Owen Stanley Range</a> from the carriers and , leading the Japanese to reinforce these sites.\\n\\nJapanese attempt on Port Moresby.Operation Mo was the designation given by the Japanese to their initial plan to take possession of Port Moresby. Their operation plan decreed a five-pronged attack: one task force to establish a seaplane base at Tulagi in the lower Solomons, one to establish a seaplane base in the <a href=\\\"Louisiade%20Archipelago\\\">Louisiade Archipelago</a> off the eastern tip of New Guinea, one of transports to land troops near Port Moresby, one with a <a href=\\\"Light%20aircraft%20carrier\\\">light carrier</a> to cover the landing, and one with two <a href=\\\"fleet%20carrier\\\">fleet carriers</a> to sink the Allied forces sent in response. In the resulting 4\\u20138 May 1942 <a href=\\\"Battle%20of%20the%20Coral%20Sea\\\">Battle of the Coral Sea</a>, the Allies suffered higher losses in ships, but achieved a crucial strategic victory by turning the Japanese landing force back, thereby removing the threat to Port Moresby, at least for the time being.\\n\\nAfter this failure, the Japanese decided on a longer term, two-pronged assault for their next attempt on Port Moresby. Forward positions would first be established at <a href=\\\"Milne%20Bay\\\">Milne Bay</a>, located in the forked eastern end of the Papuan peninsula, and at <a href=\\\"Buna%2C%20Papua%20New%20Guinea\\\">Buna</a>, a village on the northeast coast of Papua about halfway between <a href=\\\"Huon%20Gulf\\\">Huon Gulf</a> and Milne Bay. Simultaneous operations from these two locations, one amphibious and one overland, would converge on the target city.\\n\\nCrossing the Owen Stanleys.Buna was easily taken as the Allies had no military presence there (MacArthur wisely chose not to attempt an occupation by paratroopers since any such force would have been easily wiped out by the Japanese). The Japanese <a href=\\\"Invasion%20of%20Buna-Gona\\\">occupied the village</a> with an initial force of 1,500 on 21 July and by 22 August had 11,430 men under arms at Buna. Then began the grueling <a href=\\\"Kokoda%20Track%20campaign\\\">Kokoda Track campaign</a>, a brutal experience for both the Japanese and Australian troops involved. On 17 September, the Japanese had reached the village of Ioribaiwa, just 30 km from the Allied airdrome at Port Moresby. The Australians held firm and began their counterdrive on 26 September. \\\"...the Japanese retreat down the Kokoda Trail had turned into a rout. Thousands perished from starvation and disease; the commanding general, <a href=\\\"Tomitar%C5%8D%20Horii\\\">Horii</a>, was drowned.\\\" Thus was the overland threat to Port Moresby permanently removed.\\n\\nAir operations.Since Port Moresby was the only port supporting operations in Papua, its defence was critical to the campaign. The air defences consisted of <a href=\\\"Bell%20P-39%20Airacobra\\\">P-39</a> and <a href=\\\"Curtiss%20P-40%20Warhawk\\\">P-40</a> fighters. RAAF <a href=\\\"radar\\\">radar</a> could not provide sufficient warning of Japanese attacks, so reliance was placed on <a href=\\\"coastwatchers\\\">coastwatchers</a> and spotters in the hills until an American radar unit arrived in September with better equipment. Japanese bombers were often escorted by fighters which came in at 30000 ft\\u2014too high to be intercepted by the P-39s and P-40s\\u2014giving the Japanese an altitude advantage in air combat. The cost to the Allied fighters was high. By 20 June, 25 P-39s had been lost in air combat, while three more had been destroyed on the ground and eight had been destroyed in landings by accident. The Australian and American anti-aircraft gunners of the Composite Anti-Aircraft Defences played a crucial part. The gunners got a lot of practice; Port Moresby suffered its 78th raid on 17 August 1942. A gradual improvement in their numbers and skill forced the Japanese bombers up to higher altitude, where they were less accurate, and then, in August, to raiding by night.\\n\\nAlthough RAAF <a href=\\\"Consolidated%20PBY%20Catalina\\\">PBY Catalinas</a> and <a href=\\\"Lockheed%20Hudson\\\">Lockheed Hudsons</a> were based at Port Moresby, because of the Japanese air attacks, long-range bombers like <a href=\\\"Boeing%20B-17%20Flying%20Fortress\\\">B-17s</a>, <a href=\\\"North%20American%20B-25%20Mitchell\\\">B-25s</a>, and <a href=\\\"Martin%20B-26%20Marauder\\\">B-26s</a> could not be safely based there and were instead staged through from bases in Australia. This resulted in considerable fatigue for the air crews. Due to USAAF doctrine and a lack of long-range escorts, long-range bomber raids on targets like Rabaul went in unescorted and suffered heavy losses, prompting severe criticism of <a href=\\\"Lieutenant%20general%20%28United%20States%29\\\">Lieutenant General</a> <a href=\\\"George%20Brett%20%28general%29\\\">George Brett</a> by war correspondents for misusing his forces. But fighters did provide cover for the transports, and for bombers when their targets were within range. Aircraft based at Port Moresby and Milne Bay fought to prevent the Japanese from basing aircraft at Buna, and attempted to prevent the Japanese reinforcement of the Buna area. As the Japanese ground forces pressed toward Port Moresby, the Allied Air Forces struck supply points along the Kokoda Track. Japanese makeshift bridges were attacked by P-40s with 500 lb bombs.\\n\\nAllied capture of Milne Bay.While it was beyond MacArthur's capabilities to deny Buna to the Japanese, the same could not be said of <a href=\\\"Milne%20Bay\\\">Milne Bay</a>, which was easily accessible by Allied naval forces. In early June, US Army engineers, Australian infantry and an anti-aircraft battery were landed near the <a href=\\\"Lever%20Brothers\\\">Lever Brothers</a> coconut plantation at <a href=\\\"Gili%20Gili\\\">Gili Gili</a>, and work was begun on an airfield. By 22 August, about 8,500 Australians and 1,300 Americans were on site. The Japanese arrived and the 25 August \\u2013 7 September <a href=\\\"Battle%20of%20Milne%20Bay\\\">Battle of Milne Bay</a> was underway. Historian Samuel Eliot Morison summed up the results this way:\\n\\nThe <a href=\\\"D%27Entrecasteaux%20Islands\\\">D'Entrecasteaux Islands</a> lie directly off the northeast coast of the lower portion of the Papuan peninsula. The westernmost island of this group, <a href=\\\"Goodenough%20Island\\\">Goodenough</a>, had been occupied in August 1942 by 353 stranded troops from bombed Japanese landing craft. The destroyer <i>Yayoi</i>, sent to recover these men, was itself bombed and sunk on 11 September. A force of 800 Australian troops <a href=\\\"Battle%20of%20Goodenough%20Island\\\">landed on 22 October</a> on either side of the Japanese position. Beleaguered, the survivors of the Japanese garrison were evacuated by submarine on the night of 26 October. The Allies proceeded to turn the island into an air base.\\n\\nAllied recapture of Buna and Gona.The Japanese drive to conquer all of New Guinea had been decisively stopped. MacArthur was now determined to liberate the island as a stepping-stone to the reconquest of the Philippines. MacArthur's rollback began with the 16 November 1942 \\u2013 22 January 1943 <a href=\\\"Battle%20of%20Buna-Gona\\\">Battle of Buna-Gona</a>. The experience of the green <a href=\\\"32nd%20Infantry%20Division%20%28United%20States%29\\\">US 32nd Infantry Division</a>, just out of training camp and utterly unschooled in jungle warfare, was nearly disastrous. Instances were noted of officers completely out of their depth, of men eating meals when they should have been on the firing line, even of cowardice. MacArthur relieved the division commander and on 30 November instructed Lieutenant General <a href=\\\"Robert%20L.%20Eichelberger\\\">Robert L. Eichelberger</a>, commander of the <a href=\\\"US%20I%20Corps\\\">US I Corps</a>, to go to the front personally with the charge \\\"to remove all officers who won't fight ... if necessary, put sergeants in charge of battalions ... I want you to take Buna, or not come back alive.\\\"\\n\\nThe <a href=\\\"7th%20Division%20%28Australia%29\\\">Australian 7th Division</a> under the command of Major General <a href=\\\"George%20Alan%20Vasey\\\">George Alan Vasey</a>, along with the revitalized US 32nd Division, restarted the Allied offensive. Gona fell to the Australians on 9 December 1942, Buna to the US 32nd on 2 January 1943, and <a href=\\\"Sanananda\\\">Sanananda</a>, located between the two larger villages, fell to the Australians on 22 January.\\n\\n<a href=\\\"Operation%20Lilliput\\\">Operation Lilliput</a> (18 December 1942 \\u2013 June 1943) was an ongoing resupply operation ferrying troops and supplies from <a href=\\\"Milne%20Bay\\\">Milne Bay</a>, at the tip of the <a href=\\\"Papua%20New%20Guinea\\\">Papuan Peninsula</a>, to <a href=\\\"Oro%20Bay\\\">Oro Bay</a>, a little more than halfway between Milne Bay and the <a href=\\\"Buna-Gona%20campaign\\\">Buna-Gona</a> area.\\n\\nHolding Wau.<a href=\\\"Wau%2C%20Papua%20New%20Guinea\\\">Wau</a> is a village in the interior of the Papuan peninsula, approximately 50 km southwest of <a href=\\\"Salamaua\\\">Salamaua</a>. An airfield had been built there during an area gold rush in the 1920s and 1930s. This airfield was of great value to the Australians during the fighting for northeast Papua.\\n\\nOnce the Japanese had decided to give up on <a href=\\\"Battle%20of%20Guadalcanal\\\">Guadalcanal</a>, the capture of Port Moresby loomed even larger in their strategic thinking. Taking the airfield at Wau was a crucial step in this process, and to this end, the <a href=\\\"Japanese%2051st%20Division\\\">51st Division</a> was transferred from Indochina and placed under General <a href=\\\"Hitoshi%20Imamura\\\">Hitoshi Imamura</a>'s <a href=\\\"Japanese%20Eighth%20Area%20Army\\\">Eighth Area Army</a> at Rabaul; one regiment arrived at Lae in early January 1943. In addition, about 5,400 survivors of the Japanese defeat at <a href=\\\"Battle%20of%20Buna-Gona\\\">Buna-Gona</a> were moved into the Lae-Salamaua area. Opposing these forces were the Australian <a href=\\\"2/5th%20Battalion%20%28Australia%29\\\">2/5th</a>, <a href=\\\"2/6th%20Battalion%20%28Australia%29\\\">2/6th</a> and <a href=\\\"2/7th%20Battalion%20%28Australia%29\\\">2/7th Battalions</a> along with Lieutenant Colonel Norman Fleay's <a href=\\\"Kanga%20Force\\\">Kanga Force</a>.\\n\\nThe Australians decisively turned back the Japanese assault in the ensuing 29\\u201331 January 1943 <a href=\\\"Battle%20of%20Wau\\\">Battle of Wau</a>. \\\"Within a few days, the enemy was retreating from the Wau Valley, where he had suffered a serious defeat, harassed all the way back to Mubo...\\\" About one week later, the Japanese completed their <a href=\\\"Guadalcanal%20Campaign%23Ke%20evacuation\\\">evacuation of Guadalcanal</a>.\\n\\nFinal Japanese drive on Wau.General Imamura and his naval counterpart at <a href=\\\"Rabaul\\\">Rabaul</a>, Admiral <a href=\\\"Jinichi%20Kusaka\\\">Jinichi Kusaka</a>, commander <a href=\\\"Southeast%20Area%20Fleet\\\">Southeast Area Fleet</a>, resolved to reinforce their ground forces at <a href=\\\"Lae\\\">Lae</a> for one final all-out attempt against Wau. If the transports succeeded in staying behind a weather front and were protected the whole way by fighters from the various airfields surrounding the <a href=\\\"Bismarck%20Sea\\\">Bismarck Sea</a>, they might make it to Lae with an acceptable level of loss, i.e., at worst half the task force would be sunk en route. It is indicative of the extent to which Japanese ambitions had fallen at this point in the war that a 50% loss of ground troops aboard ship was considered acceptable.\\n\\nThree factors conspired to create disaster for the Japanese. First, they had woefully underestimated the strength of the Allied air forces. Second, the Allies had become convinced that the Japanese were preparing a major seaborne reinforcement and so had stepped up their air searches. Most important of all, the bombers of MacArthur's air forces, under the command of Lieutenant General <a href=\\\"George%20Kenney\\\">George C. Kenney</a>, had been modified to enable new offensive tactics. Their noses had been refitted with eight 50-caliber machine guns for strafing slow-moving ships on the high seas. In addition, their bomb bays were filled with 500-pound bombs to be used in the newly devised practice of <a href=\\\"skip%20bombing\\\">skip bombing</a>.\\n\\nAbout 6,900 troops aboard eight transports, escorted by eight destroyers, departed Rabaul at midnight 28 February under the command of Rear Admiral <a href=\\\"Masatomi%20Kimura\\\">Masatomi Kimura</a>. Through the afternoon of 1 March, the overcast weather held at which point everything began to go wrong for the Japanese. The weather changed direction and Kimura's slow-moving task force was spotted by an Allied scout plane. By the time the Allied bombers and PT boats finished their work on 3 March, Kimura had lost all eight transports and four of his eight destroyers.\\n\\nThe remaining destroyers with about 2,700 surviving troops limped back to Rabaul. \\\"The enemy never again risked a transport larger than a small coaster or barge in waters shadowed by American planes. His contemplated offensive against Wau died a-borning.\\\"\\n\\nOperation I-Go.Fleet Admiral <a href=\\\"Isoroku%20Yamamoto\\\">Isoroku Yamamoto</a> promised <a href=\\\"Hirohito\\\">the emperor</a> that he would pay back the Allies for the <a href=\\\"Battle%20of%20the%20Bismarck%20Sea\\\">disaster at the Bismarck Sea</a> with a series of massive air strikes. For this, he ordered the air arm of Vice Admiral <a href=\\\"Jisaburo%20Ozawa\\\">Jisaburo Ozawa's</a> <a href=\\\"Third%20Fleet%20%28Imperial%20Japanese%20Navy%29\\\">Third Fleet</a> carriers to reinforce the <a href=\\\"Imperial%20Japanese%20Navy%20Air%20Service%23Eleventh%20Air%20Fleet%20and%20land-based%20air%20fleets\\\">Eleventh Air Fleet</a> at Rabaul. To demonstrate the seriousness of the effort to the Supreme War Council, multiple shifts of high-ranking personnel were also effected: Both Yamamoto and Ozawa moved their headquarters to Rabaul; and <a href=\\\"IJN%208th%20Fleet\\\">Eighth Fleet</a> commander Vice Admiral <a href=\\\"Gunichi%20Mikawa\\\">Gunichi Mikawa</a> as well as General Imamura's chief of staff were sent to Tokyo with advice and explanations for the respective General Staffs (Admiral <a href=\\\"Tomoshige%20Samejima\\\">Tomoshige Samejima</a> replaced Mikawa as Eight Fleet commander).\\n\\nI-Go was to be carried out in two phases, one against the lower Solomons and one against Papua.\\nThe first strike, on 7 April, was against Allied shipping in the <a href=\\\"Ironbottom%20Sound\\\">waters between Guadalcanal and Tulagi</a>. At 177 planes, this was the largest Japanese air attack since <a href=\\\"Pearl%20Harbor%20Attack\\\">Pearl Harbor</a>. Yamamoto then turned his attention to New Guinea: 94 planes struck <a href=\\\"Oro%20Bay\\\">Oro Bay</a> on 11 April; 174 planes hit <a href=\\\"Port%20Moresby\\\">Port Moresby</a> on 12 April; and in the largest raid of all, 188 aircraft struck <a href=\\\"Milne%20Bay\\\">Milne Bay</a> on 14 April.\\n\\nI-Go demonstrated that the Japanese command was not learning the lessons of air power that the Allies were. The Allied <a href=\\\"Bombing%20of%20Rabaul%20%28November%201943%29\\\">reduction of Rabaul</a> was only made possible by relentless air strikes that took place day after day, but Yamamoto thought the damage inflicted by a few attacks of large formations would derail Allied plans long enough for Japan to prepare a defense in depth. Also, Yamamoto accepted at face value his fliers' over-optimistic reports of damage: they reported a score of one cruiser, two destroyers and 25 transports, as well as 175 Allied planes, a figure that should certainly have aroused some skepticism. Actual Allied losses amounted to one destroyer, one oiler, one corvette, two cargo ships and approximately 25 aircraft. These meager results were not commensurate with either the resources expended or the expectations that had been promoted.\\n\\nAllied strategy toward Rabaul.The umbrella term for the series of strategic actions taken by the Allies to reduce and capture the vast Japanese naval and air facilities at <a href=\\\"Rabaul\\\">Rabaul</a> was <a href=\\\"Operation%20Cartwheel\\\">Operation Cartwheel</a>. Two major moves were planned for the end of June:\\n<ul><li>- Turner's III 'Phib undertook <a href=\\\"Operation%20Toenails\\\">Operation Toenails</a>, the invasion of the <a href=\\\"New%20Georgia%20Islands\\\">New Georgia Islands</a> halfway up the <a href=\\\"Solomon%20Islands\\\">Solomons</a> chain (30 June \\u2013 7 October 1943).\\n</li><li>- Barbey's VII 'Phib carried out two almost simultaneous undertakings. <a href=\\\"Operation%20Chronicle\\\">Operation Chronicle</a>, the capture of the <a href=\\\"Trobriand%20Islands\\\">Trobriand Islands</a> between Papua and the <a href=\\\"Solomon%20Islands\\\">Solomons</a> (22 \\u2013 30 June 1943), and the landing of a combined American/Australian force at <a href=\\\"Landing%20at%20Nassau%20Bay\\\">Nassau Bay</a> on the Papuan coast just south of <a href=\\\"Huon%20Gulf\\\">Huon Gulf</a> (30 June \\u2013 6 July 1943).\\n</li></ul>\\nEventually, the <a href=\\\"Joint%20Chiefs%20of%20Staff\\\">Joint Chiefs of Staff</a> realized that a landing and siege of \\\"Fortress Rabaul\\\" would be far too costly, and that the Allies' ultimate strategic purposes could be achieved by simply neutralizing and bypassing it. At the <a href=\\\"Quebec%20Conference%2C%201943\\\">Quebec Conference</a> in August 1943, the leaders of the Allied nations agreed to this change in strategy.\\n\\n<ul><li>- <a href=\\\"Salamaua-Lae%20campaign\\\">Salamaua-Lae campaign</a> (22 April \\u2013 16 Sep 1943)\\n</li><li>- <a href=\\\"Landing%20at%20Nassau%20Bay\\\">Landing at Nassau Bay</a>\\n</li><li>- <a href=\\\"First%20Battle%20of%20Mubo\\\">First Battle of Mubo</a>\\n</li><li>- <a href=\\\"First%20Battle%20of%20Bobdubi\\\">First Battle of Bobdubi</a>\\n</li><li>- <a href=\\\"Battle%20of%20Lababia%20Ridge\\\">Battle of Lababia Ridge</a>\\n</li><li>- <a href=\\\"Second%20Battle%20of%20Bobdubi\\\">Second Battle of Bobdubi</a>\\n</li><li>- <a href=\\\"Second%20Battle%20of%20Mubo\\\">Second Battle of Mubo</a>\\n</li><li>- <a href=\\\"Battle%20of%20Roosevelt%20Ridge\\\">Battle of Roosevelt Ridge</a>\\n</li><li>- <a href=\\\"Battle%20of%20Mount%20Tambu\\\">Battle of Mount Tambu</a>\\n</li><li>- Operation Postern\\n</li><li>- <a href=\\\"Landing%20at%20Lae\\\">Landing at Lae</a>\\n</li><li>- <a href=\\\"Landing%20at%20Nadzab\\\">Landing at Nadzab</a>\\n</li><li>- <a href=\\\"Bombing%20of%20Wewak\\\">Bombing of Wewak</a> (17\\u201321 August 1943)\\n</li><li>- <a href=\\\"Finisterre%20Range%20campaign\\\">Finisterre Range campaign</a> (1943\\u20131944)\\n</li><li>- <a href=\\\"Battle%20of%20Kaiapit\\\">Battle of Kaiapit</a>\\n</li><li>- <a href=\\\"Battle%20of%20Dumpu\\\">Battle of Dumpu</a>\\n</li><li>- <a href=\\\"Battle%20of%20John%27s%20Knoll%E2%80%93Trevor%27s%20Ridge\\\">Battle of John's Knoll\\u2013Trevor's Ridge</a>\\n</li><li>- <a href=\\\"Battle%20of%20The%20Pimple\\\">Battle of The Pimple</a>\\n</li><li>- <a href=\\\"Battle%20of%20Shaggy%20Ridge\\\">Battle of Shaggy Ridge</a>\\n</li><li>- <a href=\\\"Battle%20of%20Madang\\\">Battle of Madang</a>\\n</li><li>- <a href=\\\"Huon%20Peninsula%20campaign\\\">Huon Peninsula campaign</a> (22 September 1943 \\u2013 1 March 1944)\\n</li><li>- <a href=\\\"Battle%20of%20Scarlet%20Beach\\\">Battle of Scarlet Beach</a>\\n</li><li>- <a href=\\\"Battle%20of%20Finschhafen\\\">Battle of Finschhafen</a>\\n</li><li>- <a href=\\\"Battle%20of%20Sattelberg\\\">Battle of Sattelberg</a>\\n</li><li>- <a href=\\\"Battle%20of%20Jivevaneng\\\">Battle of Jivevaneng</a>\\n</li><li>- <a href=\\\"Battle%20of%20Wareo\\\">Battle of Wareo</a>\\n</li><li>- <a href=\\\"Battle%20of%20Sio\\\">Battle of Sio</a>\\n</li><li>- <a href=\\\"Landing%20at%20Saidor\\\">Landing at Saidor</a>\\n</li><li>- <a href=\\\"Bombing%20of%20Rabaul%20%28November%201943%29\\\">Bombing of Rabaul (November 1943)</a>\\n</li><li>- <a href=\\\"Bougainville%20campaign\\\">Bougainville campaign</a> (1 November 1943 \\u2013 21 August 1945)\\n</li><li>- <a href=\\\"New%20Britain%20campaign\\\">New Britain campaign</a> (15 December 1943 \\u2013 21 August 1945)\\n</li></ul>\\n1944\\u20131945.<ul><li>- <a href=\\\"Admiralty%20Islands%20campaign\\\">Admiralty Islands campaign</a> (1944)\\n</li><li>- <a href=\\\"Western%20New%20Guinea%20campaign\\\">Western New Guinea campaign</a> (1944\\u20131945)\\n</li><li>- <a href=\\\"Operations%20Reckless%20and%20Persecution\\\">Operations Reckless and Persecution</a>\\n</li><li>- <a href=\\\"Landing%20at%20Aitape\\\">Landing at Aitape</a>\\n</li><li>- <a href=\\\"Landing%20at%20Hollandia\\\">Landing at Hollandia</a>\\n</li><li>- <a href=\\\"Battle%20of%20Wakde\\\">Battle of Wakde</a>\\n</li><li>- <a href=\\\"Battle%20of%20Lone%20Tree%20Hill%20%281944%29\\\">Battle of Lone Tree Hill (1944)</a>\\n</li><li>- <a href=\\\"Battle%20of%20Morotai\\\">Battle of Morotai</a>\\n</li><li>- <a href=\\\"Battle%20of%20Biak\\\">Battle of Biak</a>\\n</li><li>- <a href=\\\"Battle%20of%20Noemfoor\\\">Battle of Noemfoor</a>\\n</li><li>- <a href=\\\"Battle%20of%20Driniumor%20River\\\">Battle of Driniumor River</a>\\n</li><li>- <a href=\\\"Battle%20of%20Sansapor\\\">Battle of Sansapor</a>\\n</li><li>- <a href=\\\"Aitape%E2%80%93Wewak%20campaign\\\">Aitape\\u2013Wewak campaign</a>\\n</li></ul>\\n\\n\\nExternal links.<ul><li>- Translation of the official record by the Japanese Demobilization Bureaux detailing the Imperial Japanese Army and Navy's participation in the Southwest Pacific area of the <a href=\\\"Pacific%20War\\\">Pacific War</a>.\\n</li><li>- <a href=\\\"http%3A//www.wwiireels.com\\\">National Archive Video of Hollandia Bay, New Guinea Invasion</a>\\n</li></ul>\\n\\n</doc>\\n\",\n"
          ]
        }
      ]
    },
    {
      "cell_type": "markdown",
      "source": [
        "## Tratamento das perguntas e respostas"
      ],
      "metadata": {
        "id": "VcxyMWX9jy4j"
      }
    },
    {
      "cell_type": "code",
      "source": [
        "dev_set = json.load(open('iirc/dev.json','r'))\n",
        "len(dev_set)"
      ],
      "metadata": {
        "id": "WKoG3Yypd-ZH",
        "colab": {
          "base_uri": "https://localhost:8080/"
        },
        "outputId": "35a28c12-6213-4aab-d250-5c53270c513f"
      },
      "execution_count": 15,
      "outputs": [
        {
          "output_type": "execute_result",
          "data": {
            "text/plain": [
              "430"
            ]
          },
          "metadata": {},
          "execution_count": 15
        }
      ]
    },
    {
      "cell_type": "code",
      "source": [
        "qa_dev = []\n",
        "\n",
        "for item in dev_set:\n",
        "    qa = item['questions'][0]\n",
        "    question = qa['question']\n",
        "    answer = qa['answer']\n",
        "    answer_type = answer['type']\n",
        "    assert(answer_type in ('binary', 'value', 'span', 'none'))\n",
        "    if answer_type == 'binary' or answer_type == 'value':\n",
        "        qa_dev.append({'question': question, 'answer': answer['answer_value'].rstrip().rstrip(',')})\n",
        "    elif answer_type == 'span':\n",
        "        qa_dev.append({'question': question, 'answer': answer['answer_spans'][0]['text'].rstrip().rstrip(',')})\n",
        "\n",
        "len(qa_dev)"
      ],
      "metadata": {
        "id": "LmmGKcU8fs-T",
        "colab": {
          "base_uri": "https://localhost:8080/"
        },
        "outputId": "52c91a45-d79a-4b5a-eeab-430ad8f49638"
      },
      "execution_count": 16,
      "outputs": [
        {
          "output_type": "execute_result",
          "data": {
            "text/plain": [
              "312"
            ]
          },
          "metadata": {},
          "execution_count": 16
        }
      ]
    },
    {
      "cell_type": "code",
      "source": [
        "selected_qa = random.sample(qa_dev, K_qa)\n",
        "for item in selected_qa[:5]:\n",
        "    print('\\nQ:', item['question'])\n",
        "    print('A:', item['answer'])"
      ],
      "metadata": {
        "id": "iNuLgdncf2rG",
        "colab": {
          "base_uri": "https://localhost:8080/"
        },
        "outputId": "d720b0e8-ac5d-46c6-936f-0b61d4d68fd6"
      },
      "execution_count": 17,
      "outputs": [
        {
          "output_type": "stream",
          "name": "stdout",
          "text": [
            "\n",
            "Q: What were the combined ages of Sheikh Abdul Rahman Al Sudais and Mohammed Bin Rashid Al Maktoum the year that Bukhatir first performed at the \"Holy Qura'an\" competition?\n",
            "A: 95\n",
            "\n",
            "Q: When was Tower Bridge built?\n",
            "A: between 1886 and 1894\n",
            "\n",
            "Q: What state did the Senator serve who Wingfield became friends with?\n",
            "A: Nevada\n",
            "\n",
            "Q: Which European female monarch who wore high heels during the 16th century had a longer reign?\n",
            "A: Catherine de' Medici\n",
            "\n",
            "Q: Who are the members of the band whose recording with Krauss brought her to the country music Top Ten for the first time?\n",
            "A:  Marty Raybon\n"
          ]
        }
      ]
    },
    {
      "cell_type": "markdown",
      "source": [
        "## Tratamento dos artigos\n",
        "\n",
        "Limpeza de código HTML. \n",
        "\n",
        "Referência: https://github.com/jferguson144/IIRC-baseline/blob/main/util.py"
      ],
      "metadata": {
        "id": "BxnJPchXlkif"
      }
    },
    {
      "cell_type": "code",
      "source": [
        "context_articles = json.load(open(\"context_articles.json\",'r'))\n",
        "len(context_articles)"
      ],
      "metadata": {
        "id": "7OzHVO3bjCcC",
        "colab": {
          "base_uri": "https://localhost:8080/"
        },
        "outputId": "4c14447c-8529-4bc2-c213-ccf1fc464d09"
      },
      "execution_count": 18,
      "outputs": [
        {
          "output_type": "execute_result",
          "data": {
            "text/plain": [
              "56550"
            ]
          },
          "metadata": {},
          "execution_count": 18
        }
      ]
    },
    {
      "cell_type": "code",
      "source": [
        "def clean(html):\n",
        "  return re.sub(\"<[^>]*>\", \"\", html).strip()"
      ],
      "metadata": {
        "id": "95d-G64AmjbV"
      },
      "execution_count": 19,
      "outputs": []
    },
    {
      "cell_type": "code",
      "source": [
        "adjusted_articles = [{\"title\": title, \"content\": clean(context_articles[title])} for title in context_articles.keys()]\n",
        "len(adjusted_articles)"
      ],
      "metadata": {
        "id": "xTAPjaNIly_A",
        "colab": {
          "base_uri": "https://localhost:8080/"
        },
        "outputId": "ecf32601-a78f-49c4-83d2-91358d6d4e1a"
      },
      "execution_count": 20,
      "outputs": [
        {
          "output_type": "execute_result",
          "data": {
            "text/plain": [
              "56550"
            ]
          },
          "metadata": {},
          "execution_count": 20
        }
      ]
    },
    {
      "cell_type": "code",
      "source": [
        "for article in adjusted_articles[:10]:\n",
        "    print(article)"
      ],
      "metadata": {
        "id": "s2mwY1ErlrgZ",
        "colab": {
          "base_uri": "https://localhost:8080/"
        },
        "outputId": "6e85929c-5e9f-4754-fe86-0c996e9cf0ab"
      },
      "execution_count": 21,
      "outputs": [
        {
          "output_type": "stream",
          "name": "stdout",
          "text": [
            "{'title': 'san diego padres', 'content': 'The San Diego Padres are an American professional baseball team based in San Diego, California. They compete in Major League Baseball (MLB) as a member club of the National League (NL) West division. Founded in 1969, the Padres have won two NL pennants — in 1984 and 1998, losing in the World Series both years. As of 2018, they have had 14 winning seasons in franchise history. The Padres are one of two Major League Baseball teams (the other being the Los Angeles Angels) in California to originate from that state; the Athletics were originally from Philadelphia (and moved to the state from Kansas City), and the Dodgers and Giants are originally from two New York City boroughs – Brooklyn and Manhattan, respectively. The Padres are the only MLB team that does not share its city with another franchise in the four major American professional sports leagues. The Padres are the only major professional sports franchise to be located in San Diego, following the relocation of the Chargers to Los Angeles in 2017. They are also the only franchise in the MLB not to have a no-hitter, having gone 8020 games without throwing one, a major league record to begin a franchise.\\n\\nMinor league team.The Padres adopted their name from the Pacific Coast League team that arrived in San Diego in 1936. That minor league franchise won the PCL title in 1937, led by 18-year-old Ted Williams, the future Hall-of-Famer who was a native of San Diego. The team\\'s name, Spanish for \"fathers\", refers to the Spanish Franciscan friars who founded San Diego in 1769.\\n\\nMajor league team.In 1969, the Padres joined the ranks of Major League Baseball as one of four new expansion teams, along with the Montreal Expos (now the Washington Nationals), the Kansas City Royals, and the Seattle Pilots (now the Milwaukee Brewers). Their original owner was C. Arnholt Smith, a prominent San Diego businessman and former owner of the PCL Padres whose interests included banking, tuna fishing, hotels, real estate and an airline. Despite initial excitement, the guidance of longtime baseball executives, Eddie Leishman and Buzzie Bavasi as well as a new playing field, the team struggled; the Padres finished in last place in each of its first six seasons in the NL West, losing 100 games or more four times. One of the few bright spots on the team during the early years was first baseman and slugger Nate Colbert, an expansion draftee from the Houston Astros and still the Padres\\' career leader in home runs.\\n\\nThe team\\'s fortunes gradually improved as they won five National League West titles and reached the World Series twice, in 1984 and in 1998, but lost both times. The Padres\\' main draw during the 1980s and 1990s was Tony Gwynn, who won eight league batting titles. They moved into their current stadium, Petco Park, in 2004.\\n\\nAs of 2019, the Padres are the only team in MLB yet to throw a no-hitter. On September 5, 1997, Andy Ashby took a no-hitter into the 9th inning, which is as close as the team has come to achieving this feat.\\n\\nSpring training.The team has played its spring training games at the Peoria Sports Complex in Peoria, Arizona since 1994. They share the stadium with the Seattle Mariners.\\n\\nFrom 1969 to 1993, the Padres held spring training in Yuma, Arizona at Desert Sun Stadium. Due to the short driving distance and direct highway route (170 miles, all on Interstate 8), Yuma was very popular with Padres fans, and many fans would travel by car from San Diego for spring training games. The move from Yuma to Peoria was very controversial, but was defended by the team as a reflection on the low quality of facilities in Yuma and the long travel necessary to play against other Arizona-based spring training teams (whose sites were all in the Phoenix and Tucson areas, both rather far from Yuma).\\n\\nLogos and colors.Throughout the team\\'s history, the San Diego Padres have used multiple logos, uniform, and color combinations. Their first logo depicted a friar swinging a bat with Padres written at the top while standing in a sun-like figure with San Diego Padres on the exterior of it. The \"Swinging Friar\" has popped up on the uniform on and off ever since. Although the \"Swinging Friar\" is no longer used as the primary logo, it remains as the mascot of the team and is now utilized as an alternate logo and on the uniform sleeve.\\n\\nIn 1985, the Padres switched to using a script-like logo in which Padres was written sloped up. That would later become a script logo for the Padres. The team\\'s colors were changed to brown and orange and remained this way through the 1990 season.\\n\\nIn 1989, the Padres took the scripted Padres logo that was used from 1985 to 1988 and put it in a gray ring that read \"San Diego Baseball Club\" with a striped center. In 1991, the color of the ring was changed to silver, and the Padres script was changed from brown to blue. The logo only lasted one year, as the Padres changed their logo for the third time in three years, again by switching colors of the ring. The logo became a white ring with fewer stripes in the center and a darker blue Padres script with orange shadows. In 1991, the team\\'s colors were also changed, to a combination of orange and navy blue.\\n\\nFor the 2002 season, the Padres removed the stripes off the home jersey and went with a white home jersey with a cleaner look. The pinstripe jerseys were worn as alternate jerseys on certain occasions throughout the 2002 season. The Padres kept this design for two seasons until their 2004 season, in which they moved into their new ballpark.\\n\\nThe logo was completely changed when the team changed stadiums between the 2003 and 2004 seasons, with the new logo looking similar to home plate with San Diego written in sand font at the top right corner and the Padres new script written completely across the center. Waves finished the bottom of the plate. Navy remained but a sandy beige replaced orange as a secondary color. The team\\'s colors were also changed, to navy blue and sand brown. For the next seven seasons the Padres were the only team in Major League Baseball that did not have a gray jersey, with the team typically playing in either blue or sand jerseys on the road and white or blue jerseys at home. In 2009, the San Diego was removed from the top right corner of the logo and two years later, the away uniform changed from sand to gray.\\n\\nFor the 2012 season, the Padres unveiled a new primary logo, featuring the cap logo inside a navy blue circle with the words \"San Diego Padres Baseball Club\" adorning the outer circle. The \"swinging friar\" logo was recolored to the current colors of navy blue and white. Another secondary logo features the Padres script carried over from the previous year\\'s primary logo below the depiction of Petco Park in sand and above the year of the team\\'s first season (EST. 1969). Until 2015, the blue and sand version was used on the home uniform, while the blue and white version was used on the away and alternate uniforms.\\n\\nIn the 2016 season, the Padres wore a navy blue and yellow color scheme, similar to the one used on the 2016 Major League Baseball All-Star Game logo. To coincide with the change, the Padres added a new brown and yellow alternate uniform to be worn mostly during Friday home games.\\n\\nFor the 2017 season, the Padres revealed a new color scheme and new jerseys for the second straight year. The yellow was scrapped from the home uniform and the team reverted to a navy blue-and-white combo. The word Padres returned to the front of the home uniform, but with a new script, while the script on the road uniform reverted to the San Diego wordmark style it used from 2004–11. Despite this major change, the brown and yellow alternate uniform from the previous set was retained.\\n\\nThe club announced on January 25, 2019 that the original brown and gold colors would return for the 2020 Major League Baseball season. The new uniform designs featuring the brown and gold colors were officially unveiled on November 9. The team featured brown and gold on each of the three unveiled jerseys, including the return of pinstripes to the Padre home jersey for the first time since 2001 and a non-gray road jersey for the first time since 2010.\\n\\nMilitary appreciation.Starting in 1996, the Padres became the first national sports team to have an annual military appreciation event. Following in 2000, the Padres began wearing a camouflage to honor the military. The jersey will now have had seven different versions since. Starting in 2008, the Padres began wearing camouflage jerseys for every Sunday home game. They also wear these uniforms on Memorial Day, Independence Day, and Labor Day. For 2011, the Padres changed the camouflage design to a more modern \"digital\" design, using the MARPAT design after receiving permission from then-Commandant Conway, and dropped the green from the lettering and logo of the jersey. Green was replaced by a sand-olive color (also in the cap worn with the jersey). For 2016, to coincide with hosting the 2016 Major League Baseball All-Star Game, the Padres changed the camouflage jersey once again; this time to navy blue, however, this design was only worn for one season as for 2017, the Padres switched the camouflage jersey to Marine, which was used through 2019. For 2020, the Padres will begin using two different camouflage jersey colors: green and sand-olive, both with the current Padres wordmark. Since 1995 Marine Recruits from the nearby Marine Corps Recruit Depot often visit the games en masse during Military Appreciation Day, in uniform, often filling entire sections in the upper deck of Petco Park. When they are present, the team commemorates this with a special Fourth Inning Stretch featuring the Marine Hymn. Through April 2005 over 60,000 marine recruits were hosted by the Padres. This is part of an extensive military outreach program, which also includes a series of Military Appreciation Night games, and game tapes mailed to deployed United States Navy ships of the Pacific Fleet for onboard viewing (a large portion of the Pacific Fleet is homeported in San Diego).\\n\\nThe San Diego area is home to a number of military installations, including several Navy and Coast Guard bases centered on San Diego Bay, Marine Corps Air Station Miramar (former home of the \"Top Gun\" training program), and the Marine Corps training ground at Camp Pendleton. Civilians employed at those bases account for around 5% of the county\\'s working population.\\n\\nMascot.The \"Swinging Friar\" is currently the mascot of the team. Some in the past have confused The Famous Chicken as the mascot of the Padres. Although he does make appearances occasionally at San Diego sporting events, he has never been the official mascot of any San Diego sports team.\\n\\nBaseball Hall of Famers.The following elected members of the Baseball Hall of Fame played and/or managed for the Padres.\\nRetired numbers.The Padres have retired six numbers. Five were in honor of Padre players and one was Jackie Robinson\\'s number 42, which was retired by all of Major League Baseball. The retired numbers are displayed on the upper deck facade behind home plate.\\nThe Padres also have a \"star on the wall\" in honor of broadcaster Jerry Coleman, in reference to his trademark phrase \"Oh Doctor! You can hang a star on that baby!\" Nearby the initials of the late owner Ray Kroc are also displayed. Both the star and the initials are painted in gold on the front of the pressbox down the right field line accompanied by the name of the person in white. Kroc was honored in 1984, Coleman in 2001.\\n\\nTeam Hall of Fame.The following 14 people have been inducted into the San Diego Padres Hall of Fame since it was founded in 1999.\\n\\nSan Diego Hall of Champions.Gwynn, Winfield, Fingers, Gossage, Randy Jones, and Graig Nettles (3B, 1984–1987) are members of the San Diego Hall of Champions, which is open to athletes native to the San Diego area (such as Nettles) as well as to those who played for San Diego teams (such as Gwynn).\\n\\nRadio and television.Padres\\' games are currently televised by Fox Sports San Diego. Don Orsillo is the play-by-play announcer, with Mark Grant as color analyst and either Julie Alexandria, Ron Zinter, or Bob Scanlan as field reporter. Mike Pomeranz hosts the Padres Live pre- and post-game show along with Mark Sweeney.\\n\\nAs of the 2018 season, Padres radio broadcasts in English are carried by KWFN 97.3 The Fan, after having previously been carried by sister station 94.9 KBZT upon the acquisition of the radio rights by Entercom in 2017. Ted Leitner is the primary play-by-play announcer, with Jesse Agler working the middle innings of each game and Bob Scanlan serving as color analyst. The games are also broadcast in Spanish on XEMO-AM,La Poderosa 860 AM, with Eduardo Ortega, Carlos Hernández and Pedro Gutiérrez announcing. Padre games were also aired from 2006–2010 on XHPRS-FM 105.7.\\n\\nSpanish language telecasts of Sunday games are seen XHAS-TDT channel 33. Until September 2007, Friday and Saturday games were seen in Spanish on KBOP-CA channel 43, until that station changed to an all-infomercial format. This makes XHAS-TDT the only over-the-air-television station carrying Padres baseball. English-language Padres over-the-air broadcasts aired through the years on XETV-TV 6, KCST-TV 39, KUSI-TV 51, KFMB-TV 8 and KSWB-TV 69.\\n\\nJohn Demott was the Padres\\' first public address announcer when the team began in 1969. By the late 1970s Bruce Binkowski had taken over as PA announcer, and became the longest-serving public address announcer in the team\\'s history, remaining until the end of the 1999 season. First DeMott and then Binkowski also were responsible with PA announcing duties for the San Diego Chargers and the San Diego State University Aztecs, both of which were joint tenants at Qualcomm Stadium with the Padres until the Padres moved into Petco Park. From Petco Park\\'s opening in 2004 until 2013, the PA announcer was Frank Anthony, a radio host with 105.7 XHPRS-FM. On April 19, 2014, Alex Miniak was announced as the new Public Address announcer for the San Diego Padres. Miniak was formerly the PA announcer for the New Hampshire Fisher Cats, the Double-A affiliate of the Toronto Blue Jays.\\n\\nThe San Diego Padres were first portrayed in the 1979 NBC made-for-TV film \"The Kid from Left Field,\" starring Gary Coleman as Jackie Robinson \"J.R.\" Cooper, a youngster who is passionate about baseball, and puts his knowledge to good use when he becomes the manager of the Padres and helps them lead to the World Series.\\n\\nIn 2016, the San Diego Padres were portrayed once again in the one-season Fox television series Pitch, starring Kylie Bunbury as Ginny Baker, the first female to play in Major League Baseball.\\n\\nEducational involvement.The San Diego Padres established The Padres Scholars program, the first of its kind among professional sports. Originally each Padres scholar was selected as a seventh grader and received a $5,000 scholarship after graduation from high school to go towards higher education. This program has reached 389 students from its establishment in 1995 to now. Over the past few years the program has undergone a few changes to be effective an education standpoint. This program focuses on creating a close relationship between the chosen scholars and the team. As of 2011, 3 high school seniors will be chosen to receive a $30,000 scholarship to be awarded through the course of their higher education. Maintaining this prestigious award is conditional on maintaining contact with the Padres and providing proof of good academic standing.\\n\\nThe San Diego Padres are the sponsors of and heavily involved in most aspects of the Sports Business Management MBA degree program offered in conjunction with San Diego State University\\'s College of Business Administration. SDSU\\'s Sports MBA is the only program of its kind created in partnership with a professional sports franchise. The curriculum focuses on the entire sports business industry, not just baseball. The program includes an internship. Members of Padres senior management regularly participate, including work with the development and continued coordination of SDSU\\'s International Case Competition, which annually attracts participation from top business schools.\\n\\nSee also.-  – Jerry Coleman\\'s 2008 autobiography\\n\\n\\nExternal links.- San Diego Padres Logos'}\n",
            "{'title': 'john bruce (historiographer)', 'content': \"John Bruce of Grangehill and Falkland FRS FRSE (1744–1826) was a Scottish academic, politician and historiographer to the East India Company.\\n\\nLife.He was born in Fife in 1744 or 1745 the son of Andrew Bruce (1710-1761) and Jean Squyre (1724-1794).\\n\\nWhile he had himself declared heir male of the family of Bruce of Earlshall, Bruce inherited from his father Andrew Bruce, a shipmaster, only the property of Grangehill, near Kinghorn, Fifeshire. He studied at the University of Edinburgh, where he was then appointed assistant professor of logic to John Stevenson, and professor of moral philosophy.\\n\\nTutor to Robert Saunders Dundas, the son of Henry Dundas, 1st Viscount Melville, Bruce was rewarded by a share, with Sir James Hunter Blair, 1st Baronet of the reversion of the patent of king's printer and stationer for Scotland; and was appointed keeper of the state paper office, secretary for the Latin language to the Privy Council, and official historiographer to the East India Company from 1801.\\n\\nHe was Member of Parliament for Mitchell, Cornwall, from February 1809 till July 1814, and for a short time Secretary to the Board of Control, under Robert Dundas.\\n\\nBruce was an elected a fellow of the Royal Society of London in 1791. In 1783 he was a founding member of the Royal Society of Edinburgh. He was also a fellow of the Royal Society of Göttingen. In 1764 he founded the Speculative Society.\\n\\nHe died at his home of Nuthill House in Fife, on 16 April 1826.\\n\\nFamily.His niece Margaret Bruce (1788-1869) married Onesiphorus Tyndall, thereafter titled Tyndall-Bruce (1790-1855). He rose to be Deputy Lieutenant of Fife.\\n\\nWorks.Bruce's works included some privately printed for confidential us the government:\\n\\n- First Principles of Philosophy, Edinburgh, 1780, 1781, 1785.\\n- Elements of the Science of Ethics, or the Principles of Natural Philosophy, London, 1786.\\n- Historical View of Plans for the Government of British India, 1793.\\n- Review of the Events and Treaties which established the Balance of Power in Europe, and the Balance of Trade in favour of Great Britain, London, 1796.\\n- Report on the Arrangements which were made for the internal Defence of these Kingdoms when Spain by its Armada projected the Invasion and Conquest of England, London, 1798; privately printed for the use of ministers at the time of a threatened French invasion. William Pitt based his measures of the provisional cavalry and army of reserve on this report.\\n- Report on the Events and Circumstances which produced the Union of the Kingdoms of England and Scotland; on the effects of this great National Event on the reciprocal interests of both Kingdoms; and on the political and commercial influence of Great Britain in the Balance of Power in Europe, 2 vols., London [1799]. These papers were collected for the Duke of Portland, then secretary of state, when the union between Great Britain and Ireland came under consideration.\\n- Report on the Arrangements which have been adopted in former periods, when France threatened Invasions of Britain or Ireland, to frustrate the designs of the enemy by attacks on his foreign possessions or European ports, by annoying his coasts, and by destroying his equipments, London [1801], privately printed for the government.\\n- Annals of the East India Company from their establishment by the Charter of Queen Elizabeth, 1600, to the union of the London and English East India Company, 1707–8, 3 vols., London, 1810.\\n- Report on the Renewal of the Company's Exclusive Privileges of Trade for twenty years from March 1794, London, 1811.\\n- Speech in the Committee of the House of Commons on India Affairs, London, 1813.\\nNotes.Attribution\"}\n",
            "{'title': 'jack nicholson', 'content': 'John Joseph Nicholson (born April 22, 1937) is an American actor and filmmaker. He is known for playing a wide range of starring or supporting roles, including comedy, romance, and darkly comic portrayals of anti-heroes and villainous characters. In many of his films, he played the \"eternal outsider, the sardonic drifter\", someone who rebels against the social structure.\\n\\nHis most known and celebrated films include the road drama Easy Rider (1969); the dramas Five Easy Pieces (1970) and One Flew Over the Cuckoo\\'s Nest (1975); the comedy-dramas Carnal Knowledge (1971), The Last Detail (1973), Terms of Endearment (1983), Prizzi\\'s Honor (1985), As Good as It Gets (1997), About Schmidt (2002), and The Bucket List (2007); the neo-noir mystery Chinatown (1974); the horror film The Shining (1980); the biopic Reds (1981); the fantasy comedy The Witches of Eastwick (1987); the superhero film Batman (1989); the legal drama A Few Good Men (1992); the romantic horror film Wolf (1994); the science fiction comedy Mars Attacks! (1996); the comedy Anger Management (2003); the romantic comedy Something\\'s Gotta Give (2003); and the crime drama The Departed (2006). He has also directed three films, including The Two Jakes (1990), the sequel to Chinatown.\\n\\nNicholson\\'s twelve Academy Award nominations make him the most nominated male actor in the Academy\\'s history. Nicholson has won the Academy Award for Best Actor twice – one for the drama One Flew Over the Cuckoo\\'s Nest (1975), and the other for the romantic comedy As Good as It Gets (1997). He also won the Academy Award for Best Supporting Actor for the comedy-drama Terms of Endearment (1983). Nicholson is one of three male actors to win three Academy Awards. Nicholson is one of only two actors to be nominated for an Academy Award for acting in every decade from the 1960s to the 2000s; the other is Michael Caine. He has won six Golden Globe Awards and received the Kennedy Center Honor in 2001. In 1994, at 57, he became one of the youngest actors to be awarded the American Film Institute\\'s Life Achievement Award.\\n\\nHe had a number of very high-profile relationships, most notably with Anjelica Huston and with Rebecca Broussard, and was married to Sandra Knight from 1962 until their divorce in 1968. Nicholson has five children – one with Knight, two with Broussard (including Lorraine Nicholson), and one each with Susan Anspach and Winnie Hollman.\\n\\nEarly life.Nicholson was born on April 22, 1937, in Neptune City, New Jersey, the son of a showgirl, June Frances Nicholson (stage name June Nilson; 1918–1963). Nicholson\\'s mother was of Irish, English, German, and Welsh descent. She married Italian-American showman Donald Furcillo (stage name Donald Rose; 1910–1997) in 1936, before realizing that he was already married. Biographer Patrick McGilligan stated in his book Jack\\'s Life that Latvian-born Eddie King (originally Edgar A. Kirschfeld), June\\'s manager, may have been Nicholson\\'s biological father, rather than Furcillo. Other sources suggest June Nicholson was unsure of the father\\'s identity. As June was only seventeen years old and unmarried, her parents agreed to raise Nicholson as their own child without revealing his true parentage, and June would act as his sister.\\n\\nIn 1974, Time magazine researchers learned, and informed Nicholson, that his \"sister\", June, was actually his mother, and his other \"sister\", Lorraine, was really his aunt. By this time, both his mother and grandmother had died (in 1963 and 1970, respectively). On finding out, Nicholson said it was \"a pretty dramatic event, but it wasn\\'t what I\\'d call traumatizing ... I was pretty well psychologically formed\".\\n\\nNicholson grew up in Neptune City. He was raised in his mother\\'s Roman Catholic religion. Before starting high school, his family moved to an apartment in Spring Lake, New Jersey. \"When Jack was ready for high school, the family moved once more—this time two miles (three kilometers) farther south to old-money Spring Lake, New Jersey\\'s so-called Irish Riviera, where Ethel May set up her beauty parlor in a rambling duplex at 505 Mercer Avenue.\" \"Nick\", as he was known to his high school friends, attended nearby Manasquan High School, where he was voted \"Class Clown\" by the Class of 1954. He was in detention every day for a whole school year. A theatre and a drama award at the school are named in his honor. In 2004, Nicholson attended his 50-year high school reunion accompanied by his aunt Lorraine.\\n\\nMilitary service.In 1957, Nicholson joined the California Air National Guard, a move he sometimes characterized as an effort to \"dodge the draft\"; the Korean War-era\\'s Military Selective Service Act was still in force, and draftees were required to perform up to two years of active duty. After completing the Air Force\\'s basic training at Lackland Air Force Base, Nicholson performed weekend drills and two-week annual training as a firefighter assigned to the unit based at the Van Nuys Airport. During the Berlin Crisis of 1961, Nicholson was called up for several months of extended active duty, and he was discharged at the end of his enlistment in 1962.\\n\\nEarly work.Nicholson first came to Hollywood in 1954, when he was seventeen, to visit his sister. He took a job as an office worker for animators William Hanna and Joseph Barbera at the MGM cartoon studio. They offered him an entry-level job as an animator, but he declined, citing his desire to become an actor.\\n\\nHe trained to be an actor with a group called the Players Ring Theater, after which time he found small parts performing on the stage and in TV soap operas. He made his film debut in a low-budget teen drama The Cry Baby Killer (1958), playing the title role. For the following decade, Nicholson was a frequent collaborator with the film\\'s producer, Roger Corman. Corman directed Nicholson on several occasions, most notably in The Little Shop of Horrors, as masochistic dental patient and undertaker Wilbur Force, and also in The Raven, The Terror where he plays a French officer seduced by an evil ghost, and The St. Valentine\\'s Day Massacre.\\n\\nNicholson also frequently worked with director Monte Hellman on low-budget westerns, though two in particular, Ride in the Whirlwind and The Shooting, initially failed to find interest from any US film distributors but gained cult success on the art-house circuit in France and were later sold to television. Nicholson also appeared in two episodes of The Andy Griffith Show.\\n\\n1960s.With his acting career heading nowhere, Nicholson seemed resigned to a career behind the camera as a writer/director. His first real taste of writing success was the screenplay for the 1967 counterculture film The Trip (directed by Corman), which starred Peter Fonda and Dennis Hopper. After first reading the script, Fonda told Nicholson he was totally impressed by the writing and felt it could become a great film. However, he was disappointed with how the film turned out and blamed the editing which turned it into a \"predictable\" film and said so publicly. \"I was livid\", he recalls. Nicholson also co-wrote, with Bob Rafelson, the movie Head, which starred The Monkees. He also arranged the movie\\'s soundtrack.\\n\\nAfter a spot opened up in Fonda and Hopper\\'s Easy Rider (1969), it led to his first big acting break. Nicholson played alcoholic lawyer George Hanson, for which he received his first Oscar nomination. The film cost only $400,000 to make, and became a blockbuster, grossing $40\\xa0million. Biographer John Parker states that Nicholson\\'s interpretation of his role placed him in the company of earlier \"anti-hero\" actors, such as James Cagney and Humphrey Bogart, while promoting him into an \"overnight number-one hero of the counter-culture movement\".\\n\\nThe part was a lucky break for Nicholson. The role had been written for the actor Rip Torn, who withdrew from the project after an argument with Hopper. In interviews, Nicholson later acknowledged the importance of being cast in Easy Rider: \"All I could see in the early films, before Easy Rider, was this desperate young actor trying to vault out of the screen and create a movie career.\"\\n\\nNicholson was cast by Stanley Kubrick, who was impressed with his role in Easy Rider, in the part of Napoleon in a film about his life, and although production on the film commenced, the project fizzled out, partly due to a change in ownership at MGM, and other issues.\\n\\n1970s.Nicholson starred in Five Easy Pieces alongside Karen Black in 1970 in what became his persona-defining role. Nicholson and Black were nominated for Academy Awards for their performances. Nicholson played Bobby Dupea, an oil rig worker, and Black was his waitress girlfriend. During an interview about the film, Black noted that Nicholson\\'s character in the film was very subdued, and was very different from Nicholson\\'s real-life personality. She says that the now-famous restaurant scene was partly improvised by Nicholson, and was out of character for Bobby, who wouldn\\'t have cared enough to argue with a waitress. \"I think that Jack really has very little in common with Bobby. I think Bobby has given up looking for love. But Jack hasn\\'t, he\\'s very interested in love, in finding out things. Jack is a very curious, alive human being. Always ready for a new idea.\" Nicholson himself said as much, telling an interviewer, \"I like listening to everybody. This to me is the elixir of life.\"\\n\\nBlack later admitted that she had a crush on Nicholson from the time they met, although they only dated briefly. \"He was very beautiful. He just looked right at you\\xa0... I liked him a lot\\xa0... He really sort of wanted to date me but I didn\\'t think of him that way because I was going with Peter Kastner\\xa0... Then I went to do Easy Rider, but didn\\'t see him because we didn\\'t have any scenes together\\xa0... At the premiere, I saw him out in the lobby afterward and I started crying\\xa0... He didn\\'t understand that, but what it was that I really loved him a lot, and I didn\\'t know it until I saw him again, because it all welled up.\"\\n\\nWithin a month after the film\\'s release that September, the movie became a blockbuster, making Nicholson a leading man and the \"new American anti-hero\", according to McDougal. Critics began speculating as to whether he might become another Marlon Brando or James Dean. His career and income skyrocketed. He said, \"I have much sought after. Your name becomes a brand image like a product. You become Campbell\\'s soup, with thirty-one different varieties of roles you can play.\" He told his new agent, Sandy Bresler, to find him unusual roles so he could stretch his acting skill: \"I like to play people that haven\\'t existed yet, a \\'cusp character\\'\", he said:\\n\\nAlso in 1970, he appeared in the movie adaptation of On a Clear Day You Can See Forever, although most of his performance was left on the cutting room floor. His agent turned down a starring role in Deliverance when the film\\'s producer and director, John Boorman, refused to pay what Nicholson\\'s agent wanted.\\n\\nNicholson starred in Carnal Knowledge in 1971, a comedy-drama directed by Mike Nichols, which co-starred Art Garfunkel, Ann-Margret, and Candice Bergen. He was nominated for a Golden Globe Award for Best Actor. As a director, Mike Nichols was limited in the actors who he felt could handle the role, saying, \"There is James Cagney, Spencer Tracy, Humphrey Bogart, and Henry Fonda. After that, who is there but Jack Nicholson?\" During the filming, Nicholson struck up what became a lifelong friendship with co-star Garfunkel. When he visited Los Angeles, Garfunkel would stay at Nicholson\\'s home in a room Nicholson jokingly called \"the Arthur Garfunkel Suite\".\\n\\nOther Nicholson roles included Hal Ashby\\'s The Last Detail (1973), with Randy Quaid, for which Nicholson won for Best Actor at the Cannes Film Festival, and he was nominated for his third Oscar and a Golden Globe. Television journalist David Gilmour writes that one of his favorite Nicholson scenes from all his films was in this one when Nicholson slaps his gun on the bar yelling he was the Shore Patrol. Critic Roger Ebert called it a very good movie, but credited Nicholson\\'s acting as the main reason: \"He creates a character so complete and so complex that we stop thinking about the movie and just watch to see what he\\'ll do next.\"\\n\\nIn 1974, Nicholson starred in Roman Polanski\\'s noir thriller Chinatown, and was again nominated for Academy Award for Best Actor for his role as Jake Gittes, a private detective. The film co-starred Faye Dunaway and John Huston, and included a cameo role with Polanski. Roger Ebert described Nicholson\\'s portrayal as sharp-edged, menacing, and aggressive, a character who knew \"how to go over the top\", as he did in One Flew Over the Cuckoo\\'s Nest. It is that edge that kept Chinatown from becoming a typical genre crime film. Ebert also notes the importance of the role for Nicholson\\'s career, seeing it as a major transition from the exploitation films of the previous decade. \"As Jake Gittes, he stepped into Bogart\\'s shoes\", says Ebert. \"As a man attractive to audiences because he suggests both comfort and danger\\xa0... From Gittes forward, Nicholson created the persona of a man who had seen it all and was still capable of being wickedly amused.\"\\n\\nNicholson had been friends with the director Roman Polanski long before the murder of Polanski\\'s wife, Sharon Tate, at the hands of the Manson Family, and supported him in the days following the deaths. After Tate\\'s death, Nicholson began sleeping with a hammer under his pillow and took breaks from work to attend the Manson trial.\\n\\nIn 1977, three years after Chinatown, Polanski was arrested at Nicholson\\'s home for the sexual assault of 13-year-old Samantha Geimer, who was modeling for Polanski during a magazine photo shoot around the pool. At the time of the incident, Nicholson was out of town making a film, but his steady girlfriend, actress Anjelica Huston, had dropped by unannounced to pick up some items. She heard Polanski in the other room say, \"We\\'ll be right out.\" Polanski then came out with Geimer, and he introduced her to Huston, and they chatted about Nicholson\\'s two large dogs, which were sitting nearby. Huston recalled Geimer was wearing platform heels and appeared quite tall. After a few minutes of talking, Polanski had packed up his camera gear, and Huston saw them drive off in his car. Huston told police the next day, after Polanski was arrested, that she \"had witnessed nothing untoward\" and never saw them together in the other room.\\n\\nGeimer learned afterward that Huston herself wasn\\'t supposed to be at Nicholson\\'s house that day, since they had recently broken up, but stopped over to pick up some belongings. Geimer described Nicholson\\'s house as \"definitely\" a guy\\'s house, with lots of wood and shelves crowded with photos and mementos.\\n\\nOne of Nicholson\\'s greatest successes came in 1975, with his role as Randle P. McMurphy in One Flew Over the Cuckoo\\'s Nest. The movie was an adaptation of Ken Kesey\\'s novel, and was directed by Miloš Forman and co-produced by Michael Douglas. Nicholson plays an anti-authoritarian patient at a mental hospital where he becomes an inspiring leader for the other patients. Playing one of the patients was Danny DeVito in an early role. Nicholson learned afterward that DeVito grew up in the same area of New Jersey, and they knew many of the same people. The film swept the Academy Awards with nine nominations, and won the top five, including Nicholson\\'s first for Best Actor.\\n\\nThe role seemed perfect for Nicholson, with biographer Ken Burke noting that his \"smartass demeanor balances his genuine concern for the treatment of his fellow patients with his independent spirit too free to exist in a repressive social structure\". Forman allowed Nicholson to improvise throughout the film, including most of the group therapy sequences. Reviewer Marie Brenner notes that his bravura performance \"transcends the screen\" and continually inspires the other actors by lightening their mental illnesses with his comic dialogue. She describes his performance:\\n\\nAlso in 1975, Nicholson starred in Michelangelo Antonioni\\'s The Passenger (1975), which co-starred Maria Schneider. Nicholson plays the role of a journalist, David Locke, who during an assignment in North Africa decides to quit being a journalist and simply disappear by taking on a new hidden identity. Unfortunately, the dead person whose identity he takes on turns out to have been a weapons smuggler on the run. Antonioni\\'s unusual plot included convincing dialogue and fine acting, states film critic Seymour Chatman. It was shot in Algeria, Spain, Germany, and England.\\n\\nThe film received good reviews and revived Antonioni\\'s reputation as one of cinema\\'s great directors. He says he wanted the film to have more of a \"spy feeling [and] be more political\". Nicholson began shooting the film from an unfinished script, notes Judith Crist, yet upon its completion he thought so highly of the film that he bought the world rights and recorded a reminiscence of working with Antonioni. Critic and screenwriter Penelope Gilliatt provides an overview of Nicholson\\'s role:\\n\\nHe continued to take more unusual roles. He took a small role in The Last Tycoon, opposite Robert De Niro. He took a less sympathetic role in Arthur Penn\\'s western The Missouri Breaks (1976), specifically to work with Marlon Brando. Nicholson was especially inspired by Brando\\'s acting ability, recalling that in his youth, as an assistant manager at a theater, he watched On the Waterfront about forty times. \"I\\'m part of the first generation that idolized Marlon Brando\", he said.\\n\\nNicholson has observed that while both De Niro and Brando were noted for their skill as method actors, he himself has seldom been described as a method actor, a fact which he sees as an accomplishment: \"I\\'m still fooling them\", he told Sean Penn during a phone conversation. \"I consider it an accomplishment because there\\'s probably no one who understands Method acting better academically than I do—or actually uses it more in his work. But it\\'s funny, nobody really sees that. It\\'s perception versus reality, I guess.\"\\n\\n1980s.Although he garnered no Academy Award for Stanley Kubrick\\'s adaptation of Stephen King\\'s The Shining (1980), it remains one of his more significant roles. He was Kubrick\\'s first choice to play the lead role, although the book\\'s author, Stephen King, wanted the part played by more of an \"everyman\". However, Kubrick as a director won the argument, and described Nicholson\\'s acting quality as being \"on a par with the greatest stars of the past, like Spencer Tracy and Jimmy Cagney\".\\n\\nOn the set, Nicholson always appeared in character, and if Kubrick felt confident that he knew his lines well enough, he encouraged him to improvise and go beyond the script. For example, Nicholson improvised his now famous \"Here\\'s Johnny!\" line, along with a scene in which he unleashes his anger upon his wife while she interrupts his writing. There were also extensive takes of scenes, due to Kubrick\\'s perfectionism. Nicholson shot a scene with the ghostly bartender thirty-six times. Nicholson states that \"Stanley\\'s demanding. He\\'ll do a scene fifty times, and you have to be good to do that.\"\\n\\nIn 1982, he starred as an immigration enforcement agent in The Border, directed by Tony Richardson. It co-starred Warren Oates, who played a corrupt border official. Richardson wanted Nicholson to play his role less expressively than he had in his earlier roles. \"Less is more\", he told him, and wanted him to wear reflecting sunglasses to portray what patrolmen wore. Richardson recalled that Nicholson worked hard on the set:\\nNicholson won his second Oscar, an Academy Award for Best Supporting Actor, for his role of retired astronaut Garrett Breedlove in Terms of Endearment (1983), directed by James L. Brooks. It starred Shirley MacLaine and Debra Winger. McGilligan claims it was one of Nicholson\\'s most complex and unforgettable characters. He and MacLaine played many of their scenes in different ways, constantly testing and making adjustments. Their scenes together gave the film its \"buoyant edge\", states McGilligan, and describes Nicholson\\'s acting as \"Jack floating like a butterfly\".\\n\\nNicholson continued to work prolifically in the 1980s, starring in such films as The Postman Always Rings Twice (1981), Reds (1981), where Nicholson portrays the writer Eugene O\\'Neill with a quiet intensity, Prizzi\\'s Honor (1985), Heartburn (1986), The Witches of Eastwick (1987), Broadcast News (1987), and Ironweed (1987). Three Oscar nominations also followed (Reds, Prizzi\\'s Honor, and Ironweed). John Huston, who directed Prizzi\\'s Honor, said of Nicholson\\'s acting, \"He just illuminates the book. He impressed me in one scene after another; the movie is composed largely of first takes with him.\"\\n\\nIn the 1989 Batman movie, Nicholson played the psychotic murderer and villain, the Joker. The film was an international smash hit, and a lucrative percentage deal earned him a percentage of the box office gross estimated at $60\\xa0million to $90\\xa0million. Nicholson said that he was \"particularly proud\" of his performance as the Joker: \"I considered it a piece of pop art\", he said.\\n\\n1990s.For his role as hot-headed Col. Nathan R. Jessup in A Few Good Men (1992), a movie about a murder in a U.S. Marine Corps unit, Nicholson received yet another Academy Award nomination for Best Supporting Actor. One review describes his performance as \"spellbinding\", adding that he portrayed \"the essence of the quintessential military mindset\". Critic David Thomson notes that Nicholson\\'s character \"blazed and roared\".\\n\\nThe film\\'s director, Rob Reiner, recalls how Nicholson\\'s level of acting experience affected the other actors during rehearsals: \"I had the luck of having Jack Nicholson there. He knows what he\\'s doing, and he comes to play, every time out, full-out performance! And what it says to a lot of the other actors is, \\'Oooooh, I better get on my game here because this guy\\'s coming to play! So I can\\'t hold back; I\\'ve got to come up to him.\\' He sets the tone.\"\\n\\nIn 1996, Nicholson collaborated once more with Batman director Tim Burton on Mars Attacks!, pulling double duty as two contrasting characters, President James Dale and Las Vegas property developer Art Land. At first, studio executives at Warner Bros. disliked the idea of killing off Nicholson\\'s character, so Burton created two characters and killed them both off.\\n\\nNot all of Nicholson\\'s performances have been well received. He was nominated for Razzie Awards as worst actor for Man Trouble (1992) and Hoffa (1992). However, Nicholson\\'s performance in Hoffa also earned him a Golden Globe nomination. While David Thomson states that the film was terribly neglected, since Nicholson portrayed one of his best screen characters, someone who is \"snarly, dumb, smart, noble, rascally—all the parts of \\'Jack\\'\"\\n\\nNicholson went on to win his next Academy Award for Best Actor in the romantic comedy, As Good as It Gets (1997), his third film directed by James L. Brooks. He played Melvin Udall, a \"wickedly funny\", mean-spirited, obsessive-compulsive novelist. \"I\\'m a studio Method actor\", he said. \"So I was prone to give some kind of clinical presentation of the disorder.\" His Oscar was matched with the Academy Award for Best Actress for Helen Hunt, who played a Manhattan wisecracking, single-mother waitress drawn into a love/hate friendship with Udall, a frequent diner in the restaurant. The film was a tremendous box office success, grossing $314\\xa0million, which made it Nicholson\\'s second-best-grossing film of his career, after Batman.\\n\\nNicholson admits he initially didn\\'t like playing the role of a middle-aged man alongside much younger Hunt, seeing it as a movie cliché. \"But Helen disarmed that at the first meeting\", he says, \"and I stopped thinking about it.\" They got along well during the filming, with Hunt saying that he \"treated me like a queen\", and they connected immediately: \"It wasn\\'t even what we said\", she adds. \"It was just some frequency we both could tune into that was very, very compatible.\"\\n\\nCritic Jack Mathews of Newsday described Nicholson as being \"in rare form\", adding that \"it\\'s one of those performances that make you aware how much fun the actor is having\". Author and screenwriter Andrew Horton describes their on-screen relationship as being like \"fire and ice, oil and water— seemingly complete opposites\". Nonetheless, Hunt was Nicholson\\'s perfect counterpart and delivered \"a simply stunning performance\", wrote critic Louise Keller.\\n\\nIn 2001, Nicholson was the first actor to receive the Stanislavsky Award at the 23rd Moscow International Film Festival for \"conquering the heights of acting and faithfulness\".\\n\\n2000s.In About Schmidt (2002), Nicholson portrayed a retired Omaha, Nebraska, actuary who questions his own life following his wife\\'s death. His quietly restrained performance earned him an Academy Award Nomination for Best Actor. In Anger Management (2003), he played an aggressive therapist assigned to help an over pacifist man (Adam Sandler). In 2003, Nicholson also starred in Something\\'s Gotta Give, as an aging playboy who falls for the mother (Diane Keaton) of his young girlfriend. In late 2006, Nicholson marked his return to the dark side as Frank Costello, a nefarious Boston Irish Mob boss, based on Whitey Bulger who was still on the run at that time, presiding over Matt Damon and Leonardo DiCaprio in Martin Scorsese\\'s Oscar-winning film The Departed, a remake of Andrew Lau\\'s Infernal Affairs. The role earned Nicholson worldwide critical praise, along with various award wins and nominations, including a Golden Globe nomination for best supporting actor.\\n\\nIn 2007, Nicholson co-starred with Morgan Freeman in Rob Reiner\\'s The Bucket List. Nicholson and Freeman portrayed dying men who fulfill their list of goals. In researching the role, Nicholson visited a Los Angeles hospital to see how cancer patients coped with their illnesses.\\n\\n2010s.Nicholson\\'s next film role saw him reunite with James L. Brooks, director of Terms of Endearment, Broadcast News, and As Good as It Gets, for a supporting role as Paul Rudd\\'s character\\'s father in the 2010 film How Do You Know.\\n\\nIt has been widely reported in subsequent years that Nicholson has retired from acting because of memory loss, but in a September 2013 Vanity Fair article, Nicholson clarified that he did not consider himself retired, merely that he was now less driven to \"be out there any more\".\\n\\nOn February 15, 2015, Nicholson made a special appearance as a presenter on SNL 40, the 40th anniversary special of Saturday Night Live. After the death of boxer Muhammad Ali on June 3, 2016, Nicholson appeared on HBO\\'s The Fight Game with Jim Lampley for an exclusive interview about his friendship with Ali.\\n\\nIn February 2017, it was reported that Nicholson would be starring in an English-language remake of Toni Erdmann opposite Kristen Wiig, his first feature film role since How Do You Know. On August 20, 2018, Nicholson dropped out of the project.\\n\\nRelationships and children.Nicholson\\'s only marriage was to Sandra Knight from June 17, 1962, to August 8, 1968; they had been separated for two years prior to the divorce. They had one daughter together, Jennifer (born September 16, 1963).\\n\\nActress Susan Anspach contended that her son, Caleb Goddard (born September 26, 1970), was fathered by Nicholson. In 1984, Nicholson stated that he was not convinced he is Caleb\\'s father; however, in 1996, Caleb stated that Nicholson had acknowledged him as his son. At some point between 1988 and 1994, Nicholson provided financial assistance to put Caleb through college, and Anspach\\'s New York Times obituary referred to Caleb as \"her son, whose father is Jack Nicholson\".\\n\\nBetween April 1973 and January 1990, Nicholson had an on-again, off-again relationship with actress Anjelica Huston that included periods of overlap with other women, including Danish model Winnie Hollman, by whom he fathered a daughter, Honey Hollman (born 1981).\\n\\nFrom 1989 to 1994, Nicholson had a relationship with actress Rebecca Broussard. They had two children together: daughter Lorraine (born April 16, 1990), and son Raymond (born February 20, 1992).\\n\\nFor over a year, from 1999 to 2000, Nicholson dated actress Lara Flynn Boyle; they later reunited, before splitting permanently in 2004.\\n\\nNicholson has stated that children \"give your life a resonance that it can\\'t have without them\\xa0... As a father, I\\'m there all the time. I give unconditional love.\" However, he has also lamented that he \"didn\\'t see enough of my eldest daughter because I was trying to make a career\".\\n\\nAssault charge.In a criminal complaint filed on February 8, 1994, Robert Blank stated that Nicholson, then 56, approached Blank\\'s Mercedes-Benz while he was stopped at a red light in North Hollywood. After accusing the other man of cutting him off in traffic, Nicholson used a golf club to bash the roof and windshield of Blank\\'s car. A witness confirmed Blank\\'s account of the incident, and misdemeanor charges of assault and vandalism were filed against Nicholson. Charges were dropped after Nicholson apologized to Blank, and the two reached an undisclosed settlement, which included a reported $500,000 check from Nicholson.\\n\\nCelebrity friendships.Nicholson lived next door to Marlon Brando for a number of years on Mulholland Drive in Beverly Hills. Warren Beatty also lived nearby, earning the road the nickname \"Bad Boy Drive\". After Brando\\'s death in 2004, Nicholson purchased his bungalow for $6.1\\xa0million, with the purpose of having it demolished. Nicholson stated that it was done out of respect to Brando\\'s legacy, as it had become too expensive to renovate the \"derelict\" building which was plagued by mold.\\n\\nNicholson\\'s friendship with author-journalist Hunter S. Thompson is described in Thompson\\'s autobiography Kingdom of Fear. Following Thompson\\'s death in 2005, Nicholson and fellow actors Johnny Depp, John Cusack, and Sean Penn attended the private memorial service in Colorado.\\n\\nNicholson was also a close friend of Robert Evans, the producer of Chinatown, and after Evans lost Woodland, his home, as the result of a 1980s drug bust, Nicholson and other friends of the producer purchased Woodland to give it back to Evans.\\n\\nHobbies.Nicholson is a fan of the New York Yankees and Los Angeles Lakers. He has been a Laker season ticket holder since 1970, and has held courtside season tickets for the past 25 years next to the opponent\\'s benches both at The Forum and Staples Center, missing very few games. In a few instances, Nicholson has engaged in arguments with game officials and opposing players, and even walked onto the court. He was almost ejected from a Lakers playoff game in May 2003 after he yelled at the game\\'s referee.\\n\\nNicholson is a collector of 20th-century and contemporary art, including the work of Henri Matisse, Tamara de Lempicka, Andy Warhol and Jack Vettriano. In 1995, artist Ed Ruscha was quoted saying that Nicholson has \"one of the best collections out here\".\\n\\nPolitical views.Nicholson described himself as a \"life-long Irish Democrat\". Although he is personally against abortion, he is pro-choice. He has said, \"I\\'m pro-choice but against abortion because I\\'m an illegitimate child myself, and it would be hypocritical to take any other position. I\\'d be dead. I wouldn\\'t exist.\" He has also said that he has \"nothing but total admiration, gratitude, and respect for the strength of the women who made the decision they made in my individual case\".\\n\\nReligious views.During a 1992 Vanity Fair interview, Nicholson stated, \"I don\\'t believe in God now. I can still work up an envy for someone who has faith. I can see how that could be a deeply soothing experience.\"\\n\\nHonors.In May 2008, then-California Governor Arnold Schwarzenegger and First Lady Maria Shriver announced that Nicholson would be inducted into the California Hall of Fame, located at The California Museum for History, Women and the Arts. The induction ceremony took place on December 15, 2008, where he was inducted alongside 11 other Californians.\\n\\nIn 2010, Nicholson was inducted into the New Jersey Hall of Fame.\\n\\nIn 2011, Nicholson received an honorary Doctor of Fine Arts degree from Brown University at its 243rd commencement. At the ceremony, Ruth Simmons, Brown University\\'s president, called him \"the most skilled actor of our lifetime\".\\n\\nAwards and nominations.With twelve Academy Award nominations (eight for Best Actor and four for Best Supporting Actor), Nicholson is the most nominated male actor in Academy Awards history. Only Nicholson (1960s–2000s), Michael Caine (1960s–2000s), Meryl Streep (1970s–2010s), Paul Newman (1950s–1960s, 1980s–2000s), Katharine Hepburn (1930s–1960s, 1980s), and Laurence Olivier (1930s–1970s) have been nominated for an acting (lead or supporting) Academy Award in five different decades.\\n\\nWith three Oscar wins, he also ties with Walter Brennan, Daniel Day-Lewis, Ingrid Bergman, and Meryl Streep for the second-most Oscar wins in acting categories. Only Katharine Hepburn, with four Oscars, won more.\\n\\nIn 2013, Nicholson co-presented the Academy Award for Best Picture with First Lady Michelle Obama. This ceremony marked the eighth time he has presented the Academy Award for Best Picture (1972, 1977, 1978, 1990, 1993, 2006, 2007, and 2013). Nicholson is an active and voting member of the Academy.\\n\\nFilmography.Nicholson\\'s acting career spans over sixty years. He has won three Academy Awards, and with twelve nominations, he is the most nominated male actor in the Academy\\'s history.\\n\\nAmong his most notable films are Easy Rider (1969), Five Easy Pieces (1970), Carnal Knowledge (1971), The Last Detail (1973), Chinatown (1974), One Flew Over the Cuckoo\\'s Nest (1975), The Shining (1980), Reds (1981), Terms of Endearment (1983), Prizzi\\'s Honor (1985), Batman (1989), A Few Good Men (1992), As Good as It Gets (1997), About Schmidt (2002), and The Departed (2006).\\n\\nExternal links.- \"Jack Nicholson: A Singular Guy\" – Rolling Stone interview with Jack Nicholson, September 20, 2006\\n- Jack Nicholson Online - Fan site: pictures, interviews, latest news on Jack Nicholson'}\n",
            "{'title': 'british raj', 'content': 'The British Raj (; from rāj, literally, \"rule\" in Sanskrit and Hindustani) was the rule by the British Crown on the Indian subcontinent from 1858 to 1947. The rule is also called Crown rule in India, or direct rule in India. The region under British control was commonly called India in contemporaneous usage, and included areas directly administered by the United Kingdom, which were collectively called British India, and those ruled by indigenous rulers, but under British tutelage or paramountcy, called the princely states. The whole was also more formally called the Indian Empire.\\nAs India, it was a founding member of the League of Nations, a participating nation in the Summer Olympics in 1900, 1920, 1928, 1932, and 1936, and a founding member of the United Nations in San Francisco in 1945. \\n\\nThis system of governance was instituted on 28 June 1858, when, after the Indian Rebellion of 1857, the rule of the British East India Company was transferred to the Crown in the person of Queen Victoria (who, in 1876, was proclaimed Empress of India). It lasted until 1947, when it was partitioned into two sovereign dominion states: the Dominion of India (later the Republic of India) and the Dominion of Pakistan (later the Islamic Republic of Pakistan, the eastern part of which, still later, became the People\\'s Republic of Bangladesh). At the inception of the Raj in 1858, Lower Burma was already a part of British India; Upper Burma was added in 1886, and the resulting union, Burma (Myanmar), was administered as an autonomous province until 1937, when it became a separate British colony, gaining its own independence in 1948.\\n\\nGeographical extent.The British Raj extended over almost all present-day India, Pakistan, and Bangladesh, except for small holdings by other European nations such as Goa and Pondicherry. This area is very diverse, containing the Himalayan mountains, fertile floodplains, the Indo-Gangetic Plain, a long coastline, tropical dry forests, arid uplands, and the Thar Desert. In addition, at various times, it included Aden (from 1858 to 1937), Lower Burma (from 1858 to 1937), Upper Burma (from 1886 to 1937), British Somaliland (briefly from 1884 to 1898), and Singapore (briefly from 1858 to 1867). Burma was separated from India and directly administered by the British Crown from 1937 until its independence in 1948. The Trucial States of the Persian Gulf and the states under the Persian Gulf Residency were theoretically princely states as well as presidencies and provinces of British India until 1947 and used the rupee as their unit of currency.\\n\\nAmong other countries in the region, Ceylon (now Sri Lanka) was ceded to Britain in 1802 under the Treaty of Amiens. Ceylon was part of Madras Presidency between 1793 and 1798. The kingdoms of Nepal and Bhutan, having fought wars with the British, subsequently signed treaties with them and were recognised by the British as independent states. The Kingdom of Sikkim was established as a princely state after the Anglo-Sikkimese Treaty of 1861; however, the issue of sovereignty was left undefined. The Maldive Islands were a British protectorate from 1887 to 1965, but not part of British India.\\n\\nBritish India and the Princely States.India during the British Raj was made up of two types of territory: British India and the Native States (or Princely States). In its Interpretation Act 1889, the British Parliament adopted the following definitions in Section 18:\\n(4.) The expression \"British India\" shall mean all territories and places within Her Majesty\\'s dominions which are for the time being governed by Her Majesty through the Governor-General of India or through any governor or other officer subordinates to the Governor-General of India.\\n(5.) The expression \"India\" shall mean British India together with any territories of any native prince or chief under the suzerainty of Her Majesty exercised through the Governor-General of India, or through any governor or other officer subordinates to the Governor-General of India.\\nIn general, the term \"British India\" had been used (and is still used) to refer also to the regions under the rule of the British East India Company in India from 1600 to 1858. The term has also been used to refer to the \"British in India\".\\n\\nThe terms \"Indian Empire\" and \"Empire of India\" (like the term \"British Empire\") were not used in legislation. The monarch was known as Empress or Emperor of India and the term was often used in Queen Victoria\\'s Queen\\'s Speeches and Prorogation Speeches. The passports issued by the British Indian government had the words \"Indian Empire\" on the cover and \"Empire of India\" on the inside. In addition, an order of knighthood, the Most Eminent Order of the Indian Empire, was set up in 1878.\\n\\nSuzerainty over 175 princely states, some of the largest and most important, was exercised (in the name of the British Crown) by the central government of British India under the Viceroy; the remaining approximately 500 states were dependents of the provincial governments of British India under a Governor, Lieutenant-Governor, or Chief Commissioner (as the case might have been). A clear distinction between \"dominion\" and \"suzerainty\" was supplied by the jurisdiction of the courts of law: the law of British India rested upon the laws passed by the British Parliament and the legislative powers those laws vested in the various governments of British India, both central and local; in contrast, the courts of the Princely States existed under the authority of the respective rulers of those states.\\n\\nMajor provinces.At the turn of the 20th century, British India consisted of eightprovinces that were administered either by a governor or a lieutenant-governor.\\n\\nDuring the partition of Bengal (1905–1913), the new provinces of Assam and East Bengal were created as a Lieutenant-Governorship. In 1911, East Bengal was reunited with Bengal, and the new provinces in the east became: Assam, Bengal, Bihar and Orissa.\\n\\nMinor provinces.In addition, there were a few minor provinces that were administered by a Chief Commissioner:\\n\\nPrincely states.A Princely State, also called a Native State or an Indian State, was a British vassal state in India with an indigenous nominal Indian ruler, subject to a subsidiary alliance. There were 565 princely states when India and Pakistan became independent from Britain in August 1947. The princely states did not form a part of British India (i.e. the presidencies and provinces), as they were not directly under British rule. The larger ones had treaties with Britain that specified which rights the princes had; in the smaller ones the princes had few rights. Within the princely states external affairs, defence and most communications were under British control. The British also exercised a general influence over the states\\' internal politics, in part through the granting or withholding of recognition of individual rulers. Although there were nearly 600 princely states, the great majority were very small and contracted out the business of government to the British. Some two hundred of the states had an area of less than .\\n\\nThe states were grouped into agencies and residencies.\\n\\nOrganisation.Following the Indian Rebellion of 1857 (usually called the Indian Mutiny by the British), the Government of India Act 1858 made changes in the governance of India at three levels:\\n1. in the imperial government in London,\\n2. in the central government in Calcutta, and\\n3. in the provincial governments in the presidencies (and later in the provinces).\\n\\nIn London, it provided for a cabinet-level Secretary of State for India and a fifteen-member Council of India, whose members were required, as one prerequisite of membership, to have spent at least ten years in India and to have done so no more than ten years before. Although the Secretary of State formulated the policy instructions to be communicated to India, he was required in most instances to consult the Council, but especially so in matters relating to spending of Indian revenues. The Act envisaged a system of \"double government\" in which the Council ideally served both as a check on excesses in imperial policy-making and as a body of up-to-date expertise on India. However, the Secretary of State also had special emergency powers that allowed him to make unilateral decisions, and, in reality, the Council\\'s expertise was sometimes outdated. From 1858 until 1947, twenty-seven individuals served as Secretary of State for India and directed the India Office; these included: Sir Charles Wood (1859–1866), the Marquess of Salisbury (1874–1878; later Prime Minister of Britain), John Morley (1905–1910; initiator of the Minto-Morley Reforms), E. S. Montagu (1917–1922; an architect of the Montagu-Chelmsford reforms), and Frederick Pethick-Lawrence (1945–1947; head of the 1946 Cabinet Mission to India). The size of the Advisory Council was reduced over the next half-century, but its powers remained unchanged. In 1907, for the first time, two Indians were appointed to the Council. They were K.G. Gupta and Syed Hussain Bilgrami.\\n\\nIn Calcutta, the Governor-General remained head of the Government of India and now was more commonly called the Viceroy on account of his secondary role as the Crown\\'s representative to the nominally sovereign princely states; he was, however, now responsible to the Secretary of State in London and through him to Parliament. A system of \"double government\" had already been in place during the Company\\'s rule in India from the time of Pitt\\'s India Act of 1784. The Governor-General in the capital, Calcutta, and the Governor in a subordinate presidency (Madras or Bombay) was each required to consult his advisory council; executive orders in Calcutta, for example, were issued in the name of \"Governor-General-in-Council\" (i.e. the Governor-General with the advice of the Council). The Company\\'s system of \"double government\" had its critics, since, from the time of the system\\'s inception, there had been intermittent feuding between the Governor-General and his Council; still, the Act of 1858 made no major changes in governance. However, in the years immediately thereafter, which were also the years of post-rebellion reconstruction, Viceroy Lord Canning found the collective decision making of the Council to be too time-consuming for the pressing tasks ahead, so he requested the \"portfolio system\" of an Executive Council in which the business of each government department (the \"portfolio\") was assigned to and became the responsibility of a single council member. Routine departmental decisions were made exclusively by the member, but important decisions required the consent of the Governor-General and, in the absence of such consent, required discussion by the entire Executive Council. This innovation in Indian governance was promulgated in the Indian Councils Act 1861.\\n\\nIf the Government of India needed to enact new laws, the Councils Act allowed for a Legislative Council—an expansion of the Executive Council by up to twelve additional members, each appointed to a two-year term—with half the members consisting of British officials of the government (termed official) and allowed to vote, and the other half, comprising Indians and domiciled Britons in India (termed non-official) and serving only in an advisory capacity. All laws enacted by Legislative Councils in India, whether by the Imperial Legislative Council in Calcutta or by the provincial ones in Madras and Bombay, required the final assent of the Secretary of State in London; this prompted Sir Charles Wood, the second Secretary of State, to describe the Government of India as \"a despotism controlled from home\". Moreover, although the appointment of Indians to the Legislative Council was a response to calls after the 1857 rebellion, most notably by Sayyid Ahmad Khan, for more consultation with Indians, the Indians so appointed were from the landed aristocracy, often chosen for their loyalty, and far from representative. Even so, the \"...\\xa0 tiny advances in the practice of representative government were intended to provide safety valves for the expression of public opinion, which had been so badly misjudged before the rebellion\". Indian affairs now also came to be more closely examined in the British Parliament and more widely discussed in the British press.\\n\\nWith the promulgation of the Government of India Act 1935, the Council of India was abolished with effect from 1 April 1937 and a modified system of government enacted. The Secretary of State for India represented the Government of India in the UK. He was assisted by a body of advisers numbering from 8–12 individuals, at least half of whom were required to have held office in India for a minimum of 10 years, and had not relinquished office earlier than two years prior to their appointment as advisers to the Secretary of State.\\n\\nThe Viceroy and Governor-General of India, a Crown appointee, typically held office for five years though there was no fixed tenure, and received an annual salary of Rs. 2,50,800 (£18,810 p.a.). He headed the Viceroy\\'s Executive Council, each member of which had responsibility for a department of the central administration. From 1 April 1937, the position of Governor-General in Council, which the Viceroy and Governor-General concurrently held in the capacity of representing the Crown in relations with the Indian princely states, was replaced by the designation of \"HM Representative for the Exercise of the Functions of the Crown in its Relations with the Indian States\", or the \"Crown Representative.\" The Executive Council was greatly expanded during the Second World War, and in 1947 comprised 14members (secretaries), each of whom earned a salary of Rs. 66,000 p.a. (£4,950 p.a.). The portfolios in 1946–1947 were:\\n- External Affairs and Commonwealth Relations\\n- Home and Information and Broadcasting\\n- Food and transportation\\n- Transport and Railways\\n- Labour\\n- Industries and Supplies\\n- Works, Mines and Power\\n- Education\\n- Defence\\n- Finance\\n- Commerce\\n- Communications\\n- Health\\n- Law\\nUntil 1946, the Viceroy held the portfolio for External Affairs and Commonwealth Relations, as well as heading the Political Department in his capacity as the Crown Representative. Each department was headed by a secretary excepting the Railway Department, which was headed by a Chief Commissioner of Railways under a Secretary.\\n\\nThe Viceroy and Governor-General was also the head of the bicameral Indian Legislature, consisting of an upper house (the Council of State) and a lower house (the Legislative Assembly). The Viceroy was the head of the Council of State, while the Legislative Assembly, which was first opened in 1921, was headed by an elected President (appointed by the Viceroy from 1921–1925). The Council of State consisted of 58members (32elected, 26nominated), while the Legislative Assembly comprised 141members (26nominated officials, 13others nominated and 102elected). The Council of State existed in five-year periods and the Legislative Assembly for three-year periods, though either could be dissolved earlier or later by the Viceroy. The Indian Legislature was empowered to make laws for all persons resident in British India including all British subjects resident in India, and for all British Indian subjects residing outside India. With the assent of the King-Emperor and after copies of a proposed enactment had been submitted to both houses of the British Parliament, the Viceroy could overrule the legislature and directly enact any measures in the perceived interests of British India or its residents if the need arose.\\n\\nEffective from 1 April 1936, the Government of India Act created the new provinces of Sind (separated from the Bombay Presidency) and Orissa (separated from the Province of Bihar and Orissa). Burma and Aden became separate Crown Colonies under the Act from 1 April 1937, thereby ceasing to be part of the Indian Empire. From 1937 onwards, British India was divided into 17 administrations: the three Presidencies of Madras, Bombay and Bengal, and the 14 provinces of the United Provinces, Punjab, Bihar, the Central Provinces and Berar, Assam, the North-West Frontier Province (NWFP), Orissa, Sind, British Baluchistan, Delhi, Ajmer-Merwara, Coorg, the Andaman and Nicobar Islands and Panth Piploda. The Presidencies and the first eight provinces were each under a Governor, while the latter six provinces were each under a Chief Commissioner. The Viceroy directly governed the Chief Commissioner provinces through each respective Chief Commissioner, while the Presidencies and the provinces under Governors were allowed greater autonomy under the Government of India Act. Each Presidency or province headed by a Governor had either a provincial bicameral legislature (in the Presidencies, the United Provinces, Bihar and Assam) or a unicameral legislature (in the Punjab, Central Provinces and Berar, NWFP, Orissa and Sind). The governor of each presidency or province represented the Crown in his capacity, and was assisted by a ministers appointed from the members of each provincial legislature. Each provincial legislature had a life of five years, barring any special circumstances such as wartime conditions. All bills passed by the provincial legislature were either signed or rejected by the governor, who could also issue proclamations or promulgate ordinances while the legislature was in recess, as the need arose.\\n\\nEach province or presidency comprised a number of divisions, each headed by a commissioner and subdivided into districts, which were the basic administrative units and each headed by a district magistrate, collector or deputy commissioner; in 1947, British India comprised 230 districts.\\n\\nAftermath of the Rebellion of 1857: Indian critiques, British response.Although the rebellion had shaken the British enterprise in India, it had not derailed it. After the war, the British became more circumspect. Much thought was devoted to the causes of the rebellion and three main lessons were drawn. First, at a practical level, it was felt that there needed to be more communication and camaraderie between the British and Indians—not just between British army officers and their Indian staff but in civilian life as well. The Indian army was completely reorganised: units composed of the Muslims and Brahmins of the United Provinces of Agra and Oudh, who had formed the core of the rebellion, were disbanded. New regiments, like the Sikhs and Baluchis, composed of Indians who, in British estimation, had demonstrated steadfastness, were formed. From then on, the Indian army was to remain unchanged in its organisation until 1947. The 1861 Census had revealed that the English population in India was 125,945. Of these only about 41,862 were civilians as compared with about 84,083 European officers and men of the Army. In 1880, the standing Indian Army consisted of 66,000 British soldiers, 130,000 Natives, and 350,000 soldiers in the princely armies.\\n\\nSecond, it was also felt that both the princes and the large land-holders, by not joining the rebellion, had proved to be, in Lord Canning\\'s words, \"breakwaters in a storm\". They too were rewarded in the new British Raj by being officially recognised in the treaties each state now signed with the Crown. At the same time, it was felt that the peasants, for whose benefit the large land-reforms of the United Provinces had been undertaken, had shown disloyalty, by, in many cases, fighting for their former landlords against the British. Consequently, no more land reforms were implemented for the next 90 years: Bengal and Bihar were to remain the realms of large land holdings (unlike the Punjab and Uttar Pradesh).\\n\\nThird, the British felt disenchanted with Indian reaction to social change. Until the rebellion, they had enthusiastically pushed through social reform, like the ban on sati by Lord William Bentinck. It was now felt that traditions and customs in India were too strong and too rigid to be changed easily; consequently, no more British social interventions were made, especially in matters dealing with religion, even when the British felt very strongly about the issue (as in the instance of the remarriage of Hindu child widows). This was exemplified further in Queen Victoria\\'s Proclamation released immediately after the rebellion. The proclamation stated that \\'We disclaim alike our Right and Desire to impose Our Convictions on any of Our Subjects\\'; demonstrating official British commitment to abstaining from social intervention in India.\\n\\nDemographic history.The population of the territory that became the British Raj was 100million by 1600 and remained nearly stationary until the 19th century. The population of the Raj reached 255million according to the first census taken in 1881 of India.\\n\\nStudies of India\\'s population since 1881 have focused on such topics as total population, birth and death rates, growth rates, geographic distribution, literacy, the rural and urban divide, cities of amillion, and the three cities with populations over eightmillion: Delhi, Greater Bombay, and Calcutta.\\n\\nMortality rates fell in the 1920–1945 era, primarily due to biological immunisation. Other factors included rising incomes and better living conditions, improved better nutrition, a safer and cleaner environment, and better official health policies and medical care.\\n\\nSevere overcrowding in the cities caused major public health problems, as noted in an official report from 1938:\\n\\nIn the urban and industrial areas ... cramped sites, the high values of land and the necessity for the worker to live in the vicinity of his work ... all tend to intensify congestion and overcrowding. In the busiest centres houses are built close together, eave touching eave, and frequently back to back ... Space is so valuable that, in place of streets and roads, winding lanes provide the only approach to the houses. Neglect of sanitation is often evidenced by heaps of rotting garbage and pools of sewage, whilst the absence of latrines enhance the general pollution of air and soil.\\n\\nLegal modernisation.Singha argues that after 1857 the colonial government strengthened and expanded its infrastructure via the court system, legal procedures, and statutes. New legislation merged the Crown and the old East India Company courts and introduced a new penal code as well as new codes of civil and criminal procedure, based largely on English law. In the 1860s–1880s the Raj set up compulsory registration of births, deaths, and marriages, as well as adoptions, property deeds, and wills. The goal was to create a stable, usable public record and verifiable identities. However, there was opposition from both Muslim and Hindu elements who complained that the new procedures for census-taking and registration threatened to uncover female privacy. Purdah rules prohibited women from saying their husband\\'s name or having their photograph taken. An all-India census was conducted between 1868 and 1871, often using total numbers of females in a household rather than individual names. Select groups which the Raj reformers wanted to monitor statistically included those reputed to practice female infanticide, prostitutes, lepers, and eunuchs.\\n\\nMurshid argues that women were in some ways more restricted by the modernisation of the laws. They remained tied to the strictures of their religion, caste, and customs, but now with an overlay of British Victorian attitudes. Their inheritance rights to own and manage property were curtailed; the new English laws were somewhat harsher. Court rulings restricted the rights of second wives and their children regarding inheritance. A woman had to belong to either a father or a husband to have any rights.\\n\\nCivilising mission.Thomas Babington Macaulay (1800–1859) presented his Whiggish interpretation of English history as an upward progression always leading to more liberty and more progress. Macaulay simultaneously was a leading reformer involved in transforming the educational system of India. He would base it on the English language so that India could join the mother country in a steady upward progress. Macaulay took Burke\\'s emphasis on moral rule and implemented it in actual school reforms, giving the British Empire a profound moral mission to civilise the natives.\\n\\nYale professor Karuna Mantena has argued that the civilising mission did not last long, for she says that benevolent reformers were the losers in key debates, such as those following the 1857 rebellion in India, and the scandal of Edward Eyre\\'s brutal repression of the Morant Bay rebellion in Jamaica in 1865. The rhetoric continued but it became an alibi for British misrule and racism. No longer was it believed that the natives could truly make progress, instead, they had to be ruled by heavy hand, with democratic opportunities postponed indefinitely. As a result:\\n\\nThe central tenets of liberal imperialism were challenged as various forms of rebellion, resistance and instability in the colonies precipitated a broad-ranging reassessment...the equation of \\'good government\\' with the reform of native society, which was at the core of the discourse of liberal empire, would be subject to mounting scepticism.\\n\\nEnglish historian Peter Cain, has challenged Mantena, arguing that the imperialists truly believed that British rule would bring to the subjects the benefits of ‘ordered liberty’, thereby Britain could fulfil its moral duty and achieve its own greatness. Much of the debate took place in Britain itself, and the imperialists worked hard to convince the general population that the civilising mission was well under-way. This campaign served to strengthen imperial support at home, and thus, says Cain, to bolster the moral authority of the gentlemanly elites who ran the Empire.\\n\\nEducation.The British made widespread education in English a high priority. During the time of the East India Company, Thomas Babington Macaulay had made schooling taught in English a priority for the Raj in his famous minute of February 1835 and succeeded in implementing ideas previously put forward by Lord William Bentinck (the governor general between 1828 and 1835). Bentinck favoured the replacement of Persian by English as the official language, the use of English as the medium of instruction, and the training of English-speaking Indians as teachers. He was inspired by utilitarian ideas and called for \"useful learning.\" However, Bentinck\\'s proposals were rejected by London officials. Under Macaulay, thousands of elementary and secondary schools were opened; they typically had an all-male student body.\\n\\nMissionaries opened their own schools that taught Christianity and the three Rs. Bellenoit argues that as civil servants became more isolated and resorted to scientific racism, missionary schools became more engaged with Indians, grew increasingly sympathetic to Indian culture, and adamantly opposed scientific racism.\\n\\nUniversities in Calcutta, Bombay, and Madras were established in 1857, just before the Rebellion. By 1890 some 60,000 Indians had matriculated, chiefly in the liberal arts or law. About a third entered public administration, and another third became lawyers. The result was a very well educated professional state bureaucracy. By 1887 of 21,000 mid-level civil services appointments, 45% were held by Hindus, 7% by Muslims, 19% by Eurasians (European father and Indian mother), and 29% by Europeans. Of the 1000 top-level civil services positions, almost all were held by Britons, typically with an Oxbridge degree. The government, often working with local philanthropists, opened 186universities and colleges of higher education by 1911; they enrolled 36,000 students (over 90% men). By 1939 the number of institutions had doubled and enrolment reached 145,000. The curriculum followed classical British standards of the sort set by Oxford and Cambridge and stressed English literature and European history. Nevertheless, by the 1920s the student bodies had become hotbeds of Indian nationalism.\\n\\nMissions.As the Anglican Church was the established church of England, \"it had an impact on India with the arrival of the British\". Citing the Great Commission, Joseph White, a Laudian Professor of Arabic at the University of Oxford, \"preached before the university in 1784 on the duty of promoting the universal and progressive message of Christianity \\'among our Mahometan and Gentoo Subjects in India\\'.\" In 1889, the Prime Minister of the United Kingdom, Robert Gascoyne-Cecil, 3rd Marquess of Salisbury expressed similar sentiments, stating that \"It is not only our duty but is in our interest to promote the diffusion of Christianity as far as possible throughout the length and breadth of India.\"\\n\\nThe growth of the British Indian Army led to the arrival of many Anglican chaplains in India. Following the arrival of the Church of England\\'s Church Mission Society in 1814, the Diocese of Calcutta of the Church of India, Burma and Ceylon (CIBC) was erected, with its St. Paul\\'s Cathedral being built in 1847. By 1930, the Church of India, Burma and Ceylon had fourteen dioceses across the Indian Empire.\\n\\nMissionaries from other Christian denominations came to British India as well; Lutheran missionaries, for example, arrived in Calcutta in 1836 and by \"the year 1880 there were over 31,200 Lutheran Christians spread out in 1,052 villages\". Methodists began arriving in India in 1783 and established missions with a focus on \"education, health ministry, and evangelism\". In the 1790s, Christians from the London Missionary Society and Baptist Missionary Society, began doing missionary work in the Indian Empire. In Neyoor, the London Missionary Society Hospital \"pioneered improvements in the public health system for the treatment of diseases even before organised attempts were made by the colonial Madras Presidency, reducing the death rate substantially\".\\n\\nAfter 1857, the establishment of schools and hospitals by British Christian missionaries became \"a pivotal feature of missionary work and the principal vehicles for conversion\". Christ Church College (1866) and St. Stephen\\'s College (1881) are two examples of prominent church-affiliated educational institutions founded during the British Raj. Within educational institutions established during the British Raj, Christian texts, especially the Bible, were a part of the curricula. During the British Raj, Christian missionaries developed writing systems for Indian languages that previously did not have one. Christian missionaries in India also worked to increase literacy and also engaged in social activism, such as fighting against prostitution, championing the right of widowed women to remarry, and trying to stop early marriages for women. Among British women, zenana missions became a popular method to win converts to Christianity.\\n\\nEconomic trends.The Indian economy grew at about 1% per year from 1880 to 1920, and the population also grew at 1%. All three sectors of the economy—agriculture, manufacturing, and services—accelerated in the postcolonial India. In agriculture a \"green revolution\" took place in the 1870s. The most important difference between colonial and postcolonial India was the utilisation of land surplus with productivity-led growth by using high-yielding variety seeds, chemical fertilizers and more intensive application of water. All these three inputs were subsidised by the state. The result was, on average, no long-term change in per capita income levels, though cost of living had grown higher. Agriculture was still dominant, with most peasants at the subsistence level. Extensive irrigation systems were built, providing an impetus for switching to cash crops for export and for raw materials for Indian industry, especially jute, cotton, sugarcane, coffee and tea. India\\'s global share of GDP fell drastically from above 20% to less than 5% in the colonial period. Historians have been bitterly divided on issues of economic history, with the Nationalist school (following Nehru) arguing that India was poorer at the end of British rule than at the beginning and that impoverishment occurred because of the British.\\n\\nMike Davis writes that much of the economic activity in British India was for the benefit of the British economy and was carried out relentlessly through repressive British imperial policies and with negative repercussions for the Indian population. This is reified in India\\'s large exports of wheat to Britain: despite a major famine that claimed between 6 and 10million lives in the late 1870s, these exports remained unchecked. A colonial government committed to laissez-faire economics refused to interfere with these exports or provide any relief.\\n\\nIndustry.The entrepreneur Jamsetji Tata (1839–1904) began his industrial career in 1877 with the Central India Spinning, Weaving, and Manufacturing Company in Bombay. While other Indian mills produced cheap coarse yarn (and later cloth) using local short-staple cotton and cheap machinery imported from Britain, Tata did much better by importing expensive longer-stapled cotton from Egypt and buying more complex ring-spindle machinery from the United States to spin finer yarn that could compete with imports from Britain.\\n\\nIn the 1890s, he launched plans to move into heavy industry using Indian funding. The Raj did not provide capital, but, aware of Britain\\'s declining position against the US and Germany in the steel industry, it wanted steel mills in India. It promised to purchase any surplus steel Tata could not otherwise sell. The Tata Iron and Steel Company (TISCO), now headed by his son Dorabji Tata (1859–1932), opened its plant at Jamshedpur in Bihar in 1908. It used American technology, not British, and became the leading iron and steel producer in India, with 120,000 employees in 1945. TISCO became India\\'s proud symbol of technical skill, managerial competence, entrepreneurial flair, and high pay for industrial workers. The Tata family, like most of India\\'s big businessmen, were Indian nationalists but did not trust the Congress because it seemed too aggressively hostile to the Raj, too socialist, and too supportive of trade unions.\\n\\nRailways.British India built a modern railway system in the late 19th century, which was the fourth largest in the world. At first the railways were privately owned and operated. They were run by British administrators, engineers and craftsmen. At first, only the unskilled workers were Indians.\\n\\nThe East India Company (and later the colonial government) encouraged new railway companies backed by private investors under a scheme that would provide land and guarantee an annual return of up to 5% during the initial years of operation. The companies were to build and operate the lines under a 99-year lease, with the government having the option to buy them earlier.\\n\\nTwo new railway companies, the Great Indian Peninsular Railway (GIPR) and the East Indian Railway Company (EIR) began to construct and operate lines near Bombay and Calcutta in 1853–54. The first passenger railway line in North India, between Allahabad and Kanpur, opened in 1859.\\n\\nIn 1854, Governor-General Lord Dalhousie formulated a plan to construct a network of trunk lines connecting the principal regions of India. Encouraged by the government guarantees, investment flowed in and a series of new rail companies were established, leading to rapid expansion of the rail system in India. Soon several large princely states built their own rail systems and the network spread to the regions that became the modern-day states of Assam, Rajasthan and Andhra Pradesh. The route mileage of this network increased from 1349 km in 1860 to 25495 km in 1880, mostly radiating inland from the three major port cities of Bombay, Madras, and Calcutta.\\n\\nMost of the railway construction was done by Indian companies supervised by British engineers. The system was heavily built, using a broad gauge, sturdy tracks and strong bridges. By 1900 India had a full range of rail services with diverse ownership and management, operating on broad, metre and narrow gauge networks. In 1900, the government took over the GIPR network, while the company continued to manage it. During the First World War, the railways were used to transport troops and grain to the ports of Bombay and Karachi en route to Britain, Mesopotamia, and East Africa. With shipments of equipment and parts from Britain curtailed, maintenance became much more difficult; critical workers entered the army; workshops were converted to making artillery; some locomotives and cars were shipped to the Middle East. The railways could barely keep up with the increased demand. By the end of the war, the railways had deteriorated for lack of maintenance and were not profitable. In 1923, both GIPR and EIR were nationalised.\\n\\nHeadrick shows that until the 1930s, both the Raj lines and the private companies hired only European supervisors, civil engineers, and even operating personnel, such as locomotive engineers. The government\\'s Stores Policy required that bids on railway contracts be made to the India Office in London, shutting out most Indian firms. The railway companies purchased most of their hardware and parts in Britain. There were railway maintenance workshops in India, but they were rarely allowed to manufacture or repair locomotives. TISCO steel could not obtain orders for rails until the war emergency.\\n\\nThe Second World War severely crippled the railways as rolling stock was diverted to the Middle East, and the railway workshops were converted into munitions workshops. After independence in 1947, forty-two separate railway systems, including thirty-two lines owned by the former Indian princely states, were amalgamated to form a single nationalised unit named the Indian Railways.\\n\\nIndia provides an example of the British Empire pouring its money and expertise into a very well-built system designed for military purposes (after the Mutiny of 1857), in the hope that it would stimulate industry. The system was overbuilt and too expensive for the small amount of freight traffic it carried. Christensen (1996), who looked at colonial purpose, local needs, capital, service, and private-versus-public interests, concluded that making the railways a creature of the state hindered success because railway expenses had to go through the same time-consuming and political budgeting process as did all other state expenses. Railway costs could therefore not be tailored to the current needs of the railways or of their passengers.\\n\\nIrrigation.The British Raj invested heavily in infrastructure, including canals and irrigation systems in addition to railways, telegraphy, roads and ports. The Ganges Canal reached from Haridwar to Cawnpore (now Kanpur), and supplied thousands of miles of distribution canals. By 1900 the Raj had the largest irrigation system in the world. One success story was Assam, a jungle in 1840 that by 1900 had 4,000,000 acres under cultivation, especially in tea plantations. In all, the amount of irrigated land multiplied by a factor of eight. Historian David Gilmour says:\\n\\nPolicies.In the second half of the 19th century, both the direct administration of India by the British Crown and the technological change ushered in by the industrial revolution had the effect of closely intertwining the economies of India and Great Britain. In fact many of the major changes in transport and communications (that are typically associated with Crown Rule of India) had already begun before the Mutiny. Since Dalhousie had embraced the technological revolution underway in Britain, India too saw rapid development of all those technologies. Railways, roads, canals, and bridges were rapidly built in India and telegraph links equally rapidly established in order that raw materials, such as cotton, from India\\'s hinterland could be transported more efficiently to ports, such as Bombay, for subsequent export to England. Likewise, finished goods from England, were transported back, just as efficiently, for sale in the burgeoning Indian markets. Massive railway projects were begun in earnest and government railway jobs and pensions attracted a large number of upper caste Hindus into the civil services for the first time. The Indian Civil Service was prestigious and paid well, but it remained politically neutral. Imports of British cotton covered 55% of the Indian market by 1875. Industrial production as it developed in European factories was unknown until the 1850s when the first cotton mills were opened in Bombay, posing a challenge to the cottage-based home production system based on family labour.\\n\\nTaxes in India decreased during the colonial period for most of India\\'s population; with the land tax revenue claiming 15% of India\\'s national income during Mughal times compared with 1% at the end of the colonial period. The percentage of national income for the village economy increased from 44% during Mughal times to 54% by the end of colonial period. India\\'s per capita GDP decreased from 1990 Int\\'l$550 in 1700 to $520 by 1857, although it later increased to $618, by 1947.\\n\\nEconomic impact.Historians continue to debate whether the long-term impact of British rule was to accelerate the economic development of India, or to distort and retard it. In 1780, the conservative British politician Edmund Burke raised the issue of India\\'s position: he vehemently attacked the East India Company, claiming that Warren Hastings and other top officials had ruined the Indian economy and society. Indian historian Rajat Kanta Ray (1998) continues this line of attack, saying the new economy brought by the British in the 18th century was a form of \"plunder\" and a catastrophe for the traditional economy of the Mughal Empire. Ray accuses the British of depleting the food and money stocks and of imposing high taxes that helped cause the terrible Bengal famine of 1770, which killed a third of the people of Bengal.\\n\\nP. J. Marshall shows that recent scholarship has reinterpreted the view that the prosperity of the formerly benign Mughal rule gave way to poverty and anarchy. He argues the British takeover did not make any sharp break with the past, which largely delegated control to regional Mughal rulers and sustained a generally prosperous economy for the rest of the 18th century. Marshall notes the British went into partnership with Indian bankers and raised revenue through local tax administrators and kept the old Mughal rates of taxation.\\n\\nThe East India Company inherited an onerous taxation system that took one-third of the produce of Indian cultivators. Instead of the Indian nationalist account of the British as alien aggressors, seizing power by brute force and impoverishing all of India, Marshall presents the interpretation (supported by many scholars in India and the West) that the British were not in full control but instead were players in what was primarily an Indian play and in which their rise to power depended upon excellent co-operation with Indian elites. Marshall admits that much of his interpretation is still highly controversial among many historians.\\n\\nFamines, epidemics, public health.During the British Raj, India experienced some of the worst famines ever recorded, including the Great Famine of 1876–1878, in which 6.1\\xa0million to 10.3\\xa0million people died and the Indian famine of 1899–1900, in which 1.25 to 10\\xa0million people died. Recent research, including work by Mike Davis and Amartya Sen, argue that famines in India were made more severe by British policies in India.\\n\\nThe first cholera pandemic began in Bengal, then spread across India by 1820. Tenthousand British troops and countless Indians died during this pandemic. Estimated deaths in India between 1817 and 1860 exceeded 15\\xa0million. Another 23\\xa0million died between 1865 and 1917. The Third Pandemic of plague started in China in the middle of the 19th century, spreading disease to all inhabited continents and killing 10\\xa0million people in India alone. Waldemar Haffkine, who mainly worked in India, became the first microbiologist to develop and deploy vaccines against cholera and bubonic plague. In 1925 the Plague Laboratory in Bombay was renamed the Haffkine Institute.\\n\\nFevers ranked as one of the leading causes of death in India in the 19th century. Britain\\'s Sir Ronald Ross, working in the Presidency General Hospital in Calcutta, finally proved in 1898 that mosquitoes transmit malaria, while on assignment in the Deccan at Secunderabad, where the Centre for Tropical and Communicable Diseases is now named in his honour.\\n\\nIn 1881 there were around 120,000 leprosy patients. The central government passed the Lepers Act of 1898, which provided legal provision for forcible confinement of leprosy sufferers in India. Under the direction of Mountstuart Elphinstone a program was launched to propagate smallpox vaccination. Mass vaccination in India resulted in a major decline in smallpox mortality by the end of the 19th century. In 1849 nearly 13% of all Calcutta deaths were due to smallpox. Between 1868 and 1907, there were approximately 4.7\\xa0million deaths from smallpox.\\n\\nSir Robert Grant directed his attention to establishing a systematic institution in Bombay for imparting medical knowledge to the natives. In 1860, Grant Medical College became one of the four recognised colleges for teaching courses leading to degrees (alongside Elphinstone College, Deccan College and Government Law College, Mumbai).\\n\\n1860s–1890s: New middle class, Indian National Congress.By 1880, a new middle class had arisen in India and spread thinly across the country. Moreover, there was a growing solidarity among its members, created by the \"joint stimuli of encouragement and irritation.\" The encouragement felt by this class came from its success in education and its ability to avail itself of the benefits of that education such as employment in the Indian Civil Service. It came too from Queen Victoria\\'s proclamation of 1858 in which she had declared, \"We hold ourselves bound to the natives of our Indian territories by the same obligation of duty which bind us to all our other subjects.\" Indians were especially encouraged when Canada was granted dominion status in 1867 and established an autonomous democratic constitution. Lastly, the encouragement came from the work of contemporaneous Oriental scholars like Monier Monier-Williams and Max Müller, who in their works had been presenting ancient India as a great civilisation. Irritation, on the other hand, came not just from incidents of racial discrimination at the hands of the British in India, but also from governmental actions like the use of Indian troops in imperial campaigns (e.g. in the Second Anglo-Afghan War) and the attempts to control the vernacular press (e.g. in the Vernacular Press Act of 1878).\\n\\nIt was, however, Viceroy Lord Ripon\\'s partial reversal of the Ilbert Bill (1883), a legislative measure that had proposed putting Indian judges in the Bengal Presidency on equal footing with British ones, that transformed the discontent into political action. On 28 December 1885, professionals and intellectuals from this middle-class—many educated at the new British-founded universities in Bombay, Calcutta, and Madras, and familiar with the ideas of British political philosophers, especially the utilitarians assembled in Bombay. The seventy men founded the Indian National Congress; Womesh Chunder Bonerjee was elected the first president. The membership comprised a westernised elite and no effort was made at this time to broaden the base.\\n\\nDuring its first twenty years, the Congress primarily debated British policy toward India; however, its debates created a new Indian outlook that held Great Britain responsible for draining India of its wealth. Britain did this, the nationalists claimed, by unfair trade, by the restraint on indigenous Indian industry, and by the use of Indian taxes to pay the high salaries of the British civil servants in India.\\n\\n1870s–1907: Social reformers, moderates vs. extremists.Thomas Baring served as Viceroy of India 1872–1876. Baring\\'s major accomplishments came as an energetic reformer who was dedicated to upgrading the quality of government in the British Raj. He began large scale famine relief, reduced taxes, and overcame bureaucratic obstacles in an effort to reduce both starvation and widespread social unrest. Although appointed by a Liberal government, his policies were much the same as Viceroys appointed by Conservative governments.\\n\\nSocial reform was in the air by the 1880s. For example, Pandita Ramabai, poet, Sanskrit scholar, and a champion of the emancipation of Indian women, took up the cause of widow remarriage, especially of Brahmin widows, later converted to Christianity. By 1900 reform movements had taken root within the Indian National Congress. Congress member Gopal Krishna Gokhale founded the Servants of India Society, which lobbied for legislative reform (for example, for a law to permit the remarriage of Hindu child widows), and whose members took vows of poverty, and worked among the untouchable community.\\n\\nBy 1905, a deep gulf opened between the moderates, led by Gokhale, who downplayed public agitation, and the new \"extremists\" who not only advocated agitation, but also regarded the pursuit of social reform as a distraction from nationalism. Prominent among the extremists was Bal Gangadhar Tilak, who attempted to mobilise Indians by appealing to an explicitly Hindu political identity, displayed, for example, in the annual public Ganapati festivals that he inaugurated in western India.\\n\\nPartition of Bengal (1905–1911).The viceroy, Lord Curzon (1899–1905), was unusually energetic in pursuit of efficiency and reform. His agenda included the creation of the North-West Frontier Province; small changes in the civil services; speeding up the operations of the secretariat; setting up a gold standard to ensure a stable currency; creation of a Railway Board; irrigation reform; reduction of peasant debts; lowering the cost of telegrams; archaeological research and the preservation of antiquities; improvements in the universities; police reforms; upgrading the roles of the Native States; a new Commerce and Industry Department; promotion of industry; revised land revenue policies; lowering taxes; setting up agricultural banks; creating an Agricultural Department; sponsoring agricultural research; establishing an Imperial Library; creating an Imperial Cadet Corps; new famine codes; and, indeed, reducing the smoke nuisance in Calcutta.\\n\\nTrouble emerged for Curzon when he divided the largest administrative subdivision in British India, the Bengal Province, into the Muslim-majority province of Eastern Bengal and Assam and the Hindu-majority province of West Bengal (present-day Indian states of West Bengal, Bihar, and Odisha). Curzon\\'s act, the Partition of Bengal—which some considered administratively felicitous, communally charged, sowed the seeds of division among Indians in Bengal and, which had been contemplated by various colonial administrations since the time of Lord William Bentinck, but never acted upon—was to transform nationalist politics as nothing else before it. The Hindu elite of Bengal, among them many who owned land in East Bengal that was leased out to Muslim peasants, protested fervidly.\\n\\nFollowing the Partition of Bengal, which was a strategy set out by Lord Curzon to weaken the nationalist movement, Tilak encouraged the Swadeshi movement and the Boycott movement. The movement consisted of the boycott of foreign goods and also the social boycott of any Indian who used foreign goods. The Swadeshi movement consisted of the usage of natively produced goods. Once foreign goods were boycotted, there was a gap which had to be filled by the production of those goods in India itself. Bal Gangadhar Tilak said that the Swadeshi and Boycott movements are two sides of the same coin. The large Bengali Hindu middle-class (the Bhadralok), upset at the prospect of Bengalis being outnumbered in the new Bengal province by Biharis and Oriyas, felt that Curzon\\'s act was punishment for their political assertiveness. The pervasive protests against Curzon\\'s decision took the form predominantly of the Swadeshi (\"buy Indian\") campaign led by two-time Congress president, Surendranath Banerjee, and involved boycott of British goods.\\n\\nThe rallying cry for both types of protest was the slogan Bande Mataram (\"Hail to the Mother\"), which invoked a mother goddess, who stood variously for Bengal, India, and the Hindu goddess Kali. Sri Aurobindo never went beyond the law when he edited the Bande Mataram magazine; it preached independence but within the bounds of peace as far as possible. Its goal was Passive Resistance. The unrest spread from Calcutta to the surrounding regions of Bengal when students returned home to their villages and towns. Some joined local political youth clubs emerging in Bengal at the time, some engaged in robberies to fund arms, and even attempted to take the lives of Raj officials. However, the conspiracies generally failed in the face of intense police work. The Swadeshi boycott movement cut imports of British textiles by 25%. The swadeshi cloth, although more expensive and somewhat less comfortable than its Lancashire competitor, was worn as a mark of national pride by people all over India.\\n\\n1906–1909: Muslim League, Minto-Morley reforms.The Hindu protests against the partition of Bengal led the Muslim elite in India to organise in 1906 the All India Muslim League. The League favoured the partition of Bengal, since it gave them a Muslim majority in the eastern half. In 1905, when Tilak and Lajpat Rai attempted to rise to leadership positions in the Congress, and the Congress itself rallied around the symbolism of Kali, Muslim fears increased. The Muslim elite, including Dacca Nawab and Khwaja Salimullah, expected that a new province with a Muslim majority would directly benefit Muslims aspiring to political power.\\n\\nThe first steps were taken toward self-government in British India in the late 19th century with the appointment of Indian counsellors to advise the British viceroy and the establishment of provincial councils with Indian members; the British subsequently widened participation in legislative councils with the Indian Councils Act of 1892. Municipal Corporations and District Boards were created for local administration; they included elected Indian members.\\n\\nThe Indian Councils Act 1909, known as the Morley-Minto Reforms (John Morley was the secretary of state for India, and Minto was viceroy)—gave Indians limited roles in the central and provincial legislatures. Upper class Indians, rich landowners and businessmen were favoured. The Muslim community was made a separate electorate and granted double representation. The goals were quite conservative but they did advance the elective principle.\\n\\nThe partition of Bengal was rescinded in 1911 and announced at the Delhi Durbar at which King George V came in person and was crowned Emperor of India. He announced the capital would be moved from Calcutta to Delhi. This period saw an increase in the activities of revolutionary groups, which included Bengal\\'s Anushilan Samiti and the Punjab\\'s Ghadar Party. The British authorities were, however, able to crush violent rebels swiftly, in part because the mainstream of educated Indian politicians opposed violent revolution.\\n\\n1914–1918: First World War, Lucknow Pact.The First World War would prove to be a watershed in the imperial relationship between Britain and India. Shortly before the outbreak of war, the Government of India had indicated that they could furnish two divisions plus a cavalry brigade, with a further division in case of emergency. Some 1.4million Indian and British soldiers of the British Indian Army took part in the war, primarily in Iraq and the Middle East. Their participation had a wider cultural fallout as news spread of how bravely soldiers fought and died alongside British soldiers, as well as soldiers from dominions like Canada and Australia. India\\'s international profile rose during the 1920s, as it became a of the League of Nations in 1920 and participated, under the name \"Les Indes Anglaises\" (British India), in the 1920 Summer Olympics in Antwerp. Back in India, especially among the leaders of the Indian National Congress, the war led to calls for greater self-government for Indians.\\n\\nAfter the 1906 split between the moderates and the extremists, organised political activity by the Congress had remained fragmented until 1914, when Bal Gangadhar Tilak was released from prison and began to sound out other Congress leaders about possible reunification. That, however, had to wait until the demise of Tilak\\'s principal moderate opponents, Gopal Krishna Gokhale and Pherozeshah Mehta, in 1915, whereupon an agreement was reached for Tilak\\'s ousted group to re-enter the Congress. In the 1916 Lucknow session of the Congress, Tilak\\'s supporters were able to push through a more radical resolution which asked for the British to declare that it was their \"aim and intention\\xa0... to confer self-government on India at an early date.\" Soon, other such rumblings began to appear in public pronouncements: in 1917, in the Imperial Legislative Council, Madan Mohan Malaviya spoke of the expectations the war had generated in India, \"I venture to say that the war has put the clock\\xa0... fifty years forward\\xa0... (The) reforms after the war will have to be such,\\xa0... as will satisfy the aspirations of her (India\\'s) people to take their legitimate part in the administration of their own country.\"\\n\\nThe 1916 Lucknow Session of the Congress was also the venue of an unanticipated mutual effort by the Congress and the Muslim League, the occasion for which was provided by the wartime partnership between Germany and Turkey. Since the Turkish Sultan, or Khalifah, had also sporadically claimed guardianship of the Islamic holy sites of Mecca, Medina, and Jerusalem, and since the British and their allies were now in conflict with Turkey, doubts began to increase among some Indian Muslims about the \"religious neutrality\" of the British, doubts that had already surfaced as a result of the reunification of Bengal in 1911, a decision that was seen as ill-disposed to Muslims. In the Lucknow Pact, the League joined the Congress in the proposal for greater self-government that was campaigned for by Tilak and his supporters; in return, the Congress accepted separate electorates for Muslims in the provincial legislatures as well as the Imperial Legislative Council. In 1916, the Muslim League had anywhere between 500 and 800members and did not yet have the wider following among Indian Muslims that it enjoyed in later years; in the League itself, the pact did not have unanimous backing, having largely been negotiated by a group of \"Young Party\" Muslims from the United Provinces (UP), most prominently, two brothers Mohammad and Shaukat Ali, who had embraced the Pan-Islamic cause; however, it did have the support of a young lawyer from Bombay, Muhammad Ali Jinnah, who was later to rise to leadership roles in both the League and the Indian independence movement. In later years, as the full ramifications of the pact unfolded, it was seen as benefiting the Muslim minority élites of provinces like UP and Bihar more than the Muslim majorities of Punjab and Bengal; nonetheless, at the time, the \"Lucknow Pact\" was an important milestone in nationalistic agitation and was seen as such by the British.\\n\\nDuring 1916, two Home Rule Leagues were founded within the Indian National Congress by Tilak and Annie Besant, respectively, to promote Home Rule among Indians, and also to elevate the stature of the founders within the Congress itself. Mrs. Besant, for her part, was also keen to demonstrate the superiority of this new form of organised agitation, which had achieved some success in the Irish home rule movement, over the political violence that had intermittently plagued the subcontinent during the years 1907–1914. The two Leagues focused their attention on complementary geographical regions: Tilak\\'s in western India, in the southern Bombay presidency, and Mrs. Besant\\'s in the rest of the country, but especially in the Madras Presidency and in regions like Sind and Gujarat that had hitherto been considered politically dormant by the Congress. Both leagues rapidly acquired new members—approximately thirtythousand each in a little over a year—and began to publish inexpensive newspapers. Their propaganda also turned to posters, pamphlets, and political-religious songs, and later to mass meetings, which not only attracted greater numbers than in earlier Congress sessions, but also entirely new social groups such as non-Brahmins, traders, farmers, students, and lower-level government workers. Although they did not achieve the magnitude or character of a nationwide mass movement, the Home Rule leagues both deepened and widened organised political agitation for self-rule in India. The British authorities reacted by imposing restrictions on the Leagues, including shutting out students from meetings and banning the two leaders from travelling to certain provinces.\\n\\nThe year 1915 also saw the return of Mohandas Karamchand Gandhi to India. Already known in India as a result of his civil liberties protests on behalf of the Indians in South Africa, Gandhi followed the advice of his mentor Gopal Krishna Gokhale and chose not to make any public pronouncements during the first year of his return, but instead spent the year travelling, observing the country at first hand, and writing. Earlier, during his South Africa sojourn, Gandhi, a lawyer by profession, had represented an Indian community, which, although small, was sufficiently diverse to be a microcosm of India itself. In tackling the challenge of holding this community together and simultaneously confronting the colonial authority, he had created a technique of non-violent resistance, which he labelled Satyagraha (or Striving for Truth). For Gandhi, Satyagraha was different from \"passive resistance\", by then a familiar technique of social protest, which he regarded as a practical strategy adopted by the weak in the face of superior force; Satyagraha, on the other hand, was for him the \"last resort of those strong enough in their commitment to truth to undergo suffering in its cause.\" Ahimsa or \"non-violence\", which formed the underpinning of Satyagraha, came to represent the twin pillar, with Truth, of Gandhi\\'s unorthodox religious outlook on life. During the years 1907–1914, Gandhi tested the technique of Satyagraha in a number of protests on behalf of the Indian community in South Africa against the unjust racial laws.\\n\\nAlso, during his time in South Africa, in his essay, Hind Swaraj, (1909), Gandhi formulated his vision of Swaraj, or \"self-rule\" for India based on three vital ingredients: solidarity between Indians of different faiths, but most of all between Hindus and Muslims; the removal of untouchability from Indian society; and the exercise of swadeshi—the boycott of manufactured foreign goods and the revival of Indian cottage industry. The first two, he felt, were essential for India to be an egalitarian and tolerant society, one befitting the principles of Truth and Ahimsa, while the last, by making Indians more self-reliant, would break the cycle of dependence that was perpetuating not only the direction and tenor of the British rule in India, but also the British commitment to it. At least until 1920, the British presence itself was not a stumbling block in Gandhi\\'s conception of swaraj; rather, it was the inability of Indians to create a modern society.\\n\\n1917–1919: Satyagraha, Montagu-Chelmsford reforms, Jallianwalla Bagh.Gandhi made his political debut in India in 1917 in Champaran district in Bihar, near the Nepal border, where he was invited by a group of disgruntled tenant farmers who, for many years, had been forced into planting indigo (for dyes) on a portion of their land and then selling it at below-market prices to the British planters who had leased them the land. Upon his arrival in the district, Gandhi was joined by other agitators, including a young Congress leader, Rajendra Prasad, from Bihar, who would become a loyal supporter of Gandhi and go on to play a prominent role in the Indian independence movement. When Gandhi was ordered to leave by the local British authorities, he refused on moral grounds, setting up his refusal as a form of individual Satyagraha. Soon, under pressure from the Viceroy in Delhi who was anxious to maintain domestic peace during wartime, the provincial government rescinded Gandhi\\'s expulsion order, and later agreed to an official enquiry into the case. Although the British planters eventually gave in, they were not won over to the farmers\\' cause, and thereby did not produce the optimal outcome of a Satyagraha that Gandhi had hoped for; similarly, the farmers themselves, although pleased at the resolution, responded less than enthusiastically to the concurrent projects of rural empowerment and education that Gandhi had inaugurated in keeping with his ideal of swaraj. The following year Gandhi launched two more Satyagrahas—both in his native Gujarat—one in the rural Kaira district where land-owning farmers were protesting increased land-revenue and the other in the city of Ahmedabad, where workers in an Indian-owned textile mill were distressed about their low wages. The satyagraha in Ahmedabad took the form of Gandhi fasting and supporting the workers in a strike, which eventually led to a settlement. In Kaira, in contrast, although the farmers\\' cause received publicity from Gandhi\\'s presence, the satyagraha itself, which consisted of the farmers\\' collective decision to withhold payment, was not immediately successful, as the British authorities refused to back down. The agitation in Kaira gained for Gandhi another lifelong lieutenant in Sardar Vallabhbhai Patel, who had organised the farmers, and who too would go on to play a leadership role in the Indian independence movement. Champaran, Kaira, and Ahmedabad were important milestones in the history of Gandhi\\'s new methods of social protest in India.\\n\\nIn 1916, in the face of new strength demonstrated by the nationalists with the signing of the Lucknow Pact and the founding of the Home Rule leagues, and the realisation, after the disaster in the Mesopotamian campaign, that the war would likely last longer, the new Viceroy, Lord Chelmsford, cautioned that the Government of India needed to be more responsive to Indian opinion. Towards the end of the year, after discussions with the government in London, he suggested that the British demonstrate their good faith—in light of the Indian war role—through a number of public actions, including awards of titles and honours to princes, granting of commissions in the army to Indians, and removal of the much-reviled cotton excise duty, but, most importantly, an announcement of Britain\\'s future plans for India and an indication of some concrete steps. After more discussion, in August 1917, the new Liberal Secretary of State for India, Edwin Montagu, announced the British aim of \"increasing association of Indians in every branch of the administration, and the gradual development of self-governing institutions, with a view to the progressive realisation of responsible government in India as an integral part of the British Empire.\" Although the plan envisioned limited self-government at first only in the provinces—with India emphatically within the British Empire—it represented the first British proposal for any form of representative government in a non-white colony.\\n\\nEarlier, at the onset of World War I, the reassignment of most of the British army in India to Europe and Mesopotamia, had led the previous Viceroy, Lord Harding, to worry about the \"risks involved in denuding India of troops.\" Revolutionary violence had already been a concern in British India; consequently, in 1915, to strengthen its powers during what it saw was a time of increased vulnerability, the Government of India passed the Defence of India Act 1915, which allowed it to intern politically dangerous dissidents without due process, and added to the power it already had—under the 1910 Press Act—both to imprison journalists without trial and to censor the press. It was under the Defence of India act that the Ali brothers were imprisoned in 1916, and Annie Besant, a European woman, and ordinarily more problematic to imprison, was arrested in 1917. Now, as constitutional reform began to be discussed in earnest, the British began to consider how new moderate Indians could be brought into the fold of constitutional politics and, simultaneously, how the hand of established constitutionalists could be strengthened. However, since the Government of India wanted to ensure against any sabotage of the reform process by extremists, and since its reform plan was devised during a time when extremist violence had ebbed as a result of increased governmental control, it also began to consider how some of its wartime powers could be extended into peacetime.\\n\\nConsequently, in 1917, even as Edwin Montagu, announced the new constitutional reforms, a committee chaired by a British judge, S. A. T. Rowlatt, was tasked with investigating \"revolutionary conspiracies\", with the unstated goal of extending the government\\'s wartime powers. The Rowlatt Committee presented its report in July 1918 and identified three regions of conspiratorial insurgency: Bengal, the Bombay presidency, and the Punjab. To combat subversive acts in these regions, the committee recommended that the government use emergency powers akin to its wartime authority, which included the ability to try cases of sedition by a panel of three judges and without juries, exaction of securities from suspects, governmental overseeing of residences of suspects, and the power for provincial governments to arrest and detain suspects in short-term detention facilities and without trial.\\n\\nWith the end of World War I, there was also a change in the economic climate. By the end of 1919, 1.5million Indians had served in the armed services in either combatant or non-combatant roles, and India had provided £146million in revenue for the war. The increased taxes coupled with disruptions in both domestic and international trade had the effect of approximately doubling the index of overall prices in India between 1914 and 1920. Returning war veterans, especially in the Punjab, created a growing unemployment crisis, and post-war inflation led to food riots in Bombay, Madras, and Bengal provinces, a situation that was made only worse by the failure of the 1918–19 monsoon and by profiteering and speculation. The global influenza epidemic and the Bolshevik Revolution of 1917 added to the general jitters; the former among the population already experiencing economic woes, and the latter among government officials, fearing a similar revolution in India.\\n\\nTo combat what it saw as a coming crisis, the government now drafted the Rowlatt committee\\'s recommendations into two Rowlatt Bills. Although the bills were authorised for legislative consideration by Edwin Montagu, they were done so unwillingly, with the accompanying declaration, \"I loathe the suggestion at first sight of preserving the Defence of India Act in peacetime to such an extent as Rowlatt and his friends think necessary.\" In the ensuing discussion and vote in the Imperial Legislative Council, all Indian members voiced opposition to the bills. The Government of India was, nevertheless, able to use of its \"official majority\" to ensure passage of the bills early in 1919. However, what it passed, in deference to the Indian opposition, was a lesser version of the first bill, which now allowed extrajudicial powers, but for a period of exactly three years and for the prosecution solely of \"anarchical and revolutionary movements\", dropping entirely the second bill involving modification the Indian Penal Code. Even so, when it was passed, the new Rowlatt Act aroused widespread indignation throughout India, and brought Gandhi to the forefront of the nationalist movement.\\n\\nMeanwhile, Montagu and Chelmsford themselves finally presented their report in July 1918 after a long fact-finding trip through India the previous winter. After more discussion by the government and parliament in Britain, and another tour by the Franchise and Functions Committee for the purpose of identifying who among the Indian population could vote in future elections, the Government of India Act 1919 (also known as the Montagu-Chelmsford Reforms) was passed in December 1919. The new Act enlarged both the provincial and Imperial legislative councils and repealed the Government of India\\'s recourse to the \"official majority\" in unfavourable votes. Although departments like defence, foreign affairs, criminal law, communications, and income-tax were retained by the Viceroy and the central government in New Delhi, other departments like public health, education, land-revenue, local self-government were transferred to the provinces. The provinces themselves were now to be administered under a new diarchical system, whereby some areas like education, agriculture, infrastructure development, and local self-government became the preserve of Indian ministers and legislatures, and ultimately the Indian electorates, while others like irrigation, land-revenue, police, prisons, and control of media remained within the purview of the British governor and his executive council. The new Act also made it easier for Indians to be admitted into the civil services and the army officer corps.\\n\\nA greater number of Indians were now enfranchised, although, for voting at the national level, they constituted only 10% of the total adult male population, many of whom were still illiterate. In the provincial legislatures, the British continued to exercise some control by setting aside seats for special interests they considered cooperative or useful. In particular, rural candidates, generally sympathetic to British rule and less confrontational, were assigned more seats than their urban counterparts. Seats were also reserved for non-Brahmins, landowners, businessmen, and college graduates. The principal of \"communal representation\", an integral part of the Minto-Morley Reforms, and more recently of the Congress-Muslim League Lucknow Pact, was reaffirmed, with seats being reserved for Muslims, Sikhs, Indian Christians, Anglo-Indians, and domiciled Europeans, in both provincial and Imperial legislative councils. The Montagu-Chelmsford reforms offered Indians the most significant opportunity yet for exercising legislative power, especially at the provincial level; however, that opportunity was also restricted by the still limited number of eligible voters, by the small budgets available to provincial legislatures, and by the presence of rural and special interest seats that were seen as instruments of British control. Its scope was unsatisfactory to the Indian political leadership, famously expressed by Annie Beasant as something \"unworthy of England to offer and India to accept\".\\n\\nThe Jallianwala Bagh massacre or \"Amritsar massacre\", took place in the Jallianwala Bagh public garden in the predominantly Sikh northern city of Amritsar. After days of unrest Brigadier-General Reginald E.H. Dyer forbade public meetings and on Sunday 13 April 1919 fifty British Indian Army soldiers commanded by Dyer began shooting at an unarmed gathering of thousands of men, women, and children without warning. Casualty estimates vary widely, with the Government of India reporting 379dead, with 1,100wounded. The Indian National Congress estimated three times the number of dead. Dyer was removed from duty but he became a celebrated hero in Britain among people with connections to the Raj. Historians consider the episode was a decisive step towards the end of British rule in India.\\n\\n1920s: Non-cooperation, Khilafat, Simon Commission, Jinnah\\'s fourteen points.In 1920, after the British government refused to back down, Gandhi began his campaign of non-cooperation, prompting many Indians to return British awards and honours, to resign from the civil services, and to again boycott British goods. In addition, Gandhi reorganised the Congress, transforming it into a mass movement and opening its membership to even the poorest Indians. Although Gandhi halted the non-cooperation movement in 1922 after the violent incident at Chauri Chaura, the movement revived again, in the mid-1920s.\\n\\nThe visit, in 1928, of the British Simon Commission, charged with instituting constitutional reform in India, resulted in widespread protests throughout the country. Earlier, in 1925, non-violent protests of the Congress had resumed too, this time in Gujarat, and led by Patel, who organised farmers to refuse payment of increased land taxes; the success of this protest, the Bardoli Satyagraha, brought Gandhi back into the fold of active politics.\\n\\n1929–1937: Round Table conferences, Government of India Act.At its annual session in Lahore, the Indian National Congress, under the presidency of Jawaharlal Nehru, issued a demand for Purna Swaraj (Hindustani language: \"complete independence\"), or Purna Swarajya. The declaration was drafted by the Congress Working Committee, which included Gandhi, Nehru, Patel, and Chakravarthi Rajagopalachari. Gandhi subsequently led an expanded movement of civil disobedience, culminating in 1930 with the Salt Satyagraha, in which thousands of Indians defied the tax on salt, by marching to the sea and making their own salt by evaporating seawater. Although, many, including Gandhi, were arrested, the British government eventually gave in, and in 1931 Gandhi travelled to London to negotiate new reform at the Round Table Conferences.\\n\\nIn local terms, British control rested on the Indian Civil Service (ICS), but it faced growing difficulties. Fewer and fewer young men in Britain were interested in joining, and the continuing distrust of Indians resulted in a declining base in terms of quality and quantity. By 1945 Indians were numerically dominant in the ICS and at issue was loyal divided between the Empire and independence. The finances of the Raj depended on land taxes, and these became problematic in the 1930s. Epstein argues that after 1919 it became harder and harder to collect the land revenue. The Raj\\'s suppression of civil disobedience after 1934 temporarily increased the power of the revenue agents but after 1937 they were forced by the new Congress-controlled provincial governments to hand back confiscated land. Again the outbreak of war strengthened them, in the face of the Quit India movement the revenue collectors had to rely on military force and by 1946–47 direct British control was rapidly disappearing in much of the countryside.\\n\\nIn 1935, after the Round Table Conferences, Parliament passed the Government of India Act 1935, which authorised the establishment of independent legislative assemblies in all provinces of British India, the creation of a central government incorporating both the British provinces and the princely states, and the protection of Muslim minorities. The future Constitution of independent India was based on this act. However, it divided the electorate into 19 religious and social categories, e.g., Muslims, Sikhs, Indian Christians, Depressed Classes, Landholders, Commerce and Industry, Europeans, Anglo-Indians, etc., each of which was given separate representation in the Provincial Legislative Assemblies. A voter could cast a vote only for candidates in his own category.\\n\\nThe 1935 Act provided for more autonomy for Indian provinces, with the goal of cooling off nationalist sentiment. The act provided for a national parliament and an executive branch under the purview of the British government, but the rulers of the princely states managed to block its implementation. These states remained under the full control of their hereditary rulers, with no popular government. To prepare for elections Congress built up its grass roots membership from 473,000 in 1935 to 4.5million in 1939.\\n\\nIn the 1937 elections Congress won victories in seven of the eleven provinces of British India. Congress governments, with wide powers, were formed in these provinces. The widespread voter support for the Indian National Congress surprised Raj officials, who previously had seen the Congress as a small elitist body.\\n1938–1941: World War II, Muslim League\\'s Lahore Resolution.While the Muslim League was a small elite group in 1927 with only 1300members, it grew rapidly once it became an organisation that reached out to the masses, reaching 500,000members in Bengal in 1944, 200,000 in Punjab, and hundreds of thousands elsewhere. Jinnah now was well positioned to negotiate with the British from a position of power. With the outbreak of World War II in 1939, the viceroy, Lord Linlithgow, declared war on India\\'s behalf without consulting Indian leaders, leading the Congress provincial ministries to resign in protest. The Muslim League, in contrast, supported Britain in the war effort and maintained its control of the government in three major provinces, Bengal, Sind and the Punjab.\\n\\nJinnah repeatedly warned that Muslims would be unfairly treated in an independent India dominated by the Congress. On 24 March 1940 in Lahore, the League passed the \"Lahore Resolution\", demanding that, \"the areas in which the Muslims are numerically in majority as in the North-Western and Eastern zones of India should be grouped to constitute independent states in which the constituent units shall be autonomous and sovereign.\" Although there were other important national Muslim politicians such as Congress leader Ab\\'ul Kalam Azad, and influential regional Muslim politicians such as A. K. Fazlul Huq of the leftist Krishak Praja Party in Bengal, Fazl-i-Hussain of the landlord-dominated Punjab Unionist Party, and Abd al-Ghaffar Khan of the pro-Congress Khudai Khidmatgar (popularly, \"red shirts\") in the North West Frontier Province, the British, over the next six years, were to increasingly see the League as the main representative of Muslim India.\\n\\nThe Congress was secular and strongly opposed to having any religious state. It insisted there was a natural unity to India, and repeatedly blamed the British for \"divide and rule\" tactics based on prompting Muslims to think of themselves as alien from Hindus. Jinnah rejected the notion of a united India, and emphasised that religious communities were more basic than an artificial nationalism. He proclaimed the Two-Nation Theory, stating at Lahore on 23 March 1940:\\nWhile the regular Indian army in 1939 included about 220,000native troops, it expanded tenfold during the war, and small naval and air force units were created. Over twomillion Indians volunteered for military service in the British Army. They played a major role in numerous campaigns, especially in the Middle East and North Africa. Casualties were moderate (in terms of the world war), with 24,000killed; 64,000 wounded; 12,000missing (probably dead), and 60,000captured at Singapore in 1942.\\n\\nLondon paid most of the cost of the Indian Army, which had the effect of erasing India\\'s national debt; it ended the war with a surplus of £1,300million. In addition, heavy British spending on munitions produced in India (such as uniforms, rifles, machine-guns, field artillery, and ammunition) led to a rapid expansion of industrial output, such as textiles (up 16%), steel (up 18%), and chemicals (up 30%). Small warships were built, and an aircraft factory opened in Bangalore. The railway system, with 700,000 employees, was taxed to the limit as demand for transportation soared.\\n\\n1942–1945: Cripps mission, Quit India Resolution, INA.The British government sent the Cripps\\' mission in 1942 to secure Indian nationalists\\' co-operation in the war effort in exchange for a promise of independence as soon as the war ended. Top officials in Britain, most notably Prime Minister Winston Churchill, did not support the Cripps Mission and negotiations with the Congress soon broke down.\\n\\nCongress launched the Quit India Movement in July 1942 demanding the immediate withdrawal of the British from India or face nationwide civil disobedience. On 8 August the Raj arrested all national, provincial and local Congress leaders, holding tens of thousands of them until 1945. The country erupted in violent demonstrations led by students and later by peasant political groups, especially in Eastern United Provinces, Bihar, and western Bengal. The large wartime British Army presence crushed the movement in a little more than six weeks; nonetheless, a portion of the movement formed for a time an underground provisional government on the border with Nepal. In other parts of India, the movement was less spontaneous and the protest less intensive, however it lasted sporadically into the summer of 1943. It did not slow down the British war effort or recruiting for the army.\\n\\nEarlier, Subhas Chandra Bose, who had been a leader of the younger, radical, wing of the Indian National Congress in the late 1920s and 1930s, had risen to become Congress President from 1938 to 1939. However, he was ousted from the Congress in 1939 following differences with the high command, and subsequently placed under house arrest by the British before escaping from India in early 1941. He turned to Nazi Germany and Imperial Japan for help in gaining India\\'s independence by force. With Japanese support, he organised the Indian National Army, composed largely of Indian soldiers of the British Indian Army who had been captured by the Japanese in the Battle of Singapore. As the war turned against them, the Japanese came to support a number of puppet and provisional governments in the captured regions, including those in Burma, the Philippines and Vietnam, and in addition, the Provisional Government of Azad Hind, presided by Bose.\\n\\nBose\\'s effort, however, was short lived. In mid-1944 the British Army first halted and then reversed the Japanese U-Go offensive, beginning the successful part of the Burma Campaign. Bose\\'s Indian National Army largely disintegrated during the subsequent fighting in Burma, with its remaining elements surrendering with the recapture of Singapore in September 1945. Bose died in August from third degree burns received after attempting to escape in an overloaded Japanese plane which crashed in Taiwan, which many Indians believe did not happen. Although Bose was unsuccessful, he roused patriotic feelings in India.\\n\\n1946: Elections, Cabinet mission, Direct Action Day.In January 1946, a number of mutinies broke out in the armed services, starting with that of RAF servicemen frustrated with their slow repatriation to Britain. The mutinies came to a head with mutiny of the Royal Indian Navy in Bombay in February 1946, followed by others in Calcutta, Madras, and Karachi. Although the mutinies were rapidly suppressed, they had the effect of spurring the new Labour government in Britain to action, and leading to the Cabinet Mission to India led by the Secretary of State for India, Lord Pethick Lawrence, and including Sir Stafford Cripps, who had visited four years before.\\n\\nAlso in early 1946, new elections were called in India. Earlier, at the end of the war in 1945, the colonial government had announced the public trial of three senior officers of Bose\\'s defeated Indian National Army who stood accused of treason. Now as the trials began, the Congress leadership, although ambivalent towards the INA, chose to defend the accused officers. The subsequent convictions of the officers, the public outcry against the convictions, and the eventual remission of the sentences, created positive propaganda for the Congress, which only helped in the party\\'s subsequent electoral victories in eight of the eleven provinces. The negotiations between the Congress and the Muslim League, however, stumbled over the issue of the partition. Jinnah proclaimed 16 August 1946, Direct Action Day, with the stated goal of highlighting, peacefully, the demand for a Muslim homeland in British India. The following day Hindu-Muslim riots broke out in Calcutta and quickly spread throughout British India. Although the Government of India and the Congress were both shaken by the course of events, in September, a Congress-led interim government was installed, with Jawaharlal Nehru as united India\\'s prime minister.\\n\\n1947: Planning for partition.Later that year, the Labour government in Britain, its exchequer exhausted by the recently concluded World War II, and conscious that it had neither the mandate at home, the international support, nor the reliability of native forces for continuing to control an increasingly restless British India, decided to end British rule of India, and in early 1947 Britain announced its intention of transferring power no later than June 1948.\\n\\nAs independence approached, the violence between Hindus and Muslims in the provinces of Punjab and Bengal continued unabated. With the British army unprepared for the potential for increased violence, the new viceroy, Louis Mountbatten, advanced the date for the transfer of power, allowing less than six months for a mutually agreed plan for independence. In June 1947, the nationalist leaders, including Sardar Patel, Nehru and Abul Kalam Azad on behalf of the Congress, Jinnah representing the Muslim League, B. R. Ambedkar representing the Untouchable community, and Master Tara Singh representing the Sikhs, agreed to a partition of the country along religious lines in stark opposition to Gandhi\\'s views. The predominantly Hindu and Sikh areas were assigned to the new nation of India and predominantly Muslim areas to the new nation of Pakistan; the plan included a partition of the Muslim-majority provinces of Punjab and Bengal.\\n\\n1947: Violence, partition, independence.On 15 August 1947, the new Dominion of Pakistan (later Islamic Republic of Pakistan), with Muhammad Ali Jinnah as the Governor-General; and the Union of India, (later Republic of India) with Jawaharlal Nehru as the prime minister, and the viceroy, Louis Mountbatten, staying on as its first Governor General came into being; with official ceremonies taking place in Karachi on 14 August and New Delhi on 15 August. This was done so that Mountbatten could attend both ceremonies.\\n\\nThe great majority of Indians remained in place with independence, but in border areas millions of people (Muslim, Sikh, and Hindu) relocated across the newly drawn borders. In Punjab, where the new border lines divided the Sikh regions in half, there was much bloodshed; in Bengal and Bihar, where Gandhi\\'s presence assuaged communal tempers, the violence was more limited. In all, somewhere between 250,000 and 500,000 people on both sides of the new borders, among both the refugee and resident populations of the three faiths, died in the violence.\\nOther estimates of the number of deaths are as high as 1,500,000.\\n\\nIdeological impact.At independence and after the independence of India, India has maintained such central British institutions as parliamentary government, one-person, one-vote and the rule of law through nonpartisan courts. It retained as well the institutional arrangements of the Raj such as the civil services, administration of sub-divisions, universities and stock exchanges. One major change was the rejection of its former separate princely states. Metcalf shows that over the course of two centuries, British intellectuals and Indian specialists made the highest priority bringing peace, unity and good government to India. They offered many competing methods to reach the goal. For example, Cornwallis recommended turning Bengali Zamindar into the sort of English landlords that controlled local affairs in England. Munro proposed to deal directly with the peasants. Sir William Jones and the Orientalists promoted Sanskrit, while Macaulay promoted the English language. Zinkin argues that in the long-run, what matters most about the legacy of the Raj is the British political ideologies which the Indians took over after 1947, especially the belief in unity, democracy, the rule of law and a certain equality beyond caste and creed. Zinkin sees this not just in the Congress party but also among Hindu nationalists in the Bharatiya Janata Party, which specifically emphasises Hindu traditions.\\n\\nSee also.- Danish India\\n- Portuguese India\\n- Dutch India\\n- French India\\n- List of Governors-General of India\\n- Company rule in India\\n- Legislatures of British India\\n- Indian independence movement\\n- Western imperialism in Asia\\n- Interim Government of India\\n- Colonial India\\n- Glossary of the British Raj (Hindi-Urdu words)\\n- Direct colonial rule\\n\\nSurveys.- Allan, J., T. Wolseley Haig, H. H. Dodwell. The Cambridge Shorter History of India (1934) 996 pp. online; at Google\\n- Bandhu, Deep Chand. History of Indian National Congress (2003) 405pp\\n- .\\n- Coupland, Reginald. India: A Re-Statement (Oxford University Press, 1945), evaluation of the Raj, emphasising government. online edition\\n- Dodwell H. H., ed. The Cambridge History of India. Volume 6: The Indian Empire 1858–1918. With Chapters on the Development of Administration 1818–1858 (1932) 660 pp. online edition; also published as vol 5 of the Cambridge History of the British Empire\\n- Gilmour, David. The British in India: A Social History of the Raj(2018); expanded edition of The Ruling Caste: Imperial Lives in the Victorian Raj (2007) Excerpt and text search\\n- Herbertson, A.J. and O.J.R. Howarth. eds. The Oxford Survey Of The British Empire (6 vol 1914) online vol 2 on Asia pp.\\xa01–328 on India\\n- James, Lawrence. Raj: The Making and Unmaking of British India (2000)\\n- Louis, William Roger, and Judith M. Brown, eds. The Oxford History of the British Empire (5 vol 1999–2001), with numerous articles on the Raj\\n- Majumdar, R. C. ed. (1970). British paramountcy and Indian renaissance. (The history and culture of the Indian people) Bombay: Bharatiya Vidya Bhavan.\\n- Mansingh, Surjit The A to Z of India (2010), a concise historical encyclopaedia\\n- Moon, Penderel. The British Conquest and Dominion of India (2 vol. 1989) 1235pp; the fullest scholarly history of political and military events from a British top-down perspective;\\n- Panikkar, K. M. (1953). Asia and Western dominance, 1498–1945, by K.M. Panikkar. London: G. Allen and Unwin.\\n- Riddick, John F. The history of British India: a chronology (2006) excerpt and text search, covers 1599–1947\\n- Riddick, John F. Who Was Who in British India (1998), covers 1599–1947\\n- Sarkar, Sumit. Modern India, 1885–1947 (2002)\\n- Smith, Vincent A. (1958) The Oxford History of India (3rd ed.) the Raj section was written by Percival Spear\\n- Somervell, D.C. The Reign of King George V, (1936) covers Raj 1910–35 pp.\\xa080–84, 282–91, 455–64 online free\\n- .\\n- Thompson, Edward, and G.T. Garratt. Rise and Fulfilment of British Rule in India (1934) 690 pages; scholarly survey, 1599–1933 excerpt and text search\\n- Wolpert, Stanley, ed. Encyclopedia of India (4 vol. 2005) comprehensive coverage by scholars\\n\\nSpecialised topics.- Brown, Judith M. Gandhi: Prisoner of Hope (1991), scholarly biography\\n- Buckland, C.E. Dictionary of Indian Biography (1906) 495 pp. full text\\n- .\\n- .\\n- Dewey, Clive. Anglo-Indian Attitudes: The Mind of the Indian Civil Service (2003)\\n- Ewing, Ann. \"Administering India: The Indian Civil Service\", History Today, June 1982, 32#6 pp.\\xa043–48, covers 1858–1947\\n- Gilmartin, David. 1988. Empire and Islam: Punjab and the Making of Pakistan. University of California Press. 258 pages. .\\n- Gilmour, David. Curzon: Imperial Statesman (2006) excerpt and text search\\n- Gopal, Sarvepalli. British Policy in India 1858–1905 (2008)\\n- Gopal, Sarvepalli. Viceroyalty of Lord Irwin 1926–1931 (1957)\\n- .\\n- Kaminsky, Arnold P. The India Office, 1880–1910 (1986) excerpt and text search, focus on officials in London\\n- Khan, Yasmin. India At War: The Subcontinent and the Second World War (2015), wide-ranging scholarly survey excerpt; also published as Khan, Yasmin. The Raj At War: A People\\'s History Of India\\'s Second World War (2015) a major, comprehensive scholarly study\\n- Kumar, Deepak. Science and the Raj: A Study of British India (2006)\\n- Lipsett, Chaldwell. Lord Curzon in India 1898–1903 (1903) excerpt and text search 128pp\\n- MacMillan, Margaret. Women of the Raj: The Mothers, Wives, and Daughters of the British Empire in India (2007)\\n- Moore, Robin J. \"India in the 1940s\", in Robin Winks, ed. Oxford History of the British Empire: Historiography, (2001b), pp.\\xa0231–42\\n- Raghavan, Srinath. India\\'s War: World War II and the Making of Modern South Asia (2016). wide-ranging scholarly survey excerpt\\n- Read, Anthony, and David Fisher; The Proudest Day: India\\'s Long Road to Independence (W. W. Norton, 1999) online edition; detailed scholarly history of 1940–47\\n- Riddick, John F. The History of British India: A Chronology (2006) excerpt\\n- Riddick, John F. Who Was Who in British India (1998); 5000 entries excerpt\\n- .\\n- Thatcher, Mary. Respected Memsahibs: an Anthology (Hardinge Simpole, 2008)\\n- Voigt, Johannes. India in The Second World War (1988)\\n- .\\n- Wolpert, Stanley A. Jinnah of Pakistan (2005)\\n- Wolpert, Stanley A. Tilak and Gokhale: revolution and reform in the making of modern India (1962) full text online\\nEconomic history.- Anstey, Vera. The economic development of India (4th ed. 1952), 677pp; thorough scholarly coverage; focus on 20th century down to 1939\\n- Chaudhary, Latika, et al. eds. A New Economic History of Colonial India (2015)\\n- Dutt, Romesh C. The Economic History of India under early British Rule, first published 1902, 2001 edition by Routledge,\\n- Lockwood, David. The Indian Bourgeoisie: A Political History of the Indian Capitalist Class in the Early Twentieth Century (I.B. Tauris, 2012) 315 pages; focus on Indian entrepreneurs who benefited from the Raj, but ultimately sided with the Indian National Congress.\\n- Sarkar, J. (2013, reprint). Economics of British India ... Third edition. Enlarged and partly rewritten. Calcutta: M.C. Sarkar & Sons.\\nHistoriography and memory.- Durant, Will (2011, reprint). The case for India. New York: Simon and Schuster.\\n- Mantena, Rama Sundari. The Origins of Modern Historiography in India: Antiquarianism and Philology (2012)\\n- Moor-Gilbert, Bart. Writing India, 1757–1990: The Literature of British India (1996) on fiction written in English\\n- Mukherjee, Soumyen. \"Origins of Indian Nationalism: Some Questions on the Historiography of Modern India.\" Sydney Studies in Society and Culture 13 (2014). online\\n- Parkash, Jai. \"Major trends of historiography of revolutionary movement in India – Phase II.\" (PhD dissertation, Maharshi Dayanand University, 2013). online\\n- Philips, Cyril H. ed. Historians of India, Pakistan and Ceylon (1961), reviews the older scholarship\\n- Winks, Robin, ed. Historiography (1999) vol. 5 in William Roger Louis, eds. The Oxford History of the British Empire, chapters 11–15, online\\n- Winks, Robin W. The Historiography of the British Empire-Commonwealth: Trends, Interpretations and Resources (1966); this book is by a different set of authors from the previous 1999 entry online\\n- Young, Richard Fox, ed. (2009). Indian Christian Historiography from Below, from Above, and in Between India and the Indianness of Christianity: Essays on Understanding – Historical, Theological, and Bibliographical – in Honor of Robert Eric Frykenberg\\n\\nFurther reading.- Simon Report (1930) vol 1, wide-ranging survey of conditions\\n- , major primary source\\n\\nYear books and statistical records.- Indian Year-book for 1862: A review of social, intellectual, and religious progress in India and Ceylon (1863), ed. by John Murdoch online edition 1861 edition\\n- The Imperial Gazetteer of India (26 vol, 1908–31), highly detailed description of all of India in 1901. online edition\\n- Statistical abstract relating to British India, from 1895–96 to 1904–05 (London, 1906) full text online,\\n- The Cyclopedia of India: biographical, historical, administrative, commercial (1908) business history, biographies, illustrations\\n- The Indian year book: 1914 (1914) snippets\\n- The Indian Annual Register: A digest of public affairs of India regarding the nation\\'s activities in the matters, political, economic, industrial, educational, etc. during the period 1919–1947 online\\n- 1930 edition\\n- 1921 edition\\n- 1919–1947 editions'}\n",
            "{'title': 'dabu county', 'content': 'Dabu County () is a county in the east of Meizhou City, in eastern Guangdong Province, China. A center of Hakka culture, it borders Raoping County to the southeast, Fengshun County to the southwest, Meijiang District to the west, Meixian District to the west and northwest, and, in Fujian province, Yongding District to the north and northeast and Pinghe County to the east.\\n\\nAdministrative divisions.Dabu County has jurisdiction over the following towns:\\n\\n- Huliao (湖寮镇)\\n- Gaopi (高陂镇)\\n- Chayang (茶阳镇)\\n- Dama (大麻镇)\\n- Sanhe (三河镇)\\n- Yinjiang (银江镇)\\n- Guangde (光德镇)\\n- Taoyuan (桃源镇)\\n- Fenglang (枫朗镇)\\n- Dadong (大东镇)\\n- Xihe (西河镇)\\n- Qingxi (青溪镇)\\n- Zhourui (洲瑞镇)\\n- Baihou (百侯镇)\\n\\nThe administrative center of the county was originally in the ancient town of Chayang before moving to Huliao.\\n\\nExternal links.- Official website of the Dabu government\\n- Yong Mun Sen'}\n",
            "{'title': 'wimboldsley', 'content': 'Wimboldsley is a village in Cheshire, England, 2 miles south of Middlewich. The population at the 2011 census was 153.\\n\\nIn 2015, the civil parish amalgamated with Stanthorne to form Stanthorne and Wimboldsley.\\n\\nGeography.A small area in the west of the civil parish falls within the Weaver Valley Area of Special County Value. Adjacent to this area, on the eastern bank of the River Weaver, is the Site of Special Scientific Interest of Wimboldsley Wood.\\n\\nSee also.- Listed buildings in Wimboldsley\\n- Lea Hall, Wimboldsley'}\n",
            "{'title': 'first world', 'content': 'The concept of First World originated during the Cold War and included countries that were generally aligned with NATO and opposed to the Soviet Union during the Cold War. Since the collapse of the Soviet Union in 1991, the definition has instead largely shifted to any country with little political risk and a well functioning democracy, rule of law, capitalist economy, economic stability, and high standard of living. Various ways in which modern First World countries are often determined include GDP, GNP, literacy rates, life expectancy, and the Human Development Index. In common usage, as per Merriam-Webster, \"first world\" now typically refers to \"the highly developed industrialized nations often considered the westernized countries of the world\".\\n\\nHistory.After World War II, the world split into two large geopolitical blocs, separating into spheres of communism and capitalism. This led to the Cold War, during which the term First World was often used because of its political, social, and economic relevance. The term itself was first introduced in the late 1940s by the United Nations. Today, the First World is slightly outdated and has no official definition, however, it is generally thought of as the capitalist, industrial, wealthy, and developed countries. This definition includes Australia & New Zealand, the developed countries of Asia (South Korea, Taiwan, Japan, Singapore), and the wealthy countries of North America and Europe, particularly Western Europe. In contemporary society, the First World is viewed as countries that have the most advanced economies, the greatest influence, the highest standards of living, and the greatest technology. After the Cold War, these countries of the First World included member states of NATO, U.S.-aligned states, neutral countries that were developed and industrialized, and the former British Colonies that were considered developed. It can be defined succinctly as Europe, plus the richer countries of the former British Empire (USA, Canada, Australia, Singapore, New Zealand), Israel, Japan, South Korea, and Taiwan.\\nAccording to Nations Online, the member countries of NATO after the Cold War included:\\n- Belgium, Canada, Denmark, France, West Germany, Greece, Iceland, Italy, Luxembourg, the Netherlands, Norway, Portugal, Spain, Turkey, the United Kingdom, and the United States.\\nThe Western-aligned countries included:\\n- Australia, New Zealand, Israel, Japan, South Africa, South Korea, and Taiwan\\nThe neutral countries included:\\n- Austria, Finland, Ireland, Sweden, Switzerland, and Yugoslavia\\n\\nShifting in definitions.Since the end of the Cold War, the original definition of the term First World is no longer necessarily applicable. There are varying definitions of the First World; however, they follow the same idea. John D. Daniels, past president of the Academy of International Business, defines the First World to be consisting of \"high-income industrial countries\". Scholar and Professor George J. Bryjak defines the First World to be the \"modern, industrial, capitalist countries of North America and Europe\". L. Robert Kohls, former director of training for the U.S. Information Agency and the Meridian International Center in Washington, D.C., uses First World and \"fully developed\" as synonyms.\\n\\nOther indicators.Varying definitions of the term First World and the uncertainty of the term in today\\'s world leads to different indicators of First World status. In 1945, the United Nations used the terms first, second, third, and fourth worlds to define the relative wealth of nations (although popular use of the term fourth world did not come about until later). There are some references towards culture in the definition. They were defined in terms of Gross National Product (GNP), measured in U.S. dollars, along with other socio-political factors. The first world included the large industrialized, democratic (free elections, etc.) nations. The second world included modern, wealthy, industrialized nations, but they were all under communist control. Most of the rest of the world was deemed part of the third world, while the fourth world was considered to be those nations whose people were living on less than US$100 annually. If we use the term to mean high-income industrialized economies, then the World Bank classifies countries according to their GNI or gross national income per capita. The World Bank separates countries into four categories: high-income, upper-middle-income, lower-middle-income, and low-income economies. The First World is considered to be countries with high-income economies. The high-income economies are equated to mean developed and industrialized countries.\\n\\nThree World Model.The terms First World, Second World, and Third World were originally used to divide the world\\'s nations into three categories. The model did not emerge to its end state all at once. The complete overthrow of the pre–World War II status quo, known as the Cold War, left two superpowers (the United States and the Soviet Union) vying for ultimate global supremacy. They created two camps, known as blocs. These blocs formed the basis of the concepts of the First and Second Worlds.\\n\\nEarly in the Cold War era, NATO and the Warsaw Pact were created by the United States and The Soviet Union, respectively. They were also referred to as the Western Bloc and the Eastern Bloc. The circumstances of these two blocs were so different that they were essentially two worlds, however, they were not numbered first and second. The onset of the Cold War is marked by Winston Churchill\\'s famous \"Iron Curtain\" speech. In this speech, Churchill describes the division of the West and East to be so solid that it could be called an iron curtain.\\n\\nIn 1952, the French demographer Alfred Sauvy coined the term Third World in reference to the three estates in pre-revolutionary France. The first two estates being the nobility and clergy and everybody else comprising the third estate. He compared the capitalist world (i.e., First World) to the nobility and the communist world (i.e., Second World) to the clergy. Just as the third estate comprised everybody else, Sauvy called the Third World all the countries that were not in this Cold War division, i.e., the unaligned and uninvolved states in the \"East-West Conflict\". With the coining of the term Third World directly, the first two groups came to be known as the \"First World\" and \"Second World\" respectively. Here the three-world system emerged.\\n\\nHowever, Shuswap Chief George Manuel believes the Three World Model to be outdated. In his 1974 book The Fourth World: An Indian Reality, he describes the emergence of the Fourth World while coining the term. The fourth world refers to \"nations\", e.g., cultural entities and ethnic groups, of indigenous people who do not compose states in the traditional sense. Rather, they live within or across state boundaries (see First Nations). One example is the Native Americans of North America, Central America, and the Caribbean.\\n\\nPost Cold War.With the fall of the Soviet Union in 1991, the Eastern Bloc ceased to exist and with it, the perfect applicability of the term Second World. The definitions of the First World, Second World, and Third World changed slightly, yet generally describe the same concepts.\\n\\nHistoric.During the Cold War Era, the relationships between the First World, Second World and the Third World were very rigid. The First World and Second World were at constant odds with one another via the tensions between their two cores, the United States and the Soviet Union, respectively. The Cold War, by virtue of its name, was a primarily ideological struggle between the First and Second Worlds, or more specifically, the U.S. and the Soviet Union. Multiple doctrines and plans dominated Cold War dynamics including the Truman Doctrine, Marshall Plan (from the U.S) and the Molotov Plan (from the Soviet Union). The extent of the odds between the two worlds is evident in Berlin—which was then split into East and West. To stop citizens in East Berlin from having too much exposure to the capitalist West, the Soviet Union put up the Berlin Wall within the actual city.\\n\\nThe relationship between the First World and the Third World is characterized by the very definition of the Third World. Because countries of the Third World were noncommittal and non-aligned with both the First World and the Second World, they were targets for recruitment. In the quest for expanding their sphere of influence, the United States (core of the First World) tried to establish pro US regimes in the Third World. In addition, because the Soviet Union (core of the Second World) also wanted to expand, the Third World often became a site for conflict. examples include Vietnam and Korea. Success lay with the First World if at the end of the war, the country became capitalistic and democratic, and with the Second World, if the country became communist. While Vietnam as a whole was eventually communized, only the northern half of Korea remained communist. The Domino Theory largely governed United States policy regarding the Third World and their rivalry with the Second World. In light of the Domino Theory, the U.S. saw winning the proxy wars in the Third World as a measure of the \"credibility of U.S. commitments all over the world\".\\n\\nPresent.The movement of people and information largely characterizes the inter-world relationships in the present day. A majority of breakthroughs and innovation originate in Western Europe and the U.S. and later their effects permeate globally. As judged by the Wharton School of Business at the University of Pennsylvania, most of the Top 30 Innovations of the Last 30 Years were from former First World countries (e.g., the U.S. and countries in Western Europe).\\n\\nThe disparity between knowledge in the First World as compared to the Third World is evident in healthcare and medical advancements. Deaths from water-related illnesses have largely been eliminated in \"wealthier nations\", while they are still a \"major concern in the developing world\". Widely treatable diseases in the developed countries of the First World, malaria and tuberculosis needlessly claim many lives in the developing countries of the Third World. 900,000 people die from malaria each year and combating malaria accounts for 40% of health spending in many African countries.\\n\\nThe International Corporation for Assigned Names and Numbers (ICANN) announced that the first Internationalized Domain Names (IDNs) would be available at the summer of 2010. These include non-Latin domains such as Chinese, Arabic, and Russian. This is one way that the flow of information between the First and Third Worlds may become more even.\\n\\nThe movement of information and technology from the First World to various Third World countries has created a general \"aspir(ation) to First World living standards\". The Third World has lower living standards as compared to the First World. Information about the comparatively higher living standards of the First World comes through television, commercial advertisements and foreign visitors to their countries. This exposure causes two changes: a) living standards in some Third World countries rise and b) this exposure creates hopes and many from Third World countries emigrate – both legally and illegally – to these First World countries in hopes of attaining that living standard and prosperity. In fact, this emigration is the \"main contributor to the increasing populations of U.S. and Europe\". While these emigrations have greatly contributed to globalization, they have also precipitated trends like brain drain and problems with repatriation. They have also created immigration and governmental burden problems for the countries (i.e., First World) that people emigrate to.\\n\\nEnvironmental impact.Some have argued that the most important human population problem for the world is not the high rate of population increase in certain Third World countries, but rather the \"increase in total human impact\". The per-capita impact – the resources consumed and the wastes created by each person – is varied globally; the highest in the First World and the lowest in the Third World: inhabitants of the U.S., Western Europe and Japan consume 32 times as many resources and put out 32 times as much waste as those in the Third World.\\nHowever, China leads the world in total emissions, but its large population skews its per-capita statistic lower than those of more developed nations.\\n\\nAs large consumers of fossil fuels, First World countries drew attention to environmental pollution. The Kyoto Protocol is a treaty that is based on the United Nations Framework Convention on Climate Change, which was finalized in 1992 at the Earth Summit in Rio. It proposed to place the burden of protecting the climate on the United States and other First World countries. Countries that were considered to be developing, such as China and India, were not required to approve the treaty because they were more concerned that restricting emissions would further restrain their development.\\n\\nInternational relations.Until the recent past, little attention was paid to the interests of Third World countries. This is because most international relations scholars have come from the industrialized, First World nations. As more countries have continued to become more developed, the interests of the world have slowly started to shift. However, First World nations still have many more universities, professors, journals, and conferences, which has made it very difficult for Third World countries to gain legitimacy and respect with their new ideas and methods of looking at the world.\\n\\nDevelopment theory.During the Cold War, the modernization theory and development theory developed in Europe as a result of their economic, political, social, and cultural response to the management of former colonial territories. European scholars and practitioners of international politics hoped to theorize ideas and then create policies based on those ideas that would cause newly independent colonies to change into politically developed sovereign nation-states. However, most of the theorists were from the United States, and they were not interested in Third World countries achieving development by any model. They wanted those countries to develop through liberal processes of politics, economics, and socialization; that is to say, they wanted them to follow the liberal capitalist example of a so-called \"First World state\". Therefore, the modernization and development tradition consciously originated as a (mostly U.S.) alternative to the Marxist and neo-Marxist strategies promoted by the \"Second World states\" like the Soviet Union. It was used to explain how developing Third World states would naturally evolve into developed First World States, and it was partially grounded in liberal economic theory and a form of Talcott Parsons\\' sociological theory.\\n\\nGlobalization.The United Nations\\'s ESCWA has written that globalization \"is a widely-used term that can be defined in a number of different ways\". Joyce Osland from San Jose State University wrote: \"Globalization has become an increasingly controversial topic, and the growing number of protests around the world has focused more attention on the basic assumptions of globalization and its effects.\" \"Globalization is not new, though. For thousands of years, people—and, later, corporations—have been buying from and selling to each other in lands at great distances, such as through the famed Silk Road across Central Asia that connected China and Europe during the Middle Ages. Likewise, for centuries, people and corporations have invested in enterprises in other countries. In fact, many of the features of the current wave of globalization are similar to those prevailing before the outbreak of the First World War in 1914.\"\\n\\nEuropean Union.The most prominent example of globalization in the first world is the European Union (EU). The European Union is an agreement in which countries voluntarily decide to build common governmental institutions to which they delegate some individual national sovereignty so that decisions can be made democratically on a higher level of common interest for Europe as a whole. The result is a union of 28 Member States covering 4324782 km2 with roughly half a billion people. In total, the European Union produces almost a third of the world\\'s gross national product and the member states speak more than 23 languages. All of the European Union countries are joined together by a hope to promote and extend peace, democracy, cooperativeness, stability, prosperity, and the rule of law. In a 2007 speech, Benita Ferrero-Waldner, the European Commissioner for External Relations, said, \"The future of the EU is linked to globalization...the EU has a crucial role to play in making globalization work properly...\". In a 2014 speech at the European Parliament, the Italian PM Matteo Renzi stated, \"We are the ones who can bring civilization to globalization\".\\nWith the \"Brexit\" (British Exit) of the EU in 2016, the fundamental economic and motivational powerhouse of globalization in Europe was placed, once again, in the hands of Germany.\\n\\nJust as the concept of the First World came about as a result of World War II, so did the European Union. In 1951 the beginnings of the EU were founded with the creation of European Coal and Steel Community (ECSC). From the beginning of its inception, countries in the EU were judged by many standards, including economic ones. This is where the relation between globalization, the EU, and First World countries arises. Especially during the 1990s when the EU focused on economic policies such as the creation and circulation of the Euro, the creation of the European Monetary Institute, and the opening of the European Central Bank.\\n\\nIn 1993, at the Copenhagen European Council, the European Union took a decisive step towards expanding the EU, what they called the Fifth Enlargement, agreeing that \"the associated countries in Central and Eastern Europe that so desire shall become members of the European Union\". Thus, enlargement was no longer a question of if, but when and how. The European Council stated that accession could occur when the prospective country is able to assume the obligations of membership, that is that all the economic and political conditions required are attained. Furthermore, it defined the membership criteria, which are regarded as the Copenhagen criteria, as follows:\\n- stability of institutions guaranteeing democracy, the rule of law, human rights and respect for and protection of minorities\\n- the existence of a functioning market economy as well as the capacity to cope with competitive pressure and market forces within the Union\\n- the ability to take on the obligations of membership including adherence to the aims of political, economic and monetary union\\n\\nIt is clear that all these criteria are characteristics of developed countries. Therefore, there is a direct link between globalization, developed nations, and the European Union.\\n\\nMultinational corporations.A majority of multinational corporations find their origins in First World countries. After the collapse of the Soviet Union, multinational corporations proliferated as more countries focused on global trade. The series of General Agreement on Tariffs and Trade (GATT) and later the World Trade Organization (WTO) essentially ended the protectionist measures that were dissuading global trade. The eradication of these protectionist measures, while creating avenues for economic interconnection, mostly benefited developed countries, who by using their power at GATT summits, forced developing and underdeveloped countries to open their economies to Western goods.\\n\\nAs the world starts to globalize, it is accompanied by criticism of the current forms of globalization, which are feared to be overly corporate-led. As corporations become larger and multinational, their influence and interests go further accordingly. Being able to influence and own most media companies, it is hard to be able to publicly debate the notions and ideals that corporations pursue. Some choices that corporations take to make profits can affect people all over the world. Sometimes fatally.\\n\\nThe third industrial revolution is spreading from the developed world to some, but not all, parts of the developing world. To participate in this new global economy, developing countries must be seen as attractive offshore production bases for multinational corporations. To be such bases, developing countries must provide relatively well-educated workforces, good infrastructure (electricity, telecommunications, transportation), political stability, and a willingness to play by market rules.\\n\\nIf these conditions are in place, multinational corporations will transfer via their offshore subsidiaries or to their offshore suppliers, the specific production technologies and market linkages necessary to participate in the global economy. By themselves, developing countries, even if well-educated, cannot produce at the quality levels demanded in high-value-added industries and cannot market what they produce even in low-value-added industries such as textiles or shoes. Put bluntly, multinational companies possess a variety of factors that developing countries must have if they are to participate in the global economy.\\n\\nOutsourcing.Outsourcing, according to Grossman and Helpman, refers to the process of \"subcontracting an ever expanding set of activities, ranging from product design to assembly, from research and development to marketing, distribution and after-sales service\". Many companies have moved to outsourcing services in which they no longer specifically need or have the capability of handling themselves. This is due to considerations of what the companies can have more control over. Whatever companies tend to not have much control over or need to have control over will outsource activities to firms that they consider \"less competing\". According to SourcingMag.com, the process of outsourcing can take the following four phases.\\n1. strategic thinking\\n2. evaluation and selection\\n3. contract development\\n4. outsourcing management.\\n\\nOutsourcing is among some of the many reasons for increased competition within developing countries. Aside from being a reason for competition, many First World countries see outsourcing, in particular offshore outsourcing, as an opportunity for increased income. As a consequence, the skill level of production in foreign countries handling the outsourced services increases within the economy; and the skill level within the domestic developing countries can decrease. It is because of competition (including outsourcing) that Robert Feenstra and Gordon Hanson predict that there will be a rise of 15–33 percent in inequality amongst these countries.\\n\\nSee also.- Developed country\\n- Developing country\\n- Digital divide\\n- First World privilege\\n- First World problem\\n- Second World\\n- Third World\\n- Fourth World\\n- Globalization\\n- Multinational corporation\\n- National wealth\\n- North-South divide\\n- Three-world model'}\n",
            "{'title': 'lumberjack', 'content': 'Lumberjacks are mostly North American workers in the logging industry who perform the initial harvesting and transport of trees for ultimate processing into forest products. The term usually refers to a bygone era (before 1945 in the United States) when hand tools were used in harvesting trees. Because of its historical ties, the term lumberjack has become ingrained in popular culture through folklore, mass media and spectator sports. The actual work was difficult, dangerous, intermittent, low-paying, and primitive in living conditions. However, the men built a traditional culture that celebrated strength, masculinity, confrontation with danger, and resistance to modernization.\\n\\nNames.The term lumberjack is of Canadian derivation. The first attested use of the word comes from an 1831 letter to the Cobourg Star and General Advertiser in the following passage: \"my misfortunes have been brought upon me chiefly by an incorrigible, though perhaps useful, race of mortals called LUMBERJACKS, whom, however, I would name the Cossack\\'s of Upper Canada, who, having been reared among the oaks and pines of the wild forest, have never been subjected to the salutary restraint of laws.\"\\n\\nThe term lumberjack is primarily historical; logger is used by workers in the 21st century. When lumberjack is used, it usually refers to a logger from an earlier time before the advent of chainsaws, feller-bunchers and other modern logging equipment. Other terms for the occupation include woodcutter, shanty boy and the colloquial term woodhick (Pennsylvania, US).\\n\\nA logger employed in driving logs down a river was known locally in northern North America as a river pig, catty-man, river hog, or river rat. The term lumberjill has been known for a woman who does this work; for example, in Britain during World War II. In Australia, the occupation is referred to as timber cutter or cool cutters.\\n\\nHistory.Lumberjacks worked in lumber camps and often lived a migratory life, following timber harvesting jobs as they opened. Being a lumberjack was seasonal work. Lumberjacks were exclusively men. They usually lived in bunkhouses or tents. Common equipment included the axe and cross-cut saw. Lumberjacks could be found wherever there were vast forests to be harvested and a demand for wood, most likely in Scandinavia, Canada, and parts of the United States. In the U.S., many lumberjacks were of Scandinavian ancestry, continuing the family tradition. American lumberjacks were first centred in north-eastern states such as Maine. They then followed the general westward migration on the continent to the Upper Midwest, and finally the Pacific Northwest. Stewart Holbrook documented the emergence and westward migration of the classic American lumberjack in his first book, Holy Old Mackinaw: A Natural History of the American Lumberjack. He often wrote colourfully about lumberjacks in his subsequent books, romanticizing them as hard-drinking, hard-working men. Logging camps were slowly phased out between World War II and the early 1960s as crews could by then be transported to remote logging sites in motor vehicles.\\nThe division of labour in lumber camps led to several specialized jobs on logging crews, such as whistle punk, chaser, and high climber. The whistle punk\\'s job was to sound a whistle (usually at the Steam donkey) as a signal to the yarder operator controlling the movement of logs. He also had to act as a safety lookout. A good whistle punk had to be alert and think fast as the safety of the others depended on him. The high climber (also known as a tree topper) used iron climbing hooks and rope to ascend a tall tree in the landing area of the logging site, where he would chop off limbs as he climbed, chop off the top of the tree, and finally attach pulleys and rigging to the tree so it could be used as a spar so logs could be skidded into the landing. High climbers and whistle punks were both phased out in the 1960s to early 1970s when portable steel towers replaced spar trees and radio equipment replaced steam whistles for communication. The choker setters attached steel cables (or chokers) to downed logs so they could be dragged into the landing by the yarder. The chasers removed the chokers once the logs were at the landing. Choker setters and chasers were often entry-level positions on logging crews, with more experienced loggers seeking to move up to more skill-intensive positions such as yarder operator and high climber, or supervisory positions such as hook tender. Despite the common perception that all loggers cut trees, the actual felling and bucking of trees were also specialized job positions done by fallers and buckers. Faller and bucker were once two separate job titles but are now combined.\\n\\nBefore the era of modern diesel or gasoline powered equipment, the existing machinery was steam powered. Animal or steam-powered skidders could be used to haul harvested logs to nearby rail roads for shipment to sawmills. Horse driven logging wheels were a means used for moving logs out of the woods. Another way for transporting logs to sawmills was to float them down a body of water or a specially-constructed log flume. Log rolling, the art of staying on top of a floating log while \"rolling\" the log by walking, was another skill much in demand among lumberjacks. Spiked boots known as \"caulks\" or \"corks\" were used for log rolling and often worn by lumberjacks as their regular footwear.\\n\\nThe term \"skid row\", which today means a poor city neighbourhood frequented by homeless people, originated in a way in which harvested logs were once transported. Logs could be \"skidded\" down hills or along a corduroy road, and one such street in Seattle was named Skid Road. This street later became frequented by people down on their luck, and both the name and its meaning morphed into the modern term.\\nAmong the living history museums that preserve and interpret the forest industry are:\\n- BC Forest Discovery Centre, Duncan\\n- Camp Five Museum, Laona, Wisconsin\\n- The Lumberjack Steam Train, a passenger excursion train, operates as part of the museum.\\n- Central New Brunswick Woodsmen\\'s Museum, Boiestown, New Brunswick\\n- Coos County Logging Museum, Myrtle Point, Oregon\\n- Cradle of Forestry in America historic site, near Asheville, North Carolina\\n- Forest History Center, Grand Rapids, Minnesota\\n- Hartwick Pines Logging Museum, near Grayling, Michigan\\n- Lumberman\\'s Monument, near Oscoda, Michigan\\n- Maine Forest & Logging Museum, Bradley, Maine\\n- Pennsylvania Lumber Museum, near Galeton, Pennsylvania\\n- Algonquin Logging Museum in Algonquin Provincial Park, Ontario\\n\\nTie hacking.A specialty form of logging involving the felling of trees for the production of railroad ties was known as tie hacking. These lumberjacks, called tie hacks, used saws to fell trees and cut to length, and a broad-axe to flatten two or all four sides of the log to create railroad ties. Later, portable saw mills were used to cut and shape ties. Tie hacking was an important form of logging in Wyoming and northern Colorado and the remains of tie hacking camps can be found on National Forest land. The remains of flumes can be seen near Dubois, Wyoming, and Old Roach, Colorado. In addition, a decaying splash dam exists near the Old Roach site as well. There tie hacks attempted to float logs down to the Laramie River for the annual spring tie drives, and the splash dam was used to collect winter snow-melt to increase the water flow for the tie drive.\\n\\nLumberjack culture.Tomczik (2008) has investigated the lifestyle of lumberjacks from 1840 to 1940, using records from mostly Maine and Minnesota logging camps. In a period of industrial development and modernization in urban areas, logging remained a traditional business in which the workers exhibited pride in their craft, their physical strength and masculinity, and guarded their individualism. Their camps were a bastion of the traditional workplace as they defied modern rationalized management, and built a culture around masculinity. At the peak in 1906 there were 500,000 lumberjacks, who took special pride in their work. Logging camps were located in isolated areas that provided room and board as well as a workplace. With few females present other than the wives of cooks and foremen, lumberjacks lived an independent life style that emphasized manly virtues in doing dangerous tasks. Men earned praise for their skills in doing their work, for being competitive, and for being aggressive. When not at work, they played rough games, told tall tales, and won reputations for consuming large amounts of food. By 1940, the business was undergoing major changes, as access roads and automobiles ended residential logging camps, chain saws replaced crosscut saws, and managers installed modern industrial methods.\\n\\nModern logger.Modern technology changed the job of the modern logger considerably. Although the basic task of harvesting trees is still the same, the machinery and tasks are no longer the same. Many of the old job specialties on logging crews are now obsolete.\\n\\nChainsaws, harvesters, and feller bunchers are now used to cut or fell trees. The tree is turned into logs by removing the limbs (delimbing) and cutting it into logs of optimal length (bucking). The felled tree or logs are moved from the stump to the landing. Ground vehicles such as a skidder or forwarder can pull, carry, or shovel the logs. Cable systems \"cars\" can pull logs to the landing. Logs can also be flown to the landing by helicopter. Logs are commonly transported to the sawmill using trucks. Harvesting methods may include clear cutting or selective cutting. Concerns over the environmental impact have led to controversy about modern logging practices. In certain areas of forest loggers re-plant their crop for future generations.\\n\\nA recent Wall Street Journal survey on the best jobs in the United States ended by listing being a logger as the \"worst\" 3D\\'s job, citing \"work instability, poor income and pure danger\". A Bureau of Labor Statistics survey of America\\'s most dangerous jobs put loggers at the top of the list for 2004.\\n\\nLoggersports.The sport of Loggersports grew out of competitions in lumber camps aimed at determining the best woodcutters. Today these competitions are used to acknowledge the rich history of forestry and logging and to keep traditions alive.\\n\\nThe STIHL Timbersports Series was founded in 1985, and brings competitors from across the world to compete in six woodsman or wood chopping competitions. The events are broadcast worldwide on a variety of networks, including ESPN, ABC, and Eurosport.\\n\\nIn Canada, Squamish Days Loggers Sports in Squamish, British Columbia, attracts the finest competitors to its weekend festival in August each year. The event has entertainers such as Johnny Cash, who, in 1991, performed at the 5,000-seat Loggers Sports grounds during his Roadshow tour.\\n\\nThe Woodsmen\\'s Days events at Tupper Lake, New York commemorate the lumberjack with logging competitions and demonstrations during mid-July. Many colleges have woodsmen teams or forestry clubs who compete regionally, nationally, and internationally. The Association of Southern Forestry Clubs, for example, sponsors an annual Forestry Conclave with 250 contestants and a variety of events.\\n\\nThere are also lumberjack shows which tour the United States, demonstrating traditional logging practices to the general public. The annual Lumberjack World Championships have been held in Hayward, Wisconsin since 1960. Over 12,000 visitors come to the event each year in late July to watch men and women compete in 21 different events, including log rolling, chopping, timed hot (power) and bucksaw cutting, and tree climbing.\\n\\nPopular culture.In popular culture, the stereotypical lumberjack is a strong, burly, usually bearded man who lives to brave the natural environment. He is depicted wearing suspenders, a long-sleeved plaid flannel shirt, and heavy caulk boots, and is often characterized as having a voracious appetite, especially for flapjacks. He works by cutting down trees with either an axe or with the help of another lumberjack and a crosscut saw, as opposed to the modern chainsaw.\\n\\nFashion.A \"lumbersexual\" or \"urban lumberjack\" is a man who has adopted style traits typical of a traditional lumberjack, namely a beard, plaid shirt, and/or scruffy hair, substituting otherwise clean-cut and fashionable style choices. They are also often adorned by neck tattoos and \"sleeve\" tattoos, and wear large gauged piercings in their earlobes. Denver Nicks described the trend as perhaps an attempt to \"reclaim masculinity\". The term \"lumbersexual\" is a variant of the earlier \"metrosexual\", which was coined in the 1990s.\\n\\nFolklore.The most famous depiction of a lumberjack in folklore is Paul Bunyan. Several towns claim to have been Paul Bunyan\\'s home and have erected statues of Bunyan and his blue ox \"Babe\".\\n\\nKnown for their many exploits, many real life loggers have become renowned for their extraordinary strength, intuition, and knowledge of the woods. Men such as Jigger Johnson, the Maine woodsman who supposedly kicked knots off frozen logs barefooted, and Joseph Montferrand (better known as Big Joe Mufferaw), the French-Canadian known for his physical prowess and desire to protect the French-speaking logger, have been celebrated as folk heroes throughout North America, and have contributed to the mythos of the Lumberjack.\\n\\nBooks.- Blackwater Ben, 2003, by William Durbin, about a boy who gets to live with his father as a cook in a lumberjack camp\\n- Sometimes a Great Notion, 1964, by Ken Kesey (1964), about an Oregon family of gyppo loggers\\n- Lumberjack, 1974, by William Kurelek, about his days working in a logging camp.\\n- The Alphabet of Manliness, 2006, by Maddox, lists the lumberjack as one of 26 examples (each corresponding to a letter of the alphabet) of the pinnacle of manliness\\n\\nFilms.- Come and Get It, 1936 film directed by Howard Hawks and William Wyler\\n- The Howards of Virginia, 1940 film directed by Frank Lloyd\\n- Lumberjack, 1944 film directed by Lesley Selander\\n- Seven Brides for Seven Brothers, 1954 film directed by Stanley Donen\\n- Sometimes a Great Notion, 1970 film adaptation of the novel of the same name, directed by Paul Newman\\n- , 1992 animated film directed by Bill Kroyer\\n- Fargo, 1996 film directed by Joel Coen\\n- , 2009 film directed by Gavin Hood\\n\\nTelevision.The lives of loggers have been featured on the following American television series:\\n- American Loggers on the Discovery Channel\\n- Axe Men on History\\n- Here Come the Brides\\n- The Pink Panther cartoon short, Pink Campaign\\n- Wacky Races\\n- Gravity Falls\\n- Dexter\\n\\nSongs.- Lumberjacks rapidly developed their own distinctive musical culture of work songs. Many were based on traditional European folk tunes, with lyrics that reflected the lives, experiences and concerns of lumberjacks, with the themes of cutting, hauling, rolling, and driving, as well as narrative songs that involved romance.\\n- Big Joe Mufferaw, a song recorded and performed by Stompin\\' Tom Connors, one of Canada\\'s most prolific and well-known country and folk singer-songwriters, about legendary folk hero Joseph Montferrand, a French-Canadian logger. This song appears on the album Stompin\\' Tom Meets Big Joe Mufferaw (1970), on the live album Live At The Horseshoe (1971), and on the album Move Along With Stompin\\' Tom (1999).\\n- The Log Driver\\'s Waltz, a 1956 song by Wade Hemsworth on his album Folk Songs of the Canadian North Woods\\n- Lumberjack, a 1960 song by Johnny Cash on his album Ride This Train\\n- The Lumberjack, a song by Hal Willis\\n- The Lumberjack, a song featuring a chainsaw solo, by the American rock band Jackyl\\n- The Lumberjack Song, a song by Monty Python, known for its refrain: \"I\\'m a lumberjack and I\\'m okay / I sleep all night and I work all day. ...\"\\n\\nSee also.- Arborist\\n- Log boom\\n- Log scaler\\n- Log driving\\n\\nFurther reading.- Brock, Emily K. Money Trees: The Douglas Fir and American Forestry, 1900-1944 (Oregon State University Press, 2015). 272 pp.\\n- Chaney, Michael P. White Pine on the Saco River: An Oral History of River Driving in Southern Maine (University of Maine Press, 1993)\\n- Cox, Thomas R. The Lumberman\\'s Frontier: Three Centuries of Land Use, Society, and Change in America\\'s Forests  (Oregon State University Press, 2010); 560 pages; examines successive frontier regions prized for lumber rather than farming, beginning with northern New England in the 17th century\\n- Griffiths, Bus. Now You\\'re Logging, Harbour Publishing, 1978.\\n- Hayner, Norman S. \"Taming the Lumberjack,\" American Sociological Review, Vol. 10, No. 2, (April, 1945), pp.\\xa0217–225 in JSTOR, description of lifestyle\\n- Holbrook, Stewart H. Holy Old Mackinaw: A Natural History of the American Lumberjack, 1938, popular\\n- Holbrook, Stewart H. The American Lumberjack (Collier Books, 1962), popular account\\n- Karamanski, Theodore J. Deep Woods Frontier: A History of Logging in Northern Michigan (1989)\\n- Lee, David. Lumber Kings and Shantymen. Ottawa, Ontario, Canada: 2006.\\n- Lemonds, James. Deadfall: Generations of Logging in the Pacific Northwest. Missoula: Mountain Press, 2001.\\n- Mackay, Donald. \"The Canadian Logging Frontier,\" Journal of Forest History 1979 23(1): 4-17\\n- Radforth, Ian. Bushworkers and Bosses: Logging in Northern Ontario, 1900–1980 (University of Toronto Press, 1987).\\n- Robbins, William G. Lumberjacks and Legislators: Political Economy of the U.S. Lumber Industry, 1890-1941 (Texas A. & M. U. Press, 1982). 268 pp.\\n- Roberge, Earl. Timber Country. Caldwell, Idaho: Caxton Printers, 1973.\\n- Rohe, Randall E. \"The Evolution of the Great Lakes Logging Camp, 1830-1930,\" Journal of Forest History 1986 30(1): 17-28\\n- Smith, David C. A History of Lumbering in Maine, 1861–1960 (University of Maine Press, 1972)\\n- Sorden, L. G. and Vallier, Jacque. Lumberjack Lingo: A Dictionary of the Logging Era. (Ashland, Wis.: NorthWord, 1986). 288 pp.\\n- Tomczik, Adam, \"\\'He-men Could Talk to He-men in He-man Language\\'\": Lumberjack Work Culture in Maine and Minnesota, 1840–1940,\" Historian Winter 2008, Vol. 70 Issue 4, pp 697–715\\n\\nExternal links.- William Reed (Timber getter) c.1930 - photo from the Jones-Mashman Collection at Lake Macquarie Library.\\n- University of Washington Libraries: Digital Collections:\\n- Clark Kinsey Photographs Over 1000 images by commercial photographer Clark and his brother Darius Kinsey documenting the logging and milling camps and other forest related activities in Washington State, ca. 1910-1945.\\n- Industry and Occupations Photographs An ongoing and expanding collection devoted to the workers in the Pacific Northwest from 1880s-1940s. Many occupations and industries are represented including the logging and lumber industry.\\n- Man to Machine: Peninsula Logging Online museum exhibit based upon the Clark Kinsey Logging Photographs Collection and the recollections of Harry C. Hall, who worked as a logger on the Olympic Peninsula in the early 20th century. Includes a video on the Hobi family logging history (late 19th century – early 20th century).'}\n",
            "{'title': 'new guinea campaign', 'content': 'The New Guinea campaign of the Pacific War lasted from January 1942 until the end of the war in August 1945. During the initial phase in early 1942, the Empire of Japan invaded the Australian-administered territories of the New Guinea Mandate (23 January) and Papua (8 March) and overran western New Guinea (beginning 29/30 March), which was a part of the Netherlands East Indies. During the second phase, lasting from late 1942 until the Japanese surrender, the Allies—consisting primarily of Australian and US forces—cleared the Japanese first from Papua, then the Mandate and finally from the Dutch colony.\\n\\nThe campaign resulted in a crushing defeat and heavy losses for the Empire of Japan. As in most Pacific War campaigns, disease and starvation claimed more Japanese lives than enemy action. Most Japanese troops never even came into contact with Allied forces, and were instead simply cut off and subjected to an effective blockade by the US Navy. Garrisons were effectively besieged and denied shipments of food and medical supplies, and as a result, some claim that 97% of Japanese deaths in this campaign were from non-combat causes.\\n\\nAccording to John Laffin, the campaign \"was arguably the most arduous fought by any Allied troops during World War II\".\\n\\nStrategic situation.The struggle for New Guinea began with the capture by the Japanese of the city of Rabaul at the northeastern tip of New Britain Island in January 1942 (the Allies responded with multiple bombing raids, of which the Action off Bougainville was one). Rabaul overlooks Simpson Harbor, a considerable natural anchorage, and was ideal for the construction of airfields. Over the next year, the Japanese built up the area into a major air and naval base.\\n\\nThe Japanese 8th Area Army (equivalent to a Euroamerican army), under General Hitoshi Imamura at Rabaul, was responsible for both the New Guinea and Solomon Islands campaigns. The Japanese 18th Army (equivalent to a Euroamerican corps), under Lieutenant General Hatazō Adachi, was responsible for Japanese operations on mainland New Guinea.\\n\\nThe colonial capital of Port Moresby on the south coast of Papua was the strategic key for the Japanese in this area of operations. Capturing it would both neutralize the Allies\\' principal forward base and serve as a springboard for a possible invasion of Australia. For the same reasons, General Douglas MacArthur, Supreme Commander Allied Forces South West Pacific Area was determined to hold it. MacArthur was further determined to conquer all of New Guinea in his progress toward the eventual recapture of the Philippines. General Headquarters Southwest Pacific Area Operational Instruction No.7 of 25 May 1942, issued by Commander-Allied-Forces, General Douglas MacArthur, placed all Australian and US Army, Air Force and Navy Forces in the Port Moresby Area under the control of New Guinea Force.\\n\\nJapanese seizure of Lae and Salamaua.Due north of Port Moresby, on the northeast coast of Papua, are Huon Gulf and the Huon Peninsula. The Japanese entered Lae and Salamaua, two locations on Huon Gulf, unopposed in early March 1942. MacArthur would have liked to deny this area to the Japanese, but he had neither sufficient air nor naval forces to undertake a counterlanding. The Japanese at Rabaul and other bases on New Britain would have easily overwhelmed any such effort (by mid-September, MacArthur\\'s entire naval force under Vice Admiral Arthur S. Carpender consisted entirely of 5 cruisers, 8 destroyers, 20 submarines, and 7 small craft). The only Allied response was a bombing raid of Lae and Salamaua by aircraft flying over the Owen Stanley Range from the carriers and , leading the Japanese to reinforce these sites.\\n\\nJapanese attempt on Port Moresby.Operation Mo was the designation given by the Japanese to their initial plan to take possession of Port Moresby. Their operation plan decreed a five-pronged attack: one task force to establish a seaplane base at Tulagi in the lower Solomons, one to establish a seaplane base in the Louisiade Archipelago off the eastern tip of New Guinea, one of transports to land troops near Port Moresby, one with a light carrier to cover the landing, and one with two fleet carriers to sink the Allied forces sent in response. In the resulting 4–8 May 1942 Battle of the Coral Sea, the Allies suffered higher losses in ships, but achieved a crucial strategic victory by turning the Japanese landing force back, thereby removing the threat to Port Moresby, at least for the time being.\\n\\nAfter this failure, the Japanese decided on a longer term, two-pronged assault for their next attempt on Port Moresby. Forward positions would first be established at Milne Bay, located in the forked eastern end of the Papuan peninsula, and at Buna, a village on the northeast coast of Papua about halfway between Huon Gulf and Milne Bay. Simultaneous operations from these two locations, one amphibious and one overland, would converge on the target city.\\n\\nCrossing the Owen Stanleys.Buna was easily taken as the Allies had no military presence there (MacArthur wisely chose not to attempt an occupation by paratroopers since any such force would have been easily wiped out by the Japanese). The Japanese occupied the village with an initial force of 1,500 on 21 July and by 22 August had 11,430 men under arms at Buna. Then began the grueling Kokoda Track campaign, a brutal experience for both the Japanese and Australian troops involved. On 17 September, the Japanese had reached the village of Ioribaiwa, just 30 km from the Allied airdrome at Port Moresby. The Australians held firm and began their counterdrive on 26 September. \"...the Japanese retreat down the Kokoda Trail had turned into a rout. Thousands perished from starvation and disease; the commanding general, Horii, was drowned.\" Thus was the overland threat to Port Moresby permanently removed.\\n\\nAir operations.Since Port Moresby was the only port supporting operations in Papua, its defence was critical to the campaign. The air defences consisted of P-39 and P-40 fighters. RAAF radar could not provide sufficient warning of Japanese attacks, so reliance was placed on coastwatchers and spotters in the hills until an American radar unit arrived in September with better equipment. Japanese bombers were often escorted by fighters which came in at 30000 ft—too high to be intercepted by the P-39s and P-40s—giving the Japanese an altitude advantage in air combat. The cost to the Allied fighters was high. By 20 June, 25 P-39s had been lost in air combat, while three more had been destroyed on the ground and eight had been destroyed in landings by accident. The Australian and American anti-aircraft gunners of the Composite Anti-Aircraft Defences played a crucial part. The gunners got a lot of practice; Port Moresby suffered its 78th raid on 17 August 1942. A gradual improvement in their numbers and skill forced the Japanese bombers up to higher altitude, where they were less accurate, and then, in August, to raiding by night.\\n\\nAlthough RAAF PBY Catalinas and Lockheed Hudsons were based at Port Moresby, because of the Japanese air attacks, long-range bombers like B-17s, B-25s, and B-26s could not be safely based there and were instead staged through from bases in Australia. This resulted in considerable fatigue for the air crews. Due to USAAF doctrine and a lack of long-range escorts, long-range bomber raids on targets like Rabaul went in unescorted and suffered heavy losses, prompting severe criticism of Lieutenant General George Brett by war correspondents for misusing his forces. But fighters did provide cover for the transports, and for bombers when their targets were within range. Aircraft based at Port Moresby and Milne Bay fought to prevent the Japanese from basing aircraft at Buna, and attempted to prevent the Japanese reinforcement of the Buna area. As the Japanese ground forces pressed toward Port Moresby, the Allied Air Forces struck supply points along the Kokoda Track. Japanese makeshift bridges were attacked by P-40s with 500 lb bombs.\\n\\nAllied capture of Milne Bay.While it was beyond MacArthur\\'s capabilities to deny Buna to the Japanese, the same could not be said of Milne Bay, which was easily accessible by Allied naval forces. In early June, US Army engineers, Australian infantry and an anti-aircraft battery were landed near the Lever Brothers coconut plantation at Gili Gili, and work was begun on an airfield. By 22 August, about 8,500 Australians and 1,300 Americans were on site. The Japanese arrived and the 25 August – 7 September Battle of Milne Bay was underway. Historian Samuel Eliot Morison summed up the results this way:\\n\\nThe D\\'Entrecasteaux Islands lie directly off the northeast coast of the lower portion of the Papuan peninsula. The westernmost island of this group, Goodenough, had been occupied in August 1942 by 353 stranded troops from bombed Japanese landing craft. The destroyer Yayoi, sent to recover these men, was itself bombed and sunk on 11 September. A force of 800 Australian troops landed on 22 October on either side of the Japanese position. Beleaguered, the survivors of the Japanese garrison were evacuated by submarine on the night of 26 October. The Allies proceeded to turn the island into an air base.\\n\\nAllied recapture of Buna and Gona.The Japanese drive to conquer all of New Guinea had been decisively stopped. MacArthur was now determined to liberate the island as a stepping-stone to the reconquest of the Philippines. MacArthur\\'s rollback began with the 16 November 1942 – 22 January 1943 Battle of Buna-Gona. The experience of the green US 32nd Infantry Division, just out of training camp and utterly unschooled in jungle warfare, was nearly disastrous. Instances were noted of officers completely out of their depth, of men eating meals when they should have been on the firing line, even of cowardice. MacArthur relieved the division commander and on 30 November instructed Lieutenant General Robert L. Eichelberger, commander of the US I Corps, to go to the front personally with the charge \"to remove all officers who won\\'t fight ... if necessary, put sergeants in charge of battalions ... I want you to take Buna, or not come back alive.\"\\n\\nThe Australian 7th Division under the command of Major General George Alan Vasey, along with the revitalized US 32nd Division, restarted the Allied offensive. Gona fell to the Australians on 9 December 1942, Buna to the US 32nd on 2 January 1943, and Sanananda, located between the two larger villages, fell to the Australians on 22 January.\\n\\nOperation Lilliput (18 December 1942 – June 1943) was an ongoing resupply operation ferrying troops and supplies from Milne Bay, at the tip of the Papuan Peninsula, to Oro Bay, a little more than halfway between Milne Bay and the Buna-Gona area.\\n\\nHolding Wau.Wau is a village in the interior of the Papuan peninsula, approximately 50 km southwest of Salamaua. An airfield had been built there during an area gold rush in the 1920s and 1930s. This airfield was of great value to the Australians during the fighting for northeast Papua.\\n\\nOnce the Japanese had decided to give up on Guadalcanal, the capture of Port Moresby loomed even larger in their strategic thinking. Taking the airfield at Wau was a crucial step in this process, and to this end, the 51st Division was transferred from Indochina and placed under General Hitoshi Imamura\\'s Eighth Area Army at Rabaul; one regiment arrived at Lae in early January 1943. In addition, about 5,400 survivors of the Japanese defeat at Buna-Gona were moved into the Lae-Salamaua area. Opposing these forces were the Australian 2/5th, 2/6th and 2/7th Battalions along with Lieutenant Colonel Norman Fleay\\'s Kanga Force.\\n\\nThe Australians decisively turned back the Japanese assault in the ensuing 29–31 January 1943 Battle of Wau. \"Within a few days, the enemy was retreating from the Wau Valley, where he had suffered a serious defeat, harassed all the way back to Mubo...\" About one week later, the Japanese completed their evacuation of Guadalcanal.\\n\\nFinal Japanese drive on Wau.General Imamura and his naval counterpart at Rabaul, Admiral Jinichi Kusaka, commander Southeast Area Fleet, resolved to reinforce their ground forces at Lae for one final all-out attempt against Wau. If the transports succeeded in staying behind a weather front and were protected the whole way by fighters from the various airfields surrounding the Bismarck Sea, they might make it to Lae with an acceptable level of loss, i.e., at worst half the task force would be sunk en route. It is indicative of the extent to which Japanese ambitions had fallen at this point in the war that a 50% loss of ground troops aboard ship was considered acceptable.\\n\\nThree factors conspired to create disaster for the Japanese. First, they had woefully underestimated the strength of the Allied air forces. Second, the Allies had become convinced that the Japanese were preparing a major seaborne reinforcement and so had stepped up their air searches. Most important of all, the bombers of MacArthur\\'s air forces, under the command of Lieutenant General George C. Kenney, had been modified to enable new offensive tactics. Their noses had been refitted with eight 50-caliber machine guns for strafing slow-moving ships on the high seas. In addition, their bomb bays were filled with 500-pound bombs to be used in the newly devised practice of skip bombing.\\n\\nAbout 6,900 troops aboard eight transports, escorted by eight destroyers, departed Rabaul at midnight 28 February under the command of Rear Admiral Masatomi Kimura. Through the afternoon of 1 March, the overcast weather held at which point everything began to go wrong for the Japanese. The weather changed direction and Kimura\\'s slow-moving task force was spotted by an Allied scout plane. By the time the Allied bombers and PT boats finished their work on 3 March, Kimura had lost all eight transports and four of his eight destroyers.\\n\\nThe remaining destroyers with about 2,700 surviving troops limped back to Rabaul. \"The enemy never again risked a transport larger than a small coaster or barge in waters shadowed by American planes. His contemplated offensive against Wau died a-borning.\"\\n\\nOperation I-Go.Fleet Admiral Isoroku Yamamoto promised the emperor that he would pay back the Allies for the disaster at the Bismarck Sea with a series of massive air strikes. For this, he ordered the air arm of Vice Admiral Jisaburo Ozawa\\'s Third Fleet carriers to reinforce the Eleventh Air Fleet at Rabaul. To demonstrate the seriousness of the effort to the Supreme War Council, multiple shifts of high-ranking personnel were also effected: Both Yamamoto and Ozawa moved their headquarters to Rabaul; and Eighth Fleet commander Vice Admiral Gunichi Mikawa as well as General Imamura\\'s chief of staff were sent to Tokyo with advice and explanations for the respective General Staffs (Admiral Tomoshige Samejima replaced Mikawa as Eight Fleet commander).\\n\\nI-Go was to be carried out in two phases, one against the lower Solomons and one against Papua.\\nThe first strike, on 7 April, was against Allied shipping in the waters between Guadalcanal and Tulagi. At 177 planes, this was the largest Japanese air attack since Pearl Harbor. Yamamoto then turned his attention to New Guinea: 94 planes struck Oro Bay on 11 April; 174 planes hit Port Moresby on 12 April; and in the largest raid of all, 188 aircraft struck Milne Bay on 14 April.\\n\\nI-Go demonstrated that the Japanese command was not learning the lessons of air power that the Allies were. The Allied reduction of Rabaul was only made possible by relentless air strikes that took place day after day, but Yamamoto thought the damage inflicted by a few attacks of large formations would derail Allied plans long enough for Japan to prepare a defense in depth. Also, Yamamoto accepted at face value his fliers\\' over-optimistic reports of damage: they reported a score of one cruiser, two destroyers and 25 transports, as well as 175 Allied planes, a figure that should certainly have aroused some skepticism. Actual Allied losses amounted to one destroyer, one oiler, one corvette, two cargo ships and approximately 25 aircraft. These meager results were not commensurate with either the resources expended or the expectations that had been promoted.\\n\\nAllied strategy toward Rabaul.The umbrella term for the series of strategic actions taken by the Allies to reduce and capture the vast Japanese naval and air facilities at Rabaul was Operation Cartwheel. Two major moves were planned for the end of June:\\n- Turner\\'s III \\'Phib undertook Operation Toenails, the invasion of the New Georgia Islands halfway up the Solomons chain (30 June – 7 October 1943).\\n- Barbey\\'s VII \\'Phib carried out two almost simultaneous undertakings. Operation Chronicle, the capture of the Trobriand Islands between Papua and the Solomons (22 – 30 June 1943), and the landing of a combined American/Australian force at Nassau Bay on the Papuan coast just south of Huon Gulf (30 June – 6 July 1943).\\n\\nEventually, the Joint Chiefs of Staff realized that a landing and siege of \"Fortress Rabaul\" would be far too costly, and that the Allies\\' ultimate strategic purposes could be achieved by simply neutralizing and bypassing it. At the Quebec Conference in August 1943, the leaders of the Allied nations agreed to this change in strategy.\\n\\n- Salamaua-Lae campaign (22 April – 16 Sep 1943)\\n- Landing at Nassau Bay\\n- First Battle of Mubo\\n- First Battle of Bobdubi\\n- Battle of Lababia Ridge\\n- Second Battle of Bobdubi\\n- Second Battle of Mubo\\n- Battle of Roosevelt Ridge\\n- Battle of Mount Tambu\\n- Operation Postern\\n- Landing at Lae\\n- Landing at Nadzab\\n- Bombing of Wewak (17–21 August 1943)\\n- Finisterre Range campaign (1943–1944)\\n- Battle of Kaiapit\\n- Battle of Dumpu\\n- Battle of John\\'s Knoll–Trevor\\'s Ridge\\n- Battle of The Pimple\\n- Battle of Shaggy Ridge\\n- Battle of Madang\\n- Huon Peninsula campaign (22 September 1943 – 1 March 1944)\\n- Battle of Scarlet Beach\\n- Battle of Finschhafen\\n- Battle of Sattelberg\\n- Battle of Jivevaneng\\n- Battle of Wareo\\n- Battle of Sio\\n- Landing at Saidor\\n- Bombing of Rabaul (November 1943)\\n- Bougainville campaign (1 November 1943 – 21 August 1945)\\n- New Britain campaign (15 December 1943 – 21 August 1945)\\n\\n1944–1945.- Admiralty Islands campaign (1944)\\n- Western New Guinea campaign (1944–1945)\\n- Operations Reckless and Persecution\\n- Landing at Aitape\\n- Landing at Hollandia\\n- Battle of Wakde\\n- Battle of Lone Tree Hill (1944)\\n- Battle of Morotai\\n- Battle of Biak\\n- Battle of Noemfoor\\n- Battle of Driniumor River\\n- Battle of Sansapor\\n- Aitape–Wewak campaign\\n\\n\\n\\nExternal links.- Translation of the official record by the Japanese Demobilization Bureaux detailing the Imperial Japanese Army and Navy\\'s participation in the Southwest Pacific area of the Pacific War.\\n- National Archive Video of Hollandia Bay, New Guinea Invasion'}\n",
            "{'title': 'manitoulin island', 'content': 'Manitoulin Island is an island in Lake Huron in Laurentia. It is located within the borders of the Canadian province of Ontario. With an area of 2,766 km2, it is the largest fresh water island in the world, large enough that it has over 100 inland lakes itself. In addition to the historic Anishinaabe and European settlement of the island, archeological discoveries at Sheguiandah have demonstrated Paleo-Indian and Archaic cultures dating from 10,000 BC to 2,000 BC.\\n\\nThe current name of the island is the English version, via French, of the historic Odawa name Manidoowaaling, which means \"cave of the spirit\". It was named for an underwater cave where a powerful spirit was said to live. By the 19th century, the Odawa \"l\" was pronounced as \"n\". The same word with a newer pronunciation is used for the town Manitowaning (19th-century Odawa \"Manidoowaaning\"), which is located on Manitoulin Island near the underwater cave where legend has it that the spirit dwells. The modern Odawa name for Manitoulin Island is Mnidoo Mnis, meaning \"Spirit Island\".\\n\\nManitoulin Island contains a number of lakes of its own. In order of size, its three most prominent lakes are Lake Manitou, Lake Kagawong and Lake Mindemoya. These three lakes in turn have islands within them, the largest of these being Lake Mindemoya\\'s 82 acre Treasure Island, located in the centre of Manitoulin.\\n\\nThe island is the site of the administrative office of the Sheshegwaning First Nations band government.\\n\\nGeography and geology. The island has an area of 2,766 km2, making it the largest freshwater island in the world, the 174th largest island in the world and Canada\\'s 31st largest island.\\n\\nThe island separates the larger part of Lake Huron to its south and west from Georgian Bay to its east and the North Channel to the north.\\n\\nManitoulin Island itself has 108 freshwater lakes, some of which have their own islands; in turn several of these \"islands within islands\" have their own ponds. Lake Manitou, at 104 km2, is the largest lake in a freshwater island in the world, and Treasure Island in Lake Mindemoya is the largest island in a lake on an island in a lake in the world. Motors are prohibited on boats on Nameless Lake.\\n\\nThe island also has four major rivers: the Kagawong, Manitou River, Blue Jay Creek in Michael\\'s Bay and Mindemoya rivers, which provide spawning grounds for salmon and trout.\\n\\nThe Manitoulin Streams Improvement Association was formed in 2000 and incorporated in 2007. The organization rehabilitates streams, rivers and creeks on Manitoulin Island to improve water quality and the fisheries resource. The Manitoulin Streams Improvement Association has conducted enhancement strategies for the Manitou River and Blue Jay Creek. The association has rehabilitated 17 major sites on the Manitou River and three major sites on Blue Jay Creek; it has completed work on Bass Lake Creek and Norton\\'s Creek. The organization plans to start work on the Mindemoya River in 2010.\\n\\nAlthough culturally and politically considered part of Northern Ontario, the island is physiographically part of Southern Ontario, an \"eastward extension of the Interior Plains, a region characterized by low relief and sedimentary underpinnings\". The island consists mainly of dolomite as it is a continuation of the Bruce Peninsula and Niagara Escarpment. This geological rock formation runs south into Niagara Falls and continues into New York. The \"Cup and Saucer Trail\", which climbs the escarpment, provides a lookout over the island.\\n\\nCulture.The island has two incorporated towns (Northeastern Manitoulin and the Islands and Gore Bay), eight townships (Assiginack, Billings, Burpee and Mills, Central Manitoulin, Dawson, Gordon/Barrie Island, Robinson and Tehkummah) and six Anishinaabe reserves (M\\'Chigeeng, Sheguiandah, Sheshegwaning, Aundeck Omni Kaning, Wiikwemkoong and Zhiibaahaasing.)\\nDuring the summer, the population (12,600 permanent residents) on the island grows by more than a quarter due to tourists coming for boating and other activities in scenic surroundings. The island, along with several smaller neighbouring islands, constitutes the Manitoulin District census division of Ontario.\\n\\nYear-round motor-vehicle access to the island is available via the one-lane Little Current Swing Bridge, which crosses the North Channel at Little Current. From late May to early October, a daily passenger-vehicle ferry, the (Ojibwe for \"Big Canoe\"), travels between Tobermory on the tip of the Bruce Peninsula and South Baymouth. Winter ice prevents ferry service during that season.\\n\\nManitoulin Island\\'s soil is relatively alkaline, which precludes the growth of common Northern Ontario flora such as blueberries, but allows for the island\\'s trademark hawberries. These berries are so distinctive that people born on the island are referred to as \"Haweaters\". Each year on the August long weekend, the island hosts the Haweater Festival. The festival attracts numerous tourists; it features parades, firework shows, craft shows, and rural competitions such as horse pulls.\\n\\nDemographics., the population was 13,255.\\n\\nEthnic groups\\n- 59% White (European-Canadian)\\n- 40.6% Aboriginal (First Nations)\\n- 0.4% Black (African-Canadian)\\n\\nReligious groups\\n- 42.3% Protestant\\n- 37.3% Roman Catholic\\n- 2.7% other Christian\\n- 17.7% other/none\\n\\nThe most common first languages on Manitoulin Island in 2016 were English (80.8%), Ojibwe (11.2%), French (2.8%), German (0.8%), and Odawa (0.8%). \\n\\nHistory.In 1952 archeologist Thomas E. Lee discovered Sheguiandah on the island, a prehistoric site. During excavation, he found artifacts of the Paleo-Indian and Archaic periods, dating at least to 10,000 BC and possibly to 30,000 years ago. Additional studies were undertaken by a team he led from the National Museum of Canada in succeeding years. Popular interest in the finds was so high that it contributed to Ontario\\'s passing legislation in 1953 to protect its archeological sites.\\n\\nA team performed excavations again in the early 1990s, applying new methods of analysis from botany and other scientific disciplines. They concluded the site was at least 9500 years old, making it one of the most significant in Ontario.\\n\\nManitoulin means spirit island in Anishinaabemowin (Ojibwe language). The island is considered sacred by the Native Anishinaabe people, who identify as the \"People of the Three Fires.\" This loose confederation is made up of the Ojibwe, Odawa and Potawatomi tribes.\\n\\nThe North Channel was part of the route used by the French colonial voyageurs and coureurs des bois to reach Lake Superior. The first known European to settle on the island was Father Joseph Poncet, a French Jesuit, who set up a mission near Wiikwemkoong in 1648. The Jesuits called the island \"Isle de Ste-Marie\". The endemic Eurasian infectious diseases carried by the visitors had a devastating effect on the island\\'s population, as most Natives had no natural immunity to the new diseases. They suffered so many deaths in the ensuing epidemics of smallpox, measles and other diseases, that their societies were disrupted.\\n\\nIn addition, the Five Nations of the Iroquois began raiding the island and area to try to control the fur trade with the French. As part of what was called the Beaver Wars, the Iroquois drove the Anishinaabe people from the island by 1650. According to Anishinaabe oral tradition, to purify the island from disease, the people burned their settlements as they left. The island was mostly uninhabited for nearly 150 years.\\n\\nNative people (Odawa, Ojibwe, Potawatomi) began to return to the island following the War of 1812 between Britain and the United States. They ceded the island to the British Crown in 1836; the government set aside the land as a refuge for Natives. In 1838 Jean-Baptiste Proulx re-established a Roman Catholic mission. The Jesuits took over the mission in 1845.\\n\\nIn 1862, the government opened up the island to settlement by non-Native people by the Manitoulin Island treaty. As the Wikwemikong chief did not accept this treaty, his people\\'s reserve was held back from being offered for development. That reserve remains unceded. On August 7, 1975 the Wikwemikong Unceded Indian Reserve reasserted their claim to sovereignty over the islands off the east end of Manitoulin Island, declaring, \"Wikwemikong Band has jurisdiction over its reservation lands and surrounding waters.\" \\n\\nThe province erected an Ontario Historical Plaque on the grounds of the Assiginack Museum to commemorate the Manitoulin Treaties\\' role in Ontario\\'s history.\\n\\nNotable residents.- Daphne Odjig, artist, born and raised on the Wiikwemkoong Unceded Reserve.\\n- Kevin Closs, independent rock recording artist raised in Manitowaning.\\n- Crystal Shawanda, country music artist from Wiikwemkoong.\\n- Isabel Paterson, writer born on Manitoulin Island.\\n- Carl Beam, Canadian artist of Native ancestry.\\n- Lucky Thompson, Jazz saxophone player.\\n- Autumn Peltier, water protector.\\n\\nPlaces to visit.- Bridal Veil Falls\\n- Providence Bay Beach\\n- Mishibinijima Private Art Gallery\\n- 10 Mile Point Lookout\\n- Cup and Saucer Trail\\n- Little Current Harbour and Boardwalk\\n- Great Spirit Circle Trail\\n- Little Current Iron Swing Bridge\\n\\nExternal links.- Manitoulin Tourism Information\\n- Manitoulin, an essay about Ojibway Indians and Lumbermen by Harold Nelson Burden (1895)'}\n"
          ]
        }
      ]
    },
    {
      "cell_type": "markdown",
      "source": [
        "## Geração dos segmentos\n",
        "\n",
        "Quebra de cada artigo em 3 sentenças. \n",
        "\n",
        "Referência: https://github.com/neuralmind-ai/visconde/blob/main/iirc_create_indices.ipynb"
      ],
      "metadata": {
        "id": "ug8X34gusMOs"
      }
    },
    {
      "cell_type": "code",
      "source": [
        "%%time\n",
        "\n",
        "nlp = spacy.blank(\"en\")\n",
        "nlp.add_pipe(\"sentencizer\")\n",
        "\n",
        "stride = 2\n",
        "max_length = 3\n",
        "\n",
        "def window(documents, stride=2, max_length=3):\n",
        "  treated_documents = []\n",
        "\n",
        "  for j, document in enumerate(tqdm(documents)):\n",
        "    doc_text = document['content']\n",
        "    doc = nlp(doc_text)\n",
        "    sentences = [sent.text.strip() for sent in doc.sents]\n",
        "    for i in range(0, len(sentences), stride):\n",
        "      segment = ' '.join(sentences[i:i + max_length])\n",
        "      treated_documents.append({\n",
        "          \"title\": document['title'],\n",
        "          \"contents\": document['title']+\". \"+segment,\n",
        "          \"segment\": segment\n",
        "      })\n",
        "      if i + max_length >= len(sentences):\n",
        "        break\n",
        "  return treated_documents\n",
        "\n",
        "segmented_articles = window(adjusted_articles)\n",
        "len(segmented_articles)"
      ],
      "metadata": {
        "id": "IXkYhE6Hm8Oy",
        "colab": {
          "base_uri": "https://localhost:8080/"
        },
        "outputId": "e3ab4a3f-c73a-4d68-cb80-944c58c3e89e"
      },
      "execution_count": 22,
      "outputs": [
        {
          "output_type": "stream",
          "name": "stderr",
          "text": [
            "100%|██████████| 56550/56550 [08:11<00:00, 115.00it/s]"
          ]
        },
        {
          "output_type": "stream",
          "name": "stdout",
          "text": [
            "CPU times: user 8min 8s, sys: 4.76 s, total: 8min 13s\n",
            "Wall time: 8min 11s\n"
          ]
        },
        {
          "output_type": "stream",
          "name": "stderr",
          "text": [
            "\n"
          ]
        },
        {
          "output_type": "execute_result",
          "data": {
            "text/plain": [
              "3121678"
            ]
          },
          "metadata": {},
          "execution_count": 22
        }
      ]
    },
    {
      "cell_type": "code",
      "source": [
        "segmented_articles[0:2]"
      ],
      "metadata": {
        "id": "jefnipObqsVB",
        "colab": {
          "base_uri": "https://localhost:8080/"
        },
        "outputId": "cf9da35f-2a8d-4a9b-b2db-2d44d370192b"
      },
      "execution_count": 23,
      "outputs": [
        {
          "output_type": "execute_result",
          "data": {
            "text/plain": [
              "[{'title': 'san diego padres',\n",
              "  'contents': 'san diego padres. The San Diego Padres are an American professional baseball team based in San Diego, California. They compete in Major League Baseball (MLB) as a member club of the National League (NL) West division. Founded in 1969, the Padres have won two NL pennants — in 1984 and 1998, losing in the World Series both years.',\n",
              "  'segment': 'The San Diego Padres are an American professional baseball team based in San Diego, California. They compete in Major League Baseball (MLB) as a member club of the National League (NL) West division. Founded in 1969, the Padres have won two NL pennants — in 1984 and 1998, losing in the World Series both years.'},\n",
              " {'title': 'san diego padres',\n",
              "  'contents': 'san diego padres. Founded in 1969, the Padres have won two NL pennants — in 1984 and 1998, losing in the World Series both years. As of 2018, they have had 14 winning seasons in franchise history. The Padres are one of two Major League Baseball teams (the other being the Los Angeles Angels) in California to originate from that state; the Athletics were originally from Philadelphia (and moved to the state from Kansas City), and the Dodgers and Giants are originally from two New York City boroughs – Brooklyn and Manhattan, respectively.',\n",
              "  'segment': 'Founded in 1969, the Padres have won two NL pennants — in 1984 and 1998, losing in the World Series both years. As of 2018, they have had 14 winning seasons in franchise history. The Padres are one of two Major League Baseball teams (the other being the Los Angeles Angels) in California to originate from that state; the Athletics were originally from Philadelphia (and moved to the state from Kansas City), and the Dodgers and Giants are originally from two New York City boroughs – Brooklyn and Manhattan, respectively.'}]"
            ]
          },
          "metadata": {},
          "execution_count": 23
        }
      ]
    },
    {
      "cell_type": "code",
      "source": [
        "with open(dir_sentences + '/segmented_articles.jsonl', 'w') as f:\n",
        "    for i, doc in enumerate(segmented_articles):\n",
        "        doc['id'] = i\n",
        "        if doc['segment'] != \"\":\n",
        "            f.write(json.dumps(doc)+\"\\n\")"
      ],
      "metadata": {
        "id": "Pa5RBW6SpVyQ"
      },
      "execution_count": 24,
      "outputs": []
    },
    {
      "cell_type": "markdown",
      "source": [
        "# Busca BM25"
      ],
      "metadata": {
        "id": "71VUDOGd7vOr"
      }
    },
    {
      "cell_type": "markdown",
      "source": [
        "## Indexação"
      ],
      "metadata": {
        "id": "Zep59CsKsi93"
      }
    },
    {
      "cell_type": "code",
      "source": [
        "%%time\n",
        "\n",
        "!python3 -m pyserini.index \\\n",
        "    -collection JsonCollection \\\n",
        "    -generator DefaultLuceneDocumentGenerator \\\n",
        "    -threads 1 \\\n",
        "    -input {dir_sentences} \\\n",
        "    -index {dir_indexes} "
      ],
      "metadata": {
        "id": "qS-NmYnaq4PJ",
        "colab": {
          "base_uri": "https://localhost:8080/"
        },
        "outputId": "85cc11f2-411d-41fe-fa1f-27b493e428ee"
      },
      "execution_count": 25,
      "outputs": [
        {
          "output_type": "stream",
          "name": "stdout",
          "text": [
            "pyserini.index is deprecated, please use pyserini.index.lucene.\n",
            "WARNING: sun.reflect.Reflection.getCallerClass is not supported. This will impact performance.\n",
            "2023-05-18 00:00:03,259 INFO  [main] index.IndexCollection (IndexCollection.java:380) - Setting log level to INFO\n",
            "2023-05-18 00:00:03,261 INFO  [main] index.IndexCollection (IndexCollection.java:383) - Starting indexer...\n",
            "2023-05-18 00:00:03,261 INFO  [main] index.IndexCollection (IndexCollection.java:384) - ============ Loading Parameters ============\n",
            "2023-05-18 00:00:03,262 INFO  [main] index.IndexCollection (IndexCollection.java:385) - DocumentCollection path: sentences\n",
            "2023-05-18 00:00:03,262 INFO  [main] index.IndexCollection (IndexCollection.java:386) - CollectionClass: JsonCollection\n",
            "2023-05-18 00:00:03,262 INFO  [main] index.IndexCollection (IndexCollection.java:387) - Generator: DefaultLuceneDocumentGenerator\n",
            "2023-05-18 00:00:03,262 INFO  [main] index.IndexCollection (IndexCollection.java:388) - Threads: 1\n",
            "2023-05-18 00:00:03,263 INFO  [main] index.IndexCollection (IndexCollection.java:389) - Language: en\n",
            "2023-05-18 00:00:03,263 INFO  [main] index.IndexCollection (IndexCollection.java:390) - Stemmer: porter\n",
            "2023-05-18 00:00:03,263 INFO  [main] index.IndexCollection (IndexCollection.java:391) - Keep stopwords? false\n",
            "2023-05-18 00:00:03,264 INFO  [main] index.IndexCollection (IndexCollection.java:392) - Stopwords: null\n",
            "2023-05-18 00:00:03,264 INFO  [main] index.IndexCollection (IndexCollection.java:393) - Store positions? false\n",
            "2023-05-18 00:00:03,264 INFO  [main] index.IndexCollection (IndexCollection.java:394) - Store docvectors? false\n",
            "2023-05-18 00:00:03,264 INFO  [main] index.IndexCollection (IndexCollection.java:395) - Store document \"contents\" field? false\n",
            "2023-05-18 00:00:03,265 INFO  [main] index.IndexCollection (IndexCollection.java:396) - Store document \"raw\" field? false\n",
            "2023-05-18 00:00:03,265 INFO  [main] index.IndexCollection (IndexCollection.java:397) - Additional fields to index: []\n",
            "2023-05-18 00:00:03,265 INFO  [main] index.IndexCollection (IndexCollection.java:398) - Optimize (merge segments)? false\n",
            "2023-05-18 00:00:03,265 INFO  [main] index.IndexCollection (IndexCollection.java:399) - Whitelist: null\n",
            "2023-05-18 00:00:03,265 INFO  [main] index.IndexCollection (IndexCollection.java:400) - Pretokenized?: false\n",
            "2023-05-18 00:00:03,266 INFO  [main] index.IndexCollection (IndexCollection.java:401) - Index path: indexes\n",
            "2023-05-18 00:00:03,268 INFO  [main] index.IndexCollection (IndexCollection.java:481) - ============ Indexing Collection ============\n",
            "2023-05-18 00:00:03,279 INFO  [main] index.IndexCollection (IndexCollection.java:468) - Using DefaultEnglishAnalyzer\n",
            "2023-05-18 00:00:03,279 INFO  [main] index.IndexCollection (IndexCollection.java:469) - Stemmer: porter\n",
            "2023-05-18 00:00:03,280 INFO  [main] index.IndexCollection (IndexCollection.java:470) - Keep stopwords? false\n",
            "2023-05-18 00:00:03,280 INFO  [main] index.IndexCollection (IndexCollection.java:471) - Stopwords file: null\n",
            "2023-05-18 00:00:03,397 INFO  [main] index.IndexCollection (IndexCollection.java:510) - Thread pool with 1 threads initialized.\n",
            "2023-05-18 00:00:03,398 INFO  [main] index.IndexCollection (IndexCollection.java:512) - Initializing collection in sentences\n",
            "2023-05-18 00:00:03,399 INFO  [main] index.IndexCollection (IndexCollection.java:521) - 1 file found\n",
            "2023-05-18 00:00:03,400 INFO  [main] index.IndexCollection (IndexCollection.java:522) - Starting to index...\n",
            "2023-05-18 00:01:03,405 INFO  [main] index.IndexCollection (IndexCollection.java:534) - 1,540,000 documents indexed\n",
            "2023-05-18 00:02:03,406 INFO  [main] index.IndexCollection (IndexCollection.java:534) - 3,090,000 documents indexed\n",
            "2023-05-18 00:02:04,406 DEBUG [pool-2-thread-1] index.IndexCollection$LocalIndexerThread (IndexCollection.java:345) - sentences/segmented_articles.jsonl: 3121678 docs added.\n",
            "2023-05-18 00:02:21,302 INFO  [main] index.IndexCollection (IndexCollection.java:578) - Indexing Complete! 3,121,678 documents indexed\n",
            "2023-05-18 00:02:21,303 INFO  [main] index.IndexCollection (IndexCollection.java:579) - ============ Final Counter Values ============\n",
            "2023-05-18 00:02:21,303 INFO  [main] index.IndexCollection (IndexCollection.java:580) - indexed:        3,121,678\n",
            "2023-05-18 00:02:21,303 INFO  [main] index.IndexCollection (IndexCollection.java:581) - unindexable:            0\n",
            "2023-05-18 00:02:21,303 INFO  [main] index.IndexCollection (IndexCollection.java:582) - empty:                  0\n",
            "2023-05-18 00:02:21,303 INFO  [main] index.IndexCollection (IndexCollection.java:583) - skipped:                0\n",
            "2023-05-18 00:02:21,304 INFO  [main] index.IndexCollection (IndexCollection.java:584) - errors:                 0\n",
            "2023-05-18 00:02:21,308 INFO  [main] index.IndexCollection (IndexCollection.java:587) - Total 3,121,678 documents indexed in 00:02:18\n",
            "CPU times: user 785 ms, sys: 105 ms, total: 890 ms\n",
            "Wall time: 2min 19s\n"
          ]
        }
      ]
    },
    {
      "cell_type": "code",
      "source": [
        "index_reader = IndexReader(dir_indexes)\n",
        "index_reader.stats()"
      ],
      "metadata": {
        "id": "Ijvjy0r9vpUI",
        "colab": {
          "base_uri": "https://localhost:8080/"
        },
        "outputId": "f0f99004-1516-4a1b-f433-398722f3b1d6"
      },
      "execution_count": 26,
      "outputs": [
        {
          "output_type": "execute_result",
          "data": {
            "text/plain": [
              "{'total_terms': 148018179,\n",
              " 'documents': 3121678,\n",
              " 'non_empty_documents': 3121678,\n",
              " 'unique_terms': 897887}"
            ]
          },
          "metadata": {},
          "execution_count": 26
        }
      ]
    },
    {
      "cell_type": "markdown",
      "source": [
        "## Testes"
      ],
      "metadata": {
        "id": "yz51xCPj74dE"
      }
    },
    {
      "cell_type": "code",
      "source": [
        "bm25_seacher = LuceneSearcher(dir_indexes)\n",
        "hits = bm25_seacher.search('When was Tower Bridge built?', k=1000)\n",
        "\n",
        "for i in range(0, 10):\n",
        "    print(f\"{i+1:2} {hits[i].docid:7} {hits[i].score:.5f} {segmented_articles[int(hits[i].docid)]['segment']}\")\n",
        "\n",
        "print(len(hits))"
      ],
      "metadata": {
        "id": "7e71CAp16R92",
        "colab": {
          "base_uri": "https://localhost:8080/"
        },
        "outputId": "4133accd-f509-4eec-f6e8-9772692d123c"
      },
      "execution_count": 27,
      "outputs": [
        {
          "output_type": "stream",
          "name": "stdout",
          "text": [
            " 1 1383155 11.10100 The 4640 tonne structure cost about 2.1 million marks when it was built during World War I. Since the bridge was a major military construction project, both abutments of the bridge were flanked by stone towers with fortified foundations that could shelter up to a full battalion of men. The towers were designed with fighting loopholes for troops. From the flat roof of the towers troops had a good view of the valley.\n",
            " 2 676577  10.95050 Three road bridges cross the Great Float:\n",
            "\n",
            "A red girdered bascule bridge at Tower Road connects the Seacombe district of Wallasey with Birkenhead. Known as the Four Bridges, as originally four movable bridges existed along Tower Road: two between the Great Float and Alfred Dock, one between the Great Float and Wallasey Dock and one between the Great Float and Egerton Dock. When originally built, all four were hydraulic swing bridge types.\n",
            " 3 3059009 10.80380 Exhibition. The Tower Bridge Exhibition is a display housed in the bridge's twin towers, the high-level walkways and the Victorian engine rooms. It uses films, photos and interactive displays to explain why and how Tower Bridge was built.\n",
            " 4 3058948 10.52660 Tower Bridge is a combined bascule and suspension bridge in London, built between 1886 and 1894. The bridge crosses the River Thames close to the Tower of London and has become an iconic symbol of London. As a result, it is sometimes confused with London Bridge, about half a mile (0.8 km) upstream.\n",
            " 5 3059017 10.27090 This was denied by McCulloch himself and has been debunked by Ivan Luckin, the vendor of the bridge. A partial replica of Tower Bridge has been built in the city of Suzhou in China. The replica differs from the original in having no lifting mechanism and four separate towers.\n",
            " 6 2230181 10.17580 Some bridges accommodate other purposes, such as the tower of Nový Most Bridge in Bratislava, which features a restaurant, or a bridge-restaurant which is a bridge built to serve as a restaurant. Other suspension bridge towers carry transmission antennas. Conservationists use wildlife overpasses to stop habitat fragmentation and animal-vehicle collisions.\n",
            " 7 2992220 10.11460 The masonry facades were ultimately never built; the exposed steel towers, with their distinctive criss-crossed bracing, became one of the George Washington Bridge's most identifiable characteristics. The Swiss-French architect Le Corbusier wrote of the towers: \"The structure is so pure, so resolute, so regular that here, finally, steel architecture seems to laugh.\" After the George Washington Bridge was successfully constructed without masonry towers, Ammann did not incorporate any masonry towers in his bridge plans.\n",
            " 8 3059010 10.06000 It uses films, photos and interactive displays to explain why and how Tower Bridge was built. Visitors can access the original steam engines that once powered the bridge bascules, housed in a building close to the south end of the bridge. The exhibition charges an admission fee.\n",
            " 9 3058958 10.03400 An Act of Parliament was passed in 1885 authorising the bridge's construction. It specified the opening span must give a clear width of 61 m and a headroom of 41 m. Construction had to be in a Gothic style. Barry designed a bascule bridge with two bridge towers built on piers.\n",
            "10 3058959 9.97800 Barry designed a bascule bridge with two bridge towers built on piers. The central span was split into two equal bascules or leaves, which could be raised to allow river traffic to pass. The two side-spans were suspension bridges, with the suspension rods anchored both at the abutments and through rods contained within the bridge's upper walkways.\n",
            "1000\n"
          ]
        }
      ]
    },
    {
      "cell_type": "code",
      "source": [
        "for item in selected_qa[:5]:\n",
        "    print('\\nQ:', item['question'])\n",
        "    print('EA:', item['answer'])\n",
        "    hits = bm25_seacher.search(item['question'])\n",
        "    for i in range(0, 5):\n",
        "        print(f'{i+1:2} {hits[i].docid:7} {hits[i].score:.5f}')"
      ],
      "metadata": {
        "id": "1kJF4YS87NPJ",
        "colab": {
          "base_uri": "https://localhost:8080/"
        },
        "outputId": "cc3a1409-34c4-4f77-ec09-4aebb3f85baa"
      },
      "execution_count": 28,
      "outputs": [
        {
          "output_type": "stream",
          "name": "stdout",
          "text": [
            "\n",
            "Q: What were the combined ages of Sheikh Abdul Rahman Al Sudais and Mohammed Bin Rashid Al Maktoum the year that Bukhatir first performed at the \"Holy Qura'an\" competition?\n",
            "EA: 95\n",
            " 1 1378415 40.71450\n",
            " 2 1378308 39.42290\n",
            " 3 1378414 38.96920\n",
            " 4 1378416 38.76260\n",
            " 5 1378361 38.71810\n",
            "\n",
            "Q: When was Tower Bridge built?\n",
            "EA: between 1886 and 1894\n",
            " 1 1383155 11.10100\n",
            " 2 676577  10.95050\n",
            " 3 3059009 10.80380\n",
            " 4 3058948 10.52660\n",
            " 5 3059017 10.27090\n",
            "\n",
            "Q: What state did the Senator serve who Wingfield became friends with?\n",
            "EA: Nevada\n",
            " 1 2886809 11.79420\n",
            " 2 774232  11.70510\n",
            " 3 2817319 11.65730\n",
            " 4 1190216 11.18490\n",
            " 5 3063202 10.98060\n",
            "\n",
            "Q: Which European female monarch who wore high heels during the 16th century had a longer reign?\n",
            "EA: Catherine de' Medici\n",
            " 1 2332751 14.62510\n",
            " 2 1988263 13.77540\n",
            " 3 2340532 13.63720\n",
            " 4 1790837 13.40540\n",
            " 5 1637091 13.16330\n",
            "\n",
            "Q: Who are the members of the band whose recording with Krauss brought her to the country music Top Ten for the first time?\n",
            "EA:  Marty Raybon\n",
            " 1 2040470 24.15870\n",
            " 2 92578   18.75890\n",
            " 3 2337283 18.61930\n",
            " 4 2040466 16.51580\n",
            " 5 2040450 16.35770\n"
          ]
        }
      ]
    },
    {
      "cell_type": "markdown",
      "source": [
        "## Execução"
      ],
      "metadata": {
        "id": "SNtRh1Jq77Lf"
      }
    },
    {
      "cell_type": "code",
      "source": [
        "%%time\n",
        "\n",
        "run = []\n",
        "for item in selected_qa:\n",
        "    hits = bm25_seacher.search(item['question'], k = K_BM25)\n",
        "    \n",
        "    for i, hit in enumerate(hits):\n",
        "        run.append({'question': item['question'], 'answer': item['answer'], 'docid': hit.docid, 'text': segmented_articles[int(hit.docid)]['segment'], 'bm25_score': hit.score, 'bm25_rank': i+1})\n",
        "len(run)"
      ],
      "metadata": {
        "id": "BXh-iNPb9IRw",
        "colab": {
          "base_uri": "https://localhost:8080/"
        },
        "outputId": "8121d5d0-5ce4-43e7-9d19-04e4ce8a653b"
      },
      "execution_count": 29,
      "outputs": [
        {
          "output_type": "stream",
          "name": "stdout",
          "text": [
            "CPU times: user 6.29 s, sys: 48 ms, total: 6.34 s\n",
            "Wall time: 3.51 s\n"
          ]
        },
        {
          "output_type": "execute_result",
          "data": {
            "text/plain": [
              "50000"
            ]
          },
          "metadata": {},
          "execution_count": 29
        }
      ]
    },
    {
      "cell_type": "code",
      "source": [
        "df_run = pd.DataFrame(run)\n",
        "df_run"
      ],
      "metadata": {
        "id": "QziTXTe9583P",
        "colab": {
          "base_uri": "https://localhost:8080/",
          "height": 641
        },
        "outputId": "8c67174c-3595-4841-f23b-27d720352902"
      },
      "execution_count": 30,
      "outputs": [
        {
          "output_type": "execute_result",
          "data": {
            "text/plain": [
              "                                                question answer    docid  \\\n",
              "0      What were the combined ages of Sheikh Abdul Ra...     95  1378415   \n",
              "1      What were the combined ages of Sheikh Abdul Ra...     95  1378308   \n",
              "2      What were the combined ages of Sheikh Abdul Ra...     95  1378414   \n",
              "3      What were the combined ages of Sheikh Abdul Ra...     95  1378416   \n",
              "4      What were the combined ages of Sheikh Abdul Ra...     95  1378361   \n",
              "...                                                  ...    ...      ...   \n",
              "49995  How old was Jan Piwnik the year that all railw...     30  1887496   \n",
              "49996  How old was Jan Piwnik the year that all railw...     30  1862877   \n",
              "49997  How old was Jan Piwnik the year that all railw...     30   391743   \n",
              "49998  How old was Jan Piwnik the year that all railw...     30  2320831   \n",
              "49999  How old was Jan Piwnik the year that all railw...     30  1993404   \n",
              "\n",
              "                                                    text  bm25_score  \\\n",
              "0      - Hessa bint Mohammed bin Rashid Al Maktoum (b...   40.714500   \n",
              "1      Sheikh Mohammed is the third son of Sheikh Ras...   39.422901   \n",
              "2      Daughters. Six daughters married into royal fa...   38.969200   \n",
              "3      - Shaikha bint Mohammed bin Rashed Al Maktoum ...   38.762600   \n",
              "4      In June 2017, two new initiatives were added t...   38.718102   \n",
              "...                                                  ...         ...   \n",
              "49995  In the Old City are the Emir's Palace, the Gre...    7.612400   \n",
              "49996  The Mersey Railway was the first part of the p...    7.611400   \n",
              "49997  On 19 October Murad II used his sipahi cavalry...    7.611000   \n",
              "49998  He is a 5th grader and has a buzz cut, and wea...    7.610500   \n",
              "49999  The GPK&AR absorbed another railway and was re...    7.609400   \n",
              "\n",
              "       bm25_rank  \n",
              "0              1  \n",
              "1              2  \n",
              "2              3  \n",
              "3              4  \n",
              "4              5  \n",
              "...          ...  \n",
              "49995        996  \n",
              "49996        997  \n",
              "49997        998  \n",
              "49998        999  \n",
              "49999       1000  \n",
              "\n",
              "[50000 rows x 6 columns]"
            ],
            "text/html": [
              "\n",
              "  <div id=\"df-84c8d9cc-a78d-4056-9156-8fc7393c5230\">\n",
              "    <div class=\"colab-df-container\">\n",
              "      <div>\n",
              "<style scoped>\n",
              "    .dataframe tbody tr th:only-of-type {\n",
              "        vertical-align: middle;\n",
              "    }\n",
              "\n",
              "    .dataframe tbody tr th {\n",
              "        vertical-align: top;\n",
              "    }\n",
              "\n",
              "    .dataframe thead th {\n",
              "        text-align: right;\n",
              "    }\n",
              "</style>\n",
              "<table border=\"1\" class=\"dataframe\">\n",
              "  <thead>\n",
              "    <tr style=\"text-align: right;\">\n",
              "      <th></th>\n",
              "      <th>question</th>\n",
              "      <th>answer</th>\n",
              "      <th>docid</th>\n",
              "      <th>text</th>\n",
              "      <th>bm25_score</th>\n",
              "      <th>bm25_rank</th>\n",
              "    </tr>\n",
              "  </thead>\n",
              "  <tbody>\n",
              "    <tr>\n",
              "      <th>0</th>\n",
              "      <td>What were the combined ages of Sheikh Abdul Ra...</td>\n",
              "      <td>95</td>\n",
              "      <td>1378415</td>\n",
              "      <td>- Hessa bint Mohammed bin Rashid Al Maktoum (b...</td>\n",
              "      <td>40.714500</td>\n",
              "      <td>1</td>\n",
              "    </tr>\n",
              "    <tr>\n",
              "      <th>1</th>\n",
              "      <td>What were the combined ages of Sheikh Abdul Ra...</td>\n",
              "      <td>95</td>\n",
              "      <td>1378308</td>\n",
              "      <td>Sheikh Mohammed is the third son of Sheikh Ras...</td>\n",
              "      <td>39.422901</td>\n",
              "      <td>2</td>\n",
              "    </tr>\n",
              "    <tr>\n",
              "      <th>2</th>\n",
              "      <td>What were the combined ages of Sheikh Abdul Ra...</td>\n",
              "      <td>95</td>\n",
              "      <td>1378414</td>\n",
              "      <td>Daughters. Six daughters married into royal fa...</td>\n",
              "      <td>38.969200</td>\n",
              "      <td>3</td>\n",
              "    </tr>\n",
              "    <tr>\n",
              "      <th>3</th>\n",
              "      <td>What were the combined ages of Sheikh Abdul Ra...</td>\n",
              "      <td>95</td>\n",
              "      <td>1378416</td>\n",
              "      <td>- Shaikha bint Mohammed bin Rashed Al Maktoum ...</td>\n",
              "      <td>38.762600</td>\n",
              "      <td>4</td>\n",
              "    </tr>\n",
              "    <tr>\n",
              "      <th>4</th>\n",
              "      <td>What were the combined ages of Sheikh Abdul Ra...</td>\n",
              "      <td>95</td>\n",
              "      <td>1378361</td>\n",
              "      <td>In June 2017, two new initiatives were added t...</td>\n",
              "      <td>38.718102</td>\n",
              "      <td>5</td>\n",
              "    </tr>\n",
              "    <tr>\n",
              "      <th>...</th>\n",
              "      <td>...</td>\n",
              "      <td>...</td>\n",
              "      <td>...</td>\n",
              "      <td>...</td>\n",
              "      <td>...</td>\n",
              "      <td>...</td>\n",
              "    </tr>\n",
              "    <tr>\n",
              "      <th>49995</th>\n",
              "      <td>How old was Jan Piwnik the year that all railw...</td>\n",
              "      <td>30</td>\n",
              "      <td>1887496</td>\n",
              "      <td>In the Old City are the Emir's Palace, the Gre...</td>\n",
              "      <td>7.612400</td>\n",
              "      <td>996</td>\n",
              "    </tr>\n",
              "    <tr>\n",
              "      <th>49996</th>\n",
              "      <td>How old was Jan Piwnik the year that all railw...</td>\n",
              "      <td>30</td>\n",
              "      <td>1862877</td>\n",
              "      <td>The Mersey Railway was the first part of the p...</td>\n",
              "      <td>7.611400</td>\n",
              "      <td>997</td>\n",
              "    </tr>\n",
              "    <tr>\n",
              "      <th>49997</th>\n",
              "      <td>How old was Jan Piwnik the year that all railw...</td>\n",
              "      <td>30</td>\n",
              "      <td>391743</td>\n",
              "      <td>On 19 October Murad II used his sipahi cavalry...</td>\n",
              "      <td>7.611000</td>\n",
              "      <td>998</td>\n",
              "    </tr>\n",
              "    <tr>\n",
              "      <th>49998</th>\n",
              "      <td>How old was Jan Piwnik the year that all railw...</td>\n",
              "      <td>30</td>\n",
              "      <td>2320831</td>\n",
              "      <td>He is a 5th grader and has a buzz cut, and wea...</td>\n",
              "      <td>7.610500</td>\n",
              "      <td>999</td>\n",
              "    </tr>\n",
              "    <tr>\n",
              "      <th>49999</th>\n",
              "      <td>How old was Jan Piwnik the year that all railw...</td>\n",
              "      <td>30</td>\n",
              "      <td>1993404</td>\n",
              "      <td>The GPK&amp;AR absorbed another railway and was re...</td>\n",
              "      <td>7.609400</td>\n",
              "      <td>1000</td>\n",
              "    </tr>\n",
              "  </tbody>\n",
              "</table>\n",
              "<p>50000 rows × 6 columns</p>\n",
              "</div>\n",
              "      <button class=\"colab-df-convert\" onclick=\"convertToInteractive('df-84c8d9cc-a78d-4056-9156-8fc7393c5230')\"\n",
              "              title=\"Convert this dataframe to an interactive table.\"\n",
              "              style=\"display:none;\">\n",
              "        \n",
              "  <svg xmlns=\"http://www.w3.org/2000/svg\" height=\"24px\"viewBox=\"0 0 24 24\"\n",
              "       width=\"24px\">\n",
              "    <path d=\"M0 0h24v24H0V0z\" fill=\"none\"/>\n",
              "    <path d=\"M18.56 5.44l.94 2.06.94-2.06 2.06-.94-2.06-.94-.94-2.06-.94 2.06-2.06.94zm-11 1L8.5 8.5l.94-2.06 2.06-.94-2.06-.94L8.5 2.5l-.94 2.06-2.06.94zm10 10l.94 2.06.94-2.06 2.06-.94-2.06-.94-.94-2.06-.94 2.06-2.06.94z\"/><path d=\"M17.41 7.96l-1.37-1.37c-.4-.4-.92-.59-1.43-.59-.52 0-1.04.2-1.43.59L10.3 9.45l-7.72 7.72c-.78.78-.78 2.05 0 2.83L4 21.41c.39.39.9.59 1.41.59.51 0 1.02-.2 1.41-.59l7.78-7.78 2.81-2.81c.8-.78.8-2.07 0-2.86zM5.41 20L4 18.59l7.72-7.72 1.47 1.35L5.41 20z\"/>\n",
              "  </svg>\n",
              "      </button>\n",
              "      \n",
              "  <style>\n",
              "    .colab-df-container {\n",
              "      display:flex;\n",
              "      flex-wrap:wrap;\n",
              "      gap: 12px;\n",
              "    }\n",
              "\n",
              "    .colab-df-convert {\n",
              "      background-color: #E8F0FE;\n",
              "      border: none;\n",
              "      border-radius: 50%;\n",
              "      cursor: pointer;\n",
              "      display: none;\n",
              "      fill: #1967D2;\n",
              "      height: 32px;\n",
              "      padding: 0 0 0 0;\n",
              "      width: 32px;\n",
              "    }\n",
              "\n",
              "    .colab-df-convert:hover {\n",
              "      background-color: #E2EBFA;\n",
              "      box-shadow: 0px 1px 2px rgba(60, 64, 67, 0.3), 0px 1px 3px 1px rgba(60, 64, 67, 0.15);\n",
              "      fill: #174EA6;\n",
              "    }\n",
              "\n",
              "    [theme=dark] .colab-df-convert {\n",
              "      background-color: #3B4455;\n",
              "      fill: #D2E3FC;\n",
              "    }\n",
              "\n",
              "    [theme=dark] .colab-df-convert:hover {\n",
              "      background-color: #434B5C;\n",
              "      box-shadow: 0px 1px 3px 1px rgba(0, 0, 0, 0.15);\n",
              "      filter: drop-shadow(0px 1px 2px rgba(0, 0, 0, 0.3));\n",
              "      fill: #FFFFFF;\n",
              "    }\n",
              "  </style>\n",
              "\n",
              "      <script>\n",
              "        const buttonEl =\n",
              "          document.querySelector('#df-84c8d9cc-a78d-4056-9156-8fc7393c5230 button.colab-df-convert');\n",
              "        buttonEl.style.display =\n",
              "          google.colab.kernel.accessAllowed ? 'block' : 'none';\n",
              "\n",
              "        async function convertToInteractive(key) {\n",
              "          const element = document.querySelector('#df-84c8d9cc-a78d-4056-9156-8fc7393c5230');\n",
              "          const dataTable =\n",
              "            await google.colab.kernel.invokeFunction('convertToInteractive',\n",
              "                                                     [key], {});\n",
              "          if (!dataTable) return;\n",
              "\n",
              "          const docLinkHtml = 'Like what you see? Visit the ' +\n",
              "            '<a target=\"_blank\" href=https://colab.research.google.com/notebooks/data_table.ipynb>data table notebook</a>'\n",
              "            + ' to learn more about interactive tables.';\n",
              "          element.innerHTML = '';\n",
              "          dataTable['output_type'] = 'display_data';\n",
              "          await google.colab.output.renderOutput(dataTable, element);\n",
              "          const docLink = document.createElement('div');\n",
              "          docLink.innerHTML = docLinkHtml;\n",
              "          element.appendChild(docLink);\n",
              "        }\n",
              "      </script>\n",
              "    </div>\n",
              "  </div>\n",
              "  "
            ]
          },
          "metadata": {},
          "execution_count": 30
        }
      ]
    },
    {
      "cell_type": "markdown",
      "source": [
        "# Rerank"
      ],
      "metadata": {
        "id": "ZOxaI_wM5gXw"
      }
    },
    {
      "cell_type": "markdown",
      "source": [
        "## Classe de Dataset"
      ],
      "metadata": {
        "id": "PViqO7VM6IDT"
      }
    },
    {
      "cell_type": "code",
      "source": [
        "class DatasetQueryText(Dataset):\n",
        "    def __init__(self, texts: np.ndarray, tokenizer):\n",
        "      self.texts = texts\n",
        "      self.tokenizer = tokenizer\n",
        "      self.max_seq_length = tokenizer.model_max_length\n",
        "\n",
        "      input_ids = []\n",
        "      token_type_ids = []\n",
        "      attention_masks = []\n",
        "      for query, text in tqdm(texts, desc='encoding query+doc'):\n",
        "          encoding = tokenizer.encode_plus(\n",
        "              query, \n",
        "              text,\n",
        "              add_special_tokens=True,\n",
        "              max_length=self.max_seq_length,\n",
        "              padding='max_length',\n",
        "              return_tensors = 'pt',\n",
        "              truncation=True,\n",
        "              return_attention_mask=True,\n",
        "              return_token_type_ids=True\n",
        "          )\n",
        "          input_ids.append(encoding['input_ids'].long())\n",
        "          token_type_ids.append(encoding['token_type_ids'].long())\n",
        "          attention_masks.append(encoding['attention_mask'].long())\n",
        "      self.input_ids = torch.stack(input_ids).squeeze(1)\n",
        "      self.attention_masks = torch.stack(attention_masks).squeeze(1)\n",
        "      self.token_type_ids = torch.stack(token_type_ids).squeeze(1)\n",
        "\n",
        "    def __len__(self):\n",
        "        return len(self.texts)\n",
        "    \n",
        "    def __getitem__(self, idx):\n",
        "        return {\n",
        "            'input_ids': self.input_ids[idx],\n",
        "            'attention_mask': self.attention_masks[idx],\n",
        "            'token_type_ids': self.token_type_ids[idx]\n",
        "        }"
      ],
      "metadata": {
        "id": "8JZ0INlz6G3x"
      },
      "execution_count": 31,
      "outputs": []
    },
    {
      "cell_type": "markdown",
      "source": [
        "## Carga do modelo"
      ],
      "metadata": {
        "id": "Hrqs6a8u6QKq"
      }
    },
    {
      "cell_type": "code",
      "source": [
        "model = AutoModelForSequenceClassification.from_pretrained(model_name).to(device)\n",
        "tokenizer = AutoTokenizer.from_pretrained(model_name)"
      ],
      "metadata": {
        "id": "upXiP7P24frZ",
        "colab": {
          "base_uri": "https://localhost:8080/",
          "height": 177,
          "referenced_widgets": [
            "20ba3a0422374ad58cdc833841a28af5",
            "dc0493e783c1418daf2d0ba67654cff5",
            "bc1d0c44b6464f9ca866a2d3de3563f0",
            "cc148172c49b44abb9132eeb30dd671a",
            "a0a238821b6f4cf19c90ada31f7c42cc",
            "f71e4b9d3f4c42c79ea9e96bb98d94e4",
            "461efd7b989b48718364b52e3bbf5f16",
            "a55f457c6e4c4d45bb0157cac5b90492",
            "a0120cb7d78446a5a6a0d35869058d52",
            "e0196bb540494a1e9650bb77678259c1",
            "ed30e2b2a5b241d2878523c414cba0d0",
            "b7d05c8f94274ded8b434b233134853c",
            "13b3c5665599418cb13ef09d3e505f39",
            "71394593a84047c3970556d8cd6ff857",
            "b2f81e48431e42828fa2b7ee24761351",
            "830320fb3a894341bae92a92419629fe",
            "850ae8807f524de8839c1fa7bba819e7",
            "d99b2c2651d3403f844a6ec4625904b0",
            "fa9aa931017a415d9fb8eb46fbf6ba85",
            "edab304a7c36494985eded8b121c2c4b",
            "87f89df70a304da49f92c972465ed2a4",
            "37fa26b991224319ace075ffd6705364",
            "7e50b6f093554cac9b21ad4b2351e3db",
            "361c332a1c8c4ed8ad470ab798a296d0",
            "2b7c001ccb384de486607f52cfc641d5",
            "b305bbd2d2f44529a1ff40bd7103a0ef",
            "7861930505a2476fad79a35ce85d4fb2",
            "63e62a29f72a4f41926a5e664f3fa985",
            "7d67ebec161b4abbaed8b732c35f727d",
            "34f5b511b5d7410f9d923ebed6e6a200",
            "a7dfa1bf8e584453b7510361a5ae3bae",
            "5dcc5e8980124c068d0f0d12a10c2a6e",
            "b21d61c0915e4b4c9c1a400bbaceefbc",
            "700f606e25454bd1bfb56eee87d177ec",
            "4a7b4c3de5284b6aa42106b95f24ce99",
            "ef70cfc73add4bc3abf1296c1433a071",
            "1e2ca6fa09564d4281fee6427e43335b",
            "077bdd66ac264fa79a701c5b57d22f6a",
            "ba0c852a004f487f942005813b01c5db",
            "6cf7e9d918534fee91a04b2b5e92cfd5",
            "381dc5c44e204574bc3e0cab1c0e5e68",
            "693b380f06de4e97ab9a1046e7208ad2",
            "be2132d00aa340b2a8b1296d5ee36ee7",
            "749238ac502147a7bc2aa9708db78d74",
            "908fdb5ff0254e80934f0cc1ae146645",
            "b48e82619a7249f2b4ce087970634730",
            "e4bf9001a14b4725952de4d68a444cfa",
            "8d620306301c4f128c2783f36a1c9d72",
            "9ab9151a7d144b959a98ab224966f0b0",
            "09b6001f49d6409298b0afafecade7ae",
            "5d5b20de00a34d53afe10dfb725b0b79",
            "a273f08c9a4543289f9dd650d0620ec1",
            "810677fe3eca4a8ba1353ab1a8b0f94d",
            "ec3fb2aa9b9c4b1593a157009f7dc109",
            "e7d16d25e39d42fc86230851dc167c6c"
          ]
        },
        "outputId": "edc13ca7-17c7-4e56-ebb0-5ecc5e3e7912"
      },
      "execution_count": 32,
      "outputs": [
        {
          "output_type": "display_data",
          "data": {
            "text/plain": [
              "Downloading (…)lve/main/config.json:   0%|          | 0.00/794 [00:00<?, ?B/s]"
            ],
            "application/vnd.jupyter.widget-view+json": {
              "version_major": 2,
              "version_minor": 0,
              "model_id": "20ba3a0422374ad58cdc833841a28af5"
            }
          },
          "metadata": {}
        },
        {
          "output_type": "display_data",
          "data": {
            "text/plain": [
              "Downloading pytorch_model.bin:   0%|          | 0.00/90.9M [00:00<?, ?B/s]"
            ],
            "application/vnd.jupyter.widget-view+json": {
              "version_major": 2,
              "version_minor": 0,
              "model_id": "b7d05c8f94274ded8b434b233134853c"
            }
          },
          "metadata": {}
        },
        {
          "output_type": "display_data",
          "data": {
            "text/plain": [
              "Downloading (…)okenizer_config.json:   0%|          | 0.00/316 [00:00<?, ?B/s]"
            ],
            "application/vnd.jupyter.widget-view+json": {
              "version_major": 2,
              "version_minor": 0,
              "model_id": "7e50b6f093554cac9b21ad4b2351e3db"
            }
          },
          "metadata": {}
        },
        {
          "output_type": "display_data",
          "data": {
            "text/plain": [
              "Downloading (…)solve/main/vocab.txt:   0%|          | 0.00/232k [00:00<?, ?B/s]"
            ],
            "application/vnd.jupyter.widget-view+json": {
              "version_major": 2,
              "version_minor": 0,
              "model_id": "700f606e25454bd1bfb56eee87d177ec"
            }
          },
          "metadata": {}
        },
        {
          "output_type": "display_data",
          "data": {
            "text/plain": [
              "Downloading (…)cial_tokens_map.json:   0%|          | 0.00/112 [00:00<?, ?B/s]"
            ],
            "application/vnd.jupyter.widget-view+json": {
              "version_major": 2,
              "version_minor": 0,
              "model_id": "908fdb5ff0254e80934f0cc1ae146645"
            }
          },
          "metadata": {}
        }
      ]
    },
    {
      "cell_type": "markdown",
      "source": [
        "## Dataset e Dataloader"
      ],
      "metadata": {
        "id": "Ji6p1hcs_Qnp"
      }
    },
    {
      "cell_type": "code",
      "source": [
        "dataset_rerank = DatasetQueryText(texts = df_run[['question','text']].values, tokenizer=tokenizer)\n",
        "dataloader_rerank = DataLoader(dataset_rerank, batch_size=500, shuffle=False)"
      ],
      "metadata": {
        "colab": {
          "base_uri": "https://localhost:8080/"
        },
        "id": "NF2D6uzs_g7Z",
        "outputId": "0ea55ad7-b765-4d3d-84da-f70672302a64"
      },
      "execution_count": 33,
      "outputs": [
        {
          "output_type": "stream",
          "name": "stderr",
          "text": [
            "encoding query+doc: 100%|██████████| 50000/50000 [00:44<00:00, 1119.38it/s]\n"
          ]
        }
      ]
    },
    {
      "cell_type": "markdown",
      "source": [
        "## Execução"
      ],
      "metadata": {
        "id": "W5HCkYrL6ePc"
      }
    },
    {
      "cell_type": "code",
      "source": [
        "scores = []\n",
        "model.eval()\n",
        "with torch.no_grad():\n",
        "    for ndx, batch in tqdm(enumerate(dataloader_rerank), total=len(dataloader_rerank), mininterval=0.5, desc='reranking', disable=False):\n",
        "        logits = model(**BatchEncoding(batch).to(device)).logits\n",
        "        scores.extend(logits.squeeze().cpu().numpy())"
      ],
      "metadata": {
        "colab": {
          "base_uri": "https://localhost:8080/"
        },
        "id": "dyj3fBDc_ytE",
        "outputId": "5fbf74eb-d8eb-45cc-d242-b9c41c74e7ef"
      },
      "execution_count": 34,
      "outputs": [
        {
          "output_type": "stream",
          "name": "stderr",
          "text": [
            "reranking: 100%|██████████| 1563/1563 [01:18<00:00, 19.99it/s]\n"
          ]
        }
      ]
    },
    {
      "cell_type": "markdown",
      "source": [
        "## Tratamento do resultado"
      ],
      "metadata": {
        "id": "NYLL5rEaBMjY"
      }
    },
    {
      "cell_type": "code",
      "source": [
        "df_run['score_rerank'] = scores\n",
        "df_run = df_run.groupby('question', group_keys=False).apply(lambda x: x.sort_values(['score_rerank'], ascending=[False]))\n",
        "df_run['rerank'] = df_run.groupby('question').cumcount() + 1\n",
        "df_run = df_run.query('rerank <= ' + str(K_rerank))\n",
        "df_run"
      ],
      "metadata": {
        "id": "NYR-EGHiAk52",
        "colab": {
          "base_uri": "https://localhost:8080/",
          "height": 745
        },
        "outputId": "8c868164-02d3-423d-dd20-da5bd6935b72"
      },
      "execution_count": 36,
      "outputs": [
        {
          "output_type": "execute_result",
          "data": {
            "text/plain": [
              "                                                question      answer    docid  \\\n",
              "31007  Did the same team win the cup finals Watford p...          no  1601617   \n",
              "31017  Did the same team win the cup finals Watford p...          no    26877   \n",
              "31058  Did the same team win the cup finals Watford p...          no   516756   \n",
              "31019  Did the same team win the cup finals Watford p...          no   516746   \n",
              "31025  Did the same team win the cup finals Watford p...          no  1601618   \n",
              "...                                                  ...         ...      ...   \n",
              "7004               Who was the founder of Bell Aircraft?  Larry Bell  2416112   \n",
              "7014               Who was the founder of Bell Aircraft?  Larry Bell  1722969   \n",
              "7013               Who was the founder of Bell Aircraft?  Larry Bell  1782967   \n",
              "7055               Who was the founder of Bell Aircraft?  Larry Bell  1782963   \n",
              "7097               Who was the founder of Bell Aircraft?  Larry Bell  1782986   \n",
              "\n",
              "                                                    text  bm25_score  \\\n",
              "31007  The cup has been won by the same team in two o...   13.814700   \n",
              "31017  The victory meant Southampton reached the semi...   13.214600   \n",
              "31058  In the quarter finals they played fellow Premi...   11.695900   \n",
              "31019  The match was the fourth time that the two tea...   13.063100   \n",
              "31025  The cup is currently held by Manchester City, ...   12.873300   \n",
              "...                                                  ...         ...   \n",
              "7004   On February 23, 1909, Bell was present as the ...    8.528400   \n",
              "7014   Burford has twice had a bell foundry: one run ...    7.946300   \n",
              "7013   Before long, Bell became general manager and b...    7.955300   \n",
              "7055   The company was purchased in 1960 by Textron, ...    7.150600   \n",
              "7097   These helped the U.S. Air Force and the Nation...    6.659599   \n",
              "\n",
              "       bm25_rank  score_rerank  rerank  \n",
              "31007          8      8.217612       1  \n",
              "31017         18      6.593122       2  \n",
              "31058         59      6.506072       3  \n",
              "31019         20      6.458253       4  \n",
              "31025         26      6.447309       5  \n",
              "...          ...           ...     ...  \n",
              "7004           5      3.704788       6  \n",
              "7014          15      3.567063       7  \n",
              "7013          14      3.506255       8  \n",
              "7055          56      3.359585       9  \n",
              "7097          98      3.330651      10  \n",
              "\n",
              "[500 rows x 8 columns]"
            ],
            "text/html": [
              "\n",
              "  <div id=\"df-60f0c5b3-189f-497c-b793-eda40cf52437\">\n",
              "    <div class=\"colab-df-container\">\n",
              "      <div>\n",
              "<style scoped>\n",
              "    .dataframe tbody tr th:only-of-type {\n",
              "        vertical-align: middle;\n",
              "    }\n",
              "\n",
              "    .dataframe tbody tr th {\n",
              "        vertical-align: top;\n",
              "    }\n",
              "\n",
              "    .dataframe thead th {\n",
              "        text-align: right;\n",
              "    }\n",
              "</style>\n",
              "<table border=\"1\" class=\"dataframe\">\n",
              "  <thead>\n",
              "    <tr style=\"text-align: right;\">\n",
              "      <th></th>\n",
              "      <th>question</th>\n",
              "      <th>answer</th>\n",
              "      <th>docid</th>\n",
              "      <th>text</th>\n",
              "      <th>bm25_score</th>\n",
              "      <th>bm25_rank</th>\n",
              "      <th>score_rerank</th>\n",
              "      <th>rerank</th>\n",
              "    </tr>\n",
              "  </thead>\n",
              "  <tbody>\n",
              "    <tr>\n",
              "      <th>31007</th>\n",
              "      <td>Did the same team win the cup finals Watford p...</td>\n",
              "      <td>no</td>\n",
              "      <td>1601617</td>\n",
              "      <td>The cup has been won by the same team in two o...</td>\n",
              "      <td>13.814700</td>\n",
              "      <td>8</td>\n",
              "      <td>8.217612</td>\n",
              "      <td>1</td>\n",
              "    </tr>\n",
              "    <tr>\n",
              "      <th>31017</th>\n",
              "      <td>Did the same team win the cup finals Watford p...</td>\n",
              "      <td>no</td>\n",
              "      <td>26877</td>\n",
              "      <td>The victory meant Southampton reached the semi...</td>\n",
              "      <td>13.214600</td>\n",
              "      <td>18</td>\n",
              "      <td>6.593122</td>\n",
              "      <td>2</td>\n",
              "    </tr>\n",
              "    <tr>\n",
              "      <th>31058</th>\n",
              "      <td>Did the same team win the cup finals Watford p...</td>\n",
              "      <td>no</td>\n",
              "      <td>516756</td>\n",
              "      <td>In the quarter finals they played fellow Premi...</td>\n",
              "      <td>11.695900</td>\n",
              "      <td>59</td>\n",
              "      <td>6.506072</td>\n",
              "      <td>3</td>\n",
              "    </tr>\n",
              "    <tr>\n",
              "      <th>31019</th>\n",
              "      <td>Did the same team win the cup finals Watford p...</td>\n",
              "      <td>no</td>\n",
              "      <td>516746</td>\n",
              "      <td>The match was the fourth time that the two tea...</td>\n",
              "      <td>13.063100</td>\n",
              "      <td>20</td>\n",
              "      <td>6.458253</td>\n",
              "      <td>4</td>\n",
              "    </tr>\n",
              "    <tr>\n",
              "      <th>31025</th>\n",
              "      <td>Did the same team win the cup finals Watford p...</td>\n",
              "      <td>no</td>\n",
              "      <td>1601618</td>\n",
              "      <td>The cup is currently held by Manchester City, ...</td>\n",
              "      <td>12.873300</td>\n",
              "      <td>26</td>\n",
              "      <td>6.447309</td>\n",
              "      <td>5</td>\n",
              "    </tr>\n",
              "    <tr>\n",
              "      <th>...</th>\n",
              "      <td>...</td>\n",
              "      <td>...</td>\n",
              "      <td>...</td>\n",
              "      <td>...</td>\n",
              "      <td>...</td>\n",
              "      <td>...</td>\n",
              "      <td>...</td>\n",
              "      <td>...</td>\n",
              "    </tr>\n",
              "    <tr>\n",
              "      <th>7004</th>\n",
              "      <td>Who was the founder of Bell Aircraft?</td>\n",
              "      <td>Larry Bell</td>\n",
              "      <td>2416112</td>\n",
              "      <td>On February 23, 1909, Bell was present as the ...</td>\n",
              "      <td>8.528400</td>\n",
              "      <td>5</td>\n",
              "      <td>3.704788</td>\n",
              "      <td>6</td>\n",
              "    </tr>\n",
              "    <tr>\n",
              "      <th>7014</th>\n",
              "      <td>Who was the founder of Bell Aircraft?</td>\n",
              "      <td>Larry Bell</td>\n",
              "      <td>1722969</td>\n",
              "      <td>Burford has twice had a bell foundry: one run ...</td>\n",
              "      <td>7.946300</td>\n",
              "      <td>15</td>\n",
              "      <td>3.567063</td>\n",
              "      <td>7</td>\n",
              "    </tr>\n",
              "    <tr>\n",
              "      <th>7013</th>\n",
              "      <td>Who was the founder of Bell Aircraft?</td>\n",
              "      <td>Larry Bell</td>\n",
              "      <td>1782967</td>\n",
              "      <td>Before long, Bell became general manager and b...</td>\n",
              "      <td>7.955300</td>\n",
              "      <td>14</td>\n",
              "      <td>3.506255</td>\n",
              "      <td>8</td>\n",
              "    </tr>\n",
              "    <tr>\n",
              "      <th>7055</th>\n",
              "      <td>Who was the founder of Bell Aircraft?</td>\n",
              "      <td>Larry Bell</td>\n",
              "      <td>1782963</td>\n",
              "      <td>The company was purchased in 1960 by Textron, ...</td>\n",
              "      <td>7.150600</td>\n",
              "      <td>56</td>\n",
              "      <td>3.359585</td>\n",
              "      <td>9</td>\n",
              "    </tr>\n",
              "    <tr>\n",
              "      <th>7097</th>\n",
              "      <td>Who was the founder of Bell Aircraft?</td>\n",
              "      <td>Larry Bell</td>\n",
              "      <td>1782986</td>\n",
              "      <td>These helped the U.S. Air Force and the Nation...</td>\n",
              "      <td>6.659599</td>\n",
              "      <td>98</td>\n",
              "      <td>3.330651</td>\n",
              "      <td>10</td>\n",
              "    </tr>\n",
              "  </tbody>\n",
              "</table>\n",
              "<p>500 rows × 8 columns</p>\n",
              "</div>\n",
              "      <button class=\"colab-df-convert\" onclick=\"convertToInteractive('df-60f0c5b3-189f-497c-b793-eda40cf52437')\"\n",
              "              title=\"Convert this dataframe to an interactive table.\"\n",
              "              style=\"display:none;\">\n",
              "        \n",
              "  <svg xmlns=\"http://www.w3.org/2000/svg\" height=\"24px\"viewBox=\"0 0 24 24\"\n",
              "       width=\"24px\">\n",
              "    <path d=\"M0 0h24v24H0V0z\" fill=\"none\"/>\n",
              "    <path d=\"M18.56 5.44l.94 2.06.94-2.06 2.06-.94-2.06-.94-.94-2.06-.94 2.06-2.06.94zm-11 1L8.5 8.5l.94-2.06 2.06-.94-2.06-.94L8.5 2.5l-.94 2.06-2.06.94zm10 10l.94 2.06.94-2.06 2.06-.94-2.06-.94-.94-2.06-.94 2.06-2.06.94z\"/><path d=\"M17.41 7.96l-1.37-1.37c-.4-.4-.92-.59-1.43-.59-.52 0-1.04.2-1.43.59L10.3 9.45l-7.72 7.72c-.78.78-.78 2.05 0 2.83L4 21.41c.39.39.9.59 1.41.59.51 0 1.02-.2 1.41-.59l7.78-7.78 2.81-2.81c.8-.78.8-2.07 0-2.86zM5.41 20L4 18.59l7.72-7.72 1.47 1.35L5.41 20z\"/>\n",
              "  </svg>\n",
              "      </button>\n",
              "      \n",
              "  <style>\n",
              "    .colab-df-container {\n",
              "      display:flex;\n",
              "      flex-wrap:wrap;\n",
              "      gap: 12px;\n",
              "    }\n",
              "\n",
              "    .colab-df-convert {\n",
              "      background-color: #E8F0FE;\n",
              "      border: none;\n",
              "      border-radius: 50%;\n",
              "      cursor: pointer;\n",
              "      display: none;\n",
              "      fill: #1967D2;\n",
              "      height: 32px;\n",
              "      padding: 0 0 0 0;\n",
              "      width: 32px;\n",
              "    }\n",
              "\n",
              "    .colab-df-convert:hover {\n",
              "      background-color: #E2EBFA;\n",
              "      box-shadow: 0px 1px 2px rgba(60, 64, 67, 0.3), 0px 1px 3px 1px rgba(60, 64, 67, 0.15);\n",
              "      fill: #174EA6;\n",
              "    }\n",
              "\n",
              "    [theme=dark] .colab-df-convert {\n",
              "      background-color: #3B4455;\n",
              "      fill: #D2E3FC;\n",
              "    }\n",
              "\n",
              "    [theme=dark] .colab-df-convert:hover {\n",
              "      background-color: #434B5C;\n",
              "      box-shadow: 0px 1px 3px 1px rgba(0, 0, 0, 0.15);\n",
              "      filter: drop-shadow(0px 1px 2px rgba(0, 0, 0, 0.3));\n",
              "      fill: #FFFFFF;\n",
              "    }\n",
              "  </style>\n",
              "\n",
              "      <script>\n",
              "        const buttonEl =\n",
              "          document.querySelector('#df-60f0c5b3-189f-497c-b793-eda40cf52437 button.colab-df-convert');\n",
              "        buttonEl.style.display =\n",
              "          google.colab.kernel.accessAllowed ? 'block' : 'none';\n",
              "\n",
              "        async function convertToInteractive(key) {\n",
              "          const element = document.querySelector('#df-60f0c5b3-189f-497c-b793-eda40cf52437');\n",
              "          const dataTable =\n",
              "            await google.colab.kernel.invokeFunction('convertToInteractive',\n",
              "                                                     [key], {});\n",
              "          if (!dataTable) return;\n",
              "\n",
              "          const docLinkHtml = 'Like what you see? Visit the ' +\n",
              "            '<a target=\"_blank\" href=https://colab.research.google.com/notebooks/data_table.ipynb>data table notebook</a>'\n",
              "            + ' to learn more about interactive tables.';\n",
              "          element.innerHTML = '';\n",
              "          dataTable['output_type'] = 'display_data';\n",
              "          await google.colab.output.renderOutput(dataTable, element);\n",
              "          const docLink = document.createElement('div');\n",
              "          docLink.innerHTML = docLinkHtml;\n",
              "          element.appendChild(docLink);\n",
              "        }\n",
              "      </script>\n",
              "    </div>\n",
              "  </div>\n",
              "  "
            ]
          },
          "metadata": {},
          "execution_count": 36
        }
      ]
    },
    {
      "cell_type": "code",
      "source": [
        "df_run[['question', 'text', 'rerank', 'docid', 'answer']].to_csv('retriever.csv', index=False)"
      ],
      "metadata": {
        "id": "B_vmPp0OCuAn"
      },
      "execution_count": 37,
      "outputs": []
    },
    {
      "cell_type": "code",
      "source": [],
      "metadata": {
        "id": "fjr6Kc-xLfiX"
      },
      "execution_count": null,
      "outputs": []
    }
  ]
}