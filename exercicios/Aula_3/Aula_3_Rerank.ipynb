{
  "nbformat": 4,
  "nbformat_minor": 0,
  "metadata": {
    "colab": {
      "provenance": [],
      "toc_visible": true,
      "authorship_tag": "ABX9TyMhDkTGv1RL7TgNZ3qjEQiA",
      "include_colab_link": true
    },
    "kernelspec": {
      "name": "python3",
      "display_name": "Python 3"
    },
    "language_info": {
      "name": "python"
    },
    "accelerator": "GPU",
    "gpuClass": "standard",
    "widgets": {
      "application/vnd.jupyter.widget-state+json": {
        "430289af7dc847cd836270762018d72a": {
          "model_module": "@jupyter-widgets/controls",
          "model_name": "HBoxModel",
          "model_module_version": "1.5.0",
          "state": {
            "_dom_classes": [],
            "_model_module": "@jupyter-widgets/controls",
            "_model_module_version": "1.5.0",
            "_model_name": "HBoxModel",
            "_view_count": null,
            "_view_module": "@jupyter-widgets/controls",
            "_view_module_version": "1.5.0",
            "_view_name": "HBoxView",
            "box_style": "",
            "children": [
              "IPY_MODEL_30a474bf3f7a4021a189eda5a544c165",
              "IPY_MODEL_bf1c2d3fbb1a4e5185183acd6502afe4",
              "IPY_MODEL_9b2391df1ab146fc925097da84427c7c"
            ],
            "layout": "IPY_MODEL_628b1dc6f3144bf3880d59306880ef6b"
          }
        },
        "30a474bf3f7a4021a189eda5a544c165": {
          "model_module": "@jupyter-widgets/controls",
          "model_name": "HTMLModel",
          "model_module_version": "1.5.0",
          "state": {
            "_dom_classes": [],
            "_model_module": "@jupyter-widgets/controls",
            "_model_module_version": "1.5.0",
            "_model_name": "HTMLModel",
            "_view_count": null,
            "_view_module": "@jupyter-widgets/controls",
            "_view_module_version": "1.5.0",
            "_view_name": "HTMLView",
            "description": "",
            "description_tooltip": null,
            "layout": "IPY_MODEL_dad0642b81714cc09a8c1c1a64483204",
            "placeholder": "​",
            "style": "IPY_MODEL_4450652dc6a14d3a82ec934114f661eb",
            "value": "Downloading (…)okenizer_config.json: 100%"
          }
        },
        "bf1c2d3fbb1a4e5185183acd6502afe4": {
          "model_module": "@jupyter-widgets/controls",
          "model_name": "FloatProgressModel",
          "model_module_version": "1.5.0",
          "state": {
            "_dom_classes": [],
            "_model_module": "@jupyter-widgets/controls",
            "_model_module_version": "1.5.0",
            "_model_name": "FloatProgressModel",
            "_view_count": null,
            "_view_module": "@jupyter-widgets/controls",
            "_view_module_version": "1.5.0",
            "_view_name": "ProgressView",
            "bar_style": "success",
            "description": "",
            "description_tooltip": null,
            "layout": "IPY_MODEL_3265755c7f5042c28f330a93de72cd57",
            "max": 2,
            "min": 0,
            "orientation": "horizontal",
            "style": "IPY_MODEL_8374aa40cf2f4126befa9051bd2ccd1d",
            "value": 2
          }
        },
        "9b2391df1ab146fc925097da84427c7c": {
          "model_module": "@jupyter-widgets/controls",
          "model_name": "HTMLModel",
          "model_module_version": "1.5.0",
          "state": {
            "_dom_classes": [],
            "_model_module": "@jupyter-widgets/controls",
            "_model_module_version": "1.5.0",
            "_model_name": "HTMLModel",
            "_view_count": null,
            "_view_module": "@jupyter-widgets/controls",
            "_view_module_version": "1.5.0",
            "_view_name": "HTMLView",
            "description": "",
            "description_tooltip": null,
            "layout": "IPY_MODEL_c688813840ce4a389336a5f38edaa179",
            "placeholder": "​",
            "style": "IPY_MODEL_05663b3ad6424e17af44314415806538",
            "value": " 2.00/2.00 [00:00&lt;00:00, 75.0B/s]"
          }
        },
        "628b1dc6f3144bf3880d59306880ef6b": {
          "model_module": "@jupyter-widgets/base",
          "model_name": "LayoutModel",
          "model_module_version": "1.2.0",
          "state": {
            "_model_module": "@jupyter-widgets/base",
            "_model_module_version": "1.2.0",
            "_model_name": "LayoutModel",
            "_view_count": null,
            "_view_module": "@jupyter-widgets/base",
            "_view_module_version": "1.2.0",
            "_view_name": "LayoutView",
            "align_content": null,
            "align_items": null,
            "align_self": null,
            "border": null,
            "bottom": null,
            "display": null,
            "flex": null,
            "flex_flow": null,
            "grid_area": null,
            "grid_auto_columns": null,
            "grid_auto_flow": null,
            "grid_auto_rows": null,
            "grid_column": null,
            "grid_gap": null,
            "grid_row": null,
            "grid_template_areas": null,
            "grid_template_columns": null,
            "grid_template_rows": null,
            "height": null,
            "justify_content": null,
            "justify_items": null,
            "left": null,
            "margin": null,
            "max_height": null,
            "max_width": null,
            "min_height": null,
            "min_width": null,
            "object_fit": null,
            "object_position": null,
            "order": null,
            "overflow": null,
            "overflow_x": null,
            "overflow_y": null,
            "padding": null,
            "right": null,
            "top": null,
            "visibility": null,
            "width": null
          }
        },
        "dad0642b81714cc09a8c1c1a64483204": {
          "model_module": "@jupyter-widgets/base",
          "model_name": "LayoutModel",
          "model_module_version": "1.2.0",
          "state": {
            "_model_module": "@jupyter-widgets/base",
            "_model_module_version": "1.2.0",
            "_model_name": "LayoutModel",
            "_view_count": null,
            "_view_module": "@jupyter-widgets/base",
            "_view_module_version": "1.2.0",
            "_view_name": "LayoutView",
            "align_content": null,
            "align_items": null,
            "align_self": null,
            "border": null,
            "bottom": null,
            "display": null,
            "flex": null,
            "flex_flow": null,
            "grid_area": null,
            "grid_auto_columns": null,
            "grid_auto_flow": null,
            "grid_auto_rows": null,
            "grid_column": null,
            "grid_gap": null,
            "grid_row": null,
            "grid_template_areas": null,
            "grid_template_columns": null,
            "grid_template_rows": null,
            "height": null,
            "justify_content": null,
            "justify_items": null,
            "left": null,
            "margin": null,
            "max_height": null,
            "max_width": null,
            "min_height": null,
            "min_width": null,
            "object_fit": null,
            "object_position": null,
            "order": null,
            "overflow": null,
            "overflow_x": null,
            "overflow_y": null,
            "padding": null,
            "right": null,
            "top": null,
            "visibility": null,
            "width": null
          }
        },
        "4450652dc6a14d3a82ec934114f661eb": {
          "model_module": "@jupyter-widgets/controls",
          "model_name": "DescriptionStyleModel",
          "model_module_version": "1.5.0",
          "state": {
            "_model_module": "@jupyter-widgets/controls",
            "_model_module_version": "1.5.0",
            "_model_name": "DescriptionStyleModel",
            "_view_count": null,
            "_view_module": "@jupyter-widgets/base",
            "_view_module_version": "1.2.0",
            "_view_name": "StyleView",
            "description_width": ""
          }
        },
        "3265755c7f5042c28f330a93de72cd57": {
          "model_module": "@jupyter-widgets/base",
          "model_name": "LayoutModel",
          "model_module_version": "1.2.0",
          "state": {
            "_model_module": "@jupyter-widgets/base",
            "_model_module_version": "1.2.0",
            "_model_name": "LayoutModel",
            "_view_count": null,
            "_view_module": "@jupyter-widgets/base",
            "_view_module_version": "1.2.0",
            "_view_name": "LayoutView",
            "align_content": null,
            "align_items": null,
            "align_self": null,
            "border": null,
            "bottom": null,
            "display": null,
            "flex": null,
            "flex_flow": null,
            "grid_area": null,
            "grid_auto_columns": null,
            "grid_auto_flow": null,
            "grid_auto_rows": null,
            "grid_column": null,
            "grid_gap": null,
            "grid_row": null,
            "grid_template_areas": null,
            "grid_template_columns": null,
            "grid_template_rows": null,
            "height": null,
            "justify_content": null,
            "justify_items": null,
            "left": null,
            "margin": null,
            "max_height": null,
            "max_width": null,
            "min_height": null,
            "min_width": null,
            "object_fit": null,
            "object_position": null,
            "order": null,
            "overflow": null,
            "overflow_x": null,
            "overflow_y": null,
            "padding": null,
            "right": null,
            "top": null,
            "visibility": null,
            "width": null
          }
        },
        "8374aa40cf2f4126befa9051bd2ccd1d": {
          "model_module": "@jupyter-widgets/controls",
          "model_name": "ProgressStyleModel",
          "model_module_version": "1.5.0",
          "state": {
            "_model_module": "@jupyter-widgets/controls",
            "_model_module_version": "1.5.0",
            "_model_name": "ProgressStyleModel",
            "_view_count": null,
            "_view_module": "@jupyter-widgets/base",
            "_view_module_version": "1.2.0",
            "_view_name": "StyleView",
            "bar_color": null,
            "description_width": ""
          }
        },
        "c688813840ce4a389336a5f38edaa179": {
          "model_module": "@jupyter-widgets/base",
          "model_name": "LayoutModel",
          "model_module_version": "1.2.0",
          "state": {
            "_model_module": "@jupyter-widgets/base",
            "_model_module_version": "1.2.0",
            "_model_name": "LayoutModel",
            "_view_count": null,
            "_view_module": "@jupyter-widgets/base",
            "_view_module_version": "1.2.0",
            "_view_name": "LayoutView",
            "align_content": null,
            "align_items": null,
            "align_self": null,
            "border": null,
            "bottom": null,
            "display": null,
            "flex": null,
            "flex_flow": null,
            "grid_area": null,
            "grid_auto_columns": null,
            "grid_auto_flow": null,
            "grid_auto_rows": null,
            "grid_column": null,
            "grid_gap": null,
            "grid_row": null,
            "grid_template_areas": null,
            "grid_template_columns": null,
            "grid_template_rows": null,
            "height": null,
            "justify_content": null,
            "justify_items": null,
            "left": null,
            "margin": null,
            "max_height": null,
            "max_width": null,
            "min_height": null,
            "min_width": null,
            "object_fit": null,
            "object_position": null,
            "order": null,
            "overflow": null,
            "overflow_x": null,
            "overflow_y": null,
            "padding": null,
            "right": null,
            "top": null,
            "visibility": null,
            "width": null
          }
        },
        "05663b3ad6424e17af44314415806538": {
          "model_module": "@jupyter-widgets/controls",
          "model_name": "DescriptionStyleModel",
          "model_module_version": "1.5.0",
          "state": {
            "_model_module": "@jupyter-widgets/controls",
            "_model_module_version": "1.5.0",
            "_model_name": "DescriptionStyleModel",
            "_view_count": null,
            "_view_module": "@jupyter-widgets/base",
            "_view_module_version": "1.2.0",
            "_view_name": "StyleView",
            "description_width": ""
          }
        },
        "6c4b4ce59d3c454790044c782c14f2e2": {
          "model_module": "@jupyter-widgets/controls",
          "model_name": "HBoxModel",
          "model_module_version": "1.5.0",
          "state": {
            "_dom_classes": [],
            "_model_module": "@jupyter-widgets/controls",
            "_model_module_version": "1.5.0",
            "_model_name": "HBoxModel",
            "_view_count": null,
            "_view_module": "@jupyter-widgets/controls",
            "_view_module_version": "1.5.0",
            "_view_name": "HBoxView",
            "box_style": "",
            "children": [
              "IPY_MODEL_30ce98de29134812a7754feee4f3fcc6",
              "IPY_MODEL_e6ac731cc9d24945ae525e579aa3dc42",
              "IPY_MODEL_9f713a576b1d4875acf7b9f0c5035151"
            ],
            "layout": "IPY_MODEL_50e65da158ba48d0aa5fb96333184f8f"
          }
        },
        "30ce98de29134812a7754feee4f3fcc6": {
          "model_module": "@jupyter-widgets/controls",
          "model_name": "HTMLModel",
          "model_module_version": "1.5.0",
          "state": {
            "_dom_classes": [],
            "_model_module": "@jupyter-widgets/controls",
            "_model_module_version": "1.5.0",
            "_model_name": "HTMLModel",
            "_view_count": null,
            "_view_module": "@jupyter-widgets/controls",
            "_view_module_version": "1.5.0",
            "_view_name": "HTMLView",
            "description": "",
            "description_tooltip": null,
            "layout": "IPY_MODEL_8899a6ef79d742ac91ae0e4a673b11dc",
            "placeholder": "​",
            "style": "IPY_MODEL_803abd778bd3466bac316855f4589246",
            "value": "Downloading (…)lve/main/config.json: 100%"
          }
        },
        "e6ac731cc9d24945ae525e579aa3dc42": {
          "model_module": "@jupyter-widgets/controls",
          "model_name": "FloatProgressModel",
          "model_module_version": "1.5.0",
          "state": {
            "_dom_classes": [],
            "_model_module": "@jupyter-widgets/controls",
            "_model_module_version": "1.5.0",
            "_model_name": "FloatProgressModel",
            "_view_count": null,
            "_view_module": "@jupyter-widgets/controls",
            "_view_module_version": "1.5.0",
            "_view_name": "ProgressView",
            "bar_style": "success",
            "description": "",
            "description_tooltip": null,
            "layout": "IPY_MODEL_1527e73702884abba509a9cfdd8bf810",
            "max": 385,
            "min": 0,
            "orientation": "horizontal",
            "style": "IPY_MODEL_268a14544d9a4603a2fa03c749f9a78b",
            "value": 385
          }
        },
        "9f713a576b1d4875acf7b9f0c5035151": {
          "model_module": "@jupyter-widgets/controls",
          "model_name": "HTMLModel",
          "model_module_version": "1.5.0",
          "state": {
            "_dom_classes": [],
            "_model_module": "@jupyter-widgets/controls",
            "_model_module_version": "1.5.0",
            "_model_name": "HTMLModel",
            "_view_count": null,
            "_view_module": "@jupyter-widgets/controls",
            "_view_module_version": "1.5.0",
            "_view_name": "HTMLView",
            "description": "",
            "description_tooltip": null,
            "layout": "IPY_MODEL_b756f7cd43684540a5e0dc92d783747d",
            "placeholder": "​",
            "style": "IPY_MODEL_42ede042da924d619b70c3a885e8eba7",
            "value": " 385/385 [00:00&lt;00:00, 15.8kB/s]"
          }
        },
        "50e65da158ba48d0aa5fb96333184f8f": {
          "model_module": "@jupyter-widgets/base",
          "model_name": "LayoutModel",
          "model_module_version": "1.2.0",
          "state": {
            "_model_module": "@jupyter-widgets/base",
            "_model_module_version": "1.2.0",
            "_model_name": "LayoutModel",
            "_view_count": null,
            "_view_module": "@jupyter-widgets/base",
            "_view_module_version": "1.2.0",
            "_view_name": "LayoutView",
            "align_content": null,
            "align_items": null,
            "align_self": null,
            "border": null,
            "bottom": null,
            "display": null,
            "flex": null,
            "flex_flow": null,
            "grid_area": null,
            "grid_auto_columns": null,
            "grid_auto_flow": null,
            "grid_auto_rows": null,
            "grid_column": null,
            "grid_gap": null,
            "grid_row": null,
            "grid_template_areas": null,
            "grid_template_columns": null,
            "grid_template_rows": null,
            "height": null,
            "justify_content": null,
            "justify_items": null,
            "left": null,
            "margin": null,
            "max_height": null,
            "max_width": null,
            "min_height": null,
            "min_width": null,
            "object_fit": null,
            "object_position": null,
            "order": null,
            "overflow": null,
            "overflow_x": null,
            "overflow_y": null,
            "padding": null,
            "right": null,
            "top": null,
            "visibility": null,
            "width": null
          }
        },
        "8899a6ef79d742ac91ae0e4a673b11dc": {
          "model_module": "@jupyter-widgets/base",
          "model_name": "LayoutModel",
          "model_module_version": "1.2.0",
          "state": {
            "_model_module": "@jupyter-widgets/base",
            "_model_module_version": "1.2.0",
            "_model_name": "LayoutModel",
            "_view_count": null,
            "_view_module": "@jupyter-widgets/base",
            "_view_module_version": "1.2.0",
            "_view_name": "LayoutView",
            "align_content": null,
            "align_items": null,
            "align_self": null,
            "border": null,
            "bottom": null,
            "display": null,
            "flex": null,
            "flex_flow": null,
            "grid_area": null,
            "grid_auto_columns": null,
            "grid_auto_flow": null,
            "grid_auto_rows": null,
            "grid_column": null,
            "grid_gap": null,
            "grid_row": null,
            "grid_template_areas": null,
            "grid_template_columns": null,
            "grid_template_rows": null,
            "height": null,
            "justify_content": null,
            "justify_items": null,
            "left": null,
            "margin": null,
            "max_height": null,
            "max_width": null,
            "min_height": null,
            "min_width": null,
            "object_fit": null,
            "object_position": null,
            "order": null,
            "overflow": null,
            "overflow_x": null,
            "overflow_y": null,
            "padding": null,
            "right": null,
            "top": null,
            "visibility": null,
            "width": null
          }
        },
        "803abd778bd3466bac316855f4589246": {
          "model_module": "@jupyter-widgets/controls",
          "model_name": "DescriptionStyleModel",
          "model_module_version": "1.5.0",
          "state": {
            "_model_module": "@jupyter-widgets/controls",
            "_model_module_version": "1.5.0",
            "_model_name": "DescriptionStyleModel",
            "_view_count": null,
            "_view_module": "@jupyter-widgets/base",
            "_view_module_version": "1.2.0",
            "_view_name": "StyleView",
            "description_width": ""
          }
        },
        "1527e73702884abba509a9cfdd8bf810": {
          "model_module": "@jupyter-widgets/base",
          "model_name": "LayoutModel",
          "model_module_version": "1.2.0",
          "state": {
            "_model_module": "@jupyter-widgets/base",
            "_model_module_version": "1.2.0",
            "_model_name": "LayoutModel",
            "_view_count": null,
            "_view_module": "@jupyter-widgets/base",
            "_view_module_version": "1.2.0",
            "_view_name": "LayoutView",
            "align_content": null,
            "align_items": null,
            "align_self": null,
            "border": null,
            "bottom": null,
            "display": null,
            "flex": null,
            "flex_flow": null,
            "grid_area": null,
            "grid_auto_columns": null,
            "grid_auto_flow": null,
            "grid_auto_rows": null,
            "grid_column": null,
            "grid_gap": null,
            "grid_row": null,
            "grid_template_areas": null,
            "grid_template_columns": null,
            "grid_template_rows": null,
            "height": null,
            "justify_content": null,
            "justify_items": null,
            "left": null,
            "margin": null,
            "max_height": null,
            "max_width": null,
            "min_height": null,
            "min_width": null,
            "object_fit": null,
            "object_position": null,
            "order": null,
            "overflow": null,
            "overflow_x": null,
            "overflow_y": null,
            "padding": null,
            "right": null,
            "top": null,
            "visibility": null,
            "width": null
          }
        },
        "268a14544d9a4603a2fa03c749f9a78b": {
          "model_module": "@jupyter-widgets/controls",
          "model_name": "ProgressStyleModel",
          "model_module_version": "1.5.0",
          "state": {
            "_model_module": "@jupyter-widgets/controls",
            "_model_module_version": "1.5.0",
            "_model_name": "ProgressStyleModel",
            "_view_count": null,
            "_view_module": "@jupyter-widgets/base",
            "_view_module_version": "1.2.0",
            "_view_name": "StyleView",
            "bar_color": null,
            "description_width": ""
          }
        },
        "b756f7cd43684540a5e0dc92d783747d": {
          "model_module": "@jupyter-widgets/base",
          "model_name": "LayoutModel",
          "model_module_version": "1.2.0",
          "state": {
            "_model_module": "@jupyter-widgets/base",
            "_model_module_version": "1.2.0",
            "_model_name": "LayoutModel",
            "_view_count": null,
            "_view_module": "@jupyter-widgets/base",
            "_view_module_version": "1.2.0",
            "_view_name": "LayoutView",
            "align_content": null,
            "align_items": null,
            "align_self": null,
            "border": null,
            "bottom": null,
            "display": null,
            "flex": null,
            "flex_flow": null,
            "grid_area": null,
            "grid_auto_columns": null,
            "grid_auto_flow": null,
            "grid_auto_rows": null,
            "grid_column": null,
            "grid_gap": null,
            "grid_row": null,
            "grid_template_areas": null,
            "grid_template_columns": null,
            "grid_template_rows": null,
            "height": null,
            "justify_content": null,
            "justify_items": null,
            "left": null,
            "margin": null,
            "max_height": null,
            "max_width": null,
            "min_height": null,
            "min_width": null,
            "object_fit": null,
            "object_position": null,
            "order": null,
            "overflow": null,
            "overflow_x": null,
            "overflow_y": null,
            "padding": null,
            "right": null,
            "top": null,
            "visibility": null,
            "width": null
          }
        },
        "42ede042da924d619b70c3a885e8eba7": {
          "model_module": "@jupyter-widgets/controls",
          "model_name": "DescriptionStyleModel",
          "model_module_version": "1.5.0",
          "state": {
            "_model_module": "@jupyter-widgets/controls",
            "_model_module_version": "1.5.0",
            "_model_name": "DescriptionStyleModel",
            "_view_count": null,
            "_view_module": "@jupyter-widgets/base",
            "_view_module_version": "1.2.0",
            "_view_name": "StyleView",
            "description_width": ""
          }
        },
        "c57ccd3a20b641dcabdfaf0115053118": {
          "model_module": "@jupyter-widgets/controls",
          "model_name": "HBoxModel",
          "model_module_version": "1.5.0",
          "state": {
            "_dom_classes": [],
            "_model_module": "@jupyter-widgets/controls",
            "_model_module_version": "1.5.0",
            "_model_name": "HBoxModel",
            "_view_count": null,
            "_view_module": "@jupyter-widgets/controls",
            "_view_module_version": "1.5.0",
            "_view_name": "HBoxView",
            "box_style": "",
            "children": [
              "IPY_MODEL_b8fb6b7da3c545b1bd19cf3386600976",
              "IPY_MODEL_25def2e1f42449968cddb2ebf83a1e96",
              "IPY_MODEL_10bef5425b9545f7b0c3110afd90b389"
            ],
            "layout": "IPY_MODEL_10dee93128264999a9550073d69e3012"
          }
        },
        "b8fb6b7da3c545b1bd19cf3386600976": {
          "model_module": "@jupyter-widgets/controls",
          "model_name": "HTMLModel",
          "model_module_version": "1.5.0",
          "state": {
            "_dom_classes": [],
            "_model_module": "@jupyter-widgets/controls",
            "_model_module_version": "1.5.0",
            "_model_name": "HTMLModel",
            "_view_count": null,
            "_view_module": "@jupyter-widgets/controls",
            "_view_module_version": "1.5.0",
            "_view_name": "HTMLView",
            "description": "",
            "description_tooltip": null,
            "layout": "IPY_MODEL_069ade44905942a4a495794bd4840060",
            "placeholder": "​",
            "style": "IPY_MODEL_6a5b07a6526a4c02b729748b180859ca",
            "value": "Downloading (…)solve/main/vocab.txt: 100%"
          }
        },
        "25def2e1f42449968cddb2ebf83a1e96": {
          "model_module": "@jupyter-widgets/controls",
          "model_name": "FloatProgressModel",
          "model_module_version": "1.5.0",
          "state": {
            "_dom_classes": [],
            "_model_module": "@jupyter-widgets/controls",
            "_model_module_version": "1.5.0",
            "_model_name": "FloatProgressModel",
            "_view_count": null,
            "_view_module": "@jupyter-widgets/controls",
            "_view_module_version": "1.5.0",
            "_view_name": "ProgressView",
            "bar_style": "success",
            "description": "",
            "description_tooltip": null,
            "layout": "IPY_MODEL_03ab90cb9813463593c2d62a5c7fb3fc",
            "max": 231508,
            "min": 0,
            "orientation": "horizontal",
            "style": "IPY_MODEL_c721830ce8c14966b60dc71762601d20",
            "value": 231508
          }
        },
        "10bef5425b9545f7b0c3110afd90b389": {
          "model_module": "@jupyter-widgets/controls",
          "model_name": "HTMLModel",
          "model_module_version": "1.5.0",
          "state": {
            "_dom_classes": [],
            "_model_module": "@jupyter-widgets/controls",
            "_model_module_version": "1.5.0",
            "_model_name": "HTMLModel",
            "_view_count": null,
            "_view_module": "@jupyter-widgets/controls",
            "_view_module_version": "1.5.0",
            "_view_name": "HTMLView",
            "description": "",
            "description_tooltip": null,
            "layout": "IPY_MODEL_04f6305e84284b04a66050d59ad02fb3",
            "placeholder": "​",
            "style": "IPY_MODEL_004757efc25d49f39598b54666e361dd",
            "value": " 232k/232k [00:00&lt;00:00, 7.86MB/s]"
          }
        },
        "10dee93128264999a9550073d69e3012": {
          "model_module": "@jupyter-widgets/base",
          "model_name": "LayoutModel",
          "model_module_version": "1.2.0",
          "state": {
            "_model_module": "@jupyter-widgets/base",
            "_model_module_version": "1.2.0",
            "_model_name": "LayoutModel",
            "_view_count": null,
            "_view_module": "@jupyter-widgets/base",
            "_view_module_version": "1.2.0",
            "_view_name": "LayoutView",
            "align_content": null,
            "align_items": null,
            "align_self": null,
            "border": null,
            "bottom": null,
            "display": null,
            "flex": null,
            "flex_flow": null,
            "grid_area": null,
            "grid_auto_columns": null,
            "grid_auto_flow": null,
            "grid_auto_rows": null,
            "grid_column": null,
            "grid_gap": null,
            "grid_row": null,
            "grid_template_areas": null,
            "grid_template_columns": null,
            "grid_template_rows": null,
            "height": null,
            "justify_content": null,
            "justify_items": null,
            "left": null,
            "margin": null,
            "max_height": null,
            "max_width": null,
            "min_height": null,
            "min_width": null,
            "object_fit": null,
            "object_position": null,
            "order": null,
            "overflow": null,
            "overflow_x": null,
            "overflow_y": null,
            "padding": null,
            "right": null,
            "top": null,
            "visibility": null,
            "width": null
          }
        },
        "069ade44905942a4a495794bd4840060": {
          "model_module": "@jupyter-widgets/base",
          "model_name": "LayoutModel",
          "model_module_version": "1.2.0",
          "state": {
            "_model_module": "@jupyter-widgets/base",
            "_model_module_version": "1.2.0",
            "_model_name": "LayoutModel",
            "_view_count": null,
            "_view_module": "@jupyter-widgets/base",
            "_view_module_version": "1.2.0",
            "_view_name": "LayoutView",
            "align_content": null,
            "align_items": null,
            "align_self": null,
            "border": null,
            "bottom": null,
            "display": null,
            "flex": null,
            "flex_flow": null,
            "grid_area": null,
            "grid_auto_columns": null,
            "grid_auto_flow": null,
            "grid_auto_rows": null,
            "grid_column": null,
            "grid_gap": null,
            "grid_row": null,
            "grid_template_areas": null,
            "grid_template_columns": null,
            "grid_template_rows": null,
            "height": null,
            "justify_content": null,
            "justify_items": null,
            "left": null,
            "margin": null,
            "max_height": null,
            "max_width": null,
            "min_height": null,
            "min_width": null,
            "object_fit": null,
            "object_position": null,
            "order": null,
            "overflow": null,
            "overflow_x": null,
            "overflow_y": null,
            "padding": null,
            "right": null,
            "top": null,
            "visibility": null,
            "width": null
          }
        },
        "6a5b07a6526a4c02b729748b180859ca": {
          "model_module": "@jupyter-widgets/controls",
          "model_name": "DescriptionStyleModel",
          "model_module_version": "1.5.0",
          "state": {
            "_model_module": "@jupyter-widgets/controls",
            "_model_module_version": "1.5.0",
            "_model_name": "DescriptionStyleModel",
            "_view_count": null,
            "_view_module": "@jupyter-widgets/base",
            "_view_module_version": "1.2.0",
            "_view_name": "StyleView",
            "description_width": ""
          }
        },
        "03ab90cb9813463593c2d62a5c7fb3fc": {
          "model_module": "@jupyter-widgets/base",
          "model_name": "LayoutModel",
          "model_module_version": "1.2.0",
          "state": {
            "_model_module": "@jupyter-widgets/base",
            "_model_module_version": "1.2.0",
            "_model_name": "LayoutModel",
            "_view_count": null,
            "_view_module": "@jupyter-widgets/base",
            "_view_module_version": "1.2.0",
            "_view_name": "LayoutView",
            "align_content": null,
            "align_items": null,
            "align_self": null,
            "border": null,
            "bottom": null,
            "display": null,
            "flex": null,
            "flex_flow": null,
            "grid_area": null,
            "grid_auto_columns": null,
            "grid_auto_flow": null,
            "grid_auto_rows": null,
            "grid_column": null,
            "grid_gap": null,
            "grid_row": null,
            "grid_template_areas": null,
            "grid_template_columns": null,
            "grid_template_rows": null,
            "height": null,
            "justify_content": null,
            "justify_items": null,
            "left": null,
            "margin": null,
            "max_height": null,
            "max_width": null,
            "min_height": null,
            "min_width": null,
            "object_fit": null,
            "object_position": null,
            "order": null,
            "overflow": null,
            "overflow_x": null,
            "overflow_y": null,
            "padding": null,
            "right": null,
            "top": null,
            "visibility": null,
            "width": null
          }
        },
        "c721830ce8c14966b60dc71762601d20": {
          "model_module": "@jupyter-widgets/controls",
          "model_name": "ProgressStyleModel",
          "model_module_version": "1.5.0",
          "state": {
            "_model_module": "@jupyter-widgets/controls",
            "_model_module_version": "1.5.0",
            "_model_name": "ProgressStyleModel",
            "_view_count": null,
            "_view_module": "@jupyter-widgets/base",
            "_view_module_version": "1.2.0",
            "_view_name": "StyleView",
            "bar_color": null,
            "description_width": ""
          }
        },
        "04f6305e84284b04a66050d59ad02fb3": {
          "model_module": "@jupyter-widgets/base",
          "model_name": "LayoutModel",
          "model_module_version": "1.2.0",
          "state": {
            "_model_module": "@jupyter-widgets/base",
            "_model_module_version": "1.2.0",
            "_model_name": "LayoutModel",
            "_view_count": null,
            "_view_module": "@jupyter-widgets/base",
            "_view_module_version": "1.2.0",
            "_view_name": "LayoutView",
            "align_content": null,
            "align_items": null,
            "align_self": null,
            "border": null,
            "bottom": null,
            "display": null,
            "flex": null,
            "flex_flow": null,
            "grid_area": null,
            "grid_auto_columns": null,
            "grid_auto_flow": null,
            "grid_auto_rows": null,
            "grid_column": null,
            "grid_gap": null,
            "grid_row": null,
            "grid_template_areas": null,
            "grid_template_columns": null,
            "grid_template_rows": null,
            "height": null,
            "justify_content": null,
            "justify_items": null,
            "left": null,
            "margin": null,
            "max_height": null,
            "max_width": null,
            "min_height": null,
            "min_width": null,
            "object_fit": null,
            "object_position": null,
            "order": null,
            "overflow": null,
            "overflow_x": null,
            "overflow_y": null,
            "padding": null,
            "right": null,
            "top": null,
            "visibility": null,
            "width": null
          }
        },
        "004757efc25d49f39598b54666e361dd": {
          "model_module": "@jupyter-widgets/controls",
          "model_name": "DescriptionStyleModel",
          "model_module_version": "1.5.0",
          "state": {
            "_model_module": "@jupyter-widgets/controls",
            "_model_module_version": "1.5.0",
            "_model_name": "DescriptionStyleModel",
            "_view_count": null,
            "_view_module": "@jupyter-widgets/base",
            "_view_module_version": "1.2.0",
            "_view_name": "StyleView",
            "description_width": ""
          }
        },
        "6022957cd5004d0aad632bfc682a25cc": {
          "model_module": "@jupyter-widgets/controls",
          "model_name": "HBoxModel",
          "model_module_version": "1.5.0",
          "state": {
            "_dom_classes": [],
            "_model_module": "@jupyter-widgets/controls",
            "_model_module_version": "1.5.0",
            "_model_name": "HBoxModel",
            "_view_count": null,
            "_view_module": "@jupyter-widgets/controls",
            "_view_module_version": "1.5.0",
            "_view_name": "HBoxView",
            "box_style": "",
            "children": [
              "IPY_MODEL_e89ab15962ca45a193b1f30cc50a2f85",
              "IPY_MODEL_152f7990fc1d4059a30794ed7c1e3991",
              "IPY_MODEL_35c947703c434d96a05647415728f4bb"
            ],
            "layout": "IPY_MODEL_4a50e608234049a39a1b604c1cd5567c"
          }
        },
        "e89ab15962ca45a193b1f30cc50a2f85": {
          "model_module": "@jupyter-widgets/controls",
          "model_name": "HTMLModel",
          "model_module_version": "1.5.0",
          "state": {
            "_dom_classes": [],
            "_model_module": "@jupyter-widgets/controls",
            "_model_module_version": "1.5.0",
            "_model_name": "HTMLModel",
            "_view_count": null,
            "_view_module": "@jupyter-widgets/controls",
            "_view_module_version": "1.5.0",
            "_view_name": "HTMLView",
            "description": "",
            "description_tooltip": null,
            "layout": "IPY_MODEL_2d950856ba054abb87a78bf1c623bad8",
            "placeholder": "​",
            "style": "IPY_MODEL_66129b4b390349e6948ccf498a5ceffd",
            "value": "Downloading (…)cial_tokens_map.json: 100%"
          }
        },
        "152f7990fc1d4059a30794ed7c1e3991": {
          "model_module": "@jupyter-widgets/controls",
          "model_name": "FloatProgressModel",
          "model_module_version": "1.5.0",
          "state": {
            "_dom_classes": [],
            "_model_module": "@jupyter-widgets/controls",
            "_model_module_version": "1.5.0",
            "_model_name": "FloatProgressModel",
            "_view_count": null,
            "_view_module": "@jupyter-widgets/controls",
            "_view_module_version": "1.5.0",
            "_view_name": "ProgressView",
            "bar_style": "success",
            "description": "",
            "description_tooltip": null,
            "layout": "IPY_MODEL_dc48c3db844c47dc935c4f3087d366d7",
            "max": 112,
            "min": 0,
            "orientation": "horizontal",
            "style": "IPY_MODEL_76997ba0b06a4e538992cc771a9599c7",
            "value": 112
          }
        },
        "35c947703c434d96a05647415728f4bb": {
          "model_module": "@jupyter-widgets/controls",
          "model_name": "HTMLModel",
          "model_module_version": "1.5.0",
          "state": {
            "_dom_classes": [],
            "_model_module": "@jupyter-widgets/controls",
            "_model_module_version": "1.5.0",
            "_model_name": "HTMLModel",
            "_view_count": null,
            "_view_module": "@jupyter-widgets/controls",
            "_view_module_version": "1.5.0",
            "_view_name": "HTMLView",
            "description": "",
            "description_tooltip": null,
            "layout": "IPY_MODEL_4c9a743a6e694a469ef8d8277a755eb4",
            "placeholder": "​",
            "style": "IPY_MODEL_41968f869661444a9ec1828a2ba43b69",
            "value": " 112/112 [00:00&lt;00:00, 6.32kB/s]"
          }
        },
        "4a50e608234049a39a1b604c1cd5567c": {
          "model_module": "@jupyter-widgets/base",
          "model_name": "LayoutModel",
          "model_module_version": "1.2.0",
          "state": {
            "_model_module": "@jupyter-widgets/base",
            "_model_module_version": "1.2.0",
            "_model_name": "LayoutModel",
            "_view_count": null,
            "_view_module": "@jupyter-widgets/base",
            "_view_module_version": "1.2.0",
            "_view_name": "LayoutView",
            "align_content": null,
            "align_items": null,
            "align_self": null,
            "border": null,
            "bottom": null,
            "display": null,
            "flex": null,
            "flex_flow": null,
            "grid_area": null,
            "grid_auto_columns": null,
            "grid_auto_flow": null,
            "grid_auto_rows": null,
            "grid_column": null,
            "grid_gap": null,
            "grid_row": null,
            "grid_template_areas": null,
            "grid_template_columns": null,
            "grid_template_rows": null,
            "height": null,
            "justify_content": null,
            "justify_items": null,
            "left": null,
            "margin": null,
            "max_height": null,
            "max_width": null,
            "min_height": null,
            "min_width": null,
            "object_fit": null,
            "object_position": null,
            "order": null,
            "overflow": null,
            "overflow_x": null,
            "overflow_y": null,
            "padding": null,
            "right": null,
            "top": null,
            "visibility": null,
            "width": null
          }
        },
        "2d950856ba054abb87a78bf1c623bad8": {
          "model_module": "@jupyter-widgets/base",
          "model_name": "LayoutModel",
          "model_module_version": "1.2.0",
          "state": {
            "_model_module": "@jupyter-widgets/base",
            "_model_module_version": "1.2.0",
            "_model_name": "LayoutModel",
            "_view_count": null,
            "_view_module": "@jupyter-widgets/base",
            "_view_module_version": "1.2.0",
            "_view_name": "LayoutView",
            "align_content": null,
            "align_items": null,
            "align_self": null,
            "border": null,
            "bottom": null,
            "display": null,
            "flex": null,
            "flex_flow": null,
            "grid_area": null,
            "grid_auto_columns": null,
            "grid_auto_flow": null,
            "grid_auto_rows": null,
            "grid_column": null,
            "grid_gap": null,
            "grid_row": null,
            "grid_template_areas": null,
            "grid_template_columns": null,
            "grid_template_rows": null,
            "height": null,
            "justify_content": null,
            "justify_items": null,
            "left": null,
            "margin": null,
            "max_height": null,
            "max_width": null,
            "min_height": null,
            "min_width": null,
            "object_fit": null,
            "object_position": null,
            "order": null,
            "overflow": null,
            "overflow_x": null,
            "overflow_y": null,
            "padding": null,
            "right": null,
            "top": null,
            "visibility": null,
            "width": null
          }
        },
        "66129b4b390349e6948ccf498a5ceffd": {
          "model_module": "@jupyter-widgets/controls",
          "model_name": "DescriptionStyleModel",
          "model_module_version": "1.5.0",
          "state": {
            "_model_module": "@jupyter-widgets/controls",
            "_model_module_version": "1.5.0",
            "_model_name": "DescriptionStyleModel",
            "_view_count": null,
            "_view_module": "@jupyter-widgets/base",
            "_view_module_version": "1.2.0",
            "_view_name": "StyleView",
            "description_width": ""
          }
        },
        "dc48c3db844c47dc935c4f3087d366d7": {
          "model_module": "@jupyter-widgets/base",
          "model_name": "LayoutModel",
          "model_module_version": "1.2.0",
          "state": {
            "_model_module": "@jupyter-widgets/base",
            "_model_module_version": "1.2.0",
            "_model_name": "LayoutModel",
            "_view_count": null,
            "_view_module": "@jupyter-widgets/base",
            "_view_module_version": "1.2.0",
            "_view_name": "LayoutView",
            "align_content": null,
            "align_items": null,
            "align_self": null,
            "border": null,
            "bottom": null,
            "display": null,
            "flex": null,
            "flex_flow": null,
            "grid_area": null,
            "grid_auto_columns": null,
            "grid_auto_flow": null,
            "grid_auto_rows": null,
            "grid_column": null,
            "grid_gap": null,
            "grid_row": null,
            "grid_template_areas": null,
            "grid_template_columns": null,
            "grid_template_rows": null,
            "height": null,
            "justify_content": null,
            "justify_items": null,
            "left": null,
            "margin": null,
            "max_height": null,
            "max_width": null,
            "min_height": null,
            "min_width": null,
            "object_fit": null,
            "object_position": null,
            "order": null,
            "overflow": null,
            "overflow_x": null,
            "overflow_y": null,
            "padding": null,
            "right": null,
            "top": null,
            "visibility": null,
            "width": null
          }
        },
        "76997ba0b06a4e538992cc771a9599c7": {
          "model_module": "@jupyter-widgets/controls",
          "model_name": "ProgressStyleModel",
          "model_module_version": "1.5.0",
          "state": {
            "_model_module": "@jupyter-widgets/controls",
            "_model_module_version": "1.5.0",
            "_model_name": "ProgressStyleModel",
            "_view_count": null,
            "_view_module": "@jupyter-widgets/base",
            "_view_module_version": "1.2.0",
            "_view_name": "StyleView",
            "bar_color": null,
            "description_width": ""
          }
        },
        "4c9a743a6e694a469ef8d8277a755eb4": {
          "model_module": "@jupyter-widgets/base",
          "model_name": "LayoutModel",
          "model_module_version": "1.2.0",
          "state": {
            "_model_module": "@jupyter-widgets/base",
            "_model_module_version": "1.2.0",
            "_model_name": "LayoutModel",
            "_view_count": null,
            "_view_module": "@jupyter-widgets/base",
            "_view_module_version": "1.2.0",
            "_view_name": "LayoutView",
            "align_content": null,
            "align_items": null,
            "align_self": null,
            "border": null,
            "bottom": null,
            "display": null,
            "flex": null,
            "flex_flow": null,
            "grid_area": null,
            "grid_auto_columns": null,
            "grid_auto_flow": null,
            "grid_auto_rows": null,
            "grid_column": null,
            "grid_gap": null,
            "grid_row": null,
            "grid_template_areas": null,
            "grid_template_columns": null,
            "grid_template_rows": null,
            "height": null,
            "justify_content": null,
            "justify_items": null,
            "left": null,
            "margin": null,
            "max_height": null,
            "max_width": null,
            "min_height": null,
            "min_width": null,
            "object_fit": null,
            "object_position": null,
            "order": null,
            "overflow": null,
            "overflow_x": null,
            "overflow_y": null,
            "padding": null,
            "right": null,
            "top": null,
            "visibility": null,
            "width": null
          }
        },
        "41968f869661444a9ec1828a2ba43b69": {
          "model_module": "@jupyter-widgets/controls",
          "model_name": "DescriptionStyleModel",
          "model_module_version": "1.5.0",
          "state": {
            "_model_module": "@jupyter-widgets/controls",
            "_model_module_version": "1.5.0",
            "_model_name": "DescriptionStyleModel",
            "_view_count": null,
            "_view_module": "@jupyter-widgets/base",
            "_view_module_version": "1.2.0",
            "_view_name": "StyleView",
            "description_width": ""
          }
        },
        "8d4d4d7777ac41db81e3b40b17a7841c": {
          "model_module": "@jupyter-widgets/controls",
          "model_name": "HBoxModel",
          "model_module_version": "1.5.0",
          "state": {
            "_dom_classes": [],
            "_model_module": "@jupyter-widgets/controls",
            "_model_module_version": "1.5.0",
            "_model_name": "HBoxModel",
            "_view_count": null,
            "_view_module": "@jupyter-widgets/controls",
            "_view_module_version": "1.5.0",
            "_view_name": "HBoxView",
            "box_style": "",
            "children": [
              "IPY_MODEL_5cc7025ac17146d79f4e9dec53dbc299",
              "IPY_MODEL_0b50ab8240724908aafade3884d50586",
              "IPY_MODEL_3303e3c89e8a468c996f8ca6e52227f0"
            ],
            "layout": "IPY_MODEL_0f4e48c3c0d145e0b7bab16850ed17c5"
          }
        },
        "5cc7025ac17146d79f4e9dec53dbc299": {
          "model_module": "@jupyter-widgets/controls",
          "model_name": "HTMLModel",
          "model_module_version": "1.5.0",
          "state": {
            "_dom_classes": [],
            "_model_module": "@jupyter-widgets/controls",
            "_model_module_version": "1.5.0",
            "_model_name": "HTMLModel",
            "_view_count": null,
            "_view_module": "@jupyter-widgets/controls",
            "_view_module_version": "1.5.0",
            "_view_name": "HTMLView",
            "description": "",
            "description_tooltip": null,
            "layout": "IPY_MODEL_a777df0d5d1f4b289da6cfd8496900da",
            "placeholder": "​",
            "style": "IPY_MODEL_84e7e761b63a449299b1022af34d6742",
            "value": "Valid: 100%"
          }
        },
        "0b50ab8240724908aafade3884d50586": {
          "model_module": "@jupyter-widgets/controls",
          "model_name": "FloatProgressModel",
          "model_module_version": "1.5.0",
          "state": {
            "_dom_classes": [],
            "_model_module": "@jupyter-widgets/controls",
            "_model_module_version": "1.5.0",
            "_model_name": "FloatProgressModel",
            "_view_count": null,
            "_view_module": "@jupyter-widgets/controls",
            "_view_module_version": "1.5.0",
            "_view_name": "ProgressView",
            "bar_style": "success",
            "description": "",
            "description_tooltip": null,
            "layout": "IPY_MODEL_cc565fcbcfeb47e88cf931d752645b80",
            "max": 69,
            "min": 0,
            "orientation": "horizontal",
            "style": "IPY_MODEL_6d0353e85f1243d58bc0116e683ce9d9",
            "value": 69
          }
        },
        "3303e3c89e8a468c996f8ca6e52227f0": {
          "model_module": "@jupyter-widgets/controls",
          "model_name": "HTMLModel",
          "model_module_version": "1.5.0",
          "state": {
            "_dom_classes": [],
            "_model_module": "@jupyter-widgets/controls",
            "_model_module_version": "1.5.0",
            "_model_name": "HTMLModel",
            "_view_count": null,
            "_view_module": "@jupyter-widgets/controls",
            "_view_module_version": "1.5.0",
            "_view_name": "HTMLView",
            "description": "",
            "description_tooltip": null,
            "layout": "IPY_MODEL_f1ddc43244604193920ec70e1eaf9194",
            "placeholder": "​",
            "style": "IPY_MODEL_e9ed5f58f7c341448353bf0dcb04ecc0",
            "value": " 69/69 [00:08&lt;00:00,  9.38it/s]"
          }
        },
        "0f4e48c3c0d145e0b7bab16850ed17c5": {
          "model_module": "@jupyter-widgets/base",
          "model_name": "LayoutModel",
          "model_module_version": "1.2.0",
          "state": {
            "_model_module": "@jupyter-widgets/base",
            "_model_module_version": "1.2.0",
            "_model_name": "LayoutModel",
            "_view_count": null,
            "_view_module": "@jupyter-widgets/base",
            "_view_module_version": "1.2.0",
            "_view_name": "LayoutView",
            "align_content": null,
            "align_items": null,
            "align_self": null,
            "border": null,
            "bottom": null,
            "display": null,
            "flex": null,
            "flex_flow": null,
            "grid_area": null,
            "grid_auto_columns": null,
            "grid_auto_flow": null,
            "grid_auto_rows": null,
            "grid_column": null,
            "grid_gap": null,
            "grid_row": null,
            "grid_template_areas": null,
            "grid_template_columns": null,
            "grid_template_rows": null,
            "height": null,
            "justify_content": null,
            "justify_items": null,
            "left": null,
            "margin": null,
            "max_height": null,
            "max_width": null,
            "min_height": null,
            "min_width": null,
            "object_fit": null,
            "object_position": null,
            "order": null,
            "overflow": null,
            "overflow_x": null,
            "overflow_y": null,
            "padding": null,
            "right": null,
            "top": null,
            "visibility": null,
            "width": null
          }
        },
        "a777df0d5d1f4b289da6cfd8496900da": {
          "model_module": "@jupyter-widgets/base",
          "model_name": "LayoutModel",
          "model_module_version": "1.2.0",
          "state": {
            "_model_module": "@jupyter-widgets/base",
            "_model_module_version": "1.2.0",
            "_model_name": "LayoutModel",
            "_view_count": null,
            "_view_module": "@jupyter-widgets/base",
            "_view_module_version": "1.2.0",
            "_view_name": "LayoutView",
            "align_content": null,
            "align_items": null,
            "align_self": null,
            "border": null,
            "bottom": null,
            "display": null,
            "flex": null,
            "flex_flow": null,
            "grid_area": null,
            "grid_auto_columns": null,
            "grid_auto_flow": null,
            "grid_auto_rows": null,
            "grid_column": null,
            "grid_gap": null,
            "grid_row": null,
            "grid_template_areas": null,
            "grid_template_columns": null,
            "grid_template_rows": null,
            "height": null,
            "justify_content": null,
            "justify_items": null,
            "left": null,
            "margin": null,
            "max_height": null,
            "max_width": null,
            "min_height": null,
            "min_width": null,
            "object_fit": null,
            "object_position": null,
            "order": null,
            "overflow": null,
            "overflow_x": null,
            "overflow_y": null,
            "padding": null,
            "right": null,
            "top": null,
            "visibility": null,
            "width": null
          }
        },
        "84e7e761b63a449299b1022af34d6742": {
          "model_module": "@jupyter-widgets/controls",
          "model_name": "DescriptionStyleModel",
          "model_module_version": "1.5.0",
          "state": {
            "_model_module": "@jupyter-widgets/controls",
            "_model_module_version": "1.5.0",
            "_model_name": "DescriptionStyleModel",
            "_view_count": null,
            "_view_module": "@jupyter-widgets/base",
            "_view_module_version": "1.2.0",
            "_view_name": "StyleView",
            "description_width": ""
          }
        },
        "cc565fcbcfeb47e88cf931d752645b80": {
          "model_module": "@jupyter-widgets/base",
          "model_name": "LayoutModel",
          "model_module_version": "1.2.0",
          "state": {
            "_model_module": "@jupyter-widgets/base",
            "_model_module_version": "1.2.0",
            "_model_name": "LayoutModel",
            "_view_count": null,
            "_view_module": "@jupyter-widgets/base",
            "_view_module_version": "1.2.0",
            "_view_name": "LayoutView",
            "align_content": null,
            "align_items": null,
            "align_self": null,
            "border": null,
            "bottom": null,
            "display": null,
            "flex": null,
            "flex_flow": null,
            "grid_area": null,
            "grid_auto_columns": null,
            "grid_auto_flow": null,
            "grid_auto_rows": null,
            "grid_column": null,
            "grid_gap": null,
            "grid_row": null,
            "grid_template_areas": null,
            "grid_template_columns": null,
            "grid_template_rows": null,
            "height": null,
            "justify_content": null,
            "justify_items": null,
            "left": null,
            "margin": null,
            "max_height": null,
            "max_width": null,
            "min_height": null,
            "min_width": null,
            "object_fit": null,
            "object_position": null,
            "order": null,
            "overflow": null,
            "overflow_x": null,
            "overflow_y": null,
            "padding": null,
            "right": null,
            "top": null,
            "visibility": null,
            "width": null
          }
        },
        "6d0353e85f1243d58bc0116e683ce9d9": {
          "model_module": "@jupyter-widgets/controls",
          "model_name": "ProgressStyleModel",
          "model_module_version": "1.5.0",
          "state": {
            "_model_module": "@jupyter-widgets/controls",
            "_model_module_version": "1.5.0",
            "_model_name": "ProgressStyleModel",
            "_view_count": null,
            "_view_module": "@jupyter-widgets/base",
            "_view_module_version": "1.2.0",
            "_view_name": "StyleView",
            "bar_color": null,
            "description_width": ""
          }
        },
        "f1ddc43244604193920ec70e1eaf9194": {
          "model_module": "@jupyter-widgets/base",
          "model_name": "LayoutModel",
          "model_module_version": "1.2.0",
          "state": {
            "_model_module": "@jupyter-widgets/base",
            "_model_module_version": "1.2.0",
            "_model_name": "LayoutModel",
            "_view_count": null,
            "_view_module": "@jupyter-widgets/base",
            "_view_module_version": "1.2.0",
            "_view_name": "LayoutView",
            "align_content": null,
            "align_items": null,
            "align_self": null,
            "border": null,
            "bottom": null,
            "display": null,
            "flex": null,
            "flex_flow": null,
            "grid_area": null,
            "grid_auto_columns": null,
            "grid_auto_flow": null,
            "grid_auto_rows": null,
            "grid_column": null,
            "grid_gap": null,
            "grid_row": null,
            "grid_template_areas": null,
            "grid_template_columns": null,
            "grid_template_rows": null,
            "height": null,
            "justify_content": null,
            "justify_items": null,
            "left": null,
            "margin": null,
            "max_height": null,
            "max_width": null,
            "min_height": null,
            "min_width": null,
            "object_fit": null,
            "object_position": null,
            "order": null,
            "overflow": null,
            "overflow_x": null,
            "overflow_y": null,
            "padding": null,
            "right": null,
            "top": null,
            "visibility": null,
            "width": null
          }
        },
        "e9ed5f58f7c341448353bf0dcb04ecc0": {
          "model_module": "@jupyter-widgets/controls",
          "model_name": "DescriptionStyleModel",
          "model_module_version": "1.5.0",
          "state": {
            "_model_module": "@jupyter-widgets/controls",
            "_model_module_version": "1.5.0",
            "_model_name": "DescriptionStyleModel",
            "_view_count": null,
            "_view_module": "@jupyter-widgets/base",
            "_view_module_version": "1.2.0",
            "_view_name": "StyleView",
            "description_width": ""
          }
        },
        "8bbccbb8cd184258b0b97908a68a0a40": {
          "model_module": "@jupyter-widgets/controls",
          "model_name": "HBoxModel",
          "model_module_version": "1.5.0",
          "state": {
            "_dom_classes": [],
            "_model_module": "@jupyter-widgets/controls",
            "_model_module_version": "1.5.0",
            "_model_name": "HBoxModel",
            "_view_count": null,
            "_view_module": "@jupyter-widgets/controls",
            "_view_module_version": "1.5.0",
            "_view_name": "HBoxView",
            "box_style": "",
            "children": [
              "IPY_MODEL_bd022447d5e741db9263c953c1f9a3db",
              "IPY_MODEL_cd1d678554f24bec8d33b05c21d5c6ea",
              "IPY_MODEL_ced9aa0416a4449cb635947fcb62b1ce"
            ],
            "layout": "IPY_MODEL_879b4704e1b94745ae4f726f78378c30"
          }
        },
        "bd022447d5e741db9263c953c1f9a3db": {
          "model_module": "@jupyter-widgets/controls",
          "model_name": "HTMLModel",
          "model_module_version": "1.5.0",
          "state": {
            "_dom_classes": [],
            "_model_module": "@jupyter-widgets/controls",
            "_model_module_version": "1.5.0",
            "_model_name": "HTMLModel",
            "_view_count": null,
            "_view_module": "@jupyter-widgets/controls",
            "_view_module_version": "1.5.0",
            "_view_name": "HTMLView",
            "description": "",
            "description_tooltip": null,
            "layout": "IPY_MODEL_62693413890a431ca8ebf5fe9cf0265d",
            "placeholder": "​",
            "style": "IPY_MODEL_bb0aa502ed72433ca2cf30cb8802b4a9",
            "value": "Epochs: 100%"
          }
        },
        "cd1d678554f24bec8d33b05c21d5c6ea": {
          "model_module": "@jupyter-widgets/controls",
          "model_name": "FloatProgressModel",
          "model_module_version": "1.5.0",
          "state": {
            "_dom_classes": [],
            "_model_module": "@jupyter-widgets/controls",
            "_model_module_version": "1.5.0",
            "_model_name": "FloatProgressModel",
            "_view_count": null,
            "_view_module": "@jupyter-widgets/controls",
            "_view_module_version": "1.5.0",
            "_view_name": "ProgressView",
            "bar_style": "success",
            "description": "",
            "description_tooltip": null,
            "layout": "IPY_MODEL_3fcf86c79b944e10b2d7b301ae58b4ea",
            "max": 5,
            "min": 0,
            "orientation": "horizontal",
            "style": "IPY_MODEL_047582fc2f274259871e4d9cb532e31f",
            "value": 5
          }
        },
        "ced9aa0416a4449cb635947fcb62b1ce": {
          "model_module": "@jupyter-widgets/controls",
          "model_name": "HTMLModel",
          "model_module_version": "1.5.0",
          "state": {
            "_dom_classes": [],
            "_model_module": "@jupyter-widgets/controls",
            "_model_module_version": "1.5.0",
            "_model_name": "HTMLModel",
            "_view_count": null,
            "_view_module": "@jupyter-widgets/controls",
            "_view_module_version": "1.5.0",
            "_view_name": "HTMLView",
            "description": "",
            "description_tooltip": null,
            "layout": "IPY_MODEL_b31b3fcf3ebd4bc5892ef239eaaf8775",
            "placeholder": "​",
            "style": "IPY_MODEL_ba482ce08934420f844fc3b8ed049386",
            "value": " 5/5 [16:40&lt;00:00, 201.98s/it]"
          }
        },
        "879b4704e1b94745ae4f726f78378c30": {
          "model_module": "@jupyter-widgets/base",
          "model_name": "LayoutModel",
          "model_module_version": "1.2.0",
          "state": {
            "_model_module": "@jupyter-widgets/base",
            "_model_module_version": "1.2.0",
            "_model_name": "LayoutModel",
            "_view_count": null,
            "_view_module": "@jupyter-widgets/base",
            "_view_module_version": "1.2.0",
            "_view_name": "LayoutView",
            "align_content": null,
            "align_items": null,
            "align_self": null,
            "border": null,
            "bottom": null,
            "display": null,
            "flex": null,
            "flex_flow": null,
            "grid_area": null,
            "grid_auto_columns": null,
            "grid_auto_flow": null,
            "grid_auto_rows": null,
            "grid_column": null,
            "grid_gap": null,
            "grid_row": null,
            "grid_template_areas": null,
            "grid_template_columns": null,
            "grid_template_rows": null,
            "height": null,
            "justify_content": null,
            "justify_items": null,
            "left": null,
            "margin": null,
            "max_height": null,
            "max_width": null,
            "min_height": null,
            "min_width": null,
            "object_fit": null,
            "object_position": null,
            "order": null,
            "overflow": null,
            "overflow_x": null,
            "overflow_y": null,
            "padding": null,
            "right": null,
            "top": null,
            "visibility": null,
            "width": null
          }
        },
        "62693413890a431ca8ebf5fe9cf0265d": {
          "model_module": "@jupyter-widgets/base",
          "model_name": "LayoutModel",
          "model_module_version": "1.2.0",
          "state": {
            "_model_module": "@jupyter-widgets/base",
            "_model_module_version": "1.2.0",
            "_model_name": "LayoutModel",
            "_view_count": null,
            "_view_module": "@jupyter-widgets/base",
            "_view_module_version": "1.2.0",
            "_view_name": "LayoutView",
            "align_content": null,
            "align_items": null,
            "align_self": null,
            "border": null,
            "bottom": null,
            "display": null,
            "flex": null,
            "flex_flow": null,
            "grid_area": null,
            "grid_auto_columns": null,
            "grid_auto_flow": null,
            "grid_auto_rows": null,
            "grid_column": null,
            "grid_gap": null,
            "grid_row": null,
            "grid_template_areas": null,
            "grid_template_columns": null,
            "grid_template_rows": null,
            "height": null,
            "justify_content": null,
            "justify_items": null,
            "left": null,
            "margin": null,
            "max_height": null,
            "max_width": null,
            "min_height": null,
            "min_width": null,
            "object_fit": null,
            "object_position": null,
            "order": null,
            "overflow": null,
            "overflow_x": null,
            "overflow_y": null,
            "padding": null,
            "right": null,
            "top": null,
            "visibility": null,
            "width": null
          }
        },
        "bb0aa502ed72433ca2cf30cb8802b4a9": {
          "model_module": "@jupyter-widgets/controls",
          "model_name": "DescriptionStyleModel",
          "model_module_version": "1.5.0",
          "state": {
            "_model_module": "@jupyter-widgets/controls",
            "_model_module_version": "1.5.0",
            "_model_name": "DescriptionStyleModel",
            "_view_count": null,
            "_view_module": "@jupyter-widgets/base",
            "_view_module_version": "1.2.0",
            "_view_name": "StyleView",
            "description_width": ""
          }
        },
        "3fcf86c79b944e10b2d7b301ae58b4ea": {
          "model_module": "@jupyter-widgets/base",
          "model_name": "LayoutModel",
          "model_module_version": "1.2.0",
          "state": {
            "_model_module": "@jupyter-widgets/base",
            "_model_module_version": "1.2.0",
            "_model_name": "LayoutModel",
            "_view_count": null,
            "_view_module": "@jupyter-widgets/base",
            "_view_module_version": "1.2.0",
            "_view_name": "LayoutView",
            "align_content": null,
            "align_items": null,
            "align_self": null,
            "border": null,
            "bottom": null,
            "display": null,
            "flex": null,
            "flex_flow": null,
            "grid_area": null,
            "grid_auto_columns": null,
            "grid_auto_flow": null,
            "grid_auto_rows": null,
            "grid_column": null,
            "grid_gap": null,
            "grid_row": null,
            "grid_template_areas": null,
            "grid_template_columns": null,
            "grid_template_rows": null,
            "height": null,
            "justify_content": null,
            "justify_items": null,
            "left": null,
            "margin": null,
            "max_height": null,
            "max_width": null,
            "min_height": null,
            "min_width": null,
            "object_fit": null,
            "object_position": null,
            "order": null,
            "overflow": null,
            "overflow_x": null,
            "overflow_y": null,
            "padding": null,
            "right": null,
            "top": null,
            "visibility": null,
            "width": null
          }
        },
        "047582fc2f274259871e4d9cb532e31f": {
          "model_module": "@jupyter-widgets/controls",
          "model_name": "ProgressStyleModel",
          "model_module_version": "1.5.0",
          "state": {
            "_model_module": "@jupyter-widgets/controls",
            "_model_module_version": "1.5.0",
            "_model_name": "ProgressStyleModel",
            "_view_count": null,
            "_view_module": "@jupyter-widgets/base",
            "_view_module_version": "1.2.0",
            "_view_name": "StyleView",
            "bar_color": null,
            "description_width": ""
          }
        },
        "b31b3fcf3ebd4bc5892ef239eaaf8775": {
          "model_module": "@jupyter-widgets/base",
          "model_name": "LayoutModel",
          "model_module_version": "1.2.0",
          "state": {
            "_model_module": "@jupyter-widgets/base",
            "_model_module_version": "1.2.0",
            "_model_name": "LayoutModel",
            "_view_count": null,
            "_view_module": "@jupyter-widgets/base",
            "_view_module_version": "1.2.0",
            "_view_name": "LayoutView",
            "align_content": null,
            "align_items": null,
            "align_self": null,
            "border": null,
            "bottom": null,
            "display": null,
            "flex": null,
            "flex_flow": null,
            "grid_area": null,
            "grid_auto_columns": null,
            "grid_auto_flow": null,
            "grid_auto_rows": null,
            "grid_column": null,
            "grid_gap": null,
            "grid_row": null,
            "grid_template_areas": null,
            "grid_template_columns": null,
            "grid_template_rows": null,
            "height": null,
            "justify_content": null,
            "justify_items": null,
            "left": null,
            "margin": null,
            "max_height": null,
            "max_width": null,
            "min_height": null,
            "min_width": null,
            "object_fit": null,
            "object_position": null,
            "order": null,
            "overflow": null,
            "overflow_x": null,
            "overflow_y": null,
            "padding": null,
            "right": null,
            "top": null,
            "visibility": null,
            "width": null
          }
        },
        "ba482ce08934420f844fc3b8ed049386": {
          "model_module": "@jupyter-widgets/controls",
          "model_name": "DescriptionStyleModel",
          "model_module_version": "1.5.0",
          "state": {
            "_model_module": "@jupyter-widgets/controls",
            "_model_module_version": "1.5.0",
            "_model_name": "DescriptionStyleModel",
            "_view_count": null,
            "_view_module": "@jupyter-widgets/base",
            "_view_module_version": "1.2.0",
            "_view_name": "StyleView",
            "description_width": ""
          }
        },
        "5a697975458c40dca386d6511285a5c9": {
          "model_module": "@jupyter-widgets/controls",
          "model_name": "HBoxModel",
          "model_module_version": "1.5.0",
          "state": {
            "_dom_classes": [],
            "_model_module": "@jupyter-widgets/controls",
            "_model_module_version": "1.5.0",
            "_model_name": "HBoxModel",
            "_view_count": null,
            "_view_module": "@jupyter-widgets/controls",
            "_view_module_version": "1.5.0",
            "_view_name": "HBoxView",
            "box_style": "",
            "children": [
              "IPY_MODEL_cce40587531b4dee8176371e6f7f8663",
              "IPY_MODEL_768d858484a4496e8fb9aad2d457b7ee",
              "IPY_MODEL_df7ca165779041899a969e8c1cdd1aec"
            ],
            "layout": "IPY_MODEL_fbc9375ee596477d96938f19bd7a4fb8"
          }
        },
        "cce40587531b4dee8176371e6f7f8663": {
          "model_module": "@jupyter-widgets/controls",
          "model_name": "HTMLModel",
          "model_module_version": "1.5.0",
          "state": {
            "_dom_classes": [],
            "_model_module": "@jupyter-widgets/controls",
            "_model_module_version": "1.5.0",
            "_model_name": "HTMLModel",
            "_view_count": null,
            "_view_module": "@jupyter-widgets/controls",
            "_view_module_version": "1.5.0",
            "_view_name": "HTMLView",
            "description": "",
            "description_tooltip": null,
            "layout": "IPY_MODEL_c8812e91f1e44f4fac5121f9b7305023",
            "placeholder": "​",
            "style": "IPY_MODEL_fc70bbcbb076488dbb9447ece5c0a5f3",
            "value": "Train: 100%"
          }
        },
        "768d858484a4496e8fb9aad2d457b7ee": {
          "model_module": "@jupyter-widgets/controls",
          "model_name": "FloatProgressModel",
          "model_module_version": "1.5.0",
          "state": {
            "_dom_classes": [],
            "_model_module": "@jupyter-widgets/controls",
            "_model_module_version": "1.5.0",
            "_model_name": "FloatProgressModel",
            "_view_count": null,
            "_view_module": "@jupyter-widgets/controls",
            "_view_module_version": "1.5.0",
            "_view_name": "ProgressView",
            "bar_style": "success",
            "description": "",
            "description_tooltip": null,
            "layout": "IPY_MODEL_f7c0ccb243604fd191481c00a79eef23",
            "max": 550,
            "min": 0,
            "orientation": "horizontal",
            "style": "IPY_MODEL_05d0e699b31c403295e9bac2f1ec460b",
            "value": 550
          }
        },
        "df7ca165779041899a969e8c1cdd1aec": {
          "model_module": "@jupyter-widgets/controls",
          "model_name": "HTMLModel",
          "model_module_version": "1.5.0",
          "state": {
            "_dom_classes": [],
            "_model_module": "@jupyter-widgets/controls",
            "_model_module_version": "1.5.0",
            "_model_name": "HTMLModel",
            "_view_count": null,
            "_view_module": "@jupyter-widgets/controls",
            "_view_module_version": "1.5.0",
            "_view_name": "HTMLView",
            "description": "",
            "description_tooltip": null,
            "layout": "IPY_MODEL_a83b2bcbe6a44d2fa07a2614f11da197",
            "placeholder": "​",
            "style": "IPY_MODEL_68254a2210e543c0a6c62106dbff7594",
            "value": " 550/550 [03:04&lt;00:00,  3.43it/s]"
          }
        },
        "fbc9375ee596477d96938f19bd7a4fb8": {
          "model_module": "@jupyter-widgets/base",
          "model_name": "LayoutModel",
          "model_module_version": "1.2.0",
          "state": {
            "_model_module": "@jupyter-widgets/base",
            "_model_module_version": "1.2.0",
            "_model_name": "LayoutModel",
            "_view_count": null,
            "_view_module": "@jupyter-widgets/base",
            "_view_module_version": "1.2.0",
            "_view_name": "LayoutView",
            "align_content": null,
            "align_items": null,
            "align_self": null,
            "border": null,
            "bottom": null,
            "display": null,
            "flex": null,
            "flex_flow": null,
            "grid_area": null,
            "grid_auto_columns": null,
            "grid_auto_flow": null,
            "grid_auto_rows": null,
            "grid_column": null,
            "grid_gap": null,
            "grid_row": null,
            "grid_template_areas": null,
            "grid_template_columns": null,
            "grid_template_rows": null,
            "height": null,
            "justify_content": null,
            "justify_items": null,
            "left": null,
            "margin": null,
            "max_height": null,
            "max_width": null,
            "min_height": null,
            "min_width": null,
            "object_fit": null,
            "object_position": null,
            "order": null,
            "overflow": null,
            "overflow_x": null,
            "overflow_y": null,
            "padding": null,
            "right": null,
            "top": null,
            "visibility": null,
            "width": null
          }
        },
        "c8812e91f1e44f4fac5121f9b7305023": {
          "model_module": "@jupyter-widgets/base",
          "model_name": "LayoutModel",
          "model_module_version": "1.2.0",
          "state": {
            "_model_module": "@jupyter-widgets/base",
            "_model_module_version": "1.2.0",
            "_model_name": "LayoutModel",
            "_view_count": null,
            "_view_module": "@jupyter-widgets/base",
            "_view_module_version": "1.2.0",
            "_view_name": "LayoutView",
            "align_content": null,
            "align_items": null,
            "align_self": null,
            "border": null,
            "bottom": null,
            "display": null,
            "flex": null,
            "flex_flow": null,
            "grid_area": null,
            "grid_auto_columns": null,
            "grid_auto_flow": null,
            "grid_auto_rows": null,
            "grid_column": null,
            "grid_gap": null,
            "grid_row": null,
            "grid_template_areas": null,
            "grid_template_columns": null,
            "grid_template_rows": null,
            "height": null,
            "justify_content": null,
            "justify_items": null,
            "left": null,
            "margin": null,
            "max_height": null,
            "max_width": null,
            "min_height": null,
            "min_width": null,
            "object_fit": null,
            "object_position": null,
            "order": null,
            "overflow": null,
            "overflow_x": null,
            "overflow_y": null,
            "padding": null,
            "right": null,
            "top": null,
            "visibility": null,
            "width": null
          }
        },
        "fc70bbcbb076488dbb9447ece5c0a5f3": {
          "model_module": "@jupyter-widgets/controls",
          "model_name": "DescriptionStyleModel",
          "model_module_version": "1.5.0",
          "state": {
            "_model_module": "@jupyter-widgets/controls",
            "_model_module_version": "1.5.0",
            "_model_name": "DescriptionStyleModel",
            "_view_count": null,
            "_view_module": "@jupyter-widgets/base",
            "_view_module_version": "1.2.0",
            "_view_name": "StyleView",
            "description_width": ""
          }
        },
        "f7c0ccb243604fd191481c00a79eef23": {
          "model_module": "@jupyter-widgets/base",
          "model_name": "LayoutModel",
          "model_module_version": "1.2.0",
          "state": {
            "_model_module": "@jupyter-widgets/base",
            "_model_module_version": "1.2.0",
            "_model_name": "LayoutModel",
            "_view_count": null,
            "_view_module": "@jupyter-widgets/base",
            "_view_module_version": "1.2.0",
            "_view_name": "LayoutView",
            "align_content": null,
            "align_items": null,
            "align_self": null,
            "border": null,
            "bottom": null,
            "display": null,
            "flex": null,
            "flex_flow": null,
            "grid_area": null,
            "grid_auto_columns": null,
            "grid_auto_flow": null,
            "grid_auto_rows": null,
            "grid_column": null,
            "grid_gap": null,
            "grid_row": null,
            "grid_template_areas": null,
            "grid_template_columns": null,
            "grid_template_rows": null,
            "height": null,
            "justify_content": null,
            "justify_items": null,
            "left": null,
            "margin": null,
            "max_height": null,
            "max_width": null,
            "min_height": null,
            "min_width": null,
            "object_fit": null,
            "object_position": null,
            "order": null,
            "overflow": null,
            "overflow_x": null,
            "overflow_y": null,
            "padding": null,
            "right": null,
            "top": null,
            "visibility": null,
            "width": null
          }
        },
        "05d0e699b31c403295e9bac2f1ec460b": {
          "model_module": "@jupyter-widgets/controls",
          "model_name": "ProgressStyleModel",
          "model_module_version": "1.5.0",
          "state": {
            "_model_module": "@jupyter-widgets/controls",
            "_model_module_version": "1.5.0",
            "_model_name": "ProgressStyleModel",
            "_view_count": null,
            "_view_module": "@jupyter-widgets/base",
            "_view_module_version": "1.2.0",
            "_view_name": "StyleView",
            "bar_color": null,
            "description_width": ""
          }
        },
        "a83b2bcbe6a44d2fa07a2614f11da197": {
          "model_module": "@jupyter-widgets/base",
          "model_name": "LayoutModel",
          "model_module_version": "1.2.0",
          "state": {
            "_model_module": "@jupyter-widgets/base",
            "_model_module_version": "1.2.0",
            "_model_name": "LayoutModel",
            "_view_count": null,
            "_view_module": "@jupyter-widgets/base",
            "_view_module_version": "1.2.0",
            "_view_name": "LayoutView",
            "align_content": null,
            "align_items": null,
            "align_self": null,
            "border": null,
            "bottom": null,
            "display": null,
            "flex": null,
            "flex_flow": null,
            "grid_area": null,
            "grid_auto_columns": null,
            "grid_auto_flow": null,
            "grid_auto_rows": null,
            "grid_column": null,
            "grid_gap": null,
            "grid_row": null,
            "grid_template_areas": null,
            "grid_template_columns": null,
            "grid_template_rows": null,
            "height": null,
            "justify_content": null,
            "justify_items": null,
            "left": null,
            "margin": null,
            "max_height": null,
            "max_width": null,
            "min_height": null,
            "min_width": null,
            "object_fit": null,
            "object_position": null,
            "order": null,
            "overflow": null,
            "overflow_x": null,
            "overflow_y": null,
            "padding": null,
            "right": null,
            "top": null,
            "visibility": null,
            "width": null
          }
        },
        "68254a2210e543c0a6c62106dbff7594": {
          "model_module": "@jupyter-widgets/controls",
          "model_name": "DescriptionStyleModel",
          "model_module_version": "1.5.0",
          "state": {
            "_model_module": "@jupyter-widgets/controls",
            "_model_module_version": "1.5.0",
            "_model_name": "DescriptionStyleModel",
            "_view_count": null,
            "_view_module": "@jupyter-widgets/base",
            "_view_module_version": "1.2.0",
            "_view_name": "StyleView",
            "description_width": ""
          }
        },
        "1fb535d921ef49ddb415bc6e33aa3fdf": {
          "model_module": "@jupyter-widgets/controls",
          "model_name": "HBoxModel",
          "model_module_version": "1.5.0",
          "state": {
            "_dom_classes": [],
            "_model_module": "@jupyter-widgets/controls",
            "_model_module_version": "1.5.0",
            "_model_name": "HBoxModel",
            "_view_count": null,
            "_view_module": "@jupyter-widgets/controls",
            "_view_module_version": "1.5.0",
            "_view_name": "HBoxView",
            "box_style": "",
            "children": [
              "IPY_MODEL_3eaff78e74a34bf4bcc03e10a32caac5",
              "IPY_MODEL_81758c8ff14944bb9b4ecf6dde6e17bf",
              "IPY_MODEL_cd7caf60ec01435ca11b09c79a2fe50e"
            ],
            "layout": "IPY_MODEL_9ed0358b2f454514bf4d4bb64ef26b43"
          }
        },
        "3eaff78e74a34bf4bcc03e10a32caac5": {
          "model_module": "@jupyter-widgets/controls",
          "model_name": "HTMLModel",
          "model_module_version": "1.5.0",
          "state": {
            "_dom_classes": [],
            "_model_module": "@jupyter-widgets/controls",
            "_model_module_version": "1.5.0",
            "_model_name": "HTMLModel",
            "_view_count": null,
            "_view_module": "@jupyter-widgets/controls",
            "_view_module_version": "1.5.0",
            "_view_name": "HTMLView",
            "description": "",
            "description_tooltip": null,
            "layout": "IPY_MODEL_e6aaaf696eca4bd3b98861a5a177da02",
            "placeholder": "​",
            "style": "IPY_MODEL_769e8ca482ce4f9a93fd5ea32173b175",
            "value": "Valid: 100%"
          }
        },
        "81758c8ff14944bb9b4ecf6dde6e17bf": {
          "model_module": "@jupyter-widgets/controls",
          "model_name": "FloatProgressModel",
          "model_module_version": "1.5.0",
          "state": {
            "_dom_classes": [],
            "_model_module": "@jupyter-widgets/controls",
            "_model_module_version": "1.5.0",
            "_model_name": "FloatProgressModel",
            "_view_count": null,
            "_view_module": "@jupyter-widgets/controls",
            "_view_module_version": "1.5.0",
            "_view_name": "ProgressView",
            "bar_style": "success",
            "description": "",
            "description_tooltip": null,
            "layout": "IPY_MODEL_0e65c7b122034d7393c380bd691b73cc",
            "max": 69,
            "min": 0,
            "orientation": "horizontal",
            "style": "IPY_MODEL_89f897b86a654fc4b7f6ac9d47eb3347",
            "value": 69
          }
        },
        "cd7caf60ec01435ca11b09c79a2fe50e": {
          "model_module": "@jupyter-widgets/controls",
          "model_name": "HTMLModel",
          "model_module_version": "1.5.0",
          "state": {
            "_dom_classes": [],
            "_model_module": "@jupyter-widgets/controls",
            "_model_module_version": "1.5.0",
            "_model_name": "HTMLModel",
            "_view_count": null,
            "_view_module": "@jupyter-widgets/controls",
            "_view_module_version": "1.5.0",
            "_view_name": "HTMLView",
            "description": "",
            "description_tooltip": null,
            "layout": "IPY_MODEL_f0b437fb30fe494aac81876fb9fb963c",
            "placeholder": "​",
            "style": "IPY_MODEL_e959afb9a3714059b717167bc902c116",
            "value": " 69/69 [00:08&lt;00:00,  8.82it/s]"
          }
        },
        "9ed0358b2f454514bf4d4bb64ef26b43": {
          "model_module": "@jupyter-widgets/base",
          "model_name": "LayoutModel",
          "model_module_version": "1.2.0",
          "state": {
            "_model_module": "@jupyter-widgets/base",
            "_model_module_version": "1.2.0",
            "_model_name": "LayoutModel",
            "_view_count": null,
            "_view_module": "@jupyter-widgets/base",
            "_view_module_version": "1.2.0",
            "_view_name": "LayoutView",
            "align_content": null,
            "align_items": null,
            "align_self": null,
            "border": null,
            "bottom": null,
            "display": null,
            "flex": null,
            "flex_flow": null,
            "grid_area": null,
            "grid_auto_columns": null,
            "grid_auto_flow": null,
            "grid_auto_rows": null,
            "grid_column": null,
            "grid_gap": null,
            "grid_row": null,
            "grid_template_areas": null,
            "grid_template_columns": null,
            "grid_template_rows": null,
            "height": null,
            "justify_content": null,
            "justify_items": null,
            "left": null,
            "margin": null,
            "max_height": null,
            "max_width": null,
            "min_height": null,
            "min_width": null,
            "object_fit": null,
            "object_position": null,
            "order": null,
            "overflow": null,
            "overflow_x": null,
            "overflow_y": null,
            "padding": null,
            "right": null,
            "top": null,
            "visibility": null,
            "width": null
          }
        },
        "e6aaaf696eca4bd3b98861a5a177da02": {
          "model_module": "@jupyter-widgets/base",
          "model_name": "LayoutModel",
          "model_module_version": "1.2.0",
          "state": {
            "_model_module": "@jupyter-widgets/base",
            "_model_module_version": "1.2.0",
            "_model_name": "LayoutModel",
            "_view_count": null,
            "_view_module": "@jupyter-widgets/base",
            "_view_module_version": "1.2.0",
            "_view_name": "LayoutView",
            "align_content": null,
            "align_items": null,
            "align_self": null,
            "border": null,
            "bottom": null,
            "display": null,
            "flex": null,
            "flex_flow": null,
            "grid_area": null,
            "grid_auto_columns": null,
            "grid_auto_flow": null,
            "grid_auto_rows": null,
            "grid_column": null,
            "grid_gap": null,
            "grid_row": null,
            "grid_template_areas": null,
            "grid_template_columns": null,
            "grid_template_rows": null,
            "height": null,
            "justify_content": null,
            "justify_items": null,
            "left": null,
            "margin": null,
            "max_height": null,
            "max_width": null,
            "min_height": null,
            "min_width": null,
            "object_fit": null,
            "object_position": null,
            "order": null,
            "overflow": null,
            "overflow_x": null,
            "overflow_y": null,
            "padding": null,
            "right": null,
            "top": null,
            "visibility": null,
            "width": null
          }
        },
        "769e8ca482ce4f9a93fd5ea32173b175": {
          "model_module": "@jupyter-widgets/controls",
          "model_name": "DescriptionStyleModel",
          "model_module_version": "1.5.0",
          "state": {
            "_model_module": "@jupyter-widgets/controls",
            "_model_module_version": "1.5.0",
            "_model_name": "DescriptionStyleModel",
            "_view_count": null,
            "_view_module": "@jupyter-widgets/base",
            "_view_module_version": "1.2.0",
            "_view_name": "StyleView",
            "description_width": ""
          }
        },
        "0e65c7b122034d7393c380bd691b73cc": {
          "model_module": "@jupyter-widgets/base",
          "model_name": "LayoutModel",
          "model_module_version": "1.2.0",
          "state": {
            "_model_module": "@jupyter-widgets/base",
            "_model_module_version": "1.2.0",
            "_model_name": "LayoutModel",
            "_view_count": null,
            "_view_module": "@jupyter-widgets/base",
            "_view_module_version": "1.2.0",
            "_view_name": "LayoutView",
            "align_content": null,
            "align_items": null,
            "align_self": null,
            "border": null,
            "bottom": null,
            "display": null,
            "flex": null,
            "flex_flow": null,
            "grid_area": null,
            "grid_auto_columns": null,
            "grid_auto_flow": null,
            "grid_auto_rows": null,
            "grid_column": null,
            "grid_gap": null,
            "grid_row": null,
            "grid_template_areas": null,
            "grid_template_columns": null,
            "grid_template_rows": null,
            "height": null,
            "justify_content": null,
            "justify_items": null,
            "left": null,
            "margin": null,
            "max_height": null,
            "max_width": null,
            "min_height": null,
            "min_width": null,
            "object_fit": null,
            "object_position": null,
            "order": null,
            "overflow": null,
            "overflow_x": null,
            "overflow_y": null,
            "padding": null,
            "right": null,
            "top": null,
            "visibility": null,
            "width": null
          }
        },
        "89f897b86a654fc4b7f6ac9d47eb3347": {
          "model_module": "@jupyter-widgets/controls",
          "model_name": "ProgressStyleModel",
          "model_module_version": "1.5.0",
          "state": {
            "_model_module": "@jupyter-widgets/controls",
            "_model_module_version": "1.5.0",
            "_model_name": "ProgressStyleModel",
            "_view_count": null,
            "_view_module": "@jupyter-widgets/base",
            "_view_module_version": "1.2.0",
            "_view_name": "StyleView",
            "bar_color": null,
            "description_width": ""
          }
        },
        "f0b437fb30fe494aac81876fb9fb963c": {
          "model_module": "@jupyter-widgets/base",
          "model_name": "LayoutModel",
          "model_module_version": "1.2.0",
          "state": {
            "_model_module": "@jupyter-widgets/base",
            "_model_module_version": "1.2.0",
            "_model_name": "LayoutModel",
            "_view_count": null,
            "_view_module": "@jupyter-widgets/base",
            "_view_module_version": "1.2.0",
            "_view_name": "LayoutView",
            "align_content": null,
            "align_items": null,
            "align_self": null,
            "border": null,
            "bottom": null,
            "display": null,
            "flex": null,
            "flex_flow": null,
            "grid_area": null,
            "grid_auto_columns": null,
            "grid_auto_flow": null,
            "grid_auto_rows": null,
            "grid_column": null,
            "grid_gap": null,
            "grid_row": null,
            "grid_template_areas": null,
            "grid_template_columns": null,
            "grid_template_rows": null,
            "height": null,
            "justify_content": null,
            "justify_items": null,
            "left": null,
            "margin": null,
            "max_height": null,
            "max_width": null,
            "min_height": null,
            "min_width": null,
            "object_fit": null,
            "object_position": null,
            "order": null,
            "overflow": null,
            "overflow_x": null,
            "overflow_y": null,
            "padding": null,
            "right": null,
            "top": null,
            "visibility": null,
            "width": null
          }
        },
        "e959afb9a3714059b717167bc902c116": {
          "model_module": "@jupyter-widgets/controls",
          "model_name": "DescriptionStyleModel",
          "model_module_version": "1.5.0",
          "state": {
            "_model_module": "@jupyter-widgets/controls",
            "_model_module_version": "1.5.0",
            "_model_name": "DescriptionStyleModel",
            "_view_count": null,
            "_view_module": "@jupyter-widgets/base",
            "_view_module_version": "1.2.0",
            "_view_name": "StyleView",
            "description_width": ""
          }
        },
        "3096f6c2eae34ac0b8bccbaf814153b8": {
          "model_module": "@jupyter-widgets/controls",
          "model_name": "HBoxModel",
          "model_module_version": "1.5.0",
          "state": {
            "_dom_classes": [],
            "_model_module": "@jupyter-widgets/controls",
            "_model_module_version": "1.5.0",
            "_model_name": "HBoxModel",
            "_view_count": null,
            "_view_module": "@jupyter-widgets/controls",
            "_view_module_version": "1.5.0",
            "_view_name": "HBoxView",
            "box_style": "",
            "children": [
              "IPY_MODEL_eb471c2fb97543e59156a8b9e75e2eb5",
              "IPY_MODEL_42a8629474c2425f992257bb4e12f014",
              "IPY_MODEL_b8a99c48d4d144b68bb905cb3652ec70"
            ],
            "layout": "IPY_MODEL_4564844e207a4dafbf48633308beade9"
          }
        },
        "eb471c2fb97543e59156a8b9e75e2eb5": {
          "model_module": "@jupyter-widgets/controls",
          "model_name": "HTMLModel",
          "model_module_version": "1.5.0",
          "state": {
            "_dom_classes": [],
            "_model_module": "@jupyter-widgets/controls",
            "_model_module_version": "1.5.0",
            "_model_name": "HTMLModel",
            "_view_count": null,
            "_view_module": "@jupyter-widgets/controls",
            "_view_module_version": "1.5.0",
            "_view_name": "HTMLView",
            "description": "",
            "description_tooltip": null,
            "layout": "IPY_MODEL_d5cccdda820249f3b0aa2be9d11cb0c8",
            "placeholder": "​",
            "style": "IPY_MODEL_2d373718ace44c9585ab856062a2342b",
            "value": "Train: 100%"
          }
        },
        "42a8629474c2425f992257bb4e12f014": {
          "model_module": "@jupyter-widgets/controls",
          "model_name": "FloatProgressModel",
          "model_module_version": "1.5.0",
          "state": {
            "_dom_classes": [],
            "_model_module": "@jupyter-widgets/controls",
            "_model_module_version": "1.5.0",
            "_model_name": "FloatProgressModel",
            "_view_count": null,
            "_view_module": "@jupyter-widgets/controls",
            "_view_module_version": "1.5.0",
            "_view_name": "ProgressView",
            "bar_style": "success",
            "description": "",
            "description_tooltip": null,
            "layout": "IPY_MODEL_c85d2bca44c34ea3937939700219a108",
            "max": 550,
            "min": 0,
            "orientation": "horizontal",
            "style": "IPY_MODEL_3831c8097ae24d21b1c439af4f83a465",
            "value": 550
          }
        },
        "b8a99c48d4d144b68bb905cb3652ec70": {
          "model_module": "@jupyter-widgets/controls",
          "model_name": "HTMLModel",
          "model_module_version": "1.5.0",
          "state": {
            "_dom_classes": [],
            "_model_module": "@jupyter-widgets/controls",
            "_model_module_version": "1.5.0",
            "_model_name": "HTMLModel",
            "_view_count": null,
            "_view_module": "@jupyter-widgets/controls",
            "_view_module_version": "1.5.0",
            "_view_name": "HTMLView",
            "description": "",
            "description_tooltip": null,
            "layout": "IPY_MODEL_b6a48d4b104d4a1890b08504acd49c56",
            "placeholder": "​",
            "style": "IPY_MODEL_9637301aab6a4298b1d71704414183bc",
            "value": " 550/550 [03:10&lt;00:00,  3.43it/s]"
          }
        },
        "4564844e207a4dafbf48633308beade9": {
          "model_module": "@jupyter-widgets/base",
          "model_name": "LayoutModel",
          "model_module_version": "1.2.0",
          "state": {
            "_model_module": "@jupyter-widgets/base",
            "_model_module_version": "1.2.0",
            "_model_name": "LayoutModel",
            "_view_count": null,
            "_view_module": "@jupyter-widgets/base",
            "_view_module_version": "1.2.0",
            "_view_name": "LayoutView",
            "align_content": null,
            "align_items": null,
            "align_self": null,
            "border": null,
            "bottom": null,
            "display": null,
            "flex": null,
            "flex_flow": null,
            "grid_area": null,
            "grid_auto_columns": null,
            "grid_auto_flow": null,
            "grid_auto_rows": null,
            "grid_column": null,
            "grid_gap": null,
            "grid_row": null,
            "grid_template_areas": null,
            "grid_template_columns": null,
            "grid_template_rows": null,
            "height": null,
            "justify_content": null,
            "justify_items": null,
            "left": null,
            "margin": null,
            "max_height": null,
            "max_width": null,
            "min_height": null,
            "min_width": null,
            "object_fit": null,
            "object_position": null,
            "order": null,
            "overflow": null,
            "overflow_x": null,
            "overflow_y": null,
            "padding": null,
            "right": null,
            "top": null,
            "visibility": null,
            "width": null
          }
        },
        "d5cccdda820249f3b0aa2be9d11cb0c8": {
          "model_module": "@jupyter-widgets/base",
          "model_name": "LayoutModel",
          "model_module_version": "1.2.0",
          "state": {
            "_model_module": "@jupyter-widgets/base",
            "_model_module_version": "1.2.0",
            "_model_name": "LayoutModel",
            "_view_count": null,
            "_view_module": "@jupyter-widgets/base",
            "_view_module_version": "1.2.0",
            "_view_name": "LayoutView",
            "align_content": null,
            "align_items": null,
            "align_self": null,
            "border": null,
            "bottom": null,
            "display": null,
            "flex": null,
            "flex_flow": null,
            "grid_area": null,
            "grid_auto_columns": null,
            "grid_auto_flow": null,
            "grid_auto_rows": null,
            "grid_column": null,
            "grid_gap": null,
            "grid_row": null,
            "grid_template_areas": null,
            "grid_template_columns": null,
            "grid_template_rows": null,
            "height": null,
            "justify_content": null,
            "justify_items": null,
            "left": null,
            "margin": null,
            "max_height": null,
            "max_width": null,
            "min_height": null,
            "min_width": null,
            "object_fit": null,
            "object_position": null,
            "order": null,
            "overflow": null,
            "overflow_x": null,
            "overflow_y": null,
            "padding": null,
            "right": null,
            "top": null,
            "visibility": null,
            "width": null
          }
        },
        "2d373718ace44c9585ab856062a2342b": {
          "model_module": "@jupyter-widgets/controls",
          "model_name": "DescriptionStyleModel",
          "model_module_version": "1.5.0",
          "state": {
            "_model_module": "@jupyter-widgets/controls",
            "_model_module_version": "1.5.0",
            "_model_name": "DescriptionStyleModel",
            "_view_count": null,
            "_view_module": "@jupyter-widgets/base",
            "_view_module_version": "1.2.0",
            "_view_name": "StyleView",
            "description_width": ""
          }
        },
        "c85d2bca44c34ea3937939700219a108": {
          "model_module": "@jupyter-widgets/base",
          "model_name": "LayoutModel",
          "model_module_version": "1.2.0",
          "state": {
            "_model_module": "@jupyter-widgets/base",
            "_model_module_version": "1.2.0",
            "_model_name": "LayoutModel",
            "_view_count": null,
            "_view_module": "@jupyter-widgets/base",
            "_view_module_version": "1.2.0",
            "_view_name": "LayoutView",
            "align_content": null,
            "align_items": null,
            "align_self": null,
            "border": null,
            "bottom": null,
            "display": null,
            "flex": null,
            "flex_flow": null,
            "grid_area": null,
            "grid_auto_columns": null,
            "grid_auto_flow": null,
            "grid_auto_rows": null,
            "grid_column": null,
            "grid_gap": null,
            "grid_row": null,
            "grid_template_areas": null,
            "grid_template_columns": null,
            "grid_template_rows": null,
            "height": null,
            "justify_content": null,
            "justify_items": null,
            "left": null,
            "margin": null,
            "max_height": null,
            "max_width": null,
            "min_height": null,
            "min_width": null,
            "object_fit": null,
            "object_position": null,
            "order": null,
            "overflow": null,
            "overflow_x": null,
            "overflow_y": null,
            "padding": null,
            "right": null,
            "top": null,
            "visibility": null,
            "width": null
          }
        },
        "3831c8097ae24d21b1c439af4f83a465": {
          "model_module": "@jupyter-widgets/controls",
          "model_name": "ProgressStyleModel",
          "model_module_version": "1.5.0",
          "state": {
            "_model_module": "@jupyter-widgets/controls",
            "_model_module_version": "1.5.0",
            "_model_name": "ProgressStyleModel",
            "_view_count": null,
            "_view_module": "@jupyter-widgets/base",
            "_view_module_version": "1.2.0",
            "_view_name": "StyleView",
            "bar_color": null,
            "description_width": ""
          }
        },
        "b6a48d4b104d4a1890b08504acd49c56": {
          "model_module": "@jupyter-widgets/base",
          "model_name": "LayoutModel",
          "model_module_version": "1.2.0",
          "state": {
            "_model_module": "@jupyter-widgets/base",
            "_model_module_version": "1.2.0",
            "_model_name": "LayoutModel",
            "_view_count": null,
            "_view_module": "@jupyter-widgets/base",
            "_view_module_version": "1.2.0",
            "_view_name": "LayoutView",
            "align_content": null,
            "align_items": null,
            "align_self": null,
            "border": null,
            "bottom": null,
            "display": null,
            "flex": null,
            "flex_flow": null,
            "grid_area": null,
            "grid_auto_columns": null,
            "grid_auto_flow": null,
            "grid_auto_rows": null,
            "grid_column": null,
            "grid_gap": null,
            "grid_row": null,
            "grid_template_areas": null,
            "grid_template_columns": null,
            "grid_template_rows": null,
            "height": null,
            "justify_content": null,
            "justify_items": null,
            "left": null,
            "margin": null,
            "max_height": null,
            "max_width": null,
            "min_height": null,
            "min_width": null,
            "object_fit": null,
            "object_position": null,
            "order": null,
            "overflow": null,
            "overflow_x": null,
            "overflow_y": null,
            "padding": null,
            "right": null,
            "top": null,
            "visibility": null,
            "width": null
          }
        },
        "9637301aab6a4298b1d71704414183bc": {
          "model_module": "@jupyter-widgets/controls",
          "model_name": "DescriptionStyleModel",
          "model_module_version": "1.5.0",
          "state": {
            "_model_module": "@jupyter-widgets/controls",
            "_model_module_version": "1.5.0",
            "_model_name": "DescriptionStyleModel",
            "_view_count": null,
            "_view_module": "@jupyter-widgets/base",
            "_view_module_version": "1.2.0",
            "_view_name": "StyleView",
            "description_width": ""
          }
        },
        "30d01449b4ec4a2abe3042f9f48b902b": {
          "model_module": "@jupyter-widgets/controls",
          "model_name": "HBoxModel",
          "model_module_version": "1.5.0",
          "state": {
            "_dom_classes": [],
            "_model_module": "@jupyter-widgets/controls",
            "_model_module_version": "1.5.0",
            "_model_name": "HBoxModel",
            "_view_count": null,
            "_view_module": "@jupyter-widgets/controls",
            "_view_module_version": "1.5.0",
            "_view_name": "HBoxView",
            "box_style": "",
            "children": [
              "IPY_MODEL_300fa62df2644eaebe771d1272e38940",
              "IPY_MODEL_f9f71c5ea35b4e7fb958ba4de0caf2f4",
              "IPY_MODEL_4354f688860f480685898aa8872e46c1"
            ],
            "layout": "IPY_MODEL_defd14fb4d3e410690cca046036554e0"
          }
        },
        "300fa62df2644eaebe771d1272e38940": {
          "model_module": "@jupyter-widgets/controls",
          "model_name": "HTMLModel",
          "model_module_version": "1.5.0",
          "state": {
            "_dom_classes": [],
            "_model_module": "@jupyter-widgets/controls",
            "_model_module_version": "1.5.0",
            "_model_name": "HTMLModel",
            "_view_count": null,
            "_view_module": "@jupyter-widgets/controls",
            "_view_module_version": "1.5.0",
            "_view_name": "HTMLView",
            "description": "",
            "description_tooltip": null,
            "layout": "IPY_MODEL_22d7cbbd1f36433895a1926ef0a522fb",
            "placeholder": "​",
            "style": "IPY_MODEL_b53d504a67314b8f973ce1f83442e6a2",
            "value": "Valid: 100%"
          }
        },
        "f9f71c5ea35b4e7fb958ba4de0caf2f4": {
          "model_module": "@jupyter-widgets/controls",
          "model_name": "FloatProgressModel",
          "model_module_version": "1.5.0",
          "state": {
            "_dom_classes": [],
            "_model_module": "@jupyter-widgets/controls",
            "_model_module_version": "1.5.0",
            "_model_name": "FloatProgressModel",
            "_view_count": null,
            "_view_module": "@jupyter-widgets/controls",
            "_view_module_version": "1.5.0",
            "_view_name": "ProgressView",
            "bar_style": "success",
            "description": "",
            "description_tooltip": null,
            "layout": "IPY_MODEL_42c403c6f5a8485b959b47d7230ec2a1",
            "max": 69,
            "min": 0,
            "orientation": "horizontal",
            "style": "IPY_MODEL_8703450c898b44b8a941fb1a651c7243",
            "value": 69
          }
        },
        "4354f688860f480685898aa8872e46c1": {
          "model_module": "@jupyter-widgets/controls",
          "model_name": "HTMLModel",
          "model_module_version": "1.5.0",
          "state": {
            "_dom_classes": [],
            "_model_module": "@jupyter-widgets/controls",
            "_model_module_version": "1.5.0",
            "_model_name": "HTMLModel",
            "_view_count": null,
            "_view_module": "@jupyter-widgets/controls",
            "_view_module_version": "1.5.0",
            "_view_name": "HTMLView",
            "description": "",
            "description_tooltip": null,
            "layout": "IPY_MODEL_6ffca8beeed54de98a8739c50c8397d0",
            "placeholder": "​",
            "style": "IPY_MODEL_55124b35ec0c49149ef3016abb562a46",
            "value": " 69/69 [00:08&lt;00:00,  8.72it/s]"
          }
        },
        "defd14fb4d3e410690cca046036554e0": {
          "model_module": "@jupyter-widgets/base",
          "model_name": "LayoutModel",
          "model_module_version": "1.2.0",
          "state": {
            "_model_module": "@jupyter-widgets/base",
            "_model_module_version": "1.2.0",
            "_model_name": "LayoutModel",
            "_view_count": null,
            "_view_module": "@jupyter-widgets/base",
            "_view_module_version": "1.2.0",
            "_view_name": "LayoutView",
            "align_content": null,
            "align_items": null,
            "align_self": null,
            "border": null,
            "bottom": null,
            "display": null,
            "flex": null,
            "flex_flow": null,
            "grid_area": null,
            "grid_auto_columns": null,
            "grid_auto_flow": null,
            "grid_auto_rows": null,
            "grid_column": null,
            "grid_gap": null,
            "grid_row": null,
            "grid_template_areas": null,
            "grid_template_columns": null,
            "grid_template_rows": null,
            "height": null,
            "justify_content": null,
            "justify_items": null,
            "left": null,
            "margin": null,
            "max_height": null,
            "max_width": null,
            "min_height": null,
            "min_width": null,
            "object_fit": null,
            "object_position": null,
            "order": null,
            "overflow": null,
            "overflow_x": null,
            "overflow_y": null,
            "padding": null,
            "right": null,
            "top": null,
            "visibility": null,
            "width": null
          }
        },
        "22d7cbbd1f36433895a1926ef0a522fb": {
          "model_module": "@jupyter-widgets/base",
          "model_name": "LayoutModel",
          "model_module_version": "1.2.0",
          "state": {
            "_model_module": "@jupyter-widgets/base",
            "_model_module_version": "1.2.0",
            "_model_name": "LayoutModel",
            "_view_count": null,
            "_view_module": "@jupyter-widgets/base",
            "_view_module_version": "1.2.0",
            "_view_name": "LayoutView",
            "align_content": null,
            "align_items": null,
            "align_self": null,
            "border": null,
            "bottom": null,
            "display": null,
            "flex": null,
            "flex_flow": null,
            "grid_area": null,
            "grid_auto_columns": null,
            "grid_auto_flow": null,
            "grid_auto_rows": null,
            "grid_column": null,
            "grid_gap": null,
            "grid_row": null,
            "grid_template_areas": null,
            "grid_template_columns": null,
            "grid_template_rows": null,
            "height": null,
            "justify_content": null,
            "justify_items": null,
            "left": null,
            "margin": null,
            "max_height": null,
            "max_width": null,
            "min_height": null,
            "min_width": null,
            "object_fit": null,
            "object_position": null,
            "order": null,
            "overflow": null,
            "overflow_x": null,
            "overflow_y": null,
            "padding": null,
            "right": null,
            "top": null,
            "visibility": null,
            "width": null
          }
        },
        "b53d504a67314b8f973ce1f83442e6a2": {
          "model_module": "@jupyter-widgets/controls",
          "model_name": "DescriptionStyleModel",
          "model_module_version": "1.5.0",
          "state": {
            "_model_module": "@jupyter-widgets/controls",
            "_model_module_version": "1.5.0",
            "_model_name": "DescriptionStyleModel",
            "_view_count": null,
            "_view_module": "@jupyter-widgets/base",
            "_view_module_version": "1.2.0",
            "_view_name": "StyleView",
            "description_width": ""
          }
        },
        "42c403c6f5a8485b959b47d7230ec2a1": {
          "model_module": "@jupyter-widgets/base",
          "model_name": "LayoutModel",
          "model_module_version": "1.2.0",
          "state": {
            "_model_module": "@jupyter-widgets/base",
            "_model_module_version": "1.2.0",
            "_model_name": "LayoutModel",
            "_view_count": null,
            "_view_module": "@jupyter-widgets/base",
            "_view_module_version": "1.2.0",
            "_view_name": "LayoutView",
            "align_content": null,
            "align_items": null,
            "align_self": null,
            "border": null,
            "bottom": null,
            "display": null,
            "flex": null,
            "flex_flow": null,
            "grid_area": null,
            "grid_auto_columns": null,
            "grid_auto_flow": null,
            "grid_auto_rows": null,
            "grid_column": null,
            "grid_gap": null,
            "grid_row": null,
            "grid_template_areas": null,
            "grid_template_columns": null,
            "grid_template_rows": null,
            "height": null,
            "justify_content": null,
            "justify_items": null,
            "left": null,
            "margin": null,
            "max_height": null,
            "max_width": null,
            "min_height": null,
            "min_width": null,
            "object_fit": null,
            "object_position": null,
            "order": null,
            "overflow": null,
            "overflow_x": null,
            "overflow_y": null,
            "padding": null,
            "right": null,
            "top": null,
            "visibility": null,
            "width": null
          }
        },
        "8703450c898b44b8a941fb1a651c7243": {
          "model_module": "@jupyter-widgets/controls",
          "model_name": "ProgressStyleModel",
          "model_module_version": "1.5.0",
          "state": {
            "_model_module": "@jupyter-widgets/controls",
            "_model_module_version": "1.5.0",
            "_model_name": "ProgressStyleModel",
            "_view_count": null,
            "_view_module": "@jupyter-widgets/base",
            "_view_module_version": "1.2.0",
            "_view_name": "StyleView",
            "bar_color": null,
            "description_width": ""
          }
        },
        "6ffca8beeed54de98a8739c50c8397d0": {
          "model_module": "@jupyter-widgets/base",
          "model_name": "LayoutModel",
          "model_module_version": "1.2.0",
          "state": {
            "_model_module": "@jupyter-widgets/base",
            "_model_module_version": "1.2.0",
            "_model_name": "LayoutModel",
            "_view_count": null,
            "_view_module": "@jupyter-widgets/base",
            "_view_module_version": "1.2.0",
            "_view_name": "LayoutView",
            "align_content": null,
            "align_items": null,
            "align_self": null,
            "border": null,
            "bottom": null,
            "display": null,
            "flex": null,
            "flex_flow": null,
            "grid_area": null,
            "grid_auto_columns": null,
            "grid_auto_flow": null,
            "grid_auto_rows": null,
            "grid_column": null,
            "grid_gap": null,
            "grid_row": null,
            "grid_template_areas": null,
            "grid_template_columns": null,
            "grid_template_rows": null,
            "height": null,
            "justify_content": null,
            "justify_items": null,
            "left": null,
            "margin": null,
            "max_height": null,
            "max_width": null,
            "min_height": null,
            "min_width": null,
            "object_fit": null,
            "object_position": null,
            "order": null,
            "overflow": null,
            "overflow_x": null,
            "overflow_y": null,
            "padding": null,
            "right": null,
            "top": null,
            "visibility": null,
            "width": null
          }
        },
        "55124b35ec0c49149ef3016abb562a46": {
          "model_module": "@jupyter-widgets/controls",
          "model_name": "DescriptionStyleModel",
          "model_module_version": "1.5.0",
          "state": {
            "_model_module": "@jupyter-widgets/controls",
            "_model_module_version": "1.5.0",
            "_model_name": "DescriptionStyleModel",
            "_view_count": null,
            "_view_module": "@jupyter-widgets/base",
            "_view_module_version": "1.2.0",
            "_view_name": "StyleView",
            "description_width": ""
          }
        },
        "c72672fac2a64e9d8735383d0d66c276": {
          "model_module": "@jupyter-widgets/controls",
          "model_name": "HBoxModel",
          "model_module_version": "1.5.0",
          "state": {
            "_dom_classes": [],
            "_model_module": "@jupyter-widgets/controls",
            "_model_module_version": "1.5.0",
            "_model_name": "HBoxModel",
            "_view_count": null,
            "_view_module": "@jupyter-widgets/controls",
            "_view_module_version": "1.5.0",
            "_view_name": "HBoxView",
            "box_style": "",
            "children": [
              "IPY_MODEL_651eb90dec194367b463c5114abd155e",
              "IPY_MODEL_7279af0c50f34896af4ce6ace6e94175",
              "IPY_MODEL_6c5d2661895b4c968b72e3a50cf9a0c9"
            ],
            "layout": "IPY_MODEL_0356fb4d23ca4da0bebe3a59fede4b37"
          }
        },
        "651eb90dec194367b463c5114abd155e": {
          "model_module": "@jupyter-widgets/controls",
          "model_name": "HTMLModel",
          "model_module_version": "1.5.0",
          "state": {
            "_dom_classes": [],
            "_model_module": "@jupyter-widgets/controls",
            "_model_module_version": "1.5.0",
            "_model_name": "HTMLModel",
            "_view_count": null,
            "_view_module": "@jupyter-widgets/controls",
            "_view_module_version": "1.5.0",
            "_view_name": "HTMLView",
            "description": "",
            "description_tooltip": null,
            "layout": "IPY_MODEL_b8d26737cdfb4b12b8140cff18eee6f7",
            "placeholder": "​",
            "style": "IPY_MODEL_3083cba8c43a44e39c8003a07f451af1",
            "value": "Train: 100%"
          }
        },
        "7279af0c50f34896af4ce6ace6e94175": {
          "model_module": "@jupyter-widgets/controls",
          "model_name": "FloatProgressModel",
          "model_module_version": "1.5.0",
          "state": {
            "_dom_classes": [],
            "_model_module": "@jupyter-widgets/controls",
            "_model_module_version": "1.5.0",
            "_model_name": "FloatProgressModel",
            "_view_count": null,
            "_view_module": "@jupyter-widgets/controls",
            "_view_module_version": "1.5.0",
            "_view_name": "ProgressView",
            "bar_style": "success",
            "description": "",
            "description_tooltip": null,
            "layout": "IPY_MODEL_e1bb241aa83b4f9393c69e094e73dc95",
            "max": 550,
            "min": 0,
            "orientation": "horizontal",
            "style": "IPY_MODEL_89b9c99a500f4603b8b9cc807221f9fc",
            "value": 550
          }
        },
        "6c5d2661895b4c968b72e3a50cf9a0c9": {
          "model_module": "@jupyter-widgets/controls",
          "model_name": "HTMLModel",
          "model_module_version": "1.5.0",
          "state": {
            "_dom_classes": [],
            "_model_module": "@jupyter-widgets/controls",
            "_model_module_version": "1.5.0",
            "_model_name": "HTMLModel",
            "_view_count": null,
            "_view_module": "@jupyter-widgets/controls",
            "_view_module_version": "1.5.0",
            "_view_name": "HTMLView",
            "description": "",
            "description_tooltip": null,
            "layout": "IPY_MODEL_a42e7e0914ba45449ceff1f9a3b04df3",
            "placeholder": "​",
            "style": "IPY_MODEL_6a88ce9bf67d432781dea59c4936dc41",
            "value": " 550/550 [03:11&lt;00:00,  3.15it/s]"
          }
        },
        "0356fb4d23ca4da0bebe3a59fede4b37": {
          "model_module": "@jupyter-widgets/base",
          "model_name": "LayoutModel",
          "model_module_version": "1.2.0",
          "state": {
            "_model_module": "@jupyter-widgets/base",
            "_model_module_version": "1.2.0",
            "_model_name": "LayoutModel",
            "_view_count": null,
            "_view_module": "@jupyter-widgets/base",
            "_view_module_version": "1.2.0",
            "_view_name": "LayoutView",
            "align_content": null,
            "align_items": null,
            "align_self": null,
            "border": null,
            "bottom": null,
            "display": null,
            "flex": null,
            "flex_flow": null,
            "grid_area": null,
            "grid_auto_columns": null,
            "grid_auto_flow": null,
            "grid_auto_rows": null,
            "grid_column": null,
            "grid_gap": null,
            "grid_row": null,
            "grid_template_areas": null,
            "grid_template_columns": null,
            "grid_template_rows": null,
            "height": null,
            "justify_content": null,
            "justify_items": null,
            "left": null,
            "margin": null,
            "max_height": null,
            "max_width": null,
            "min_height": null,
            "min_width": null,
            "object_fit": null,
            "object_position": null,
            "order": null,
            "overflow": null,
            "overflow_x": null,
            "overflow_y": null,
            "padding": null,
            "right": null,
            "top": null,
            "visibility": null,
            "width": null
          }
        },
        "b8d26737cdfb4b12b8140cff18eee6f7": {
          "model_module": "@jupyter-widgets/base",
          "model_name": "LayoutModel",
          "model_module_version": "1.2.0",
          "state": {
            "_model_module": "@jupyter-widgets/base",
            "_model_module_version": "1.2.0",
            "_model_name": "LayoutModel",
            "_view_count": null,
            "_view_module": "@jupyter-widgets/base",
            "_view_module_version": "1.2.0",
            "_view_name": "LayoutView",
            "align_content": null,
            "align_items": null,
            "align_self": null,
            "border": null,
            "bottom": null,
            "display": null,
            "flex": null,
            "flex_flow": null,
            "grid_area": null,
            "grid_auto_columns": null,
            "grid_auto_flow": null,
            "grid_auto_rows": null,
            "grid_column": null,
            "grid_gap": null,
            "grid_row": null,
            "grid_template_areas": null,
            "grid_template_columns": null,
            "grid_template_rows": null,
            "height": null,
            "justify_content": null,
            "justify_items": null,
            "left": null,
            "margin": null,
            "max_height": null,
            "max_width": null,
            "min_height": null,
            "min_width": null,
            "object_fit": null,
            "object_position": null,
            "order": null,
            "overflow": null,
            "overflow_x": null,
            "overflow_y": null,
            "padding": null,
            "right": null,
            "top": null,
            "visibility": null,
            "width": null
          }
        },
        "3083cba8c43a44e39c8003a07f451af1": {
          "model_module": "@jupyter-widgets/controls",
          "model_name": "DescriptionStyleModel",
          "model_module_version": "1.5.0",
          "state": {
            "_model_module": "@jupyter-widgets/controls",
            "_model_module_version": "1.5.0",
            "_model_name": "DescriptionStyleModel",
            "_view_count": null,
            "_view_module": "@jupyter-widgets/base",
            "_view_module_version": "1.2.0",
            "_view_name": "StyleView",
            "description_width": ""
          }
        },
        "e1bb241aa83b4f9393c69e094e73dc95": {
          "model_module": "@jupyter-widgets/base",
          "model_name": "LayoutModel",
          "model_module_version": "1.2.0",
          "state": {
            "_model_module": "@jupyter-widgets/base",
            "_model_module_version": "1.2.0",
            "_model_name": "LayoutModel",
            "_view_count": null,
            "_view_module": "@jupyter-widgets/base",
            "_view_module_version": "1.2.0",
            "_view_name": "LayoutView",
            "align_content": null,
            "align_items": null,
            "align_self": null,
            "border": null,
            "bottom": null,
            "display": null,
            "flex": null,
            "flex_flow": null,
            "grid_area": null,
            "grid_auto_columns": null,
            "grid_auto_flow": null,
            "grid_auto_rows": null,
            "grid_column": null,
            "grid_gap": null,
            "grid_row": null,
            "grid_template_areas": null,
            "grid_template_columns": null,
            "grid_template_rows": null,
            "height": null,
            "justify_content": null,
            "justify_items": null,
            "left": null,
            "margin": null,
            "max_height": null,
            "max_width": null,
            "min_height": null,
            "min_width": null,
            "object_fit": null,
            "object_position": null,
            "order": null,
            "overflow": null,
            "overflow_x": null,
            "overflow_y": null,
            "padding": null,
            "right": null,
            "top": null,
            "visibility": null,
            "width": null
          }
        },
        "89b9c99a500f4603b8b9cc807221f9fc": {
          "model_module": "@jupyter-widgets/controls",
          "model_name": "ProgressStyleModel",
          "model_module_version": "1.5.0",
          "state": {
            "_model_module": "@jupyter-widgets/controls",
            "_model_module_version": "1.5.0",
            "_model_name": "ProgressStyleModel",
            "_view_count": null,
            "_view_module": "@jupyter-widgets/base",
            "_view_module_version": "1.2.0",
            "_view_name": "StyleView",
            "bar_color": null,
            "description_width": ""
          }
        },
        "a42e7e0914ba45449ceff1f9a3b04df3": {
          "model_module": "@jupyter-widgets/base",
          "model_name": "LayoutModel",
          "model_module_version": "1.2.0",
          "state": {
            "_model_module": "@jupyter-widgets/base",
            "_model_module_version": "1.2.0",
            "_model_name": "LayoutModel",
            "_view_count": null,
            "_view_module": "@jupyter-widgets/base",
            "_view_module_version": "1.2.0",
            "_view_name": "LayoutView",
            "align_content": null,
            "align_items": null,
            "align_self": null,
            "border": null,
            "bottom": null,
            "display": null,
            "flex": null,
            "flex_flow": null,
            "grid_area": null,
            "grid_auto_columns": null,
            "grid_auto_flow": null,
            "grid_auto_rows": null,
            "grid_column": null,
            "grid_gap": null,
            "grid_row": null,
            "grid_template_areas": null,
            "grid_template_columns": null,
            "grid_template_rows": null,
            "height": null,
            "justify_content": null,
            "justify_items": null,
            "left": null,
            "margin": null,
            "max_height": null,
            "max_width": null,
            "min_height": null,
            "min_width": null,
            "object_fit": null,
            "object_position": null,
            "order": null,
            "overflow": null,
            "overflow_x": null,
            "overflow_y": null,
            "padding": null,
            "right": null,
            "top": null,
            "visibility": null,
            "width": null
          }
        },
        "6a88ce9bf67d432781dea59c4936dc41": {
          "model_module": "@jupyter-widgets/controls",
          "model_name": "DescriptionStyleModel",
          "model_module_version": "1.5.0",
          "state": {
            "_model_module": "@jupyter-widgets/controls",
            "_model_module_version": "1.5.0",
            "_model_name": "DescriptionStyleModel",
            "_view_count": null,
            "_view_module": "@jupyter-widgets/base",
            "_view_module_version": "1.2.0",
            "_view_name": "StyleView",
            "description_width": ""
          }
        },
        "79c226df2cbd41c0b0b0b05c37b23faf": {
          "model_module": "@jupyter-widgets/controls",
          "model_name": "HBoxModel",
          "model_module_version": "1.5.0",
          "state": {
            "_dom_classes": [],
            "_model_module": "@jupyter-widgets/controls",
            "_model_module_version": "1.5.0",
            "_model_name": "HBoxModel",
            "_view_count": null,
            "_view_module": "@jupyter-widgets/controls",
            "_view_module_version": "1.5.0",
            "_view_name": "HBoxView",
            "box_style": "",
            "children": [
              "IPY_MODEL_8b6e2ba9a5284d40b33ad1a29b0900c2",
              "IPY_MODEL_7b6b719943d64744bc67be9865db4e68",
              "IPY_MODEL_29d309d98aa4427b9e87ee2559821147"
            ],
            "layout": "IPY_MODEL_bae131d4129447be852f183782369c53"
          }
        },
        "8b6e2ba9a5284d40b33ad1a29b0900c2": {
          "model_module": "@jupyter-widgets/controls",
          "model_name": "HTMLModel",
          "model_module_version": "1.5.0",
          "state": {
            "_dom_classes": [],
            "_model_module": "@jupyter-widgets/controls",
            "_model_module_version": "1.5.0",
            "_model_name": "HTMLModel",
            "_view_count": null,
            "_view_module": "@jupyter-widgets/controls",
            "_view_module_version": "1.5.0",
            "_view_name": "HTMLView",
            "description": "",
            "description_tooltip": null,
            "layout": "IPY_MODEL_e96555f62fd04bfc944880831397f487",
            "placeholder": "​",
            "style": "IPY_MODEL_65ce5fd8e43b42a99de2005cbef20467",
            "value": "Valid: 100%"
          }
        },
        "7b6b719943d64744bc67be9865db4e68": {
          "model_module": "@jupyter-widgets/controls",
          "model_name": "FloatProgressModel",
          "model_module_version": "1.5.0",
          "state": {
            "_dom_classes": [],
            "_model_module": "@jupyter-widgets/controls",
            "_model_module_version": "1.5.0",
            "_model_name": "FloatProgressModel",
            "_view_count": null,
            "_view_module": "@jupyter-widgets/controls",
            "_view_module_version": "1.5.0",
            "_view_name": "ProgressView",
            "bar_style": "success",
            "description": "",
            "description_tooltip": null,
            "layout": "IPY_MODEL_cd23ee9c18cf452a990fa02b89697970",
            "max": 69,
            "min": 0,
            "orientation": "horizontal",
            "style": "IPY_MODEL_b6faecc827194414a0712fa98d4733c4",
            "value": 69
          }
        },
        "29d309d98aa4427b9e87ee2559821147": {
          "model_module": "@jupyter-widgets/controls",
          "model_name": "HTMLModel",
          "model_module_version": "1.5.0",
          "state": {
            "_dom_classes": [],
            "_model_module": "@jupyter-widgets/controls",
            "_model_module_version": "1.5.0",
            "_model_name": "HTMLModel",
            "_view_count": null,
            "_view_module": "@jupyter-widgets/controls",
            "_view_module_version": "1.5.0",
            "_view_name": "HTMLView",
            "description": "",
            "description_tooltip": null,
            "layout": "IPY_MODEL_9fdcda38f58941f58cfc15a4f7b5f3b0",
            "placeholder": "​",
            "style": "IPY_MODEL_1c3ef12487ce4f969850eadb9867bbd8",
            "value": " 69/69 [00:08&lt;00:00,  8.73it/s]"
          }
        },
        "bae131d4129447be852f183782369c53": {
          "model_module": "@jupyter-widgets/base",
          "model_name": "LayoutModel",
          "model_module_version": "1.2.0",
          "state": {
            "_model_module": "@jupyter-widgets/base",
            "_model_module_version": "1.2.0",
            "_model_name": "LayoutModel",
            "_view_count": null,
            "_view_module": "@jupyter-widgets/base",
            "_view_module_version": "1.2.0",
            "_view_name": "LayoutView",
            "align_content": null,
            "align_items": null,
            "align_self": null,
            "border": null,
            "bottom": null,
            "display": null,
            "flex": null,
            "flex_flow": null,
            "grid_area": null,
            "grid_auto_columns": null,
            "grid_auto_flow": null,
            "grid_auto_rows": null,
            "grid_column": null,
            "grid_gap": null,
            "grid_row": null,
            "grid_template_areas": null,
            "grid_template_columns": null,
            "grid_template_rows": null,
            "height": null,
            "justify_content": null,
            "justify_items": null,
            "left": null,
            "margin": null,
            "max_height": null,
            "max_width": null,
            "min_height": null,
            "min_width": null,
            "object_fit": null,
            "object_position": null,
            "order": null,
            "overflow": null,
            "overflow_x": null,
            "overflow_y": null,
            "padding": null,
            "right": null,
            "top": null,
            "visibility": null,
            "width": null
          }
        },
        "e96555f62fd04bfc944880831397f487": {
          "model_module": "@jupyter-widgets/base",
          "model_name": "LayoutModel",
          "model_module_version": "1.2.0",
          "state": {
            "_model_module": "@jupyter-widgets/base",
            "_model_module_version": "1.2.0",
            "_model_name": "LayoutModel",
            "_view_count": null,
            "_view_module": "@jupyter-widgets/base",
            "_view_module_version": "1.2.0",
            "_view_name": "LayoutView",
            "align_content": null,
            "align_items": null,
            "align_self": null,
            "border": null,
            "bottom": null,
            "display": null,
            "flex": null,
            "flex_flow": null,
            "grid_area": null,
            "grid_auto_columns": null,
            "grid_auto_flow": null,
            "grid_auto_rows": null,
            "grid_column": null,
            "grid_gap": null,
            "grid_row": null,
            "grid_template_areas": null,
            "grid_template_columns": null,
            "grid_template_rows": null,
            "height": null,
            "justify_content": null,
            "justify_items": null,
            "left": null,
            "margin": null,
            "max_height": null,
            "max_width": null,
            "min_height": null,
            "min_width": null,
            "object_fit": null,
            "object_position": null,
            "order": null,
            "overflow": null,
            "overflow_x": null,
            "overflow_y": null,
            "padding": null,
            "right": null,
            "top": null,
            "visibility": null,
            "width": null
          }
        },
        "65ce5fd8e43b42a99de2005cbef20467": {
          "model_module": "@jupyter-widgets/controls",
          "model_name": "DescriptionStyleModel",
          "model_module_version": "1.5.0",
          "state": {
            "_model_module": "@jupyter-widgets/controls",
            "_model_module_version": "1.5.0",
            "_model_name": "DescriptionStyleModel",
            "_view_count": null,
            "_view_module": "@jupyter-widgets/base",
            "_view_module_version": "1.2.0",
            "_view_name": "StyleView",
            "description_width": ""
          }
        },
        "cd23ee9c18cf452a990fa02b89697970": {
          "model_module": "@jupyter-widgets/base",
          "model_name": "LayoutModel",
          "model_module_version": "1.2.0",
          "state": {
            "_model_module": "@jupyter-widgets/base",
            "_model_module_version": "1.2.0",
            "_model_name": "LayoutModel",
            "_view_count": null,
            "_view_module": "@jupyter-widgets/base",
            "_view_module_version": "1.2.0",
            "_view_name": "LayoutView",
            "align_content": null,
            "align_items": null,
            "align_self": null,
            "border": null,
            "bottom": null,
            "display": null,
            "flex": null,
            "flex_flow": null,
            "grid_area": null,
            "grid_auto_columns": null,
            "grid_auto_flow": null,
            "grid_auto_rows": null,
            "grid_column": null,
            "grid_gap": null,
            "grid_row": null,
            "grid_template_areas": null,
            "grid_template_columns": null,
            "grid_template_rows": null,
            "height": null,
            "justify_content": null,
            "justify_items": null,
            "left": null,
            "margin": null,
            "max_height": null,
            "max_width": null,
            "min_height": null,
            "min_width": null,
            "object_fit": null,
            "object_position": null,
            "order": null,
            "overflow": null,
            "overflow_x": null,
            "overflow_y": null,
            "padding": null,
            "right": null,
            "top": null,
            "visibility": null,
            "width": null
          }
        },
        "b6faecc827194414a0712fa98d4733c4": {
          "model_module": "@jupyter-widgets/controls",
          "model_name": "ProgressStyleModel",
          "model_module_version": "1.5.0",
          "state": {
            "_model_module": "@jupyter-widgets/controls",
            "_model_module_version": "1.5.0",
            "_model_name": "ProgressStyleModel",
            "_view_count": null,
            "_view_module": "@jupyter-widgets/base",
            "_view_module_version": "1.2.0",
            "_view_name": "StyleView",
            "bar_color": null,
            "description_width": ""
          }
        },
        "9fdcda38f58941f58cfc15a4f7b5f3b0": {
          "model_module": "@jupyter-widgets/base",
          "model_name": "LayoutModel",
          "model_module_version": "1.2.0",
          "state": {
            "_model_module": "@jupyter-widgets/base",
            "_model_module_version": "1.2.0",
            "_model_name": "LayoutModel",
            "_view_count": null,
            "_view_module": "@jupyter-widgets/base",
            "_view_module_version": "1.2.0",
            "_view_name": "LayoutView",
            "align_content": null,
            "align_items": null,
            "align_self": null,
            "border": null,
            "bottom": null,
            "display": null,
            "flex": null,
            "flex_flow": null,
            "grid_area": null,
            "grid_auto_columns": null,
            "grid_auto_flow": null,
            "grid_auto_rows": null,
            "grid_column": null,
            "grid_gap": null,
            "grid_row": null,
            "grid_template_areas": null,
            "grid_template_columns": null,
            "grid_template_rows": null,
            "height": null,
            "justify_content": null,
            "justify_items": null,
            "left": null,
            "margin": null,
            "max_height": null,
            "max_width": null,
            "min_height": null,
            "min_width": null,
            "object_fit": null,
            "object_position": null,
            "order": null,
            "overflow": null,
            "overflow_x": null,
            "overflow_y": null,
            "padding": null,
            "right": null,
            "top": null,
            "visibility": null,
            "width": null
          }
        },
        "1c3ef12487ce4f969850eadb9867bbd8": {
          "model_module": "@jupyter-widgets/controls",
          "model_name": "DescriptionStyleModel",
          "model_module_version": "1.5.0",
          "state": {
            "_model_module": "@jupyter-widgets/controls",
            "_model_module_version": "1.5.0",
            "_model_name": "DescriptionStyleModel",
            "_view_count": null,
            "_view_module": "@jupyter-widgets/base",
            "_view_module_version": "1.2.0",
            "_view_name": "StyleView",
            "description_width": ""
          }
        },
        "2a608e2b5bc044c780f388e8f97f6b02": {
          "model_module": "@jupyter-widgets/controls",
          "model_name": "HBoxModel",
          "model_module_version": "1.5.0",
          "state": {
            "_dom_classes": [],
            "_model_module": "@jupyter-widgets/controls",
            "_model_module_version": "1.5.0",
            "_model_name": "HBoxModel",
            "_view_count": null,
            "_view_module": "@jupyter-widgets/controls",
            "_view_module_version": "1.5.0",
            "_view_name": "HBoxView",
            "box_style": "",
            "children": [
              "IPY_MODEL_434b6f3fe7484d9b95f410f06e061bf1",
              "IPY_MODEL_2d4a345f62464e36a102dead6a4ae630",
              "IPY_MODEL_dce55ad58e994dc4b7d019c8b06183f9"
            ],
            "layout": "IPY_MODEL_d1492f1103db4571979792fc428c05ed"
          }
        },
        "434b6f3fe7484d9b95f410f06e061bf1": {
          "model_module": "@jupyter-widgets/controls",
          "model_name": "HTMLModel",
          "model_module_version": "1.5.0",
          "state": {
            "_dom_classes": [],
            "_model_module": "@jupyter-widgets/controls",
            "_model_module_version": "1.5.0",
            "_model_name": "HTMLModel",
            "_view_count": null,
            "_view_module": "@jupyter-widgets/controls",
            "_view_module_version": "1.5.0",
            "_view_name": "HTMLView",
            "description": "",
            "description_tooltip": null,
            "layout": "IPY_MODEL_590083581ff64bd09609f09d4dc52ad1",
            "placeholder": "​",
            "style": "IPY_MODEL_48a22b536e53450ebf46bc728700429b",
            "value": "Train: 100%"
          }
        },
        "2d4a345f62464e36a102dead6a4ae630": {
          "model_module": "@jupyter-widgets/controls",
          "model_name": "FloatProgressModel",
          "model_module_version": "1.5.0",
          "state": {
            "_dom_classes": [],
            "_model_module": "@jupyter-widgets/controls",
            "_model_module_version": "1.5.0",
            "_model_name": "FloatProgressModel",
            "_view_count": null,
            "_view_module": "@jupyter-widgets/controls",
            "_view_module_version": "1.5.0",
            "_view_name": "ProgressView",
            "bar_style": "success",
            "description": "",
            "description_tooltip": null,
            "layout": "IPY_MODEL_913ea439a2434d11a8d177973205a559",
            "max": 550,
            "min": 0,
            "orientation": "horizontal",
            "style": "IPY_MODEL_0f2581ae2ea7451f90a6d8464401a306",
            "value": 550
          }
        },
        "dce55ad58e994dc4b7d019c8b06183f9": {
          "model_module": "@jupyter-widgets/controls",
          "model_name": "HTMLModel",
          "model_module_version": "1.5.0",
          "state": {
            "_dom_classes": [],
            "_model_module": "@jupyter-widgets/controls",
            "_model_module_version": "1.5.0",
            "_model_name": "HTMLModel",
            "_view_count": null,
            "_view_module": "@jupyter-widgets/controls",
            "_view_module_version": "1.5.0",
            "_view_name": "HTMLView",
            "description": "",
            "description_tooltip": null,
            "layout": "IPY_MODEL_960f414fa3b04f01bd54362eb0ab4918",
            "placeholder": "​",
            "style": "IPY_MODEL_71aba0fc49a4466d9c171794bd091104",
            "value": " 550/550 [03:14&lt;00:00,  3.22it/s]"
          }
        },
        "d1492f1103db4571979792fc428c05ed": {
          "model_module": "@jupyter-widgets/base",
          "model_name": "LayoutModel",
          "model_module_version": "1.2.0",
          "state": {
            "_model_module": "@jupyter-widgets/base",
            "_model_module_version": "1.2.0",
            "_model_name": "LayoutModel",
            "_view_count": null,
            "_view_module": "@jupyter-widgets/base",
            "_view_module_version": "1.2.0",
            "_view_name": "LayoutView",
            "align_content": null,
            "align_items": null,
            "align_self": null,
            "border": null,
            "bottom": null,
            "display": null,
            "flex": null,
            "flex_flow": null,
            "grid_area": null,
            "grid_auto_columns": null,
            "grid_auto_flow": null,
            "grid_auto_rows": null,
            "grid_column": null,
            "grid_gap": null,
            "grid_row": null,
            "grid_template_areas": null,
            "grid_template_columns": null,
            "grid_template_rows": null,
            "height": null,
            "justify_content": null,
            "justify_items": null,
            "left": null,
            "margin": null,
            "max_height": null,
            "max_width": null,
            "min_height": null,
            "min_width": null,
            "object_fit": null,
            "object_position": null,
            "order": null,
            "overflow": null,
            "overflow_x": null,
            "overflow_y": null,
            "padding": null,
            "right": null,
            "top": null,
            "visibility": null,
            "width": null
          }
        },
        "590083581ff64bd09609f09d4dc52ad1": {
          "model_module": "@jupyter-widgets/base",
          "model_name": "LayoutModel",
          "model_module_version": "1.2.0",
          "state": {
            "_model_module": "@jupyter-widgets/base",
            "_model_module_version": "1.2.0",
            "_model_name": "LayoutModel",
            "_view_count": null,
            "_view_module": "@jupyter-widgets/base",
            "_view_module_version": "1.2.0",
            "_view_name": "LayoutView",
            "align_content": null,
            "align_items": null,
            "align_self": null,
            "border": null,
            "bottom": null,
            "display": null,
            "flex": null,
            "flex_flow": null,
            "grid_area": null,
            "grid_auto_columns": null,
            "grid_auto_flow": null,
            "grid_auto_rows": null,
            "grid_column": null,
            "grid_gap": null,
            "grid_row": null,
            "grid_template_areas": null,
            "grid_template_columns": null,
            "grid_template_rows": null,
            "height": null,
            "justify_content": null,
            "justify_items": null,
            "left": null,
            "margin": null,
            "max_height": null,
            "max_width": null,
            "min_height": null,
            "min_width": null,
            "object_fit": null,
            "object_position": null,
            "order": null,
            "overflow": null,
            "overflow_x": null,
            "overflow_y": null,
            "padding": null,
            "right": null,
            "top": null,
            "visibility": null,
            "width": null
          }
        },
        "48a22b536e53450ebf46bc728700429b": {
          "model_module": "@jupyter-widgets/controls",
          "model_name": "DescriptionStyleModel",
          "model_module_version": "1.5.0",
          "state": {
            "_model_module": "@jupyter-widgets/controls",
            "_model_module_version": "1.5.0",
            "_model_name": "DescriptionStyleModel",
            "_view_count": null,
            "_view_module": "@jupyter-widgets/base",
            "_view_module_version": "1.2.0",
            "_view_name": "StyleView",
            "description_width": ""
          }
        },
        "913ea439a2434d11a8d177973205a559": {
          "model_module": "@jupyter-widgets/base",
          "model_name": "LayoutModel",
          "model_module_version": "1.2.0",
          "state": {
            "_model_module": "@jupyter-widgets/base",
            "_model_module_version": "1.2.0",
            "_model_name": "LayoutModel",
            "_view_count": null,
            "_view_module": "@jupyter-widgets/base",
            "_view_module_version": "1.2.0",
            "_view_name": "LayoutView",
            "align_content": null,
            "align_items": null,
            "align_self": null,
            "border": null,
            "bottom": null,
            "display": null,
            "flex": null,
            "flex_flow": null,
            "grid_area": null,
            "grid_auto_columns": null,
            "grid_auto_flow": null,
            "grid_auto_rows": null,
            "grid_column": null,
            "grid_gap": null,
            "grid_row": null,
            "grid_template_areas": null,
            "grid_template_columns": null,
            "grid_template_rows": null,
            "height": null,
            "justify_content": null,
            "justify_items": null,
            "left": null,
            "margin": null,
            "max_height": null,
            "max_width": null,
            "min_height": null,
            "min_width": null,
            "object_fit": null,
            "object_position": null,
            "order": null,
            "overflow": null,
            "overflow_x": null,
            "overflow_y": null,
            "padding": null,
            "right": null,
            "top": null,
            "visibility": null,
            "width": null
          }
        },
        "0f2581ae2ea7451f90a6d8464401a306": {
          "model_module": "@jupyter-widgets/controls",
          "model_name": "ProgressStyleModel",
          "model_module_version": "1.5.0",
          "state": {
            "_model_module": "@jupyter-widgets/controls",
            "_model_module_version": "1.5.0",
            "_model_name": "ProgressStyleModel",
            "_view_count": null,
            "_view_module": "@jupyter-widgets/base",
            "_view_module_version": "1.2.0",
            "_view_name": "StyleView",
            "bar_color": null,
            "description_width": ""
          }
        },
        "960f414fa3b04f01bd54362eb0ab4918": {
          "model_module": "@jupyter-widgets/base",
          "model_name": "LayoutModel",
          "model_module_version": "1.2.0",
          "state": {
            "_model_module": "@jupyter-widgets/base",
            "_model_module_version": "1.2.0",
            "_model_name": "LayoutModel",
            "_view_count": null,
            "_view_module": "@jupyter-widgets/base",
            "_view_module_version": "1.2.0",
            "_view_name": "LayoutView",
            "align_content": null,
            "align_items": null,
            "align_self": null,
            "border": null,
            "bottom": null,
            "display": null,
            "flex": null,
            "flex_flow": null,
            "grid_area": null,
            "grid_auto_columns": null,
            "grid_auto_flow": null,
            "grid_auto_rows": null,
            "grid_column": null,
            "grid_gap": null,
            "grid_row": null,
            "grid_template_areas": null,
            "grid_template_columns": null,
            "grid_template_rows": null,
            "height": null,
            "justify_content": null,
            "justify_items": null,
            "left": null,
            "margin": null,
            "max_height": null,
            "max_width": null,
            "min_height": null,
            "min_width": null,
            "object_fit": null,
            "object_position": null,
            "order": null,
            "overflow": null,
            "overflow_x": null,
            "overflow_y": null,
            "padding": null,
            "right": null,
            "top": null,
            "visibility": null,
            "width": null
          }
        },
        "71aba0fc49a4466d9c171794bd091104": {
          "model_module": "@jupyter-widgets/controls",
          "model_name": "DescriptionStyleModel",
          "model_module_version": "1.5.0",
          "state": {
            "_model_module": "@jupyter-widgets/controls",
            "_model_module_version": "1.5.0",
            "_model_name": "DescriptionStyleModel",
            "_view_count": null,
            "_view_module": "@jupyter-widgets/base",
            "_view_module_version": "1.2.0",
            "_view_name": "StyleView",
            "description_width": ""
          }
        },
        "e51c221d84ab4700ac72fb76c3530152": {
          "model_module": "@jupyter-widgets/controls",
          "model_name": "HBoxModel",
          "model_module_version": "1.5.0",
          "state": {
            "_dom_classes": [],
            "_model_module": "@jupyter-widgets/controls",
            "_model_module_version": "1.5.0",
            "_model_name": "HBoxModel",
            "_view_count": null,
            "_view_module": "@jupyter-widgets/controls",
            "_view_module_version": "1.5.0",
            "_view_name": "HBoxView",
            "box_style": "",
            "children": [
              "IPY_MODEL_48e51b67590547d9ba42e54f7cc66b91",
              "IPY_MODEL_2df480b4ed1f46f490db7b463073d8af",
              "IPY_MODEL_ba5fe797f97745e7a2ebda4120bb7220"
            ],
            "layout": "IPY_MODEL_b608f02a619341adad7b515efbe6f280"
          }
        },
        "48e51b67590547d9ba42e54f7cc66b91": {
          "model_module": "@jupyter-widgets/controls",
          "model_name": "HTMLModel",
          "model_module_version": "1.5.0",
          "state": {
            "_dom_classes": [],
            "_model_module": "@jupyter-widgets/controls",
            "_model_module_version": "1.5.0",
            "_model_name": "HTMLModel",
            "_view_count": null,
            "_view_module": "@jupyter-widgets/controls",
            "_view_module_version": "1.5.0",
            "_view_name": "HTMLView",
            "description": "",
            "description_tooltip": null,
            "layout": "IPY_MODEL_eaa410642174470f8340ec195ba9ace3",
            "placeholder": "​",
            "style": "IPY_MODEL_68299f9e563943958b47a86f58956860",
            "value": "Valid: 100%"
          }
        },
        "2df480b4ed1f46f490db7b463073d8af": {
          "model_module": "@jupyter-widgets/controls",
          "model_name": "FloatProgressModel",
          "model_module_version": "1.5.0",
          "state": {
            "_dom_classes": [],
            "_model_module": "@jupyter-widgets/controls",
            "_model_module_version": "1.5.0",
            "_model_name": "FloatProgressModel",
            "_view_count": null,
            "_view_module": "@jupyter-widgets/controls",
            "_view_module_version": "1.5.0",
            "_view_name": "ProgressView",
            "bar_style": "success",
            "description": "",
            "description_tooltip": null,
            "layout": "IPY_MODEL_fc71d98836fc4e148d553f2a3ef13803",
            "max": 69,
            "min": 0,
            "orientation": "horizontal",
            "style": "IPY_MODEL_dbe381b2bfe74790be4ae88c13fb190b",
            "value": 69
          }
        },
        "ba5fe797f97745e7a2ebda4120bb7220": {
          "model_module": "@jupyter-widgets/controls",
          "model_name": "HTMLModel",
          "model_module_version": "1.5.0",
          "state": {
            "_dom_classes": [],
            "_model_module": "@jupyter-widgets/controls",
            "_model_module_version": "1.5.0",
            "_model_name": "HTMLModel",
            "_view_count": null,
            "_view_module": "@jupyter-widgets/controls",
            "_view_module_version": "1.5.0",
            "_view_name": "HTMLView",
            "description": "",
            "description_tooltip": null,
            "layout": "IPY_MODEL_9b50317d2a4e4e95855ef6cde0edfd47",
            "placeholder": "​",
            "style": "IPY_MODEL_bc96d44b3cb24fc0a087d330815aaf73",
            "value": " 69/69 [00:08&lt;00:00,  8.14it/s]"
          }
        },
        "b608f02a619341adad7b515efbe6f280": {
          "model_module": "@jupyter-widgets/base",
          "model_name": "LayoutModel",
          "model_module_version": "1.2.0",
          "state": {
            "_model_module": "@jupyter-widgets/base",
            "_model_module_version": "1.2.0",
            "_model_name": "LayoutModel",
            "_view_count": null,
            "_view_module": "@jupyter-widgets/base",
            "_view_module_version": "1.2.0",
            "_view_name": "LayoutView",
            "align_content": null,
            "align_items": null,
            "align_self": null,
            "border": null,
            "bottom": null,
            "display": null,
            "flex": null,
            "flex_flow": null,
            "grid_area": null,
            "grid_auto_columns": null,
            "grid_auto_flow": null,
            "grid_auto_rows": null,
            "grid_column": null,
            "grid_gap": null,
            "grid_row": null,
            "grid_template_areas": null,
            "grid_template_columns": null,
            "grid_template_rows": null,
            "height": null,
            "justify_content": null,
            "justify_items": null,
            "left": null,
            "margin": null,
            "max_height": null,
            "max_width": null,
            "min_height": null,
            "min_width": null,
            "object_fit": null,
            "object_position": null,
            "order": null,
            "overflow": null,
            "overflow_x": null,
            "overflow_y": null,
            "padding": null,
            "right": null,
            "top": null,
            "visibility": null,
            "width": null
          }
        },
        "eaa410642174470f8340ec195ba9ace3": {
          "model_module": "@jupyter-widgets/base",
          "model_name": "LayoutModel",
          "model_module_version": "1.2.0",
          "state": {
            "_model_module": "@jupyter-widgets/base",
            "_model_module_version": "1.2.0",
            "_model_name": "LayoutModel",
            "_view_count": null,
            "_view_module": "@jupyter-widgets/base",
            "_view_module_version": "1.2.0",
            "_view_name": "LayoutView",
            "align_content": null,
            "align_items": null,
            "align_self": null,
            "border": null,
            "bottom": null,
            "display": null,
            "flex": null,
            "flex_flow": null,
            "grid_area": null,
            "grid_auto_columns": null,
            "grid_auto_flow": null,
            "grid_auto_rows": null,
            "grid_column": null,
            "grid_gap": null,
            "grid_row": null,
            "grid_template_areas": null,
            "grid_template_columns": null,
            "grid_template_rows": null,
            "height": null,
            "justify_content": null,
            "justify_items": null,
            "left": null,
            "margin": null,
            "max_height": null,
            "max_width": null,
            "min_height": null,
            "min_width": null,
            "object_fit": null,
            "object_position": null,
            "order": null,
            "overflow": null,
            "overflow_x": null,
            "overflow_y": null,
            "padding": null,
            "right": null,
            "top": null,
            "visibility": null,
            "width": null
          }
        },
        "68299f9e563943958b47a86f58956860": {
          "model_module": "@jupyter-widgets/controls",
          "model_name": "DescriptionStyleModel",
          "model_module_version": "1.5.0",
          "state": {
            "_model_module": "@jupyter-widgets/controls",
            "_model_module_version": "1.5.0",
            "_model_name": "DescriptionStyleModel",
            "_view_count": null,
            "_view_module": "@jupyter-widgets/base",
            "_view_module_version": "1.2.0",
            "_view_name": "StyleView",
            "description_width": ""
          }
        },
        "fc71d98836fc4e148d553f2a3ef13803": {
          "model_module": "@jupyter-widgets/base",
          "model_name": "LayoutModel",
          "model_module_version": "1.2.0",
          "state": {
            "_model_module": "@jupyter-widgets/base",
            "_model_module_version": "1.2.0",
            "_model_name": "LayoutModel",
            "_view_count": null,
            "_view_module": "@jupyter-widgets/base",
            "_view_module_version": "1.2.0",
            "_view_name": "LayoutView",
            "align_content": null,
            "align_items": null,
            "align_self": null,
            "border": null,
            "bottom": null,
            "display": null,
            "flex": null,
            "flex_flow": null,
            "grid_area": null,
            "grid_auto_columns": null,
            "grid_auto_flow": null,
            "grid_auto_rows": null,
            "grid_column": null,
            "grid_gap": null,
            "grid_row": null,
            "grid_template_areas": null,
            "grid_template_columns": null,
            "grid_template_rows": null,
            "height": null,
            "justify_content": null,
            "justify_items": null,
            "left": null,
            "margin": null,
            "max_height": null,
            "max_width": null,
            "min_height": null,
            "min_width": null,
            "object_fit": null,
            "object_position": null,
            "order": null,
            "overflow": null,
            "overflow_x": null,
            "overflow_y": null,
            "padding": null,
            "right": null,
            "top": null,
            "visibility": null,
            "width": null
          }
        },
        "dbe381b2bfe74790be4ae88c13fb190b": {
          "model_module": "@jupyter-widgets/controls",
          "model_name": "ProgressStyleModel",
          "model_module_version": "1.5.0",
          "state": {
            "_model_module": "@jupyter-widgets/controls",
            "_model_module_version": "1.5.0",
            "_model_name": "ProgressStyleModel",
            "_view_count": null,
            "_view_module": "@jupyter-widgets/base",
            "_view_module_version": "1.2.0",
            "_view_name": "StyleView",
            "bar_color": null,
            "description_width": ""
          }
        },
        "9b50317d2a4e4e95855ef6cde0edfd47": {
          "model_module": "@jupyter-widgets/base",
          "model_name": "LayoutModel",
          "model_module_version": "1.2.0",
          "state": {
            "_model_module": "@jupyter-widgets/base",
            "_model_module_version": "1.2.0",
            "_model_name": "LayoutModel",
            "_view_count": null,
            "_view_module": "@jupyter-widgets/base",
            "_view_module_version": "1.2.0",
            "_view_name": "LayoutView",
            "align_content": null,
            "align_items": null,
            "align_self": null,
            "border": null,
            "bottom": null,
            "display": null,
            "flex": null,
            "flex_flow": null,
            "grid_area": null,
            "grid_auto_columns": null,
            "grid_auto_flow": null,
            "grid_auto_rows": null,
            "grid_column": null,
            "grid_gap": null,
            "grid_row": null,
            "grid_template_areas": null,
            "grid_template_columns": null,
            "grid_template_rows": null,
            "height": null,
            "justify_content": null,
            "justify_items": null,
            "left": null,
            "margin": null,
            "max_height": null,
            "max_width": null,
            "min_height": null,
            "min_width": null,
            "object_fit": null,
            "object_position": null,
            "order": null,
            "overflow": null,
            "overflow_x": null,
            "overflow_y": null,
            "padding": null,
            "right": null,
            "top": null,
            "visibility": null,
            "width": null
          }
        },
        "bc96d44b3cb24fc0a087d330815aaf73": {
          "model_module": "@jupyter-widgets/controls",
          "model_name": "DescriptionStyleModel",
          "model_module_version": "1.5.0",
          "state": {
            "_model_module": "@jupyter-widgets/controls",
            "_model_module_version": "1.5.0",
            "_model_name": "DescriptionStyleModel",
            "_view_count": null,
            "_view_module": "@jupyter-widgets/base",
            "_view_module_version": "1.2.0",
            "_view_name": "StyleView",
            "description_width": ""
          }
        },
        "346dd06e6c404eda82c5b6cc56aeb779": {
          "model_module": "@jupyter-widgets/controls",
          "model_name": "HBoxModel",
          "model_module_version": "1.5.0",
          "state": {
            "_dom_classes": [],
            "_model_module": "@jupyter-widgets/controls",
            "_model_module_version": "1.5.0",
            "_model_name": "HBoxModel",
            "_view_count": null,
            "_view_module": "@jupyter-widgets/controls",
            "_view_module_version": "1.5.0",
            "_view_name": "HBoxView",
            "box_style": "",
            "children": [
              "IPY_MODEL_9109131a987a480d89a7af29a869de0a",
              "IPY_MODEL_7e58808b495146fbb71d32e89d682df5",
              "IPY_MODEL_a77fda1621b8424aad227836eb819728"
            ],
            "layout": "IPY_MODEL_7a3ed4c089d54906a812e4a0dd7acfb7"
          }
        },
        "9109131a987a480d89a7af29a869de0a": {
          "model_module": "@jupyter-widgets/controls",
          "model_name": "HTMLModel",
          "model_module_version": "1.5.0",
          "state": {
            "_dom_classes": [],
            "_model_module": "@jupyter-widgets/controls",
            "_model_module_version": "1.5.0",
            "_model_name": "HTMLModel",
            "_view_count": null,
            "_view_module": "@jupyter-widgets/controls",
            "_view_module_version": "1.5.0",
            "_view_name": "HTMLView",
            "description": "",
            "description_tooltip": null,
            "layout": "IPY_MODEL_21a70621061247a08f34a024724f3877",
            "placeholder": "​",
            "style": "IPY_MODEL_24e35a82cce0401aa971a2ea86b0076f",
            "value": "Train: 100%"
          }
        },
        "7e58808b495146fbb71d32e89d682df5": {
          "model_module": "@jupyter-widgets/controls",
          "model_name": "FloatProgressModel",
          "model_module_version": "1.5.0",
          "state": {
            "_dom_classes": [],
            "_model_module": "@jupyter-widgets/controls",
            "_model_module_version": "1.5.0",
            "_model_name": "FloatProgressModel",
            "_view_count": null,
            "_view_module": "@jupyter-widgets/controls",
            "_view_module_version": "1.5.0",
            "_view_name": "ProgressView",
            "bar_style": "success",
            "description": "",
            "description_tooltip": null,
            "layout": "IPY_MODEL_c669d14728484fb598c8b15b2b8093ef",
            "max": 550,
            "min": 0,
            "orientation": "horizontal",
            "style": "IPY_MODEL_e685045e157c4253a6196cba3a25474a",
            "value": 550
          }
        },
        "a77fda1621b8424aad227836eb819728": {
          "model_module": "@jupyter-widgets/controls",
          "model_name": "HTMLModel",
          "model_module_version": "1.5.0",
          "state": {
            "_dom_classes": [],
            "_model_module": "@jupyter-widgets/controls",
            "_model_module_version": "1.5.0",
            "_model_name": "HTMLModel",
            "_view_count": null,
            "_view_module": "@jupyter-widgets/controls",
            "_view_module_version": "1.5.0",
            "_view_name": "HTMLView",
            "description": "",
            "description_tooltip": null,
            "layout": "IPY_MODEL_7f4ae34c39ef446c9d38fcfa89e1f0ad",
            "placeholder": "​",
            "style": "IPY_MODEL_1167ac5c2797421a973a4c7b378a23d1",
            "value": " 550/550 [03:16&lt;00:00,  3.18it/s]"
          }
        },
        "7a3ed4c089d54906a812e4a0dd7acfb7": {
          "model_module": "@jupyter-widgets/base",
          "model_name": "LayoutModel",
          "model_module_version": "1.2.0",
          "state": {
            "_model_module": "@jupyter-widgets/base",
            "_model_module_version": "1.2.0",
            "_model_name": "LayoutModel",
            "_view_count": null,
            "_view_module": "@jupyter-widgets/base",
            "_view_module_version": "1.2.0",
            "_view_name": "LayoutView",
            "align_content": null,
            "align_items": null,
            "align_self": null,
            "border": null,
            "bottom": null,
            "display": null,
            "flex": null,
            "flex_flow": null,
            "grid_area": null,
            "grid_auto_columns": null,
            "grid_auto_flow": null,
            "grid_auto_rows": null,
            "grid_column": null,
            "grid_gap": null,
            "grid_row": null,
            "grid_template_areas": null,
            "grid_template_columns": null,
            "grid_template_rows": null,
            "height": null,
            "justify_content": null,
            "justify_items": null,
            "left": null,
            "margin": null,
            "max_height": null,
            "max_width": null,
            "min_height": null,
            "min_width": null,
            "object_fit": null,
            "object_position": null,
            "order": null,
            "overflow": null,
            "overflow_x": null,
            "overflow_y": null,
            "padding": null,
            "right": null,
            "top": null,
            "visibility": null,
            "width": null
          }
        },
        "21a70621061247a08f34a024724f3877": {
          "model_module": "@jupyter-widgets/base",
          "model_name": "LayoutModel",
          "model_module_version": "1.2.0",
          "state": {
            "_model_module": "@jupyter-widgets/base",
            "_model_module_version": "1.2.0",
            "_model_name": "LayoutModel",
            "_view_count": null,
            "_view_module": "@jupyter-widgets/base",
            "_view_module_version": "1.2.0",
            "_view_name": "LayoutView",
            "align_content": null,
            "align_items": null,
            "align_self": null,
            "border": null,
            "bottom": null,
            "display": null,
            "flex": null,
            "flex_flow": null,
            "grid_area": null,
            "grid_auto_columns": null,
            "grid_auto_flow": null,
            "grid_auto_rows": null,
            "grid_column": null,
            "grid_gap": null,
            "grid_row": null,
            "grid_template_areas": null,
            "grid_template_columns": null,
            "grid_template_rows": null,
            "height": null,
            "justify_content": null,
            "justify_items": null,
            "left": null,
            "margin": null,
            "max_height": null,
            "max_width": null,
            "min_height": null,
            "min_width": null,
            "object_fit": null,
            "object_position": null,
            "order": null,
            "overflow": null,
            "overflow_x": null,
            "overflow_y": null,
            "padding": null,
            "right": null,
            "top": null,
            "visibility": null,
            "width": null
          }
        },
        "24e35a82cce0401aa971a2ea86b0076f": {
          "model_module": "@jupyter-widgets/controls",
          "model_name": "DescriptionStyleModel",
          "model_module_version": "1.5.0",
          "state": {
            "_model_module": "@jupyter-widgets/controls",
            "_model_module_version": "1.5.0",
            "_model_name": "DescriptionStyleModel",
            "_view_count": null,
            "_view_module": "@jupyter-widgets/base",
            "_view_module_version": "1.2.0",
            "_view_name": "StyleView",
            "description_width": ""
          }
        },
        "c669d14728484fb598c8b15b2b8093ef": {
          "model_module": "@jupyter-widgets/base",
          "model_name": "LayoutModel",
          "model_module_version": "1.2.0",
          "state": {
            "_model_module": "@jupyter-widgets/base",
            "_model_module_version": "1.2.0",
            "_model_name": "LayoutModel",
            "_view_count": null,
            "_view_module": "@jupyter-widgets/base",
            "_view_module_version": "1.2.0",
            "_view_name": "LayoutView",
            "align_content": null,
            "align_items": null,
            "align_self": null,
            "border": null,
            "bottom": null,
            "display": null,
            "flex": null,
            "flex_flow": null,
            "grid_area": null,
            "grid_auto_columns": null,
            "grid_auto_flow": null,
            "grid_auto_rows": null,
            "grid_column": null,
            "grid_gap": null,
            "grid_row": null,
            "grid_template_areas": null,
            "grid_template_columns": null,
            "grid_template_rows": null,
            "height": null,
            "justify_content": null,
            "justify_items": null,
            "left": null,
            "margin": null,
            "max_height": null,
            "max_width": null,
            "min_height": null,
            "min_width": null,
            "object_fit": null,
            "object_position": null,
            "order": null,
            "overflow": null,
            "overflow_x": null,
            "overflow_y": null,
            "padding": null,
            "right": null,
            "top": null,
            "visibility": null,
            "width": null
          }
        },
        "e685045e157c4253a6196cba3a25474a": {
          "model_module": "@jupyter-widgets/controls",
          "model_name": "ProgressStyleModel",
          "model_module_version": "1.5.0",
          "state": {
            "_model_module": "@jupyter-widgets/controls",
            "_model_module_version": "1.5.0",
            "_model_name": "ProgressStyleModel",
            "_view_count": null,
            "_view_module": "@jupyter-widgets/base",
            "_view_module_version": "1.2.0",
            "_view_name": "StyleView",
            "bar_color": null,
            "description_width": ""
          }
        },
        "7f4ae34c39ef446c9d38fcfa89e1f0ad": {
          "model_module": "@jupyter-widgets/base",
          "model_name": "LayoutModel",
          "model_module_version": "1.2.0",
          "state": {
            "_model_module": "@jupyter-widgets/base",
            "_model_module_version": "1.2.0",
            "_model_name": "LayoutModel",
            "_view_count": null,
            "_view_module": "@jupyter-widgets/base",
            "_view_module_version": "1.2.0",
            "_view_name": "LayoutView",
            "align_content": null,
            "align_items": null,
            "align_self": null,
            "border": null,
            "bottom": null,
            "display": null,
            "flex": null,
            "flex_flow": null,
            "grid_area": null,
            "grid_auto_columns": null,
            "grid_auto_flow": null,
            "grid_auto_rows": null,
            "grid_column": null,
            "grid_gap": null,
            "grid_row": null,
            "grid_template_areas": null,
            "grid_template_columns": null,
            "grid_template_rows": null,
            "height": null,
            "justify_content": null,
            "justify_items": null,
            "left": null,
            "margin": null,
            "max_height": null,
            "max_width": null,
            "min_height": null,
            "min_width": null,
            "object_fit": null,
            "object_position": null,
            "order": null,
            "overflow": null,
            "overflow_x": null,
            "overflow_y": null,
            "padding": null,
            "right": null,
            "top": null,
            "visibility": null,
            "width": null
          }
        },
        "1167ac5c2797421a973a4c7b378a23d1": {
          "model_module": "@jupyter-widgets/controls",
          "model_name": "DescriptionStyleModel",
          "model_module_version": "1.5.0",
          "state": {
            "_model_module": "@jupyter-widgets/controls",
            "_model_module_version": "1.5.0",
            "_model_name": "DescriptionStyleModel",
            "_view_count": null,
            "_view_module": "@jupyter-widgets/base",
            "_view_module_version": "1.2.0",
            "_view_name": "StyleView",
            "description_width": ""
          }
        },
        "6b54df90483a44f38f1ac1cddc0ef1ab": {
          "model_module": "@jupyter-widgets/controls",
          "model_name": "HBoxModel",
          "model_module_version": "1.5.0",
          "state": {
            "_dom_classes": [],
            "_model_module": "@jupyter-widgets/controls",
            "_model_module_version": "1.5.0",
            "_model_name": "HBoxModel",
            "_view_count": null,
            "_view_module": "@jupyter-widgets/controls",
            "_view_module_version": "1.5.0",
            "_view_name": "HBoxView",
            "box_style": "",
            "children": [
              "IPY_MODEL_38a06d09dcc44cf1957458a120ed31da",
              "IPY_MODEL_01d53a6127614728bcbacf163a8039ad",
              "IPY_MODEL_0e2849e93a974b58a70e822ce089919e"
            ],
            "layout": "IPY_MODEL_ab0d74ddf0ef4ee0b9cb334274a0697f"
          }
        },
        "38a06d09dcc44cf1957458a120ed31da": {
          "model_module": "@jupyter-widgets/controls",
          "model_name": "HTMLModel",
          "model_module_version": "1.5.0",
          "state": {
            "_dom_classes": [],
            "_model_module": "@jupyter-widgets/controls",
            "_model_module_version": "1.5.0",
            "_model_name": "HTMLModel",
            "_view_count": null,
            "_view_module": "@jupyter-widgets/controls",
            "_view_module_version": "1.5.0",
            "_view_name": "HTMLView",
            "description": "",
            "description_tooltip": null,
            "layout": "IPY_MODEL_969abe5bdbdd4c70aa9e54a41a2b8f69",
            "placeholder": "​",
            "style": "IPY_MODEL_39b5cdbfd25740cfabd535c500a34c2d",
            "value": "Valid: 100%"
          }
        },
        "01d53a6127614728bcbacf163a8039ad": {
          "model_module": "@jupyter-widgets/controls",
          "model_name": "FloatProgressModel",
          "model_module_version": "1.5.0",
          "state": {
            "_dom_classes": [],
            "_model_module": "@jupyter-widgets/controls",
            "_model_module_version": "1.5.0",
            "_model_name": "FloatProgressModel",
            "_view_count": null,
            "_view_module": "@jupyter-widgets/controls",
            "_view_module_version": "1.5.0",
            "_view_name": "ProgressView",
            "bar_style": "success",
            "description": "",
            "description_tooltip": null,
            "layout": "IPY_MODEL_3dc9afecb23b44c5ae769f0940767878",
            "max": 69,
            "min": 0,
            "orientation": "horizontal",
            "style": "IPY_MODEL_a3e290a9186844c0bdee19e176c68dcd",
            "value": 69
          }
        },
        "0e2849e93a974b58a70e822ce089919e": {
          "model_module": "@jupyter-widgets/controls",
          "model_name": "HTMLModel",
          "model_module_version": "1.5.0",
          "state": {
            "_dom_classes": [],
            "_model_module": "@jupyter-widgets/controls",
            "_model_module_version": "1.5.0",
            "_model_name": "HTMLModel",
            "_view_count": null,
            "_view_module": "@jupyter-widgets/controls",
            "_view_module_version": "1.5.0",
            "_view_name": "HTMLView",
            "description": "",
            "description_tooltip": null,
            "layout": "IPY_MODEL_f0480341fa5249a3a7d6a62ca37c4f3b",
            "placeholder": "​",
            "style": "IPY_MODEL_bbc4b0df03454c888669d6b14615adf5",
            "value": " 69/69 [00:08&lt;00:00,  8.59it/s]"
          }
        },
        "ab0d74ddf0ef4ee0b9cb334274a0697f": {
          "model_module": "@jupyter-widgets/base",
          "model_name": "LayoutModel",
          "model_module_version": "1.2.0",
          "state": {
            "_model_module": "@jupyter-widgets/base",
            "_model_module_version": "1.2.0",
            "_model_name": "LayoutModel",
            "_view_count": null,
            "_view_module": "@jupyter-widgets/base",
            "_view_module_version": "1.2.0",
            "_view_name": "LayoutView",
            "align_content": null,
            "align_items": null,
            "align_self": null,
            "border": null,
            "bottom": null,
            "display": null,
            "flex": null,
            "flex_flow": null,
            "grid_area": null,
            "grid_auto_columns": null,
            "grid_auto_flow": null,
            "grid_auto_rows": null,
            "grid_column": null,
            "grid_gap": null,
            "grid_row": null,
            "grid_template_areas": null,
            "grid_template_columns": null,
            "grid_template_rows": null,
            "height": null,
            "justify_content": null,
            "justify_items": null,
            "left": null,
            "margin": null,
            "max_height": null,
            "max_width": null,
            "min_height": null,
            "min_width": null,
            "object_fit": null,
            "object_position": null,
            "order": null,
            "overflow": null,
            "overflow_x": null,
            "overflow_y": null,
            "padding": null,
            "right": null,
            "top": null,
            "visibility": null,
            "width": null
          }
        },
        "969abe5bdbdd4c70aa9e54a41a2b8f69": {
          "model_module": "@jupyter-widgets/base",
          "model_name": "LayoutModel",
          "model_module_version": "1.2.0",
          "state": {
            "_model_module": "@jupyter-widgets/base",
            "_model_module_version": "1.2.0",
            "_model_name": "LayoutModel",
            "_view_count": null,
            "_view_module": "@jupyter-widgets/base",
            "_view_module_version": "1.2.0",
            "_view_name": "LayoutView",
            "align_content": null,
            "align_items": null,
            "align_self": null,
            "border": null,
            "bottom": null,
            "display": null,
            "flex": null,
            "flex_flow": null,
            "grid_area": null,
            "grid_auto_columns": null,
            "grid_auto_flow": null,
            "grid_auto_rows": null,
            "grid_column": null,
            "grid_gap": null,
            "grid_row": null,
            "grid_template_areas": null,
            "grid_template_columns": null,
            "grid_template_rows": null,
            "height": null,
            "justify_content": null,
            "justify_items": null,
            "left": null,
            "margin": null,
            "max_height": null,
            "max_width": null,
            "min_height": null,
            "min_width": null,
            "object_fit": null,
            "object_position": null,
            "order": null,
            "overflow": null,
            "overflow_x": null,
            "overflow_y": null,
            "padding": null,
            "right": null,
            "top": null,
            "visibility": null,
            "width": null
          }
        },
        "39b5cdbfd25740cfabd535c500a34c2d": {
          "model_module": "@jupyter-widgets/controls",
          "model_name": "DescriptionStyleModel",
          "model_module_version": "1.5.0",
          "state": {
            "_model_module": "@jupyter-widgets/controls",
            "_model_module_version": "1.5.0",
            "_model_name": "DescriptionStyleModel",
            "_view_count": null,
            "_view_module": "@jupyter-widgets/base",
            "_view_module_version": "1.2.0",
            "_view_name": "StyleView",
            "description_width": ""
          }
        },
        "3dc9afecb23b44c5ae769f0940767878": {
          "model_module": "@jupyter-widgets/base",
          "model_name": "LayoutModel",
          "model_module_version": "1.2.0",
          "state": {
            "_model_module": "@jupyter-widgets/base",
            "_model_module_version": "1.2.0",
            "_model_name": "LayoutModel",
            "_view_count": null,
            "_view_module": "@jupyter-widgets/base",
            "_view_module_version": "1.2.0",
            "_view_name": "LayoutView",
            "align_content": null,
            "align_items": null,
            "align_self": null,
            "border": null,
            "bottom": null,
            "display": null,
            "flex": null,
            "flex_flow": null,
            "grid_area": null,
            "grid_auto_columns": null,
            "grid_auto_flow": null,
            "grid_auto_rows": null,
            "grid_column": null,
            "grid_gap": null,
            "grid_row": null,
            "grid_template_areas": null,
            "grid_template_columns": null,
            "grid_template_rows": null,
            "height": null,
            "justify_content": null,
            "justify_items": null,
            "left": null,
            "margin": null,
            "max_height": null,
            "max_width": null,
            "min_height": null,
            "min_width": null,
            "object_fit": null,
            "object_position": null,
            "order": null,
            "overflow": null,
            "overflow_x": null,
            "overflow_y": null,
            "padding": null,
            "right": null,
            "top": null,
            "visibility": null,
            "width": null
          }
        },
        "a3e290a9186844c0bdee19e176c68dcd": {
          "model_module": "@jupyter-widgets/controls",
          "model_name": "ProgressStyleModel",
          "model_module_version": "1.5.0",
          "state": {
            "_model_module": "@jupyter-widgets/controls",
            "_model_module_version": "1.5.0",
            "_model_name": "ProgressStyleModel",
            "_view_count": null,
            "_view_module": "@jupyter-widgets/base",
            "_view_module_version": "1.2.0",
            "_view_name": "StyleView",
            "bar_color": null,
            "description_width": ""
          }
        },
        "f0480341fa5249a3a7d6a62ca37c4f3b": {
          "model_module": "@jupyter-widgets/base",
          "model_name": "LayoutModel",
          "model_module_version": "1.2.0",
          "state": {
            "_model_module": "@jupyter-widgets/base",
            "_model_module_version": "1.2.0",
            "_model_name": "LayoutModel",
            "_view_count": null,
            "_view_module": "@jupyter-widgets/base",
            "_view_module_version": "1.2.0",
            "_view_name": "LayoutView",
            "align_content": null,
            "align_items": null,
            "align_self": null,
            "border": null,
            "bottom": null,
            "display": null,
            "flex": null,
            "flex_flow": null,
            "grid_area": null,
            "grid_auto_columns": null,
            "grid_auto_flow": null,
            "grid_auto_rows": null,
            "grid_column": null,
            "grid_gap": null,
            "grid_row": null,
            "grid_template_areas": null,
            "grid_template_columns": null,
            "grid_template_rows": null,
            "height": null,
            "justify_content": null,
            "justify_items": null,
            "left": null,
            "margin": null,
            "max_height": null,
            "max_width": null,
            "min_height": null,
            "min_width": null,
            "object_fit": null,
            "object_position": null,
            "order": null,
            "overflow": null,
            "overflow_x": null,
            "overflow_y": null,
            "padding": null,
            "right": null,
            "top": null,
            "visibility": null,
            "width": null
          }
        },
        "bbc4b0df03454c888669d6b14615adf5": {
          "model_module": "@jupyter-widgets/controls",
          "model_name": "DescriptionStyleModel",
          "model_module_version": "1.5.0",
          "state": {
            "_model_module": "@jupyter-widgets/controls",
            "_model_module_version": "1.5.0",
            "_model_name": "DescriptionStyleModel",
            "_view_count": null,
            "_view_module": "@jupyter-widgets/base",
            "_view_module_version": "1.2.0",
            "_view_name": "StyleView",
            "description_width": ""
          }
        },
        "17d249c3fd98436cbe63cf135c0fae48": {
          "model_module": "@jupyter-widgets/controls",
          "model_name": "HBoxModel",
          "model_module_version": "1.5.0",
          "state": {
            "_dom_classes": [],
            "_model_module": "@jupyter-widgets/controls",
            "_model_module_version": "1.5.0",
            "_model_name": "HBoxModel",
            "_view_count": null,
            "_view_module": "@jupyter-widgets/controls",
            "_view_module_version": "1.5.0",
            "_view_name": "HBoxView",
            "box_style": "",
            "children": [
              "IPY_MODEL_9cd679e1e63948738d858485397be8f2",
              "IPY_MODEL_93fb92ffba444b94bfe6bb0b1f3f6299",
              "IPY_MODEL_5b2cf845f29f440ba4321548e5a6103b"
            ],
            "layout": "IPY_MODEL_063f93fc5c5940d5857d2e185869bd60"
          }
        },
        "9cd679e1e63948738d858485397be8f2": {
          "model_module": "@jupyter-widgets/controls",
          "model_name": "HTMLModel",
          "model_module_version": "1.5.0",
          "state": {
            "_dom_classes": [],
            "_model_module": "@jupyter-widgets/controls",
            "_model_module_version": "1.5.0",
            "_model_name": "HTMLModel",
            "_view_count": null,
            "_view_module": "@jupyter-widgets/controls",
            "_view_module_version": "1.5.0",
            "_view_name": "HTMLView",
            "description": "",
            "description_tooltip": null,
            "layout": "IPY_MODEL_70c095c0b6674e678944d291d40251e6",
            "placeholder": "​",
            "style": "IPY_MODEL_c2350ba8be7440f8879228ccd8d220d5",
            "value": "Test: 100%"
          }
        },
        "93fb92ffba444b94bfe6bb0b1f3f6299": {
          "model_module": "@jupyter-widgets/controls",
          "model_name": "FloatProgressModel",
          "model_module_version": "1.5.0",
          "state": {
            "_dom_classes": [],
            "_model_module": "@jupyter-widgets/controls",
            "_model_module_version": "1.5.0",
            "_model_name": "FloatProgressModel",
            "_view_count": null,
            "_view_module": "@jupyter-widgets/controls",
            "_view_module_version": "1.5.0",
            "_view_name": "ProgressView",
            "bar_style": "success",
            "description": "",
            "description_tooltip": null,
            "layout": "IPY_MODEL_92929b62edd249138b441fd328f6d35d",
            "max": 69,
            "min": 0,
            "orientation": "horizontal",
            "style": "IPY_MODEL_d26536f5a528471291d074cdff0a7552",
            "value": 69
          }
        },
        "5b2cf845f29f440ba4321548e5a6103b": {
          "model_module": "@jupyter-widgets/controls",
          "model_name": "HTMLModel",
          "model_module_version": "1.5.0",
          "state": {
            "_dom_classes": [],
            "_model_module": "@jupyter-widgets/controls",
            "_model_module_version": "1.5.0",
            "_model_name": "HTMLModel",
            "_view_count": null,
            "_view_module": "@jupyter-widgets/controls",
            "_view_module_version": "1.5.0",
            "_view_name": "HTMLView",
            "description": "",
            "description_tooltip": null,
            "layout": "IPY_MODEL_340583b5bb9a4dc29a937c2d6207217b",
            "placeholder": "​",
            "style": "IPY_MODEL_e2d9afdf2abb46a48083be8fba711b70",
            "value": " 69/69 [00:08&lt;00:00,  7.80it/s]"
          }
        },
        "063f93fc5c5940d5857d2e185869bd60": {
          "model_module": "@jupyter-widgets/base",
          "model_name": "LayoutModel",
          "model_module_version": "1.2.0",
          "state": {
            "_model_module": "@jupyter-widgets/base",
            "_model_module_version": "1.2.0",
            "_model_name": "LayoutModel",
            "_view_count": null,
            "_view_module": "@jupyter-widgets/base",
            "_view_module_version": "1.2.0",
            "_view_name": "LayoutView",
            "align_content": null,
            "align_items": null,
            "align_self": null,
            "border": null,
            "bottom": null,
            "display": null,
            "flex": null,
            "flex_flow": null,
            "grid_area": null,
            "grid_auto_columns": null,
            "grid_auto_flow": null,
            "grid_auto_rows": null,
            "grid_column": null,
            "grid_gap": null,
            "grid_row": null,
            "grid_template_areas": null,
            "grid_template_columns": null,
            "grid_template_rows": null,
            "height": null,
            "justify_content": null,
            "justify_items": null,
            "left": null,
            "margin": null,
            "max_height": null,
            "max_width": null,
            "min_height": null,
            "min_width": null,
            "object_fit": null,
            "object_position": null,
            "order": null,
            "overflow": null,
            "overflow_x": null,
            "overflow_y": null,
            "padding": null,
            "right": null,
            "top": null,
            "visibility": null,
            "width": null
          }
        },
        "70c095c0b6674e678944d291d40251e6": {
          "model_module": "@jupyter-widgets/base",
          "model_name": "LayoutModel",
          "model_module_version": "1.2.0",
          "state": {
            "_model_module": "@jupyter-widgets/base",
            "_model_module_version": "1.2.0",
            "_model_name": "LayoutModel",
            "_view_count": null,
            "_view_module": "@jupyter-widgets/base",
            "_view_module_version": "1.2.0",
            "_view_name": "LayoutView",
            "align_content": null,
            "align_items": null,
            "align_self": null,
            "border": null,
            "bottom": null,
            "display": null,
            "flex": null,
            "flex_flow": null,
            "grid_area": null,
            "grid_auto_columns": null,
            "grid_auto_flow": null,
            "grid_auto_rows": null,
            "grid_column": null,
            "grid_gap": null,
            "grid_row": null,
            "grid_template_areas": null,
            "grid_template_columns": null,
            "grid_template_rows": null,
            "height": null,
            "justify_content": null,
            "justify_items": null,
            "left": null,
            "margin": null,
            "max_height": null,
            "max_width": null,
            "min_height": null,
            "min_width": null,
            "object_fit": null,
            "object_position": null,
            "order": null,
            "overflow": null,
            "overflow_x": null,
            "overflow_y": null,
            "padding": null,
            "right": null,
            "top": null,
            "visibility": null,
            "width": null
          }
        },
        "c2350ba8be7440f8879228ccd8d220d5": {
          "model_module": "@jupyter-widgets/controls",
          "model_name": "DescriptionStyleModel",
          "model_module_version": "1.5.0",
          "state": {
            "_model_module": "@jupyter-widgets/controls",
            "_model_module_version": "1.5.0",
            "_model_name": "DescriptionStyleModel",
            "_view_count": null,
            "_view_module": "@jupyter-widgets/base",
            "_view_module_version": "1.2.0",
            "_view_name": "StyleView",
            "description_width": ""
          }
        },
        "92929b62edd249138b441fd328f6d35d": {
          "model_module": "@jupyter-widgets/base",
          "model_name": "LayoutModel",
          "model_module_version": "1.2.0",
          "state": {
            "_model_module": "@jupyter-widgets/base",
            "_model_module_version": "1.2.0",
            "_model_name": "LayoutModel",
            "_view_count": null,
            "_view_module": "@jupyter-widgets/base",
            "_view_module_version": "1.2.0",
            "_view_name": "LayoutView",
            "align_content": null,
            "align_items": null,
            "align_self": null,
            "border": null,
            "bottom": null,
            "display": null,
            "flex": null,
            "flex_flow": null,
            "grid_area": null,
            "grid_auto_columns": null,
            "grid_auto_flow": null,
            "grid_auto_rows": null,
            "grid_column": null,
            "grid_gap": null,
            "grid_row": null,
            "grid_template_areas": null,
            "grid_template_columns": null,
            "grid_template_rows": null,
            "height": null,
            "justify_content": null,
            "justify_items": null,
            "left": null,
            "margin": null,
            "max_height": null,
            "max_width": null,
            "min_height": null,
            "min_width": null,
            "object_fit": null,
            "object_position": null,
            "order": null,
            "overflow": null,
            "overflow_x": null,
            "overflow_y": null,
            "padding": null,
            "right": null,
            "top": null,
            "visibility": null,
            "width": null
          }
        },
        "d26536f5a528471291d074cdff0a7552": {
          "model_module": "@jupyter-widgets/controls",
          "model_name": "ProgressStyleModel",
          "model_module_version": "1.5.0",
          "state": {
            "_model_module": "@jupyter-widgets/controls",
            "_model_module_version": "1.5.0",
            "_model_name": "ProgressStyleModel",
            "_view_count": null,
            "_view_module": "@jupyter-widgets/base",
            "_view_module_version": "1.2.0",
            "_view_name": "StyleView",
            "bar_color": null,
            "description_width": ""
          }
        },
        "340583b5bb9a4dc29a937c2d6207217b": {
          "model_module": "@jupyter-widgets/base",
          "model_name": "LayoutModel",
          "model_module_version": "1.2.0",
          "state": {
            "_model_module": "@jupyter-widgets/base",
            "_model_module_version": "1.2.0",
            "_model_name": "LayoutModel",
            "_view_count": null,
            "_view_module": "@jupyter-widgets/base",
            "_view_module_version": "1.2.0",
            "_view_name": "LayoutView",
            "align_content": null,
            "align_items": null,
            "align_self": null,
            "border": null,
            "bottom": null,
            "display": null,
            "flex": null,
            "flex_flow": null,
            "grid_area": null,
            "grid_auto_columns": null,
            "grid_auto_flow": null,
            "grid_auto_rows": null,
            "grid_column": null,
            "grid_gap": null,
            "grid_row": null,
            "grid_template_areas": null,
            "grid_template_columns": null,
            "grid_template_rows": null,
            "height": null,
            "justify_content": null,
            "justify_items": null,
            "left": null,
            "margin": null,
            "max_height": null,
            "max_width": null,
            "min_height": null,
            "min_width": null,
            "object_fit": null,
            "object_position": null,
            "order": null,
            "overflow": null,
            "overflow_x": null,
            "overflow_y": null,
            "padding": null,
            "right": null,
            "top": null,
            "visibility": null,
            "width": null
          }
        },
        "e2d9afdf2abb46a48083be8fba711b70": {
          "model_module": "@jupyter-widgets/controls",
          "model_name": "DescriptionStyleModel",
          "model_module_version": "1.5.0",
          "state": {
            "_model_module": "@jupyter-widgets/controls",
            "_model_module_version": "1.5.0",
            "_model_name": "DescriptionStyleModel",
            "_view_count": null,
            "_view_module": "@jupyter-widgets/base",
            "_view_module_version": "1.2.0",
            "_view_name": "StyleView",
            "description_width": ""
          }
        },
        "6b198e5ad758465ab545d208f3615b5d": {
          "model_module": "@jupyter-widgets/controls",
          "model_name": "HBoxModel",
          "model_module_version": "1.5.0",
          "state": {
            "_dom_classes": [],
            "_model_module": "@jupyter-widgets/controls",
            "_model_module_version": "1.5.0",
            "_model_name": "HBoxModel",
            "_view_count": null,
            "_view_module": "@jupyter-widgets/controls",
            "_view_module_version": "1.5.0",
            "_view_name": "HBoxView",
            "box_style": "",
            "children": [
              "IPY_MODEL_7a0ec7c187e54b66aafc526e327ffb9d",
              "IPY_MODEL_19b55841e7324214a8110ada57f7b671",
              "IPY_MODEL_818ad1ae391b44eba5fbb3b20adef565"
            ],
            "layout": "IPY_MODEL_4092d75c443e48978df9be13fd95c723"
          }
        },
        "7a0ec7c187e54b66aafc526e327ffb9d": {
          "model_module": "@jupyter-widgets/controls",
          "model_name": "HTMLModel",
          "model_module_version": "1.5.0",
          "state": {
            "_dom_classes": [],
            "_model_module": "@jupyter-widgets/controls",
            "_model_module_version": "1.5.0",
            "_model_name": "HTMLModel",
            "_view_count": null,
            "_view_module": "@jupyter-widgets/controls",
            "_view_module_version": "1.5.0",
            "_view_name": "HTMLView",
            "description": "",
            "description_tooltip": null,
            "layout": "IPY_MODEL_a482d53738bb4c0eaccfd241c10d2355",
            "placeholder": "​",
            "style": "IPY_MODEL_03dc7319d4e1447c94fde066af54b0ed",
            "value": "Rerank: 100%"
          }
        },
        "19b55841e7324214a8110ada57f7b671": {
          "model_module": "@jupyter-widgets/controls",
          "model_name": "FloatProgressModel",
          "model_module_version": "1.5.0",
          "state": {
            "_dom_classes": [],
            "_model_module": "@jupyter-widgets/controls",
            "_model_module_version": "1.5.0",
            "_model_name": "FloatProgressModel",
            "_view_count": null,
            "_view_module": "@jupyter-widgets/controls",
            "_view_module_version": "1.5.0",
            "_view_name": "ProgressView",
            "bar_style": "success",
            "description": "",
            "description_tooltip": null,
            "layout": "IPY_MODEL_4d639d3f32c540bf9b491e9d793594d5",
            "max": 1688,
            "min": 0,
            "orientation": "horizontal",
            "style": "IPY_MODEL_1c77e069ff5d4bea949cb8b22c3c6366",
            "value": 1688
          }
        },
        "818ad1ae391b44eba5fbb3b20adef565": {
          "model_module": "@jupyter-widgets/controls",
          "model_name": "HTMLModel",
          "model_module_version": "1.5.0",
          "state": {
            "_dom_classes": [],
            "_model_module": "@jupyter-widgets/controls",
            "_model_module_version": "1.5.0",
            "_model_name": "HTMLModel",
            "_view_count": null,
            "_view_module": "@jupyter-widgets/controls",
            "_view_module_version": "1.5.0",
            "_view_name": "HTMLView",
            "description": "",
            "description_tooltip": null,
            "layout": "IPY_MODEL_272d89bcc53a4f08b894c129cec71d67",
            "placeholder": "​",
            "style": "IPY_MODEL_de302f8b5cc84cae9927db3a5170d2f0",
            "value": " 1688/1688 [03:16&lt;00:00,  8.47it/s]"
          }
        },
        "4092d75c443e48978df9be13fd95c723": {
          "model_module": "@jupyter-widgets/base",
          "model_name": "LayoutModel",
          "model_module_version": "1.2.0",
          "state": {
            "_model_module": "@jupyter-widgets/base",
            "_model_module_version": "1.2.0",
            "_model_name": "LayoutModel",
            "_view_count": null,
            "_view_module": "@jupyter-widgets/base",
            "_view_module_version": "1.2.0",
            "_view_name": "LayoutView",
            "align_content": null,
            "align_items": null,
            "align_self": null,
            "border": null,
            "bottom": null,
            "display": null,
            "flex": null,
            "flex_flow": null,
            "grid_area": null,
            "grid_auto_columns": null,
            "grid_auto_flow": null,
            "grid_auto_rows": null,
            "grid_column": null,
            "grid_gap": null,
            "grid_row": null,
            "grid_template_areas": null,
            "grid_template_columns": null,
            "grid_template_rows": null,
            "height": null,
            "justify_content": null,
            "justify_items": null,
            "left": null,
            "margin": null,
            "max_height": null,
            "max_width": null,
            "min_height": null,
            "min_width": null,
            "object_fit": null,
            "object_position": null,
            "order": null,
            "overflow": null,
            "overflow_x": null,
            "overflow_y": null,
            "padding": null,
            "right": null,
            "top": null,
            "visibility": null,
            "width": null
          }
        },
        "a482d53738bb4c0eaccfd241c10d2355": {
          "model_module": "@jupyter-widgets/base",
          "model_name": "LayoutModel",
          "model_module_version": "1.2.0",
          "state": {
            "_model_module": "@jupyter-widgets/base",
            "_model_module_version": "1.2.0",
            "_model_name": "LayoutModel",
            "_view_count": null,
            "_view_module": "@jupyter-widgets/base",
            "_view_module_version": "1.2.0",
            "_view_name": "LayoutView",
            "align_content": null,
            "align_items": null,
            "align_self": null,
            "border": null,
            "bottom": null,
            "display": null,
            "flex": null,
            "flex_flow": null,
            "grid_area": null,
            "grid_auto_columns": null,
            "grid_auto_flow": null,
            "grid_auto_rows": null,
            "grid_column": null,
            "grid_gap": null,
            "grid_row": null,
            "grid_template_areas": null,
            "grid_template_columns": null,
            "grid_template_rows": null,
            "height": null,
            "justify_content": null,
            "justify_items": null,
            "left": null,
            "margin": null,
            "max_height": null,
            "max_width": null,
            "min_height": null,
            "min_width": null,
            "object_fit": null,
            "object_position": null,
            "order": null,
            "overflow": null,
            "overflow_x": null,
            "overflow_y": null,
            "padding": null,
            "right": null,
            "top": null,
            "visibility": null,
            "width": null
          }
        },
        "03dc7319d4e1447c94fde066af54b0ed": {
          "model_module": "@jupyter-widgets/controls",
          "model_name": "DescriptionStyleModel",
          "model_module_version": "1.5.0",
          "state": {
            "_model_module": "@jupyter-widgets/controls",
            "_model_module_version": "1.5.0",
            "_model_name": "DescriptionStyleModel",
            "_view_count": null,
            "_view_module": "@jupyter-widgets/base",
            "_view_module_version": "1.2.0",
            "_view_name": "StyleView",
            "description_width": ""
          }
        },
        "4d639d3f32c540bf9b491e9d793594d5": {
          "model_module": "@jupyter-widgets/base",
          "model_name": "LayoutModel",
          "model_module_version": "1.2.0",
          "state": {
            "_model_module": "@jupyter-widgets/base",
            "_model_module_version": "1.2.0",
            "_model_name": "LayoutModel",
            "_view_count": null,
            "_view_module": "@jupyter-widgets/base",
            "_view_module_version": "1.2.0",
            "_view_name": "LayoutView",
            "align_content": null,
            "align_items": null,
            "align_self": null,
            "border": null,
            "bottom": null,
            "display": null,
            "flex": null,
            "flex_flow": null,
            "grid_area": null,
            "grid_auto_columns": null,
            "grid_auto_flow": null,
            "grid_auto_rows": null,
            "grid_column": null,
            "grid_gap": null,
            "grid_row": null,
            "grid_template_areas": null,
            "grid_template_columns": null,
            "grid_template_rows": null,
            "height": null,
            "justify_content": null,
            "justify_items": null,
            "left": null,
            "margin": null,
            "max_height": null,
            "max_width": null,
            "min_height": null,
            "min_width": null,
            "object_fit": null,
            "object_position": null,
            "order": null,
            "overflow": null,
            "overflow_x": null,
            "overflow_y": null,
            "padding": null,
            "right": null,
            "top": null,
            "visibility": null,
            "width": null
          }
        },
        "1c77e069ff5d4bea949cb8b22c3c6366": {
          "model_module": "@jupyter-widgets/controls",
          "model_name": "ProgressStyleModel",
          "model_module_version": "1.5.0",
          "state": {
            "_model_module": "@jupyter-widgets/controls",
            "_model_module_version": "1.5.0",
            "_model_name": "ProgressStyleModel",
            "_view_count": null,
            "_view_module": "@jupyter-widgets/base",
            "_view_module_version": "1.2.0",
            "_view_name": "StyleView",
            "bar_color": null,
            "description_width": ""
          }
        },
        "272d89bcc53a4f08b894c129cec71d67": {
          "model_module": "@jupyter-widgets/base",
          "model_name": "LayoutModel",
          "model_module_version": "1.2.0",
          "state": {
            "_model_module": "@jupyter-widgets/base",
            "_model_module_version": "1.2.0",
            "_model_name": "LayoutModel",
            "_view_count": null,
            "_view_module": "@jupyter-widgets/base",
            "_view_module_version": "1.2.0",
            "_view_name": "LayoutView",
            "align_content": null,
            "align_items": null,
            "align_self": null,
            "border": null,
            "bottom": null,
            "display": null,
            "flex": null,
            "flex_flow": null,
            "grid_area": null,
            "grid_auto_columns": null,
            "grid_auto_flow": null,
            "grid_auto_rows": null,
            "grid_column": null,
            "grid_gap": null,
            "grid_row": null,
            "grid_template_areas": null,
            "grid_template_columns": null,
            "grid_template_rows": null,
            "height": null,
            "justify_content": null,
            "justify_items": null,
            "left": null,
            "margin": null,
            "max_height": null,
            "max_width": null,
            "min_height": null,
            "min_width": null,
            "object_fit": null,
            "object_position": null,
            "order": null,
            "overflow": null,
            "overflow_x": null,
            "overflow_y": null,
            "padding": null,
            "right": null,
            "top": null,
            "visibility": null,
            "width": null
          }
        },
        "de302f8b5cc84cae9927db3a5170d2f0": {
          "model_module": "@jupyter-widgets/controls",
          "model_name": "DescriptionStyleModel",
          "model_module_version": "1.5.0",
          "state": {
            "_model_module": "@jupyter-widgets/controls",
            "_model_module_version": "1.5.0",
            "_model_name": "DescriptionStyleModel",
            "_view_count": null,
            "_view_module": "@jupyter-widgets/base",
            "_view_module_version": "1.2.0",
            "_view_name": "StyleView",
            "description_width": ""
          }
        }
      }
    }
  },
  "cells": [
    {
      "cell_type": "markdown",
      "metadata": {
        "id": "view-in-github",
        "colab_type": "text"
      },
      "source": [
        "<a href=\"https://colab.research.google.com/github/leonardo3108/IA368dd/blob/main/exercicios/Aula_3/Aula_3_Rerank.ipynb\" target=\"_parent\"><img src=\"https://colab.research.google.com/assets/colab-badge.svg\" alt=\"Open In Colab\"/></a>"
      ]
    },
    {
      "cell_type": "markdown",
      "source": [
        "# Parte 1 - Fine-tunning do modelo"
      ],
      "metadata": {
        "id": "2ST3D1ZLwy0W"
      }
    },
    {
      "cell_type": "markdown",
      "source": [
        "## Preparo do conjunto de dados"
      ],
      "metadata": {
        "id": "vfyzdJC1wXXM"
      }
    },
    {
      "cell_type": "markdown",
      "source": [
        "### Download do arquivo"
      ],
      "metadata": {
        "id": "EGWUkTSfw99H"
      }
    },
    {
      "cell_type": "code",
      "source": [
        "!wget -nc https://storage.googleapis.com/unicamp-dl/ia368dd_2023s1/msmarco/msmarco_triples.train.tiny.tsv "
      ],
      "metadata": {
        "colab": {
          "base_uri": "https://localhost:8080/"
        },
        "id": "seuIdGLXwPY1",
        "outputId": "226c086d-fb57-4617-941b-40e439ded753"
      },
      "execution_count": 1,
      "outputs": [
        {
          "output_type": "stream",
          "name": "stdout",
          "text": [
            "--2023-03-15 14:01:58--  https://storage.googleapis.com/unicamp-dl/ia368dd_2023s1/msmarco/msmarco_triples.train.tiny.tsv\n",
            "Resolving storage.googleapis.com (storage.googleapis.com)... 142.251.163.128, 142.251.167.128, 172.253.115.128, ...\n",
            "Connecting to storage.googleapis.com (storage.googleapis.com)|142.251.163.128|:443... connected.\n",
            "HTTP request sent, awaiting response... 200 OK\n",
            "Length: 8076179 (7.7M) [text/tab-separated-values]\n",
            "Saving to: ‘msmarco_triples.train.tiny.tsv’\n",
            "\n",
            "msmarco_triples.tra 100%[===================>]   7.70M  --.-KB/s    in 0.1s    \n",
            "\n",
            "2023-03-15 14:01:58 (79.7 MB/s) - ‘msmarco_triples.train.tiny.tsv’ saved [8076179/8076179]\n",
            "\n"
          ]
        }
      ]
    },
    {
      "cell_type": "markdown",
      "source": [
        "### Parsing do arquivo e criação das listas básicas"
      ],
      "metadata": {
        "id": "5WIWFz-mxEV2"
      }
    },
    {
      "cell_type": "code",
      "source": [
        "import csv\n",
        "\n",
        "# Lists to store the queries, positive documents, and negative documents\n",
        "queries = []\n",
        "relevant_docs = []\n",
        "non_relevant_docs = []\n",
        "\n",
        "with open('msmarco_triples.train.tiny.tsv', encoding='utf-8') as file:\n",
        "    reader = csv.reader(file, delimiter=\"\\t\")\n",
        "    for row in reader:\n",
        "        queries.append(row[0])\n",
        "        relevant_docs.append(row[1])\n",
        "        non_relevant_docs.append(row[2])\n",
        "\n",
        "# Print the first 5 queries, positive documents, and negative documents\n",
        "print(\"Queries:\", queries[:5])\n",
        "print(\"Relevant documents:\", relevant_docs[:5])\n",
        "print(\"Non relevant documents:\", non_relevant_docs[:5])\n",
        "print(len(queries), len(relevant_docs), len(non_relevant_docs))"
      ],
      "metadata": {
        "colab": {
          "base_uri": "https://localhost:8080/"
        },
        "id": "hABjeao4wZdU",
        "outputId": "a995a50b-692c-44b1-c3d3-d1aee100b699"
      },
      "execution_count": 2,
      "outputs": [
        {
          "output_type": "stream",
          "name": "stdout",
          "text": [
            "Queries: ['is a little caffeine ok during pregnancy', 'what fruit is native to australia', 'how large is the canadian military', 'types of fruit trees', 'how many calories a day are lost breastfeeding']\n",
            "Relevant documents: ['We donâ\\x80\\x99t know a lot about the effects of caffeine during pregnancy on you and your baby. So itâ\\x80\\x99s best to limit the amount you get each day. If youâ\\x80\\x99re pregnant, limit caffeine to 200 milligrams each day. This is about the amount in 1Â½ 8-ounce cups of coffee or one 12-ounce cup of coffee.', 'Passiflora herbertiana. A rare passion fruit native to Australia. Fruits are green-skinned, white fleshed, with an unknown edible rating. Some sources list the fruit as edible, sweet and tasty, while others list the fruits as being bitter and inedible.assiflora herbertiana. A rare passion fruit native to Australia. Fruits are green-skinned, white fleshed, with an unknown edible rating. Some sources list the fruit as edible, sweet and tasty, while others list the fruits as being bitter and inedible.', 'The Canadian Armed Forces. 1  The first large-scale Canadian peacekeeping mission started in Egypt on November 24, 1956. 2  There are approximately 65,000 Regular Force and 25,000 reservist members in the Canadian military. 3  In Canada, August 9 is designated as National Peacekeepersâ\\x80\\x99 Day.', 'Cherry. Cherry trees are found throughout the world. There are 40 or more varieties, ranging from bing cherry to black cherry. Along with the fruit, cherry trees produce light and delicate pinkish-white blossoms that are highly fragrant.omments. Submit. Planting fruit trees on your property not only provides you with a steady supply of organic fruit, it also allows you to beautify your yard and give oxygen back to the environment.', 'Not only is breastfeeding better for the baby, however, research also says itâ\\x80\\x99s better for the mother. Breastfeeding burns an average of 500 calories a day, with the typical range from 200 to 600 calories burned a day. Itâ\\x80\\x99s estimated that the production of 1 oz. of breast milk burns 20 calories. The amount of calories burned depending on how much the baby eats. Breastfeeding twins burn twice as much as feeding only one baby. With twins their mom burns 1000 calories a day. Burning an extra 500 calories a day will result in one pound of weekly weight loss.']\n",
            "Non relevant documents: ['It is generally safe for pregnant women to eat chocolate because studies have shown to prove certain benefits of eating chocolate during pregnancy. However, pregnant women should ensure their caffeine intake is below 200 mg per day.', 'The kola nut is the fruit of the kola tree, a genus (Cola) of trees that are native to the tropical rainforests of Africa.', 'The Canadian Physician Health Institute (CPHI) is a national program created in 2012 as a collaboration between the Canadian Medical Association (CMA), the Canadian Medical Foundation (CMF) and the Provincial and Territorial Medical Associations (PTMAs).', 'The kola nut is the fruit of the kola tree, a genus (Cola) of trees that are native to the tropical rainforests of Africa.', 'However, you still need some niacin each day; men need about 16 mg per day and women need 14 mg per day unless they are pregnant or nursing (pregnant and breastfeeding women have higher niacin requirements).']\n",
            "11000 11000 11000\n"
          ]
        }
      ]
    },
    {
      "cell_type": "markdown",
      "source": [
        "### Split dos conjuntos de treinamento, validação e teste"
      ],
      "metadata": {
        "id": "VQTPeSZaxXpx"
      }
    },
    {
      "cell_type": "code",
      "source": [
        "import random \n",
        "import numpy as np\n",
        "\n",
        "import torch\n",
        "import numpy as np\n",
        "\n",
        "seed = 42\n",
        "\n",
        "random.seed(seed)\n",
        "np.random.seed(seed)\n",
        "torch.manual_seed(seed)\n",
        "\n",
        "\n",
        "size = len(queries) * 2\n",
        "all_indexes = list(range(size))\n",
        "random.shuffle(all_indexes)\n",
        "\n",
        "training_size = size * 80 // 100\n",
        "test_size = size * 10 // 100\n",
        "training_indexes = all_indexes[:training_size]\n",
        "validation_indexes = all_indexes[training_size:-test_size]\n",
        "test_indexes = all_indexes[-test_size:]\n",
        "\n",
        "all_queries = np.array(queries * 2)\n",
        "all_docs = np.array(relevant_docs + non_relevant_docs)\n",
        "all_labels = np.array([True] * len(relevant_docs) + [False] * len(non_relevant_docs))\n",
        "\n",
        "training_queries = all_queries[training_indexes].tolist()\n",
        "training_docs = all_docs[training_indexes].tolist()\n",
        "training_labels = all_labels[training_indexes].tolist()\n",
        "\n",
        "validation_queries = all_queries[validation_indexes].tolist()\n",
        "validation_docs = all_docs[validation_indexes].tolist()\n",
        "validation_labels = all_labels[validation_indexes].tolist()\n",
        "\n",
        "test_queries = all_queries[test_indexes].tolist()\n",
        "test_docs = all_docs[test_indexes].tolist()\n",
        "test_labels = all_labels[test_indexes].tolist()\n",
        "\n",
        "# Print the first 5 queries, documents, and classifications\n",
        "def print_triples(queries, docs, labels, quantity, prefix):\n",
        "    for i in range(quantity):\n",
        "        print(prefix + 'Query:', queries[i])\n",
        "        print(prefix + 'Doc:', docs[i])\n",
        "        print(prefix + 'Label:', labels[i])\n",
        "        print()\n",
        "\n",
        "quantity = 5\n",
        "print(f'Training examples ({quantity} / {len(training_queries)}):')\n",
        "print_triples(training_queries, training_docs, training_labels, 5, '\\t')\n",
        "\n",
        "print(f'Validation examples ({quantity} / {len(validation_queries)}):')\n",
        "print_triples(validation_queries, validation_docs, validation_labels, 5, '\\t')\n",
        "\n",
        "print(f'Test examples ({quantity} / {len(test_queries)}):')\n",
        "print_triples(test_queries, test_docs, test_labels, 5, '\\t')"
      ],
      "metadata": {
        "colab": {
          "base_uri": "https://localhost:8080/"
        },
        "id": "hJzsL4dSz0e1",
        "outputId": "4f5c050d-6d48-4803-fcc2-bf492cbd096c"
      },
      "execution_count": 10,
      "outputs": [
        {
          "output_type": "stream",
          "name": "stdout",
          "text": [
            "Training examples (5 / 17600):\n",
            "\tQuery: what does a hyphen look like\n",
            "\tDoc: 1 Using the Hyphen Correctly A hyphen is a simple looking punctuation mark, just a small horizontal line that usually connects entire words together. 2  However, using a hyphen, or hyphenating, entails usâ¦. 3  When to Hyphenate Compound Nouns and Compound Words Many writers struggle whether they need a hyphen or not.\n",
            "\tLabel: False\n",
            "\n",
            "\tQuery: how many mg in a prescription dose of acetaminophen\n",
            "\tDoc: 1 Major Depressive Disorder: Starting daily dose is 40 mg and should be taken in two separate 20 mg doses. 2  In âmaintenance modeâ the recommended dose is 60 mg and can be taken all at once or as two separate 30 mg doses. 3  The maximum dose, while not recommended is 120 mg/day.he recommended Cymbalta dosage, based on the published Product Guide, are as follows: 1  Major Depressive Disorder: Starting daily dose is 40 mg and should be taken in two separate 20 mg doses.\n",
            "\tLabel: False\n",
            "\n",
            "\tQuery: gleam meaning\n",
            "\tDoc: Definition of gleam. 1  intransitive verb. 2  1 : to shine with or as if with subdued steady light or moderate brightness. 3  2 : to appear briefly or faintly a light gleamed in the distance.  transitive 1  verb. : to cause to gleam.\n",
            "\tLabel: True\n",
            "\n",
            "\tQuery: average price to build a carport per square foot\n",
            "\tDoc: 1 The above figures place the cost of the carport at a very reasonable $8.80 per square foot. 2  This pricing structure assumes that carpenters charge an average of $70 per hour, electricians between $65 to $85 per hour, and painters between $20 and $35 per hour. Pour concrete footings and slab to grade-Average price of concrete is $75 per cubic yard, with piers and the full slab it that would require roughly 26 cubic yards and would cost at least $2000;\n",
            "\tLabel: True\n",
            "\n",
            "\tQuery: what is rachel ray s real name\n",
            "\tDoc: RACHEL had 13 siblings: JAMES MADISON GOODIN, MARY ELIZABETH GOODIN and 11 other siblings. RACHEL married DANIEL SHAFFER on month day 1853, at age 15 at marriage place, Missouri. DANIEL was born on September 3 1821, in OH.\n",
            "\tLabel: False\n",
            "\n",
            "Validation examples (5 / 2200):\n",
            "\tQuery: baldi microwave site\n",
            "\tDoc: No. These are all different ways of describing this simple microwave process. Because sweet potatoes vary so much in size and weight, thereâs no one-size-fits-all answer to the question, âHow long should I microwave my sweet potato?â In general, figure five minutes to cook one sweet potato in the microwave, and add two minutes in the microwave for each additional potato. Below are instructions on how to steam sweet potatoes in the microwave.\n",
            "\tLabel: False\n",
            "\n",
            "\tQuery: what does OA mean\n",
            "\tDoc: Secondary osteoarthritis (OA) is osteoarthritis that has a known cause, as compared to primary osteoarthritis, where the cause of the joint disease is unknown. If you're having knee osteoarthritis now because of an old athletic injury you got back in high school, you've got secondary osteoarthritis. Other possible causes of secondary osteoarthritis include being overweight or obese and being inactive. You may also have a genetic propensity to getting osteoarthritis.\n",
            "\tLabel: False\n",
            "\n",
            "\tQuery: testabolan cost\n",
            "\tDoc: Your tracking number will be emailed to you. You will also be placed into our auto-ship program which will send you a new order of Testabolan CYP every 30 days. You will be billed $89.95 plus a shipping and handling cost of $4.95 for a total cost of $94.90 every 30 days, beginning the day after your trial period ends. Please refer to the terms and conditions.\n",
            "\tLabel: True\n",
            "\n",
            "\tQuery: what age should kittens eat for themselves\n",
            "\tDoc: Many litters contain a compound known as sodium bentonite as the clumping agent, which expands to 15 to 18 times its dry size when wet. Cats lick their paws, especially after being in the litter box, and can get internal blockages from the dust alone. Many cats and kittens eat litter.\n",
            "\tLabel: False\n",
            "\n",
            "\tQuery: can you tile over painted wall in bathtub\n",
            "\tDoc: Avoid kitchens and bathrooms and focus on areas like mudrooms or laundry rooms.. Almost all ceramic tile can be painted, as long as it's not frequently subjected to water. For instance, you can paint tiles on the wall, floor and countertop, but avoid painting tile that lines a bathtub or shower. Frequent exposure to moisture could cause the newly applied paint to peel almost immediately.\n",
            "\tLabel: True\n",
            "\n",
            "Test examples (5 / 2200):\n",
            "\tQuery: define peer group\n",
            "\tDoc: What does the harmful peer pressure mean? the peer pressure that can harm someone else like smoking or doing cocaine or drinking and convincing someone there fine things that can lead to death Edit\n",
            "\tLabel: False\n",
            "\n",
            "\tQuery: what punctuation mark is used to express strong emotions?\n",
            "\tDoc: Exclamation Point The exclamation mark is used at the end of sentences that express strong emotion: Youâve won the lottery! Help! Note: Be careful not to overuse the exclamation mark in your writing. If you do, it detracts from the elevated meaning.\n",
            "\tLabel: True\n",
            "\n",
            "\tQuery: what are responsibilities for commercial landlord\n",
            "\tDoc: Unless otherwise negotiated, all other repairs are generally the responsibility of the tenant. Also, if the items the landlord is responsible for are in bad repair and it impacts your business, generally you are out of luck. A commercial landlord has limited duties.One way to remedy in this situation is to pay for repairs and take the repairs out of your rent. If you do this, you will need to discuss it with your landlord to make sure he does not hold you responsible for rent in addition to the repairs.enerally, a commercial landlord is responsible for the following repairs (unless the lease agreement states otherwise): 1  Roofing repairs and replacement; 2  Exterior wall repairs; and.\n",
            "\tLabel: True\n",
            "\n",
            "\tQuery: what is the routing number for td bank ma\n",
            "\tDoc: bank routing number lookup Not looking for the Heritage Bank Usa, Inc. routing number? Try searching for your bank's ABA routing number by bank name, location, or phone number. â¢ green river area federal c.u. kentucky home bank,inc.\n",
            "\tLabel: False\n",
            "\n",
            "\tQuery: what county is paulsboro nj in\n",
            "\tDoc: Colleges/universities with over 2000 students nearest to Secaucus: 1  Stevens Institute of Technology (about 4 miles; Hoboken, NJ; Full-time enrollment: 4,132). 2  Hudson County Community College (about 4 miles; Jersey City, NJ; FT enrollment: 6,659).\n",
            "\tLabel: False\n",
            "\n"
          ]
        }
      ]
    },
    {
      "cell_type": "markdown",
      "source": [
        "## Treinamento do modelo"
      ],
      "metadata": {
        "id": "_qGmBTNfBUyN"
      }
    },
    {
      "cell_type": "markdown",
      "source": [
        "### Instalação de biblioteca"
      ],
      "metadata": {
        "id": "o6nxArUTxht4"
      }
    },
    {
      "cell_type": "code",
      "source": [
        "!pip install transformers"
      ],
      "metadata": {
        "colab": {
          "base_uri": "https://localhost:8080/"
        },
        "id": "9FEuZqU_BRwa",
        "outputId": "6e5870bb-0a72-4645-e49a-71197f2b0dc7"
      },
      "execution_count": 12,
      "outputs": [
        {
          "output_type": "stream",
          "name": "stdout",
          "text": [
            "Looking in indexes: https://pypi.org/simple, https://us-python.pkg.dev/colab-wheels/public/simple/\n",
            "Collecting transformers\n",
            "  Downloading transformers-4.27.0-py3-none-any.whl (6.8 MB)\n",
            "\u001b[2K     \u001b[90m━━━━━━━━━━━━━━━━━━━━━━━━━━━━━━━━━━━━━━━━\u001b[0m \u001b[32m6.8/6.8 MB\u001b[0m \u001b[31m94.8 MB/s\u001b[0m eta \u001b[36m0:00:00\u001b[0m\n",
            "\u001b[?25hRequirement already satisfied: pyyaml>=5.1 in /usr/local/lib/python3.9/dist-packages (from transformers) (6.0)\n",
            "Requirement already satisfied: tqdm>=4.27 in /usr/local/lib/python3.9/dist-packages (from transformers) (4.65.0)\n",
            "Requirement already satisfied: numpy>=1.17 in /usr/local/lib/python3.9/dist-packages (from transformers) (1.22.4)\n",
            "Collecting huggingface-hub<1.0,>=0.11.0\n",
            "  Downloading huggingface_hub-0.13.2-py3-none-any.whl (199 kB)\n",
            "\u001b[2K     \u001b[90m━━━━━━━━━━━━━━━━━━━━━━━━━━━━━━━━━━━━━━\u001b[0m \u001b[32m199.2/199.2 KB\u001b[0m \u001b[31m29.3 MB/s\u001b[0m eta \u001b[36m0:00:00\u001b[0m\n",
            "\u001b[?25hCollecting tokenizers!=0.11.3,<0.14,>=0.11.1\n",
            "  Downloading tokenizers-0.13.2-cp39-cp39-manylinux_2_17_x86_64.manylinux2014_x86_64.whl (7.6 MB)\n",
            "\u001b[2K     \u001b[90m━━━━━━━━━━━━━━━━━━━━━━━━━━━━━━━━━━━━━━━━\u001b[0m \u001b[32m7.6/7.6 MB\u001b[0m \u001b[31m100.9 MB/s\u001b[0m eta \u001b[36m0:00:00\u001b[0m\n",
            "\u001b[?25hRequirement already satisfied: filelock in /usr/local/lib/python3.9/dist-packages (from transformers) (3.9.0)\n",
            "Requirement already satisfied: regex!=2019.12.17 in /usr/local/lib/python3.9/dist-packages (from transformers) (2022.6.2)\n",
            "Requirement already satisfied: packaging>=20.0 in /usr/local/lib/python3.9/dist-packages (from transformers) (23.0)\n",
            "Requirement already satisfied: requests in /usr/local/lib/python3.9/dist-packages (from transformers) (2.25.1)\n",
            "Requirement already satisfied: typing-extensions>=3.7.4.3 in /usr/local/lib/python3.9/dist-packages (from huggingface-hub<1.0,>=0.11.0->transformers) (4.5.0)\n",
            "Requirement already satisfied: urllib3<1.27,>=1.21.1 in /usr/local/lib/python3.9/dist-packages (from requests->transformers) (1.26.15)\n",
            "Requirement already satisfied: certifi>=2017.4.17 in /usr/local/lib/python3.9/dist-packages (from requests->transformers) (2022.12.7)\n",
            "Requirement already satisfied: chardet<5,>=3.0.2 in /usr/local/lib/python3.9/dist-packages (from requests->transformers) (4.0.0)\n",
            "Requirement already satisfied: idna<3,>=2.5 in /usr/local/lib/python3.9/dist-packages (from requests->transformers) (2.10)\n",
            "Installing collected packages: tokenizers, huggingface-hub, transformers\n",
            "Successfully installed huggingface-hub-0.13.2 tokenizers-0.13.2 transformers-4.27.0\n"
          ]
        }
      ]
    },
    {
      "cell_type": "markdown",
      "source": [
        "### Definição do tokenizador"
      ],
      "metadata": {
        "id": "-u9NwtV6xyxw"
      }
    },
    {
      "cell_type": "code",
      "source": [
        "from transformers import AutoTokenizer\n",
        "\n",
        "model_name = 'microsoft/MiniLM-L12-H384-uncased'\n",
        "tokenizer = AutoTokenizer.from_pretrained(model_name)"
      ],
      "metadata": {
        "colab": {
          "base_uri": "https://localhost:8080/",
          "height": 145,
          "referenced_widgets": [
            "430289af7dc847cd836270762018d72a",
            "30a474bf3f7a4021a189eda5a544c165",
            "bf1c2d3fbb1a4e5185183acd6502afe4",
            "9b2391df1ab146fc925097da84427c7c",
            "628b1dc6f3144bf3880d59306880ef6b",
            "dad0642b81714cc09a8c1c1a64483204",
            "4450652dc6a14d3a82ec934114f661eb",
            "3265755c7f5042c28f330a93de72cd57",
            "8374aa40cf2f4126befa9051bd2ccd1d",
            "c688813840ce4a389336a5f38edaa179",
            "05663b3ad6424e17af44314415806538",
            "6c4b4ce59d3c454790044c782c14f2e2",
            "30ce98de29134812a7754feee4f3fcc6",
            "e6ac731cc9d24945ae525e579aa3dc42",
            "9f713a576b1d4875acf7b9f0c5035151",
            "50e65da158ba48d0aa5fb96333184f8f",
            "8899a6ef79d742ac91ae0e4a673b11dc",
            "803abd778bd3466bac316855f4589246",
            "1527e73702884abba509a9cfdd8bf810",
            "268a14544d9a4603a2fa03c749f9a78b",
            "b756f7cd43684540a5e0dc92d783747d",
            "42ede042da924d619b70c3a885e8eba7",
            "c57ccd3a20b641dcabdfaf0115053118",
            "b8fb6b7da3c545b1bd19cf3386600976",
            "25def2e1f42449968cddb2ebf83a1e96",
            "10bef5425b9545f7b0c3110afd90b389",
            "10dee93128264999a9550073d69e3012",
            "069ade44905942a4a495794bd4840060",
            "6a5b07a6526a4c02b729748b180859ca",
            "03ab90cb9813463593c2d62a5c7fb3fc",
            "c721830ce8c14966b60dc71762601d20",
            "04f6305e84284b04a66050d59ad02fb3",
            "004757efc25d49f39598b54666e361dd",
            "6022957cd5004d0aad632bfc682a25cc",
            "e89ab15962ca45a193b1f30cc50a2f85",
            "152f7990fc1d4059a30794ed7c1e3991",
            "35c947703c434d96a05647415728f4bb",
            "4a50e608234049a39a1b604c1cd5567c",
            "2d950856ba054abb87a78bf1c623bad8",
            "66129b4b390349e6948ccf498a5ceffd",
            "dc48c3db844c47dc935c4f3087d366d7",
            "76997ba0b06a4e538992cc771a9599c7",
            "4c9a743a6e694a469ef8d8277a755eb4",
            "41968f869661444a9ec1828a2ba43b69"
          ]
        },
        "id": "LcSegMEw0j3A",
        "outputId": "c4881a89-acc1-4a9d-c714-b4f39111183a"
      },
      "execution_count": 13,
      "outputs": [
        {
          "output_type": "display_data",
          "data": {
            "text/plain": [
              "Downloading (…)okenizer_config.json:   0%|          | 0.00/2.00 [00:00<?, ?B/s]"
            ],
            "application/vnd.jupyter.widget-view+json": {
              "version_major": 2,
              "version_minor": 0,
              "model_id": "430289af7dc847cd836270762018d72a"
            }
          },
          "metadata": {}
        },
        {
          "output_type": "display_data",
          "data": {
            "text/plain": [
              "Downloading (…)lve/main/config.json:   0%|          | 0.00/385 [00:00<?, ?B/s]"
            ],
            "application/vnd.jupyter.widget-view+json": {
              "version_major": 2,
              "version_minor": 0,
              "model_id": "6c4b4ce59d3c454790044c782c14f2e2"
            }
          },
          "metadata": {}
        },
        {
          "output_type": "display_data",
          "data": {
            "text/plain": [
              "Downloading (…)solve/main/vocab.txt:   0%|          | 0.00/232k [00:00<?, ?B/s]"
            ],
            "application/vnd.jupyter.widget-view+json": {
              "version_major": 2,
              "version_minor": 0,
              "model_id": "c57ccd3a20b641dcabdfaf0115053118"
            }
          },
          "metadata": {}
        },
        {
          "output_type": "display_data",
          "data": {
            "text/plain": [
              "Downloading (…)cial_tokens_map.json:   0%|          | 0.00/112 [00:00<?, ?B/s]"
            ],
            "application/vnd.jupyter.widget-view+json": {
              "version_major": 2,
              "version_minor": 0,
              "model_id": "6022957cd5004d0aad632bfc682a25cc"
            }
          },
          "metadata": {}
        }
      ]
    },
    {
      "cell_type": "markdown",
      "source": [
        "### Definição do tamanho da sequência de tokens"
      ],
      "metadata": {
        "id": "gsIpX01bx6EP"
      }
    },
    {
      "cell_type": "code",
      "source": [
        "max_length = max([len(tokenizer(f'{all_queries[idx]} [SEP] {all_docs[idx]}', truncation=True)['input_ids']) for idx in range(len(all_docs))])\n",
        "max_length"
      ],
      "metadata": {
        "colab": {
          "base_uri": "https://localhost:8080/"
        },
        "id": "6z3h63ZEpJc3",
        "outputId": "211ecd6d-01d8-4f51-a3ca-6c65cae839f0"
      },
      "execution_count": 25,
      "outputs": [
        {
          "output_type": "execute_result",
          "data": {
            "text/plain": [
              "290"
            ]
          },
          "metadata": {},
          "execution_count": 25
        }
      ]
    },
    {
      "cell_type": "markdown",
      "source": [
        "### Criação dos datasets de treinamento, validação e teste"
      ],
      "metadata": {
        "id": "W7XS3YvDyL6w"
      }
    },
    {
      "cell_type": "code",
      "source": [
        "from torch.utils.data import Dataset, DataLoader\n",
        "\n",
        "class ModelDataset(Dataset):\n",
        "  def __init__(self, tokenizer, queries, docs, labels, max_length = 256):\n",
        "    self.max_length = max_length\n",
        "    self.tokenizer = tokenizer\n",
        "    self.queries = queries\n",
        "    self.docs = docs\n",
        "    self.labels = labels\n",
        "\n",
        "  def __len__(self):\n",
        "    return len(self.queries)\n",
        "    \n",
        "  def __getitem__(self, idx):\n",
        "    batch_encoding = self.tokenizer(f'{self.queries[idx]} [SEP] {self.docs[idx]}', truncation=True, max_length = self.max_length)\n",
        "    return {\n",
        "        'input_ids': batch_encoding['input_ids'],\n",
        "        'attention_mask': batch_encoding['attention_mask'],\n",
        "        'labels': int(self.labels[idx])\n",
        "    }"
      ],
      "metadata": {
        "id": "M5MQzy8pFC6I"
      },
      "execution_count": 27,
      "outputs": []
    },
    {
      "cell_type": "code",
      "source": [
        "max_seq_length = 256\n",
        "\n",
        "dataset_training = ModelDataset(tokenizer, training_queries, training_docs, training_labels, max_length)\n",
        "dataset_validation = ModelDataset(tokenizer, validation_queries, validation_docs, validation_labels, max_length)\n",
        "dataset_test = ModelDataset(tokenizer, test_queries, test_docs, test_labels, max_length)\n",
        "\n",
        "len(dataset_training), len(dataset_validation), len(dataset_test)"
      ],
      "metadata": {
        "id": "0oRuiVmUKyNa",
        "colab": {
          "base_uri": "https://localhost:8080/"
        },
        "outputId": "5b77537b-40b8-4bfa-e693-2d444921cb8c"
      },
      "execution_count": 33,
      "outputs": [
        {
          "output_type": "execute_result",
          "data": {
            "text/plain": [
              "(17600, 2200, 2200)"
            ]
          },
          "metadata": {},
          "execution_count": 33
        }
      ]
    },
    {
      "cell_type": "code",
      "source": [
        "print(dataset_training[100]['input_ids'])\n",
        "print(tokenizer.decode(dataset_training[100]['input_ids']))\n",
        "print(dataset_training[100]['labels'] == 1)"
      ],
      "metadata": {
        "colab": {
          "base_uri": "https://localhost:8080/"
        },
        "id": "QmWKnssaq7UH",
        "outputId": "8976682f-b067-4565-a150-97f80f1a3ff0"
      },
      "execution_count": 39,
      "outputs": [
        {
          "output_type": "stream",
          "name": "stdout",
          "text": [
            "[101, 2054, 2515, 6046, 2184, 8093, 3446, 2812, 102, 8224, 2377, 2578, 5983, 6046, 1012, 1045, 2031, 3728, 4384, 2008, 2119, 2026, 26041, 1020, 1998, 2026, 2564, 1005, 1055, 26041, 1019, 2031, 2042, 5983, 6046, 2012, 2019, 8598, 2075, 3446, 1012, 1999, 2119, 11640, 1010, 8224, 2377, 2578, 2003, 2012, 1996, 2327, 1997, 1996, 6046, 8381, 3673, 2007, 2053, 6835, 3114, 2339, 1012, 102]\n",
            "[CLS] what does battery 10hr rate mean [SEP] google play services eating battery. i have recently noticed that both my nexus 6 and my wife's nexus 5 have been eating battery at an alarming rate. in both phones, google play services is at the top of the battery consumption chart with no apparent reason why. [SEP]\n",
            "False\n"
          ]
        }
      ]
    },
    {
      "cell_type": "markdown",
      "source": [
        "### Criação dos dataloaders de treinamento, validação e teste"
      ],
      "metadata": {
        "id": "pQ7YZ8mUjOIb"
      }
    },
    {
      "cell_type": "code",
      "source": [
        "batch_size = 32\n",
        "\n",
        "from transformers import BatchEncoding\n",
        "\n",
        "collate_fn = lambda batch: BatchEncoding(tokenizer.pad(batch, return_tensors='pt'))\n",
        "dataloader_training = DataLoader(dataset_training, batch_size=batch_size, shuffle=False, collate_fn=collate_fn)\n",
        "dataloader_validation = DataLoader(dataset_validation, batch_size=batch_size, shuffle=False, collate_fn=collate_fn)\n",
        "dataloader_test = DataLoader(dataset_validation, batch_size=batch_size, shuffle=False, collate_fn=collate_fn)"
      ],
      "metadata": {
        "id": "i1ULMxLBLIvK"
      },
      "execution_count": 44,
      "outputs": []
    },
    {
      "cell_type": "markdown",
      "source": [
        "### Função de avaliação do modelo"
      ],
      "metadata": {
        "id": "CZDGODVnkaSH"
      }
    },
    {
      "cell_type": "code",
      "source": [
        "# We first define the evaluation function to measure accuracy and loss\n",
        "def evaluate(model, dataloader, set_name):\n",
        "    losses = []\n",
        "    correct = 0\n",
        "    model.eval()\n",
        "    with torch.no_grad():\n",
        "        for batch in tqdm(dataloader, mininterval=0.5, desc=set_name, disable=False):\n",
        "            outputs = model(**batch.to(device))\n",
        "            loss_val = outputs.loss\n",
        "            losses.append(loss_val.cpu().item())\n",
        "            preds = outputs.logits.argmax(dim=1)\n",
        "            correct += (preds == batch['labels']).sum().item()\n",
        "\n",
        "    print(f'{set_name} loss: {mean(losses):0.3f}; {set_name} accuracy: {correct / len(dataloader.dataset):0.3f}')"
      ],
      "metadata": {
        "id": "lTDJGKgFtlWB"
      },
      "execution_count": 45,
      "outputs": []
    },
    {
      "cell_type": "markdown",
      "source": [
        "### Treinamento e validação do modelo"
      ],
      "metadata": {
        "id": "oryhZeQ0kRKZ"
      }
    },
    {
      "cell_type": "code",
      "source": [
        "from tqdm.auto import tqdm\n",
        "from transformers import AutoModelForSequenceClassification, get_linear_schedule_with_warmup\n",
        "from torch.optim import AdamW\n",
        "from statistics import mean\n",
        "\n",
        "device = torch.device('cuda' if torch.cuda.is_available() else 'cpu')\n",
        "print('device:', device)\n",
        "\n",
        "model = AutoModelForSequenceClassification.from_pretrained(model_name).to(device)\n",
        "optimizer = AdamW(model.parameters(), lr=5e-5)\n",
        "\n",
        "epochs = 5\n",
        "num_training_steps = epochs * len(dataloader_training)\n",
        "\n",
        "# First validation to check if evaluation code is working and accuracy is random as expected \n",
        "evaluate(model=model, dataloader=dataloader_validation, set_name='Valid')\n",
        "\n",
        "# Warm up is important to stabilize training.\n",
        "num_warmup_steps = int(num_training_steps * 0.1)\n",
        "scheduler = get_linear_schedule_with_warmup(optimizer, num_warmup_steps, num_training_steps)\n",
        "\n",
        "# Training loop\n",
        "for epoch in tqdm(range(epochs), desc='Epochs'):\n",
        "    model.train()\n",
        "    train_losses = []\n",
        "    for batch in tqdm(dataloader_training, mininterval=0.5, desc='Train', disable=False):\n",
        "        optimizer.zero_grad()\n",
        "        outputs = model(**batch.to(device))\n",
        "        loss = outputs.loss\n",
        "        loss.backward()\n",
        "        optimizer.step()\n",
        "        scheduler.step()\n",
        "        train_losses.append(loss.cpu().item())\n",
        "\n",
        "    print(f'Epoch: {epoch + 1} Training loss: {mean(train_losses):0.2f}')\n",
        "    evaluate(model=model, dataloader=dataloader_validation, set_name='Valid')"
      ],
      "metadata": {
        "colab": {
          "base_uri": "https://localhost:8080/",
          "height": 644,
          "referenced_widgets": [
            "8d4d4d7777ac41db81e3b40b17a7841c",
            "5cc7025ac17146d79f4e9dec53dbc299",
            "0b50ab8240724908aafade3884d50586",
            "3303e3c89e8a468c996f8ca6e52227f0",
            "0f4e48c3c0d145e0b7bab16850ed17c5",
            "a777df0d5d1f4b289da6cfd8496900da",
            "84e7e761b63a449299b1022af34d6742",
            "cc565fcbcfeb47e88cf931d752645b80",
            "6d0353e85f1243d58bc0116e683ce9d9",
            "f1ddc43244604193920ec70e1eaf9194",
            "e9ed5f58f7c341448353bf0dcb04ecc0",
            "8bbccbb8cd184258b0b97908a68a0a40",
            "bd022447d5e741db9263c953c1f9a3db",
            "cd1d678554f24bec8d33b05c21d5c6ea",
            "ced9aa0416a4449cb635947fcb62b1ce",
            "879b4704e1b94745ae4f726f78378c30",
            "62693413890a431ca8ebf5fe9cf0265d",
            "bb0aa502ed72433ca2cf30cb8802b4a9",
            "3fcf86c79b944e10b2d7b301ae58b4ea",
            "047582fc2f274259871e4d9cb532e31f",
            "b31b3fcf3ebd4bc5892ef239eaaf8775",
            "ba482ce08934420f844fc3b8ed049386",
            "5a697975458c40dca386d6511285a5c9",
            "cce40587531b4dee8176371e6f7f8663",
            "768d858484a4496e8fb9aad2d457b7ee",
            "df7ca165779041899a969e8c1cdd1aec",
            "fbc9375ee596477d96938f19bd7a4fb8",
            "c8812e91f1e44f4fac5121f9b7305023",
            "fc70bbcbb076488dbb9447ece5c0a5f3",
            "f7c0ccb243604fd191481c00a79eef23",
            "05d0e699b31c403295e9bac2f1ec460b",
            "a83b2bcbe6a44d2fa07a2614f11da197",
            "68254a2210e543c0a6c62106dbff7594",
            "1fb535d921ef49ddb415bc6e33aa3fdf",
            "3eaff78e74a34bf4bcc03e10a32caac5",
            "81758c8ff14944bb9b4ecf6dde6e17bf",
            "cd7caf60ec01435ca11b09c79a2fe50e",
            "9ed0358b2f454514bf4d4bb64ef26b43",
            "e6aaaf696eca4bd3b98861a5a177da02",
            "769e8ca482ce4f9a93fd5ea32173b175",
            "0e65c7b122034d7393c380bd691b73cc",
            "89f897b86a654fc4b7f6ac9d47eb3347",
            "f0b437fb30fe494aac81876fb9fb963c",
            "e959afb9a3714059b717167bc902c116",
            "3096f6c2eae34ac0b8bccbaf814153b8",
            "eb471c2fb97543e59156a8b9e75e2eb5",
            "42a8629474c2425f992257bb4e12f014",
            "b8a99c48d4d144b68bb905cb3652ec70",
            "4564844e207a4dafbf48633308beade9",
            "d5cccdda820249f3b0aa2be9d11cb0c8",
            "2d373718ace44c9585ab856062a2342b",
            "c85d2bca44c34ea3937939700219a108",
            "3831c8097ae24d21b1c439af4f83a465",
            "b6a48d4b104d4a1890b08504acd49c56",
            "9637301aab6a4298b1d71704414183bc",
            "30d01449b4ec4a2abe3042f9f48b902b",
            "300fa62df2644eaebe771d1272e38940",
            "f9f71c5ea35b4e7fb958ba4de0caf2f4",
            "4354f688860f480685898aa8872e46c1",
            "defd14fb4d3e410690cca046036554e0",
            "22d7cbbd1f36433895a1926ef0a522fb",
            "b53d504a67314b8f973ce1f83442e6a2",
            "42c403c6f5a8485b959b47d7230ec2a1",
            "8703450c898b44b8a941fb1a651c7243",
            "6ffca8beeed54de98a8739c50c8397d0",
            "55124b35ec0c49149ef3016abb562a46",
            "c72672fac2a64e9d8735383d0d66c276",
            "651eb90dec194367b463c5114abd155e",
            "7279af0c50f34896af4ce6ace6e94175",
            "6c5d2661895b4c968b72e3a50cf9a0c9",
            "0356fb4d23ca4da0bebe3a59fede4b37",
            "b8d26737cdfb4b12b8140cff18eee6f7",
            "3083cba8c43a44e39c8003a07f451af1",
            "e1bb241aa83b4f9393c69e094e73dc95",
            "89b9c99a500f4603b8b9cc807221f9fc",
            "a42e7e0914ba45449ceff1f9a3b04df3",
            "6a88ce9bf67d432781dea59c4936dc41",
            "79c226df2cbd41c0b0b0b05c37b23faf",
            "8b6e2ba9a5284d40b33ad1a29b0900c2",
            "7b6b719943d64744bc67be9865db4e68",
            "29d309d98aa4427b9e87ee2559821147",
            "bae131d4129447be852f183782369c53",
            "e96555f62fd04bfc944880831397f487",
            "65ce5fd8e43b42a99de2005cbef20467",
            "cd23ee9c18cf452a990fa02b89697970",
            "b6faecc827194414a0712fa98d4733c4",
            "9fdcda38f58941f58cfc15a4f7b5f3b0",
            "1c3ef12487ce4f969850eadb9867bbd8",
            "2a608e2b5bc044c780f388e8f97f6b02",
            "434b6f3fe7484d9b95f410f06e061bf1",
            "2d4a345f62464e36a102dead6a4ae630",
            "dce55ad58e994dc4b7d019c8b06183f9",
            "d1492f1103db4571979792fc428c05ed",
            "590083581ff64bd09609f09d4dc52ad1",
            "48a22b536e53450ebf46bc728700429b",
            "913ea439a2434d11a8d177973205a559",
            "0f2581ae2ea7451f90a6d8464401a306",
            "960f414fa3b04f01bd54362eb0ab4918",
            "71aba0fc49a4466d9c171794bd091104",
            "e51c221d84ab4700ac72fb76c3530152",
            "48e51b67590547d9ba42e54f7cc66b91",
            "2df480b4ed1f46f490db7b463073d8af",
            "ba5fe797f97745e7a2ebda4120bb7220",
            "b608f02a619341adad7b515efbe6f280",
            "eaa410642174470f8340ec195ba9ace3",
            "68299f9e563943958b47a86f58956860",
            "fc71d98836fc4e148d553f2a3ef13803",
            "dbe381b2bfe74790be4ae88c13fb190b",
            "9b50317d2a4e4e95855ef6cde0edfd47",
            "bc96d44b3cb24fc0a087d330815aaf73",
            "346dd06e6c404eda82c5b6cc56aeb779",
            "9109131a987a480d89a7af29a869de0a",
            "7e58808b495146fbb71d32e89d682df5",
            "a77fda1621b8424aad227836eb819728",
            "7a3ed4c089d54906a812e4a0dd7acfb7",
            "21a70621061247a08f34a024724f3877",
            "24e35a82cce0401aa971a2ea86b0076f",
            "c669d14728484fb598c8b15b2b8093ef",
            "e685045e157c4253a6196cba3a25474a",
            "7f4ae34c39ef446c9d38fcfa89e1f0ad",
            "1167ac5c2797421a973a4c7b378a23d1",
            "6b54df90483a44f38f1ac1cddc0ef1ab",
            "38a06d09dcc44cf1957458a120ed31da",
            "01d53a6127614728bcbacf163a8039ad",
            "0e2849e93a974b58a70e822ce089919e",
            "ab0d74ddf0ef4ee0b9cb334274a0697f",
            "969abe5bdbdd4c70aa9e54a41a2b8f69",
            "39b5cdbfd25740cfabd535c500a34c2d",
            "3dc9afecb23b44c5ae769f0940767878",
            "a3e290a9186844c0bdee19e176c68dcd",
            "f0480341fa5249a3a7d6a62ca37c4f3b",
            "bbc4b0df03454c888669d6b14615adf5"
          ]
        },
        "id": "cSflV-oyQiou",
        "outputId": "409a3e77-d99a-478b-c0c3-086ae0625a02"
      },
      "execution_count": 47,
      "outputs": [
        {
          "output_type": "stream",
          "name": "stdout",
          "text": [
            "device: cuda\n"
          ]
        },
        {
          "output_type": "stream",
          "name": "stderr",
          "text": [
            "Some weights of BertForSequenceClassification were not initialized from the model checkpoint at microsoft/MiniLM-L12-H384-uncased and are newly initialized: ['classifier.weight', 'classifier.bias']\n",
            "You should probably TRAIN this model on a down-stream task to be able to use it for predictions and inference.\n"
          ]
        },
        {
          "output_type": "display_data",
          "data": {
            "text/plain": [
              "Valid:   0%|          | 0/69 [00:00<?, ?it/s]"
            ],
            "application/vnd.jupyter.widget-view+json": {
              "version_major": 2,
              "version_minor": 0,
              "model_id": "8d4d4d7777ac41db81e3b40b17a7841c"
            }
          },
          "metadata": {}
        },
        {
          "output_type": "stream",
          "name": "stdout",
          "text": [
            "Valid loss: 0.693; Valid accuracy: 0.501\n"
          ]
        },
        {
          "output_type": "display_data",
          "data": {
            "text/plain": [
              "Epochs:   0%|          | 0/5 [00:00<?, ?it/s]"
            ],
            "application/vnd.jupyter.widget-view+json": {
              "version_major": 2,
              "version_minor": 0,
              "model_id": "8bbccbb8cd184258b0b97908a68a0a40"
            }
          },
          "metadata": {}
        },
        {
          "output_type": "display_data",
          "data": {
            "text/plain": [
              "Train:   0%|          | 0/550 [00:00<?, ?it/s]"
            ],
            "application/vnd.jupyter.widget-view+json": {
              "version_major": 2,
              "version_minor": 0,
              "model_id": "5a697975458c40dca386d6511285a5c9"
            }
          },
          "metadata": {}
        },
        {
          "output_type": "stream",
          "name": "stdout",
          "text": [
            "Epoch: 1 Training loss: 0.40\n"
          ]
        },
        {
          "output_type": "display_data",
          "data": {
            "text/plain": [
              "Valid:   0%|          | 0/69 [00:00<?, ?it/s]"
            ],
            "application/vnd.jupyter.widget-view+json": {
              "version_major": 2,
              "version_minor": 0,
              "model_id": "1fb535d921ef49ddb415bc6e33aa3fdf"
            }
          },
          "metadata": {}
        },
        {
          "output_type": "stream",
          "name": "stdout",
          "text": [
            "Valid loss: 0.244; Valid accuracy: 0.901\n"
          ]
        },
        {
          "output_type": "display_data",
          "data": {
            "text/plain": [
              "Train:   0%|          | 0/550 [00:00<?, ?it/s]"
            ],
            "application/vnd.jupyter.widget-view+json": {
              "version_major": 2,
              "version_minor": 0,
              "model_id": "3096f6c2eae34ac0b8bccbaf814153b8"
            }
          },
          "metadata": {}
        },
        {
          "output_type": "stream",
          "name": "stdout",
          "text": [
            "Epoch: 2 Training loss: 0.21\n"
          ]
        },
        {
          "output_type": "display_data",
          "data": {
            "text/plain": [
              "Valid:   0%|          | 0/69 [00:00<?, ?it/s]"
            ],
            "application/vnd.jupyter.widget-view+json": {
              "version_major": 2,
              "version_minor": 0,
              "model_id": "30d01449b4ec4a2abe3042f9f48b902b"
            }
          },
          "metadata": {}
        },
        {
          "output_type": "stream",
          "name": "stdout",
          "text": [
            "Valid loss: 0.330; Valid accuracy: 0.879\n"
          ]
        },
        {
          "output_type": "display_data",
          "data": {
            "text/plain": [
              "Train:   0%|          | 0/550 [00:00<?, ?it/s]"
            ],
            "application/vnd.jupyter.widget-view+json": {
              "version_major": 2,
              "version_minor": 0,
              "model_id": "c72672fac2a64e9d8735383d0d66c276"
            }
          },
          "metadata": {}
        },
        {
          "output_type": "stream",
          "name": "stdout",
          "text": [
            "Epoch: 3 Training loss: 0.13\n"
          ]
        },
        {
          "output_type": "display_data",
          "data": {
            "text/plain": [
              "Valid:   0%|          | 0/69 [00:00<?, ?it/s]"
            ],
            "application/vnd.jupyter.widget-view+json": {
              "version_major": 2,
              "version_minor": 0,
              "model_id": "79c226df2cbd41c0b0b0b05c37b23faf"
            }
          },
          "metadata": {}
        },
        {
          "output_type": "stream",
          "name": "stdout",
          "text": [
            "Valid loss: 0.298; Valid accuracy: 0.909\n"
          ]
        },
        {
          "output_type": "display_data",
          "data": {
            "text/plain": [
              "Train:   0%|          | 0/550 [00:00<?, ?it/s]"
            ],
            "application/vnd.jupyter.widget-view+json": {
              "version_major": 2,
              "version_minor": 0,
              "model_id": "2a608e2b5bc044c780f388e8f97f6b02"
            }
          },
          "metadata": {}
        },
        {
          "output_type": "stream",
          "name": "stdout",
          "text": [
            "Epoch: 4 Training loss: 0.08\n"
          ]
        },
        {
          "output_type": "display_data",
          "data": {
            "text/plain": [
              "Valid:   0%|          | 0/69 [00:00<?, ?it/s]"
            ],
            "application/vnd.jupyter.widget-view+json": {
              "version_major": 2,
              "version_minor": 0,
              "model_id": "e51c221d84ab4700ac72fb76c3530152"
            }
          },
          "metadata": {}
        },
        {
          "output_type": "stream",
          "name": "stdout",
          "text": [
            "Valid loss: 0.273; Valid accuracy: 0.919\n"
          ]
        },
        {
          "output_type": "display_data",
          "data": {
            "text/plain": [
              "Train:   0%|          | 0/550 [00:00<?, ?it/s]"
            ],
            "application/vnd.jupyter.widget-view+json": {
              "version_major": 2,
              "version_minor": 0,
              "model_id": "346dd06e6c404eda82c5b6cc56aeb779"
            }
          },
          "metadata": {}
        },
        {
          "output_type": "stream",
          "name": "stdout",
          "text": [
            "Epoch: 5 Training loss: 0.04\n"
          ]
        },
        {
          "output_type": "display_data",
          "data": {
            "text/plain": [
              "Valid:   0%|          | 0/69 [00:00<?, ?it/s]"
            ],
            "application/vnd.jupyter.widget-view+json": {
              "version_major": 2,
              "version_minor": 0,
              "model_id": "6b54df90483a44f38f1ac1cddc0ef1ab"
            }
          },
          "metadata": {}
        },
        {
          "output_type": "stream",
          "name": "stdout",
          "text": [
            "Valid loss: 0.303; Valid accuracy: 0.921\n"
          ]
        }
      ]
    },
    {
      "cell_type": "markdown",
      "source": [
        "### Teste do modelo"
      ],
      "metadata": {
        "id": "w2QQR5T9kfVZ"
      }
    },
    {
      "cell_type": "code",
      "source": [
        "evaluate(model=model, dataloader=dataloader_test, set_name='Test')"
      ],
      "metadata": {
        "colab": {
          "base_uri": "https://localhost:8080/",
          "height": 66,
          "referenced_widgets": [
            "17d249c3fd98436cbe63cf135c0fae48",
            "9cd679e1e63948738d858485397be8f2",
            "93fb92ffba444b94bfe6bb0b1f3f6299",
            "5b2cf845f29f440ba4321548e5a6103b",
            "063f93fc5c5940d5857d2e185869bd60",
            "70c095c0b6674e678944d291d40251e6",
            "c2350ba8be7440f8879228ccd8d220d5",
            "92929b62edd249138b441fd328f6d35d",
            "d26536f5a528471291d074cdff0a7552",
            "340583b5bb9a4dc29a937c2d6207217b",
            "e2d9afdf2abb46a48083be8fba711b70"
          ]
        },
        "id": "UQTh360RO_tK",
        "outputId": "238300c4-fbc1-4190-a11b-76b1e3d8d82b"
      },
      "execution_count": 48,
      "outputs": [
        {
          "output_type": "display_data",
          "data": {
            "text/plain": [
              "Test:   0%|          | 0/69 [00:00<?, ?it/s]"
            ],
            "application/vnd.jupyter.widget-view+json": {
              "version_major": 2,
              "version_minor": 0,
              "model_id": "17d249c3fd98436cbe63cf135c0fae48"
            }
          },
          "metadata": {}
        },
        {
          "output_type": "stream",
          "name": "stdout",
          "text": [
            "Test loss: 0.303; Test accuracy: 0.921\n"
          ]
        }
      ]
    },
    {
      "cell_type": "markdown",
      "source": [
        "### Salvamento do modelo no Google Drive"
      ],
      "metadata": {
        "id": "4giGJHOUkihi"
      }
    },
    {
      "cell_type": "code",
      "source": [
        "from google.colab import drive\n",
        "drive.mount('/content/drive')\n",
        "LOCAL_MODELO = '/content/drive/My Drive/IA368-DD/Aula3/'\n",
        "\n",
        "model.save_pretrained(LOCAL_MODELO)\n",
        "tokenizer.save_pretrained(LOCAL_MODELO)"
      ],
      "metadata": {
        "id": "Xd9hcVqpYadP",
        "colab": {
          "base_uri": "https://localhost:8080/"
        },
        "outputId": "ff52e00c-83e6-4e1c-f9e5-e29dc5c704b4"
      },
      "execution_count": 49,
      "outputs": [
        {
          "output_type": "stream",
          "name": "stdout",
          "text": [
            "Mounted at /content/drive\n"
          ]
        },
        {
          "output_type": "execute_result",
          "data": {
            "text/plain": [
              "('/content/drive/My Drive/IA368-DD/Aula2/tokenizer_config.json',\n",
              " '/content/drive/My Drive/IA368-DD/Aula2/special_tokens_map.json',\n",
              " '/content/drive/My Drive/IA368-DD/Aula2/vocab.txt',\n",
              " '/content/drive/My Drive/IA368-DD/Aula2/added_tokens.json',\n",
              " '/content/drive/My Drive/IA368-DD/Aula2/tokenizer.json')"
            ]
          },
          "metadata": {},
          "execution_count": 49
        }
      ]
    },
    {
      "cell_type": "markdown",
      "source": [
        "# Parte 2 - Rankeamento básico BM25"
      ],
      "metadata": {
        "id": "NYhOvqhKzzLs"
      }
    },
    {
      "cell_type": "markdown",
      "source": [
        "## Carga das bibliotecas"
      ],
      "metadata": {
        "id": "gwS_Q9cC0k4P"
      }
    },
    {
      "cell_type": "code",
      "source": [
        "# atualização da versão do scikit-learn por dependência do pyserini\n",
        "\n",
        "!pip install scikit-learn"
      ],
      "metadata": {
        "colab": {
          "base_uri": "https://localhost:8080/"
        },
        "id": "_RwZGaTH3JOo",
        "outputId": "faf78527-c805-4997-f7e2-29f5d6c6f21a"
      },
      "execution_count": 1,
      "outputs": [
        {
          "output_type": "stream",
          "name": "stdout",
          "text": [
            "Looking in indexes: https://pypi.org/simple, https://us-python.pkg.dev/colab-wheels/public/simple/\n",
            "Requirement already satisfied: scikit-learn in /usr/local/lib/python3.9/dist-packages (1.2.2)\n",
            "Requirement already satisfied: numpy>=1.17.3 in /usr/local/lib/python3.9/dist-packages (from scikit-learn) (1.22.4)\n",
            "Requirement already satisfied: threadpoolctl>=2.0.0 in /usr/local/lib/python3.9/dist-packages (from scikit-learn) (3.1.0)\n",
            "Requirement already satisfied: joblib>=1.1.1 in /usr/local/lib/python3.9/dist-packages (from scikit-learn) (1.1.1)\n",
            "Requirement already satisfied: scipy>=1.3.2 in /usr/local/lib/python3.9/dist-packages (from scikit-learn) (1.10.1)\n"
          ]
        }
      ]
    },
    {
      "cell_type": "code",
      "source": [
        "!pip install pyserini"
      ],
      "metadata": {
        "colab": {
          "base_uri": "https://localhost:8080/"
        },
        "id": "KiYwYpo40j0c",
        "outputId": "55eff4b0-d030-4399-a1c8-f7a69fb9933f"
      },
      "execution_count": 2,
      "outputs": [
        {
          "output_type": "stream",
          "name": "stdout",
          "text": [
            "Looking in indexes: https://pypi.org/simple, https://us-python.pkg.dev/colab-wheels/public/simple/\n",
            "Collecting pyserini\n",
            "  Downloading pyserini-0.20.0-py3-none-any.whl (137.1 MB)\n",
            "\u001b[2K     \u001b[90m━━━━━━━━━━━━━━━━━━━━━━━━━━━━━━━━━━━━━━━\u001b[0m \u001b[32m137.1/137.1 MB\u001b[0m \u001b[31m7.7 MB/s\u001b[0m eta \u001b[36m0:00:00\u001b[0m\n",
            "\u001b[?25hRequirement already satisfied: scikit-learn>=0.22.1 in /usr/local/lib/python3.9/dist-packages (from pyserini) (1.2.2)\n",
            "Requirement already satisfied: scipy>=1.4.1 in /usr/local/lib/python3.9/dist-packages (from pyserini) (1.10.1)\n",
            "Requirement already satisfied: Cython>=0.29.21 in /usr/local/lib/python3.9/dist-packages (from pyserini) (0.29.33)\n",
            "Requirement already satisfied: numpy>=1.18.1 in /usr/local/lib/python3.9/dist-packages (from pyserini) (1.22.4)\n",
            "Requirement already satisfied: pandas>=1.4.0 in /usr/local/lib/python3.9/dist-packages (from pyserini) (1.4.4)\n",
            "Collecting pyjnius>=1.4.0\n",
            "  Downloading pyjnius-1.4.2-cp39-cp39-manylinux_2_17_x86_64.manylinux2014_x86_64.whl (1.5 MB)\n",
            "\u001b[2K     \u001b[90m━━━━━━━━━━━━━━━━━━━━━━━━━━━━━━━━━━━━━━━━\u001b[0m \u001b[32m1.5/1.5 MB\u001b[0m \u001b[31m51.1 MB/s\u001b[0m eta \u001b[36m0:00:00\u001b[0m\n",
            "\u001b[?25hCollecting transformers>=4.6.0\n",
            "  Downloading transformers-4.27.1-py3-none-any.whl (6.7 MB)\n",
            "\u001b[2K     \u001b[90m━━━━━━━━━━━━━━━━━━━━━━━━━━━━━━━━━━━━━━━━\u001b[0m \u001b[32m6.7/6.7 MB\u001b[0m \u001b[31m77.9 MB/s\u001b[0m eta \u001b[36m0:00:00\u001b[0m\n",
            "\u001b[?25hCollecting sentencepiece>=0.1.95\n",
            "  Downloading sentencepiece-0.1.97-cp39-cp39-manylinux_2_17_x86_64.manylinux2014_x86_64.whl (1.3 MB)\n",
            "\u001b[2K     \u001b[90m━━━━━━━━━━━━━━━━━━━━━━━━━━━━━━━━━━━━━━━━\u001b[0m \u001b[32m1.3/1.3 MB\u001b[0m \u001b[31m48.3 MB/s\u001b[0m eta \u001b[36m0:00:00\u001b[0m\n",
            "\u001b[?25hCollecting nmslib>=2.1.1\n",
            "  Downloading nmslib-2.1.1-cp39-cp39-manylinux2010_x86_64.whl (13.3 MB)\n",
            "\u001b[2K     \u001b[90m━━━━━━━━━━━━━━━━━━━━━━━━━━━━━━━━━━━━━━━━\u001b[0m \u001b[32m13.3/13.3 MB\u001b[0m \u001b[31m22.4 MB/s\u001b[0m eta \u001b[36m0:00:00\u001b[0m\n",
            "\u001b[?25hRequirement already satisfied: tqdm in /usr/local/lib/python3.9/dist-packages (from pyserini) (4.65.0)\n",
            "Requirement already satisfied: spacy>=3.2.1 in /usr/local/lib/python3.9/dist-packages (from pyserini) (3.4.4)\n",
            "Collecting onnxruntime>=1.8.1\n",
            "  Downloading onnxruntime-1.14.1-cp39-cp39-manylinux_2_27_x86_64.whl (5.0 MB)\n",
            "\u001b[2K     \u001b[90m━━━━━━━━━━━━━━━━━━━━━━━━━━━━━━━━━━━━━━━━\u001b[0m \u001b[32m5.0/5.0 MB\u001b[0m \u001b[31m50.2 MB/s\u001b[0m eta \u001b[36m0:00:00\u001b[0m\n",
            "\u001b[?25hCollecting lightgbm>=3.3.2\n",
            "  Downloading lightgbm-3.3.5-py3-none-manylinux1_x86_64.whl (2.0 MB)\n",
            "\u001b[2K     \u001b[90m━━━━━━━━━━━━━━━━━━━━━━━━━━━━━━━━━━━━━━━━\u001b[0m \u001b[32m2.0/2.0 MB\u001b[0m \u001b[31m90.8 MB/s\u001b[0m eta \u001b[36m0:00:00\u001b[0m\n",
            "\u001b[?25hRequirement already satisfied: wheel in /usr/local/lib/python3.9/dist-packages (from lightgbm>=3.3.2->pyserini) (0.38.4)\n",
            "Collecting pybind11<2.6.2\n",
            "  Downloading pybind11-2.6.1-py2.py3-none-any.whl (188 kB)\n",
            "\u001b[2K     \u001b[90m━━━━━━━━━━━━━━━━━━━━━━━━━━━━━━━━━━━━━━\u001b[0m \u001b[32m188.5/188.5 KB\u001b[0m \u001b[31m21.4 MB/s\u001b[0m eta \u001b[36m0:00:00\u001b[0m\n",
            "\u001b[?25hRequirement already satisfied: psutil in /usr/local/lib/python3.9/dist-packages (from nmslib>=2.1.1->pyserini) (5.4.8)\n",
            "Requirement already satisfied: flatbuffers in /usr/local/lib/python3.9/dist-packages (from onnxruntime>=1.8.1->pyserini) (23.3.3)\n",
            "Requirement already satisfied: protobuf in /usr/local/lib/python3.9/dist-packages (from onnxruntime>=1.8.1->pyserini) (3.19.6)\n",
            "Collecting coloredlogs\n",
            "  Downloading coloredlogs-15.0.1-py2.py3-none-any.whl (46 kB)\n",
            "\u001b[2K     \u001b[90m━━━━━━━━━━━━━━━━━━━━━━━━━━━━━━━━━━━━━━━━\u001b[0m \u001b[32m46.0/46.0 KB\u001b[0m \u001b[31m5.3 MB/s\u001b[0m eta \u001b[36m0:00:00\u001b[0m\n",
            "\u001b[?25hRequirement already satisfied: sympy in /usr/local/lib/python3.9/dist-packages (from onnxruntime>=1.8.1->pyserini) (1.7.1)\n",
            "Requirement already satisfied: packaging in /usr/local/lib/python3.9/dist-packages (from onnxruntime>=1.8.1->pyserini) (23.0)\n",
            "Requirement already satisfied: pytz>=2020.1 in /usr/local/lib/python3.9/dist-packages (from pandas>=1.4.0->pyserini) (2022.7.1)\n",
            "Requirement already satisfied: python-dateutil>=2.8.1 in /usr/local/lib/python3.9/dist-packages (from pandas>=1.4.0->pyserini) (2.8.2)\n",
            "Requirement already satisfied: six>=1.7.0 in /usr/local/lib/python3.9/dist-packages (from pyjnius>=1.4.0->pyserini) (1.15.0)\n",
            "Requirement already satisfied: threadpoolctl>=2.0.0 in /usr/local/lib/python3.9/dist-packages (from scikit-learn>=0.22.1->pyserini) (3.1.0)\n",
            "Requirement already satisfied: joblib>=1.1.1 in /usr/local/lib/python3.9/dist-packages (from scikit-learn>=0.22.1->pyserini) (1.1.1)\n",
            "Requirement already satisfied: langcodes<4.0.0,>=3.2.0 in /usr/local/lib/python3.9/dist-packages (from spacy>=3.2.1->pyserini) (3.3.0)\n",
            "Requirement already satisfied: spacy-legacy<3.1.0,>=3.0.10 in /usr/local/lib/python3.9/dist-packages (from spacy>=3.2.1->pyserini) (3.0.12)\n",
            "Requirement already satisfied: murmurhash<1.1.0,>=0.28.0 in /usr/local/lib/python3.9/dist-packages (from spacy>=3.2.1->pyserini) (1.0.9)\n",
            "Requirement already satisfied: smart-open<7.0.0,>=5.2.1 in /usr/local/lib/python3.9/dist-packages (from spacy>=3.2.1->pyserini) (6.3.0)\n",
            "Requirement already satisfied: jinja2 in /usr/local/lib/python3.9/dist-packages (from spacy>=3.2.1->pyserini) (3.1.2)\n",
            "Requirement already satisfied: preshed<3.1.0,>=3.0.2 in /usr/local/lib/python3.9/dist-packages (from spacy>=3.2.1->pyserini) (3.0.8)\n",
            "Requirement already satisfied: pathy>=0.3.5 in /usr/local/lib/python3.9/dist-packages (from spacy>=3.2.1->pyserini) (0.10.1)\n",
            "Requirement already satisfied: typer<0.8.0,>=0.3.0 in /usr/local/lib/python3.9/dist-packages (from spacy>=3.2.1->pyserini) (0.7.0)\n",
            "Requirement already satisfied: requests<3.0.0,>=2.13.0 in /usr/local/lib/python3.9/dist-packages (from spacy>=3.2.1->pyserini) (2.25.1)\n",
            "Requirement already satisfied: thinc<8.2.0,>=8.1.0 in /usr/local/lib/python3.9/dist-packages (from spacy>=3.2.1->pyserini) (8.1.9)\n",
            "Requirement already satisfied: pydantic!=1.8,!=1.8.1,<1.11.0,>=1.7.4 in /usr/local/lib/python3.9/dist-packages (from spacy>=3.2.1->pyserini) (1.10.6)\n",
            "Requirement already satisfied: srsly<3.0.0,>=2.4.3 in /usr/local/lib/python3.9/dist-packages (from spacy>=3.2.1->pyserini) (2.4.6)\n",
            "Requirement already satisfied: cymem<2.1.0,>=2.0.2 in /usr/local/lib/python3.9/dist-packages (from spacy>=3.2.1->pyserini) (2.0.7)\n",
            "Requirement already satisfied: wasabi<1.1.0,>=0.9.1 in /usr/local/lib/python3.9/dist-packages (from spacy>=3.2.1->pyserini) (0.10.1)\n",
            "Requirement already satisfied: catalogue<2.1.0,>=2.0.6 in /usr/local/lib/python3.9/dist-packages (from spacy>=3.2.1->pyserini) (2.0.8)\n",
            "Requirement already satisfied: spacy-loggers<2.0.0,>=1.0.0 in /usr/local/lib/python3.9/dist-packages (from spacy>=3.2.1->pyserini) (1.0.4)\n",
            "Requirement already satisfied: setuptools in /usr/local/lib/python3.9/dist-packages (from spacy>=3.2.1->pyserini) (63.4.3)\n",
            "Requirement already satisfied: filelock in /usr/local/lib/python3.9/dist-packages (from transformers>=4.6.0->pyserini) (3.9.0)\n",
            "Collecting tokenizers!=0.11.3,<0.14,>=0.11.1\n",
            "  Downloading tokenizers-0.13.2-cp39-cp39-manylinux_2_17_x86_64.manylinux2014_x86_64.whl (7.6 MB)\n",
            "\u001b[2K     \u001b[90m━━━━━━━━━━━━━━━━━━━━━━━━━━━━━━━━━━━━━━━━\u001b[0m \u001b[32m7.6/7.6 MB\u001b[0m \u001b[31m116.4 MB/s\u001b[0m eta \u001b[36m0:00:00\u001b[0m\n",
            "\u001b[?25hRequirement already satisfied: pyyaml>=5.1 in /usr/local/lib/python3.9/dist-packages (from transformers>=4.6.0->pyserini) (6.0)\n",
            "Requirement already satisfied: regex!=2019.12.17 in /usr/local/lib/python3.9/dist-packages (from transformers>=4.6.0->pyserini) (2022.6.2)\n",
            "Collecting huggingface-hub<1.0,>=0.11.0\n",
            "  Downloading huggingface_hub-0.13.2-py3-none-any.whl (199 kB)\n",
            "\u001b[2K     \u001b[90m━━━━━━━━━━━━━━━━━━━━━━━━━━━━━━━━━━━━━━\u001b[0m \u001b[32m199.2/199.2 KB\u001b[0m \u001b[31m19.4 MB/s\u001b[0m eta \u001b[36m0:00:00\u001b[0m\n",
            "\u001b[?25hRequirement already satisfied: typing-extensions>=3.7.4.3 in /usr/local/lib/python3.9/dist-packages (from huggingface-hub<1.0,>=0.11.0->transformers>=4.6.0->pyserini) (4.5.0)\n",
            "Requirement already satisfied: certifi>=2017.4.17 in /usr/local/lib/python3.9/dist-packages (from requests<3.0.0,>=2.13.0->spacy>=3.2.1->pyserini) (2022.12.7)\n",
            "Requirement already satisfied: idna<3,>=2.5 in /usr/local/lib/python3.9/dist-packages (from requests<3.0.0,>=2.13.0->spacy>=3.2.1->pyserini) (2.10)\n",
            "Requirement already satisfied: urllib3<1.27,>=1.21.1 in /usr/local/lib/python3.9/dist-packages (from requests<3.0.0,>=2.13.0->spacy>=3.2.1->pyserini) (1.26.15)\n",
            "Requirement already satisfied: chardet<5,>=3.0.2 in /usr/local/lib/python3.9/dist-packages (from requests<3.0.0,>=2.13.0->spacy>=3.2.1->pyserini) (4.0.0)\n",
            "Requirement already satisfied: blis<0.8.0,>=0.7.8 in /usr/local/lib/python3.9/dist-packages (from thinc<8.2.0,>=8.1.0->spacy>=3.2.1->pyserini) (0.7.9)\n",
            "Requirement already satisfied: confection<1.0.0,>=0.0.1 in /usr/local/lib/python3.9/dist-packages (from thinc<8.2.0,>=8.1.0->spacy>=3.2.1->pyserini) (0.0.4)\n",
            "Requirement already satisfied: click<9.0.0,>=7.1.1 in /usr/local/lib/python3.9/dist-packages (from typer<0.8.0,>=0.3.0->spacy>=3.2.1->pyserini) (8.1.3)\n",
            "Collecting humanfriendly>=9.1\n",
            "  Downloading humanfriendly-10.0-py2.py3-none-any.whl (86 kB)\n",
            "\u001b[2K     \u001b[90m━━━━━━━━━━━━━━━━━━━━━━━━━━━━━━━━━━━━━━━━\u001b[0m \u001b[32m86.8/86.8 KB\u001b[0m \u001b[31m12.3 MB/s\u001b[0m eta \u001b[36m0:00:00\u001b[0m\n",
            "\u001b[?25hRequirement already satisfied: MarkupSafe>=2.0 in /usr/local/lib/python3.9/dist-packages (from jinja2->spacy>=3.2.1->pyserini) (2.1.2)\n",
            "Requirement already satisfied: mpmath>=0.19 in /usr/local/lib/python3.9/dist-packages (from sympy->onnxruntime>=1.8.1->pyserini) (1.3.0)\n",
            "Installing collected packages: tokenizers, sentencepiece, pyjnius, pybind11, humanfriendly, nmslib, huggingface-hub, coloredlogs, transformers, onnxruntime, lightgbm, pyserini\n",
            "  Attempting uninstall: lightgbm\n",
            "    Found existing installation: lightgbm 2.2.3\n",
            "    Uninstalling lightgbm-2.2.3:\n",
            "      Successfully uninstalled lightgbm-2.2.3\n",
            "Successfully installed coloredlogs-15.0.1 huggingface-hub-0.13.2 humanfriendly-10.0 lightgbm-3.3.5 nmslib-2.1.1 onnxruntime-1.14.1 pybind11-2.6.1 pyjnius-1.4.2 pyserini-0.20.0 sentencepiece-0.1.97 tokenizers-0.13.2 transformers-4.27.1\n"
          ]
        }
      ]
    },
    {
      "cell_type": "code",
      "source": [
        "!pip install faiss-cpu"
      ],
      "metadata": {
        "colab": {
          "base_uri": "https://localhost:8080/"
        },
        "id": "U2bBgkIn0uBa",
        "outputId": "77e796a7-e3c1-4513-e023-a7bb4112dfaf"
      },
      "execution_count": 3,
      "outputs": [
        {
          "output_type": "stream",
          "name": "stdout",
          "text": [
            "Looking in indexes: https://pypi.org/simple, https://us-python.pkg.dev/colab-wheels/public/simple/\n",
            "Collecting faiss-cpu\n",
            "  Downloading faiss_cpu-1.7.3-cp39-cp39-manylinux_2_17_x86_64.manylinux2014_x86_64.whl (17.0 MB)\n",
            "\u001b[2K     \u001b[90m━━━━━━━━━━━━━━━━━━━━━━━━━━━━━━━━━━━━━━━━\u001b[0m \u001b[32m17.0/17.0 MB\u001b[0m \u001b[31m16.0 MB/s\u001b[0m eta \u001b[36m0:00:00\u001b[0m\n",
            "\u001b[?25hInstalling collected packages: faiss-cpu\n",
            "Successfully installed faiss-cpu-1.7.3\n"
          ]
        }
      ]
    },
    {
      "cell_type": "markdown",
      "source": [
        "## Carga da engine de busca com o dataset MsMarco Passage indexado"
      ],
      "metadata": {
        "id": "zOLrNCiI1KUb"
      }
    },
    {
      "cell_type": "code",
      "source": [
        "from pyserini.search.lucene import LuceneSearcher\n",
        "\n",
        "searcher = LuceneSearcher.from_prebuilt_index('msmarco-v1-passage')"
      ],
      "metadata": {
        "colab": {
          "base_uri": "https://localhost:8080/"
        },
        "id": "Zbx_gyKw1JHY",
        "outputId": "cecc5182-b43a-4f59-cea4-416940fb9050"
      },
      "execution_count": 4,
      "outputs": [
        {
          "output_type": "stream",
          "name": "stdout",
          "text": [
            "Downloading index at https://rgw.cs.uwaterloo.ca/pyserini/indexes/lucene-index.msmarco-v1-passage.20221004.252b5e.tar.gz...\n"
          ]
        },
        {
          "output_type": "stream",
          "name": "stderr",
          "text": [
            "lucene-index.msmarco-v1-passage.20221004.252b5e.tar.gz: 2.02GB [01:13, 29.6MB/s]                            \n"
          ]
        }
      ]
    },
    {
      "cell_type": "markdown",
      "source": [
        "## Carga dos julgamentos do TREC 2020"
      ],
      "metadata": {
        "id": "7RymxVQ85O8G"
      }
    },
    {
      "cell_type": "code",
      "source": [
        "from pyserini.search import get_qrels\n",
        "\n",
        "# Carrega a lista de queries do TREC DL 2020\n",
        "qrels_ids = list(get_qrels('dl20-passage').keys())\n",
        "\n",
        "# Teste\n",
        "qrels_idx = 10\n",
        "query_id = qrels_ids[qrels_idx]\n",
        "print('Query id:', query_id, '\\nJulgamentos:')\n",
        "print(get_qrels('dl20-passage')[query_id])"
      ],
      "metadata": {
        "colab": {
          "base_uri": "https://localhost:8080/"
        },
        "id": "gBNi-N0y69e0",
        "outputId": "1971fadb-5579-4705-915b-852b8d593a52"
      },
      "execution_count": 5,
      "outputs": [
        {
          "output_type": "stream",
          "name": "stdout",
          "text": [
            "Query id: 174463 \n",
            "Julgamentos:\n",
            "{1013072: '2', 1013078: '2', 1024759: '1', 1024760: '1', 1024761: '2', 1024762: '2', 1024764: '2', 1024765: '2', 1024766: '0', 1024767: '2', 102528: '0', 1035028: '0', 1177464: '0', 1185676: '0', 1295676: '0', 1409812: '0', 1432589: '0', 1432591: '2', 1432592: '0', 1432593: '0', 1432594: '1', 1432595: '2', 1432596: '2', 1479952: '0', 1567953: '1', 1567955: '1', 1567956: '2', 1567957: '0', 1567958: '2', 1567959: '1', 1567960: '2', 1567961: '0', 1634041: '0', 1634777: '0', 175720: '0', 1762600: '0', 1788353: '2', 1788354: '2', 1788355: '2', 1788356: '0', 1788357: '2', 1788358: '2', 1788359: '2', 1788360: '2', 1788361: '2', 1788362: '2', 1835369: '2', 1835370: '2', 1835371: '2', 1835373: '0', 1835375: '2', 1835377: '2', 1854163: '1', 1854164: '1', 1854165: '2', 1854166: '2', 1854167: '2', 1854169: '2', 1854170: '1', 1970971: '0', 1973697: '1', 1973702: '0', 2037110: '0', 2157104: '0', 2157109: '0', 2157112: '2', 2216449: '0', 2295540: '0', 2348940: '0', 2348947: '0', 2382185: '0', 2455330: '0', 2468305: '0', 2473176: '0', 2486686: '0', 2531269: '0', 2531273: '0', 2533622: '2', 2533623: '2', 2533624: '2', 2533626: '2', 2606974: '0', 2721880: '0', 27550: '0', 282749: '0', 2858304: '0', 2924413: '1', 2954658: '0', 2954914: '0', 299161: '0', 3026306: '0', 3078582: '0', 3213498: '0', 3235293: '0', 3265811: '0', 3333063: '0', 3387606: '0', 3433776: '0', 3449866: '0', 3455194: '0', 3470175: '0', 3501225: '0', 3503349: '0', 3520614: '0', 3520788: '0', 3611458: '0', 3701689: '0', 3716939: '0', 3716941: '0', 3721347: '0', 3761173: '1', 3817112: '0', 3829742: '0', 3925781: '0', 3926737: '0', 4041227: '0', 4104492: '0', 4134318: '0', 4134319: '0', 4134324: '0', 4169415: '0', 4169416: '0', 4169418: '0', 4169419: '0', 4169420: '0', 4275746: '0', 4275752: '0', 4292323: '0', 4297182: '0', 4321177: '0', 4452290: '2', 4452292: '2', 4452293: '2', 4452294: '1', 4452295: '2', 4452296: '1', 4501665: '0', 4691491: '0', 4694368: '0', 470707: '2', 470708: '2', 470709: '0', 470710: '2', 470711: '1', 470712: '2', 470713: '2', 470715: '1', 4710617: '1', 4710618: '2', 479318: '0', 4916403: '0', 4947997: '0', 498828: '0', 5037118: '0', 5084515: '0', 5264563: '2', 5264564: '1', 5264566: '1', 5264569: '1', 5303493: '0', 5303495: '2', 5303496: '2', 5439385: '0', 5538543: '0', 5538544: '0', 5538545: '0', 5538546: '0', 5545051: '0', 5630555: '0', 5657825: '0', 5688364: '1', 5688367: '2', 5688368: '2', 5779094: '2', 5779104: '0', 5928503: '0', 5967940: '0', 5967943: '0', 5967945: '2', 6083368: '2', 6083369: '2', 6083370: '1', 6083371: '1', 6094016: '2', 6094017: '1', 6094019: '1', 6110657: '0', 6110658: '0', 6257921: '0', 6257923: '0', 6288125: '0', 6294949: '0', 6330267: '0', 6368115: '0', 6441021: '0', 6443245: '0', 6443248: '0', 6518010: '0', 6625390: '0', 6702479: '0', 6717192: '1', 6718984: '1', 6718986: '1', 6718987: '1', 6830831: '0', 6867423: '0', 6876014: '0', 7071008: '0', 7089624: '0', 7089625: '0', 7089627: '0', 7089629: '0', 7089630: '0', 7089632: '0', 7108184: '0', 7190959: '0', 7215971: '0', 7235816: '0', 7239821: '2', 7276897: '0', 7282097: '0', 7286231: '0', 7287619: '0', 7402420: '0', 7446174: '0', 7550455: '0', 7676247: '0', 7814051: '0', 7941760: '0', 8004951: '0', 8225687: '1', 8238923: '0', 8304451: '0', 8304453: '1', 8304454: '0', 8304456: '2', 8304457: '0', 8304458: '3', 8454980: '2', 8612180: '0', 8645017: '0', 8657356: '0', 8697678: '0', 8697679: '0', 8715976: '0', 8737013: '0', 8770949: '2', 8770952: '2', 8770954: '1'}\n"
          ]
        }
      ]
    },
    {
      "cell_type": "markdown",
      "source": [
        "## Carga das queries"
      ],
      "metadata": {
        "id": "zRbbQmyk5edJ"
      }
    },
    {
      "cell_type": "code",
      "source": [
        "from pyserini.search import get_topics\n",
        "\n",
        "# Carrega a lista de queries do TREC DL 2020\n",
        "topics = get_topics('dl20')\n",
        "\n",
        "# teste\n",
        "topics[query_id]['title']"
      ],
      "metadata": {
        "colab": {
          "base_uri": "https://localhost:8080/",
          "height": 36
        },
        "id": "irm7sxm_6PFF",
        "outputId": "b206481b-83b7-4273-afe2-f7da922166d4"
      },
      "execution_count": 6,
      "outputs": [
        {
          "output_type": "execute_result",
          "data": {
            "text/plain": [
              "'dog day afternoon meaning'"
            ],
            "application/vnd.google.colaboratory.intrinsic+json": {
              "type": "string"
            }
          },
          "metadata": {},
          "execution_count": 6
        }
      ]
    },
    {
      "cell_type": "code",
      "source": [
        "import json\n",
        "\n",
        "doc = searcher.doc('7157715')\n",
        "json_doc = json.loads(doc.raw())\n",
        "\n",
        "json_doc['id'], json_doc['contents']"
      ],
      "metadata": {
        "colab": {
          "base_uri": "https://localhost:8080/"
        },
        "id": "xMRfWlme9hXY",
        "outputId": "203d5846-87fe-4dd5-b8ef-c11a5e74cd10"
      },
      "execution_count": 7,
      "outputs": [
        {
          "output_type": "execute_result",
          "data": {
            "text/plain": [
              "('7157715',\n",
              " 'A Lobster Roll is a bread roll filled with bite-sized chunks of lobster meat. Lobster Rolls are made on the Atlantic coast of North America, from the New England area of the United States on up into the Maritimes areas of Canada.')"
            ]
          },
          "metadata": {},
          "execution_count": 7
        }
      ]
    },
    {
      "cell_type": "markdown",
      "source": [
        "## Execução da consulta sobre as queries "
      ],
      "metadata": {
        "id": "VpsusT4OMXPr"
      }
    },
    {
      "cell_type": "code",
      "source": [
        "K_base = 1000\n",
        "results_idx = range(K_base)\n",
        "\n",
        "results_bm25 = {}\n",
        "for query_id in qrels_ids:\n",
        "    hits = searcher.search(topics[query_id]['title'], k = K_base)\n",
        "    results_bm25[query_id] = [int(hits[ord].docid) for ord in results_idx]\n",
        "\n",
        "len(qrels_ids), len(results_bm25), len(list(results_bm25.items())[3][1])"
      ],
      "metadata": {
        "colab": {
          "base_uri": "https://localhost:8080/"
        },
        "id": "jZTAOjGs8ulE",
        "outputId": "a2ff373a-0bfe-4be3-dd27-90383c7712e4"
      },
      "execution_count": 9,
      "outputs": [
        {
          "output_type": "execute_result",
          "data": {
            "text/plain": [
              "(54, 54, 1000)"
            ]
          },
          "metadata": {},
          "execution_count": 9
        }
      ]
    },
    {
      "cell_type": "code",
      "source": [
        "print('query_id [10 first hits (docs)]:')\n",
        "for query_id, hits in results_bm25.items():\n",
        "    print(query_id, hits[:10])"
      ],
      "metadata": {
        "colab": {
          "base_uri": "https://localhost:8080/"
        },
        "id": "Tuh49Qnt-O6Q",
        "outputId": "50759860-4d09-467e-9f58-027755fe699c"
      },
      "execution_count": 10,
      "outputs": [
        {
          "output_type": "stream",
          "name": "stdout",
          "text": [
            "query_id [10 first hits (docs)]:\n",
            "23849 [4348282, 2674124, 7119957, 8133127, 542113, 2516458, 4834498, 436721, 6667419, 8246990]\n",
            "42255 [8746197, 8746189, 8746188, 3723425, 5550457, 182410, 8372967, 5997797, 6784918, 7123389]\n",
            "47210 [2042918, 6180504, 2338385, 2545998, 2546001, 2546002, 6180507, 5207329, 7562282, 7367873]\n",
            "67316 [6680964, 4163705, 8431637, 6764671, 1974375, 450305, 8431632, 7630885, 3810719, 450309]\n",
            "118440 [7035722, 1569786, 6750548, 6750552, 6750547, 1445681, 1569787, 2975216, 2975214, 4403471]\n",
            "121171 [8260192, 451171, 451173, 259437, 8643275, 259436, 2550811, 8056821, 7165126, 451172]\n",
            "135802 [8692623, 8692626, 8692628, 8692619, 8692624, 8692625, 8692627, 8692621, 8692622, 7327478]\n",
            "141630 [6290795, 1157249, 8319991, 5126207, 4098919, 4098924, 8319993, 8319990, 8319989, 3139270]\n",
            "156498 [5606985, 4273419, 4273412, 8146073, 3301559, 8823842, 494576, 3397582, 4273410, 3288004]\n",
            "169208 [4859433, 721607, 721610, 85987, 4859432, 8303019, 4762135, 4762140, 4202275, 4580137]\n",
            "174463 [8304456, 8304458, 7089630, 3501225, 4501665, 102528, 7089629, 6294949, 7089627, 6867423]\n",
            "258062 [8694161, 3683402, 2707010, 4159145, 63211, 639084, 3297029, 4159344, 7532084, 4174313]\n",
            "324585 [8290314, 7941125, 1051441, 8310496, 3608325, 8467798, 7568187, 4467785, 6565613, 7987550]\n",
            "330975 [233948, 233945, 7624927, 8541461, 5557976, 3297858, 3335804, 233950, 7908218, 5580311]\n",
            "332593 [1650687, 4431502, 8434873, 7073996, 8434869, 8434872, 5241323, 5241322, 7073999, 6534089]\n",
            "336901 [8130980, 2909600, 7836261, 8528674, 8528677, 8528681, 3386083, 6096614, 8528678, 8528680]\n",
            "390360 [604111, 5423359, 2203875, 2203877, 7679050, 8630614, 8630611, 6492802, 6492800, 4683960]\n",
            "405163 [851536, 978353, 6945009, 7622492, 429246, 429245, 429247, 2748170, 7196947, 1518539]\n",
            "555530 [1897716, 7475084, 1754579, 7246139, 6485976, 4296807, 4137963, 1672654, 6108232, 971429]\n",
            "583468 [7491704, 8326078, 2080306, 2267052, 7706119, 6654310, 7450725, 8395840, 1675564, 1675562]\n",
            "640502 [418508, 2989518, 6414861, 1467731, 6730887, 3551380, 3255505, 1091791, 1467737, 4422928]\n",
            "673670 [7257297, 7257300, 8632357, 3345262, 7257303, 2240359, 8524263, 4013570, 3607501, 1905068]\n",
            "701453 [4355647, 4330679, 6999087, 4355649, 8626143, 4330677, 8626149, 688614, 688615, 2036076]\n",
            "730539 [8577877, 8276218, 2666444, 2666436, 4605022, 6734967, 7129068, 5428552, 8577876, 7916064]\n",
            "768208 [52159, 52162, 52155, 8525681, 52158, 52157, 3515882, 813102, 52160, 3515884]\n",
            "877809 [1550613, 4888926, 5940393, 5940394, 3248714, 6704838, 35109, 4888929, 7040022, 1550610]\n",
            "911232 [2999933, 8816622, 4967296, 2999930, 8816626, 1879470, 2999928, 8816620, 4967298, 2999926]\n",
            "914916 [8027657, 5730358, 2001626, 5177082, 8520449, 2001628, 8129165, 8348854, 5439629, 3253278]\n",
            "938400 [7239123, 6499450, 47286, 6246564, 6246560, 2371820, 7239121, 5061328, 2208294, 1571994]\n",
            "940547 [6404591, 4481817, 4664999, 7280582, 5300647, 5300654, 5831702, 5831708, 4800890, 5300651]\n",
            "997622 [4558331, 5430569, 5430574, 4543865, 5719834, 2182282, 4518222, 3767367, 4643397, 73465]\n",
            "1030303 [8726436, 8726435, 8726429, 8726437, 7156982, 8726433, 8726434, 8726430, 1305521, 1305520]\n",
            "1037496 [4760912, 7766587, 5927420, 7766585, 4174377, 3725936, 4905511, 3725937, 4760914, 4174376]\n",
            "1043135 [650642, 8696961, 8696952, 650641, 8694703, 2664994, 8694697, 8224813, 8694701, 7022077]\n",
            "1051399 [2845499, 7848674, 2866972, 3446937, 8712317, 4681235, 2768271, 5041683, 7848669, 8818330]\n",
            "1064670 [8680901, 8680905, 8680897, 8680904, 8680903, 8680902, 8337453, 3807086, 7734392, 2998832]\n",
            "1071750 [3928913, 8698274, 8698268, 8698276, 8698269, 3575934, 8378390, 8698273, 8378385, 8378389]\n",
            "1105792 [8201611, 8201618, 8201616, 8201612, 8201613, 8201615, 6977017, 8201610, 8201614, 8201617]\n",
            "1106979 [8190137, 8190140, 7674419, 8190134, 348057, 348054, 7557632, 799359, 8190133, 4219185]\n",
            "1108651 [8175412, 8175407, 6348741, 6620938, 1325612, 6663873, 1482137, 2065792, 1646383, 6517914]\n",
            "1109707 [4370753, 1911564, 8165491, 771002, 6872195, 5947139, 1143389, 6238285, 4122615, 458599]\n",
            "1110678 [8155914, 7139329, 1327784, 6632692, 7822744, 8155909, 5719597, 4562240, 7822741, 7671274]\n",
            "1113256 [7561120, 7561115, 8130535, 7561114, 8130530, 7561113, 7561117, 7561116, 7561111, 5365819]\n",
            "1115210 [8111887, 8111878, 8111885, 8111884, 8111882, 7440361, 1139091, 8390254, 7440364, 7440363]\n",
            "1116380 [5104772, 521341, 8371014, 444969, 2557536, 7215246, 3680690, 5654382, 6431022, 8612548]\n",
            "1121353 [8053117, 8053113, 8083913, 8261242, 1854970, 5642762, 5300162, 4881885, 3541849, 8053112]\n",
            "1122767 [5877496, 6179209, 2019371, 5877500, 4824677, 6851720, 1575377, 4102083, 8039590, 6179207]\n",
            "1127540 [8726956, 8726961, 8726954, 2044368, 8726957, 8726958, 2044366, 2574460, 2044372, 8726962]\n",
            "1131069 [8432050, 1780966, 8432048, 6661248, 8191743, 6907802, 6809698, 6809701, 6809699, 6809697]\n",
            "1132532 [23966, 4893092, 6832793, 2762578, 5989422, 3299150, 6832795, 94140, 1229278, 6189369]\n",
            "1133579 [4868943, 1694484, 4274865, 8220878, 4931644, 4274864, 4274862, 1817055, 852137, 2067537]\n",
            "1136043 [8728071, 8728069, 1056540, 1056534, 8728070, 8728076, 8728077, 8728072, 5575991, 2428271]\n",
            "1136047 [8724031, 8724032, 2815436, 512481, 8724035, 8724038, 8724036, 2330118, 7009393, 3988779]\n",
            "1136962 [6185711, 7631079, 6185717, 6185714, 6185710, 8336574, 6185712, 6185716, 596001, 4601613]\n"
          ]
        }
      ]
    },
    {
      "cell_type": "markdown",
      "source": [
        "## Cálculo do IDCG@10"
      ],
      "metadata": {
        "id": "MXMssvjSS2mf"
      }
    },
    {
      "cell_type": "code",
      "source": [
        "import math\n",
        "\n",
        "K_relevance = 10\n",
        "\n",
        "def dcg(evals):\n",
        "    dcg = 0\n",
        "    for i, eval in enumerate(evals):\n",
        "        dcg += (2**int(eval)-1) * math.log(2) / math.log(i+2)\n",
        "    return dcg\n",
        "\n",
        "idcg = {}\n",
        "print(f'query_id [{K_relevance} best evaluations] idcg:')\n",
        "for query_id, hits in results_bm25.items():\n",
        "    ideal_results = sorted([int(relevance) for relevance in get_qrels('dl20-passage')[query_id].values()], reverse=True)[:K_relevance]\n",
        "    idcg[query_id] = dcg(ideal_results)\n",
        "    print(query_id, ideal_results, idcg[query_id])"
      ],
      "metadata": {
        "colab": {
          "base_uri": "https://localhost:8080/"
        },
        "id": "tY6T1-ivS08_",
        "outputId": "4a751b75-d58a-44b2-831c-d43e0185e0a7"
      },
      "execution_count": 11,
      "outputs": [
        {
          "output_type": "stream",
          "name": "stdout",
          "text": [
            "query_id [10 best evaluations] idcg:\n",
            "23849 [3, 3, 3, 3, 3, 3, 3, 3, 3, 3] 31.804915366618417\n",
            "42255 [3, 3, 3, 2, 2, 2, 1, 0, 0, 0] 18.7710512655814\n",
            "47210 [3, 3, 3, 3, 3, 3, 3, 2, 2, 2] 28.182676571548026\n",
            "67316 [3, 3, 3, 3, 3, 3, 2, 2, 2, 2] 26.849343238214693\n",
            "118440 [3, 3, 3, 3, 3, 3, 3, 3, 3, 3] 31.804915366618417\n",
            "121171 [2, 2, 2, 2, 2, 2, 2, 2, 2, 2] 13.630678014265037\n",
            "135802 [2, 2, 2, 2, 2, 2, 2, 2, 2, 1] 13.052548361629261\n",
            "141630 [3, 3, 2, 2, 2, 2, 2, 2, 2, 2] 20.154397028550864\n",
            "156498 [3, 2, 2, 2, 2, 2, 2, 1, 1, 1] 15.819558616729841\n",
            "169208 [3, 3, 3, 3, 2, 2, 2, 2, 2, 2] 23.877103260844436\n",
            "174463 [3, 2, 2, 2, 2, 2, 2, 2, 2, 2] 17.630678014265037\n",
            "258062 [3, 3, 3, 3, 3, 3, 3, 3, 3, 3] 31.804915366618417\n",
            "324585 [3, 3, 3, 3, 3, 3, 3, 3, 3, 3] 31.804915366618417\n",
            "330975 [3, 3, 3, 3, 3, 3, 3, 3, 3, 3] 31.804915366618417\n",
            "332593 [3, 3, 3, 3, 3, 3, 2, 2, 2, 2] 26.849343238214693\n",
            "336901 [3, 3, 3, 0, 0, 0, 0, 0, 0, 0] 14.9165082750002\n",
            "390360 [3, 3, 3, 3, 3, 3, 2, 2, 2, 2] 26.849343238214693\n",
            "405163 [3, 3, 3, 3, 3, 3, 3, 3, 3, 3] 31.804915366618417\n",
            "555530 [2, 2, 2, 2, 2, 2, 2, 2, 2, 2] 13.630678014265037\n",
            "583468 [3, 3, 3, 3, 3, 3, 3, 3, 3, 3] 31.804915366618417\n",
            "640502 [3, 3, 3, 3, 3, 3, 3, 3, 3, 3] 31.804915366618417\n",
            "673670 [3, 3, 3, 3, 3, 3, 3, 3, 2, 2] 29.44453607869094\n",
            "701453 [3, 3, 3, 3, 2, 2, 2, 2, 2, 2] 23.877103260844436\n",
            "730539 [3, 2, 2, 2, 2, 2, 2, 2, 2, 2] 17.630678014265037\n",
            "768208 [3, 3, 3, 3, 2, 2, 2, 1, 1, 1] 22.06598386330924\n",
            "877809 [3, 3, 3, 3, 3, 3, 3, 3, 3, 3] 31.804915366618417\n",
            "911232 [3, 2, 2, 2, 1, 1, 1, 1, 1, 1] 13.666771961378048\n",
            "914916 [3, 3, 3, 3, 3, 3, 3, 3, 3, 3] 31.804915366618417\n",
            "938400 [3, 3, 3, 3, 3, 3, 3, 3, 3, 3] 31.804915366618417\n",
            "940547 [2, 2, 2, 2, 2, 2, 2, 2, 2, 2] 13.630678014265037\n",
            "997622 [3, 3, 3, 3, 3, 3, 3, 3, 3, 3] 31.804915366618417\n",
            "1030303 [3, 3, 3, 3, 2, 2, 0, 0, 0, 0] 20.16042416454164\n",
            "1037496 [3, 3, 3, 3, 3, 3, 3, 3, 3, 3] 31.804915366618417\n",
            "1043135 [3, 3, 3, 3, 3, 3, 3, 3, 2, 2] 29.44453607869094\n",
            "1051399 [3, 3, 3, 2, 2, 2, 2, 2, 2, 2] 22.15439702855086\n",
            "1064670 [2, 2, 2, 2, 1, 1, 1, 1, 1, 1] 9.666771961378048\n",
            "1071750 [3, 3, 2, 2, 2, 2, 2, 2, 1, 1] 18.974207384587125\n",
            "1105792 [2, 2, 2, 2, 2, 2, 2, 1, 1, 1] 11.819558616729841\n",
            "1106979 [3, 3, 2, 2, 2, 2, 2, 2, 2, 2] 20.154397028550864\n",
            "1108651 [3, 3, 3, 3, 3, 3, 3, 3, 3, 3] 31.804915366618417\n",
            "1109707 [3, 3, 3, 3, 3, 3, 3, 3, 3, 3] 31.804915366618417\n",
            "1110678 [2, 2, 2, 2, 1, 1, 1, 1, 1, 1] 9.666771961378048\n",
            "1113256 [3, 3, 3, 3, 3, 3, 3, 2, 2, 2] 28.182676571548026\n",
            "1115210 [3, 2, 2, 1, 1, 1, 1, 1, 1, 1] 12.805418845231262\n",
            "1116380 [3, 3, 2, 2, 2, 2, 1, 1, 1, 1] 17.676610964349\n",
            "1121353 [2, 2, 2, 1, 1, 1, 1, 1, 1, 1] 8.805418845231259\n",
            "1122767 [3, 3, 3, 3, 3, 3, 3, 3, 3, 3] 31.804915366618417\n",
            "1127540 [3, 3, 3, 3, 3, 3, 2, 2, 2, 2] 26.849343238214693\n",
            "1131069 [3, 3, 3, 0, 0, 0, 0, 0, 0, 0] 14.9165082750002\n",
            "1132532 [3, 3, 3, 3, 3, 3, 3, 3, 3, 3] 31.804915366618417\n",
            "1133579 [3, 3, 3, 2, 2, 2, 2, 2, 2, 2] 22.15439702855086\n",
            "1136043 [3, 3, 3, 3, 3, 3, 2, 2, 2, 2] 26.849343238214693\n",
            "1136047 [3, 3, 2, 2, 2, 2, 1, 1, 1, 1] 17.676610964349\n",
            "1136962 [3, 3, 3, 3, 3, 3, 3, 3, 3, 3] 31.804915366618417\n"
          ]
        }
      ]
    },
    {
      "cell_type": "markdown",
      "source": [
        "## Avaliação dos resultados"
      ],
      "metadata": {
        "id": "PmI83aOSNY7p"
      }
    },
    {
      "cell_type": "code",
      "source": [
        "dcg_queries = {}\n",
        "ndcg = {}\n",
        "\n",
        "print(f'query_id [{K_relevance} bm25 evaluations] dcg --> ndcg:')\n",
        "for query_id, hits in results_bm25.items():\n",
        "    retrieved_results = [int(get_qrels('dl20-passage')[query_id].get(doc_id, 0)) for doc_id in hits[:10]]\n",
        "    dcg_queries[query_id] = dcg(retrieved_results)\n",
        "    ndcg[query_id] = dcg_queries[query_id]/idcg[query_id]\n",
        "    print(query_id, retrieved_results, dcg_queries[query_id], '-->', ndcg[query_id])"
      ],
      "metadata": {
        "colab": {
          "base_uri": "https://localhost:8080/"
        },
        "id": "YeCf194oPl38",
        "outputId": "adecbe2e-740a-4de7-e956-8e3987956fe9"
      },
      "execution_count": 12,
      "outputs": [
        {
          "output_type": "stream",
          "name": "stdout",
          "text": [
            "query_id [10 bm25 evaluations] dcg --> ndcg:\n",
            "23849 [0, 0, 0, 0, 0, 0, 0, 0, 0, 1] 0.2890648263178878 --> 0.009088684028421673\n",
            "42255 [3, 3, 3, 0, 0, 0, 0, 0, 0, 0] 14.9165082750002 --> 0.794654921770477\n",
            "47210 [3, 1, 2, 3, 3, 3, 0, 1, 0, 1] 17.951615323586772 --> 0.6369734002380002\n",
            "67316 [3, 0, 0, 0, 0, 0, 0, 0, 0, 0] 7.0 --> 0.26071401217877443\n",
            "118440 [0, 3, 0, 0, 0, 0, 0, 0, 0, 0] 4.416508275000202 --> 0.1388624438735545\n",
            "121171 [1, 1, 1, 0, 1, 1, 2, 1, 0, 2] 5.056649103653413 --> 0.37097561092422787\n",
            "135802 [2, 2, 2, 2, 2, 2, 2, 2, 2, 0] 12.763483535311373 --> 0.9778537632415402\n",
            "141630 [1, 2, 1, 1, 1, 1, 2, 1, 1, 1] 6.472085511897926 --> 0.3211252364796388\n",
            "156498 [0, 2, 0, 0, 3, 0, 0, 0, 1, 0] 4.901788907020144 --> 0.3098562371921236\n",
            "169208 [2, 0, 0, 2, 2, 0, 2, 0, 0, 0] 6.4525880959238044 --> 0.2702416631294328\n",
            "174463 [2, 3, 0, 0, 0, 0, 0, 0, 0, 0] 7.416508275000202 --> 0.4206592774820958\n",
            "258062 [3, 0, 0, 0, 0, 0, 0, 0, 0, 3] 9.023453784225214 --> 0.28371255449703187\n",
            "324585 [3, 0, 0, 0, 0, 0, 0, 0, 0, 0] 7.0 --> 0.2200917662980802\n",
            "330975 [1, 0, 0, 2, 2, 3, 0, 0, 0, 0] 5.946038405679959 --> 0.18695344216890325\n",
            "332593 [2, 1, 3, 2, 2, 1, 1, 2, 0, 0] 11.219453000293806 --> 0.41786694373682665\n",
            "336901 [0, 0, 0, 3, 0, 0, 0, 0, 0, 0] 3.0147359065137516 --> 0.20210734650054762\n",
            "390360 [1, 2, 1, 1, 0, 3, 2, 0, 0, 0] 7.3169161285439195 --> 0.2725175086640386\n",
            "405163 [0, 3, 3, 3, 0, 0, 0, 3, 3, 0] 15.246708288661921 --> 0.47938213678331165\n",
            "555530 [0, 0, 0, 0, 1, 0, 0, 0, 0, 0] 0.3868528072345416 --> 0.028381039213873662\n",
            "583468 [3, 2, 1, 3, 3, 1, 3, 3, 3, 3] 24.143953229684456 --> 0.7591264731056414\n",
            "640502 [3, 0, 0, 0, 3, 3, 0, 0, 0, 0] 12.201419960397946 --> 0.3836331529183765\n",
            "673670 [2, 2, 0, 0, 0, 0, 0, 0, 0, 0] 4.8927892607143715 --> 0.16616968416952885\n",
            "701453 [3, 3, 0, 2, 1, 2, 2, 3, 3, 1] 19.768541251244844 --> 0.8279287916664022\n",
            "730539 [3, 2, 2, 1, 2, 1, 0, 0, 0, 1] 12.629296253917301 --> 0.7163250468132252\n",
            "768208 [1, 0, 3, 2, 1, 3, 1, 3, 2, 1] 12.406075075354144 --> 0.5622262370989336\n",
            "877809 [3, 3, 1, 1, 1, 1, 1, 3, 1, 3] 17.95631607813879 --> 0.5645767602634546\n",
            "911232 [0, 3, 0, 0, 1, 0, 0, 2, 0, 0] 5.749755712591929 --> 0.42071059126768146\n",
            "914916 [0, 2, 3, 3, 0, 3, 0, 0, 2, 1] 12.093130290294111 --> 0.38022834366623515\n",
            "938400 [0, 0, 0, 0, 0, 0, 0, 0, 0, 0] 0.0 --> 0.0\n",
            "940547 [0, 0, 0, 0, 2, 2, 0, 2, 2, 2] 4.945859079330484 --> 0.3628476202104143\n",
            "997622 [0, 0, 0, 3, 0, 0, 3, 0, 3, 3] 9.478732993720168 --> 0.2980272981222516\n",
            "1030303 [3, 3, 0, 3, 3, 0, 2, 2, 0, 0] 19.08560846251293 --> 0.9466868507697815\n",
            "1037496 [3, 1, 1, 1, 1, 3, 1, 2, 2, 1] 13.9137922056359 --> 0.4374730146346952\n",
            "1043135 [3, 2, 3, 3, 0, 0, 0, 0, 0, 0] 15.407525167228123 --> 0.5232728111610009\n",
            "1051399 [0, 0, 0, 0, 0, 0, 0, 0, 0, 0] 0.0 --> 0.0\n",
            "1064670 [2, 1, 1, 2, 2, 1, 0, 0, 0, 0] 6.939725036603284 --> 0.7178947702842047\n",
            "1071750 [1, 1, 0, 1, 1, 3, 2, 1, 1, 1] 6.847469127403145 --> 0.3608830128506654\n",
            "1105792 [2, 0, 2, 2, 2, 1, 0, 0, 2, 1] 8.500950096341658 --> 0.7192273732040296\n",
            "1106979 [2, 3, 2, 2, 2, 2, 0, 2, 2, 1] 14.57626737591509 --> 0.7232301395703501\n",
            "1108651 [3, 0, 0, 0, 0, 0, 0, 0, 0, 0] 7.0 --> 0.2200917662980802\n",
            "1109707 [3, 3, 2, 2, 3, 3, 2, 2, 2, 2] 23.126637005921122 --> 0.7271403410239606\n",
            "1110678 [1, 0, 1, 1, 1, 0, 1, 0, 0, 1] 2.9399275249591557 --> 0.30412712089466254\n",
            "1113256 [3, 3, 3, 3, 3, 3, 2, 2, 3, 1] 27.47533356823484 --> 0.9749014966155739\n",
            "1115210 [1, 1, 1, 1, 1, 0, 0, 0, 0, 0] 2.948459118879392 --> 0.23025089257251416\n",
            "1116380 [0, 1, 0, 0, 0, 0, 0, 0, 0, 0] 0.6309297535714574 --> 0.03569291392133625\n",
            "1121353 [1, 1, 0, 1, 1, 1, 0, 1, 0, 2] 3.9873256617268065 --> 0.4528263483895736\n",
            "1122767 [2, 2, 3, 2, 3, 1, 0, 3, 1, 1] 15.547344732166335 --> 0.4888346519068059\n",
            "1127540 [3, 2, 3, 3, 3, 3, 2, 2, 2, 1] 23.747494571293085 --> 0.8844720841250693\n",
            "1131069 [3, 0, 0, 0, 0, 0, 0, 0, 0, 0] 7.0 --> 0.46927872602275655\n",
            "1132532 [0, 2, 2, 0, 2, 0, 1, 0, 0, 2] 5.753875494704992 --> 0.18091151724126597\n",
            "1133579 [1, 1, 2, 2, 1, 1, 1, 3, 0, 1] 7.996671719285522 --> 0.3609519008339534\n",
            "1136043 [1, 1, 1, 3, 3, 2, 1, 3, 0, 0] 11.463844342884501 --> 0.4269692648037663\n",
            "1136047 [3, 0, 0, 0, 0, 0, 0, 0, 2, 0] 7.903089986991944 --> 0.4470930543717491\n",
            "1136962 [3, 3, 2, 3, 3, 1, 3, 1, 3, 1] 24.040494025348583 --> 0.7558735418167734\n"
          ]
        }
      ]
    },
    {
      "cell_type": "code",
      "source": [
        "import numpy as np\n",
        "from statistics import mean\n",
        "\n",
        "mean(list(ndcg.values()))"
      ],
      "metadata": {
        "colab": {
          "base_uri": "https://localhost:8080/"
        },
        "id": "ivUlYRWTXq06",
        "outputId": "d9d6cf45-4fc2-4cf9-870e-65b188bb195a"
      },
      "execution_count": 13,
      "outputs": [
        {
          "output_type": "execute_result",
          "data": {
            "text/plain": [
              "0.433924103352141"
            ]
          },
          "metadata": {},
          "execution_count": 13
        }
      ]
    },
    {
      "cell_type": "markdown",
      "source": [
        "# Parte 3 - Rerank"
      ],
      "metadata": {
        "id": "pVJjvaQoyt6X"
      }
    },
    {
      "cell_type": "markdown",
      "source": [
        "## Carga do modelo ajustado"
      ],
      "metadata": {
        "id": "4V5mVzmKzlGI"
      }
    },
    {
      "cell_type": "code",
      "source": [
        "from google.colab import drive\n",
        "drive.mount('/content/drive')\n",
        "LOCAL_MODELO = '/content/drive/My Drive/IA368-DD/Aula3/'"
      ],
      "metadata": {
        "colab": {
          "base_uri": "https://localhost:8080/"
        },
        "id": "2KlMt2DieCG2",
        "outputId": "22224084-48a8-468f-d5cd-626465cfa3dc"
      },
      "execution_count": 20,
      "outputs": [
        {
          "output_type": "stream",
          "name": "stdout",
          "text": [
            "Mounted at /content/drive\n"
          ]
        }
      ]
    },
    {
      "cell_type": "code",
      "source": [
        "from transformers import AutoModelForSequenceClassification, AutoTokenizer\n",
        "import torch\n",
        "\n",
        "device = torch.device('cuda' if torch.cuda.is_available() else 'cpu')\n",
        "print('device:', device)\n",
        "\n",
        "tokenizer = AutoTokenizer.from_pretrained(LOCAL_MODELO)\n",
        "model = AutoModelForSequenceClassification.from_pretrained(LOCAL_MODELO).to(device)"
      ],
      "metadata": {
        "colab": {
          "base_uri": "https://localhost:8080/"
        },
        "id": "wELarxOqvseV",
        "outputId": "343d15bf-c9c3-4b56-a655-5a58946e786c"
      },
      "execution_count": 21,
      "outputs": [
        {
          "output_type": "stream",
          "name": "stdout",
          "text": [
            "device: cuda\n"
          ]
        }
      ]
    },
    {
      "cell_type": "markdown",
      "source": [
        "## Criação do dataset do rerank"
      ],
      "metadata": {
        "id": "XTlhzsN5kGNx"
      }
    },
    {
      "cell_type": "code",
      "source": [
        "from torch.utils.data import Dataset, DataLoader\n",
        "\n",
        "class RerankDataset(Dataset):\n",
        "  def __init__(self, tokenizer, queries, hits, max_length = 300, K = 1000):\n",
        "    self.max_length = max_length\n",
        "    self.tokenizer = tokenizer\n",
        "    self.queries = queries\n",
        "    self.hits = hits\n",
        "    self.K = K\n",
        "\n",
        "  def __len__(self):\n",
        "    return self.K * len(self.queries)\n",
        "    \n",
        "  def __getitem__(self, idx):\n",
        "    query_id = self.queries[idx // self.K]\n",
        "    doc_id = self.hits[query_id][idx % self.K]\n",
        "    doc = searcher.doc(doc_id)\n",
        "    json_doc = json.loads(doc.raw())\n",
        "    sentence = f\"{topics[query_id]['title']} [SEP] {json_doc['contents']}\"\n",
        "\n",
        "    batch_encoding = self.tokenizer(sentence, truncation=True, max_length = self.max_length)\n",
        "    return {\n",
        "        'input_ids': batch_encoding['input_ids'],\n",
        "        'attention_mask': batch_encoding['attention_mask']\n",
        "    }\n",
        "\n",
        "max_length = 300 \n",
        "rerank_dataset = RerankDataset(tokenizer, qrels_ids, results_bm25, max_length, K_base)\n",
        "len(rerank_dataset)"
      ],
      "metadata": {
        "colab": {
          "base_uri": "https://localhost:8080/"
        },
        "id": "dUj-4iLL0OrM",
        "outputId": "9cac1f33-0705-4884-b674-7a9082340ae5"
      },
      "execution_count": 22,
      "outputs": [
        {
          "output_type": "execute_result",
          "data": {
            "text/plain": [
              "54000"
            ]
          },
          "metadata": {},
          "execution_count": 22
        }
      ]
    },
    {
      "cell_type": "markdown",
      "source": [
        "## Criação do dataloader do rerank"
      ],
      "metadata": {
        "id": "i5ecesfykxr1"
      }
    },
    {
      "cell_type": "code",
      "source": [
        "batch_size = 32\n",
        "\n",
        "from transformers import BatchEncoding\n",
        "\n",
        "collate_fn = lambda batch: BatchEncoding(tokenizer.pad(batch, return_tensors='pt'))\n",
        "rerank_dataloader = DataLoader(rerank_dataset, batch_size=batch_size, shuffle=False, collate_fn=collate_fn)"
      ],
      "metadata": {
        "id": "qaCrebtRj1Zs"
      },
      "execution_count": 23,
      "outputs": []
    },
    {
      "cell_type": "markdown",
      "source": [
        "## Execução do modelo (previsões)"
      ],
      "metadata": {
        "id": "UDxOjZf3m_ji"
      }
    },
    {
      "cell_type": "code",
      "source": [
        "from tqdm.auto import tqdm\n",
        "\n",
        "score = {}\n",
        "\n",
        "losses = []\n",
        "correct = 0\n",
        "model.eval()\n",
        "idx = 0\n",
        "with torch.no_grad():\n",
        "    for batch in tqdm(rerank_dataloader, mininterval=0.5, desc='Rerank', disable=False):\n",
        "        for logit in model(**batch.to(device)).logits:\n",
        "            query_id = qrels_ids[idx // K_base]\n",
        "            doc_id = results_bm25[query_id][idx % K_base]\n",
        "            if query_id not in score:\n",
        "                score[query_id] = {}\n",
        "            score[query_id][doc_id] = logit[1].item()\n",
        "            idx += 1"
      ],
      "metadata": {
        "colab": {
          "base_uri": "https://localhost:8080/",
          "height": 49,
          "referenced_widgets": [
            "6b198e5ad758465ab545d208f3615b5d",
            "7a0ec7c187e54b66aafc526e327ffb9d",
            "19b55841e7324214a8110ada57f7b671",
            "818ad1ae391b44eba5fbb3b20adef565",
            "4092d75c443e48978df9be13fd95c723",
            "a482d53738bb4c0eaccfd241c10d2355",
            "03dc7319d4e1447c94fde066af54b0ed",
            "4d639d3f32c540bf9b491e9d793594d5",
            "1c77e069ff5d4bea949cb8b22c3c6366",
            "272d89bcc53a4f08b894c129cec71d67",
            "de302f8b5cc84cae9927db3a5170d2f0"
          ]
        },
        "id": "EXIZ2axTkw-_",
        "outputId": "7ae7aaab-45a4-4525-d4a3-d88b4191106c"
      },
      "execution_count": 34,
      "outputs": [
        {
          "output_type": "display_data",
          "data": {
            "text/plain": [
              "Rerank:   0%|          | 0/1688 [00:00<?, ?it/s]"
            ],
            "application/vnd.jupyter.widget-view+json": {
              "version_major": 2,
              "version_minor": 0,
              "model_id": "6b198e5ad758465ab545d208f3615b5d"
            }
          },
          "metadata": {}
        }
      ]
    },
    {
      "cell_type": "markdown",
      "source": [
        "## Seleção dos melhores resultados"
      ],
      "metadata": {
        "id": "BZlP4_yNsFQs"
      }
    },
    {
      "cell_type": "code",
      "source": [
        "results_rerank = {}\n",
        "\n",
        "for query_id in qrels_ids:\n",
        "    scores = [(score_doc, doc_id) for doc_id, score_doc in score[query_id].items()]\n",
        "    best_docs = [doc_id for _, doc_id in sorted(scores, reverse=True)[:K_relevance]]\n",
        "    print(query_id, best_docs)\n",
        "    results_rerank[query_id] = best_docs"
      ],
      "metadata": {
        "colab": {
          "base_uri": "https://localhost:8080/"
        },
        "id": "cizws4K5lQKy",
        "outputId": "15180161-5318-464e-c679-7b1f6bdfbed1"
      },
      "execution_count": 47,
      "outputs": [
        {
          "output_type": "stream",
          "name": "stdout",
          "text": [
            "23849 [8060949, 859115, 7559527, 5476361, 6020424, 8060634, 8404581, 4935403, 7607463, 1741530]\n",
            "42255 [6317267, 490581, 6030149, 2040836, 1956828, 6030146, 5571058, 1151785, 6560214, 94729]\n",
            "47210 [2344224, 2566994, 5501443, 8740517, 7832622, 2443840, 5691600, 6202430, 1618520, 6424417]\n",
            "67316 [3334787, 6449837, 7111673, 2603862, 2173090, 3692817, 7330185, 91147, 8050859, 6425678]\n",
            "118440 [4052287, 8151355, 1711898, 1227893, 7615787, 1440029, 1918708, 6977842, 7317711, 3191067]\n",
            "121171 [1604088, 2029254, 3216351, 451176, 984406, 5237908, 1218495, 5434440, 4916620, 337257]\n",
            "135802 [7361462, 4682759, 4346786, 8412720, 3720219, 2198707, 8085509, 4056505, 3492361, 8117361]\n",
            "141630 [4261424, 2673568, 1980895, 6256350, 3604692, 7019485, 4671690, 987958, 5913414, 4422343]\n",
            "156498 [2206872, 8167576, 5670871, 8528404, 608667, 8426643, 2149492, 3698261, 7456147, 2149494]\n",
            "169208 [314934, 3059075, 2256971, 4500987, 6903555, 1224354, 3120279, 6109859, 5175725, 8416223]\n",
            "174463 [2505354, 102528, 8349544, 3242883, 1176482, 1113788, 7696274, 7297664, 5783037, 2415021]\n",
            "258062 [2226482, 2028965, 6616310, 8302258, 8280422, 3971060, 5641921, 7349975, 1414536, 4433837]\n",
            "324585 [7756289, 2185924, 3280958, 5601008, 7577395, 1430287, 6522674, 5133213, 3179793, 3725209]\n",
            "330975 [6858578, 4416122, 6301307, 8297231, 5249015, 4523199, 8714732, 268182, 4000997, 5558822]\n",
            "332593 [7510610, 5533103, 3798722, 3798717, 249844, 6996323, 3212754, 3887610, 5533798, 7528569]\n",
            "336901 [8528681, 5984202, 6395426, 2691921, 7084263, 6865184, 8643945, 5488065, 2291852, 4861835]\n",
            "390360 [3988325, 4855250, 8630617, 6920196, 3988319, 277031, 7145044, 7532244, 1032410, 197316]\n",
            "405163 [4840727, 647596, 1279683, 7007751, 647595, 2271701, 6164004, 6588280, 6227028, 3447021]\n",
            "555530 [2805520, 5740870, 886755, 4184741, 3099016, 2225552, 6936081, 3559166, 3824260, 6078228]\n",
            "583468 [7678301, 6446631, 2418889, 3048743, 119353, 2267054, 6294600, 7030561, 5747984, 5623837]\n",
            "640502 [884727, 8386530, 6366696, 8634386, 808040, 5924243, 4866782, 1221927, 8412228, 1820974]\n",
            "673670 [3466102, 8524267, 8632363, 3903259, 2196071, 8147071, 2657906, 316790, 1123864, 7579536]\n",
            "701453 [2017216, 341833, 1559739, 3891711, 1697186, 1945873, 7553924, 3061139, 1798890, 6652638]\n",
            "730539 [5934673, 5348832, 3018932, 8043297, 3600859, 6238954, 504544, 3142331, 1201500, 2211845]\n",
            "768208 [8147067, 8441131, 8083901, 169073, 8108469, 36242, 3187597, 187569, 8300338, 3683871]\n",
            "877809 [660189, 160402, 7946335, 1793488, 677727, 1214884, 5229368, 407142, 1550616, 3553567]\n",
            "911232 [8366560, 8816624, 6624781, 8816617, 2433527, 3426567, 7913387, 868851, 413986, 867601]\n",
            "914916 [585408, 5325750, 6997609, 6896369, 1835660, 6182368, 5040009, 7798481, 4167743, 3225193]\n",
            "938400 [2767637, 47283, 1998463, 6275725, 3304745, 6696505, 6394551, 3486898, 8309429, 6499446]\n",
            "940547 [3606066, 8450757, 8754288, 5430211, 594395, 61071, 6275250, 3167339, 1620073, 382446]\n",
            "997622 [2697249, 2595301, 92583, 6766244, 421042, 2535510, 1805468, 5454518, 2743550, 4236908]\n",
            "1030303 [4268579, 5771764, 7438812, 779727, 1451842, 119291, 2937935, 5212826, 2359132, 132753]\n",
            "1037496 [7220564, 3725939, 8688862, 1249593, 5650077, 8413924, 5999029, 6300865, 3934630, 4551829]\n",
            "1043135 [8228558, 2806134, 422671, 4881717, 6670135, 2192508, 1257928, 3581777, 2664986, 7136332]\n",
            "1051399 [3852310, 1520118, 3076345, 3238161, 2814615, 4189019, 6707822, 2387993, 3757054, 7973372]\n",
            "1064670 [1036757, 129462, 4038398, 3850126, 1165297, 1656747, 2292761, 8750945, 396429, 3226107]\n",
            "1071750 [268724, 7294368, 5377248, 590019, 2072431, 7850927, 5413243, 4263880, 690879, 7234872]\n",
            "1105792 [2080986, 8304283, 2029254, 1604088, 1094151, 4785108, 2223989, 3915093, 6359874, 1855137]\n",
            "1106979 [430215, 4275776, 8079110, 2198212, 6339503, 8333920, 6670167, 2630511, 1347414, 8543993]\n",
            "1108651 [2881394, 1457501, 2022311, 1072346, 7306190, 6620938, 4760411, 4946657, 7380035, 6348740]\n",
            "1109707 [5708793, 2343773, 544153, 4122619, 517840, 3325862, 3823535, 1277306, 6868615, 2343772]\n",
            "1110678 [7838720, 7174421, 5843313, 3607593, 2488913, 3978726, 4340653, 5889084, 4327807, 1305312]\n",
            "1113256 [7366396, 1407868, 3302672, 5311476, 6139749, 4908175, 2067393, 5306944, 2713317, 6782248]\n",
            "1115210 [4631031, 5205333, 7730494, 6620616, 1656903, 1245904, 170888, 1603286, 645558, 6831628]\n",
            "1116380 [7206355, 5191265, 419809, 2471011, 5348343, 6891415, 8233345, 7251887, 5209457, 5969748]\n",
            "1121353 [6844728, 2261704, 6338152, 1480308, 7346600, 5272637, 1886363, 8404173, 992817, 6237398]\n",
            "1122767 [884952, 8164558, 8326514, 1507181, 5883915, 7528171, 6739572, 8686020, 2771966, 8606843]\n",
            "1127540 [4248590, 7020526, 1967240, 6237464, 187285, 7340462, 169073, 6260065, 2984688, 1975260]\n",
            "1131069 [2524280, 881863, 1197826, 6810118, 4762797, 5113721, 25339, 6303112, 7995048, 4907048]\n",
            "1132532 [6716842, 3651658, 1189225, 4638263, 7839096, 477809, 8378873, 6266577, 8307487, 5959190]\n",
            "1133579 [7581317, 924520, 2301174, 1771700, 1743803, 50166, 642028, 7541090, 1297452, 4931642]\n",
            "1136043 [2608277, 2899638, 8763838, 5275397, 3352732, 241927, 4974178, 7740223, 711191, 1595007]\n",
            "1136047 [646354, 7200596, 1742651, 4222366, 8133561, 3076627, 6684694, 6182713, 5209173, 147967]\n",
            "1136962 [1423440, 7547272, 3422214, 453435, 8185289, 7631087, 4262660, 3225789, 594843, 3006444]\n"
          ]
        }
      ]
    },
    {
      "cell_type": "markdown",
      "source": [
        "## Avaliação dos resultados"
      ],
      "metadata": {
        "id": "jcjfwt8Hw_8O"
      }
    },
    {
      "cell_type": "code",
      "source": [
        "dcg_rerank = {}\n",
        "ndcg_rerank = {}\n",
        "\n",
        "print(f'query_id [{K_relevance} bm25 evaluations] dcg --> ndcg:')\n",
        "for query_id, hits in results_rerank.items():\n",
        "    retrieved_results = [int(get_qrels('dl20-passage')[query_id].get(doc_id, 0)) for doc_id in hits[:10]]\n",
        "    dcg_rerank[query_id] = dcg(retrieved_results)\n",
        "    ndcg_rerank[query_id] = dcg_rerank[query_id]/idcg[query_id]\n",
        "    print(query_id, retrieved_results, dcg_rerank[query_id], '-->', ndcg_rerank[query_id])"
      ],
      "metadata": {
        "colab": {
          "base_uri": "https://localhost:8080/"
        },
        "id": "-byP-epXs4Ii",
        "outputId": "e8ff2492-18b3-4934-c95e-09af28ce6b54"
      },
      "execution_count": 48,
      "outputs": [
        {
          "output_type": "stream",
          "name": "stdout",
          "text": [
            "query_id [10 bm25 evaluations] dcg --> ndcg:\n",
            "23849 [0, 0, 0, 0, 0, 0, 0, 0, 0, 0] 0.0 --> 0.0\n",
            "42255 [0, 0, 0, 0, 0, 0, 0, 0, 0, 0] 0.0 --> 0.0\n",
            "47210 [0, 0, 0, 0, 0, 0, 1, 0, 0, 0] 0.33333333333333337 --> 0.011827596732591816\n",
            "67316 [0, 0, 0, 0, 0, 0, 0, 0, 0, 0] 0.0 --> 0.0\n",
            "118440 [0, 0, 0, 0, 0, 0, 0, 0, 0, 0] 0.0 --> 0.0\n",
            "121171 [0, 0, 0, 2, 0, 1, 0, 0, 0, 0] 1.6482368613282012 --> 0.12092112069577589\n",
            "135802 [0, 0, 0, 0, 0, 0, 0, 0, 0, 0] 0.0 --> 0.0\n",
            "141630 [0, 0, 0, 0, 0, 0, 0, 0, 0, 1] 0.2890648263178878 --> 0.014342519198584631\n",
            "156498 [0, 0, 0, 0, 0, 0, 0, 0, 0, 0] 0.0 --> 0.0\n",
            "169208 [0, 0, 0, 0, 0, 0, 0, 0, 0, 0] 0.0 --> 0.0\n",
            "174463 [0, 0, 0, 0, 0, 0, 0, 0, 0, 0] 0.0 --> 0.0\n",
            "258062 [0, 0, 0, 0, 0, 0, 0, 0, 0, 0] 0.0 --> 0.0\n",
            "324585 [0, 0, 0, 0, 0, 0, 0, 0, 0, 0] 0.0 --> 0.0\n",
            "330975 [0, 0, 0, 0, 0, 0, 0, 0, 0, 0] 0.0 --> 0.0\n",
            "332593 [0, 0, 0, 0, 0, 0, 0, 0, 0, 0] 0.0 --> 0.0\n",
            "336901 [0, 0, 0, 0, 0, 0, 0, 0, 0, 0] 0.0 --> 0.0\n",
            "390360 [0, 0, 1, 0, 0, 0, 0, 0, 0, 0] 0.5 --> 0.01862242944134103\n",
            "405163 [0, 0, 0, 0, 0, 0, 0, 0, 0, 0] 0.0 --> 0.0\n",
            "555530 [0, 0, 0, 0, 0, 0, 0, 0, 0, 2] 0.8671944789536634 --> 0.0636207881989517\n",
            "583468 [0, 0, 0, 0, 0, 3, 0, 0, 0, 1] 2.7825151360740428 --> 0.08748695300709701\n",
            "640502 [0, 0, 0, 0, 0, 0, 0, 0, 0, 0] 0.0 --> 0.0\n",
            "673670 [0, 0, 0, 0, 0, 0, 0, 2, 0, 0] 0.946394630357186 --> 0.0321416043991297\n",
            "701453 [2, 0, 0, 0, 0, 0, 0, 0, 0, 0] 3.0 --> 0.12564338174637948\n",
            "730539 [0, 0, 0, 0, 0, 0, 0, 0, 0, 0] 0.0 --> 0.0\n",
            "768208 [0, 0, 0, 0, 0, 0, 1, 0, 0, 0] 0.33333333333333337 --> 0.015106207608879459\n",
            "877809 [0, 0, 0, 0, 0, 0, 0, 0, 0, 0] 0.0 --> 0.0\n",
            "911232 [0, 0, 0, 1, 0, 0, 0, 0, 0, 0] 0.43067655807339306 --> 0.031512676094287234\n",
            "914916 [0, 0, 0, 0, 0, 0, 0, 0, 0, 0] 0.0 --> 0.0\n",
            "938400 [0, 1, 0, 0, 0, 0, 0, 0, 3, 0] 2.738139723219325 --> 0.08609171543632539\n",
            "940547 [0, 0, 0, 0, 0, 1, 0, 0, 0, 0] 0.3562071871080222 --> 0.026132756326225113\n",
            "997622 [0, 0, 0, 0, 0, 0, 0, 0, 0, 0] 0.0 --> 0.0\n",
            "1030303 [0, 0, 0, 0, 0, 0, 0, 0, 0, 0] 0.0 --> 0.0\n",
            "1037496 [0, 1, 0, 0, 0, 0, 0, 0, 0, 0] 0.6309297535714574 --> 0.01983749198193636\n",
            "1043135 [0, 0, 0, 0, 0, 0, 0, 0, 2, 0] 0.9030899869919434 --> 0.03067088523923157\n",
            "1051399 [0, 0, 0, 0, 0, 0, 0, 0, 0, 0] 0.0 --> 0.0\n",
            "1064670 [0, 1, 0, 0, 0, 0, 0, 0, 0, 0] 0.6309297535714574 --> 0.06526788426294015\n",
            "1071750 [0, 0, 0, 0, 0, 0, 0, 0, 0, 0] 0.0 --> 0.0\n",
            "1105792 [0, 0, 0, 0, 0, 0, 0, 0, 0, 0] 0.0 --> 0.0\n",
            "1106979 [0, 0, 0, 0, 0, 0, 1, 0, 0, 0] 0.33333333333333337 --> 0.016538988135498717\n",
            "1108651 [0, 3, 0, 0, 0, 0, 0, 0, 0, 0] 4.416508275000202 --> 0.1388624438735545\n",
            "1109707 [0, 0, 0, 0, 0, 0, 0, 0, 0, 0] 0.0 --> 0.0\n",
            "1110678 [0, 0, 1, 0, 0, 0, 0, 0, 0, 0] 0.5 --> 0.05172357452908431\n",
            "1113256 [0, 1, 0, 0, 0, 0, 1, 0, 0, 0] 0.9642630869047908 --> 0.034214744808102\n",
            "1115210 [0, 0, 0, 0, 0, 0, 0, 0, 0, 0] 0.0 --> 0.0\n",
            "1116380 [0, 0, 0, 0, 0, 0, 0, 0, 0, 0] 0.0 --> 0.0\n",
            "1121353 [0, 0, 0, 0, 0, 0, 0, 1, 0, 0] 0.3154648767857287 --> 0.03582622045929987\n",
            "1122767 [3, 0, 0, 0, 0, 0, 1, 0, 0, 0] 7.333333333333333 --> 0.23057232659798876\n",
            "1127540 [0, 0, 0, 0, 0, 0, 0, 0, 0, 0] 0.0 --> 0.0\n",
            "1131069 [0, 0, 0, 0, 0, 0, 0, 0, 0, 0] 0.0 --> 0.0\n",
            "1132532 [0, 0, 0, 0, 0, 0, 0, 0, 0, 0] 0.0 --> 0.0\n",
            "1133579 [0, 0, 0, 0, 0, 0, 0, 0, 1, 2] 1.1682244746176447 --> 0.05273104355366242\n",
            "1136043 [0, 0, 0, 0, 0, 0, 0, 0, 0, 0] 0.0 --> 0.0\n",
            "1136047 [0, 0, 0, 0, 0, 0, 0, 0, 0, 0] 0.0 --> 0.0\n",
            "1136962 [0, 0, 0, 0, 0, 0, 0, 0, 0, 0] 0.0 --> 0.0\n"
          ]
        }
      ]
    },
    {
      "cell_type": "code",
      "source": [
        "mean(list(ndcg_rerank.values()))"
      ],
      "metadata": {
        "colab": {
          "base_uri": "https://localhost:8080/"
        },
        "id": "ccxlafD_xVWX",
        "outputId": "fbea92f5-d689-40fb-f509-3bb5de0f9ca8"
      },
      "execution_count": 49,
      "outputs": [
        {
          "output_type": "execute_result",
          "data": {
            "text/plain": [
              "0.024253617635682723"
            ]
          },
          "metadata": {},
          "execution_count": 49
        }
      ]
    },
    {
      "cell_type": "markdown",
      "source": [
        "# Comparação dos métodos de busca"
      ],
      "metadata": {
        "id": "GFuIVHvSx7BV"
      }
    },
    {
      "cell_type": "code",
      "source": [
        "print('nDCG@10 (BM25):  ', mean(list(ndcg.values())))\n",
        "print('nDCG@10 (Rerank):', mean(list(ndcg_rerank.values())))"
      ],
      "metadata": {
        "colab": {
          "base_uri": "https://localhost:8080/"
        },
        "id": "Xmvp1mVUxp_a",
        "outputId": "076737d3-f174-43d2-819f-1a520441da4d"
      },
      "execution_count": 52,
      "outputs": [
        {
          "output_type": "stream",
          "name": "stdout",
          "text": [
            "nDCG@10 (BM25):   0.433924103352141\n",
            "nDCG@10 (Rerank): 0.024253617635682723\n"
          ]
        }
      ]
    },
    {
      "cell_type": "code",
      "source": [],
      "metadata": {
        "id": "9N8ntuNayA-S"
      },
      "execution_count": null,
      "outputs": []
    }
  ]
}