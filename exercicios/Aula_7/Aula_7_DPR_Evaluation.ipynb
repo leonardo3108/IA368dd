{
  "nbformat": 4,
  "nbformat_minor": 0,
  "metadata": {
    "colab": {
      "provenance": [],
      "toc_visible": true,
      "authorship_tag": "ABX9TyPQKNNnNgxxSvO7eOzMuBun",
      "include_colab_link": true
    },
    "kernelspec": {
      "name": "python3",
      "display_name": "Python 3"
    },
    "language_info": {
      "name": "python"
    },
    "gpuClass": "standard",
    "accelerator": "GPU",
    "widgets": {
      "application/vnd.jupyter.widget-state+json": {
        "a6c1fb7184f04fef8ed31452e53cc770": {
          "model_module": "@jupyter-widgets/controls",
          "model_name": "HBoxModel",
          "model_module_version": "1.5.0",
          "state": {
            "_dom_classes": [],
            "_model_module": "@jupyter-widgets/controls",
            "_model_module_version": "1.5.0",
            "_model_name": "HBoxModel",
            "_view_count": null,
            "_view_module": "@jupyter-widgets/controls",
            "_view_module_version": "1.5.0",
            "_view_name": "HBoxView",
            "box_style": "",
            "children": [
              "IPY_MODEL_3bedbcf02b7749508000c04c31c0027e",
              "IPY_MODEL_d332d3f6fc9a4b4db686c2d76b86acfd",
              "IPY_MODEL_96ec7e66cc434b2bbb10cc3dcd1bb7d4"
            ],
            "layout": "IPY_MODEL_ee5272227adf45878f5e52fc38f3b396"
          }
        },
        "3bedbcf02b7749508000c04c31c0027e": {
          "model_module": "@jupyter-widgets/controls",
          "model_name": "HTMLModel",
          "model_module_version": "1.5.0",
          "state": {
            "_dom_classes": [],
            "_model_module": "@jupyter-widgets/controls",
            "_model_module_version": "1.5.0",
            "_model_name": "HTMLModel",
            "_view_count": null,
            "_view_module": "@jupyter-widgets/controls",
            "_view_module_version": "1.5.0",
            "_view_name": "HTMLView",
            "description": "",
            "description_tooltip": null,
            "layout": "IPY_MODEL_c6fa8bbeeaa0464899a37cb9b6d1b2cc",
            "placeholder": "​",
            "style": "IPY_MODEL_ec3a018f8e3842bea27dfd2ed05247b1",
            "value": "Downloading (…)okenizer_config.json: 100%"
          }
        },
        "d332d3f6fc9a4b4db686c2d76b86acfd": {
          "model_module": "@jupyter-widgets/controls",
          "model_name": "FloatProgressModel",
          "model_module_version": "1.5.0",
          "state": {
            "_dom_classes": [],
            "_model_module": "@jupyter-widgets/controls",
            "_model_module_version": "1.5.0",
            "_model_name": "FloatProgressModel",
            "_view_count": null,
            "_view_module": "@jupyter-widgets/controls",
            "_view_module_version": "1.5.0",
            "_view_name": "ProgressView",
            "bar_style": "success",
            "description": "",
            "description_tooltip": null,
            "layout": "IPY_MODEL_5bc413db0e5b4b4e90a7d87e5ffd6de2",
            "max": 2,
            "min": 0,
            "orientation": "horizontal",
            "style": "IPY_MODEL_487962d18f6f4b21b63c34d469adaac5",
            "value": 2
          }
        },
        "96ec7e66cc434b2bbb10cc3dcd1bb7d4": {
          "model_module": "@jupyter-widgets/controls",
          "model_name": "HTMLModel",
          "model_module_version": "1.5.0",
          "state": {
            "_dom_classes": [],
            "_model_module": "@jupyter-widgets/controls",
            "_model_module_version": "1.5.0",
            "_model_name": "HTMLModel",
            "_view_count": null,
            "_view_module": "@jupyter-widgets/controls",
            "_view_module_version": "1.5.0",
            "_view_name": "HTMLView",
            "description": "",
            "description_tooltip": null,
            "layout": "IPY_MODEL_00173374d7834078984e923f33c5c0d1",
            "placeholder": "​",
            "style": "IPY_MODEL_96e3846e5e79402997539bbb09994f78",
            "value": " 2.00/2.00 [00:00&lt;00:00, 36.8B/s]"
          }
        },
        "ee5272227adf45878f5e52fc38f3b396": {
          "model_module": "@jupyter-widgets/base",
          "model_name": "LayoutModel",
          "model_module_version": "1.2.0",
          "state": {
            "_model_module": "@jupyter-widgets/base",
            "_model_module_version": "1.2.0",
            "_model_name": "LayoutModel",
            "_view_count": null,
            "_view_module": "@jupyter-widgets/base",
            "_view_module_version": "1.2.0",
            "_view_name": "LayoutView",
            "align_content": null,
            "align_items": null,
            "align_self": null,
            "border": null,
            "bottom": null,
            "display": null,
            "flex": null,
            "flex_flow": null,
            "grid_area": null,
            "grid_auto_columns": null,
            "grid_auto_flow": null,
            "grid_auto_rows": null,
            "grid_column": null,
            "grid_gap": null,
            "grid_row": null,
            "grid_template_areas": null,
            "grid_template_columns": null,
            "grid_template_rows": null,
            "height": null,
            "justify_content": null,
            "justify_items": null,
            "left": null,
            "margin": null,
            "max_height": null,
            "max_width": null,
            "min_height": null,
            "min_width": null,
            "object_fit": null,
            "object_position": null,
            "order": null,
            "overflow": null,
            "overflow_x": null,
            "overflow_y": null,
            "padding": null,
            "right": null,
            "top": null,
            "visibility": null,
            "width": null
          }
        },
        "c6fa8bbeeaa0464899a37cb9b6d1b2cc": {
          "model_module": "@jupyter-widgets/base",
          "model_name": "LayoutModel",
          "model_module_version": "1.2.0",
          "state": {
            "_model_module": "@jupyter-widgets/base",
            "_model_module_version": "1.2.0",
            "_model_name": "LayoutModel",
            "_view_count": null,
            "_view_module": "@jupyter-widgets/base",
            "_view_module_version": "1.2.0",
            "_view_name": "LayoutView",
            "align_content": null,
            "align_items": null,
            "align_self": null,
            "border": null,
            "bottom": null,
            "display": null,
            "flex": null,
            "flex_flow": null,
            "grid_area": null,
            "grid_auto_columns": null,
            "grid_auto_flow": null,
            "grid_auto_rows": null,
            "grid_column": null,
            "grid_gap": null,
            "grid_row": null,
            "grid_template_areas": null,
            "grid_template_columns": null,
            "grid_template_rows": null,
            "height": null,
            "justify_content": null,
            "justify_items": null,
            "left": null,
            "margin": null,
            "max_height": null,
            "max_width": null,
            "min_height": null,
            "min_width": null,
            "object_fit": null,
            "object_position": null,
            "order": null,
            "overflow": null,
            "overflow_x": null,
            "overflow_y": null,
            "padding": null,
            "right": null,
            "top": null,
            "visibility": null,
            "width": null
          }
        },
        "ec3a018f8e3842bea27dfd2ed05247b1": {
          "model_module": "@jupyter-widgets/controls",
          "model_name": "DescriptionStyleModel",
          "model_module_version": "1.5.0",
          "state": {
            "_model_module": "@jupyter-widgets/controls",
            "_model_module_version": "1.5.0",
            "_model_name": "DescriptionStyleModel",
            "_view_count": null,
            "_view_module": "@jupyter-widgets/base",
            "_view_module_version": "1.2.0",
            "_view_name": "StyleView",
            "description_width": ""
          }
        },
        "5bc413db0e5b4b4e90a7d87e5ffd6de2": {
          "model_module": "@jupyter-widgets/base",
          "model_name": "LayoutModel",
          "model_module_version": "1.2.0",
          "state": {
            "_model_module": "@jupyter-widgets/base",
            "_model_module_version": "1.2.0",
            "_model_name": "LayoutModel",
            "_view_count": null,
            "_view_module": "@jupyter-widgets/base",
            "_view_module_version": "1.2.0",
            "_view_name": "LayoutView",
            "align_content": null,
            "align_items": null,
            "align_self": null,
            "border": null,
            "bottom": null,
            "display": null,
            "flex": null,
            "flex_flow": null,
            "grid_area": null,
            "grid_auto_columns": null,
            "grid_auto_flow": null,
            "grid_auto_rows": null,
            "grid_column": null,
            "grid_gap": null,
            "grid_row": null,
            "grid_template_areas": null,
            "grid_template_columns": null,
            "grid_template_rows": null,
            "height": null,
            "justify_content": null,
            "justify_items": null,
            "left": null,
            "margin": null,
            "max_height": null,
            "max_width": null,
            "min_height": null,
            "min_width": null,
            "object_fit": null,
            "object_position": null,
            "order": null,
            "overflow": null,
            "overflow_x": null,
            "overflow_y": null,
            "padding": null,
            "right": null,
            "top": null,
            "visibility": null,
            "width": null
          }
        },
        "487962d18f6f4b21b63c34d469adaac5": {
          "model_module": "@jupyter-widgets/controls",
          "model_name": "ProgressStyleModel",
          "model_module_version": "1.5.0",
          "state": {
            "_model_module": "@jupyter-widgets/controls",
            "_model_module_version": "1.5.0",
            "_model_name": "ProgressStyleModel",
            "_view_count": null,
            "_view_module": "@jupyter-widgets/base",
            "_view_module_version": "1.2.0",
            "_view_name": "StyleView",
            "bar_color": null,
            "description_width": ""
          }
        },
        "00173374d7834078984e923f33c5c0d1": {
          "model_module": "@jupyter-widgets/base",
          "model_name": "LayoutModel",
          "model_module_version": "1.2.0",
          "state": {
            "_model_module": "@jupyter-widgets/base",
            "_model_module_version": "1.2.0",
            "_model_name": "LayoutModel",
            "_view_count": null,
            "_view_module": "@jupyter-widgets/base",
            "_view_module_version": "1.2.0",
            "_view_name": "LayoutView",
            "align_content": null,
            "align_items": null,
            "align_self": null,
            "border": null,
            "bottom": null,
            "display": null,
            "flex": null,
            "flex_flow": null,
            "grid_area": null,
            "grid_auto_columns": null,
            "grid_auto_flow": null,
            "grid_auto_rows": null,
            "grid_column": null,
            "grid_gap": null,
            "grid_row": null,
            "grid_template_areas": null,
            "grid_template_columns": null,
            "grid_template_rows": null,
            "height": null,
            "justify_content": null,
            "justify_items": null,
            "left": null,
            "margin": null,
            "max_height": null,
            "max_width": null,
            "min_height": null,
            "min_width": null,
            "object_fit": null,
            "object_position": null,
            "order": null,
            "overflow": null,
            "overflow_x": null,
            "overflow_y": null,
            "padding": null,
            "right": null,
            "top": null,
            "visibility": null,
            "width": null
          }
        },
        "96e3846e5e79402997539bbb09994f78": {
          "model_module": "@jupyter-widgets/controls",
          "model_name": "DescriptionStyleModel",
          "model_module_version": "1.5.0",
          "state": {
            "_model_module": "@jupyter-widgets/controls",
            "_model_module_version": "1.5.0",
            "_model_name": "DescriptionStyleModel",
            "_view_count": null,
            "_view_module": "@jupyter-widgets/base",
            "_view_module_version": "1.2.0",
            "_view_name": "StyleView",
            "description_width": ""
          }
        },
        "6d30b2c3afeb498797e2664e4e5b1d66": {
          "model_module": "@jupyter-widgets/controls",
          "model_name": "HBoxModel",
          "model_module_version": "1.5.0",
          "state": {
            "_dom_classes": [],
            "_model_module": "@jupyter-widgets/controls",
            "_model_module_version": "1.5.0",
            "_model_name": "HBoxModel",
            "_view_count": null,
            "_view_module": "@jupyter-widgets/controls",
            "_view_module_version": "1.5.0",
            "_view_name": "HBoxView",
            "box_style": "",
            "children": [
              "IPY_MODEL_3f1870211c654744ba592c9218b29d34",
              "IPY_MODEL_6d8e1f96d73345b4bfce4a45c19ab599",
              "IPY_MODEL_598dd129acdc4e6882bce41e7e2949e0"
            ],
            "layout": "IPY_MODEL_79d6df9b52dc41d7a196ab9c4a27579a"
          }
        },
        "3f1870211c654744ba592c9218b29d34": {
          "model_module": "@jupyter-widgets/controls",
          "model_name": "HTMLModel",
          "model_module_version": "1.5.0",
          "state": {
            "_dom_classes": [],
            "_model_module": "@jupyter-widgets/controls",
            "_model_module_version": "1.5.0",
            "_model_name": "HTMLModel",
            "_view_count": null,
            "_view_module": "@jupyter-widgets/controls",
            "_view_module_version": "1.5.0",
            "_view_name": "HTMLView",
            "description": "",
            "description_tooltip": null,
            "layout": "IPY_MODEL_5518866ea21f46499b5c32d2509de867",
            "placeholder": "​",
            "style": "IPY_MODEL_d021a67e85be4fc482136c0557392265",
            "value": "Downloading (…)lve/main/config.json: 100%"
          }
        },
        "6d8e1f96d73345b4bfce4a45c19ab599": {
          "model_module": "@jupyter-widgets/controls",
          "model_name": "FloatProgressModel",
          "model_module_version": "1.5.0",
          "state": {
            "_dom_classes": [],
            "_model_module": "@jupyter-widgets/controls",
            "_model_module_version": "1.5.0",
            "_model_name": "FloatProgressModel",
            "_view_count": null,
            "_view_module": "@jupyter-widgets/controls",
            "_view_module_version": "1.5.0",
            "_view_name": "ProgressView",
            "bar_style": "success",
            "description": "",
            "description_tooltip": null,
            "layout": "IPY_MODEL_e4bf39fbf2544e59be2c4b8cbdcc9dc3",
            "max": 385,
            "min": 0,
            "orientation": "horizontal",
            "style": "IPY_MODEL_213289be14b84c79add286e9ec06ba30",
            "value": 385
          }
        },
        "598dd129acdc4e6882bce41e7e2949e0": {
          "model_module": "@jupyter-widgets/controls",
          "model_name": "HTMLModel",
          "model_module_version": "1.5.0",
          "state": {
            "_dom_classes": [],
            "_model_module": "@jupyter-widgets/controls",
            "_model_module_version": "1.5.0",
            "_model_name": "HTMLModel",
            "_view_count": null,
            "_view_module": "@jupyter-widgets/controls",
            "_view_module_version": "1.5.0",
            "_view_name": "HTMLView",
            "description": "",
            "description_tooltip": null,
            "layout": "IPY_MODEL_e3bbae9f0f1541ca8fe0bc48b34db883",
            "placeholder": "​",
            "style": "IPY_MODEL_33302865eacd43488bc3dfa6e9e5ab76",
            "value": " 385/385 [00:00&lt;00:00, 6.19kB/s]"
          }
        },
        "79d6df9b52dc41d7a196ab9c4a27579a": {
          "model_module": "@jupyter-widgets/base",
          "model_name": "LayoutModel",
          "model_module_version": "1.2.0",
          "state": {
            "_model_module": "@jupyter-widgets/base",
            "_model_module_version": "1.2.0",
            "_model_name": "LayoutModel",
            "_view_count": null,
            "_view_module": "@jupyter-widgets/base",
            "_view_module_version": "1.2.0",
            "_view_name": "LayoutView",
            "align_content": null,
            "align_items": null,
            "align_self": null,
            "border": null,
            "bottom": null,
            "display": null,
            "flex": null,
            "flex_flow": null,
            "grid_area": null,
            "grid_auto_columns": null,
            "grid_auto_flow": null,
            "grid_auto_rows": null,
            "grid_column": null,
            "grid_gap": null,
            "grid_row": null,
            "grid_template_areas": null,
            "grid_template_columns": null,
            "grid_template_rows": null,
            "height": null,
            "justify_content": null,
            "justify_items": null,
            "left": null,
            "margin": null,
            "max_height": null,
            "max_width": null,
            "min_height": null,
            "min_width": null,
            "object_fit": null,
            "object_position": null,
            "order": null,
            "overflow": null,
            "overflow_x": null,
            "overflow_y": null,
            "padding": null,
            "right": null,
            "top": null,
            "visibility": null,
            "width": null
          }
        },
        "5518866ea21f46499b5c32d2509de867": {
          "model_module": "@jupyter-widgets/base",
          "model_name": "LayoutModel",
          "model_module_version": "1.2.0",
          "state": {
            "_model_module": "@jupyter-widgets/base",
            "_model_module_version": "1.2.0",
            "_model_name": "LayoutModel",
            "_view_count": null,
            "_view_module": "@jupyter-widgets/base",
            "_view_module_version": "1.2.0",
            "_view_name": "LayoutView",
            "align_content": null,
            "align_items": null,
            "align_self": null,
            "border": null,
            "bottom": null,
            "display": null,
            "flex": null,
            "flex_flow": null,
            "grid_area": null,
            "grid_auto_columns": null,
            "grid_auto_flow": null,
            "grid_auto_rows": null,
            "grid_column": null,
            "grid_gap": null,
            "grid_row": null,
            "grid_template_areas": null,
            "grid_template_columns": null,
            "grid_template_rows": null,
            "height": null,
            "justify_content": null,
            "justify_items": null,
            "left": null,
            "margin": null,
            "max_height": null,
            "max_width": null,
            "min_height": null,
            "min_width": null,
            "object_fit": null,
            "object_position": null,
            "order": null,
            "overflow": null,
            "overflow_x": null,
            "overflow_y": null,
            "padding": null,
            "right": null,
            "top": null,
            "visibility": null,
            "width": null
          }
        },
        "d021a67e85be4fc482136c0557392265": {
          "model_module": "@jupyter-widgets/controls",
          "model_name": "DescriptionStyleModel",
          "model_module_version": "1.5.0",
          "state": {
            "_model_module": "@jupyter-widgets/controls",
            "_model_module_version": "1.5.0",
            "_model_name": "DescriptionStyleModel",
            "_view_count": null,
            "_view_module": "@jupyter-widgets/base",
            "_view_module_version": "1.2.0",
            "_view_name": "StyleView",
            "description_width": ""
          }
        },
        "e4bf39fbf2544e59be2c4b8cbdcc9dc3": {
          "model_module": "@jupyter-widgets/base",
          "model_name": "LayoutModel",
          "model_module_version": "1.2.0",
          "state": {
            "_model_module": "@jupyter-widgets/base",
            "_model_module_version": "1.2.0",
            "_model_name": "LayoutModel",
            "_view_count": null,
            "_view_module": "@jupyter-widgets/base",
            "_view_module_version": "1.2.0",
            "_view_name": "LayoutView",
            "align_content": null,
            "align_items": null,
            "align_self": null,
            "border": null,
            "bottom": null,
            "display": null,
            "flex": null,
            "flex_flow": null,
            "grid_area": null,
            "grid_auto_columns": null,
            "grid_auto_flow": null,
            "grid_auto_rows": null,
            "grid_column": null,
            "grid_gap": null,
            "grid_row": null,
            "grid_template_areas": null,
            "grid_template_columns": null,
            "grid_template_rows": null,
            "height": null,
            "justify_content": null,
            "justify_items": null,
            "left": null,
            "margin": null,
            "max_height": null,
            "max_width": null,
            "min_height": null,
            "min_width": null,
            "object_fit": null,
            "object_position": null,
            "order": null,
            "overflow": null,
            "overflow_x": null,
            "overflow_y": null,
            "padding": null,
            "right": null,
            "top": null,
            "visibility": null,
            "width": null
          }
        },
        "213289be14b84c79add286e9ec06ba30": {
          "model_module": "@jupyter-widgets/controls",
          "model_name": "ProgressStyleModel",
          "model_module_version": "1.5.0",
          "state": {
            "_model_module": "@jupyter-widgets/controls",
            "_model_module_version": "1.5.0",
            "_model_name": "ProgressStyleModel",
            "_view_count": null,
            "_view_module": "@jupyter-widgets/base",
            "_view_module_version": "1.2.0",
            "_view_name": "StyleView",
            "bar_color": null,
            "description_width": ""
          }
        },
        "e3bbae9f0f1541ca8fe0bc48b34db883": {
          "model_module": "@jupyter-widgets/base",
          "model_name": "LayoutModel",
          "model_module_version": "1.2.0",
          "state": {
            "_model_module": "@jupyter-widgets/base",
            "_model_module_version": "1.2.0",
            "_model_name": "LayoutModel",
            "_view_count": null,
            "_view_module": "@jupyter-widgets/base",
            "_view_module_version": "1.2.0",
            "_view_name": "LayoutView",
            "align_content": null,
            "align_items": null,
            "align_self": null,
            "border": null,
            "bottom": null,
            "display": null,
            "flex": null,
            "flex_flow": null,
            "grid_area": null,
            "grid_auto_columns": null,
            "grid_auto_flow": null,
            "grid_auto_rows": null,
            "grid_column": null,
            "grid_gap": null,
            "grid_row": null,
            "grid_template_areas": null,
            "grid_template_columns": null,
            "grid_template_rows": null,
            "height": null,
            "justify_content": null,
            "justify_items": null,
            "left": null,
            "margin": null,
            "max_height": null,
            "max_width": null,
            "min_height": null,
            "min_width": null,
            "object_fit": null,
            "object_position": null,
            "order": null,
            "overflow": null,
            "overflow_x": null,
            "overflow_y": null,
            "padding": null,
            "right": null,
            "top": null,
            "visibility": null,
            "width": null
          }
        },
        "33302865eacd43488bc3dfa6e9e5ab76": {
          "model_module": "@jupyter-widgets/controls",
          "model_name": "DescriptionStyleModel",
          "model_module_version": "1.5.0",
          "state": {
            "_model_module": "@jupyter-widgets/controls",
            "_model_module_version": "1.5.0",
            "_model_name": "DescriptionStyleModel",
            "_view_count": null,
            "_view_module": "@jupyter-widgets/base",
            "_view_module_version": "1.2.0",
            "_view_name": "StyleView",
            "description_width": ""
          }
        },
        "67dd1f2d3b83424989c4db03afe208d7": {
          "model_module": "@jupyter-widgets/controls",
          "model_name": "HBoxModel",
          "model_module_version": "1.5.0",
          "state": {
            "_dom_classes": [],
            "_model_module": "@jupyter-widgets/controls",
            "_model_module_version": "1.5.0",
            "_model_name": "HBoxModel",
            "_view_count": null,
            "_view_module": "@jupyter-widgets/controls",
            "_view_module_version": "1.5.0",
            "_view_name": "HBoxView",
            "box_style": "",
            "children": [
              "IPY_MODEL_e35add166bb846f1bbe53adddd7a5a3d",
              "IPY_MODEL_680c580f2b324113945767715816fbd8",
              "IPY_MODEL_5a56dd583268411fbd8a4fb0af8a0eb6"
            ],
            "layout": "IPY_MODEL_8e3abde8af154ad9a8bf8d2699da630a"
          }
        },
        "e35add166bb846f1bbe53adddd7a5a3d": {
          "model_module": "@jupyter-widgets/controls",
          "model_name": "HTMLModel",
          "model_module_version": "1.5.0",
          "state": {
            "_dom_classes": [],
            "_model_module": "@jupyter-widgets/controls",
            "_model_module_version": "1.5.0",
            "_model_name": "HTMLModel",
            "_view_count": null,
            "_view_module": "@jupyter-widgets/controls",
            "_view_module_version": "1.5.0",
            "_view_name": "HTMLView",
            "description": "",
            "description_tooltip": null,
            "layout": "IPY_MODEL_4b32c5fe12e64c0b8d983a75c8eeed3a",
            "placeholder": "​",
            "style": "IPY_MODEL_d9b83b5cb16f47b680cb07f646d705e6",
            "value": "Downloading (…)solve/main/vocab.txt: 100%"
          }
        },
        "680c580f2b324113945767715816fbd8": {
          "model_module": "@jupyter-widgets/controls",
          "model_name": "FloatProgressModel",
          "model_module_version": "1.5.0",
          "state": {
            "_dom_classes": [],
            "_model_module": "@jupyter-widgets/controls",
            "_model_module_version": "1.5.0",
            "_model_name": "FloatProgressModel",
            "_view_count": null,
            "_view_module": "@jupyter-widgets/controls",
            "_view_module_version": "1.5.0",
            "_view_name": "ProgressView",
            "bar_style": "success",
            "description": "",
            "description_tooltip": null,
            "layout": "IPY_MODEL_c8fc2fe6a5e04194808558f38719994f",
            "max": 231508,
            "min": 0,
            "orientation": "horizontal",
            "style": "IPY_MODEL_a8ea69a1356f4871901e593e4f0b0526",
            "value": 231508
          }
        },
        "5a56dd583268411fbd8a4fb0af8a0eb6": {
          "model_module": "@jupyter-widgets/controls",
          "model_name": "HTMLModel",
          "model_module_version": "1.5.0",
          "state": {
            "_dom_classes": [],
            "_model_module": "@jupyter-widgets/controls",
            "_model_module_version": "1.5.0",
            "_model_name": "HTMLModel",
            "_view_count": null,
            "_view_module": "@jupyter-widgets/controls",
            "_view_module_version": "1.5.0",
            "_view_name": "HTMLView",
            "description": "",
            "description_tooltip": null,
            "layout": "IPY_MODEL_d5441395bfd8465e8b4b1df2a7714585",
            "placeholder": "​",
            "style": "IPY_MODEL_bb00678b71124c1ca6064fec5489d4ea",
            "value": " 232k/232k [00:00&lt;00:00, 3.12MB/s]"
          }
        },
        "8e3abde8af154ad9a8bf8d2699da630a": {
          "model_module": "@jupyter-widgets/base",
          "model_name": "LayoutModel",
          "model_module_version": "1.2.0",
          "state": {
            "_model_module": "@jupyter-widgets/base",
            "_model_module_version": "1.2.0",
            "_model_name": "LayoutModel",
            "_view_count": null,
            "_view_module": "@jupyter-widgets/base",
            "_view_module_version": "1.2.0",
            "_view_name": "LayoutView",
            "align_content": null,
            "align_items": null,
            "align_self": null,
            "border": null,
            "bottom": null,
            "display": null,
            "flex": null,
            "flex_flow": null,
            "grid_area": null,
            "grid_auto_columns": null,
            "grid_auto_flow": null,
            "grid_auto_rows": null,
            "grid_column": null,
            "grid_gap": null,
            "grid_row": null,
            "grid_template_areas": null,
            "grid_template_columns": null,
            "grid_template_rows": null,
            "height": null,
            "justify_content": null,
            "justify_items": null,
            "left": null,
            "margin": null,
            "max_height": null,
            "max_width": null,
            "min_height": null,
            "min_width": null,
            "object_fit": null,
            "object_position": null,
            "order": null,
            "overflow": null,
            "overflow_x": null,
            "overflow_y": null,
            "padding": null,
            "right": null,
            "top": null,
            "visibility": null,
            "width": null
          }
        },
        "4b32c5fe12e64c0b8d983a75c8eeed3a": {
          "model_module": "@jupyter-widgets/base",
          "model_name": "LayoutModel",
          "model_module_version": "1.2.0",
          "state": {
            "_model_module": "@jupyter-widgets/base",
            "_model_module_version": "1.2.0",
            "_model_name": "LayoutModel",
            "_view_count": null,
            "_view_module": "@jupyter-widgets/base",
            "_view_module_version": "1.2.0",
            "_view_name": "LayoutView",
            "align_content": null,
            "align_items": null,
            "align_self": null,
            "border": null,
            "bottom": null,
            "display": null,
            "flex": null,
            "flex_flow": null,
            "grid_area": null,
            "grid_auto_columns": null,
            "grid_auto_flow": null,
            "grid_auto_rows": null,
            "grid_column": null,
            "grid_gap": null,
            "grid_row": null,
            "grid_template_areas": null,
            "grid_template_columns": null,
            "grid_template_rows": null,
            "height": null,
            "justify_content": null,
            "justify_items": null,
            "left": null,
            "margin": null,
            "max_height": null,
            "max_width": null,
            "min_height": null,
            "min_width": null,
            "object_fit": null,
            "object_position": null,
            "order": null,
            "overflow": null,
            "overflow_x": null,
            "overflow_y": null,
            "padding": null,
            "right": null,
            "top": null,
            "visibility": null,
            "width": null
          }
        },
        "d9b83b5cb16f47b680cb07f646d705e6": {
          "model_module": "@jupyter-widgets/controls",
          "model_name": "DescriptionStyleModel",
          "model_module_version": "1.5.0",
          "state": {
            "_model_module": "@jupyter-widgets/controls",
            "_model_module_version": "1.5.0",
            "_model_name": "DescriptionStyleModel",
            "_view_count": null,
            "_view_module": "@jupyter-widgets/base",
            "_view_module_version": "1.2.0",
            "_view_name": "StyleView",
            "description_width": ""
          }
        },
        "c8fc2fe6a5e04194808558f38719994f": {
          "model_module": "@jupyter-widgets/base",
          "model_name": "LayoutModel",
          "model_module_version": "1.2.0",
          "state": {
            "_model_module": "@jupyter-widgets/base",
            "_model_module_version": "1.2.0",
            "_model_name": "LayoutModel",
            "_view_count": null,
            "_view_module": "@jupyter-widgets/base",
            "_view_module_version": "1.2.0",
            "_view_name": "LayoutView",
            "align_content": null,
            "align_items": null,
            "align_self": null,
            "border": null,
            "bottom": null,
            "display": null,
            "flex": null,
            "flex_flow": null,
            "grid_area": null,
            "grid_auto_columns": null,
            "grid_auto_flow": null,
            "grid_auto_rows": null,
            "grid_column": null,
            "grid_gap": null,
            "grid_row": null,
            "grid_template_areas": null,
            "grid_template_columns": null,
            "grid_template_rows": null,
            "height": null,
            "justify_content": null,
            "justify_items": null,
            "left": null,
            "margin": null,
            "max_height": null,
            "max_width": null,
            "min_height": null,
            "min_width": null,
            "object_fit": null,
            "object_position": null,
            "order": null,
            "overflow": null,
            "overflow_x": null,
            "overflow_y": null,
            "padding": null,
            "right": null,
            "top": null,
            "visibility": null,
            "width": null
          }
        },
        "a8ea69a1356f4871901e593e4f0b0526": {
          "model_module": "@jupyter-widgets/controls",
          "model_name": "ProgressStyleModel",
          "model_module_version": "1.5.0",
          "state": {
            "_model_module": "@jupyter-widgets/controls",
            "_model_module_version": "1.5.0",
            "_model_name": "ProgressStyleModel",
            "_view_count": null,
            "_view_module": "@jupyter-widgets/base",
            "_view_module_version": "1.2.0",
            "_view_name": "StyleView",
            "bar_color": null,
            "description_width": ""
          }
        },
        "d5441395bfd8465e8b4b1df2a7714585": {
          "model_module": "@jupyter-widgets/base",
          "model_name": "LayoutModel",
          "model_module_version": "1.2.0",
          "state": {
            "_model_module": "@jupyter-widgets/base",
            "_model_module_version": "1.2.0",
            "_model_name": "LayoutModel",
            "_view_count": null,
            "_view_module": "@jupyter-widgets/base",
            "_view_module_version": "1.2.0",
            "_view_name": "LayoutView",
            "align_content": null,
            "align_items": null,
            "align_self": null,
            "border": null,
            "bottom": null,
            "display": null,
            "flex": null,
            "flex_flow": null,
            "grid_area": null,
            "grid_auto_columns": null,
            "grid_auto_flow": null,
            "grid_auto_rows": null,
            "grid_column": null,
            "grid_gap": null,
            "grid_row": null,
            "grid_template_areas": null,
            "grid_template_columns": null,
            "grid_template_rows": null,
            "height": null,
            "justify_content": null,
            "justify_items": null,
            "left": null,
            "margin": null,
            "max_height": null,
            "max_width": null,
            "min_height": null,
            "min_width": null,
            "object_fit": null,
            "object_position": null,
            "order": null,
            "overflow": null,
            "overflow_x": null,
            "overflow_y": null,
            "padding": null,
            "right": null,
            "top": null,
            "visibility": null,
            "width": null
          }
        },
        "bb00678b71124c1ca6064fec5489d4ea": {
          "model_module": "@jupyter-widgets/controls",
          "model_name": "DescriptionStyleModel",
          "model_module_version": "1.5.0",
          "state": {
            "_model_module": "@jupyter-widgets/controls",
            "_model_module_version": "1.5.0",
            "_model_name": "DescriptionStyleModel",
            "_view_count": null,
            "_view_module": "@jupyter-widgets/base",
            "_view_module_version": "1.2.0",
            "_view_name": "StyleView",
            "description_width": ""
          }
        },
        "c635e9681a1345398d9112490e5fa6a2": {
          "model_module": "@jupyter-widgets/controls",
          "model_name": "HBoxModel",
          "model_module_version": "1.5.0",
          "state": {
            "_dom_classes": [],
            "_model_module": "@jupyter-widgets/controls",
            "_model_module_version": "1.5.0",
            "_model_name": "HBoxModel",
            "_view_count": null,
            "_view_module": "@jupyter-widgets/controls",
            "_view_module_version": "1.5.0",
            "_view_name": "HBoxView",
            "box_style": "",
            "children": [
              "IPY_MODEL_b17c217a63fb4cd49d1585e8ff777100",
              "IPY_MODEL_1226d5558c664595904bdd1a27e29de9",
              "IPY_MODEL_0b9e38070ecf42be8f3e50ee92bfad34"
            ],
            "layout": "IPY_MODEL_dbe1695bc84b40e49f1f94d497b5a450"
          }
        },
        "b17c217a63fb4cd49d1585e8ff777100": {
          "model_module": "@jupyter-widgets/controls",
          "model_name": "HTMLModel",
          "model_module_version": "1.5.0",
          "state": {
            "_dom_classes": [],
            "_model_module": "@jupyter-widgets/controls",
            "_model_module_version": "1.5.0",
            "_model_name": "HTMLModel",
            "_view_count": null,
            "_view_module": "@jupyter-widgets/controls",
            "_view_module_version": "1.5.0",
            "_view_name": "HTMLView",
            "description": "",
            "description_tooltip": null,
            "layout": "IPY_MODEL_75508f036d694521bf24ba123e8f3456",
            "placeholder": "​",
            "style": "IPY_MODEL_a1d3b116514c4a28b602fb932a73f234",
            "value": "Downloading (…)cial_tokens_map.json: 100%"
          }
        },
        "1226d5558c664595904bdd1a27e29de9": {
          "model_module": "@jupyter-widgets/controls",
          "model_name": "FloatProgressModel",
          "model_module_version": "1.5.0",
          "state": {
            "_dom_classes": [],
            "_model_module": "@jupyter-widgets/controls",
            "_model_module_version": "1.5.0",
            "_model_name": "FloatProgressModel",
            "_view_count": null,
            "_view_module": "@jupyter-widgets/controls",
            "_view_module_version": "1.5.0",
            "_view_name": "ProgressView",
            "bar_style": "success",
            "description": "",
            "description_tooltip": null,
            "layout": "IPY_MODEL_d7a023bc4528430f867379b903eaea13",
            "max": 112,
            "min": 0,
            "orientation": "horizontal",
            "style": "IPY_MODEL_b8036b58c7be4fe1878275870b5bbc71",
            "value": 112
          }
        },
        "0b9e38070ecf42be8f3e50ee92bfad34": {
          "model_module": "@jupyter-widgets/controls",
          "model_name": "HTMLModel",
          "model_module_version": "1.5.0",
          "state": {
            "_dom_classes": [],
            "_model_module": "@jupyter-widgets/controls",
            "_model_module_version": "1.5.0",
            "_model_name": "HTMLModel",
            "_view_count": null,
            "_view_module": "@jupyter-widgets/controls",
            "_view_module_version": "1.5.0",
            "_view_name": "HTMLView",
            "description": "",
            "description_tooltip": null,
            "layout": "IPY_MODEL_ea816853dff7464fa842c6c3dee75cf5",
            "placeholder": "​",
            "style": "IPY_MODEL_bfcfc63762b84ad0bdb912b41f6fa450",
            "value": " 112/112 [00:00&lt;00:00, 1.74kB/s]"
          }
        },
        "dbe1695bc84b40e49f1f94d497b5a450": {
          "model_module": "@jupyter-widgets/base",
          "model_name": "LayoutModel",
          "model_module_version": "1.2.0",
          "state": {
            "_model_module": "@jupyter-widgets/base",
            "_model_module_version": "1.2.0",
            "_model_name": "LayoutModel",
            "_view_count": null,
            "_view_module": "@jupyter-widgets/base",
            "_view_module_version": "1.2.0",
            "_view_name": "LayoutView",
            "align_content": null,
            "align_items": null,
            "align_self": null,
            "border": null,
            "bottom": null,
            "display": null,
            "flex": null,
            "flex_flow": null,
            "grid_area": null,
            "grid_auto_columns": null,
            "grid_auto_flow": null,
            "grid_auto_rows": null,
            "grid_column": null,
            "grid_gap": null,
            "grid_row": null,
            "grid_template_areas": null,
            "grid_template_columns": null,
            "grid_template_rows": null,
            "height": null,
            "justify_content": null,
            "justify_items": null,
            "left": null,
            "margin": null,
            "max_height": null,
            "max_width": null,
            "min_height": null,
            "min_width": null,
            "object_fit": null,
            "object_position": null,
            "order": null,
            "overflow": null,
            "overflow_x": null,
            "overflow_y": null,
            "padding": null,
            "right": null,
            "top": null,
            "visibility": null,
            "width": null
          }
        },
        "75508f036d694521bf24ba123e8f3456": {
          "model_module": "@jupyter-widgets/base",
          "model_name": "LayoutModel",
          "model_module_version": "1.2.0",
          "state": {
            "_model_module": "@jupyter-widgets/base",
            "_model_module_version": "1.2.0",
            "_model_name": "LayoutModel",
            "_view_count": null,
            "_view_module": "@jupyter-widgets/base",
            "_view_module_version": "1.2.0",
            "_view_name": "LayoutView",
            "align_content": null,
            "align_items": null,
            "align_self": null,
            "border": null,
            "bottom": null,
            "display": null,
            "flex": null,
            "flex_flow": null,
            "grid_area": null,
            "grid_auto_columns": null,
            "grid_auto_flow": null,
            "grid_auto_rows": null,
            "grid_column": null,
            "grid_gap": null,
            "grid_row": null,
            "grid_template_areas": null,
            "grid_template_columns": null,
            "grid_template_rows": null,
            "height": null,
            "justify_content": null,
            "justify_items": null,
            "left": null,
            "margin": null,
            "max_height": null,
            "max_width": null,
            "min_height": null,
            "min_width": null,
            "object_fit": null,
            "object_position": null,
            "order": null,
            "overflow": null,
            "overflow_x": null,
            "overflow_y": null,
            "padding": null,
            "right": null,
            "top": null,
            "visibility": null,
            "width": null
          }
        },
        "a1d3b116514c4a28b602fb932a73f234": {
          "model_module": "@jupyter-widgets/controls",
          "model_name": "DescriptionStyleModel",
          "model_module_version": "1.5.0",
          "state": {
            "_model_module": "@jupyter-widgets/controls",
            "_model_module_version": "1.5.0",
            "_model_name": "DescriptionStyleModel",
            "_view_count": null,
            "_view_module": "@jupyter-widgets/base",
            "_view_module_version": "1.2.0",
            "_view_name": "StyleView",
            "description_width": ""
          }
        },
        "d7a023bc4528430f867379b903eaea13": {
          "model_module": "@jupyter-widgets/base",
          "model_name": "LayoutModel",
          "model_module_version": "1.2.0",
          "state": {
            "_model_module": "@jupyter-widgets/base",
            "_model_module_version": "1.2.0",
            "_model_name": "LayoutModel",
            "_view_count": null,
            "_view_module": "@jupyter-widgets/base",
            "_view_module_version": "1.2.0",
            "_view_name": "LayoutView",
            "align_content": null,
            "align_items": null,
            "align_self": null,
            "border": null,
            "bottom": null,
            "display": null,
            "flex": null,
            "flex_flow": null,
            "grid_area": null,
            "grid_auto_columns": null,
            "grid_auto_flow": null,
            "grid_auto_rows": null,
            "grid_column": null,
            "grid_gap": null,
            "grid_row": null,
            "grid_template_areas": null,
            "grid_template_columns": null,
            "grid_template_rows": null,
            "height": null,
            "justify_content": null,
            "justify_items": null,
            "left": null,
            "margin": null,
            "max_height": null,
            "max_width": null,
            "min_height": null,
            "min_width": null,
            "object_fit": null,
            "object_position": null,
            "order": null,
            "overflow": null,
            "overflow_x": null,
            "overflow_y": null,
            "padding": null,
            "right": null,
            "top": null,
            "visibility": null,
            "width": null
          }
        },
        "b8036b58c7be4fe1878275870b5bbc71": {
          "model_module": "@jupyter-widgets/controls",
          "model_name": "ProgressStyleModel",
          "model_module_version": "1.5.0",
          "state": {
            "_model_module": "@jupyter-widgets/controls",
            "_model_module_version": "1.5.0",
            "_model_name": "ProgressStyleModel",
            "_view_count": null,
            "_view_module": "@jupyter-widgets/base",
            "_view_module_version": "1.2.0",
            "_view_name": "StyleView",
            "bar_color": null,
            "description_width": ""
          }
        },
        "ea816853dff7464fa842c6c3dee75cf5": {
          "model_module": "@jupyter-widgets/base",
          "model_name": "LayoutModel",
          "model_module_version": "1.2.0",
          "state": {
            "_model_module": "@jupyter-widgets/base",
            "_model_module_version": "1.2.0",
            "_model_name": "LayoutModel",
            "_view_count": null,
            "_view_module": "@jupyter-widgets/base",
            "_view_module_version": "1.2.0",
            "_view_name": "LayoutView",
            "align_content": null,
            "align_items": null,
            "align_self": null,
            "border": null,
            "bottom": null,
            "display": null,
            "flex": null,
            "flex_flow": null,
            "grid_area": null,
            "grid_auto_columns": null,
            "grid_auto_flow": null,
            "grid_auto_rows": null,
            "grid_column": null,
            "grid_gap": null,
            "grid_row": null,
            "grid_template_areas": null,
            "grid_template_columns": null,
            "grid_template_rows": null,
            "height": null,
            "justify_content": null,
            "justify_items": null,
            "left": null,
            "margin": null,
            "max_height": null,
            "max_width": null,
            "min_height": null,
            "min_width": null,
            "object_fit": null,
            "object_position": null,
            "order": null,
            "overflow": null,
            "overflow_x": null,
            "overflow_y": null,
            "padding": null,
            "right": null,
            "top": null,
            "visibility": null,
            "width": null
          }
        },
        "bfcfc63762b84ad0bdb912b41f6fa450": {
          "model_module": "@jupyter-widgets/controls",
          "model_name": "DescriptionStyleModel",
          "model_module_version": "1.5.0",
          "state": {
            "_model_module": "@jupyter-widgets/controls",
            "_model_module_version": "1.5.0",
            "_model_name": "DescriptionStyleModel",
            "_view_count": null,
            "_view_module": "@jupyter-widgets/base",
            "_view_module_version": "1.2.0",
            "_view_name": "StyleView",
            "description_width": ""
          }
        },
        "1b37046344a24ac3ab59e2e1561b2d01": {
          "model_module": "@jupyter-widgets/controls",
          "model_name": "HBoxModel",
          "model_module_version": "1.5.0",
          "state": {
            "_dom_classes": [],
            "_model_module": "@jupyter-widgets/controls",
            "_model_module_version": "1.5.0",
            "_model_name": "HBoxModel",
            "_view_count": null,
            "_view_module": "@jupyter-widgets/controls",
            "_view_module_version": "1.5.0",
            "_view_name": "HBoxView",
            "box_style": "",
            "children": [
              "IPY_MODEL_c95b01fe8f3d470aab4454ebace2efc2",
              "IPY_MODEL_84635c25d4444ad1bb23d4ba56fa19ef",
              "IPY_MODEL_447346614f27457da8369ad8bffbdbcc"
            ],
            "layout": "IPY_MODEL_ef2e2a5da013460b970d8f6eab35d2a9"
          }
        },
        "c95b01fe8f3d470aab4454ebace2efc2": {
          "model_module": "@jupyter-widgets/controls",
          "model_name": "HTMLModel",
          "model_module_version": "1.5.0",
          "state": {
            "_dom_classes": [],
            "_model_module": "@jupyter-widgets/controls",
            "_model_module_version": "1.5.0",
            "_model_name": "HTMLModel",
            "_view_count": null,
            "_view_module": "@jupyter-widgets/controls",
            "_view_module_version": "1.5.0",
            "_view_name": "HTMLView",
            "description": "",
            "description_tooltip": null,
            "layout": "IPY_MODEL_abd06d8a1f6045e1a5fde39f90da8a0e",
            "placeholder": "​",
            "style": "IPY_MODEL_0bab7066ee8447a4b8f16342dc532c8b",
            "value": "Extraindo vetores dos documentos trec-covid: 100%"
          }
        },
        "84635c25d4444ad1bb23d4ba56fa19ef": {
          "model_module": "@jupyter-widgets/controls",
          "model_name": "FloatProgressModel",
          "model_module_version": "1.5.0",
          "state": {
            "_dom_classes": [],
            "_model_module": "@jupyter-widgets/controls",
            "_model_module_version": "1.5.0",
            "_model_name": "FloatProgressModel",
            "_view_count": null,
            "_view_module": "@jupyter-widgets/controls",
            "_view_module_version": "1.5.0",
            "_view_name": "ProgressView",
            "bar_style": "success",
            "description": "",
            "description_tooltip": null,
            "layout": "IPY_MODEL_bdc4aff0f3f649b992afc564135b7d82",
            "max": 5355,
            "min": 0,
            "orientation": "horizontal",
            "style": "IPY_MODEL_7c2169b634854fcd8c1ee72ccc6ad6ca",
            "value": 5355
          }
        },
        "447346614f27457da8369ad8bffbdbcc": {
          "model_module": "@jupyter-widgets/controls",
          "model_name": "HTMLModel",
          "model_module_version": "1.5.0",
          "state": {
            "_dom_classes": [],
            "_model_module": "@jupyter-widgets/controls",
            "_model_module_version": "1.5.0",
            "_model_name": "HTMLModel",
            "_view_count": null,
            "_view_module": "@jupyter-widgets/controls",
            "_view_module_version": "1.5.0",
            "_view_name": "HTMLView",
            "description": "",
            "description_tooltip": null,
            "layout": "IPY_MODEL_6f97317271d54c66a84e69cc975c15d5",
            "placeholder": "​",
            "style": "IPY_MODEL_037d6bf0f81f4cd1a9dc44875441dc2b",
            "value": " 5355/5355 [16:30&lt;00:00,  4.35it/s]"
          }
        },
        "ef2e2a5da013460b970d8f6eab35d2a9": {
          "model_module": "@jupyter-widgets/base",
          "model_name": "LayoutModel",
          "model_module_version": "1.2.0",
          "state": {
            "_model_module": "@jupyter-widgets/base",
            "_model_module_version": "1.2.0",
            "_model_name": "LayoutModel",
            "_view_count": null,
            "_view_module": "@jupyter-widgets/base",
            "_view_module_version": "1.2.0",
            "_view_name": "LayoutView",
            "align_content": null,
            "align_items": null,
            "align_self": null,
            "border": null,
            "bottom": null,
            "display": null,
            "flex": null,
            "flex_flow": null,
            "grid_area": null,
            "grid_auto_columns": null,
            "grid_auto_flow": null,
            "grid_auto_rows": null,
            "grid_column": null,
            "grid_gap": null,
            "grid_row": null,
            "grid_template_areas": null,
            "grid_template_columns": null,
            "grid_template_rows": null,
            "height": null,
            "justify_content": null,
            "justify_items": null,
            "left": null,
            "margin": null,
            "max_height": null,
            "max_width": null,
            "min_height": null,
            "min_width": null,
            "object_fit": null,
            "object_position": null,
            "order": null,
            "overflow": null,
            "overflow_x": null,
            "overflow_y": null,
            "padding": null,
            "right": null,
            "top": null,
            "visibility": null,
            "width": null
          }
        },
        "abd06d8a1f6045e1a5fde39f90da8a0e": {
          "model_module": "@jupyter-widgets/base",
          "model_name": "LayoutModel",
          "model_module_version": "1.2.0",
          "state": {
            "_model_module": "@jupyter-widgets/base",
            "_model_module_version": "1.2.0",
            "_model_name": "LayoutModel",
            "_view_count": null,
            "_view_module": "@jupyter-widgets/base",
            "_view_module_version": "1.2.0",
            "_view_name": "LayoutView",
            "align_content": null,
            "align_items": null,
            "align_self": null,
            "border": null,
            "bottom": null,
            "display": null,
            "flex": null,
            "flex_flow": null,
            "grid_area": null,
            "grid_auto_columns": null,
            "grid_auto_flow": null,
            "grid_auto_rows": null,
            "grid_column": null,
            "grid_gap": null,
            "grid_row": null,
            "grid_template_areas": null,
            "grid_template_columns": null,
            "grid_template_rows": null,
            "height": null,
            "justify_content": null,
            "justify_items": null,
            "left": null,
            "margin": null,
            "max_height": null,
            "max_width": null,
            "min_height": null,
            "min_width": null,
            "object_fit": null,
            "object_position": null,
            "order": null,
            "overflow": null,
            "overflow_x": null,
            "overflow_y": null,
            "padding": null,
            "right": null,
            "top": null,
            "visibility": null,
            "width": null
          }
        },
        "0bab7066ee8447a4b8f16342dc532c8b": {
          "model_module": "@jupyter-widgets/controls",
          "model_name": "DescriptionStyleModel",
          "model_module_version": "1.5.0",
          "state": {
            "_model_module": "@jupyter-widgets/controls",
            "_model_module_version": "1.5.0",
            "_model_name": "DescriptionStyleModel",
            "_view_count": null,
            "_view_module": "@jupyter-widgets/base",
            "_view_module_version": "1.2.0",
            "_view_name": "StyleView",
            "description_width": ""
          }
        },
        "bdc4aff0f3f649b992afc564135b7d82": {
          "model_module": "@jupyter-widgets/base",
          "model_name": "LayoutModel",
          "model_module_version": "1.2.0",
          "state": {
            "_model_module": "@jupyter-widgets/base",
            "_model_module_version": "1.2.0",
            "_model_name": "LayoutModel",
            "_view_count": null,
            "_view_module": "@jupyter-widgets/base",
            "_view_module_version": "1.2.0",
            "_view_name": "LayoutView",
            "align_content": null,
            "align_items": null,
            "align_self": null,
            "border": null,
            "bottom": null,
            "display": null,
            "flex": null,
            "flex_flow": null,
            "grid_area": null,
            "grid_auto_columns": null,
            "grid_auto_flow": null,
            "grid_auto_rows": null,
            "grid_column": null,
            "grid_gap": null,
            "grid_row": null,
            "grid_template_areas": null,
            "grid_template_columns": null,
            "grid_template_rows": null,
            "height": null,
            "justify_content": null,
            "justify_items": null,
            "left": null,
            "margin": null,
            "max_height": null,
            "max_width": null,
            "min_height": null,
            "min_width": null,
            "object_fit": null,
            "object_position": null,
            "order": null,
            "overflow": null,
            "overflow_x": null,
            "overflow_y": null,
            "padding": null,
            "right": null,
            "top": null,
            "visibility": null,
            "width": null
          }
        },
        "7c2169b634854fcd8c1ee72ccc6ad6ca": {
          "model_module": "@jupyter-widgets/controls",
          "model_name": "ProgressStyleModel",
          "model_module_version": "1.5.0",
          "state": {
            "_model_module": "@jupyter-widgets/controls",
            "_model_module_version": "1.5.0",
            "_model_name": "ProgressStyleModel",
            "_view_count": null,
            "_view_module": "@jupyter-widgets/base",
            "_view_module_version": "1.2.0",
            "_view_name": "StyleView",
            "bar_color": null,
            "description_width": ""
          }
        },
        "6f97317271d54c66a84e69cc975c15d5": {
          "model_module": "@jupyter-widgets/base",
          "model_name": "LayoutModel",
          "model_module_version": "1.2.0",
          "state": {
            "_model_module": "@jupyter-widgets/base",
            "_model_module_version": "1.2.0",
            "_model_name": "LayoutModel",
            "_view_count": null,
            "_view_module": "@jupyter-widgets/base",
            "_view_module_version": "1.2.0",
            "_view_name": "LayoutView",
            "align_content": null,
            "align_items": null,
            "align_self": null,
            "border": null,
            "bottom": null,
            "display": null,
            "flex": null,
            "flex_flow": null,
            "grid_area": null,
            "grid_auto_columns": null,
            "grid_auto_flow": null,
            "grid_auto_rows": null,
            "grid_column": null,
            "grid_gap": null,
            "grid_row": null,
            "grid_template_areas": null,
            "grid_template_columns": null,
            "grid_template_rows": null,
            "height": null,
            "justify_content": null,
            "justify_items": null,
            "left": null,
            "margin": null,
            "max_height": null,
            "max_width": null,
            "min_height": null,
            "min_width": null,
            "object_fit": null,
            "object_position": null,
            "order": null,
            "overflow": null,
            "overflow_x": null,
            "overflow_y": null,
            "padding": null,
            "right": null,
            "top": null,
            "visibility": null,
            "width": null
          }
        },
        "037d6bf0f81f4cd1a9dc44875441dc2b": {
          "model_module": "@jupyter-widgets/controls",
          "model_name": "DescriptionStyleModel",
          "model_module_version": "1.5.0",
          "state": {
            "_model_module": "@jupyter-widgets/controls",
            "_model_module_version": "1.5.0",
            "_model_name": "DescriptionStyleModel",
            "_view_count": null,
            "_view_module": "@jupyter-widgets/base",
            "_view_module_version": "1.2.0",
            "_view_name": "StyleView",
            "description_width": ""
          }
        }
      }
    }
  },
  "cells": [
    {
      "cell_type": "markdown",
      "metadata": {
        "id": "view-in-github",
        "colab_type": "text"
      },
      "source": [
        "<a href=\"https://colab.research.google.com/github/leonardo3108/IA368dd/blob/main/exercicios/Aula_7/Aula_7_DPR_Evaluation.ipynb\" target=\"_parent\"><img src=\"https://colab.research.google.com/assets/colab-badge.svg\" alt=\"Open In Colab\"/></a>"
      ]
    },
    {
      "cell_type": "code",
      "source": [
        "nome = 'Leonardo Augusto da Silva Pacheco'\n",
        "print(f'Meu nome é {nome}')"
      ],
      "metadata": {
        "colab": {
          "base_uri": "https://localhost:8080/"
        },
        "id": "o_9sUnlpHZfe",
        "outputId": "e22da978-3395-4613-aa3f-0e6c0ebe9720"
      },
      "execution_count": 1,
      "outputs": [
        {
          "output_type": "stream",
          "name": "stdout",
          "text": [
            "Meu nome é Leonardo Augusto da Silva Pacheco\n"
          ]
        }
      ]
    },
    {
      "cell_type": "markdown",
      "source": [
        "# Enunciado - Fazer finetuning de um buscador denso\n",
        "\n",
        "Usar como treino o dataset \"tiny\" do MS MARCO\n",
        "https://storage.googleapis.com/unicamp-dl/ia368dd_2023s1/msmarco/msmarco_triples.train.tiny.tsv\n",
        "\n",
        "Avaliar o modelo no TREC-COVID, e comparar os resultados com o BM25 e doc2query\n",
        "\n",
        "Comparar busca \"exaustiva\" (semelhança do vetor query com todos os vetores do corpus) com a busca aproximada (Approximate Nearest Neighbor - ANN)\n",
        "\n",
        "Para a busca aproximada, usar os algoritmos existentes na biblioteca sentence-transformers (ex: hnswlib) OU implemente um você mesmo (Bonus!)\n",
        "\n",
        "Dicas:\n",
        "\n",
        "- Usar a média dos vetores da última camada (conhecido como mean pooling) do transformer para representar queries e passagens; Alternativamente, usar apenas o vetor do [CLS] da última cada.\n",
        "\n",
        "- Tente inicialmente uma loss facil de implementar, como a entropia-cruzada\n",
        "\n",
        "- Começar o treino a partir do microsoft/MiniLM-L12-H384-uncased\n",
        "\n",
        "- Avaliar o pipeline usando um modelo já bem treinado: sentence-transformers/all-mpnet-base-v2\n",
        "\n",
        "- Comparar resultados usando semelhança de coseno e produto escalar como funções de similaridade\n",
        "\n",
        "- Para checar se seu codigo de avaliação está correto, comparar o seu desempenho com o do modelo já treinado no MS MARCO: https://huggingface.co/sentence-transformers/all-MiniLM-L12-v2; O nDCG@10 no TREC-COVID deve ser ~0.47\n",
        "\n",
        "- Usar a biblioteca do sentence-transformers para avaliar o modelo\n"
      ],
      "metadata": {
        "id": "JkrYvClPGEqW"
      }
    },
    {
      "cell_type": "markdown",
      "source": [
        "# Setup"
      ],
      "metadata": {
        "id": "ybOUq344g2EJ"
      }
    },
    {
      "cell_type": "markdown",
      "source": [
        "## Integração com Google Drive"
      ],
      "metadata": {
        "id": "Vpw6oWOcoSa3"
      }
    },
    {
      "cell_type": "code",
      "source": [
        "from google.colab import drive\n",
        "drive.mount('/content/drive')"
      ],
      "metadata": {
        "colab": {
          "base_uri": "https://localhost:8080/"
        },
        "id": "UAuAyiFroUMQ",
        "outputId": "cb48dc86-d3d7-4c2f-e316-46b0c65c7a6d"
      },
      "execution_count": 2,
      "outputs": [
        {
          "output_type": "stream",
          "name": "stdout",
          "text": [
            "Mounted at /content/drive\n"
          ]
        }
      ]
    },
    {
      "cell_type": "markdown",
      "source": [
        "## Hiperparâmetros"
      ],
      "metadata": {
        "id": "Rztl-0zwkAOo"
      }
    },
    {
      "cell_type": "code",
      "source": [
        "max_length = 256\n",
        "batch_size = 32\n",
        "tokenizer_name = \"microsoft/MiniLM-L12-H384-uncased\""
      ],
      "metadata": {
        "id": "1wYDOVsZKuHu"
      },
      "execution_count": 3,
      "outputs": []
    },
    {
      "cell_type": "markdown",
      "source": [
        "## Cópia local dos modelos"
      ],
      "metadata": {
        "id": "V_-U9TtAM3Ie"
      }
    },
    {
      "cell_type": "code",
      "source": [
        "!mkdir 'model_dir'\n",
        "!mkdir 'model_dir/passages'\n",
        "!mkdir 'model_dir/queries'\n",
        "\n",
        "!cp /content/drive/MyDrive/temp/passages/* model_dir/passages/\n",
        "!cp /content/drive/MyDrive/temp/queries/*  model_dir/queries/"
      ],
      "metadata": {
        "id": "lPC58I4lLUiW"
      },
      "execution_count": 4,
      "outputs": []
    },
    {
      "cell_type": "markdown",
      "source": [
        "## Instalação de libs"
      ],
      "metadata": {
        "id": "d9CAZIdOkCgb"
      }
    },
    {
      "cell_type": "code",
      "source": [
        "!pip install transformers\n",
        "!pip install datasets\n",
        "!pip install pyserini\n",
        "!pip install faiss-gpu\n",
        "!pip install sentence-transformers"
      ],
      "metadata": {
        "colab": {
          "base_uri": "https://localhost:8080/"
        },
        "id": "KX4NY7WSGC1Z",
        "outputId": "f4056a62-d408-4cae-8f93-333a372104b7"
      },
      "execution_count": 5,
      "outputs": [
        {
          "output_type": "stream",
          "name": "stdout",
          "text": [
            "Looking in indexes: https://pypi.org/simple, https://us-python.pkg.dev/colab-wheels/public/simple/\n",
            "Collecting transformers\n",
            "  Downloading transformers-4.28.1-py3-none-any.whl (7.0 MB)\n",
            "\u001b[2K     \u001b[90m━━━━━━━━━━━━━━━━━━━━━━━━━━━━━━━━━━━━━━━━\u001b[0m \u001b[32m7.0/7.0 MB\u001b[0m \u001b[31m47.0 MB/s\u001b[0m eta \u001b[36m0:00:00\u001b[0m\n",
            "\u001b[?25hRequirement already satisfied: filelock in /usr/local/lib/python3.9/dist-packages (from transformers) (3.11.0)\n",
            "Requirement already satisfied: tqdm>=4.27 in /usr/local/lib/python3.9/dist-packages (from transformers) (4.65.0)\n",
            "Requirement already satisfied: numpy>=1.17 in /usr/local/lib/python3.9/dist-packages (from transformers) (1.22.4)\n",
            "Requirement already satisfied: packaging>=20.0 in /usr/local/lib/python3.9/dist-packages (from transformers) (23.1)\n",
            "Requirement already satisfied: regex!=2019.12.17 in /usr/local/lib/python3.9/dist-packages (from transformers) (2022.10.31)\n",
            "Requirement already satisfied: requests in /usr/local/lib/python3.9/dist-packages (from transformers) (2.27.1)\n",
            "Requirement already satisfied: pyyaml>=5.1 in /usr/local/lib/python3.9/dist-packages (from transformers) (6.0)\n",
            "Collecting huggingface-hub<1.0,>=0.11.0\n",
            "  Downloading huggingface_hub-0.13.4-py3-none-any.whl (200 kB)\n",
            "\u001b[2K     \u001b[90m━━━━━━━━━━━━━━━━━━━━━━━━━━━━━━━━━━━━━━\u001b[0m \u001b[32m200.1/200.1 kB\u001b[0m \u001b[31m27.7 MB/s\u001b[0m eta \u001b[36m0:00:00\u001b[0m\n",
            "\u001b[?25hCollecting tokenizers!=0.11.3,<0.14,>=0.11.1\n",
            "  Downloading tokenizers-0.13.3-cp39-cp39-manylinux_2_17_x86_64.manylinux2014_x86_64.whl (7.8 MB)\n",
            "\u001b[2K     \u001b[90m━━━━━━━━━━━━━━━━━━━━━━━━━━━━━━━━━━━━━━━━\u001b[0m \u001b[32m7.8/7.8 MB\u001b[0m \u001b[31m105.6 MB/s\u001b[0m eta \u001b[36m0:00:00\u001b[0m\n",
            "\u001b[?25hRequirement already satisfied: typing-extensions>=3.7.4.3 in /usr/local/lib/python3.9/dist-packages (from huggingface-hub<1.0,>=0.11.0->transformers) (4.5.0)\n",
            "Requirement already satisfied: charset-normalizer~=2.0.0 in /usr/local/lib/python3.9/dist-packages (from requests->transformers) (2.0.12)\n",
            "Requirement already satisfied: certifi>=2017.4.17 in /usr/local/lib/python3.9/dist-packages (from requests->transformers) (2022.12.7)\n",
            "Requirement already satisfied: urllib3<1.27,>=1.21.1 in /usr/local/lib/python3.9/dist-packages (from requests->transformers) (1.26.15)\n",
            "Requirement already satisfied: idna<4,>=2.5 in /usr/local/lib/python3.9/dist-packages (from requests->transformers) (3.4)\n",
            "Installing collected packages: tokenizers, huggingface-hub, transformers\n",
            "Successfully installed huggingface-hub-0.13.4 tokenizers-0.13.3 transformers-4.28.1\n",
            "Looking in indexes: https://pypi.org/simple, https://us-python.pkg.dev/colab-wheels/public/simple/\n",
            "Collecting datasets\n",
            "  Downloading datasets-2.11.0-py3-none-any.whl (468 kB)\n",
            "\u001b[2K     \u001b[90m━━━━━━━━━━━━━━━━━━━━━━━━━━━━━━━━━━━━━━\u001b[0m \u001b[32m468.7/468.7 kB\u001b[0m \u001b[31m31.2 MB/s\u001b[0m eta \u001b[36m0:00:00\u001b[0m\n",
            "\u001b[?25hRequirement already satisfied: pandas in /usr/local/lib/python3.9/dist-packages (from datasets) (1.5.3)\n",
            "Requirement already satisfied: packaging in /usr/local/lib/python3.9/dist-packages (from datasets) (23.1)\n",
            "Collecting aiohttp\n",
            "  Downloading aiohttp-3.8.4-cp39-cp39-manylinux_2_17_x86_64.manylinux2014_x86_64.whl (1.0 MB)\n",
            "\u001b[2K     \u001b[90m━━━━━━━━━━━━━━━━━━━━━━━━━━━━━━━━━━━━━━━━\u001b[0m \u001b[32m1.0/1.0 MB\u001b[0m \u001b[31m47.8 MB/s\u001b[0m eta \u001b[36m0:00:00\u001b[0m\n",
            "\u001b[?25hRequirement already satisfied: tqdm>=4.62.1 in /usr/local/lib/python3.9/dist-packages (from datasets) (4.65.0)\n",
            "Requirement already satisfied: pyarrow>=8.0.0 in /usr/local/lib/python3.9/dist-packages (from datasets) (9.0.0)\n",
            "Requirement already satisfied: pyyaml>=5.1 in /usr/local/lib/python3.9/dist-packages (from datasets) (6.0)\n",
            "Collecting xxhash\n",
            "  Downloading xxhash-3.2.0-cp39-cp39-manylinux_2_17_x86_64.manylinux2014_x86_64.whl (212 kB)\n",
            "\u001b[2K     \u001b[90m━━━━━━━━━━━━━━━━━━━━━━━━━━━━━━━━━━━━━━\u001b[0m \u001b[32m212.2/212.2 kB\u001b[0m \u001b[31m20.7 MB/s\u001b[0m eta \u001b[36m0:00:00\u001b[0m\n",
            "\u001b[?25hRequirement already satisfied: huggingface-hub<1.0.0,>=0.11.0 in /usr/local/lib/python3.9/dist-packages (from datasets) (0.13.4)\n",
            "Requirement already satisfied: numpy>=1.17 in /usr/local/lib/python3.9/dist-packages (from datasets) (1.22.4)\n",
            "Collecting responses<0.19\n",
            "  Downloading responses-0.18.0-py3-none-any.whl (38 kB)\n",
            "Requirement already satisfied: fsspec[http]>=2021.11.1 in /usr/local/lib/python3.9/dist-packages (from datasets) (2023.4.0)\n",
            "Collecting multiprocess\n",
            "  Downloading multiprocess-0.70.14-py39-none-any.whl (132 kB)\n",
            "\u001b[2K     \u001b[90m━━━━━━━━━━━━━━━━━━━━━━━━━━━━━━━━━━━━━━\u001b[0m \u001b[32m132.9/132.9 kB\u001b[0m \u001b[31m20.1 MB/s\u001b[0m eta \u001b[36m0:00:00\u001b[0m\n",
            "\u001b[?25hRequirement already satisfied: requests>=2.19.0 in /usr/local/lib/python3.9/dist-packages (from datasets) (2.27.1)\n",
            "Collecting dill<0.3.7,>=0.3.0\n",
            "  Downloading dill-0.3.6-py3-none-any.whl (110 kB)\n",
            "\u001b[2K     \u001b[90m━━━━━━━━━━━━━━━━━━━━━━━━━━━━━━━━━━━━━━\u001b[0m \u001b[32m110.5/110.5 kB\u001b[0m \u001b[31m15.8 MB/s\u001b[0m eta \u001b[36m0:00:00\u001b[0m\n",
            "\u001b[?25hCollecting aiosignal>=1.1.2\n",
            "  Downloading aiosignal-1.3.1-py3-none-any.whl (7.6 kB)\n",
            "Collecting frozenlist>=1.1.1\n",
            "  Downloading frozenlist-1.3.3-cp39-cp39-manylinux_2_5_x86_64.manylinux1_x86_64.manylinux_2_17_x86_64.manylinux2014_x86_64.whl (158 kB)\n",
            "\u001b[2K     \u001b[90m━━━━━━━━━━━━━━━━━━━━━━━━━━━━━━━━━━━━━━\u001b[0m \u001b[32m158.8/158.8 kB\u001b[0m \u001b[31m19.6 MB/s\u001b[0m eta \u001b[36m0:00:00\u001b[0m\n",
            "\u001b[?25hCollecting multidict<7.0,>=4.5\n",
            "  Downloading multidict-6.0.4-cp39-cp39-manylinux_2_17_x86_64.manylinux2014_x86_64.whl (114 kB)\n",
            "\u001b[2K     \u001b[90m━━━━━━━━━━━━━━━━━━━━━━━━━━━━━━━━━━━━━━\u001b[0m \u001b[32m114.2/114.2 kB\u001b[0m \u001b[31m11.2 MB/s\u001b[0m eta \u001b[36m0:00:00\u001b[0m\n",
            "\u001b[?25hRequirement already satisfied: charset-normalizer<4.0,>=2.0 in /usr/local/lib/python3.9/dist-packages (from aiohttp->datasets) (2.0.12)\n",
            "Collecting yarl<2.0,>=1.0\n",
            "  Downloading yarl-1.8.2-cp39-cp39-manylinux_2_17_x86_64.manylinux2014_x86_64.whl (264 kB)\n",
            "\u001b[2K     \u001b[90m━━━━━━━━━━━━━━━━━━━━━━━━━━━━━━━━━━━━━━\u001b[0m \u001b[32m264.6/264.6 kB\u001b[0m \u001b[31m25.9 MB/s\u001b[0m eta \u001b[36m0:00:00\u001b[0m\n",
            "\u001b[?25hRequirement already satisfied: attrs>=17.3.0 in /usr/local/lib/python3.9/dist-packages (from aiohttp->datasets) (23.1.0)\n",
            "Collecting async-timeout<5.0,>=4.0.0a3\n",
            "  Downloading async_timeout-4.0.2-py3-none-any.whl (5.8 kB)\n",
            "Requirement already satisfied: typing-extensions>=3.7.4.3 in /usr/local/lib/python3.9/dist-packages (from huggingface-hub<1.0.0,>=0.11.0->datasets) (4.5.0)\n",
            "Requirement already satisfied: filelock in /usr/local/lib/python3.9/dist-packages (from huggingface-hub<1.0.0,>=0.11.0->datasets) (3.11.0)\n",
            "Requirement already satisfied: certifi>=2017.4.17 in /usr/local/lib/python3.9/dist-packages (from requests>=2.19.0->datasets) (2022.12.7)\n",
            "Requirement already satisfied: urllib3<1.27,>=1.21.1 in /usr/local/lib/python3.9/dist-packages (from requests>=2.19.0->datasets) (1.26.15)\n",
            "Requirement already satisfied: idna<4,>=2.5 in /usr/local/lib/python3.9/dist-packages (from requests>=2.19.0->datasets) (3.4)\n",
            "Requirement already satisfied: pytz>=2020.1 in /usr/local/lib/python3.9/dist-packages (from pandas->datasets) (2022.7.1)\n",
            "Requirement already satisfied: python-dateutil>=2.8.1 in /usr/local/lib/python3.9/dist-packages (from pandas->datasets) (2.8.2)\n",
            "Requirement already satisfied: six>=1.5 in /usr/local/lib/python3.9/dist-packages (from python-dateutil>=2.8.1->pandas->datasets) (1.16.0)\n",
            "Installing collected packages: xxhash, multidict, frozenlist, dill, async-timeout, yarl, responses, multiprocess, aiosignal, aiohttp, datasets\n",
            "Successfully installed aiohttp-3.8.4 aiosignal-1.3.1 async-timeout-4.0.2 datasets-2.11.0 dill-0.3.6 frozenlist-1.3.3 multidict-6.0.4 multiprocess-0.70.14 responses-0.18.0 xxhash-3.2.0 yarl-1.8.2\n",
            "Looking in indexes: https://pypi.org/simple, https://us-python.pkg.dev/colab-wheels/public/simple/\n",
            "Collecting pyserini\n",
            "  Downloading pyserini-0.21.0-py3-none-any.whl (154.1 MB)\n",
            "\u001b[2K     \u001b[90m━━━━━━━━━━━━━━━━━━━━━━━━━━━━━━━━━━━━━━━\u001b[0m \u001b[32m154.1/154.1 MB\u001b[0m \u001b[31m8.8 MB/s\u001b[0m eta \u001b[36m0:00:00\u001b[0m\n",
            "\u001b[?25hRequirement already satisfied: scikit-learn>=0.22.1 in /usr/local/lib/python3.9/dist-packages (from pyserini) (1.2.2)\n",
            "Requirement already satisfied: Cython>=0.29.21 in /usr/local/lib/python3.9/dist-packages (from pyserini) (0.29.34)\n",
            "Requirement already satisfied: spacy>=3.2.1 in /usr/local/lib/python3.9/dist-packages (from pyserini) (3.5.2)\n",
            "Collecting pyjnius>=1.4.0\n",
            "  Downloading pyjnius-1.4.2-cp39-cp39-manylinux_2_17_x86_64.manylinux2014_x86_64.whl (1.5 MB)\n",
            "\u001b[2K     \u001b[90m━━━━━━━━━━━━━━━━━━━━━━━━━━━━━━━━━━━━━━━━\u001b[0m \u001b[32m1.5/1.5 MB\u001b[0m \u001b[31m66.2 MB/s\u001b[0m eta \u001b[36m0:00:00\u001b[0m\n",
            "\u001b[?25hRequirement already satisfied: tqdm in /usr/local/lib/python3.9/dist-packages (from pyserini) (4.65.0)\n",
            "Requirement already satisfied: pyyaml in /usr/local/lib/python3.9/dist-packages (from pyserini) (6.0)\n",
            "Collecting nmslib>=2.1.1\n",
            "  Downloading nmslib-2.1.1-cp39-cp39-manylinux2010_x86_64.whl (13.3 MB)\n",
            "\u001b[2K     \u001b[90m━━━━━━━━━━━━━━━━━━━━━━━━━━━━━━━━━━━━━━━━\u001b[0m \u001b[32m13.3/13.3 MB\u001b[0m \u001b[31m20.8 MB/s\u001b[0m eta \u001b[36m0:00:00\u001b[0m\n",
            "\u001b[?25hCollecting onnxruntime>=1.8.1\n",
            "  Downloading onnxruntime-1.14.1-cp39-cp39-manylinux_2_27_x86_64.whl (5.0 MB)\n",
            "\u001b[2K     \u001b[90m━━━━━━━━━━━━━━━━━━━━━━━━━━━━━━━━━━━━━━━━\u001b[0m \u001b[32m5.0/5.0 MB\u001b[0m \u001b[31m81.0 MB/s\u001b[0m eta \u001b[36m0:00:00\u001b[0m\n",
            "\u001b[?25hRequirement already satisfied: transformers>=4.6.0 in /usr/local/lib/python3.9/dist-packages (from pyserini) (4.28.1)\n",
            "Requirement already satisfied: numpy>=1.18.1 in /usr/local/lib/python3.9/dist-packages (from pyserini) (1.22.4)\n",
            "Requirement already satisfied: scipy>=1.4.1 in /usr/local/lib/python3.9/dist-packages (from pyserini) (1.10.1)\n",
            "Requirement already satisfied: lightgbm>=3.3.2 in /usr/local/lib/python3.9/dist-packages (from pyserini) (3.3.5)\n",
            "Collecting sentencepiece>=0.1.95\n",
            "  Downloading sentencepiece-0.1.98-cp39-cp39-manylinux_2_17_x86_64.manylinux2014_x86_64.whl (1.3 MB)\n",
            "\u001b[2K     \u001b[90m━━━━━━━━━━━━━━━━━━━━━━━━━━━━━━━━━━━━━━━━\u001b[0m \u001b[32m1.3/1.3 MB\u001b[0m \u001b[31m64.5 MB/s\u001b[0m eta \u001b[36m0:00:00\u001b[0m\n",
            "\u001b[?25hRequirement already satisfied: pandas>=1.4.0 in /usr/local/lib/python3.9/dist-packages (from pyserini) (1.5.3)\n",
            "Requirement already satisfied: wheel in /usr/local/lib/python3.9/dist-packages (from lightgbm>=3.3.2->pyserini) (0.40.0)\n",
            "Requirement already satisfied: psutil in /usr/local/lib/python3.9/dist-packages (from nmslib>=2.1.1->pyserini) (5.9.5)\n",
            "Collecting pybind11<2.6.2\n",
            "  Downloading pybind11-2.6.1-py2.py3-none-any.whl (188 kB)\n",
            "\u001b[2K     \u001b[90m━━━━━━━━━━━━━━━━━━━━━━━━━━━━━━━━━━━━━━\u001b[0m \u001b[32m188.5/188.5 kB\u001b[0m \u001b[31m24.3 MB/s\u001b[0m eta \u001b[36m0:00:00\u001b[0m\n",
            "\u001b[?25hRequirement already satisfied: sympy in /usr/local/lib/python3.9/dist-packages (from onnxruntime>=1.8.1->pyserini) (1.11.1)\n",
            "Requirement already satisfied: flatbuffers in /usr/local/lib/python3.9/dist-packages (from onnxruntime>=1.8.1->pyserini) (23.3.3)\n",
            "Collecting coloredlogs\n",
            "  Downloading coloredlogs-15.0.1-py2.py3-none-any.whl (46 kB)\n",
            "\u001b[2K     \u001b[90m━━━━━━━━━━━━━━━━━━━━━━━━━━━━━━━━━━━━━━━━\u001b[0m \u001b[32m46.0/46.0 kB\u001b[0m \u001b[31m6.5 MB/s\u001b[0m eta \u001b[36m0:00:00\u001b[0m\n",
            "\u001b[?25hRequirement already satisfied: protobuf in /usr/local/lib/python3.9/dist-packages (from onnxruntime>=1.8.1->pyserini) (3.20.3)\n",
            "Requirement already satisfied: packaging in /usr/local/lib/python3.9/dist-packages (from onnxruntime>=1.8.1->pyserini) (23.1)\n",
            "Requirement already satisfied: pytz>=2020.1 in /usr/local/lib/python3.9/dist-packages (from pandas>=1.4.0->pyserini) (2022.7.1)\n",
            "Requirement already satisfied: python-dateutil>=2.8.1 in /usr/local/lib/python3.9/dist-packages (from pandas>=1.4.0->pyserini) (2.8.2)\n",
            "Requirement already satisfied: six>=1.7.0 in /usr/local/lib/python3.9/dist-packages (from pyjnius>=1.4.0->pyserini) (1.16.0)\n",
            "Requirement already satisfied: threadpoolctl>=2.0.0 in /usr/local/lib/python3.9/dist-packages (from scikit-learn>=0.22.1->pyserini) (3.1.0)\n",
            "Requirement already satisfied: joblib>=1.1.1 in /usr/local/lib/python3.9/dist-packages (from scikit-learn>=0.22.1->pyserini) (1.2.0)\n",
            "Requirement already satisfied: spacy-loggers<2.0.0,>=1.0.0 in /usr/local/lib/python3.9/dist-packages (from spacy>=3.2.1->pyserini) (1.0.4)\n",
            "Requirement already satisfied: smart-open<7.0.0,>=5.2.1 in /usr/local/lib/python3.9/dist-packages (from spacy>=3.2.1->pyserini) (6.3.0)\n",
            "Requirement already satisfied: pydantic!=1.8,!=1.8.1,<1.11.0,>=1.7.4 in /usr/local/lib/python3.9/dist-packages (from spacy>=3.2.1->pyserini) (1.10.7)\n",
            "Requirement already satisfied: srsly<3.0.0,>=2.4.3 in /usr/local/lib/python3.9/dist-packages (from spacy>=3.2.1->pyserini) (2.4.6)\n",
            "Requirement already satisfied: cymem<2.1.0,>=2.0.2 in /usr/local/lib/python3.9/dist-packages (from spacy>=3.2.1->pyserini) (2.0.7)\n",
            "Requirement already satisfied: spacy-legacy<3.1.0,>=3.0.11 in /usr/local/lib/python3.9/dist-packages (from spacy>=3.2.1->pyserini) (3.0.12)\n",
            "Requirement already satisfied: thinc<8.2.0,>=8.1.8 in /usr/local/lib/python3.9/dist-packages (from spacy>=3.2.1->pyserini) (8.1.9)\n",
            "Requirement already satisfied: wasabi<1.2.0,>=0.9.1 in /usr/local/lib/python3.9/dist-packages (from spacy>=3.2.1->pyserini) (1.1.1)\n",
            "Requirement already satisfied: langcodes<4.0.0,>=3.2.0 in /usr/local/lib/python3.9/dist-packages (from spacy>=3.2.1->pyserini) (3.3.0)\n",
            "Requirement already satisfied: murmurhash<1.1.0,>=0.28.0 in /usr/local/lib/python3.9/dist-packages (from spacy>=3.2.1->pyserini) (1.0.9)\n",
            "Requirement already satisfied: preshed<3.1.0,>=3.0.2 in /usr/local/lib/python3.9/dist-packages (from spacy>=3.2.1->pyserini) (3.0.8)\n",
            "Requirement already satisfied: requests<3.0.0,>=2.13.0 in /usr/local/lib/python3.9/dist-packages (from spacy>=3.2.1->pyserini) (2.27.1)\n",
            "Requirement already satisfied: catalogue<2.1.0,>=2.0.6 in /usr/local/lib/python3.9/dist-packages (from spacy>=3.2.1->pyserini) (2.0.8)\n",
            "Requirement already satisfied: typer<0.8.0,>=0.3.0 in /usr/local/lib/python3.9/dist-packages (from spacy>=3.2.1->pyserini) (0.7.0)\n",
            "Requirement already satisfied: jinja2 in /usr/local/lib/python3.9/dist-packages (from spacy>=3.2.1->pyserini) (3.1.2)\n",
            "Requirement already satisfied: pathy>=0.10.0 in /usr/local/lib/python3.9/dist-packages (from spacy>=3.2.1->pyserini) (0.10.1)\n",
            "Requirement already satisfied: setuptools in /usr/local/lib/python3.9/dist-packages (from spacy>=3.2.1->pyserini) (67.6.1)\n",
            "Requirement already satisfied: huggingface-hub<1.0,>=0.11.0 in /usr/local/lib/python3.9/dist-packages (from transformers>=4.6.0->pyserini) (0.13.4)\n",
            "Requirement already satisfied: tokenizers!=0.11.3,<0.14,>=0.11.1 in /usr/local/lib/python3.9/dist-packages (from transformers>=4.6.0->pyserini) (0.13.3)\n",
            "Requirement already satisfied: filelock in /usr/local/lib/python3.9/dist-packages (from transformers>=4.6.0->pyserini) (3.11.0)\n",
            "Requirement already satisfied: regex!=2019.12.17 in /usr/local/lib/python3.9/dist-packages (from transformers>=4.6.0->pyserini) (2022.10.31)\n",
            "Requirement already satisfied: typing-extensions>=3.7.4.3 in /usr/local/lib/python3.9/dist-packages (from huggingface-hub<1.0,>=0.11.0->transformers>=4.6.0->pyserini) (4.5.0)\n",
            "Requirement already satisfied: urllib3<1.27,>=1.21.1 in /usr/local/lib/python3.9/dist-packages (from requests<3.0.0,>=2.13.0->spacy>=3.2.1->pyserini) (1.26.15)\n",
            "Requirement already satisfied: charset-normalizer~=2.0.0 in /usr/local/lib/python3.9/dist-packages (from requests<3.0.0,>=2.13.0->spacy>=3.2.1->pyserini) (2.0.12)\n",
            "Requirement already satisfied: idna<4,>=2.5 in /usr/local/lib/python3.9/dist-packages (from requests<3.0.0,>=2.13.0->spacy>=3.2.1->pyserini) (3.4)\n",
            "Requirement already satisfied: certifi>=2017.4.17 in /usr/local/lib/python3.9/dist-packages (from requests<3.0.0,>=2.13.0->spacy>=3.2.1->pyserini) (2022.12.7)\n",
            "Requirement already satisfied: blis<0.8.0,>=0.7.8 in /usr/local/lib/python3.9/dist-packages (from thinc<8.2.0,>=8.1.8->spacy>=3.2.1->pyserini) (0.7.9)\n",
            "Requirement already satisfied: confection<1.0.0,>=0.0.1 in /usr/local/lib/python3.9/dist-packages (from thinc<8.2.0,>=8.1.8->spacy>=3.2.1->pyserini) (0.0.4)\n",
            "Requirement already satisfied: click<9.0.0,>=7.1.1 in /usr/local/lib/python3.9/dist-packages (from typer<0.8.0,>=0.3.0->spacy>=3.2.1->pyserini) (8.1.3)\n",
            "Collecting humanfriendly>=9.1\n",
            "  Downloading humanfriendly-10.0-py2.py3-none-any.whl (86 kB)\n",
            "\u001b[2K     \u001b[90m━━━━━━━━━━━━━━━━━━━━━━━━━━━━━━━━━━━━━━━━\u001b[0m \u001b[32m86.8/86.8 kB\u001b[0m \u001b[31m10.8 MB/s\u001b[0m eta \u001b[36m0:00:00\u001b[0m\n",
            "\u001b[?25hRequirement already satisfied: MarkupSafe>=2.0 in /usr/local/lib/python3.9/dist-packages (from jinja2->spacy>=3.2.1->pyserini) (2.1.2)\n",
            "Requirement already satisfied: mpmath>=0.19 in /usr/local/lib/python3.9/dist-packages (from sympy->onnxruntime>=1.8.1->pyserini) (1.3.0)\n",
            "Installing collected packages: sentencepiece, pyjnius, pybind11, humanfriendly, nmslib, coloredlogs, onnxruntime, pyserini\n",
            "Successfully installed coloredlogs-15.0.1 humanfriendly-10.0 nmslib-2.1.1 onnxruntime-1.14.1 pybind11-2.6.1 pyjnius-1.4.2 pyserini-0.21.0 sentencepiece-0.1.98\n",
            "Looking in indexes: https://pypi.org/simple, https://us-python.pkg.dev/colab-wheels/public/simple/\n",
            "Collecting faiss-gpu\n",
            "  Downloading faiss_gpu-1.7.2-cp39-cp39-manylinux_2_17_x86_64.manylinux2014_x86_64.whl (85.5 MB)\n",
            "\u001b[2K     \u001b[90m━━━━━━━━━━━━━━━━━━━━━━━━━━━━━━━━━━━━━━━━\u001b[0m \u001b[32m85.5/85.5 MB\u001b[0m \u001b[31m12.8 MB/s\u001b[0m eta \u001b[36m0:00:00\u001b[0m\n",
            "\u001b[?25hInstalling collected packages: faiss-gpu\n",
            "Successfully installed faiss-gpu-1.7.2\n"
          ]
        }
      ]
    },
    {
      "cell_type": "markdown",
      "source": [
        "## Importação de libs"
      ],
      "metadata": {
        "id": "tSY_YTfLkH19"
      }
    },
    {
      "cell_type": "code",
      "source": [
        "import numpy as np\n",
        "import json\n",
        "import torch\n",
        "import os\n",
        "import torch.nn.functional as F\n",
        "from torch.utils.data import DataLoader\n",
        "from transformers import AdamW, AutoModel, AutoTokenizer, BatchEncoding\n",
        "from sentence_transformers import SentenceTransformer, util\n",
        "from tqdm.auto import tqdm"
      ],
      "metadata": {
        "id": "TK1EI_oXGg8t"
      },
      "execution_count": 6,
      "outputs": []
    },
    {
      "cell_type": "markdown",
      "source": [
        "## Sementes"
      ],
      "metadata": {
        "id": "WeGMCNJDkI1U"
      }
    },
    {
      "cell_type": "code",
      "source": [
        "np.random.seed(42)"
      ],
      "metadata": {
        "id": "O7ufvlz-IjGX"
      },
      "execution_count": 7,
      "outputs": []
    },
    {
      "cell_type": "markdown",
      "source": [
        "## Utilização de GPUs"
      ],
      "metadata": {
        "id": "em7xEAlckK2M"
      }
    },
    {
      "cell_type": "code",
      "source": [
        "if torch.cuda.is_available(): \n",
        "   dev = \"cuda:0\"\n",
        "else: \n",
        "   dev = \"cpu\"\n",
        "device = torch.device(dev)\n",
        "print('Using {}'.format(device))"
      ],
      "metadata": {
        "colab": {
          "base_uri": "https://localhost:8080/"
        },
        "id": "TLDMZlu9Qlir",
        "outputId": "a24fa54c-4253-4e49-bdaa-ed8f2caedaa8"
      },
      "execution_count": 8,
      "outputs": [
        {
          "output_type": "stream",
          "name": "stdout",
          "text": [
            "Using cuda:0\n"
          ]
        }
      ]
    },
    {
      "cell_type": "code",
      "source": [
        "if dev != 'cpu':\n",
        "    !nvidia-smi"
      ],
      "metadata": {
        "colab": {
          "base_uri": "https://localhost:8080/"
        },
        "id": "imG9NOV3Qok3",
        "outputId": "f2c4a73a-b3e4-49cb-9973-9e20b23d26ef"
      },
      "execution_count": 9,
      "outputs": [
        {
          "output_type": "stream",
          "name": "stdout",
          "text": [
            "Thu Apr 20 00:35:45 2023       \n",
            "+-----------------------------------------------------------------------------+\n",
            "| NVIDIA-SMI 525.85.12    Driver Version: 525.85.12    CUDA Version: 12.0     |\n",
            "|-------------------------------+----------------------+----------------------+\n",
            "| GPU  Name        Persistence-M| Bus-Id        Disp.A | Volatile Uncorr. ECC |\n",
            "| Fan  Temp  Perf  Pwr:Usage/Cap|         Memory-Usage | GPU-Util  Compute M. |\n",
            "|                               |                      |               MIG M. |\n",
            "|===============================+======================+======================|\n",
            "|   0  Tesla T4            Off  | 00000000:00:04.0 Off |                    0 |\n",
            "| N/A   56C    P8    10W /  70W |      3MiB / 15360MiB |      0%      Default |\n",
            "|                               |                      |                  N/A |\n",
            "+-------------------------------+----------------------+----------------------+\n",
            "                                                                               \n",
            "+-----------------------------------------------------------------------------+\n",
            "| Processes:                                                                  |\n",
            "|  GPU   GI   CI        PID   Type   Process name                  GPU Memory |\n",
            "|        ID   ID                                                   Usage      |\n",
            "|=============================================================================|\n",
            "|  No running processes found                                                 |\n",
            "+-----------------------------------------------------------------------------+\n"
          ]
        }
      ]
    },
    {
      "cell_type": "markdown",
      "source": [
        "# Preparação dos dados"
      ],
      "metadata": {
        "id": "jAsxa_kBhX2N"
      }
    },
    {
      "cell_type": "markdown",
      "source": [
        "## Obtenção do TREC-COVID"
      ],
      "metadata": {
        "id": "HsmMqYlOi0gx"
      }
    },
    {
      "cell_type": "code",
      "source": [
        "!wget -nc 'https://public.ukp.informatik.tu-darmstadt.de/thakur/BEIR/datasets/trec-covid.zip'"
      ],
      "metadata": {
        "colab": {
          "base_uri": "https://localhost:8080/"
        },
        "id": "h7MlxORWGqhv",
        "outputId": "b6ecf62a-c298-4126-d3e9-43142580edd6"
      },
      "execution_count": 10,
      "outputs": [
        {
          "output_type": "stream",
          "name": "stdout",
          "text": [
            "--2023-04-20 00:35:45--  https://public.ukp.informatik.tu-darmstadt.de/thakur/BEIR/datasets/trec-covid.zip\n",
            "Resolving public.ukp.informatik.tu-darmstadt.de (public.ukp.informatik.tu-darmstadt.de)... 130.83.167.186\n",
            "Connecting to public.ukp.informatik.tu-darmstadt.de (public.ukp.informatik.tu-darmstadt.de)|130.83.167.186|:443... connected.\n",
            "HTTP request sent, awaiting response... 200 OK\n",
            "Length: 73876720 (70M) [application/zip]\n",
            "Saving to: ‘trec-covid.zip’\n",
            "\n",
            "trec-covid.zip      100%[===================>]  70.45M  14.9MB/s    in 6.0s    \n",
            "\n",
            "2023-04-20 00:35:53 (11.8 MB/s) - ‘trec-covid.zip’ saved [73876720/73876720]\n",
            "\n"
          ]
        }
      ]
    },
    {
      "cell_type": "code",
      "source": [
        "!unzip -n trec-covid.zip"
      ],
      "metadata": {
        "colab": {
          "base_uri": "https://localhost:8080/"
        },
        "id": "FVjsDIfsOheK",
        "outputId": "a2625b5b-7b7c-4c78-c564-5ffdfa05588d"
      },
      "execution_count": 11,
      "outputs": [
        {
          "output_type": "stream",
          "name": "stdout",
          "text": [
            "Archive:  trec-covid.zip\n",
            "   creating: trec-covid/\n",
            "   creating: trec-covid/qrels/\n",
            "  inflating: trec-covid/qrels/test.tsv  \n",
            "  inflating: trec-covid/corpus.jsonl  \n",
            "  inflating: trec-covid/queries.jsonl  \n"
          ]
        }
      ]
    },
    {
      "cell_type": "markdown",
      "source": [
        "## Conversão do qrels para o formato esperado"
      ],
      "metadata": {
        "id": "evJv3X-Oi3de"
      }
    },
    {
      "cell_type": "code",
      "source": [
        "with open('trec-covid/qrels/test.tsv', 'r') as fin:\n",
        "    data = fin.read().splitlines(True)\n",
        "\n",
        "data[:11]"
      ],
      "metadata": {
        "colab": {
          "base_uri": "https://localhost:8080/"
        },
        "id": "XSzHZ99VRP1W",
        "outputId": "d84abdc4-9724-4b9a-91ea-85e62c0358d9"
      },
      "execution_count": 12,
      "outputs": [
        {
          "output_type": "execute_result",
          "data": {
            "text/plain": [
              "['query-id\\tcorpus-id\\tscore\\n',\n",
              " '1\\t005b2j4b\\t2\\n',\n",
              " '1\\t00fmeepz\\t1\\n',\n",
              " '1\\tg7dhmyyo\\t2\\n',\n",
              " '1\\t0194oljo\\t1\\n',\n",
              " '1\\t021q9884\\t1\\n',\n",
              " '1\\t02f0opkr\\t1\\n',\n",
              " '1\\t047xpt2c\\t0\\n',\n",
              " '1\\t04ftw7k9\\t0\\n',\n",
              " '1\\tpl9ht0d0\\t0\\n',\n",
              " '1\\t05vx82oo\\t0\\n']"
            ]
          },
          "metadata": {},
          "execution_count": 12
        }
      ]
    },
    {
      "cell_type": "code",
      "source": [
        "with open('trec-covid/qrels/test_adjusted.tsv', 'w') as fout:\n",
        "    for line in data:\n",
        "        fields = line.split()\n",
        "        fout.write(f'{fields[0]}\\t0\\t{fields[1]}\\t{fields[2]}\\n')"
      ],
      "metadata": {
        "id": "bR3wjYpBH0-k"
      },
      "execution_count": 13,
      "outputs": []
    },
    {
      "cell_type": "markdown",
      "source": [
        "## Extração do corpus"
      ],
      "metadata": {
        "id": "cCQgQ8CSi_9F"
      }
    },
    {
      "cell_type": "code",
      "source": [
        "corpus = []\n",
        "for line in open('trec-covid/corpus.jsonl'):\n",
        "    doc = json.loads(line)\n",
        "    corpus.append((doc['_id'], f\"{doc['title']} {doc['text']}\"))\n",
        "print(len(corpus), 'documents parsed. First 10:')\n",
        "for doc in corpus[:10]:\n",
        "    print(doc)"
      ],
      "metadata": {
        "colab": {
          "base_uri": "https://localhost:8080/"
        },
        "id": "yITAxM3hT9-9",
        "outputId": "450faef7-b1ec-4f0a-b6af-7e489135ab3f"
      },
      "execution_count": 14,
      "outputs": [
        {
          "output_type": "stream",
          "name": "stdout",
          "text": [
            "171332 documents parsed. First 10:\n",
            "('ug7v899j', 'Clinical features of culture-proven Mycoplasma pneumoniae infections at King Abdulaziz University Hospital, Jeddah, Saudi Arabia OBJECTIVE: This retrospective chart review describes the epidemiology and clinical features of 40 patients with culture-proven Mycoplasma pneumoniae infections at King Abdulaziz University Hospital, Jeddah, Saudi Arabia. METHODS: Patients with positive M. pneumoniae cultures from respiratory specimens from January 1997 through December 1998 were identified through the Microbiology records. Charts of patients were reviewed. RESULTS: 40 patients were identified, 33 (82.5%) of whom required admission. Most infections (92.5%) were community-acquired. The infection affected all age groups but was most common in infants (32.5%) and pre-school children (22.5%). It occurred year-round but was most common in the fall (35%) and spring (30%). More than three-quarters of patients (77.5%) had comorbidities. Twenty-four isolates (60%) were associated with pneumonia, 14 (35%) with upper respiratory tract infections, and 2 (5%) with bronchiolitis. Cough (82.5%), fever (75%), and malaise (58.8%) were the most common symptoms, and crepitations (60%), and wheezes (40%) were the most common signs. Most patients with pneumonia had crepitations (79.2%) but only 25% had bronchial breathing. Immunocompromised patients were more likely than non-immunocompromised patients to present with pneumonia (8/9 versus 16/31, P = 0.05). Of the 24 patients with pneumonia, 14 (58.3%) had uneventful recovery, 4 (16.7%) recovered following some complications, 3 (12.5%) died because of M pneumoniae infection, and 3 (12.5%) died due to underlying comorbidities. The 3 patients who died of M pneumoniae pneumonia had other comorbidities. CONCLUSION: our results were similar to published data except for the finding that infections were more common in infants and preschool children and that the mortality rate of pneumonia in patients with comorbidities was high.')\n",
            "('02tnwd4m', 'Nitric oxide: a pro-inflammatory mediator in lung disease? Inflammatory diseases of the respiratory tract are commonly associated with elevated production of nitric oxide (NO•) and increased indices of NO• -dependent oxidative stress. Although NO• is known to have anti-microbial, anti-inflammatory and anti-oxidant properties, various lines of evidence support the contribution of NO• to lung injury in several disease models. On the basis of biochemical evidence, it is often presumed that such NO• -dependent oxidations are due to the formation of the oxidant peroxynitrite, although alternative mechanisms involving the phagocyte-derived heme proteins myeloperoxidase and eosinophil peroxidase might be operative during conditions of inflammation. Because of the overwhelming literature on NO• generation and activities in the respiratory tract, it would be beyond the scope of this commentary to review this area comprehensively. Instead, it focuses on recent evidence and concepts of the presumed contribution of NO• to inflammatory diseases of the lung.')\n",
            "('ejv2xln0', 'Surfactant protein-D and pulmonary host defense Surfactant protein-D (SP-D) participates in the innate response to inhaled microorganisms and organic antigens, and contributes to immune and inflammatory regulation within the lung. SP-D is synthesized and secreted by alveolar and bronchiolar epithelial cells, but is also expressed by epithelial cells lining various exocrine ducts and the mucosa of the gastrointestinal and genitourinary tracts. SP-D, a collagenous calcium-dependent lectin (or collectin), binds to surface glycoconjugates expressed by a wide variety of microorganisms, and to oligosaccharides associated with the surface of various complex organic antigens. SP-D also specifically interacts with glycoconjugates and other molecules expressed on the surface of macrophages, neutrophils, and lymphocytes. In addition, SP-D binds to specific surfactant-associated lipids and can influence the organization of lipid mixtures containing phosphatidylinositol in vitro. Consistent with these diverse in vitro activities is the observation that SP-D-deficient transgenic mice show abnormal accumulations of surfactant lipids, and respond abnormally to challenge with respiratory viruses and bacterial lipopolysaccharides. The phenotype of macrophages isolated from the lungs of SP-D-deficient mice is altered, and there is circumstantial evidence that abnormal oxidant metabolism and/or increased metalloproteinase expression contributes to the development of emphysema. The expression of SP-D is increased in response to many forms of lung injury, and deficient accumulation of appropriately oligomerized SP-D might contribute to the pathogenesis of a variety of human lung diseases.')\n",
            "('2b73a28n', 'Role of endothelin-1 in lung disease Endothelin-1 (ET-1) is a 21 amino acid peptide with diverse biological activity that has been implicated in numerous diseases. ET-1 is a potent mitogen regulator of smooth muscle tone, and inflammatory mediator that may play a key role in diseases of the airways, pulmonary circulation, and inflammatory lung diseases, both acute and chronic. This review will focus on the biology of ET-1 and its role in lung disease.')\n",
            "('9785vg6d', 'Gene expression in epithelial cells in response to pneumovirus infection Respiratory syncytial virus (RSV) and pneumonia virus of mice (PVM) are viruses of the family Paramyxoviridae, subfamily pneumovirus, which cause clinically important respiratory infections in humans and rodents, respectively. The respiratory epithelial target cells respond to viral infection with specific alterations in gene expression, including production of chemoattractant cytokines, adhesion molecules, elements that are related to the apoptosis response, and others that remain incompletely understood. Here we review our current understanding of these mucosal responses and discuss several genomic approaches, including differential display reverse transcription-polymerase chain reaction (PCR) and gene array strategies, that will permit us to unravel the nature of these responses in a more complete and systematic manner.')\n",
            "('zjufx4fo', 'Sequence requirements for RNA strand transfer during nidovirus discontinuous subgenomic RNA synthesis Nidovirus subgenomic mRNAs contain a leader sequence derived from the 5′ end of the genome fused to different sequences (‘bodies’) derived from the 3′ end. Their generation involves a unique mechanism of discontinuous subgenomic RNA synthesis that resembles copy-choice RNA recombination. During this process, the nascent RNA strand is transferred from one site in the template to another, during either plus or minus strand synthesis, to yield subgenomic RNA molecules. Central to this process are transcription-regulating sequences (TRSs), which are present at both template sites and ensure the fidelity of strand transfer. Here we present results of a comprehensive co-variation mutagenesis study of equine arteritis virus TRSs, demonstrating that discontinuous RNA synthesis depends not only on base pairing between sense leader TRS and antisense body TRS, but also on the primary sequence of the body TRS. While the leader TRS merely plays a targeting role for strand transfer, the body TRS fulfils multiple functions. The sequences of mRNA leader–body junctions of TRS mutants strongly suggested that the discontinuous step occurs during minus strand synthesis.')\n",
            "('5yhe786e', 'Debate: Transfusing to normal haemoglobin levels will not improve outcome Recent evidence suggests that critically ill patients are able to tolerate lower levels of haemoglobin than was previously believed. It is our goal to show that transfusing to a level of 100 g/l does not improve mortality and other clinically important outcomes in a critical care setting. Although many questions remain, many laboratory and clinical studies, including a recent randomized controlled trial (RCT), have established that transfusing to normal haemoglobin concentrations does not improve organ failure and mortality in the critically ill patient. In addition, a restrictive transfusion strategy will reduce exposure to allogeneic transfusions, result in more efficient use of red blood cells (RBCs), save blood overall, and decrease health care costs.')\n",
            "('8zchiykl', \"The 21st International Symposium on Intensive Care and Emergency Medicine, Brussels, Belgium, 20-23 March 2001 The 21st International Symposium on Intensive Care and Emergency Medicine was dominated by the results of recent clinical trials in sepsis and acute respiratory distress syndrome (ARDS). The promise of extracorporeal liver replacement therapy and noninvasive ventilation were other areas of interest. Ethical issues also received attention. Overall, the 'state of the art' lectures, pro/con debates, seminars and tutorials were of a high standard. The meeting was marked by a sense of renewed enthusiasm that positive progress is occurring in intensive care medicine.\")\n",
            "('8qnrcgnk', 'Heme oxygenase-1 and carbon monoxide in pulmonary medicine Heme oxygenase-1 (HO-1), an inducible stress protein, confers cytoprotection against oxidative stress in vitro and in vivo. In addition to its physiological role in heme degradation, HO-1 may influence a number of cellular processes, including growth, inflammation, and apoptosis. By virtue of anti-inflammatory effects, HO-1 limits tissue damage in response to proinflammatory stimuli and prevents allograft rejection after transplantation. The transcriptional upregulation of HO-1 responds to many agents, such as hypoxia, bacterial lipopolysaccharide, and reactive oxygen/nitrogen species. HO-1 and its constitutively expressed isozyme, heme oxygenase-2, catalyze the rate-limiting step in the conversion of heme to its metabolites, bilirubin IXα, ferrous iron, and carbon monoxide (CO). The mechanisms by which HO-1 provides protection most likely involve its enzymatic reaction products. Remarkably, administration of CO at low concentrations can substitute for HO-1 with respect to anti-inflammatory and anti-apoptotic effects, suggesting a role for CO as a key mediator of HO-1 function. Chronic, low-level, exogenous exposure to CO from cigarette smoking contributes to the importance of CO in pulmonary medicine. The implications of the HO-1/CO system in pulmonary diseases will be discussed in this review, with an emphasis on inflammatory states.')\n",
            "('jg13scgo', 'Technical Description of RODS: A Real-time Public Health Surveillance System This report describes the design and implementation of the Real-time Outbreak and Disease Surveillance (RODS) system, a computer-based public health surveillance system for early detection of disease outbreaks. Hospitals send RODS data from clinical encounters over virtual private networks and leased lines using the Health Level 7 (HL7) message protocol. The data are sent in real time. RODS automatically classifies the registration chief complaint from the visit into one of seven syndrome categories using Bayesian classifiers. It stores the data in a relational database, aggregates the data for analysis using data warehousing techniques, applies univariate and multivariate statistical detection algorithms to the data, and alerts users of when the algorithms identify anomalous patterns in the syndrome counts. RODS also has a Web-based user interface that supports temporal and spatial analyses. RODS processes sales of over-the-counter health care products in a similar manner but receives such data in batch mode on a daily basis. RODS was used during the 2002 Winter Olympics and currently operates in two states—Pennsylvania and Utah. It has been and continues to be a resource for implementing, evaluating, and applying new methods of public health surveillance.')\n"
          ]
        }
      ]
    },
    {
      "cell_type": "markdown",
      "source": [
        "## Extração de queries"
      ],
      "metadata": {
        "id": "_HVO93xVjDec"
      }
    },
    {
      "cell_type": "code",
      "source": [
        "queries = []\n",
        "for line in open('trec-covid/queries.jsonl'):\n",
        "    query = json.loads(line)\n",
        "    queries.append({'id': query['_id'], 'text': query['text']})\n",
        "print(len(queries), 'queries parsed:')\n",
        "for query in queries:\n",
        "    print(query)"
      ],
      "metadata": {
        "colab": {
          "base_uri": "https://localhost:8080/"
        },
        "id": "Vn_xUAEuIzsn",
        "outputId": "aab0d896-dc4c-464d-de12-57864e2d1e97"
      },
      "execution_count": 15,
      "outputs": [
        {
          "output_type": "stream",
          "name": "stdout",
          "text": [
            "50 queries parsed:\n",
            "{'id': '1', 'text': 'what is the origin of COVID-19'}\n",
            "{'id': '2', 'text': 'how does the coronavirus respond to changes in the weather'}\n",
            "{'id': '3', 'text': 'will SARS-CoV2 infected people develop immunity? Is cross protection possible?'}\n",
            "{'id': '4', 'text': 'what causes death from Covid-19?'}\n",
            "{'id': '5', 'text': 'what drugs have been active against SARS-CoV or SARS-CoV-2 in animal studies?'}\n",
            "{'id': '6', 'text': 'what types of rapid testing for Covid-19 have been developed?'}\n",
            "{'id': '7', 'text': 'are there serological tests that detect antibodies to coronavirus?'}\n",
            "{'id': '8', 'text': 'how has lack of testing availability led to underreporting of true incidence of Covid-19?'}\n",
            "{'id': '9', 'text': 'how has COVID-19 affected Canada'}\n",
            "{'id': '10', 'text': 'has social distancing had an impact on slowing the spread of COVID-19?'}\n",
            "{'id': '11', 'text': 'what are the guidelines for triaging patients infected with coronavirus?'}\n",
            "{'id': '12', 'text': 'what are best practices in hospitals and at home in maintaining quarantine?'}\n",
            "{'id': '13', 'text': 'what are the transmission routes of coronavirus?'}\n",
            "{'id': '14', 'text': 'what evidence is there related to COVID-19 super spreaders'}\n",
            "{'id': '15', 'text': 'how long can the coronavirus live outside the body'}\n",
            "{'id': '16', 'text': 'how long does coronavirus remain stable  on surfaces?'}\n",
            "{'id': '17', 'text': 'are there any clinical trials available for the coronavirus'}\n",
            "{'id': '18', 'text': 'what are the best masks for preventing infection by Covid-19?'}\n",
            "{'id': '19', 'text': 'what type of hand sanitizer is needed to destroy Covid-19?'}\n",
            "{'id': '20', 'text': 'are patients taking Angiotensin-converting enzyme inhibitors (ACE) at increased risk for COVID-19?'}\n",
            "{'id': '21', 'text': 'what are the mortality rates overall and in specific populations'}\n",
            "{'id': '22', 'text': 'are cardiac complications likely in patients with COVID-19?'}\n",
            "{'id': '23', 'text': 'what kinds of complications related to COVID-19 are associated with hypertension?'}\n",
            "{'id': '24', 'text': 'what kinds of complications related to COVID-19 are associated with diabetes'}\n",
            "{'id': '25', 'text': 'which biomarkers predict the severe clinical course of 2019-nCOV infection?'}\n",
            "{'id': '26', 'text': 'what are the initial symptoms of Covid-19?'}\n",
            "{'id': '27', 'text': 'what is known about those infected with Covid-19 but are asymptomatic?'}\n",
            "{'id': '28', 'text': 'what evidence is there for the value of hydroxychloroquine in treating Covid-19?'}\n",
            "{'id': '29', 'text': 'which SARS-CoV-2 proteins-human proteins interactions indicate potential for drug targets. Are there approved drugs that can be repurposed based on this information?'}\n",
            "{'id': '30', 'text': 'is remdesivir an effective treatment for COVID-19'}\n",
            "{'id': '31', 'text': 'How does the coronavirus differ from seasonal flu?'}\n",
            "{'id': '32', 'text': 'Does SARS-CoV-2 have any subtypes, and if so what are they?'}\n",
            "{'id': '33', 'text': 'What vaccine candidates are being tested for Covid-19?'}\n",
            "{'id': '34', 'text': 'What are the longer-term complications of those who recover from COVID-19?'}\n",
            "{'id': '35', 'text': 'What new public datasets are available related to COVID-19?'}\n",
            "{'id': '36', 'text': 'What is the protein structure of the SARS-CoV-2 spike?'}\n",
            "{'id': '37', 'text': 'What is the result of phylogenetic analysis of SARS-CoV-2 genome sequence?'}\n",
            "{'id': '38', 'text': 'What is the mechanism of inflammatory response and pathogenesis of COVID-19 cases?'}\n",
            "{'id': '39', 'text': 'What is the mechanism of cytokine storm syndrome on the COVID-19?'}\n",
            "{'id': '40', 'text': 'What are the observed mutations in the SARS-CoV-2 genome and how often do the mutations occur?'}\n",
            "{'id': '41', 'text': 'What are the impacts of COVID-19 among African-Americans that differ from the rest of the U.S. population?'}\n",
            "{'id': '42', 'text': 'Does Vitamin D impact COVID-19 prevention and treatment?'}\n",
            "{'id': '43', 'text': 'How has the COVID-19 pandemic impacted violence in society, including violent crimes?'}\n",
            "{'id': '44', 'text': 'How much impact do masks have on preventing the spread of the COVID-19?'}\n",
            "{'id': '45', 'text': 'How has the COVID-19 pandemic impacted mental health?'}\n",
            "{'id': '46', 'text': 'what evidence is there for dexamethasone as a treatment for COVID-19?'}\n",
            "{'id': '47', 'text': 'what are the health outcomes for children who contract COVID-19?'}\n",
            "{'id': '48', 'text': 'what are the benefits and risks of re-opening schools in the midst of the COVID-19 pandemic?'}\n",
            "{'id': '49', 'text': 'do individuals who recover from COVID-19 show sufficient immune response, including antibody levels and T-cell mediated immunity, to prevent re-infection?'}\n",
            "{'id': '50', 'text': 'what is known about an mRNA vaccine for the SARS-CoV-2 virus?'}\n"
          ]
        }
      ]
    },
    {
      "cell_type": "markdown",
      "source": [
        "## Tokenizador"
      ],
      "metadata": {
        "id": "2NGOp8wGZ-xn"
      }
    },
    {
      "cell_type": "code",
      "source": [
        "tokenizer = AutoTokenizer.from_pretrained(tokenizer_name)"
      ],
      "metadata": {
        "colab": {
          "base_uri": "https://localhost:8080/",
          "height": 145,
          "referenced_widgets": [
            "a6c1fb7184f04fef8ed31452e53cc770",
            "3bedbcf02b7749508000c04c31c0027e",
            "d332d3f6fc9a4b4db686c2d76b86acfd",
            "96ec7e66cc434b2bbb10cc3dcd1bb7d4",
            "ee5272227adf45878f5e52fc38f3b396",
            "c6fa8bbeeaa0464899a37cb9b6d1b2cc",
            "ec3a018f8e3842bea27dfd2ed05247b1",
            "5bc413db0e5b4b4e90a7d87e5ffd6de2",
            "487962d18f6f4b21b63c34d469adaac5",
            "00173374d7834078984e923f33c5c0d1",
            "96e3846e5e79402997539bbb09994f78",
            "6d30b2c3afeb498797e2664e4e5b1d66",
            "3f1870211c654744ba592c9218b29d34",
            "6d8e1f96d73345b4bfce4a45c19ab599",
            "598dd129acdc4e6882bce41e7e2949e0",
            "79d6df9b52dc41d7a196ab9c4a27579a",
            "5518866ea21f46499b5c32d2509de867",
            "d021a67e85be4fc482136c0557392265",
            "e4bf39fbf2544e59be2c4b8cbdcc9dc3",
            "213289be14b84c79add286e9ec06ba30",
            "e3bbae9f0f1541ca8fe0bc48b34db883",
            "33302865eacd43488bc3dfa6e9e5ab76",
            "67dd1f2d3b83424989c4db03afe208d7",
            "e35add166bb846f1bbe53adddd7a5a3d",
            "680c580f2b324113945767715816fbd8",
            "5a56dd583268411fbd8a4fb0af8a0eb6",
            "8e3abde8af154ad9a8bf8d2699da630a",
            "4b32c5fe12e64c0b8d983a75c8eeed3a",
            "d9b83b5cb16f47b680cb07f646d705e6",
            "c8fc2fe6a5e04194808558f38719994f",
            "a8ea69a1356f4871901e593e4f0b0526",
            "d5441395bfd8465e8b4b1df2a7714585",
            "bb00678b71124c1ca6064fec5489d4ea",
            "c635e9681a1345398d9112490e5fa6a2",
            "b17c217a63fb4cd49d1585e8ff777100",
            "1226d5558c664595904bdd1a27e29de9",
            "0b9e38070ecf42be8f3e50ee92bfad34",
            "dbe1695bc84b40e49f1f94d497b5a450",
            "75508f036d694521bf24ba123e8f3456",
            "a1d3b116514c4a28b602fb932a73f234",
            "d7a023bc4528430f867379b903eaea13",
            "b8036b58c7be4fe1878275870b5bbc71",
            "ea816853dff7464fa842c6c3dee75cf5",
            "bfcfc63762b84ad0bdb912b41f6fa450"
          ]
        },
        "id": "DZPJzCYWK9Z_",
        "outputId": "8161657f-a74a-4ce6-8092-cda146d9574e"
      },
      "execution_count": 16,
      "outputs": [
        {
          "output_type": "display_data",
          "data": {
            "text/plain": [
              "Downloading (…)okenizer_config.json:   0%|          | 0.00/2.00 [00:00<?, ?B/s]"
            ],
            "application/vnd.jupyter.widget-view+json": {
              "version_major": 2,
              "version_minor": 0,
              "model_id": "a6c1fb7184f04fef8ed31452e53cc770"
            }
          },
          "metadata": {}
        },
        {
          "output_type": "display_data",
          "data": {
            "text/plain": [
              "Downloading (…)lve/main/config.json:   0%|          | 0.00/385 [00:00<?, ?B/s]"
            ],
            "application/vnd.jupyter.widget-view+json": {
              "version_major": 2,
              "version_minor": 0,
              "model_id": "6d30b2c3afeb498797e2664e4e5b1d66"
            }
          },
          "metadata": {}
        },
        {
          "output_type": "display_data",
          "data": {
            "text/plain": [
              "Downloading (…)solve/main/vocab.txt:   0%|          | 0.00/232k [00:00<?, ?B/s]"
            ],
            "application/vnd.jupyter.widget-view+json": {
              "version_major": 2,
              "version_minor": 0,
              "model_id": "67dd1f2d3b83424989c4db03afe208d7"
            }
          },
          "metadata": {}
        },
        {
          "output_type": "display_data",
          "data": {
            "text/plain": [
              "Downloading (…)cial_tokens_map.json:   0%|          | 0.00/112 [00:00<?, ?B/s]"
            ],
            "application/vnd.jupyter.widget-view+json": {
              "version_major": 2,
              "version_minor": 0,
              "model_id": "c635e9681a1345398d9112490e5fa6a2"
            }
          },
          "metadata": {}
        }
      ]
    },
    {
      "cell_type": "markdown",
      "source": [
        "## Classe de dataset"
      ],
      "metadata": {
        "id": "grhMrHCEgoUa"
      }
    },
    {
      "cell_type": "code",
      "source": [
        "class DatasetDPR(torch.utils.data.Dataset):\n",
        "    def __init__(self, tokenizer, texts, max_seq_length = max_length):\n",
        "        self.max_seq_length = max_seq_length\n",
        "        self.tokenizer = tokenizer\n",
        "        self.texts = texts\n",
        "    def __len__(self):\n",
        "        return len(self.texts)\n",
        "    def __getitem__(self, idx):\n",
        "        return self.tokenizer(self.texts[idx][1], padding=True, truncation=True, max_length=self.max_seq_length)"
      ],
      "metadata": {
        "id": "U8doT3xOghaF"
      },
      "execution_count": 17,
      "outputs": []
    },
    {
      "cell_type": "code",
      "source": [
        "def collate_fn(batch):\n",
        "    return BatchEncoding(tokenizer.pad(batch, return_tensors='pt'))"
      ],
      "metadata": {
        "id": "yh9sFniXQTAF"
      },
      "execution_count": 18,
      "outputs": []
    },
    {
      "cell_type": "markdown",
      "source": [
        "## Dataset e DataLoader"
      ],
      "metadata": {
        "id": "OG1FqP6Vjd3i"
      }
    },
    {
      "cell_type": "code",
      "source": [
        "dataset_trec_covid = DatasetDPR(tokenizer, corpus)\n",
        "dataloader_trec_covid = DataLoader(dataset_trec_covid, batch_size=batch_size, shuffle=False, collate_fn=collate_fn)"
      ],
      "metadata": {
        "id": "5D2c1lmwMb9v"
      },
      "execution_count": 19,
      "outputs": []
    },
    {
      "cell_type": "code",
      "source": [
        "print(corpus[0])\n",
        "print(dataset_trec_covid[0])\n",
        "print('decode:', ' '.join(tokenizer.batch_decode(dataset_trec_covid[0]['input_ids'], skip_special_tokens=True)).replace(' ##', ''))"
      ],
      "metadata": {
        "colab": {
          "base_uri": "https://localhost:8080/"
        },
        "id": "gQ8Ra4A4hMMV",
        "outputId": "a7894378-2b75-4a7b-b812-e1b89003f182"
      },
      "execution_count": 20,
      "outputs": [
        {
          "output_type": "stream",
          "name": "stdout",
          "text": [
            "('ug7v899j', 'Clinical features of culture-proven Mycoplasma pneumoniae infections at King Abdulaziz University Hospital, Jeddah, Saudi Arabia OBJECTIVE: This retrospective chart review describes the epidemiology and clinical features of 40 patients with culture-proven Mycoplasma pneumoniae infections at King Abdulaziz University Hospital, Jeddah, Saudi Arabia. METHODS: Patients with positive M. pneumoniae cultures from respiratory specimens from January 1997 through December 1998 were identified through the Microbiology records. Charts of patients were reviewed. RESULTS: 40 patients were identified, 33 (82.5%) of whom required admission. Most infections (92.5%) were community-acquired. The infection affected all age groups but was most common in infants (32.5%) and pre-school children (22.5%). It occurred year-round but was most common in the fall (35%) and spring (30%). More than three-quarters of patients (77.5%) had comorbidities. Twenty-four isolates (60%) were associated with pneumonia, 14 (35%) with upper respiratory tract infections, and 2 (5%) with bronchiolitis. Cough (82.5%), fever (75%), and malaise (58.8%) were the most common symptoms, and crepitations (60%), and wheezes (40%) were the most common signs. Most patients with pneumonia had crepitations (79.2%) but only 25% had bronchial breathing. Immunocompromised patients were more likely than non-immunocompromised patients to present with pneumonia (8/9 versus 16/31, P = 0.05). Of the 24 patients with pneumonia, 14 (58.3%) had uneventful recovery, 4 (16.7%) recovered following some complications, 3 (12.5%) died because of M pneumoniae infection, and 3 (12.5%) died due to underlying comorbidities. The 3 patients who died of M pneumoniae pneumonia had other comorbidities. CONCLUSION: our results were similar to published data except for the finding that infections were more common in infants and preschool children and that the mortality rate of pneumonia in patients with comorbidities was high.')\n",
            "{'input_ids': [101, 6612, 2838, 1997, 3226, 1011, 10003, 2026, 3597, 24759, 3022, 2863, 18583, 2063, 15245, 2012, 2332, 10298, 16103, 2480, 2118, 2902, 1010, 24401, 18417, 1010, 8174, 9264, 7863, 1024, 2023, 15354, 3673, 3319, 5577, 1996, 4958, 5178, 4328, 6779, 1998, 6612, 2838, 1997, 2871, 5022, 2007, 3226, 1011, 10003, 2026, 3597, 24759, 3022, 2863, 18583, 2063, 15245, 2012, 2332, 10298, 16103, 2480, 2118, 2902, 1010, 24401, 18417, 1010, 8174, 9264, 1012, 4725, 1024, 5022, 2007, 3893, 1049, 1012, 18583, 2063, 8578, 2013, 16464, 9908, 2013, 2254, 2722, 2083, 2285, 2687, 2020, 4453, 2083, 1996, 12702, 21685, 2636, 1012, 6093, 1997, 5022, 2020, 8182, 1012, 3463, 1024, 2871, 5022, 2020, 4453, 1010, 3943, 1006, 6445, 1012, 1019, 1003, 1007, 1997, 3183, 3223, 9634, 1012, 2087, 15245, 1006, 6227, 1012, 1019, 1003, 1007, 2020, 2451, 1011, 3734, 1012, 1996, 8985, 5360, 2035, 2287, 2967, 2021, 2001, 2087, 2691, 1999, 16725, 1006, 3590, 1012, 1019, 1003, 1007, 1998, 3653, 1011, 2082, 2336, 1006, 2570, 1012, 1019, 1003, 1007, 1012, 2009, 4158, 2095, 1011, 2461, 2021, 2001, 2087, 2691, 1999, 1996, 2991, 1006, 3486, 1003, 1007, 1998, 3500, 1006, 2382, 1003, 1007, 1012, 2062, 2084, 2093, 1011, 7728, 1997, 5022, 1006, 6255, 1012, 1019, 1003, 1007, 2018, 18609, 15185, 28173, 7368, 1012, 3174, 1011, 2176, 27152, 2015, 1006, 3438, 1003, 1007, 2020, 3378, 2007, 18583, 1010, 2403, 1006, 3486, 1003, 1007, 2007, 3356, 16464, 12859, 15245, 1010, 1998, 1016, 1006, 1019, 1003, 1007, 2007, 22953, 12680, 20282, 13706, 1012, 19340, 1006, 6445, 1012, 1019, 1003, 1007, 1010, 9016, 102], 'token_type_ids': [0, 0, 0, 0, 0, 0, 0, 0, 0, 0, 0, 0, 0, 0, 0, 0, 0, 0, 0, 0, 0, 0, 0, 0, 0, 0, 0, 0, 0, 0, 0, 0, 0, 0, 0, 0, 0, 0, 0, 0, 0, 0, 0, 0, 0, 0, 0, 0, 0, 0, 0, 0, 0, 0, 0, 0, 0, 0, 0, 0, 0, 0, 0, 0, 0, 0, 0, 0, 0, 0, 0, 0, 0, 0, 0, 0, 0, 0, 0, 0, 0, 0, 0, 0, 0, 0, 0, 0, 0, 0, 0, 0, 0, 0, 0, 0, 0, 0, 0, 0, 0, 0, 0, 0, 0, 0, 0, 0, 0, 0, 0, 0, 0, 0, 0, 0, 0, 0, 0, 0, 0, 0, 0, 0, 0, 0, 0, 0, 0, 0, 0, 0, 0, 0, 0, 0, 0, 0, 0, 0, 0, 0, 0, 0, 0, 0, 0, 0, 0, 0, 0, 0, 0, 0, 0, 0, 0, 0, 0, 0, 0, 0, 0, 0, 0, 0, 0, 0, 0, 0, 0, 0, 0, 0, 0, 0, 0, 0, 0, 0, 0, 0, 0, 0, 0, 0, 0, 0, 0, 0, 0, 0, 0, 0, 0, 0, 0, 0, 0, 0, 0, 0, 0, 0, 0, 0, 0, 0, 0, 0, 0, 0, 0, 0, 0, 0, 0, 0, 0, 0, 0, 0, 0, 0, 0, 0, 0, 0, 0, 0, 0, 0, 0, 0, 0, 0, 0, 0, 0, 0, 0, 0, 0, 0, 0, 0, 0, 0, 0, 0, 0, 0, 0, 0, 0, 0], 'attention_mask': [1, 1, 1, 1, 1, 1, 1, 1, 1, 1, 1, 1, 1, 1, 1, 1, 1, 1, 1, 1, 1, 1, 1, 1, 1, 1, 1, 1, 1, 1, 1, 1, 1, 1, 1, 1, 1, 1, 1, 1, 1, 1, 1, 1, 1, 1, 1, 1, 1, 1, 1, 1, 1, 1, 1, 1, 1, 1, 1, 1, 1, 1, 1, 1, 1, 1, 1, 1, 1, 1, 1, 1, 1, 1, 1, 1, 1, 1, 1, 1, 1, 1, 1, 1, 1, 1, 1, 1, 1, 1, 1, 1, 1, 1, 1, 1, 1, 1, 1, 1, 1, 1, 1, 1, 1, 1, 1, 1, 1, 1, 1, 1, 1, 1, 1, 1, 1, 1, 1, 1, 1, 1, 1, 1, 1, 1, 1, 1, 1, 1, 1, 1, 1, 1, 1, 1, 1, 1, 1, 1, 1, 1, 1, 1, 1, 1, 1, 1, 1, 1, 1, 1, 1, 1, 1, 1, 1, 1, 1, 1, 1, 1, 1, 1, 1, 1, 1, 1, 1, 1, 1, 1, 1, 1, 1, 1, 1, 1, 1, 1, 1, 1, 1, 1, 1, 1, 1, 1, 1, 1, 1, 1, 1, 1, 1, 1, 1, 1, 1, 1, 1, 1, 1, 1, 1, 1, 1, 1, 1, 1, 1, 1, 1, 1, 1, 1, 1, 1, 1, 1, 1, 1, 1, 1, 1, 1, 1, 1, 1, 1, 1, 1, 1, 1, 1, 1, 1, 1, 1, 1, 1, 1, 1, 1, 1, 1, 1, 1, 1, 1, 1, 1, 1, 1, 1, 1]}\n",
            "decode:  clinical features of culture - proven mycoplasma pneumoniae infections at king abdulaziz university hospital , jeddah , saudi arabia objective : this retrospective chart review describes the epidemiology and clinical features of 40 patients with culture - proven mycoplasma pneumoniae infections at king abdulaziz university hospital , jeddah , saudi arabia . methods : patients with positive m . pneumoniae cultures from respiratory specimens from january 1997 through december 1998 were identified through the microbiology records . charts of patients were reviewed . results : 40 patients were identified , 33 ( 82 . 5 % ) of whom required admission . most infections ( 92 . 5 % ) were community - acquired . the infection affected all age groups but was most common in infants ( 32 . 5 % ) and pre - school children ( 22 . 5 % ) . it occurred year - round but was most common in the fall ( 35 % ) and spring ( 30 % ) . more than three - quarters of patients ( 77 . 5 % ) had comorbidities . twenty - four isolates ( 60 % ) were associated with pneumonia , 14 ( 35 % ) with upper respiratory tract infections , and 2 ( 5 % ) with bronchiolitis . cough ( 82 . 5 % ) , fever \n"
          ]
        }
      ]
    },
    {
      "cell_type": "code",
      "source": [
        "len(dataset_trec_covid), len(dataset_trec_covid[0]['input_ids']), len(dataloader_trec_covid), batch_size"
      ],
      "metadata": {
        "colab": {
          "base_uri": "https://localhost:8080/"
        },
        "id": "_ZNDQU97hsD7",
        "outputId": "71aa1a34-73dd-4051-fc74-9c10d4ceca4f"
      },
      "execution_count": 21,
      "outputs": [
        {
          "output_type": "execute_result",
          "data": {
            "text/plain": [
              "(171332, 256, 5355, 32)"
            ]
          },
          "metadata": {},
          "execution_count": 21
        }
      ]
    },
    {
      "cell_type": "markdown",
      "source": [
        "# Geração dos vetores densos"
      ],
      "metadata": {
        "id": "Hq6Y0k52heop"
      }
    },
    {
      "cell_type": "markdown",
      "source": [
        "## Carregamento do modelo pré-treinado de passagens"
      ],
      "metadata": {
        "id": "Lbwcg5eohks3"
      }
    },
    {
      "cell_type": "code",
      "source": [
        "model_passages = AutoModel.from_pretrained('model_dir/passages').to(device)"
      ],
      "metadata": {
        "id": "rfbbtDTxQWp8"
      },
      "execution_count": 22,
      "outputs": []
    },
    {
      "cell_type": "markdown",
      "source": [
        "## Vetores - Corpus"
      ],
      "metadata": {
        "id": "L8g1avrkigTN"
      }
    },
    {
      "cell_type": "code",
      "source": [
        "model_passages.eval()\n",
        "\n",
        "matrix_trec_covid = None\n",
        "with torch.no_grad():\n",
        "    for batch in tqdm(dataloader_trec_covid, mininterval=0.5, desc='Extraindo vetores dos documentos trec-covid', disable=False):\n",
        "        outputs_passages = model_passages(**batch.to(device))\n",
        "        tcls_passages  = outputs_passages.last_hidden_state[:, 0, :]\n",
        "        nt_cls_passages = F.normalize(tcls_passages, dim=1)\n",
        "\n",
        "        if matrix_trec_covid is None:\n",
        "            matrix_trec_covid = nt_cls_passages\n",
        "        else:\n",
        "            matrix_trec_covid = torch.cat( (matrix_trec_covid, nt_cls_passages), dim=0)\n",
        "        \n",
        "print(matrix_trec_covid.size())"
      ],
      "metadata": {
        "colab": {
          "base_uri": "https://localhost:8080/",
          "height": 104,
          "referenced_widgets": [
            "1b37046344a24ac3ab59e2e1561b2d01",
            "c95b01fe8f3d470aab4454ebace2efc2",
            "84635c25d4444ad1bb23d4ba56fa19ef",
            "447346614f27457da8369ad8bffbdbcc",
            "ef2e2a5da013460b970d8f6eab35d2a9",
            "abd06d8a1f6045e1a5fde39f90da8a0e",
            "0bab7066ee8447a4b8f16342dc532c8b",
            "bdc4aff0f3f649b992afc564135b7d82",
            "7c2169b634854fcd8c1ee72ccc6ad6ca",
            "6f97317271d54c66a84e69cc975c15d5",
            "037d6bf0f81f4cd1a9dc44875441dc2b"
          ]
        },
        "id": "giiwVVAKRCwQ",
        "outputId": "7d62f649-b88c-4304-eb4d-d8051ff4b4f6"
      },
      "execution_count": 23,
      "outputs": [
        {
          "output_type": "display_data",
          "data": {
            "text/plain": [
              "Extraindo vetores dos documentos trec-covid:   0%|          | 0/5355 [00:00<?, ?it/s]"
            ],
            "application/vnd.jupyter.widget-view+json": {
              "version_major": 2,
              "version_minor": 0,
              "model_id": "1b37046344a24ac3ab59e2e1561b2d01"
            }
          },
          "metadata": {}
        },
        {
          "output_type": "stream",
          "name": "stderr",
          "text": [
            "You're using a BertTokenizerFast tokenizer. Please note that with a fast tokenizer, using the `__call__` method is faster than using a method to encode the text followed by a call to the `pad` method to get a padded encoding.\n"
          ]
        },
        {
          "output_type": "stream",
          "name": "stdout",
          "text": [
            "torch.Size([171332, 384])\n"
          ]
        }
      ]
    },
    {
      "cell_type": "code",
      "source": [
        "matrix_trec_covid[0]"
      ],
      "metadata": {
        "colab": {
          "base_uri": "https://localhost:8080/"
        },
        "id": "fItNBQDu3-Zz",
        "outputId": "41d95d64-075c-4d98-aa28-9f9904e8e788"
      },
      "execution_count": 24,
      "outputs": [
        {
          "output_type": "execute_result",
          "data": {
            "text/plain": [
              "tensor([-1.8228e-02, -8.2913e-03,  6.7667e-03, -3.3719e-02,  5.8914e-02,\n",
              "        -5.0007e-02, -1.3450e-02,  4.8622e-02,  9.0097e-03,  3.6606e-03,\n",
              "         2.5577e-02,  4.7016e-03,  3.6636e-02, -5.1368e-03, -8.9948e-02,\n",
              "        -4.4101e-03,  2.3629e-02, -3.4375e-02, -3.2875e-02,  8.9923e-03,\n",
              "        -2.4711e-02,  2.5858e-02, -2.5893e-02, -2.2126e-02,  2.7185e-02,\n",
              "         3.6465e-02,  1.3539e-02, -5.8188e-02, -2.7350e-02, -2.0427e-01,\n",
              "         1.2730e-02,  1.2565e-02,  1.6696e-02, -2.9886e-02,  5.4365e-02,\n",
              "         6.3844e-03, -2.1583e-02, -3.8462e-02,  8.2104e-03,  4.8611e-02,\n",
              "        -1.3951e-02,  1.3109e-02,  1.5594e-02,  2.4341e-02, -3.3577e-02,\n",
              "        -4.6783e-02, -2.5867e-02,  7.0238e-04,  4.5544e-02,  2.7213e-02,\n",
              "        -5.0063e-02, -3.0408e-02, -2.5205e-02,  4.6188e-02, -5.3137e-02,\n",
              "         1.3053e-02, -4.6701e-02, -5.9392e-03, -4.2127e-02,  4.1899e-02,\n",
              "         8.5847e-03, -4.0065e-03, -1.1671e-01,  6.9298e-02, -3.5188e-02,\n",
              "         1.3782e-02, -7.7020e-03, -2.9861e-02,  4.3259e-02, -3.0009e-03,\n",
              "        -2.7950e-02,  3.2880e-03,  4.8771e-02,  2.0151e-02,  8.2120e-03,\n",
              "        -1.2423e-02, -3.7599e-03,  1.6477e-02,  1.1713e-02, -4.4421e-03,\n",
              "         3.8965e-02,  5.3946e-04,  1.6909e-02, -2.5854e-02,  1.8690e-02,\n",
              "        -2.7972e-02, -1.5207e-02,  3.2844e-02, -4.4123e-03, -3.1302e-02,\n",
              "         2.7428e-02, -6.9403e-02,  1.9175e-02, -2.6514e-02, -5.1501e-02,\n",
              "        -1.3803e-02, -6.7859e-03,  3.7611e-02,  5.1876e-02,  6.5410e-01,\n",
              "        -5.1643e-02, -4.3810e-02,  7.3388e-03,  2.3851e-03, -4.1683e-02,\n",
              "        -2.7357e-02,  2.3373e-02, -2.4587e-02,  4.0328e-02, -3.7898e-03,\n",
              "        -2.3657e-02,  3.5819e-02,  2.8234e-02,  2.7836e-02, -1.5050e-02,\n",
              "         7.0128e-02,  1.0101e-02, -7.1245e-05, -3.2472e-02,  1.8408e-03,\n",
              "         1.2172e-02, -3.4585e-02,  1.2417e-02, -4.7599e-02,  3.4624e-02,\n",
              "        -1.4650e-01,  5.9837e-03,  1.0799e-01,  6.9062e-02, -4.2044e-02,\n",
              "         4.0608e-02, -1.8095e-02, -3.1137e-03,  1.1320e-02,  8.6395e-03,\n",
              "         1.8852e-03, -1.4633e-02, -2.1089e-02, -2.9074e-02,  3.6445e-02,\n",
              "         1.0151e-02, -1.5386e-02,  3.0265e-02, -2.9975e-02,  7.3749e-03,\n",
              "         4.1112e-02,  8.6625e-03, -9.1358e-03,  3.6315e-02, -9.6183e-03,\n",
              "        -2.1414e-02,  2.7557e-02, -2.8974e-02,  5.6952e-02,  1.5575e-02,\n",
              "         5.2491e-03,  1.9353e-02, -2.5948e-03,  1.1460e-02, -3.9272e-02,\n",
              "        -4.4247e-02, -3.3727e-02,  2.1147e-03,  2.0564e-02, -3.5336e-02,\n",
              "        -4.3764e-02, -4.1274e-03, -2.0229e-02, -1.4235e-02,  3.4985e-02,\n",
              "        -1.8875e-02, -1.7832e-02,  1.0022e-02, -1.2377e-02, -3.6952e-02,\n",
              "        -5.0670e-03, -9.2180e-03,  1.0227e-02, -5.4514e-02, -1.0782e-02,\n",
              "        -1.5044e-02,  1.8704e-04, -1.3568e-02,  1.1187e-02,  8.8899e-03,\n",
              "        -7.2250e-03, -2.3150e-02, -6.1926e-04,  1.7890e-03, -8.5739e-03,\n",
              "        -3.5471e-02,  6.8570e-02, -2.0751e-02,  3.8303e-03, -1.3637e-02,\n",
              "        -4.2206e-02,  6.5032e-03,  1.2439e-02,  2.2696e-02, -6.8833e-03,\n",
              "         2.8521e-03,  2.9632e-02, -1.6741e-02,  1.9319e-03,  1.1354e-03,\n",
              "        -1.6281e-02,  2.1386e-02, -2.8877e-02,  2.0306e-02, -1.6453e-02,\n",
              "        -1.4061e-02,  3.9135e-02, -2.4355e-02, -3.1628e-03, -3.5220e-02,\n",
              "         3.6178e-02, -4.9203e-02,  8.3533e-03,  1.2632e-02,  5.9917e-02,\n",
              "        -4.0685e-02, -2.2853e-02, -1.4738e-02, -2.6882e-01,  4.1890e-02,\n",
              "         1.2778e-03, -2.8888e-02,  1.5399e-03,  1.5375e-02,  2.0306e-02,\n",
              "         1.3004e-02,  2.5401e-02,  8.6191e-03,  3.4590e-02, -2.6773e-03,\n",
              "         2.8906e-02,  1.7981e-02, -7.1248e-03,  1.6193e-02,  8.0302e-03,\n",
              "        -1.3607e-02, -1.7167e-02, -1.8146e-02,  4.2478e-02, -4.0949e-02,\n",
              "         3.2083e-03, -7.0540e-03,  2.6666e-03, -1.5815e-02,  7.8592e-02,\n",
              "         3.5572e-03,  3.6520e-03, -1.4616e-02, -4.7128e-02,  1.8224e-02,\n",
              "        -9.9403e-03, -4.4881e-02, -2.3172e-02,  1.2981e-02,  1.4708e-02,\n",
              "         4.6327e-02, -8.1583e-03, -1.8975e-02, -3.6378e-02,  2.3122e-02,\n",
              "         4.2243e-02, -1.5129e-02,  1.1667e-02,  8.2373e-02,  1.0138e-02,\n",
              "         4.2049e-02, -2.4527e-02,  2.9795e-02, -7.8654e-03, -1.9163e-02,\n",
              "         4.0364e-03, -5.1931e-02, -3.1398e-03,  4.2754e-02, -2.5858e-02,\n",
              "        -1.1198e-02, -3.3929e-02, -1.6161e-02, -1.5681e-03,  1.7167e-02,\n",
              "        -5.3828e-03, -2.9424e-02,  2.6718e-02, -5.1611e-02,  3.2407e-02,\n",
              "         3.2624e-02,  3.7713e-02, -4.2066e-03,  2.8766e-02,  3.8788e-02,\n",
              "        -3.4103e-02,  6.3554e-02,  3.8351e-03,  1.0202e-02,  6.4381e-04,\n",
              "        -9.1196e-02,  4.2033e-03,  2.4519e-02, -1.6861e-02, -6.7834e-03,\n",
              "        -6.2904e-02,  2.0686e-02,  7.7449e-03, -9.5167e-03, -5.1069e-02,\n",
              "         8.3469e-03, -5.6732e-02, -2.4037e-02,  1.0459e-02,  7.2516e-03,\n",
              "        -4.3683e-03, -2.4612e-02, -3.8551e-02,  5.6875e-02, -2.4627e-01,\n",
              "         5.6210e-02, -2.9619e-02, -2.0452e-02,  4.4159e-02,  1.7360e-02,\n",
              "        -7.9251e-02, -2.4751e-02,  2.5118e-02,  2.5208e-02,  5.8674e-02,\n",
              "        -5.2071e-02,  6.0629e-02, -4.7738e-03,  2.3434e-02,  2.3588e-02,\n",
              "         5.5574e-02, -1.1358e-02,  1.7015e-02,  5.3769e-03,  3.1827e-03,\n",
              "        -2.2767e-02,  1.0845e-01,  2.5396e-02, -1.1629e-02,  4.3383e-02,\n",
              "         4.9565e-02,  2.0372e-02, -5.6796e-02,  8.7686e-03,  2.8436e-02,\n",
              "        -4.9176e-02,  2.5215e-02, -1.6386e-02, -7.6972e-03,  4.0661e-03,\n",
              "         1.1150e-02,  4.8401e-02,  1.8036e-02,  1.3640e-02,  1.9571e-03,\n",
              "        -1.4463e-02, -1.7983e-02,  1.9452e-02,  1.9813e-02,  3.8513e-02,\n",
              "         8.7540e-03, -2.0166e-02,  4.6686e-02,  2.0105e-02,  5.2155e-04,\n",
              "         1.1337e-02,  2.6218e-02,  1.6835e-02, -1.7424e-02, -3.4109e-02,\n",
              "         3.2271e-02, -6.6026e-04, -2.3783e-02, -6.9514e-02, -7.9238e-04,\n",
              "        -6.7837e-03, -2.3565e-02,  2.8979e-02,  1.5317e-02], device='cuda:0')"
            ]
          },
          "metadata": {},
          "execution_count": 24
        }
      ]
    },
    {
      "cell_type": "code",
      "source": [
        "#torch.save(matrix_trec_covid, 'matriz_docs_trec_covid.pt')\n",
        "#torch.save(matrix_trec_covid, 'drive/My Drive/temp/matriz_docs_trec_covid.pt')\n",
        "#matrix_trec_covid = torch.load('matriz_docs_trec_covid.pt').to(device)"
      ],
      "metadata": {
        "id": "L8O9nKsbmrIo"
      },
      "execution_count": 25,
      "outputs": []
    },
    {
      "cell_type": "markdown",
      "source": [
        "## Carregamento do modelo pré-treinado de queries"
      ],
      "metadata": {
        "id": "X6oDSNl_ozw-"
      }
    },
    {
      "cell_type": "code",
      "source": [
        "model_queries  = AutoModel.from_pretrained('model_dir/queries').to(device)"
      ],
      "metadata": {
        "id": "5XR3Ebv5comL"
      },
      "execution_count": 26,
      "outputs": []
    },
    {
      "cell_type": "markdown",
      "source": [
        "## Vetores - Queries"
      ],
      "metadata": {
        "id": "2TsLnDd7oq3Z"
      }
    },
    {
      "cell_type": "code",
      "source": [
        "for query in queries:\n",
        "    query_tokens = tokenizer(query['text'], padding=True, truncation=True, max_length=max_length, return_tensors='pt')\n",
        "    with torch.no_grad():\n",
        "        output_query = model_queries(**query_tokens.to(device))\n",
        "        tcls_query    = output_query.last_hidden_state[:, 0, :]\n",
        "        nt_cls_query    = F.normalize(tcls_query.squeeze(), dim=0)\n",
        "    query['dpr'] = nt_cls_query\n",
        "\n",
        "print('Example:')\n",
        "print(f\"id: {queries[0]['id']} /  text: {queries[0]['text']} /  dpr: {queries[0]['dpr'].size()}\")"
      ],
      "metadata": {
        "colab": {
          "base_uri": "https://localhost:8080/"
        },
        "id": "HtoQ25IRcbWf",
        "outputId": "4e34e27c-adf0-4c94-d98c-82f88721733a"
      },
      "execution_count": 27,
      "outputs": [
        {
          "output_type": "stream",
          "name": "stdout",
          "text": [
            "Example:\n",
            "id: 1 /  text: what is the origin of COVID-19 /  dpr: torch.Size([384])\n"
          ]
        }
      ]
    },
    {
      "cell_type": "markdown",
      "source": [
        "# Busca exaustiva"
      ],
      "metadata": {
        "id": "rCSD7zRhtMW5"
      }
    },
    {
      "cell_type": "markdown",
      "source": [
        "## Teste inicial"
      ],
      "metadata": {
        "id": "lvkqAtjMnOII"
      }
    },
    {
      "cell_type": "code",
      "source": [
        "print('Examples:')\n",
        "for query in queries[:5]:\n",
        "    print(query['text'])\n",
        "    score = torch.matmul(matrix_trec_covid, query['dpr'])\n",
        "    sorted_score, indices_score = torch.sort(score, descending=True)\n",
        "    for idx in indices_score[:5]:\n",
        "        print('\\t', corpus[idx])"
      ],
      "metadata": {
        "colab": {
          "base_uri": "https://localhost:8080/"
        },
        "id": "dSi7qA7Ta7iN",
        "outputId": "0b943ee9-fb3e-4ed6-bed0-f106c23a6dc1"
      },
      "execution_count": 28,
      "outputs": [
        {
          "output_type": "stream",
          "name": "stdout",
          "text": [
            "Examples:\n",
            "what is the origin of COVID-19\n",
            "\t ('u7u75sl0', 'Strategies to trace back the origin of COVID-19 ')\n",
            "\t ('tpwzwfkv', 'The many uncertainties of COVID-19. ')\n",
            "\t ('hb4oua9h', 'Technology in the COVID-19 era: pushing the boundaries ')\n",
            "\t ('2mw6myt8', 'Continuing Professional Development in the Era of COVID-19. ')\n",
            "\t ('fpezij7o', 'Spreading of COVID-19 in a Common Place: Medical Architecture Analysis ')\n",
            "how does the coronavirus respond to changes in the weather\n",
            "\t ('hyyw23mz', 'Reducing risks from coronavirus transmission in the home-the role of viral load. ')\n",
            "\t ('gctnx6j1', 'What next for the coronavirus response? ')\n",
            "\t ('ek7114i3', 'Corona Virus International Public Health Emergencies: Implications for Radiology Management The outbreak of 2019 novel coronavirus (2019-nCoV) pneumonia was reported in Wuhan, Hubei Province, China in December 2019 and has spread internationally. This article discusses how radiology departments can most effectively respond to this public health emergency.')\n",
            "\t ('h7461bla', 'Preparing for a Surge of Coronavirus Cases ')\n",
            "\t ('3xb0owni', 'Coronapod: The overlooked outbreaks that could derail the coronavirus response Outbreaks among those unable to isolate are spreading under the radar We hear about the researchers scrambling to get a handle on the situation')\n",
            "will SARS-CoV2 infected people develop immunity? Is cross protection possible?\n",
            "\t ('wprf0pxm', 'The potential transmission of SARS-CoV-2 from patients with negative RT-PCR swab tests to others: two related clusters of COVID-19 outbreak In December 2019, a cluster of cases of acute respiratory illness, novel coronavirusinfected pneumonia, occurred in Wuhan, Hubei Province, China. The false-negative nasopharyngeal swabs of SARS-CoV-2 caused the delayed diagnosis of COVID-19 which hindered the prevention and control of the pandemic. The transmission risk of SARS-CoV-2 in negative nasopharyngeal swabs cases were little addressed previously. This study evaluated two clusters of COVID-19 in six patients. Four of six (66.7%) showed negative RNA of SARS-CoV-2 by nasopharyngeal swabs. All epidemiological, clinical and laboratory information was collected. The first cluster was a nosocomial infection of four health care providers at early January. One of them made sequential familial cluster of infection. All patients received either selfquarantined at home or were admitted to hospital for isolated treatment. All recovered and had anti-SARS-CoV-2 IgG and/or IgM positive (100%) for serological detection of SARS-CoV-2 at recovery stage. Our study provides a cautionary warning that negative results of nasopharyngeal swabs of suspected SARS-CoV-2 infection can increase the risk of nosocomial infection among health care providers. Serologic detection for anti-SARS-CoV-2 IgG and/or IgM is an important test in the assistant diagnosis of COVID-19.')\n",
            "\t ('dptgg05n', 'Characterization of anti-viral immunity in recovered individuals infected by SARS-CoV-2 The WHO has declared SARS-CoV-2 outbreak a public health emergency of international concern. However, to date, there was hardly any study in characterizing the immune responses, especially adaptive immune responses to SARS-CoV-2 infection. In this study, we collected blood from COVID-19 patients who have recently become virus-free and therefore were discharged, and analyzed their SARS-CoV-2-specific antibody and T cell responses. We observed SARS-CoV-2-specific humoral and cellular immunity in the patients. Both were detected in newly discharged patients, suggesting both participate in immune-mediated protection to viral infection. However, follow-up patients (2 weeks post discharge) exhibited high titers of IgG antibodies, but with low levels of virus-specific T cells, suggesting that they may enter a quiescent state. Our work has thus provided a basis for further analysis of protective immunity to SARS-CoV-2, and understanding the pathogenesis of COVID-19, especially in the severe cases. It has also implications in designing an effective vaccine to protect and treat SARS-CoV-2 infection.')\n",
            "\t ('zeq8b776', 'Co-infection in SARS-CoV-2 infected Patients: Where Are Influenza Virus and Rhinovirus/Enterovirus? Severe Acute Respiratory Syndrome Coronavirus-2 (SARS-CoV-2) has been declared a global pandemic. Our goal was to determine whether coinfections with other respiratory pathogens occur in a significant subset of SARS-CoV-2 infected patients in the greater New York City metropolitan area. During the period from March 16, 2020 through April 20, 2020, our laboratory detected SARS-CoV-2 infection in 8,990 patients of a total 18,704 tested by real-time reverse-transcription-polymerase-chain-reaction amplification (SARS-CoV-2 Test, cobas® 6800 system, RocheDiagnostics). Amongst the patients who tested positive for SARS-CoV-2, 1,204 were also tested for other respiratory viruses, and concurrent infection was found in only 36 (< 3%). In comparison, coinfection with at least one non-SARS-CoV-2 respiratory viral pathogen was found in 13.1% of patients who tested negative for SARS-CoV-2. Additionally, in patients who tested negative for SARS-CoV-2, the most common respiratory virus co-infections were those commonly seen circulating in the community including rhinovirus/enterovirus, influenza viruses and coronavirus NL63, whereas non-SARS-CoV-2 coronaviridae were the most common concurrent respiratory viruses found in SARS-CoV-2 -positive patients. Additional studies are needed to establish whether simultaneous viral infection in SARS-CoV-2 patients could potential drive viral interference or influence disease outcomes. This article is protected by copyright. All rights reserved.')\n",
            "\t ('a5d53x95', 'The potential transmission of SARS-CoV-2 from patients with negative RT-PCR swab tests to others: two related clusters of COVID-19 outbreak. In December 2019, a cluster of cases of acute respiratory illness, novel coronavirusinfected pneumonia, occurred in Wuhan, Hubei Province, China. The false-negative nasopharyngeal swabs of SARS-CoV-2 caused the delayed diagnosis of COVID-19 which hindered the prevention and control of the pandemic. The transmission risk of SARS-CoV-2 in negative nasopharyngeal swabs cases were little addressed previously. This study evaluated two clusters of COVID-19 in six patients. Four of six (66.7%) showed negative RNA of SARS-CoV-2 by nasopharyngeal swabs. All epidemiological, clinical and laboratory information was collected. The first cluster was a nosocomial infection of four health care providers at early January. One of them made sequential familial cluster of infection. All patients received either selfquarantined at home or were admitted to hospital for isolated treatment. All recovered and had anti-SARS-CoV-2 IgG and/or IgM positive (100%) for serological detection of SARS-CoV-2 at recovery stage. Our study provides a cautionary warning that negative results of nasopharyngeal swabs of suspected SARS-CoV-2 infection can increase the risk of nosocomial infection among health care providers. Serologic detection for anti-SARS-CoV-2 IgG and/or IgM is an important test in the assistant diagnosis of COVID-19.')\n",
            "\t ('vzwu2qol', 'Co‐infection in SARS‐CoV‐2 infected Patients: Where Are Influenza Virus and Rhinovirus/Enterovirus? Severe Acute Respiratory Syndrome Coronavirus‐2 (SARS‐CoV‐2) has been declared a global pandemic. Our goal was to determine whether coinfections with other respiratory pathogens occur in a significant subset of SARS‐CoV‐2 infected patients in the greater New York City metropolitan area. During the period from March 16, 2020 through April 20, 2020, our laboratory detected SARS‐CoV‐2 infection in 8,990 patients of a total 18,704 tested by real‐time reverse‐transcription‐polymerase‐chain‐reaction amplification (SARS‐CoV‐2 Test, cobas® 6800 system, RocheDiagnostics). Amongst the patients who tested positive for SARS‐CoV‐2, 1,204 were also tested for other respiratory viruses, and concurrent infection was found in only 36 (< 3%). In comparison, coinfection with at least one non‐SARS‐CoV‐2 respiratory viral pathogen was found in 13.1% of patients who tested negative for SARS‐CoV‐2. Additionally, in patients who tested negative for SARS‐CoV‐2, the most common respiratory virus co‐infections were those commonly seen circulating in the community including rhinovirus/enterovirus, influenza viruses and coronavirus NL63, whereas non‐SARS‐CoV‐2 coronaviridae were the most common concurrent respiratory viruses found in SARS‐CoV‐2 –positive patients. Additional studies are needed to establish whether simultaneous viral infection in SARS‐CoV‐2 patients could potential drive viral interference or influence disease outcomes. This article is protected by copyright. All rights reserved.')\n",
            "what causes death from Covid-19?\n",
            "\t ('bs0yainl', 'Excess Deaths From COVID-19 and Other Causes, March-April 2020. ')\n",
            "\t ('97pdrvvt', 'Risk factors for death from COVID-19 ')\n",
            "\t ('9g3gvkgr', \"Numbers with little meaning Estimates of covid-19's predicted death toll abound, but are of little use\")\n",
            "\t ('2vhnw8zt', 'Real estimates of mortality following COVID-19 infection ')\n",
            "\t ('86c3gj51', 'Publisher Correction: Risk factors for death from COVID-19 An amendment to this paper has been published and can be accessed via a link at the top of the paper.')\n",
            "what drugs have been active against SARS-CoV or SARS-CoV-2 in animal studies?\n",
            "\t ('cleximpf', 'Should SARS-CoV-2 influence immunosuppressive therapy for autoimmune blistering diseases? In this dramatic period where the whole world is affected by the outbreak of coronavirus disease 19 (COVID-19), scientific data relating to the causative virus SARS-CoV-2 as well as the subsequent therapeutic repercussions on the management of other diseases should be divulged in order to share as much information as possible among experts in a timely manner.')\n",
            "\t ('mlo8zypy', 'A human monoclonal antibody blocking SARS-CoV-2 infection The emergence of the novel human coronavirus SARS-CoV-2 in Wuhan, China has caused a worldwide epidemic of respiratory disease (COVID-19). Vaccines and targeted therapeutics for treatment of this disease are currently lacking. Here we report a human monoclonal antibody that neutralizes SARS-CoV-2 (and SARS-CoV). This cross-neutralizing antibody targets a communal epitope on these viruses and offers potential for prevention and treatment of COVID-19.')\n",
            "\t ('s33brsk6', 'A human monoclonal antibody blocking SARS-CoV-2 infection The emergence of the novel human coronavirus SARS-CoV-2 in Wuhan, China has caused a worldwide epidemic of respiratory disease (COVID-19). Vaccines and targeted therapeutics for treatment of this disease are currently lacking. Here we report a human monoclonal antibody that neutralizes SARS-CoV-2 (and SARS-CoV) in cell culture. This cross-neutralizing antibody targets a communal epitope on these viruses and may offer potential for prevention and treatment of COVID-19.')\n",
            "\t ('50yohq7p', 'Lessons learned from SARS-CoV and MERS-CoV: FDA-approved Abelson tyrosine-protein kinase 2 inhibitors may help us combat SARS-CoV-2 ')\n",
            "\t ('2a12nsnl', 'SARS-CoV-2 seroconversion in health care workers Background The correlates of protection against SARS-CoV-2 and their longevity remain unclear. Studies in severely ill individuals have identified robust cellular and humoral immune responses against the virus. Asymptomatic infection with SARS-CoV-2 has also been described, but it is unknown whether this is sufficient to produce antibody responses. Methods We performed a cross-sectional study recruiting 554 health care workers from University Hospitals Birmingham NHS Foundation Trust who were at work and asymptomatic. Participants were tested for current infection with SARS-CoV-2 by nasopharyngeal swab for real-time polymerase chain reaction and for seroconversion by the measurement of anti-SARS-CoV-2 spike glycoprotein antibodies by enzyme linked immunosorbent assay. Results were interpreted in the context of previous, self-reported symptoms of illness consistent with COVID-19. Results The point prevalence of infection with SARS-CoV-2, determined by the detection of SARS-CoV-2 RNA on nasopharnygeal swab was 2.39% (n=13/544). Serum was available on 516 participants. The overall rate of seroconversion in the cohort was 24.4% (n=126/516). Individuals who had previously experienced a symptomatic illness consistent with COVID-19 had significantly greater seroconversion rates than those who had remained asymptomatic (37.5% vs 17.1%, {chi}2 =21.1034, p<0.0001). In the week preceding peak COVID-19-related mortality at UHBFT, seroconversion rates amongst those who were suffering from symptomatic illnesses peaked at 77.8%. Prior symptomatic illness generated quantitatively higher antibody responses than asymptomatic seroconversion. Seroconversion rates were highest amongst those working in housekeeping (34.5%), acute medicine (33.3%) and general internal medicine (30.3%) with lower rates observed in participants working in intensive care (14.8%) and emergency medicine (13.3%). Conclusions In a large cross-sectional seroprevalence study of health-care workers, we demonstrate that asymptomatic seroconversion occurs, however prior symptomatic illness is associated with quantitatively higher antibody responses. The identification that the potential for seroconversion in health-care workers can associate differentially with certain hospital departments may inform future infection control and occupational health practices.')\n"
          ]
        }
      ]
    },
    {
      "cell_type": "markdown",
      "source": [
        "## Função de busca"
      ],
      "metadata": {
        "id": "Ph9fbG0T3blI"
      }
    },
    {
      "cell_type": "code",
      "source": [
        "def search_dpr(query, n = 1000):\n",
        "    score = torch.matmul(matrix_trec_covid, query['dpr'])\n",
        "    sorted_score, indices_score = torch.sort(score, descending=True)\n",
        "    ids_docs = [corpus[idx][0] for idx in indices_score[:n]]\n",
        "    return zip(ids_docs, sorted_score[:n])"
      ],
      "metadata": {
        "id": "G2ZnV_Y6nNa4"
      },
      "execution_count": 29,
      "outputs": []
    },
    {
      "cell_type": "markdown",
      "source": [
        "## Execução das buscas"
      ],
      "metadata": {
        "id": "QZ756fn1tQ73"
      }
    },
    {
      "cell_type": "code",
      "source": [
        "with open('run-dpr-exaustiva.txt', 'w') as runfile:\n",
        "    for q, query in enumerate(queries):\n",
        "        for i, (id_doc, score) in enumerate(search_dpr(query)):\n",
        "            runfile.write(f\"{query['id']} Q0 {id_doc} {i+1} {float(score):.6f} Pesquisa_densa\\n\")"
      ],
      "metadata": {
        "id": "cbivPyx802jO"
      },
      "execution_count": 30,
      "outputs": []
    },
    {
      "cell_type": "markdown",
      "source": [
        "## Avaliação"
      ],
      "metadata": {
        "id": "6ocrQfuL_UbC"
      }
    },
    {
      "cell_type": "code",
      "source": [
        "!python -m pyserini.eval.trec_eval -c -m ndcg_cut.10 trec-covid/qrels/test_adjusted.tsv run-dpr-exaustiva.txt"
      ],
      "metadata": {
        "colab": {
          "base_uri": "https://localhost:8080/"
        },
        "outputId": "8243fd34-b1fa-4836-fa58-ad1727810acd",
        "id": "qD36CDSFuslr"
      },
      "execution_count": 31,
      "outputs": [
        {
          "output_type": "stream",
          "name": "stdout",
          "text": [
            "Downloading https://search.maven.org/remotecontent?filepath=uk/ac/gla/dcs/terrierteam/jtreceval/0.0.5/jtreceval-0.0.5-jar-with-dependencies.jar to /root/.cache/pyserini/eval/jtreceval-0.0.5-jar-with-dependencies.jar...\n",
            "jtreceval-0.0.5-jar-with-dependencies.jar: 1.79MB [00:02, 717kB/s]                 \n",
            "Running command: ['java', '-jar', '/root/.cache/pyserini/eval/jtreceval-0.0.5-jar-with-dependencies.jar', '-c', '-m', 'ndcg_cut.10', 'trec-covid/qrels/test_adjusted.tsv', 'run-dpr-exaustiva.txt']\n",
            "Results:\n",
            "ndcg_cut_10           \tall\t0.2717\n"
          ]
        }
      ]
    },
    {
      "cell_type": "markdown",
      "source": [
        "# sentence-transformers/all-mpnet-base-v2"
      ],
      "metadata": {
        "id": "I8-ZyFwRAB_-"
      }
    },
    {
      "cell_type": "code",
      "source": [
        "ids_trec_covid, docs_trec_covid = zip(*corpus)\n",
        "len(ids_trec_covid), len(docs_trec_covid)"
      ],
      "metadata": {
        "colab": {
          "base_uri": "https://localhost:8080/"
        },
        "id": "67_vAzLJYmRN",
        "outputId": "06346389-faf8-4631-c630-bb94945483fe"
      },
      "execution_count": 33,
      "outputs": [
        {
          "output_type": "execute_result",
          "data": {
            "text/plain": [
              "(171332, 171332)"
            ]
          },
          "metadata": {},
          "execution_count": 33
        }
      ]
    },
    {
      "cell_type": "code",
      "source": [
        "!pip install sentence-transformers"
      ],
      "metadata": {
        "colab": {
          "base_uri": "https://localhost:8080/"
        },
        "id": "3EpZANA_H0fk",
        "outputId": "d0405343-21e8-4792-9474-f1d43b7fbebf"
      },
      "execution_count": 34,
      "outputs": [
        {
          "output_type": "stream",
          "name": "stdout",
          "text": [
            "Looking in indexes: https://pypi.org/simple, https://us-python.pkg.dev/colab-wheels/public/simple/\n",
            "Collecting sentence-transformers\n",
            "  Downloading sentence-transformers-2.2.2.tar.gz (85 kB)\n",
            "\u001b[2K     \u001b[90m━━━━━━━━━━━━━━━━━━━━━━━━━━━━━━━━━━━━━━━━\u001b[0m \u001b[32m86.0/86.0 kB\u001b[0m \u001b[31m12.1 MB/s\u001b[0m eta \u001b[36m0:00:00\u001b[0m\n",
            "\u001b[?25h  Preparing metadata (setup.py) ... \u001b[?25l\u001b[?25hdone\n",
            "Requirement already satisfied: transformers<5.0.0,>=4.6.0 in /usr/local/lib/python3.9/dist-packages (from sentence-transformers) (4.28.1)\n",
            "Requirement already satisfied: tqdm in /usr/local/lib/python3.9/dist-packages (from sentence-transformers) (4.65.0)\n",
            "Requirement already satisfied: torch>=1.6.0 in /usr/local/lib/python3.9/dist-packages (from sentence-transformers) (2.0.0+cu118)\n",
            "Requirement already satisfied: torchvision in /usr/local/lib/python3.9/dist-packages (from sentence-transformers) (0.15.1+cu118)\n",
            "Requirement already satisfied: numpy in /usr/local/lib/python3.9/dist-packages (from sentence-transformers) (1.22.4)\n",
            "Requirement already satisfied: scikit-learn in /usr/local/lib/python3.9/dist-packages (from sentence-transformers) (1.2.2)\n",
            "Requirement already satisfied: scipy in /usr/local/lib/python3.9/dist-packages (from sentence-transformers) (1.10.1)\n",
            "Requirement already satisfied: nltk in /usr/local/lib/python3.9/dist-packages (from sentence-transformers) (3.8.1)\n",
            "Requirement already satisfied: sentencepiece in /usr/local/lib/python3.9/dist-packages (from sentence-transformers) (0.1.98)\n",
            "Requirement already satisfied: huggingface-hub>=0.4.0 in /usr/local/lib/python3.9/dist-packages (from sentence-transformers) (0.13.4)\n",
            "Requirement already satisfied: requests in /usr/local/lib/python3.9/dist-packages (from huggingface-hub>=0.4.0->sentence-transformers) (2.27.1)\n",
            "Requirement already satisfied: filelock in /usr/local/lib/python3.9/dist-packages (from huggingface-hub>=0.4.0->sentence-transformers) (3.11.0)\n",
            "Requirement already satisfied: typing-extensions>=3.7.4.3 in /usr/local/lib/python3.9/dist-packages (from huggingface-hub>=0.4.0->sentence-transformers) (4.5.0)\n",
            "Requirement already satisfied: packaging>=20.9 in /usr/local/lib/python3.9/dist-packages (from huggingface-hub>=0.4.0->sentence-transformers) (23.1)\n",
            "Requirement already satisfied: pyyaml>=5.1 in /usr/local/lib/python3.9/dist-packages (from huggingface-hub>=0.4.0->sentence-transformers) (6.0)\n",
            "Requirement already satisfied: networkx in /usr/local/lib/python3.9/dist-packages (from torch>=1.6.0->sentence-transformers) (3.1)\n",
            "Requirement already satisfied: jinja2 in /usr/local/lib/python3.9/dist-packages (from torch>=1.6.0->sentence-transformers) (3.1.2)\n",
            "Requirement already satisfied: sympy in /usr/local/lib/python3.9/dist-packages (from torch>=1.6.0->sentence-transformers) (1.11.1)\n",
            "Requirement already satisfied: triton==2.0.0 in /usr/local/lib/python3.9/dist-packages (from torch>=1.6.0->sentence-transformers) (2.0.0)\n",
            "Requirement already satisfied: cmake in /usr/local/lib/python3.9/dist-packages (from triton==2.0.0->torch>=1.6.0->sentence-transformers) (3.25.2)\n",
            "Requirement already satisfied: lit in /usr/local/lib/python3.9/dist-packages (from triton==2.0.0->torch>=1.6.0->sentence-transformers) (16.0.1)\n",
            "Requirement already satisfied: tokenizers!=0.11.3,<0.14,>=0.11.1 in /usr/local/lib/python3.9/dist-packages (from transformers<5.0.0,>=4.6.0->sentence-transformers) (0.13.3)\n",
            "Requirement already satisfied: regex!=2019.12.17 in /usr/local/lib/python3.9/dist-packages (from transformers<5.0.0,>=4.6.0->sentence-transformers) (2022.10.31)\n",
            "Requirement already satisfied: joblib in /usr/local/lib/python3.9/dist-packages (from nltk->sentence-transformers) (1.2.0)\n",
            "Requirement already satisfied: click in /usr/local/lib/python3.9/dist-packages (from nltk->sentence-transformers) (8.1.3)\n",
            "Requirement already satisfied: threadpoolctl>=2.0.0 in /usr/local/lib/python3.9/dist-packages (from scikit-learn->sentence-transformers) (3.1.0)\n",
            "Requirement already satisfied: pillow!=8.3.*,>=5.3.0 in /usr/local/lib/python3.9/dist-packages (from torchvision->sentence-transformers) (8.4.0)\n",
            "Requirement already satisfied: MarkupSafe>=2.0 in /usr/local/lib/python3.9/dist-packages (from jinja2->torch>=1.6.0->sentence-transformers) (2.1.2)\n",
            "Requirement already satisfied: charset-normalizer~=2.0.0 in /usr/local/lib/python3.9/dist-packages (from requests->huggingface-hub>=0.4.0->sentence-transformers) (2.0.12)\n",
            "Requirement already satisfied: idna<4,>=2.5 in /usr/local/lib/python3.9/dist-packages (from requests->huggingface-hub>=0.4.0->sentence-transformers) (3.4)\n",
            "Requirement already satisfied: urllib3<1.27,>=1.21.1 in /usr/local/lib/python3.9/dist-packages (from requests->huggingface-hub>=0.4.0->sentence-transformers) (1.26.15)\n",
            "Requirement already satisfied: certifi>=2017.4.17 in /usr/local/lib/python3.9/dist-packages (from requests->huggingface-hub>=0.4.0->sentence-transformers) (2022.12.7)\n",
            "Requirement already satisfied: mpmath>=0.19 in /usr/local/lib/python3.9/dist-packages (from sympy->torch>=1.6.0->sentence-transformers) (1.3.0)\n",
            "Building wheels for collected packages: sentence-transformers\n",
            "  Building wheel for sentence-transformers (setup.py) ... \u001b[?25l\u001b[?25hdone\n",
            "  Created wheel for sentence-transformers: filename=sentence_transformers-2.2.2-py3-none-any.whl size=125942 sha256=ae912098932f3ddf3033127f2df371cf16182556ea0802bc29063a19173191c1\n",
            "  Stored in directory: /root/.cache/pip/wheels/71/67/06/162a3760c40d74dd40bc855d527008d26341c2b0ecf3e8e11f\n",
            "Successfully built sentence-transformers\n",
            "Installing collected packages: sentence-transformers\n",
            "Successfully installed sentence-transformers-2.2.2\n"
          ]
        }
      ]
    },
    {
      "cell_type": "code",
      "source": [
        "from sentence_transformers import SentenceTransformer, util\n",
        "\n",
        "model_mpnet = SentenceTransformer('all-mpnet-base-v2').to(device)\n",
        "\n",
        "docs_embeddings = model_mpnet.encode(docs_trec_covid)\n",
        "\n",
        "torch.save(docs_embeddings, 'docs_embeddings-all-mpnet-base-v2.pt')\n",
        "#docs_embeddings = torch.load('docs_embeddings-all-mpnet-base-v2.pt')"
      ],
      "metadata": {
        "id": "y4KpO5Q_Hq77"
      },
      "execution_count": 36,
      "outputs": []
    },
    {
      "cell_type": "markdown",
      "source": [
        "## Geração dos vetores - Queries"
      ],
      "metadata": {
        "id": "Q4indV0tO3PX"
      }
    },
    {
      "cell_type": "code",
      "source": [
        "for query in queries:\n",
        "    query['dpr_mnet'] = model_mpnet.encode(query['text'])\n",
        "\n",
        "print('Example:')\n",
        "print(f\"id: {queries[0]['id']} /  text: {queries[0]['text']} /  dpr: {len(queries[0]['dpr_mnet'])}\")"
      ],
      "metadata": {
        "colab": {
          "base_uri": "https://localhost:8080/"
        },
        "id": "n9zLVVkcJcKO",
        "outputId": "25bcc36b-48de-43b2-fcb1-1e2b07745093"
      },
      "execution_count": 39,
      "outputs": [
        {
          "output_type": "stream",
          "name": "stdout",
          "text": [
            "Example:\n",
            "id: 1 /  text: what is the origin of COVID-19 /  dpr: 768\n"
          ]
        }
      ]
    },
    {
      "cell_type": "markdown",
      "source": [
        "## Função de busca"
      ],
      "metadata": {
        "id": "oEDoT36eNwgU"
      }
    },
    {
      "cell_type": "code",
      "source": [
        "def search_dpr_aprox(query, n = 1000):\n",
        "    score = util.dot_score(query['dpr_mnet'], docs_embeddings).squeeze()\n",
        "    sorted_score, indices_score = torch.sort(score, descending=True)\n",
        "    ids_docs = [corpus[idx][0] for idx in indices_score[:n]]\n",
        "    return zip(ids_docs, sorted_score[:n])"
      ],
      "metadata": {
        "id": "Gp3FhYTJJNnH"
      },
      "execution_count": 48,
      "outputs": []
    },
    {
      "cell_type": "markdown",
      "source": [
        "## Execução das buscas"
      ],
      "metadata": {
        "id": "V3ZmuMSeNtMv"
      }
    },
    {
      "cell_type": "code",
      "source": [
        "with open('run-dpr-aproximada.txt', 'w') as runfile:\n",
        "    for q, query in enumerate(queries):\n",
        "        for i, (id_doc, score) in enumerate(search_dpr_aprox(query)):\n",
        "            runfile.write(f\"{query['id']} Q0 {id_doc} {i+1} {float(score):.6f} Pesquisa_densa\\n\")"
      ],
      "metadata": {
        "id": "xc1yXy4pIlm-"
      },
      "execution_count": 49,
      "outputs": []
    },
    {
      "cell_type": "markdown",
      "source": [
        "## Avaliação"
      ],
      "metadata": {
        "id": "JWWD6uS6NpRs"
      }
    },
    {
      "cell_type": "code",
      "source": [
        "!python -m pyserini.eval.trec_eval -c -m ndcg_cut.10 trec-covid/qrels/test_adjusted.tsv run-dpr-aproximada.txt"
      ],
      "metadata": {
        "colab": {
          "base_uri": "https://localhost:8080/"
        },
        "id": "fMcL6gQII10b",
        "outputId": "3b088b3c-30b2-4e9d-f55c-211b6daf6787"
      },
      "execution_count": 50,
      "outputs": [
        {
          "output_type": "stream",
          "name": "stdout",
          "text": [
            "Downloading https://search.maven.org/remotecontent?filepath=uk/ac/gla/dcs/terrierteam/jtreceval/0.0.5/jtreceval-0.0.5-jar-with-dependencies.jar to /root/.cache/pyserini/eval/jtreceval-0.0.5-jar-with-dependencies.jar...\n",
            "/root/.cache/pyserini/eval/jtreceval-0.0.5-jar-with-dependencies.jar already exists!\n",
            "Skipping download.\n",
            "Running command: ['java', '-jar', '/root/.cache/pyserini/eval/jtreceval-0.0.5-jar-with-dependencies.jar', '-c', '-m', 'ndcg_cut.10', 'trec-covid/qrels/test_adjusted.tsv', 'run-dpr-aproximada.txt']\n",
            "Results:\n",
            "ndcg_cut_10           \tall\t0.5032\n"
          ]
        }
      ]
    },
    {
      "cell_type": "code",
      "source": [],
      "metadata": {
        "id": "0iqZskv5Q-cV"
      },
      "execution_count": null,
      "outputs": []
    }
  ]
}