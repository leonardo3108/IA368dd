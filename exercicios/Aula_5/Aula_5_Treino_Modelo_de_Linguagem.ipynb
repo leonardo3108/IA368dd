{
  "nbformat": 4,
  "nbformat_minor": 0,
  "metadata": {
    "colab": {
      "provenance": [],
      "toc_visible": true,
      "machine_shape": "hm",
      "mount_file_id": "1Vk4jJ1T2gLaMMa5akhlXeO2ZXjwMZ5__",
      "authorship_tag": "ABX9TyP3l1+AN2Xellr6rOagT7WE",
      "include_colab_link": true
    },
    "kernelspec": {
      "name": "python3",
      "display_name": "Python 3"
    },
    "language_info": {
      "name": "python"
    },
    "accelerator": "GPU",
    "gpuClass": "premium",
    "widgets": {
      "application/vnd.jupyter.widget-state+json": {
        "a32fbd515baf40d88b7aec58dce4c74c": {
          "model_module": "@jupyter-widgets/controls",
          "model_name": "HBoxModel",
          "model_module_version": "1.5.0",
          "state": {
            "_dom_classes": [],
            "_model_module": "@jupyter-widgets/controls",
            "_model_module_version": "1.5.0",
            "_model_name": "HBoxModel",
            "_view_count": null,
            "_view_module": "@jupyter-widgets/controls",
            "_view_module_version": "1.5.0",
            "_view_name": "HBoxView",
            "box_style": "",
            "children": [
              "IPY_MODEL_da0af1321d2e47a2a341c76796acdd7f",
              "IPY_MODEL_d3b816635006417bb36c3b044ace4cbb",
              "IPY_MODEL_2f4d1c1d6c3b436bb0935857eced04d8"
            ],
            "layout": "IPY_MODEL_38376de003a54c769621644b488d0205"
          }
        },
        "da0af1321d2e47a2a341c76796acdd7f": {
          "model_module": "@jupyter-widgets/controls",
          "model_name": "HTMLModel",
          "model_module_version": "1.5.0",
          "state": {
            "_dom_classes": [],
            "_model_module": "@jupyter-widgets/controls",
            "_model_module_version": "1.5.0",
            "_model_name": "HTMLModel",
            "_view_count": null,
            "_view_module": "@jupyter-widgets/controls",
            "_view_module_version": "1.5.0",
            "_view_name": "HTMLView",
            "description": "",
            "description_tooltip": null,
            "layout": "IPY_MODEL_734b723e75a649e3bf60e520f3ed51b9",
            "placeholder": "​",
            "style": "IPY_MODEL_d682334b8fc448989795b2074da65784",
            "value": "Downloading (…)okenizer_config.json: 100%"
          }
        },
        "d3b816635006417bb36c3b044ace4cbb": {
          "model_module": "@jupyter-widgets/controls",
          "model_name": "FloatProgressModel",
          "model_module_version": "1.5.0",
          "state": {
            "_dom_classes": [],
            "_model_module": "@jupyter-widgets/controls",
            "_model_module_version": "1.5.0",
            "_model_name": "FloatProgressModel",
            "_view_count": null,
            "_view_module": "@jupyter-widgets/controls",
            "_view_module_version": "1.5.0",
            "_view_name": "ProgressView",
            "bar_style": "success",
            "description": "",
            "description_tooltip": null,
            "layout": "IPY_MODEL_0bd7e44c2c674b748887209502f77c85",
            "max": 685,
            "min": 0,
            "orientation": "horizontal",
            "style": "IPY_MODEL_683991dc9fff4d87b8a8056a5a9d5df5",
            "value": 685
          }
        },
        "2f4d1c1d6c3b436bb0935857eced04d8": {
          "model_module": "@jupyter-widgets/controls",
          "model_name": "HTMLModel",
          "model_module_version": "1.5.0",
          "state": {
            "_dom_classes": [],
            "_model_module": "@jupyter-widgets/controls",
            "_model_module_version": "1.5.0",
            "_model_name": "HTMLModel",
            "_view_count": null,
            "_view_module": "@jupyter-widgets/controls",
            "_view_module_version": "1.5.0",
            "_view_name": "HTMLView",
            "description": "",
            "description_tooltip": null,
            "layout": "IPY_MODEL_585382f731194ab7b5b961750a812895",
            "placeholder": "​",
            "style": "IPY_MODEL_68b10d500b3841f08f1b23c8b29ae14a",
            "value": " 685/685 [00:00&lt;00:00, 37.0kB/s]"
          }
        },
        "38376de003a54c769621644b488d0205": {
          "model_module": "@jupyter-widgets/base",
          "model_name": "LayoutModel",
          "model_module_version": "1.2.0",
          "state": {
            "_model_module": "@jupyter-widgets/base",
            "_model_module_version": "1.2.0",
            "_model_name": "LayoutModel",
            "_view_count": null,
            "_view_module": "@jupyter-widgets/base",
            "_view_module_version": "1.2.0",
            "_view_name": "LayoutView",
            "align_content": null,
            "align_items": null,
            "align_self": null,
            "border": null,
            "bottom": null,
            "display": null,
            "flex": null,
            "flex_flow": null,
            "grid_area": null,
            "grid_auto_columns": null,
            "grid_auto_flow": null,
            "grid_auto_rows": null,
            "grid_column": null,
            "grid_gap": null,
            "grid_row": null,
            "grid_template_areas": null,
            "grid_template_columns": null,
            "grid_template_rows": null,
            "height": null,
            "justify_content": null,
            "justify_items": null,
            "left": null,
            "margin": null,
            "max_height": null,
            "max_width": null,
            "min_height": null,
            "min_width": null,
            "object_fit": null,
            "object_position": null,
            "order": null,
            "overflow": null,
            "overflow_x": null,
            "overflow_y": null,
            "padding": null,
            "right": null,
            "top": null,
            "visibility": null,
            "width": null
          }
        },
        "734b723e75a649e3bf60e520f3ed51b9": {
          "model_module": "@jupyter-widgets/base",
          "model_name": "LayoutModel",
          "model_module_version": "1.2.0",
          "state": {
            "_model_module": "@jupyter-widgets/base",
            "_model_module_version": "1.2.0",
            "_model_name": "LayoutModel",
            "_view_count": null,
            "_view_module": "@jupyter-widgets/base",
            "_view_module_version": "1.2.0",
            "_view_name": "LayoutView",
            "align_content": null,
            "align_items": null,
            "align_self": null,
            "border": null,
            "bottom": null,
            "display": null,
            "flex": null,
            "flex_flow": null,
            "grid_area": null,
            "grid_auto_columns": null,
            "grid_auto_flow": null,
            "grid_auto_rows": null,
            "grid_column": null,
            "grid_gap": null,
            "grid_row": null,
            "grid_template_areas": null,
            "grid_template_columns": null,
            "grid_template_rows": null,
            "height": null,
            "justify_content": null,
            "justify_items": null,
            "left": null,
            "margin": null,
            "max_height": null,
            "max_width": null,
            "min_height": null,
            "min_width": null,
            "object_fit": null,
            "object_position": null,
            "order": null,
            "overflow": null,
            "overflow_x": null,
            "overflow_y": null,
            "padding": null,
            "right": null,
            "top": null,
            "visibility": null,
            "width": null
          }
        },
        "d682334b8fc448989795b2074da65784": {
          "model_module": "@jupyter-widgets/controls",
          "model_name": "DescriptionStyleModel",
          "model_module_version": "1.5.0",
          "state": {
            "_model_module": "@jupyter-widgets/controls",
            "_model_module_version": "1.5.0",
            "_model_name": "DescriptionStyleModel",
            "_view_count": null,
            "_view_module": "@jupyter-widgets/base",
            "_view_module_version": "1.2.0",
            "_view_name": "StyleView",
            "description_width": ""
          }
        },
        "0bd7e44c2c674b748887209502f77c85": {
          "model_module": "@jupyter-widgets/base",
          "model_name": "LayoutModel",
          "model_module_version": "1.2.0",
          "state": {
            "_model_module": "@jupyter-widgets/base",
            "_model_module_version": "1.2.0",
            "_model_name": "LayoutModel",
            "_view_count": null,
            "_view_module": "@jupyter-widgets/base",
            "_view_module_version": "1.2.0",
            "_view_name": "LayoutView",
            "align_content": null,
            "align_items": null,
            "align_self": null,
            "border": null,
            "bottom": null,
            "display": null,
            "flex": null,
            "flex_flow": null,
            "grid_area": null,
            "grid_auto_columns": null,
            "grid_auto_flow": null,
            "grid_auto_rows": null,
            "grid_column": null,
            "grid_gap": null,
            "grid_row": null,
            "grid_template_areas": null,
            "grid_template_columns": null,
            "grid_template_rows": null,
            "height": null,
            "justify_content": null,
            "justify_items": null,
            "left": null,
            "margin": null,
            "max_height": null,
            "max_width": null,
            "min_height": null,
            "min_width": null,
            "object_fit": null,
            "object_position": null,
            "order": null,
            "overflow": null,
            "overflow_x": null,
            "overflow_y": null,
            "padding": null,
            "right": null,
            "top": null,
            "visibility": null,
            "width": null
          }
        },
        "683991dc9fff4d87b8a8056a5a9d5df5": {
          "model_module": "@jupyter-widgets/controls",
          "model_name": "ProgressStyleModel",
          "model_module_version": "1.5.0",
          "state": {
            "_model_module": "@jupyter-widgets/controls",
            "_model_module_version": "1.5.0",
            "_model_name": "ProgressStyleModel",
            "_view_count": null,
            "_view_module": "@jupyter-widgets/base",
            "_view_module_version": "1.2.0",
            "_view_name": "StyleView",
            "bar_color": null,
            "description_width": ""
          }
        },
        "585382f731194ab7b5b961750a812895": {
          "model_module": "@jupyter-widgets/base",
          "model_name": "LayoutModel",
          "model_module_version": "1.2.0",
          "state": {
            "_model_module": "@jupyter-widgets/base",
            "_model_module_version": "1.2.0",
            "_model_name": "LayoutModel",
            "_view_count": null,
            "_view_module": "@jupyter-widgets/base",
            "_view_module_version": "1.2.0",
            "_view_name": "LayoutView",
            "align_content": null,
            "align_items": null,
            "align_self": null,
            "border": null,
            "bottom": null,
            "display": null,
            "flex": null,
            "flex_flow": null,
            "grid_area": null,
            "grid_auto_columns": null,
            "grid_auto_flow": null,
            "grid_auto_rows": null,
            "grid_column": null,
            "grid_gap": null,
            "grid_row": null,
            "grid_template_areas": null,
            "grid_template_columns": null,
            "grid_template_rows": null,
            "height": null,
            "justify_content": null,
            "justify_items": null,
            "left": null,
            "margin": null,
            "max_height": null,
            "max_width": null,
            "min_height": null,
            "min_width": null,
            "object_fit": null,
            "object_position": null,
            "order": null,
            "overflow": null,
            "overflow_x": null,
            "overflow_y": null,
            "padding": null,
            "right": null,
            "top": null,
            "visibility": null,
            "width": null
          }
        },
        "68b10d500b3841f08f1b23c8b29ae14a": {
          "model_module": "@jupyter-widgets/controls",
          "model_name": "DescriptionStyleModel",
          "model_module_version": "1.5.0",
          "state": {
            "_model_module": "@jupyter-widgets/controls",
            "_model_module_version": "1.5.0",
            "_model_name": "DescriptionStyleModel",
            "_view_count": null,
            "_view_module": "@jupyter-widgets/base",
            "_view_module_version": "1.2.0",
            "_view_name": "StyleView",
            "description_width": ""
          }
        },
        "032f8586687b465c97fc282205846989": {
          "model_module": "@jupyter-widgets/controls",
          "model_name": "HBoxModel",
          "model_module_version": "1.5.0",
          "state": {
            "_dom_classes": [],
            "_model_module": "@jupyter-widgets/controls",
            "_model_module_version": "1.5.0",
            "_model_name": "HBoxModel",
            "_view_count": null,
            "_view_module": "@jupyter-widgets/controls",
            "_view_module_version": "1.5.0",
            "_view_name": "HBoxView",
            "box_style": "",
            "children": [
              "IPY_MODEL_cb8fe80499b64e6f897e210fbb04d2db",
              "IPY_MODEL_20a976a4f4544c52a2a307fdf397cc5e",
              "IPY_MODEL_e3b5527067bf438e9d1cabdd9bd8e256"
            ],
            "layout": "IPY_MODEL_f0f07fe472bb48c4ba45433078b61f53"
          }
        },
        "cb8fe80499b64e6f897e210fbb04d2db": {
          "model_module": "@jupyter-widgets/controls",
          "model_name": "HTMLModel",
          "model_module_version": "1.5.0",
          "state": {
            "_dom_classes": [],
            "_model_module": "@jupyter-widgets/controls",
            "_model_module_version": "1.5.0",
            "_model_name": "HTMLModel",
            "_view_count": null,
            "_view_module": "@jupyter-widgets/controls",
            "_view_module_version": "1.5.0",
            "_view_name": "HTMLView",
            "description": "",
            "description_tooltip": null,
            "layout": "IPY_MODEL_0d3de82b223b4d69ae42fff732e8c1e1",
            "placeholder": "​",
            "style": "IPY_MODEL_ee03136d4a0b4f078d12418252c977e9",
            "value": "Downloading (…)lve/main/config.json: 100%"
          }
        },
        "20a976a4f4544c52a2a307fdf397cc5e": {
          "model_module": "@jupyter-widgets/controls",
          "model_name": "FloatProgressModel",
          "model_module_version": "1.5.0",
          "state": {
            "_dom_classes": [],
            "_model_module": "@jupyter-widgets/controls",
            "_model_module_version": "1.5.0",
            "_model_name": "FloatProgressModel",
            "_view_count": null,
            "_view_module": "@jupyter-widgets/controls",
            "_view_module_version": "1.5.0",
            "_view_name": "ProgressView",
            "bar_style": "success",
            "description": "",
            "description_tooltip": null,
            "layout": "IPY_MODEL_cd69d07266354db39f0f9b2ed3287ef3",
            "max": 651,
            "min": 0,
            "orientation": "horizontal",
            "style": "IPY_MODEL_480905e3d8bd4860a0fd6b566e144463",
            "value": 651
          }
        },
        "e3b5527067bf438e9d1cabdd9bd8e256": {
          "model_module": "@jupyter-widgets/controls",
          "model_name": "HTMLModel",
          "model_module_version": "1.5.0",
          "state": {
            "_dom_classes": [],
            "_model_module": "@jupyter-widgets/controls",
            "_model_module_version": "1.5.0",
            "_model_name": "HTMLModel",
            "_view_count": null,
            "_view_module": "@jupyter-widgets/controls",
            "_view_module_version": "1.5.0",
            "_view_name": "HTMLView",
            "description": "",
            "description_tooltip": null,
            "layout": "IPY_MODEL_f4fca4ea899847a4ac42337b6affb5b4",
            "placeholder": "​",
            "style": "IPY_MODEL_f5d7dd562e3a4a3b8360b45ad349464c",
            "value": " 651/651 [00:00&lt;00:00, 37.7kB/s]"
          }
        },
        "f0f07fe472bb48c4ba45433078b61f53": {
          "model_module": "@jupyter-widgets/base",
          "model_name": "LayoutModel",
          "model_module_version": "1.2.0",
          "state": {
            "_model_module": "@jupyter-widgets/base",
            "_model_module_version": "1.2.0",
            "_model_name": "LayoutModel",
            "_view_count": null,
            "_view_module": "@jupyter-widgets/base",
            "_view_module_version": "1.2.0",
            "_view_name": "LayoutView",
            "align_content": null,
            "align_items": null,
            "align_self": null,
            "border": null,
            "bottom": null,
            "display": null,
            "flex": null,
            "flex_flow": null,
            "grid_area": null,
            "grid_auto_columns": null,
            "grid_auto_flow": null,
            "grid_auto_rows": null,
            "grid_column": null,
            "grid_gap": null,
            "grid_row": null,
            "grid_template_areas": null,
            "grid_template_columns": null,
            "grid_template_rows": null,
            "height": null,
            "justify_content": null,
            "justify_items": null,
            "left": null,
            "margin": null,
            "max_height": null,
            "max_width": null,
            "min_height": null,
            "min_width": null,
            "object_fit": null,
            "object_position": null,
            "order": null,
            "overflow": null,
            "overflow_x": null,
            "overflow_y": null,
            "padding": null,
            "right": null,
            "top": null,
            "visibility": null,
            "width": null
          }
        },
        "0d3de82b223b4d69ae42fff732e8c1e1": {
          "model_module": "@jupyter-widgets/base",
          "model_name": "LayoutModel",
          "model_module_version": "1.2.0",
          "state": {
            "_model_module": "@jupyter-widgets/base",
            "_model_module_version": "1.2.0",
            "_model_name": "LayoutModel",
            "_view_count": null,
            "_view_module": "@jupyter-widgets/base",
            "_view_module_version": "1.2.0",
            "_view_name": "LayoutView",
            "align_content": null,
            "align_items": null,
            "align_self": null,
            "border": null,
            "bottom": null,
            "display": null,
            "flex": null,
            "flex_flow": null,
            "grid_area": null,
            "grid_auto_columns": null,
            "grid_auto_flow": null,
            "grid_auto_rows": null,
            "grid_column": null,
            "grid_gap": null,
            "grid_row": null,
            "grid_template_areas": null,
            "grid_template_columns": null,
            "grid_template_rows": null,
            "height": null,
            "justify_content": null,
            "justify_items": null,
            "left": null,
            "margin": null,
            "max_height": null,
            "max_width": null,
            "min_height": null,
            "min_width": null,
            "object_fit": null,
            "object_position": null,
            "order": null,
            "overflow": null,
            "overflow_x": null,
            "overflow_y": null,
            "padding": null,
            "right": null,
            "top": null,
            "visibility": null,
            "width": null
          }
        },
        "ee03136d4a0b4f078d12418252c977e9": {
          "model_module": "@jupyter-widgets/controls",
          "model_name": "DescriptionStyleModel",
          "model_module_version": "1.5.0",
          "state": {
            "_model_module": "@jupyter-widgets/controls",
            "_model_module_version": "1.5.0",
            "_model_name": "DescriptionStyleModel",
            "_view_count": null,
            "_view_module": "@jupyter-widgets/base",
            "_view_module_version": "1.2.0",
            "_view_name": "StyleView",
            "description_width": ""
          }
        },
        "cd69d07266354db39f0f9b2ed3287ef3": {
          "model_module": "@jupyter-widgets/base",
          "model_name": "LayoutModel",
          "model_module_version": "1.2.0",
          "state": {
            "_model_module": "@jupyter-widgets/base",
            "_model_module_version": "1.2.0",
            "_model_name": "LayoutModel",
            "_view_count": null,
            "_view_module": "@jupyter-widgets/base",
            "_view_module_version": "1.2.0",
            "_view_name": "LayoutView",
            "align_content": null,
            "align_items": null,
            "align_self": null,
            "border": null,
            "bottom": null,
            "display": null,
            "flex": null,
            "flex_flow": null,
            "grid_area": null,
            "grid_auto_columns": null,
            "grid_auto_flow": null,
            "grid_auto_rows": null,
            "grid_column": null,
            "grid_gap": null,
            "grid_row": null,
            "grid_template_areas": null,
            "grid_template_columns": null,
            "grid_template_rows": null,
            "height": null,
            "justify_content": null,
            "justify_items": null,
            "left": null,
            "margin": null,
            "max_height": null,
            "max_width": null,
            "min_height": null,
            "min_width": null,
            "object_fit": null,
            "object_position": null,
            "order": null,
            "overflow": null,
            "overflow_x": null,
            "overflow_y": null,
            "padding": null,
            "right": null,
            "top": null,
            "visibility": null,
            "width": null
          }
        },
        "480905e3d8bd4860a0fd6b566e144463": {
          "model_module": "@jupyter-widgets/controls",
          "model_name": "ProgressStyleModel",
          "model_module_version": "1.5.0",
          "state": {
            "_model_module": "@jupyter-widgets/controls",
            "_model_module_version": "1.5.0",
            "_model_name": "ProgressStyleModel",
            "_view_count": null,
            "_view_module": "@jupyter-widgets/base",
            "_view_module_version": "1.2.0",
            "_view_name": "StyleView",
            "bar_color": null,
            "description_width": ""
          }
        },
        "f4fca4ea899847a4ac42337b6affb5b4": {
          "model_module": "@jupyter-widgets/base",
          "model_name": "LayoutModel",
          "model_module_version": "1.2.0",
          "state": {
            "_model_module": "@jupyter-widgets/base",
            "_model_module_version": "1.2.0",
            "_model_name": "LayoutModel",
            "_view_count": null,
            "_view_module": "@jupyter-widgets/base",
            "_view_module_version": "1.2.0",
            "_view_name": "LayoutView",
            "align_content": null,
            "align_items": null,
            "align_self": null,
            "border": null,
            "bottom": null,
            "display": null,
            "flex": null,
            "flex_flow": null,
            "grid_area": null,
            "grid_auto_columns": null,
            "grid_auto_flow": null,
            "grid_auto_rows": null,
            "grid_column": null,
            "grid_gap": null,
            "grid_row": null,
            "grid_template_areas": null,
            "grid_template_columns": null,
            "grid_template_rows": null,
            "height": null,
            "justify_content": null,
            "justify_items": null,
            "left": null,
            "margin": null,
            "max_height": null,
            "max_width": null,
            "min_height": null,
            "min_width": null,
            "object_fit": null,
            "object_position": null,
            "order": null,
            "overflow": null,
            "overflow_x": null,
            "overflow_y": null,
            "padding": null,
            "right": null,
            "top": null,
            "visibility": null,
            "width": null
          }
        },
        "f5d7dd562e3a4a3b8360b45ad349464c": {
          "model_module": "@jupyter-widgets/controls",
          "model_name": "DescriptionStyleModel",
          "model_module_version": "1.5.0",
          "state": {
            "_model_module": "@jupyter-widgets/controls",
            "_model_module_version": "1.5.0",
            "_model_name": "DescriptionStyleModel",
            "_view_count": null,
            "_view_module": "@jupyter-widgets/base",
            "_view_module_version": "1.2.0",
            "_view_name": "StyleView",
            "description_width": ""
          }
        },
        "6a1404cfe3a74bde915600c5307b7fdd": {
          "model_module": "@jupyter-widgets/controls",
          "model_name": "HBoxModel",
          "model_module_version": "1.5.0",
          "state": {
            "_dom_classes": [],
            "_model_module": "@jupyter-widgets/controls",
            "_model_module_version": "1.5.0",
            "_model_name": "HBoxModel",
            "_view_count": null,
            "_view_module": "@jupyter-widgets/controls",
            "_view_module_version": "1.5.0",
            "_view_name": "HBoxView",
            "box_style": "",
            "children": [
              "IPY_MODEL_c0d50d7639f7451db089dc89776160aa",
              "IPY_MODEL_27393d934f23405d98ec96b48d24d27d",
              "IPY_MODEL_a0403eaec53e4a8691b5e9b005b2daff"
            ],
            "layout": "IPY_MODEL_dda86605111744368b9fd57386745f7b"
          }
        },
        "c0d50d7639f7451db089dc89776160aa": {
          "model_module": "@jupyter-widgets/controls",
          "model_name": "HTMLModel",
          "model_module_version": "1.5.0",
          "state": {
            "_dom_classes": [],
            "_model_module": "@jupyter-widgets/controls",
            "_model_module_version": "1.5.0",
            "_model_name": "HTMLModel",
            "_view_count": null,
            "_view_module": "@jupyter-widgets/controls",
            "_view_module_version": "1.5.0",
            "_view_name": "HTMLView",
            "description": "",
            "description_tooltip": null,
            "layout": "IPY_MODEL_86596afe3df44271bc27fbc5e0f279a4",
            "placeholder": "​",
            "style": "IPY_MODEL_6f94ef39ba62489ba08bd101875b89b9",
            "value": "Downloading (…)olve/main/vocab.json: 100%"
          }
        },
        "27393d934f23405d98ec96b48d24d27d": {
          "model_module": "@jupyter-widgets/controls",
          "model_name": "FloatProgressModel",
          "model_module_version": "1.5.0",
          "state": {
            "_dom_classes": [],
            "_model_module": "@jupyter-widgets/controls",
            "_model_module_version": "1.5.0",
            "_model_name": "FloatProgressModel",
            "_view_count": null,
            "_view_module": "@jupyter-widgets/controls",
            "_view_module_version": "1.5.0",
            "_view_name": "ProgressView",
            "bar_style": "success",
            "description": "",
            "description_tooltip": null,
            "layout": "IPY_MODEL_7f4732331a55467283475ab3c9ea557e",
            "max": 898822,
            "min": 0,
            "orientation": "horizontal",
            "style": "IPY_MODEL_bff572867694465995826bcd2e973bfb",
            "value": 898822
          }
        },
        "a0403eaec53e4a8691b5e9b005b2daff": {
          "model_module": "@jupyter-widgets/controls",
          "model_name": "HTMLModel",
          "model_module_version": "1.5.0",
          "state": {
            "_dom_classes": [],
            "_model_module": "@jupyter-widgets/controls",
            "_model_module_version": "1.5.0",
            "_model_name": "HTMLModel",
            "_view_count": null,
            "_view_module": "@jupyter-widgets/controls",
            "_view_module_version": "1.5.0",
            "_view_name": "HTMLView",
            "description": "",
            "description_tooltip": null,
            "layout": "IPY_MODEL_8ff7e287e6f440c191d45fbafe8c6254",
            "placeholder": "​",
            "style": "IPY_MODEL_d23a11d3624b46a4820e0ef072afa410",
            "value": " 899k/899k [00:01&lt;00:00, 813kB/s]"
          }
        },
        "dda86605111744368b9fd57386745f7b": {
          "model_module": "@jupyter-widgets/base",
          "model_name": "LayoutModel",
          "model_module_version": "1.2.0",
          "state": {
            "_model_module": "@jupyter-widgets/base",
            "_model_module_version": "1.2.0",
            "_model_name": "LayoutModel",
            "_view_count": null,
            "_view_module": "@jupyter-widgets/base",
            "_view_module_version": "1.2.0",
            "_view_name": "LayoutView",
            "align_content": null,
            "align_items": null,
            "align_self": null,
            "border": null,
            "bottom": null,
            "display": null,
            "flex": null,
            "flex_flow": null,
            "grid_area": null,
            "grid_auto_columns": null,
            "grid_auto_flow": null,
            "grid_auto_rows": null,
            "grid_column": null,
            "grid_gap": null,
            "grid_row": null,
            "grid_template_areas": null,
            "grid_template_columns": null,
            "grid_template_rows": null,
            "height": null,
            "justify_content": null,
            "justify_items": null,
            "left": null,
            "margin": null,
            "max_height": null,
            "max_width": null,
            "min_height": null,
            "min_width": null,
            "object_fit": null,
            "object_position": null,
            "order": null,
            "overflow": null,
            "overflow_x": null,
            "overflow_y": null,
            "padding": null,
            "right": null,
            "top": null,
            "visibility": null,
            "width": null
          }
        },
        "86596afe3df44271bc27fbc5e0f279a4": {
          "model_module": "@jupyter-widgets/base",
          "model_name": "LayoutModel",
          "model_module_version": "1.2.0",
          "state": {
            "_model_module": "@jupyter-widgets/base",
            "_model_module_version": "1.2.0",
            "_model_name": "LayoutModel",
            "_view_count": null,
            "_view_module": "@jupyter-widgets/base",
            "_view_module_version": "1.2.0",
            "_view_name": "LayoutView",
            "align_content": null,
            "align_items": null,
            "align_self": null,
            "border": null,
            "bottom": null,
            "display": null,
            "flex": null,
            "flex_flow": null,
            "grid_area": null,
            "grid_auto_columns": null,
            "grid_auto_flow": null,
            "grid_auto_rows": null,
            "grid_column": null,
            "grid_gap": null,
            "grid_row": null,
            "grid_template_areas": null,
            "grid_template_columns": null,
            "grid_template_rows": null,
            "height": null,
            "justify_content": null,
            "justify_items": null,
            "left": null,
            "margin": null,
            "max_height": null,
            "max_width": null,
            "min_height": null,
            "min_width": null,
            "object_fit": null,
            "object_position": null,
            "order": null,
            "overflow": null,
            "overflow_x": null,
            "overflow_y": null,
            "padding": null,
            "right": null,
            "top": null,
            "visibility": null,
            "width": null
          }
        },
        "6f94ef39ba62489ba08bd101875b89b9": {
          "model_module": "@jupyter-widgets/controls",
          "model_name": "DescriptionStyleModel",
          "model_module_version": "1.5.0",
          "state": {
            "_model_module": "@jupyter-widgets/controls",
            "_model_module_version": "1.5.0",
            "_model_name": "DescriptionStyleModel",
            "_view_count": null,
            "_view_module": "@jupyter-widgets/base",
            "_view_module_version": "1.2.0",
            "_view_name": "StyleView",
            "description_width": ""
          }
        },
        "7f4732331a55467283475ab3c9ea557e": {
          "model_module": "@jupyter-widgets/base",
          "model_name": "LayoutModel",
          "model_module_version": "1.2.0",
          "state": {
            "_model_module": "@jupyter-widgets/base",
            "_model_module_version": "1.2.0",
            "_model_name": "LayoutModel",
            "_view_count": null,
            "_view_module": "@jupyter-widgets/base",
            "_view_module_version": "1.2.0",
            "_view_name": "LayoutView",
            "align_content": null,
            "align_items": null,
            "align_self": null,
            "border": null,
            "bottom": null,
            "display": null,
            "flex": null,
            "flex_flow": null,
            "grid_area": null,
            "grid_auto_columns": null,
            "grid_auto_flow": null,
            "grid_auto_rows": null,
            "grid_column": null,
            "grid_gap": null,
            "grid_row": null,
            "grid_template_areas": null,
            "grid_template_columns": null,
            "grid_template_rows": null,
            "height": null,
            "justify_content": null,
            "justify_items": null,
            "left": null,
            "margin": null,
            "max_height": null,
            "max_width": null,
            "min_height": null,
            "min_width": null,
            "object_fit": null,
            "object_position": null,
            "order": null,
            "overflow": null,
            "overflow_x": null,
            "overflow_y": null,
            "padding": null,
            "right": null,
            "top": null,
            "visibility": null,
            "width": null
          }
        },
        "bff572867694465995826bcd2e973bfb": {
          "model_module": "@jupyter-widgets/controls",
          "model_name": "ProgressStyleModel",
          "model_module_version": "1.5.0",
          "state": {
            "_model_module": "@jupyter-widgets/controls",
            "_model_module_version": "1.5.0",
            "_model_name": "ProgressStyleModel",
            "_view_count": null,
            "_view_module": "@jupyter-widgets/base",
            "_view_module_version": "1.2.0",
            "_view_name": "StyleView",
            "bar_color": null,
            "description_width": ""
          }
        },
        "8ff7e287e6f440c191d45fbafe8c6254": {
          "model_module": "@jupyter-widgets/base",
          "model_name": "LayoutModel",
          "model_module_version": "1.2.0",
          "state": {
            "_model_module": "@jupyter-widgets/base",
            "_model_module_version": "1.2.0",
            "_model_name": "LayoutModel",
            "_view_count": null,
            "_view_module": "@jupyter-widgets/base",
            "_view_module_version": "1.2.0",
            "_view_name": "LayoutView",
            "align_content": null,
            "align_items": null,
            "align_self": null,
            "border": null,
            "bottom": null,
            "display": null,
            "flex": null,
            "flex_flow": null,
            "grid_area": null,
            "grid_auto_columns": null,
            "grid_auto_flow": null,
            "grid_auto_rows": null,
            "grid_column": null,
            "grid_gap": null,
            "grid_row": null,
            "grid_template_areas": null,
            "grid_template_columns": null,
            "grid_template_rows": null,
            "height": null,
            "justify_content": null,
            "justify_items": null,
            "left": null,
            "margin": null,
            "max_height": null,
            "max_width": null,
            "min_height": null,
            "min_width": null,
            "object_fit": null,
            "object_position": null,
            "order": null,
            "overflow": null,
            "overflow_x": null,
            "overflow_y": null,
            "padding": null,
            "right": null,
            "top": null,
            "visibility": null,
            "width": null
          }
        },
        "d23a11d3624b46a4820e0ef072afa410": {
          "model_module": "@jupyter-widgets/controls",
          "model_name": "DescriptionStyleModel",
          "model_module_version": "1.5.0",
          "state": {
            "_model_module": "@jupyter-widgets/controls",
            "_model_module_version": "1.5.0",
            "_model_name": "DescriptionStyleModel",
            "_view_count": null,
            "_view_module": "@jupyter-widgets/base",
            "_view_module_version": "1.2.0",
            "_view_name": "StyleView",
            "description_width": ""
          }
        },
        "8d7d161a436e4ff2b16bc5beec99043c": {
          "model_module": "@jupyter-widgets/controls",
          "model_name": "HBoxModel",
          "model_module_version": "1.5.0",
          "state": {
            "_dom_classes": [],
            "_model_module": "@jupyter-widgets/controls",
            "_model_module_version": "1.5.0",
            "_model_name": "HBoxModel",
            "_view_count": null,
            "_view_module": "@jupyter-widgets/controls",
            "_view_module_version": "1.5.0",
            "_view_name": "HBoxView",
            "box_style": "",
            "children": [
              "IPY_MODEL_dc2b78ae62f642628f38bf0ce377c203",
              "IPY_MODEL_fa006070140f4fc79fbbdcb1e4734378",
              "IPY_MODEL_b54a95e5677d4f47906166ac78e9c740"
            ],
            "layout": "IPY_MODEL_b74a160b4e9f45b5863790b775fdd6dc"
          }
        },
        "dc2b78ae62f642628f38bf0ce377c203": {
          "model_module": "@jupyter-widgets/controls",
          "model_name": "HTMLModel",
          "model_module_version": "1.5.0",
          "state": {
            "_dom_classes": [],
            "_model_module": "@jupyter-widgets/controls",
            "_model_module_version": "1.5.0",
            "_model_name": "HTMLModel",
            "_view_count": null,
            "_view_module": "@jupyter-widgets/controls",
            "_view_module_version": "1.5.0",
            "_view_name": "HTMLView",
            "description": "",
            "description_tooltip": null,
            "layout": "IPY_MODEL_0244a59401eb425aa7342e2ae604f9f9",
            "placeholder": "​",
            "style": "IPY_MODEL_117cee5c949b4fdda6e60901697921cb",
            "value": "Downloading (…)olve/main/merges.txt: 100%"
          }
        },
        "fa006070140f4fc79fbbdcb1e4734378": {
          "model_module": "@jupyter-widgets/controls",
          "model_name": "FloatProgressModel",
          "model_module_version": "1.5.0",
          "state": {
            "_dom_classes": [],
            "_model_module": "@jupyter-widgets/controls",
            "_model_module_version": "1.5.0",
            "_model_name": "FloatProgressModel",
            "_view_count": null,
            "_view_module": "@jupyter-widgets/controls",
            "_view_module_version": "1.5.0",
            "_view_name": "ProgressView",
            "bar_style": "success",
            "description": "",
            "description_tooltip": null,
            "layout": "IPY_MODEL_4dc549e57f9f4768935731837c6bb83c",
            "max": 456318,
            "min": 0,
            "orientation": "horizontal",
            "style": "IPY_MODEL_03c1a77b70ad4908832d76b3873ab1e6",
            "value": 456318
          }
        },
        "b54a95e5677d4f47906166ac78e9c740": {
          "model_module": "@jupyter-widgets/controls",
          "model_name": "HTMLModel",
          "model_module_version": "1.5.0",
          "state": {
            "_dom_classes": [],
            "_model_module": "@jupyter-widgets/controls",
            "_model_module_version": "1.5.0",
            "_model_name": "HTMLModel",
            "_view_count": null,
            "_view_module": "@jupyter-widgets/controls",
            "_view_module_version": "1.5.0",
            "_view_name": "HTMLView",
            "description": "",
            "description_tooltip": null,
            "layout": "IPY_MODEL_aa69546271f14fbfb5eff8d24a233af7",
            "placeholder": "​",
            "style": "IPY_MODEL_fed4ec5855af47bcb802cbeefc8ab511",
            "value": " 456k/456k [00:01&lt;00:00, 410kB/s]"
          }
        },
        "b74a160b4e9f45b5863790b775fdd6dc": {
          "model_module": "@jupyter-widgets/base",
          "model_name": "LayoutModel",
          "model_module_version": "1.2.0",
          "state": {
            "_model_module": "@jupyter-widgets/base",
            "_model_module_version": "1.2.0",
            "_model_name": "LayoutModel",
            "_view_count": null,
            "_view_module": "@jupyter-widgets/base",
            "_view_module_version": "1.2.0",
            "_view_name": "LayoutView",
            "align_content": null,
            "align_items": null,
            "align_self": null,
            "border": null,
            "bottom": null,
            "display": null,
            "flex": null,
            "flex_flow": null,
            "grid_area": null,
            "grid_auto_columns": null,
            "grid_auto_flow": null,
            "grid_auto_rows": null,
            "grid_column": null,
            "grid_gap": null,
            "grid_row": null,
            "grid_template_areas": null,
            "grid_template_columns": null,
            "grid_template_rows": null,
            "height": null,
            "justify_content": null,
            "justify_items": null,
            "left": null,
            "margin": null,
            "max_height": null,
            "max_width": null,
            "min_height": null,
            "min_width": null,
            "object_fit": null,
            "object_position": null,
            "order": null,
            "overflow": null,
            "overflow_x": null,
            "overflow_y": null,
            "padding": null,
            "right": null,
            "top": null,
            "visibility": null,
            "width": null
          }
        },
        "0244a59401eb425aa7342e2ae604f9f9": {
          "model_module": "@jupyter-widgets/base",
          "model_name": "LayoutModel",
          "model_module_version": "1.2.0",
          "state": {
            "_model_module": "@jupyter-widgets/base",
            "_model_module_version": "1.2.0",
            "_model_name": "LayoutModel",
            "_view_count": null,
            "_view_module": "@jupyter-widgets/base",
            "_view_module_version": "1.2.0",
            "_view_name": "LayoutView",
            "align_content": null,
            "align_items": null,
            "align_self": null,
            "border": null,
            "bottom": null,
            "display": null,
            "flex": null,
            "flex_flow": null,
            "grid_area": null,
            "grid_auto_columns": null,
            "grid_auto_flow": null,
            "grid_auto_rows": null,
            "grid_column": null,
            "grid_gap": null,
            "grid_row": null,
            "grid_template_areas": null,
            "grid_template_columns": null,
            "grid_template_rows": null,
            "height": null,
            "justify_content": null,
            "justify_items": null,
            "left": null,
            "margin": null,
            "max_height": null,
            "max_width": null,
            "min_height": null,
            "min_width": null,
            "object_fit": null,
            "object_position": null,
            "order": null,
            "overflow": null,
            "overflow_x": null,
            "overflow_y": null,
            "padding": null,
            "right": null,
            "top": null,
            "visibility": null,
            "width": null
          }
        },
        "117cee5c949b4fdda6e60901697921cb": {
          "model_module": "@jupyter-widgets/controls",
          "model_name": "DescriptionStyleModel",
          "model_module_version": "1.5.0",
          "state": {
            "_model_module": "@jupyter-widgets/controls",
            "_model_module_version": "1.5.0",
            "_model_name": "DescriptionStyleModel",
            "_view_count": null,
            "_view_module": "@jupyter-widgets/base",
            "_view_module_version": "1.2.0",
            "_view_name": "StyleView",
            "description_width": ""
          }
        },
        "4dc549e57f9f4768935731837c6bb83c": {
          "model_module": "@jupyter-widgets/base",
          "model_name": "LayoutModel",
          "model_module_version": "1.2.0",
          "state": {
            "_model_module": "@jupyter-widgets/base",
            "_model_module_version": "1.2.0",
            "_model_name": "LayoutModel",
            "_view_count": null,
            "_view_module": "@jupyter-widgets/base",
            "_view_module_version": "1.2.0",
            "_view_name": "LayoutView",
            "align_content": null,
            "align_items": null,
            "align_self": null,
            "border": null,
            "bottom": null,
            "display": null,
            "flex": null,
            "flex_flow": null,
            "grid_area": null,
            "grid_auto_columns": null,
            "grid_auto_flow": null,
            "grid_auto_rows": null,
            "grid_column": null,
            "grid_gap": null,
            "grid_row": null,
            "grid_template_areas": null,
            "grid_template_columns": null,
            "grid_template_rows": null,
            "height": null,
            "justify_content": null,
            "justify_items": null,
            "left": null,
            "margin": null,
            "max_height": null,
            "max_width": null,
            "min_height": null,
            "min_width": null,
            "object_fit": null,
            "object_position": null,
            "order": null,
            "overflow": null,
            "overflow_x": null,
            "overflow_y": null,
            "padding": null,
            "right": null,
            "top": null,
            "visibility": null,
            "width": null
          }
        },
        "03c1a77b70ad4908832d76b3873ab1e6": {
          "model_module": "@jupyter-widgets/controls",
          "model_name": "ProgressStyleModel",
          "model_module_version": "1.5.0",
          "state": {
            "_model_module": "@jupyter-widgets/controls",
            "_model_module_version": "1.5.0",
            "_model_name": "ProgressStyleModel",
            "_view_count": null,
            "_view_module": "@jupyter-widgets/base",
            "_view_module_version": "1.2.0",
            "_view_name": "StyleView",
            "bar_color": null,
            "description_width": ""
          }
        },
        "aa69546271f14fbfb5eff8d24a233af7": {
          "model_module": "@jupyter-widgets/base",
          "model_name": "LayoutModel",
          "model_module_version": "1.2.0",
          "state": {
            "_model_module": "@jupyter-widgets/base",
            "_model_module_version": "1.2.0",
            "_model_name": "LayoutModel",
            "_view_count": null,
            "_view_module": "@jupyter-widgets/base",
            "_view_module_version": "1.2.0",
            "_view_name": "LayoutView",
            "align_content": null,
            "align_items": null,
            "align_self": null,
            "border": null,
            "bottom": null,
            "display": null,
            "flex": null,
            "flex_flow": null,
            "grid_area": null,
            "grid_auto_columns": null,
            "grid_auto_flow": null,
            "grid_auto_rows": null,
            "grid_column": null,
            "grid_gap": null,
            "grid_row": null,
            "grid_template_areas": null,
            "grid_template_columns": null,
            "grid_template_rows": null,
            "height": null,
            "justify_content": null,
            "justify_items": null,
            "left": null,
            "margin": null,
            "max_height": null,
            "max_width": null,
            "min_height": null,
            "min_width": null,
            "object_fit": null,
            "object_position": null,
            "order": null,
            "overflow": null,
            "overflow_x": null,
            "overflow_y": null,
            "padding": null,
            "right": null,
            "top": null,
            "visibility": null,
            "width": null
          }
        },
        "fed4ec5855af47bcb802cbeefc8ab511": {
          "model_module": "@jupyter-widgets/controls",
          "model_name": "DescriptionStyleModel",
          "model_module_version": "1.5.0",
          "state": {
            "_model_module": "@jupyter-widgets/controls",
            "_model_module_version": "1.5.0",
            "_model_name": "DescriptionStyleModel",
            "_view_count": null,
            "_view_module": "@jupyter-widgets/base",
            "_view_module_version": "1.2.0",
            "_view_name": "StyleView",
            "description_width": ""
          }
        },
        "869b4583d6f84d129b369716c01050c6": {
          "model_module": "@jupyter-widgets/controls",
          "model_name": "HBoxModel",
          "model_module_version": "1.5.0",
          "state": {
            "_dom_classes": [],
            "_model_module": "@jupyter-widgets/controls",
            "_model_module_version": "1.5.0",
            "_model_name": "HBoxModel",
            "_view_count": null,
            "_view_module": "@jupyter-widgets/controls",
            "_view_module_version": "1.5.0",
            "_view_name": "HBoxView",
            "box_style": "",
            "children": [
              "IPY_MODEL_64ac1813811546f294ed60a8351b853f",
              "IPY_MODEL_f417ff9cda4b4f45bdb7a2b38327df3f",
              "IPY_MODEL_81c32d0e76bc47fe9d29e3984da531af"
            ],
            "layout": "IPY_MODEL_e5488e1da419468aaf4c6d54a0c15e19"
          }
        },
        "64ac1813811546f294ed60a8351b853f": {
          "model_module": "@jupyter-widgets/controls",
          "model_name": "HTMLModel",
          "model_module_version": "1.5.0",
          "state": {
            "_dom_classes": [],
            "_model_module": "@jupyter-widgets/controls",
            "_model_module_version": "1.5.0",
            "_model_name": "HTMLModel",
            "_view_count": null,
            "_view_module": "@jupyter-widgets/controls",
            "_view_module_version": "1.5.0",
            "_view_name": "HTMLView",
            "description": "",
            "description_tooltip": null,
            "layout": "IPY_MODEL_083b91a1f9404fe6a318654cfff61db9",
            "placeholder": "​",
            "style": "IPY_MODEL_2221734fd20148d4ae1ef8e898efe9e2",
            "value": "Downloading (…)cial_tokens_map.json: 100%"
          }
        },
        "f417ff9cda4b4f45bdb7a2b38327df3f": {
          "model_module": "@jupyter-widgets/controls",
          "model_name": "FloatProgressModel",
          "model_module_version": "1.5.0",
          "state": {
            "_dom_classes": [],
            "_model_module": "@jupyter-widgets/controls",
            "_model_module_version": "1.5.0",
            "_model_name": "FloatProgressModel",
            "_view_count": null,
            "_view_module": "@jupyter-widgets/controls",
            "_view_module_version": "1.5.0",
            "_view_name": "ProgressView",
            "bar_style": "success",
            "description": "",
            "description_tooltip": null,
            "layout": "IPY_MODEL_9397ce4ecdcf4b3ab0a58c262b4165a1",
            "max": 441,
            "min": 0,
            "orientation": "horizontal",
            "style": "IPY_MODEL_4744448684854cb190e4e06c5b8833fa",
            "value": 441
          }
        },
        "81c32d0e76bc47fe9d29e3984da531af": {
          "model_module": "@jupyter-widgets/controls",
          "model_name": "HTMLModel",
          "model_module_version": "1.5.0",
          "state": {
            "_dom_classes": [],
            "_model_module": "@jupyter-widgets/controls",
            "_model_module_version": "1.5.0",
            "_model_name": "HTMLModel",
            "_view_count": null,
            "_view_module": "@jupyter-widgets/controls",
            "_view_module_version": "1.5.0",
            "_view_name": "HTMLView",
            "description": "",
            "description_tooltip": null,
            "layout": "IPY_MODEL_5c13223847b34ed08021afb5568e2675",
            "placeholder": "​",
            "style": "IPY_MODEL_821a26f8afe14f0084a3a9f098546350",
            "value": " 441/441 [00:00&lt;00:00, 30.6kB/s]"
          }
        },
        "e5488e1da419468aaf4c6d54a0c15e19": {
          "model_module": "@jupyter-widgets/base",
          "model_name": "LayoutModel",
          "model_module_version": "1.2.0",
          "state": {
            "_model_module": "@jupyter-widgets/base",
            "_model_module_version": "1.2.0",
            "_model_name": "LayoutModel",
            "_view_count": null,
            "_view_module": "@jupyter-widgets/base",
            "_view_module_version": "1.2.0",
            "_view_name": "LayoutView",
            "align_content": null,
            "align_items": null,
            "align_self": null,
            "border": null,
            "bottom": null,
            "display": null,
            "flex": null,
            "flex_flow": null,
            "grid_area": null,
            "grid_auto_columns": null,
            "grid_auto_flow": null,
            "grid_auto_rows": null,
            "grid_column": null,
            "grid_gap": null,
            "grid_row": null,
            "grid_template_areas": null,
            "grid_template_columns": null,
            "grid_template_rows": null,
            "height": null,
            "justify_content": null,
            "justify_items": null,
            "left": null,
            "margin": null,
            "max_height": null,
            "max_width": null,
            "min_height": null,
            "min_width": null,
            "object_fit": null,
            "object_position": null,
            "order": null,
            "overflow": null,
            "overflow_x": null,
            "overflow_y": null,
            "padding": null,
            "right": null,
            "top": null,
            "visibility": null,
            "width": null
          }
        },
        "083b91a1f9404fe6a318654cfff61db9": {
          "model_module": "@jupyter-widgets/base",
          "model_name": "LayoutModel",
          "model_module_version": "1.2.0",
          "state": {
            "_model_module": "@jupyter-widgets/base",
            "_model_module_version": "1.2.0",
            "_model_name": "LayoutModel",
            "_view_count": null,
            "_view_module": "@jupyter-widgets/base",
            "_view_module_version": "1.2.0",
            "_view_name": "LayoutView",
            "align_content": null,
            "align_items": null,
            "align_self": null,
            "border": null,
            "bottom": null,
            "display": null,
            "flex": null,
            "flex_flow": null,
            "grid_area": null,
            "grid_auto_columns": null,
            "grid_auto_flow": null,
            "grid_auto_rows": null,
            "grid_column": null,
            "grid_gap": null,
            "grid_row": null,
            "grid_template_areas": null,
            "grid_template_columns": null,
            "grid_template_rows": null,
            "height": null,
            "justify_content": null,
            "justify_items": null,
            "left": null,
            "margin": null,
            "max_height": null,
            "max_width": null,
            "min_height": null,
            "min_width": null,
            "object_fit": null,
            "object_position": null,
            "order": null,
            "overflow": null,
            "overflow_x": null,
            "overflow_y": null,
            "padding": null,
            "right": null,
            "top": null,
            "visibility": null,
            "width": null
          }
        },
        "2221734fd20148d4ae1ef8e898efe9e2": {
          "model_module": "@jupyter-widgets/controls",
          "model_name": "DescriptionStyleModel",
          "model_module_version": "1.5.0",
          "state": {
            "_model_module": "@jupyter-widgets/controls",
            "_model_module_version": "1.5.0",
            "_model_name": "DescriptionStyleModel",
            "_view_count": null,
            "_view_module": "@jupyter-widgets/base",
            "_view_module_version": "1.2.0",
            "_view_name": "StyleView",
            "description_width": ""
          }
        },
        "9397ce4ecdcf4b3ab0a58c262b4165a1": {
          "model_module": "@jupyter-widgets/base",
          "model_name": "LayoutModel",
          "model_module_version": "1.2.0",
          "state": {
            "_model_module": "@jupyter-widgets/base",
            "_model_module_version": "1.2.0",
            "_model_name": "LayoutModel",
            "_view_count": null,
            "_view_module": "@jupyter-widgets/base",
            "_view_module_version": "1.2.0",
            "_view_name": "LayoutView",
            "align_content": null,
            "align_items": null,
            "align_self": null,
            "border": null,
            "bottom": null,
            "display": null,
            "flex": null,
            "flex_flow": null,
            "grid_area": null,
            "grid_auto_columns": null,
            "grid_auto_flow": null,
            "grid_auto_rows": null,
            "grid_column": null,
            "grid_gap": null,
            "grid_row": null,
            "grid_template_areas": null,
            "grid_template_columns": null,
            "grid_template_rows": null,
            "height": null,
            "justify_content": null,
            "justify_items": null,
            "left": null,
            "margin": null,
            "max_height": null,
            "max_width": null,
            "min_height": null,
            "min_width": null,
            "object_fit": null,
            "object_position": null,
            "order": null,
            "overflow": null,
            "overflow_x": null,
            "overflow_y": null,
            "padding": null,
            "right": null,
            "top": null,
            "visibility": null,
            "width": null
          }
        },
        "4744448684854cb190e4e06c5b8833fa": {
          "model_module": "@jupyter-widgets/controls",
          "model_name": "ProgressStyleModel",
          "model_module_version": "1.5.0",
          "state": {
            "_model_module": "@jupyter-widgets/controls",
            "_model_module_version": "1.5.0",
            "_model_name": "ProgressStyleModel",
            "_view_count": null,
            "_view_module": "@jupyter-widgets/base",
            "_view_module_version": "1.2.0",
            "_view_name": "StyleView",
            "bar_color": null,
            "description_width": ""
          }
        },
        "5c13223847b34ed08021afb5568e2675": {
          "model_module": "@jupyter-widgets/base",
          "model_name": "LayoutModel",
          "model_module_version": "1.2.0",
          "state": {
            "_model_module": "@jupyter-widgets/base",
            "_model_module_version": "1.2.0",
            "_model_name": "LayoutModel",
            "_view_count": null,
            "_view_module": "@jupyter-widgets/base",
            "_view_module_version": "1.2.0",
            "_view_name": "LayoutView",
            "align_content": null,
            "align_items": null,
            "align_self": null,
            "border": null,
            "bottom": null,
            "display": null,
            "flex": null,
            "flex_flow": null,
            "grid_area": null,
            "grid_auto_columns": null,
            "grid_auto_flow": null,
            "grid_auto_rows": null,
            "grid_column": null,
            "grid_gap": null,
            "grid_row": null,
            "grid_template_areas": null,
            "grid_template_columns": null,
            "grid_template_rows": null,
            "height": null,
            "justify_content": null,
            "justify_items": null,
            "left": null,
            "margin": null,
            "max_height": null,
            "max_width": null,
            "min_height": null,
            "min_width": null,
            "object_fit": null,
            "object_position": null,
            "order": null,
            "overflow": null,
            "overflow_x": null,
            "overflow_y": null,
            "padding": null,
            "right": null,
            "top": null,
            "visibility": null,
            "width": null
          }
        },
        "821a26f8afe14f0084a3a9f098546350": {
          "model_module": "@jupyter-widgets/controls",
          "model_name": "DescriptionStyleModel",
          "model_module_version": "1.5.0",
          "state": {
            "_model_module": "@jupyter-widgets/controls",
            "_model_module_version": "1.5.0",
            "_model_name": "DescriptionStyleModel",
            "_view_count": null,
            "_view_module": "@jupyter-widgets/base",
            "_view_module_version": "1.2.0",
            "_view_name": "StyleView",
            "description_width": ""
          }
        },
        "974cb615396b4542abdfd86bc65c33da": {
          "model_module": "@jupyter-widgets/controls",
          "model_name": "HBoxModel",
          "model_module_version": "1.5.0",
          "state": {
            "_dom_classes": [],
            "_model_module": "@jupyter-widgets/controls",
            "_model_module_version": "1.5.0",
            "_model_name": "HBoxModel",
            "_view_count": null,
            "_view_module": "@jupyter-widgets/controls",
            "_view_module_version": "1.5.0",
            "_view_name": "HBoxView",
            "box_style": "",
            "children": [
              "IPY_MODEL_5f54a65fe0f34f519c16bf968f4c4f14",
              "IPY_MODEL_af032ac58a8e4a91a6684a3b8f8ded7a",
              "IPY_MODEL_ee25f9d57e014fc2abe70e26658d7105"
            ],
            "layout": "IPY_MODEL_7c0039ee049d458f9ca85228785e44c0"
          }
        },
        "5f54a65fe0f34f519c16bf968f4c4f14": {
          "model_module": "@jupyter-widgets/controls",
          "model_name": "HTMLModel",
          "model_module_version": "1.5.0",
          "state": {
            "_dom_classes": [],
            "_model_module": "@jupyter-widgets/controls",
            "_model_module_version": "1.5.0",
            "_model_name": "HTMLModel",
            "_view_count": null,
            "_view_module": "@jupyter-widgets/controls",
            "_view_module_version": "1.5.0",
            "_view_name": "HTMLView",
            "description": "",
            "description_tooltip": null,
            "layout": "IPY_MODEL_6eb76a02fa4849de86ff8bfead656530",
            "placeholder": "​",
            "style": "IPY_MODEL_3f465caf6f484358be03f8d37885dd94",
            "value": "Downloading data files: 100%"
          }
        },
        "af032ac58a8e4a91a6684a3b8f8ded7a": {
          "model_module": "@jupyter-widgets/controls",
          "model_name": "FloatProgressModel",
          "model_module_version": "1.5.0",
          "state": {
            "_dom_classes": [],
            "_model_module": "@jupyter-widgets/controls",
            "_model_module_version": "1.5.0",
            "_model_name": "FloatProgressModel",
            "_view_count": null,
            "_view_module": "@jupyter-widgets/controls",
            "_view_module_version": "1.5.0",
            "_view_name": "ProgressView",
            "bar_style": "success",
            "description": "",
            "description_tooltip": null,
            "layout": "IPY_MODEL_c381e1d5ee004aca8ebb104aaeca5987",
            "max": 1,
            "min": 0,
            "orientation": "horizontal",
            "style": "IPY_MODEL_310af8f146114edcba635be7c34ce7fd",
            "value": 1
          }
        },
        "ee25f9d57e014fc2abe70e26658d7105": {
          "model_module": "@jupyter-widgets/controls",
          "model_name": "HTMLModel",
          "model_module_version": "1.5.0",
          "state": {
            "_dom_classes": [],
            "_model_module": "@jupyter-widgets/controls",
            "_model_module_version": "1.5.0",
            "_model_name": "HTMLModel",
            "_view_count": null,
            "_view_module": "@jupyter-widgets/controls",
            "_view_module_version": "1.5.0",
            "_view_name": "HTMLView",
            "description": "",
            "description_tooltip": null,
            "layout": "IPY_MODEL_883f883f0edd4decb6bbf1473bba8b5a",
            "placeholder": "​",
            "style": "IPY_MODEL_c38c4a28c1434525872247651a8302da",
            "value": " 1/1 [00:00&lt;00:00, 98.16it/s]"
          }
        },
        "7c0039ee049d458f9ca85228785e44c0": {
          "model_module": "@jupyter-widgets/base",
          "model_name": "LayoutModel",
          "model_module_version": "1.2.0",
          "state": {
            "_model_module": "@jupyter-widgets/base",
            "_model_module_version": "1.2.0",
            "_model_name": "LayoutModel",
            "_view_count": null,
            "_view_module": "@jupyter-widgets/base",
            "_view_module_version": "1.2.0",
            "_view_name": "LayoutView",
            "align_content": null,
            "align_items": null,
            "align_self": null,
            "border": null,
            "bottom": null,
            "display": null,
            "flex": null,
            "flex_flow": null,
            "grid_area": null,
            "grid_auto_columns": null,
            "grid_auto_flow": null,
            "grid_auto_rows": null,
            "grid_column": null,
            "grid_gap": null,
            "grid_row": null,
            "grid_template_areas": null,
            "grid_template_columns": null,
            "grid_template_rows": null,
            "height": null,
            "justify_content": null,
            "justify_items": null,
            "left": null,
            "margin": null,
            "max_height": null,
            "max_width": null,
            "min_height": null,
            "min_width": null,
            "object_fit": null,
            "object_position": null,
            "order": null,
            "overflow": null,
            "overflow_x": null,
            "overflow_y": null,
            "padding": null,
            "right": null,
            "top": null,
            "visibility": null,
            "width": null
          }
        },
        "6eb76a02fa4849de86ff8bfead656530": {
          "model_module": "@jupyter-widgets/base",
          "model_name": "LayoutModel",
          "model_module_version": "1.2.0",
          "state": {
            "_model_module": "@jupyter-widgets/base",
            "_model_module_version": "1.2.0",
            "_model_name": "LayoutModel",
            "_view_count": null,
            "_view_module": "@jupyter-widgets/base",
            "_view_module_version": "1.2.0",
            "_view_name": "LayoutView",
            "align_content": null,
            "align_items": null,
            "align_self": null,
            "border": null,
            "bottom": null,
            "display": null,
            "flex": null,
            "flex_flow": null,
            "grid_area": null,
            "grid_auto_columns": null,
            "grid_auto_flow": null,
            "grid_auto_rows": null,
            "grid_column": null,
            "grid_gap": null,
            "grid_row": null,
            "grid_template_areas": null,
            "grid_template_columns": null,
            "grid_template_rows": null,
            "height": null,
            "justify_content": null,
            "justify_items": null,
            "left": null,
            "margin": null,
            "max_height": null,
            "max_width": null,
            "min_height": null,
            "min_width": null,
            "object_fit": null,
            "object_position": null,
            "order": null,
            "overflow": null,
            "overflow_x": null,
            "overflow_y": null,
            "padding": null,
            "right": null,
            "top": null,
            "visibility": null,
            "width": null
          }
        },
        "3f465caf6f484358be03f8d37885dd94": {
          "model_module": "@jupyter-widgets/controls",
          "model_name": "DescriptionStyleModel",
          "model_module_version": "1.5.0",
          "state": {
            "_model_module": "@jupyter-widgets/controls",
            "_model_module_version": "1.5.0",
            "_model_name": "DescriptionStyleModel",
            "_view_count": null,
            "_view_module": "@jupyter-widgets/base",
            "_view_module_version": "1.2.0",
            "_view_name": "StyleView",
            "description_width": ""
          }
        },
        "c381e1d5ee004aca8ebb104aaeca5987": {
          "model_module": "@jupyter-widgets/base",
          "model_name": "LayoutModel",
          "model_module_version": "1.2.0",
          "state": {
            "_model_module": "@jupyter-widgets/base",
            "_model_module_version": "1.2.0",
            "_model_name": "LayoutModel",
            "_view_count": null,
            "_view_module": "@jupyter-widgets/base",
            "_view_module_version": "1.2.0",
            "_view_name": "LayoutView",
            "align_content": null,
            "align_items": null,
            "align_self": null,
            "border": null,
            "bottom": null,
            "display": null,
            "flex": null,
            "flex_flow": null,
            "grid_area": null,
            "grid_auto_columns": null,
            "grid_auto_flow": null,
            "grid_auto_rows": null,
            "grid_column": null,
            "grid_gap": null,
            "grid_row": null,
            "grid_template_areas": null,
            "grid_template_columns": null,
            "grid_template_rows": null,
            "height": null,
            "justify_content": null,
            "justify_items": null,
            "left": null,
            "margin": null,
            "max_height": null,
            "max_width": null,
            "min_height": null,
            "min_width": null,
            "object_fit": null,
            "object_position": null,
            "order": null,
            "overflow": null,
            "overflow_x": null,
            "overflow_y": null,
            "padding": null,
            "right": null,
            "top": null,
            "visibility": null,
            "width": null
          }
        },
        "310af8f146114edcba635be7c34ce7fd": {
          "model_module": "@jupyter-widgets/controls",
          "model_name": "ProgressStyleModel",
          "model_module_version": "1.5.0",
          "state": {
            "_model_module": "@jupyter-widgets/controls",
            "_model_module_version": "1.5.0",
            "_model_name": "ProgressStyleModel",
            "_view_count": null,
            "_view_module": "@jupyter-widgets/base",
            "_view_module_version": "1.2.0",
            "_view_name": "StyleView",
            "bar_color": null,
            "description_width": ""
          }
        },
        "883f883f0edd4decb6bbf1473bba8b5a": {
          "model_module": "@jupyter-widgets/base",
          "model_name": "LayoutModel",
          "model_module_version": "1.2.0",
          "state": {
            "_model_module": "@jupyter-widgets/base",
            "_model_module_version": "1.2.0",
            "_model_name": "LayoutModel",
            "_view_count": null,
            "_view_module": "@jupyter-widgets/base",
            "_view_module_version": "1.2.0",
            "_view_name": "LayoutView",
            "align_content": null,
            "align_items": null,
            "align_self": null,
            "border": null,
            "bottom": null,
            "display": null,
            "flex": null,
            "flex_flow": null,
            "grid_area": null,
            "grid_auto_columns": null,
            "grid_auto_flow": null,
            "grid_auto_rows": null,
            "grid_column": null,
            "grid_gap": null,
            "grid_row": null,
            "grid_template_areas": null,
            "grid_template_columns": null,
            "grid_template_rows": null,
            "height": null,
            "justify_content": null,
            "justify_items": null,
            "left": null,
            "margin": null,
            "max_height": null,
            "max_width": null,
            "min_height": null,
            "min_width": null,
            "object_fit": null,
            "object_position": null,
            "order": null,
            "overflow": null,
            "overflow_x": null,
            "overflow_y": null,
            "padding": null,
            "right": null,
            "top": null,
            "visibility": null,
            "width": null
          }
        },
        "c38c4a28c1434525872247651a8302da": {
          "model_module": "@jupyter-widgets/controls",
          "model_name": "DescriptionStyleModel",
          "model_module_version": "1.5.0",
          "state": {
            "_model_module": "@jupyter-widgets/controls",
            "_model_module_version": "1.5.0",
            "_model_name": "DescriptionStyleModel",
            "_view_count": null,
            "_view_module": "@jupyter-widgets/base",
            "_view_module_version": "1.2.0",
            "_view_name": "StyleView",
            "description_width": ""
          }
        },
        "d1ea9a668ba24c25a10c82c5921f2edf": {
          "model_module": "@jupyter-widgets/controls",
          "model_name": "HBoxModel",
          "model_module_version": "1.5.0",
          "state": {
            "_dom_classes": [],
            "_model_module": "@jupyter-widgets/controls",
            "_model_module_version": "1.5.0",
            "_model_name": "HBoxModel",
            "_view_count": null,
            "_view_module": "@jupyter-widgets/controls",
            "_view_module_version": "1.5.0",
            "_view_name": "HBoxView",
            "box_style": "",
            "children": [
              "IPY_MODEL_a4d5e7b807b04a6f97247af40c14ab10",
              "IPY_MODEL_e9307c485cc94d0497246f013df5cad1",
              "IPY_MODEL_a5b00451bcaf4ff5a233bd37be91bdba"
            ],
            "layout": "IPY_MODEL_f33beb317cc14bfb986e7cb74c533745"
          }
        },
        "a4d5e7b807b04a6f97247af40c14ab10": {
          "model_module": "@jupyter-widgets/controls",
          "model_name": "HTMLModel",
          "model_module_version": "1.5.0",
          "state": {
            "_dom_classes": [],
            "_model_module": "@jupyter-widgets/controls",
            "_model_module_version": "1.5.0",
            "_model_name": "HTMLModel",
            "_view_count": null,
            "_view_module": "@jupyter-widgets/controls",
            "_view_module_version": "1.5.0",
            "_view_name": "HTMLView",
            "description": "",
            "description_tooltip": null,
            "layout": "IPY_MODEL_8e9829f1b7c74c818f5e365968321f37",
            "placeholder": "​",
            "style": "IPY_MODEL_c17cbe19cc0a45e2848638fdc4fc2527",
            "value": "Extracting data files: 100%"
          }
        },
        "e9307c485cc94d0497246f013df5cad1": {
          "model_module": "@jupyter-widgets/controls",
          "model_name": "FloatProgressModel",
          "model_module_version": "1.5.0",
          "state": {
            "_dom_classes": [],
            "_model_module": "@jupyter-widgets/controls",
            "_model_module_version": "1.5.0",
            "_model_name": "FloatProgressModel",
            "_view_count": null,
            "_view_module": "@jupyter-widgets/controls",
            "_view_module_version": "1.5.0",
            "_view_name": "ProgressView",
            "bar_style": "success",
            "description": "",
            "description_tooltip": null,
            "layout": "IPY_MODEL_c0c762feedc74099ab7429817924cdb3",
            "max": 1,
            "min": 0,
            "orientation": "horizontal",
            "style": "IPY_MODEL_c74bd0d36e154c158a762d7469d3ad42",
            "value": 1
          }
        },
        "a5b00451bcaf4ff5a233bd37be91bdba": {
          "model_module": "@jupyter-widgets/controls",
          "model_name": "HTMLModel",
          "model_module_version": "1.5.0",
          "state": {
            "_dom_classes": [],
            "_model_module": "@jupyter-widgets/controls",
            "_model_module_version": "1.5.0",
            "_model_name": "HTMLModel",
            "_view_count": null,
            "_view_module": "@jupyter-widgets/controls",
            "_view_module_version": "1.5.0",
            "_view_name": "HTMLView",
            "description": "",
            "description_tooltip": null,
            "layout": "IPY_MODEL_c959ba5a42404661959a3a3c6c166e89",
            "placeholder": "​",
            "style": "IPY_MODEL_571aa77eb31c430b9c1a5b5ad9587ec8",
            "value": " 1/1 [00:00&lt;00:00, 57.91it/s]"
          }
        },
        "f33beb317cc14bfb986e7cb74c533745": {
          "model_module": "@jupyter-widgets/base",
          "model_name": "LayoutModel",
          "model_module_version": "1.2.0",
          "state": {
            "_model_module": "@jupyter-widgets/base",
            "_model_module_version": "1.2.0",
            "_model_name": "LayoutModel",
            "_view_count": null,
            "_view_module": "@jupyter-widgets/base",
            "_view_module_version": "1.2.0",
            "_view_name": "LayoutView",
            "align_content": null,
            "align_items": null,
            "align_self": null,
            "border": null,
            "bottom": null,
            "display": null,
            "flex": null,
            "flex_flow": null,
            "grid_area": null,
            "grid_auto_columns": null,
            "grid_auto_flow": null,
            "grid_auto_rows": null,
            "grid_column": null,
            "grid_gap": null,
            "grid_row": null,
            "grid_template_areas": null,
            "grid_template_columns": null,
            "grid_template_rows": null,
            "height": null,
            "justify_content": null,
            "justify_items": null,
            "left": null,
            "margin": null,
            "max_height": null,
            "max_width": null,
            "min_height": null,
            "min_width": null,
            "object_fit": null,
            "object_position": null,
            "order": null,
            "overflow": null,
            "overflow_x": null,
            "overflow_y": null,
            "padding": null,
            "right": null,
            "top": null,
            "visibility": null,
            "width": null
          }
        },
        "8e9829f1b7c74c818f5e365968321f37": {
          "model_module": "@jupyter-widgets/base",
          "model_name": "LayoutModel",
          "model_module_version": "1.2.0",
          "state": {
            "_model_module": "@jupyter-widgets/base",
            "_model_module_version": "1.2.0",
            "_model_name": "LayoutModel",
            "_view_count": null,
            "_view_module": "@jupyter-widgets/base",
            "_view_module_version": "1.2.0",
            "_view_name": "LayoutView",
            "align_content": null,
            "align_items": null,
            "align_self": null,
            "border": null,
            "bottom": null,
            "display": null,
            "flex": null,
            "flex_flow": null,
            "grid_area": null,
            "grid_auto_columns": null,
            "grid_auto_flow": null,
            "grid_auto_rows": null,
            "grid_column": null,
            "grid_gap": null,
            "grid_row": null,
            "grid_template_areas": null,
            "grid_template_columns": null,
            "grid_template_rows": null,
            "height": null,
            "justify_content": null,
            "justify_items": null,
            "left": null,
            "margin": null,
            "max_height": null,
            "max_width": null,
            "min_height": null,
            "min_width": null,
            "object_fit": null,
            "object_position": null,
            "order": null,
            "overflow": null,
            "overflow_x": null,
            "overflow_y": null,
            "padding": null,
            "right": null,
            "top": null,
            "visibility": null,
            "width": null
          }
        },
        "c17cbe19cc0a45e2848638fdc4fc2527": {
          "model_module": "@jupyter-widgets/controls",
          "model_name": "DescriptionStyleModel",
          "model_module_version": "1.5.0",
          "state": {
            "_model_module": "@jupyter-widgets/controls",
            "_model_module_version": "1.5.0",
            "_model_name": "DescriptionStyleModel",
            "_view_count": null,
            "_view_module": "@jupyter-widgets/base",
            "_view_module_version": "1.2.0",
            "_view_name": "StyleView",
            "description_width": ""
          }
        },
        "c0c762feedc74099ab7429817924cdb3": {
          "model_module": "@jupyter-widgets/base",
          "model_name": "LayoutModel",
          "model_module_version": "1.2.0",
          "state": {
            "_model_module": "@jupyter-widgets/base",
            "_model_module_version": "1.2.0",
            "_model_name": "LayoutModel",
            "_view_count": null,
            "_view_module": "@jupyter-widgets/base",
            "_view_module_version": "1.2.0",
            "_view_name": "LayoutView",
            "align_content": null,
            "align_items": null,
            "align_self": null,
            "border": null,
            "bottom": null,
            "display": null,
            "flex": null,
            "flex_flow": null,
            "grid_area": null,
            "grid_auto_columns": null,
            "grid_auto_flow": null,
            "grid_auto_rows": null,
            "grid_column": null,
            "grid_gap": null,
            "grid_row": null,
            "grid_template_areas": null,
            "grid_template_columns": null,
            "grid_template_rows": null,
            "height": null,
            "justify_content": null,
            "justify_items": null,
            "left": null,
            "margin": null,
            "max_height": null,
            "max_width": null,
            "min_height": null,
            "min_width": null,
            "object_fit": null,
            "object_position": null,
            "order": null,
            "overflow": null,
            "overflow_x": null,
            "overflow_y": null,
            "padding": null,
            "right": null,
            "top": null,
            "visibility": null,
            "width": null
          }
        },
        "c74bd0d36e154c158a762d7469d3ad42": {
          "model_module": "@jupyter-widgets/controls",
          "model_name": "ProgressStyleModel",
          "model_module_version": "1.5.0",
          "state": {
            "_model_module": "@jupyter-widgets/controls",
            "_model_module_version": "1.5.0",
            "_model_name": "ProgressStyleModel",
            "_view_count": null,
            "_view_module": "@jupyter-widgets/base",
            "_view_module_version": "1.2.0",
            "_view_name": "StyleView",
            "bar_color": null,
            "description_width": ""
          }
        },
        "c959ba5a42404661959a3a3c6c166e89": {
          "model_module": "@jupyter-widgets/base",
          "model_name": "LayoutModel",
          "model_module_version": "1.2.0",
          "state": {
            "_model_module": "@jupyter-widgets/base",
            "_model_module_version": "1.2.0",
            "_model_name": "LayoutModel",
            "_view_count": null,
            "_view_module": "@jupyter-widgets/base",
            "_view_module_version": "1.2.0",
            "_view_name": "LayoutView",
            "align_content": null,
            "align_items": null,
            "align_self": null,
            "border": null,
            "bottom": null,
            "display": null,
            "flex": null,
            "flex_flow": null,
            "grid_area": null,
            "grid_auto_columns": null,
            "grid_auto_flow": null,
            "grid_auto_rows": null,
            "grid_column": null,
            "grid_gap": null,
            "grid_row": null,
            "grid_template_areas": null,
            "grid_template_columns": null,
            "grid_template_rows": null,
            "height": null,
            "justify_content": null,
            "justify_items": null,
            "left": null,
            "margin": null,
            "max_height": null,
            "max_width": null,
            "min_height": null,
            "min_width": null,
            "object_fit": null,
            "object_position": null,
            "order": null,
            "overflow": null,
            "overflow_x": null,
            "overflow_y": null,
            "padding": null,
            "right": null,
            "top": null,
            "visibility": null,
            "width": null
          }
        },
        "571aa77eb31c430b9c1a5b5ad9587ec8": {
          "model_module": "@jupyter-widgets/controls",
          "model_name": "DescriptionStyleModel",
          "model_module_version": "1.5.0",
          "state": {
            "_model_module": "@jupyter-widgets/controls",
            "_model_module_version": "1.5.0",
            "_model_name": "DescriptionStyleModel",
            "_view_count": null,
            "_view_module": "@jupyter-widgets/base",
            "_view_module_version": "1.2.0",
            "_view_name": "StyleView",
            "description_width": ""
          }
        },
        "451cb6b46b4e4d968bf769f29a8823d4": {
          "model_module": "@jupyter-widgets/controls",
          "model_name": "HBoxModel",
          "model_module_version": "1.5.0",
          "state": {
            "_dom_classes": [],
            "_model_module": "@jupyter-widgets/controls",
            "_model_module_version": "1.5.0",
            "_model_name": "HBoxModel",
            "_view_count": null,
            "_view_module": "@jupyter-widgets/controls",
            "_view_module_version": "1.5.0",
            "_view_name": "HBoxView",
            "box_style": "",
            "children": [
              "IPY_MODEL_b1a2ee30709a41a6960af4088a93bcf6",
              "IPY_MODEL_bbac37233ad04f1a979a7c2a1ece34fe",
              "IPY_MODEL_7b66817f12644f149e6979b0a297a33a"
            ],
            "layout": "IPY_MODEL_ee7e578353574830938d4c6c0a8daa5e"
          }
        },
        "b1a2ee30709a41a6960af4088a93bcf6": {
          "model_module": "@jupyter-widgets/controls",
          "model_name": "HTMLModel",
          "model_module_version": "1.5.0",
          "state": {
            "_dom_classes": [],
            "_model_module": "@jupyter-widgets/controls",
            "_model_module_version": "1.5.0",
            "_model_name": "HTMLModel",
            "_view_count": null,
            "_view_module": "@jupyter-widgets/controls",
            "_view_module_version": "1.5.0",
            "_view_name": "HTMLView",
            "description": "",
            "description_tooltip": null,
            "layout": "IPY_MODEL_fcbfe7f4f8a94045b026c887e1f85f15",
            "placeholder": "​",
            "style": "IPY_MODEL_2be6ebcad9644589b8b3fa16408d1da4",
            "value": "Generating train split: "
          }
        },
        "bbac37233ad04f1a979a7c2a1ece34fe": {
          "model_module": "@jupyter-widgets/controls",
          "model_name": "FloatProgressModel",
          "model_module_version": "1.5.0",
          "state": {
            "_dom_classes": [],
            "_model_module": "@jupyter-widgets/controls",
            "_model_module_version": "1.5.0",
            "_model_name": "FloatProgressModel",
            "_view_count": null,
            "_view_module": "@jupyter-widgets/controls",
            "_view_module_version": "1.5.0",
            "_view_name": "ProgressView",
            "bar_style": "info",
            "description": "",
            "description_tooltip": null,
            "layout": "IPY_MODEL_51ca3ae706444ad690dfecc314f0143a",
            "max": 1,
            "min": 0,
            "orientation": "horizontal",
            "style": "IPY_MODEL_b654819a5ab34681b62e56dacb39d6ba",
            "value": 1
          }
        },
        "7b66817f12644f149e6979b0a297a33a": {
          "model_module": "@jupyter-widgets/controls",
          "model_name": "HTMLModel",
          "model_module_version": "1.5.0",
          "state": {
            "_dom_classes": [],
            "_model_module": "@jupyter-widgets/controls",
            "_model_module_version": "1.5.0",
            "_model_name": "HTMLModel",
            "_view_count": null,
            "_view_module": "@jupyter-widgets/controls",
            "_view_module_version": "1.5.0",
            "_view_name": "HTMLView",
            "description": "",
            "description_tooltip": null,
            "layout": "IPY_MODEL_0fdc3c3085ff4a2ba517cfe18524ebc3",
            "placeholder": "​",
            "style": "IPY_MODEL_dbf6289690344cbfaa820e325da68f0e",
            "value": " 250000/0 [00:22&lt;00:00, 11921.48 examples/s]"
          }
        },
        "ee7e578353574830938d4c6c0a8daa5e": {
          "model_module": "@jupyter-widgets/base",
          "model_name": "LayoutModel",
          "model_module_version": "1.2.0",
          "state": {
            "_model_module": "@jupyter-widgets/base",
            "_model_module_version": "1.2.0",
            "_model_name": "LayoutModel",
            "_view_count": null,
            "_view_module": "@jupyter-widgets/base",
            "_view_module_version": "1.2.0",
            "_view_name": "LayoutView",
            "align_content": null,
            "align_items": null,
            "align_self": null,
            "border": null,
            "bottom": null,
            "display": null,
            "flex": null,
            "flex_flow": null,
            "grid_area": null,
            "grid_auto_columns": null,
            "grid_auto_flow": null,
            "grid_auto_rows": null,
            "grid_column": null,
            "grid_gap": null,
            "grid_row": null,
            "grid_template_areas": null,
            "grid_template_columns": null,
            "grid_template_rows": null,
            "height": null,
            "justify_content": null,
            "justify_items": null,
            "left": null,
            "margin": null,
            "max_height": null,
            "max_width": null,
            "min_height": null,
            "min_width": null,
            "object_fit": null,
            "object_position": null,
            "order": null,
            "overflow": null,
            "overflow_x": null,
            "overflow_y": null,
            "padding": null,
            "right": null,
            "top": null,
            "visibility": "hidden",
            "width": null
          }
        },
        "fcbfe7f4f8a94045b026c887e1f85f15": {
          "model_module": "@jupyter-widgets/base",
          "model_name": "LayoutModel",
          "model_module_version": "1.2.0",
          "state": {
            "_model_module": "@jupyter-widgets/base",
            "_model_module_version": "1.2.0",
            "_model_name": "LayoutModel",
            "_view_count": null,
            "_view_module": "@jupyter-widgets/base",
            "_view_module_version": "1.2.0",
            "_view_name": "LayoutView",
            "align_content": null,
            "align_items": null,
            "align_self": null,
            "border": null,
            "bottom": null,
            "display": null,
            "flex": null,
            "flex_flow": null,
            "grid_area": null,
            "grid_auto_columns": null,
            "grid_auto_flow": null,
            "grid_auto_rows": null,
            "grid_column": null,
            "grid_gap": null,
            "grid_row": null,
            "grid_template_areas": null,
            "grid_template_columns": null,
            "grid_template_rows": null,
            "height": null,
            "justify_content": null,
            "justify_items": null,
            "left": null,
            "margin": null,
            "max_height": null,
            "max_width": null,
            "min_height": null,
            "min_width": null,
            "object_fit": null,
            "object_position": null,
            "order": null,
            "overflow": null,
            "overflow_x": null,
            "overflow_y": null,
            "padding": null,
            "right": null,
            "top": null,
            "visibility": null,
            "width": null
          }
        },
        "2be6ebcad9644589b8b3fa16408d1da4": {
          "model_module": "@jupyter-widgets/controls",
          "model_name": "DescriptionStyleModel",
          "model_module_version": "1.5.0",
          "state": {
            "_model_module": "@jupyter-widgets/controls",
            "_model_module_version": "1.5.0",
            "_model_name": "DescriptionStyleModel",
            "_view_count": null,
            "_view_module": "@jupyter-widgets/base",
            "_view_module_version": "1.2.0",
            "_view_name": "StyleView",
            "description_width": ""
          }
        },
        "51ca3ae706444ad690dfecc314f0143a": {
          "model_module": "@jupyter-widgets/base",
          "model_name": "LayoutModel",
          "model_module_version": "1.2.0",
          "state": {
            "_model_module": "@jupyter-widgets/base",
            "_model_module_version": "1.2.0",
            "_model_name": "LayoutModel",
            "_view_count": null,
            "_view_module": "@jupyter-widgets/base",
            "_view_module_version": "1.2.0",
            "_view_name": "LayoutView",
            "align_content": null,
            "align_items": null,
            "align_self": null,
            "border": null,
            "bottom": null,
            "display": null,
            "flex": null,
            "flex_flow": null,
            "grid_area": null,
            "grid_auto_columns": null,
            "grid_auto_flow": null,
            "grid_auto_rows": null,
            "grid_column": null,
            "grid_gap": null,
            "grid_row": null,
            "grid_template_areas": null,
            "grid_template_columns": null,
            "grid_template_rows": null,
            "height": null,
            "justify_content": null,
            "justify_items": null,
            "left": null,
            "margin": null,
            "max_height": null,
            "max_width": null,
            "min_height": null,
            "min_width": null,
            "object_fit": null,
            "object_position": null,
            "order": null,
            "overflow": null,
            "overflow_x": null,
            "overflow_y": null,
            "padding": null,
            "right": null,
            "top": null,
            "visibility": null,
            "width": "20px"
          }
        },
        "b654819a5ab34681b62e56dacb39d6ba": {
          "model_module": "@jupyter-widgets/controls",
          "model_name": "ProgressStyleModel",
          "model_module_version": "1.5.0",
          "state": {
            "_model_module": "@jupyter-widgets/controls",
            "_model_module_version": "1.5.0",
            "_model_name": "ProgressStyleModel",
            "_view_count": null,
            "_view_module": "@jupyter-widgets/base",
            "_view_module_version": "1.2.0",
            "_view_name": "StyleView",
            "bar_color": null,
            "description_width": ""
          }
        },
        "0fdc3c3085ff4a2ba517cfe18524ebc3": {
          "model_module": "@jupyter-widgets/base",
          "model_name": "LayoutModel",
          "model_module_version": "1.2.0",
          "state": {
            "_model_module": "@jupyter-widgets/base",
            "_model_module_version": "1.2.0",
            "_model_name": "LayoutModel",
            "_view_count": null,
            "_view_module": "@jupyter-widgets/base",
            "_view_module_version": "1.2.0",
            "_view_name": "LayoutView",
            "align_content": null,
            "align_items": null,
            "align_self": null,
            "border": null,
            "bottom": null,
            "display": null,
            "flex": null,
            "flex_flow": null,
            "grid_area": null,
            "grid_auto_columns": null,
            "grid_auto_flow": null,
            "grid_auto_rows": null,
            "grid_column": null,
            "grid_gap": null,
            "grid_row": null,
            "grid_template_areas": null,
            "grid_template_columns": null,
            "grid_template_rows": null,
            "height": null,
            "justify_content": null,
            "justify_items": null,
            "left": null,
            "margin": null,
            "max_height": null,
            "max_width": null,
            "min_height": null,
            "min_width": null,
            "object_fit": null,
            "object_position": null,
            "order": null,
            "overflow": null,
            "overflow_x": null,
            "overflow_y": null,
            "padding": null,
            "right": null,
            "top": null,
            "visibility": null,
            "width": null
          }
        },
        "dbf6289690344cbfaa820e325da68f0e": {
          "model_module": "@jupyter-widgets/controls",
          "model_name": "DescriptionStyleModel",
          "model_module_version": "1.5.0",
          "state": {
            "_model_module": "@jupyter-widgets/controls",
            "_model_module_version": "1.5.0",
            "_model_name": "DescriptionStyleModel",
            "_view_count": null,
            "_view_module": "@jupyter-widgets/base",
            "_view_module_version": "1.2.0",
            "_view_name": "StyleView",
            "description_width": ""
          }
        },
        "984604e4c850419da03b31d7dcab6581": {
          "model_module": "@jupyter-widgets/controls",
          "model_name": "HBoxModel",
          "model_module_version": "1.5.0",
          "state": {
            "_dom_classes": [],
            "_model_module": "@jupyter-widgets/controls",
            "_model_module_version": "1.5.0",
            "_model_name": "HBoxModel",
            "_view_count": null,
            "_view_module": "@jupyter-widgets/controls",
            "_view_module_version": "1.5.0",
            "_view_name": "HBoxView",
            "box_style": "",
            "children": [
              "IPY_MODEL_dd0d6f559267444ca905eacd74c57a2a",
              "IPY_MODEL_78779b11cff640ca9ee6df8730a1aa60",
              "IPY_MODEL_3ed80932a9444de88783455536ba8f8a"
            ],
            "layout": "IPY_MODEL_07721698db474028af931baa94fe165e"
          }
        },
        "dd0d6f559267444ca905eacd74c57a2a": {
          "model_module": "@jupyter-widgets/controls",
          "model_name": "HTMLModel",
          "model_module_version": "1.5.0",
          "state": {
            "_dom_classes": [],
            "_model_module": "@jupyter-widgets/controls",
            "_model_module_version": "1.5.0",
            "_model_name": "HTMLModel",
            "_view_count": null,
            "_view_module": "@jupyter-widgets/controls",
            "_view_module_version": "1.5.0",
            "_view_name": "HTMLView",
            "description": "",
            "description_tooltip": null,
            "layout": "IPY_MODEL_b024c2cacd0240b581dc767c86fff69f",
            "placeholder": "​",
            "style": "IPY_MODEL_ea634d85ddfc47e0873f3126ee282c61",
            "value": "100%"
          }
        },
        "78779b11cff640ca9ee6df8730a1aa60": {
          "model_module": "@jupyter-widgets/controls",
          "model_name": "FloatProgressModel",
          "model_module_version": "1.5.0",
          "state": {
            "_dom_classes": [],
            "_model_module": "@jupyter-widgets/controls",
            "_model_module_version": "1.5.0",
            "_model_name": "FloatProgressModel",
            "_view_count": null,
            "_view_module": "@jupyter-widgets/controls",
            "_view_module_version": "1.5.0",
            "_view_name": "ProgressView",
            "bar_style": "success",
            "description": "",
            "description_tooltip": null,
            "layout": "IPY_MODEL_537494023e9d4c1393c27ec82df71932",
            "max": 1,
            "min": 0,
            "orientation": "horizontal",
            "style": "IPY_MODEL_d8b8f5d42012462f8ab6ca29192a437a",
            "value": 1
          }
        },
        "3ed80932a9444de88783455536ba8f8a": {
          "model_module": "@jupyter-widgets/controls",
          "model_name": "HTMLModel",
          "model_module_version": "1.5.0",
          "state": {
            "_dom_classes": [],
            "_model_module": "@jupyter-widgets/controls",
            "_model_module_version": "1.5.0",
            "_model_name": "HTMLModel",
            "_view_count": null,
            "_view_module": "@jupyter-widgets/controls",
            "_view_module_version": "1.5.0",
            "_view_name": "HTMLView",
            "description": "",
            "description_tooltip": null,
            "layout": "IPY_MODEL_8b02bfaa2aa945dca088ae997393aa64",
            "placeholder": "​",
            "style": "IPY_MODEL_2dca2b4cecb84efb95cefcc05b70495b",
            "value": " 1/1 [00:00&lt;00:00, 40.99it/s]"
          }
        },
        "07721698db474028af931baa94fe165e": {
          "model_module": "@jupyter-widgets/base",
          "model_name": "LayoutModel",
          "model_module_version": "1.2.0",
          "state": {
            "_model_module": "@jupyter-widgets/base",
            "_model_module_version": "1.2.0",
            "_model_name": "LayoutModel",
            "_view_count": null,
            "_view_module": "@jupyter-widgets/base",
            "_view_module_version": "1.2.0",
            "_view_name": "LayoutView",
            "align_content": null,
            "align_items": null,
            "align_self": null,
            "border": null,
            "bottom": null,
            "display": null,
            "flex": null,
            "flex_flow": null,
            "grid_area": null,
            "grid_auto_columns": null,
            "grid_auto_flow": null,
            "grid_auto_rows": null,
            "grid_column": null,
            "grid_gap": null,
            "grid_row": null,
            "grid_template_areas": null,
            "grid_template_columns": null,
            "grid_template_rows": null,
            "height": null,
            "justify_content": null,
            "justify_items": null,
            "left": null,
            "margin": null,
            "max_height": null,
            "max_width": null,
            "min_height": null,
            "min_width": null,
            "object_fit": null,
            "object_position": null,
            "order": null,
            "overflow": null,
            "overflow_x": null,
            "overflow_y": null,
            "padding": null,
            "right": null,
            "top": null,
            "visibility": null,
            "width": null
          }
        },
        "b024c2cacd0240b581dc767c86fff69f": {
          "model_module": "@jupyter-widgets/base",
          "model_name": "LayoutModel",
          "model_module_version": "1.2.0",
          "state": {
            "_model_module": "@jupyter-widgets/base",
            "_model_module_version": "1.2.0",
            "_model_name": "LayoutModel",
            "_view_count": null,
            "_view_module": "@jupyter-widgets/base",
            "_view_module_version": "1.2.0",
            "_view_name": "LayoutView",
            "align_content": null,
            "align_items": null,
            "align_self": null,
            "border": null,
            "bottom": null,
            "display": null,
            "flex": null,
            "flex_flow": null,
            "grid_area": null,
            "grid_auto_columns": null,
            "grid_auto_flow": null,
            "grid_auto_rows": null,
            "grid_column": null,
            "grid_gap": null,
            "grid_row": null,
            "grid_template_areas": null,
            "grid_template_columns": null,
            "grid_template_rows": null,
            "height": null,
            "justify_content": null,
            "justify_items": null,
            "left": null,
            "margin": null,
            "max_height": null,
            "max_width": null,
            "min_height": null,
            "min_width": null,
            "object_fit": null,
            "object_position": null,
            "order": null,
            "overflow": null,
            "overflow_x": null,
            "overflow_y": null,
            "padding": null,
            "right": null,
            "top": null,
            "visibility": null,
            "width": null
          }
        },
        "ea634d85ddfc47e0873f3126ee282c61": {
          "model_module": "@jupyter-widgets/controls",
          "model_name": "DescriptionStyleModel",
          "model_module_version": "1.5.0",
          "state": {
            "_model_module": "@jupyter-widgets/controls",
            "_model_module_version": "1.5.0",
            "_model_name": "DescriptionStyleModel",
            "_view_count": null,
            "_view_module": "@jupyter-widgets/base",
            "_view_module_version": "1.2.0",
            "_view_name": "StyleView",
            "description_width": ""
          }
        },
        "537494023e9d4c1393c27ec82df71932": {
          "model_module": "@jupyter-widgets/base",
          "model_name": "LayoutModel",
          "model_module_version": "1.2.0",
          "state": {
            "_model_module": "@jupyter-widgets/base",
            "_model_module_version": "1.2.0",
            "_model_name": "LayoutModel",
            "_view_count": null,
            "_view_module": "@jupyter-widgets/base",
            "_view_module_version": "1.2.0",
            "_view_name": "LayoutView",
            "align_content": null,
            "align_items": null,
            "align_self": null,
            "border": null,
            "bottom": null,
            "display": null,
            "flex": null,
            "flex_flow": null,
            "grid_area": null,
            "grid_auto_columns": null,
            "grid_auto_flow": null,
            "grid_auto_rows": null,
            "grid_column": null,
            "grid_gap": null,
            "grid_row": null,
            "grid_template_areas": null,
            "grid_template_columns": null,
            "grid_template_rows": null,
            "height": null,
            "justify_content": null,
            "justify_items": null,
            "left": null,
            "margin": null,
            "max_height": null,
            "max_width": null,
            "min_height": null,
            "min_width": null,
            "object_fit": null,
            "object_position": null,
            "order": null,
            "overflow": null,
            "overflow_x": null,
            "overflow_y": null,
            "padding": null,
            "right": null,
            "top": null,
            "visibility": null,
            "width": null
          }
        },
        "d8b8f5d42012462f8ab6ca29192a437a": {
          "model_module": "@jupyter-widgets/controls",
          "model_name": "ProgressStyleModel",
          "model_module_version": "1.5.0",
          "state": {
            "_model_module": "@jupyter-widgets/controls",
            "_model_module_version": "1.5.0",
            "_model_name": "ProgressStyleModel",
            "_view_count": null,
            "_view_module": "@jupyter-widgets/base",
            "_view_module_version": "1.2.0",
            "_view_name": "StyleView",
            "bar_color": null,
            "description_width": ""
          }
        },
        "8b02bfaa2aa945dca088ae997393aa64": {
          "model_module": "@jupyter-widgets/base",
          "model_name": "LayoutModel",
          "model_module_version": "1.2.0",
          "state": {
            "_model_module": "@jupyter-widgets/base",
            "_model_module_version": "1.2.0",
            "_model_name": "LayoutModel",
            "_view_count": null,
            "_view_module": "@jupyter-widgets/base",
            "_view_module_version": "1.2.0",
            "_view_name": "LayoutView",
            "align_content": null,
            "align_items": null,
            "align_self": null,
            "border": null,
            "bottom": null,
            "display": null,
            "flex": null,
            "flex_flow": null,
            "grid_area": null,
            "grid_auto_columns": null,
            "grid_auto_flow": null,
            "grid_auto_rows": null,
            "grid_column": null,
            "grid_gap": null,
            "grid_row": null,
            "grid_template_areas": null,
            "grid_template_columns": null,
            "grid_template_rows": null,
            "height": null,
            "justify_content": null,
            "justify_items": null,
            "left": null,
            "margin": null,
            "max_height": null,
            "max_width": null,
            "min_height": null,
            "min_width": null,
            "object_fit": null,
            "object_position": null,
            "order": null,
            "overflow": null,
            "overflow_x": null,
            "overflow_y": null,
            "padding": null,
            "right": null,
            "top": null,
            "visibility": null,
            "width": null
          }
        },
        "2dca2b4cecb84efb95cefcc05b70495b": {
          "model_module": "@jupyter-widgets/controls",
          "model_name": "DescriptionStyleModel",
          "model_module_version": "1.5.0",
          "state": {
            "_model_module": "@jupyter-widgets/controls",
            "_model_module_version": "1.5.0",
            "_model_name": "DescriptionStyleModel",
            "_view_count": null,
            "_view_module": "@jupyter-widgets/base",
            "_view_module_version": "1.2.0",
            "_view_name": "StyleView",
            "description_width": ""
          }
        },
        "d5741a1746dd4dd381e400ffc09b48c4": {
          "model_module": "@jupyter-widgets/controls",
          "model_name": "HBoxModel",
          "model_module_version": "1.5.0",
          "state": {
            "_dom_classes": [],
            "_model_module": "@jupyter-widgets/controls",
            "_model_module_version": "1.5.0",
            "_model_name": "HBoxModel",
            "_view_count": null,
            "_view_module": "@jupyter-widgets/controls",
            "_view_module_version": "1.5.0",
            "_view_name": "HBoxView",
            "box_style": "",
            "children": [
              "IPY_MODEL_ceb8113e813149fe9b828aa88cdc7505",
              "IPY_MODEL_9a9eff4edaea43f5b59c851c90989046",
              "IPY_MODEL_790b40cd501a4c8987dd031048ec6157"
            ],
            "layout": "IPY_MODEL_d94ea6ad284a460f899d78e9dc0a7b29"
          }
        },
        "ceb8113e813149fe9b828aa88cdc7505": {
          "model_module": "@jupyter-widgets/controls",
          "model_name": "HTMLModel",
          "model_module_version": "1.5.0",
          "state": {
            "_dom_classes": [],
            "_model_module": "@jupyter-widgets/controls",
            "_model_module_version": "1.5.0",
            "_model_name": "HTMLModel",
            "_view_count": null,
            "_view_module": "@jupyter-widgets/controls",
            "_view_module_version": "1.5.0",
            "_view_name": "HTMLView",
            "description": "",
            "description_tooltip": null,
            "layout": "IPY_MODEL_5a34d71eb0a74c3a88a60d84164c3cc3",
            "placeholder": "​",
            "style": "IPY_MODEL_6880b23c379940dfb413958c422ba33d",
            "value": "Map (num_proc=4): 100%"
          }
        },
        "9a9eff4edaea43f5b59c851c90989046": {
          "model_module": "@jupyter-widgets/controls",
          "model_name": "FloatProgressModel",
          "model_module_version": "1.5.0",
          "state": {
            "_dom_classes": [],
            "_model_module": "@jupyter-widgets/controls",
            "_model_module_version": "1.5.0",
            "_model_name": "FloatProgressModel",
            "_view_count": null,
            "_view_module": "@jupyter-widgets/controls",
            "_view_module_version": "1.5.0",
            "_view_name": "ProgressView",
            "bar_style": "",
            "description": "",
            "description_tooltip": null,
            "layout": "IPY_MODEL_913e30a336874a40a2d6a918b8185257",
            "max": 225000,
            "min": 0,
            "orientation": "horizontal",
            "style": "IPY_MODEL_2baef5088868406496f78aca06a15907",
            "value": 225000
          }
        },
        "790b40cd501a4c8987dd031048ec6157": {
          "model_module": "@jupyter-widgets/controls",
          "model_name": "HTMLModel",
          "model_module_version": "1.5.0",
          "state": {
            "_dom_classes": [],
            "_model_module": "@jupyter-widgets/controls",
            "_model_module_version": "1.5.0",
            "_model_name": "HTMLModel",
            "_view_count": null,
            "_view_module": "@jupyter-widgets/controls",
            "_view_module_version": "1.5.0",
            "_view_name": "HTMLView",
            "description": "",
            "description_tooltip": null,
            "layout": "IPY_MODEL_97b1bd29c9504f3d8d226159a75ba60c",
            "placeholder": "​",
            "style": "IPY_MODEL_01d976d5034f4846987698d0c3ecd1ae",
            "value": " 225000/225000 [03:42&lt;00:00, 462.47 examples/s]"
          }
        },
        "d94ea6ad284a460f899d78e9dc0a7b29": {
          "model_module": "@jupyter-widgets/base",
          "model_name": "LayoutModel",
          "model_module_version": "1.2.0",
          "state": {
            "_model_module": "@jupyter-widgets/base",
            "_model_module_version": "1.2.0",
            "_model_name": "LayoutModel",
            "_view_count": null,
            "_view_module": "@jupyter-widgets/base",
            "_view_module_version": "1.2.0",
            "_view_name": "LayoutView",
            "align_content": null,
            "align_items": null,
            "align_self": null,
            "border": null,
            "bottom": null,
            "display": null,
            "flex": null,
            "flex_flow": null,
            "grid_area": null,
            "grid_auto_columns": null,
            "grid_auto_flow": null,
            "grid_auto_rows": null,
            "grid_column": null,
            "grid_gap": null,
            "grid_row": null,
            "grid_template_areas": null,
            "grid_template_columns": null,
            "grid_template_rows": null,
            "height": null,
            "justify_content": null,
            "justify_items": null,
            "left": null,
            "margin": null,
            "max_height": null,
            "max_width": null,
            "min_height": null,
            "min_width": null,
            "object_fit": null,
            "object_position": null,
            "order": null,
            "overflow": null,
            "overflow_x": null,
            "overflow_y": null,
            "padding": null,
            "right": null,
            "top": null,
            "visibility": "hidden",
            "width": null
          }
        },
        "5a34d71eb0a74c3a88a60d84164c3cc3": {
          "model_module": "@jupyter-widgets/base",
          "model_name": "LayoutModel",
          "model_module_version": "1.2.0",
          "state": {
            "_model_module": "@jupyter-widgets/base",
            "_model_module_version": "1.2.0",
            "_model_name": "LayoutModel",
            "_view_count": null,
            "_view_module": "@jupyter-widgets/base",
            "_view_module_version": "1.2.0",
            "_view_name": "LayoutView",
            "align_content": null,
            "align_items": null,
            "align_self": null,
            "border": null,
            "bottom": null,
            "display": null,
            "flex": null,
            "flex_flow": null,
            "grid_area": null,
            "grid_auto_columns": null,
            "grid_auto_flow": null,
            "grid_auto_rows": null,
            "grid_column": null,
            "grid_gap": null,
            "grid_row": null,
            "grid_template_areas": null,
            "grid_template_columns": null,
            "grid_template_rows": null,
            "height": null,
            "justify_content": null,
            "justify_items": null,
            "left": null,
            "margin": null,
            "max_height": null,
            "max_width": null,
            "min_height": null,
            "min_width": null,
            "object_fit": null,
            "object_position": null,
            "order": null,
            "overflow": null,
            "overflow_x": null,
            "overflow_y": null,
            "padding": null,
            "right": null,
            "top": null,
            "visibility": null,
            "width": null
          }
        },
        "6880b23c379940dfb413958c422ba33d": {
          "model_module": "@jupyter-widgets/controls",
          "model_name": "DescriptionStyleModel",
          "model_module_version": "1.5.0",
          "state": {
            "_model_module": "@jupyter-widgets/controls",
            "_model_module_version": "1.5.0",
            "_model_name": "DescriptionStyleModel",
            "_view_count": null,
            "_view_module": "@jupyter-widgets/base",
            "_view_module_version": "1.2.0",
            "_view_name": "StyleView",
            "description_width": ""
          }
        },
        "913e30a336874a40a2d6a918b8185257": {
          "model_module": "@jupyter-widgets/base",
          "model_name": "LayoutModel",
          "model_module_version": "1.2.0",
          "state": {
            "_model_module": "@jupyter-widgets/base",
            "_model_module_version": "1.2.0",
            "_model_name": "LayoutModel",
            "_view_count": null,
            "_view_module": "@jupyter-widgets/base",
            "_view_module_version": "1.2.0",
            "_view_name": "LayoutView",
            "align_content": null,
            "align_items": null,
            "align_self": null,
            "border": null,
            "bottom": null,
            "display": null,
            "flex": null,
            "flex_flow": null,
            "grid_area": null,
            "grid_auto_columns": null,
            "grid_auto_flow": null,
            "grid_auto_rows": null,
            "grid_column": null,
            "grid_gap": null,
            "grid_row": null,
            "grid_template_areas": null,
            "grid_template_columns": null,
            "grid_template_rows": null,
            "height": null,
            "justify_content": null,
            "justify_items": null,
            "left": null,
            "margin": null,
            "max_height": null,
            "max_width": null,
            "min_height": null,
            "min_width": null,
            "object_fit": null,
            "object_position": null,
            "order": null,
            "overflow": null,
            "overflow_x": null,
            "overflow_y": null,
            "padding": null,
            "right": null,
            "top": null,
            "visibility": null,
            "width": null
          }
        },
        "2baef5088868406496f78aca06a15907": {
          "model_module": "@jupyter-widgets/controls",
          "model_name": "ProgressStyleModel",
          "model_module_version": "1.5.0",
          "state": {
            "_model_module": "@jupyter-widgets/controls",
            "_model_module_version": "1.5.0",
            "_model_name": "ProgressStyleModel",
            "_view_count": null,
            "_view_module": "@jupyter-widgets/base",
            "_view_module_version": "1.2.0",
            "_view_name": "StyleView",
            "bar_color": null,
            "description_width": ""
          }
        },
        "97b1bd29c9504f3d8d226159a75ba60c": {
          "model_module": "@jupyter-widgets/base",
          "model_name": "LayoutModel",
          "model_module_version": "1.2.0",
          "state": {
            "_model_module": "@jupyter-widgets/base",
            "_model_module_version": "1.2.0",
            "_model_name": "LayoutModel",
            "_view_count": null,
            "_view_module": "@jupyter-widgets/base",
            "_view_module_version": "1.2.0",
            "_view_name": "LayoutView",
            "align_content": null,
            "align_items": null,
            "align_self": null,
            "border": null,
            "bottom": null,
            "display": null,
            "flex": null,
            "flex_flow": null,
            "grid_area": null,
            "grid_auto_columns": null,
            "grid_auto_flow": null,
            "grid_auto_rows": null,
            "grid_column": null,
            "grid_gap": null,
            "grid_row": null,
            "grid_template_areas": null,
            "grid_template_columns": null,
            "grid_template_rows": null,
            "height": null,
            "justify_content": null,
            "justify_items": null,
            "left": null,
            "margin": null,
            "max_height": null,
            "max_width": null,
            "min_height": null,
            "min_width": null,
            "object_fit": null,
            "object_position": null,
            "order": null,
            "overflow": null,
            "overflow_x": null,
            "overflow_y": null,
            "padding": null,
            "right": null,
            "top": null,
            "visibility": null,
            "width": null
          }
        },
        "01d976d5034f4846987698d0c3ecd1ae": {
          "model_module": "@jupyter-widgets/controls",
          "model_name": "DescriptionStyleModel",
          "model_module_version": "1.5.0",
          "state": {
            "_model_module": "@jupyter-widgets/controls",
            "_model_module_version": "1.5.0",
            "_model_name": "DescriptionStyleModel",
            "_view_count": null,
            "_view_module": "@jupyter-widgets/base",
            "_view_module_version": "1.2.0",
            "_view_name": "StyleView",
            "description_width": ""
          }
        },
        "2028604467364941922fc5eb927fcf8f": {
          "model_module": "@jupyter-widgets/controls",
          "model_name": "HBoxModel",
          "model_module_version": "1.5.0",
          "state": {
            "_dom_classes": [],
            "_model_module": "@jupyter-widgets/controls",
            "_model_module_version": "1.5.0",
            "_model_name": "HBoxModel",
            "_view_count": null,
            "_view_module": "@jupyter-widgets/controls",
            "_view_module_version": "1.5.0",
            "_view_name": "HBoxView",
            "box_style": "",
            "children": [
              "IPY_MODEL_6679ba39457c426baceabc40092cd603",
              "IPY_MODEL_87a24e0c06834edc991c5b406cb2c41c",
              "IPY_MODEL_9877d7562e1f4366a644664ab6fa5ebd"
            ],
            "layout": "IPY_MODEL_c4b2b48e38304c9c83a6ad42ca2fe3ba"
          }
        },
        "6679ba39457c426baceabc40092cd603": {
          "model_module": "@jupyter-widgets/controls",
          "model_name": "HTMLModel",
          "model_module_version": "1.5.0",
          "state": {
            "_dom_classes": [],
            "_model_module": "@jupyter-widgets/controls",
            "_model_module_version": "1.5.0",
            "_model_name": "HTMLModel",
            "_view_count": null,
            "_view_module": "@jupyter-widgets/controls",
            "_view_module_version": "1.5.0",
            "_view_name": "HTMLView",
            "description": "",
            "description_tooltip": null,
            "layout": "IPY_MODEL_a8f76e616da84b5aab9b0058c8af22a9",
            "placeholder": "​",
            "style": "IPY_MODEL_d59c87473139422b9ce86a34e8b41db5",
            "value": "Map (num_proc=4): 100%"
          }
        },
        "87a24e0c06834edc991c5b406cb2c41c": {
          "model_module": "@jupyter-widgets/controls",
          "model_name": "FloatProgressModel",
          "model_module_version": "1.5.0",
          "state": {
            "_dom_classes": [],
            "_model_module": "@jupyter-widgets/controls",
            "_model_module_version": "1.5.0",
            "_model_name": "FloatProgressModel",
            "_view_count": null,
            "_view_module": "@jupyter-widgets/controls",
            "_view_module_version": "1.5.0",
            "_view_name": "ProgressView",
            "bar_style": "",
            "description": "",
            "description_tooltip": null,
            "layout": "IPY_MODEL_0e0b6dd0ab474530a76f5a1a05b54f42",
            "max": 25000,
            "min": 0,
            "orientation": "horizontal",
            "style": "IPY_MODEL_d4efafa5222b455e85f95f02d8dda5a7",
            "value": 25000
          }
        },
        "9877d7562e1f4366a644664ab6fa5ebd": {
          "model_module": "@jupyter-widgets/controls",
          "model_name": "HTMLModel",
          "model_module_version": "1.5.0",
          "state": {
            "_dom_classes": [],
            "_model_module": "@jupyter-widgets/controls",
            "_model_module_version": "1.5.0",
            "_model_name": "HTMLModel",
            "_view_count": null,
            "_view_module": "@jupyter-widgets/controls",
            "_view_module_version": "1.5.0",
            "_view_name": "HTMLView",
            "description": "",
            "description_tooltip": null,
            "layout": "IPY_MODEL_606b6b4a62f640f781c3c7f3428b7392",
            "placeholder": "​",
            "style": "IPY_MODEL_415fcca8e78d43ada727d8444e27d1a5",
            "value": " 25000/25000 [00:24&lt;00:00, 1095.75 examples/s]"
          }
        },
        "c4b2b48e38304c9c83a6ad42ca2fe3ba": {
          "model_module": "@jupyter-widgets/base",
          "model_name": "LayoutModel",
          "model_module_version": "1.2.0",
          "state": {
            "_model_module": "@jupyter-widgets/base",
            "_model_module_version": "1.2.0",
            "_model_name": "LayoutModel",
            "_view_count": null,
            "_view_module": "@jupyter-widgets/base",
            "_view_module_version": "1.2.0",
            "_view_name": "LayoutView",
            "align_content": null,
            "align_items": null,
            "align_self": null,
            "border": null,
            "bottom": null,
            "display": null,
            "flex": null,
            "flex_flow": null,
            "grid_area": null,
            "grid_auto_columns": null,
            "grid_auto_flow": null,
            "grid_auto_rows": null,
            "grid_column": null,
            "grid_gap": null,
            "grid_row": null,
            "grid_template_areas": null,
            "grid_template_columns": null,
            "grid_template_rows": null,
            "height": null,
            "justify_content": null,
            "justify_items": null,
            "left": null,
            "margin": null,
            "max_height": null,
            "max_width": null,
            "min_height": null,
            "min_width": null,
            "object_fit": null,
            "object_position": null,
            "order": null,
            "overflow": null,
            "overflow_x": null,
            "overflow_y": null,
            "padding": null,
            "right": null,
            "top": null,
            "visibility": "hidden",
            "width": null
          }
        },
        "a8f76e616da84b5aab9b0058c8af22a9": {
          "model_module": "@jupyter-widgets/base",
          "model_name": "LayoutModel",
          "model_module_version": "1.2.0",
          "state": {
            "_model_module": "@jupyter-widgets/base",
            "_model_module_version": "1.2.0",
            "_model_name": "LayoutModel",
            "_view_count": null,
            "_view_module": "@jupyter-widgets/base",
            "_view_module_version": "1.2.0",
            "_view_name": "LayoutView",
            "align_content": null,
            "align_items": null,
            "align_self": null,
            "border": null,
            "bottom": null,
            "display": null,
            "flex": null,
            "flex_flow": null,
            "grid_area": null,
            "grid_auto_columns": null,
            "grid_auto_flow": null,
            "grid_auto_rows": null,
            "grid_column": null,
            "grid_gap": null,
            "grid_row": null,
            "grid_template_areas": null,
            "grid_template_columns": null,
            "grid_template_rows": null,
            "height": null,
            "justify_content": null,
            "justify_items": null,
            "left": null,
            "margin": null,
            "max_height": null,
            "max_width": null,
            "min_height": null,
            "min_width": null,
            "object_fit": null,
            "object_position": null,
            "order": null,
            "overflow": null,
            "overflow_x": null,
            "overflow_y": null,
            "padding": null,
            "right": null,
            "top": null,
            "visibility": null,
            "width": null
          }
        },
        "d59c87473139422b9ce86a34e8b41db5": {
          "model_module": "@jupyter-widgets/controls",
          "model_name": "DescriptionStyleModel",
          "model_module_version": "1.5.0",
          "state": {
            "_model_module": "@jupyter-widgets/controls",
            "_model_module_version": "1.5.0",
            "_model_name": "DescriptionStyleModel",
            "_view_count": null,
            "_view_module": "@jupyter-widgets/base",
            "_view_module_version": "1.2.0",
            "_view_name": "StyleView",
            "description_width": ""
          }
        },
        "0e0b6dd0ab474530a76f5a1a05b54f42": {
          "model_module": "@jupyter-widgets/base",
          "model_name": "LayoutModel",
          "model_module_version": "1.2.0",
          "state": {
            "_model_module": "@jupyter-widgets/base",
            "_model_module_version": "1.2.0",
            "_model_name": "LayoutModel",
            "_view_count": null,
            "_view_module": "@jupyter-widgets/base",
            "_view_module_version": "1.2.0",
            "_view_name": "LayoutView",
            "align_content": null,
            "align_items": null,
            "align_self": null,
            "border": null,
            "bottom": null,
            "display": null,
            "flex": null,
            "flex_flow": null,
            "grid_area": null,
            "grid_auto_columns": null,
            "grid_auto_flow": null,
            "grid_auto_rows": null,
            "grid_column": null,
            "grid_gap": null,
            "grid_row": null,
            "grid_template_areas": null,
            "grid_template_columns": null,
            "grid_template_rows": null,
            "height": null,
            "justify_content": null,
            "justify_items": null,
            "left": null,
            "margin": null,
            "max_height": null,
            "max_width": null,
            "min_height": null,
            "min_width": null,
            "object_fit": null,
            "object_position": null,
            "order": null,
            "overflow": null,
            "overflow_x": null,
            "overflow_y": null,
            "padding": null,
            "right": null,
            "top": null,
            "visibility": null,
            "width": null
          }
        },
        "d4efafa5222b455e85f95f02d8dda5a7": {
          "model_module": "@jupyter-widgets/controls",
          "model_name": "ProgressStyleModel",
          "model_module_version": "1.5.0",
          "state": {
            "_model_module": "@jupyter-widgets/controls",
            "_model_module_version": "1.5.0",
            "_model_name": "ProgressStyleModel",
            "_view_count": null,
            "_view_module": "@jupyter-widgets/base",
            "_view_module_version": "1.2.0",
            "_view_name": "StyleView",
            "bar_color": null,
            "description_width": ""
          }
        },
        "606b6b4a62f640f781c3c7f3428b7392": {
          "model_module": "@jupyter-widgets/base",
          "model_name": "LayoutModel",
          "model_module_version": "1.2.0",
          "state": {
            "_model_module": "@jupyter-widgets/base",
            "_model_module_version": "1.2.0",
            "_model_name": "LayoutModel",
            "_view_count": null,
            "_view_module": "@jupyter-widgets/base",
            "_view_module_version": "1.2.0",
            "_view_name": "LayoutView",
            "align_content": null,
            "align_items": null,
            "align_self": null,
            "border": null,
            "bottom": null,
            "display": null,
            "flex": null,
            "flex_flow": null,
            "grid_area": null,
            "grid_auto_columns": null,
            "grid_auto_flow": null,
            "grid_auto_rows": null,
            "grid_column": null,
            "grid_gap": null,
            "grid_row": null,
            "grid_template_areas": null,
            "grid_template_columns": null,
            "grid_template_rows": null,
            "height": null,
            "justify_content": null,
            "justify_items": null,
            "left": null,
            "margin": null,
            "max_height": null,
            "max_width": null,
            "min_height": null,
            "min_width": null,
            "object_fit": null,
            "object_position": null,
            "order": null,
            "overflow": null,
            "overflow_x": null,
            "overflow_y": null,
            "padding": null,
            "right": null,
            "top": null,
            "visibility": null,
            "width": null
          }
        },
        "415fcca8e78d43ada727d8444e27d1a5": {
          "model_module": "@jupyter-widgets/controls",
          "model_name": "DescriptionStyleModel",
          "model_module_version": "1.5.0",
          "state": {
            "_model_module": "@jupyter-widgets/controls",
            "_model_module_version": "1.5.0",
            "_model_name": "DescriptionStyleModel",
            "_view_count": null,
            "_view_module": "@jupyter-widgets/base",
            "_view_module_version": "1.2.0",
            "_view_name": "StyleView",
            "description_width": ""
          }
        },
        "1585caf946d24411888ca6deec938339": {
          "model_module": "@jupyter-widgets/controls",
          "model_name": "HBoxModel",
          "model_module_version": "1.5.0",
          "state": {
            "_dom_classes": [],
            "_model_module": "@jupyter-widgets/controls",
            "_model_module_version": "1.5.0",
            "_model_name": "HBoxModel",
            "_view_count": null,
            "_view_module": "@jupyter-widgets/controls",
            "_view_module_version": "1.5.0",
            "_view_name": "HBoxView",
            "box_style": "",
            "children": [
              "IPY_MODEL_953d5489813441ca88f356c7e680b71d",
              "IPY_MODEL_d5868c5da42842adad65f9fc645bf503",
              "IPY_MODEL_e414908d87a441f8b14be5cf1f36b850"
            ],
            "layout": "IPY_MODEL_20453987ee374bcb993a5e1ae8656d96"
          }
        },
        "953d5489813441ca88f356c7e680b71d": {
          "model_module": "@jupyter-widgets/controls",
          "model_name": "HTMLModel",
          "model_module_version": "1.5.0",
          "state": {
            "_dom_classes": [],
            "_model_module": "@jupyter-widgets/controls",
            "_model_module_version": "1.5.0",
            "_model_name": "HTMLModel",
            "_view_count": null,
            "_view_module": "@jupyter-widgets/controls",
            "_view_module_version": "1.5.0",
            "_view_name": "HTMLView",
            "description": "",
            "description_tooltip": null,
            "layout": "IPY_MODEL_61f9ad3c97c14cf3ac45f3acd6c24e0e",
            "placeholder": "​",
            "style": "IPY_MODEL_248ea321429346b8a82c348b8a668e9f",
            "value": "Downloading pytorch_model.bin: 100%"
          }
        },
        "d5868c5da42842adad65f9fc645bf503": {
          "model_module": "@jupyter-widgets/controls",
          "model_name": "FloatProgressModel",
          "model_module_version": "1.5.0",
          "state": {
            "_dom_classes": [],
            "_model_module": "@jupyter-widgets/controls",
            "_model_module_version": "1.5.0",
            "_model_name": "FloatProgressModel",
            "_view_count": null,
            "_view_module": "@jupyter-widgets/controls",
            "_view_module_version": "1.5.0",
            "_view_name": "ProgressView",
            "bar_style": "success",
            "description": "",
            "description_tooltip": null,
            "layout": "IPY_MODEL_986c7ff548bd4ec097bc0b7c3561c7b8",
            "max": 250540281,
            "min": 0,
            "orientation": "horizontal",
            "style": "IPY_MODEL_403417ee4b754774b17d87f003e03af1",
            "value": 250540281
          }
        },
        "e414908d87a441f8b14be5cf1f36b850": {
          "model_module": "@jupyter-widgets/controls",
          "model_name": "HTMLModel",
          "model_module_version": "1.5.0",
          "state": {
            "_dom_classes": [],
            "_model_module": "@jupyter-widgets/controls",
            "_model_module_version": "1.5.0",
            "_model_name": "HTMLModel",
            "_view_count": null,
            "_view_module": "@jupyter-widgets/controls",
            "_view_module_version": "1.5.0",
            "_view_name": "HTMLView",
            "description": "",
            "description_tooltip": null,
            "layout": "IPY_MODEL_365703fad8b1482aa39e8e85434d01cd",
            "placeholder": "​",
            "style": "IPY_MODEL_5020365fdba448cea0e6a31cf26fe825",
            "value": " 251M/251M [00:00&lt;00:00, 440MB/s]"
          }
        },
        "20453987ee374bcb993a5e1ae8656d96": {
          "model_module": "@jupyter-widgets/base",
          "model_name": "LayoutModel",
          "model_module_version": "1.2.0",
          "state": {
            "_model_module": "@jupyter-widgets/base",
            "_model_module_version": "1.2.0",
            "_model_name": "LayoutModel",
            "_view_count": null,
            "_view_module": "@jupyter-widgets/base",
            "_view_module_version": "1.2.0",
            "_view_name": "LayoutView",
            "align_content": null,
            "align_items": null,
            "align_self": null,
            "border": null,
            "bottom": null,
            "display": null,
            "flex": null,
            "flex_flow": null,
            "grid_area": null,
            "grid_auto_columns": null,
            "grid_auto_flow": null,
            "grid_auto_rows": null,
            "grid_column": null,
            "grid_gap": null,
            "grid_row": null,
            "grid_template_areas": null,
            "grid_template_columns": null,
            "grid_template_rows": null,
            "height": null,
            "justify_content": null,
            "justify_items": null,
            "left": null,
            "margin": null,
            "max_height": null,
            "max_width": null,
            "min_height": null,
            "min_width": null,
            "object_fit": null,
            "object_position": null,
            "order": null,
            "overflow": null,
            "overflow_x": null,
            "overflow_y": null,
            "padding": null,
            "right": null,
            "top": null,
            "visibility": null,
            "width": null
          }
        },
        "61f9ad3c97c14cf3ac45f3acd6c24e0e": {
          "model_module": "@jupyter-widgets/base",
          "model_name": "LayoutModel",
          "model_module_version": "1.2.0",
          "state": {
            "_model_module": "@jupyter-widgets/base",
            "_model_module_version": "1.2.0",
            "_model_name": "LayoutModel",
            "_view_count": null,
            "_view_module": "@jupyter-widgets/base",
            "_view_module_version": "1.2.0",
            "_view_name": "LayoutView",
            "align_content": null,
            "align_items": null,
            "align_self": null,
            "border": null,
            "bottom": null,
            "display": null,
            "flex": null,
            "flex_flow": null,
            "grid_area": null,
            "grid_auto_columns": null,
            "grid_auto_flow": null,
            "grid_auto_rows": null,
            "grid_column": null,
            "grid_gap": null,
            "grid_row": null,
            "grid_template_areas": null,
            "grid_template_columns": null,
            "grid_template_rows": null,
            "height": null,
            "justify_content": null,
            "justify_items": null,
            "left": null,
            "margin": null,
            "max_height": null,
            "max_width": null,
            "min_height": null,
            "min_width": null,
            "object_fit": null,
            "object_position": null,
            "order": null,
            "overflow": null,
            "overflow_x": null,
            "overflow_y": null,
            "padding": null,
            "right": null,
            "top": null,
            "visibility": null,
            "width": null
          }
        },
        "248ea321429346b8a82c348b8a668e9f": {
          "model_module": "@jupyter-widgets/controls",
          "model_name": "DescriptionStyleModel",
          "model_module_version": "1.5.0",
          "state": {
            "_model_module": "@jupyter-widgets/controls",
            "_model_module_version": "1.5.0",
            "_model_name": "DescriptionStyleModel",
            "_view_count": null,
            "_view_module": "@jupyter-widgets/base",
            "_view_module_version": "1.2.0",
            "_view_name": "StyleView",
            "description_width": ""
          }
        },
        "986c7ff548bd4ec097bc0b7c3561c7b8": {
          "model_module": "@jupyter-widgets/base",
          "model_name": "LayoutModel",
          "model_module_version": "1.2.0",
          "state": {
            "_model_module": "@jupyter-widgets/base",
            "_model_module_version": "1.2.0",
            "_model_name": "LayoutModel",
            "_view_count": null,
            "_view_module": "@jupyter-widgets/base",
            "_view_module_version": "1.2.0",
            "_view_name": "LayoutView",
            "align_content": null,
            "align_items": null,
            "align_self": null,
            "border": null,
            "bottom": null,
            "display": null,
            "flex": null,
            "flex_flow": null,
            "grid_area": null,
            "grid_auto_columns": null,
            "grid_auto_flow": null,
            "grid_auto_rows": null,
            "grid_column": null,
            "grid_gap": null,
            "grid_row": null,
            "grid_template_areas": null,
            "grid_template_columns": null,
            "grid_template_rows": null,
            "height": null,
            "justify_content": null,
            "justify_items": null,
            "left": null,
            "margin": null,
            "max_height": null,
            "max_width": null,
            "min_height": null,
            "min_width": null,
            "object_fit": null,
            "object_position": null,
            "order": null,
            "overflow": null,
            "overflow_x": null,
            "overflow_y": null,
            "padding": null,
            "right": null,
            "top": null,
            "visibility": null,
            "width": null
          }
        },
        "403417ee4b754774b17d87f003e03af1": {
          "model_module": "@jupyter-widgets/controls",
          "model_name": "ProgressStyleModel",
          "model_module_version": "1.5.0",
          "state": {
            "_model_module": "@jupyter-widgets/controls",
            "_model_module_version": "1.5.0",
            "_model_name": "ProgressStyleModel",
            "_view_count": null,
            "_view_module": "@jupyter-widgets/base",
            "_view_module_version": "1.2.0",
            "_view_name": "StyleView",
            "bar_color": null,
            "description_width": ""
          }
        },
        "365703fad8b1482aa39e8e85434d01cd": {
          "model_module": "@jupyter-widgets/base",
          "model_name": "LayoutModel",
          "model_module_version": "1.2.0",
          "state": {
            "_model_module": "@jupyter-widgets/base",
            "_model_module_version": "1.2.0",
            "_model_name": "LayoutModel",
            "_view_count": null,
            "_view_module": "@jupyter-widgets/base",
            "_view_module_version": "1.2.0",
            "_view_name": "LayoutView",
            "align_content": null,
            "align_items": null,
            "align_self": null,
            "border": null,
            "bottom": null,
            "display": null,
            "flex": null,
            "flex_flow": null,
            "grid_area": null,
            "grid_auto_columns": null,
            "grid_auto_flow": null,
            "grid_auto_rows": null,
            "grid_column": null,
            "grid_gap": null,
            "grid_row": null,
            "grid_template_areas": null,
            "grid_template_columns": null,
            "grid_template_rows": null,
            "height": null,
            "justify_content": null,
            "justify_items": null,
            "left": null,
            "margin": null,
            "max_height": null,
            "max_width": null,
            "min_height": null,
            "min_width": null,
            "object_fit": null,
            "object_position": null,
            "order": null,
            "overflow": null,
            "overflow_x": null,
            "overflow_y": null,
            "padding": null,
            "right": null,
            "top": null,
            "visibility": null,
            "width": null
          }
        },
        "5020365fdba448cea0e6a31cf26fe825": {
          "model_module": "@jupyter-widgets/controls",
          "model_name": "DescriptionStyleModel",
          "model_module_version": "1.5.0",
          "state": {
            "_model_module": "@jupyter-widgets/controls",
            "_model_module_version": "1.5.0",
            "_model_name": "DescriptionStyleModel",
            "_view_count": null,
            "_view_module": "@jupyter-widgets/base",
            "_view_module_version": "1.2.0",
            "_view_name": "StyleView",
            "description_width": ""
          }
        },
        "70473b2f3015476a87652370fcf595e0": {
          "model_module": "@jupyter-widgets/controls",
          "model_name": "HBoxModel",
          "model_module_version": "1.5.0",
          "state": {
            "_dom_classes": [],
            "_model_module": "@jupyter-widgets/controls",
            "_model_module_version": "1.5.0",
            "_model_name": "HBoxModel",
            "_view_count": null,
            "_view_module": "@jupyter-widgets/controls",
            "_view_module_version": "1.5.0",
            "_view_name": "HBoxView",
            "box_style": "",
            "children": [
              "IPY_MODEL_11f1cc54a8ce4206a1b9eac4cf3a1efa",
              "IPY_MODEL_3825569abaf54594b072e4e22dd2cb77",
              "IPY_MODEL_8d8cb54cca2d486e80b6cbb9b2f5b5c0"
            ],
            "layout": "IPY_MODEL_fae553cb05cd42f2a6fcd1485ccbf661"
          }
        },
        "11f1cc54a8ce4206a1b9eac4cf3a1efa": {
          "model_module": "@jupyter-widgets/controls",
          "model_name": "HTMLModel",
          "model_module_version": "1.5.0",
          "state": {
            "_dom_classes": [],
            "_model_module": "@jupyter-widgets/controls",
            "_model_module_version": "1.5.0",
            "_model_name": "HTMLModel",
            "_view_count": null,
            "_view_module": "@jupyter-widgets/controls",
            "_view_module_version": "1.5.0",
            "_view_name": "HTMLView",
            "description": "",
            "description_tooltip": null,
            "layout": "IPY_MODEL_f927acfddd0548f7add084718af5f4ce",
            "placeholder": "​",
            "style": "IPY_MODEL_d82435f72c3c4e728c0c4bdd35f2bd42",
            "value": "Downloading (…)neration_config.json: 100%"
          }
        },
        "3825569abaf54594b072e4e22dd2cb77": {
          "model_module": "@jupyter-widgets/controls",
          "model_name": "FloatProgressModel",
          "model_module_version": "1.5.0",
          "state": {
            "_dom_classes": [],
            "_model_module": "@jupyter-widgets/controls",
            "_model_module_version": "1.5.0",
            "_model_name": "FloatProgressModel",
            "_view_count": null,
            "_view_module": "@jupyter-widgets/controls",
            "_view_module_version": "1.5.0",
            "_view_name": "ProgressView",
            "bar_style": "success",
            "description": "",
            "description_tooltip": null,
            "layout": "IPY_MODEL_a8931f9aebff48889086f1c0d3fd69c8",
            "max": 137,
            "min": 0,
            "orientation": "horizontal",
            "style": "IPY_MODEL_0fee34093a68451c8e9c25db133354a6",
            "value": 137
          }
        },
        "8d8cb54cca2d486e80b6cbb9b2f5b5c0": {
          "model_module": "@jupyter-widgets/controls",
          "model_name": "HTMLModel",
          "model_module_version": "1.5.0",
          "state": {
            "_dom_classes": [],
            "_model_module": "@jupyter-widgets/controls",
            "_model_module_version": "1.5.0",
            "_model_name": "HTMLModel",
            "_view_count": null,
            "_view_module": "@jupyter-widgets/controls",
            "_view_module_version": "1.5.0",
            "_view_name": "HTMLView",
            "description": "",
            "description_tooltip": null,
            "layout": "IPY_MODEL_ab44ffd4ad834d5aa4514e3d745c9739",
            "placeholder": "​",
            "style": "IPY_MODEL_255fd5daa7e949548addae7dad21d3f3",
            "value": " 137/137 [00:00&lt;00:00, 8.00kB/s]"
          }
        },
        "fae553cb05cd42f2a6fcd1485ccbf661": {
          "model_module": "@jupyter-widgets/base",
          "model_name": "LayoutModel",
          "model_module_version": "1.2.0",
          "state": {
            "_model_module": "@jupyter-widgets/base",
            "_model_module_version": "1.2.0",
            "_model_name": "LayoutModel",
            "_view_count": null,
            "_view_module": "@jupyter-widgets/base",
            "_view_module_version": "1.2.0",
            "_view_name": "LayoutView",
            "align_content": null,
            "align_items": null,
            "align_self": null,
            "border": null,
            "bottom": null,
            "display": null,
            "flex": null,
            "flex_flow": null,
            "grid_area": null,
            "grid_auto_columns": null,
            "grid_auto_flow": null,
            "grid_auto_rows": null,
            "grid_column": null,
            "grid_gap": null,
            "grid_row": null,
            "grid_template_areas": null,
            "grid_template_columns": null,
            "grid_template_rows": null,
            "height": null,
            "justify_content": null,
            "justify_items": null,
            "left": null,
            "margin": null,
            "max_height": null,
            "max_width": null,
            "min_height": null,
            "min_width": null,
            "object_fit": null,
            "object_position": null,
            "order": null,
            "overflow": null,
            "overflow_x": null,
            "overflow_y": null,
            "padding": null,
            "right": null,
            "top": null,
            "visibility": null,
            "width": null
          }
        },
        "f927acfddd0548f7add084718af5f4ce": {
          "model_module": "@jupyter-widgets/base",
          "model_name": "LayoutModel",
          "model_module_version": "1.2.0",
          "state": {
            "_model_module": "@jupyter-widgets/base",
            "_model_module_version": "1.2.0",
            "_model_name": "LayoutModel",
            "_view_count": null,
            "_view_module": "@jupyter-widgets/base",
            "_view_module_version": "1.2.0",
            "_view_name": "LayoutView",
            "align_content": null,
            "align_items": null,
            "align_self": null,
            "border": null,
            "bottom": null,
            "display": null,
            "flex": null,
            "flex_flow": null,
            "grid_area": null,
            "grid_auto_columns": null,
            "grid_auto_flow": null,
            "grid_auto_rows": null,
            "grid_column": null,
            "grid_gap": null,
            "grid_row": null,
            "grid_template_areas": null,
            "grid_template_columns": null,
            "grid_template_rows": null,
            "height": null,
            "justify_content": null,
            "justify_items": null,
            "left": null,
            "margin": null,
            "max_height": null,
            "max_width": null,
            "min_height": null,
            "min_width": null,
            "object_fit": null,
            "object_position": null,
            "order": null,
            "overflow": null,
            "overflow_x": null,
            "overflow_y": null,
            "padding": null,
            "right": null,
            "top": null,
            "visibility": null,
            "width": null
          }
        },
        "d82435f72c3c4e728c0c4bdd35f2bd42": {
          "model_module": "@jupyter-widgets/controls",
          "model_name": "DescriptionStyleModel",
          "model_module_version": "1.5.0",
          "state": {
            "_model_module": "@jupyter-widgets/controls",
            "_model_module_version": "1.5.0",
            "_model_name": "DescriptionStyleModel",
            "_view_count": null,
            "_view_module": "@jupyter-widgets/base",
            "_view_module_version": "1.2.0",
            "_view_name": "StyleView",
            "description_width": ""
          }
        },
        "a8931f9aebff48889086f1c0d3fd69c8": {
          "model_module": "@jupyter-widgets/base",
          "model_name": "LayoutModel",
          "model_module_version": "1.2.0",
          "state": {
            "_model_module": "@jupyter-widgets/base",
            "_model_module_version": "1.2.0",
            "_model_name": "LayoutModel",
            "_view_count": null,
            "_view_module": "@jupyter-widgets/base",
            "_view_module_version": "1.2.0",
            "_view_name": "LayoutView",
            "align_content": null,
            "align_items": null,
            "align_self": null,
            "border": null,
            "bottom": null,
            "display": null,
            "flex": null,
            "flex_flow": null,
            "grid_area": null,
            "grid_auto_columns": null,
            "grid_auto_flow": null,
            "grid_auto_rows": null,
            "grid_column": null,
            "grid_gap": null,
            "grid_row": null,
            "grid_template_areas": null,
            "grid_template_columns": null,
            "grid_template_rows": null,
            "height": null,
            "justify_content": null,
            "justify_items": null,
            "left": null,
            "margin": null,
            "max_height": null,
            "max_width": null,
            "min_height": null,
            "min_width": null,
            "object_fit": null,
            "object_position": null,
            "order": null,
            "overflow": null,
            "overflow_x": null,
            "overflow_y": null,
            "padding": null,
            "right": null,
            "top": null,
            "visibility": null,
            "width": null
          }
        },
        "0fee34093a68451c8e9c25db133354a6": {
          "model_module": "@jupyter-widgets/controls",
          "model_name": "ProgressStyleModel",
          "model_module_version": "1.5.0",
          "state": {
            "_model_module": "@jupyter-widgets/controls",
            "_model_module_version": "1.5.0",
            "_model_name": "ProgressStyleModel",
            "_view_count": null,
            "_view_module": "@jupyter-widgets/base",
            "_view_module_version": "1.2.0",
            "_view_name": "StyleView",
            "bar_color": null,
            "description_width": ""
          }
        },
        "ab44ffd4ad834d5aa4514e3d745c9739": {
          "model_module": "@jupyter-widgets/base",
          "model_name": "LayoutModel",
          "model_module_version": "1.2.0",
          "state": {
            "_model_module": "@jupyter-widgets/base",
            "_model_module_version": "1.2.0",
            "_model_name": "LayoutModel",
            "_view_count": null,
            "_view_module": "@jupyter-widgets/base",
            "_view_module_version": "1.2.0",
            "_view_name": "LayoutView",
            "align_content": null,
            "align_items": null,
            "align_self": null,
            "border": null,
            "bottom": null,
            "display": null,
            "flex": null,
            "flex_flow": null,
            "grid_area": null,
            "grid_auto_columns": null,
            "grid_auto_flow": null,
            "grid_auto_rows": null,
            "grid_column": null,
            "grid_gap": null,
            "grid_row": null,
            "grid_template_areas": null,
            "grid_template_columns": null,
            "grid_template_rows": null,
            "height": null,
            "justify_content": null,
            "justify_items": null,
            "left": null,
            "margin": null,
            "max_height": null,
            "max_width": null,
            "min_height": null,
            "min_width": null,
            "object_fit": null,
            "object_position": null,
            "order": null,
            "overflow": null,
            "overflow_x": null,
            "overflow_y": null,
            "padding": null,
            "right": null,
            "top": null,
            "visibility": null,
            "width": null
          }
        },
        "255fd5daa7e949548addae7dad21d3f3": {
          "model_module": "@jupyter-widgets/controls",
          "model_name": "DescriptionStyleModel",
          "model_module_version": "1.5.0",
          "state": {
            "_model_module": "@jupyter-widgets/controls",
            "_model_module_version": "1.5.0",
            "_model_name": "DescriptionStyleModel",
            "_view_count": null,
            "_view_module": "@jupyter-widgets/base",
            "_view_module_version": "1.2.0",
            "_view_name": "StyleView",
            "description_width": ""
          }
        }
      }
    }
  },
  "cells": [
    {
      "cell_type": "markdown",
      "metadata": {
        "id": "view-in-github",
        "colab_type": "text"
      },
      "source": [
        "<a href=\"https://colab.research.google.com/github/leonardo3108/IA368dd/blob/main/exercicios/Aula_5/Aula_5_Treino_Modelo_de_Linguagem.ipynb\" target=\"_parent\"><img src=\"https://colab.research.google.com/assets/colab-badge.svg\" alt=\"Open In Colab\"/></a>"
      ]
    },
    {
      "cell_type": "code",
      "execution_count": 1,
      "metadata": {
        "colab": {
          "base_uri": "https://localhost:8080/"
        },
        "id": "fNUIh9g9fG9I",
        "outputId": "80265dd8-c205-4d66-cfbc-bcd9bc6fe155"
      },
      "outputs": [
        {
          "output_type": "stream",
          "name": "stdout",
          "text": [
            "Meu nome é Leonardo Augusto da Silva Pacheco\n"
          ]
        }
      ],
      "source": [
        "nome = 'Leonardo Augusto da Silva Pacheco'\n",
        "print(f'Meu nome é {nome}')"
      ]
    },
    {
      "cell_type": "markdown",
      "source": [
        "# Introdução"
      ],
      "metadata": {
        "id": "FyRzX4wSoaxS"
      }
    },
    {
      "cell_type": "markdown",
      "source": [
        "## Enunciado"
      ],
      "metadata": {
        "id": "O4NtstKRhmeM"
      }
    },
    {
      "cell_type": "markdown",
      "source": [
        "Treinar um modelo de linguagem em dados em portugues\n",
        "- Avaliar o modelo usando a perplexidade, que é simplesmente a exponencial de todas as losses do dataset de validação\n",
        "- Iremos treinar o modelo para prever o próximo token dado os anteriores (também conhecido como Causal Language Modeling). Não confundir com o Masked Language Modeling (MLM), que consiste em prever tokens mascarados em uma dada sequência (ex: BERT's MLM)\n",
        "\n",
        "Dicas:\n",
        "- Usar como ponto de partida o modelo [OPT-125M](https://huggingface.co/facebook/opt-125m), que já foi treinado em 300B de tokens (maioria em Inglês)\n",
        "- Usar este dataset reduzido do mc4 portugues, com ~300M de tokens: [mc4-pt-sample-1g.txt](https://unicamp-dl/ia025a_2022s1/aula9/sample-1gb.txt)\n"
      ],
      "metadata": {
        "id": "aTw2Xs2tg3ZK"
      }
    },
    {
      "cell_type": "markdown",
      "source": [
        "## Abordagem"
      ],
      "metadata": {
        "id": "07ebQavfog1_"
      }
    },
    {
      "cell_type": "markdown",
      "source": [
        "Segue uma descrição dos passos utilizados e documentação dos principais conceitos:\n",
        "\n",
        "1. Baixamos o conjunto de dados mc4-pt-sample-1g.txt e preparamos os dados para treinamento, em batchs contendo sequências de número fixo de tokens.\n",
        "   - preparação do dataset: https://huggingface.co/docs/datasets/loading\n",
        "   - tokens em batch: https://huggingface.co/docs/datasets/about_map_batch\n",
        "2. Baixamos o modelo pré-treinado OPT-125M e efetuamos o fine-tuning usando o dataset e por meio de modelagem de dados causal.\n",
        "  - treinamento: https://huggingface.co/docs/transformers/v4.27.2/en/main_classes/trainer\n",
        "  - Causal language modeling with GPT: https://heartbeat.comet.ml/causal-language-modeling-with-gpt-d92c9cfe2d2a\n",
        "4. Avaliamos o modelo treinado por meio da métrica perplexidade, e testamos a geração de texto (greedy decoder).\n",
        "  - Perplexidade: https://huggingface.co/docs/transformers/main/en/perplexity\n",
        "  - Greedy decoding: https://medium.com/geekculture/greedy-search-decoding-for-text-generation-62e6dad889b\n",
        "\n",
        "Fontes de inspiração:\n",
        "- slide da aula com o código gerado pelo ChatGPT\n",
        "- notebook de exemplo da huggingface: [How to fine-tune a model on language modeling](https://github.com/huggingface/notebooks/blob/main/examples/language_modeling.ipynb)\n",
        "- notebook da [Mirelle](https://colab.research.google.com/drive/1WlSg5THKtALqYPDmqilfhjGkGHSYBJv7?usp=sharing#scrollTo=30Vu-BDcWrAa)\n",
        "\n"
      ],
      "metadata": {
        "id": "ccQ704OMWg5W"
      }
    },
    {
      "cell_type": "markdown",
      "source": [
        "# Setup"
      ],
      "metadata": {
        "id": "KAxP9_mRhjoq"
      }
    },
    {
      "cell_type": "markdown",
      "source": [
        "## Preparação de pastas"
      ],
      "metadata": {
        "id": "nB_H1s4booNC"
      }
    },
    {
      "cell_type": "code",
      "source": [
        "!mkdir 'model_output'\n",
        "!mkdir 'model_save'"
      ],
      "metadata": {
        "id": "K_CQnfYRmqzH"
      },
      "execution_count": 2,
      "outputs": []
    },
    {
      "cell_type": "markdown",
      "source": [
        "## Hiperparâmetros"
      ],
      "metadata": {
        "id": "XwAGjfbnorK-"
      }
    },
    {
      "cell_type": "code",
      "source": [
        "model_name = 'facebook/opt-125m'\n",
        "max_seq_length=256\n",
        "batch_size=16\n",
        "epochs=3\n",
        "model_output_dir='model_output'\n",
        "model_save_dir='model_save'"
      ],
      "metadata": {
        "id": "cfM9WUNWmzcn"
      },
      "execution_count": 3,
      "outputs": []
    },
    {
      "cell_type": "markdown",
      "source": [
        "## Instalação de libs"
      ],
      "metadata": {
        "id": "-K6OUxnmoucY"
      }
    },
    {
      "cell_type": "code",
      "source": [
        "!pip install transformers\n",
        "!pip install datasets "
      ],
      "metadata": {
        "colab": {
          "base_uri": "https://localhost:8080/"
        },
        "id": "5vDw8O9Pg8s2",
        "outputId": "72655c1c-5cdd-4ca4-fbb0-533a4978d7c0"
      },
      "execution_count": 4,
      "outputs": [
        {
          "output_type": "stream",
          "name": "stdout",
          "text": [
            "Looking in indexes: https://pypi.org/simple, https://us-python.pkg.dev/colab-wheels/public/simple/\n",
            "Collecting transformers\n",
            "  Downloading transformers-4.27.3-py3-none-any.whl (6.8 MB)\n",
            "\u001b[2K     \u001b[90m━━━━━━━━━━━━━━━━━━━━━━━━━━━━━━━━━━━━━━━━\u001b[0m \u001b[32m6.8/6.8 MB\u001b[0m \u001b[31m93.4 MB/s\u001b[0m eta \u001b[36m0:00:00\u001b[0m\n",
            "\u001b[?25hRequirement already satisfied: packaging>=20.0 in /usr/local/lib/python3.9/dist-packages (from transformers) (23.0)\n",
            "Requirement already satisfied: requests in /usr/local/lib/python3.9/dist-packages (from transformers) (2.27.1)\n",
            "Requirement already satisfied: numpy>=1.17 in /usr/local/lib/python3.9/dist-packages (from transformers) (1.22.4)\n",
            "Requirement already satisfied: tqdm>=4.27 in /usr/local/lib/python3.9/dist-packages (from transformers) (4.65.0)\n",
            "Collecting huggingface-hub<1.0,>=0.11.0\n",
            "  Downloading huggingface_hub-0.13.3-py3-none-any.whl (199 kB)\n",
            "\u001b[2K     \u001b[90m━━━━━━━━━━━━━━━━━━━━━━━━━━━━━━━━━━━━━━\u001b[0m \u001b[32m199.8/199.8 KB\u001b[0m \u001b[31m21.5 MB/s\u001b[0m eta \u001b[36m0:00:00\u001b[0m\n",
            "\u001b[?25hCollecting tokenizers!=0.11.3,<0.14,>=0.11.1\n",
            "  Downloading tokenizers-0.13.2-cp39-cp39-manylinux_2_17_x86_64.manylinux2014_x86_64.whl (7.6 MB)\n",
            "\u001b[2K     \u001b[90m━━━━━━━━━━━━━━━━━━━━━━━━━━━━━━━━━━━━━━━━\u001b[0m \u001b[32m7.6/7.6 MB\u001b[0m \u001b[31m102.9 MB/s\u001b[0m eta \u001b[36m0:00:00\u001b[0m\n",
            "\u001b[?25hRequirement already satisfied: pyyaml>=5.1 in /usr/local/lib/python3.9/dist-packages (from transformers) (6.0)\n",
            "Requirement already satisfied: regex!=2019.12.17 in /usr/local/lib/python3.9/dist-packages (from transformers) (2022.10.31)\n",
            "Requirement already satisfied: filelock in /usr/local/lib/python3.9/dist-packages (from transformers) (3.10.2)\n",
            "Requirement already satisfied: typing-extensions>=3.7.4.3 in /usr/local/lib/python3.9/dist-packages (from huggingface-hub<1.0,>=0.11.0->transformers) (4.5.0)\n",
            "Requirement already satisfied: charset-normalizer~=2.0.0 in /usr/local/lib/python3.9/dist-packages (from requests->transformers) (2.0.12)\n",
            "Requirement already satisfied: urllib3<1.27,>=1.21.1 in /usr/local/lib/python3.9/dist-packages (from requests->transformers) (1.26.15)\n",
            "Requirement already satisfied: idna<4,>=2.5 in /usr/local/lib/python3.9/dist-packages (from requests->transformers) (3.4)\n",
            "Requirement already satisfied: certifi>=2017.4.17 in /usr/local/lib/python3.9/dist-packages (from requests->transformers) (2022.12.7)\n",
            "Installing collected packages: tokenizers, huggingface-hub, transformers\n",
            "Successfully installed huggingface-hub-0.13.3 tokenizers-0.13.2 transformers-4.27.3\n",
            "Looking in indexes: https://pypi.org/simple, https://us-python.pkg.dev/colab-wheels/public/simple/\n",
            "Collecting datasets\n",
            "  Downloading datasets-2.10.1-py3-none-any.whl (469 kB)\n",
            "\u001b[2K     \u001b[90m━━━━━━━━━━━━━━━━━━━━━━━━━━━━━━━━━━━━━━\u001b[0m \u001b[32m469.0/469.0 KB\u001b[0m \u001b[31m25.1 MB/s\u001b[0m eta \u001b[36m0:00:00\u001b[0m\n",
            "\u001b[?25hCollecting responses<0.19\n",
            "  Downloading responses-0.18.0-py3-none-any.whl (38 kB)\n",
            "Requirement already satisfied: huggingface-hub<1.0.0,>=0.2.0 in /usr/local/lib/python3.9/dist-packages (from datasets) (0.13.3)\n",
            "Requirement already satisfied: packaging in /usr/local/lib/python3.9/dist-packages (from datasets) (23.0)\n",
            "Requirement already satisfied: pyyaml>=5.1 in /usr/local/lib/python3.9/dist-packages (from datasets) (6.0)\n",
            "Collecting dill<0.3.7,>=0.3.0\n",
            "  Downloading dill-0.3.6-py3-none-any.whl (110 kB)\n",
            "\u001b[2K     \u001b[90m━━━━━━━━━━━━━━━━━━━━━━━━━━━━━━━━━━━━━━\u001b[0m \u001b[32m110.5/110.5 KB\u001b[0m \u001b[31m15.1 MB/s\u001b[0m eta \u001b[36m0:00:00\u001b[0m\n",
            "\u001b[?25hRequirement already satisfied: numpy>=1.17 in /usr/local/lib/python3.9/dist-packages (from datasets) (1.22.4)\n",
            "Requirement already satisfied: pandas in /usr/local/lib/python3.9/dist-packages (from datasets) (1.4.4)\n",
            "Collecting xxhash\n",
            "  Downloading xxhash-3.2.0-cp39-cp39-manylinux_2_17_x86_64.manylinux2014_x86_64.whl (212 kB)\n",
            "\u001b[2K     \u001b[90m━━━━━━━━━━━━━━━━━━━━━━━━━━━━━━━━━━━━━━\u001b[0m \u001b[32m212.2/212.2 KB\u001b[0m \u001b[31m26.4 MB/s\u001b[0m eta \u001b[36m0:00:00\u001b[0m\n",
            "\u001b[?25hRequirement already satisfied: requests>=2.19.0 in /usr/local/lib/python3.9/dist-packages (from datasets) (2.27.1)\n",
            "Requirement already satisfied: tqdm>=4.62.1 in /usr/local/lib/python3.9/dist-packages (from datasets) (4.65.0)\n",
            "Collecting multiprocess\n",
            "  Downloading multiprocess-0.70.14-py39-none-any.whl (132 kB)\n",
            "\u001b[2K     \u001b[90m━━━━━━━━━━━━━━━━━━━━━━━━━━━━━━━━━━━━━━\u001b[0m \u001b[32m132.9/132.9 KB\u001b[0m \u001b[31m18.1 MB/s\u001b[0m eta \u001b[36m0:00:00\u001b[0m\n",
            "\u001b[?25hRequirement already satisfied: fsspec[http]>=2021.11.1 in /usr/local/lib/python3.9/dist-packages (from datasets) (2023.3.0)\n",
            "Collecting aiohttp\n",
            "  Downloading aiohttp-3.8.4-cp39-cp39-manylinux_2_17_x86_64.manylinux2014_x86_64.whl (1.0 MB)\n",
            "\u001b[2K     \u001b[90m━━━━━━━━━━━━━━━━━━━━━━━━━━━━━━━━━━━━━━━━\u001b[0m \u001b[32m1.0/1.0 MB\u001b[0m \u001b[31m71.5 MB/s\u001b[0m eta \u001b[36m0:00:00\u001b[0m\n",
            "\u001b[?25hRequirement already satisfied: pyarrow>=6.0.0 in /usr/local/lib/python3.9/dist-packages (from datasets) (9.0.0)\n",
            "Collecting async-timeout<5.0,>=4.0.0a3\n",
            "  Downloading async_timeout-4.0.2-py3-none-any.whl (5.8 kB)\n",
            "Collecting multidict<7.0,>=4.5\n",
            "  Downloading multidict-6.0.4-cp39-cp39-manylinux_2_17_x86_64.manylinux2014_x86_64.whl (114 kB)\n",
            "\u001b[2K     \u001b[90m━━━━━━━━━━━━━━━━━━━━━━━━━━━━━━━━━━━━━━\u001b[0m \u001b[32m114.2/114.2 KB\u001b[0m \u001b[31m16.1 MB/s\u001b[0m eta \u001b[36m0:00:00\u001b[0m\n",
            "\u001b[?25hRequirement already satisfied: charset-normalizer<4.0,>=2.0 in /usr/local/lib/python3.9/dist-packages (from aiohttp->datasets) (2.0.12)\n",
            "Collecting aiosignal>=1.1.2\n",
            "  Downloading aiosignal-1.3.1-py3-none-any.whl (7.6 kB)\n",
            "Requirement already satisfied: attrs>=17.3.0 in /usr/local/lib/python3.9/dist-packages (from aiohttp->datasets) (22.2.0)\n",
            "Collecting frozenlist>=1.1.1\n",
            "  Downloading frozenlist-1.3.3-cp39-cp39-manylinux_2_5_x86_64.manylinux1_x86_64.manylinux_2_17_x86_64.manylinux2014_x86_64.whl (158 kB)\n",
            "\u001b[2K     \u001b[90m━━━━━━━━━━━━━━━━━━━━━━━━━━━━━━━━━━━━━━\u001b[0m \u001b[32m158.8/158.8 KB\u001b[0m \u001b[31m20.2 MB/s\u001b[0m eta \u001b[36m0:00:00\u001b[0m\n",
            "\u001b[?25hCollecting yarl<2.0,>=1.0\n",
            "  Downloading yarl-1.8.2-cp39-cp39-manylinux_2_17_x86_64.manylinux2014_x86_64.whl (264 kB)\n",
            "\u001b[2K     \u001b[90m━━━━━━━━━━━━━━━━━━━━━━━━━━━━━━━━━━━━━━\u001b[0m \u001b[32m264.6/264.6 KB\u001b[0m \u001b[31m34.2 MB/s\u001b[0m eta \u001b[36m0:00:00\u001b[0m\n",
            "\u001b[?25hRequirement already satisfied: filelock in /usr/local/lib/python3.9/dist-packages (from huggingface-hub<1.0.0,>=0.2.0->datasets) (3.10.2)\n",
            "Requirement already satisfied: typing-extensions>=3.7.4.3 in /usr/local/lib/python3.9/dist-packages (from huggingface-hub<1.0.0,>=0.2.0->datasets) (4.5.0)\n",
            "Requirement already satisfied: urllib3<1.27,>=1.21.1 in /usr/local/lib/python3.9/dist-packages (from requests>=2.19.0->datasets) (1.26.15)\n",
            "Requirement already satisfied: certifi>=2017.4.17 in /usr/local/lib/python3.9/dist-packages (from requests>=2.19.0->datasets) (2022.12.7)\n",
            "Requirement already satisfied: idna<4,>=2.5 in /usr/local/lib/python3.9/dist-packages (from requests>=2.19.0->datasets) (3.4)\n",
            "Requirement already satisfied: python-dateutil>=2.8.1 in /usr/local/lib/python3.9/dist-packages (from pandas->datasets) (2.8.2)\n",
            "Requirement already satisfied: pytz>=2020.1 in /usr/local/lib/python3.9/dist-packages (from pandas->datasets) (2022.7.1)\n",
            "Requirement already satisfied: six>=1.5 in /usr/local/lib/python3.9/dist-packages (from python-dateutil>=2.8.1->pandas->datasets) (1.16.0)\n",
            "Installing collected packages: xxhash, multidict, frozenlist, dill, async-timeout, yarl, responses, multiprocess, aiosignal, aiohttp, datasets\n",
            "Successfully installed aiohttp-3.8.4 aiosignal-1.3.1 async-timeout-4.0.2 datasets-2.10.1 dill-0.3.6 frozenlist-1.3.3 multidict-6.0.4 multiprocess-0.70.14 responses-0.18.0 xxhash-3.2.0 yarl-1.8.2\n"
          ]
        }
      ]
    },
    {
      "cell_type": "markdown",
      "source": [
        "## Importação de libs"
      ],
      "metadata": {
        "id": "QcpEL6JRoxxu"
      }
    },
    {
      "cell_type": "code",
      "source": [
        "import torch\n",
        "from transformers import AutoTokenizer, AutoModelForCausalLM, DataCollatorForLanguageModeling, Trainer, TrainingArguments\n",
        "from datasets import load_dataset\n",
        "import math"
      ],
      "metadata": {
        "id": "H5Dlzz9EhuNC"
      },
      "execution_count": 5,
      "outputs": []
    },
    {
      "cell_type": "markdown",
      "source": [
        "## Utilização de GPU"
      ],
      "metadata": {
        "id": "bqqOCt92o5Kd"
      }
    },
    {
      "cell_type": "code",
      "source": [
        "if torch.cuda.is_available(): \n",
        "   dev = \"cuda:0\"\n",
        "else: \n",
        "   dev = \"cpu\"\n",
        "device = torch.device(dev)\n",
        "print('Using {}'.format(device))"
      ],
      "metadata": {
        "colab": {
          "base_uri": "https://localhost:8080/"
        },
        "id": "M89dtIBLhzWY",
        "outputId": "6b4a9458-d2e2-4924-e7f6-48c98386e3b9"
      },
      "execution_count": 6,
      "outputs": [
        {
          "output_type": "stream",
          "name": "stdout",
          "text": [
            "Using cuda:0\n"
          ]
        }
      ]
    },
    {
      "cell_type": "code",
      "source": [
        "if dev != 'cpu':\n",
        "    !nvidia-smi"
      ],
      "metadata": {
        "colab": {
          "base_uri": "https://localhost:8080/"
        },
        "id": "RE5JGi3fhxN7",
        "outputId": "51ac69c3-793e-4c3f-f629-31bf6381e1df"
      },
      "execution_count": 7,
      "outputs": [
        {
          "output_type": "stream",
          "name": "stdout",
          "text": [
            "Wed Mar 29 01:14:38 2023       \n",
            "+-----------------------------------------------------------------------------+\n",
            "| NVIDIA-SMI 525.85.12    Driver Version: 525.85.12    CUDA Version: 12.0     |\n",
            "|-------------------------------+----------------------+----------------------+\n",
            "| GPU  Name        Persistence-M| Bus-Id        Disp.A | Volatile Uncorr. ECC |\n",
            "| Fan  Temp  Perf  Pwr:Usage/Cap|         Memory-Usage | GPU-Util  Compute M. |\n",
            "|                               |                      |               MIG M. |\n",
            "|===============================+======================+======================|\n",
            "|   0  NVIDIA A100-SXM...  Off  | 00000000:00:04.0 Off |                    0 |\n",
            "| N/A   35C    P0    42W / 400W |      3MiB / 40960MiB |      0%      Default |\n",
            "|                               |                      |             Disabled |\n",
            "+-------------------------------+----------------------+----------------------+\n",
            "                                                                               \n",
            "+-----------------------------------------------------------------------------+\n",
            "| Processes:                                                                  |\n",
            "|  GPU   GI   CI        PID   Type   Process name                  GPU Memory |\n",
            "|        ID   ID                                                   Usage      |\n",
            "|=============================================================================|\n",
            "|  No running processes found                                                 |\n",
            "+-----------------------------------------------------------------------------+\n"
          ]
        }
      ]
    },
    {
      "cell_type": "markdown",
      "source": [
        "# Preparação dos dados"
      ],
      "metadata": {
        "id": "cq7EQMpSh_GS"
      }
    },
    {
      "cell_type": "markdown",
      "source": [
        "## Obtenção"
      ],
      "metadata": {
        "id": "dxompBikpFRd"
      }
    },
    {
      "cell_type": "code",
      "source": [
        " !wget -nc https://storage.googleapis.com/unicamp-dl/ia025a_2022s1/aula9/sample-1gb.txt"
      ],
      "metadata": {
        "colab": {
          "base_uri": "https://localhost:8080/"
        },
        "id": "3jUemWVviCHY",
        "outputId": "30582fed-9c1c-4156-b046-c20e80482235"
      },
      "execution_count": 8,
      "outputs": [
        {
          "output_type": "stream",
          "name": "stdout",
          "text": [
            "--2023-03-29 01:14:38--  https://storage.googleapis.com/unicamp-dl/ia025a_2022s1/aula9/sample-1gb.txt\n",
            "Resolving storage.googleapis.com (storage.googleapis.com)... 74.125.200.128, 74.125.68.128, 74.125.24.128, ...\n",
            "Connecting to storage.googleapis.com (storage.googleapis.com)|74.125.200.128|:443... connected.\n",
            "HTTP request sent, awaiting response... 200 OK\n",
            "Length: 1230909256 (1.1G) [text/plain]\n",
            "Saving to: ‘sample-1gb.txt’\n",
            "\n",
            "sample-1gb.txt      100%[===================>]   1.15G  23.0MB/s    in 52s     \n",
            "\n",
            "2023-03-29 01:15:30 (22.8 MB/s) - ‘sample-1gb.txt’ saved [1230909256/1230909256]\n",
            "\n"
          ]
        }
      ]
    },
    {
      "cell_type": "markdown",
      "source": [
        "### Exploração"
      ],
      "metadata": {
        "id": "eURtXeUn3nt2"
      }
    },
    {
      "cell_type": "code",
      "source": [
        "!wc -l sample-1gb.txt"
      ],
      "metadata": {
        "colab": {
          "base_uri": "https://localhost:8080/"
        },
        "id": "ipXucTo32Plg",
        "outputId": "224ec1ab-b232-4673-db4e-20b67c90369f"
      },
      "execution_count": 9,
      "outputs": [
        {
          "output_type": "stream",
          "name": "stdout",
          "text": [
            "250000 sample-1gb.txt\n"
          ]
        }
      ]
    },
    {
      "cell_type": "code",
      "source": [
        "!head -5 sample-1gb.txt"
      ],
      "metadata": {
        "colab": {
          "base_uri": "https://localhost:8080/"
        },
        "id": "bjlPv7bO2USl",
        "outputId": "a9efa607-1b51-4086-9ef9-ba055f0143a0"
      },
      "execution_count": 10,
      "outputs": [
        {
          "output_type": "stream",
          "name": "stdout",
          "text": [
            "Linkbar Há alguns anos, o número de rapazes e moças que subiam ao púlpito para pregar era maior que o de hoje. Na sua simplicidade, falavam do amor de Deus, da Salvação e davam testemunho sob a unção do Espirito Santo. Hoje, parece que a figura do \"preletor oficial\" inibiu muitos de falarem com ousadia a Palavra de Deus. Parece que há um receio de falar diante de um público que, certamente, é mais intelectualizado que há alguns anos. Jovens pregadores ficam embaraçados e cometem certos deslizes, que poderiam ser evitados. Neste modesto trabalho, vamos dar apenas algumas sugestões, e não um estudo sobre a Homilética (Arte de Falar em Publico). I -O QUE PREGAR? É a comunicação verbal da Palavra de Deus aos ouvintes. É a transmissão do evangelho de Nosso Senhor Jesus Cristo às pessoas que precisam ouvi-lo. II- QUAL A FINALIDADE DA PREGAÇÃO? É persuadir as pessoas a aceitarem a mensagem da Palavra de Deus para sua salvação (descrentes) ou para seu crescimento espiritual (crentes). Diante disso, o pregador precisa saber para quem esta falando: Para crentes ou para descrentes? III- QUE DEVE CONTER A PREGAÇÃO? Três coisas são básicas: 1. OBJETIVIDADE. Refere-se ao alvo a atingir. Se pregamos para descrentes, desejamos que eles entendam que precisam crer em Jesus para ser salvos. Devemos orar muito, antes de pregar, para que o Espirito Santo convença as pessoas do seu pecado. Se isso acontecer, a pregação alcança seu alvo. O centro da pregação deve ser Cristo e não o pregador, como acontece em certas cruzadas ou movimentos evangelísticos. Há pregadores que se perdem no púlpito. Começam a falar do amor de Deus, e passam a divagar sobre o Apocalipse, vão até Gênesis, aos profetas e, ao final, não sabem como sair do emaranhado de palavras. É preciso ter objetividade. 2. TRANSMISSÃO. O pregador deve procurar transmitir a mensagem de Deus às pessoas. Paulo disse: \"Porque eu recebi do Senhor o que também vos ensinei...\" O mensageiro deve receber a mensagem de Deus e transmiti-la aos homens. Não deve ficar inventando mensagens, terias, filosofias para mostrar conhecimentos. 3. CONVICÇÃO. O pregador deve transmitir aquilo de que tem convicção, para que a mensagem seja aceita. Tem que viver aquilo que prega. IV - A BASE DA PREGAÇÃO (ou do sermão) 1. A PALAVRA DE DEUS A base da pregação deve ser a Palavra de Deus, a Bíblia Sagrada. Podemos dizer, em outras palavras que a base da pregação deve ser o TEXTO BÍBLICO . Ilustrações podem ser aproveitadas, desde que Que se relacionem com o tema da mensagem , mas não podem tomar o lugar da Palavra de Deus. Ouvimos um pregador que, não tendo êxito em \"abalar\" os ouvintes, apelou para uma história fantasiosa e tomou 80% do tempo destinado à mensagem. 2. QUE TEXTO ESCOLHER? O Pr. Elienai Cabral sugere (em resumo) 8 (oito) características para um bom tema a ser escolhido )p. 50-51). 3) Textos objetivos: que atendam às necessidades espirituais das pessoas (Com oração e unção). 4) Textos sobre os quais não haja dificuldade para a interpretação (hermenêutica). 5) Textos dentro dos limites de capacidade do pregador. 6) Textos que expressem o tema da pregação para não fugir ao objetivo. 7) Texto que desperte interesse (Com oração, o Espírito mostra o que deve ser pregado). 8) Textos cuja seqüência seja de fácil acompanhamento pelo pregador e pelo auditório. V - A ESTRUTURA DA PREGAÇÃO ( Do sermão) Toda pregação com esboço ou não, deve ser dividida, basicamente, em duas partes: 1. INTRODUÇÃO. É a parte inicial da mensagem, pela qual o pregador entra em contato com o auditório. Visa despertar o interesse pela pregação; \"prepara a mente dos ouvintes , para que possam compreender o assunto do sermão e as idéias a serem desenvolvidas...\" (Key, p. 31). Uma boa introdução deve ser BREVE, SIMPLES, INTERESSANTE E APROPRIADA. (Cabral, p. 66) Conhecemos um grande pregador que gasta 30 ou 40 minutos na introdução. Isso cansa, principalmente os descrentes. A introdução não deve ir além de 10 ou 15% do tempo da mensagem. (Normalmente, o pregador sabe de quanto tempo dispõe, exceto em casos especiais). 2. CORPO (ou desenvolvimento) DA MENSAGEM (Do sermão). É a parte mais importante da mensagem. Ela deve conter a seqüência das idéias a serem apresentadas. No corpo do sermão ou da mensagem , podemos ter: 1) Ordem ou divisões (1º , 2º, 3º , etc.); 2) Transição de um pensamento para outro. As divisões devem ser de acordo com os objetivos mensagem; devem-se evitar \" excesso de floreios\", \"rodeios\", ou \"conversa fiada\". O povo percebe. 3.CONCLUSÃO. É o auge da pregação. O seu clímax. Nela, o pregador faz a aplicação do que pregou no corpo do sermão. Nesse momento, o pregador e o auditório, pelo poder do Espirito Santo, devem chegar à conclusão de que a mensagem atingiu seu objetivo. Sem uma boa conclusão, o que foi dito pode perder o brilho. Uma conclusão pode ser feita através de: 1) Recapitulação. O pregador deve rever o que pregou, em resumo ou tópicos, evidenciando pensamentos-chave , pontos fortes da mensagem (Cabral, p. 70). 2) Narração. O pregador pode valer-se de um fato, uma rápida ilustração para comover o auditório, levando o descrente a uma decisão, na unção do Espírito Santo. 3) Persuasão . É a parte mais difícil da conclusão. Depende muito mais do Espírito Santo do que do pregador. Por isso, toda mensagem deve ter a unção do Espírito Santo. Para tanto, o pregador precisa orar muito, e até jejuar, diante de Deus, para que a mensagem atinja seu alvo. 4) Convite. Toda pregação deve terminar com um convite ou apelo, seja para pecadores, seja para a igreja. Um convite na unção do Espírito tem maravilhoso efeito no coração das pessoas. De acordo com Braga (p. 211-212), a conclusão deve ser breve e simples, e com palavras adequadas. Um certo jovem pregou numa igreja. Ao fazer o apelo, não vendo ninguém atender, passou a contar que alguém ganhou um grande prêmio porque deu uma grande oferta para a Obra. Desviou totalmente o alvo da mensagem. VI - TIPOS DE SERMÕES 1. SERMÃO TEMÁTICO (Ou Tópico). É aquele \"cujas divisões principais derivam do tema, independentemente do (Braga, p.17). É aquele em que as divisões principais do derivadas de um TEXTO constituído de UMA BREVE PORÇÃO DA BÍBLIA ( Braga, p. 30). Exemplo: Titulo: \"O Único Caminho Para Deus\" (Jo 14.6). 1) Através de Jesus, o único caminho. 2) Através de Jesus, a verdade. 3)Através de Jesus, a vida. 3. SERMÃO EXPOSITIVO É aquele em que as divisões baseiam-se numa porção mais extensa (texto) da Bíblia, não abrangendo \"um só versículo, mas uma passagem, um capítulo, vários capítulos, ou mesmo um livro inteiro\" (Cabral, p. 78). Nele , é mostrada (exposta) uma verdade contida num texto bíblico. Exige tempo, estudo e conhecimento bíblico. É o que caracteriza uma pessoa e a torna diferente de outra. \"É tudo quanto o indivíduo é\". Na pregação, o pregador demonstra que tem personalidade, quando se expressa, falando ou gesticulando, de acordo com aquilo que ele é e não imitando outras pessoas. De vez em quando, percebe-se pregadores , imitando evangelistas famosos, dando gritos, pulando e correndo no púlpito, torcendo o pescoço, ajeitando a gravata, falando rouco ou estridente. Isso é falta de personalidade. É querer ser ator, imitador e não um instrumento nas mãos do Espírito Santo. É o sentimento de devoção e amor pelos outros e pelas coisas de Deus. O pregador deve sentir pelo Espírito as necessidades do auditório, principalmente dos pecadores. (1 Tm 4.8; Hb 12.28). 2) Devoção É o sentimento religioso, de dedicação às práticas ensinadas na Palavra de Deus. Na devoção, o pregador busca inspirar-se na ORAÇÃO, na LEITURA DA BÍBLIA, e no LOUVAR A DEUS. Temos visto verdadeiros profissionais da pregação, técnicos, que sabem pregar, mas não sabem orar; sabem gritar, mas não sabem amar as almas. Pregam por interesse, por torpe ganância. Que os jovens pregadores (e os antigos) não entrem por esse caminho. Conta-se que Moody, o grande evangelista, orava uma hora para pregar cinco minutos. Enquanto isso, temos pregadores que oram cinco minutos para pregarem uma hora! 3) Sinceridade Reflete a verdade contida na própria alma. O pregador deve pregar aquilo que vive e viver aquilo que prega (Tg 2.12). Um jovem, dirigente de Mocidade, pregava bem. O povo se alegrava. Mas, um dia, uma jovem descrente procurou a direção da igreja para dizer que estava grávida dele e, o pior, o jovem não assumiu a paternidade. Por fim, confessou o pecado, foi excluído, e contribuiu para uma alma descrer do evangelho. 4) Humildade \"Nenhum pregador pode subir ao púlpito sem antes ter descido, pela oração, os degraus da humildade. Na oração, o egoísmo se quebranta. O medo se desfaz, e a certeza da vitória aparece clara como a luz do sol ao meio-dia\" (Cabral, p. 43). (Ler Pv 15.33). Um jovem vivia criticando quem ia pregar, dizendo que, se fosse ele, pregaria muito melhor. Um dia, o pastor deu oportunidade ao moço para pregar. Ele subiu ao púlpito, orgulhoso, sorridente. Tentou achar um texto na Bíblia, de um lado para outro, e nada. Suou, pediu desculpa, e desceu cabisbaixo. Sentou noutro lugar, junto a um irmão experiente, que, percebendo sua tristeza, disse: \"Moço, se você tivesse subido como desceu (humilde), teria descido como subiu (alegre)\". E uma grande lição para todo pregador. 5) Poder O pregador (jovem ou não) precisa do Poder de Deus. S. Paulo disse que não pregava sabedoria humana, mas com poder (1 Co 1.4-5). É preciso ter unção e graça para pregar. Do contrário, ocupa-se o púlpito e o tempo para dizer coisas inoportunas. E melhor um sermão fora da Homilética, mas na unção de Deus, do que dentro da técnica, e sem poder. Isso só se consegue com oração, jejum, leitura bíblica, e vida consagrada. Não se obtém num curso de Homilética. Um mosaico com inscrições em hebraico contando a histórica bíblica de Sansão foi encontrado na Galiléia (Israel), nas ruínas de uma sinagoga do século 4 a.C. A escavação foi conduzida pelo Dr. Jodi Magnees, da North Carolina University (EUA), em parceria com arqueólogos da Israel Antiquities Authority (Autoridade de Antiguidades de Israel). A descoberta ocorreu perto do kibbutz Hokuk, local que várias fontes talmúdicas se referem como sendo a Hokuk histórica, onde rabinos se reuniam para escrever o Talmude (livro sagrado dos judeus). Um livro do rabino mediveal Ashtori Ishtori, do século XIV, faz referência a uma sinagoga na mesma área onde as descobertas foram feitas. Segundo o dr. David Amit, da Autoridade de Antiguidades de Israel, o mosaico \"contém uma descrição do Sansão bíblico e dois pares de raposas com uma tocha flamejante ligando suas caudas\", como descrito nas obras de Sansão no Livro dos Juízes.Read more... \"Não dizeis vós: Ainda há quatro meses até que venha a ceifa? Ora eu vos digo: Levantai os vossos olhos, e vede os campos, que já estão brancos para a ceifa. Quem ceifa já está recebendo recompensa e ajuntando fruto para a vida eterna; para que o que semeia e o que ceifa juntamente se regozijem\" João 4:35,36. Logo após se encontrar com a mulher samaritana e ela ter saído para evangelizar sua cidade, Jesus se encontra com os seus discípulos e estes insistem para que ele coma a comida que eles trouxeram da cidade. Jesus se recusa a comer e passa a ensinar-lhes verdades espirituais sobre o tempo da colheita de Deus. (as vezes precisamos recusar algumas comidas, mesmo que pareçam muito boas e tenham sido trazidas a nós por pessoas com as melhores intenções). Calendários diferentesJesus disse: No calendário de vocês, ainda faltam quatro meses para a colheita, no calendário de Deus, o tempo é agora. É possível que a nossa forma de ver as coisas possa estar diferente da de Deus. Temos discernido que este é um tempo de colheita, mas alguns talvez estejam pensando: Falta muito tempo, não se preocupe, não esquenta a cabeça, temos outras prioridades. Queridos, este é o tempo de Deus para colheita! Com mais ou menos tempo de igreja, com muito preparo ou pouco, com situações pessoais todas resolvidas ou ainda algumas dificuldades para resolver, este é um tempo de colheita e todos poderão participar. A mulher samaritana tinha muitas dificuldades ainda, mas isso não impediu que ela largasse o cântaro e fosse colher vidas para Jesus. Olhos voltados para as coisas terrenasJesus disse: \"Levantai os vossos olhos\", olhos que precisam ser levantados, são olhos que não estão focados onde deveriam estar. Olhos tem relação com o coração. Onde o meu coração está? Nas coisas que desejo? no meu estilo de vida que não pode ser mudado? Nos meus conceitos que são perfeitos e indiscutíveis? Nas coisas terrenas? A recomendação de Jesus é que os nossos olhos estejam nos campos do Senhor, mas somente quem ergue os olhos para olhar firmemente para Jesus é que pode ver e discernir o tempo e perceber que uma grande colheita já está preparada. Mas se o nosso calendário (propósitos e desejos do coração) não estiver alinhado com o do Senhor, nada acontecerá. Nem em sua vida, nem na vida dos que precisam ser alcançados.Semeadura e colheita, só se realizam quando arde no coração o desejo de plantar e colher, quando os olhos do coração estão focalizados no propósito de Deus. Fazendo a coisa certa no lugar certoA ordem de Jesus é semear e colher, não adianta dizer: Senhor, eu trabalho na fazenda, mas só quero cuidar do gado. Em nossa igreja, plantamos e colhemos principalmente através dos grupos familiares, é por isso que líderes não devem somente administrar o grupo ou simplesmente cuidar, mas pastorear e investir plantando coisas do reino de Deus na vida dos seus liderados. O grupo é o celeiro e lugar de treinamento para novos ceifeiros. É o lugar onde recebemos diversos tipos de sementes diferentes ( fé, amor, autoridade, unidade...), traçamos as estratégias apropriadas para plantarmos na vidas das pessoas as coisas do reino de Deus, é onde consideramos a forma de plantio, os adubos a irrigação, os cuidados com as ervas daninhas, é lugar de preparo e encaminhamento (encontro, café com leite puro, discipulado, curso preparatório, veredas, diaconato, treinamento de líderes....) deve haver unidade de propósito e de visão entre os ceifeiros, do contrário a colheita não acontece. Alcançando o resultado finalSemear e colher não acontece por acaso. É necessário um processo. O processo realizado corretamente é o que nos permite chegar ao resultado final. No grupo familiar devemos agir como garimpeiros procurando as pedras preciosas. Primeiro o garimpeiro sonda o terreno, analisa as barrancas do rio, as suas areias, o seu aspecto. Na esperança de que algo de muito valor possa sair dali, ele monta o acampamento (decide investir o seu tempo naquele lugar). Então, entra na água e começa o processo de procura ( pode ser longo). É um processo sistemático mas que deve ser feito com toda atenção ( no descuido podemos perder pedras preciosas). Ele está disposto a enfrentar as dificuldades (friagem no corpo pelo contato com a água fria, dor nas costas, sol na cabeça, picadas de inseto...) desconforto é um preço a ser pago. Mas eis que as pedras começam a surgir na bateia. Hoje uma, daqui a dois meses, duas, depois outras e ele vai encontrando seu tesouro (vidas). Geralmente saem da areia e do barro sujas, sem forma bonita e sem brilho. Mas, logo em seguida começa a fase de lavagem e formação (encontro, libertação, curso preparatório...) e depois a lapidação e polimento (pressões e experiências com Deus). Destino final: Ser parte de uma jóia com muitas outras pedras que refletem a luz da glória de Deus. O local do seu grupo familiar é o canto do riacho que o Senhor te deu para garimpar, as pedras são pessoas esperando para serem alcançadas. Peça a Deus sabedoria, força, direção e entusiasmo para cumprir o propósito. O papa Bento XVI iliba totalmente o povo judeu da morte de Jesus Cristo, um dos assuntos mais controversos do cristianismo, num novo livro de que foram hoje publicados. No livro, intitulado \"Jesus de Nazaré\", Bento XVI recorre a uma análise bíblica e teológica para explicar por que não é verdade que o povo judeu no seu conjunto seja responsável pela morte de Jesus. Embora o Vaticano sustente há cinco décadas que os judeus não foram coletivamente responsáveis, académicos judeus ouvidos pela agência noticiosa norte-americana AP consideraram que o argumento agora exposto pelo papa é significativo e vai contribuir para combater o antissemitismo. \"Há uma tendência humana natural para aceitar as coisas como verdadeiras e muitas vezes isto leva a erros de perceção\" quanto aos riscos de antissemitismo, considerou o rabi David Rosen, responsável para os assuntos inter-religiosos do comité judaico americano que há vários anos lidera o diálogo entre as duas religiões. Segundo Rosen, o Vaticano divulgou em 1965 a sua nota mais autorizada sobre o assunto, \"Nostra Aetate\", nota que revolucionou as relações da Igreja Católica com o judaísmo ao afirmar que a morte de Cristo não pode ser atribuída ao povo judeu nem na altura nem atualmente. Para o rabi, as palavras de Bento XVI podem representar um marco mais importante e duradouro na medida em que os crentes tendem a ler mais as escrituras e artigos ou livros do que os documentos da Igreja, especialmente os mais antigos. Este é o segundo volume de \"Jesus de Nazaré\" de Bento XVI lançado em 2007, o primeiro livro que lançou como papa, sobre os primeiros anos da vida e dos ensinamentos de Jesus Cristo. Este segundo volume, com lançamento previsto para 10 de março, é sobre a segunda parte da vida de Cristo. Quatro cristãos foram presos em Laos por serem surpreendidos pela polícia enquanto tentavam explicar a Bíblia para um homem. Dois deles eram cidadãos tailandeses. O caso aconteceu na aldeia de Luang Namtha na segunda quinzena do mês de junho e só foi divulgado dias depois por agências internacionais. Os relatos afirmam que supostamente um ex-policial ficou chocado por ver esses homens citando a Bíblia e resolveu denunciar. Os presos estavam dentro de uma casa fazendo visitas e falando sobre o Livro Sagrado para o morador. \"Quando a polícia chegou eles procuraram e acharam entre os pertences desses cristãos discos de história da Bíblia e um livro de figuras em preto e branco. A medida da polícia foi tomar os passaportes de todos eles\", disse Prasertsee que é diretor da ONG HRWLRF que defende dos direitos humanos. \"De noite a polícia voltou para prendê-los e os transportaram para a prisão\", continuou Prasertsee. \"Todos os pertences, inclusive dinheiro, fones e coisas pessoas foram confiscados\", denuncia.As famílias estão preocupadas com os prisioneiros, dois dos tailandeses tiveram os nomes divulgados: Phanthakorn, de 40 anos, e Wiwardamrong, de 54. A preocupação se dá pelo fato de que em Laos os prisioneiros não recebem alimento, é a família deles quem fornecem comida. \"As famílias estão se esforçando para ter contato com os presos, mas as autoridades de Laos tem dificultado essa relação\", afirma o direto da HRWLRF. hebraico TRANSLITERAÇÃO DO GREGO É possível fazer a transliteração de qualquer palavra constituída pelo alfabeto grego para o latino e vice-versa. ARQUEOLOGIA E TEOLOGIA pastor paulo Mestrado em Ciências da Religião; Bacharel em Teologia; Psicologia Pastoral; Doutor em Teologia, Doutor Honoris causa em Teologia Sistemática; Psicanálise Clinica com Mestrado em Psicanalise;É bacharel em linguística e hebraico e mestre em hebraico. Professor da área bíblica e de hebraico do Seminário, em São Paulo.\n",
            "Comissão de Construção da Nova Sede GOB. A Comissão de Construção da Nova Sede do Grande Oriente do Brasil - Minas Gerais disponibiliza esta área para que os IIr.'. Maçons, devidamente regularizados, possam acompanhar todo o processo de construção da nova sede do GOB-MG; inclusive esclarecendo possíveis dúvidas que possam existir. Acesse a página da SMI - Sociedade Maçônica de Investimentos S/A e vejam todo conteúdo.\n",
            "06/12/2011 MPT realiza audiência pública e alerta para aumento de acidentes na construção civil 180°.com/PI A construção civil passa por um \"boom\" na cidade de Picos, especialmente na iniciativa privada. Motivado pela necessidade de debater as normas de segurança para os funcionários da construção civil, o Ministério Público do Trabalho do Piauí promoveu na tarde desta sexta-feira (02) uma audiência pública na Câmara Municipal. Além de explanar sobre as normas de segurança a serem seguidas pelos trabalhadores, os procuradores do MPT também alertaram para o aumento de acidentes registrados na construção civil local. \"Agente observa, aqui, que a maioria das obras não se segue as normas mínimas de segurança do trabalho, especialmente a Norma Regulamentada N° 18, que é a norma do Ministério do Trabalho para a construção civil, e o que observamos é um crescente número de acidentes de trabalho e exposição de risco a vida dos trabalhadores\", explicou o procurador do Ministério Público do Trabalho, Carlos Henrique Pereira Leite. Dentre as irregularidades mais graves e constatadas com mais freqüência pelo MPT, estão: trabalho em altura sem proteção e trabalho com instalação elétrica. \"Em que trabalham pessoas não qualificadas e sem a utilização dos equipamentos de proteção individual e coletiva\", informou. Carlos Henrique alerta que o dono de uma obra pode ser responsabilizado caso ocorra um acidente de trabalho. Ele informou que as denúncias ainda são subnotificadas, devido em parte a ausência de um sindicato que lute pelos direitos dos trabalhadores da construção civil em Picos. \"É oportuno lembrar que não há sindicato da construção civil na cidade de Picos\", declarou. A chefe de fiscalização da Superintendência Regional do Trabalho, Soraya Lima declarou que há empenho por parte da Superintendência, mas que esse é um momento de \"boom\" da construção civil em que há um grande número de obras e o consequente aumento das contratações. \"Temos de reconhecer que ainda falta muito para atingir o ideal na construção civil\", declarou. A audiência pública era voltada para os trabalhadores da construção civil e também para os empregadores, oportunidade em que as normas e leis foram explicadas, mas infelizmente a audiência registrou um comparecimento reduzido de pessoas.\n",
            "Usando como exemplo um pneu com código \"P175/70 R14 86V\" já sabemos que é para um veículo de passeio, pois começou com a letra P. Já o código 175/70 é o tamanho do pneu: o número 175 significa a largura de rodagem, medida em milímetros; já o 70 é a altura do pneu, indicando que tem 70% da largura de rodagem – nesse caso 122,5mm. A letra R que vem em seguida significa que o pneu é radial, ou seja, tem uma malha de aço com vergalhões paralelos e transversais. Esses pneus operam sem câmara. O número 14 indicado no código do pneu indica o raio da roda: dependendo do seu veículo, mesmo sendo de passeio, o raio da roda pode ser modificado. Se desejar alterá-lo por qualquer motivo, terá que trocar as rodas também. Por fim, o número 86 significa o índice da carga do pneu, ou seja, ele diz o quanto de peso o pneu aguenta.Aqui, um pneu 86 suporta 530 kgs; como são usados quatro deles num automóvel, ele suporta 2.120 kgs – um peso de carro popular. Existem sites de venda de pneus online que fornecem os tamanhos ideais de aros de pneus conforme a marca do seu carro. Como Cuidar dos Pneus do seu Carro Para que os seus pneus durem mais, é importante mantê-los calibrados no nível correto informado no manual do proprietário, assim como fazer o alinhamento e balanceamento periodicamente. A calibragem deve acontecer a cada 15 dias. Tente memorizar o nível de calibragem para facilitar esse processo. O modo de dirigir também conta: evite aceleradas e freadas bruscas. Vá com calma. Dicas para a Hora de Trocar os Pneus Desgastados Mesmo tomando esses cuidados necessários, eventualmente chega o momento da troca dos pneus por simples desgaste. Uma dica para reduzir o impacto no orçamento é trocá-los aos poucos: compre apenas dois e posteriormente substitua os outros dois. Lembre-se de que o eixo traseiro tem a preferência dos pneus novos. Aproveite e coloque bicos e válvulas novos também. Inovação: Pneus Verdes Recentemente a marca de pneus Pirelli lançou no mercado os chamados \"pneus verdes\". Eles contam com a tecnologia Novateck, desenvolvida especialmente para sua própria reconstrução. Ou seja, ao adquirir o produto, o consumidor, através de reformadores credenciados pela empresa, pode reformar o seu pneu quando desgastes ocorrerem. A marca oferece a mesma qualidade do produto original e garantia de fábrica até a terceira reforma do seu pneu. É um diferencial que a empresa buscar perante os seus clientes e uma forma sustentável de contribuir com o meio ambiente.\n",
            "Utiliza-se quando a ação não ocorre por intervenção deliberada de um agente, mas acidentalmente. Usa-se se + pronome átono + verbo na 3ª pessoa (concordando com o substantivo). ¡Cuidado! ¡El perro se te está escapando! (Cuidado! O cachorro está escapando!) Se me rompió la taza. (A xícara quebrou.) Se nos cayeron los relojes. (Os relógios caíram.) FORMAS ÁTONAS: lo / la / los / las Empregam-se sempre como complemento direto, ou seja, substituindo objetos diretos. 1) Llama un taxi, por favor. (Chama um táxi, por favor.) Llámalo, por favor. (Chama-o, por favor.) 2) Visitaré a mi familia en mis vacaciones. (Visitarei minha família em minhas férias.) La visitaré en mis vacaciones. (Eu a visitarei em minhas férias.) 3) ¿Has encontrado a tus amigos? (Encontraste teus amigos?) No, los estoy buscando. (Não, estou procurando-os.) Atenção! Diferentemente do português, em espanhol os objetos diretos de pessoa ou coisa/animal personificado aparecem precedidos da preposição a. Repare nos exemplos dados acima: os objetos diretos precedidos da preposição a (segundo e terceiro exemplo) são objetos de pessoa, enquanto que o objeto direto não preposicionado (primeiro exemplo) refere-se à coisa não personificada.\n"
          ]
        }
      ]
    },
    {
      "cell_type": "markdown",
      "source": [
        "## Tokenizador"
      ],
      "metadata": {
        "id": "9mK_GadJ3Wir"
      }
    },
    {
      "cell_type": "code",
      "source": [
        "tokenizer = AutoTokenizer.from_pretrained(model_name)"
      ],
      "metadata": {
        "colab": {
          "base_uri": "https://localhost:8080/",
          "height": 177,
          "referenced_widgets": [
            "a32fbd515baf40d88b7aec58dce4c74c",
            "da0af1321d2e47a2a341c76796acdd7f",
            "d3b816635006417bb36c3b044ace4cbb",
            "2f4d1c1d6c3b436bb0935857eced04d8",
            "38376de003a54c769621644b488d0205",
            "734b723e75a649e3bf60e520f3ed51b9",
            "d682334b8fc448989795b2074da65784",
            "0bd7e44c2c674b748887209502f77c85",
            "683991dc9fff4d87b8a8056a5a9d5df5",
            "585382f731194ab7b5b961750a812895",
            "68b10d500b3841f08f1b23c8b29ae14a",
            "032f8586687b465c97fc282205846989",
            "cb8fe80499b64e6f897e210fbb04d2db",
            "20a976a4f4544c52a2a307fdf397cc5e",
            "e3b5527067bf438e9d1cabdd9bd8e256",
            "f0f07fe472bb48c4ba45433078b61f53",
            "0d3de82b223b4d69ae42fff732e8c1e1",
            "ee03136d4a0b4f078d12418252c977e9",
            "cd69d07266354db39f0f9b2ed3287ef3",
            "480905e3d8bd4860a0fd6b566e144463",
            "f4fca4ea899847a4ac42337b6affb5b4",
            "f5d7dd562e3a4a3b8360b45ad349464c",
            "6a1404cfe3a74bde915600c5307b7fdd",
            "c0d50d7639f7451db089dc89776160aa",
            "27393d934f23405d98ec96b48d24d27d",
            "a0403eaec53e4a8691b5e9b005b2daff",
            "dda86605111744368b9fd57386745f7b",
            "86596afe3df44271bc27fbc5e0f279a4",
            "6f94ef39ba62489ba08bd101875b89b9",
            "7f4732331a55467283475ab3c9ea557e",
            "bff572867694465995826bcd2e973bfb",
            "8ff7e287e6f440c191d45fbafe8c6254",
            "d23a11d3624b46a4820e0ef072afa410",
            "8d7d161a436e4ff2b16bc5beec99043c",
            "dc2b78ae62f642628f38bf0ce377c203",
            "fa006070140f4fc79fbbdcb1e4734378",
            "b54a95e5677d4f47906166ac78e9c740",
            "b74a160b4e9f45b5863790b775fdd6dc",
            "0244a59401eb425aa7342e2ae604f9f9",
            "117cee5c949b4fdda6e60901697921cb",
            "4dc549e57f9f4768935731837c6bb83c",
            "03c1a77b70ad4908832d76b3873ab1e6",
            "aa69546271f14fbfb5eff8d24a233af7",
            "fed4ec5855af47bcb802cbeefc8ab511",
            "869b4583d6f84d129b369716c01050c6",
            "64ac1813811546f294ed60a8351b853f",
            "f417ff9cda4b4f45bdb7a2b38327df3f",
            "81c32d0e76bc47fe9d29e3984da531af",
            "e5488e1da419468aaf4c6d54a0c15e19",
            "083b91a1f9404fe6a318654cfff61db9",
            "2221734fd20148d4ae1ef8e898efe9e2",
            "9397ce4ecdcf4b3ab0a58c262b4165a1",
            "4744448684854cb190e4e06c5b8833fa",
            "5c13223847b34ed08021afb5568e2675",
            "821a26f8afe14f0084a3a9f098546350"
          ]
        },
        "id": "2DUfSwFf3V6I",
        "outputId": "f7775e47-4349-41a9-9551-a2d2be550c85"
      },
      "execution_count": 11,
      "outputs": [
        {
          "output_type": "display_data",
          "data": {
            "text/plain": [
              "Downloading (…)okenizer_config.json:   0%|          | 0.00/685 [00:00<?, ?B/s]"
            ],
            "application/vnd.jupyter.widget-view+json": {
              "version_major": 2,
              "version_minor": 0,
              "model_id": "a32fbd515baf40d88b7aec58dce4c74c"
            }
          },
          "metadata": {}
        },
        {
          "output_type": "display_data",
          "data": {
            "text/plain": [
              "Downloading (…)lve/main/config.json:   0%|          | 0.00/651 [00:00<?, ?B/s]"
            ],
            "application/vnd.jupyter.widget-view+json": {
              "version_major": 2,
              "version_minor": 0,
              "model_id": "032f8586687b465c97fc282205846989"
            }
          },
          "metadata": {}
        },
        {
          "output_type": "display_data",
          "data": {
            "text/plain": [
              "Downloading (…)olve/main/vocab.json:   0%|          | 0.00/899k [00:00<?, ?B/s]"
            ],
            "application/vnd.jupyter.widget-view+json": {
              "version_major": 2,
              "version_minor": 0,
              "model_id": "6a1404cfe3a74bde915600c5307b7fdd"
            }
          },
          "metadata": {}
        },
        {
          "output_type": "display_data",
          "data": {
            "text/plain": [
              "Downloading (…)olve/main/merges.txt:   0%|          | 0.00/456k [00:00<?, ?B/s]"
            ],
            "application/vnd.jupyter.widget-view+json": {
              "version_major": 2,
              "version_minor": 0,
              "model_id": "8d7d161a436e4ff2b16bc5beec99043c"
            }
          },
          "metadata": {}
        },
        {
          "output_type": "display_data",
          "data": {
            "text/plain": [
              "Downloading (…)cial_tokens_map.json:   0%|          | 0.00/441 [00:00<?, ?B/s]"
            ],
            "application/vnd.jupyter.widget-view+json": {
              "version_major": 2,
              "version_minor": 0,
              "model_id": "869b4583d6f84d129b369716c01050c6"
            }
          },
          "metadata": {}
        }
      ]
    },
    {
      "cell_type": "markdown",
      "source": [
        "## Dataset, split, tokenização"
      ],
      "metadata": {
        "id": "iolIIM3WpNRS"
      }
    },
    {
      "cell_type": "code",
      "source": [
        "base_dataset = load_dataset(\"text\", data_files='sample-1gb.txt')\n",
        "splitted_dataset = base_dataset['train'].train_test_split(test_size = len(base_dataset['train']) // 10, seed=42)\n",
        "splitted_dataset"
      ],
      "metadata": {
        "colab": {
          "base_uri": "https://localhost:8080/",
          "height": 341,
          "referenced_widgets": [
            "974cb615396b4542abdfd86bc65c33da",
            "5f54a65fe0f34f519c16bf968f4c4f14",
            "af032ac58a8e4a91a6684a3b8f8ded7a",
            "ee25f9d57e014fc2abe70e26658d7105",
            "7c0039ee049d458f9ca85228785e44c0",
            "6eb76a02fa4849de86ff8bfead656530",
            "3f465caf6f484358be03f8d37885dd94",
            "c381e1d5ee004aca8ebb104aaeca5987",
            "310af8f146114edcba635be7c34ce7fd",
            "883f883f0edd4decb6bbf1473bba8b5a",
            "c38c4a28c1434525872247651a8302da",
            "d1ea9a668ba24c25a10c82c5921f2edf",
            "a4d5e7b807b04a6f97247af40c14ab10",
            "e9307c485cc94d0497246f013df5cad1",
            "a5b00451bcaf4ff5a233bd37be91bdba",
            "f33beb317cc14bfb986e7cb74c533745",
            "8e9829f1b7c74c818f5e365968321f37",
            "c17cbe19cc0a45e2848638fdc4fc2527",
            "c0c762feedc74099ab7429817924cdb3",
            "c74bd0d36e154c158a762d7469d3ad42",
            "c959ba5a42404661959a3a3c6c166e89",
            "571aa77eb31c430b9c1a5b5ad9587ec8",
            "451cb6b46b4e4d968bf769f29a8823d4",
            "b1a2ee30709a41a6960af4088a93bcf6",
            "bbac37233ad04f1a979a7c2a1ece34fe",
            "7b66817f12644f149e6979b0a297a33a",
            "ee7e578353574830938d4c6c0a8daa5e",
            "fcbfe7f4f8a94045b026c887e1f85f15",
            "2be6ebcad9644589b8b3fa16408d1da4",
            "51ca3ae706444ad690dfecc314f0143a",
            "b654819a5ab34681b62e56dacb39d6ba",
            "0fdc3c3085ff4a2ba517cfe18524ebc3",
            "dbf6289690344cbfaa820e325da68f0e",
            "984604e4c850419da03b31d7dcab6581",
            "dd0d6f559267444ca905eacd74c57a2a",
            "78779b11cff640ca9ee6df8730a1aa60",
            "3ed80932a9444de88783455536ba8f8a",
            "07721698db474028af931baa94fe165e",
            "b024c2cacd0240b581dc767c86fff69f",
            "ea634d85ddfc47e0873f3126ee282c61",
            "537494023e9d4c1393c27ec82df71932",
            "d8b8f5d42012462f8ab6ca29192a437a",
            "8b02bfaa2aa945dca088ae997393aa64",
            "2dca2b4cecb84efb95cefcc05b70495b"
          ]
        },
        "id": "ASoA6NMI5Oa_",
        "outputId": "4f312a0d-2766-4e69-e82c-a0409c1ad116"
      },
      "execution_count": 12,
      "outputs": [
        {
          "output_type": "stream",
          "name": "stdout",
          "text": [
            "Downloading and preparing dataset text/default to /root/.cache/huggingface/datasets/text/default-6e39943746455e53/0.0.0/cb1e9bd71a82ad27976be3b12b407850fe2837d80c22c5e03a28949843a8ace2...\n"
          ]
        },
        {
          "output_type": "display_data",
          "data": {
            "text/plain": [
              "Downloading data files:   0%|          | 0/1 [00:00<?, ?it/s]"
            ],
            "application/vnd.jupyter.widget-view+json": {
              "version_major": 2,
              "version_minor": 0,
              "model_id": "974cb615396b4542abdfd86bc65c33da"
            }
          },
          "metadata": {}
        },
        {
          "output_type": "display_data",
          "data": {
            "text/plain": [
              "Extracting data files:   0%|          | 0/1 [00:00<?, ?it/s]"
            ],
            "application/vnd.jupyter.widget-view+json": {
              "version_major": 2,
              "version_minor": 0,
              "model_id": "d1ea9a668ba24c25a10c82c5921f2edf"
            }
          },
          "metadata": {}
        },
        {
          "output_type": "display_data",
          "data": {
            "text/plain": [
              "Generating train split: 0 examples [00:00, ? examples/s]"
            ],
            "application/vnd.jupyter.widget-view+json": {
              "version_major": 2,
              "version_minor": 0,
              "model_id": "451cb6b46b4e4d968bf769f29a8823d4"
            }
          },
          "metadata": {}
        },
        {
          "output_type": "stream",
          "name": "stdout",
          "text": [
            "Dataset text downloaded and prepared to /root/.cache/huggingface/datasets/text/default-6e39943746455e53/0.0.0/cb1e9bd71a82ad27976be3b12b407850fe2837d80c22c5e03a28949843a8ace2. Subsequent calls will reuse this data.\n"
          ]
        },
        {
          "output_type": "display_data",
          "data": {
            "text/plain": [
              "  0%|          | 0/1 [00:00<?, ?it/s]"
            ],
            "application/vnd.jupyter.widget-view+json": {
              "version_major": 2,
              "version_minor": 0,
              "model_id": "984604e4c850419da03b31d7dcab6581"
            }
          },
          "metadata": {}
        },
        {
          "output_type": "execute_result",
          "data": {
            "text/plain": [
              "DatasetDict({\n",
              "    train: Dataset({\n",
              "        features: ['text'],\n",
              "        num_rows: 225000\n",
              "    })\n",
              "    test: Dataset({\n",
              "        features: ['text'],\n",
              "        num_rows: 25000\n",
              "    })\n",
              "})"
            ]
          },
          "metadata": {},
          "execution_count": 12
        }
      ]
    },
    {
      "cell_type": "code",
      "source": [
        "tokenized_dataset = splitted_dataset.map(lambda x : tokenizer(x['text'], truncation=True, padding=\"max_length\", max_length=max_seq_length),\n",
        "                                         batched=True,\n",
        "                                         num_proc=4,\n",
        "                                         remove_columns=['text'])"
      ],
      "metadata": {
        "colab": {
          "base_uri": "https://localhost:8080/",
          "height": 17,
          "referenced_widgets": [
            "d5741a1746dd4dd381e400ffc09b48c4",
            "ceb8113e813149fe9b828aa88cdc7505",
            "9a9eff4edaea43f5b59c851c90989046",
            "790b40cd501a4c8987dd031048ec6157",
            "d94ea6ad284a460f899d78e9dc0a7b29",
            "5a34d71eb0a74c3a88a60d84164c3cc3",
            "6880b23c379940dfb413958c422ba33d",
            "913e30a336874a40a2d6a918b8185257",
            "2baef5088868406496f78aca06a15907",
            "97b1bd29c9504f3d8d226159a75ba60c",
            "01d976d5034f4846987698d0c3ecd1ae",
            "2028604467364941922fc5eb927fcf8f",
            "6679ba39457c426baceabc40092cd603",
            "87a24e0c06834edc991c5b406cb2c41c",
            "9877d7562e1f4366a644664ab6fa5ebd",
            "c4b2b48e38304c9c83a6ad42ca2fe3ba",
            "a8f76e616da84b5aab9b0058c8af22a9",
            "d59c87473139422b9ce86a34e8b41db5",
            "0e0b6dd0ab474530a76f5a1a05b54f42",
            "d4efafa5222b455e85f95f02d8dda5a7",
            "606b6b4a62f640f781c3c7f3428b7392",
            "415fcca8e78d43ada727d8444e27d1a5"
          ]
        },
        "id": "Lbv3nw1M1FFQ",
        "outputId": "a3bce09f-35f1-40ed-d5b7-7155c24ab9d5"
      },
      "execution_count": 13,
      "outputs": [
        {
          "output_type": "display_data",
          "data": {
            "text/plain": [
              "Map (num_proc=4):   0%|          | 0/225000 [00:00<?, ? examples/s]"
            ],
            "application/vnd.jupyter.widget-view+json": {
              "version_major": 2,
              "version_minor": 0,
              "model_id": "d5741a1746dd4dd381e400ffc09b48c4"
            }
          },
          "metadata": {}
        },
        {
          "output_type": "display_data",
          "data": {
            "text/plain": [
              "Map (num_proc=4):   0%|          | 0/25000 [00:00<?, ? examples/s]"
            ],
            "application/vnd.jupyter.widget-view+json": {
              "version_major": 2,
              "version_minor": 0,
              "model_id": "2028604467364941922fc5eb927fcf8f"
            }
          },
          "metadata": {}
        }
      ]
    },
    {
      "cell_type": "markdown",
      "source": [
        "### Teste"
      ],
      "metadata": {
        "id": "dcugdi0VpRSv"
      }
    },
    {
      "cell_type": "code",
      "source": [
        "print(tokenized_dataset)\n",
        "print(f\"First seq: {len(tokenized_dataset['train']['input_ids'][0])} tokens - {tokenized_dataset['train']['input_ids'][0]}\")"
      ],
      "metadata": {
        "colab": {
          "base_uri": "https://localhost:8080/"
        },
        "id": "4Hroo1ANP-ex",
        "outputId": "de873a05-e132-4a41-9c1f-dc9b5e934efe"
      },
      "execution_count": 14,
      "outputs": [
        {
          "output_type": "stream",
          "name": "stdout",
          "text": [
            "DatasetDict({\n",
            "    train: Dataset({\n",
            "        features: ['input_ids', 'attention_mask'],\n",
            "        num_rows: 225000\n",
            "    })\n",
            "    test: Dataset({\n",
            "        features: ['input_ids', 'attention_mask'],\n",
            "        num_rows: 25000\n",
            "    })\n",
            "})\n",
            "First seq: 256 tokens - [2, 673, 1192, 385, 271, 263, 1455, 242, 3840, 11988, 6044, 354, 1192, 856, 1222, 991, 41, 10744, 1526, 12834, 263, 9074, 5511, 139, 116, 384, 1192, 385, 271, 263, 1455, 242, 3840, 11988, 6044, 354, 1192, 856, 1222, 991, 41, 10744, 1526, 12834, 263, 9074, 5511, 139, 116, 13509, 102, 1242, 9854, 118, 13635, 5107, 1922, 11274, 24913, 2841, 545, 73, 3546, 73, 14420, 6534, 29, 16273, 35, 844, 35, 3414, 384, 118, 181, 3361, 139, 337, 6, 326, 23259, 21045, 139, 3137, 28312, 5563, 29, 38713, 27672, 16845, 263, 10, 12864, 102, 32376, 1464, 687, 6044, 354, 748, 4214, 14156, 11404, 389, 41, 366, 263, 9074, 6510, 117, 507, 2694, 1090, 475, 5563, 29, 364, 364, 257, 16057, 16845, 3286, 11978, 1076, 571, 5037, 1029, 6619, 3840, 364, 1634, 6, 1076, 1140, 119, 263, 43045, 271, 1076, 571, 783, 1455, 242, 3840, 11988, 109, 354, 734, 83, 19333, 102, 1236, 1526, 3304, 1526, 7, 6106, 3286, 267, 2095, 6, 1021, 936, 102, 7935, 1021, 1455, 242, 6, 1192, 364, 257, 22272, 181, 1140, 7485, 11332, 32376, 384, 1192, 385, 271, 263, 1455, 242, 3840, 11988, 6044, 354, 1192, 856, 1222, 991, 41, 10744, 1526, 12834, 263, 9074, 5511, 139, 27282, 1464, 10, 12864, 991, 6, 181, 506, 37032, 16506, 24986, 7252, 3872, 710, 2527, 475, 6439, 139, 856, 1526, 17286, 6, 43045, 271, 1717, 1916, 6056, 3181, 102, 263, 4840, 1790, 856, 2426, 9031, 5234, 28, 119, 11705, 20172, 3245, 263, 548, 6821, 1021, 1455, 242, 5402, 4, 4838, 4840, 1790, 364, 22053, 293]\n"
          ]
        }
      ]
    },
    {
      "cell_type": "markdown",
      "source": [
        "# Treinamento"
      ],
      "metadata": {
        "id": "mK9rlQZiY7eo"
      }
    },
    {
      "cell_type": "code",
      "source": [
        "data_collator = DataCollatorForLanguageModeling(tokenizer=tokenizer, mlm=False)\n",
        "model = AutoModelForCausalLM.from_pretrained(model_name)\n",
        "\n",
        "training_args = TrainingArguments(\n",
        "    output_dir = model_output_dir,\n",
        "    num_train_epochs = epochs,\n",
        "    per_device_train_batch_size = batch_size,\n",
        "    per_device_eval_batch_size = batch_size,\n",
        "    evaluation_strategy = 'epoch',\n",
        "    save_strategy = 'epoch',\n",
        "    logging_strategy = 'epoch',\n",
        "    learning_rate = 2e-5,\n",
        "    weight_decay = 0.01,\n",
        "    fp16=True\n",
        ")\n",
        "\n",
        "trainer = Trainer(\n",
        "   model = model,\n",
        "   args = training_args,\n",
        "   train_dataset = tokenized_dataset['train'],\n",
        "   eval_dataset = tokenized_dataset['test'],\n",
        "   data_collator = data_collator\n",
        ")\n",
        "\n",
        "trainer.train()"
      ],
      "metadata": {
        "colab": {
          "base_uri": "https://localhost:8080/",
          "height": 358,
          "referenced_widgets": [
            "1585caf946d24411888ca6deec938339",
            "953d5489813441ca88f356c7e680b71d",
            "d5868c5da42842adad65f9fc645bf503",
            "e414908d87a441f8b14be5cf1f36b850",
            "20453987ee374bcb993a5e1ae8656d96",
            "61f9ad3c97c14cf3ac45f3acd6c24e0e",
            "248ea321429346b8a82c348b8a668e9f",
            "986c7ff548bd4ec097bc0b7c3561c7b8",
            "403417ee4b754774b17d87f003e03af1",
            "365703fad8b1482aa39e8e85434d01cd",
            "5020365fdba448cea0e6a31cf26fe825",
            "70473b2f3015476a87652370fcf595e0",
            "11f1cc54a8ce4206a1b9eac4cf3a1efa",
            "3825569abaf54594b072e4e22dd2cb77",
            "8d8cb54cca2d486e80b6cbb9b2f5b5c0",
            "fae553cb05cd42f2a6fcd1485ccbf661",
            "f927acfddd0548f7add084718af5f4ce",
            "d82435f72c3c4e728c0c4bdd35f2bd42",
            "a8931f9aebff48889086f1c0d3fd69c8",
            "0fee34093a68451c8e9c25db133354a6",
            "ab44ffd4ad834d5aa4514e3d745c9739",
            "255fd5daa7e949548addae7dad21d3f3"
          ]
        },
        "id": "rylxJAPdh9pm",
        "outputId": "781456da-f992-4e71-c49c-ea10c0fc7466"
      },
      "execution_count": 15,
      "outputs": [
        {
          "output_type": "display_data",
          "data": {
            "text/plain": [
              "Downloading pytorch_model.bin:   0%|          | 0.00/251M [00:00<?, ?B/s]"
            ],
            "application/vnd.jupyter.widget-view+json": {
              "version_major": 2,
              "version_minor": 0,
              "model_id": "1585caf946d24411888ca6deec938339"
            }
          },
          "metadata": {}
        },
        {
          "output_type": "display_data",
          "data": {
            "text/plain": [
              "Downloading (…)neration_config.json:   0%|          | 0.00/137 [00:00<?, ?B/s]"
            ],
            "application/vnd.jupyter.widget-view+json": {
              "version_major": 2,
              "version_minor": 0,
              "model_id": "70473b2f3015476a87652370fcf595e0"
            }
          },
          "metadata": {}
        },
        {
          "output_type": "stream",
          "name": "stderr",
          "text": [
            "/usr/local/lib/python3.9/dist-packages/transformers/optimization.py:391: FutureWarning: This implementation of AdamW is deprecated and will be removed in a future version. Use the PyTorch implementation torch.optim.AdamW instead, or set `no_deprecation_warning=True` to disable this warning\n",
            "  warnings.warn(\n",
            "You're using a GPT2TokenizerFast tokenizer. Please note that with a fast tokenizer, using the `__call__` method is faster than using a method to encode the text followed by a call to the `pad` method to get a padded encoding.\n"
          ]
        },
        {
          "output_type": "display_data",
          "data": {
            "text/plain": [
              "<IPython.core.display.HTML object>"
            ],
            "text/html": [
              "\n",
              "    <div>\n",
              "      \n",
              "      <progress value='42189' max='42189' style='width:300px; height:20px; vertical-align: middle;'></progress>\n",
              "      [42189/42189 1:05:17, Epoch 3/3]\n",
              "    </div>\n",
              "    <table border=\"1\" class=\"dataframe\">\n",
              "  <thead>\n",
              " <tr style=\"text-align: left;\">\n",
              "      <th>Epoch</th>\n",
              "      <th>Training Loss</th>\n",
              "      <th>Validation Loss</th>\n",
              "    </tr>\n",
              "  </thead>\n",
              "  <tbody>\n",
              "    <tr>\n",
              "      <td>1</td>\n",
              "      <td>2.697700</td>\n",
              "      <td>2.455794</td>\n",
              "    </tr>\n",
              "    <tr>\n",
              "      <td>2</td>\n",
              "      <td>2.429100</td>\n",
              "      <td>2.353614</td>\n",
              "    </tr>\n",
              "    <tr>\n",
              "      <td>3</td>\n",
              "      <td>2.342300</td>\n",
              "      <td>2.322958</td>\n",
              "    </tr>\n",
              "  </tbody>\n",
              "</table><p>"
            ]
          },
          "metadata": {}
        },
        {
          "output_type": "execute_result",
          "data": {
            "text/plain": [
              "TrainOutput(global_step=42189, training_loss=2.489714347193581, metrics={'train_runtime': 3920.5519, 'train_samples_per_second': 172.17, 'train_steps_per_second': 10.761, 'total_flos': 8.81860608e+16, 'train_loss': 2.489714347193581, 'epoch': 3.0})"
            ]
          },
          "metadata": {},
          "execution_count": 15
        }
      ]
    },
    {
      "cell_type": "code",
      "source": [
        "model.save_pretrained(model_save_dir)\n",
        "tokenizer.save_pretrained(model_save_dir)"
      ],
      "metadata": {
        "colab": {
          "base_uri": "https://localhost:8080/"
        },
        "id": "JYnqO-odoj0A",
        "outputId": "92e08644-2fed-4530-cae0-f82517d21652"
      },
      "execution_count": 16,
      "outputs": [
        {
          "output_type": "execute_result",
          "data": {
            "text/plain": [
              "('model_save/tokenizer_config.json',\n",
              " 'model_save/special_tokens_map.json',\n",
              " 'model_save/vocab.json',\n",
              " 'model_save/merges.txt',\n",
              " 'model_save/added_tokens.json',\n",
              " 'model_save/tokenizer.json')"
            ]
          },
          "metadata": {},
          "execution_count": 16
        }
      ]
    },
    {
      "cell_type": "markdown",
      "source": [
        "# Avaliação"
      ],
      "metadata": {
        "id": "oxNUnSigZAH0"
      }
    },
    {
      "cell_type": "markdown",
      "source": [
        "## Cálculo da Perplexidade"
      ],
      "metadata": {
        "id": "9zBKGvDkpYPy"
      }
    },
    {
      "cell_type": "code",
      "source": [
        "eval_results = trainer.evaluate()\n",
        "print(f\"Perplexity: {math.exp(eval_results['eval_loss']):.2f}\")"
      ],
      "metadata": {
        "colab": {
          "base_uri": "https://localhost:8080/",
          "height": 54
        },
        "id": "CkZgm7sRcIxB",
        "outputId": "684480dc-7971-4cd4-93a1-85bca9283b5f"
      },
      "execution_count": 17,
      "outputs": [
        {
          "output_type": "display_data",
          "data": {
            "text/plain": [
              "<IPython.core.display.HTML object>"
            ],
            "text/html": [
              "\n",
              "    <div>\n",
              "      \n",
              "      <progress value='1563' max='1563' style='width:300px; height:20px; vertical-align: middle;'></progress>\n",
              "      [1563/1563 00:32]\n",
              "    </div>\n",
              "    "
            ]
          },
          "metadata": {}
        },
        {
          "output_type": "stream",
          "name": "stdout",
          "text": [
            "Perplexity: 10.21\n"
          ]
        }
      ]
    },
    {
      "cell_type": "markdown",
      "source": [
        "## Teste da geração de texto"
      ],
      "metadata": {
        "id": "P_NvHFQ4pdLA"
      }
    },
    {
      "cell_type": "code",
      "source": [
        "prompt = 'O café é uma bebida'\n",
        "max_output_tokens = 20\n",
        "model.eval()\n",
        "\n",
        "for _ in range(max_output_tokens):\n",
        "    input_ids = tokenizer(text=prompt)['input_ids']\n",
        "    input_ids_truncated = input_ids[-max_seq_length:]  # Usamos apenas os últimos tokens como entrada para o modelo.\n",
        "    output = model(torch.LongTensor([input_ids_truncated]).to(device))\n",
        "    logits = output['logits'][:, -1, :]  # Usamos apenas o ultimo token da sequencia\n",
        "    predicted_id = torch.argmax(logits).item()  # extraindo o token de maior probabilidade (greedy decoding)\n",
        "    input_ids += [predicted_id]  # Concatenamos a entrada com o token escolhido nesse passo.\n",
        "    prompt = tokenizer.decode(input_ids)\n",
        "    print(prompt.replace('</s>', ''))"
      ],
      "metadata": {
        "colab": {
          "base_uri": "https://localhost:8080/"
        },
        "id": "k26C_CO8oa4k",
        "outputId": "e2a23f5e-8481-42cd-e37d-26fe8335acad"
      },
      "execution_count": 18,
      "outputs": [
        {
          "output_type": "stream",
          "name": "stdout",
          "text": [
            "O café é uma bebida que\n",
            "O café é uma bebida que p\n",
            "O café é uma bebida que pode\n",
            "O café é uma bebida que pode ser\n",
            "O café é uma bebida que pode ser us\n",
            "O café é uma bebida que pode ser usada\n",
            "O café é uma bebida que pode ser usada para\n",
            "O café é uma bebida que pode ser usada para a\n",
            "O café é uma bebida que pode ser usada para ajud\n",
            "O café é uma bebida que pode ser usada para ajudar\n",
            "O café é uma bebida que pode ser usada para ajudar a\n",
            "O café é uma bebida que pode ser usada para ajudar a man\n",
            "O café é uma bebida que pode ser usada para ajudar a manter\n",
            "O café é uma bebida que pode ser usada para ajudar a manter a\n",
            "O café é uma bebida que pode ser usada para ajudar a manter a l\n",
            "O café é uma bebida que pode ser usada para ajudar a manter a liga\n",
            "O café é uma bebida que pode ser usada para ajudar a manter a ligaç\n",
            "O café é uma bebida que pode ser usada para ajudar a manter a ligação\n",
            "O café é uma bebida que pode ser usada para ajudar a manter a ligação de\n",
            "O café é uma bebida que pode ser usada para ajudar a manter a ligação de um\n"
          ]
        }
      ]
    },
    {
      "cell_type": "code",
      "source": [
        "!zip model model_save/*"
      ],
      "metadata": {
        "colab": {
          "base_uri": "https://localhost:8080/"
        },
        "id": "o-R8-0YsqFw9",
        "outputId": "dbc8386c-85f9-4ac8-fc02-13cb1f734959"
      },
      "execution_count": 19,
      "outputs": [
        {
          "output_type": "stream",
          "name": "stdout",
          "text": [
            "  adding: model_save/config.json (deflated 49%)\n",
            "  adding: model_save/generation_config.json (deflated 29%)\n",
            "  adding: model_save/merges.txt (deflated 53%)\n",
            "  adding: model_save/pytorch_model.bin (deflated 8%)\n",
            "  adding: model_save/special_tokens_map.json (deflated 79%)\n",
            "  adding: model_save/tokenizer_config.json (deflated 73%)\n",
            "  adding: model_save/tokenizer.json (deflated 72%)\n",
            "  adding: model_save/vocab.json (deflated 59%)\n"
          ]
        }
      ]
    },
    {
      "cell_type": "code",
      "source": [],
      "metadata": {
        "id": "z5Pey12c__yg"
      },
      "execution_count": 19,
      "outputs": []
    },
    {
      "cell_type": "markdown",
      "source": [
        "# Verificação da implementação - overfitting"
      ],
      "metadata": {
        "id": "U-FTkfFsPvv0"
      }
    },
    {
      "cell_type": "markdown",
      "source": [
        "## Treinamento"
      ],
      "metadata": {
        "id": "kWnInKUMU_v0"
      }
    },
    {
      "cell_type": "code",
      "source": [
        "training_args = TrainingArguments(\n",
        "    output_dir = model_output_dir,\n",
        "    num_train_epochs = 10,\n",
        "    per_device_train_batch_size = batch_size,\n",
        "    per_device_eval_batch_size = batch_size,\n",
        "    evaluation_strategy = 'epoch',\n",
        "    save_strategy = 'epoch',\n",
        "    logging_strategy = 'epoch',\n",
        "    learning_rate = 2e-5,\n",
        "    weight_decay = 0.01,\n",
        "    fp16=True\n",
        ")\n",
        "\n",
        "trainer = Trainer(\n",
        "   model = model,\n",
        "   args = training_args,\n",
        "   train_dataset = tokenized_dataset['test'],\n",
        "   eval_dataset = tokenized_dataset['test'],\n",
        "   data_collator = data_collator\n",
        ")\n",
        "\n",
        "trainer.train()"
      ],
      "metadata": {
        "colab": {
          "base_uri": "https://localhost:8080/",
          "height": 496
        },
        "id": "x6Zl2_k2G_l3",
        "outputId": "38d3860a-d636-4972-8220-6557c2a7122d"
      },
      "execution_count": 21,
      "outputs": [
        {
          "output_type": "stream",
          "name": "stderr",
          "text": [
            "/usr/local/lib/python3.9/dist-packages/transformers/optimization.py:391: FutureWarning: This implementation of AdamW is deprecated and will be removed in a future version. Use the PyTorch implementation torch.optim.AdamW instead, or set `no_deprecation_warning=True` to disable this warning\n",
            "  warnings.warn(\n"
          ]
        },
        {
          "output_type": "display_data",
          "data": {
            "text/plain": [
              "<IPython.core.display.HTML object>"
            ],
            "text/html": [
              "\n",
              "    <div>\n",
              "      \n",
              "      <progress value='15630' max='15630' style='width:300px; height:20px; vertical-align: middle;'></progress>\n",
              "      [15630/15630 29:46, Epoch 10/10]\n",
              "    </div>\n",
              "    <table border=\"1\" class=\"dataframe\">\n",
              "  <thead>\n",
              " <tr style=\"text-align: left;\">\n",
              "      <th>Epoch</th>\n",
              "      <th>Training Loss</th>\n",
              "      <th>Validation Loss</th>\n",
              "    </tr>\n",
              "  </thead>\n",
              "  <tbody>\n",
              "    <tr>\n",
              "      <td>1</td>\n",
              "      <td>2.408700</td>\n",
              "      <td>2.246565</td>\n",
              "    </tr>\n",
              "    <tr>\n",
              "      <td>2</td>\n",
              "      <td>2.328100</td>\n",
              "      <td>2.171763</td>\n",
              "    </tr>\n",
              "    <tr>\n",
              "      <td>3</td>\n",
              "      <td>2.264800</td>\n",
              "      <td>2.109294</td>\n",
              "    </tr>\n",
              "    <tr>\n",
              "      <td>4</td>\n",
              "      <td>2.211800</td>\n",
              "      <td>2.058945</td>\n",
              "    </tr>\n",
              "    <tr>\n",
              "      <td>5</td>\n",
              "      <td>2.166300</td>\n",
              "      <td>2.014626</td>\n",
              "    </tr>\n",
              "    <tr>\n",
              "      <td>6</td>\n",
              "      <td>2.128100</td>\n",
              "      <td>1.979197</td>\n",
              "    </tr>\n",
              "    <tr>\n",
              "      <td>7</td>\n",
              "      <td>2.095700</td>\n",
              "      <td>1.949169</td>\n",
              "    </tr>\n",
              "    <tr>\n",
              "      <td>8</td>\n",
              "      <td>2.068700</td>\n",
              "      <td>1.927617</td>\n",
              "    </tr>\n",
              "    <tr>\n",
              "      <td>9</td>\n",
              "      <td>2.048200</td>\n",
              "      <td>1.912462</td>\n",
              "    </tr>\n",
              "    <tr>\n",
              "      <td>10</td>\n",
              "      <td>2.033100</td>\n",
              "      <td>1.906652</td>\n",
              "    </tr>\n",
              "  </tbody>\n",
              "</table><p>"
            ]
          },
          "metadata": {}
        },
        {
          "output_type": "execute_result",
          "data": {
            "text/plain": [
              "TrainOutput(global_step=15630, training_loss=2.175341343894954, metrics={'train_runtime': 1786.3989, 'train_samples_per_second': 139.946, 'train_steps_per_second': 8.749, 'total_flos': 3.2661504e+16, 'train_loss': 2.175341343894954, 'epoch': 10.0})"
            ]
          },
          "metadata": {},
          "execution_count": 21
        }
      ]
    },
    {
      "cell_type": "markdown",
      "source": [
        "## Cálculo da Perplexidade"
      ],
      "metadata": {
        "id": "J7A9nBoNVDz5"
      }
    },
    {
      "cell_type": "code",
      "source": [
        "eval_results = trainer.evaluate()\n",
        "print(f\"Perplexity: {math.exp(eval_results['eval_loss']):.2f}\")"
      ],
      "metadata": {
        "colab": {
          "base_uri": "https://localhost:8080/",
          "height": 54
        },
        "id": "da6F7H79MaKY",
        "outputId": "b3350402-d226-4143-97a9-a6c5d044bea1"
      },
      "execution_count": 22,
      "outputs": [
        {
          "output_type": "display_data",
          "data": {
            "text/plain": [
              "<IPython.core.display.HTML object>"
            ],
            "text/html": [
              "\n",
              "    <div>\n",
              "      \n",
              "      <progress value='1563' max='1563' style='width:300px; height:20px; vertical-align: middle;'></progress>\n",
              "      [1563/1563 00:33]\n",
              "    </div>\n",
              "    "
            ]
          },
          "metadata": {}
        },
        {
          "output_type": "stream",
          "name": "stdout",
          "text": [
            "Perplexity: 6.73\n"
          ]
        }
      ]
    },
    {
      "cell_type": "markdown",
      "source": [
        "## Teste da geração de texto"
      ],
      "metadata": {
        "id": "c-fpgBbNVHE4"
      }
    },
    {
      "cell_type": "code",
      "source": [
        "prompt = 'O café é uma bebida'\n",
        "max_output_tokens = 43\n",
        "model.eval()\n",
        "\n",
        "for _ in range(max_output_tokens):\n",
        "    input_ids = tokenizer(text=prompt)['input_ids']\n",
        "    input_ids_truncated = input_ids[-max_seq_length:]  # Usamos apenas os últimos tokens como entrada para o modelo.\n",
        "    output = model(torch.LongTensor([input_ids_truncated]).to(device))\n",
        "    logits = output['logits'][:, -1, :]  # Usamos apenas o ultimo token da sequencia\n",
        "    predicted_id = torch.argmax(logits).item()  # extraindo o token de maior probabilidade (greedy decoding)\n",
        "    input_ids += [predicted_id]  # Concatenamos a entrada com o token escolhido nesse passo.\n",
        "    prompt = tokenizer.decode(input_ids)\n",
        "    print(prompt.replace('</s>', ''))"
      ],
      "metadata": {
        "colab": {
          "base_uri": "https://localhost:8080/"
        },
        "id": "GVDLO55CTPna",
        "outputId": "848e822f-8d17-433d-ae07-354096e9d80a"
      },
      "execution_count": 30,
      "outputs": [
        {
          "output_type": "stream",
          "name": "stdout",
          "text": [
            "O café é uma bebida que\n",
            "O café é uma bebida que é\n",
            "O café é uma bebida que é consum\n",
            "O café é uma bebida que é consumida\n",
            "O café é uma bebida que é consumida com\n",
            "O café é uma bebida que é consumida como\n",
            "O café é uma bebida que é consumida como um\n",
            "O café é uma bebida que é consumida como um to\n",
            "O café é uma bebida que é consumida como um tomate\n",
            "O café é uma bebida que é consumida como um tomate,\n",
            "O café é uma bebida que é consumida como um tomate, e\n",
            "O café é uma bebida que é consumida como um tomate, e que\n",
            "O café é uma bebida que é consumida como um tomate, e que,\n",
            "O café é uma bebida que é consumida como um tomate, e que, por\n",
            "O café é uma bebida que é consumida como um tomate, e que, por su\n",
            "O café é uma bebida que é consumida como um tomate, e que, por sua\n",
            "O café é uma bebida que é consumida como um tomate, e que, por sua ve\n",
            "O café é uma bebida que é consumida como um tomate, e que, por sua vez\n",
            "O café é uma bebida que é consumida como um tomate, e que, por sua vez,\n",
            "O café é uma bebida que é consumida como um tomate, e que, por sua vez, é\n",
            "O café é uma bebida que é consumida como um tomate, e que, por sua vez, é um\n",
            "O café é uma bebida que é consumida como um tomate, e que, por sua vez, é um be\n",
            "O café é uma bebida que é consumida como um tomate, e que, por sua vez, é um beb\n",
            "O café é uma bebida que é consumida como um tomate, e que, por sua vez, é um bebida\n",
            "O café é uma bebida que é consumida como um tomate, e que, por sua vez, é um bebida que\n",
            "O café é uma bebida que é consumida como um tomate, e que, por sua vez, é um bebida que é\n",
            "O café é uma bebida que é consumida como um tomate, e que, por sua vez, é um bebida que é um\n",
            "O café é uma bebida que é consumida como um tomate, e que, por sua vez, é um bebida que é um to\n",
            "O café é uma bebida que é consumida como um tomate, e que, por sua vez, é um bebida que é um tomate\n",
            "O café é uma bebida que é consumida como um tomate, e que, por sua vez, é um bebida que é um tomate,\n",
            "O café é uma bebida que é consumida como um tomate, e que, por sua vez, é um bebida que é um tomate, e\n",
            "O café é uma bebida que é consumida como um tomate, e que, por sua vez, é um bebida que é um tomate, e que\n",
            "O café é uma bebida que é consumida como um tomate, e que, por sua vez, é um bebida que é um tomate, e que,\n",
            "O café é uma bebida que é consumida como um tomate, e que, por sua vez, é um bebida que é um tomate, e que, por\n",
            "O café é uma bebida que é consumida como um tomate, e que, por sua vez, é um bebida que é um tomate, e que, por su\n",
            "O café é uma bebida que é consumida como um tomate, e que, por sua vez, é um bebida que é um tomate, e que, por sua\n",
            "O café é uma bebida que é consumida como um tomate, e que, por sua vez, é um bebida que é um tomate, e que, por sua ve\n",
            "O café é uma bebida que é consumida como um tomate, e que, por sua vez, é um bebida que é um tomate, e que, por sua vez\n",
            "O café é uma bebida que é consumida como um tomate, e que, por sua vez, é um bebida que é um tomate, e que, por sua vez,\n",
            "O café é uma bebida que é consumida como um tomate, e que, por sua vez, é um bebida que é um tomate, e que, por sua vez, é\n",
            "O café é uma bebida que é consumida como um tomate, e que, por sua vez, é um bebida que é um tomate, e que, por sua vez, é um\n",
            "O café é uma bebida que é consumida como um tomate, e que, por sua vez, é um bebida que é um tomate, e que, por sua vez, é um to\n",
            "O café é uma bebida que é consumida como um tomate, e que, por sua vez, é um bebida que é um tomate, e que, por sua vez, é um tomate\n"
          ]
        }
      ]
    },
    {
      "cell_type": "code",
      "source": [],
      "metadata": {
        "id": "32lmPo80Um9c"
      },
      "execution_count": null,
      "outputs": []
    }
  ]
}