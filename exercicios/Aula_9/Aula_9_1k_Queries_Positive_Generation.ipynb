{
  "nbformat": 4,
  "nbformat_minor": 0,
  "metadata": {
    "colab": {
      "provenance": [],
      "authorship_tag": "ABX9TyMiLhXuXwQokQCW8PlPi4YW",
      "include_colab_link": true
    },
    "kernelspec": {
      "name": "python3",
      "display_name": "Python 3"
    },
    "language_info": {
      "name": "python"
    },
    "gpuClass": "standard"
  },
  "cells": [
    {
      "cell_type": "markdown",
      "metadata": {
        "id": "view-in-github",
        "colab_type": "text"
      },
      "source": [
        "<a href=\"https://colab.research.google.com/github/leonardo3108/IA368dd/blob/main/exercicios/Aula_9/Aula_9_1k_Queries_Positive_Generation.ipynb\" target=\"_parent\"><img src=\"https://colab.research.google.com/assets/colab-badge.svg\" alt=\"Open In Colab\"/></a>"
      ]
    },
    {
      "cell_type": "code",
      "source": [
        "nome = 'Leonardo Augusto da Silva Pacheco'\n",
        "print(f'Meu nome é {nome}')"
      ],
      "metadata": {
        "colab": {
          "base_uri": "https://localhost:8080/"
        },
        "id": "o_9sUnlpHZfe",
        "outputId": "1ada7807-2ae5-4091-ce51-2bd8a1c393ac"
      },
      "execution_count": null,
      "outputs": [
        {
          "output_type": "stream",
          "name": "stdout",
          "text": [
            "Meu nome é Leonardo Augusto da Silva Pacheco\n"
          ]
        }
      ]
    },
    {
      "cell_type": "markdown",
      "source": [
        "# Enunciado\n",
        "\n",
        "https://github.com/leonardo3108/IA368dd/blob/main/exercicios/Aula_9/enunciado.md"
      ],
      "metadata": {
        "id": "5iuHRsrHq5yj"
      }
    },
    {
      "cell_type": "markdown",
      "source": [
        "# Setup"
      ],
      "metadata": {
        "id": "ybOUq344g2EJ"
      }
    },
    {
      "cell_type": "markdown",
      "source": [
        "## Instalação de libs"
      ],
      "metadata": {
        "id": "d9CAZIdOkCgb"
      }
    },
    {
      "cell_type": "code",
      "source": [
        "!pip install openai"
      ],
      "metadata": {
        "colab": {
          "base_uri": "https://localhost:8080/"
        },
        "id": "KX4NY7WSGC1Z",
        "outputId": "61a05e1f-03fc-4e78-a902-a621e0be52d4"
      },
      "execution_count": 28,
      "outputs": [
        {
          "output_type": "stream",
          "name": "stdout",
          "text": [
            "Looking in indexes: https://pypi.org/simple, https://us-python.pkg.dev/colab-wheels/public/simple/\n",
            "Requirement already satisfied: openai in /usr/local/lib/python3.10/dist-packages (0.27.6)\n",
            "Requirement already satisfied: requests>=2.20 in /usr/local/lib/python3.10/dist-packages (from openai) (2.27.1)\n",
            "Requirement already satisfied: tqdm in /usr/local/lib/python3.10/dist-packages (from openai) (4.65.0)\n",
            "Requirement already satisfied: aiohttp in /usr/local/lib/python3.10/dist-packages (from openai) (3.8.4)\n",
            "Requirement already satisfied: urllib3<1.27,>=1.21.1 in /usr/local/lib/python3.10/dist-packages (from requests>=2.20->openai) (1.26.15)\n",
            "Requirement already satisfied: certifi>=2017.4.17 in /usr/local/lib/python3.10/dist-packages (from requests>=2.20->openai) (2022.12.7)\n",
            "Requirement already satisfied: charset-normalizer~=2.0.0 in /usr/local/lib/python3.10/dist-packages (from requests>=2.20->openai) (2.0.12)\n",
            "Requirement already satisfied: idna<4,>=2.5 in /usr/local/lib/python3.10/dist-packages (from requests>=2.20->openai) (3.4)\n",
            "Requirement already satisfied: attrs>=17.3.0 in /usr/local/lib/python3.10/dist-packages (from aiohttp->openai) (23.1.0)\n",
            "Requirement already satisfied: multidict<7.0,>=4.5 in /usr/local/lib/python3.10/dist-packages (from aiohttp->openai) (6.0.4)\n",
            "Requirement already satisfied: async-timeout<5.0,>=4.0.0a3 in /usr/local/lib/python3.10/dist-packages (from aiohttp->openai) (4.0.2)\n",
            "Requirement already satisfied: yarl<2.0,>=1.0 in /usr/local/lib/python3.10/dist-packages (from aiohttp->openai) (1.9.2)\n",
            "Requirement already satisfied: frozenlist>=1.1.1 in /usr/local/lib/python3.10/dist-packages (from aiohttp->openai) (1.3.3)\n",
            "Requirement already satisfied: aiosignal>=1.1.2 in /usr/local/lib/python3.10/dist-packages (from aiohttp->openai) (1.3.1)\n",
            "Looking in indexes: https://pypi.org/simple, https://us-python.pkg.dev/colab-wheels/public/simple/\n",
            "Requirement already satisfied: huggingface_hub in /usr/local/lib/python3.10/dist-packages (0.14.1)\n",
            "Requirement already satisfied: filelock in /usr/local/lib/python3.10/dist-packages (from huggingface_hub) (3.12.0)\n",
            "Requirement already satisfied: fsspec in /usr/local/lib/python3.10/dist-packages (from huggingface_hub) (2023.4.0)\n",
            "Requirement already satisfied: requests in /usr/local/lib/python3.10/dist-packages (from huggingface_hub) (2.27.1)\n",
            "Requirement already satisfied: tqdm>=4.42.1 in /usr/local/lib/python3.10/dist-packages (from huggingface_hub) (4.65.0)\n",
            "Requirement already satisfied: pyyaml>=5.1 in /usr/local/lib/python3.10/dist-packages (from huggingface_hub) (6.0)\n",
            "Requirement already satisfied: typing-extensions>=3.7.4.3 in /usr/local/lib/python3.10/dist-packages (from huggingface_hub) (4.5.0)\n",
            "Requirement already satisfied: packaging>=20.9 in /usr/local/lib/python3.10/dist-packages (from huggingface_hub) (23.1)\n",
            "Requirement already satisfied: urllib3<1.27,>=1.21.1 in /usr/local/lib/python3.10/dist-packages (from requests->huggingface_hub) (1.26.15)\n",
            "Requirement already satisfied: certifi>=2017.4.17 in /usr/local/lib/python3.10/dist-packages (from requests->huggingface_hub) (2022.12.7)\n",
            "Requirement already satisfied: charset-normalizer~=2.0.0 in /usr/local/lib/python3.10/dist-packages (from requests->huggingface_hub) (2.0.12)\n",
            "Requirement already satisfied: idna<4,>=2.5 in /usr/local/lib/python3.10/dist-packages (from requests->huggingface_hub) (3.4)\n",
            "Looking in indexes: https://pypi.org/simple, https://us-python.pkg.dev/colab-wheels/public/simple/\n",
            "Requirement already satisfied: datasets in /usr/local/lib/python3.10/dist-packages (2.12.0)\n",
            "Requirement already satisfied: numpy>=1.17 in /usr/local/lib/python3.10/dist-packages (from datasets) (1.22.4)\n",
            "Requirement already satisfied: pyarrow>=8.0.0 in /usr/local/lib/python3.10/dist-packages (from datasets) (9.0.0)\n",
            "Requirement already satisfied: dill<0.3.7,>=0.3.0 in /usr/local/lib/python3.10/dist-packages (from datasets) (0.3.6)\n",
            "Requirement already satisfied: pandas in /usr/local/lib/python3.10/dist-packages (from datasets) (1.5.3)\n",
            "Requirement already satisfied: requests>=2.19.0 in /usr/local/lib/python3.10/dist-packages (from datasets) (2.27.1)\n",
            "Requirement already satisfied: tqdm>=4.62.1 in /usr/local/lib/python3.10/dist-packages (from datasets) (4.65.0)\n",
            "Requirement already satisfied: xxhash in /usr/local/lib/python3.10/dist-packages (from datasets) (3.2.0)\n",
            "Requirement already satisfied: multiprocess in /usr/local/lib/python3.10/dist-packages (from datasets) (0.70.14)\n",
            "Requirement already satisfied: fsspec[http]>=2021.11.1 in /usr/local/lib/python3.10/dist-packages (from datasets) (2023.4.0)\n",
            "Requirement already satisfied: aiohttp in /usr/local/lib/python3.10/dist-packages (from datasets) (3.8.4)\n",
            "Requirement already satisfied: huggingface-hub<1.0.0,>=0.11.0 in /usr/local/lib/python3.10/dist-packages (from datasets) (0.14.1)\n",
            "Requirement already satisfied: packaging in /usr/local/lib/python3.10/dist-packages (from datasets) (23.1)\n",
            "Requirement already satisfied: responses<0.19 in /usr/local/lib/python3.10/dist-packages (from datasets) (0.18.0)\n",
            "Requirement already satisfied: pyyaml>=5.1 in /usr/local/lib/python3.10/dist-packages (from datasets) (6.0)\n",
            "Requirement already satisfied: attrs>=17.3.0 in /usr/local/lib/python3.10/dist-packages (from aiohttp->datasets) (23.1.0)\n",
            "Requirement already satisfied: charset-normalizer<4.0,>=2.0 in /usr/local/lib/python3.10/dist-packages (from aiohttp->datasets) (2.0.12)\n",
            "Requirement already satisfied: multidict<7.0,>=4.5 in /usr/local/lib/python3.10/dist-packages (from aiohttp->datasets) (6.0.4)\n",
            "Requirement already satisfied: async-timeout<5.0,>=4.0.0a3 in /usr/local/lib/python3.10/dist-packages (from aiohttp->datasets) (4.0.2)\n",
            "Requirement already satisfied: yarl<2.0,>=1.0 in /usr/local/lib/python3.10/dist-packages (from aiohttp->datasets) (1.9.2)\n",
            "Requirement already satisfied: frozenlist>=1.1.1 in /usr/local/lib/python3.10/dist-packages (from aiohttp->datasets) (1.3.3)\n",
            "Requirement already satisfied: aiosignal>=1.1.2 in /usr/local/lib/python3.10/dist-packages (from aiohttp->datasets) (1.3.1)\n",
            "Requirement already satisfied: filelock in /usr/local/lib/python3.10/dist-packages (from huggingface-hub<1.0.0,>=0.11.0->datasets) (3.12.0)\n",
            "Requirement already satisfied: typing-extensions>=3.7.4.3 in /usr/local/lib/python3.10/dist-packages (from huggingface-hub<1.0.0,>=0.11.0->datasets) (4.5.0)\n",
            "Requirement already satisfied: urllib3<1.27,>=1.21.1 in /usr/local/lib/python3.10/dist-packages (from requests>=2.19.0->datasets) (1.26.15)\n",
            "Requirement already satisfied: certifi>=2017.4.17 in /usr/local/lib/python3.10/dist-packages (from requests>=2.19.0->datasets) (2022.12.7)\n",
            "Requirement already satisfied: idna<4,>=2.5 in /usr/local/lib/python3.10/dist-packages (from requests>=2.19.0->datasets) (3.4)\n",
            "Requirement already satisfied: python-dateutil>=2.8.1 in /usr/local/lib/python3.10/dist-packages (from pandas->datasets) (2.8.2)\n",
            "Requirement already satisfied: pytz>=2020.1 in /usr/local/lib/python3.10/dist-packages (from pandas->datasets) (2022.7.1)\n",
            "Requirement already satisfied: six>=1.5 in /usr/local/lib/python3.10/dist-packages (from python-dateutil>=2.8.1->pandas->datasets) (1.16.0)\n"
          ]
        }
      ]
    },
    {
      "cell_type": "markdown",
      "source": [
        "## Importação de libs"
      ],
      "metadata": {
        "id": "tSY_YTfLkH19"
      }
    },
    {
      "cell_type": "code",
      "source": [
        "import json\n",
        "import os\n",
        "import openai\n",
        "import numpy as np"
      ],
      "metadata": {
        "id": "TK1EI_oXGg8t"
      },
      "execution_count": 34,
      "outputs": []
    },
    {
      "cell_type": "markdown",
      "source": [
        "## Chave de acesso à API OpenAI"
      ],
      "metadata": {
        "id": "QZo140i89sJ1"
      }
    },
    {
      "cell_type": "code",
      "source": [
        "openai.api_key = 'API_KEY_OPENAI'"
      ],
      "metadata": {
        "id": "fBKJ8mcD9pOx"
      },
      "execution_count": 32,
      "outputs": []
    },
    {
      "cell_type": "markdown",
      "source": [
        "# Preparação dos dados"
      ],
      "metadata": {
        "id": "jAsxa_kBhX2N"
      }
    },
    {
      "cell_type": "markdown",
      "source": [
        "## Obtenção - TREC-COVID"
      ],
      "metadata": {
        "id": "HsmMqYlOi0gx"
      }
    },
    {
      "cell_type": "code",
      "source": [
        "!wget -nc 'https://public.ukp.informatik.tu-darmstadt.de/thakur/BEIR/datasets/trec-covid.zip'"
      ],
      "metadata": {
        "colab": {
          "base_uri": "https://localhost:8080/"
        },
        "id": "h7MlxORWGqhv",
        "outputId": "20fb39bb-4683-497a-fe33-46a18d0f0fc2"
      },
      "execution_count": 4,
      "outputs": [
        {
          "output_type": "stream",
          "name": "stdout",
          "text": [
            "--2023-05-02 00:55:11--  https://public.ukp.informatik.tu-darmstadt.de/thakur/BEIR/datasets/trec-covid.zip\n",
            "Resolving public.ukp.informatik.tu-darmstadt.de (public.ukp.informatik.tu-darmstadt.de)... 130.83.167.186\n",
            "Connecting to public.ukp.informatik.tu-darmstadt.de (public.ukp.informatik.tu-darmstadt.de)|130.83.167.186|:443... connected.\n",
            "HTTP request sent, awaiting response... 200 OK\n",
            "Length: 73876720 (70M) [application/zip]\n",
            "Saving to: ‘trec-covid.zip’\n",
            "\n",
            "trec-covid.zip      100%[===================>]  70.45M  11.9MB/s    in 7.4s    \n",
            "\n",
            "2023-05-02 00:55:20 (9.47 MB/s) - ‘trec-covid.zip’ saved [73876720/73876720]\n",
            "\n"
          ]
        }
      ]
    },
    {
      "cell_type": "code",
      "source": [
        "!unzip -o trec-covid.zip"
      ],
      "metadata": {
        "colab": {
          "base_uri": "https://localhost:8080/"
        },
        "id": "E8-JBx7UtEr0",
        "outputId": "fb1580e9-147f-4ccf-c2d1-b10f47df8d05"
      },
      "execution_count": 5,
      "outputs": [
        {
          "output_type": "stream",
          "name": "stdout",
          "text": [
            "Archive:  trec-covid.zip\n",
            "   creating: trec-covid/\n",
            "   creating: trec-covid/qrels/\n",
            "  inflating: trec-covid/qrels/test.tsv  \n",
            "  inflating: trec-covid/corpus.jsonl  \n",
            "  inflating: trec-covid/queries.jsonl  \n"
          ]
        }
      ]
    },
    {
      "cell_type": "markdown",
      "source": [
        "## Tratamento - qrels de test"
      ],
      "metadata": {
        "id": "evJv3X-Oi3de"
      }
    },
    {
      "cell_type": "code",
      "source": [
        "with open('trec-covid/qrels/test.tsv', 'r') as fin:\n",
        "  data = fin.read().splitlines(True)\n",
        "\n",
        "print(data[:5])\n",
        "print(data[4].split())"
      ],
      "metadata": {
        "colab": {
          "base_uri": "https://localhost:8080/"
        },
        "id": "a6GepFFgt3eY",
        "outputId": "a978daeb-0a16-4cfc-8aa4-52ed65500132"
      },
      "execution_count": 6,
      "outputs": [
        {
          "output_type": "stream",
          "name": "stdout",
          "text": [
            "['query-id\\tcorpus-id\\tscore\\n', '1\\t005b2j4b\\t2\\n', '1\\t00fmeepz\\t1\\n', '1\\tg7dhmyyo\\t2\\n', '1\\t0194oljo\\t1\\n']\n",
            "['1', '0194oljo', '1']\n"
          ]
        }
      ]
    },
    {
      "cell_type": "code",
      "source": [
        "with open('test_adjusted.tsv', 'w') as fout:\n",
        "    for line in data[1:]:\n",
        "        query_id, corpus_id, score = line.split()\n",
        "        fout.write(f'{query_id}\\t0\\t{corpus_id}\\t{score}\\n')"
      ],
      "metadata": {
        "id": "bR3wjYpBH0-k"
      },
      "execution_count": 7,
      "outputs": []
    },
    {
      "cell_type": "markdown",
      "source": [
        "## Tratamento - corpus"
      ],
      "metadata": {
        "id": "cCQgQ8CSi_9F"
      }
    },
    {
      "cell_type": "code",
      "source": [
        "corpus = []\n",
        "with open('trec-covid/corpus.jsonl') as fin:\n",
        "    for i, line in enumerate(fin):\n",
        "        corpus.append(json.loads(line))\n",
        "\n",
        "for text in corpus[:10]:\n",
        "    print(text)"
      ],
      "metadata": {
        "colab": {
          "base_uri": "https://localhost:8080/"
        },
        "id": "kYbOqVLoHpgp",
        "outputId": "1153340d-696a-4e4f-c3cf-f8fab42a1834"
      },
      "execution_count": 9,
      "outputs": [
        {
          "output_type": "stream",
          "name": "stdout",
          "text": [
            "{'_id': 'ug7v899j', 'title': 'Clinical features of culture-proven Mycoplasma pneumoniae infections at King Abdulaziz University Hospital, Jeddah, Saudi Arabia', 'text': 'OBJECTIVE: This retrospective chart review describes the epidemiology and clinical features of 40 patients with culture-proven Mycoplasma pneumoniae infections at King Abdulaziz University Hospital, Jeddah, Saudi Arabia. METHODS: Patients with positive M. pneumoniae cultures from respiratory specimens from January 1997 through December 1998 were identified through the Microbiology records. Charts of patients were reviewed. RESULTS: 40 patients were identified, 33 (82.5%) of whom required admission. Most infections (92.5%) were community-acquired. The infection affected all age groups but was most common in infants (32.5%) and pre-school children (22.5%). It occurred year-round but was most common in the fall (35%) and spring (30%). More than three-quarters of patients (77.5%) had comorbidities. Twenty-four isolates (60%) were associated with pneumonia, 14 (35%) with upper respiratory tract infections, and 2 (5%) with bronchiolitis. Cough (82.5%), fever (75%), and malaise (58.8%) were the most common symptoms, and crepitations (60%), and wheezes (40%) were the most common signs. Most patients with pneumonia had crepitations (79.2%) but only 25% had bronchial breathing. Immunocompromised patients were more likely than non-immunocompromised patients to present with pneumonia (8/9 versus 16/31, P = 0.05). Of the 24 patients with pneumonia, 14 (58.3%) had uneventful recovery, 4 (16.7%) recovered following some complications, 3 (12.5%) died because of M pneumoniae infection, and 3 (12.5%) died due to underlying comorbidities. The 3 patients who died of M pneumoniae pneumonia had other comorbidities. CONCLUSION: our results were similar to published data except for the finding that infections were more common in infants and preschool children and that the mortality rate of pneumonia in patients with comorbidities was high.', 'metadata': {'url': 'https://www.ncbi.nlm.nih.gov/pmc/articles/PMC35282/', 'pubmed_id': '11472636'}}\n",
            "{'_id': '02tnwd4m', 'title': 'Nitric oxide: a pro-inflammatory mediator in lung disease?', 'text': 'Inflammatory diseases of the respiratory tract are commonly associated with elevated production of nitric oxide (NO•) and increased indices of NO• -dependent oxidative stress. Although NO• is known to have anti-microbial, anti-inflammatory and anti-oxidant properties, various lines of evidence support the contribution of NO• to lung injury in several disease models. On the basis of biochemical evidence, it is often presumed that such NO• -dependent oxidations are due to the formation of the oxidant peroxynitrite, although alternative mechanisms involving the phagocyte-derived heme proteins myeloperoxidase and eosinophil peroxidase might be operative during conditions of inflammation. Because of the overwhelming literature on NO• generation and activities in the respiratory tract, it would be beyond the scope of this commentary to review this area comprehensively. Instead, it focuses on recent evidence and concepts of the presumed contribution of NO• to inflammatory diseases of the lung.', 'metadata': {'url': 'https://www.ncbi.nlm.nih.gov/pmc/articles/PMC59543/', 'pubmed_id': '11667967'}}\n",
            "{'_id': 'ejv2xln0', 'title': 'Surfactant protein-D and pulmonary host defense', 'text': 'Surfactant protein-D (SP-D) participates in the innate response to inhaled microorganisms and organic antigens, and contributes to immune and inflammatory regulation within the lung. SP-D is synthesized and secreted by alveolar and bronchiolar epithelial cells, but is also expressed by epithelial cells lining various exocrine ducts and the mucosa of the gastrointestinal and genitourinary tracts. SP-D, a collagenous calcium-dependent lectin (or collectin), binds to surface glycoconjugates expressed by a wide variety of microorganisms, and to oligosaccharides associated with the surface of various complex organic antigens. SP-D also specifically interacts with glycoconjugates and other molecules expressed on the surface of macrophages, neutrophils, and lymphocytes. In addition, SP-D binds to specific surfactant-associated lipids and can influence the organization of lipid mixtures containing phosphatidylinositol in vitro. Consistent with these diverse in vitro activities is the observation that SP-D-deficient transgenic mice show abnormal accumulations of surfactant lipids, and respond abnormally to challenge with respiratory viruses and bacterial lipopolysaccharides. The phenotype of macrophages isolated from the lungs of SP-D-deficient mice is altered, and there is circumstantial evidence that abnormal oxidant metabolism and/or increased metalloproteinase expression contributes to the development of emphysema. The expression of SP-D is increased in response to many forms of lung injury, and deficient accumulation of appropriately oligomerized SP-D might contribute to the pathogenesis of a variety of human lung diseases.', 'metadata': {'url': 'https://www.ncbi.nlm.nih.gov/pmc/articles/PMC59549/', 'pubmed_id': '11667972'}}\n",
            "{'_id': '2b73a28n', 'title': 'Role of endothelin-1 in lung disease', 'text': 'Endothelin-1 (ET-1) is a 21 amino acid peptide with diverse biological activity that has been implicated in numerous diseases. ET-1 is a potent mitogen regulator of smooth muscle tone, and inflammatory mediator that may play a key role in diseases of the airways, pulmonary circulation, and inflammatory lung diseases, both acute and chronic. This review will focus on the biology of ET-1 and its role in lung disease.', 'metadata': {'url': 'https://www.ncbi.nlm.nih.gov/pmc/articles/PMC59574/', 'pubmed_id': '11686871'}}\n",
            "{'_id': '9785vg6d', 'title': 'Gene expression in epithelial cells in response to pneumovirus infection', 'text': 'Respiratory syncytial virus (RSV) and pneumonia virus of mice (PVM) are viruses of the family Paramyxoviridae, subfamily pneumovirus, which cause clinically important respiratory infections in humans and rodents, respectively. The respiratory epithelial target cells respond to viral infection with specific alterations in gene expression, including production of chemoattractant cytokines, adhesion molecules, elements that are related to the apoptosis response, and others that remain incompletely understood. Here we review our current understanding of these mucosal responses and discuss several genomic approaches, including differential display reverse transcription-polymerase chain reaction (PCR) and gene array strategies, that will permit us to unravel the nature of these responses in a more complete and systematic manner.', 'metadata': {'url': 'https://www.ncbi.nlm.nih.gov/pmc/articles/PMC59580/', 'pubmed_id': '11686888'}}\n",
            "{'_id': 'zjufx4fo', 'title': 'Sequence requirements for RNA strand transfer during nidovirus discontinuous subgenomic RNA synthesis', 'text': 'Nidovirus subgenomic mRNAs contain a leader sequence derived from the 5′ end of the genome fused to different sequences (‘bodies’) derived from the 3′ end. Their generation involves a unique mechanism of discontinuous subgenomic RNA synthesis that resembles copy-choice RNA recombination. During this process, the nascent RNA strand is transferred from one site in the template to another, during either plus or minus strand synthesis, to yield subgenomic RNA molecules. Central to this process are transcription-regulating sequences (TRSs), which are present at both template sites and ensure the fidelity of strand transfer. Here we present results of a comprehensive co-variation mutagenesis study of equine arteritis virus TRSs, demonstrating that discontinuous RNA synthesis depends not only on base pairing between sense leader TRS and antisense body TRS, but also on the primary sequence of the body TRS. While the leader TRS merely plays a targeting role for strand transfer, the body TRS fulfils multiple functions. The sequences of mRNA leader–body junctions of TRS mutants strongly suggested that the discontinuous step occurs during minus strand synthesis.', 'metadata': {'url': 'http://europepmc.org/articles/pmc125340?pdf=render', 'pubmed_id': '11742998'}}\n",
            "{'_id': '5yhe786e', 'title': 'Debate: Transfusing to normal haemoglobin levels will not improve outcome', 'text': 'Recent evidence suggests that critically ill patients are able to tolerate lower levels of haemoglobin than was previously believed. It is our goal to show that transfusing to a level of 100 g/l does not improve mortality and other clinically important outcomes in a critical care setting. Although many questions remain, many laboratory and clinical studies, including a recent randomized controlled trial (RCT), have established that transfusing to normal haemoglobin concentrations does not improve organ failure and mortality in the critically ill patient. In addition, a restrictive transfusion strategy will reduce exposure to allogeneic transfusions, result in more efficient use of red blood cells (RBCs), save blood overall, and decrease health care costs.', 'metadata': {'url': 'https://www.ncbi.nlm.nih.gov/pmc/articles/PMC137267/', 'pubmed_id': '11299062'}}\n",
            "{'_id': '8zchiykl', 'title': 'The 21st International Symposium on Intensive Care and Emergency Medicine, Brussels, Belgium, 20-23 March 2001', 'text': \"The 21st International Symposium on Intensive Care and Emergency Medicine was dominated by the results of recent clinical trials in sepsis and acute respiratory distress syndrome (ARDS). The promise of extracorporeal liver replacement therapy and noninvasive ventilation were other areas of interest. Ethical issues also received attention. Overall, the 'state of the art' lectures, pro/con debates, seminars and tutorials were of a high standard. The meeting was marked by a sense of renewed enthusiasm that positive progress is occurring in intensive care medicine.\", 'metadata': {'url': 'https://www.ncbi.nlm.nih.gov/pmc/articles/PMC137274/', 'pubmed_id': '11353930'}}\n",
            "{'_id': '8qnrcgnk', 'title': 'Heme oxygenase-1 and carbon monoxide in pulmonary medicine', 'text': 'Heme oxygenase-1 (HO-1), an inducible stress protein, confers cytoprotection against oxidative stress in vitro and in vivo. In addition to its physiological role in heme degradation, HO-1 may influence a number of cellular processes, including growth, inflammation, and apoptosis. By virtue of anti-inflammatory effects, HO-1 limits tissue damage in response to proinflammatory stimuli and prevents allograft rejection after transplantation. The transcriptional upregulation of HO-1 responds to many agents, such as hypoxia, bacterial lipopolysaccharide, and reactive oxygen/nitrogen species. HO-1 and its constitutively expressed isozyme, heme oxygenase-2, catalyze the rate-limiting step in the conversion of heme to its metabolites, bilirubin IXα, ferrous iron, and carbon monoxide (CO). The mechanisms by which HO-1 provides protection most likely involve its enzymatic reaction products. Remarkably, administration of CO at low concentrations can substitute for HO-1 with respect to anti-inflammatory and anti-apoptotic effects, suggesting a role for CO as a key mediator of HO-1 function. Chronic, low-level, exogenous exposure to CO from cigarette smoking contributes to the importance of CO in pulmonary medicine. The implications of the HO-1/CO system in pulmonary diseases will be discussed in this review, with an emphasis on inflammatory states.', 'metadata': {'url': 'https://www.ncbi.nlm.nih.gov/pmc/articles/PMC193681/', 'pubmed_id': '12964953'}}\n",
            "{'_id': 'jg13scgo', 'title': 'Technical Description of RODS: A Real-time Public Health Surveillance System', 'text': 'This report describes the design and implementation of the Real-time Outbreak and Disease Surveillance (RODS) system, a computer-based public health surveillance system for early detection of disease outbreaks. Hospitals send RODS data from clinical encounters over virtual private networks and leased lines using the Health Level 7 (HL7) message protocol. The data are sent in real time. RODS automatically classifies the registration chief complaint from the visit into one of seven syndrome categories using Bayesian classifiers. It stores the data in a relational database, aggregates the data for analysis using data warehousing techniques, applies univariate and multivariate statistical detection algorithms to the data, and alerts users of when the algorithms identify anomalous patterns in the syndrome counts. RODS also has a Web-based user interface that supports temporal and spatial analyses. RODS processes sales of over-the-counter health care products in a similar manner but receives such data in batch mode on a daily basis. RODS was used during the 2002 Winter Olympics and currently operates in two states—Pennsylvania and Utah. It has been and continues to be a resource for implementing, evaluating, and applying new methods of public health surveillance.', 'metadata': {'url': 'https://academic.oup.com/jamia/article-pdf/10/5/399/2352016/10-5-399.pdf', 'pubmed_id': '12807803'}}\n"
          ]
        }
      ]
    },
    {
      "cell_type": "markdown",
      "source": [
        "## Tratamento - queries"
      ],
      "metadata": {
        "id": "_HVO93xVjDec"
      }
    },
    {
      "cell_type": "code",
      "source": [
        "queries = []\n",
        "with open('trec-covid/queries.jsonl') as fin:\n",
        "    for line in fin:\n",
        "      query = json.loads(line)\n",
        "      queries.append({'id': query['_id'], 'text': query['text']})\n",
        "\n",
        "for query in queries[:10]:\n",
        "    print(query)      "
      ],
      "metadata": {
        "colab": {
          "base_uri": "https://localhost:8080/"
        },
        "id": "Vn_xUAEuIzsn",
        "outputId": "91ef4a75-269e-4ba2-eca5-28dd39c93419"
      },
      "execution_count": null,
      "outputs": [
        {
          "output_type": "stream",
          "name": "stdout",
          "text": [
            "{'id': '1', 'text': 'what is the origin of COVID-19'}\n",
            "{'id': '2', 'text': 'how does the coronavirus respond to changes in the weather'}\n",
            "{'id': '3', 'text': 'will SARS-CoV2 infected people develop immunity? Is cross protection possible?'}\n",
            "{'id': '4', 'text': 'what causes death from Covid-19?'}\n",
            "{'id': '5', 'text': 'what drugs have been active against SARS-CoV or SARS-CoV-2 in animal studies?'}\n",
            "{'id': '6', 'text': 'what types of rapid testing for Covid-19 have been developed?'}\n",
            "{'id': '7', 'text': 'are there serological tests that detect antibodies to coronavirus?'}\n",
            "{'id': '8', 'text': 'how has lack of testing availability led to underreporting of true incidence of Covid-19?'}\n",
            "{'id': '9', 'text': 'how has COVID-19 affected Canada'}\n",
            "{'id': '10', 'text': 'has social distancing had an impact on slowing the spread of COVID-19?'}\n"
          ]
        }
      ]
    },
    {
      "cell_type": "markdown",
      "source": [
        "# Geração de 1000 queries relevantes"
      ],
      "metadata": {
        "id": "Hq6Y0k52heop"
      }
    },
    {
      "cell_type": "markdown",
      "source": [
        "## Geração randômica de índices"
      ],
      "metadata": {
        "id": "Lbwcg5eohks3"
      }
    },
    {
      "cell_type": "code",
      "source": [
        "np.random.seed(10)\n",
        "\n",
        "indexes_base = np.random.choice(len(corpus), 10000, replace=False)\n",
        "indexes = []\n",
        "i = 0\n",
        "for idx in indexes_base:\n",
        "    text = corpus[idx]['text']\n",
        "    if len(text) > 200 and len(text) < 1000 and 'the' in text:\n",
        "        indexes.append(idx)\n",
        "        i += 1\n",
        "    if i == 1000:\n",
        "        break\n",
        "assert len(indexes) == 1000\n",
        "print(indexes)"
      ],
      "metadata": {
        "colab": {
          "base_uri": "https://localhost:8080/"
        },
        "id": "1H0OEmlBLh3s",
        "outputId": "419d2692-2c97-43d6-dd02-537df6619e15"
      },
      "execution_count": 87,
      "outputs": [
        {
          "output_type": "stream",
          "name": "stdout",
          "text": [
            "[26293, 92263, 36811, 22178, 79286, 50058, 115985, 117163, 63121, 80260, 159866, 152100, 24940, 82346, 41170, 160849, 155573, 9853, 42500, 131684, 113694, 562, 93238, 148433, 132054, 121966, 157344, 36129, 156024, 132029, 112774, 22815, 8613, 164002, 139235, 161012, 12638, 76607, 119945, 50698, 21625, 154788, 17667, 14142, 64843, 159856, 101559, 77379, 128269, 169549, 94123, 166344, 31933, 1842, 124612, 78777, 119854, 87019, 47145, 46222, 119991, 126679, 34798, 118758, 133015, 100507, 134882, 168524, 39835, 66386, 71493, 32021, 119208, 149017, 160935, 96437, 6080, 168298, 170034, 135914, 157666, 165078, 160631, 22626, 109094, 162003, 40596, 124289, 21182, 160842, 80018, 144570, 116227, 153917, 78133, 24441, 49083, 84727, 115427, 141785, 5168, 168593, 62441, 116487, 131250, 80831, 146949, 88564, 8697, 26541, 72833, 107770, 165683, 72592, 61116, 150454, 45784, 68569, 127249, 129714, 113840, 147452, 168362, 22407, 21666, 124394, 128722, 167370, 30169, 13836, 30894, 129725, 154616, 148024, 85276, 129229, 123899, 112418, 127904, 153828, 122832, 114251, 119311, 164669, 55223, 31974, 16325, 114528, 48740, 165801, 116153, 117867, 111358, 148500, 125582, 164812, 1728, 163091, 15422, 40674, 164275, 26305, 158380, 7788, 60831, 153869, 157767, 26195, 73136, 134534, 41879, 132909, 152981, 73175, 73002, 53916, 73854, 43389, 21947, 118136, 134736, 170477, 158291, 35087, 96701, 75283, 103032, 118033, 125786, 69979, 30051, 89951, 68144, 32233, 98003, 75330, 44004, 103985, 171329, 6740, 134430, 117332, 126490, 106602, 142337, 80104, 134442, 25509, 152080, 129064, 82268, 72654, 51056, 161944, 122518, 128262, 42084, 16147, 25066, 108024, 140725, 161328, 32870, 160823, 112257, 133017, 19868, 128966, 149811, 151387, 137056, 74350, 66103, 169438, 157484, 128774, 7861, 156843, 165853, 150302, 117184, 76957, 108424, 51126, 6104, 20087, 44782, 13275, 141256, 162257, 25950, 130034, 162121, 126519, 123638, 110352, 45245, 140754, 21441, 155596, 18338, 65286, 163146, 157994, 50139, 41834, 2474, 98269, 24227, 171128, 41022, 83887, 133521, 96396, 163469, 119267, 67843, 160621, 134390, 105119, 21635, 14854, 113926, 79558, 30892, 119932, 129544, 35444, 25799, 153037, 142176, 71586, 23438, 143294, 15088, 153442, 34901, 43569, 124964, 151659, 40811, 67675, 77170, 27323, 151740, 26249, 140036, 106585, 148479, 24090, 26405, 105046, 48400, 160756, 170223, 87242, 31073, 129942, 106400, 23890, 84179, 148741, 25176, 30815, 78930, 156523, 101545, 92636, 82760, 28437, 112198, 159136, 114285, 156198, 161066, 136684, 128786, 113185, 88606, 65219, 79936, 100041, 42448, 83991, 123707, 163968, 162442, 20999, 95409, 15504, 136192, 25546, 84186, 144345, 51117, 128758, 106753, 143003, 55245, 67632, 125080, 150973, 106190, 31166, 33283, 58336, 62977, 41262, 80017, 90972, 88389, 83931, 85891, 53751, 133999, 64165, 18223, 166915, 35610, 91850, 41062, 72400, 36562, 122564, 23918, 11477, 59954, 122097, 125022, 117739, 23521, 34212, 92148, 15562, 123582, 53966, 126741, 96986, 78483, 144993, 79485, 138801, 27197, 25643, 54451, 24555, 137883, 91668, 125605, 104547, 153513, 15117, 74090, 5228, 126669, 39826, 97599, 8748, 6173, 120854, 111540, 67985, 28669, 138131, 25354, 146591, 107405, 94910, 122389, 84052, 71276, 67982, 146784, 87171, 139458, 43655, 125778, 7859, 139844, 158413, 127860, 49173, 64504, 74264, 149108, 165885, 56948, 156581, 98227, 48139, 140549, 28135, 145079, 118688, 139138, 131329, 139634, 8276, 150158, 25127, 125895, 39082, 31835, 46198, 93156, 152998, 161840, 150863, 150702, 40093, 133886, 114819, 41504, 1724, 156502, 141553, 150927, 134173, 160188, 68051, 77736, 105192, 29907, 113955, 67526, 30198, 80366, 165411, 67672, 164997, 7869, 122744, 99878, 10598, 86512, 106850, 47395, 24685, 103739, 99067, 85069, 14900, 169976, 119736, 122750, 4155, 77630, 88420, 153001, 45937, 23140, 22224, 40070, 126911, 117062, 123868, 72027, 160606, 123428, 118715, 166131, 140828, 148146, 12868, 166818, 89091, 162791, 66361, 54805, 39686, 37109, 96215, 37367, 139798, 14851, 131266, 20, 160141, 78932, 162881, 41150, 164757, 55078, 103854, 75634, 101920, 80321, 171022, 77776, 134221, 142780, 86782, 82159, 24416, 105851, 154868, 125006, 124489, 90667, 44528, 32807, 106622, 158900, 123106, 59463, 146188, 163315, 84557, 162815, 78232, 15723, 161657, 129053, 161360, 14556, 51054, 156573, 61546, 138322, 116714, 23904, 100775, 5896, 79983, 155070, 82992, 84369, 159629, 115468, 153419, 57941, 136481, 156801, 132457, 72895, 150632, 2592, 149693, 128280, 144705, 98805, 121764, 83045, 54243, 80894, 23236, 44891, 140490, 59650, 127041, 112306, 124071, 131455, 166187, 170348, 94547, 74771, 58326, 23515, 44016, 59608, 88063, 113676, 82831, 154022, 86900, 128995, 166647, 167749, 4932, 86628, 120517, 137886, 120242, 67143, 120894, 15607, 169226, 154632, 120871, 73476, 149015, 62349, 15924, 287, 157467, 14646, 104448, 56236, 74167, 17975, 84378, 5948, 33630, 14153, 80145, 45787, 47780, 79937, 8955, 20190, 39847, 87846, 117654, 137776, 105578, 170767, 59956, 15597, 116842, 132158, 123063, 134827, 148444, 68323, 152717, 78258, 60044, 85415, 76064, 113651, 21696, 121989, 80501, 109747, 54970, 146472, 138910, 168078, 31306, 35914, 135140, 44250, 53401, 76902, 128044, 77245, 80456, 120324, 49648, 138602, 102596, 167731, 39978, 113818, 124263, 40881, 53801, 58543, 77997, 95838, 132956, 149169, 158873, 143163, 138499, 34383, 37463, 42257, 138770, 108592, 123225, 115998, 118362, 92046, 136947, 81702, 115129, 79060, 115740, 100716, 129669, 147974, 112511, 94489, 118878, 73709, 93647, 138701, 148296, 100851, 92024, 96599, 53508, 82213, 153798, 88746, 148752, 108835, 158947, 12896, 100174, 88041, 124352, 56957, 116790, 156758, 113423, 91602, 66123, 124646, 67033, 143747, 110168, 140706, 130847, 65076, 158115, 121735, 126842, 51878, 132006, 166496, 44644, 150423, 51253, 31932, 40153, 132975, 91497, 157458, 134787, 161785, 14825, 76008, 41439, 160969, 109175, 61047, 141205, 84814, 26301, 160892, 16627, 6946, 119076, 35895, 153855, 147622, 141955, 134084, 139479, 48718, 112609, 66254, 166829, 83688, 39989, 108102, 104508, 117477, 113309, 45341, 18592, 158363, 112662, 166625, 112620, 97541, 75675, 146446, 35387, 70227, 24648, 137086, 117613, 161628, 50822, 123138, 139477, 124677, 167532, 157966, 164897, 161303, 131174, 23223, 39505, 155256, 167293, 81445, 143084, 152804, 153583, 85096, 166141, 52830, 12546, 76674, 59100, 139787, 14881, 144904, 151793, 78505, 126534, 95907, 138064, 134329, 6282, 55710, 167138, 160816, 21545, 99706, 82850, 143797, 64183, 157451, 8790, 142834, 13814, 166825, 87611, 117425, 142512, 42439, 34174, 33725, 21003, 39682, 16427, 117333, 108873, 136055, 50373, 7208, 82768, 96956, 92269, 158332, 132959, 121567, 72359, 58563, 54360, 80047, 12094, 45920, 58985, 79231, 7900, 73920, 150653, 129755, 139042, 132531, 148905, 73495, 77219, 169565, 139254, 110677, 130003, 127761, 130248, 108684, 3117, 46629, 95504, 23253, 18045, 18343, 150670, 81891, 23155, 24317, 13350, 97241, 124384, 21180, 18961, 163194, 38458, 39951, 131553, 109054, 126243, 132084, 125707, 10226, 140949, 146030, 38259, 143553, 149916, 16224, 164723, 67413, 113139, 140115, 75951, 149876, 68087, 80666, 152354, 168946, 47352, 55797, 147372, 56238, 72080, 52980, 134202, 162054, 85213, 154419, 127573, 117974, 92490, 99247, 165548, 11429, 92372, 154597, 123844, 152218, 14562, 76046, 51093, 150267, 13922, 131818, 137410, 121417, 77697, 118294, 56642, 124162, 137008, 61859, 164279, 168837, 14359, 51402, 59212, 100467, 121504, 115687, 31632]\n"
          ]
        }
      ]
    },
    {
      "cell_type": "markdown",
      "source": [
        "## Geração das queries"
      ],
      "metadata": {
        "id": "Oq9-_EbaS2PE"
      }
    },
    {
      "cell_type": "code",
      "source": [
        "with open('leonardo_pacheco_1k_generated_queries_20230501.jsonl', 'w', encoding='utf-8') as fout:\n",
        "    for i, idx in enumerate(indexes):\n",
        "        text = corpus[idx]['text']\n",
        "        prompt = f'''Based on the following text, give me exactly one query that I could use in an internet search:\n",
        "Text: Theoretically, there are several ways of preventing the common cold: quarantine, immunisation (or vaccination); early treatment of effected individuals; or physical barriers to reduce transmission.\n",
        "Query: How to prevent common cold transmission?\n",
        "\n",
        "Text: What are the results of current COVID-19 treatment trials?\n",
        "Query: The following systematic review and meta-analysis compile the current data regarding human controlled COVID-19 treatment trials. An electronic search of the literature compiled studies pertaining to human controlled treatment trials with COVID-19.\n",
        "\n",
        "Text: What FDA-approved drugs inhibit coronavirus replication in cell culture?\n",
        "Query: We have screened a library of 348 FDA-approved drugs for anti-coronaviroses activity in cell culture.\n",
        "\n",
        "Text: {text}\n",
        "Query: '''\n",
        "        #print(prompt)\n",
        "        response = openai.ChatCompletion.create(model=\"gpt-3.5-turbo\",\n",
        "                    messages=[\n",
        "                        {'role': 'system', 'content': 'You''re cataloging documents and need to associate queries with document passages.'},\n",
        "                        {'role': 'user', 'content': prompt}\n",
        "                    ],\n",
        "                    temperature=0,\n",
        "                    max_tokens=500)\n",
        "        new_doc = {'positive_doc_id': corpus[idx]['_id'], 'query': response['choices'][0]['message']['content'].strip('\"').rstrip('.')}\n",
        "        fout.write(f'{json.dumps(new_doc)}\\n')\n",
        "        if (i + 1) % 100 == 0:\n",
        "            print(f'{i+1} documentos processados')"
      ],
      "metadata": {
        "colab": {
          "base_uri": "https://localhost:8080/"
        },
        "id": "rfbbtDTxQWp8",
        "outputId": "cc40339d-c94c-4ad9-dd69-6bf347d5ae6a"
      },
      "execution_count": 131,
      "outputs": [
        {
          "output_type": "stream",
          "name": "stdout",
          "text": [
            "100 documentos processados\n",
            "200 documentos processados\n",
            "300 documentos processados\n",
            "400 documentos processados\n",
            "500 documentos processados\n",
            "600 documentos processados\n",
            "700 documentos processados\n",
            "800 documentos processados\n",
            "900 documentos processados\n",
            "1000 documentos processados\n"
          ]
        }
      ]
    },
    {
      "cell_type": "code",
      "source": [
        "!head leonardo_pacheco_1k_generated_queries_20230501.jsonl"
      ],
      "metadata": {
        "colab": {
          "base_uri": "https://localhost:8080/"
        },
        "id": "0iVybqnFQCy1",
        "outputId": "5be61305-85bb-472b-a868-a3742c1358d3"
      },
      "execution_count": 134,
      "outputs": [
        {
          "output_type": "stream",
          "name": "stdout",
          "text": [
            "{\"positive_doc_id\": \"cb63iyr2\", \"query\": \"Optimization algorithm for multi-aisle automatic storage/retrieval system scheduling\"}\n",
            "{\"positive_doc_id\": \"bh717utp\", \"query\": \"What is the basic reproduction number of the novel coronavirus outbreak in Wuhan, China?\"}\n",
            "{\"positive_doc_id\": \"4i8pepto\", \"query\": \"ABCD vaccination guidelines for cats\"}\n",
            "{\"positive_doc_id\": \"y5h942ar\", \"query\": \"How does the CLEARSY Safety Platform work for developing safety critical applications?\"}\n",
            "{\"positive_doc_id\": \"6v5niqxv\", \"query\": \"First documented case of morbillivirus infection in a wild Siberian tiger\"}\n",
            "{\"positive_doc_id\": \"4hu92j8w\", \"query\": \"How does the COVID-19 crisis affect the mental health of older adults and what measures can be taken to prevent suicide?\"}\n",
            "{\"positive_doc_id\": \"1d7umc0k\", \"query\": \"Interaction between S2 subunit protein of SARS-nCoV-2 and tumor suppressor proteins p53 and BRCA-1/2\"}\n",
            "{\"positive_doc_id\": \"x8cjyscw\", \"query\": \"Cardiovascular complications in COVID-19 patients\"}\n",
            "{\"positive_doc_id\": \"m5o29ash\", \"query\": \"A case report of perforated diverticulitis in a lumbar hernia treated with laparoscopic peritoneal lavage and sigmoid resection\"}\n",
            "{\"positive_doc_id\": \"4ugnjjec\", \"query\": \"Risk factors for aerostasis failure in surgical patients\"}\n"
          ]
        }
      ]
    },
    {
      "cell_type": "code",
      "source": [
        "!wc -l leonardo_pacheco_1k_generated_queries_20230501.jsonl"
      ],
      "metadata": {
        "id": "XXa1tRpiPIWC",
        "colab": {
          "base_uri": "https://localhost:8080/"
        },
        "outputId": "0b37f8be-e3fd-4755-e2bb-ef3b5a99b911"
      },
      "execution_count": 135,
      "outputs": [
        {
          "output_type": "stream",
          "name": "stdout",
          "text": [
            "1000 leonardo_pacheco_1k_generated_queries_20230501.jsonl\n"
          ]
        }
      ]
    },
    {
      "cell_type": "code",
      "source": [],
      "metadata": {
        "id": "mTawmilHk15f"
      },
      "execution_count": null,
      "outputs": []
    }
  ]
}