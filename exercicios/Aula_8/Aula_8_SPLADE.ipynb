{
  "nbformat": 4,
  "nbformat_minor": 0,
  "metadata": {
    "colab": {
      "provenance": [],
      "toc_visible": true,
      "authorship_tag": "ABX9TyNxJwN9lgoliBYAmEqC35HG",
      "include_colab_link": true
    },
    "kernelspec": {
      "name": "python3",
      "display_name": "Python 3"
    },
    "language_info": {
      "name": "python"
    },
    "gpuClass": "standard",
    "accelerator": "GPU",
    "widgets": {
      "application/vnd.jupyter.widget-state+json": {
        "f6f69ecfbe8046d8ba7e56c948d77d08": {
          "model_module": "@jupyter-widgets/controls",
          "model_name": "HBoxModel",
          "model_module_version": "1.5.0",
          "state": {
            "_dom_classes": [],
            "_model_module": "@jupyter-widgets/controls",
            "_model_module_version": "1.5.0",
            "_model_name": "HBoxModel",
            "_view_count": null,
            "_view_module": "@jupyter-widgets/controls",
            "_view_module_version": "1.5.0",
            "_view_name": "HBoxView",
            "box_style": "",
            "children": [
              "IPY_MODEL_97037f328e82429a96629ad897a95b0a",
              "IPY_MODEL_82c68792f0244836a6853f1ac3ee6029",
              "IPY_MODEL_c33411227ba346ca82852d830b502990"
            ],
            "layout": "IPY_MODEL_90cbc5c894854b8cbc0e7f0d0171baae"
          }
        },
        "97037f328e82429a96629ad897a95b0a": {
          "model_module": "@jupyter-widgets/controls",
          "model_name": "HTMLModel",
          "model_module_version": "1.5.0",
          "state": {
            "_dom_classes": [],
            "_model_module": "@jupyter-widgets/controls",
            "_model_module_version": "1.5.0",
            "_model_name": "HTMLModel",
            "_view_count": null,
            "_view_module": "@jupyter-widgets/controls",
            "_view_module_version": "1.5.0",
            "_view_name": "HTMLView",
            "description": "",
            "description_tooltip": null,
            "layout": "IPY_MODEL_ec7f844d7b30452b9756088d2116f162",
            "placeholder": "​",
            "style": "IPY_MODEL_959deb07b47b4e25b5e73fa37ae9579a",
            "value": "Downloading (…)okenizer_config.json: 100%"
          }
        },
        "82c68792f0244836a6853f1ac3ee6029": {
          "model_module": "@jupyter-widgets/controls",
          "model_name": "FloatProgressModel",
          "model_module_version": "1.5.0",
          "state": {
            "_dom_classes": [],
            "_model_module": "@jupyter-widgets/controls",
            "_model_module_version": "1.5.0",
            "_model_name": "FloatProgressModel",
            "_view_count": null,
            "_view_module": "@jupyter-widgets/controls",
            "_view_module_version": "1.5.0",
            "_view_name": "ProgressView",
            "bar_style": "success",
            "description": "",
            "description_tooltip": null,
            "layout": "IPY_MODEL_78d3bfde3dd64305a3a90ecbdde9b23d",
            "max": 258,
            "min": 0,
            "orientation": "horizontal",
            "style": "IPY_MODEL_9508b447530a42a88eae86a782a794ec",
            "value": 258
          }
        },
        "c33411227ba346ca82852d830b502990": {
          "model_module": "@jupyter-widgets/controls",
          "model_name": "HTMLModel",
          "model_module_version": "1.5.0",
          "state": {
            "_dom_classes": [],
            "_model_module": "@jupyter-widgets/controls",
            "_model_module_version": "1.5.0",
            "_model_name": "HTMLModel",
            "_view_count": null,
            "_view_module": "@jupyter-widgets/controls",
            "_view_module_version": "1.5.0",
            "_view_name": "HTMLView",
            "description": "",
            "description_tooltip": null,
            "layout": "IPY_MODEL_c4e3b53d2d804fe3b2094927f0843fc3",
            "placeholder": "​",
            "style": "IPY_MODEL_68e517203ad3466982346f32297359bc",
            "value": " 258/258 [00:00&lt;00:00, 3.50kB/s]"
          }
        },
        "90cbc5c894854b8cbc0e7f0d0171baae": {
          "model_module": "@jupyter-widgets/base",
          "model_name": "LayoutModel",
          "model_module_version": "1.2.0",
          "state": {
            "_model_module": "@jupyter-widgets/base",
            "_model_module_version": "1.2.0",
            "_model_name": "LayoutModel",
            "_view_count": null,
            "_view_module": "@jupyter-widgets/base",
            "_view_module_version": "1.2.0",
            "_view_name": "LayoutView",
            "align_content": null,
            "align_items": null,
            "align_self": null,
            "border": null,
            "bottom": null,
            "display": null,
            "flex": null,
            "flex_flow": null,
            "grid_area": null,
            "grid_auto_columns": null,
            "grid_auto_flow": null,
            "grid_auto_rows": null,
            "grid_column": null,
            "grid_gap": null,
            "grid_row": null,
            "grid_template_areas": null,
            "grid_template_columns": null,
            "grid_template_rows": null,
            "height": null,
            "justify_content": null,
            "justify_items": null,
            "left": null,
            "margin": null,
            "max_height": null,
            "max_width": null,
            "min_height": null,
            "min_width": null,
            "object_fit": null,
            "object_position": null,
            "order": null,
            "overflow": null,
            "overflow_x": null,
            "overflow_y": null,
            "padding": null,
            "right": null,
            "top": null,
            "visibility": null,
            "width": null
          }
        },
        "ec7f844d7b30452b9756088d2116f162": {
          "model_module": "@jupyter-widgets/base",
          "model_name": "LayoutModel",
          "model_module_version": "1.2.0",
          "state": {
            "_model_module": "@jupyter-widgets/base",
            "_model_module_version": "1.2.0",
            "_model_name": "LayoutModel",
            "_view_count": null,
            "_view_module": "@jupyter-widgets/base",
            "_view_module_version": "1.2.0",
            "_view_name": "LayoutView",
            "align_content": null,
            "align_items": null,
            "align_self": null,
            "border": null,
            "bottom": null,
            "display": null,
            "flex": null,
            "flex_flow": null,
            "grid_area": null,
            "grid_auto_columns": null,
            "grid_auto_flow": null,
            "grid_auto_rows": null,
            "grid_column": null,
            "grid_gap": null,
            "grid_row": null,
            "grid_template_areas": null,
            "grid_template_columns": null,
            "grid_template_rows": null,
            "height": null,
            "justify_content": null,
            "justify_items": null,
            "left": null,
            "margin": null,
            "max_height": null,
            "max_width": null,
            "min_height": null,
            "min_width": null,
            "object_fit": null,
            "object_position": null,
            "order": null,
            "overflow": null,
            "overflow_x": null,
            "overflow_y": null,
            "padding": null,
            "right": null,
            "top": null,
            "visibility": null,
            "width": null
          }
        },
        "959deb07b47b4e25b5e73fa37ae9579a": {
          "model_module": "@jupyter-widgets/controls",
          "model_name": "DescriptionStyleModel",
          "model_module_version": "1.5.0",
          "state": {
            "_model_module": "@jupyter-widgets/controls",
            "_model_module_version": "1.5.0",
            "_model_name": "DescriptionStyleModel",
            "_view_count": null,
            "_view_module": "@jupyter-widgets/base",
            "_view_module_version": "1.2.0",
            "_view_name": "StyleView",
            "description_width": ""
          }
        },
        "78d3bfde3dd64305a3a90ecbdde9b23d": {
          "model_module": "@jupyter-widgets/base",
          "model_name": "LayoutModel",
          "model_module_version": "1.2.0",
          "state": {
            "_model_module": "@jupyter-widgets/base",
            "_model_module_version": "1.2.0",
            "_model_name": "LayoutModel",
            "_view_count": null,
            "_view_module": "@jupyter-widgets/base",
            "_view_module_version": "1.2.0",
            "_view_name": "LayoutView",
            "align_content": null,
            "align_items": null,
            "align_self": null,
            "border": null,
            "bottom": null,
            "display": null,
            "flex": null,
            "flex_flow": null,
            "grid_area": null,
            "grid_auto_columns": null,
            "grid_auto_flow": null,
            "grid_auto_rows": null,
            "grid_column": null,
            "grid_gap": null,
            "grid_row": null,
            "grid_template_areas": null,
            "grid_template_columns": null,
            "grid_template_rows": null,
            "height": null,
            "justify_content": null,
            "justify_items": null,
            "left": null,
            "margin": null,
            "max_height": null,
            "max_width": null,
            "min_height": null,
            "min_width": null,
            "object_fit": null,
            "object_position": null,
            "order": null,
            "overflow": null,
            "overflow_x": null,
            "overflow_y": null,
            "padding": null,
            "right": null,
            "top": null,
            "visibility": null,
            "width": null
          }
        },
        "9508b447530a42a88eae86a782a794ec": {
          "model_module": "@jupyter-widgets/controls",
          "model_name": "ProgressStyleModel",
          "model_module_version": "1.5.0",
          "state": {
            "_model_module": "@jupyter-widgets/controls",
            "_model_module_version": "1.5.0",
            "_model_name": "ProgressStyleModel",
            "_view_count": null,
            "_view_module": "@jupyter-widgets/base",
            "_view_module_version": "1.2.0",
            "_view_name": "StyleView",
            "bar_color": null,
            "description_width": ""
          }
        },
        "c4e3b53d2d804fe3b2094927f0843fc3": {
          "model_module": "@jupyter-widgets/base",
          "model_name": "LayoutModel",
          "model_module_version": "1.2.0",
          "state": {
            "_model_module": "@jupyter-widgets/base",
            "_model_module_version": "1.2.0",
            "_model_name": "LayoutModel",
            "_view_count": null,
            "_view_module": "@jupyter-widgets/base",
            "_view_module_version": "1.2.0",
            "_view_name": "LayoutView",
            "align_content": null,
            "align_items": null,
            "align_self": null,
            "border": null,
            "bottom": null,
            "display": null,
            "flex": null,
            "flex_flow": null,
            "grid_area": null,
            "grid_auto_columns": null,
            "grid_auto_flow": null,
            "grid_auto_rows": null,
            "grid_column": null,
            "grid_gap": null,
            "grid_row": null,
            "grid_template_areas": null,
            "grid_template_columns": null,
            "grid_template_rows": null,
            "height": null,
            "justify_content": null,
            "justify_items": null,
            "left": null,
            "margin": null,
            "max_height": null,
            "max_width": null,
            "min_height": null,
            "min_width": null,
            "object_fit": null,
            "object_position": null,
            "order": null,
            "overflow": null,
            "overflow_x": null,
            "overflow_y": null,
            "padding": null,
            "right": null,
            "top": null,
            "visibility": null,
            "width": null
          }
        },
        "68e517203ad3466982346f32297359bc": {
          "model_module": "@jupyter-widgets/controls",
          "model_name": "DescriptionStyleModel",
          "model_module_version": "1.5.0",
          "state": {
            "_model_module": "@jupyter-widgets/controls",
            "_model_module_version": "1.5.0",
            "_model_name": "DescriptionStyleModel",
            "_view_count": null,
            "_view_module": "@jupyter-widgets/base",
            "_view_module_version": "1.2.0",
            "_view_name": "StyleView",
            "description_width": ""
          }
        },
        "846b3a986573437a83fe79db168c7fc7": {
          "model_module": "@jupyter-widgets/controls",
          "model_name": "HBoxModel",
          "model_module_version": "1.5.0",
          "state": {
            "_dom_classes": [],
            "_model_module": "@jupyter-widgets/controls",
            "_model_module_version": "1.5.0",
            "_model_name": "HBoxModel",
            "_view_count": null,
            "_view_module": "@jupyter-widgets/controls",
            "_view_module_version": "1.5.0",
            "_view_name": "HBoxView",
            "box_style": "",
            "children": [
              "IPY_MODEL_ba9b7be784444b45ab4badbcadd49ac1",
              "IPY_MODEL_9b45946a404b4cb897ad3ae0214df339",
              "IPY_MODEL_6e19166429c44656992512a13676734a"
            ],
            "layout": "IPY_MODEL_a012ca86a1eb4e97a89987d43ca54335"
          }
        },
        "ba9b7be784444b45ab4badbcadd49ac1": {
          "model_module": "@jupyter-widgets/controls",
          "model_name": "HTMLModel",
          "model_module_version": "1.5.0",
          "state": {
            "_dom_classes": [],
            "_model_module": "@jupyter-widgets/controls",
            "_model_module_version": "1.5.0",
            "_model_name": "HTMLModel",
            "_view_count": null,
            "_view_module": "@jupyter-widgets/controls",
            "_view_module_version": "1.5.0",
            "_view_name": "HTMLView",
            "description": "",
            "description_tooltip": null,
            "layout": "IPY_MODEL_591af4cacdeb447fae84ec590e535f52",
            "placeholder": "​",
            "style": "IPY_MODEL_f55ba46570f2406da6abc0b5d1493a44",
            "value": "Downloading (…)lve/main/config.json: 100%"
          }
        },
        "9b45946a404b4cb897ad3ae0214df339": {
          "model_module": "@jupyter-widgets/controls",
          "model_name": "FloatProgressModel",
          "model_module_version": "1.5.0",
          "state": {
            "_dom_classes": [],
            "_model_module": "@jupyter-widgets/controls",
            "_model_module_version": "1.5.0",
            "_model_name": "FloatProgressModel",
            "_view_count": null,
            "_view_module": "@jupyter-widgets/controls",
            "_view_module_version": "1.5.0",
            "_view_name": "ProgressView",
            "bar_style": "success",
            "description": "",
            "description_tooltip": null,
            "layout": "IPY_MODEL_0f78340d5d5142e7abefbe253d7714ef",
            "max": 523,
            "min": 0,
            "orientation": "horizontal",
            "style": "IPY_MODEL_1a8855065737424189d865a8725f4a07",
            "value": 523
          }
        },
        "6e19166429c44656992512a13676734a": {
          "model_module": "@jupyter-widgets/controls",
          "model_name": "HTMLModel",
          "model_module_version": "1.5.0",
          "state": {
            "_dom_classes": [],
            "_model_module": "@jupyter-widgets/controls",
            "_model_module_version": "1.5.0",
            "_model_name": "HTMLModel",
            "_view_count": null,
            "_view_module": "@jupyter-widgets/controls",
            "_view_module_version": "1.5.0",
            "_view_name": "HTMLView",
            "description": "",
            "description_tooltip": null,
            "layout": "IPY_MODEL_339512e684084b28b52105d5c7469981",
            "placeholder": "​",
            "style": "IPY_MODEL_12995ca50b194881814cb2638dd9fd43",
            "value": " 523/523 [00:00&lt;00:00, 12.6kB/s]"
          }
        },
        "a012ca86a1eb4e97a89987d43ca54335": {
          "model_module": "@jupyter-widgets/base",
          "model_name": "LayoutModel",
          "model_module_version": "1.2.0",
          "state": {
            "_model_module": "@jupyter-widgets/base",
            "_model_module_version": "1.2.0",
            "_model_name": "LayoutModel",
            "_view_count": null,
            "_view_module": "@jupyter-widgets/base",
            "_view_module_version": "1.2.0",
            "_view_name": "LayoutView",
            "align_content": null,
            "align_items": null,
            "align_self": null,
            "border": null,
            "bottom": null,
            "display": null,
            "flex": null,
            "flex_flow": null,
            "grid_area": null,
            "grid_auto_columns": null,
            "grid_auto_flow": null,
            "grid_auto_rows": null,
            "grid_column": null,
            "grid_gap": null,
            "grid_row": null,
            "grid_template_areas": null,
            "grid_template_columns": null,
            "grid_template_rows": null,
            "height": null,
            "justify_content": null,
            "justify_items": null,
            "left": null,
            "margin": null,
            "max_height": null,
            "max_width": null,
            "min_height": null,
            "min_width": null,
            "object_fit": null,
            "object_position": null,
            "order": null,
            "overflow": null,
            "overflow_x": null,
            "overflow_y": null,
            "padding": null,
            "right": null,
            "top": null,
            "visibility": null,
            "width": null
          }
        },
        "591af4cacdeb447fae84ec590e535f52": {
          "model_module": "@jupyter-widgets/base",
          "model_name": "LayoutModel",
          "model_module_version": "1.2.0",
          "state": {
            "_model_module": "@jupyter-widgets/base",
            "_model_module_version": "1.2.0",
            "_model_name": "LayoutModel",
            "_view_count": null,
            "_view_module": "@jupyter-widgets/base",
            "_view_module_version": "1.2.0",
            "_view_name": "LayoutView",
            "align_content": null,
            "align_items": null,
            "align_self": null,
            "border": null,
            "bottom": null,
            "display": null,
            "flex": null,
            "flex_flow": null,
            "grid_area": null,
            "grid_auto_columns": null,
            "grid_auto_flow": null,
            "grid_auto_rows": null,
            "grid_column": null,
            "grid_gap": null,
            "grid_row": null,
            "grid_template_areas": null,
            "grid_template_columns": null,
            "grid_template_rows": null,
            "height": null,
            "justify_content": null,
            "justify_items": null,
            "left": null,
            "margin": null,
            "max_height": null,
            "max_width": null,
            "min_height": null,
            "min_width": null,
            "object_fit": null,
            "object_position": null,
            "order": null,
            "overflow": null,
            "overflow_x": null,
            "overflow_y": null,
            "padding": null,
            "right": null,
            "top": null,
            "visibility": null,
            "width": null
          }
        },
        "f55ba46570f2406da6abc0b5d1493a44": {
          "model_module": "@jupyter-widgets/controls",
          "model_name": "DescriptionStyleModel",
          "model_module_version": "1.5.0",
          "state": {
            "_model_module": "@jupyter-widgets/controls",
            "_model_module_version": "1.5.0",
            "_model_name": "DescriptionStyleModel",
            "_view_count": null,
            "_view_module": "@jupyter-widgets/base",
            "_view_module_version": "1.2.0",
            "_view_name": "StyleView",
            "description_width": ""
          }
        },
        "0f78340d5d5142e7abefbe253d7714ef": {
          "model_module": "@jupyter-widgets/base",
          "model_name": "LayoutModel",
          "model_module_version": "1.2.0",
          "state": {
            "_model_module": "@jupyter-widgets/base",
            "_model_module_version": "1.2.0",
            "_model_name": "LayoutModel",
            "_view_count": null,
            "_view_module": "@jupyter-widgets/base",
            "_view_module_version": "1.2.0",
            "_view_name": "LayoutView",
            "align_content": null,
            "align_items": null,
            "align_self": null,
            "border": null,
            "bottom": null,
            "display": null,
            "flex": null,
            "flex_flow": null,
            "grid_area": null,
            "grid_auto_columns": null,
            "grid_auto_flow": null,
            "grid_auto_rows": null,
            "grid_column": null,
            "grid_gap": null,
            "grid_row": null,
            "grid_template_areas": null,
            "grid_template_columns": null,
            "grid_template_rows": null,
            "height": null,
            "justify_content": null,
            "justify_items": null,
            "left": null,
            "margin": null,
            "max_height": null,
            "max_width": null,
            "min_height": null,
            "min_width": null,
            "object_fit": null,
            "object_position": null,
            "order": null,
            "overflow": null,
            "overflow_x": null,
            "overflow_y": null,
            "padding": null,
            "right": null,
            "top": null,
            "visibility": null,
            "width": null
          }
        },
        "1a8855065737424189d865a8725f4a07": {
          "model_module": "@jupyter-widgets/controls",
          "model_name": "ProgressStyleModel",
          "model_module_version": "1.5.0",
          "state": {
            "_model_module": "@jupyter-widgets/controls",
            "_model_module_version": "1.5.0",
            "_model_name": "ProgressStyleModel",
            "_view_count": null,
            "_view_module": "@jupyter-widgets/base",
            "_view_module_version": "1.2.0",
            "_view_name": "StyleView",
            "bar_color": null,
            "description_width": ""
          }
        },
        "339512e684084b28b52105d5c7469981": {
          "model_module": "@jupyter-widgets/base",
          "model_name": "LayoutModel",
          "model_module_version": "1.2.0",
          "state": {
            "_model_module": "@jupyter-widgets/base",
            "_model_module_version": "1.2.0",
            "_model_name": "LayoutModel",
            "_view_count": null,
            "_view_module": "@jupyter-widgets/base",
            "_view_module_version": "1.2.0",
            "_view_name": "LayoutView",
            "align_content": null,
            "align_items": null,
            "align_self": null,
            "border": null,
            "bottom": null,
            "display": null,
            "flex": null,
            "flex_flow": null,
            "grid_area": null,
            "grid_auto_columns": null,
            "grid_auto_flow": null,
            "grid_auto_rows": null,
            "grid_column": null,
            "grid_gap": null,
            "grid_row": null,
            "grid_template_areas": null,
            "grid_template_columns": null,
            "grid_template_rows": null,
            "height": null,
            "justify_content": null,
            "justify_items": null,
            "left": null,
            "margin": null,
            "max_height": null,
            "max_width": null,
            "min_height": null,
            "min_width": null,
            "object_fit": null,
            "object_position": null,
            "order": null,
            "overflow": null,
            "overflow_x": null,
            "overflow_y": null,
            "padding": null,
            "right": null,
            "top": null,
            "visibility": null,
            "width": null
          }
        },
        "12995ca50b194881814cb2638dd9fd43": {
          "model_module": "@jupyter-widgets/controls",
          "model_name": "DescriptionStyleModel",
          "model_module_version": "1.5.0",
          "state": {
            "_model_module": "@jupyter-widgets/controls",
            "_model_module_version": "1.5.0",
            "_model_name": "DescriptionStyleModel",
            "_view_count": null,
            "_view_module": "@jupyter-widgets/base",
            "_view_module_version": "1.2.0",
            "_view_name": "StyleView",
            "description_width": ""
          }
        },
        "ad745fd507934b7f81ba9018aeefa04b": {
          "model_module": "@jupyter-widgets/controls",
          "model_name": "HBoxModel",
          "model_module_version": "1.5.0",
          "state": {
            "_dom_classes": [],
            "_model_module": "@jupyter-widgets/controls",
            "_model_module_version": "1.5.0",
            "_model_name": "HBoxModel",
            "_view_count": null,
            "_view_module": "@jupyter-widgets/controls",
            "_view_module_version": "1.5.0",
            "_view_name": "HBoxView",
            "box_style": "",
            "children": [
              "IPY_MODEL_b7d0071c93a14eb995f63fd4796deff8",
              "IPY_MODEL_1b27140234224df895e744f401ac5e12",
              "IPY_MODEL_cca734935a9c407882492ae336405e11"
            ],
            "layout": "IPY_MODEL_5f899a72ef054809a54f486076a62d93"
          }
        },
        "b7d0071c93a14eb995f63fd4796deff8": {
          "model_module": "@jupyter-widgets/controls",
          "model_name": "HTMLModel",
          "model_module_version": "1.5.0",
          "state": {
            "_dom_classes": [],
            "_model_module": "@jupyter-widgets/controls",
            "_model_module_version": "1.5.0",
            "_model_name": "HTMLModel",
            "_view_count": null,
            "_view_module": "@jupyter-widgets/controls",
            "_view_module_version": "1.5.0",
            "_view_name": "HTMLView",
            "description": "",
            "description_tooltip": null,
            "layout": "IPY_MODEL_d4b9f6dc2d4c4f19bc4d15685fdd1b6f",
            "placeholder": "​",
            "style": "IPY_MODEL_9e533cbf1e5248959f73f0a1bd20127f",
            "value": "Downloading (…)solve/main/vocab.txt: 100%"
          }
        },
        "1b27140234224df895e744f401ac5e12": {
          "model_module": "@jupyter-widgets/controls",
          "model_name": "FloatProgressModel",
          "model_module_version": "1.5.0",
          "state": {
            "_dom_classes": [],
            "_model_module": "@jupyter-widgets/controls",
            "_model_module_version": "1.5.0",
            "_model_name": "FloatProgressModel",
            "_view_count": null,
            "_view_module": "@jupyter-widgets/controls",
            "_view_module_version": "1.5.0",
            "_view_name": "ProgressView",
            "bar_style": "success",
            "description": "",
            "description_tooltip": null,
            "layout": "IPY_MODEL_031ee7a59b534bb09dbce1077f54841f",
            "max": 231508,
            "min": 0,
            "orientation": "horizontal",
            "style": "IPY_MODEL_447ec9beff7145888100ffaa563d5b84",
            "value": 231508
          }
        },
        "cca734935a9c407882492ae336405e11": {
          "model_module": "@jupyter-widgets/controls",
          "model_name": "HTMLModel",
          "model_module_version": "1.5.0",
          "state": {
            "_dom_classes": [],
            "_model_module": "@jupyter-widgets/controls",
            "_model_module_version": "1.5.0",
            "_model_name": "HTMLModel",
            "_view_count": null,
            "_view_module": "@jupyter-widgets/controls",
            "_view_module_version": "1.5.0",
            "_view_name": "HTMLView",
            "description": "",
            "description_tooltip": null,
            "layout": "IPY_MODEL_b551f6f135d8437b8b9b4e991dbcd03a",
            "placeholder": "​",
            "style": "IPY_MODEL_650a9636097d4233bd71c5cbfa13c48f",
            "value": " 232k/232k [00:00&lt;00:00, 2.87MB/s]"
          }
        },
        "5f899a72ef054809a54f486076a62d93": {
          "model_module": "@jupyter-widgets/base",
          "model_name": "LayoutModel",
          "model_module_version": "1.2.0",
          "state": {
            "_model_module": "@jupyter-widgets/base",
            "_model_module_version": "1.2.0",
            "_model_name": "LayoutModel",
            "_view_count": null,
            "_view_module": "@jupyter-widgets/base",
            "_view_module_version": "1.2.0",
            "_view_name": "LayoutView",
            "align_content": null,
            "align_items": null,
            "align_self": null,
            "border": null,
            "bottom": null,
            "display": null,
            "flex": null,
            "flex_flow": null,
            "grid_area": null,
            "grid_auto_columns": null,
            "grid_auto_flow": null,
            "grid_auto_rows": null,
            "grid_column": null,
            "grid_gap": null,
            "grid_row": null,
            "grid_template_areas": null,
            "grid_template_columns": null,
            "grid_template_rows": null,
            "height": null,
            "justify_content": null,
            "justify_items": null,
            "left": null,
            "margin": null,
            "max_height": null,
            "max_width": null,
            "min_height": null,
            "min_width": null,
            "object_fit": null,
            "object_position": null,
            "order": null,
            "overflow": null,
            "overflow_x": null,
            "overflow_y": null,
            "padding": null,
            "right": null,
            "top": null,
            "visibility": null,
            "width": null
          }
        },
        "d4b9f6dc2d4c4f19bc4d15685fdd1b6f": {
          "model_module": "@jupyter-widgets/base",
          "model_name": "LayoutModel",
          "model_module_version": "1.2.0",
          "state": {
            "_model_module": "@jupyter-widgets/base",
            "_model_module_version": "1.2.0",
            "_model_name": "LayoutModel",
            "_view_count": null,
            "_view_module": "@jupyter-widgets/base",
            "_view_module_version": "1.2.0",
            "_view_name": "LayoutView",
            "align_content": null,
            "align_items": null,
            "align_self": null,
            "border": null,
            "bottom": null,
            "display": null,
            "flex": null,
            "flex_flow": null,
            "grid_area": null,
            "grid_auto_columns": null,
            "grid_auto_flow": null,
            "grid_auto_rows": null,
            "grid_column": null,
            "grid_gap": null,
            "grid_row": null,
            "grid_template_areas": null,
            "grid_template_columns": null,
            "grid_template_rows": null,
            "height": null,
            "justify_content": null,
            "justify_items": null,
            "left": null,
            "margin": null,
            "max_height": null,
            "max_width": null,
            "min_height": null,
            "min_width": null,
            "object_fit": null,
            "object_position": null,
            "order": null,
            "overflow": null,
            "overflow_x": null,
            "overflow_y": null,
            "padding": null,
            "right": null,
            "top": null,
            "visibility": null,
            "width": null
          }
        },
        "9e533cbf1e5248959f73f0a1bd20127f": {
          "model_module": "@jupyter-widgets/controls",
          "model_name": "DescriptionStyleModel",
          "model_module_version": "1.5.0",
          "state": {
            "_model_module": "@jupyter-widgets/controls",
            "_model_module_version": "1.5.0",
            "_model_name": "DescriptionStyleModel",
            "_view_count": null,
            "_view_module": "@jupyter-widgets/base",
            "_view_module_version": "1.2.0",
            "_view_name": "StyleView",
            "description_width": ""
          }
        },
        "031ee7a59b534bb09dbce1077f54841f": {
          "model_module": "@jupyter-widgets/base",
          "model_name": "LayoutModel",
          "model_module_version": "1.2.0",
          "state": {
            "_model_module": "@jupyter-widgets/base",
            "_model_module_version": "1.2.0",
            "_model_name": "LayoutModel",
            "_view_count": null,
            "_view_module": "@jupyter-widgets/base",
            "_view_module_version": "1.2.0",
            "_view_name": "LayoutView",
            "align_content": null,
            "align_items": null,
            "align_self": null,
            "border": null,
            "bottom": null,
            "display": null,
            "flex": null,
            "flex_flow": null,
            "grid_area": null,
            "grid_auto_columns": null,
            "grid_auto_flow": null,
            "grid_auto_rows": null,
            "grid_column": null,
            "grid_gap": null,
            "grid_row": null,
            "grid_template_areas": null,
            "grid_template_columns": null,
            "grid_template_rows": null,
            "height": null,
            "justify_content": null,
            "justify_items": null,
            "left": null,
            "margin": null,
            "max_height": null,
            "max_width": null,
            "min_height": null,
            "min_width": null,
            "object_fit": null,
            "object_position": null,
            "order": null,
            "overflow": null,
            "overflow_x": null,
            "overflow_y": null,
            "padding": null,
            "right": null,
            "top": null,
            "visibility": null,
            "width": null
          }
        },
        "447ec9beff7145888100ffaa563d5b84": {
          "model_module": "@jupyter-widgets/controls",
          "model_name": "ProgressStyleModel",
          "model_module_version": "1.5.0",
          "state": {
            "_model_module": "@jupyter-widgets/controls",
            "_model_module_version": "1.5.0",
            "_model_name": "ProgressStyleModel",
            "_view_count": null,
            "_view_module": "@jupyter-widgets/base",
            "_view_module_version": "1.2.0",
            "_view_name": "StyleView",
            "bar_color": null,
            "description_width": ""
          }
        },
        "b551f6f135d8437b8b9b4e991dbcd03a": {
          "model_module": "@jupyter-widgets/base",
          "model_name": "LayoutModel",
          "model_module_version": "1.2.0",
          "state": {
            "_model_module": "@jupyter-widgets/base",
            "_model_module_version": "1.2.0",
            "_model_name": "LayoutModel",
            "_view_count": null,
            "_view_module": "@jupyter-widgets/base",
            "_view_module_version": "1.2.0",
            "_view_name": "LayoutView",
            "align_content": null,
            "align_items": null,
            "align_self": null,
            "border": null,
            "bottom": null,
            "display": null,
            "flex": null,
            "flex_flow": null,
            "grid_area": null,
            "grid_auto_columns": null,
            "grid_auto_flow": null,
            "grid_auto_rows": null,
            "grid_column": null,
            "grid_gap": null,
            "grid_row": null,
            "grid_template_areas": null,
            "grid_template_columns": null,
            "grid_template_rows": null,
            "height": null,
            "justify_content": null,
            "justify_items": null,
            "left": null,
            "margin": null,
            "max_height": null,
            "max_width": null,
            "min_height": null,
            "min_width": null,
            "object_fit": null,
            "object_position": null,
            "order": null,
            "overflow": null,
            "overflow_x": null,
            "overflow_y": null,
            "padding": null,
            "right": null,
            "top": null,
            "visibility": null,
            "width": null
          }
        },
        "650a9636097d4233bd71c5cbfa13c48f": {
          "model_module": "@jupyter-widgets/controls",
          "model_name": "DescriptionStyleModel",
          "model_module_version": "1.5.0",
          "state": {
            "_model_module": "@jupyter-widgets/controls",
            "_model_module_version": "1.5.0",
            "_model_name": "DescriptionStyleModel",
            "_view_count": null,
            "_view_module": "@jupyter-widgets/base",
            "_view_module_version": "1.2.0",
            "_view_name": "StyleView",
            "description_width": ""
          }
        },
        "e4414ee5b14d43319d5465a177503676": {
          "model_module": "@jupyter-widgets/controls",
          "model_name": "HBoxModel",
          "model_module_version": "1.5.0",
          "state": {
            "_dom_classes": [],
            "_model_module": "@jupyter-widgets/controls",
            "_model_module_version": "1.5.0",
            "_model_name": "HBoxModel",
            "_view_count": null,
            "_view_module": "@jupyter-widgets/controls",
            "_view_module_version": "1.5.0",
            "_view_name": "HBoxView",
            "box_style": "",
            "children": [
              "IPY_MODEL_e0773c2e9528447a933b5f78d89d4a58",
              "IPY_MODEL_e2c58936552746ef9b4f3304d243971c",
              "IPY_MODEL_5f40d9a133314f6297b4f25f051c90a1"
            ],
            "layout": "IPY_MODEL_9fc448ea570e4d70ba23d1805981c074"
          }
        },
        "e0773c2e9528447a933b5f78d89d4a58": {
          "model_module": "@jupyter-widgets/controls",
          "model_name": "HTMLModel",
          "model_module_version": "1.5.0",
          "state": {
            "_dom_classes": [],
            "_model_module": "@jupyter-widgets/controls",
            "_model_module_version": "1.5.0",
            "_model_name": "HTMLModel",
            "_view_count": null,
            "_view_module": "@jupyter-widgets/controls",
            "_view_module_version": "1.5.0",
            "_view_name": "HTMLView",
            "description": "",
            "description_tooltip": null,
            "layout": "IPY_MODEL_49c88a7438d8423cb780c452bc084091",
            "placeholder": "​",
            "style": "IPY_MODEL_e27b868e89b4465c8c680d262580a2d7",
            "value": "Downloading (…)cial_tokens_map.json: 100%"
          }
        },
        "e2c58936552746ef9b4f3304d243971c": {
          "model_module": "@jupyter-widgets/controls",
          "model_name": "FloatProgressModel",
          "model_module_version": "1.5.0",
          "state": {
            "_dom_classes": [],
            "_model_module": "@jupyter-widgets/controls",
            "_model_module_version": "1.5.0",
            "_model_name": "FloatProgressModel",
            "_view_count": null,
            "_view_module": "@jupyter-widgets/controls",
            "_view_module_version": "1.5.0",
            "_view_name": "ProgressView",
            "bar_style": "success",
            "description": "",
            "description_tooltip": null,
            "layout": "IPY_MODEL_c7b5061917244103b1f881a9e93a0623",
            "max": 112,
            "min": 0,
            "orientation": "horizontal",
            "style": "IPY_MODEL_3fc679799b624b148964be3e6e1ff723",
            "value": 112
          }
        },
        "5f40d9a133314f6297b4f25f051c90a1": {
          "model_module": "@jupyter-widgets/controls",
          "model_name": "HTMLModel",
          "model_module_version": "1.5.0",
          "state": {
            "_dom_classes": [],
            "_model_module": "@jupyter-widgets/controls",
            "_model_module_version": "1.5.0",
            "_model_name": "HTMLModel",
            "_view_count": null,
            "_view_module": "@jupyter-widgets/controls",
            "_view_module_version": "1.5.0",
            "_view_name": "HTMLView",
            "description": "",
            "description_tooltip": null,
            "layout": "IPY_MODEL_6efddc62cc6145fa95f63a0ae240e5ae",
            "placeholder": "​",
            "style": "IPY_MODEL_1b0de692795749f5a72816262b2ee8f7",
            "value": " 112/112 [00:00&lt;00:00, 4.12kB/s]"
          }
        },
        "9fc448ea570e4d70ba23d1805981c074": {
          "model_module": "@jupyter-widgets/base",
          "model_name": "LayoutModel",
          "model_module_version": "1.2.0",
          "state": {
            "_model_module": "@jupyter-widgets/base",
            "_model_module_version": "1.2.0",
            "_model_name": "LayoutModel",
            "_view_count": null,
            "_view_module": "@jupyter-widgets/base",
            "_view_module_version": "1.2.0",
            "_view_name": "LayoutView",
            "align_content": null,
            "align_items": null,
            "align_self": null,
            "border": null,
            "bottom": null,
            "display": null,
            "flex": null,
            "flex_flow": null,
            "grid_area": null,
            "grid_auto_columns": null,
            "grid_auto_flow": null,
            "grid_auto_rows": null,
            "grid_column": null,
            "grid_gap": null,
            "grid_row": null,
            "grid_template_areas": null,
            "grid_template_columns": null,
            "grid_template_rows": null,
            "height": null,
            "justify_content": null,
            "justify_items": null,
            "left": null,
            "margin": null,
            "max_height": null,
            "max_width": null,
            "min_height": null,
            "min_width": null,
            "object_fit": null,
            "object_position": null,
            "order": null,
            "overflow": null,
            "overflow_x": null,
            "overflow_y": null,
            "padding": null,
            "right": null,
            "top": null,
            "visibility": null,
            "width": null
          }
        },
        "49c88a7438d8423cb780c452bc084091": {
          "model_module": "@jupyter-widgets/base",
          "model_name": "LayoutModel",
          "model_module_version": "1.2.0",
          "state": {
            "_model_module": "@jupyter-widgets/base",
            "_model_module_version": "1.2.0",
            "_model_name": "LayoutModel",
            "_view_count": null,
            "_view_module": "@jupyter-widgets/base",
            "_view_module_version": "1.2.0",
            "_view_name": "LayoutView",
            "align_content": null,
            "align_items": null,
            "align_self": null,
            "border": null,
            "bottom": null,
            "display": null,
            "flex": null,
            "flex_flow": null,
            "grid_area": null,
            "grid_auto_columns": null,
            "grid_auto_flow": null,
            "grid_auto_rows": null,
            "grid_column": null,
            "grid_gap": null,
            "grid_row": null,
            "grid_template_areas": null,
            "grid_template_columns": null,
            "grid_template_rows": null,
            "height": null,
            "justify_content": null,
            "justify_items": null,
            "left": null,
            "margin": null,
            "max_height": null,
            "max_width": null,
            "min_height": null,
            "min_width": null,
            "object_fit": null,
            "object_position": null,
            "order": null,
            "overflow": null,
            "overflow_x": null,
            "overflow_y": null,
            "padding": null,
            "right": null,
            "top": null,
            "visibility": null,
            "width": null
          }
        },
        "e27b868e89b4465c8c680d262580a2d7": {
          "model_module": "@jupyter-widgets/controls",
          "model_name": "DescriptionStyleModel",
          "model_module_version": "1.5.0",
          "state": {
            "_model_module": "@jupyter-widgets/controls",
            "_model_module_version": "1.5.0",
            "_model_name": "DescriptionStyleModel",
            "_view_count": null,
            "_view_module": "@jupyter-widgets/base",
            "_view_module_version": "1.2.0",
            "_view_name": "StyleView",
            "description_width": ""
          }
        },
        "c7b5061917244103b1f881a9e93a0623": {
          "model_module": "@jupyter-widgets/base",
          "model_name": "LayoutModel",
          "model_module_version": "1.2.0",
          "state": {
            "_model_module": "@jupyter-widgets/base",
            "_model_module_version": "1.2.0",
            "_model_name": "LayoutModel",
            "_view_count": null,
            "_view_module": "@jupyter-widgets/base",
            "_view_module_version": "1.2.0",
            "_view_name": "LayoutView",
            "align_content": null,
            "align_items": null,
            "align_self": null,
            "border": null,
            "bottom": null,
            "display": null,
            "flex": null,
            "flex_flow": null,
            "grid_area": null,
            "grid_auto_columns": null,
            "grid_auto_flow": null,
            "grid_auto_rows": null,
            "grid_column": null,
            "grid_gap": null,
            "grid_row": null,
            "grid_template_areas": null,
            "grid_template_columns": null,
            "grid_template_rows": null,
            "height": null,
            "justify_content": null,
            "justify_items": null,
            "left": null,
            "margin": null,
            "max_height": null,
            "max_width": null,
            "min_height": null,
            "min_width": null,
            "object_fit": null,
            "object_position": null,
            "order": null,
            "overflow": null,
            "overflow_x": null,
            "overflow_y": null,
            "padding": null,
            "right": null,
            "top": null,
            "visibility": null,
            "width": null
          }
        },
        "3fc679799b624b148964be3e6e1ff723": {
          "model_module": "@jupyter-widgets/controls",
          "model_name": "ProgressStyleModel",
          "model_module_version": "1.5.0",
          "state": {
            "_model_module": "@jupyter-widgets/controls",
            "_model_module_version": "1.5.0",
            "_model_name": "ProgressStyleModel",
            "_view_count": null,
            "_view_module": "@jupyter-widgets/base",
            "_view_module_version": "1.2.0",
            "_view_name": "StyleView",
            "bar_color": null,
            "description_width": ""
          }
        },
        "6efddc62cc6145fa95f63a0ae240e5ae": {
          "model_module": "@jupyter-widgets/base",
          "model_name": "LayoutModel",
          "model_module_version": "1.2.0",
          "state": {
            "_model_module": "@jupyter-widgets/base",
            "_model_module_version": "1.2.0",
            "_model_name": "LayoutModel",
            "_view_count": null,
            "_view_module": "@jupyter-widgets/base",
            "_view_module_version": "1.2.0",
            "_view_name": "LayoutView",
            "align_content": null,
            "align_items": null,
            "align_self": null,
            "border": null,
            "bottom": null,
            "display": null,
            "flex": null,
            "flex_flow": null,
            "grid_area": null,
            "grid_auto_columns": null,
            "grid_auto_flow": null,
            "grid_auto_rows": null,
            "grid_column": null,
            "grid_gap": null,
            "grid_row": null,
            "grid_template_areas": null,
            "grid_template_columns": null,
            "grid_template_rows": null,
            "height": null,
            "justify_content": null,
            "justify_items": null,
            "left": null,
            "margin": null,
            "max_height": null,
            "max_width": null,
            "min_height": null,
            "min_width": null,
            "object_fit": null,
            "object_position": null,
            "order": null,
            "overflow": null,
            "overflow_x": null,
            "overflow_y": null,
            "padding": null,
            "right": null,
            "top": null,
            "visibility": null,
            "width": null
          }
        },
        "1b0de692795749f5a72816262b2ee8f7": {
          "model_module": "@jupyter-widgets/controls",
          "model_name": "DescriptionStyleModel",
          "model_module_version": "1.5.0",
          "state": {
            "_model_module": "@jupyter-widgets/controls",
            "_model_module_version": "1.5.0",
            "_model_name": "DescriptionStyleModel",
            "_view_count": null,
            "_view_module": "@jupyter-widgets/base",
            "_view_module_version": "1.2.0",
            "_view_name": "StyleView",
            "description_width": ""
          }
        },
        "124a97aa20754aff826064bccb05f0b6": {
          "model_module": "@jupyter-widgets/controls",
          "model_name": "HBoxModel",
          "model_module_version": "1.5.0",
          "state": {
            "_dom_classes": [],
            "_model_module": "@jupyter-widgets/controls",
            "_model_module_version": "1.5.0",
            "_model_name": "HBoxModel",
            "_view_count": null,
            "_view_module": "@jupyter-widgets/controls",
            "_view_module_version": "1.5.0",
            "_view_name": "HBoxView",
            "box_style": "",
            "children": [
              "IPY_MODEL_55ebdd9fe9bf436e8842b9b203d5043c",
              "IPY_MODEL_09c1083b16f345bf9c71d200e63e9d09",
              "IPY_MODEL_e17f5906bdb5479ea878db6762393074"
            ],
            "layout": "IPY_MODEL_35ed1c168a1b48629e8e4c48f3c7df6f"
          }
        },
        "55ebdd9fe9bf436e8842b9b203d5043c": {
          "model_module": "@jupyter-widgets/controls",
          "model_name": "HTMLModel",
          "model_module_version": "1.5.0",
          "state": {
            "_dom_classes": [],
            "_model_module": "@jupyter-widgets/controls",
            "_model_module_version": "1.5.0",
            "_model_name": "HTMLModel",
            "_view_count": null,
            "_view_module": "@jupyter-widgets/controls",
            "_view_module_version": "1.5.0",
            "_view_name": "HTMLView",
            "description": "",
            "description_tooltip": null,
            "layout": "IPY_MODEL_b57ae58572d54d489c1c3a32097f0691",
            "placeholder": "​",
            "style": "IPY_MODEL_ceb0fc283e704a6dbeb4b34a22aefa3f",
            "value": "Downloading pytorch_model.bin: 100%"
          }
        },
        "09c1083b16f345bf9c71d200e63e9d09": {
          "model_module": "@jupyter-widgets/controls",
          "model_name": "FloatProgressModel",
          "model_module_version": "1.5.0",
          "state": {
            "_dom_classes": [],
            "_model_module": "@jupyter-widgets/controls",
            "_model_module_version": "1.5.0",
            "_model_name": "FloatProgressModel",
            "_view_count": null,
            "_view_module": "@jupyter-widgets/controls",
            "_view_module_version": "1.5.0",
            "_view_name": "ProgressView",
            "bar_style": "success",
            "description": "",
            "description_tooltip": null,
            "layout": "IPY_MODEL_a7ec6c02c20d45fcabf812c30490b8be",
            "max": 267985760,
            "min": 0,
            "orientation": "horizontal",
            "style": "IPY_MODEL_b992e1f60c714e91be54a679d5f6eb60",
            "value": 267985760
          }
        },
        "e17f5906bdb5479ea878db6762393074": {
          "model_module": "@jupyter-widgets/controls",
          "model_name": "HTMLModel",
          "model_module_version": "1.5.0",
          "state": {
            "_dom_classes": [],
            "_model_module": "@jupyter-widgets/controls",
            "_model_module_version": "1.5.0",
            "_model_name": "HTMLModel",
            "_view_count": null,
            "_view_module": "@jupyter-widgets/controls",
            "_view_module_version": "1.5.0",
            "_view_name": "HTMLView",
            "description": "",
            "description_tooltip": null,
            "layout": "IPY_MODEL_5d3c2565223e4d54b52bb6b782439f1e",
            "placeholder": "​",
            "style": "IPY_MODEL_81a3aab933f741698f1bcd5d5ba5acf7",
            "value": " 268M/268M [00:04&lt;00:00, 64.4MB/s]"
          }
        },
        "35ed1c168a1b48629e8e4c48f3c7df6f": {
          "model_module": "@jupyter-widgets/base",
          "model_name": "LayoutModel",
          "model_module_version": "1.2.0",
          "state": {
            "_model_module": "@jupyter-widgets/base",
            "_model_module_version": "1.2.0",
            "_model_name": "LayoutModel",
            "_view_count": null,
            "_view_module": "@jupyter-widgets/base",
            "_view_module_version": "1.2.0",
            "_view_name": "LayoutView",
            "align_content": null,
            "align_items": null,
            "align_self": null,
            "border": null,
            "bottom": null,
            "display": null,
            "flex": null,
            "flex_flow": null,
            "grid_area": null,
            "grid_auto_columns": null,
            "grid_auto_flow": null,
            "grid_auto_rows": null,
            "grid_column": null,
            "grid_gap": null,
            "grid_row": null,
            "grid_template_areas": null,
            "grid_template_columns": null,
            "grid_template_rows": null,
            "height": null,
            "justify_content": null,
            "justify_items": null,
            "left": null,
            "margin": null,
            "max_height": null,
            "max_width": null,
            "min_height": null,
            "min_width": null,
            "object_fit": null,
            "object_position": null,
            "order": null,
            "overflow": null,
            "overflow_x": null,
            "overflow_y": null,
            "padding": null,
            "right": null,
            "top": null,
            "visibility": null,
            "width": null
          }
        },
        "b57ae58572d54d489c1c3a32097f0691": {
          "model_module": "@jupyter-widgets/base",
          "model_name": "LayoutModel",
          "model_module_version": "1.2.0",
          "state": {
            "_model_module": "@jupyter-widgets/base",
            "_model_module_version": "1.2.0",
            "_model_name": "LayoutModel",
            "_view_count": null,
            "_view_module": "@jupyter-widgets/base",
            "_view_module_version": "1.2.0",
            "_view_name": "LayoutView",
            "align_content": null,
            "align_items": null,
            "align_self": null,
            "border": null,
            "bottom": null,
            "display": null,
            "flex": null,
            "flex_flow": null,
            "grid_area": null,
            "grid_auto_columns": null,
            "grid_auto_flow": null,
            "grid_auto_rows": null,
            "grid_column": null,
            "grid_gap": null,
            "grid_row": null,
            "grid_template_areas": null,
            "grid_template_columns": null,
            "grid_template_rows": null,
            "height": null,
            "justify_content": null,
            "justify_items": null,
            "left": null,
            "margin": null,
            "max_height": null,
            "max_width": null,
            "min_height": null,
            "min_width": null,
            "object_fit": null,
            "object_position": null,
            "order": null,
            "overflow": null,
            "overflow_x": null,
            "overflow_y": null,
            "padding": null,
            "right": null,
            "top": null,
            "visibility": null,
            "width": null
          }
        },
        "ceb0fc283e704a6dbeb4b34a22aefa3f": {
          "model_module": "@jupyter-widgets/controls",
          "model_name": "DescriptionStyleModel",
          "model_module_version": "1.5.0",
          "state": {
            "_model_module": "@jupyter-widgets/controls",
            "_model_module_version": "1.5.0",
            "_model_name": "DescriptionStyleModel",
            "_view_count": null,
            "_view_module": "@jupyter-widgets/base",
            "_view_module_version": "1.2.0",
            "_view_name": "StyleView",
            "description_width": ""
          }
        },
        "a7ec6c02c20d45fcabf812c30490b8be": {
          "model_module": "@jupyter-widgets/base",
          "model_name": "LayoutModel",
          "model_module_version": "1.2.0",
          "state": {
            "_model_module": "@jupyter-widgets/base",
            "_model_module_version": "1.2.0",
            "_model_name": "LayoutModel",
            "_view_count": null,
            "_view_module": "@jupyter-widgets/base",
            "_view_module_version": "1.2.0",
            "_view_name": "LayoutView",
            "align_content": null,
            "align_items": null,
            "align_self": null,
            "border": null,
            "bottom": null,
            "display": null,
            "flex": null,
            "flex_flow": null,
            "grid_area": null,
            "grid_auto_columns": null,
            "grid_auto_flow": null,
            "grid_auto_rows": null,
            "grid_column": null,
            "grid_gap": null,
            "grid_row": null,
            "grid_template_areas": null,
            "grid_template_columns": null,
            "grid_template_rows": null,
            "height": null,
            "justify_content": null,
            "justify_items": null,
            "left": null,
            "margin": null,
            "max_height": null,
            "max_width": null,
            "min_height": null,
            "min_width": null,
            "object_fit": null,
            "object_position": null,
            "order": null,
            "overflow": null,
            "overflow_x": null,
            "overflow_y": null,
            "padding": null,
            "right": null,
            "top": null,
            "visibility": null,
            "width": null
          }
        },
        "b992e1f60c714e91be54a679d5f6eb60": {
          "model_module": "@jupyter-widgets/controls",
          "model_name": "ProgressStyleModel",
          "model_module_version": "1.5.0",
          "state": {
            "_model_module": "@jupyter-widgets/controls",
            "_model_module_version": "1.5.0",
            "_model_name": "ProgressStyleModel",
            "_view_count": null,
            "_view_module": "@jupyter-widgets/base",
            "_view_module_version": "1.2.0",
            "_view_name": "StyleView",
            "bar_color": null,
            "description_width": ""
          }
        },
        "5d3c2565223e4d54b52bb6b782439f1e": {
          "model_module": "@jupyter-widgets/base",
          "model_name": "LayoutModel",
          "model_module_version": "1.2.0",
          "state": {
            "_model_module": "@jupyter-widgets/base",
            "_model_module_version": "1.2.0",
            "_model_name": "LayoutModel",
            "_view_count": null,
            "_view_module": "@jupyter-widgets/base",
            "_view_module_version": "1.2.0",
            "_view_name": "LayoutView",
            "align_content": null,
            "align_items": null,
            "align_self": null,
            "border": null,
            "bottom": null,
            "display": null,
            "flex": null,
            "flex_flow": null,
            "grid_area": null,
            "grid_auto_columns": null,
            "grid_auto_flow": null,
            "grid_auto_rows": null,
            "grid_column": null,
            "grid_gap": null,
            "grid_row": null,
            "grid_template_areas": null,
            "grid_template_columns": null,
            "grid_template_rows": null,
            "height": null,
            "justify_content": null,
            "justify_items": null,
            "left": null,
            "margin": null,
            "max_height": null,
            "max_width": null,
            "min_height": null,
            "min_width": null,
            "object_fit": null,
            "object_position": null,
            "order": null,
            "overflow": null,
            "overflow_x": null,
            "overflow_y": null,
            "padding": null,
            "right": null,
            "top": null,
            "visibility": null,
            "width": null
          }
        },
        "81a3aab933f741698f1bcd5d5ba5acf7": {
          "model_module": "@jupyter-widgets/controls",
          "model_name": "DescriptionStyleModel",
          "model_module_version": "1.5.0",
          "state": {
            "_model_module": "@jupyter-widgets/controls",
            "_model_module_version": "1.5.0",
            "_model_name": "DescriptionStyleModel",
            "_view_count": null,
            "_view_module": "@jupyter-widgets/base",
            "_view_module_version": "1.2.0",
            "_view_name": "StyleView",
            "description_width": ""
          }
        },
        "7fad0124b8cc46ca8a1e2a9ced87c72c": {
          "model_module": "@jupyter-widgets/controls",
          "model_name": "HBoxModel",
          "model_module_version": "1.5.0",
          "state": {
            "_dom_classes": [],
            "_model_module": "@jupyter-widgets/controls",
            "_model_module_version": "1.5.0",
            "_model_name": "HBoxModel",
            "_view_count": null,
            "_view_module": "@jupyter-widgets/controls",
            "_view_module_version": "1.5.0",
            "_view_name": "HBoxView",
            "box_style": "",
            "children": [
              "IPY_MODEL_9fe6fe630359430383678d9cc671de19",
              "IPY_MODEL_89247f7fcf0344cdaf2de0ead4fc6e19",
              "IPY_MODEL_4f0b5608de14417b846ce6228e657e59"
            ],
            "layout": "IPY_MODEL_3f95a871877444caa384b4d75cb507c8"
          }
        },
        "9fe6fe630359430383678d9cc671de19": {
          "model_module": "@jupyter-widgets/controls",
          "model_name": "HTMLModel",
          "model_module_version": "1.5.0",
          "state": {
            "_dom_classes": [],
            "_model_module": "@jupyter-widgets/controls",
            "_model_module_version": "1.5.0",
            "_model_name": "HTMLModel",
            "_view_count": null,
            "_view_module": "@jupyter-widgets/controls",
            "_view_module_version": "1.5.0",
            "_view_name": "HTMLView",
            "description": "",
            "description_tooltip": null,
            "layout": "IPY_MODEL_9b73d0489cd84913912980fa88e6ef19",
            "placeholder": "​",
            "style": "IPY_MODEL_4c53fc4e5ab44741b4b23e5dcdb14795",
            "value": "100%"
          }
        },
        "89247f7fcf0344cdaf2de0ead4fc6e19": {
          "model_module": "@jupyter-widgets/controls",
          "model_name": "FloatProgressModel",
          "model_module_version": "1.5.0",
          "state": {
            "_dom_classes": [],
            "_model_module": "@jupyter-widgets/controls",
            "_model_module_version": "1.5.0",
            "_model_name": "FloatProgressModel",
            "_view_count": null,
            "_view_module": "@jupyter-widgets/controls",
            "_view_module_version": "1.5.0",
            "_view_name": "ProgressView",
            "bar_style": "success",
            "description": "",
            "description_tooltip": null,
            "layout": "IPY_MODEL_abca0ce3d7994dac809b0c763dc058b7",
            "max": 3,
            "min": 0,
            "orientation": "horizontal",
            "style": "IPY_MODEL_7e17c97205a448ecb36c4ddc47159ddc",
            "value": 3
          }
        },
        "4f0b5608de14417b846ce6228e657e59": {
          "model_module": "@jupyter-widgets/controls",
          "model_name": "HTMLModel",
          "model_module_version": "1.5.0",
          "state": {
            "_dom_classes": [],
            "_model_module": "@jupyter-widgets/controls",
            "_model_module_version": "1.5.0",
            "_model_name": "HTMLModel",
            "_view_count": null,
            "_view_module": "@jupyter-widgets/controls",
            "_view_module_version": "1.5.0",
            "_view_name": "HTMLView",
            "description": "",
            "description_tooltip": null,
            "layout": "IPY_MODEL_445da52d8242476db08b6fafba6d0aae",
            "placeholder": "​",
            "style": "IPY_MODEL_a8912547937341e8a953639955c24692",
            "value": " 3/3 [00:00&lt;00:00, 18.43it/s]"
          }
        },
        "3f95a871877444caa384b4d75cb507c8": {
          "model_module": "@jupyter-widgets/base",
          "model_name": "LayoutModel",
          "model_module_version": "1.2.0",
          "state": {
            "_model_module": "@jupyter-widgets/base",
            "_model_module_version": "1.2.0",
            "_model_name": "LayoutModel",
            "_view_count": null,
            "_view_module": "@jupyter-widgets/base",
            "_view_module_version": "1.2.0",
            "_view_name": "LayoutView",
            "align_content": null,
            "align_items": null,
            "align_self": null,
            "border": null,
            "bottom": null,
            "display": null,
            "flex": null,
            "flex_flow": null,
            "grid_area": null,
            "grid_auto_columns": null,
            "grid_auto_flow": null,
            "grid_auto_rows": null,
            "grid_column": null,
            "grid_gap": null,
            "grid_row": null,
            "grid_template_areas": null,
            "grid_template_columns": null,
            "grid_template_rows": null,
            "height": null,
            "justify_content": null,
            "justify_items": null,
            "left": null,
            "margin": null,
            "max_height": null,
            "max_width": null,
            "min_height": null,
            "min_width": null,
            "object_fit": null,
            "object_position": null,
            "order": null,
            "overflow": null,
            "overflow_x": null,
            "overflow_y": null,
            "padding": null,
            "right": null,
            "top": null,
            "visibility": null,
            "width": null
          }
        },
        "9b73d0489cd84913912980fa88e6ef19": {
          "model_module": "@jupyter-widgets/base",
          "model_name": "LayoutModel",
          "model_module_version": "1.2.0",
          "state": {
            "_model_module": "@jupyter-widgets/base",
            "_model_module_version": "1.2.0",
            "_model_name": "LayoutModel",
            "_view_count": null,
            "_view_module": "@jupyter-widgets/base",
            "_view_module_version": "1.2.0",
            "_view_name": "LayoutView",
            "align_content": null,
            "align_items": null,
            "align_self": null,
            "border": null,
            "bottom": null,
            "display": null,
            "flex": null,
            "flex_flow": null,
            "grid_area": null,
            "grid_auto_columns": null,
            "grid_auto_flow": null,
            "grid_auto_rows": null,
            "grid_column": null,
            "grid_gap": null,
            "grid_row": null,
            "grid_template_areas": null,
            "grid_template_columns": null,
            "grid_template_rows": null,
            "height": null,
            "justify_content": null,
            "justify_items": null,
            "left": null,
            "margin": null,
            "max_height": null,
            "max_width": null,
            "min_height": null,
            "min_width": null,
            "object_fit": null,
            "object_position": null,
            "order": null,
            "overflow": null,
            "overflow_x": null,
            "overflow_y": null,
            "padding": null,
            "right": null,
            "top": null,
            "visibility": null,
            "width": null
          }
        },
        "4c53fc4e5ab44741b4b23e5dcdb14795": {
          "model_module": "@jupyter-widgets/controls",
          "model_name": "DescriptionStyleModel",
          "model_module_version": "1.5.0",
          "state": {
            "_model_module": "@jupyter-widgets/controls",
            "_model_module_version": "1.5.0",
            "_model_name": "DescriptionStyleModel",
            "_view_count": null,
            "_view_module": "@jupyter-widgets/base",
            "_view_module_version": "1.2.0",
            "_view_name": "StyleView",
            "description_width": ""
          }
        },
        "abca0ce3d7994dac809b0c763dc058b7": {
          "model_module": "@jupyter-widgets/base",
          "model_name": "LayoutModel",
          "model_module_version": "1.2.0",
          "state": {
            "_model_module": "@jupyter-widgets/base",
            "_model_module_version": "1.2.0",
            "_model_name": "LayoutModel",
            "_view_count": null,
            "_view_module": "@jupyter-widgets/base",
            "_view_module_version": "1.2.0",
            "_view_name": "LayoutView",
            "align_content": null,
            "align_items": null,
            "align_self": null,
            "border": null,
            "bottom": null,
            "display": null,
            "flex": null,
            "flex_flow": null,
            "grid_area": null,
            "grid_auto_columns": null,
            "grid_auto_flow": null,
            "grid_auto_rows": null,
            "grid_column": null,
            "grid_gap": null,
            "grid_row": null,
            "grid_template_areas": null,
            "grid_template_columns": null,
            "grid_template_rows": null,
            "height": null,
            "justify_content": null,
            "justify_items": null,
            "left": null,
            "margin": null,
            "max_height": null,
            "max_width": null,
            "min_height": null,
            "min_width": null,
            "object_fit": null,
            "object_position": null,
            "order": null,
            "overflow": null,
            "overflow_x": null,
            "overflow_y": null,
            "padding": null,
            "right": null,
            "top": null,
            "visibility": null,
            "width": null
          }
        },
        "7e17c97205a448ecb36c4ddc47159ddc": {
          "model_module": "@jupyter-widgets/controls",
          "model_name": "ProgressStyleModel",
          "model_module_version": "1.5.0",
          "state": {
            "_model_module": "@jupyter-widgets/controls",
            "_model_module_version": "1.5.0",
            "_model_name": "ProgressStyleModel",
            "_view_count": null,
            "_view_module": "@jupyter-widgets/base",
            "_view_module_version": "1.2.0",
            "_view_name": "StyleView",
            "bar_color": null,
            "description_width": ""
          }
        },
        "445da52d8242476db08b6fafba6d0aae": {
          "model_module": "@jupyter-widgets/base",
          "model_name": "LayoutModel",
          "model_module_version": "1.2.0",
          "state": {
            "_model_module": "@jupyter-widgets/base",
            "_model_module_version": "1.2.0",
            "_model_name": "LayoutModel",
            "_view_count": null,
            "_view_module": "@jupyter-widgets/base",
            "_view_module_version": "1.2.0",
            "_view_name": "LayoutView",
            "align_content": null,
            "align_items": null,
            "align_self": null,
            "border": null,
            "bottom": null,
            "display": null,
            "flex": null,
            "flex_flow": null,
            "grid_area": null,
            "grid_auto_columns": null,
            "grid_auto_flow": null,
            "grid_auto_rows": null,
            "grid_column": null,
            "grid_gap": null,
            "grid_row": null,
            "grid_template_areas": null,
            "grid_template_columns": null,
            "grid_template_rows": null,
            "height": null,
            "justify_content": null,
            "justify_items": null,
            "left": null,
            "margin": null,
            "max_height": null,
            "max_width": null,
            "min_height": null,
            "min_width": null,
            "object_fit": null,
            "object_position": null,
            "order": null,
            "overflow": null,
            "overflow_x": null,
            "overflow_y": null,
            "padding": null,
            "right": null,
            "top": null,
            "visibility": null,
            "width": null
          }
        },
        "a8912547937341e8a953639955c24692": {
          "model_module": "@jupyter-widgets/controls",
          "model_name": "DescriptionStyleModel",
          "model_module_version": "1.5.0",
          "state": {
            "_model_module": "@jupyter-widgets/controls",
            "_model_module_version": "1.5.0",
            "_model_name": "DescriptionStyleModel",
            "_view_count": null,
            "_view_module": "@jupyter-widgets/base",
            "_view_module_version": "1.2.0",
            "_view_name": "StyleView",
            "description_width": ""
          }
        },
        "7e45df602dbb48b6933adb7a4170202c": {
          "model_module": "@jupyter-widgets/controls",
          "model_name": "HBoxModel",
          "model_module_version": "1.5.0",
          "state": {
            "_dom_classes": [],
            "_model_module": "@jupyter-widgets/controls",
            "_model_module_version": "1.5.0",
            "_model_name": "HBoxModel",
            "_view_count": null,
            "_view_module": "@jupyter-widgets/controls",
            "_view_module_version": "1.5.0",
            "_view_name": "HBoxView",
            "box_style": "",
            "children": [
              "IPY_MODEL_f7398e3a036b460a876fbf3dcefb8029",
              "IPY_MODEL_7422f85cc9b241b2bef3c16bb5c23268",
              "IPY_MODEL_ab3a0323e40b461b84d807ea6ebe7913"
            ],
            "layout": "IPY_MODEL_9849e09ca6bd4ec391f36c45b6b4e609"
          }
        },
        "f7398e3a036b460a876fbf3dcefb8029": {
          "model_module": "@jupyter-widgets/controls",
          "model_name": "HTMLModel",
          "model_module_version": "1.5.0",
          "state": {
            "_dom_classes": [],
            "_model_module": "@jupyter-widgets/controls",
            "_model_module_version": "1.5.0",
            "_model_name": "HTMLModel",
            "_view_count": null,
            "_view_module": "@jupyter-widgets/controls",
            "_view_module_version": "1.5.0",
            "_view_name": "HTMLView",
            "description": "",
            "description_tooltip": null,
            "layout": "IPY_MODEL_0ec8842576ea4e5d98a48825ca08ee86",
            "placeholder": "​",
            "style": "IPY_MODEL_e645ef4c16034675a620375a88266a7f",
            "value": "100%"
          }
        },
        "7422f85cc9b241b2bef3c16bb5c23268": {
          "model_module": "@jupyter-widgets/controls",
          "model_name": "FloatProgressModel",
          "model_module_version": "1.5.0",
          "state": {
            "_dom_classes": [],
            "_model_module": "@jupyter-widgets/controls",
            "_model_module_version": "1.5.0",
            "_model_name": "FloatProgressModel",
            "_view_count": null,
            "_view_module": "@jupyter-widgets/controls",
            "_view_module_version": "1.5.0",
            "_view_name": "ProgressView",
            "bar_style": "success",
            "description": "",
            "description_tooltip": null,
            "layout": "IPY_MODEL_4c678454105740018f7b1293b87d0d7a",
            "max": 34267,
            "min": 0,
            "orientation": "horizontal",
            "style": "IPY_MODEL_40d4ded8cee94330af4b3f242a05e905",
            "value": 34267
          }
        },
        "ab3a0323e40b461b84d807ea6ebe7913": {
          "model_module": "@jupyter-widgets/controls",
          "model_name": "HTMLModel",
          "model_module_version": "1.5.0",
          "state": {
            "_dom_classes": [],
            "_model_module": "@jupyter-widgets/controls",
            "_model_module_version": "1.5.0",
            "_model_name": "HTMLModel",
            "_view_count": null,
            "_view_module": "@jupyter-widgets/controls",
            "_view_module_version": "1.5.0",
            "_view_name": "HTMLView",
            "description": "",
            "description_tooltip": null,
            "layout": "IPY_MODEL_ecd95596556042a996702c72811f9d0c",
            "placeholder": "​",
            "style": "IPY_MODEL_f8d3fb87453940eeb6840d032423710d",
            "value": " 34267/34267 [3:54:53&lt;00:00,  1.26it/s]"
          }
        },
        "9849e09ca6bd4ec391f36c45b6b4e609": {
          "model_module": "@jupyter-widgets/base",
          "model_name": "LayoutModel",
          "model_module_version": "1.2.0",
          "state": {
            "_model_module": "@jupyter-widgets/base",
            "_model_module_version": "1.2.0",
            "_model_name": "LayoutModel",
            "_view_count": null,
            "_view_module": "@jupyter-widgets/base",
            "_view_module_version": "1.2.0",
            "_view_name": "LayoutView",
            "align_content": null,
            "align_items": null,
            "align_self": null,
            "border": null,
            "bottom": null,
            "display": null,
            "flex": null,
            "flex_flow": null,
            "grid_area": null,
            "grid_auto_columns": null,
            "grid_auto_flow": null,
            "grid_auto_rows": null,
            "grid_column": null,
            "grid_gap": null,
            "grid_row": null,
            "grid_template_areas": null,
            "grid_template_columns": null,
            "grid_template_rows": null,
            "height": null,
            "justify_content": null,
            "justify_items": null,
            "left": null,
            "margin": null,
            "max_height": null,
            "max_width": null,
            "min_height": null,
            "min_width": null,
            "object_fit": null,
            "object_position": null,
            "order": null,
            "overflow": null,
            "overflow_x": null,
            "overflow_y": null,
            "padding": null,
            "right": null,
            "top": null,
            "visibility": null,
            "width": null
          }
        },
        "0ec8842576ea4e5d98a48825ca08ee86": {
          "model_module": "@jupyter-widgets/base",
          "model_name": "LayoutModel",
          "model_module_version": "1.2.0",
          "state": {
            "_model_module": "@jupyter-widgets/base",
            "_model_module_version": "1.2.0",
            "_model_name": "LayoutModel",
            "_view_count": null,
            "_view_module": "@jupyter-widgets/base",
            "_view_module_version": "1.2.0",
            "_view_name": "LayoutView",
            "align_content": null,
            "align_items": null,
            "align_self": null,
            "border": null,
            "bottom": null,
            "display": null,
            "flex": null,
            "flex_flow": null,
            "grid_area": null,
            "grid_auto_columns": null,
            "grid_auto_flow": null,
            "grid_auto_rows": null,
            "grid_column": null,
            "grid_gap": null,
            "grid_row": null,
            "grid_template_areas": null,
            "grid_template_columns": null,
            "grid_template_rows": null,
            "height": null,
            "justify_content": null,
            "justify_items": null,
            "left": null,
            "margin": null,
            "max_height": null,
            "max_width": null,
            "min_height": null,
            "min_width": null,
            "object_fit": null,
            "object_position": null,
            "order": null,
            "overflow": null,
            "overflow_x": null,
            "overflow_y": null,
            "padding": null,
            "right": null,
            "top": null,
            "visibility": null,
            "width": null
          }
        },
        "e645ef4c16034675a620375a88266a7f": {
          "model_module": "@jupyter-widgets/controls",
          "model_name": "DescriptionStyleModel",
          "model_module_version": "1.5.0",
          "state": {
            "_model_module": "@jupyter-widgets/controls",
            "_model_module_version": "1.5.0",
            "_model_name": "DescriptionStyleModel",
            "_view_count": null,
            "_view_module": "@jupyter-widgets/base",
            "_view_module_version": "1.2.0",
            "_view_name": "StyleView",
            "description_width": ""
          }
        },
        "4c678454105740018f7b1293b87d0d7a": {
          "model_module": "@jupyter-widgets/base",
          "model_name": "LayoutModel",
          "model_module_version": "1.2.0",
          "state": {
            "_model_module": "@jupyter-widgets/base",
            "_model_module_version": "1.2.0",
            "_model_name": "LayoutModel",
            "_view_count": null,
            "_view_module": "@jupyter-widgets/base",
            "_view_module_version": "1.2.0",
            "_view_name": "LayoutView",
            "align_content": null,
            "align_items": null,
            "align_self": null,
            "border": null,
            "bottom": null,
            "display": null,
            "flex": null,
            "flex_flow": null,
            "grid_area": null,
            "grid_auto_columns": null,
            "grid_auto_flow": null,
            "grid_auto_rows": null,
            "grid_column": null,
            "grid_gap": null,
            "grid_row": null,
            "grid_template_areas": null,
            "grid_template_columns": null,
            "grid_template_rows": null,
            "height": null,
            "justify_content": null,
            "justify_items": null,
            "left": null,
            "margin": null,
            "max_height": null,
            "max_width": null,
            "min_height": null,
            "min_width": null,
            "object_fit": null,
            "object_position": null,
            "order": null,
            "overflow": null,
            "overflow_x": null,
            "overflow_y": null,
            "padding": null,
            "right": null,
            "top": null,
            "visibility": null,
            "width": null
          }
        },
        "40d4ded8cee94330af4b3f242a05e905": {
          "model_module": "@jupyter-widgets/controls",
          "model_name": "ProgressStyleModel",
          "model_module_version": "1.5.0",
          "state": {
            "_model_module": "@jupyter-widgets/controls",
            "_model_module_version": "1.5.0",
            "_model_name": "ProgressStyleModel",
            "_view_count": null,
            "_view_module": "@jupyter-widgets/base",
            "_view_module_version": "1.2.0",
            "_view_name": "StyleView",
            "bar_color": null,
            "description_width": ""
          }
        },
        "ecd95596556042a996702c72811f9d0c": {
          "model_module": "@jupyter-widgets/base",
          "model_name": "LayoutModel",
          "model_module_version": "1.2.0",
          "state": {
            "_model_module": "@jupyter-widgets/base",
            "_model_module_version": "1.2.0",
            "_model_name": "LayoutModel",
            "_view_count": null,
            "_view_module": "@jupyter-widgets/base",
            "_view_module_version": "1.2.0",
            "_view_name": "LayoutView",
            "align_content": null,
            "align_items": null,
            "align_self": null,
            "border": null,
            "bottom": null,
            "display": null,
            "flex": null,
            "flex_flow": null,
            "grid_area": null,
            "grid_auto_columns": null,
            "grid_auto_flow": null,
            "grid_auto_rows": null,
            "grid_column": null,
            "grid_gap": null,
            "grid_row": null,
            "grid_template_areas": null,
            "grid_template_columns": null,
            "grid_template_rows": null,
            "height": null,
            "justify_content": null,
            "justify_items": null,
            "left": null,
            "margin": null,
            "max_height": null,
            "max_width": null,
            "min_height": null,
            "min_width": null,
            "object_fit": null,
            "object_position": null,
            "order": null,
            "overflow": null,
            "overflow_x": null,
            "overflow_y": null,
            "padding": null,
            "right": null,
            "top": null,
            "visibility": null,
            "width": null
          }
        },
        "f8d3fb87453940eeb6840d032423710d": {
          "model_module": "@jupyter-widgets/controls",
          "model_name": "DescriptionStyleModel",
          "model_module_version": "1.5.0",
          "state": {
            "_model_module": "@jupyter-widgets/controls",
            "_model_module_version": "1.5.0",
            "_model_name": "DescriptionStyleModel",
            "_view_count": null,
            "_view_module": "@jupyter-widgets/base",
            "_view_module_version": "1.2.0",
            "_view_name": "StyleView",
            "description_width": ""
          }
        }
      }
    }
  },
  "cells": [
    {
      "cell_type": "markdown",
      "metadata": {
        "id": "view-in-github",
        "colab_type": "text"
      },
      "source": [
        "<a href=\"https://colab.research.google.com/github/leonardo3108/IA368dd/blob/main/exercicios/Aula_8/Aula_8_SPLADE.ipynb\" target=\"_parent\"><img src=\"https://colab.research.google.com/assets/colab-badge.svg\" alt=\"Open In Colab\"/></a>"
      ]
    },
    {
      "cell_type": "code",
      "source": [
        "nome = 'Leonardo Augusto da Silva Pacheco'\n",
        "print(f'Meu nome é {nome}')"
      ],
      "metadata": {
        "colab": {
          "base_uri": "https://localhost:8080/"
        },
        "id": "o_9sUnlpHZfe",
        "outputId": "1ada7807-2ae5-4091-ce51-2bd8a1c393ac"
      },
      "execution_count": 1,
      "outputs": [
        {
          "output_type": "stream",
          "name": "stdout",
          "text": [
            "Meu nome é Leonardo Augusto da Silva Pacheco\n"
          ]
        }
      ]
    },
    {
      "cell_type": "markdown",
      "source": [
        "# Enunciado"
      ],
      "metadata": {
        "id": "5iuHRsrHq5yj"
      }
    },
    {
      "cell_type": "markdown",
      "source": [
        "Implementar a fase de indexação e buscas de um modelo sparso\n",
        "- Usar este modelo SPLADE já treinado naver/splade_v2_distil (do distilbert) ou splade-cocondenser-selfdistil (do BERT-base 110M params). Mais informações sobre os modelos estão neste artigo: https://arxiv.org/pdf/2205.04733.pdf\n",
        "- Não é necessário treinar o modelo\n",
        "- Avaliar nDCG@10 no TREC-COVID e comparar resultados com o BM25 e buscador denso da semana passada\n",
        "\n",
        "A dificuldade do exercício está em implementar a função de busca e ranqueamento usada pelo SPLADE. A implementação deve ser codificada e usar implementação do SPLADE apenas para comparação. A implementação do índice invertido é apenas um \"dicionário python\".\n",
        "\n",
        "- Fazer a comparação dos seus resultados com a busca \"original\" do SPLADE.\n",
        "- Medir latência (s/query)\n"
      ],
      "metadata": {
        "id": "JkrYvClPGEqW"
      }
    },
    {
      "cell_type": "markdown",
      "source": [
        "# Setup"
      ],
      "metadata": {
        "id": "ybOUq344g2EJ"
      }
    },
    {
      "cell_type": "markdown",
      "source": [
        "## Integração com Google Drive"
      ],
      "metadata": {
        "id": "Vpw6oWOcoSa3"
      }
    },
    {
      "cell_type": "code",
      "source": [
        "from google.colab import drive\n",
        "drive.mount('/content/drive')"
      ],
      "metadata": {
        "colab": {
          "base_uri": "https://localhost:8080/"
        },
        "id": "UAuAyiFroUMQ",
        "outputId": "996f3f5f-3bab-4b9f-c534-5517e3a757dd"
      },
      "execution_count": 50,
      "outputs": [
        {
          "output_type": "stream",
          "name": "stdout",
          "text": [
            "Mounted at /content/drive\n"
          ]
        }
      ]
    },
    {
      "cell_type": "markdown",
      "source": [
        "## Hiperparâmetros"
      ],
      "metadata": {
        "id": "Rztl-0zwkAOo"
      }
    },
    {
      "cell_type": "code",
      "source": [
        "max_length = 256\n",
        "batch_size = 64\n",
        "model_name = 'naver/splade_v2_distil'"
      ],
      "metadata": {
        "id": "1wYDOVsZKuHu"
      },
      "execution_count": 3,
      "outputs": []
    },
    {
      "cell_type": "markdown",
      "source": [
        "## Instalação de libs"
      ],
      "metadata": {
        "id": "d9CAZIdOkCgb"
      }
    },
    {
      "cell_type": "code",
      "source": [
        "!pip install transformers \n",
        "!pip install datasets\n",
        "!pip install sentence-transformers\n",
        "!pip install pyserini\n",
        "!pip install faiss-gpu"
      ],
      "metadata": {
        "colab": {
          "base_uri": "https://localhost:8080/"
        },
        "id": "KX4NY7WSGC1Z",
        "outputId": "076193c8-36c1-48b3-dbc8-06413a26ef1b"
      },
      "execution_count": 4,
      "outputs": [
        {
          "output_type": "stream",
          "name": "stdout",
          "text": [
            "Looking in indexes: https://pypi.org/simple, https://us-python.pkg.dev/colab-wheels/public/simple/\n",
            "Collecting transformers\n",
            "  Downloading transformers-4.28.1-py3-none-any.whl (7.0 MB)\n",
            "\u001b[2K     \u001b[90m━━━━━━━━━━━━━━━━━━━━━━━━━━━━━━━━━━━━━━━━\u001b[0m \u001b[32m7.0/7.0 MB\u001b[0m \u001b[31m57.0 MB/s\u001b[0m eta \u001b[36m0:00:00\u001b[0m\n",
            "\u001b[?25hRequirement already satisfied: filelock in /usr/local/lib/python3.9/dist-packages (from transformers) (3.12.0)\n",
            "Collecting huggingface-hub<1.0,>=0.11.0\n",
            "  Downloading huggingface_hub-0.14.1-py3-none-any.whl (224 kB)\n",
            "\u001b[2K     \u001b[90m━━━━━━━━━━━━━━━━━━━━━━━━━━━━━━━━━━━━━━\u001b[0m \u001b[32m224.5/224.5 kB\u001b[0m \u001b[31m27.4 MB/s\u001b[0m eta \u001b[36m0:00:00\u001b[0m\n",
            "\u001b[?25hRequirement already satisfied: pyyaml>=5.1 in /usr/local/lib/python3.9/dist-packages (from transformers) (6.0)\n",
            "Collecting tokenizers!=0.11.3,<0.14,>=0.11.1\n",
            "  Downloading tokenizers-0.13.3-cp39-cp39-manylinux_2_17_x86_64.manylinux2014_x86_64.whl (7.8 MB)\n",
            "\u001b[2K     \u001b[90m━━━━━━━━━━━━━━━━━━━━━━━━━━━━━━━━━━━━━━━━\u001b[0m \u001b[32m7.8/7.8 MB\u001b[0m \u001b[31m101.1 MB/s\u001b[0m eta \u001b[36m0:00:00\u001b[0m\n",
            "\u001b[?25hRequirement already satisfied: requests in /usr/local/lib/python3.9/dist-packages (from transformers) (2.27.1)\n",
            "Requirement already satisfied: regex!=2019.12.17 in /usr/local/lib/python3.9/dist-packages (from transformers) (2022.10.31)\n",
            "Requirement already satisfied: tqdm>=4.27 in /usr/local/lib/python3.9/dist-packages (from transformers) (4.65.0)\n",
            "Requirement already satisfied: packaging>=20.0 in /usr/local/lib/python3.9/dist-packages (from transformers) (23.1)\n",
            "Requirement already satisfied: numpy>=1.17 in /usr/local/lib/python3.9/dist-packages (from transformers) (1.22.4)\n",
            "Requirement already satisfied: typing-extensions>=3.7.4.3 in /usr/local/lib/python3.9/dist-packages (from huggingface-hub<1.0,>=0.11.0->transformers) (4.5.0)\n",
            "Requirement already satisfied: fsspec in /usr/local/lib/python3.9/dist-packages (from huggingface-hub<1.0,>=0.11.0->transformers) (2023.4.0)\n",
            "Requirement already satisfied: idna<4,>=2.5 in /usr/local/lib/python3.9/dist-packages (from requests->transformers) (3.4)\n",
            "Requirement already satisfied: charset-normalizer~=2.0.0 in /usr/local/lib/python3.9/dist-packages (from requests->transformers) (2.0.12)\n",
            "Requirement already satisfied: certifi>=2017.4.17 in /usr/local/lib/python3.9/dist-packages (from requests->transformers) (2022.12.7)\n",
            "Requirement already satisfied: urllib3<1.27,>=1.21.1 in /usr/local/lib/python3.9/dist-packages (from requests->transformers) (1.26.15)\n",
            "Installing collected packages: tokenizers, huggingface-hub, transformers\n",
            "Successfully installed huggingface-hub-0.14.1 tokenizers-0.13.3 transformers-4.28.1\n",
            "Looking in indexes: https://pypi.org/simple, https://us-python.pkg.dev/colab-wheels/public/simple/\n",
            "Collecting datasets\n",
            "  Downloading datasets-2.11.0-py3-none-any.whl (468 kB)\n",
            "\u001b[2K     \u001b[90m━━━━━━━━━━━━━━━━━━━━━━━━━━━━━━━━━━━━━━━\u001b[0m \u001b[32m468.7/468.7 kB\u001b[0m \u001b[31m9.9 MB/s\u001b[0m eta \u001b[36m0:00:00\u001b[0m\n",
            "\u001b[?25hCollecting responses<0.19\n",
            "  Downloading responses-0.18.0-py3-none-any.whl (38 kB)\n",
            "Requirement already satisfied: tqdm>=4.62.1 in /usr/local/lib/python3.9/dist-packages (from datasets) (4.65.0)\n",
            "Collecting multiprocess\n",
            "  Downloading multiprocess-0.70.14-py39-none-any.whl (132 kB)\n",
            "\u001b[2K     \u001b[90m━━━━━━━━━━━━━━━━━━━━━━━━━━━━━━━━━━━━━━\u001b[0m \u001b[32m132.9/132.9 kB\u001b[0m \u001b[31m15.2 MB/s\u001b[0m eta \u001b[36m0:00:00\u001b[0m\n",
            "\u001b[?25hRequirement already satisfied: fsspec[http]>=2021.11.1 in /usr/local/lib/python3.9/dist-packages (from datasets) (2023.4.0)\n",
            "Requirement already satisfied: huggingface-hub<1.0.0,>=0.11.0 in /usr/local/lib/python3.9/dist-packages (from datasets) (0.14.1)\n",
            "Requirement already satisfied: pandas in /usr/local/lib/python3.9/dist-packages (from datasets) (1.5.3)\n",
            "Requirement already satisfied: packaging in /usr/local/lib/python3.9/dist-packages (from datasets) (23.1)\n",
            "Collecting xxhash\n",
            "  Downloading xxhash-3.2.0-cp39-cp39-manylinux_2_17_x86_64.manylinux2014_x86_64.whl (212 kB)\n",
            "\u001b[2K     \u001b[90m━━━━━━━━━━━━━━━━━━━━━━━━━━━━━━━━━━━━━━\u001b[0m \u001b[32m212.2/212.2 kB\u001b[0m \u001b[31m22.7 MB/s\u001b[0m eta \u001b[36m0:00:00\u001b[0m\n",
            "\u001b[?25hCollecting aiohttp\n",
            "  Downloading aiohttp-3.8.4-cp39-cp39-manylinux_2_17_x86_64.manylinux2014_x86_64.whl (1.0 MB)\n",
            "\u001b[2K     \u001b[90m━━━━━━━━━━━━━━━━━━━━━━━━━━━━━━━━━━━━━━━━\u001b[0m \u001b[32m1.0/1.0 MB\u001b[0m \u001b[31m40.5 MB/s\u001b[0m eta \u001b[36m0:00:00\u001b[0m\n",
            "\u001b[?25hRequirement already satisfied: pyyaml>=5.1 in /usr/local/lib/python3.9/dist-packages (from datasets) (6.0)\n",
            "Requirement already satisfied: requests>=2.19.0 in /usr/local/lib/python3.9/dist-packages (from datasets) (2.27.1)\n",
            "Requirement already satisfied: pyarrow>=8.0.0 in /usr/local/lib/python3.9/dist-packages (from datasets) (9.0.0)\n",
            "Collecting dill<0.3.7,>=0.3.0\n",
            "  Downloading dill-0.3.6-py3-none-any.whl (110 kB)\n",
            "\u001b[2K     \u001b[90m━━━━━━━━━━━━━━━━━━━━━━━━━━━━━━━━━━━━━━\u001b[0m \u001b[32m110.5/110.5 kB\u001b[0m \u001b[31m12.2 MB/s\u001b[0m eta \u001b[36m0:00:00\u001b[0m\n",
            "\u001b[?25hRequirement already satisfied: numpy>=1.17 in /usr/local/lib/python3.9/dist-packages (from datasets) (1.22.4)\n",
            "Collecting async-timeout<5.0,>=4.0.0a3\n",
            "  Downloading async_timeout-4.0.2-py3-none-any.whl (5.8 kB)\n",
            "Collecting aiosignal>=1.1.2\n",
            "  Downloading aiosignal-1.3.1-py3-none-any.whl (7.6 kB)\n",
            "Requirement already satisfied: charset-normalizer<4.0,>=2.0 in /usr/local/lib/python3.9/dist-packages (from aiohttp->datasets) (2.0.12)\n",
            "Collecting multidict<7.0,>=4.5\n",
            "  Downloading multidict-6.0.4-cp39-cp39-manylinux_2_17_x86_64.manylinux2014_x86_64.whl (114 kB)\n",
            "\u001b[2K     \u001b[90m━━━━━━━━━━━━━━━━━━━━━━━━━━━━━━━━━━━━━━\u001b[0m \u001b[32m114.2/114.2 kB\u001b[0m \u001b[31m13.4 MB/s\u001b[0m eta \u001b[36m0:00:00\u001b[0m\n",
            "\u001b[?25hRequirement already satisfied: attrs>=17.3.0 in /usr/local/lib/python3.9/dist-packages (from aiohttp->datasets) (23.1.0)\n",
            "Collecting frozenlist>=1.1.1\n",
            "  Downloading frozenlist-1.3.3-cp39-cp39-manylinux_2_5_x86_64.manylinux1_x86_64.manylinux_2_17_x86_64.manylinux2014_x86_64.whl (158 kB)\n",
            "\u001b[2K     \u001b[90m━━━━━━━━━━━━━━━━━━━━━━━━━━━━━━━━━━━━━━\u001b[0m \u001b[32m158.8/158.8 kB\u001b[0m \u001b[31m20.4 MB/s\u001b[0m eta \u001b[36m0:00:00\u001b[0m\n",
            "\u001b[?25hCollecting yarl<2.0,>=1.0\n",
            "  Downloading yarl-1.9.2-cp39-cp39-manylinux_2_17_x86_64.manylinux2014_x86_64.whl (269 kB)\n",
            "\u001b[2K     \u001b[90m━━━━━━━━━━━━━━━━━━━━━━━━━━━━━━━━━━━━━━\u001b[0m \u001b[32m269.4/269.4 kB\u001b[0m \u001b[31m28.8 MB/s\u001b[0m eta \u001b[36m0:00:00\u001b[0m\n",
            "\u001b[?25hRequirement already satisfied: filelock in /usr/local/lib/python3.9/dist-packages (from huggingface-hub<1.0.0,>=0.11.0->datasets) (3.12.0)\n",
            "Requirement already satisfied: typing-extensions>=3.7.4.3 in /usr/local/lib/python3.9/dist-packages (from huggingface-hub<1.0.0,>=0.11.0->datasets) (4.5.0)\n",
            "Requirement already satisfied: urllib3<1.27,>=1.21.1 in /usr/local/lib/python3.9/dist-packages (from requests>=2.19.0->datasets) (1.26.15)\n",
            "Requirement already satisfied: certifi>=2017.4.17 in /usr/local/lib/python3.9/dist-packages (from requests>=2.19.0->datasets) (2022.12.7)\n",
            "Requirement already satisfied: idna<4,>=2.5 in /usr/local/lib/python3.9/dist-packages (from requests>=2.19.0->datasets) (3.4)\n",
            "Requirement already satisfied: pytz>=2020.1 in /usr/local/lib/python3.9/dist-packages (from pandas->datasets) (2022.7.1)\n",
            "Requirement already satisfied: python-dateutil>=2.8.1 in /usr/local/lib/python3.9/dist-packages (from pandas->datasets) (2.8.2)\n",
            "Requirement already satisfied: six>=1.5 in /usr/local/lib/python3.9/dist-packages (from python-dateutil>=2.8.1->pandas->datasets) (1.16.0)\n",
            "Installing collected packages: xxhash, multidict, frozenlist, dill, async-timeout, yarl, responses, multiprocess, aiosignal, aiohttp, datasets\n",
            "Successfully installed aiohttp-3.8.4 aiosignal-1.3.1 async-timeout-4.0.2 datasets-2.11.0 dill-0.3.6 frozenlist-1.3.3 multidict-6.0.4 multiprocess-0.70.14 responses-0.18.0 xxhash-3.2.0 yarl-1.9.2\n",
            "Looking in indexes: https://pypi.org/simple, https://us-python.pkg.dev/colab-wheels/public/simple/\n",
            "Collecting sentence-transformers\n",
            "  Downloading sentence-transformers-2.2.2.tar.gz (85 kB)\n",
            "\u001b[2K     \u001b[90m━━━━━━━━━━━━━━━━━━━━━━━━━━━━━━━━━━━━━━━━\u001b[0m \u001b[32m86.0/86.0 kB\u001b[0m \u001b[31m3.9 MB/s\u001b[0m eta \u001b[36m0:00:00\u001b[0m\n",
            "\u001b[?25h  Preparing metadata (setup.py) ... \u001b[?25l\u001b[?25hdone\n",
            "Requirement already satisfied: transformers<5.0.0,>=4.6.0 in /usr/local/lib/python3.9/dist-packages (from sentence-transformers) (4.28.1)\n",
            "Requirement already satisfied: tqdm in /usr/local/lib/python3.9/dist-packages (from sentence-transformers) (4.65.0)\n",
            "Requirement already satisfied: torch>=1.6.0 in /usr/local/lib/python3.9/dist-packages (from sentence-transformers) (2.0.0+cu118)\n",
            "Requirement already satisfied: torchvision in /usr/local/lib/python3.9/dist-packages (from sentence-transformers) (0.15.1+cu118)\n",
            "Requirement already satisfied: numpy in /usr/local/lib/python3.9/dist-packages (from sentence-transformers) (1.22.4)\n",
            "Requirement already satisfied: scikit-learn in /usr/local/lib/python3.9/dist-packages (from sentence-transformers) (1.2.2)\n",
            "Requirement already satisfied: scipy in /usr/local/lib/python3.9/dist-packages (from sentence-transformers) (1.10.1)\n",
            "Requirement already satisfied: nltk in /usr/local/lib/python3.9/dist-packages (from sentence-transformers) (3.8.1)\n",
            "Collecting sentencepiece\n",
            "  Downloading sentencepiece-0.1.98-cp39-cp39-manylinux_2_17_x86_64.manylinux2014_x86_64.whl (1.3 MB)\n",
            "\u001b[2K     \u001b[90m━━━━━━━━━━━━━━━━━━━━━━━━━━━━━━━━━━━━━━━━\u001b[0m \u001b[32m1.3/1.3 MB\u001b[0m \u001b[31m12.3 MB/s\u001b[0m eta \u001b[36m0:00:00\u001b[0m\n",
            "\u001b[?25hRequirement already satisfied: huggingface-hub>=0.4.0 in /usr/local/lib/python3.9/dist-packages (from sentence-transformers) (0.14.1)\n",
            "Requirement already satisfied: fsspec in /usr/local/lib/python3.9/dist-packages (from huggingface-hub>=0.4.0->sentence-transformers) (2023.4.0)\n",
            "Requirement already satisfied: typing-extensions>=3.7.4.3 in /usr/local/lib/python3.9/dist-packages (from huggingface-hub>=0.4.0->sentence-transformers) (4.5.0)\n",
            "Requirement already satisfied: packaging>=20.9 in /usr/local/lib/python3.9/dist-packages (from huggingface-hub>=0.4.0->sentence-transformers) (23.1)\n",
            "Requirement already satisfied: filelock in /usr/local/lib/python3.9/dist-packages (from huggingface-hub>=0.4.0->sentence-transformers) (3.12.0)\n",
            "Requirement already satisfied: requests in /usr/local/lib/python3.9/dist-packages (from huggingface-hub>=0.4.0->sentence-transformers) (2.27.1)\n",
            "Requirement already satisfied: pyyaml>=5.1 in /usr/local/lib/python3.9/dist-packages (from huggingface-hub>=0.4.0->sentence-transformers) (6.0)\n",
            "Requirement already satisfied: jinja2 in /usr/local/lib/python3.9/dist-packages (from torch>=1.6.0->sentence-transformers) (3.1.2)\n",
            "Requirement already satisfied: sympy in /usr/local/lib/python3.9/dist-packages (from torch>=1.6.0->sentence-transformers) (1.11.1)\n",
            "Requirement already satisfied: networkx in /usr/local/lib/python3.9/dist-packages (from torch>=1.6.0->sentence-transformers) (3.1)\n",
            "Requirement already satisfied: triton==2.0.0 in /usr/local/lib/python3.9/dist-packages (from torch>=1.6.0->sentence-transformers) (2.0.0)\n",
            "Requirement already satisfied: lit in /usr/local/lib/python3.9/dist-packages (from triton==2.0.0->torch>=1.6.0->sentence-transformers) (16.0.2)\n",
            "Requirement already satisfied: cmake in /usr/local/lib/python3.9/dist-packages (from triton==2.0.0->torch>=1.6.0->sentence-transformers) (3.25.2)\n",
            "Requirement already satisfied: tokenizers!=0.11.3,<0.14,>=0.11.1 in /usr/local/lib/python3.9/dist-packages (from transformers<5.0.0,>=4.6.0->sentence-transformers) (0.13.3)\n",
            "Requirement already satisfied: regex!=2019.12.17 in /usr/local/lib/python3.9/dist-packages (from transformers<5.0.0,>=4.6.0->sentence-transformers) (2022.10.31)\n",
            "Requirement already satisfied: click in /usr/local/lib/python3.9/dist-packages (from nltk->sentence-transformers) (8.1.3)\n",
            "Requirement already satisfied: joblib in /usr/local/lib/python3.9/dist-packages (from nltk->sentence-transformers) (1.2.0)\n",
            "Requirement already satisfied: threadpoolctl>=2.0.0 in /usr/local/lib/python3.9/dist-packages (from scikit-learn->sentence-transformers) (3.1.0)\n",
            "Requirement already satisfied: pillow!=8.3.*,>=5.3.0 in /usr/local/lib/python3.9/dist-packages (from torchvision->sentence-transformers) (8.4.0)\n",
            "Requirement already satisfied: MarkupSafe>=2.0 in /usr/local/lib/python3.9/dist-packages (from jinja2->torch>=1.6.0->sentence-transformers) (2.1.2)\n",
            "Requirement already satisfied: idna<4,>=2.5 in /usr/local/lib/python3.9/dist-packages (from requests->huggingface-hub>=0.4.0->sentence-transformers) (3.4)\n",
            "Requirement already satisfied: certifi>=2017.4.17 in /usr/local/lib/python3.9/dist-packages (from requests->huggingface-hub>=0.4.0->sentence-transformers) (2022.12.7)\n",
            "Requirement already satisfied: urllib3<1.27,>=1.21.1 in /usr/local/lib/python3.9/dist-packages (from requests->huggingface-hub>=0.4.0->sentence-transformers) (1.26.15)\n",
            "Requirement already satisfied: charset-normalizer~=2.0.0 in /usr/local/lib/python3.9/dist-packages (from requests->huggingface-hub>=0.4.0->sentence-transformers) (2.0.12)\n",
            "Requirement already satisfied: mpmath>=0.19 in /usr/local/lib/python3.9/dist-packages (from sympy->torch>=1.6.0->sentence-transformers) (1.3.0)\n",
            "Building wheels for collected packages: sentence-transformers\n",
            "  Building wheel for sentence-transformers (setup.py) ... \u001b[?25l\u001b[?25hdone\n",
            "  Created wheel for sentence-transformers: filename=sentence_transformers-2.2.2-py3-none-any.whl size=125942 sha256=20566bf556e9f120fb3cda528fc48bb01c7e3d8f7900a813d5b9a34bf69058b9\n",
            "  Stored in directory: /root/.cache/pip/wheels/71/67/06/162a3760c40d74dd40bc855d527008d26341c2b0ecf3e8e11f\n",
            "Successfully built sentence-transformers\n",
            "Installing collected packages: sentencepiece, sentence-transformers\n",
            "Successfully installed sentence-transformers-2.2.2 sentencepiece-0.1.98\n",
            "Looking in indexes: https://pypi.org/simple, https://us-python.pkg.dev/colab-wheels/public/simple/\n",
            "Collecting pyserini\n",
            "  Downloading pyserini-0.21.0-py3-none-any.whl (154.1 MB)\n",
            "\u001b[2K     \u001b[90m━━━━━━━━━━━━━━━━━━━━━━━━━━━━━━━━━━━━━━━\u001b[0m \u001b[32m154.1/154.1 MB\u001b[0m \u001b[31m7.9 MB/s\u001b[0m eta \u001b[36m0:00:00\u001b[0m\n",
            "\u001b[?25hRequirement already satisfied: numpy>=1.18.1 in /usr/local/lib/python3.9/dist-packages (from pyserini) (1.22.4)\n",
            "Requirement already satisfied: tqdm in /usr/local/lib/python3.9/dist-packages (from pyserini) (4.65.0)\n",
            "Requirement already satisfied: Cython>=0.29.21 in /usr/local/lib/python3.9/dist-packages (from pyserini) (0.29.34)\n",
            "Requirement already satisfied: spacy>=3.2.1 in /usr/local/lib/python3.9/dist-packages (from pyserini) (3.5.2)\n",
            "Collecting nmslib>=2.1.1\n",
            "  Downloading nmslib-2.1.1-cp39-cp39-manylinux2010_x86_64.whl (13.3 MB)\n",
            "\u001b[2K     \u001b[90m━━━━━━━━━━━━━━━━━━━━━━━━━━━━━━━━━━━━━━━━\u001b[0m \u001b[32m13.3/13.3 MB\u001b[0m \u001b[31m81.7 MB/s\u001b[0m eta \u001b[36m0:00:00\u001b[0m\n",
            "\u001b[?25hCollecting pyjnius>=1.4.0\n",
            "  Downloading pyjnius-1.4.2-cp39-cp39-manylinux_2_17_x86_64.manylinux2014_x86_64.whl (1.5 MB)\n",
            "\u001b[2K     \u001b[90m━━━━━━━━━━━━━━━━━━━━━━━━━━━━━━━━━━━━━━━━\u001b[0m \u001b[32m1.5/1.5 MB\u001b[0m \u001b[31m56.8 MB/s\u001b[0m eta \u001b[36m0:00:00\u001b[0m\n",
            "\u001b[?25hRequirement already satisfied: pyyaml in /usr/local/lib/python3.9/dist-packages (from pyserini) (6.0)\n",
            "Requirement already satisfied: sentencepiece>=0.1.95 in /usr/local/lib/python3.9/dist-packages (from pyserini) (0.1.98)\n",
            "Requirement already satisfied: pandas>=1.4.0 in /usr/local/lib/python3.9/dist-packages (from pyserini) (1.5.3)\n",
            "Requirement already satisfied: transformers>=4.6.0 in /usr/local/lib/python3.9/dist-packages (from pyserini) (4.28.1)\n",
            "Requirement already satisfied: scikit-learn>=0.22.1 in /usr/local/lib/python3.9/dist-packages (from pyserini) (1.2.2)\n",
            "Collecting onnxruntime>=1.8.1\n",
            "  Downloading onnxruntime-1.14.1-cp39-cp39-manylinux_2_27_x86_64.whl (5.0 MB)\n",
            "\u001b[2K     \u001b[90m━━━━━━━━━━━━━━━━━━━━━━━━━━━━━━━━━━━━━━━━\u001b[0m \u001b[32m5.0/5.0 MB\u001b[0m \u001b[31m105.4 MB/s\u001b[0m eta \u001b[36m0:00:00\u001b[0m\n",
            "\u001b[?25hRequirement already satisfied: lightgbm>=3.3.2 in /usr/local/lib/python3.9/dist-packages (from pyserini) (3.3.5)\n",
            "Requirement already satisfied: scipy>=1.4.1 in /usr/local/lib/python3.9/dist-packages (from pyserini) (1.10.1)\n",
            "Requirement already satisfied: wheel in /usr/local/lib/python3.9/dist-packages (from lightgbm>=3.3.2->pyserini) (0.40.0)\n",
            "Requirement already satisfied: psutil in /usr/local/lib/python3.9/dist-packages (from nmslib>=2.1.1->pyserini) (5.9.5)\n",
            "Collecting pybind11<2.6.2\n",
            "  Downloading pybind11-2.6.1-py2.py3-none-any.whl (188 kB)\n",
            "\u001b[2K     \u001b[90m━━━━━━━━━━━━━━━━━━━━━━━━━━━━━━━━━━━━━━\u001b[0m \u001b[32m188.5/188.5 kB\u001b[0m \u001b[31m22.5 MB/s\u001b[0m eta \u001b[36m0:00:00\u001b[0m\n",
            "\u001b[?25hRequirement already satisfied: packaging in /usr/local/lib/python3.9/dist-packages (from onnxruntime>=1.8.1->pyserini) (23.1)\n",
            "Requirement already satisfied: flatbuffers in /usr/local/lib/python3.9/dist-packages (from onnxruntime>=1.8.1->pyserini) (23.3.3)\n",
            "Requirement already satisfied: protobuf in /usr/local/lib/python3.9/dist-packages (from onnxruntime>=1.8.1->pyserini) (3.20.3)\n",
            "Collecting coloredlogs\n",
            "  Downloading coloredlogs-15.0.1-py2.py3-none-any.whl (46 kB)\n",
            "\u001b[2K     \u001b[90m━━━━━━━━━━━━━━━━━━━━━━━━━━━━━━━━━━━━━━━━\u001b[0m \u001b[32m46.0/46.0 kB\u001b[0m \u001b[31m6.1 MB/s\u001b[0m eta \u001b[36m0:00:00\u001b[0m\n",
            "\u001b[?25hRequirement already satisfied: sympy in /usr/local/lib/python3.9/dist-packages (from onnxruntime>=1.8.1->pyserini) (1.11.1)\n",
            "Requirement already satisfied: pytz>=2020.1 in /usr/local/lib/python3.9/dist-packages (from pandas>=1.4.0->pyserini) (2022.7.1)\n",
            "Requirement already satisfied: python-dateutil>=2.8.1 in /usr/local/lib/python3.9/dist-packages (from pandas>=1.4.0->pyserini) (2.8.2)\n",
            "Requirement already satisfied: six>=1.7.0 in /usr/local/lib/python3.9/dist-packages (from pyjnius>=1.4.0->pyserini) (1.16.0)\n",
            "Requirement already satisfied: threadpoolctl>=2.0.0 in /usr/local/lib/python3.9/dist-packages (from scikit-learn>=0.22.1->pyserini) (3.1.0)\n",
            "Requirement already satisfied: joblib>=1.1.1 in /usr/local/lib/python3.9/dist-packages (from scikit-learn>=0.22.1->pyserini) (1.2.0)\n",
            "Requirement already satisfied: pathy>=0.10.0 in /usr/local/lib/python3.9/dist-packages (from spacy>=3.2.1->pyserini) (0.10.1)\n",
            "Requirement already satisfied: srsly<3.0.0,>=2.4.3 in /usr/local/lib/python3.9/dist-packages (from spacy>=3.2.1->pyserini) (2.4.6)\n",
            "Requirement already satisfied: smart-open<7.0.0,>=5.2.1 in /usr/local/lib/python3.9/dist-packages (from spacy>=3.2.1->pyserini) (6.3.0)\n",
            "Requirement already satisfied: jinja2 in /usr/local/lib/python3.9/dist-packages (from spacy>=3.2.1->pyserini) (3.1.2)\n",
            "Requirement already satisfied: requests<3.0.0,>=2.13.0 in /usr/local/lib/python3.9/dist-packages (from spacy>=3.2.1->pyserini) (2.27.1)\n",
            "Requirement already satisfied: preshed<3.1.0,>=3.0.2 in /usr/local/lib/python3.9/dist-packages (from spacy>=3.2.1->pyserini) (3.0.8)\n",
            "Requirement already satisfied: typer<0.8.0,>=0.3.0 in /usr/local/lib/python3.9/dist-packages (from spacy>=3.2.1->pyserini) (0.7.0)\n",
            "Requirement already satisfied: langcodes<4.0.0,>=3.2.0 in /usr/local/lib/python3.9/dist-packages (from spacy>=3.2.1->pyserini) (3.3.0)\n",
            "Requirement already satisfied: cymem<2.1.0,>=2.0.2 in /usr/local/lib/python3.9/dist-packages (from spacy>=3.2.1->pyserini) (2.0.7)\n",
            "Requirement already satisfied: murmurhash<1.1.0,>=0.28.0 in /usr/local/lib/python3.9/dist-packages (from spacy>=3.2.1->pyserini) (1.0.9)\n",
            "Requirement already satisfied: thinc<8.2.0,>=8.1.8 in /usr/local/lib/python3.9/dist-packages (from spacy>=3.2.1->pyserini) (8.1.9)\n",
            "Requirement already satisfied: spacy-legacy<3.1.0,>=3.0.11 in /usr/local/lib/python3.9/dist-packages (from spacy>=3.2.1->pyserini) (3.0.12)\n",
            "Requirement already satisfied: spacy-loggers<2.0.0,>=1.0.0 in /usr/local/lib/python3.9/dist-packages (from spacy>=3.2.1->pyserini) (1.0.4)\n",
            "Requirement already satisfied: pydantic!=1.8,!=1.8.1,<1.11.0,>=1.7.4 in /usr/local/lib/python3.9/dist-packages (from spacy>=3.2.1->pyserini) (1.10.7)\n",
            "Requirement already satisfied: wasabi<1.2.0,>=0.9.1 in /usr/local/lib/python3.9/dist-packages (from spacy>=3.2.1->pyserini) (1.1.1)\n",
            "Requirement already satisfied: catalogue<2.1.0,>=2.0.6 in /usr/local/lib/python3.9/dist-packages (from spacy>=3.2.1->pyserini) (2.0.8)\n",
            "Requirement already satisfied: setuptools in /usr/local/lib/python3.9/dist-packages (from spacy>=3.2.1->pyserini) (67.7.2)\n",
            "Requirement already satisfied: huggingface-hub<1.0,>=0.11.0 in /usr/local/lib/python3.9/dist-packages (from transformers>=4.6.0->pyserini) (0.14.1)\n",
            "Requirement already satisfied: filelock in /usr/local/lib/python3.9/dist-packages (from transformers>=4.6.0->pyserini) (3.12.0)\n",
            "Requirement already satisfied: regex!=2019.12.17 in /usr/local/lib/python3.9/dist-packages (from transformers>=4.6.0->pyserini) (2022.10.31)\n",
            "Requirement already satisfied: tokenizers!=0.11.3,<0.14,>=0.11.1 in /usr/local/lib/python3.9/dist-packages (from transformers>=4.6.0->pyserini) (0.13.3)\n",
            "Requirement already satisfied: fsspec in /usr/local/lib/python3.9/dist-packages (from huggingface-hub<1.0,>=0.11.0->transformers>=4.6.0->pyserini) (2023.4.0)\n",
            "Requirement already satisfied: typing-extensions>=3.7.4.3 in /usr/local/lib/python3.9/dist-packages (from huggingface-hub<1.0,>=0.11.0->transformers>=4.6.0->pyserini) (4.5.0)\n",
            "Requirement already satisfied: urllib3<1.27,>=1.21.1 in /usr/local/lib/python3.9/dist-packages (from requests<3.0.0,>=2.13.0->spacy>=3.2.1->pyserini) (1.26.15)\n",
            "Requirement already satisfied: charset-normalizer~=2.0.0 in /usr/local/lib/python3.9/dist-packages (from requests<3.0.0,>=2.13.0->spacy>=3.2.1->pyserini) (2.0.12)\n",
            "Requirement already satisfied: certifi>=2017.4.17 in /usr/local/lib/python3.9/dist-packages (from requests<3.0.0,>=2.13.0->spacy>=3.2.1->pyserini) (2022.12.7)\n",
            "Requirement already satisfied: idna<4,>=2.5 in /usr/local/lib/python3.9/dist-packages (from requests<3.0.0,>=2.13.0->spacy>=3.2.1->pyserini) (3.4)\n",
            "Requirement already satisfied: confection<1.0.0,>=0.0.1 in /usr/local/lib/python3.9/dist-packages (from thinc<8.2.0,>=8.1.8->spacy>=3.2.1->pyserini) (0.0.4)\n",
            "Requirement already satisfied: blis<0.8.0,>=0.7.8 in /usr/local/lib/python3.9/dist-packages (from thinc<8.2.0,>=8.1.8->spacy>=3.2.1->pyserini) (0.7.9)\n",
            "Requirement already satisfied: click<9.0.0,>=7.1.1 in /usr/local/lib/python3.9/dist-packages (from typer<0.8.0,>=0.3.0->spacy>=3.2.1->pyserini) (8.1.3)\n",
            "Collecting humanfriendly>=9.1\n",
            "  Downloading humanfriendly-10.0-py2.py3-none-any.whl (86 kB)\n",
            "\u001b[2K     \u001b[90m━━━━━━━━━━━━━━━━━━━━━━━━━━━━━━━━━━━━━━━━\u001b[0m \u001b[32m86.8/86.8 kB\u001b[0m \u001b[31m11.0 MB/s\u001b[0m eta \u001b[36m0:00:00\u001b[0m\n",
            "\u001b[?25hRequirement already satisfied: MarkupSafe>=2.0 in /usr/local/lib/python3.9/dist-packages (from jinja2->spacy>=3.2.1->pyserini) (2.1.2)\n",
            "Requirement already satisfied: mpmath>=0.19 in /usr/local/lib/python3.9/dist-packages (from sympy->onnxruntime>=1.8.1->pyserini) (1.3.0)\n",
            "Installing collected packages: pyjnius, pybind11, humanfriendly, nmslib, coloredlogs, onnxruntime, pyserini\n",
            "Successfully installed coloredlogs-15.0.1 humanfriendly-10.0 nmslib-2.1.1 onnxruntime-1.14.1 pybind11-2.6.1 pyjnius-1.4.2 pyserini-0.21.0\n",
            "Looking in indexes: https://pypi.org/simple, https://us-python.pkg.dev/colab-wheels/public/simple/\n",
            "Collecting faiss-gpu\n",
            "  Downloading faiss_gpu-1.7.2-cp39-cp39-manylinux_2_17_x86_64.manylinux2014_x86_64.whl (85.5 MB)\n",
            "\u001b[2K     \u001b[90m━━━━━━━━━━━━━━━━━━━━━━━━━━━━━━━━━━━━━━━━\u001b[0m \u001b[32m85.5/85.5 MB\u001b[0m \u001b[31m10.0 MB/s\u001b[0m eta \u001b[36m0:00:00\u001b[0m\n",
            "\u001b[?25hInstalling collected packages: faiss-gpu\n",
            "Successfully installed faiss-gpu-1.7.2\n"
          ]
        }
      ]
    },
    {
      "cell_type": "markdown",
      "source": [
        "## Importação de libs"
      ],
      "metadata": {
        "id": "tSY_YTfLkH19"
      }
    },
    {
      "cell_type": "code",
      "source": [
        "import json\n",
        "import numpy as np\n",
        "import pickle\n",
        "import torch\n",
        "from torch.nn.functional import relu\n",
        "from torch.utils import data\n",
        "from torch.utils.data import DataLoader\n",
        "from tqdm.auto import tqdm\n",
        "from transformers import AutoModelForMaskedLM, AutoTokenizer, BatchEncoding"
      ],
      "metadata": {
        "id": "TK1EI_oXGg8t"
      },
      "execution_count": 5,
      "outputs": []
    },
    {
      "cell_type": "markdown",
      "source": [
        "## Sementes"
      ],
      "metadata": {
        "id": "WeGMCNJDkI1U"
      }
    },
    {
      "cell_type": "code",
      "source": [
        "np.random.seed(42)"
      ],
      "metadata": {
        "id": "O7ufvlz-IjGX"
      },
      "execution_count": 6,
      "outputs": []
    },
    {
      "cell_type": "markdown",
      "source": [
        "## Utilização de GPUs"
      ],
      "metadata": {
        "id": "em7xEAlckK2M"
      }
    },
    {
      "cell_type": "code",
      "source": [
        "if torch.cuda.is_available(): \n",
        "   dev = \"cuda:0\"\n",
        "else: \n",
        "   dev = \"cpu\"\n",
        "device = torch.device(dev)\n",
        "print('Using {}'.format(device))"
      ],
      "metadata": {
        "colab": {
          "base_uri": "https://localhost:8080/"
        },
        "id": "TLDMZlu9Qlir",
        "outputId": "4ba004b2-9f8c-4260-df9e-195096b075cb"
      },
      "execution_count": 7,
      "outputs": [
        {
          "output_type": "stream",
          "name": "stdout",
          "text": [
            "Using cuda:0\n"
          ]
        }
      ]
    },
    {
      "cell_type": "code",
      "source": [
        "if dev != 'cpu':\n",
        "    !nvidia-smi"
      ],
      "metadata": {
        "colab": {
          "base_uri": "https://localhost:8080/"
        },
        "id": "imG9NOV3Qok3",
        "outputId": "e5fc39e4-a9b4-4b55-d400-ad61f2b53ff9"
      },
      "execution_count": 8,
      "outputs": [
        {
          "output_type": "stream",
          "name": "stdout",
          "text": [
            "Wed Apr 26 20:37:59 2023       \n",
            "+-----------------------------------------------------------------------------+\n",
            "| NVIDIA-SMI 525.85.12    Driver Version: 525.85.12    CUDA Version: 12.0     |\n",
            "|-------------------------------+----------------------+----------------------+\n",
            "| GPU  Name        Persistence-M| Bus-Id        Disp.A | Volatile Uncorr. ECC |\n",
            "| Fan  Temp  Perf  Pwr:Usage/Cap|         Memory-Usage | GPU-Util  Compute M. |\n",
            "|                               |                      |               MIG M. |\n",
            "|===============================+======================+======================|\n",
            "|   0  Tesla T4            Off  | 00000000:00:04.0 Off |                    0 |\n",
            "| N/A   57C    P8    11W /  70W |      3MiB / 15360MiB |      0%      Default |\n",
            "|                               |                      |                  N/A |\n",
            "+-------------------------------+----------------------+----------------------+\n",
            "                                                                               \n",
            "+-----------------------------------------------------------------------------+\n",
            "| Processes:                                                                  |\n",
            "|  GPU   GI   CI        PID   Type   Process name                  GPU Memory |\n",
            "|        ID   ID                                                   Usage      |\n",
            "|=============================================================================|\n",
            "|  No running processes found                                                 |\n",
            "+-----------------------------------------------------------------------------+\n"
          ]
        }
      ]
    },
    {
      "cell_type": "markdown",
      "source": [
        "# Preparação dos dados"
      ],
      "metadata": {
        "id": "jAsxa_kBhX2N"
      }
    },
    {
      "cell_type": "markdown",
      "source": [
        "## Obtenção - TREC-COVID"
      ],
      "metadata": {
        "id": "HsmMqYlOi0gx"
      }
    },
    {
      "cell_type": "code",
      "source": [
        "!wget -nc 'https://public.ukp.informatik.tu-darmstadt.de/thakur/BEIR/datasets/trec-covid.zip'"
      ],
      "metadata": {
        "colab": {
          "base_uri": "https://localhost:8080/"
        },
        "id": "h7MlxORWGqhv",
        "outputId": "19af4abe-34cb-4e2e-c27b-2f664595d636"
      },
      "execution_count": 9,
      "outputs": [
        {
          "output_type": "stream",
          "name": "stdout",
          "text": [
            "--2023-04-26 20:37:59--  https://public.ukp.informatik.tu-darmstadt.de/thakur/BEIR/datasets/trec-covid.zip\n",
            "Resolving public.ukp.informatik.tu-darmstadt.de (public.ukp.informatik.tu-darmstadt.de)... 130.83.167.186\n",
            "Connecting to public.ukp.informatik.tu-darmstadt.de (public.ukp.informatik.tu-darmstadt.de)|130.83.167.186|:443... connected.\n",
            "HTTP request sent, awaiting response... 200 OK\n",
            "Length: 73876720 (70M) [application/zip]\n",
            "Saving to: ‘trec-covid.zip’\n",
            "\n",
            "trec-covid.zip      100%[===================>]  70.45M  21.1MB/s    in 3.6s    \n",
            "\n",
            "2023-04-26 20:38:03 (19.8 MB/s) - ‘trec-covid.zip’ saved [73876720/73876720]\n",
            "\n"
          ]
        }
      ]
    },
    {
      "cell_type": "code",
      "source": [
        "!unzip -o trec-covid.zip"
      ],
      "metadata": {
        "colab": {
          "base_uri": "https://localhost:8080/"
        },
        "id": "E8-JBx7UtEr0",
        "outputId": "7570e5b6-509b-4434-e636-0a5f70a112e1"
      },
      "execution_count": 10,
      "outputs": [
        {
          "output_type": "stream",
          "name": "stdout",
          "text": [
            "Archive:  trec-covid.zip\n",
            "   creating: trec-covid/\n",
            "   creating: trec-covid/qrels/\n",
            "  inflating: trec-covid/qrels/test.tsv  \n",
            "  inflating: trec-covid/corpus.jsonl  \n",
            "  inflating: trec-covid/queries.jsonl  \n"
          ]
        }
      ]
    },
    {
      "cell_type": "markdown",
      "source": [
        "## Tratamento - qrels de test"
      ],
      "metadata": {
        "id": "evJv3X-Oi3de"
      }
    },
    {
      "cell_type": "code",
      "source": [
        "with open('trec-covid/qrels/test.tsv', 'r') as fin:\n",
        "  data = fin.read().splitlines(True)\n",
        "\n",
        "print(data[:5])\n",
        "print(data[4].split())"
      ],
      "metadata": {
        "colab": {
          "base_uri": "https://localhost:8080/"
        },
        "id": "a6GepFFgt3eY",
        "outputId": "0d62405c-0411-41ad-e61e-355e6305e7f7"
      },
      "execution_count": 11,
      "outputs": [
        {
          "output_type": "stream",
          "name": "stdout",
          "text": [
            "['query-id\\tcorpus-id\\tscore\\n', '1\\t005b2j4b\\t2\\n', '1\\t00fmeepz\\t1\\n', '1\\tg7dhmyyo\\t2\\n', '1\\t0194oljo\\t1\\n']\n",
            "['1', '0194oljo', '1']\n"
          ]
        }
      ]
    },
    {
      "cell_type": "code",
      "source": [
        "with open('test_adjusted.tsv', 'w') as fout:\n",
        "    for line in data[1:]:\n",
        "        query_id, corpus_id, score = line.split()\n",
        "        fout.write(f'{query_id}\\t0\\t{corpus_id}\\t{score}\\n')"
      ],
      "metadata": {
        "id": "bR3wjYpBH0-k"
      },
      "execution_count": 12,
      "outputs": []
    },
    {
      "cell_type": "markdown",
      "source": [
        "## Tratamento - corpus"
      ],
      "metadata": {
        "id": "cCQgQ8CSi_9F"
      }
    },
    {
      "cell_type": "code",
      "source": [
        "corpus = []\n",
        "with open('trec-covid/corpus.jsonl') as fin:\n",
        "    for i, line in enumerate(fin):\n",
        "        doc = json.loads(line)\n",
        "        corpus.append((doc['_id'], f\"{doc['title']} {doc['text']}\"))\n",
        "\n",
        "for text in corpus[:10]:\n",
        "    print(text)"
      ],
      "metadata": {
        "colab": {
          "base_uri": "https://localhost:8080/"
        },
        "id": "kYbOqVLoHpgp",
        "outputId": "445c502b-89a1-4725-f983-eabc1de4cae7"
      },
      "execution_count": 13,
      "outputs": [
        {
          "output_type": "stream",
          "name": "stdout",
          "text": [
            "('ug7v899j', 'Clinical features of culture-proven Mycoplasma pneumoniae infections at King Abdulaziz University Hospital, Jeddah, Saudi Arabia OBJECTIVE: This retrospective chart review describes the epidemiology and clinical features of 40 patients with culture-proven Mycoplasma pneumoniae infections at King Abdulaziz University Hospital, Jeddah, Saudi Arabia. METHODS: Patients with positive M. pneumoniae cultures from respiratory specimens from January 1997 through December 1998 were identified through the Microbiology records. Charts of patients were reviewed. RESULTS: 40 patients were identified, 33 (82.5%) of whom required admission. Most infections (92.5%) were community-acquired. The infection affected all age groups but was most common in infants (32.5%) and pre-school children (22.5%). It occurred year-round but was most common in the fall (35%) and spring (30%). More than three-quarters of patients (77.5%) had comorbidities. Twenty-four isolates (60%) were associated with pneumonia, 14 (35%) with upper respiratory tract infections, and 2 (5%) with bronchiolitis. Cough (82.5%), fever (75%), and malaise (58.8%) were the most common symptoms, and crepitations (60%), and wheezes (40%) were the most common signs. Most patients with pneumonia had crepitations (79.2%) but only 25% had bronchial breathing. Immunocompromised patients were more likely than non-immunocompromised patients to present with pneumonia (8/9 versus 16/31, P = 0.05). Of the 24 patients with pneumonia, 14 (58.3%) had uneventful recovery, 4 (16.7%) recovered following some complications, 3 (12.5%) died because of M pneumoniae infection, and 3 (12.5%) died due to underlying comorbidities. The 3 patients who died of M pneumoniae pneumonia had other comorbidities. CONCLUSION: our results were similar to published data except for the finding that infections were more common in infants and preschool children and that the mortality rate of pneumonia in patients with comorbidities was high.')\n",
            "('02tnwd4m', 'Nitric oxide: a pro-inflammatory mediator in lung disease? Inflammatory diseases of the respiratory tract are commonly associated with elevated production of nitric oxide (NO•) and increased indices of NO• -dependent oxidative stress. Although NO• is known to have anti-microbial, anti-inflammatory and anti-oxidant properties, various lines of evidence support the contribution of NO• to lung injury in several disease models. On the basis of biochemical evidence, it is often presumed that such NO• -dependent oxidations are due to the formation of the oxidant peroxynitrite, although alternative mechanisms involving the phagocyte-derived heme proteins myeloperoxidase and eosinophil peroxidase might be operative during conditions of inflammation. Because of the overwhelming literature on NO• generation and activities in the respiratory tract, it would be beyond the scope of this commentary to review this area comprehensively. Instead, it focuses on recent evidence and concepts of the presumed contribution of NO• to inflammatory diseases of the lung.')\n",
            "('ejv2xln0', 'Surfactant protein-D and pulmonary host defense Surfactant protein-D (SP-D) participates in the innate response to inhaled microorganisms and organic antigens, and contributes to immune and inflammatory regulation within the lung. SP-D is synthesized and secreted by alveolar and bronchiolar epithelial cells, but is also expressed by epithelial cells lining various exocrine ducts and the mucosa of the gastrointestinal and genitourinary tracts. SP-D, a collagenous calcium-dependent lectin (or collectin), binds to surface glycoconjugates expressed by a wide variety of microorganisms, and to oligosaccharides associated with the surface of various complex organic antigens. SP-D also specifically interacts with glycoconjugates and other molecules expressed on the surface of macrophages, neutrophils, and lymphocytes. In addition, SP-D binds to specific surfactant-associated lipids and can influence the organization of lipid mixtures containing phosphatidylinositol in vitro. Consistent with these diverse in vitro activities is the observation that SP-D-deficient transgenic mice show abnormal accumulations of surfactant lipids, and respond abnormally to challenge with respiratory viruses and bacterial lipopolysaccharides. The phenotype of macrophages isolated from the lungs of SP-D-deficient mice is altered, and there is circumstantial evidence that abnormal oxidant metabolism and/or increased metalloproteinase expression contributes to the development of emphysema. The expression of SP-D is increased in response to many forms of lung injury, and deficient accumulation of appropriately oligomerized SP-D might contribute to the pathogenesis of a variety of human lung diseases.')\n",
            "('2b73a28n', 'Role of endothelin-1 in lung disease Endothelin-1 (ET-1) is a 21 amino acid peptide with diverse biological activity that has been implicated in numerous diseases. ET-1 is a potent mitogen regulator of smooth muscle tone, and inflammatory mediator that may play a key role in diseases of the airways, pulmonary circulation, and inflammatory lung diseases, both acute and chronic. This review will focus on the biology of ET-1 and its role in lung disease.')\n",
            "('9785vg6d', 'Gene expression in epithelial cells in response to pneumovirus infection Respiratory syncytial virus (RSV) and pneumonia virus of mice (PVM) are viruses of the family Paramyxoviridae, subfamily pneumovirus, which cause clinically important respiratory infections in humans and rodents, respectively. The respiratory epithelial target cells respond to viral infection with specific alterations in gene expression, including production of chemoattractant cytokines, adhesion molecules, elements that are related to the apoptosis response, and others that remain incompletely understood. Here we review our current understanding of these mucosal responses and discuss several genomic approaches, including differential display reverse transcription-polymerase chain reaction (PCR) and gene array strategies, that will permit us to unravel the nature of these responses in a more complete and systematic manner.')\n",
            "('zjufx4fo', 'Sequence requirements for RNA strand transfer during nidovirus discontinuous subgenomic RNA synthesis Nidovirus subgenomic mRNAs contain a leader sequence derived from the 5′ end of the genome fused to different sequences (‘bodies’) derived from the 3′ end. Their generation involves a unique mechanism of discontinuous subgenomic RNA synthesis that resembles copy-choice RNA recombination. During this process, the nascent RNA strand is transferred from one site in the template to another, during either plus or minus strand synthesis, to yield subgenomic RNA molecules. Central to this process are transcription-regulating sequences (TRSs), which are present at both template sites and ensure the fidelity of strand transfer. Here we present results of a comprehensive co-variation mutagenesis study of equine arteritis virus TRSs, demonstrating that discontinuous RNA synthesis depends not only on base pairing between sense leader TRS and antisense body TRS, but also on the primary sequence of the body TRS. While the leader TRS merely plays a targeting role for strand transfer, the body TRS fulfils multiple functions. The sequences of mRNA leader–body junctions of TRS mutants strongly suggested that the discontinuous step occurs during minus strand synthesis.')\n",
            "('5yhe786e', 'Debate: Transfusing to normal haemoglobin levels will not improve outcome Recent evidence suggests that critically ill patients are able to tolerate lower levels of haemoglobin than was previously believed. It is our goal to show that transfusing to a level of 100 g/l does not improve mortality and other clinically important outcomes in a critical care setting. Although many questions remain, many laboratory and clinical studies, including a recent randomized controlled trial (RCT), have established that transfusing to normal haemoglobin concentrations does not improve organ failure and mortality in the critically ill patient. In addition, a restrictive transfusion strategy will reduce exposure to allogeneic transfusions, result in more efficient use of red blood cells (RBCs), save blood overall, and decrease health care costs.')\n",
            "('8zchiykl', \"The 21st International Symposium on Intensive Care and Emergency Medicine, Brussels, Belgium, 20-23 March 2001 The 21st International Symposium on Intensive Care and Emergency Medicine was dominated by the results of recent clinical trials in sepsis and acute respiratory distress syndrome (ARDS). The promise of extracorporeal liver replacement therapy and noninvasive ventilation were other areas of interest. Ethical issues also received attention. Overall, the 'state of the art' lectures, pro/con debates, seminars and tutorials were of a high standard. The meeting was marked by a sense of renewed enthusiasm that positive progress is occurring in intensive care medicine.\")\n",
            "('8qnrcgnk', 'Heme oxygenase-1 and carbon monoxide in pulmonary medicine Heme oxygenase-1 (HO-1), an inducible stress protein, confers cytoprotection against oxidative stress in vitro and in vivo. In addition to its physiological role in heme degradation, HO-1 may influence a number of cellular processes, including growth, inflammation, and apoptosis. By virtue of anti-inflammatory effects, HO-1 limits tissue damage in response to proinflammatory stimuli and prevents allograft rejection after transplantation. The transcriptional upregulation of HO-1 responds to many agents, such as hypoxia, bacterial lipopolysaccharide, and reactive oxygen/nitrogen species. HO-1 and its constitutively expressed isozyme, heme oxygenase-2, catalyze the rate-limiting step in the conversion of heme to its metabolites, bilirubin IXα, ferrous iron, and carbon monoxide (CO). The mechanisms by which HO-1 provides protection most likely involve its enzymatic reaction products. Remarkably, administration of CO at low concentrations can substitute for HO-1 with respect to anti-inflammatory and anti-apoptotic effects, suggesting a role for CO as a key mediator of HO-1 function. Chronic, low-level, exogenous exposure to CO from cigarette smoking contributes to the importance of CO in pulmonary medicine. The implications of the HO-1/CO system in pulmonary diseases will be discussed in this review, with an emphasis on inflammatory states.')\n",
            "('jg13scgo', 'Technical Description of RODS: A Real-time Public Health Surveillance System This report describes the design and implementation of the Real-time Outbreak and Disease Surveillance (RODS) system, a computer-based public health surveillance system for early detection of disease outbreaks. Hospitals send RODS data from clinical encounters over virtual private networks and leased lines using the Health Level 7 (HL7) message protocol. The data are sent in real time. RODS automatically classifies the registration chief complaint from the visit into one of seven syndrome categories using Bayesian classifiers. It stores the data in a relational database, aggregates the data for analysis using data warehousing techniques, applies univariate and multivariate statistical detection algorithms to the data, and alerts users of when the algorithms identify anomalous patterns in the syndrome counts. RODS also has a Web-based user interface that supports temporal and spatial analyses. RODS processes sales of over-the-counter health care products in a similar manner but receives such data in batch mode on a daily basis. RODS was used during the 2002 Winter Olympics and currently operates in two states—Pennsylvania and Utah. It has been and continues to be a resource for implementing, evaluating, and applying new methods of public health surveillance.')\n"
          ]
        }
      ]
    },
    {
      "cell_type": "markdown",
      "source": [
        "## Tratamento - queries"
      ],
      "metadata": {
        "id": "_HVO93xVjDec"
      }
    },
    {
      "cell_type": "code",
      "source": [
        "queries = []\n",
        "with open('trec-covid/queries.jsonl') as fin:\n",
        "    for line in fin:\n",
        "      query = json.loads(line)\n",
        "      queries.append({'id': query['_id'], 'text': query['text']})\n",
        "\n",
        "for query in queries[:10]:\n",
        "    print(query)      "
      ],
      "metadata": {
        "colab": {
          "base_uri": "https://localhost:8080/"
        },
        "id": "Vn_xUAEuIzsn",
        "outputId": "91ef4a75-269e-4ba2-eca5-28dd39c93419"
      },
      "execution_count": 14,
      "outputs": [
        {
          "output_type": "stream",
          "name": "stdout",
          "text": [
            "{'id': '1', 'text': 'what is the origin of COVID-19'}\n",
            "{'id': '2', 'text': 'how does the coronavirus respond to changes in the weather'}\n",
            "{'id': '3', 'text': 'will SARS-CoV2 infected people develop immunity? Is cross protection possible?'}\n",
            "{'id': '4', 'text': 'what causes death from Covid-19?'}\n",
            "{'id': '5', 'text': 'what drugs have been active against SARS-CoV or SARS-CoV-2 in animal studies?'}\n",
            "{'id': '6', 'text': 'what types of rapid testing for Covid-19 have been developed?'}\n",
            "{'id': '7', 'text': 'are there serological tests that detect antibodies to coronavirus?'}\n",
            "{'id': '8', 'text': 'how has lack of testing availability led to underreporting of true incidence of Covid-19?'}\n",
            "{'id': '9', 'text': 'how has COVID-19 affected Canada'}\n",
            "{'id': '10', 'text': 'has social distancing had an impact on slowing the spread of COVID-19?'}\n"
          ]
        }
      ]
    },
    {
      "cell_type": "markdown",
      "source": [
        "## Carregamento do Tokenizer"
      ],
      "metadata": {
        "id": "iX2P2kbTAGVz"
      }
    },
    {
      "cell_type": "code",
      "source": [
        "tokenizer = AutoTokenizer.from_pretrained(model_name)"
      ],
      "metadata": {
        "colab": {
          "base_uri": "https://localhost:8080/",
          "height": 145,
          "referenced_widgets": [
            "f6f69ecfbe8046d8ba7e56c948d77d08",
            "97037f328e82429a96629ad897a95b0a",
            "82c68792f0244836a6853f1ac3ee6029",
            "c33411227ba346ca82852d830b502990",
            "90cbc5c894854b8cbc0e7f0d0171baae",
            "ec7f844d7b30452b9756088d2116f162",
            "959deb07b47b4e25b5e73fa37ae9579a",
            "78d3bfde3dd64305a3a90ecbdde9b23d",
            "9508b447530a42a88eae86a782a794ec",
            "c4e3b53d2d804fe3b2094927f0843fc3",
            "68e517203ad3466982346f32297359bc",
            "846b3a986573437a83fe79db168c7fc7",
            "ba9b7be784444b45ab4badbcadd49ac1",
            "9b45946a404b4cb897ad3ae0214df339",
            "6e19166429c44656992512a13676734a",
            "a012ca86a1eb4e97a89987d43ca54335",
            "591af4cacdeb447fae84ec590e535f52",
            "f55ba46570f2406da6abc0b5d1493a44",
            "0f78340d5d5142e7abefbe253d7714ef",
            "1a8855065737424189d865a8725f4a07",
            "339512e684084b28b52105d5c7469981",
            "12995ca50b194881814cb2638dd9fd43",
            "ad745fd507934b7f81ba9018aeefa04b",
            "b7d0071c93a14eb995f63fd4796deff8",
            "1b27140234224df895e744f401ac5e12",
            "cca734935a9c407882492ae336405e11",
            "5f899a72ef054809a54f486076a62d93",
            "d4b9f6dc2d4c4f19bc4d15685fdd1b6f",
            "9e533cbf1e5248959f73f0a1bd20127f",
            "031ee7a59b534bb09dbce1077f54841f",
            "447ec9beff7145888100ffaa563d5b84",
            "b551f6f135d8437b8b9b4e991dbcd03a",
            "650a9636097d4233bd71c5cbfa13c48f",
            "e4414ee5b14d43319d5465a177503676",
            "e0773c2e9528447a933b5f78d89d4a58",
            "e2c58936552746ef9b4f3304d243971c",
            "5f40d9a133314f6297b4f25f051c90a1",
            "9fc448ea570e4d70ba23d1805981c074",
            "49c88a7438d8423cb780c452bc084091",
            "e27b868e89b4465c8c680d262580a2d7",
            "c7b5061917244103b1f881a9e93a0623",
            "3fc679799b624b148964be3e6e1ff723",
            "6efddc62cc6145fa95f63a0ae240e5ae",
            "1b0de692795749f5a72816262b2ee8f7"
          ]
        },
        "id": "DZPJzCYWK9Z_",
        "outputId": "0c688072-99b1-423b-8df6-0877fd6be5f3"
      },
      "execution_count": 15,
      "outputs": [
        {
          "output_type": "display_data",
          "data": {
            "text/plain": [
              "Downloading (…)okenizer_config.json:   0%|          | 0.00/258 [00:00<?, ?B/s]"
            ],
            "application/vnd.jupyter.widget-view+json": {
              "version_major": 2,
              "version_minor": 0,
              "model_id": "f6f69ecfbe8046d8ba7e56c948d77d08"
            }
          },
          "metadata": {}
        },
        {
          "output_type": "display_data",
          "data": {
            "text/plain": [
              "Downloading (…)lve/main/config.json:   0%|          | 0.00/523 [00:00<?, ?B/s]"
            ],
            "application/vnd.jupyter.widget-view+json": {
              "version_major": 2,
              "version_minor": 0,
              "model_id": "846b3a986573437a83fe79db168c7fc7"
            }
          },
          "metadata": {}
        },
        {
          "output_type": "display_data",
          "data": {
            "text/plain": [
              "Downloading (…)solve/main/vocab.txt:   0%|          | 0.00/232k [00:00<?, ?B/s]"
            ],
            "application/vnd.jupyter.widget-view+json": {
              "version_major": 2,
              "version_minor": 0,
              "model_id": "ad745fd507934b7f81ba9018aeefa04b"
            }
          },
          "metadata": {}
        },
        {
          "output_type": "display_data",
          "data": {
            "text/plain": [
              "Downloading (…)cial_tokens_map.json:   0%|          | 0.00/112 [00:00<?, ?B/s]"
            ],
            "application/vnd.jupyter.widget-view+json": {
              "version_major": 2,
              "version_minor": 0,
              "model_id": "e4414ee5b14d43319d5465a177503676"
            }
          },
          "metadata": {}
        }
      ]
    },
    {
      "cell_type": "markdown",
      "source": [
        "## Classe de dataset"
      ],
      "metadata": {
        "id": "FWKNGXcJjVnD"
      }
    },
    {
      "cell_type": "code",
      "source": [
        "class DatasetCovid(torch.utils.data.Dataset):\n",
        "    def __init__(self, tokenizer, texts, max_seq_length = max_length):\n",
        "        self.max_seq_length = max_seq_length\n",
        "        self.tokenizer = tokenizer\n",
        "        if type(texts[0]) is tuple:\n",
        "            self.texts = [text[1] for text in texts]\n",
        "        else:\n",
        "            self.texts = texts\n",
        "    def __len__(self):\n",
        "        return len(self.texts)\n",
        "    def __getitem__(self, idx):\n",
        "        return self.tokenizer(self.texts[idx], padding=True, return_special_tokens_mask=True, add_special_tokens=True, truncation=True, max_length=self.max_seq_length)"
      ],
      "metadata": {
        "id": "-KjBIalsKLgK"
      },
      "execution_count": 16,
      "outputs": []
    },
    {
      "cell_type": "markdown",
      "source": [
        "## Função collate - padding"
      ],
      "metadata": {
        "id": "OG1FqP6Vjd3i"
      }
    },
    {
      "cell_type": "code",
      "source": [
        "def collate_fn(batch):\n",
        "    return BatchEncoding(tokenizer.pad(batch, return_tensors='pt'))"
      ],
      "metadata": {
        "id": "yh9sFniXQTAF"
      },
      "execution_count": 17,
      "outputs": []
    },
    {
      "cell_type": "markdown",
      "source": [
        "# Splade"
      ],
      "metadata": {
        "id": "Hq6Y0k52heop"
      }
    },
    {
      "cell_type": "markdown",
      "source": [
        "## Carregamento do modelo"
      ],
      "metadata": {
        "id": "Lbwcg5eohks3"
      }
    },
    {
      "cell_type": "code",
      "source": [
        "model = AutoModelForMaskedLM.from_pretrained(model_name).to(device)"
      ],
      "metadata": {
        "colab": {
          "base_uri": "https://localhost:8080/",
          "height": 49,
          "referenced_widgets": [
            "124a97aa20754aff826064bccb05f0b6",
            "55ebdd9fe9bf436e8842b9b203d5043c",
            "09c1083b16f345bf9c71d200e63e9d09",
            "e17f5906bdb5479ea878db6762393074",
            "35ed1c168a1b48629e8e4c48f3c7df6f",
            "b57ae58572d54d489c1c3a32097f0691",
            "ceb0fc283e704a6dbeb4b34a22aefa3f",
            "a7ec6c02c20d45fcabf812c30490b8be",
            "b992e1f60c714e91be54a679d5f6eb60",
            "5d3c2565223e4d54b52bb6b782439f1e",
            "81a3aab933f741698f1bcd5d5ba5acf7"
          ]
        },
        "id": "rfbbtDTxQWp8",
        "outputId": "3c0cb409-7684-4887-fc42-ce2386e0c9ad"
      },
      "execution_count": 18,
      "outputs": [
        {
          "output_type": "display_data",
          "data": {
            "text/plain": [
              "Downloading pytorch_model.bin:   0%|          | 0.00/268M [00:00<?, ?B/s]"
            ],
            "application/vnd.jupyter.widget-view+json": {
              "version_major": 2,
              "version_minor": 0,
              "model_id": "124a97aa20754aff826064bccb05f0b6"
            }
          },
          "metadata": {}
        }
      ]
    },
    {
      "cell_type": "markdown",
      "source": [
        "## Funções de expansão de termos para documentos"
      ],
      "metadata": {
        "id": "LO23YohR70C0"
      }
    },
    {
      "cell_type": "code",
      "source": [
        "def splade_text(model, tokenizer, text, device):\n",
        "    inputs = tokenizer(text, add_special_tokens=True, return_special_tokens_mask=True, return_tensors='pt', truncation=True, max_length=256)\n",
        "    with torch.no_grad():\n",
        "        outputs = model(input_ids = inputs['input_ids'].to(device), attention_mask = inputs['attention_mask'].to(device))\n",
        "        logits = outputs.logits.squeeze()\n",
        "        wj, _ = torch.max(torch.log(1 + relu(logits)), dim = 0)\n",
        "        wj = wj.cpu().to_sparse()\n",
        "        ids = wj.indices()\n",
        "    return ids, wj.values(), tokenizer.convert_ids_to_tokens(ids.squeeze())"
      ],
      "metadata": {
        "id": "guMWVQ1E8Lje"
      },
      "execution_count": 35,
      "outputs": []
    },
    {
      "cell_type": "code",
      "source": [
        "def splade_batch(model, tokenizer, batch, device):\n",
        "    with torch.no_grad():\n",
        "        outputs = model(input_ids = batch['input_ids'].to(device), attention_mask = batch['attention_mask'].to(device))\n",
        "        logits = outputs.logits\n",
        "        wj, _ = torch.max(torch.log(1 + relu(logits)), dim = 1)\n",
        "    return wj.cpu().to_sparse()"
      ],
      "metadata": {
        "id": "9vVhvMocdQr4"
      },
      "execution_count": 36,
      "outputs": []
    },
    {
      "cell_type": "code",
      "source": [
        "def splade_dataloader(model, tokenizer, dataloader, device):\n",
        "    wj = None\n",
        "    for id_batch, batch in enumerate(tqdm(dataloader)):\n",
        "        wj_batch = splade_batch(model, tokenizer, batch, device)\n",
        "        if wj is None:\n",
        "            wj = wj_batch\n",
        "        else:\n",
        "            wj = torch.cat((wj, wj_batch), dim = 0)\n",
        "    return wj"
      ],
      "metadata": {
        "id": "B2KTE4R3DpUD"
      },
      "execution_count": 37,
      "outputs": []
    },
    {
      "cell_type": "code",
      "source": [
        "def show_splade(texts, wj, tokenizer, quantity = 10):\n",
        "    indices = wj.coalesce().indices()\n",
        "    values = wj.coalesce().values()\n",
        "\n",
        "    for sentence, text in enumerate(texts):\n",
        "        print('Text', sentence, '-', text)\n",
        "        sentence_mask = indices[0] == sentence\n",
        "        ids = indices[1][sentence_mask].numpy()\n",
        "        tokens = tokenizer.convert_ids_to_tokens(ids)\n",
        "        zip_list = sorted(list(zip(values, tokens)), reverse = True)\n",
        "        for value, token in zip_list[:quantity]:\n",
        "            print('\\t' + token, '-', value.item())  "
      ],
      "metadata": {
        "id": "X08_zA2yKznh"
      },
      "execution_count": 38,
      "outputs": []
    },
    {
      "cell_type": "markdown",
      "source": [
        "# Execução de testes"
      ],
      "metadata": {
        "id": "aCX6l5NO69Oe"
      }
    },
    {
      "cell_type": "markdown",
      "source": [
        "## Dataset"
      ],
      "metadata": {
        "id": "A5EyIxQmfGED"
      }
    },
    {
      "cell_type": "code",
      "source": [
        "texts_test = [\n",
        "    'I love taking long walks on the beach at sunset.',\n",
        "    'She was so nervous about the job interview that she could hardly sit still.',\n",
        "    'The smell of fresh-baked cookies always makes me feel happy.',\n",
        "    'Despite the rain, the outdoor concert was still a huge success.',\n",
        "    \"He couldn't believe how quickly time had passed since he graduated from college.\"\n",
        "]\n",
        "# ['where eat pizza', 'what about the weather today', 'how to achieve wisdom', 'what is the capital of Australia', 'when europeans founded America']\n",
        "\n",
        "dataset_test = DatasetCovid(tokenizer, texts_test, max_seq_length = 20)\n",
        "\n",
        "for i in range(len(dataset_test)):\n",
        "    print(i, '-', tokenizer.decode(dataset_test[i]['input_ids']))\n",
        "    print('\\t', dataset_test[i])"
      ],
      "metadata": {
        "colab": {
          "base_uri": "https://localhost:8080/"
        },
        "id": "l1XHNOaYLtCF",
        "outputId": "375442dd-eb8c-48af-c23c-c4d3763b023a"
      },
      "execution_count": 39,
      "outputs": [
        {
          "output_type": "stream",
          "name": "stdout",
          "text": [
            "0 - [CLS] i love taking long walks on the beach at sunset. [SEP]\n",
            "\t {'input_ids': [101, 1045, 2293, 2635, 2146, 7365, 2006, 1996, 3509, 2012, 10434, 1012, 102], 'attention_mask': [1, 1, 1, 1, 1, 1, 1, 1, 1, 1, 1, 1, 1], 'special_tokens_mask': [1, 0, 0, 0, 0, 0, 0, 0, 0, 0, 0, 0, 1]}\n",
            "1 - [CLS] she was so nervous about the job interview that she could hardly sit still. [SEP]\n",
            "\t {'input_ids': [101, 2016, 2001, 2061, 6091, 2055, 1996, 3105, 4357, 2008, 2016, 2071, 6684, 4133, 2145, 1012, 102], 'attention_mask': [1, 1, 1, 1, 1, 1, 1, 1, 1, 1, 1, 1, 1, 1, 1, 1, 1], 'special_tokens_mask': [1, 0, 0, 0, 0, 0, 0, 0, 0, 0, 0, 0, 0, 0, 0, 0, 1]}\n",
            "2 - [CLS] the smell of fresh - baked cookies always makes me feel happy. [SEP]\n",
            "\t {'input_ids': [101, 1996, 5437, 1997, 4840, 1011, 17776, 16324, 2467, 3084, 2033, 2514, 3407, 1012, 102], 'attention_mask': [1, 1, 1, 1, 1, 1, 1, 1, 1, 1, 1, 1, 1, 1, 1], 'special_tokens_mask': [1, 0, 0, 0, 0, 0, 0, 0, 0, 0, 0, 0, 0, 0, 1]}\n",
            "3 - [CLS] despite the rain, the outdoor concert was still a huge success. [SEP]\n",
            "\t {'input_ids': [101, 2750, 1996, 4542, 1010, 1996, 7254, 4164, 2001, 2145, 1037, 4121, 3112, 1012, 102], 'attention_mask': [1, 1, 1, 1, 1, 1, 1, 1, 1, 1, 1, 1, 1, 1, 1], 'special_tokens_mask': [1, 0, 0, 0, 0, 0, 0, 0, 0, 0, 0, 0, 0, 0, 1]}\n",
            "4 - [CLS] he couldn't believe how quickly time had passed since he graduated from college. [SEP]\n",
            "\t {'input_ids': [101, 2002, 2481, 1005, 1056, 2903, 2129, 2855, 2051, 2018, 2979, 2144, 2002, 3852, 2013, 2267, 1012, 102], 'attention_mask': [1, 1, 1, 1, 1, 1, 1, 1, 1, 1, 1, 1, 1, 1, 1, 1, 1, 1], 'special_tokens_mask': [1, 0, 0, 0, 0, 0, 0, 0, 0, 0, 0, 0, 0, 0, 0, 0, 0, 1]}\n"
          ]
        }
      ]
    },
    {
      "cell_type": "markdown",
      "source": [
        "## Dataloader"
      ],
      "metadata": {
        "id": "UcueIgtMR0BB"
      }
    },
    {
      "cell_type": "code",
      "source": [
        "dataloader_test = DataLoader(dataset_test, batch_size=2, shuffle=False, collate_fn=collate_fn)\n",
        "\n",
        "for batch_id, batch in enumerate(dataloader_test):\n",
        "    print('Batch', batch_id, '- size:', len(batch['input_ids']))\n",
        "    for i in range(len(batch['input_ids'])):  \n",
        "        print('\\tText', i, '-', tokenizer.decode(batch['input_ids'][i]))\n",
        "        for key in batch.keys():\n",
        "            print('\\t\\t' + key + ':', batch[key][i])"
      ],
      "metadata": {
        "id": "5D2c1lmwMb9v",
        "colab": {
          "base_uri": "https://localhost:8080/"
        },
        "outputId": "58e62f24-27e1-4f4a-fa54-8c49d9419c60"
      },
      "execution_count": 40,
      "outputs": [
        {
          "output_type": "stream",
          "name": "stdout",
          "text": [
            "Batch 0 - size: 2\n",
            "\tText 0 - [CLS] i love taking long walks on the beach at sunset. [SEP] [PAD] [PAD] [PAD] [PAD]\n",
            "\t\tinput_ids: tensor([  101,  1045,  2293,  2635,  2146,  7365,  2006,  1996,  3509,  2012,\n",
            "        10434,  1012,   102,     0,     0,     0,     0])\n",
            "\t\tattention_mask: tensor([1, 1, 1, 1, 1, 1, 1, 1, 1, 1, 1, 1, 1, 0, 0, 0, 0])\n",
            "\t\tspecial_tokens_mask: tensor([1, 0, 0, 0, 0, 0, 0, 0, 0, 0, 0, 0, 1, 1, 1, 1, 1])\n",
            "\tText 1 - [CLS] she was so nervous about the job interview that she could hardly sit still. [SEP]\n",
            "\t\tinput_ids: tensor([ 101, 2016, 2001, 2061, 6091, 2055, 1996, 3105, 4357, 2008, 2016, 2071,\n",
            "        6684, 4133, 2145, 1012,  102])\n",
            "\t\tattention_mask: tensor([1, 1, 1, 1, 1, 1, 1, 1, 1, 1, 1, 1, 1, 1, 1, 1, 1])\n",
            "\t\tspecial_tokens_mask: tensor([1, 0, 0, 0, 0, 0, 0, 0, 0, 0, 0, 0, 0, 0, 0, 0, 1])\n",
            "Batch 1 - size: 2\n",
            "\tText 0 - [CLS] the smell of fresh - baked cookies always makes me feel happy. [SEP]\n",
            "\t\tinput_ids: tensor([  101,  1996,  5437,  1997,  4840,  1011, 17776, 16324,  2467,  3084,\n",
            "         2033,  2514,  3407,  1012,   102])\n",
            "\t\tattention_mask: tensor([1, 1, 1, 1, 1, 1, 1, 1, 1, 1, 1, 1, 1, 1, 1])\n",
            "\t\tspecial_tokens_mask: tensor([1, 0, 0, 0, 0, 0, 0, 0, 0, 0, 0, 0, 0, 0, 1])\n",
            "\tText 1 - [CLS] despite the rain, the outdoor concert was still a huge success. [SEP]\n",
            "\t\tinput_ids: tensor([ 101, 2750, 1996, 4542, 1010, 1996, 7254, 4164, 2001, 2145, 1037, 4121,\n",
            "        3112, 1012,  102])\n",
            "\t\tattention_mask: tensor([1, 1, 1, 1, 1, 1, 1, 1, 1, 1, 1, 1, 1, 1, 1])\n",
            "\t\tspecial_tokens_mask: tensor([1, 0, 0, 0, 0, 0, 0, 0, 0, 0, 0, 0, 0, 0, 1])\n",
            "Batch 2 - size: 1\n",
            "\tText 0 - [CLS] he couldn't believe how quickly time had passed since he graduated from college. [SEP]\n",
            "\t\tinput_ids: tensor([ 101, 2002, 2481, 1005, 1056, 2903, 2129, 2855, 2051, 2018, 2979, 2144,\n",
            "        2002, 3852, 2013, 2267, 1012,  102])\n",
            "\t\tattention_mask: tensor([1, 1, 1, 1, 1, 1, 1, 1, 1, 1, 1, 1, 1, 1, 1, 1, 1, 1])\n",
            "\t\tspecial_tokens_mask: tensor([1, 0, 0, 0, 0, 0, 0, 0, 0, 0, 0, 0, 0, 0, 0, 0, 0, 1])\n"
          ]
        }
      ]
    },
    {
      "cell_type": "markdown",
      "source": [
        "## Splade - sem dataloader"
      ],
      "metadata": {
        "id": "wFWaTsz6bSm5"
      }
    },
    {
      "cell_type": "code",
      "source": [
        "for text in texts_test:\n",
        "    print(text)\n",
        "    _, values, tokens = splade_text(model, tokenizer, text, device)\n",
        "    for value, token in sorted(list(zip(values, tokens))[:10], reverse = True):\n",
        "        print('\\t' + token, '-', value.item())"
      ],
      "metadata": {
        "colab": {
          "base_uri": "https://localhost:8080/"
        },
        "id": "QEYxOdFb8UyT",
        "outputId": "0e3a269f-6ab7-4a6f-bf28-52b2d31e07ad"
      },
      "execution_count": 42,
      "outputs": [
        {
          "output_type": "stream",
          "name": "stdout",
          "text": [
            "I love taking long walks on the beach at sunset.\n",
            "\tyou - 0.8841824531555176\n",
            "\ton - 0.7934272289276123\n",
            "\tat - 0.7721477746963501\n",
            "\ti - 0.5740147829055786\n",
            "\tto - 0.4312276840209961\n",
            "\ther - 0.29871657490730286\n",
            "\t. - 0.2655070424079895\n",
            "\tmy - 0.21907301247119904\n",
            "\tit - 0.16131193935871124\n",
            "\thim - 0.07204177230596542\n",
            "She was so nervous about the job interview that she could hardly sit still.\n",
            "\ther - 2.030452013015747\n",
            "\tshe - 1.9141789674758911\n",
            "\twas - 1.195767879486084\n",
            "\thim - 1.0662636756896973\n",
            "\t. - 0.5281599164009094\n",
            "\thad - 0.33894625306129456\n",
            "\tnot - 0.27704575657844543\n",
            "\this - 0.27175912261009216\n",
            "\twould - 0.26201331615448\n",
            "\tit - 0.20605656504631042\n",
            "The smell of fresh-baked cookies always makes me feel happy.\n",
            "\tme - 0.7531765103340149\n",
            "\tnew - 0.413139671087265\n",
            "\tof - 0.37091371417045593\n",
            "\t. - 0.36289894580841064\n",
            "\tyou - 0.30269885063171387\n",
            "\tlike - 0.2823449373245239\n",
            "\thim - 0.202437624335289\n",
            "\tmy - 0.16390003263950348\n",
            "\ther - 0.023230422288179398\n",
            "\tin - 0.022699983790516853\n",
            "Despite the rain, the outdoor concert was still a huge success.\n",
            "\twas - 1.1655781269073486\n",
            "\tdid - 0.9127980470657349\n",
            "\tthe - 0.4746438264846802\n",
            "\twere - 0.34964245557785034\n",
            "\teven - 0.33409106731414795\n",
            "\thim - 0.31274235248565674\n",
            "\tat - 0.25424253940582275\n",
            "\twhere - 0.1638995260000229\n",
            "\thad - 0.1457071602344513\n",
            "\tit - 0.12191333621740341\n",
            "He couldn't believe how quickly time had passed since he graduated from college.\n",
            "\the - 1.6655547618865967\n",
            "\twas - 1.4726446866989136\n",
            "\this - 1.4420802593231201\n",
            "\thad - 1.3885576725006104\n",
            "\tt - 0.7430048584938049\n",
            "\tfrom - 0.6478571891784668\n",
            "\t' - 0.36941108107566833\n",
            "\tnot - 0.35808804631233215\n",
            "\twere - 0.22268693149089813\n",
            "\tit - 0.10502491146326065\n"
          ]
        }
      ]
    },
    {
      "cell_type": "markdown",
      "source": [
        "## Splade - com Dataloader"
      ],
      "metadata": {
        "id": "KHQVvJeGbq-y"
      }
    },
    {
      "cell_type": "code",
      "source": [
        "wj = splade_dataloader(model, tokenizer, dataloader_test, device)\n",
        "show_splade(texts_test, wj, tokenizer, 10)"
      ],
      "metadata": {
        "colab": {
          "base_uri": "https://localhost:8080/",
          "height": 1000,
          "referenced_widgets": [
            "7fad0124b8cc46ca8a1e2a9ced87c72c",
            "9fe6fe630359430383678d9cc671de19",
            "89247f7fcf0344cdaf2de0ead4fc6e19",
            "4f0b5608de14417b846ce6228e657e59",
            "3f95a871877444caa384b4d75cb507c8",
            "9b73d0489cd84913912980fa88e6ef19",
            "4c53fc4e5ab44741b4b23e5dcdb14795",
            "abca0ce3d7994dac809b0c763dc058b7",
            "7e17c97205a448ecb36c4ddc47159ddc",
            "445da52d8242476db08b6fafba6d0aae",
            "a8912547937341e8a953639955c24692"
          ]
        },
        "id": "dimyuOad5whd",
        "outputId": "20e2eb7b-53b6-4717-8c87-baeea966a4c6"
      },
      "execution_count": 43,
      "outputs": [
        {
          "output_type": "display_data",
          "data": {
            "text/plain": [
              "  0%|          | 0/3 [00:00<?, ?it/s]"
            ],
            "application/vnd.jupyter.widget-view+json": {
              "version_major": 2,
              "version_minor": 0,
              "model_id": "7fad0124b8cc46ca8a1e2a9ced87c72c"
            }
          },
          "metadata": {}
        },
        {
          "output_type": "stream",
          "name": "stdout",
          "text": [
            "Text 0 - I love taking long walks on the beach at sunset.\n",
            "\tsunset - 2.231519937515259\n",
            "\tbeach - 2.2043275833129883\n",
            "\tlong - 1.8040367364883423\n",
            "\twalk - 1.6086158752441406\n",
            "\tsunrise - 1.588561773300171\n",
            "\tlove - 1.4954960346221924\n",
            "\twalking - 1.3851253986358643\n",
            "\twalks - 1.2239038944244385\n",
            "\tbeaches - 1.1227279901504517\n",
            "\ttake - 0.9775022268295288\n",
            "Text 1 - She was so nervous about the job interview that she could hardly sit still.\n",
            "\tnerves - 2.231519937515259\n",
            "\tinterview - 2.2043275833129883\n",
            "\ttoo - 1.8040367364883423\n",
            "\tsitting - 1.6086158752441406\n",
            "\tinterviewing - 1.588561773300171\n",
            "\tpolice - 1.4954960346221924\n",
            "\tbarely - 1.3851253986358643\n",
            "\tmonica - 1.2239038944244385\n",
            "\tanxious - 1.1227279901504517\n",
            "\tcouldn - 0.9775022268295288\n",
            "Text 2 - The smell of fresh-baked cookies always makes me feel happy.\n",
            "\tscent - 2.231519937515259\n",
            "\teat - 2.2043275833129883\n",
            "\toven - 2.030451774597168\n",
            "\tbaked - 1.9141793251037598\n",
            "\tsong - 1.8040367364883423\n",
            "\tstore - 1.6086158752441406\n",
            "\tmood - 1.588561773300171\n",
            "\tfeel - 1.4954960346221924\n",
            "\tdinner - 1.3851253986358643\n",
            "\tsad - 1.2239038944244385\n",
            "Text 3 - Despite the rain, the outdoor concert was still a huge success.\n",
            "\titaly - 2.231519937515259\n",
            "\tdespite - 2.2043275833129883\n",
            "\tenjoyed - 2.139341115951538\n",
            "\thuge - 2.030451774597168\n",
            "\tparade - 2.02925181388855\n",
            "\tdisney - 2.0187079906463623\n",
            "\tpopularity - 1.9235374927520752\n",
            "\thappen - 1.9141793251037598\n",
            "\tshow - 1.8040367364883423\n",
            "\thit - 1.6086158752441406\n",
            "Text 4 - He couldn't believe how quickly time had passed since he graduated from college.\n",
            "\tspeech - 2.231519937515259\n",
            "\tcouldn - 2.2043275833129883\n",
            "\tgraduation - 2.030451774597168\n",
            "\tchuck - 1.9141793251037598\n",
            "\twould - 1.8040367364883423\n",
            "\tdeath - 1.6086158752441406\n",
            "\talan - 1.588561773300171\n",
            "\tuniversity - 1.4954960346221924\n",
            "\tquickly - 1.3851253986358643\n",
            "\tpassing - 1.2239038944244385\n"
          ]
        }
      ]
    },
    {
      "cell_type": "markdown",
      "source": [
        "# Expansão - Corpus TREC-COVID"
      ],
      "metadata": {
        "id": "BpgbDQdINZdm"
      }
    },
    {
      "cell_type": "markdown",
      "source": [
        "## Dataset e Dataloader"
      ],
      "metadata": {
        "id": "A9fRdZWRhsYg"
      }
    },
    {
      "cell_type": "code",
      "source": [
        "dataset_covid = DatasetCovid(tokenizer, corpus, max_seq_length = max_length)\n",
        "dataloader_covid = DataLoader(dataset_covid, batch_size=5, shuffle=False, collate_fn=collate_fn)"
      ],
      "metadata": {
        "id": "Nc8cP_QvSLOZ"
      },
      "execution_count": 45,
      "outputs": []
    },
    {
      "cell_type": "markdown",
      "source": [
        "## Splade"
      ],
      "metadata": {
        "id": "L8g1avrkigTN"
      }
    },
    {
      "cell_type": "code",
      "source": [
        "wj = splade_dataloader(model, tokenizer, dataloader_covid, device)"
      ],
      "metadata": {
        "colab": {
          "base_uri": "https://localhost:8080/",
          "height": 49,
          "referenced_widgets": [
            "7e45df602dbb48b6933adb7a4170202c",
            "f7398e3a036b460a876fbf3dcefb8029",
            "7422f85cc9b241b2bef3c16bb5c23268",
            "ab3a0323e40b461b84d807ea6ebe7913",
            "9849e09ca6bd4ec391f36c45b6b4e609",
            "0ec8842576ea4e5d98a48825ca08ee86",
            "e645ef4c16034675a620375a88266a7f",
            "4c678454105740018f7b1293b87d0d7a",
            "40d4ded8cee94330af4b3f242a05e905",
            "ecd95596556042a996702c72811f9d0c",
            "f8d3fb87453940eeb6840d032423710d"
          ]
        },
        "id": "giiwVVAKRCwQ",
        "outputId": "7d3381f1-45a2-4486-e7e4-e467f6394bab"
      },
      "execution_count": 46,
      "outputs": [
        {
          "output_type": "display_data",
          "data": {
            "text/plain": [
              "  0%|          | 0/34267 [00:00<?, ?it/s]"
            ],
            "application/vnd.jupyter.widget-view+json": {
              "version_major": 2,
              "version_minor": 0,
              "model_id": "7e45df602dbb48b6933adb7a4170202c"
            }
          },
          "metadata": {}
        }
      ]
    },
    {
      "cell_type": "code",
      "source": [
        "wj._nnz(), wj.numel()"
      ],
      "metadata": {
        "colab": {
          "base_uri": "https://localhost:8080/"
        },
        "id": "GXo-GdAGUEBy",
        "outputId": "9a101922-485f-45a3-b67e-a88fffc2bf48"
      },
      "execution_count": 47,
      "outputs": [
        {
          "output_type": "execute_result",
          "data": {
            "text/plain": [
              "(53199286, 5229395304)"
            ]
          },
          "metadata": {},
          "execution_count": 47
        }
      ]
    },
    {
      "cell_type": "markdown",
      "source": [
        "## Salvamento da matriz esparsa"
      ],
      "metadata": {
        "id": "ZQ1jo_4ca-Jj"
      }
    },
    {
      "cell_type": "code",
      "source": [
        "import pickle\n",
        "\n",
        "with open('wj.pkl','wb') as f:\n",
        "      pickle.dump(wj, f, pickle.HIGHEST_PROTOCOL)"
      ],
      "metadata": {
        "id": "3pSm8pU0VFc0"
      },
      "execution_count": 49,
      "outputs": []
    },
    {
      "cell_type": "markdown",
      "source": [
        "# Busca - queries TREC-COVID"
      ],
      "metadata": {
        "id": "upbW5tUaXa0N"
      }
    },
    {
      "cell_type": "markdown",
      "source": [
        "## Carga da matriz esparsa"
      ],
      "metadata": {
        "id": "uSfMEh_ke1BM"
      }
    },
    {
      "cell_type": "code",
      "source": [
        "with open('wj.pkl','rb') as f:\n",
        "    wj = pickle.loads(f)"
      ],
      "metadata": {
        "id": "takD5NM0Va1N"
      },
      "execution_count": null,
      "outputs": []
    },
    {
      "cell_type": "markdown",
      "source": [
        "## Teste com 5 queries e 10 melhores resultados"
      ],
      "metadata": {
        "id": "bGiPCE7de4Kr"
      }
    },
    {
      "cell_type": "code",
      "source": [
        "for query in queries[:5]:\n",
        "    print('Query', query['id'], '-', query['text'])   \n",
        "    input_ids = tokenizer(query['text'], padding=True, return_special_tokens_mask=True, add_special_tokens=True, truncation=True, max_length=max_length)['input_ids']\n",
        "    print('\\tinput_ids:', input_ids)\n",
        "    q = torch.zeros(tokenizer.vocab_size)\n",
        "    q[input_ids] = 1.\n",
        "    scores = torch.matmul(wj, q.unsqueeze(dim = 1)).squeeze()\n",
        "    #print(wj.size(), q.unsqueeze(dim = 1).size(), scores.size())\n",
        "    sorted_scores, indices_scores = torch.sort(scores, descending=True)\n",
        "    sorted_scores = sorted_scores[:10]\n",
        "    indices_scores = indices_scores[:10]\n",
        "    for i in range(10):\n",
        "        print('\\t', i, '- score:', sorted_scores[i].item(), '- doc:', corpus[indices_scores[i]])"
      ],
      "metadata": {
        "colab": {
          "base_uri": "https://localhost:8080/"
        },
        "id": "y4NBIQZVXgoQ",
        "outputId": "823eb8bf-aa17-4120-ff4d-f1dd915ad56e"
      },
      "execution_count": 74,
      "outputs": [
        {
          "output_type": "stream",
          "name": "stdout",
          "text": [
            "Query 1 - what is the origin of COVID-19\n",
            "\tinput_ids: [101, 2054, 2003, 1996, 4761, 1997, 2522, 17258, 1011, 2539, 102]\n",
            "\t 0 - score: 11.630707740783691 - doc: ('rzpbpxw2', 'What is COVID-19? ')\n",
            "\t 1 - score: 10.543111801147461 - doc: ('gdfxiosc', 'What is COVID‐19? ')\n",
            "\t 2 - score: 10.498983383178711 - doc: ('cgvj10r2', 'Cerebrovascular Disease in COVID-19 Coronavirus disease 19 (COVID-19) is a pandemic originating in Wuhan, China, in December 2019. Early reports suggest that there are neurologic manifestations of COVID-19, including acute cerebrovascular disease. We report a case of COVID-19 with acute ischemic stroke. To our knowledge, this is the first reported case of COVID-19-related cerebral infarcts that includes brain imaging at multiple time points and CT angiography. There is a growing body of published evidence that complications of COVID-19 are not limited to the pulmonary system. Neuroradiologists should be aware of a wide range of neurologic manifestations, including cerebrovascular disease.')\n",
            "\t 3 - score: 10.445834159851074 - doc: ('1mjaycee', 'COVID-19 infection: Origin, transmission, and characteristics of human coronaviruses The coronavirus disease 19 (COVID-19) is a highly transmittable and pathogenic viral infection caused by severe acute respiratory syndrome coronavirus 2 (SARS-CoV-2), which emerged in Wuhan, China and spread around the world. Genomic analysis revealed that SARS-CoV-2 is phylogenetically related to severe acute respiratory syndrome-like (SARS-like) bat viruses, therefore bats could be the possible primary reservoir. The intermediate source of origin and transfer to humans is not known, however, the rapid human to human transfer has been confirmed widely. There is no clinically approved antiviral drug or vaccine available to be used against COVID-19. However, few broad-spectrum antiviral drugs have been evaluated against COVID-19 in clinical trials, resulted in clinical recovery. In the current review, we summarize and comparatively analyze the emergence and pathogenicity of COVID-19 infection and previous human coronaviruses severe acute respiratory syndrome coronavirus (SARS-CoV) and middle east respiratory syndrome coronavirus (MERS-CoV). We also discuss the approaches for developing effective vaccines and therapeutic combinations to cope with this viral outbreak.')\n",
            "\t 4 - score: 10.336139678955078 - doc: ('0wm6u10a', 'Cerebrovascular Disease in COVID-19. Coronavirus disease 19 (COVID-19) is a pandemic originating in Wuhan, China, in December 2019. Early reports suggest that there are neurologic manifestations of COVID-19, including acute cerebrovascular disease. We report a case of COVID-19 with acute ischemic stroke. To our knowledge, this is the first reported case of COVID-19-related cerebral infarcts that includes brain imaging at multiple time points and CT angiography. There is a growing body of published evidence that complications of COVID-19 are not limited to the pulmonary system. Neuroradiologists should be aware of a wide range of neurologic manifestations, including cerebrovascular disease.')\n",
            "\t 5 - score: 10.301398277282715 - doc: ('pu9l36j9', 'COVID‐19 is a challenge for dental education—A commentary The COVID‐19, which appeared to originate in China in December 2019, has spread worldwide pandemically. In this commentary, authors described this new challenge for dental education using the recent literature and experience gained in the Italian University of Catanzaro.')\n",
            "\t 6 - score: 10.296379089355469 - doc: ('n13hg2yd', \"Practical laboratory considerations amidst the COVID-19 outbreak: early experience from Singapore. The coronavirus disease 2019 (COVID-19) is a zoonotic viral infection originating from Wuhan, China in December 2019. The World Health Organization has classified this pandemic as a global health emergency due to its virulent nature of transmission, which may lead to acute respiratory distress syndrome. Singapore's health ministry has responded with enhanced surveillance of COVID-19 for all suspected pneumonia cases, further increasing the volume of testing via real-time reverse transcription PCR, as well as samples necessitating stringent infectious control. Collectively, this has implications on the total testing process, laboratory operations and its personnel due to biosafety concerns. Turnaround time for routine testing may also be affected. The aim of this article is to present our tertiary institution's early experience with managing this emerging crisis and offer practical considerations for the preanalytical, analytical and postanalytical phases of laboratory testing in this cohort of patients.\")\n",
            "\t 7 - score: 10.256857872009277 - doc: ('hh7zzzbk', \"Practical laboratory considerations amidst the COVID-19 outbreak: early experience from Singapore The coronavirus disease 2019 (COVID-19) is a zoonotic viral infection originating from Wuhan, China in December 2019. The World Health Organization has classified this pandemic as a global health emergency due to its virulent nature of transmission, which may lead to acute respiratory distress syndrome. Singapore's health ministry has responded with enhanced surveillance of COVID-19 for all suspected pneumonia cases, further increasing the volume of testing via real-time reverse transcription PCR, as well as samples necessitating stringent infectious control. Collectively, this has implications on the total testing process, laboratory operations and its personnel due to biosafety concerns. Turnaround time for routine testing may also be affected. The aim of this article is to present our tertiary institution's early experience with managing this emerging crisis and offer practical considerations for the preanalytical, analytical and postanalytical phases of laboratory testing in this cohort of patients.\")\n",
            "\t 8 - score: 10.11697006225586 - doc: ('vx7ebtbp', \"COVID-19: Emergence, Spread, Possible Treatments, and Global Burden The Coronavirus (CoV) is a large family of viruses known to cause illnesses ranging from the common cold to acute respiratory tract infection. The severity of the infection may be visible as pneumonia, acute respiratory syndrome, and even death. Until the outbreak of SARS, this group of viruses was greatly overlooked. However, since the SARS and MERS outbreaks, these viruses have been studied in greater detail, propelling the vaccine research. On December 31, 2019, mysterious cases of pneumonia were detected in the city of Wuhan in China's Hubei Province. On January 7, 2020, the causative agent was identified as a new coronavirus (2019-nCoV), and the disease was later named as COVID-19 by the WHO. The virus spread extensively in the Wuhan region of China and has gained entry to over 210 countries and territories. Though experts suspected that the virus is transmitted from animals to humans, there are mixed reports on the origin of the virus. There are no treatment options available for the virus as such, limited to the use of anti-HIV drugs and/or other antivirals such as Remdesivir and Galidesivir. For the containment of the virus, it is recommended to quarantine the infected and to follow good hygiene practices. The virus has had a significant socio-economic impact globally. Economically, China is likely to experience a greater setback than other countries from the pandemic due to added trade war pressure, which have been discussed in this paper.\")\n",
            "\t 9 - score: 10.111295700073242 - doc: ('sh7lrdou', 'The epidemiology and pathogenesis of coronavirus disease (COVID-19) outbreak Coronavirus disease (COVID-19) is caused by SARS-COV2 and represents the causative agent of a potentially fatal disease that is of great global public health concern. Based on the large number of infected people that were exposed to the wet animal market in Wuhan City, China, it is suggested that this is likely the zoonotic origin of COVID-19. Person-to-person transmission of COVID-19 infection led to the isolation of patients that were subsequently administered a variety of treatments. Extensive measures to reduce person-to-person transmission of COVID-19 have been implemented to control the current outbreak. Special attention and efforts to protect or reduce transmission should be applied in susceptible populations including children, health care providers, and elderly people. In this review, we highlights the symptoms, epidemiology, transmission, pathogenesis, phylogenetic analysis and future directions to control the spread of this fatal disease.')\n",
            "Query 2 - how does the coronavirus respond to changes in the weather\n",
            "\tinput_ids: [101, 2129, 2515, 1996, 21887, 23350, 6869, 2000, 3431, 1999, 1996, 4633, 102]\n",
            "\t 0 - score: 7.438485145568848 - doc: ('w5kjmw88', 'Weathering the pandemic: How the Caribbean Basin can use viral and environmental patterns to predict, prepare, and respond to COVID-19 The 2020 coronavirus pandemic is developing at different paces throughout the world. Some areas, like the Caribbean Basin, have yet to see the virus strike at full force. When it does, there is reasonable evidence to suggest the consequent COVID-19 outbreaks will overwhelm healthcare systems and economies. This is particularly concerning in the Caribbean as pandemics can have disproportionately higher mortality impacts on lower and middle-income countries. Preliminary observations from our team and others suggest that temperature and climatological factors could influence the spread of this novel coronavirus, making spatiotemporal predictions of its infectiousness possible. This review studies geographic and time-based distribution of known respiratory viruses in the Caribbean Basin in an attempt to foresee how the pandemic will develop in this region. This review is meant to aid in planning short- and long-term interventions to manage outbreaks at the international, national, and subnational levels in the region.')\n",
            "\t 1 - score: 7.17292594909668 - doc: ('gan10za0', 'Weathering the pandemic: How the Caribbean Basin can use viral and environmental patterns to predict, prepare and respond to COVID‐19 The 2020 coronavirus pandemic is developing at different paces throughout the world. Some areas, like the Caribbean Basin, have yet to see the virus strike at full force. When it does, there is reasonable evidence to suggest the consequent COVID‐19 outbreaks will overwhelm healthcare systems and economies. This is particularly concerning in the Caribbean as pandemics can have disproportionately higher mortality impacts on lower and middle income countries. Preliminary observations from our team and others suggest that temperature and climatological factors could influence the spread of this novel coronavirus, making spatiotemporal predictions of its infectiousness possible. This review studies geographic and time‐based distribution of known respiratory viruses in the Caribbean Basin in an attempt to foresee how the pandemic will develop in this region. This review is meant to aid in planning short‐ and long‐term interventions to manage outbreaks at the international, national and sub‐national levels in the region. This article is protected by copyright. All rights reserved.')\n",
            "\t 2 - score: 7.101250648498535 - doc: ('90p1vlkh', 'Examining Inequities Associated With Changes in Obstetric and Gynecologic Care Delivery During the Coronavirus Disease 2019 (COVID-19) Pandemic. The coronavirus disease 2019 (COVID-19) pandemic is a public health emergency requiring significant changes in obstetric and gynecologic health care delivery to minimize the risk of transmission to healthy patients and health care workers. Although these changes are necessary, they will differentially affect patients in a way that highlights and exacerbates existing inequities in health care access and outcomes. Socially vulnerable groups are already disproportionately affected by COVID-19 infection and more likely to experience severe morbidity and mortality. Some reasons for this include a limited ability to practice risk-reducing behaviors such as physical distancing, higher prevalence of chronic medical conditions, and less access to medical care. Additionally, the structural changes now taking place in health care delivery have negatively affected the ability of socially vulnerable groups to obtain necessary obstetric and gynecologic care, which may lead to poorer outcomes. As physician-leaders enact new policies to respond to the COVID-19 public health crisis, it is important to consider the potential for exacerbating existing health inequities and to be proactive in creating policies that promote equity.')\n",
            "\t 3 - score: 6.833876609802246 - doc: ('ab1u2nw7', 'Examining Inequities Associated With Changes in Obstetric and Gynecologic Care Delivery During the Coronavirus Disease 2019 (COVID-19) Pandemic The coronavirus disease 2019 (COVID-19) pandemic is a public health emergency requiring significant changes in obstetric and gynecologic health care delivery to minimize the risk of transmission to healthy patients and health care workers. Although these changes are necessary, they will differentially affect patients in a way that highlights and exacerbates existing inequities in health care access and outcomes. Socially vulnerable groups are already disproportionately affected by COVID-19 infection and more likely to experience severe morbidity and mortality. Some reasons for this include a limited ability to practice risk-reducing behaviors such as physical distancing, higher prevalence of chronic medical conditions, and less access to medical care. Additionally, the structural changes now taking place in health care delivery have negatively affected the ability of socially vulnerable groups to obtain necessary obstetric and gynecologic care, which may lead to poorer outcomes. As physician-leaders enact new policies to respond to the COVID-19 public health crisis, it is important to consider the potential for exacerbating existing health inequities and to be proactive in creating policies that promote equity.')\n",
            "\t 4 - score: 6.656181812286377 - doc: ('9dp68aho', \"COVID-19: Notes From the Front Line, Singapore's Primary Health Care Perspective. Coronavirus disease 2019 (COVID-19) is a rapidly progressing global pandemic against which nations are struggling for containment. Singapore is known to have promptly instituted aggressive public health and containment measures. A key pillar sustaining this is the response of its primary health care network. It is important for health care systems worldwide to recognize the value of a strong coordinated response to this crisis from a primary health perspective. There are best practices for early isolation and containment of suspect cases while protecting health care workers and limiting cross infections that are transferable across nations. We describe our framework for how our primary care clinics respond to this pandemic in the hope others may find solutions to their unique needs. Moving forward, there is a pressing need for more studies to enhance our understanding of the response of primary care during these public health crises.\")\n",
            "\t 5 - score: 6.62686824798584 - doc: ('0mqaczvt', 'Role of the inflammasome-related cytokines Il-1 and Il-18 during infection with murine coronavirus The inflammasome, a cytosolic protein complex that mediates the processing and secretion of pro-inflammatory cytokines, is one of the first responders during viral infection. The cytokines secreted following inflammasome activation, which include IL-1 and IL-18, regulate cells of both the innate and adaptive immune system, guiding the subsequent immune responses. In this study we used murine coronavirus, mouse hepatitis virus (MHV), infection of the central nervous system and liver to assess of the role of the inflammasome and its related cytokines on pathogenesis and host defense during viral infection. Mice lacking all inflammasome signaling due to the absence of caspase-1 and -11 were more vulnerable to infection, with poor survival and elevated viral replication compared to wild type mice. Mice lacking IL-1 signaling experienced elevated viral replication but similar survival compared to wild type controls. In the absence of IL-18, mice had elevated viral replication and poor survival, and this protective effect of IL-18 was found to be due to promotion of interferon gamma production in αβ T cells. These data suggest that inflammasome signaling is largely protective during murine coronavirus infection, in large part due to the pro-inflammatory effects of IL-18.')\n",
            "\t 6 - score: 6.6263275146484375 - doc: ('906w0zr7', 'Equitable Pandemic Preparedness and Rapid Response: Lessons from COVID-19 for Pandemic Health Equity. The novel coronavirus pandemic has set in high relief the entrenched health, social, racial, political, and economic inequities within American society as the incidence of severe morbidity and mortality from the disease caused by the virus appears to be much greater in Black and other racial/ethnic minority populations, within homeless and incarcerated populations, and in lower-income communities in general. The reality is that the U.S. is ill equipped to realize health equity in prevention and control efforts for any type of health outcome, including an infectious disease pandemic. In this article, we address an important question: When new waves of the current pandemic emerge or another novel pandemic emerges, how can the U.S. be better prepared and also ensure a rapid response that reduces rather than exacerbates social and health inequities? We argue for a health equity framework to pandemic preparedness, grounded in meaningful community engagement that, while recognizing the fundamental causes of social and health inequity, has a clear focus on upstream and midstream preparedness and downstream rapid response efforts that put social and health equity at the forefront.')\n",
            "\t 7 - score: 6.613916873931885 - doc: ('w3er9e58', 'Governing Under Pressure: German Policy Making During the Coronavirus Crisis The global threat of the coronavirus pandemic has forced policy makers to react quickly with totally new policy‐making approaches under conditions of uncertainty. This article focuses on such crisis‐driven policy learning, examining how the experiences of China and South Korea as early responder states influenced the subsequent coronavirus crisis management in Germany. The first reaction of the German core executive was the quick concentration of decision‐making power at the top of the political hierarchy. Asserting the prerogatives of the executive included the radical simplification of the relationship between politics, law and science. State actors took emergency measures by recourse to a single piece of legislation—the ‘infection protection law’ (Infektionsschutzgesetz)—overriding other elements of the legal order. They also limited the government’s use of scientific expertise to a small number of advisors, thereby cutting short debates about the appropriateness or otherwise of the government’s crisis measures. Finally, German actors failed to understand that some of the earlier Chinese and Korean responses required a precondition—namely public willingness to sacrifice privacy for public health—that is absent in the German case.')\n",
            "\t 8 - score: 6.593177318572998 - doc: ('hbalyfy3', 'Spring in London with Covid-19: a personal view. This is a personal view from London as the Covid-19 pandemic continues to spread here and the situation changes from day to day. As such it can only be a snapshot caught in time; it is not a diary of events. The Coronavirus Act 2020 gives Government enormous powers and was passed by Parliament in one day of debate immediately before it closed early for the Easter break. In March, the government imposed a \"lockdown: the closure of all\" but \"essential\" businesses and people other than essential workers must work from home but are allowed out for exercise and food shopping but must maintain 2 m apart, the \"social distancing rule\". The aim is to suppress the spread of the virus, reduce the death toll and \"protect the National Health Service (NHS)\" which needed time to empty wards and expand its intensive care unit (ICU) capability to deal with an expected influx of thousands of very sick patients. I discuss whether this strategy is working, how and why it has rapidly been altered to respond to criticism. Why was the Government so slow to seek the help of private laboratories to assist with testing? Why was the personal protective equipment (PPE) guidance altered only after criticism? I look at the impact of the lockdown on the UK economy, the changes to practice of medicine and speeding of scientific research. Cooperating with the lockdown has its price; is it harming the health and mental health of children, people living in households with potentially abusive partners or parents and those who are disabled or financially desperate? Is the cure worse than the disease? The Economy is being devastated by the lockdown and each day of lockdown it is worse. Is litigation being seeded even now by the pandemic? Notwithstanding unprecedented Government financial help many businesses are on the edge of collapse, people will lose their jobs and pensioners income. The winners include pharmacies, supermarkets, online food retailers, Amazon, online apps, providers of video games, services, streaming and scientific research laboratories, manufacturers of testing kits, ventilators, hand sanitisers, coffins, undertakers, etc. The British public is cooperating with lockdown but are we less productive at home? Parents with babies and children often child minders, school, grandparents or paid help which is not now available. Will current reliance on video-conferencing and video calls permanently change the way we work and will we need smaller city offices? Will we travel less? Will medical and legal practice and civil and criminal trials be generally carried out remotely? Will social distancing with self-isolation and job losses and business failures fuel depression? Is Covid-19 comparable to past epidemics like the Plague and Spanish flu?')\n",
            "\t 9 - score: 6.557555198669434 - doc: ('87i01hsi', 'Spring in London with Covid-19: a personal view This is a personal view from London as the Covid-19 pandemic continues to spread here and the situation changes from day to day. As such it can only be a snapshot caught in time; it is not a diary of events. The Coronavirus Act 2020 gives Government enormous powers and was passed by Parliament in one day of debate immediately before it closed early for the Easter break. In March, the government imposed a \"lockdown: the closure of all\" but \"essential\" businesses and people other than essential workers must work from home but are allowed out for exercise and food shopping but must maintain 2 m apart, the \"social distancing rule\". The aim is to suppress the spread of the virus, reduce the death toll and \"protect the National Health Service (NHS)\" which needed time to empty wards and expand its intensive care unit (ICU) capability to deal with an expected influx of thousands of very sick patients. I discuss whether this strategy is working, how and why it has rapidly been altered to respond to criticism. Why was the Government so slow to seek the help of private laboratories to assist with testing? Why was the personal protective equipment (PPE) guidance altered only after criticism? I look at the impact of the lockdown on the UK economy, the changes to practice of medicine and speeding of scientific research. Cooperating with the lockdown has its price; is it harming the health and mental health of children, people living in households with potentially abusive partners or parents and those who are disabled or financially desperate? Is the cure worse than the disease? The Economy is being devastated by the lockdown and each day of lockdown it is worse. Is litigation being seeded even now by the pandemic? Notwithstanding unprecedented Government financial help many businesses are on the edge of collapse, people will lose their jobs and pensioners income. The winners include pharmacies, supermarkets, online food retailers, Amazon, online apps, providers of video games, services, streaming and scientific research laboratories, manufacturers of testing kits, ventilators, hand sanitisers, coffins, undertakers, etc. The British public is cooperating with lockdown but are we less productive at home? Parents with babies and children often child minders, school, grandparents or paid help which is not now available. Will current reliance on video-conferencing and video calls permanently change the way we work and will we need smaller city offices? Will we travel less? Will medical and legal practice and civil and criminal trials be generally carried out remotely? Will social distancing with self-isolation and job losses and business failures fuel depression? Is Covid-19 comparable to past epidemics like the Plague and Spanish flu?')\n",
            "Query 3 - will SARS-CoV2 infected people develop immunity? Is cross protection possible?\n",
            "\tinput_ids: [101, 2097, 18906, 2015, 1011, 2522, 2615, 2475, 10372, 2111, 4503, 15403, 1029, 2003, 2892, 3860, 2825, 1029, 102]\n",
            "\t 0 - score: 15.401365280151367 - doc: ('8e1fkafa', 'Herd immunity or suppression strategy to combat COVID-19. Some months ago, severe acute respiratory syndrome coronavirus 2 (SARS-CoV-2) broke out in Wuhan, China, and spread rapidly around the world. Some states, such as the Netherlands, Germany, Great Britain, Sweden and the USA initially focused on keeping the restrictions for economy and society as low as possible. The responsible authorities were of the opinion - and still are e.g. in Sweden - that it is sufficient enough to protect particularly vulnerable persons such as the elderly or people with pre-existing conditions. The idea behind this is that as soon as 60 to 70 percent of the population is infected with a pathogen, a so-called \"herd immunity\" has developed. However, the increasing numbers of deaths and modelling studies showed the expected overload of the hospitals. Therefore, most countries decided for a temporary lockdown with the exception of Sweden.Based on the number of the total population, three times more people died from COVID-19 in Sweden (2679 deaths per 10 million inhabitants) compared to Germany (6848 deaths per 80 million inhabitants). The comparison Sweden versus Taiwan is even worse because 1072 times more people died in Sweden based on the number of the population (6 deaths per 24 million inhabitants).In the face of the lack of an antiviral treatment and the lack of a protective vaccine one must state Taiwan has made the best out of the pandemic situation whereas Sweden failed completely.')\n",
            "\t 1 - score: 15.380212783813477 - doc: ('j7dmxpaf', 'Herd immunity or suppression strategy to combat COVID-19 Some months ago, severe acute respiratory syndrome coronavirus 2 (SARS-CoV-2) broke out in Wuhan, China, and spread rapidly around the world. Some states, such as the Netherlands, Germany, Great Britain, Sweden and the USA initially focused on keeping the restrictions for economy and society as low as possible. The responsible authorities were of the opinion - and still are e.g. in Sweden - that it is sufficient enough to protect particularly vulnerable persons such as the elderly or people with pre-existing conditions. The idea behind this is that as soon as 60 to 70 percent of the population is infected with a pathogen, a so-called \"herd immunity\" has developed. However, the increasing numbers of deaths and modelling studies showed the expected overload of the hospitals. Therefore, most countries decided for a temporary lockdown with the exception of Sweden.Based on the number of the total population, three times more people died from COVID-19 in Sweden (2679 deaths per 10 million inhabitants) compared to Germany (6848 deaths per 80 million inhabitants). The comparison Sweden versus Taiwan is even worse because 1072 times more people died in Sweden based on the number of the population (6 deaths per 24 million inhabitants).In the face of the lack of an antiviral treatment and the lack of a protective vaccine one must state Taiwan has made the best out of the pandemic situation whereas Sweden failed completely.')\n",
            "\t 2 - score: 15.004591941833496 - doc: ('bcqdm2b1', 'Protective Adaptive Immunity Against Severe Acute Respiratory Syndrome Coronaviruses 2 (SARS-CoV-2) and Implications for Vaccines Severe acute respiratory syndrome coronavirus 2 (SARS-CoV-2) is an emerging human coronavirus responsible for coronavirus disease 2019 (COVID-19), a predominantly respiratory disease that has become a global pandemic. Millions of people worldwide are suffering from COVID-19, and hundreds of thousands of those infected have died. Nevertheless, many more people who have been infected with SARS-CoV-2 are asymptomatic or suffer a mild disease characterized by dry cough and mild fever. This new pandemic poses a threat to public health on a global scale, and an intervention to prevent continued spread of SARS-CoV-2 virus is of the utmost importance. To assess preventive and therapeutic strategies, it is imperative to understand the pathogenesis and immune response against SARS-CoV-2. In this review, we concentrate on the protective adaptive immune response elicited by this novel coronavirus as well as requirements for a successful vaccine inducing optimal protection.')\n",
            "\t 3 - score: 14.830361366271973 - doc: ('mtq6yh25', 'Insights on cross-species transmission of SARS-CoV-2 from structural modeling Severe acute respiratory syndrome coronavirus 2 (SARS-CoV-2) is responsible for the ongoing global pandemic that has infected more than 6 million people in more than 180 countries worldwide. Like other coronaviruses, SARS-CoV-2 is thought to have been transmitted to humans from wild animals. Given the scale and widespread geographical distribution of the current pandemic, the question emerges whether human-to-animal transmission is possible and if so, which animal species are most at risk. Here, we investigated the structural properties of several ACE2 orthologs bound to the SARS-CoV-2 spike protein. We found that species known not to be susceptible to SARS-CoV-2 infection have non-conservative mutations in several ACE2 amino acid residues that disrupt key polar and charged contacts with the viral spike protein. Our models also predict affinity-enhancing mutations that could be used to design ACE2 variants for therapeutic purposes. Finally, our study provides a blueprint for modeling viral-host protein interactions and highlights several important considerations when designing these computational studies and analyzing their results.')\n",
            "\t 4 - score: 14.79182243347168 - doc: ('tveeq4fj', 'SARS-CoV-2 Antibody Testing – Questions to be asked ABSTRACT SARS-CoV-2 infection and development of COVID-19 disease presents a major healthcare challenge of global dimensions. Laboratory diagnostics of infected patients, and the assessment of immunity against the SARS-CoV-2 virus presents a major cornerstone in handling the pandemic. Currently there is an increase in demand of antibody testing and a large number of tests are already marketed or in the late stage of development. However, the interpretation of test results depends on many variables and factors, including sensitivity, specificity, potential cross-reactivity and cross-protectivity; the diagnostic value of antibodies of different isotypes, the use of antibody testing in identification of acutely ill patients or in epidemiological settings. In this article the recently established COVID-19 Task Force of the German Society for Clinical Chemistry and Laboratory Medicine (DGKL) addresses these issues based on the currently available datasets in this rapidly moving field.')\n",
            "\t 5 - score: 14.732141494750977 - doc: ('ipw96f03', 'The dynamics of humoral immune responses following SARS-CoV-2 infection and the potential for reinfection. SARS-CoV-2 is a novel coronavirus that is the causative agent of coronavirus infectious disease 2019 (COVID-19). As of 17 April 2020, it has infected 2 114 269 people, resulting in 145 144 deaths. The timing, magnitude and longevity of humoral immunity is not yet understood for SARS-CoV-2. Nevertheless, understanding this is urgently required to inform the likely future dynamics of the pandemic, to guide strategies to allow relaxation of social distancing measures and to understand how to deploy limiting vaccine doses when they become available to achieve maximum impact. SARS-CoV-2 is the seventh human coronavirus to be described. Four human coronaviruses circulate seasonally and cause common colds. Two other coronaviruses, SARS and MERS, have crossed from animal sources into humans but have not become endemic. Here we review what is known about the human humoral immune response to epidemic SARS CoV and MERS CoV and to the seasonal, endemic coronaviruses. Then we summarize recent, mostly non-peer reviewed, studies into SARS-CoV-2 serology and reinfection in humans and non-human primates and summarize current pressing research needs.')\n",
            "\t 6 - score: 14.716123580932617 - doc: ('fzdmcahf', 'The dynamics of humoral immune responses following SARS-CoV-2 infection and the potential for reinfection SARS-CoV-2 is a novel coronavirus that is the causative agent of coronavirus infectious disease 2019 (COVID-19). As of 17 April 2020, it has infected 2â\\x80\\x8a114â\\x80\\x8a269 people, resulting in 145â\\x80\\x8a144 deaths. The timing, magnitude and longevity of humoral immunity is not yet understood for SARS-CoV-2. Nevertheless, understanding this is urgently required to inform the likely future dynamics of the pandemic, to guide strategies to allow relaxation of social distancing measures and to understand how to deploy limiting vaccine doses when they become available to achieve maximum impact. SARS-CoV-2 is the seventh human coronavirus to be described. Four human coronaviruses circulate seasonally and cause common colds. Two other coronaviruses, SARS and MERS, have crossed from animal sources into humans but have not become endemic. Here we review what is known about the human humoral immune response to epidemic SARS CoV and MERS CoV and to the seasonal, endemic coronaviruses. Then we summarize recent, mostly non-peer reviewed, studies into SARS-CoV-2 serology and reinfection in humans and non-human primates and summarize current pressing research needs.')\n",
            "\t 7 - score: 14.344099998474121 - doc: ('wfftfkam', 'COVID‐19 is milder in children possibly due to cross immunity It has been unclear why the new severe acute respiratory syndrome coronavirus (sars‐CoV‐2) hits a small minority hard, while the vast majority of children appear to be protected and develop mild or no disease (1,2). The editorial by Brodin suggests some possible mechanisms why it is so (1). I would like to emphasize the significance of cross immunity due to previous exposure to seasonal coronavirus; it may be a plausible explanation for why children appear to be protected (2,3).')\n",
            "\t 8 - score: 14.238500595092773 - doc: ('fj2rjmop', 'Airway Memory CD4(+) T Cells Mediate Protective Immunity against Emerging Respiratory Coronaviruses Two zoonotic coronaviruses (CoV), SARS-CoV and MERS-CoV have crossed species to cause severe human respiratory disease. Here, we showed that induction of airway memory CD4(+) T cells specific for a conserved epitope shared by SARS-CoV and MERS-CoV is a potential strategy for developing pan-coronavirus vaccines. Airway memory CD4(+) T cells differed phenotypically and functionally from lung-derived cells and were crucial for protection against both CoVs in mice. Protection was interferon-γ-dependent and required early induction of robust innate and virus-specific CD8(+) T cell responses. The conserved epitope was also recognized in SARS-CoV and MERS-CoV-infected human leukocyte antigen DR2 and DR3 transgenic mice, indicating potential relevance in human populations. Additionally, this epitope was cross-protective between human and bat CoVs, the progenitors for many human CoVs. Vaccine strategies that induce airway memory CD4(+) T cells targeting conserved epitopes may have broad applicability in the context of new CoV and other respiratory virus outbreaks.')\n",
            "\t 9 - score: 14.222861289978027 - doc: ('aed6psww', 'A case report of possible novel coronavirus 2019 reinfection Since December 2019, COVID-19, the clinical syndrome associated with SARS-CoV-2 infection, has infected more than 6.2 million people and brought the function of the global community to a halt. As the number of patients recovered from COVID-19 rises and the world transitions toward reopening, the question of acquired immunity versus the possibility of reinfection are critical to anticipating future viral spread. Here, we present a case of a patient previously recovered from COVID-19 who re-presents with new respiratory, radiographical, laboratory, and RT-PCR findings concerning for re-infection. We review this case in the context of the evolving discussion and theories surrounding dynamic RT-PCR results, prolonged viral shedding, and the possibility of developed immunity.')\n",
            "Query 4 - what causes death from Covid-19?\n",
            "\tinput_ids: [101, 2054, 5320, 2331, 2013, 2522, 17258, 1011, 2539, 1029, 102]\n",
            "\t 0 - score: 10.609691619873047 - doc: ('raddzrns', 'COVID‐19: Moving beyond the pandemic Severe acute respiratory syndrome Coronavirus 2 (SARS‐CoV‐2) is the cause of COVID‐19. As of April 11th, 2020, there were almost 2 million cases of COVID‐19 internationally and over 100,000 deaths (John Hopkins University, 2020). There has been significant effort to increase hospital and healthcare capacity to reduce the number of fatalities associated with this global pandemic (Choi & Logsdon 2020).')\n",
            "\t 1 - score: 10.59754753112793 - doc: ('9e95m4kz', 'High altitude reduces infection rate of COVID-19 but not case-fatality rate Coronavirus disease 19 (COVID-19) is a pandemic caused by Severe Acute Respiratory Syndrome Coronavirus 2 (SARS-CoV-2). It is suggested that life at high altitude may reduce COVID infections and case-fatality rates (cases/deaths). We study data from Peru COVID-19 pandemics, which first case was recorded on March 6th, 2020. By June 13, 2020 there were 6498 deaths, and 224,132 SARS-CoV-2 positives. Using data from 185 capitals of provinces with altitudes ranging from 3 to 4342 m, we confirm previous reports that infection with COVID-19 at high altitude is reduced. However, case-fatality rate is not dependent of altitude. We have also presented first evidence that female protection towards death by COVID-19 is reduced as altitude of residence increases.')\n",
            "\t 2 - score: 10.566924095153809 - doc: ('2tlbeqvb', 'The Role of Data Registries in the Time of COVID-19. On April 1, 2020, the confirmed global burden of COVID-19 was more than 900,000 with 46,413 deaths. Despite worldwide calls for social distancing and containment, the incidence of the disease continues to increase. COVID-19 is a respiratory tract infection caused by the novel coronavirus (SARS-CoV2). Preliminary analyses from the Chinese Center for Disease Control and Prevention indicated an overall case fatality rate (CFR) of 2.3%; however the CFR was higher in older adults (14.8% in those 80± years) and 49% of all critical cases. Those with preexisting conditions (cardiovascular disease (CVD), diabetes, chronic respiratory disease, hypertension, and cancer) also had higher CRFs. In the United States, 116 million adults have hypertension, 26 million US adults have diabetes mellitus, 9% have preexisting CVD and may therefore be at greater risk of complications or adverse health outcomes from COVID-19 infection.')\n",
            "\t 3 - score: 10.52525806427002 - doc: ('v04vu1f5', 'COVID-19: Moving beyond the pandemic Severe acute respiratory syndrome Coronavirus 2 (SARS-CoV-2) is the cause of COVID-19. As of April 11th, 2020, there were almost 2 million cases of COVID-19 internationally and over 100,000 deaths (John Hopkins University, 2020). There has been significant effort to increase hospital and healthcare capacity to reduce the number of fatalities associated with this global pandemic (Choi & Logsdon 2020).')\n",
            "\t 4 - score: 10.510512351989746 - doc: ('zl2url8z', 'Is death from Covid-19 a multistep process? Covid-19 death has a different relationship with age than is the case for other severe respiratory pathogens. The Covid-19 death rate increases exponentially with age, and the main risk factors are age itself, as well as having underlying conditions such as hypertension, diabetes, cardiovascular disease, severe chronic respiratory disease and cancer. Furthermore, the almost complete lack of deaths in children suggests that infection alone is not sufficient to cause death; rather, one must have gone through a number of changes, either as a result of undefined aspects of aging, or as a result of chronic disease. These characteristics of Covid-19 death are consistent with the multistep model of disease, a model which has primarily been used for cancer, and more recently for amyotrophic lateral sclerosis (ALS). We applied the multi-step model to data on Covid-19 case fatality rates (CFRs) from China, South Korea, Italy, Spain and Japan. In all countries we found that a plot of ln (CFR) against ln (age) was approximately linear with a slope of about 5. As a comparison, we also conducted similar analyses for selected other respiratory diseases. SARS showed a similar log-log age-pattern to that of Covid-19, albeit with a lower slope, whereas seasonal and pandemic influenza showed quite different age-patterns. Thus, death from Covid-19 and SARS appears to follow a distinct age-pattern, consistent with a multistep model of disease that in the case of Covid-19 is probably defined by comorbidities and age producing immune-related susceptibility. Identification of these steps would be potentially important for prevention and therapy for SARS-COV-2 infection.')\n",
            "\t 5 - score: 10.499030113220215 - doc: ('g948h572', 'SARS-CoV-2 Shedding from Asymptomatic Patients: Contribution of Potential Extrapulmonary Tissue Reservoirs. The ongoing pandemic COVID-19, caused by SARS-CoV-2, has already resulted in more than 3 million cases and more than 200,000 deaths globally. Significant clinical presentations of COVID-19 include respiratory symptoms and pneumonia. In a minority of patients, extrapulmonary organs (central nervous system, eyes, heart, and gut) are affected, with detection of viral RNA in bodily secretions (stool, tears, and saliva). Infection of such extrapulmonary organs may serve as a reservoir for SARS-CoV-2, representing a potential source of viral shedding after the cessation of respiratory symptoms in recovered patients or in asymptomatic individuals. It is extremely important to understand this phenomenon, as individuals with intermittent virus shedding could be falsely identified as reinfected and may benefit from ongoing antiviral treatment. The potential of SARS-CoV-2 infection to rapidly disseminate and infect extrapulmonary organs is likely mediated through the nonstructural and accessory proteins of SARS-CoV-2, which act as ligands for host cells, and through evasion of host immune responses. The focus of this perspective is the extrapulmonary tissues affected by SARS-CoV-2 and the potential implications of their involvement for disease pathogenesis and the development of medical countermeasures.')\n",
            "\t 6 - score: 10.491178512573242 - doc: ('kx6asglb', 'On facing the SARS-cov-2 (COVID-19) with combination of nanomaterials and medicine: Possible strategies and first challenges Global health is facing the most dangerous situation regarding the novel severe acute respiratory syndrome called coronavirus 2 (SARS-CoV-2), which is widely known as the abbreviated COVID-19 pandemic. This is due to the highly infectious nature of the disease and its possibility to cause pneumonia induced death in approximately 6.89% of infected individuals (data until 27 April 2020). The pathogen causing COVID-19 is called severe acute respiratory syndrome coronavirus-2 (SARS-CoV-2), which is believed to be originated from the Wuhan Province in China. Unfortunately, an effective and approved vaccine for SARS-CoV-2 virus is still not available, making the situation more dangerous and currently available medical care futile. This unmet medical need thus requires significant and very urgent research attention to develop an effective vaccine to address the SARS-CoV-2 virus. In this review, the state-of-the-art drug design strategies against the virus are critically summarized including exploitations of novel drugs and potentials of repurposed drugs. The applications of nanochemistry and general nanotechnology was also discussed to give the status of nanodiagnostic systems for COVID-19.')\n",
            "\t 7 - score: 10.483597755432129 - doc: ('14x1r9ca', 'A Drone-based Networked System and Methods for Combating Coronavirus Disease (COVID-19) Pandemic Coronavirus disease (COVID-19) is an infectious disease caused by a newly discovered coronavirus. It is similar to influenza viruses and raises concerns through alarming levels of spread and severity resulting in an ongoing pandemic world-wide. Within five months (by May 2020), it infected 5.89 million persons world-wide and over 357 thousand have died. Drones or Unmanned Aerial Vehicles (UAVs) are very helpful in handling the COVID-19 pandemic. This work investigates the drone-based systems, COVID-19 pandemic situations, and proposes architecture for handling pandemic situations in different scenarios using real-time and simulation-based case studies. The proposed architecture uses wearable sensors to record the observations in Body Area Networks (BANs) in a push-pull data fetching mechanism. The proposed architecture is found to be useful in remote and highly congested pandemic areas where either the wireless or Internet connectivity is a major issue or chances of COVID-19 spreading are high. It collects and stores the substantial amount of data in a stipulated period and helps to take appropriate action as and when required. In real-time drone-based healthcare system implementation for COVID-19 operations, it is observed that a large area can be covered for sanitization, thermal image collection, patient identification etc. within a short period (2 KMs within 10 minutes approx.) through aerial route. In the simulation, the same statistics are observed with an addition of collision-resistant strategies working successfully for indoor and outdoor healthcare operations.')\n",
            "\t 8 - score: 10.478498458862305 - doc: ('camofa8f', 'COVID-19, coagulopathy and venous thromboembolism: more questions than answers The acute respiratory illnesses caused by severe acquired respiratory syndrome corona Virus-2 (SARS-CoV-2) is a global health emergency, involving more than 8.6 million people worldwide with more than 450,000 deaths. Among the clinical manifestations of COVID-19, the disease that results from SARS-CoV-2 infection in humans, a prominent feature is a pro-thrombotic derangement of the hemostatic system, possibly representing a peculiar clinicopathologic manifestation of viral sepsis. The severity of the derangement of coagulation parameters in COVID-19 patients has been associated with a poor prognosis, and the use of low molecular weight heparin (LMWH) at doses registered for prevention of venous thromboembolism (VTE) has been endorsed by the World Health Organization and by Several Scientific societies. However, some relevant issues on the relationships between COVID-19, coagulopathy and VTE have yet to be fully elucidated. This review is particularly focused on four clinical questions: What is the incidence of VTE in COVID-19 patients? How do we frame the COVID-19 associated coagulopathy? Which role, if any, do antiphospolipid antibodies have? How do we tackle COVID-19 coagulopathy? In the complex scenario of an overwhelming pandemic, most everyday clinical decisions have to be taken without delay, although not yet supported by a sound scientific evidence. This review discusses the most recent findings of basic and clinical research about the COVID-associated coagulopathy, to foster a more thorough knowledge of the mechanisms underlying this compelling disease.')\n",
            "\t 9 - score: 10.463539123535156 - doc: ('ytpofa7b', 'A machine learning forecasting model for COVID-19 pandemic in India Coronavirus disease (COVID-19) is an inflammation disease from a new virus. The disease causes respiratory ailment (like influenza) with manifestations, for example, cold, cough and fever, and in progressively serious cases, the problem in breathing. COVID-2019 has been perceived as a worldwide pandemic and a few examinations are being led utilizing different numerical models to anticipate the likely advancement of this pestilence. These numerical models dependent on different factors and investigations are dependent upon potential inclination. Here, we presented a model that could be useful to predict the spread of COVID-2019. We have performed linear regression, Multilayer perceptron and Vector autoregression method for desire on the COVID-19 Kaggle data to anticipate the epidemiological example of the ailment and pace of COVID-2019 cases in India. Anticipated the potential patterns of COVID-19 effects in India dependent on data gathered from Kaggle. With the common data about confirmed, death and recovered cases across India for over the time length helps in anticipating and estimating the not so distant future. For extra assessment or future perspective, case definition and data combination must be kept up persistently.')\n",
            "Query 5 - what drugs have been active against SARS-CoV or SARS-CoV-2 in animal studies?\n",
            "\tinput_ids: [101, 2054, 5850, 2031, 2042, 3161, 2114, 18906, 2015, 1011, 2522, 2615, 2030, 18906, 2015, 1011, 2522, 2615, 1011, 1016, 1999, 4111, 2913, 1029, 102]\n",
            "\t 0 - score: 14.63215446472168 - doc: ('hchioraj', 'Computational Models Identify Several FDA Approved or Experimental Drugs as Putative Agents Against SARS-CoV-2. The outbreak of a novel human coronavirus (SARS-CoV-2) has evolved into global health emergency, infecting hundreds of thousands of people worldwide. We have identified experimental data on the inhibitory activity of compounds tested against closely related (96% sequence identity, 100% active site conservation) protease of SARS-CoV and employed this data to build QSAR models for this dataset. We employed these models for virtual screening of all drugs from DrugBank, including compounds in clinical trials. Molecular docking and similarity search approaches were explored in parallel with QSAR modeling, but molecular docking failed to correctly discriminate between experimentally active and inactive compounds. As a result of our studies, we recommended 41 approved, experimental, or investigational drugs as potential agents against SARS-CoV-2 acting as putative inhibitors of Mpro. Ten compounds with feasible prices were purchased and are awaiting the experimental validation..')\n",
            "\t 1 - score: 14.301992416381836 - doc: ('l611eisi', 'Antiviral Efficacies of FDA-Approved Drugs against SARS-CoV-2 Infection in Ferrets Due to the urgent need of a therapeutic treatment for coronavirus (CoV) disease 2019 (COVID-19) patients, a number of FDA-approved/repurposed drugs have been suggested as antiviral candidates at clinics, without sufficient information. Furthermore, there have been extensive debates over antiviral candidates for their effectiveness and safety against severe acute respiratory syndrome CoV 2 (SARS-CoV-2), suggesting that rapid preclinical animal studies are required to identify potential antiviral candidates for human trials. To this end, the antiviral efficacies of lopinavir-ritonavir, hydroxychloroquine sulfate, and emtricitabine-tenofovir for SARS-CoV-2 infection were assessed in the ferret infection model. While the lopinavir-ritonavir-, hydroxychloroquine sulfate-, or emtricitabine-tenofovir-treated group exhibited lower overall clinical scores than the phosphate-buffered saline (PBS)-treated control group, the virus titers in nasal washes, stool specimens, and respiratory tissues were similar between all three antiviral-candidate-treated groups and the PBS-treated control group. Only the emtricitabine-tenofovir-treated group showed lower virus titers in nasal washes at 8 days postinfection (dpi) than the PBS-treated control group. To further explore the effect of immune suppression on viral infection and clinical outcome, ferrets were treated with azathioprine, an immunosuppressive drug. Compared to the PBS-treated control group, azathioprine-immunosuppressed ferrets exhibited a longer period of clinical illness, higher virus titers in nasal turbinate, delayed virus clearance, and significantly lower serum neutralization (SN) antibody titers. Taken together, all antiviral drugs tested marginally reduced the overall clinical scores of infected ferrets but did not significantly affect in vivo virus titers. Despite the potential discrepancy of drug efficacies between animals and humans, these preclinical ferret data should be highly informative to future therapeutic treatment of COVID-19 patients.')\n",
            "\t 2 - score: 14.301992416381836 - doc: ('7h3rrea7', 'Antiviral Efficacies of FDA-Approved Drugs against SARS-CoV-2 Infection in Ferrets Due to the urgent need of a therapeutic treatment for coronavirus (CoV) disease 2019 (COVID-19) patients, a number of FDA-approved/repurposed drugs have been suggested as antiviral candidates at clinics, without sufficient information. Furthermore, there have been extensive debates over antiviral candidates for their effectiveness and safety against severe acute respiratory syndrome CoV 2 (SARS-CoV-2), suggesting that rapid preclinical animal studies are required to identify potential antiviral candidates for human trials. To this end, the antiviral efficacies of lopinavir-ritonavir, hydroxychloroquine sulfate, and emtricitabine-tenofovir for SARS-CoV-2 infection were assessed in the ferret infection model. While the lopinavir-ritonavir-, hydroxychloroquine sulfate-, or emtricitabine-tenofovir-treated group exhibited lower overall clinical scores than the phosphate-buffered saline (PBS)-treated control group, the virus titers in nasal washes, stool specimens, and respiratory tissues were similar between all three antiviral-candidate-treated groups and the PBS-treated control group. Only the emtricitabine-tenofovir-treated group showed lower virus titers in nasal washes at 8 days postinfection (dpi) than the PBS-treated control group. To further explore the effect of immune suppression on viral infection and clinical outcome, ferrets were treated with azathioprine, an immunosuppressive drug. Compared to the PBS-treated control group, azathioprine-immunosuppressed ferrets exhibited a longer period of clinical illness, higher virus titers in nasal turbinate, delayed virus clearance, and significantly lower serum neutralization (SN) antibody titers. Taken together, all antiviral drugs tested marginally reduced the overall clinical scores of infected ferrets but did not significantly affect in vivo virus titers. Despite the potential discrepancy of drug efficacies between animals and humans, these preclinical ferret data should be highly informative to future therapeutic treatment of COVID-19 patients.IMPORTANCE The SARS-CoV-2 pandemic continues to spread worldwide, with rapidly increasing numbers of mortalities, placing increasing strain on health care systems. Despite serious public health concerns, no effective vaccines or therapeutics have been approved by regulatory agencies. In this study, we tested the FDA-approved drugs lopinavir-ritonavir, hydroxychloroquine sulfate, and emtricitabine-tenofovir against SARS-CoV-2 infection in a highly susceptible ferret infection model. While most of the drug treatments marginally reduced clinical symptoms, they did not reduce virus titers, with the exception of emtricitabine-tenofovir treatment, which led to diminished virus titers in nasal washes at 8 dpi. Further, the azathioprine-treated immunosuppressed ferrets showed delayed virus clearance and low SN titers, resulting in a prolonged infection. As several FDA-approved or repurposed drugs are being tested as antiviral candidates at clinics without sufficient information, rapid preclinical animal studies should proceed to identify therapeutic drug candidates with strong antiviral potential and high safety prior to a human efficacy trial.')\n",
            "\t 3 - score: 14.021459579467773 - doc: ('ekkgcy93', 'Screening and druggability analysis of some plant metabolites against SARS-CoV-2: An integrative computational approach The sudden outbreak of novel coronavirus has caused a global concern due to its infection rate and mortality. Despite extensive research, there are still no specific drugs or vaccines to combat SARS-CoV-2 infection. Hence, this study was designed to evaluate some plant-based active compounds for drug candidacy against SARS-CoV-2 by using virtual screening methods and various computational analyses. A total of 27 plant metabolites were screened against SARS-CoV-2 main protease proteins (MPP), Nsp9 RNA binding protein, spike receptor binding domain, spike ecto-domain and HR2 domain using a molecular docking approach. Four metabolites, i.e., asiatic acid, avicularin, guajaverin, and withaferin showed maximum binding affinity with all key proteins in terms of lowest global binding energy. The crucial binding sites and drug surface hotspots were unravelled for each viral protein. The top candidates were further employed for ADME (absorption, distribution, metabolism, and excretion) analysis to investigate their drug profiles. Results suggest that none of the compounds render any undesirable consequences that could reduce their drug likeness properties. The analysis of toxicity pattern revealed no significant tumorigenic, mutagenic, irritating, or reproductive effects by the compounds. However, withaferin was comparatively toxic among the top four candidates with considerable cytotoxicity and immunotoxicity. Most of the target class by top drug candidates belonged to enzyme groups (e.g. oxidoreductases hydrolases, phosphatases). Moreover, results of drug similarity prediction revealed two approved structural analogs of Asiatic acid i.e. Hydrocortisone (DB00741) (previously used for SARS-CoV-1 and MERS) and Dinoprost-tromethamine (DB01160) from DrugBank. In addition, two other biologically active compounds, Mupirocin (DB00410) and Simvastatin (DB00641) could be an option for the treatment of viral infections. The study may pave the way to develop effective medications and preventive measure against SARS-CoV-2. Due to the encouraging results, we highly recommend further in vivo trials for the experimental validation of our findings.')\n",
            "\t 4 - score: 13.99791145324707 - doc: ('1cc9ig04', 'Replication of SARS-CoV-2 in human respiratory epithelium SARS-CoV-2 emerged by the end of 2019 to rapidly spread in 2020. At present, it is of utmost importance to understand the virus biology and to rapidly assess the potential of existing drugs and develop new active compounds. While some animal models for such studies are under development, most of the research is carried out in the Vero E6 cells. Here, we propose fully differentiated human airway epithelium cultures as a model for studies on the SARS-CoV-2. Further, we also provide basic characteristics of the system.')\n",
            "\t 5 - score: 13.905909538269043 - doc: ('3pxc5wot', 'Ribavirin, Remdesivir, Sofosbuvir, Galidesivir, and Tenofovir against SARS-CoV-2 RNA dependent RNA polymerase (RdRp): A molecular docking study Abstract Aims A new human coronavirus (HCoV), which has been designated SARS-CoV-2, began spreading in December 2019 in Wuhan City, China causing pneumonia called COVID-19. The spread of SARS-CoV-2 has been faster than any other coronaviruses that have succeeded in crossing the animal-human barrier. There is concern that this new virus will spread around the world as did the previous two HCoVs—Severe Acute Respiratory Syndrome (SARS) and Middle East Respiratory Syndrome (MERS)—each of which caused approximately 800 deaths in the years 2002 and 2012, respectively. Thus far, 11,268 deaths have been reported from the 258,842 confirmed infections in 168 countries. Main methods In this study, the RNA-dependent RNA polymerase (RdRp) of the newly emerged coronavirus is modeled, validated, and then targeted using different anti-polymerase drugs currently on the market that have been approved for use against various viruses. Key findings The results suggest the effectiveness of Ribavirin, Remdesivir, Sofosbuvir, Galidesivir, and Tenofovir as potent drugs against SARS-CoV-2 since they tightly bind to its RdRp. In addition, the results suggest guanosine derivative (IDX-184), Setrobuvir, and YAK as top seeds for antiviral treatments with high potential to fight the SARS-CoV-2 strain specifically. Significance The availability of FDA-approved anti-RdRp drugs can help treat patients and reduce the danger of the mysterious new viral infection COVID-19. The drugs mentioned above can tightly bind to the RdRp of the SARS-CoV-2 strain and thus may be used to treat the disease. No toxicity measurements are required for these drugs since they were previously tested prior to their approval by the FDA.')\n",
            "\t 6 - score: 13.842710494995117 - doc: ('urpianz6', 'Ribavirin, Remdesivir, Sofosbuvir, Galidesivir, and Tenofovir against SARS-CoV-2 RNA dependent RNA polymerase (RdRp): A molecular docking study AIMS: A new human coronavirus (HCoV), which has been designated SARS-CoV-2, began spreading in December 2019 in Wuhan City, China causing pneumonia called COVID-19. The spread of SARS-CoV-2 has been faster than any other coronaviruses that have succeeded in crossing the animal-human barrier. There is concern that this new virus will spread around the world as did the previous two HCoVs-Severe Acute Respiratory Syndrome (SARS) and Middle East Respiratory Syndrome (MERS)-each of which caused approximately 800 deaths in the years 2002 and 2012, respectively. Thus far, 11,268 deaths have been reported from the 258,842 confirmed infections in 168 countries. MAIN METHODS: In this study, the RNA-dependent RNA polymerase (RdRp) of the newly emerged coronavirus is modeled, validated, and then targeted using different anti-polymerase drugs currently on the market that have been approved for use against various viruses. KEY FINDINGS: The results suggest the effectiveness of Ribavirin, Remdesivir, Sofosbuvir, Galidesivir, and Tenofovir as potent drugs against SARS-CoV-2 since they tightly bind to its RdRp. In addition, the results suggest guanosine derivative (IDX-184), Setrobuvir, and YAK as top seeds for antiviral treatments with high potential to fight the SARS-CoV-2 strain specifically. SIGNIFICANCE: The availability of FDA-approved anti-RdRp drugs can help treat patients and reduce the danger of the mysterious new viral infection COVID-19. The drugs mentioned above can tightly bind to the RdRp of the SARS-CoV-2 strain and thus may be used to treat the disease. No toxicity measurements are required for these drugs since they were previously tested prior to their approval by the FDA.')\n",
            "\t 7 - score: 13.716412544250488 - doc: ('jznszeo7', 'Structural elucidation of SARS-CoV-2 vital proteins: Computational methods reveal potential drug candidates against main protease, Nsp12 polymerase and Nsp13 helicase The recently emerged SARS-CoV-2 caused a major outbreak of coronavirus disease 2019 (COVID-19) and instigated a widespread fear, threatening global health security. To date, no licensed antiviral drugs or vaccines are available against COVID-19 although several clinical trials are underway to test possible therapies. During this urgency situation, computational drug discovery methods provide an alternative to tiresome high-throughput screening, particularly in the hit-to-lead-optimization stage. Identification of small molecules that specifically target viral replication apparatus has indicated highest potential towards antiviral drug discovery. In this work, we present potential compounds that specifically target SARS-CoV-2 vital proteins, including the main protease, Nsp12 RNA polymerase and Nsp13 helicase. An integrative virtual screening and molecular dynamics simulations approach led to the identification of potential binding modes and favourable molecular interaction profile of corresponding compounds. Moreover, the identification of structurally important binding site residues in conserved motifs located inside the active site highlights relative importance of ligand binding based on residual energy decomposition analysis. Although the current study lacks experimental validation, the structural information obtained from this computational study has paved way for the design of targeted inhibitors to combat COVID-19 outbreak.')\n",
            "\t 8 - score: 13.699443817138672 - doc: ('krtcols6', 'In silico Study of Pharmacological Treatments against SARS-CoV2 Main Protease The COVID-19 caused by a new type of coronavirus has emerged from China and led to thousands of death globally Despite the efforts engaged in studying this newly emerged virus and searching for its treatment, the understanding of the COVID-19 drug and target protein interactions still represent a key challenge Several molecules have demonstrated In-Vitro activity against the SARS-CoV-2 virus and/or potential clinical benefit in observational and non-randomized studies Randomized clinical trials of an appropriate size are currently ongoing to establish the efficacy of these therapeutic proposals Herein, concerning these diverse guidelines and therapeutic suggestions of different approaches to the treatment, this research aims to provide a molecular analysis of the interaction between the principal molecules cited in bibliography and the active protease site of the virus')\n",
            "\t 9 - score: 13.691300392150879 - doc: ('5f95gve3', 'Identification of antiviral drug candidates against SARS-CoV-2 from FDA-approved drugs COVID-19 is an emerging infectious disease and was recently declared as a pandemic by WHO. Currently, there is no vaccine or therapeutic available for this disease. Drug repositioning represents the only feasible option to address this global challenge and a panel of 48 FDA-approved drugs that have been pre-selected by an assay of SARS-CoV was screened to identify potential antiviral drug candidates against SARS-CoV-2 infection. We found a total of 24 drugs which exhibited antiviral efficacy (0.1 μM < IC50 < 10 μM) against SARS-CoV-2. In particular, two FDA-approved drugs - niclosamide and ciclesonide – were notable in some respects. These drugs will be tested in an appropriate animal model for their antiviral activities. In near future, these already FDA-approved drugs could be further developed following clinical trials in order to provide additional therapeutic options for patients with COVID-19.')\n"
          ]
        }
      ]
    },
    {
      "cell_type": "markdown",
      "source": [
        "## Geração do resultado"
      ],
      "metadata": {
        "id": "3LlV7X_nfapu"
      }
    },
    {
      "cell_type": "code",
      "source": [
        "%%time\n",
        "with open('run-trec-covid-splade.txt', 'w') as runfile:\n",
        "    for query_id, query in enumerate(queries):\n",
        "        input_ids = tokenizer(query['text'], padding=True, return_special_tokens_mask=True, add_special_tokens=True, truncation=True, max_length=max_length)['input_ids']\n",
        "        q = torch.zeros(tokenizer.vocab_size)\n",
        "        q[input_ids] = 1.\n",
        "        scores = torch.matmul(wj, q.unsqueeze(dim = 1)).squeeze()\n",
        "        sorted_scores, indices_scores = torch.sort(scores, descending=True)\n",
        "        sorted_scores = sorted_scores[:1000]\n",
        "        indices_scores = indices_scores[:1000]\n",
        "        ids_docs = [corpus[i][0] for i in indices_scores]\n",
        "        for i, (id_doc, score) in enumerate(zip(ids_docs, sorted_scores)):\n",
        "            runfile.write(f'{query_id+1} Q0 {id_doc} {i+1} {float(score):.6f} Splade\\n')        "
      ],
      "metadata": {
        "colab": {
          "base_uri": "https://localhost:8080/"
        },
        "id": "-5gvNw2ve8ft",
        "outputId": "ba25f2c5-b03f-47af-e560-062c13432b55"
      },
      "execution_count": 79,
      "outputs": [
        {
          "output_type": "stream",
          "name": "stdout",
          "text": [
            "CPU times: user 1min, sys: 104 ms, total: 1min\n",
            "Wall time: 1min 1s\n"
          ]
        }
      ]
    },
    {
      "cell_type": "code",
      "source": [
        "!head run-trec-covid-splade.txt"
      ],
      "metadata": {
        "colab": {
          "base_uri": "https://localhost:8080/"
        },
        "id": "BqvJKXCmO2Qp",
        "outputId": "810c8992-df3c-44dd-8ca0-25c6c71eb803"
      },
      "execution_count": 80,
      "outputs": [
        {
          "output_type": "stream",
          "name": "stdout",
          "text": [
            "1 Q0 rzpbpxw2 1 11.630708 Splade\n",
            "1 Q0 gdfxiosc 2 10.543112 Splade\n",
            "1 Q0 cgvj10r2 3 10.498983 Splade\n",
            "1 Q0 1mjaycee 4 10.445834 Splade\n",
            "1 Q0 0wm6u10a 5 10.336140 Splade\n",
            "1 Q0 pu9l36j9 6 10.301398 Splade\n",
            "1 Q0 n13hg2yd 7 10.296379 Splade\n",
            "1 Q0 hh7zzzbk 8 10.256858 Splade\n",
            "1 Q0 vx7ebtbp 9 10.116970 Splade\n",
            "1 Q0 sh7lrdou 10 10.111296 Splade\n"
          ]
        }
      ]
    },
    {
      "cell_type": "markdown",
      "source": [
        "# Avaliação"
      ],
      "metadata": {
        "id": "rCSD7zRhtMW5"
      }
    },
    {
      "cell_type": "markdown",
      "source": [
        " ## Cálculo do nDCG@10"
      ],
      "metadata": {
        "id": "QZ756fn1tQ73"
      }
    },
    {
      "cell_type": "code",
      "source": [
        "!python -m pyserini.eval.trec_eval -c -m ndcg_cut.10 test_adjusted.tsv run-trec-covid-splade.txt"
      ],
      "metadata": {
        "id": "cbivPyx802jO",
        "colab": {
          "base_uri": "https://localhost:8080/"
        },
        "outputId": "ee317495-ce07-4e99-aab9-4232b8f85948"
      },
      "execution_count": 81,
      "outputs": [
        {
          "output_type": "stream",
          "name": "stdout",
          "text": [
            "Downloading https://search.maven.org/remotecontent?filepath=uk/ac/gla/dcs/terrierteam/jtreceval/0.0.5/jtreceval-0.0.5-jar-with-dependencies.jar to /root/.cache/pyserini/eval/jtreceval-0.0.5-jar-with-dependencies.jar...\n",
            "/root/.cache/pyserini/eval/jtreceval-0.0.5-jar-with-dependencies.jar already exists!\n",
            "Skipping download.\n",
            "Running command: ['java', '-jar', '/root/.cache/pyserini/eval/jtreceval-0.0.5-jar-with-dependencies.jar', '-c', '-m', 'ndcg_cut.10', 'test_adjusted.tsv', 'run-trec-covid-splade.txt']\n",
            "Results:\n",
            "ndcg_cut_10           \tall\t0.6020\n"
          ]
        }
      ]
    },
    {
      "cell_type": "code",
      "source": [
        "!head test_adjusted.tsv"
      ],
      "metadata": {
        "colab": {
          "base_uri": "https://localhost:8080/"
        },
        "id": "JxXa1krXO80v",
        "outputId": "7ab669af-50eb-446b-d8de-d03c91bf2859"
      },
      "execution_count": 82,
      "outputs": [
        {
          "output_type": "stream",
          "name": "stdout",
          "text": [
            "1\t0\t005b2j4b\t2\n",
            "1\t0\t00fmeepz\t1\n",
            "1\t0\tg7dhmyyo\t2\n",
            "1\t0\t0194oljo\t1\n",
            "1\t0\t021q9884\t1\n",
            "1\t0\t02f0opkr\t1\n",
            "1\t0\t047xpt2c\t0\n",
            "1\t0\t04ftw7k9\t0\n",
            "1\t0\tpl9ht0d0\t0\n",
            "1\t0\t05vx82oo\t0\n"
          ]
        }
      ]
    },
    {
      "cell_type": "code",
      "source": [],
      "metadata": {
        "id": "XXa1tRpiPIWC"
      },
      "execution_count": null,
      "outputs": []
    }
  ]
}